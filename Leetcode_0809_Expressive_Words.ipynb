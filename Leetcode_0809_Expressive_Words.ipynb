{
 "cells": [
  {
   "cell_type": "code",
   "execution_count": 1,
   "metadata": {},
   "outputs": [
    {
     "name": "stdout",
     "output_type": "stream",
     "text": [
      "1\n"
     ]
    }
   ],
   "source": [
    "def expressiveWords(S, words):\n",
    "    \n",
    "    def letterCounts(word):\n",
    "        letters = []\n",
    "        counts = []\n",
    "        for w in word:\n",
    "            if not letters or w != letters[-1]: # equal to if letters == [] or w != letters[-1]:\n",
    "                letters.append(w)\n",
    "                counts.append(1)\n",
    "            else:\n",
    "                counts[-1] += 1\n",
    "        return letters, counts\n",
    "    \n",
    "    def isStrechy(word):\n",
    "        wletters, wcounts = letterCounts(word)\n",
    "\n",
    "        if Sletters != wletters:\n",
    "            return False\n",
    "        \n",
    "        for i in range(len(Scounts)):\n",
    "            if Scounts[i] < 3 and Scounts[i] != wcounts[i]:\n",
    "                return False\n",
    "            if Scounts[i] >= 3 and Scounts[i] < wcounts[i]:\n",
    "                return False\n",
    "        return True\n",
    "\n",
    "\n",
    "    res = 0\n",
    "    Sletters, Scounts = letterCounts(S)\n",
    "    for word in words:\n",
    "        if isStrechy(word):\n",
    "            res = res + 1\n",
    "    return res\n",
    "\n",
    "\n",
    "\n",
    "s = \"heeellooo\"\n",
    "words = [\"hello\", \"hi\", \"helo\"]\n",
    "# s = \"aaa\"\n",
    "# words = [\"aaaa\"]\n",
    "result = expressiveWords(s, words)\n",
    "print(result)"
   ]
  },
  {
   "cell_type": "markdown",
   "metadata": {},
   "source": [
    "Learning url<br>\n",
    "https://www.youtube.com/watch?v=o1yk6YsIu2U"
   ]
  },
  {
   "cell_type": "markdown",
   "metadata": {},
   "source": [
    "## if not recap<br>\n",
    "https://blog.csdn.net/m0_37843198/article/details/78890523"
   ]
  },
  {
   "cell_type": "code",
   "execution_count": 2,
   "metadata": {},
   "outputs": [
    {
     "name": "stdout",
     "output_type": "stream",
     "text": [
      "if not a []\n"
     ]
    }
   ],
   "source": [
    "a = []\n",
    "\n",
    "if not a: # a is False, not a == True\n",
    "    print(\"if not a\",a)\n",
    "else:\n",
    "    print(\"not a\",a)"
   ]
  },
  {
   "cell_type": "code",
   "execution_count": 3,
   "metadata": {},
   "outputs": [
    {
     "name": "stdout",
     "output_type": "stream",
     "text": [
      "not a []\n"
     ]
    }
   ],
   "source": [
    "a = []\n",
    "\n",
    "if a is None: # a is False, not a == True\n",
    "    print(\"if not a\",a)\n",
    "else:\n",
    "    print(\"not a\",a)"
   ]
  }
 ],
 "metadata": {
  "kernelspec": {
   "display_name": "Python 3.8.6 64-bit ('leetcode_env')",
   "language": "python",
   "name": "python3"
  },
  "language_info": {
   "codemirror_mode": {
    "name": "ipython",
    "version": 3
   },
   "file_extension": ".py",
   "mimetype": "text/x-python",
   "name": "python",
   "nbconvert_exporter": "python",
   "pygments_lexer": "ipython3",
   "version": "3.8.6"
  },
  "orig_nbformat": 4,
  "vscode": {
   "interpreter": {
    "hash": "846fd2d9bb562a436898b7cc368204fc2f9d44e5e9b051b4f6e855e721078f23"
   }
  }
 },
 "nbformat": 4,
 "nbformat_minor": 2
}
