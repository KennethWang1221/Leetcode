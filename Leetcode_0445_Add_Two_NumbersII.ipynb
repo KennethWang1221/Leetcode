{
 "cells": [
  {
   "cell_type": "code",
   "execution_count": 14,
   "metadata": {},
   "outputs": [
    {
     "name": "stdout",
     "output_type": "stream",
     "text": [
      "7,2,4,3,5,6,4,\n",
      "7,8,0,7,"
     ]
    }
   ],
   "source": [
    "class ListNode:\n",
    "    def __init__(self, x):\n",
    "        self.val = x\n",
    "        self.next = None\n",
    "\n",
    "\n",
    "def make_list(arr):\n",
    "    head_node = None\n",
    "    p_node = None\n",
    "    for a in arr:\n",
    "        new_node = ListNode(a)\n",
    "        if head_node is None:\n",
    "            head_node = new_node\n",
    "            p_node = new_node\n",
    "        else:\n",
    "            p_node.next = new_node\n",
    "            p_node = new_node\n",
    "    return head_node\n",
    "\n",
    "\n",
    "def print_list(head):\n",
    "    while head is not None:\n",
    "        print(head.val, end=',')\n",
    "        head = head.next\n",
    "\n",
    "class Solution:\n",
    "\n",
    "    def add_two_numbers(self, l1,l2):\n",
    "        if l1 == None or l2 == None:\n",
    "            return l1\n",
    "        \n",
    "        dummy = ListNode(0)\n",
    "        pre = dummy\n",
    "        \n",
    "        v1, v2 = [], []\n",
    "        while l1 !=None:\n",
    "            v1.append(l1.val)\n",
    "            l1 = l1.next\n",
    "            \n",
    "        while l2 !=None:\n",
    "            v2.append(l2.val)\n",
    "            l2 = l2.next\n",
    "            \n",
    "        v1 = \"\".join(str(e) for e in v1)\n",
    "        v2 = \"\".join(str(e) for e in v2)\n",
    "        value = int(v1) + int(v2)\n",
    "        \n",
    "        value = list(str(value))\n",
    "        \n",
    "        for i in value:\n",
    "            pre.next = ListNode(i)\n",
    "            pre = pre.next\n",
    "        \n",
    "        return dummy.next\n",
    "        \n",
    "\n",
    "s = Solution()\n",
    "\n",
    "l1 = [7,2,4,3] \n",
    "l2 = [5,6,4]\n",
    "l1 = make_list(l1)\n",
    "l2 = make_list(l2)\n",
    "print_list(l1)\n",
    "print_list(l2)\n",
    "head = s.add_two_numbers(l1,l2)\n",
    "print()\n",
    "print_list(head)"
   ]
  },
  {
   "cell_type": "markdown",
   "metadata": {},
   "source": [
    "## Method2"
   ]
  },
  {
   "cell_type": "code",
   "execution_count": 15,
   "metadata": {},
   "outputs": [
    {
     "name": "stdout",
     "output_type": "stream",
     "text": [
      "7,2,4,3,5,6,4,\n",
      "7,8,0,7,"
     ]
    }
   ],
   "source": [
    "class ListNode:\n",
    "    def __init__(self, x):\n",
    "        self.val = x\n",
    "        self.next = None\n",
    "\n",
    "\n",
    "def make_list(arr):\n",
    "    head_node = None\n",
    "    p_node = None\n",
    "    for a in arr:\n",
    "        new_node = ListNode(a)\n",
    "        if head_node is None:\n",
    "            head_node = new_node\n",
    "            p_node = new_node\n",
    "        else:\n",
    "            p_node.next = new_node\n",
    "            p_node = new_node\n",
    "    return head_node\n",
    "\n",
    "\n",
    "def print_list(head):\n",
    "    while head is not None:\n",
    "        print(head.val, end=',')\n",
    "        head = head.next\n",
    "\n",
    "class Solution:\n",
    "    \n",
    "    def add_two_numbers(self, l1,l2):\n",
    "        if l1 == None or l2 == None:\n",
    "            return l1\n",
    "        \n",
    "        dummy = ListNode(0)\n",
    "        pre = dummy\n",
    "        \n",
    "        v1, v2 = '', ''\n",
    "        while l1 !=None:\n",
    "            v1+=str(l1.val)\n",
    "            l1 = l1.next\n",
    "            \n",
    "        while l2 !=None:\n",
    "            v2+=str(l2.val)\n",
    "            l2 = l2.next\n",
    "            \n",
    "        value = int(v1) + int(v2)\n",
    "        \n",
    "        value = list(str(value))\n",
    "        \n",
    "        for i in value:\n",
    "            pre.next = ListNode(i)\n",
    "            pre = pre.next\n",
    "        \n",
    "        return dummy.next\n",
    "        \n",
    "\n",
    "s = Solution()\n",
    "\n",
    "l1 = [7,2,4,3] \n",
    "l2 = [5,6,4]\n",
    "l1 = make_list(l1)\n",
    "l2 = make_list(l2)\n",
    "print_list(l1)\n",
    "print_list(l2)\n",
    "head = s.add_two_numbers(l1,l2)\n",
    "print()\n",
    "print_list(head)"
   ]
  },
  {
   "cell_type": "markdown",
   "metadata": {},
   "source": [
    "## Recap str2list"
   ]
  },
  {
   "cell_type": "code",
   "execution_count": 21,
   "metadata": {},
   "outputs": [
    {
     "name": "stdout",
     "output_type": "stream",
     "text": [
      "7243 564\n",
      "<class 'str'> <class 'str'>\n",
      "========\n",
      "7807\n",
      "<class 'int'>\n",
      "========\n",
      "7807\n",
      "<class 'str'>\n",
      "========\n",
      "['7', '8', '0', '7']\n",
      "<class 'list'>\n",
      "========\n"
     ]
    }
   ],
   "source": [
    "l1_str = '7243'\n",
    "l2_str = '564'\n",
    "print(l1_str,l2_str)\n",
    "print(type(l1_str),type(l2_str))\n",
    "print(\"========\")\n",
    "final = int(l1_str)+int(l2_str)\n",
    "print(final)\n",
    "print(type(final))\n",
    "print(\"========\")\n",
    "final = str(final)\n",
    "print(final)\n",
    "print(type(final))\n",
    "print(\"========\")\n",
    "final = list(final)\n",
    "print(final)\n",
    "print(type(final))\n",
    "print(\"========\")"
   ]
  },
  {
   "cell_type": "code",
   "execution_count": 26,
   "metadata": {},
   "outputs": [
    {
     "name": "stdout",
     "output_type": "stream",
     "text": [
      "[7, 8, 0, 7]\n"
     ]
    }
   ],
   "source": [
    "final = '7807'\n",
    "a = []\n",
    "for i in final:\n",
    "    a.append(int(i))\n",
    "print(a)"
   ]
  },
  {
   "cell_type": "code",
   "execution_count": 27,
   "metadata": {},
   "outputs": [
    {
     "name": "stdout",
     "output_type": "stream",
     "text": [
      "['7', '8', '0', '7']\n"
     ]
    }
   ],
   "source": [
    "final = '7807'\n",
    "a = list(final)\n",
    "print(a)"
   ]
  }
 ],
 "metadata": {
  "kernelspec": {
   "display_name": "Python 3.8.6 64-bit ('leetcode_env')",
   "language": "python",
   "name": "python3"
  },
  "language_info": {
   "codemirror_mode": {
    "name": "ipython",
    "version": 3
   },
   "file_extension": ".py",
   "mimetype": "text/x-python",
   "name": "python",
   "nbconvert_exporter": "python",
   "pygments_lexer": "ipython3",
   "version": "3.8.6"
  },
  "orig_nbformat": 4,
  "vscode": {
   "interpreter": {
    "hash": "846fd2d9bb562a436898b7cc368204fc2f9d44e5e9b051b4f6e855e721078f23"
   }
  }
 },
 "nbformat": 4,
 "nbformat_minor": 2
}
