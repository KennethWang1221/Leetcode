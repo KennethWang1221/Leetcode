{
 "cells": [
  {
   "cell_type": "code",
   "execution_count": 18,
   "metadata": {},
   "outputs": [
    {
     "name": "stdout",
     "output_type": "stream",
     "text": [
      "[2, 3]\n"
     ]
    }
   ],
   "source": [
    "def findDuplicates(nums):\n",
    "    visited = set()              ### set will keep track of unique number \n",
    "    result = []\n",
    "    for num in nums:\n",
    "        if num in visited:     #### if number is already present in set then add to result\n",
    "            result.append(num)\n",
    "        else:\n",
    "            visited.add(num)  ## if number is not seen before then add it to the set\n",
    "            \n",
    "    return result\n",
    "\n",
    "nums = [4,3,2,7,8,2,3,1]\n",
    "#nums = [1,1,2]\n",
    "#nums = [1]\n",
    "result = findDuplicates(nums)\n",
    "print(result)"
   ]
  },
  {
   "cell_type": "code",
   "execution_count": 5,
   "metadata": {},
   "outputs": [
    {
     "name": "stdout",
     "output_type": "stream",
     "text": [
      "[2, 3]\n"
     ]
    }
   ],
   "source": [
    "# version2\n",
    "\n",
    "def findDuplicates(nums):\n",
    "    n = len(nums)\n",
    "    result = []\n",
    "    for i in range(n):\n",
    "        index = abs(nums[i]) - 1\n",
    "        if nums[index] < 0:\n",
    "            final = index+1\n",
    "            result.append(final)\n",
    "        else:\n",
    "            nums[index] *=-1\n",
    "\n",
    "    return result\n",
    "\n",
    "\n",
    "nums = [4,3,2,7,8,2,3,1]\n",
    "#nums = [1,1,2]\n",
    "#nums = [1]\n",
    "result = findDuplicates(nums)\n",
    "print(result)"
   ]
  },
  {
   "cell_type": "code",
   "execution_count": null,
   "metadata": {},
   "outputs": [],
   "source": []
  },
  {
   "cell_type": "markdown",
   "metadata": {},
   "source": [
    "wrong version"
   ]
  },
  {
   "cell_type": "code",
   "execution_count": 19,
   "metadata": {},
   "outputs": [
    {
     "name": "stdout",
     "output_type": "stream",
     "text": [
      "[]\n"
     ]
    }
   ],
   "source": [
    "# since the requirement is 'You must write an algorithm that runs in O(n) time and uses only constant extra space.'\n",
    "# this solution is time-out O(n^2)\n",
    "def findDuplicates(nums):\n",
    "    n = len(nums)\n",
    "    result = []\n",
    "    for i in range(n):\n",
    "        for j in range(i+1,n):\n",
    "            if nums[i] == nums[j]:\n",
    "                result.append(nums[i])\n",
    "\n",
    "     \n",
    "\n",
    "    result.sort()   \n",
    "    return result\n",
    "\n",
    "\n",
    "nums = [4,3,2,7,8,2,3,1]\n",
    "#nums = [1,1,2]\n",
    "nums = [1]\n",
    "result = findDuplicates(nums)\n",
    "print(result)"
   ]
  }
 ],
 "metadata": {
  "kernelspec": {
   "display_name": "Python 3.8.6 64-bit ('leetcode_env')",
   "language": "python",
   "name": "python3"
  },
  "language_info": {
   "codemirror_mode": {
    "name": "ipython",
    "version": 3
   },
   "file_extension": ".py",
   "mimetype": "text/x-python",
   "name": "python",
   "nbconvert_exporter": "python",
   "pygments_lexer": "ipython3",
   "version": "3.8.6"
  },
  "orig_nbformat": 4,
  "vscode": {
   "interpreter": {
    "hash": "846fd2d9bb562a436898b7cc368204fc2f9d44e5e9b051b4f6e855e721078f23"
   }
  }
 },
 "nbformat": 4,
 "nbformat_minor": 2
}
