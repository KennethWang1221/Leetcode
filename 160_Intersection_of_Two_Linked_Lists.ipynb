{
 "cells": [
  {
   "cell_type": "code",
   "execution_count": null,
   "metadata": {},
   "outputs": [],
   "source": [
    "# Definition for singly-linked list.\n",
    "# class ListNode:\n",
    "#     def __init__(self, x):\n",
    "#         self.val = x\n",
    "#         self.next = None\n",
    "\n",
    "class Solution:\n",
    "    def getIntersectionNode(self, headA: ListNode, headB: ListNode) -> Optional[ListNode]:\n",
    "        if headA == None or headB == None:\n",
    "            return None\n",
    "        \n",
    "        left_cur = headA\n",
    "        right_cur = headB\n",
    "        \n",
    "        while left_cur != right_cur:\n",
    "            if left_cur !=None:\n",
    "                left_cur = left_cur.next\n",
    "            else:\n",
    "                left_cur = headB\n",
    "                \n",
    "            if right_cur != None:\n",
    "                right_cur = right_cur.next\n",
    "            else:\n",
    "                right_cur = headA\n",
    "        else:\n",
    "            return left_cur"
   ]
  }
 ],
 "metadata": {
  "interpreter": {
   "hash": "846fd2d9bb562a436898b7cc368204fc2f9d44e5e9b051b4f6e855e721078f23"
  },
  "kernelspec": {
   "display_name": "Python 3.8.6 ('leetcode_env': conda)",
   "language": "python",
   "name": "python3"
  },
  "language_info": {
   "codemirror_mode": {
    "name": "ipython",
    "version": 3
   },
   "file_extension": ".py",
   "mimetype": "text/x-python",
   "name": "python",
   "nbconvert_exporter": "python",
   "pygments_lexer": "ipython3",
   "version": "3.8.6"
  },
  "orig_nbformat": 4
 },
 "nbformat": 4,
 "nbformat_minor": 2
}
