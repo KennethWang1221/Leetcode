{
 "cells": [
  {
   "cell_type": "markdown",
   "metadata": {},
   "source": [
    "## Method1\n",
    "https://www.youtube.com/watch?v=QHH6rIK3dDQ"
   ]
  },
  {
   "cell_type": "code",
   "execution_count": 3,
   "metadata": {},
   "outputs": [
    {
     "name": "stdout",
     "output_type": "stream",
     "text": [
      "<__main__.TreeNode object at 0x10f93bbe0>\n"
     ]
    }
   ],
   "source": [
    "class TreeNode(object):\n",
    "    def __init__(self, x):\n",
    "        if x == None:\n",
    "            self.val = None\n",
    "        else:\n",
    "            self.val = x\n",
    "        self.left = None\n",
    "        self.right = None \n",
    "\n",
    "\n",
    "def mergeTrees(root1, root2):\n",
    "    \"\"\"\n",
    "    1. 确定递归输入参数以及返回值\n",
    "    2. 确定递归结束条件\n",
    "    3. 确定递归单层逻辑\n",
    "    \"\"\"\n",
    "    if root1 == None and root2 == None: return None\n",
    "\n",
    "    v1, v2 = root1.val if root1 else 0, root2.val if root2 else 0\n",
    "    root = TreeNode(v1 + v2)\n",
    "\n",
    "    root.left = mergeTrees(root1.left if root1 else None, root2.left if root2 else None)\n",
    "    root.right = mergeTrees(root1.right if root1 else None, root2.right if root2 else None)\n",
    "\n",
    "    return root\n",
    "\n",
    "\n",
    "n1 = TreeNode(1)\n",
    "n2 = TreeNode(3)\n",
    "n3 = TreeNode(2)\n",
    "n4 = TreeNode(5)\n",
    "\n",
    "n1.left = n2\n",
    "n1.right = n3\n",
    "n2.left = n4\n",
    "\n",
    "s1 = TreeNode(2)\n",
    "s2 = TreeNode(1)\n",
    "s3 = TreeNode(3)\n",
    "s4 = TreeNode(4)\n",
    "s5 = TreeNode(7)\n",
    "\n",
    "s1.left = s2\n",
    "s1.right = s3\n",
    "s2.right = s4\n",
    "s3.right = s5\n",
    "\n",
    "\n",
    "res = mergeTrees(n1, s1)\n",
    "print(res)"
   ]
  }
 ],
 "metadata": {
  "kernelspec": {
   "display_name": "Python 3.8.6 64-bit ('leetcode_env')",
   "language": "python",
   "name": "python3"
  },
  "language_info": {
   "codemirror_mode": {
    "name": "ipython",
    "version": 3
   },
   "file_extension": ".py",
   "mimetype": "text/x-python",
   "name": "python",
   "nbconvert_exporter": "python",
   "pygments_lexer": "ipython3",
   "version": "3.8.6"
  },
  "orig_nbformat": 4,
  "vscode": {
   "interpreter": {
    "hash": "846fd2d9bb562a436898b7cc368204fc2f9d44e5e9b051b4f6e855e721078f23"
   }
  }
 },
 "nbformat": 4,
 "nbformat_minor": 2
}
