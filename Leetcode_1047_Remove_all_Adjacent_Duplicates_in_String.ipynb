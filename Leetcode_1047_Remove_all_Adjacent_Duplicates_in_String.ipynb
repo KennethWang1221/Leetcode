{
 "cells": [
  {
   "cell_type": "code",
   "execution_count": 3,
   "metadata": {},
   "outputs": [
    {
     "data": {
      "text/plain": [
       "'ababa'"
      ]
     },
     "execution_count": 3,
     "metadata": {},
     "output_type": "execute_result"
    }
   ],
   "source": [
    "def removeDuplicates(s):\n",
    "        stack = []\n",
    "        \n",
    "        for i in s:\n",
    "            if len(stack) == 0:\n",
    "                stack.append(i)\n",
    "            else:\n",
    "                #if i in stack: # 多此一举 need delete\n",
    "                if i == stack[-1]:\n",
    "                    stack.pop(-1)\n",
    "                else:\n",
    "                    stack.append(i)\n",
    "                    \n",
    "        return \"\".join(stack)\n",
    "\n",
    "s = \"abbaca\"\n",
    "s = \"abbbabaaa\"\n",
    "removeDuplicates(s)"
   ]
  }
 ],
 "metadata": {
  "kernelspec": {
   "display_name": "Python 3.8.6 64-bit ('leetcode_env')",
   "language": "python",
   "name": "python3"
  },
  "language_info": {
   "codemirror_mode": {
    "name": "ipython",
    "version": 3
   },
   "file_extension": ".py",
   "mimetype": "text/x-python",
   "name": "python",
   "nbconvert_exporter": "python",
   "pygments_lexer": "ipython3",
   "version": "3.8.6"
  },
  "orig_nbformat": 4,
  "vscode": {
   "interpreter": {
    "hash": "846fd2d9bb562a436898b7cc368204fc2f9d44e5e9b051b4f6e855e721078f23"
   }
  }
 },
 "nbformat": 4,
 "nbformat_minor": 2
}
