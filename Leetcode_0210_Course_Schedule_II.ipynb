{
 "cells": [
  {
   "attachments": {},
   "cell_type": "markdown",
   "metadata": {},
   "source": [
    "## Method1\n",
    "\n",
    "https://www.youtube.com/watch?v=Akt3glAwyfY&list=PLot-Xpze53ldBT_7QA8NVot219jFNr_GI&index=4"
   ]
  },
  {
   "cell_type": "code",
   "execution_count": 22,
   "metadata": {},
   "outputs": [
    {
     "name": "stdout",
     "output_type": "stream",
     "text": [
      "[2, 3, 1, 0, 4, 5]\n"
     ]
    }
   ],
   "source": [
    "def canFinish(numCourses: int, prerequisites):\n",
    "    preMap = {c: [] for c in range(numCourses)}\n",
    "    for crs, pre in prerequisites:\n",
    "        preMap[crs].append(pre)\n",
    "\n",
    "    output = []\n",
    "    visit, cycle = set(), set()\n",
    "\n",
    "    def dfs(crs):\n",
    "        if crs in cycle: return False\n",
    "        if crs in visit: return True\n",
    "\n",
    "        cycle.add(crs)\n",
    "        for pre in preMap[crs]:\n",
    "            if dfs(pre) == False: return False\n",
    "        cycle.remove(crs)\n",
    "        visit.add(crs)\n",
    "        output.append(crs)\n",
    "        return True\n",
    "\n",
    "    for c in range(numCourses):\n",
    "        if dfs(c) == False: return []\n",
    "    return output\n",
    "\n",
    "numCourses = 5\n",
    "prerequisites = [[0,1], [0,2], [1,3], [1,4], [3,4]]\n",
    "# numCourses = 4\n",
    "# prerequisites = [[0,1], [2,3]]\n",
    "\n",
    "# numCourses = 3\n",
    "# prerequisites = [[0,1], [1,2], [2,0]]\n",
    "numCourses = 5\n",
    "#prerequisites = [[1,4],[1,3], [2,4], [3,1], [3,2]]\n",
    "prerequisites = [[1,4], [2,4],[3,1],[3,2]]\n",
    "\n",
    "numCourses = 6\n",
    "#prerequisites = [[1,4],[1,3], [2,4], [3,1], [3,2]]\n",
    "prerequisites = [[0,1], [0,2], [1,3], [3,2], [4,0], [5,0]]\n",
    "\n",
    "res = canFinish(numCourses, prerequisites)\n",
    "print(res)"
   ]
  },
  {
   "attachments": {},
   "cell_type": "markdown",
   "metadata": {},
   "source": [
    "## Leetcode_0207_Course_Schedule.ipynb\n",
    "https://www.youtube.com/watch?v=Akt3glAwyfY&list=PLot-Xpze53ldBT_7QA8NVot219jFNr_GI&index=3"
   ]
  },
  {
   "cell_type": "code",
   "execution_count": 18,
   "metadata": {},
   "outputs": [
    {
     "name": "stdout",
     "output_type": "stream",
     "text": [
      "True\n"
     ]
    }
   ],
   "source": [
    "def canFinish(numCourses: int, prerequisites):\n",
    "    # dfs\n",
    "    preMap = {i: [] for i in range(numCourses)}\n",
    "\n",
    "    # map each course to : prereq list\n",
    "    for crs, pre in prerequisites:\n",
    "        preMap[crs].append(pre)\n",
    "\n",
    "    visiting = set()\n",
    "\n",
    "    def dfs(crs):\n",
    "        if crs in visiting: return False # means we are visiting this course twice, and there is a loop\n",
    "        if preMap[crs] == []: return True # means this course has no prerequisites\n",
    "\n",
    "        # if neither of these conditions that is satisfied then we can take this course and add it to our visit set\n",
    "        # because that means we are currently visiting this and we are going to recursively run DFS on its prerequisites\n",
    "        visiting.add(crs)\n",
    "        for pre in preMap[crs]:\n",
    "            if dfs(pre) == False: return False\n",
    "        \n",
    "        visiting.remove(crs)\n",
    "        preMap[crs] = []\n",
    "        return True\n",
    "\n",
    "    for c in range(numCourses):\n",
    "        if dfs(c) == False: return False # if not dfs(c): return False\n",
    "    return True\n",
    "\n",
    "numCourses = 5\n",
    "prerequisites = [[0,1], [0,2], [1,3], [1,4], [3,4]]\n",
    "# numCourses = 4\n",
    "# prerequisites = [[0,1], [2,3]]\n",
    "\n",
    "# numCourses = 3\n",
    "# prerequisites = [[0,1], [1,2], [2,0]]\n",
    "numCourses = 5\n",
    "#prerequisites = [[1,4],[1,3], [2,4], [3,1], [3,2]]\n",
    "prerequisites = [[1,4], [2,4],[3,1],[3,2]]\n",
    "\n",
    "res = canFinish(numCourses, prerequisites)\n",
    "print(res)"
   ]
  },
  {
   "cell_type": "code",
   "execution_count": 33,
   "metadata": {},
   "outputs": [
    {
     "name": "stdout",
     "output_type": "stream",
     "text": [
      "{0: [], 1: [], 2: [], 3: [], 4: []}\n",
      "{0: [], 1: [], 2: [], 3: [], 4: []}\n",
      "{0: [1, 2], 1: [3, 4], 2: [], 3: [4], 4: []}\n",
      "[1, 2] 1\n",
      "[1, 2] 2\n"
     ]
    }
   ],
   "source": [
    "numCourses = 5\n",
    "preMap = {i: [] for i in range(numCourses)}\n",
    "print(preMap)\n",
    "\n",
    "preMap = {}\n",
    "for i in range(numCourses):\n",
    "    preMap[i] = preMap.get(i, [])\n",
    "print(preMap)\n",
    "\n",
    "prerequisites = [[0,1], [0,2], [1,3], [1,4], [3,4]]\n",
    "for crs, pre in prerequisites:\n",
    "    preMap[crs].append(pre)\n",
    "print(preMap)\n",
    "\n",
    "for pre in preMap[0]:\n",
    "    print(preMap[0], pre)\n"
   ]
  },
  {
   "cell_type": "code",
   "execution_count": 34,
   "metadata": {},
   "outputs": [
    {
     "name": "stdout",
     "output_type": "stream",
     "text": [
      "{0: 1, 1: 1, 2: 1, 3: 1, 4: 1}\n"
     ]
    }
   ],
   "source": [
    "preMap = {}\n",
    "for i in range(numCourses):\n",
    "    preMap[i] = preMap.get(i, 0) + 1\n",
    "print(preMap)"
   ]
  },
  {
   "cell_type": "markdown",
   "metadata": {},
   "source": [
    "## 387. First Unique Character in a String\n",
    "Just for recap hashmap"
   ]
  },
  {
   "cell_type": "code",
   "execution_count": 35,
   "metadata": {},
   "outputs": [
    {
     "name": "stdout",
     "output_type": "stream",
     "text": [
      "2\n"
     ]
    }
   ],
   "source": [
    "def firstUniqChar(s):\n",
    "    hashmap = {}\n",
    "        \n",
    "    for i in range(len(s)):\n",
    "        hashmap[s[i]] = hashmap.get(s[i], 0) + 1\n",
    "        \n",
    "            \n",
    "    for k, v in hashmap.items():\n",
    "        if v == 1:\n",
    "            #res = s.index(k)\n",
    "            return s.index(k)\n",
    "    \n",
    "    return -1\n",
    "\n",
    "s = 'leetcode'\n",
    "s = \"loveleetcode\"\n",
    "res = firstUniqChar(s)\n",
    "print(res)"
   ]
  }
 ],
 "metadata": {
  "kernelspec": {
   "display_name": "Python 3.8.6 64-bit ('leetcode_env')",
   "language": "python",
   "name": "python3"
  },
  "language_info": {
   "codemirror_mode": {
    "name": "ipython",
    "version": 3
   },
   "file_extension": ".py",
   "mimetype": "text/x-python",
   "name": "python",
   "nbconvert_exporter": "python",
   "pygments_lexer": "ipython3",
   "version": "3.8.6"
  },
  "orig_nbformat": 4,
  "vscode": {
   "interpreter": {
    "hash": "846fd2d9bb562a436898b7cc368204fc2f9d44e5e9b051b4f6e855e721078f23"
   }
  }
 },
 "nbformat": 4,
 "nbformat_minor": 2
}
