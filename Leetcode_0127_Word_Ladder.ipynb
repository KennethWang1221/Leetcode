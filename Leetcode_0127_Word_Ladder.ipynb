{
 "cells": [
  {
   "attachments": {},
   "cell_type": "markdown",
   "metadata": {},
   "source": [
    "## Method1\n",
    "https://www.youtube.com/watch?v=h9iTnkgv05E&list=PLot-Xpze53ldBT_7QA8NVot219jFNr_GI&index=6"
   ]
  },
  {
   "cell_type": "code",
   "execution_count": 8,
   "metadata": {},
   "outputs": [
    {
     "name": "stdout",
     "output_type": "stream",
     "text": [
      "5\n"
     ]
    }
   ],
   "source": [
    "import collections\n",
    "\n",
    "def ladderLength(beginWord: str, endWord: str, wordList: list) -> int:\n",
    "    if endWord not in wordList: return 0\n",
    "\n",
    "    nei = collections.defaultdict(list)\n",
    "    wordList.append(beginWord)\n",
    "    for word in wordList:\n",
    "        for j in range(len(word)):\n",
    "            pattern = word[:j] + \"*\" + word[j + 1 :]\n",
    "            nei[pattern].append(word)\n",
    "            #nei[pattern] = nei.get(word, word)\n",
    "\n",
    "    visit = set([beginWord])\n",
    "    q = [beginWord] # q = deque([beginWord])\n",
    "    res = 1\n",
    "    while q:\n",
    "        for i in range(len(q)):\n",
    "            word = q.pop(0) # word = q.popleft()\n",
    "            if word == endWord:\n",
    "                return res\n",
    "            for j in range(len(word)):\n",
    "                pattern = word[:j] + \"*\" + word[j + 1 :]\n",
    "                for neiWord in nei[pattern]:\n",
    "                    if neiWord not in visit:\n",
    "                        visit.add(neiWord)\n",
    "                        q.append(neiWord)\n",
    "        res += 1\n",
    "    return 0\n",
    "    \n",
    "beginWord = \"hit\"\n",
    "endWord = \"cog\"\n",
    "wordList = [\"hot\",\"dot\",\"dog\",\"lot\",\"log\",\"cog\"]\n",
    "res = ladderLength(beginWord, endWord, wordList)\n",
    "print(res)"
   ]
  },
  {
   "cell_type": "code",
   "execution_count": 7,
   "metadata": {},
   "outputs": [
    {
     "name": "stdout",
     "output_type": "stream",
     "text": [
      "defaultdict(<class 'list'>, {})\n",
      "==========\n",
      "==========\n",
      "{'*ot': 'lot', 'h*t': 'hit', 'ho*': 'hot', 'd*t': 'dot', 'do*': 'dog', '*og': 'cog', 'd*g': 'dog', 'l*t': 'lot', 'lo*': 'log', 'l*g': 'log', 'c*g': 'cog', 'co*': 'cog', '*it': 'hit', 'hi*': 'hit'}\n",
      "====\n",
      "{'*ot': 'lot', 'h*t': 'hot', 'ho*': 'hot', 'd*t': 'dot', 'do*': 'dog', '*og': 'cog', 'd*g': 'dog', 'l*t': 'lot', 'lo*': 'log', 'l*g': 'log', 'c*g': 'cog', 'co*': 'cog'}\n"
     ]
    }
   ],
   "source": [
    "wordList = [\"hot\",\"dot\",\"dog\",\"lot\",\"log\",\"cog\"]\n",
    "nei = collections.defaultdict(list)\n",
    "nei_test = {}\n",
    "print(nei)\n",
    "for word in wordList:\n",
    "    for j in range(len(word)):\n",
    "        pattern = word[:j] + \"*\" + word[j + 1 :]\n",
    "        nei[pattern].append(word)\n",
    "        nei_test[pattern] = nei_test.get(word, word)\n",
    "\n",
    "print(\"=\"*10)\n",
    "nei = {}\n",
    "wordList.append(beginWord)\n",
    "for word in wordList:\n",
    "    for j in range(len(word)):\n",
    "        pattern = word[:j] + \"*\" + word[j + 1 :]\n",
    "        #nei[pattern].append(word)\n",
    "        nei[pattern] = nei.get(word, word)\n",
    "print(\"=\"*10)\n",
    "print(nei)\n",
    "print(\"====\")\n",
    "print(nei_test)"
   ]
  },
  {
   "cell_type": "code",
   "execution_count": 28,
   "metadata": {},
   "outputs": [
    {
     "name": "stdout",
     "output_type": "stream",
     "text": [
      "{0: 1, 1: 2, 2: 1, 3: 1, 4: 2, 5: 1, 6: 1}\n"
     ]
    }
   ],
   "source": [
    "a = [0,1,1,2,3,4,4,5,6]\n",
    "b = {}\n",
    "\n",
    "for i in a:\n",
    "    b[i] = b.get(i, 0) + 1\n",
    "print(b)"
   ]
  },
  {
   "cell_type": "code",
   "execution_count": 56,
   "metadata": {},
   "outputs": [
    {
     "name": "stdout",
     "output_type": "stream",
     "text": [
      "[1, 0]\n"
     ]
    }
   ],
   "source": [
    "def findOrder(numCourses, prerequisites):\n",
    "    # preMaps = {1:[0], 2:[0], 3:[1,2]}\n",
    "    outputs = []\n",
    "    visited, cycle = set(), set()\n",
    "    preMaps = {i:[] for i in range(numCourses)}\n",
    "\n",
    "    for pre, crs in prerequisites:\n",
    "        preMaps[pre].append(crs)\n",
    "    \n",
    "\n",
    "    def dfs(crs):\n",
    "        if crs in cycle: return False\n",
    "        if crs in visited: return True\n",
    "\n",
    "        cycle.add(crs)\n",
    "        for pre in preMaps[crs]:\n",
    "            if dfs(pre) == False: return []\n",
    "        cycle.remove(crs)\n",
    "        visited.add(crs)\n",
    "        outputs.append(crs)\n",
    "\n",
    "\n",
    "    for crs in range(numCourses):\n",
    "        if dfs(crs) == False: []\n",
    "    return outputs\n",
    "\n",
    "numCourses = 2\n",
    "prerequisites  = [[0,1]]\n",
    "res = findOrder(numCourses, prerequisites)\n",
    "print(res)"
   ]
  }
 ],
 "metadata": {
  "kernelspec": {
   "display_name": "Python 3.8.6 ('leetcode_env': conda)",
   "language": "python",
   "name": "python3"
  },
  "language_info": {
   "codemirror_mode": {
    "name": "ipython",
    "version": 3
   },
   "file_extension": ".py",
   "mimetype": "text/x-python",
   "name": "python",
   "nbconvert_exporter": "python",
   "pygments_lexer": "ipython3",
   "version": "3.8.6"
  },
  "orig_nbformat": 4,
  "vscode": {
   "interpreter": {
    "hash": "846fd2d9bb562a436898b7cc368204fc2f9d44e5e9b051b4f6e855e721078f23"
   }
  }
 },
 "nbformat": 4,
 "nbformat_minor": 2
}
