{
 "cells": [
  {
   "cell_type": "code",
   "execution_count": 5,
   "metadata": {},
   "outputs": [
    {
     "name": "stdout",
     "output_type": "stream",
     "text": [
      "['a', '3', 'b', '2', 'a', '2', 'a']\n",
      "6\n"
     ]
    }
   ],
   "source": [
    "def compress(chars):\n",
    "    n = len(chars)\n",
    "    i, count = 0, 1\n",
    "\n",
    "    for j in range(1,n+1):\n",
    "        #count = 1\n",
    "        if j<n and chars[j] == chars[j-1]:\n",
    "            count+=1\n",
    "        else:\n",
    "            chars[i] = chars[j-1]\n",
    "            i+=1\n",
    "            if count>1:\n",
    "                for m in (str(count)):\n",
    "                    chars[i] = m\n",
    "                    i+=1\n",
    "            else:\n",
    "                pass\n",
    "            \n",
    "            count = 1\n",
    "    print(chars)\n",
    "    return i\n",
    "\n",
    "#chars = [\"a\",\"a\",\"b\",\"b\",\"c\",\"c\",\"c\"]\n",
    "#chars = [\"a\",\"b\",\"b\",\"b\",\"b\",\"b\",\"b\",\"b\",\"b\",\"b\",\"b\",\"b\",\"b\"]\n",
    "#chars = [\"a\"]\n",
    "chars = [\"a\",\"a\",\"a\",\"b\",\"b\",\"a\",\"a\"]\n",
    "result = compress(chars)\n",
    "print(result)"
   ]
  },
  {
   "cell_type": "markdown",
   "metadata": {},
   "source": [
    "learning url: https://www.youtube.com/watch?v=DSmzcCeSQfs&t=7s"
   ]
  },
  {
   "cell_type": "markdown",
   "metadata": {},
   "source": [
    "## Wrong version"
   ]
  },
  {
   "cell_type": "markdown",
   "metadata": {},
   "source": [
    "version1"
   ]
  },
  {
   "cell_type": "code",
   "execution_count": 8,
   "metadata": {},
   "outputs": [
    {
     "name": "stdout",
     "output_type": "stream",
     "text": [
      "['a', '3', 'b', 'b', 'a', 'a', 'a']\n",
      "6\n",
      "['a', '3', 'b', '2', 'a', '2']\n"
     ]
    }
   ],
   "source": [
    "def compress(chars):\n",
    "    n = len(chars)\n",
    "    i, count = 0, 1\n",
    "\n",
    "    for j in range(1,n+1):\n",
    "        #count = 1\n",
    "        if j<n and chars[j] == chars[i]: # wrong\n",
    "            count+=1\n",
    "        else:\n",
    "            chars[i] = chars[j-1]\n",
    "            i+=1\n",
    "            if count>1:\n",
    "                for m in (str(count)):\n",
    "                    chars[i] = m\n",
    "                    i+=1\n",
    "            else:\n",
    "                pass\n",
    "            \n",
    "            count = 1\n",
    "    print(chars)\n",
    "    return i\n",
    "\n",
    "chars = [\"a\",\"a\",\"a\",\"b\",\"b\",\"a\",\"a\"]\n",
    "expected = [\"a\",\"3\",\"b\",\"2\",\"a\",\"2\"]\n",
    "result = compress(chars)\n",
    "print(result)\n",
    "print(expected)"
   ]
  },
  {
   "cell_type": "markdown",
   "metadata": {},
   "source": [
    "version2"
   ]
  },
  {
   "cell_type": "code",
   "execution_count": 20,
   "metadata": {},
   "outputs": [
    {
     "name": "stdout",
     "output_type": "stream",
     "text": [
      "['a', '3', 'a', '2', 'b', '2', 'a']\n",
      "6\n",
      "['a', '3', 'b', '2', 'a', '2']\n"
     ]
    }
   ],
   "source": [
    "def compress(chars):\n",
    "    n = len(chars)\n",
    "    i, count = 0, 1\n",
    "\n",
    "    for j in range(1,n+1):\n",
    "        #count = 1\n",
    "        if j<n and chars[j] == chars[j-1]: # wrong\n",
    "            count+=1\n",
    "        else:\n",
    "            #chars[i] = chars[j-1] # cannot delete\n",
    "            i+=1\n",
    "            if count>1:\n",
    "                for m in (str(count)):\n",
    "                    chars[i] = m\n",
    "                    i+=1\n",
    "            else:\n",
    "                pass\n",
    "            \n",
    "            count = 1\n",
    "    print(chars)\n",
    "    return i\n",
    "\n",
    "chars = [\"a\",\"a\",\"a\",\"b\",\"b\",\"a\",\"a\"]\n",
    "expected = [\"a\",\"3\",\"b\",\"2\",\"a\",\"2\"]\n",
    "result = compress(chars)\n",
    "print(result)\n",
    "print(expected)"
   ]
  },
  {
   "cell_type": "markdown",
   "metadata": {},
   "source": [
    "version3"
   ]
  },
  {
   "cell_type": "code",
   "execution_count": 5,
   "metadata": {},
   "outputs": [
    {
     "name": "stdout",
     "output_type": "stream",
     "text": [
      "['a', '2', 'b', '2', 'c', 'c', '3']\n",
      "7\n"
     ]
    }
   ],
   "source": [
    "def compress(chars):\n",
    "    \n",
    "    n = len(chars)\n",
    "    for i in range(n):\n",
    "        flag = False\n",
    "        multi_flag = False\n",
    "        count = 1\n",
    "        cur = chars[i]\n",
    "        j = i +1\n",
    "        if cur.isdigit():\n",
    "            continue\n",
    "\n",
    "        while j<n and chars[j]==cur:\n",
    "            count+=1\n",
    "            j+=1\n",
    "            if count >=10:\n",
    "                multi_flag = True\n",
    "                count1 = count/10\n",
    "                count2 = count%10\n",
    "            flag = True\n",
    "        \n",
    "        if flag:\n",
    "            chars[i+count-1] = str(count)\n",
    "        if multi_flag:\n",
    "            chars[i+count-1] = str(count1)\n",
    "            chars[i+count] = str(count2)\n",
    "    print(chars)\n",
    "    result = len(chars)\n",
    "    return result\n",
    "\n",
    "\n",
    "\n",
    "chars = [\"a\",\"a\",\"b\",\"b\",\"c\",\"c\",\"c\"]\n",
    "#chars = [\"a\",\"b\",\"b\",\"b\",\"b\",\"b\",\"b\",\"b\",\"b\",\"b\",\"b\",\"b\",\"b\"]\n",
    "result = compress(chars)\n",
    "print(result)"
   ]
  },
  {
   "cell_type": "markdown",
   "metadata": {},
   "source": [
    "version4"
   ]
  },
  {
   "cell_type": "code",
   "execution_count": 28,
   "metadata": {},
   "outputs": [
    {
     "ename": "IndexError",
     "evalue": "list index out of range",
     "output_type": "error",
     "traceback": [
      "\u001b[0;31m---------------------------------------------------------------------------\u001b[0m",
      "\u001b[0;31mIndexError\u001b[0m                                Traceback (most recent call last)",
      "\u001b[0;32m/var/folders/_0/t_q_3ydn61v2hbgddcm8pdz00000gn/T/ipykernel_65569/2145101035.py\u001b[0m in \u001b[0;36m<module>\u001b[0;34m\u001b[0m\n\u001b[1;32m     25\u001b[0m \u001b[0;31m#chars = [\"a\"]\u001b[0m\u001b[0;34m\u001b[0m\u001b[0;34m\u001b[0m\u001b[0;34m\u001b[0m\u001b[0m\n\u001b[1;32m     26\u001b[0m \u001b[0mchars\u001b[0m \u001b[0;34m=\u001b[0m \u001b[0;34m[\u001b[0m\u001b[0;34m\"a\"\u001b[0m\u001b[0;34m,\u001b[0m\u001b[0;34m\"a\"\u001b[0m\u001b[0;34m,\u001b[0m\u001b[0;34m\"a\"\u001b[0m\u001b[0;34m,\u001b[0m\u001b[0;34m\"b\"\u001b[0m\u001b[0;34m,\u001b[0m\u001b[0;34m\"b\"\u001b[0m\u001b[0;34m,\u001b[0m\u001b[0;34m\"a\"\u001b[0m\u001b[0;34m,\u001b[0m\u001b[0;34m\"a\"\u001b[0m\u001b[0;34m]\u001b[0m\u001b[0;34m\u001b[0m\u001b[0;34m\u001b[0m\u001b[0m\n\u001b[0;32m---> 27\u001b[0;31m \u001b[0mresult\u001b[0m \u001b[0;34m=\u001b[0m \u001b[0mcompress\u001b[0m\u001b[0;34m(\u001b[0m\u001b[0mchars\u001b[0m\u001b[0;34m)\u001b[0m\u001b[0;34m\u001b[0m\u001b[0;34m\u001b[0m\u001b[0m\n\u001b[0m\u001b[1;32m     28\u001b[0m \u001b[0mprint\u001b[0m\u001b[0;34m(\u001b[0m\u001b[0mresult\u001b[0m\u001b[0;34m)\u001b[0m\u001b[0;34m\u001b[0m\u001b[0;34m\u001b[0m\u001b[0m\n",
      "\u001b[0;32m/var/folders/_0/t_q_3ydn61v2hbgddcm8pdz00000gn/T/ipykernel_65569/2145101035.py\u001b[0m in \u001b[0;36mcompress\u001b[0;34m(chars)\u001b[0m\n\u001b[1;32m      5\u001b[0m     \u001b[0;32mfor\u001b[0m \u001b[0mj\u001b[0m \u001b[0;32min\u001b[0m \u001b[0mrange\u001b[0m\u001b[0;34m(\u001b[0m\u001b[0;36m1\u001b[0m\u001b[0;34m,\u001b[0m\u001b[0mn\u001b[0m\u001b[0;34m+\u001b[0m\u001b[0;36m1\u001b[0m\u001b[0;34m)\u001b[0m\u001b[0;34m:\u001b[0m\u001b[0;34m\u001b[0m\u001b[0;34m\u001b[0m\u001b[0m\n\u001b[1;32m      6\u001b[0m         \u001b[0;31m#count = 1\u001b[0m\u001b[0;34m\u001b[0m\u001b[0;34m\u001b[0m\u001b[0;34m\u001b[0m\u001b[0m\n\u001b[0;32m----> 7\u001b[0;31m         \u001b[0;32mif\u001b[0m \u001b[0mchars\u001b[0m\u001b[0;34m[\u001b[0m\u001b[0mj\u001b[0m\u001b[0;34m]\u001b[0m \u001b[0;34m==\u001b[0m \u001b[0mchars\u001b[0m\u001b[0;34m[\u001b[0m\u001b[0mj\u001b[0m\u001b[0;34m-\u001b[0m\u001b[0;36m1\u001b[0m\u001b[0;34m]\u001b[0m \u001b[0;32mand\u001b[0m \u001b[0mj\u001b[0m\u001b[0;34m<\u001b[0m\u001b[0mn\u001b[0m\u001b[0;34m:\u001b[0m\u001b[0;34m\u001b[0m\u001b[0;34m\u001b[0m\u001b[0m\n\u001b[0m\u001b[1;32m      8\u001b[0m             \u001b[0mcount\u001b[0m\u001b[0;34m+=\u001b[0m\u001b[0;36m1\u001b[0m\u001b[0;34m\u001b[0m\u001b[0;34m\u001b[0m\u001b[0m\n\u001b[1;32m      9\u001b[0m         \u001b[0;32melse\u001b[0m\u001b[0;34m:\u001b[0m\u001b[0;34m\u001b[0m\u001b[0;34m\u001b[0m\u001b[0m\n",
      "\u001b[0;31mIndexError\u001b[0m: list index out of range"
     ]
    }
   ],
   "source": [
    "def compress(chars):\n",
    "    n = len(chars)\n",
    "    i, count = 0, 1\n",
    "\n",
    "    for j in range(1,n+1):\n",
    "        #count = 1\n",
    "        if chars[j] == chars[j-1] and j<n:\n",
    "            count+=1\n",
    "        else:\n",
    "            chars[i] = chars[j-1]\n",
    "            i+=1\n",
    "            if count>1:\n",
    "                for m in (str(count)):\n",
    "                    chars[i] = m\n",
    "                    i+=1\n",
    "            else:\n",
    "                pass\n",
    "            \n",
    "            count = 1\n",
    "    print(chars)\n",
    "    return i\n",
    "\n",
    "chars = [\"a\",\"a\",\"b\",\"b\",\"c\",\"c\",\"c\"]\n",
    "#chars = [\"a\",\"b\",\"b\",\"b\",\"b\",\"b\",\"b\",\"b\",\"b\",\"b\",\"b\",\"b\",\"b\"]\n",
    "#chars = [\"a\"]\n",
    "chars = [\"a\",\"a\",\"a\",\"b\",\"b\",\"a\",\"a\"]\n",
    "result = compress(chars)\n",
    "print(result)"
   ]
  }
 ],
 "metadata": {
  "kernelspec": {
   "display_name": "Python 3.8.6 64-bit ('leetcode_env')",
   "language": "python",
   "name": "python3"
  },
  "language_info": {
   "codemirror_mode": {
    "name": "ipython",
    "version": 3
   },
   "file_extension": ".py",
   "mimetype": "text/x-python",
   "name": "python",
   "nbconvert_exporter": "python",
   "pygments_lexer": "ipython3",
   "version": "3.8.6"
  },
  "orig_nbformat": 4,
  "vscode": {
   "interpreter": {
    "hash": "846fd2d9bb562a436898b7cc368204fc2f9d44e5e9b051b4f6e855e721078f23"
   }
  }
 },
 "nbformat": 4,
 "nbformat_minor": 2
}
