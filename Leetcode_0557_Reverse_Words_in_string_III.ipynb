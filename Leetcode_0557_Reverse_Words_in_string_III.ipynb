{
 "cells": [
  {
   "cell_type": "markdown",
   "metadata": {},
   "source": [
    "Method1: DIY"
   ]
  },
  {
   "cell_type": "code",
   "execution_count": 84,
   "metadata": {},
   "outputs": [
    {
     "name": "stdout",
     "output_type": "stream",
     "text": [
      "Type: <class 'str'>\n",
      "Value: Let's take LeetCode contest\n",
      "Type: <class 'list'>\n",
      "Value: [\"Let's\", 'take', 'LeetCode', 'contest']\n",
      "Type: <class 'list'>\n",
      "Value: [\"s'teL\", 'ekat', 'edoCteeL', 'tsetnoc']\n",
      "Type: <class 'str'>\n",
      "Value: s'teL ekat edoCteeL tsetnoc\n"
     ]
    }
   ],
   "source": [
    "def check(array):\n",
    "    print(\"Type:\",type(array))\n",
    "    print(\"Value:\",array)\n",
    "\n",
    "def reverseWords(s):\n",
    "    s_n = len(s) # 27\n",
    "    check(s)\n",
    "    result = []\n",
    "    result = s.split()\n",
    "    r_n = len(result)\n",
    "    check(result)\n",
    "\n",
    "    for i in range(r_n):\n",
    "        result[i] = result[i][::-1]\n",
    "    \n",
    "    check(result)\n",
    "    result = \" \".join(result)\n",
    "    return result\n",
    "s = \"Let's take LeetCode contest\"\n",
    "result = reverseWords(s)\n",
    "check(result)\n"
   ]
  },
  {
   "cell_type": "markdown",
   "metadata": {},
   "source": [
    "Method2"
   ]
  },
  {
   "cell_type": "code",
   "execution_count": 71,
   "metadata": {},
   "outputs": [
    {
     "name": "stdout",
     "output_type": "stream",
     "text": [
      "s'teL ekat edoCteeL tsetnoc\n",
      "the result: s'teL ekat edoCteeL tsetnoc\n"
     ]
    }
   ],
   "source": [
    "def reverseWords(s):\n",
    "    n = len(s)\n",
    "    s2 = s.split()\n",
    "    s2_len = len(s2)\n",
    "    result = ''\n",
    "    for i in range(s2_len):\n",
    "        temp = s2[i]\n",
    "        temp_len = len(s2[i])\n",
    "        for j in range(temp_len-1,-1,-1):\n",
    "            result+=temp[j]\n",
    "        if i != s2_len-1:\n",
    "            result+= ' '\n",
    "    print(result)\n",
    "    return result\n",
    "\n",
    "s = \"Let's take LeetCode contest\"\n",
    "result = reverseWords(s)\n",
    "print('the result:',result)"
   ]
  },
  {
   "cell_type": "code",
   "execution_count": 66,
   "metadata": {},
   "outputs": [
    {
     "name": "stdout",
     "output_type": "stream",
     "text": [
      "['t', 'h', 'e', ' ', 's', 'k', 'y', ' ', 'i', 's', ' ', 'b', 'l', 'u', 'e']\n",
      "<class 'list'>\n",
      "<class 'str'>\n"
     ]
    }
   ],
   "source": [
    "s = [\"t\",\"h\",\"e\",\" \",\"s\",\"k\",\"y\",\" \",\"i\",\"s\",\" \",\"b\",\"l\",\"u\",\"e\"]\n",
    "print(s)\n",
    "print(type(s))\n",
    "print(type(s[0]))"
   ]
  },
  {
   "cell_type": "markdown",
   "metadata": {},
   "source": [
    "Note: 'str' object does not support item assignment</br>\n",
    "For example"
   ]
  },
  {
   "cell_type": "code",
   "execution_count": 63,
   "metadata": {},
   "outputs": [
    {
     "ename": "TypeError",
     "evalue": "'str' object does not support item assignment",
     "output_type": "error",
     "traceback": [
      "\u001b[0;31m---------------------------------------------------------------------------\u001b[0m",
      "\u001b[0;31mTypeError\u001b[0m                                 Traceback (most recent call last)",
      "\u001b[0;32m/var/folders/_0/t_q_3ydn61v2hbgddcm8pdz00000gn/T/ipykernel_53350/4195127788.py\u001b[0m in \u001b[0;36m<module>\u001b[0;34m\u001b[0m\n\u001b[1;32m      5\u001b[0m \u001b[0;34m\u001b[0m\u001b[0m\n\u001b[1;32m      6\u001b[0m \u001b[0;32mwhile\u001b[0m \u001b[0mleft\u001b[0m\u001b[0;34m<\u001b[0m\u001b[0mright\u001b[0m\u001b[0;34m:\u001b[0m\u001b[0;34m\u001b[0m\u001b[0;34m\u001b[0m\u001b[0m\n\u001b[0;32m----> 7\u001b[0;31m     \u001b[0mresult\u001b[0m\u001b[0;34m[\u001b[0m\u001b[0mleft\u001b[0m\u001b[0;34m]\u001b[0m\u001b[0;34m,\u001b[0m \u001b[0mresult\u001b[0m\u001b[0;34m[\u001b[0m\u001b[0mright\u001b[0m\u001b[0;34m]\u001b[0m \u001b[0;34m=\u001b[0m \u001b[0mresult\u001b[0m\u001b[0;34m[\u001b[0m\u001b[0mright\u001b[0m\u001b[0;34m]\u001b[0m\u001b[0;34m,\u001b[0m \u001b[0mresult\u001b[0m\u001b[0;34m[\u001b[0m\u001b[0mleft\u001b[0m\u001b[0;34m]\u001b[0m\u001b[0;34m\u001b[0m\u001b[0;34m\u001b[0m\u001b[0m\n\u001b[0m\u001b[1;32m      8\u001b[0m \u001b[0mprint\u001b[0m\u001b[0;34m(\u001b[0m\u001b[0mresult\u001b[0m\u001b[0;34m)\u001b[0m\u001b[0;34m\u001b[0m\u001b[0;34m\u001b[0m\u001b[0m\n",
      "\u001b[0;31mTypeError\u001b[0m: 'str' object does not support item assignment"
     ]
    }
   ],
   "source": [
    "result = \"Let's take LeetCode contest\"\n",
    "\n",
    "left = 0\n",
    "right = len(result)-1\n",
    "\n",
    "while left<right:\n",
    "    result[left], result[right] = result[right], result[left]\n",
    "print(result)"
   ]
  },
  {
   "cell_type": "code",
   "execution_count": 64,
   "metadata": {},
   "outputs": [
    {
     "name": "stdout",
     "output_type": "stream",
     "text": [
      "['contest', 'LeetCode', 'take', \"Let's\"]\n"
     ]
    }
   ],
   "source": [
    "result = [\"Let's\", 'take', 'LeetCode', 'contest']\n",
    "\n",
    "left = 0\n",
    "right = len(result)-1\n",
    "\n",
    "while left<right:\n",
    "    result[left], result[right] = result[right], result[left]\n",
    "    left +=1\n",
    "    right -=1\n",
    "print(result)"
   ]
  },
  {
   "cell_type": "markdown",
   "metadata": {},
   "source": [
    "split method<br>\n",
    "Join and split are used in Leetcode_0151_Reverse_Words_in_String.ipynb"
   ]
  },
  {
   "cell_type": "markdown",
   "metadata": {},
   "source": [
    "split: String to list</br>\n",
    "join: list to String"
   ]
  },
  {
   "cell_type": "code",
   "execution_count": 39,
   "metadata": {},
   "outputs": [],
   "source": [
    "# https://www.runoob.com/python/att-string-split.html"
   ]
  },
  {
   "cell_type": "code",
   "execution_count": 42,
   "metadata": {},
   "outputs": [
    {
     "name": "stdout",
     "output_type": "stream",
     "text": [
      "s type: <class 'str'>\n",
      "  hello world  \n",
      "ls type: <class 'list'>\n",
      "['hello', 'world']\n",
      "result type: <class 'list'>\n",
      "['world', 'hello']\n",
      "result type: <class 'str'>\n",
      "world hello\n",
      "world hello\n"
     ]
    }
   ],
   "source": [
    "def reverseWords(s):\n",
    "    n = len(s) \n",
    "    result = []\n",
    "\n",
    "    if n == 0:\n",
    "        return s\n",
    "    print(\"s type:\",type(s))\n",
    "    print(s)\n",
    "    ls = s.split()\n",
    "\n",
    "    print(\"ls type:\",type(ls))\n",
    "    print(ls)\n",
    "    if ls == []: # in case s = \"    \"\n",
    "        return s\n",
    "    \n",
    "    result = ls[::-1]\n",
    "\n",
    "    print(\"result type:\",type(result))\n",
    "    print(result)\n",
    "\n",
    "    result = \" \".join(result) \n",
    "    print(\"result type:\",type(result))\n",
    "    print(result)\n",
    "    return result\n",
    "\n",
    "s = \"the sky is blue\"\n",
    "s = \"  hello world  \"\n",
    "#s = \"a good   example\"\n",
    "result = reverseWords(s)\n",
    "print(result)"
   ]
  },
  {
   "cell_type": "code",
   "execution_count": 8,
   "metadata": {},
   "outputs": [],
   "source": [
    "# How to Convert a String to list in Python\n",
    "# one method is Using split Function and other is list()\n",
    "# https://www.askpython.com/python/string/convert-string-to-list-in-python\n",
    "# https://www.runoob.com/python/att-string-split.html\n",
    "# following code shows these methods"
   ]
  },
  {
   "cell_type": "code",
   "execution_count": 7,
   "metadata": {},
   "outputs": [
    {
     "name": "stdout",
     "output_type": "stream",
     "text": [
      "Let's take LeetCode contest\n",
      "<class 'str'>\n",
      "[\"Let's\", 'take', 'LeetCode', 'contest']\n",
      "<class 'list'>\n",
      "====\n",
      "Let's take LeetCode contest\n",
      "['L', 'e', 't', \"'\", 's', ' ', 't', 'a', 'k', 'e', ' ', 'L', 'e', 'e', 't', 'C', 'o', 'd', 'e', ' ', 'c', 'o', 'n', 't', 'e', 's', 't']\n",
      "<class 'list'>\n"
     ]
    }
   ],
   "source": [
    "# string to list\n",
    "s = \"Let's take LeetCode contest\"\n",
    "print(s)\n",
    "print(type(s))\n",
    "s = s.split()\n",
    "print(s)\n",
    "print(type(s))\n",
    "print(\"====\")\n",
    "# applying list method to the individual elements of the list s\n",
    "s = \"Let's take LeetCode contest\"\n",
    "print(s)\n",
    "s = list(s)\n",
    "print(s)\n",
    "print(type(s))"
   ]
  },
  {
   "cell_type": "markdown",
   "metadata": {},
   "source": [
    "Join method"
   ]
  },
  {
   "cell_type": "code",
   "execution_count": null,
   "metadata": {},
   "outputs": [],
   "source": [
    "# How to Convert a List to String in Python\n",
    "# one method is Using Join Function\n",
    "# https://www.simplilearn.com/tutorials/python-tutorial/list-to-string-in-python\n",
    "# https://www.runoob.com/python3/python3-string-join.html#:~:text=Python%20join()%20%E6%96%B9%E6%B3%95%E7%94%A8,%E4%B8%80%E4%B8%AA%E6%96%B0%E7%9A%84%E5%AD%97%E7%AC%A6%E4%B8%B2%E3%80%82\n",
    "# following code shows join method"
   ]
  },
  {
   "cell_type": "code",
   "execution_count": 34,
   "metadata": {},
   "outputs": [
    {
     "name": "stdout",
     "output_type": "stream",
     "text": [
      "r-u-n-o-o-b\n",
      "runoob\n"
     ]
    }
   ],
   "source": [
    "s1 = \"-\"\n",
    "s2 = \"\"\n",
    "seq = (\"r\", \"u\", \"n\", \"o\", \"o\", \"b\") # 字符串序列\n",
    "print (s1.join( seq ))\n",
    "print (s2.join( seq ))"
   ]
  },
  {
   "cell_type": "code",
   "execution_count": 6,
   "metadata": {},
   "outputs": [
    {
     "name": "stdout",
     "output_type": "stream",
     "text": [
      "[1, 2, 3, 4]\n",
      "<class 'list'>\n",
      "<class 'int'>\n",
      "[ 1 ,   2 ,   3 ,   4 ]\n",
      "<class 'str'>\n",
      "========\n",
      "['1', '2', '3', '4']\n",
      "<class 'list'>\n",
      "<class 'str'>\n",
      "1 2 3 4\n",
      "<class 'str'>\n"
     ]
    }
   ],
   "source": [
    "# list to string\n",
    "a = [1,2,3,4]\n",
    "print(a)\n",
    "print(type(a))\n",
    "print(type(a[0]))\n",
    "s = ' '.join(str(a))\n",
    "print(s)\n",
    "print(type(s))\n",
    "\n",
    "print(\"========\")\n",
    "\n",
    "a = ['1','2','3','4']\n",
    "print(a)\n",
    "print(type(a))\n",
    "print(type(a[0]))\n",
    "s = ' '.join(a)\n",
    "print(s)\n",
    "print(type(s))"
   ]
  }
 ],
 "metadata": {
  "kernelspec": {
   "display_name": "Python 3.8.6 64-bit ('leetcode_env')",
   "language": "python",
   "name": "python3"
  },
  "language_info": {
   "codemirror_mode": {
    "name": "ipython",
    "version": 3
   },
   "file_extension": ".py",
   "mimetype": "text/x-python",
   "name": "python",
   "nbconvert_exporter": "python",
   "pygments_lexer": "ipython3",
   "version": "3.8.6"
  },
  "orig_nbformat": 4,
  "vscode": {
   "interpreter": {
    "hash": "846fd2d9bb562a436898b7cc368204fc2f9d44e5e9b051b4f6e855e721078f23"
   }
  }
 },
 "nbformat": 4,
 "nbformat_minor": 2
}
