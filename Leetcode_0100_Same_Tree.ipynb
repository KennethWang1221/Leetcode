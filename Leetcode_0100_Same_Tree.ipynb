{
 "cells": [
  {
   "cell_type": "markdown",
   "metadata": {},
   "source": [
    "## Method1\n",
    "https://github.com/neetcode-gh/leetcode/blob/main/python/100-Same-Tree.py<br>\n",
    "https://www.youtube.com/watch?v=vRbbcKXCxOw\n"
   ]
  },
  {
   "cell_type": "code",
   "execution_count": 3,
   "metadata": {},
   "outputs": [
    {
     "name": "stdout",
     "output_type": "stream",
     "text": [
      "True\n"
     ]
    }
   ],
   "source": [
    "class TreeNode(object):\n",
    "    def __init__(self, x, left= None, right = None, next = None):\n",
    "        if x == None:\n",
    "            self.val = None\n",
    "        else:\n",
    "            self.val = x\n",
    "        self.left = None\n",
    "        self.right = None\n",
    "        self.next = None\n",
    "\n",
    "def isSameTree(p, q):\n",
    "    if p == None and q == None:\n",
    "        return True\n",
    "    if p ==None or q == None or p.val == q.val:\n",
    "        return isSameTree(p.left, q.left) and isSameTree(p.right, q.right)\n",
    "    else:\n",
    "        return False\n",
    "\n",
    "p1 = TreeNode(1)\n",
    "p2 = TreeNode(2)\n",
    "p3 = TreeNode(3)\n",
    "\n",
    "q1 = TreeNode(1)\n",
    "q2 = TreeNode(2)\n",
    "q3 = TreeNode(3)\n",
    "\n",
    "\n",
    "p1.left = p2\n",
    "p1.right = p3\n",
    "\n",
    "q1.left = q2\n",
    "q1.right = q3\n",
    "\n",
    "\n",
    "res = isSameTree(p1, q1)\n",
    "\n",
    "print(res)"
   ]
  }
 ],
 "metadata": {
  "kernelspec": {
   "display_name": "Python 3.8.6 64-bit ('leetcode_env')",
   "language": "python",
   "name": "python3"
  },
  "language_info": {
   "codemirror_mode": {
    "name": "ipython",
    "version": 3
   },
   "file_extension": ".py",
   "mimetype": "text/x-python",
   "name": "python",
   "nbconvert_exporter": "python",
   "pygments_lexer": "ipython3",
   "version": "3.8.6"
  },
  "orig_nbformat": 4,
  "vscode": {
   "interpreter": {
    "hash": "846fd2d9bb562a436898b7cc368204fc2f9d44e5e9b051b4f6e855e721078f23"
   }
  }
 },
 "nbformat": 4,
 "nbformat_minor": 2
}
