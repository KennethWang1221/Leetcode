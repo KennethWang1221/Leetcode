{
 "cells": [
  {
   "cell_type": "code",
   "execution_count": 1,
   "metadata": {},
   "outputs": [
    {
     "name": "stdout",
     "output_type": "stream",
     "text": [
      "[9, 4]\n"
     ]
    }
   ],
   "source": [
    "def intersection_of_two_arrays(nums1,nums2):\n",
    "    result = set()\n",
    "    lookup  = {}\n",
    "    for i in nums1:\n",
    "        if i not in lookup:\n",
    "            lookup[i]=1\n",
    "        else:\n",
    "            lookup[i]+=1\n",
    "    for j in nums2:\n",
    "        if j not in lookup:\n",
    "            pass\n",
    "        else:\n",
    "            result.add(j)\n",
    "    return list(result)\n",
    "\n",
    "nums1 = [4,9,5]\n",
    "nums2 = [9,4,9,8,4]\n",
    "results = intersection_of_two_arrays(nums1,nums2)\n",
    "print(results)"
   ]
  },
  {
   "cell_type": "markdown",
   "metadata": {},
   "source": [
    "method2: use array"
   ]
  },
  {
   "cell_type": "code",
   "execution_count": 3,
   "metadata": {},
   "outputs": [
    {
     "name": "stdout",
     "output_type": "stream",
     "text": [
      "[4, 9]\n"
     ]
    }
   ],
   "source": [
    "def intersection_of_two_arrays(nums1,nums2):\n",
    "    result = []\n",
    "    result2 = []\n",
    "\n",
    "    for i in nums1:\n",
    "        if i in result:\n",
    "            pass\n",
    "        else:\n",
    "            result.append(i)\n",
    "        \n",
    "    for i in result:\n",
    "        if i in nums2:\n",
    "            result2.append(i)\n",
    "        else:\n",
    "            pass\n",
    "    return result2\n",
    "\n",
    "nums1 = [4,9,5]\n",
    "nums2 = [9,4,9,8,4]\n",
    "results = intersection_of_two_arrays(nums1,nums2)\n",
    "print(results)"
   ]
  },
  {
   "cell_type": "code",
   "execution_count": null,
   "metadata": {},
   "outputs": [],
   "source": []
  }
 ],
 "metadata": {
  "interpreter": {
   "hash": "846fd2d9bb562a436898b7cc368204fc2f9d44e5e9b051b4f6e855e721078f23"
  },
  "kernelspec": {
   "display_name": "Python 3.8.6 ('leetcode_env': conda)",
   "language": "python",
   "name": "python3"
  },
  "language_info": {
   "codemirror_mode": {
    "name": "ipython",
    "version": 3
   },
   "file_extension": ".py",
   "mimetype": "text/x-python",
   "name": "python",
   "nbconvert_exporter": "python",
   "pygments_lexer": "ipython3",
   "version": "3.8.6"
  },
  "orig_nbformat": 4
 },
 "nbformat": 4,
 "nbformat_minor": 2
}
