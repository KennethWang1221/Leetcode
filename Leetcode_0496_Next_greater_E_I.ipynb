{
 "cells": [
  {
   "cell_type": "markdown",
   "metadata": {},
   "source": [
    "## Method1- array"
   ]
  },
  {
   "cell_type": "code",
   "execution_count": 1,
   "metadata": {},
   "outputs": [
    {
     "name": "stdout",
     "output_type": "stream",
     "text": [
      "[-1, 3, -1]\n"
     ]
    }
   ],
   "source": [
    "def nextGreaterElement(nums1, nums2):\n",
    "    result = []\n",
    "    \n",
    "    size2 = len(nums2)-1\n",
    "    for j in range(len(nums1)):\n",
    "        find = False\n",
    "        \n",
    "        for i in range(len(nums2)):\n",
    "            if find and nums2[i]>nums1[j]:\n",
    "                result.append(nums2[i])\n",
    "                find = False\n",
    "                break\n",
    "            if nums2[i] == nums1[j]:\n",
    "                find = True\n",
    "            else:\n",
    "                pass\n",
    "        if find and i == size2:\n",
    "            result.append(-1)\n",
    "\n",
    "    return result\n",
    "\n",
    "\n",
    "nums1 = [4,1,2]\n",
    "nums2 = [1,3,4,2]\n",
    "#nums1 = [3,1,5,7,9,2,6]\n",
    "#nums2 = [1,2,3,5,6,7,9,11]\n",
    "result = nextGreaterElement(nums1, nums2)\n",
    "print(result)"
   ]
  }
 ],
 "metadata": {
  "kernelspec": {
   "display_name": "Python 3.8.6 64-bit ('leetcode_env')",
   "language": "python",
   "name": "python3"
  },
  "language_info": {
   "codemirror_mode": {
    "name": "ipython",
    "version": 3
   },
   "file_extension": ".py",
   "mimetype": "text/x-python",
   "name": "python",
   "nbconvert_exporter": "python",
   "pygments_lexer": "ipython3",
   "version": "3.8.6"
  },
  "orig_nbformat": 4,
  "vscode": {
   "interpreter": {
    "hash": "846fd2d9bb562a436898b7cc368204fc2f9d44e5e9b051b4f6e855e721078f23"
   }
  }
 },
 "nbformat": 4,
 "nbformat_minor": 2
}
