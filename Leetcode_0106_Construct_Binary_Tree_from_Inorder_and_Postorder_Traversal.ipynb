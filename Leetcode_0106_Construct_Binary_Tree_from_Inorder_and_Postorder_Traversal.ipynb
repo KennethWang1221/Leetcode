{
 "cells": [
  {
   "cell_type": "markdown",
   "metadata": {},
   "source": [
    "## Method1\n",
    "https://github.com/youngyangyang04/leetcode-master/blob/master/problems/0106.%E4%BB%8E%E4%B8%AD%E5%BA%8F%E4%B8%8E%E5%90%8E%E5%BA%8F%E9%81%8D%E5%8E%86%E5%BA%8F%E5%88%97%E6%9E%84%E9%80%A0%E4%BA%8C%E5%8F%89%E6%A0%91.md"
   ]
  },
  {
   "cell_type": "code",
   "execution_count": 3,
   "metadata": {},
   "outputs": [
    {
     "name": "stdout",
     "output_type": "stream",
     "text": [
      "<__main__.TreeNode object at 0x119656d60>\n"
     ]
    }
   ],
   "source": [
    "class TreeNode(object):\n",
    "    def __init__(self, x):\n",
    "        if x == None:\n",
    "            self.val = None\n",
    "        else:\n",
    "            self.val = x\n",
    "        self.left = None\n",
    "        self.right = None \n",
    "\n",
    "\n",
    "def buildTree(inorder, postorder):\n",
    "    # 第一步: 特殊情况讨论: 树为空. (递归终止条件)\n",
    "    if inorder == [] or postorder ==[]: return None\n",
    "    # 第二步: 后序遍历的最后一个就是当前的中间节点. \n",
    "    root = TreeNode(postorder[-1])\n",
    "    if root == None: return \n",
    "    # 第三步: 找切割点. \n",
    "    mid = inorder.index(postorder[-1])\n",
    "    # 第四步: 切割inorder数组. 得到inorder数组的左,右半边. \n",
    "    # 第五步: 切割postorder数组. 得到postorder数组的左,右半边.\n",
    "    # 重点1: 中序数组大小一定跟后序数组大小是相同的.\n",
    "    # 第六步: 递归\n",
    "    root.left = buildTree(inorder[:mid+1], postorder[:mid])\n",
    "    root.right = buildTree(inorder[mid+1:], postorder[mid:len(postorder)-1])\n",
    "\n",
    "\n",
    "    return root\n",
    "n1 = TreeNode(3)\n",
    "n2 = TreeNode(9)\n",
    "n3 = TreeNode(20)\n",
    "n4 = TreeNode(15)\n",
    "n5 = TreeNode(7)\n",
    "\n",
    "n1.left = n2\n",
    "n1.right = n3\n",
    "n3.left = n4\n",
    "n3.right = n5\n",
    "\n",
    "inorder = [9,3,15,20,7]\n",
    "postorder = [9,15,7,20,3]\n",
    "\n",
    "res = buildTree(inorder, postorder)\n",
    "print(res)"
   ]
  },
  {
   "cell_type": "markdown",
   "metadata": {},
   "source": [
    "## 0105_Construct_Binary_Tree_from_Preorder_and_Inorder_Traversal\n",
    "https://github.com/youngyangyang04/leetcode-master/blob/master/problems/0106.%E4%BB%8E%E4%B8%AD%E5%BA%8F%E4%B8%8E%E5%90%8E%E5%BA%8F%E9%81%8D%E5%8E%86%E5%BA%8F%E5%88%97%E6%9E%84%E9%80%A0%E4%BA%8C%E5%8F%89%E6%A0%91.md<br>\n",
    "https://www.youtube.com/watch?v=ihj4IQGZ2zc&t=20s"
   ]
  },
  {
   "cell_type": "code",
   "execution_count": 2,
   "metadata": {},
   "outputs": [
    {
     "name": "stdout",
     "output_type": "stream",
     "text": [
      "<__main__.TreeNode object at 0x119656df0>\n"
     ]
    }
   ],
   "source": [
    "class TreeNode(object):\n",
    "    def __init__(self, x):\n",
    "        if x == None:\n",
    "            self.val = None\n",
    "        else:\n",
    "            self.val = x\n",
    "        self.left = None\n",
    "        self.right = None \n",
    "\n",
    "\n",
    "def buildTree(preorder, inorder):\n",
    "    # 第一步: 特殊情况讨论: 树为空. 或者说是递归终止条件\n",
    "    if preorder == [] or inorder ==[]: return None\n",
    "    # 第二步: 前序遍历的第一个就是当前的中间节点. \n",
    "    root = TreeNode(preorder[0])\n",
    "    if root == None: return \n",
    "\n",
    "     # 第三步: 找切割点. \n",
    "    mid = inorder.index(preorder[0])\n",
    "\n",
    "    # 第四步: 切割preorder数组. 得到preorder数组的左,右半边.\n",
    "    # 第五步: 切割inorder数组. 得到inorder数组的左,右半边. \n",
    "    # 第六步: 递归\n",
    "    root.left = buildTree(preorder[1:mid+1], inorder[:mid])\n",
    "    root.right = buildTree(preorder[mid+1:], inorder[mid+1:])\n",
    "    # 重点1: 中序数组大小一定跟前序数组大小是相同的. \n",
    "    return root\n",
    "n1 = TreeNode(3)\n",
    "n2 = TreeNode(9)\n",
    "n3 = TreeNode(20)\n",
    "n4 = TreeNode(15)\n",
    "n5 = TreeNode(7)\n",
    "\n",
    "n1.left = n2\n",
    "n1.right = n3\n",
    "n3.left = n4\n",
    "n3.right = n5\n",
    "\n",
    "preorder = [3,9,20,15,7]\n",
    "inorder = [9,3,15,20,7]\n",
    "\n",
    "res = buildTree(preorder, inorder)\n",
    "print(res)"
   ]
  },
  {
   "cell_type": "code",
   "execution_count": null,
   "metadata": {},
   "outputs": [
    {
     "name": "stdout",
     "output_type": "stream",
     "text": [
      "\n",
      "    1____\n",
      "   /     \\\n",
      "  2       3\n",
      " /       / \\\n",
      "4       5   6\n",
      "       /\n",
      "      7\n",
      "\n"
     ]
    }
   ],
   "source": [
    "from binarytree import tree, bst, heap, Node\n",
    "n1 = Node(1)\n",
    "n2 = Node(2)\n",
    "n3 = Node(3)\n",
    "n4 = Node(4)\n",
    "n5 = Node(5)\n",
    "n6 = Node(6)\n",
    "n7 = Node(7)\n",
    "\n",
    "n1.left = n2\n",
    "n1.right = n3\n",
    "n2.left = n4\n",
    "n3.left = n5\n",
    "n3.right = n6\n",
    "n5.left = n7\n",
    "print(n1)"
   ]
  }
 ],
 "metadata": {
  "kernelspec": {
   "display_name": "Python 3.8.6 64-bit ('leetcode_env')",
   "language": "python",
   "name": "python3"
  },
  "language_info": {
   "codemirror_mode": {
    "name": "ipython",
    "version": 3
   },
   "file_extension": ".py",
   "mimetype": "text/x-python",
   "name": "python",
   "nbconvert_exporter": "python",
   "pygments_lexer": "ipython3",
   "version": "3.8.6"
  },
  "orig_nbformat": 4,
  "vscode": {
   "interpreter": {
    "hash": "846fd2d9bb562a436898b7cc368204fc2f9d44e5e9b051b4f6e855e721078f23"
   }
  }
 },
 "nbformat": 4,
 "nbformat_minor": 2
}
