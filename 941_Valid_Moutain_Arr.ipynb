{
 "cells": [
  {
   "cell_type": "code",
   "execution_count": 27,
   "metadata": {},
   "outputs": [
    {
     "data": {
      "text/plain": [
       "False"
      ]
     },
     "execution_count": 27,
     "metadata": {},
     "output_type": "execute_result"
    }
   ],
   "source": [
    "# reference https://www.bilibili.com/video/BV1zT4y1y7kU?spm_id_from=333.337.search-card.all.click\n",
    "# and https://leetcode.com/problems/valid-mountain-array/solution/\n",
    "def validMountainArray(rr):\n",
    "    \n",
    "    n = len(arr)\n",
    "    \n",
    "    if n<3:\n",
    "        return False\n",
    "    \n",
    "    point = 0\n",
    "    \n",
    "    while point < n and point+1 <n and arr[point+1] > arr[point]:\n",
    "        point+=1\n",
    "    \n",
    "    if point == n-1:\n",
    "        return False\n",
    "    \n",
    "    if point == 0:\n",
    "        return False\n",
    "    \n",
    "    while point <n and point+1<n and arr[point+1]<arr[point]:\n",
    "        point+=1\n",
    "    \n",
    "    if point == n-1:\n",
    "        return True\n",
    "    else:\n",
    "        return False\n",
    "    \n",
    "arr = [2,1] # F\n",
    "arr = [3,5,5] # F\n",
    "arr = [0,3,2,1] # T\n",
    "arr = [0,1,2,3,4,5,6,7,8,9]\n",
    "# arr = [2,1,0]\n",
    "validMountainArray(arr)"
   ]
  }
 ],
 "metadata": {
  "kernelspec": {
   "display_name": "Python 3.8.6 64-bit ('leetcode_env')",
   "language": "python",
   "name": "python3"
  },
  "language_info": {
   "codemirror_mode": {
    "name": "ipython",
    "version": 3
   },
   "file_extension": ".py",
   "mimetype": "text/x-python",
   "name": "python",
   "nbconvert_exporter": "python",
   "pygments_lexer": "ipython3",
   "version": "3.8.6"
  },
  "orig_nbformat": 4,
  "vscode": {
   "interpreter": {
    "hash": "846fd2d9bb562a436898b7cc368204fc2f9d44e5e9b051b4f6e855e721078f23"
   }
  }
 },
 "nbformat": 4,
 "nbformat_minor": 2
}
