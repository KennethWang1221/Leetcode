{
 "cells": [
  {
   "cell_type": "markdown",
   "metadata": {},
   "source": [
    "## Method1 "
   ]
  },
  {
   "cell_type": "code",
   "execution_count": null,
   "metadata": {},
   "outputs": [],
   "source": [
    "class MyHashSet:\n",
    "\n",
    "    def __init__(self):\n",
    "        self.list = []\n",
    "    \n",
    "    def add(self, key: int) -> None:\n",
    "        if key not in self.list:\n",
    "            return self.list.append(key)\n",
    "\n",
    "    def remove(self, key: int) -> None:\n",
    "        if key in self.list:\n",
    "            return self.list.remove(key)\n",
    "\n",
    "    def contains(self, key: int) -> bool:\n",
    "        if key in self.list:\n",
    "            return True\n",
    "        else:\n",
    "            return False\n",
    "\n",
    "myHashSet = MyHashSet();\n",
    "myHashSet.add(1) #;      // set = [1]\n",
    "myHashSet.add(2) #;      // set = [1, 2]\n",
    "myHashSet.contains(1) #; // return True\n",
    "myHashSet.contains(3) #; // return False, (not found)\n",
    "myHashSet.add(2) #;      // set = [1, 2]\n",
    "myHashSet.contains(2) #; // return True\n",
    "myHashSet.remove(2) #;   // set = [1]\n",
    "myHashSet.contains(2)# ; // return False, (already removed)"
   ]
  },
  {
   "cell_type": "markdown",
   "metadata": {},
   "source": [
    "## Method2"
   ]
  },
  {
   "cell_type": "code",
   "execution_count": 4,
   "metadata": {},
   "outputs": [
    {
     "data": {
      "text/plain": [
       "False"
      ]
     },
     "execution_count": 4,
     "metadata": {},
     "output_type": "execute_result"
    }
   ],
   "source": [
    "class MyHashSet:\n",
    "\n",
    "    def __init__(self):\n",
    "        self.dict = {}\n",
    "    \n",
    "    def add(self, key: int) -> None:\n",
    "        self.dict[key] = 1\n",
    "\n",
    "    def remove(self, key: int) -> None:\n",
    "        self.dict[key] = 0\n",
    "\n",
    "    def contains(self, key: int) -> bool:\n",
    "        val = self.dict.get(key,0)\n",
    "        if val != 0:\n",
    "            return True\n",
    "        else:\n",
    "            return False\n",
    "\n",
    "myHashSet = MyHashSet();\n",
    "myHashSet.add(1) #;      // set = [1]\n",
    "myHashSet.add(2) #;      // set = [1, 2]\n",
    "myHashSet.contains(1) #; // return True\n",
    "myHashSet.contains(3) #; // return False, (not found)\n",
    "myHashSet.add(2) #;      // set = [1, 2]\n",
    "myHashSet.contains(2) #; // return True\n",
    "myHashSet.remove(2) #;   // set = [1]\n",
    "myHashSet.contains(2)# ; // return False, (already removed)"
   ]
  },
  {
   "cell_type": "code",
   "execution_count": 28,
   "metadata": {},
   "outputs": [
    {
     "name": "stdout",
     "output_type": "stream",
     "text": [
      "None\n",
      "==========\n",
      "{1: None, 2: 2, 3: 1}\n",
      "True\n",
      "{1: None, 2: 2, 3: 1}\n"
     ]
    }
   ],
   "source": [
    "dict_temp = {1:1,2:2,3:1}\n",
    "\n",
    "dict_temp[1]=None\n",
    "#del_val = dict_temp[1]\n",
    "del_val = dict_temp.get(1)\n",
    "print(del_val)\n",
    "print(\"=\"*10)\n",
    "print(dict_temp)\n",
    "if 1 in dict_temp:\n",
    "    print(\"True\")\n",
    "else:\n",
    "    print(\"false\")\n",
    "print(dict_temp)"
   ]
  },
  {
   "cell_type": "code",
   "execution_count": 27,
   "metadata": {},
   "outputs": [
    {
     "name": "stdout",
     "output_type": "stream",
     "text": [
      "1 None\n",
      "2 2\n",
      "3 1\n"
     ]
    }
   ],
   "source": [
    "for k,v in dict_temp.items():\n",
    "    print(k,v)"
   ]
  }
 ],
 "metadata": {
  "kernelspec": {
   "display_name": "Python 3.8.6 64-bit ('leetcode_env')",
   "language": "python",
   "name": "python3"
  },
  "language_info": {
   "codemirror_mode": {
    "name": "ipython",
    "version": 3
   },
   "file_extension": ".py",
   "mimetype": "text/x-python",
   "name": "python",
   "nbconvert_exporter": "python",
   "pygments_lexer": "ipython3",
   "version": "3.8.6"
  },
  "orig_nbformat": 4,
  "vscode": {
   "interpreter": {
    "hash": "846fd2d9bb562a436898b7cc368204fc2f9d44e5e9b051b4f6e855e721078f23"
   }
  }
 },
 "nbformat": 4,
 "nbformat_minor": 2
}
