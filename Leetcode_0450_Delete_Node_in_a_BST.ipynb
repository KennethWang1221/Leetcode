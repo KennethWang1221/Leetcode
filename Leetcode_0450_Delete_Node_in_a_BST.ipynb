{
 "cells": [
  {
   "cell_type": "markdown",
   "metadata": {},
   "source": [
    "## Method1 - Recursive\n",
    "https://github.com/youngyangyang04/leetcode-master/blob/master/problems/0450.%E5%88%A0%E9%99%A4%E4%BA%8C%E5%8F%89%E6%90%9C%E7%B4%A2%E6%A0%91%E4%B8%AD%E7%9A%84%E8%8A%82%E7%82%B9.md"
   ]
  },
  {
   "cell_type": "markdown",
   "metadata": {},
   "source": [
    "Need investigate later!"
   ]
  },
  {
   "cell_type": "code",
   "execution_count": 4,
   "metadata": {},
   "outputs": [
    {
     "name": "stdout",
     "output_type": "stream",
     "text": [
      "<__main__.TreeNode object at 0x106b73d90>\n"
     ]
    }
   ],
   "source": [
    "class TreeNode(object):\n",
    "    def __init__(self, x):\n",
    "        if x == None:\n",
    "            self.val = None\n",
    "        else:\n",
    "            self.val = x\n",
    "        self.left = None\n",
    "        self.right = None \n",
    "\n",
    "def deleteNode(root, key):\n",
    "    if not root : return  None # 节点为空，返回\n",
    "    if root.val < key :\n",
    "        root.right = deleteNode(root.right, key)\n",
    "    elif root.val > key :\n",
    "        root.left = deleteNode(root.left, key)\n",
    "    else:\n",
    "        # 当前节点的左子树为空，返回当前的右子树\n",
    "        if not root.left : return root.right\n",
    "        # 当前节点的右子树为空，返回当前的左子树\n",
    "        if not root.right: return root.left\n",
    "        # 左右子树都不为空，找到右孩子的最左节点 记为p\n",
    "        node = root.right\n",
    "        while node.left :\n",
    "            node = node.left\n",
    "        # 将当前节点的左子树挂在p的左孩子上\n",
    "        node.left = root.left\n",
    "        # 当前节点的右子树替换掉当前节点，完成当前节点的删除\n",
    "        root = root.right\n",
    "    return root\n",
    "\n",
    "    \n",
    "    \n",
    "n1 = TreeNode(5)\n",
    "n2 = TreeNode(3)\n",
    "n3 = TreeNode(6)\n",
    "n4 = TreeNode(2)\n",
    "n5 = TreeNode(4)\n",
    "n6 = TreeNode(7)\n",
    "\n",
    "n1.left = n2\n",
    "n1.right = n3\n",
    "n2.left = n4\n",
    "n2.right = n5\n",
    "n3.right = n6\n",
    "\n",
    "res = deleteNode(n1, key=5)\n",
    "print(res)"
   ]
  },
  {
   "cell_type": "code",
   "execution_count": 5,
   "metadata": {},
   "outputs": [
    {
     "name": "stdout",
     "output_type": "stream",
     "text": [
      "\n",
      "    __5\n",
      "   /   \\\n",
      "  3     6\n",
      " / \\     \\\n",
      "2   4     7\n",
      "\n"
     ]
    }
   ],
   "source": [
    "from binarytree import tree, bst, heap, Node\n",
    "n1 = Node(5)\n",
    "n2 = Node(3)\n",
    "n3 = Node(6)\n",
    "n4 = Node(2)\n",
    "n5 = Node(4)\n",
    "n6 = Node(7)\n",
    "\n",
    "n1.left = n2\n",
    "n1.right = n3\n",
    "n2.left = n4\n",
    "n2.right = n5\n",
    "n3.right = n6\n",
    "print(n1)"
   ]
  }
 ],
 "metadata": {
  "kernelspec": {
   "display_name": "Python 3.8.6 64-bit ('leetcode_env')",
   "language": "python",
   "name": "python3"
  },
  "language_info": {
   "codemirror_mode": {
    "name": "ipython",
    "version": 3
   },
   "file_extension": ".py",
   "mimetype": "text/x-python",
   "name": "python",
   "nbconvert_exporter": "python",
   "pygments_lexer": "ipython3",
   "version": "3.8.6"
  },
  "orig_nbformat": 4,
  "vscode": {
   "interpreter": {
    "hash": "846fd2d9bb562a436898b7cc368204fc2f9d44e5e9b051b4f6e855e721078f23"
   }
  }
 },
 "nbformat": 4,
 "nbformat_minor": 2
}
