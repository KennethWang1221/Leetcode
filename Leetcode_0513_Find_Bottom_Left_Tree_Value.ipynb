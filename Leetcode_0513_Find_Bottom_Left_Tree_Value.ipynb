{
 "cells": [
  {
   "cell_type": "markdown",
   "metadata": {},
   "source": [
    "## Method1-Recursive\n",
    "https://github.com/youngyangyang04/leetcode-master/blob/master/problems/0513.%E6%89%BE%E6%A0%91%E5%B7%A6%E4%B8%8B%E8%A7%92%E7%9A%84%E5%80%BC.md"
   ]
  },
  {
   "cell_type": "code",
   "execution_count": 8,
   "metadata": {},
   "outputs": [
    {
     "name": "stdout",
     "output_type": "stream",
     "text": [
      "7\n"
     ]
    }
   ],
   "source": [
    "class TreeNode(object):\n",
    "    def __init__(self, x):\n",
    "        if x == None:\n",
    "            self.val = None\n",
    "        else:\n",
    "            self.val = x\n",
    "        self.left = None\n",
    "        self.right = None \n",
    "\n",
    "\n",
    "# Using Postorder_traversal idea\n",
    "def findBottomLeftValue(root):\n",
    "    max_depth = -float(\"INF\")\n",
    "    leftmost_val = 0\n",
    "\n",
    "    def traverse(root, cur_depth): \n",
    "        nonlocal max_depth, leftmost_val\n",
    "        if not root.left and not root.right: \n",
    "            if cur_depth > max_depth: \n",
    "                max_depth = cur_depth\n",
    "                leftmost_val = root.val  \n",
    "        if root.left: \n",
    "            cur_depth += 1\n",
    "            traverse(root.left, cur_depth)\n",
    "            cur_depth -= 1\n",
    "        if root.right: \n",
    "            cur_depth += 1\n",
    "            traverse(root.right, cur_depth)\n",
    "            cur_depth -= 1\n",
    "\n",
    "    traverse(root, 0)\n",
    "    return leftmost_val\n",
    "\n",
    "n1 = TreeNode(1)\n",
    "n2 = TreeNode(2)\n",
    "n3 = TreeNode(3)\n",
    "n4 = TreeNode(4)\n",
    "n5 = TreeNode(5)\n",
    "n6 = TreeNode(6)\n",
    "n7 = TreeNode(7)\n",
    "\n",
    "n1.left = n2\n",
    "n1.right = n3\n",
    "n2.left = n4\n",
    "n3.left = n5\n",
    "n3.right = n6\n",
    "n5.left = n7\n",
    "\n",
    "res = findBottomLeftValue(n1)\n",
    "print(res)"
   ]
  },
  {
   "cell_type": "markdown",
   "metadata": {},
   "source": [
    "### BFS"
   ]
  },
  {
   "cell_type": "code",
   "execution_count": 5,
   "metadata": {},
   "outputs": [
    {
     "name": "stdout",
     "output_type": "stream",
     "text": [
      "7\n"
     ]
    }
   ],
   "source": [
    "class TreeNode(object):\n",
    "    def __init__(self, x):\n",
    "        if x == None:\n",
    "            self.val = None\n",
    "        else:\n",
    "            self.val = x\n",
    "        self.left = None\n",
    "        self.right = None \n",
    "\n",
    "\n",
    "# Using Postorder_traversal idea\n",
    "def findBottomLeftValue(root):\n",
    "    res = []\n",
    "    if root == None: return \n",
    "    \n",
    "    que = [root]\n",
    "    while que:\n",
    "        level = []\n",
    "        n = len(que)\n",
    "        for i in range(n):\n",
    "            cur = que.pop(0)\n",
    "            if i == 0:\n",
    "                level.append(cur.val)\n",
    "            if cur.left:\n",
    "                que.append(cur.left)\n",
    "            if cur.right:\n",
    "                que.append(cur.right)\n",
    "            \n",
    "        \n",
    "        res.extend(level)\n",
    "    \n",
    "    return res[-1]\n",
    "\n",
    "n1 = TreeNode(1)\n",
    "n2 = TreeNode(2)\n",
    "n3 = TreeNode(3)\n",
    "n4 = TreeNode(4)\n",
    "n5 = TreeNode(5)\n",
    "n6 = TreeNode(6)\n",
    "n7 = TreeNode(7)\n",
    "\n",
    "n1.left = n2\n",
    "n1.right = n3\n",
    "n2.left = n4\n",
    "n3.left = n5\n",
    "n3.right = n6\n",
    "n5.left = n7\n",
    "\n",
    "res = findBottomLeftValue(n1)\n",
    "print(res)"
   ]
  },
  {
   "cell_type": "markdown",
   "metadata": {},
   "source": [
    "## Method3-BFS\n",
    "https://www.youtube.com/watch?v=u_by_cTsNJA"
   ]
  },
  {
   "cell_type": "code",
   "execution_count": 6,
   "metadata": {},
   "outputs": [
    {
     "name": "stdout",
     "output_type": "stream",
     "text": [
      "7\n"
     ]
    }
   ],
   "source": [
    "class TreeNode(object):\n",
    "    def __init__(self, x):\n",
    "        if x == None:\n",
    "            self.val = None\n",
    "        else:\n",
    "            self.val = x\n",
    "        self.left = None\n",
    "        self.right = None \n",
    "\n",
    "\n",
    "# Using Postorder_traversal idea\n",
    "def findBottomLeftValue(root):\n",
    "    res = []\n",
    "    if root == None: return \n",
    "    \n",
    "    que = [root]\n",
    "    while que:\n",
    "        \n",
    "        cur = que.pop(0)\n",
    "        if cur.right:\n",
    "            que.append(cur.right)\n",
    "        if cur.left:\n",
    "            que.append(cur.left)\n",
    "    \n",
    "    return cur.val\n",
    "\n",
    "n1 = TreeNode(1)\n",
    "n2 = TreeNode(2)\n",
    "n3 = TreeNode(3)\n",
    "n4 = TreeNode(4)\n",
    "n5 = TreeNode(5)\n",
    "n6 = TreeNode(6)\n",
    "n7 = TreeNode(7)\n",
    "\n",
    "n1.left = n2\n",
    "n1.right = n3\n",
    "n2.left = n4\n",
    "n3.left = n5\n",
    "n3.right = n6\n",
    "n5.left = n7\n",
    "\n",
    "res = findBottomLeftValue(n1)\n",
    "print(res)"
   ]
  },
  {
   "cell_type": "code",
   "execution_count": 4,
   "metadata": {},
   "outputs": [
    {
     "name": "stdout",
     "output_type": "stream",
     "text": [
      "\n",
      "    1____\n",
      "   /     \\\n",
      "  2       3\n",
      " /       / \\\n",
      "4       5   6\n",
      "       /\n",
      "      7\n",
      "\n"
     ]
    }
   ],
   "source": [
    "from binarytree import tree, bst, heap, Node\n",
    "n1 = Node(1)\n",
    "n2 = Node(2)\n",
    "n3 = Node(3)\n",
    "n4 = Node(4)\n",
    "n5 = Node(5)\n",
    "n6 = Node(6)\n",
    "n7 = Node(7)\n",
    "\n",
    "n1.left = n2\n",
    "n1.right = n3\n",
    "n2.left = n4\n",
    "n3.left = n5\n",
    "n3.right = n6\n",
    "n5.left = n7\n",
    "print(n1)"
   ]
  }
 ],
 "metadata": {
  "kernelspec": {
   "display_name": "Python 3.8.6 64-bit ('leetcode_env')",
   "language": "python",
   "name": "python3"
  },
  "language_info": {
   "codemirror_mode": {
    "name": "ipython",
    "version": 3
   },
   "file_extension": ".py",
   "mimetype": "text/x-python",
   "name": "python",
   "nbconvert_exporter": "python",
   "pygments_lexer": "ipython3",
   "version": "3.8.6"
  },
  "orig_nbformat": 4,
  "vscode": {
   "interpreter": {
    "hash": "846fd2d9bb562a436898b7cc368204fc2f9d44e5e9b051b4f6e855e721078f23"
   }
  }
 },
 "nbformat": 4,
 "nbformat_minor": 2
}
