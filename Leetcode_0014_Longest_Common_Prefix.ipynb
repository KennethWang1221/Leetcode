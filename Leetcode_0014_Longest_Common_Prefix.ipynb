{
 "cells": [
  {
   "cell_type": "code",
   "execution_count": 98,
   "metadata": {},
   "outputs": [
    {
     "name": "stdout",
     "output_type": "stream",
     "text": [
      "fl\n"
     ]
    }
   ],
   "source": [
    "def longestCommonPrefix(strs):\n",
    "    result = \"\"\n",
    "    n = len(strs)\n",
    "    \n",
    "    s_0_len = len(strs[0])\n",
    "    for i in range(s_0_len):\n",
    "        for j in range(n):\n",
    "            s_n = len(strs[j])\n",
    "            #if i == s_n or s[i] != strs[0][i]:\n",
    "            if i == s_n or strs[0][i] != strs[j][i]:\n",
    "                return result\n",
    "            else:\n",
    "                pass\n",
    "\n",
    "        result += strs[0][i]\n",
    "    \n",
    "    return result\n",
    "\n",
    "#strs = [\"flower\",\"flow\",\"flight\"]\n",
    "#strs = [\"flower\",\"fl\", \"flight\"]\n",
    "strs = [\"fl\", \"flower\", \"flight\"]\n",
    "#strs = [\"flower\",\"flower\",\"flower\",\"flower\"] # for i in range(n):\n",
    "#strs = [\"ab\", \"a\"] # if i == s_n or\n",
    "#strs = [\"dog\",\"racecar\",\"car\"]\n",
    "#strs = [\"a\"]\n",
    "#strs = [\"aaa\",\"aa\",\"aaa\"]\n",
    "#strs = [\"caa\",\" \",\"a\",\"acb\"]\n",
    "#strs = [\"\"]\n",
    "result = longestCommonPrefix(strs)\n",
    "print(result)"
   ]
  },
  {
   "cell_type": "code",
   "execution_count": null,
   "metadata": {},
   "outputs": [],
   "source": []
  },
  {
   "cell_type": "markdown",
   "metadata": {},
   "source": [
    "## and or recap"
   ]
  },
  {
   "cell_type": "code",
   "execution_count": 73,
   "metadata": {},
   "outputs": [
    {
     "name": "stdout",
     "output_type": "stream",
     "text": [
      "2!=a\n"
     ]
    }
   ],
   "source": [
    "# https://blog.csdn.net/lqzdreamer/article/details/77171255\n",
    "a = 1\n",
    "b = [1,2,3]\n",
    "#if 2!=a or b[2] > b[3]:\n",
    "if 2!=a or False:\n",
    "    print(\"2!=a\")\n",
    "else:\n",
    "    print(\"false\")"
   ]
  },
  {
   "cell_type": "code",
   "execution_count": 72,
   "metadata": {},
   "outputs": [
    {
     "name": "stdout",
     "output_type": "stream",
     "text": [
      "false\n"
     ]
    }
   ],
   "source": [
    "a = 2\n",
    "b = [1,2,3]\n",
    "#if 2!=a or b[2] > b[3]:\n",
    "if 2!=a or False:\n",
    "    print(\"2!=a\")\n",
    "else:\n",
    "    print(\"false\")"
   ]
  },
  {
   "cell_type": "code",
   "execution_count": 88,
   "metadata": {},
   "outputs": [
    {
     "name": "stdout",
     "output_type": "stream",
     "text": [
      "1\n"
     ]
    }
   ],
   "source": [
    "a = 1\n",
    "b = [1,2,3]\n",
    "#if 2!=a or b[2] > b[3]:\n",
    "if 2==a or a:\n",
    "    print(a)\n",
    "else:\n",
    "    print(\"false\")"
   ]
  },
  {
   "cell_type": "code",
   "execution_count": 90,
   "metadata": {},
   "outputs": [
    {
     "name": "stdout",
     "output_type": "stream",
     "text": [
      "2==a\n"
     ]
    }
   ],
   "source": [
    "a = 2\n",
    "b = [1,2,3]\n",
    "#if 2!=a or b[2] > b[3]:\n",
    "if 2==a or a:\n",
    "    print(\"2==a\")\n",
    "else:\n",
    "    print(\"false\")"
   ]
  },
  {
   "cell_type": "markdown",
   "metadata": {},
   "source": [
    "## wrong version"
   ]
  },
  {
   "cell_type": "code",
   "execution_count": 84,
   "metadata": {},
   "outputs": [
    {
     "name": "stdout",
     "output_type": "stream",
     "text": [
      "true\n",
      "true\n",
      "true\n",
      "true\n",
      "ab\n"
     ]
    }
   ],
   "source": [
    "def longestCommonPrefix(strs):\n",
    "    result = ''\n",
    "    n = len(strs)\n",
    "    s_0 = len(strs[0])\n",
    "    for i in range(s_0):\n",
    "        for j in range(n):\n",
    "            s_n = len(strs[j])\n",
    "            if i == s_n or strs[0][i] == strs[j][i]:\n",
    "                print(\"true\")\n",
    "            else:\n",
    "                return result\n",
    "        result +=strs[0][i]\n",
    "\n",
    "    return result\n",
    "strs = [\"flower\",\"fl\", \"flight\"]\n",
    "strs = [\"ab\", \"a\"]\n",
    "result = longestCommonPrefix(strs)\n",
    "print(result)"
   ]
  },
  {
   "cell_type": "code",
   "execution_count": 40,
   "metadata": {},
   "outputs": [
    {
     "name": "stdout",
     "output_type": "stream",
     "text": [
      "\n"
     ]
    }
   ],
   "source": [
    "def longestCommonPrefix(strs):\n",
    "    result = []\n",
    "    n = len(strs)\n",
    "\n",
    "    if n<=1: # for #strs = [\"a\"]\n",
    "        return \"\".join(strs)\n",
    "\n",
    "    prefix = ''\n",
    "    for i in range(n):\n",
    "        j = 0\n",
    "        result = [] # for strs = [\"dog\",\"racecar\",\"car\"]\n",
    "\n",
    "        if prefix == '':\n",
    "            while j<len(strs[i]):\n",
    "                prefix += strs[i][j]\n",
    "                \n",
    "                j+=1\n",
    "        else:\n",
    "            while j < len(strs[i]) and j < len(prefix): # j<len(prefix) for strs = [\"aaa\",\"aa\",\"aaa\"]\n",
    "                if strs[i][j] == prefix[j]:\n",
    "                    result += strs[i][j]\n",
    "                else:\n",
    "                    break\n",
    "                j+=1\n",
    "            else:\n",
    "                return \"\"\n",
    "            prefix = \"\".join(result)\n",
    "            \n",
    "    \n",
    "    return \"\".join(result)\n",
    "\n",
    "strs = [\"flower\",\"flow\",\"flight\"]\n",
    "#strs = [\"dog\",\"racecar\",\"car\"]\n",
    "#strs = [\"a\"]\n",
    "strs = [\"aaa\",\"aa\",\"aaa\"]\n",
    "#strs = [\"caa\",\" \",\"a\",\"acb\"]\n",
    "result = longestCommonPrefix(strs)\n",
    "print(result)"
   ]
  },
  {
   "cell_type": "markdown",
   "metadata": {},
   "source": [
    "## int value in list to string"
   ]
  },
  {
   "cell_type": "code",
   "execution_count": null,
   "metadata": {},
   "outputs": [],
   "source": [
    "a = [123,234]\n",
    "print(type(a))\n",
    "print(type(a[0]))\n",
    "s=[]\n",
    "for i in range(len(a)):\n",
    "    s.append(str(a[i]))\n",
    "print(s)\n",
    "print(type(s))\n",
    "print(type(s[0]))\n",
    "\n",
    "print('====')\n",
    "\n",
    "a = [123,234]\n",
    "s=[]\n",
    "for i in range(len(a)):\n",
    "    s.append(\"\".join(str(a[i])))\n",
    "print(s)\n"
   ]
  },
  {
   "cell_type": "code",
   "execution_count": null,
   "metadata": {},
   "outputs": [],
   "source": [
    "#https://www.techiedelight.com/zh/convert-list-to-string-python/\n",
    "\n",
    "# 在可迭代中连接字符串的首选且快速的方法是使用 str.join() 功能\n",
    "chars = ['1', '2', '3'] \n",
    "s = ''.join(chars) \n",
    "print(s)\n",
    "\n",
    "print(\"====\")\n",
    "# 使用生成器表达式\n",
    "\n",
    "nums = [1, 2, 3] \n",
    "s = ''.join(str(x) for x in nums)\n",
    "print(s)\n",
    "\n",
    "print(\"====\")\n",
    "# 使用 map() 功能\n",
    "nums = [1, 2, 3] \n",
    "temp = map(str, nums)\n",
    "print(temp)\n",
    "s = ''.join(temp)\n",
    "print(s)"
   ]
  },
  {
   "cell_type": "code",
   "execution_count": null,
   "metadata": {},
   "outputs": [],
   "source": [
    "# map function: https://www.runoob.com/python3/python3-func-map.html\n",
    "\n",
    "def square(x) :         # 计算平方数\n",
    "    return x ** 2\n",
    "    \n",
    "results = map(square, [1,2,3,4,5])\n",
    "print(results)\n",
    "results = list(results)\n",
    "print(results)\n",
    "print(\"====\")\n",
    "results = list(map(lambda x: x ** 2, [1, 2, 3, 4, 5]))\n",
    "print(results)"
   ]
  },
  {
   "cell_type": "markdown",
   "metadata": {},
   "source": [
    "## string value in list to int"
   ]
  },
  {
   "cell_type": "code",
   "execution_count": null,
   "metadata": {},
   "outputs": [],
   "source": [
    "a = '123'\n",
    "print(a)\n",
    "print(type(a))\n",
    "print(type(a[0]))\n",
    "print(\"====\")\n",
    "s = a.split()\n",
    "print(s)\n",
    "print(type(s))\n",
    "print(type(s[0]))"
   ]
  },
  {
   "cell_type": "code",
   "execution_count": null,
   "metadata": {},
   "outputs": [],
   "source": [
    "a = '123'\n",
    "print(a)\n",
    "print(type(a))\n",
    "print(type(a[0]))\n",
    "print(\"====\")\n",
    "s = []\n",
    "for i in range(len(a)):\n",
    "    s.append(a[i])\n",
    "print(s)"
   ]
  },
  {
   "cell_type": "code",
   "execution_count": null,
   "metadata": {},
   "outputs": [],
   "source": [
    "# https://blog.csdn.net/u010412858/article/details/72084936\n",
    "results = [\"1\",\"2\",\"3\"]\n",
    "results = map(int, results)\n",
    "print(results)\n",
    "results = list(results)\n",
    "#results = list(map(int, results))\n",
    "print(results)"
   ]
  },
  {
   "cell_type": "code",
   "execution_count": null,
   "metadata": {},
   "outputs": [],
   "source": [
    "results = [\"1\",\"2\",\"3\"]\n",
    "print(type(results))\n",
    "print(type(results[0]))\n",
    "s = []\n",
    "for i in range(len(results)):\n",
    "    s.append(int(results[i]))\n",
    "print(s)\n",
    "print(type(s))\n",
    "print(type(s[0]))"
   ]
  },
  {
   "cell_type": "markdown",
   "metadata": {},
   "source": [
    "## join function recap"
   ]
  },
  {
   "cell_type": "code",
   "execution_count": null,
   "metadata": {},
   "outputs": [],
   "source": [
    "# https://blog.csdn.net/ruanxuan/article/details/117336128\n",
    "a = [123]\n",
    "#s = str(a)\n",
    "s = \"-\".join(a[0])\n",
    "#s = str(a)\n",
    "print(s)\n",
    "for i in range(len(s)):\n",
    "    print(i,s[i])"
   ]
  },
  {
   "cell_type": "code",
   "execution_count": null,
   "metadata": {},
   "outputs": [],
   "source": [
    "a = [123]\n",
    "#s = str(a)\n",
    "s = \"-\".join(a)\n",
    "#s = str(a)\n",
    "print(s)\n",
    "for i in range(len(s)):\n",
    "    print(i,s[i])"
   ]
  },
  {
   "cell_type": "code",
   "execution_count": null,
   "metadata": {},
   "outputs": [],
   "source": []
  },
  {
   "cell_type": "code",
   "execution_count": null,
   "metadata": {},
   "outputs": [],
   "source": [
    "a = [123,234]\n",
    "print(type(a))\n",
    "print(type(a[0]))\n",
    "s = str(a)\n",
    "print(s)\n",
    "print(type(s))\n",
    "print(type(s[0]))\n",
    "s = \"-\".join(s)\n",
    "#s = str(a)\n",
    "print(s)\n",
    "for i in range(len(s)):\n",
    "    print(i,s[i])"
   ]
  },
  {
   "cell_type": "markdown",
   "metadata": {},
   "source": [
    "## sort string recap"
   ]
  },
  {
   "cell_type": "code",
   "execution_count": null,
   "metadata": {},
   "outputs": [],
   "source": [
    "string = 'daibahgk'\n",
    "li = list(string) # 将字符串转换为列表['d', 'a', 'i', 'b', 'a', 'h', 'g', 'k']\n",
    "print(li)\n",
    "li.sort()     # 对列表里的字母进行排序\n",
    "print(li)\n",
    "print(type(li))\n",
    "print(type(li[0]))\n",
    "new_string = \"\".join(li)\n",
    "print(\"===\")\n",
    "print(new_string)\n",
    "print(type(new_string))\n",
    "print(type(new_string[0]))\n",
    "for i in range(len(new_string)):\n",
    "    print(i,new_string[i])"
   ]
  },
  {
   "cell_type": "code",
   "execution_count": null,
   "metadata": {},
   "outputs": [],
   "source": [
    "string = 'daibahgk'\n",
    "li = list(string) # 将字符串转换为列表['d', 'a', 'i', 'b', 'a', 'h', 'g', 'k']\n",
    "print(li)\n",
    "li.sort()     # 对列表里的字母进行排序\n",
    "print(li)\n",
    "print(type(li))\n",
    "print(type(li[0]))\n",
    "#new_string = \"\".join(li)\n",
    "new_string = str(li)\n",
    "print(\"===\")\n",
    "print(type(new_string))\n",
    "print(type(new_string[0]))\n",
    "print(new_string)\n",
    "\n",
    "for i in range(len(new_string)):\n",
    "    print(i,new_string[i])"
   ]
  }
 ],
 "metadata": {
  "kernelspec": {
   "display_name": "Python 3.8.6 64-bit ('leetcode_env')",
   "language": "python",
   "name": "python3"
  },
  "language_info": {
   "codemirror_mode": {
    "name": "ipython",
    "version": 3
   },
   "file_extension": ".py",
   "mimetype": "text/x-python",
   "name": "python",
   "nbconvert_exporter": "python",
   "pygments_lexer": "ipython3",
   "version": "3.8.6"
  },
  "orig_nbformat": 4,
  "vscode": {
   "interpreter": {
    "hash": "846fd2d9bb562a436898b7cc368204fc2f9d44e5e9b051b4f6e855e721078f23"
   }
  }
 },
 "nbformat": 4,
 "nbformat_minor": 2
}
