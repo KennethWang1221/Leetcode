{
 "cells": [
  {
   "cell_type": "code",
   "execution_count": 1,
   "metadata": {},
   "outputs": [
    {
     "name": "stdout",
     "output_type": "stream",
     "text": [
      "2\n",
      "1\n",
      "4\n",
      "3\n"
     ]
    }
   ],
   "source": [
    "\n",
    "\"\"\"\n",
    "https://blog.csdn.net/L141210113/article/details/88244219\n",
    "https://www.bilibili.com/video/BV1M7411n7FT?from=search&seid=12007467884250115736\n",
    "https://www.bilibili.com/video/BV17x411m7ih?from=search&seid=11407142005056876497\n",
    "https://www.bilibili.com/video/BV1VC4y1s75E?from=search&seid=11407142005056876497\n",
    "\"\"\"\n",
    "def print_ListNode(head):\n",
    "    while (True):\n",
    "        print(head.val)\n",
    "        if head.next is not None:\n",
    "            head = head.next\n",
    "        else:\n",
    "            break\n",
    "\n",
    "class ListNode:\n",
    "    def __init__(self, x):\n",
    "        self.val = x\n",
    "        self.next = None\n",
    "\n",
    "list_node1_1 = ListNode(1)\n",
    "list_node1_2 = ListNode(2)\n",
    "list_node1_3 = ListNode(3)\n",
    "list_node1_4 = ListNode(4)\n",
    "list_node1_1.next = list_node1_2\n",
    "list_node1_2.next = list_node1_3\n",
    "list_node1_3.next = list_node1_4\n",
    "\n",
    "class Solution:\n",
    "    def swapPairs(self, head):\n",
    "        \"\"\"\n",
    "        This algorithm use: \n",
    "        1. dummy+ pre+ cur+ future\n",
    "        2. while-loop as the control statement\n",
    "        3. all of the linkedlist problems do not have index, we should use Node.next to indicate related steps. Thus, that is the reason why most of LinkedList problems use while-loop to control loop cause it doesn't have 'for i in range(len(x))'\n",
    "        \"\"\"\n",
    "\n",
    "        dummy = ListNode(0) # First, we should create dummy node. This is the most operation to handle Linked List problem\n",
    "        dummy.next = head # This operation can allow dummy to linked LinkedList. This code is used for creating the relation between artificially created dummy node and the head of Linked List \n",
    "        pre = dummy # This is also a common operation. pre/ curr/ future, these three nodes usually used to point three nodes in Linked List\n",
    "        \n",
    "        \"\"\"\n",
    "        While-loop is the most condition/expression in LinkedList problem. Cause, in the LinkedList, there isn't index to indicate the node. We can not use 'for i in range(xx)' to control the statement. But the node of LinkedList has the next which can indicate whether the next of this is code belongs to next node or NULL. If the next is value, we continue to do while-loop but if the next is NULL that's mean we have already finished the loop or this current situation don't statisfy while-loop so we should end while-loop\n",
    "        'pre.next is Not None' means this linked list dosn't contain any node which is '[]'. And 'pre.next.next' means this LinkedList just contain one node '[1]'. Both tow sitiuations needn't enter into while-loop, becuase either [] or [1] do not have enough nodes to swap. Therefore, when we encounter this two situations, the while-loop will be ended. \n",
    "        \"\"\"\n",
    "        while pre.next is not None and pre.next.next is not None: # \n",
    "          \n",
    "\n",
    "            cur = pre.next \n",
    "            future = cur.next # define two nodes. cur/ future. Unlike array problems, LInkedList can not use index such as a=array[i] j=array[i+1]. We should use Node.next to define nodes\n",
    "\n",
    "            \"\"\"\n",
    "            these three codes aims to change the 'next' field.\n",
    "            these are main codes in this algorithem. You should \n",
    "            write it down and to understand them \n",
    "            \"\"\"\n",
    "            pre.next = cur.next  # step 1\n",
    "            cur.next = future.next # step 2\n",
    "            future.next = cur # step 3 \n",
    "\n",
    "            pre = pre.next.next # In each while-loop, we perform swap operation on three nodes. Thus, as for next loop, we should specific define the position of pre node. In this case, pre should go to next next position from dummy node to '2'\n",
    "        return dummy.next # It should return dummy.next. Because, the dummy.next always as a leader of this list. It can link the head node and head node can link all subsequently lists. So if we return dummy.next (dummy.next=head), algorithem can return the whole list.\n",
    "\n",
    "\n",
    "s1 = Solution()\n",
    "result = s1.swapPairs(list_node1_1)\n",
    "print_ListNode(result) \n"
   ]
  }
 ],
 "metadata": {
  "interpreter": {
   "hash": "846fd2d9bb562a436898b7cc368204fc2f9d44e5e9b051b4f6e855e721078f23"
  },
  "kernelspec": {
   "display_name": "Python 3.8.6 64-bit ('leetcode_env': conda)",
   "language": "python",
   "name": "python3"
  },
  "language_info": {
   "codemirror_mode": {
    "name": "ipython",
    "version": 3
   },
   "file_extension": ".py",
   "mimetype": "text/x-python",
   "name": "python",
   "nbconvert_exporter": "python",
   "pygments_lexer": "ipython3",
   "version": "3.8.6"
  },
  "orig_nbformat": 4
 },
 "nbformat": 4,
 "nbformat_minor": 2
}
