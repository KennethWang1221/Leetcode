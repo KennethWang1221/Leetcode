{
 "cells": [
  {
   "cell_type": "code",
   "execution_count": 1,
   "metadata": {},
   "outputs": [
    {
     "name": "stdout",
     "output_type": "stream",
     "text": [
      "[[1, 2], [3, 10], [12, 16]]\n"
     ]
    }
   ],
   "source": [
    "# we also can use for i in range(n) to go through intervals list\n",
    "def insert(intervals, newInterval):\n",
    "    result = []\n",
    "    intervals.append(newInterval)\n",
    "    intervals.sort(key=lambda x: x[0])\n",
    "    n = len(intervals)\n",
    "    i = 0\n",
    "    for i in range(n):\n",
    "        cur_start = intervals[i][0]\n",
    "        cur_end = intervals[i][1]\n",
    "\n",
    "        if result == []:\n",
    "            result.append(intervals[i])\n",
    "            prev_start, prev_end = result[-1][0], result[-1][1]\n",
    "        else:\n",
    "            prev_start, prev_end = result[-1][0], result[-1][1]\n",
    "\n",
    "            if prev_end < cur_start:\n",
    "                    result.append(intervals[i])\n",
    "            else:\n",
    "                maxVal = max(prev_end,cur_end)\n",
    "                result[-1][1] = maxVal\n",
    "    return result\n",
    "\n",
    "intervals = [[1,2],[3,5],[6,7],[8,10],[12,16]]\n",
    "newInterval = [4,8]\n",
    "\n",
    "output = insert(intervals, newInterval)\n",
    "print(output)"
   ]
  },
  {
   "cell_type": "code",
   "execution_count": 2,
   "metadata": {},
   "outputs": [
    {
     "name": "stdout",
     "output_type": "stream",
     "text": [
      "[[1, 2], [3, 10], [12, 16]]\n"
     ]
    }
   ],
   "source": [
    "def insert(intervals, newInterval):\n",
    "    result = []\n",
    "    intervals.append(newInterval)\n",
    "    intervals.sort(key=lambda x: x[0])\n",
    "    n = len(intervals)\n",
    "    i = 0\n",
    "    while i< n:\n",
    "        cur_start = intervals[i][0]\n",
    "        cur_end = intervals[i][1]\n",
    "\n",
    "        if result:\n",
    "            prev_start, prev_end = result[-1]\n",
    "\n",
    "            if prev_end < cur_start:\n",
    "                    result.append(intervals[i])\n",
    "            else:\n",
    "                result[-1][1] = max(prev_end,cur_end)\n",
    "        else:\n",
    "            result.append(intervals[i])\n",
    "        i+=1\n",
    "    return result\n",
    "\n",
    "intervals = [[1,2],[3,5],[6,7],[8,10],[12,16]]\n",
    "newInterval = [4,8]\n",
    "\n",
    "output = insert(intervals, newInterval)\n",
    "print(output)"
   ]
  },
  {
   "cell_type": "code",
   "execution_count": 3,
   "metadata": {},
   "outputs": [
    {
     "name": "stdout",
     "output_type": "stream",
     "text": [
      "[[1, 3], [15, 18], [8, 10], [2, 6]]\n",
      "[[1, 3], [2, 6], [8, 10], [15, 18]]\n",
      "15 18\n",
      "15 18\n"
     ]
    }
   ],
   "source": [
    "intervals = [[1,3],[15,18],[8,10],[2,6]]\n",
    "print(intervals)\n",
    "intervals.sort(key=lambda x: x[0])\n",
    "print(intervals)\n",
    "\n",
    "prev_start, prev_end = intervals[-1][0],intervals[-1][1]\n",
    "print(prev_start,prev_end)\n",
    "\n",
    "prev_start, prev_end = intervals[-1]\n",
    "print(prev_start,prev_end)"
   ]
  }
 ],
 "metadata": {
  "kernelspec": {
   "display_name": "Python 3.8.6 64-bit ('leetcode_env')",
   "language": "python",
   "name": "python3"
  },
  "language_info": {
   "codemirror_mode": {
    "name": "ipython",
    "version": 3
   },
   "file_extension": ".py",
   "mimetype": "text/x-python",
   "name": "python",
   "nbconvert_exporter": "python",
   "pygments_lexer": "ipython3",
   "version": "3.8.6"
  },
  "orig_nbformat": 4,
  "vscode": {
   "interpreter": {
    "hash": "846fd2d9bb562a436898b7cc368204fc2f9d44e5e9b051b4f6e855e721078f23"
   }
  }
 },
 "nbformat": 4,
 "nbformat_minor": 2
}
