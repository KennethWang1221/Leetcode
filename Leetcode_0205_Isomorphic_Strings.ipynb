{
 "cells": [
  {
   "cell_type": "code",
   "execution_count": 17,
   "metadata": {},
   "outputs": [
    {
     "name": "stdout",
     "output_type": "stream",
     "text": [
      "False\n"
     ]
    }
   ],
   "source": [
    "def isIsomorphic(s, t):\n",
    "    mapST = {}\n",
    "    mapTS = {}\n",
    "    \n",
    "    for c1, c2 in zip(s, t):\n",
    "        if (c1 in mapST and mapST[c1] != c2) or (c2 in mapTS and mapTS[c2] != c1) :\n",
    "            return False\n",
    "        mapST[c1] = c2\n",
    "        mapTS[c2] = c1\n",
    "\n",
    "    return True\n",
    "\n",
    "\"\"\"\n",
    "mapST = {b:f, a:o, r:o}\n",
    "mapTS = {f:b, o:a, o:r}\n",
    "\"\"\"\n",
    "\n",
    "s = \"foo\"\n",
    "t = \"bar\"\n",
    "s = \"bar\"\n",
    "t = \"foo\"\n",
    "#s = \"bbbaaaba\"\n",
    "#t = \"aaabbbba\"\n",
    "res = isIsomorphic(s, t)\n",
    "print(res)"
   ]
  },
  {
   "cell_type": "markdown",
   "metadata": {},
   "source": [
    "## Recap zip"
   ]
  },
  {
   "cell_type": "code",
   "execution_count": 7,
   "metadata": {},
   "outputs": [
    {
     "name": "stdout",
     "output_type": "stream",
     "text": [
      "b <class 'str'>\n",
      "a <class 'str'>\n",
      "r <class 'str'>\n",
      "b <class 'str'> f <class 'str'>\n",
      "a <class 'str'> o <class 'str'>\n",
      "r <class 'str'> o <class 'str'>\n",
      "('b', 'f') <class 'tuple'> b <class 'str'> f <class 'str'>\n",
      "('a', 'o') <class 'tuple'> a <class 'str'> o <class 'str'>\n",
      "('r', 'o') <class 'tuple'> r <class 'str'> o <class 'str'>\n"
     ]
    }
   ],
   "source": [
    "s = \"bar\"\n",
    "t = \"foo\"\n",
    "\n",
    "for i in range(len(s)):\n",
    "    print(s[i], type(s[i]))\n",
    "\n",
    "for s1, t1 in zip(s, t):\n",
    "    print(s1, type(s1), t1, type(t1))\n",
    "\n",
    "for zipped in zip(s, t):\n",
    "    print(zipped, type(zipped), zipped[0], type(zipped[0]), zipped[1], type(zipped[1]))"
   ]
  }
 ],
 "metadata": {
  "kernelspec": {
   "display_name": "Python 3.8.6 64-bit ('leetcode_env')",
   "language": "python",
   "name": "python3"
  },
  "language_info": {
   "codemirror_mode": {
    "name": "ipython",
    "version": 3
   },
   "file_extension": ".py",
   "mimetype": "text/x-python",
   "name": "python",
   "nbconvert_exporter": "python",
   "pygments_lexer": "ipython3",
   "version": "3.8.6"
  },
  "orig_nbformat": 4,
  "vscode": {
   "interpreter": {
    "hash": "846fd2d9bb562a436898b7cc368204fc2f9d44e5e9b051b4f6e855e721078f23"
   }
  }
 },
 "nbformat": 4,
 "nbformat_minor": 2
}
