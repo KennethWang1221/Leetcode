{
 "cells": [
  {
   "cell_type": "markdown",
   "metadata": {},
   "source": [
    "## Method1 - Backtracking - Recap\n",
    "\n",
    "Same idea to 0077, 0216, 0017, 0039, 0040, 0131, 0093, 0078\n",
    "\n",
    "https://www.youtube.com/watch?v=61tN4YEdiTM"
   ]
  },
  {
   "cell_type": "code",
   "execution_count": 9,
   "metadata": {},
   "outputs": [
    {
     "name": "stdout",
     "output_type": "stream",
     "text": [
      "['1.0.10.23', '1.0.102.3', '10.1.0.23', '10.10.2.3', '101.0.2.3']\n"
     ]
    }
   ],
   "source": [
    "def restoreIpAddresses(s):\n",
    "    \"\"\"\n",
    "    256 choices for each of the spots BUT...\n",
    "    the order of s stays same,\n",
    "    we just place the \".\" in between\n",
    "    \"\"\"\n",
    "    res = []\n",
    "    n = len(s)\n",
    "    if n > 12:\n",
    "        return res\n",
    "\n",
    "    def backtracking(start, comb, dots):\n",
    "        if dots == 4 and start == n:\n",
    "            res.append(comb[:-1])\n",
    "            return \n",
    "        if dots > 4:\n",
    "            return \n",
    "\n",
    "        for end in range(start, min(start+3, n)):\n",
    "            if int(s[start:end+1]) <= 255 and (start == end or s[start]!='0'):\n",
    "                backtracking(end+1, comb + s[start:end+1] + \".\" ,dots+1)\n",
    "    backtracking(start=0, comb=\"\", dots=0) \n",
    "    return res\n",
    "\n",
    "s = \"101023\"\n",
    "print(restoreIpAddresses(s))"
   ]
  },
  {
   "cell_type": "markdown",
   "metadata": {},
   "source": [
    "## Method2 - Backtracking - Recap\n",
    "https://github.com/youngyangyang04/leetcode-master/blob/master/problems/0093.%E5%A4%8D%E5%8E%9FIP%E5%9C%B0%E5%9D%80.md"
   ]
  },
  {
   "cell_type": "code",
   "execution_count": 5,
   "metadata": {},
   "outputs": [
    {
     "name": "stdout",
     "output_type": "stream",
     "text": [
      "['1.0.10.23', '1.0.102.3', '10.1.0.23', '10.10.2.3', '101.0.2.3']\n"
     ]
    }
   ],
   "source": [
    "def restoreIpAddresses(s):\n",
    "\n",
    "    def is_valid(s, start, end):\n",
    "        if start > end:\n",
    "            return False\n",
    "        if s[start] == '0' and start != end:  # 0开头的数字不合法\n",
    "            return False\n",
    "        if int(s[start:end+1]) > 255:\n",
    "            return False\n",
    "        return True \n",
    "    \n",
    "    def backtracking(s, start, comb, res):\n",
    "        if start == n and len(comb) == 4:\n",
    "            res.append('.'.join(comb))\n",
    "            return\n",
    "\n",
    "        if len(comb) > 4:  # 剪枝\n",
    "            return\n",
    "\n",
    "        for i in range(start, min(start + 3, n)):\n",
    "            if is_valid(s, start, i):\n",
    "                comb.append(s[start:i+1])\n",
    "                backtracking(s, i+1, comb, res)\n",
    "                comb.pop() \n",
    "    res = []\n",
    "    n = len(s)\n",
    "    backtracking(s, 0, [], res)\n",
    "    return res\n",
    "\n",
    "s = \"101023\"\n",
    "print(restoreIpAddresses(s))"
   ]
  }
 ],
 "metadata": {
  "kernelspec": {
   "display_name": "leetcode_env",
   "language": "python",
   "name": "leetcode_env"
  },
  "language_info": {
   "codemirror_mode": {
    "name": "ipython",
    "version": 3
   },
   "file_extension": ".py",
   "mimetype": "text/x-python",
   "name": "python",
   "nbconvert_exporter": "python",
   "pygments_lexer": "ipython3",
   "version": "3.8.6"
  }
 },
 "nbformat": 4,
 "nbformat_minor": 2
}
