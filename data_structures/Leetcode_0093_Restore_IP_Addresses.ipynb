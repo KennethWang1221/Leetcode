{
 "cells": [
  {
   "cell_type": "markdown",
   "metadata": {},
   "source": [
    "## Method1 - Backtracking\n",
    "https://www.youtube.com/watch?v=61tN4YEdiTM"
   ]
  },
  {
   "cell_type": "code",
   "execution_count": 6,
   "metadata": {},
   "outputs": [
    {
     "name": "stdout",
     "output_type": "stream",
     "text": [
      "['255.255.11.135', '255.255.111.35']\n"
     ]
    }
   ],
   "source": [
    "def restoreIpAddresses(s):\n",
    "    \"\"\"\n",
    "    256 choices for each of the spots BUT...\n",
    "    the order of s stays same,\n",
    "    we just place the \".\" in between\n",
    "    \"\"\"\n",
    "    res = []\n",
    "\n",
    "    if len(s) > 12:\n",
    "        return res\n",
    "\n",
    "    def backtrack(i, dots, curIP):\n",
    "        if dots == 4 and i == len(s):\n",
    "            res.append(curIP[:-1])\n",
    "            return \n",
    "        if dots > 4: \n",
    "            return \n",
    "        \n",
    "        for j in range(i, min(i + 3, len(s))):\n",
    "            if int(s[i:j+1]) < 256 and (i == j or s[i] != \"0\"):\n",
    "                backtrack(j+1, dots + 1, curIP + s[i:j+1] + \".\")\n",
    "    backtrack(0, 0, \"\")\n",
    "    return res\n",
    "\n",
    "s = \"25525511135\"\n",
    "print(restoreIpAddresses(s))"
   ]
  },
  {
   "cell_type": "markdown",
   "metadata": {},
   "source": [
    "## Method2 - Backtracking\n",
    "https://github.com/youngyangyang04/leetcode-master/blob/master/problems/0093.%E5%A4%8D%E5%8E%9FIP%E5%9C%B0%E5%9D%80.md"
   ]
  },
  {
   "cell_type": "code",
   "execution_count": 8,
   "metadata": {},
   "outputs": [
    {
     "name": "stdout",
     "output_type": "stream",
     "text": [
      "['255.255.11.135', '255.255.111.35']\n"
     ]
    }
   ],
   "source": [
    "def restoreIpAddresses(s):\n",
    "    def backtracking(s, start_index, point_num, current, result):\n",
    "        if point_num == 3:  # 逗点数量为3时，分隔结束\n",
    "            if is_valid(s, start_index, len(s) - 1):  # 判断第四段子字符串是否合法\n",
    "                current += s[start_index:]  # 添加最后一段子字符串\n",
    "                result.append(current)\n",
    "            return\n",
    "\n",
    "        for i in range(start_index, len(s)):\n",
    "            if is_valid(s, start_index, i):  # 判断 [start_index, i] 这个区间的子串是否合法\n",
    "                sub = s[start_index:i + 1]\n",
    "                backtracking(s, i + 1, point_num + 1, current + sub + '.', result)\n",
    "            else:\n",
    "                break\n",
    "\n",
    "    def is_valid(s, start, end):\n",
    "        if start > end:\n",
    "            return False\n",
    "        if s[start] == '0' and start != end:  # 0开头的数字不合法\n",
    "            return False\n",
    "        num = 0\n",
    "        for i in range(start, end + 1):\n",
    "            if not s[i].isdigit():  # 遇到非数字字符不合法\n",
    "                return False\n",
    "            num = num * 10 + int(s[i])\n",
    "            if num > 255:  # 如果大于255了不合法\n",
    "                return False\n",
    "        return True\n",
    "    result = []\n",
    "    backtracking(s, 0, 0, \"\", result)\n",
    "    return result\n",
    "\n",
    "s = \"25525511135\"\n",
    "print(restoreIpAddresses(s))"
   ]
  },
  {
   "cell_type": "code",
   "execution_count": 7,
   "metadata": {},
   "outputs": [
    {
     "name": "stdout",
     "output_type": "stream",
     "text": [
      "['255.255.11.135', '255.255.111.35']\n"
     ]
    }
   ],
   "source": [
    "def restoreIpAddresses(s):\n",
    "    def backtracking(s, index, path, results):\n",
    "        if index == len(s) and len(path) == 4:\n",
    "            results.append('.'.join(path))\n",
    "            return\n",
    "\n",
    "        if len(path) > 4:  # 剪枝\n",
    "            return\n",
    "\n",
    "        for i in range(index, min(index + 3, len(s))):\n",
    "            if is_valid(s, index, i):\n",
    "                sub = s[index:i+1]\n",
    "                path.append(sub)\n",
    "                backtracking(s, i+1, path, results)\n",
    "                path.pop()\n",
    "\n",
    "    def is_valid(s, start, end):\n",
    "        if start > end:\n",
    "            return False\n",
    "        if s[start] == '0' and start != end:  # 0开头的数字不合法\n",
    "            return False\n",
    "        num = int(s[start:end+1])\n",
    "        return 0 <= num <= 255    \n",
    "    results = []\n",
    "    backtracking(s, 0, [], results)\n",
    "    return results\n",
    "\n",
    "s = \"25525511135\"\n",
    "print(restoreIpAddresses(s))"
   ]
  }
 ],
 "metadata": {
  "kernelspec": {
   "display_name": "leetcode_env",
   "language": "python",
   "name": "leetcode_env"
  },
  "language_info": {
   "codemirror_mode": {
    "name": "ipython",
    "version": 3
   },
   "file_extension": ".py",
   "mimetype": "text/x-python",
   "name": "python",
   "nbconvert_exporter": "python",
   "pygments_lexer": "ipython3",
   "version": "3.8.6"
  }
 },
 "nbformat": 4,
 "nbformat_minor": 2
}
