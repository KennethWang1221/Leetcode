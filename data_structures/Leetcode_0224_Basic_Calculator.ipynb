{
 "cells": [
  {
   "cell_type": "markdown",
   "metadata": {},
   "source": [
    "## Method1 - Stack\n",
    "https://leetcode.com/problems/basic-calculator/solutions/546092/simple-python-solution-using-stack-with-explanation-inline/?envType=study-plan-v2&envId=top-interview-150"
   ]
  },
  {
   "cell_type": "code",
   "execution_count": 4,
   "metadata": {},
   "outputs": [
    {
     "name": "stdout",
     "output_type": "stream",
     "text": [
      "23\n"
     ]
    }
   ],
   "source": [
    "def calculate(s) -> int:\n",
    "    \"\"\"\n",
    "    1. Take 3 containers:\n",
    "    num -> to store current num value only\n",
    "    sign -> to store sign value, initially +1\n",
    "    res -> to store sum\n",
    "    When ( comes these containers used for calculate sum of intergers within () brackets.\n",
    "    --------------------\n",
    "    2. When c is + or -\n",
    "    Move num to res, because we need to empty num for next integer value.\n",
    "    set num = 0\n",
    "    sign = update with c\n",
    "    --------------------\n",
    "    3. When c is '('\n",
    "    Here, we need num, res, sign to calculate sum of integers within ()\n",
    "    So, move num and sign to stack => [num, sign]\n",
    "    Now reset - res = 0, num = 0, sign = 1 (default)\n",
    "    --------------------\n",
    "    4. When c is ')' -> 2-(3+4), Here res=3, num=4, sign=1 stack [2, -] \n",
    "    res +=sign*num -> calculate sum for num first, then pop items from stack, res=7\n",
    "    res *=stack.pop() - > Pop sign(+ or -) to multiply with res, res = 7*(-1)\n",
    "    res +=stack.pop() - > Pop integer and add with prev. sum, res = -7 + 2 - 5\n",
    "    --------------------\n",
    "    Simple Example: 2 - 3\n",
    "    Initially res will have 2,i.e. res = 2\n",
    "    then store '-' in sign. it will be used when 3 comes. ie. sign = -1\n",
    "    Now 3 comes => res = res + num*sign\n",
    "    Return statement: res+num*sign => res = 2 + 3(-1) = 2 - 3 = -1\n",
    "    \"\"\"\n",
    "    num = 0\n",
    "    sign = 1\n",
    "    res = 0\n",
    "    stack = []\n",
    "    for i in range(len(s)): # iterate till last character\n",
    "        c = s[i]\n",
    "        if c.isdigit(): # process if there is digit\n",
    "            num = num*10 + int(c) # for consecutive digits 98 => 9x10 + 8 = 98\n",
    "        elif c in '-+': # check for - and +\n",
    "            res += num*sign\n",
    "            sign = -1 if c == '-' else 1\n",
    "            num = 0\n",
    "        elif c == '(':\n",
    "            stack.append(res)\n",
    "            stack.append(sign)\n",
    "            res = 0\n",
    "            sign = 1\n",
    "        elif c == ')':\n",
    "            res +=sign*num\n",
    "            res *=stack.pop()\n",
    "            res +=stack.pop()\n",
    "            num = 0\n",
    "    return res + num*sign\n",
    "s = \"(1+(4+5+2)-3)+(6+8)\"\n",
    "res = calculate(s)\n",
    "print(res)"
   ]
  }
 ],
 "metadata": {
  "kernelspec": {
   "display_name": "leetcode_env",
   "language": "python",
   "name": "leetcode_env"
  },
  "language_info": {
   "codemirror_mode": {
    "name": "ipython",
    "version": 3
   },
   "file_extension": ".py",
   "mimetype": "text/x-python",
   "name": "python",
   "nbconvert_exporter": "python",
   "pygments_lexer": "ipython3",
   "version": "3.8.6"
  }
 },
 "nbformat": 4,
 "nbformat_minor": 2
}
