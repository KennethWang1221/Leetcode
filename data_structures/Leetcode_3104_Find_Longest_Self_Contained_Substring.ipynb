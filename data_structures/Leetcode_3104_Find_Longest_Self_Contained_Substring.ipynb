{
 "cells": [
  {
   "cell_type": "markdown",
   "metadata": {},
   "source": [
    "## Method1\n",
    "\n",
    "\n",
    "Given a string s, your task is to find the length of the longest self-contained \n",
    "substring\n",
    " of s.\n",
    "\n",
    "A substring t of a string s is called self-contained if t != s and for every character in t, it doesn't exist in the rest of s.\n",
    "\n",
    "Return the length of the longest self-contained substring of s if it exists, otherwise, return -1.\n",
    "\n",
    "Input: s = \"abba\"\n",
    "\n",
    "Let's check the substring \"bb\". You can see that no other \"b\" is outside of this substring. Hence the answer is 2.\n",
    "\n",
    "Input: s = \"abab\"\n",
    "\n",
    "Every substring we choose does not satisfy the described property (there is some character which is inside and outside of that substring). So the answer would be -1.\n",
    "\n",
    "\n",
    "Input: s = \"abacd\"\n",
    "\n",
    "Let's check the substring \"abac\". There is only one character outside of this substring and that is \"d\". There is no \"d\" inside the chosen substring, so it satisfies the condition and the answer is 4.\n",
    "\n",
    "\n"
   ]
  },
  {
   "cell_type": "code",
   "execution_count": 1,
   "metadata": {},
   "outputs": [
    {
     "name": "stdout",
     "output_type": "stream",
     "text": [
      "4\n"
     ]
    }
   ],
   "source": [
    "def maxSubstringLength(s):\n",
    "\n",
    "    # Store first and last occurrence of each character\n",
    "    occurrences = {}\n",
    "    for index, ch in enumerate(s):\n",
    "        if ch not in occurrences:\n",
    "            occurrences[ch] = [index, index]  # [first_occurrence, last_occurrence]\n",
    "        occurrences[ch][1] = index  # Update last occurrence\n",
    "\n",
    "    max_length = -1  # Default value if no valid substring is found\n",
    "\n",
    "    for ch, (first, last) in occurrences.items():\n",
    "        max_end = last  # Track the farthest extension of the substring\n",
    "        for index in range(first, len(s)):\n",
    "            end_char = s[index]\n",
    "            \n",
    "            # If a character appears before 'first', it's not a valid substring\n",
    "            if occurrences[end_char][0] < first:\n",
    "                break\n",
    "            \n",
    "            # Extend max_end to include this character\n",
    "            max_end = max(max_end, occurrences[end_char][1])\n",
    "\n",
    "            # Check if a valid substring is formed\n",
    "            if max_end == index and max_end - first + 1 != len(s):\n",
    "                max_length = max(max_length, max_end - first + 1)\n",
    "\n",
    "    return max_length\n",
    "print(maxSubstringLength(s = 'abacd'))"
   ]
  }
 ],
 "metadata": {
  "kernelspec": {
   "display_name": "leetcode_env",
   "language": "python",
   "name": "leetcode_env"
  },
  "language_info": {
   "codemirror_mode": {
    "name": "ipython",
    "version": 3
   },
   "file_extension": ".py",
   "mimetype": "text/x-python",
   "name": "python",
   "nbconvert_exporter": "python",
   "pygments_lexer": "ipython3",
   "version": "3.8.6"
  }
 },
 "nbformat": 4,
 "nbformat_minor": 2
}
