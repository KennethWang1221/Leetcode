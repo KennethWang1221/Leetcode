{
 "cells": [
  {
   "cell_type": "markdown",
   "metadata": {},
   "source": [
    "## Method1 - DIY - Backtracking\n",
    "\n",
    "Same idea to 0077, 0216, 0017, 0039, 0040, 0131, 0093, 0078"
   ]
  },
  {
   "cell_type": "code",
   "execution_count": 3,
   "metadata": {},
   "outputs": [
    {
     "name": "stdout",
     "output_type": "stream",
     "text": [
      "[['a', 'a', 'b'], ['aa', 'b']]\n"
     ]
    }
   ],
   "source": [
    "def partition(s):\n",
    "    n = len(s)\n",
    "\n",
    "    def isPali(s, l, r):\n",
    "        while l<r:\n",
    "            if s[l] != s[r]: \n",
    "                return False\n",
    "            else:\n",
    "                l+=1\n",
    "                r-=1\n",
    "        return True\n",
    "\n",
    "\n",
    "    def backtracking(start, comb):\n",
    "        if start >= n:\n",
    "            res.append(comb.copy())\n",
    "            return \n",
    "        \n",
    "        for end in range(start, n):\n",
    "            if isPali(s, start, end):\n",
    "                comb.append(s[start:end+1])\n",
    "                backtracking(end+1, comb)\n",
    "                comb.pop(-1)\n",
    "\n",
    "        \n",
    "    res = []\n",
    "    backtracking(0, [])\n",
    "    return res\n",
    "\n",
    "s = \"aab\"\n",
    "print(partition(s))"
   ]
  },
  {
   "cell_type": "markdown",
   "metadata": {},
   "source": [
    "## Method1 - Backtracking\n",
    "https://www.youtube.com/watch?v=3jvWodd7ht0"
   ]
  },
  {
   "cell_type": "code",
   "execution_count": 2,
   "metadata": {},
   "outputs": [
    {
     "name": "stdout",
     "output_type": "stream",
     "text": [
      "[['a', 'a', 'b'], ['aa', 'b']]\n"
     ]
    }
   ],
   "source": [
    "def partition(s):\n",
    "    n = len(s)\n",
    "    def isPali(s, l, r):\n",
    "        while l < r:\n",
    "            if s[l] != s[r]:\n",
    "                return False\n",
    "            l, r = l + 1, r - 1\n",
    "        return True\n",
    "    \n",
    "    def backtracking(i):\n",
    "        if i >= n:\n",
    "            res.append(comb.copy())\n",
    "            return\n",
    "        for j in range(i, n):\n",
    "            if isPali(s, i, j):\n",
    "                comb.append(s[i : j + 1])\n",
    "                backtracking(j + 1)\n",
    "                comb.pop(-1)\n",
    "    \n",
    "    res, comb = [], []\n",
    "    backtracking(0)\n",
    "    return res\n",
    "\n",
    "s = \"aab\"\n",
    "print(partition(s))"
   ]
  },
  {
   "cell_type": "markdown",
   "metadata": {},
   "source": [
    "## Method2 - Backtracking - Recap\n",
    "https://github.com/youngyangyang04/leetcode-master/blob/master/problems/0131.%E5%88%86%E5%89%B2%E5%9B%9E%E6%96%87%E4%B8%B2.md"
   ]
  },
  {
   "cell_type": "markdown",
   "metadata": {},
   "source": [
    "回溯 基本版"
   ]
  },
  {
   "cell_type": "code",
   "execution_count": 2,
   "metadata": {},
   "outputs": [
    {
     "name": "stdout",
     "output_type": "stream",
     "text": [
      "[['a', 'a', 'b'], ['aa', 'b']]\n"
     ]
    }
   ],
   "source": [
    "def partition(s: str):\n",
    "    '''\n",
    "    递归用于纵向遍历\n",
    "    for循环用于横向遍历\n",
    "    当切割线迭代至字符串末尾，说明找到一种方法\n",
    "    类似组合问题，为了不重复切割同一位置，需要start_index来做标记下一轮递归的起始位置(切割线)\n",
    "    '''\n",
    "    def isPali(s, l, r):\n",
    "        while l < r:\n",
    "            if s[l] != s[r]:\n",
    "                return False\n",
    "            l, r = l + 1, r - 1\n",
    "        return True\n",
    "    \n",
    "    def backtracking(s, start, comb, res):\n",
    "        if start == n:\n",
    "            res.append(comb[:])\n",
    "            return\n",
    "        \n",
    "        for i in range(start, n):\n",
    "            if isPali(s, start, i): # 此次比其他组合题目多了一步判断： 判断被截取的这一段子串([start, i])是否为回文串\n",
    "                comb.append(s[start:i+1])\n",
    "                backtracking(s, i+1, comb, res)   # 递归纵向遍历：从下一处进行切割，判断其余是否仍为回文串\n",
    "                comb.pop()             # 回溯\n",
    "\n",
    "    res = []\n",
    "    n = len(s)\n",
    "    backtracking(s, 0, [], res)\n",
    "    return res\n",
    "s = \"aab\"\n",
    "print(partition(s))"
   ]
  },
  {
   "cell_type": "markdown",
   "metadata": {},
   "source": [
    "回溯+优化判定回文函数"
   ]
  },
  {
   "cell_type": "code",
   "execution_count": 4,
   "metadata": {},
   "outputs": [
    {
     "name": "stdout",
     "output_type": "stream",
     "text": [
      "[['a', 'a', 'b'], ['aa', 'b']]\n"
     ]
    }
   ],
   "source": [
    "def partition(s):\n",
    "    def backtracking(s, start_index, path, result ):\n",
    "        # Base Case\n",
    "        if start_index == len(s):\n",
    "            result.append(path[:])\n",
    "            return\n",
    "        \n",
    "        # 单层递归逻辑\n",
    "        for i in range(start_index, len(s)):\n",
    "            # 若反序和正序相同，意味着这是回文串\n",
    "            if s[start_index: i + 1] == s[start_index: i + 1][::-1]:\n",
    "                path.append(s[start_index:i+1])\n",
    "                backtracking(s, i+1, path, result)   # 递归纵向遍历：从下一处进行切割，判断其余是否仍为回文串\n",
    "                path.pop()             # 回溯\n",
    "    result = []\n",
    "    backtracking(s, 0, [], result)\n",
    "    return result\n",
    "\n",
    "s = \"aab\"\n",
    "print(partition(s))"
   ]
  },
  {
   "cell_type": "markdown",
   "metadata": {},
   "source": [
    "回溯+高效判断回文子串"
   ]
  },
  {
   "cell_type": "code",
   "execution_count": 1,
   "metadata": {},
   "outputs": [
    {
     "name": "stdout",
     "output_type": "stream",
     "text": [
      "[['a', 'a', 'b'], ['aa', 'b']]\n"
     ]
    }
   ],
   "source": [
    "def partition(s):\n",
    "    def backtracking(s, startIndex, path, result, isPalindrome):\n",
    "        if startIndex >= len(s):\n",
    "            result.append(path[:])\n",
    "            return\n",
    "\n",
    "        for i in range(startIndex, len(s)):\n",
    "            if isPalindrome[startIndex][i]:   # 是回文子串\n",
    "                substring = s[startIndex:i + 1]\n",
    "                path.append(substring)\n",
    "                backtracking(s, i + 1, path, result, isPalindrome)  # 寻找i+1为起始位置的子串\n",
    "                path.pop()           # 回溯过程，弹出本次已经添加的子串\n",
    "\n",
    "    def computePalindrome(s, isPalindrome):\n",
    "        for i in range(len(s) - 1, -1, -1):  # 需要倒序计算，保证在i行时，i+1行已经计算好了\n",
    "            for j in range(i, len(s)):\n",
    "                if j == i:\n",
    "                    isPalindrome[i][j] = True\n",
    "                elif j - i == 1:\n",
    "                    isPalindrome[i][j] = (s[i] == s[j])\n",
    "                else:\n",
    "                    isPalindrome[i][j] = (s[i] == s[j] and isPalindrome[i+1][j-1])\n",
    "\n",
    "    result = []\n",
    "    isPalindrome = [[False] * len(s) for _ in range(len(s))]  # 初始化isPalindrome矩阵\n",
    "    computePalindrome(s, isPalindrome)\n",
    "    backtracking(s, 0, [], result, isPalindrome)\n",
    "    return result\n",
    "s = \"aab\"\n",
    "print(partition(s))"
   ]
  },
  {
   "cell_type": "markdown",
   "metadata": {},
   "source": [
    "回溯+使用all函数判断回文子串"
   ]
  },
  {
   "cell_type": "code",
   "execution_count": 3,
   "metadata": {},
   "outputs": [
    {
     "name": "stdout",
     "output_type": "stream",
     "text": [
      "[['a', 'a', 'b'], ['aa', 'b']]\n"
     ]
    }
   ],
   "source": [
    "def partition(s):\n",
    "    def partition_helper(s, start_index, path, result):\n",
    "        if start_index == len(s):\n",
    "            result.append(path[:])\n",
    "            return\n",
    "\n",
    "        for i in range(start_index + 1, len(s) + 1):\n",
    "            sub = s[start_index:i]\n",
    "            if isPalindrome(sub):\n",
    "                path.append(sub)\n",
    "                partition_helper(s, i, path, result)\n",
    "                path.pop()\n",
    "\n",
    "    def isPalindrome(s):\n",
    "        return all(s[i] == s[len(s) - 1 - i] for i in range(len(s) // 2))\n",
    "\n",
    "    result = []\n",
    "    partition_helper(s, 0, [], result)\n",
    "    return result\n",
    "\n",
    "s = \"aab\"\n",
    "print(partition(s))"
   ]
  }
 ],
 "metadata": {
  "kernelspec": {
   "display_name": "leetcode_env",
   "language": "python",
   "name": "leetcode_env"
  },
  "language_info": {
   "codemirror_mode": {
    "name": "ipython",
    "version": 3
   },
   "file_extension": ".py",
   "mimetype": "text/x-python",
   "name": "python",
   "nbconvert_exporter": "python",
   "pygments_lexer": "ipython3",
   "version": "3.8.6"
  }
 },
 "nbformat": 4,
 "nbformat_minor": 2
}
