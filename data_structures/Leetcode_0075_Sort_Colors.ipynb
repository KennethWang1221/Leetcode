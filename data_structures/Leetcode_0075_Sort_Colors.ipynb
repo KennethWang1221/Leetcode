{
 "cells": [
  {
   "cell_type": "markdown",
   "metadata": {},
   "source": [
    "## Method1 - Two Pointers\n",
    "https://www.bilibili.com/video/BV1rE411n7mL?spm_id_from=333.337.search-card.all.click&vd_source=8aba95d95a5a52895d55c1f87e0f02c2"
   ]
  },
  {
   "cell_type": "code",
   "execution_count": 50,
   "metadata": {},
   "outputs": [
    {
     "name": "stdout",
     "output_type": "stream",
     "text": [
      "[0, 0, 1, 1, 2, 2]\n"
     ]
    }
   ],
   "source": [
    "def sortColors(nums):\n",
    "    \"\"\"\n",
    "    Do not return anything, modify nums in-place instead.\n",
    "    \"\"\"\n",
    "    n = len(nums)\n",
    "    p, q = 0, 0 \n",
    "    k = n-1\n",
    "    \n",
    "    while q <= k:\n",
    "        if p<q and nums[q] == 0:\n",
    "            nums[p], nums[q] = nums[q], nums[p]\n",
    "            #q+=1\n",
    "            p+=1\n",
    "        elif nums[q] == 2:\n",
    "            nums[k], nums[q] = nums[q], nums[k]\n",
    "            k-=1\n",
    "            \n",
    "        else:\n",
    "            q+=1\n",
    "    print(nums)\n",
    "nums = [2,0,2,1,1,0]\n",
    "#nums = [2,0,1]\n",
    "sortColors(nums)"
   ]
  },
  {
   "cell_type": "markdown",
   "metadata": {},
   "source": [
    "## Method2 - Two Pointers\n",
    "\n",
    "https://www.youtube.com/watch?v=4xbWSRZHqac"
   ]
  },
  {
   "cell_type": "code",
   "execution_count": 52,
   "metadata": {},
   "outputs": [
    {
     "name": "stdout",
     "output_type": "stream",
     "text": [
      "[0, 0, 1, 1, 2, 2]\n"
     ]
    }
   ],
   "source": [
    "def sortColors(nums):\n",
    "    \"\"\"\n",
    "    Do not return anything, modify nums in-place instead.\n",
    "    \"\"\"\n",
    "    n = len(nums)\n",
    "    p, q = 0, 0 \n",
    "    k = n-1\n",
    "    \n",
    "    while q <= k:\n",
    "        if nums[q] == 0:\n",
    "            nums[p], nums[q] = nums[q], nums[p]\n",
    "            #q+=1\n",
    "            p+=1\n",
    "        elif nums[q] == 2:\n",
    "            nums[k], nums[q] = nums[q], nums[k]\n",
    "            k-=1\n",
    "            q-=1\n",
    "        q+=1\n",
    "    print(nums)\n",
    "nums = [2,0,2,1,1,0]\n",
    "nums = [0,1,0,1,2,2]\n",
    "#nums = [2,0,1]\n",
    "sortColors(nums)"
   ]
  },
  {
   "cell_type": "markdown",
   "metadata": {},
   "source": [
    "## Method3 - Bubble Sort"
   ]
  },
  {
   "cell_type": "code",
   "execution_count": 1,
   "metadata": {},
   "outputs": [
    {
     "name": "stdout",
     "output_type": "stream",
     "text": [
      "[0, 0, 1, 1, 2, 2]\n"
     ]
    }
   ],
   "source": [
    "def sortColors(nums):\n",
    "    n = len(nums)\n",
    "    for i in range(n):\n",
    "        for j in range(n-1-i):\n",
    "            if nums[j] >= nums[j+1]:\n",
    "                nums[j],nums[j+1] = nums[j+1], nums[j]\n",
    "    \n",
    "    print(nums)\n",
    "nums = [2,0,2,1,1,0]\n",
    "nums = [0,1,0,1,2,2]\n",
    "#nums = [2,0,1]\n",
    "sortColors(nums)"
   ]
  }
 ],
 "metadata": {
  "kernelspec": {
   "display_name": "leetcode_env",
   "language": "python",
   "name": "leetcode_env"
  },
  "language_info": {
   "codemirror_mode": {
    "name": "ipython",
    "version": 3
   },
   "file_extension": ".py",
   "mimetype": "text/x-python",
   "name": "python",
   "nbconvert_exporter": "python",
   "pygments_lexer": "ipython3",
   "version": "3.8.6"
  },
  "orig_nbformat": 4,
  "vscode": {
   "interpreter": {
    "hash": "846fd2d9bb562a436898b7cc368204fc2f9d44e5e9b051b4f6e855e721078f23"
   }
  }
 },
 "nbformat": 4,
 "nbformat_minor": 2
}
