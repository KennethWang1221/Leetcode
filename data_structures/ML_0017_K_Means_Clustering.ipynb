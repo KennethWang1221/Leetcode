{
 "cells": [
  {
   "cell_type": "markdown",
   "metadata": {},
   "source": [
    "# K-Means Clustering Algorithm from Scratch\n",
    "\n",
    "## Introduction to k-Means\n",
    "\n",
    "k-Means clustering partitions n points into k clusters by minimizing the distance between points in the same cluster and their centroid.\n",
    "\n",
    "## Steps of k-Means Algorithm\n",
    "\n",
    "1. Initialize k centroids.\n",
    "2. Assign each point to the nearest centroid.\n",
    "3. Compute new centroids as the mean of points assigned to each centroid.\n",
    "4. Repeat steps 2 and 3 until convergence or maximum iterations reached.\n",
    "\n",
    "\n",
    "## Interpretation\n",
    "\n",
    "- Centroids represent the center of each cluster.\n",
    "- Points are grouped by proximity to their respective centroid.\n"
   ]
  },
  {
   "cell_type": "code",
   "execution_count": 1,
   "metadata": {},
   "outputs": [
    {
     "name": "stdout",
     "output_type": "stream",
     "text": [
      "Final Centroids: [(1.0, 2.0), (10.0, 2.0)]\n"
     ]
    }
   ],
   "source": [
    "def euclidean_distance(point1, point2):\n",
    "    return sum((x - y) ** 2 for x, y in zip(point1, point2)) ** 0.5\n",
    "\n",
    "def k_means_clustering(points, k, initial_centroids, max_iterations):\n",
    "    centroids = [list(c) for c in initial_centroids]\n",
    "\n",
    "    for _ in range(max_iterations):\n",
    "        clusters = [[] for _ in range(k)]\n",
    "        \n",
    "        # Assign points to the nearest centroid\n",
    "        for point in points:\n",
    "            distances = [euclidean_distance(point, centroid) for centroid in centroids]\n",
    "            closest_centroid = distances.index(min(distances))\n",
    "            clusters[closest_centroid].append(point)\n",
    "        \n",
    "        # Calculate new centroids\n",
    "        new_centroids = []\n",
    "        for cluster, centroid in zip(clusters, centroids):\n",
    "            if cluster:\n",
    "                new_centroid = [round(sum(dim) / len(cluster), 4) for dim in zip(*cluster)]\n",
    "                new_centroids.append(new_centroid)\n",
    "            else:\n",
    "                new_centroids.append(centroid)\n",
    "\n",
    "        # Check convergence\n",
    "        if all(new_centroid == centroid for new_centroid, centroid in zip(new_centroids, centroids)):\n",
    "            break\n",
    "\n",
    "        centroids = new_centroids\n",
    "\n",
    "    return [tuple(centroid) for centroid in centroids]\n",
    "\n",
    "points = [(1, 2), (1, 4), (1, 0), (10, 2), (10, 4), (10, 0)]\n",
    "k = 2\n",
    "initial_centroids = [(1, 1), (10, 1)]\n",
    "max_iterations = 10\n",
    "\n",
    "final_centroids = k_means_clustering(points, k, initial_centroids, max_iterations)\n",
    "print(\"Final Centroids:\", final_centroids)\n"
   ]
  }
 ],
 "metadata": {
  "kernelspec": {
   "display_name": "leetcode_env",
   "language": "python",
   "name": "python3"
  },
  "language_info": {
   "codemirror_mode": {
    "name": "ipython",
    "version": 3
   },
   "file_extension": ".py",
   "mimetype": "text/x-python",
   "name": "python",
   "nbconvert_exporter": "python",
   "pygments_lexer": "ipython3",
   "version": "3.8.6"
  }
 },
 "nbformat": 4,
 "nbformat_minor": 2
}
