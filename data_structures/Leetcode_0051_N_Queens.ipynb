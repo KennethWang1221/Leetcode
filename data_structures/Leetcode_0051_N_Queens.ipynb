{
 "cells": [
  {
   "cell_type": "markdown",
   "metadata": {},
   "source": [
    "## Method1 - Backtracking\n",
    "https://www.youtube.com/watch?v=Ph95IHmRp5M"
   ]
  },
  {
   "cell_type": "code",
   "execution_count": 1,
   "metadata": {},
   "outputs": [
    {
     "name": "stdout",
     "output_type": "stream",
     "text": [
      "[['.Q..', '...Q', 'Q...', '..Q.'], ['..Q.', 'Q...', '...Q', '.Q..']]\n"
     ]
    }
   ],
   "source": [
    "def solveNQueens(n):\n",
    "    col = set()\n",
    "    posDiag = set()  # (r + c)\n",
    "    negDiag = set()  # (r - c)\n",
    "\n",
    "    res = []\n",
    "    board = [[\".\"] * n for i in range(n)]\n",
    "\n",
    "    def backtrack(r):\n",
    "        if r == n:\n",
    "            copy = [\"\".join(row) for row in board]\n",
    "            res.append(copy)\n",
    "            return\n",
    "\n",
    "        for c in range(n):\n",
    "            if c in col or (r + c) in posDiag or (r - c) in negDiag:\n",
    "                continue\n",
    "\n",
    "            col.add(c)\n",
    "            posDiag.add(r + c)\n",
    "            negDiag.add(r - c)\n",
    "            board[r][c] = \"Q\"\n",
    "\n",
    "            backtrack(r + 1)\n",
    "\n",
    "            col.remove(c)\n",
    "            posDiag.remove(r + c)\n",
    "            negDiag.remove(r - c)\n",
    "            board[r][c] = \".\"\n",
    "\n",
    "    backtrack(0)\n",
    "    return res\n",
    "\n",
    "n = 4 \n",
    "print(solveNQueens(n))"
   ]
  },
  {
   "cell_type": "markdown",
   "metadata": {},
   "source": [
    "## Method2 - Backtracking\n",
    "https://github.com/youngyangyang04/leetcode-master/blob/master/problems/0051.N%E7%9A%87%E5%90%8E.md"
   ]
  },
  {
   "cell_type": "code",
   "execution_count": 2,
   "metadata": {},
   "outputs": [
    {
     "name": "stdout",
     "output_type": "stream",
     "text": [
      "[['.Q..', '...Q', 'Q...', '..Q.'], ['..Q.', 'Q...', '...Q', '.Q..']]\n"
     ]
    }
   ],
   "source": [
    "def solveNQueens(n):\n",
    "    def backtracking(n, row, chessboard, result):\n",
    "        if row == n:\n",
    "            result.append(chessboard[:])  # 棋盘填满，将当前解加入结果集\n",
    "            return\n",
    "\n",
    "        for col in range(n):\n",
    "            if isValid(row, col, chessboard):\n",
    "                chessboard[row] = chessboard[row][:col] + 'Q' + chessboard[row][col+1:]  # 放置皇后\n",
    "                backtracking(n, row + 1, chessboard, result)  # 递归到下一行\n",
    "                chessboard[row] = chessboard[row][:col] + '.' + chessboard[row][col+1:]  # 回溯，撤销当前位置的皇后\n",
    "\n",
    "    def isValid(row, col, chessboard):\n",
    "        # 检查列\n",
    "        for i in range(row):\n",
    "            if chessboard[i][col] == 'Q':\n",
    "                return False  # 当前列已经存在皇后，不合法\n",
    "\n",
    "        # 检查 45 度角是否有皇后\n",
    "        i, j = row - 1, col - 1\n",
    "        while i >= 0 and j >= 0:\n",
    "            if chessboard[i][j] == 'Q':\n",
    "                return False  # 左上方向已经存在皇后，不合法\n",
    "            i -= 1\n",
    "            j -= 1\n",
    "\n",
    "        # 检查 135 度角是否有皇后\n",
    "        i, j = row - 1, col + 1\n",
    "        while i >= 0 and j < len(chessboard):\n",
    "            if chessboard[i][j] == 'Q':\n",
    "                return False  # 右上方向已经存在皇后，不合法\n",
    "            i -= 1\n",
    "            j += 1\n",
    "\n",
    "        return True  # 当前位置合法\n",
    "\n",
    "    result = []  # 存储最终结果的二维字符串数组\n",
    "\n",
    "    chessboard = ['.' * n for _ in range(n)]  # 初始化棋盘\n",
    "    backtracking(n, 0, chessboard, result)  # 回溯求解\n",
    "    return [[''.join(row) for row in solution] for solution in result]  # 返回结果集\n",
    "\n",
    "n = 4 \n",
    "print(solveNQueens(n))"
   ]
  }
 ],
 "metadata": {
  "kernelspec": {
   "display_name": "leetcode_env",
   "language": "python",
   "name": "leetcode_env"
  },
  "language_info": {
   "codemirror_mode": {
    "name": "ipython",
    "version": 3
   },
   "file_extension": ".py",
   "mimetype": "text/x-python",
   "name": "python",
   "nbconvert_exporter": "python",
   "pygments_lexer": "ipython3",
   "version": "3.8.6"
  }
 },
 "nbformat": 4,
 "nbformat_minor": 2
}
