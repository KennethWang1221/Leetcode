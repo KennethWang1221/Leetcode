{
 "cells": [
  {
   "cell_type": "markdown",
   "metadata": {},
   "source": [
    "## Method1 - DFS\n",
    "https://www.youtube.com/watch?v=7cp5imvDzl4"
   ]
  },
  {
   "cell_type": "code",
   "execution_count": 1,
   "metadata": {},
   "outputs": [
    {
     "name": "stdout",
     "output_type": "stream",
     "text": [
      "Good nodes: 3\n",
      "Good nodes: 1\n",
      "Good nodes: 6\n"
     ]
    }
   ],
   "source": [
    "class TreeNode:\n",
    "    def __init__(self, x):\n",
    "        self.val = x\n",
    "        self.left = None\n",
    "        self.right = None\n",
    "\n",
    "class Solution:\n",
    "    def goodNodes(self, root: TreeNode) -> int:\n",
    "        def dfs(node, maxVal):\n",
    "            if not node:\n",
    "                return 0\n",
    "\n",
    "            res = 1 if node.val >= maxVal else 0  # Check if the current node is a \"good\" node\n",
    "            maxVal = max(maxVal, node.val)  # Update the maximum value encountered so far\n",
    "            res += dfs(node.left, maxVal)  # Recurse on the left child\n",
    "            res += dfs(node.right, maxVal)  # Recurse on the right child\n",
    "            return res\n",
    "\n",
    "        return dfs(root, root.val)  # Start DFS from the root with the root's value as the initial max\n",
    "\n",
    "# Test Case 1:\n",
    "n1 = TreeNode(3)\n",
    "n2 = TreeNode(1)\n",
    "n3 = TreeNode(4)\n",
    "n4 = TreeNode(3)\n",
    "n5 = TreeNode(1)\n",
    "n6 = TreeNode(5)\n",
    "\n",
    "n1.left = n2\n",
    "n1.right = n3\n",
    "n3.left = n4\n",
    "n3.right = n5\n",
    "n4.right = n6\n",
    "\n",
    "sol = Solution()\n",
    "result = sol.goodNodes(n1)\n",
    "print(\"Good nodes:\", result)  # Expected output: 4 (Nodes 3, 4, 3, and 5 are good nodes)\n",
    "\n",
    "# Test Case 2: Single node tree\n",
    "n1 = TreeNode(1)\n",
    "result2 = sol.goodNodes(n1)\n",
    "print(\"Good nodes:\", result2)  # Expected output: 1 (Only node 1 is good)\n",
    "\n",
    "# Test Case 3: Tree with all nodes having same value\n",
    "n1 = TreeNode(3)\n",
    "n2 = TreeNode(3)\n",
    "n3 = TreeNode(3)\n",
    "n4 = TreeNode(3)\n",
    "n5 = TreeNode(3)\n",
    "n6 = TreeNode(3)\n",
    "\n",
    "n1.left = n2\n",
    "n1.right = n3\n",
    "n2.left = n4\n",
    "n2.right = n5\n",
    "n3.left = n6\n",
    "\n",
    "result3 = sol.goodNodes(n1)\n",
    "print(\"Good nodes:\", result3)  # Expected output: 6 (All nodes are good since their values are equal)\n"
   ]
  }
 ],
 "metadata": {
  "kernelspec": {
   "display_name": "leetcode_env",
   "language": "python",
   "name": "python3"
  },
  "language_info": {
   "codemirror_mode": {
    "name": "ipython",
    "version": 3
   },
   "file_extension": ".py",
   "mimetype": "text/x-python",
   "name": "python",
   "nbconvert_exporter": "python",
   "pygments_lexer": "ipython3",
   "version": "3.8.6"
  }
 },
 "nbformat": 4,
 "nbformat_minor": 2
}
