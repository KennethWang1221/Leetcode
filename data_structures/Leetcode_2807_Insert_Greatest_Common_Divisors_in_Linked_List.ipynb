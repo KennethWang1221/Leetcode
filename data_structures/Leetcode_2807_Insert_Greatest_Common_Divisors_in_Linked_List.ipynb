{
 "cells": [
  {
   "cell_type": "markdown",
   "metadata": {},
   "source": [
    "## Method1 - Math - Euclid's Algorithm\n",
    "\n",
    "https://www.youtube.com/watch?v=SS_IlBrocYQ"
   ]
  },
  {
   "cell_type": "code",
   "execution_count": 2,
   "metadata": {},
   "outputs": [
    {
     "name": "stdout",
     "output_type": "stream",
     "text": [
      "18 → 6 → 6 → 2 → 10 → 1 → 3\n"
     ]
    }
   ],
   "source": [
    "from typing import Optional\n",
    "\n",
    "# Definition for singly-linked list.\n",
    "class ListNode:\n",
    "    def __init__(self, val=0, next=None):\n",
    "        self.val = val\n",
    "        self.next = next\n",
    "\n",
    "class Solution:\n",
    "    def insertGreatestCommonDivisors(self, head: Optional[ListNode]) -> Optional[ListNode]:\n",
    "        def gcd(a, b):\n",
    "            while b:\n",
    "                a, b = b, a % b\n",
    "            return a\n",
    "        \n",
    "        curr = head\n",
    "        while curr and curr.next:\n",
    "            a, b = curr.val, curr.next.val\n",
    "            g = gcd(a, b)\n",
    "            new_node = ListNode(g)\n",
    "            new_node.next = curr.next\n",
    "            curr.next = new_node\n",
    "            curr = new_node.next\n",
    "        return head\n",
    "\n",
    "# Helper functions to build and print linked list\n",
    "def build_list(nums):\n",
    "    if not nums:\n",
    "        return None\n",
    "    head = ListNode(nums[0])\n",
    "    curr = head\n",
    "    for num in nums[1:]:\n",
    "        curr.next = ListNode(num)\n",
    "        curr = curr.next\n",
    "    return head\n",
    "\n",
    "def print_list(head):\n",
    "    curr = head\n",
    "    res = []\n",
    "    while curr:\n",
    "        res.append(str(curr.val))\n",
    "        curr = curr.next\n",
    "    print(\" → \".join(res))\n",
    "\n",
    "# Test case\n",
    "if __name__ == \"__main__\":\n",
    "    sol = Solution()\n",
    "    head = build_list([18, 6, 10, 3])\n",
    "    head = sol.insertGreatestCommonDivisors(head)\n",
    "    print_list(head)  # Expected: 18 → 6 → 6 → 2 → 10 → 1 → 3"
   ]
  }
 ],
 "metadata": {
  "kernelspec": {
   "display_name": "leetcode_env",
   "language": "python",
   "name": "python3"
  },
  "language_info": {
   "codemirror_mode": {
    "name": "ipython",
    "version": 3
   },
   "file_extension": ".py",
   "mimetype": "text/x-python",
   "name": "python",
   "nbconvert_exporter": "python",
   "pygments_lexer": "ipython3",
   "version": "3.8.6"
  }
 },
 "nbformat": 4,
 "nbformat_minor": 2
}
