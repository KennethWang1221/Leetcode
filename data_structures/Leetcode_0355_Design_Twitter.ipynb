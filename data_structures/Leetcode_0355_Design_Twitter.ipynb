{
 "cells": [
  {
   "cell_type": "markdown",
   "metadata": {},
   "source": [
    "## Method1 - Heap\n",
    "\n",
    "https://www.youtube.com/watch?v=pNichitDD2E"
   ]
  },
  {
   "cell_type": "code",
   "execution_count": 2,
   "metadata": {},
   "outputs": [
    {
     "data": {
      "text/plain": [
       "[5]"
      ]
     },
     "execution_count": 2,
     "metadata": {},
     "output_type": "execute_result"
    }
   ],
   "source": [
    "import heapq\n",
    "from collections import defaultdict\n",
    "class Twitter:\n",
    "    def __init__(self):\n",
    "        self.count = 0\n",
    "        self.tweetMap = defaultdict(list)  # userId -> list of [count, tweetIds]\n",
    "        self.followMap = defaultdict(set)  # userId -> set of followeeId\n",
    "\n",
    "    def postTweet(self, userId: int, tweetId: int):\n",
    "        self.tweetMap[userId].append([self.count, tweetId])\n",
    "        self.count -= 1\n",
    "\n",
    "    def getNewsFeed(self, userId: int):\n",
    "        res = []\n",
    "        minHeap = []\n",
    "\n",
    "        self.followMap[userId].add(userId)\n",
    "        for followeeId in self.followMap[userId]:\n",
    "            if followeeId in self.tweetMap:\n",
    "                index = len(self.tweetMap[followeeId]) - 1\n",
    "                count, tweetId = self.tweetMap[followeeId][index]\n",
    "                heapq.heappush(minHeap, [count, tweetId, followeeId, index - 1])\n",
    "\n",
    "        while minHeap and len(res) < 10:\n",
    "            count, tweetId, followeeId, index = heapq.heappop(minHeap)\n",
    "            res.append(tweetId)\n",
    "            if index >= 0:\n",
    "                count, tweetId = self.tweetMap[followeeId][index]\n",
    "                heapq.heappush(minHeap, [count, tweetId, followeeId, index - 1])\n",
    "        return res\n",
    "\n",
    "    def follow(self, followerId: int, followeeId: int):\n",
    "        self.followMap[followerId].add(followeeId)\n",
    "\n",
    "    def unfollow(self, followerId: int, followeeId: int):\n",
    "        if followeeId in self.followMap[followerId]:\n",
    "            self.followMap[followerId].remove(followeeId)\n",
    "\n",
    "\n",
    "twitter = Twitter()\n",
    "twitter.postTweet(1, 5) # // User 1 posts a new tweet (id = 5).\n",
    "twitter.getNewsFeed(1) #  // User 1's news feed should return a list with 1 tweet id -> [5]. return [5]\n",
    "twitter.follow(1, 2) #    // User 1 follows user 2.\n",
    "twitter.postTweet(2, 6) #  // User 2 posts a new tweet (id = 6).\n",
    "twitter.getNewsFeed(1) #  // User 1's news feed should return a list with 2 tweet ids -> [6, 5]. Tweet id 6 should precede tweet id 5 because it is posted after tweet id 5.\n",
    "twitter.unfollow(1, 2) #  // User 1 unfollows user 2.\n",
    "twitter.getNewsFeed(1) #  // User 1's news feed should return a list with 1 tweet id -> [5], since user 1 is no longer following user 2."
   ]
  }
 ],
 "metadata": {
  "kernelspec": {
   "display_name": "leetcode_env",
   "language": "python",
   "name": "leetcode_env"
  },
  "language_info": {
   "codemirror_mode": {
    "name": "ipython",
    "version": 3
   },
   "file_extension": ".py",
   "mimetype": "text/x-python",
   "name": "python",
   "nbconvert_exporter": "python",
   "pygments_lexer": "ipython3",
   "version": "3.8.6"
  }
 },
 "nbformat": 4,
 "nbformat_minor": 2
}
