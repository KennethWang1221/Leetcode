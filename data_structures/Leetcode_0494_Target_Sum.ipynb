{
 "cells": [
  {
   "cell_type": "markdown",
   "metadata": {},
   "source": [
    "## Method1 - 1D Top-Down DP / Backtracking\n",
    "https://www.youtube.com/watch?v=g0npyaQtAQM"
   ]
  },
  {
   "cell_type": "code",
   "execution_count": 8,
   "metadata": {},
   "outputs": [
    {
     "name": "stdout",
     "output_type": "stream",
     "text": [
      "5\n"
     ]
    }
   ],
   "source": [
    "def findTargetSumWays(nums, target):\n",
    "\n",
    "    dp = {}  # (index, total) -> # of ways\n",
    "\n",
    "    def backtrack(i, total):\n",
    "        if i == len(nums):\n",
    "            return 1 if total == target else 0\n",
    "        if (i, total) in dp:\n",
    "            return dp[(i, total)]\n",
    "\n",
    "        dp[(i, total)] = (backtrack(i + 1, total + nums[i]) + \n",
    "                          backtrack(i + 1, total - nums[i]))\n",
    "        return dp[(i, total)]\n",
    "\n",
    "    return backtrack(0, 0)\n",
    "\n",
    "nums = [1,1,1,1,1]\n",
    "target = 3\n",
    "print(findTargetSumWays(nums,target))"
   ]
  },
  {
   "cell_type": "markdown",
   "metadata": {},
   "source": [
    "## Method2 - 2D Bottom-UP DP \n",
    "https://github.com/youngyangyang04/leetcode-master/blob/master/problems/0494.%E7%9B%AE%E6%A0%87%E5%92%8C.md"
   ]
  },
  {
   "cell_type": "code",
   "execution_count": 2,
   "metadata": {},
   "outputs": [
    {
     "name": "stdout",
     "output_type": "stream",
     "text": [
      "5\n"
     ]
    }
   ],
   "source": [
    "def findTargetSumWays(nums, target):\n",
    "    total_sum = sum(nums)  # 计算nums的总和\n",
    "    if abs(target) > total_sum:\n",
    "        return 0  # 此时没有方案\n",
    "    if (target + total_sum) % 2 == 1:\n",
    "        return 0  # 此时没有方案\n",
    "    target_sum = (target + total_sum) // 2  # 目标和\n",
    "    n = len(nums)\n",
    "    # 创建二维动态规划数组，行表示选取的元素数量，列表示累加和\n",
    "    dp = [[0] * (target_sum + 1) for _ in range(n + 1)]\n",
    "\n",
    "    # 初始化状态\n",
    "    dp[0][0] = 1\n",
    "\n",
    "    # 动态规划过程\n",
    "    for i in range(1, n + 1):\n",
    "        for j in range(target_sum + 1):\n",
    "            dp[i][j] = dp[i - 1][j]  # 不选取当前元素\n",
    "            if j >= nums[i - 1]:\n",
    "                dp[i][j] += dp[i - 1][j - nums[i - 1]]  # 选取当前元素\n",
    "\n",
    "    return dp[n][target_sum]  # 返回达到目标和的方案数\n",
    "\n",
    "nums = [1,1,1,1,1]\n",
    "target = 3\n",
    "print(findTargetSumWays(nums,target))"
   ]
  },
  {
   "cell_type": "markdown",
   "metadata": {},
   "source": [
    "## Method2 - 2D Bottom-UP - Recap"
   ]
  },
  {
   "cell_type": "markdown",
   "metadata": {},
   "source": [
    "### Problem Breakdown\n",
    "\n",
    "The line `target_sum = (target + total_sum) // 2` is a key part of transforming the original problem into a subset sum problem. Let's break it down:\n",
    "\n",
    "#### Original Problem\n",
    "\n",
    "We need to find the number of ways to assign `+` and `-` signs to the numbers in `nums` so that they sum to `target`.\n",
    "\n",
    "#### Transformation\n",
    "\n",
    "We can split the numbers into two groups:\n",
    "\n",
    "- **Positive Group:** Numbers with positive signs.\n",
    "- **Negative Group:** Numbers with negative signs.\n",
    "\n",
    "Let `P` be the sum of the positive numbers and `N` be the sum of the negative numbers. Then:\n",
    "\n",
    "- `P - N = target`\n",
    "- `P + N = total_sum` (since all numbers are used)\n",
    "\n",
    "#### Solving the Equations\n",
    "\n",
    "From the equations:\n",
    "\n",
    "- `P - N = target`\n",
    "- `P + N = total_sum`\n",
    "\n",
    "Add these two equations:\n",
    "\n",
    "- `2P = target + total_sum`\n",
    "\n",
    "Therefore:\n",
    "\n",
    "- `P = (target + total_sum) / 2`\n",
    "\n",
    "In the code, we use integer division `//` instead of `/` to ensure we get an integer result:\n",
    "\n",
    "```\n",
    "python\n",
    "\n",
    "target_sum = (target + total_sum) // 2\n",
    "```\n",
    "\n",
    "This `target_sum` represents the sum that the positive group should add up to. By finding the number of subsets of `nums` that sum to `target_sum`, we're effectively solving the original problem.\n",
    "\n",
    "- **Note:** If `(target + total_sum)` is odd, it means it's impossible to split the numbers into two groups that sum to the target, which is why we return 0 in that case.\n",
    "\n",
    "This transformation allows us to use dynamic programming to solve the problem more efficiently than trying all possible combinations of `+` and `-` signs.\n",
    "\n",
    "------\n",
    "\n",
    "### Example Walkthrough\n",
    "\n",
    "Let's use the example you provided to walk through the process step-by-step:\n",
    "\n",
    "**Given:**\n",
    "\n",
    "```\n",
    "python\n",
    "\n",
    "nums = [1, 1, 1, 1, 1]\n",
    "target = 3\n",
    "```\n",
    "\n",
    "#### Step 1: Calculate `total_sum`\n",
    "\n",
    "- `total_sum = 1 + 1 + 1 + 1 + 1 = 5`\n",
    "\n",
    "#### Step 2: Check if a solution is possible\n",
    "\n",
    "- `(target + total_sum) = 3 + 5 = 8`\n",
    "\n",
    "Since 8 is even, a solution is possible.\n",
    "\n",
    "#### Step 3: Calculate `target_sum`\n",
    "\n",
    "- `target_sum = (target + total_sum) // 2 = (3 + 5) // 2 = 8 // 2 = 4`\n",
    "\n",
    "Now, let's interpret what this means:\n",
    "\n",
    "We need to find a subset of `nums` that sums to 4. This subset will be the \"positive\" group, and the remaining numbers will be the \"negative\" group.\n",
    "\n",
    "#### Example Solution\n",
    "\n",
    "One possible solution:\n",
    "\n",
    "- **Positive Group:** `[1, 1, 1, 1]` (sum = 4)\n",
    "- **Negative Group:** `[1]` (sum = 1)\n",
    "\n",
    "Let's verify:\n",
    "\n",
    "- `(1 + 1 + 1 + 1) - (1) = 4 - 1 = 3`, which equals our target.\n",
    "\n",
    "Another solution could be:\n",
    "\n",
    "- **Positive Group:** `[1, 1, 1, 1]` (sum = 4)\n",
    "- **Negative Group:** `[1]` (sum = 1)\n",
    "\n",
    "The problem has now been transformed from \"how many ways can we assign `+` and `-` signs to get a sum of 3\" to \"how many ways can we select numbers from `nums` to get a sum of 4\".\n",
    "\n",
    "This is why we use dynamic programming to count the number of subsets that sum to 4. Each of these subsets represents a valid solution to the original problem.\n",
    "\n",
    "#### Counting Subsets\n",
    "\n",
    "In this case, there are 5 ways to select numbers from `[1, 1, 1, 1, 1]` to get a sum of 4:\n",
    "\n",
    "1. `[1, 1, 1, 1]`\n",
    "2. `[1, 1, 1, 1]`\n",
    "3. `[1, 1, 1, 1]`\n",
    "4. `[1, 1, 1, 1]`\n",
    "5. `[1, 1, 1, 1]`\n",
    "\n",
    "Each of these corresponds to a way of assigning `+` and `-` signs in the original problem:\n",
    "\n",
    "1. `[+1, +1, +1, +1, -1]`\n",
    "2. `[+1, +1, +1, -1, +1]`\n",
    "3. `[+1, +1, -1, +1, +1]`\n",
    "4. `[+1, -1, +1, +1, +1]`\n",
    "5. `[-1, +1, +1, +1, +1]`\n",
    "\n",
    "This transformation allows us to use efficient dynamic programming techniques to solve what would otherwise be a more complex problem."
   ]
  },
  {
   "cell_type": "code",
   "execution_count": 4,
   "metadata": {},
   "outputs": [
    {
     "name": "stdout",
     "output_type": "stream",
     "text": [
      "5\n"
     ]
    }
   ],
   "source": [
    "def findTargetSumWays(nums, target):\n",
    "    total_sum = sum(nums)  # Calculate the total sum of nums\n",
    "    if abs(target) > total_sum:\n",
    "        return 0  # No solution if target is greater than total_sum\n",
    "    if (target + total_sum) % 2 == 1:\n",
    "        return 0  # No solution if (target + total_sum) is odd\n",
    "    target_sum = (target + total_sum) // 2  # Calculate the target sum\n",
    "    n = len(nums)\n",
    "    # Create a 2D DP array, rows represent the number of elements selected, columns represent the cumulative sum\n",
    "    dp = [[0] * (target_sum + 1) for _ in range(n + 1)]\n",
    " \n",
    "    # Initialize the DP array\n",
    "    dp[0][0] = 1\n",
    " \n",
    "    # Fill the DP array\n",
    "    for i in range(1, n + 1):\n",
    "        for j in range(target_sum + 1):\n",
    "            remain = j - nums[i-1]\n",
    "            if remain < 0:\n",
    "                dp[i][j] = dp[i - 1][j]  # If current number is greater than j, don't use it\n",
    "            else:\n",
    "                dp[i][j] = dp[i - 1][j] + dp[i - 1][remain]  # Use or don't use the current number\n",
    " \n",
    "    return dp[n][target_sum]  # Return the number of ways to reach the target sum\n",
    " \n",
    "nums = [1,1,1,1,1]\n",
    "target = 3\n",
    "print(findTargetSumWays(nums, target))"
   ]
  },
  {
   "cell_type": "markdown",
   "metadata": {},
   "source": [
    "## Method3 - 1D Bottom-UP DP\n",
    "https://github.com/youngyangyang04/leetcode-master/blob/master/problems/0494.%E7%9B%AE%E6%A0%87%E5%92%8C.md"
   ]
  },
  {
   "cell_type": "code",
   "execution_count": 3,
   "metadata": {},
   "outputs": [
    {
     "name": "stdout",
     "output_type": "stream",
     "text": [
      "5\n"
     ]
    }
   ],
   "source": [
    "def findTargetSumWays(nums, target):\n",
    "    total_sum = sum(nums)  # 计算nums的总和\n",
    "    if abs(target) > total_sum:\n",
    "        return 0  # 此时没有方案\n",
    "    if (target + total_sum) % 2 == 1:\n",
    "        return 0  # 此时没有方案\n",
    "    target_sum = (target + total_sum) // 2  # 目标和\n",
    "    dp = [0] * (target_sum + 1)  # 创建动态规划数组，初始化为0\n",
    "    dp[0] = 1  # 当目标和为0时，只有一种方案，即什么都不选\n",
    "    for num in nums:\n",
    "        for j in range(target_sum, num - 1, -1):\n",
    "            dp[j] += dp[j - num]  # 状态转移方程，累加不同选择方式的数量\n",
    "    return dp[target_sum]  # 返回达到目标和的方案数\n",
    "\n",
    "nums = [1,1,1,1,1]\n",
    "target = 3\n",
    "print(findTargetSumWays(nums,target))"
   ]
  }
 ],
 "metadata": {
  "kernelspec": {
   "display_name": "test_env",
   "language": "python",
   "name": "test_env"
  },
  "language_info": {
   "codemirror_mode": {
    "name": "ipython",
    "version": 3
   },
   "file_extension": ".py",
   "mimetype": "text/x-python",
   "name": "python",
   "nbconvert_exporter": "python",
   "pygments_lexer": "ipython3",
   "version": "3.8.6"
  }
 },
 "nbformat": 4,
 "nbformat_minor": 2
}
