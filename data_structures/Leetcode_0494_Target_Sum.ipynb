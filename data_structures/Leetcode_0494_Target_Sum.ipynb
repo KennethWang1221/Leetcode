{
 "cells": [
  {
   "cell_type": "markdown",
   "metadata": {},
   "source": [
    "## Method1 - 1D Top-Down DP / Backtracking\n",
    "https://www.youtube.com/watch?v=g0npyaQtAQM"
   ]
  },
  {
   "cell_type": "code",
   "execution_count": 8,
   "metadata": {},
   "outputs": [
    {
     "name": "stdout",
     "output_type": "stream",
     "text": [
      "5\n"
     ]
    }
   ],
   "source": [
    "def findTargetSumWays(nums, target):\n",
    "\n",
    "    dp = {}  # (index, total) -> # of ways\n",
    "\n",
    "    def backtrack(i, total):\n",
    "        if i == len(nums):\n",
    "            return 1 if total == target else 0\n",
    "        if (i, total) in dp:\n",
    "            return dp[(i, total)]\n",
    "\n",
    "        dp[(i, total)] = (backtrack(i + 1, total + nums[i]) + \n",
    "                          backtrack(i + 1, total - nums[i]))\n",
    "        return dp[(i, total)]\n",
    "\n",
    "    return backtrack(0, 0)\n",
    "\n",
    "nums = [1,1,1,1,1]\n",
    "target = 3\n",
    "print(findTargetSumWays(nums,target))"
   ]
  },
  {
   "cell_type": "markdown",
   "metadata": {},
   "source": [
    "## Method2 - 2D Bottom-UP DP \n",
    "https://github.com/youngyangyang04/leetcode-master/blob/master/problems/0494.%E7%9B%AE%E6%A0%87%E5%92%8C.md"
   ]
  },
  {
   "cell_type": "code",
   "execution_count": 4,
   "metadata": {},
   "outputs": [
    {
     "name": "stdout",
     "output_type": "stream",
     "text": [
      "5\n"
     ]
    }
   ],
   "source": [
    "def findTargetSumWays(nums, target):\n",
    "    total_sum = sum(nums)  # 计算nums的总和\n",
    "    if abs(target) > total_sum:\n",
    "        return 0  # 此时没有方案\n",
    "    if (target + total_sum) % 2 == 1:\n",
    "        return 0  # 此时没有方案\n",
    "    target_sum = (target + total_sum) // 2  # 目标和\n",
    "\n",
    "    # 创建二维动态规划数组，行表示选取的元素数量，列表示累加和\n",
    "    dp = [[0] * (target_sum + 1) for _ in range(len(nums) + 1)]\n",
    "\n",
    "    # 初始化状态\n",
    "    dp[0][0] = 1\n",
    "\n",
    "    # 动态规划过程\n",
    "    for i in range(1, len(nums) + 1):\n",
    "        for j in range(target_sum + 1):\n",
    "            dp[i][j] = dp[i - 1][j]  # 不选取当前元素\n",
    "            if j >= nums[i - 1]:\n",
    "                dp[i][j] += dp[i - 1][j - nums[i - 1]]  # 选取当前元素\n",
    "\n",
    "    return dp[len(nums)][target_sum]  # 返回达到目标和的方案数\n",
    "\n",
    "nums = [1,1,1,1,1]\n",
    "target = 3\n",
    "print(findTargetSumWays(nums,target))"
   ]
  },
  {
   "cell_type": "markdown",
   "metadata": {},
   "source": [
    "## Method3 - 1D Bottom-UP DP\n",
    "https://github.com/youngyangyang04/leetcode-master/blob/master/problems/0494.%E7%9B%AE%E6%A0%87%E5%92%8C.md"
   ]
  },
  {
   "cell_type": "code",
   "execution_count": 3,
   "metadata": {},
   "outputs": [
    {
     "name": "stdout",
     "output_type": "stream",
     "text": [
      "5\n"
     ]
    }
   ],
   "source": [
    "def findTargetSumWays(nums, target):\n",
    "    total_sum = sum(nums)  # 计算nums的总和\n",
    "    if abs(target) > total_sum:\n",
    "        return 0  # 此时没有方案\n",
    "    if (target + total_sum) % 2 == 1:\n",
    "        return 0  # 此时没有方案\n",
    "    target_sum = (target + total_sum) // 2  # 目标和\n",
    "    dp = [0] * (target_sum + 1)  # 创建动态规划数组，初始化为0\n",
    "    dp[0] = 1  # 当目标和为0时，只有一种方案，即什么都不选\n",
    "    for num in nums:\n",
    "        for j in range(target_sum, num - 1, -1):\n",
    "            dp[j] += dp[j - num]  # 状态转移方程，累加不同选择方式的数量\n",
    "    return dp[target_sum]  # 返回达到目标和的方案数\n",
    "\n",
    "nums = [1,1,1,1,1]\n",
    "target = 3\n",
    "print(findTargetSumWays(nums,target))"
   ]
  }
 ],
 "metadata": {
  "kernelspec": {
   "display_name": "test_env",
   "language": "python",
   "name": "test_env"
  },
  "language_info": {
   "codemirror_mode": {
    "name": "ipython",
    "version": 3
   },
   "file_extension": ".py",
   "mimetype": "text/x-python",
   "name": "python",
   "nbconvert_exporter": "python",
   "pygments_lexer": "ipython3",
   "version": "3.8.6"
  }
 },
 "nbformat": 4,
 "nbformat_minor": 2
}
