{
 "cells": [
  {
   "cell_type": "markdown",
   "metadata": {},
   "source": [
    "## Method1 - 1D Bottom-Up-DP\n",
    "https://www.youtube.com/watch?v=Y0lT9Fck7qI"
   ]
  },
  {
   "cell_type": "code",
   "execution_count": 3,
   "metadata": {},
   "outputs": [
    {
     "name": "stdout",
     "output_type": "stream",
     "text": [
      "5\n"
     ]
    }
   ],
   "source": [
    "# Tim: o(1)\n",
    "def climbStairs(n: int) -> int:\n",
    "    one, two = 1, 1\n",
    "\n",
    "    for i in range(n-1):\n",
    "        temp = one\n",
    "        one = one + two\n",
    "        two = temp\n",
    "    return one\n",
    "\n",
    "n = 4\n",
    "res = climbStairs(n)\n",
    "print(res)"
   ]
  },
  {
   "cell_type": "code",
   "execution_count": 8,
   "metadata": {},
   "outputs": [
    {
     "name": "stdout",
     "output_type": "stream",
     "text": [
      "5\n"
     ]
    }
   ],
   "source": [
    "def climbStairs(n: int) -> int:\n",
    "    if n <= 3:\n",
    "        return n\n",
    "    n1, n2 = 2, 3\n",
    "\n",
    "    for i in range(4, n + 1):\n",
    "        temp = n1 + n2\n",
    "        n1 = n2\n",
    "        n2 = temp\n",
    "    return n2\n",
    "\n",
    "n = 4\n",
    "res = climbStairs(n)\n",
    "print(res)"
   ]
  },
  {
   "cell_type": "markdown",
   "metadata": {},
   "source": [
    "## Method2 - DP\n",
    "https://github.com/youngyangyang04/leetcode-master/blob/master/problems/0070.%E7%88%AC%E6%A5%BC%E6%A2%AF.md"
   ]
  },
  {
   "cell_type": "code",
   "execution_count": 1,
   "metadata": {},
   "outputs": [
    {
     "name": "stdout",
     "output_type": "stream",
     "text": [
      "5\n"
     ]
    }
   ],
   "source": [
    "# Tim: O(n)\n",
    "def climbStairs(n: int) -> int:\n",
    "    if n <= 1:\n",
    "        return n\n",
    "    \n",
    "    dp = [0] * (n + 1)\n",
    "    dp[1] = 1\n",
    "    dp[2] = 2\n",
    "    \n",
    "    for i in range(3, n + 1):\n",
    "        dp[i] = dp[i - 1] + dp[i - 2]\n",
    "    \n",
    "    return dp[n]\n",
    "\n",
    "n = 4\n",
    "res = climbStairs(n)\n",
    "print(res)"
   ]
  },
  {
   "cell_type": "code",
   "execution_count": 2,
   "metadata": {},
   "outputs": [
    {
     "name": "stdout",
     "output_type": "stream",
     "text": [
      "5\n"
     ]
    }
   ],
   "source": [
    "# Tim: O(3)\n",
    "def climbStairs(n: int) -> int:\n",
    "    if n <= 1:\n",
    "        return n\n",
    "    \n",
    "    dp = [0] * 3\n",
    "    dp[1] = 1\n",
    "    dp[2] = 2\n",
    "    \n",
    "    for i in range(3, n + 1):\n",
    "        total = dp[1] + dp[2]\n",
    "        dp[1] = dp[2]\n",
    "        dp[2] = total\n",
    "    \n",
    "    return dp[2]\n",
    "\n",
    "n = 4\n",
    "res = climbStairs(n)\n",
    "print(res)"
   ]
  }
 ],
 "metadata": {
  "kernelspec": {
   "display_name": "test_env",
   "language": "python",
   "name": "test_env"
  },
  "language_info": {
   "codemirror_mode": {
    "name": "ipython",
    "version": 3
   },
   "file_extension": ".py",
   "mimetype": "text/x-python",
   "name": "python",
   "nbconvert_exporter": "python",
   "pygments_lexer": "ipython3",
   "version": "3.8.6"
  }
 },
 "nbformat": 4,
 "nbformat_minor": 2
}
