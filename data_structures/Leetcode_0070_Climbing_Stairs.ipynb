{
 "cells": [
  {
   "cell_type": "markdown",
   "metadata": {},
   "source": [
    "## Method1 - 1D Bottom-Up-DP\n",
    "https://www.youtube.com/watch?v=Y0lT9Fck7qI"
   ]
  },
  {
   "cell_type": "code",
   "execution_count": 3,
   "metadata": {},
   "outputs": [
    {
     "name": "stdout",
     "output_type": "stream",
     "text": [
      "5\n"
     ]
    }
   ],
   "source": [
    "# Tim: o(1)\n",
    "def climbStairs(n: int) -> int:\n",
    "    one, two = 1, 1\n",
    "\n",
    "    for i in range(n-1):\n",
    "        temp = one\n",
    "        one = one + two\n",
    "        two = temp\n",
    "    return one\n",
    "\n",
    "n = 4\n",
    "res = climbStairs(n)\n",
    "print(res)"
   ]
  },
  {
   "cell_type": "code",
   "execution_count": 8,
   "metadata": {},
   "outputs": [
    {
     "name": "stdout",
     "output_type": "stream",
     "text": [
      "5\n"
     ]
    }
   ],
   "source": [
    "def climbStairs(n: int) -> int:\n",
    "    if n <= 3:\n",
    "        return n\n",
    "    n1, n2 = 2, 3\n",
    "\n",
    "    for i in range(4, n + 1):\n",
    "        temp = n1 + n2\n",
    "        n1 = n2\n",
    "        n2 = temp\n",
    "    return n2\n",
    "\n",
    "n = 4\n",
    "res = climbStairs(n)\n",
    "print(res)"
   ]
  },
  {
   "cell_type": "markdown",
   "metadata": {},
   "source": [
    "## Method2 - DP\n",
    "https://github.com/youngyangyang04/leetcode-master/blob/master/problems/0070.%E7%88%AC%E6%A5%BC%E6%A2%AF.md\n",
    "\n",
    "same to Leetcode_0509_Fibonacci_Numbe"
   ]
  },
  {
   "cell_type": "code",
   "execution_count": 5,
   "metadata": {},
   "outputs": [
    {
     "name": "stdout",
     "output_type": "stream",
     "text": [
      "3\n"
     ]
    }
   ],
   "source": [
    "# Tim: O(n)\n",
    "def climbStairs(n: int) -> int:\n",
    "    if n <= 1:\n",
    "        return n\n",
    "    \n",
    "    dp = [0] * (n + 1)\n",
    "    dp[1] = 1\n",
    "    dp[2] = 2\n",
    "    \n",
    "    for i in range(3, n + 1):\n",
    "        dp[i] = dp[i - 1] + dp[i - 2]\n",
    "    \n",
    "    return dp[n]\n",
    "\n",
    "n = 3\n",
    "res = climbStairs(n)\n",
    "print(res)"
   ]
  },
  {
   "cell_type": "code",
   "execution_count": 2,
   "metadata": {},
   "outputs": [
    {
     "name": "stdout",
     "output_type": "stream",
     "text": [
      "5\n"
     ]
    }
   ],
   "source": [
    "# Tim: O(3)\n",
    "def climbStairs(n: int) -> int:\n",
    "    if n <= 1:\n",
    "        return n\n",
    "    \n",
    "    dp = [0] * 3\n",
    "    dp[1] = 1\n",
    "    dp[2] = 2\n",
    "    \n",
    "    for i in range(3, n + 1):\n",
    "        total = dp[1] + dp[2]\n",
    "        dp[1] = dp[2]\n",
    "        dp[2] = total\n",
    "    \n",
    "    return dp[2]\n",
    "\n",
    "n = 4\n",
    "res = climbStairs(n)\n",
    "print(res)"
   ]
  },
  {
   "cell_type": "markdown",
   "metadata": {},
   "source": [
    "## Method3 - 1D Bottom-UP DP\n",
    "\n",
    "Same idea to Leetcode_0377_Combination_Sum_IV and Leetcode_0322_Coin_Change"
   ]
  },
  {
   "cell_type": "code",
   "execution_count": 1,
   "metadata": {},
   "outputs": [
    {
     "name": "stdout",
     "output_type": "stream",
     "text": [
      "3\n"
     ]
    }
   ],
   "source": [
    "def climbStairs(n):\n",
    "    nums = [1,2]\n",
    "\n",
    "    dp = [0] * (n+1)\n",
    "    dp[0] = 1\n",
    "\n",
    "    for a in range(1,n+1):\n",
    "        for i in nums:\n",
    "            remain = a - i\n",
    "            if remain<0:\n",
    "                dp[a] = dp[a]\n",
    "            else:\n",
    "                dp[a] = dp[a] + dp[remain]\n",
    "    return dp[n]\n",
    "print(climbStairs(n=3))"
   ]
  },
  {
   "cell_type": "markdown",
   "metadata": {},
   "source": [
    "Leetcode_0322_Coin_Change"
   ]
  },
  {
   "cell_type": "code",
   "execution_count": 2,
   "metadata": {},
   "outputs": [
    {
     "name": "stdout",
     "output_type": "stream",
     "text": [
      "3\n"
     ]
    }
   ],
   "source": [
    "def coinChange(coins = [1,2,5], amount = 11):\n",
    "    dp = [float(\"inf\")] * (amount+1)\n",
    "    dp[0] = 0\n",
    "    for a in range(1, amount+1):\n",
    "        for coin in coins:\n",
    "            remain = a - coin\n",
    "            if remain < 0:\n",
    "                dp[a] = dp[a]\n",
    "            else:\n",
    "                dp[a] = min(dp[a], 1+dp[remain])\n",
    "    return dp[amount] if dp[amount] != float('inf') else -1\n",
    "        \n",
    "print(coinChange()) # dp = [0,4,1,4]"
   ]
  },
  {
   "cell_type": "markdown",
   "metadata": {},
   "source": [
    "Leetcode_0377_Combination_Sum_IV"
   ]
  },
  {
   "cell_type": "code",
   "execution_count": 3,
   "metadata": {},
   "outputs": [
    {
     "name": "stdout",
     "output_type": "stream",
     "text": [
      "7\n"
     ]
    }
   ],
   "source": [
    "def combinationSum4(nums, target):\n",
    "    dp = [0] * (target + 1)\n",
    "    dp[0] = 1\n",
    "    for i in range(1, target + 1):  # 遍历背包\n",
    "        for n in nums:  # 遍历物品\n",
    "            remain = i - n\n",
    "            if remain < 0:\n",
    "                dp[i] = dp[i]\n",
    "            else:\n",
    "                dp[i] = dp[i] + dp[remain]\n",
    "    return dp[target]\n",
    "nums = [1,2,3]\n",
    "target = 4\n",
    "print(combinationSum4(nums,target))"
   ]
  }
 ],
 "metadata": {
  "kernelspec": {
   "display_name": "test_env",
   "language": "python",
   "name": "python3"
  },
  "language_info": {
   "codemirror_mode": {
    "name": "ipython",
    "version": 3
   },
   "file_extension": ".py",
   "mimetype": "text/x-python",
   "name": "python",
   "nbconvert_exporter": "python",
   "pygments_lexer": "ipython3",
   "version": "3.8.6"
  }
 },
 "nbformat": 4,
 "nbformat_minor": 2
}
