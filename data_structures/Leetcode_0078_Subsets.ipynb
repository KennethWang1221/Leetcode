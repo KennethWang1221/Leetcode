{
 "cells": [
  {
   "cell_type": "markdown",
   "metadata": {},
   "source": [
    "## Method1 - Backtracking\n",
    "\n",
    "Most Same idea to Leetcode_0039_Combination_Sum \n",
    "\n",
    "also Same idea to 0077, 0216, 0017, 0039, 0040, 0131, 0093, 0078\n",
    "\n",
    "https://www.youtube.com/watch?v=REOH22Xwdkk"
   ]
  },
  {
   "cell_type": "code",
   "execution_count": 3,
   "metadata": {},
   "outputs": [
    {
     "name": "stdout",
     "output_type": "stream",
     "text": [
      "[[1, 2, 3], [1, 2], [1, 3], [1], [2, 3], [2], [3], []]\n"
     ]
    }
   ],
   "source": [
    "def subsets(nums):\n",
    "    res = []\n",
    "    n = n\n",
    "\n",
    "    def backtracking(start, comb):\n",
    "        if start >= n:\n",
    "            res.append(comb.copy())\n",
    "            return\n",
    "        # decision to include nums[i]\n",
    "        comb.append(nums[start])\n",
    "        backtracking(start + 1, comb)\n",
    "        # decision NOT to include nums[i]\n",
    "        comb.pop(-1)\n",
    "        backtracking(start + 1, comb)\n",
    "\n",
    "    backtracking(start = 0, comb = [])\n",
    "    return res\n",
    "\n",
    "nums = [1,2,3]\n",
    "print(subsets(nums))  "
   ]
  },
  {
   "cell_type": "markdown",
   "metadata": {},
   "source": [
    "### Recap Leetcode_0039_Combination_Sum"
   ]
  },
  {
   "cell_type": "code",
   "execution_count": 15,
   "metadata": {},
   "outputs": [
    {
     "name": "stdout",
     "output_type": "stream",
     "text": [
      "[[2, 2, 3], [7]]\n"
     ]
    }
   ],
   "source": [
    "def combinationSum(candidates, target):\n",
    "    res = []\n",
    "    n = len(candidates)\n",
    "\n",
    "    def backtracking(start, comb, total):\n",
    "        if total == target:\n",
    "            res.append(comb.copy())\n",
    "            return \n",
    "        if start >=n or total > target:\n",
    "            return \n",
    "        \n",
    "        comb.append(candidates[start])\n",
    "        total += candidates[start]\n",
    "        backtracking(start, comb, total)\n",
    "        comb.pop(-1)\n",
    "        total -= candidates[start]\n",
    "        backtracking(start+1, comb, total)\n",
    "    \n",
    "\n",
    "    backtracking(start = 0, comb = [], total = 0)\n",
    "\n",
    "\n",
    "    return res\n",
    "candidates = [2,3,6,7]\n",
    "target = 7\n",
    "print(combinationSum(candidates, target))"
   ]
  },
  {
   "cell_type": "markdown",
   "metadata": {},
   "source": [
    "## DIY - Backtracking - Failure"
   ]
  },
  {
   "cell_type": "code",
   "execution_count": 1,
   "metadata": {},
   "outputs": [
    {
     "name": "stdout",
     "output_type": "stream",
     "text": [
      "[[], [1], [2], [3], [2, 3], [1, 2], [1, 2, 3]]\n"
     ]
    }
   ],
   "source": [
    "def subsets(nums):\n",
    "    n = n\n",
    "    res = [[]]\n",
    "    def backtracking(start, comb):\n",
    "        if start >= n:\n",
    "            for c in comb:\n",
    "                if c not in res:        \n",
    "                    res.append(c)\n",
    "            return \n",
    "                \n",
    "        for end in range(start, n):\n",
    "            #if comb not in res:\n",
    "            comb.append(nums[start:end+1])\n",
    "            backtracking(end+1, comb)\n",
    "            comb.pop(-1)\n",
    "\n",
    "\n",
    "    backtracking(start = 0, comb = [])\n",
    "    return res\n",
    "print(subsets(nums = [1,2,3]))"
   ]
  },
  {
   "cell_type": "markdown",
   "metadata": {},
   "source": [
    "## Method2 - Backtracking - Recap\n",
    "https://github.com/youngyangyang04/leetcode-master/blob/master/problems/0078.%E5%AD%90%E9%9B%86.md"
   ]
  },
  {
   "cell_type": "code",
   "execution_count": 33,
   "metadata": {},
   "outputs": [
    {
     "name": "stdout",
     "output_type": "stream",
     "text": [
      "[[], [1], [1, 2], [1, 2, 3], [1, 3], [2], [2, 3], [3]]\n"
     ]
    }
   ],
   "source": [
    "def subsets(nums):\n",
    "    def backtracking(nums, start, comb, res):\n",
    "        res.append(comb[:].copy())  # 收集子集，要放在终止添加的上面，否则会漏掉自己\n",
    "        if start >= n:  # 终止条件可以不加\n",
    "            return\n",
    "        for i in range(start, n):\n",
    "            comb.append(nums[i])\n",
    "            backtracking(nums, i + 1, comb, res)\n",
    "            comb.pop()\n",
    "    n = len(nums)\n",
    "    res = []\n",
    "    comb = []\n",
    "    backtracking(nums, 0, comb, res)\n",
    "    return res\n",
    "\n",
    "nums = [1,2,3]\n",
    "print(subsets(nums))"
   ]
  }
 ],
 "metadata": {
  "kernelspec": {
   "display_name": "leetcode_env",
   "language": "python",
   "name": "leetcode_env"
  },
  "language_info": {
   "codemirror_mode": {
    "name": "ipython",
    "version": 3
   },
   "file_extension": ".py",
   "mimetype": "text/x-python",
   "name": "python",
   "nbconvert_exporter": "python",
   "pygments_lexer": "ipython3",
   "version": "3.8.6"
  }
 },
 "nbformat": 4,
 "nbformat_minor": 2
}
