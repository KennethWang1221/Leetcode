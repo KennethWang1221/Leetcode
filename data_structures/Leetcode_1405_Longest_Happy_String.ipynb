{
 "cells": [
  {
   "cell_type": "markdown",
   "metadata": {},
   "source": [
    "## Method1 - Heap\n",
    "\n",
    "https://www.youtube.com/watch?v=8u-H6O_XQKE"
   ]
  },
  {
   "cell_type": "code",
   "execution_count": 4,
   "metadata": {},
   "outputs": [
    {
     "name": "stdout",
     "output_type": "stream",
     "text": [
      "ccaccbcc\n"
     ]
    }
   ],
   "source": [
    "import heapq\n",
    "def longestDiverseString(a: int, b: int, c: int):\n",
    "    res, maxHeap = \"\", []\n",
    "    for count, char in [(-a, \"a\"), (-b, \"b\"), (-c, \"c\")]:\n",
    "        if count != 0:\n",
    "            heapq.heappush(maxHeap, (count, char))\n",
    "    \n",
    "    while maxHeap:\n",
    "        count, char = heapq.heappop(maxHeap)\n",
    "        if len(res) > 1 and res[-1] == res[-2] == char:\n",
    "            if not maxHeap:\n",
    "                break\n",
    "            count2, char2 = heapq.heappop(maxHeap)\n",
    "            res += char2\n",
    "            count2 += 1\n",
    "            if count2:\n",
    "                heapq.heappush(maxHeap, (count2, char2))\n",
    "        else:\n",
    "            res += char\n",
    "            count += 1\n",
    "        if count: \n",
    "            heapq.heappush(maxHeap, (count, char))\n",
    "    return res\n",
    "print(longestDiverseString(a = 1, b = 1 , c = 7))"
   ]
  }
 ],
 "metadata": {
  "kernelspec": {
   "display_name": "leetcode_env",
   "language": "python",
   "name": "leetcode_env"
  },
  "language_info": {
   "codemirror_mode": {
    "name": "ipython",
    "version": 3
   },
   "file_extension": ".py",
   "mimetype": "text/x-python",
   "name": "python",
   "nbconvert_exporter": "python",
   "pygments_lexer": "ipython3",
   "version": "3.8.6"
  }
 },
 "nbformat": 4,
 "nbformat_minor": 2
}
