{
 "cells": [
  {
   "cell_type": "markdown",
   "metadata": {},
   "source": [
    "## Method1 - 1D Bottom-UP DP\n",
    "https://www.youtube.com/watch?v=rWAJCfYYOvM"
   ]
  },
  {
   "cell_type": "code",
   "execution_count": 4,
   "metadata": {},
   "outputs": [
    {
     "name": "stdout",
     "output_type": "stream",
     "text": [
      "1\n"
     ]
    }
   ],
   "source": [
    "def rob(nums):\n",
    "    def helper(nums):\n",
    "        n = len(nums)\n",
    "        rob1, rob2 = 0,0\n",
    "\n",
    "        for n in nums:\n",
    "            temp = max(n+rob1, rob2)\n",
    "            rob1 = rob2\n",
    "            rob2 = temp\n",
    "\n",
    "        return rob2\n",
    "    \n",
    "    right = helper(nums[1:])\n",
    "    left = helper(nums[:-1])\n",
    "    return max(nums[0], right, left)\n",
    "\n",
    "nums = [1,2,3,1]\n",
    "nums = [1]\n",
    "res = rob(nums)\n",
    "print(res)\n"
   ]
  },
  {
   "cell_type": "markdown",
   "metadata": {},
   "source": [
    "## Method2 - 1D Bottom-UP DP"
   ]
  },
  {
   "cell_type": "code",
   "execution_count": 5,
   "metadata": {},
   "outputs": [
    {
     "name": "stdout",
     "output_type": "stream",
     "text": [
      "0\n"
     ]
    }
   ],
   "source": [
    "def rob(nums):\n",
    "    def dfs(number):\n",
    "        if len(number) == 0: return 0\n",
    "        if len(number)==1: return number[0] \n",
    "        \n",
    "        dp = [0] * len(number)\n",
    "        dp[0] = number[0]\n",
    "        dp[1] = max(number[0], number[1])\n",
    "\n",
    "        for i in range(2, len(number)):\n",
    "            dp[i] = max(dp[i-2]+number[i], dp[i-1])\n",
    "    \n",
    "        return dp[-1]\n",
    "    \n",
    "    n = len(nums)\n",
    "\n",
    "    res = max(nums[0], dfs(nums[1:]), dfs(nums[:-1]))\n",
    "    return res\n",
    "\n",
    "nums = [1,2,3,1]\n",
    "nums = [0,0]\n",
    "res = rob(nums)\n",
    "print(res)\n"
   ]
  }
 ],
 "metadata": {
  "kernelspec": {
   "display_name": "test_env",
   "language": "python",
   "name": "test_env"
  },
  "language_info": {
   "codemirror_mode": {
    "name": "ipython",
    "version": 3
   },
   "file_extension": ".py",
   "mimetype": "text/x-python",
   "name": "python",
   "nbconvert_exporter": "python",
   "pygments_lexer": "ipython3",
   "version": "3.8.6"
  }
 },
 "nbformat": 4,
 "nbformat_minor": 2
}
