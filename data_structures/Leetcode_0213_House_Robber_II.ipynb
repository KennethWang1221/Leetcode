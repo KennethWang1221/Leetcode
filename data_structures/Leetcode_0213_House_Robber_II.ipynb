{
 "cells": [
  {
   "cell_type": "markdown",
   "metadata": {},
   "source": [
    "## Method1 - 1D Top-Down DP\n",
    "https://www.youtube.com/watch?v=rWAJCfYYOvM"
   ]
  },
  {
   "cell_type": "code",
   "execution_count": 4,
   "metadata": {},
   "outputs": [
    {
     "name": "stdout",
     "output_type": "stream",
     "text": [
      "1\n"
     ]
    }
   ],
   "source": [
    "def rob(nums):\n",
    "    def helper(nums):\n",
    "        n = len(nums)\n",
    "        rob1, rob2 = 0,0\n",
    "\n",
    "        for n in nums:\n",
    "            temp = max(n+rob1, rob2)\n",
    "            rob1 = rob2\n",
    "            rob2 = temp\n",
    "\n",
    "        return rob2\n",
    "    \n",
    "    right = helper(nums[1:])\n",
    "    left = helper(nums[:-1])\n",
    "    return max(nums[0], right, left)\n",
    "\n",
    "nums = [1,2,3,1]\n",
    "nums = [1]\n",
    "res = rob(nums)\n",
    "print(res)\n"
   ]
  }
 ],
 "metadata": {
  "kernelspec": {
   "display_name": "test_env",
   "language": "python",
   "name": "test_env"
  },
  "language_info": {
   "codemirror_mode": {
    "name": "ipython",
    "version": 3
   },
   "file_extension": ".py",
   "mimetype": "text/x-python",
   "name": "python",
   "nbconvert_exporter": "python",
   "pygments_lexer": "ipython3",
   "version": "3.8.6"
  }
 },
 "nbformat": 4,
 "nbformat_minor": 2
}
