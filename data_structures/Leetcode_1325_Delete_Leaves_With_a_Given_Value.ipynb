{
 "cells": [
  {
   "cell_type": "markdown",
   "metadata": {},
   "source": [
    "## Method1 - DFS"
   ]
  },
  {
   "cell_type": "code",
   "execution_count": 1,
   "metadata": {},
   "outputs": [
    {
     "name": "stdout",
     "output_type": "stream",
     "text": [
      "Tree after removing leaves with value 2:\n",
      "1 2 4 3 "
     ]
    }
   ],
   "source": [
    "# Definition for a binary tree node.\n",
    "class TreeNode:\n",
    "    def __init__(self, val=0, left=None, right=None):\n",
    "        self.val = val\n",
    "        self.left = left\n",
    "        self.right = right\n",
    "\n",
    "class Solution:\n",
    "    def removeLeafNodes(self, root: TreeNode, target: int) -> TreeNode:\n",
    "        if not root:\n",
    "            return None\n",
    "        \n",
    "        # Recursively remove leaf nodes in the left and right subtrees\n",
    "        root.left = self.removeLeafNodes(root.left, target)\n",
    "        root.right = self.removeLeafNodes(root.right, target)\n",
    "        \n",
    "        # If the current node is a leaf and its value equals target, remove it\n",
    "        if not root.left and not root.right and root.val == target:\n",
    "            return None\n",
    "        \n",
    "        return root\n",
    "\n",
    "# Function to print tree (pre-order traversal)\n",
    "def print_tree(root):\n",
    "    if root:\n",
    "        print(root.val, end=\" \")\n",
    "        print_tree(root.left)\n",
    "        print_tree(root.right)\n",
    "\n",
    "# Test case\n",
    "root = TreeNode(1)\n",
    "root.left = TreeNode(2)\n",
    "root.right = TreeNode(3)\n",
    "root.left.left = TreeNode(2)\n",
    "root.left.right = TreeNode(4)\n",
    "root.right.left = TreeNode(2)\n",
    "\n",
    "sol = Solution()\n",
    "root = sol.removeLeafNodes(root, 2)\n",
    "\n",
    "print(\"Tree after removing leaves with value 2:\")\n",
    "print_tree(root)\n"
   ]
  },
  {
   "cell_type": "markdown",
   "metadata": {},
   "source": [
    "## Method2 - BFS\n",
    "https://www.youtube.com/watch?v=FqAoYAwbwV8"
   ]
  },
  {
   "cell_type": "code",
   "execution_count": 3,
   "metadata": {},
   "outputs": [
    {
     "name": "stdout",
     "output_type": "stream",
     "text": [
      "Tree after removing leaves with value 3:\n",
      "3 2 3 1 "
     ]
    }
   ],
   "source": [
    "from collections import deque\n",
    "\n",
    "class TreeNode:\n",
    "    def __init__(self, val=0, left=None, right=None):\n",
    "        self.val = val\n",
    "        self.left = left\n",
    "        self.right = right\n",
    "\n",
    "class Solution:\n",
    "    def removeLeafNodes(self, root: TreeNode, target: int) -> TreeNode:\n",
    "        if not root:\n",
    "            return None\n",
    "        \n",
    "        # Initialize the queue for BFS\n",
    "        queue = deque([root])\n",
    "\n",
    "        while queue:\n",
    "            node = queue.popleft()\n",
    "\n",
    "            # If node's children are leaves with target value, remove them\n",
    "            if node.left:\n",
    "                if node.left.left is None and node.left.right is None and node.left.val == target:\n",
    "                    node.left = None\n",
    "                else:\n",
    "                    queue.append(node.left)\n",
    "\n",
    "            if node.right:\n",
    "                if node.right.left is None and node.right.right is None and node.right.val == target:\n",
    "                    node.right = None\n",
    "                else:\n",
    "                    queue.append(node.right)\n",
    "\n",
    "        # Final pass to remove nodes with target value\n",
    "        return self.dfs(root, target)\n",
    "\n",
    "    def dfs(self, node, target):\n",
    "        if not node:\n",
    "            return None\n",
    "        if node.left:\n",
    "            node.left = self.dfs(node.left, target)\n",
    "        if node.right:\n",
    "            node.right = self.dfs(node.right, target)\n",
    "\n",
    "        if node.left is None and node.right is None and node.val == target:\n",
    "            return None\n",
    "        return node\n",
    "\n",
    "# Helper function to build the tree\n",
    "def build_tree(values):\n",
    "    if not values:\n",
    "        return None\n",
    "    root = TreeNode(values[0])\n",
    "    queue = [root]\n",
    "    index = 1\n",
    "    while queue and index < len(values):\n",
    "        node = queue.pop(0)\n",
    "        if values[index] is not None:\n",
    "            node.left = TreeNode(values[index])\n",
    "            queue.append(node.left)\n",
    "        index += 1\n",
    "        if index < len(values) and values[index] is not None:\n",
    "            node.right = TreeNode(values[index])\n",
    "            queue.append(node.right)\n",
    "        index += 1\n",
    "    return root\n",
    "\n",
    "# Test case\n",
    "root = build_tree([3, 2, 3, None, 3, None, 1])\n",
    "solution = Solution()\n",
    "root = solution.removeLeafNodes(root, 3)\n",
    "\n",
    "# Helper function to print the tree (preorder)\n",
    "def print_tree(root):\n",
    "    if root:\n",
    "        print(root.val, end=\" \")\n",
    "        print_tree(root.left)\n",
    "        print_tree(root.right)\n",
    "\n",
    "print(\"Tree after removing leaves with value 3:\")\n",
    "print_tree(root)  # Expected output: 3 3 1 \n"
   ]
  }
 ],
 "metadata": {
  "kernelspec": {
   "display_name": "leetcode_env",
   "language": "python",
   "name": "python3"
  },
  "language_info": {
   "codemirror_mode": {
    "name": "ipython",
    "version": 3
   },
   "file_extension": ".py",
   "mimetype": "text/x-python",
   "name": "python",
   "nbconvert_exporter": "python",
   "pygments_lexer": "ipython3",
   "version": "3.8.6"
  }
 },
 "nbformat": 4,
 "nbformat_minor": 2
}
