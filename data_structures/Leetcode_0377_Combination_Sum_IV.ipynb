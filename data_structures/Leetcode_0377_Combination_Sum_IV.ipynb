{
 "cells": [
  {
   "cell_type": "markdown",
   "metadata": {},
   "source": [
    "## Unbounded Knapsack Problem (UKP)"
   ]
  },
  {
   "cell_type": "markdown",
   "metadata": {},
   "source": [
    "## Method1 - 1D Bottom-UP DP\n",
    "\n",
    "https://www.youtube.com/watch?v=dw2nMCxG0ik"
   ]
  },
  {
   "cell_type": "code",
   "execution_count": 5,
   "metadata": {},
   "outputs": [
    {
     "name": "stdout",
     "output_type": "stream",
     "text": [
      "7\n"
     ]
    }
   ],
   "source": [
    "def combinationSum4(nums, target):\n",
    "    dp = {0:1}\n",
    "\n",
    "    for total in range(1, target + 1):\n",
    "        dp[total] = 0\n",
    "        for n in nums:\n",
    "            remain = total - n\n",
    "            dp[total] += dp.get(remain, 0)\n",
    "        \n",
    "    return dp[target]\n",
    "nums = [1,2,3]\n",
    "target = 4\n",
    "print(combinationSum4(nums,target))"
   ]
  },
  {
   "cell_type": "markdown",
   "metadata": {},
   "source": [
    "## Method2 - 2D Bottom-UP DP\n",
    "https://github.com/youngyangyang04/leetcode-master/blob/master/problems/0377.%E7%BB%84%E5%90%88%E6%80%BB%E5%92%8C%E2%85%A3.md"
   ]
  },
  {
   "cell_type": "code",
   "execution_count": 7,
   "metadata": {},
   "outputs": [
    {
     "name": "stdout",
     "output_type": "stream",
     "text": [
      "7\n"
     ]
    }
   ],
   "source": [
    "def combinationSum4(nums, target):\n",
    "    # dp[][j]和为j的组合的总数\n",
    "    dp = [[0] * (target+1) for _ in nums]\n",
    "    \n",
    "    for i in range(len(nums)):\n",
    "        dp[i][0] = 1\n",
    "        \n",
    "    # 这里不能初始化dp[0][j]。dp[0][j]的值依赖于dp[-1][j-nums[0]]\n",
    "        \n",
    "    for j in range(1, target+1):\n",
    "        for i in range(len(nums)):\n",
    "            remain = j - nums[i]\n",
    "            if remain >= 0:\n",
    "                \"\"\"\n",
    "                不放nums[i]\n",
    "                i = 0 时，dp[-1][j]恰好为0，所以没有特殊处理\n",
    "                放nums[i]。对于和为j的组合，只有试过全部物品，才能知道有几种组合方式。所以取最后一个物品dp[-1][j-nums[i]]\n",
    "                \"\"\"\n",
    "                dp[i][j] = dp[i-1][j] + dp[-1][remain]                \n",
    "            else:\n",
    "                dp[i][j] = dp[i-1][j]\n",
    "    return dp[-1][-1]\n",
    "nums = [1,2,3]\n",
    "target = 4\n",
    "print(combinationSum4(nums,target))"
   ]
  },
  {
   "cell_type": "markdown",
   "metadata": {},
   "source": [
    "## Method3 - 1D Bottom-UP DP"
   ]
  },
  {
   "cell_type": "code",
   "execution_count": 21,
   "metadata": {},
   "outputs": [
    {
     "name": "stdout",
     "output_type": "stream",
     "text": [
      "7\n"
     ]
    }
   ],
   "source": [
    "def combinationSum4(nums, target):\n",
    "    dp = [0] * (target + 1)\n",
    "    dp[0] = 1\n",
    "    for i in range(1, target + 1):  # 遍历背包\n",
    "        for n in nums:  # 遍历物品\n",
    "            remain = i - n\n",
    "            if remain >= 0:\n",
    "                dp[i] += dp[remain]\n",
    "    return dp[target]\n",
    "nums = [1,2,3]\n",
    "target = 4\n",
    "print(combinationSum4(nums,target))"
   ]
  },
  {
   "cell_type": "markdown",
   "metadata": {},
   "source": [
    "same idea to Leetcode_0322_Coin_Change"
   ]
  },
  {
   "cell_type": "code",
   "execution_count": 20,
   "metadata": {},
   "outputs": [
    {
     "name": "stdout",
     "output_type": "stream",
     "text": [
      "2\n"
     ]
    }
   ],
   "source": [
    "from typing import List\n",
    "\n",
    "def coinChange(coins: List[int], amount: int) -> int:\n",
    "    dp = [amount + 1] * (amount + 1)\n",
    "    dp[0] = 0\n",
    "\n",
    "    for a in range(1, amount + 1):\n",
    "        for c in coins:\n",
    "            remain = a - c\n",
    "            if remain >= 0:\n",
    "                dp[a] = min(dp[a], 1 + dp[remain])\n",
    "    return dp[amount] if dp[amount] != amount + 1 else -1\n",
    "\n",
    "coins = [2]\n",
    "amount = 3\n",
    "coins = [1, 2, 5]\n",
    "amount = 7\n",
    "res = coinChange(coins, amount)\n",
    "print(res)"
   ]
  },
  {
   "cell_type": "markdown",
   "metadata": {},
   "source": [
    "优化版"
   ]
  },
  {
   "cell_type": "code",
   "execution_count": 3,
   "metadata": {},
   "outputs": [
    {
     "name": "stdout",
     "output_type": "stream",
     "text": [
      "7\n"
     ]
    }
   ],
   "source": [
    "def combinationSum4(nums, target):\n",
    "    dp = [0] * (target + 1)  # 创建动态规划数组，用于存储组合总数\n",
    "    dp[0] = 1  # 初始化背包容量为0时的组合总数为1\n",
    "\n",
    "    for i in range(1, target + 1):  # 遍历背包容量\n",
    "        for j in nums:  # 遍历物品列表\n",
    "            if i >= j:  # 当背包容量大于等于当前物品重量时\n",
    "                dp[i] += dp[i - j]  # 更新组合总数\n",
    "\n",
    "    return dp[-1]  # 返回背包容量为target时的组合总数\n",
    "nums = [1,2,3]\n",
    "target = 4\n",
    "print(combinationSum4(nums,target))"
   ]
  }
 ],
 "metadata": {
  "kernelspec": {
   "display_name": "test_env",
   "language": "python",
   "name": "test_env"
  },
  "language_info": {
   "codemirror_mode": {
    "name": "ipython",
    "version": 3
   },
   "file_extension": ".py",
   "mimetype": "text/x-python",
   "name": "python",
   "nbconvert_exporter": "python",
   "pygments_lexer": "ipython3",
   "version": "3.8.6"
  }
 },
 "nbformat": 4,
 "nbformat_minor": 2
}
