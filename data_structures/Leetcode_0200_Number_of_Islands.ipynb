{
 "cells": [
  {
   "attachments": {},
   "cell_type": "markdown",
   "metadata": {},
   "source": [
    "## Method1 - BFS\n",
    "https://www.youtube.com/watch?v=pV2kpPD66nE"
   ]
  },
  {
   "cell_type": "code",
   "execution_count": 1,
   "metadata": {},
   "outputs": [
    {
     "name": "stdout",
     "output_type": "stream",
     "text": [
      "1\n"
     ]
    }
   ],
   "source": [
    "def numIslands(grid):\n",
    "    if not grid: return 0\n",
    "\n",
    "    rows, cols = len(grid), len(grid[0])\n",
    "    visited=set()\n",
    "    islands=0\n",
    "\n",
    "    def bfs(r,c):\n",
    "        q = []\n",
    "        visited.add((r,c))\n",
    "        q.append((r,c))\n",
    "    \n",
    "        while q:\n",
    "            #row,col = q.popleft()\n",
    "            row,col = q.pop(0)\n",
    "            directions= [[-1,0], [1,0], [0,-1], [0,1]]\n",
    "        \n",
    "            for dr,dc in directions:\n",
    "                r,c = row + dr, col + dc\n",
    "                if (r) in range(rows) and (c) in range(cols) and grid[r][c] == '1' and (r ,c) not in visited:\n",
    "                \n",
    "                    q.append((r , c ))\n",
    "                    visited.add((r, c ))\n",
    "\n",
    "    for r in range(rows):\n",
    "        for c in range(cols):\n",
    "        \n",
    "            if grid[r][c] == \"1\" and (r,c) not in visited:\n",
    "                bfs(r,c)\n",
    "                islands +=1 \n",
    "\n",
    "    return islands\n",
    "\n",
    "grid = [\n",
    "  [\"1\",\"1\",\"1\",\"1\",\"0\"],\n",
    "  [\"1\",\"1\",\"0\",\"1\",\"0\"],\n",
    "  [\"1\",\"1\",\"0\",\"0\",\"0\"],\n",
    "  [\"0\",\"0\",\"0\",\"0\",\"0\"]\n",
    "]\n",
    "res = numIslands(grid)\n",
    "print(res)"
   ]
  },
  {
   "attachments": {},
   "cell_type": "markdown",
   "metadata": {},
   "source": [
    "## Method1 - BFS - Iterative - DIY - Recap\n",
    "https://www.youtube.com/watch?v=pV2kpPD66nE"
   ]
  },
  {
   "cell_type": "code",
   "execution_count": 4,
   "metadata": {},
   "outputs": [
    {
     "name": "stdout",
     "output_type": "stream",
     "text": [
      "2\n"
     ]
    }
   ],
   "source": [
    "def numIslands(grid):\n",
    "    rows, cols = len(grid), len(grid[0])\n",
    "    res = 0 \n",
    "    visited = set()\n",
    "\n",
    "    def dfs(row, col):\n",
    "        visited.add((row,col))\n",
    "        direction = [[-1,0], [1,0],[0,-1], [0,1]]\n",
    "        q = [[row,col]]\n",
    "        while q:\n",
    "            row,col = q.pop(-1)\n",
    "            for dr, dc in direction:\n",
    "                r, c = row + dr, col + dc\n",
    "                if ((r >=0 and r < rows) and (c >=0 and c < cols) and (r,c) not in visited and grid[r][c] == '1'):\n",
    "                    q.append([r,c])\n",
    "                    visited.add((r,c))\n",
    "\n",
    "    for row in range(rows):\n",
    "        for col in range(cols):\n",
    "            if (grid[row][col] == '1' and (row,col) not in visited):\n",
    "                \n",
    "                dfs(row,col)\n",
    "                res += 1\n",
    "    return res\n",
    "\n",
    "grid = [\n",
    "  [\"1\",\"1\",\"1\",\"1\",\"0\"],\n",
    "  [\"1\",\"1\",\"0\",\"1\",\"0\"],\n",
    "  [\"1\",\"1\",\"0\",\"0\",\"0\"],\n",
    "  [\"0\",\"0\",\"0\",\"0\",\"0\"]\n",
    "]\n",
    "\n",
    "grid = [\n",
    "  [\"1\",\"1\",\"1\",\"0\",\"0\"],\n",
    "  [\"1\",\"1\",\"0\",\"0\",\"0\"],\n",
    "  [\"1\",\"1\",\"0\",\"0\",\"0\"],\n",
    "  [\"0\",\"0\",\"0\",\"1\",\"1\"]\n",
    "]\n",
    "\n",
    "res = numIslands(grid)\n",
    "print(res)"
   ]
  },
  {
   "attachments": {},
   "cell_type": "markdown",
   "metadata": {},
   "source": [
    "## Method2 - DFS\n",
    "\n",
    "https://github.com/neetcode-gh/leetcode/blob/main/python/0200-number-of-islands.py"
   ]
  },
  {
   "cell_type": "code",
   "execution_count": 3,
   "metadata": {},
   "outputs": [
    {
     "name": "stdout",
     "output_type": "stream",
     "text": [
      "1\n"
     ]
    }
   ],
   "source": [
    "def numIslands(grid):\n",
    "    if not grid or not grid[0]:\n",
    "        return 0\n",
    "\n",
    "    islands = 0\n",
    "    visit = set()\n",
    "    rows, cols = len(grid), len(grid[0])\n",
    "\n",
    "    def dfs(r, c):\n",
    "        if (\n",
    "            r not in range(rows)\n",
    "            or c not in range(cols)\n",
    "            or grid[r][c] == \"0\"\n",
    "            or (r, c) in visit\n",
    "        ):\n",
    "            return\n",
    "\n",
    "        visit.add((r, c))\n",
    "        directions = [[0, 1], [0, -1], [1, 0], [-1, 0]]\n",
    "        for dr, dc in directions:\n",
    "            dfs(r + dr, c + dc)\n",
    "\n",
    "    for r in range(rows):\n",
    "        for c in range(cols):\n",
    "            if grid[r][c] == \"1\" and (r, c) not in visit:\n",
    "                islands += 1\n",
    "                dfs(r, c)\n",
    "    return islands\n",
    "\n",
    "grid = [\n",
    "  [\"1\",\"1\",\"1\",\"1\",\"0\"],\n",
    "  [\"1\",\"1\",\"0\",\"1\",\"0\"],\n",
    "  [\"1\",\"1\",\"0\",\"0\",\"0\"],\n",
    "  [\"0\",\"0\",\"0\",\"0\",\"0\"]\n",
    "]\n",
    "res = numIslands(grid)\n",
    "print(res)"
   ]
  },
  {
   "cell_type": "markdown",
   "metadata": {},
   "source": [
    "## Method2 - DFS - DIY - Recap"
   ]
  },
  {
   "cell_type": "code",
   "execution_count": 2,
   "metadata": {},
   "outputs": [
    {
     "name": "stdout",
     "output_type": "stream",
     "text": [
      "1\n"
     ]
    }
   ],
   "source": [
    "def numIslands(grid):\n",
    "    rows, cols = len(grid), len(grid[0])\n",
    "    visit = set()\n",
    "    res = 0\n",
    "\n",
    "    def dfs(row, col):\n",
    "        if (\n",
    "            (row<0 or row>=rows) or\n",
    "            (col<0 or col>=cols) or\n",
    "            ((row,col) in visit) or \n",
    "            (grid[row][col] != '1')\n",
    "        ):\n",
    "            return\n",
    "        visit.add((row,col))\n",
    "        dfs(row-1, col)\n",
    "        dfs(row+1, col)\n",
    "        dfs(row, col-1)\n",
    "        dfs(row, col+1)\n",
    "\n",
    "    for row in range(rows):\n",
    "        for col in range(cols):\n",
    "            if ((row,col) not in visit and grid[row][col] == '1'):\n",
    "                dfs(row,col)\n",
    "                res += 1\n",
    "    return res\n",
    "\n",
    "grid = [\n",
    "  [\"1\",\"1\",\"1\",\"1\",\"0\"],\n",
    "  [\"1\",\"1\",\"0\",\"1\",\"0\"],\n",
    "  [\"1\",\"1\",\"0\",\"0\",\"0\"],\n",
    "  [\"0\",\"0\",\"0\",\"0\",\"0\"]\n",
    "]\n",
    "res = numIslands(grid)\n",
    "print(res)"
   ]
  },
  {
   "cell_type": "markdown",
   "metadata": {},
   "source": [
    "## Method2 - DFS - DIY "
   ]
  },
  {
   "cell_type": "code",
   "execution_count": 3,
   "metadata": {},
   "outputs": [
    {
     "name": "stdout",
     "output_type": "stream",
     "text": [
      "3\n"
     ]
    }
   ],
   "source": [
    "def numIslands(grid):\n",
    "    rows, cols = len(grid), len(grid[0])\n",
    "    visited = set()\n",
    "    res = 0\n",
    "\n",
    "    def dfs(row,col):\n",
    "        direction = [[-1,0],[1,0],[0,-1],[0,1]]\n",
    "        for dr,dc in direction:\n",
    "            r, c = row + dr, col + dc\n",
    "            if (\n",
    "                (r>=0 and c>=0 and r<rows and c<cols) and \n",
    "                ((r,c) not in visited) and \n",
    "                (grid[r][c] == '1')\n",
    "            ):\n",
    "                visited.add((r,c))\n",
    "                dfs(r,c)\n",
    "        return True\n",
    "\n",
    "    for row in range(rows):\n",
    "        for col in range(cols):\n",
    "            if (row,col) not in visited and grid[row][col] == '1':\n",
    "                visited.add((row,col))\n",
    "                dfs(row,col)\n",
    "                res+=1\n",
    "    \n",
    "    return res\n",
    "\n",
    "grid = [\n",
    "  [\"1\",\"1\",\"0\",\"0\",\"0\"],\n",
    "  [\"1\",\"1\",\"0\",\"0\",\"0\"],\n",
    "  [\"0\",\"0\",\"1\",\"0\",\"0\"],\n",
    "  [\"0\",\"0\",\"0\",\"1\",\"1\"]\n",
    "]\n",
    "res = numIslands(grid)\n",
    "print(res)"
   ]
  }
 ],
 "metadata": {
  "kernelspec": {
   "display_name": "leetcode_env",
   "language": "python",
   "name": "python3"
  },
  "language_info": {
   "codemirror_mode": {
    "name": "ipython",
    "version": 3
   },
   "file_extension": ".py",
   "mimetype": "text/x-python",
   "name": "python",
   "nbconvert_exporter": "python",
   "pygments_lexer": "ipython3",
   "version": "3.8.6"
  },
  "orig_nbformat": 4
 },
 "nbformat": 4,
 "nbformat_minor": 2
}
