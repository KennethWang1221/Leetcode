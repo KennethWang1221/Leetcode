{
 "cells": [
  {
   "cell_type": "markdown",
   "metadata": {},
   "source": [
    "## Method1 - DP - Bits manipulation\n",
    "https://www.youtube.com/watch?v=RyBM56RIWrM\n"
   ]
  },
  {
   "cell_type": "code",
   "execution_count": 2,
   "metadata": {},
   "outputs": [
    {
     "name": "stdout",
     "output_type": "stream",
     "text": [
      "[0, 1, 1]\n"
     ]
    }
   ],
   "source": [
    "def countBits(n):\n",
    "    dp = [0] * (n + 1)\n",
    "    offset = 1\n",
    "\n",
    "    for i in range(1, n + 1):\n",
    "        if offset * 2 == i:\n",
    "            offset = i\n",
    "        dp[i] = 1 + dp[i - offset]\n",
    "    return dp\n",
    "print(countBits(n = 2))"
   ]
  },
  {
   "cell_type": "code",
   "execution_count": 1,
   "metadata": {},
   "outputs": [
    {
     "name": "stdout",
     "output_type": "stream",
     "text": [
      "[0, 1, 1]\n"
     ]
    }
   ],
   "source": [
    "\n",
    "def countBits(n):\n",
    "    res = [0] * (n + 1)\n",
    "    for i in range(1, n + 1):\n",
    "        if i % 2 == 1:\n",
    "            res[i] = res[i - 1] + 1\n",
    "        else:\n",
    "            res[i] = res[i // 2]\n",
    "    return res\n",
    "    \n",
    "print(countBits(n = 2))\n",
    "\n",
    "# This solution is based on the division of odd and even numbers. \n",
    "# I think it's easier to understand.\n",
    "# This is my full solution, covering the details: https://leetcode.com/problems/counting-bits/solutions/4411054/odd-and-even-numbers-a-easier-to-understanding-way-of-dp/"
   ]
  }
 ],
 "metadata": {
  "kernelspec": {
   "display_name": "leetcode_env",
   "language": "python",
   "name": "python3"
  },
  "language_info": {
   "codemirror_mode": {
    "name": "ipython",
    "version": 3
   },
   "file_extension": ".py",
   "mimetype": "text/x-python",
   "name": "python",
   "nbconvert_exporter": "python",
   "pygments_lexer": "ipython3",
   "version": "3.8.6"
  }
 },
 "nbformat": 4,
 "nbformat_minor": 2
}
