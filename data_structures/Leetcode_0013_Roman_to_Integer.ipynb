{
 "cells": [
  {
   "cell_type": "markdown",
   "metadata": {},
   "source": [
    "## Method1 - Hash Table / Math / String\n",
    "https://www.youtube.com/watch?v=3jdxYj3DD98&t=17s"
   ]
  },
  {
   "cell_type": "code",
   "execution_count": 5,
   "metadata": {},
   "outputs": [
    {
     "name": "stdout",
     "output_type": "stream",
     "text": [
      "1994\n"
     ]
    }
   ],
   "source": [
    "def romanToInt(s):\n",
    "    # largest to smallest: add them up\n",
    "    # smaller before larget: subtract smaller\n",
    "\n",
    "    roman = {\"I\":1, \"V\":5, \"X\":10, \"L\":50, \"C\":100, \"D\":500, \"M\":1000}\n",
    "    res = 0\n",
    "    n = len(s)\n",
    "    for i in range(n):\n",
    "        if i+1 < n and roman[s[i]] < roman[s[i+1]]:\n",
    "            res -= roman[s[i]]\n",
    "        else:\n",
    "            res += roman[s[i]]\n",
    "    return res\n",
    "\n",
    "s = \"MCMXCIV\"\n",
    "res = romanToInt(s)\n",
    "print(res)"
   ]
  }
 ],
 "metadata": {
  "kernelspec": {
   "display_name": "leetcode_env",
   "language": "python",
   "name": "leetcode_env"
  },
  "language_info": {
   "codemirror_mode": {
    "name": "ipython",
    "version": 3
   },
   "file_extension": ".py",
   "mimetype": "text/x-python",
   "name": "python",
   "nbconvert_exporter": "python",
   "pygments_lexer": "ipython3",
   "version": "3.8.6"
  },
  "orig_nbformat": 4
 },
 "nbformat": 4,
 "nbformat_minor": 2
}
