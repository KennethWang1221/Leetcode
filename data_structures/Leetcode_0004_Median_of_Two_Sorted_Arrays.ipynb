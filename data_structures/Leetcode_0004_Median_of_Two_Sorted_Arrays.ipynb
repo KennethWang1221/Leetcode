{
 "cells": [
  {
   "cell_type": "markdown",
   "metadata": {},
   "source": [
    "## Method1 - Binary Search\n",
    "\n",
    "https://www.youtube.com/watch?v=q6IEA26hvXc"
   ]
  },
  {
   "cell_type": "code",
   "execution_count": 1,
   "metadata": {},
   "outputs": [
    {
     "name": "stdout",
     "output_type": "stream",
     "text": [
      "2\n"
     ]
    }
   ],
   "source": [
    "# Time: log(min(n, m))\n",
    "def findMedianSortedArrays(nums1, nums2):\n",
    "    A, B = nums1, nums2\n",
    "    total = len(nums1) + len(nums2)\n",
    "    half = total // 2\n",
    "\n",
    "    if len(B) < len(A):\n",
    "        A, B = B, A\n",
    "\n",
    "    l, r = 0, len(A) - 1\n",
    "    while True:\n",
    "        i = (l + r) // 2  # A\n",
    "        j = half - i - 2  # B\n",
    "\n",
    "        Aleft = A[i] if i >= 0 else float(\"-infinity\")\n",
    "        Aright = A[i + 1] if (i + 1) < len(A) else float(\"infinity\")\n",
    "        Bleft = B[j] if j >= 0 else float(\"-infinity\")\n",
    "        Bright = B[j + 1] if (j + 1) < len(B) else float(\"infinity\")\n",
    "\n",
    "        # partition is correct\n",
    "        if Aleft <= Bright and Bleft <= Aright:\n",
    "            # odd\n",
    "            if total % 2:\n",
    "                return min(Aright, Bright)\n",
    "            # even\n",
    "            return (max(Aleft, Bleft) + min(Aright, Bright)) / 2\n",
    "        elif Aleft > Bright:\n",
    "            r = i - 1\n",
    "        else:\n",
    "            l = i + 1\n",
    "\n",
    "nums1 = [1,3]\n",
    "nums2 = [2]\n",
    "res = findMedianSortedArrays(nums1, nums2)\n",
    "print(res)"
   ]
  },
  {
   "cell_type": "markdown",
   "metadata": {},
   "source": [
    "## Method2 - Array - DIY"
   ]
  },
  {
   "cell_type": "code",
   "execution_count": 1,
   "metadata": {},
   "outputs": [
    {
     "name": "stdout",
     "output_type": "stream",
     "text": [
      "2\n"
     ]
    }
   ],
   "source": [
    "def findMedianSortedArrays(nums1, nums2):\n",
    "    n1 = len(nums1)\n",
    "    n2 = len(nums2)\n",
    "\n",
    "    num = [0] * (n1+n2)\n",
    "    num[:n1] = nums1\n",
    "    num[n1:] = nums2\n",
    "    num.sort()\n",
    "    n = len(num)\n",
    "    if n % 2 == 0: # 1,2,3,4\n",
    "        median_index = [n//2-1,n//2]\n",
    "        return (num[median_index[0]] + num[median_index[1]]) / 2\n",
    "\n",
    "    else:\n",
    "        median_index = [n//2]\n",
    "\n",
    "        return num[median_index[0]]\n",
    "\n",
    "nums1 = [1,3]\n",
    "nums2 = [2]\n",
    "res = findMedianSortedArrays(nums1, nums2)\n",
    "print(res)"
   ]
  }
 ],
 "metadata": {
  "kernelspec": {
   "display_name": "leetcode_env",
   "language": "python",
   "name": "leetcode_env"
  },
  "language_info": {
   "codemirror_mode": {
    "name": "ipython",
    "version": 3
   },
   "file_extension": ".py",
   "mimetype": "text/x-python",
   "name": "python",
   "nbconvert_exporter": "python",
   "pygments_lexer": "ipython3",
   "version": "3.8.6"
  }
 },
 "nbformat": 4,
 "nbformat_minor": 2
}
