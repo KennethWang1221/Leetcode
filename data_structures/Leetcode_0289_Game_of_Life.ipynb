{
 "cells": [
  {
   "cell_type": "markdown",
   "metadata": {},
   "source": [
    "## Method1 - Matrix\n",
    "https://www.youtube.com/watch?v=fei4bJQdBUQ"
   ]
  },
  {
   "cell_type": "markdown",
   "metadata": {},
   "source": [
    "Need Investigate"
   ]
  },
  {
   "cell_type": "code",
   "execution_count": 3,
   "metadata": {},
   "outputs": [
    {
     "name": "stdout",
     "output_type": "stream",
     "text": [
      "[[0, 0, 0], [1, 0, 1], [0, 1, 1], [0, 1, 0]]\n"
     ]
    }
   ],
   "source": [
    "def gameOfLife(board):\n",
    "    # original | New | State\n",
    "    # 0        | 0   | 0\n",
    "    # 1        | 0   | 1\n",
    "    # 0        | 1   | 2\n",
    "    # 1        | 1   | 3\n",
    "    ROWS, COLS = len(board), len(board[0])\n",
    "\n",
    "    def countNeighbors(r,c):\n",
    "        nei = 0\n",
    "        for i in range(r-1, r+2):\n",
    "            for j in range(c-1,c+2):\n",
    "                if ((i==r and j==c) or i<0 or j<0 or i==ROWS or j==COLS):\n",
    "                    continue\n",
    "                if board[i][j] in [1,3]:\n",
    "                    nei += 1\n",
    "        return nei\n",
    "\n",
    "    for r in range(ROWS):\n",
    "        for c in range(COLS):\n",
    "            nei = countNeighbors(r,c)\n",
    "            if board[r][c]:\n",
    "                if nei in [2,3]:\n",
    "                    board[r][c] = 3\n",
    "            elif nei == 3:\n",
    "                board[r][c] = 2\n",
    "    \n",
    "    for r in range(ROWS):\n",
    "        for c in range(COLS):\n",
    "            if board[r][c] == 1:\n",
    "                board[r][c] = 0\n",
    "            elif board[r][c] in [2,3]:\n",
    "                board[r][c] = 1\n",
    "    return board\n",
    "\n",
    "board = [[0,1,0],[0,0,1],[1,1,1],[0,0,0]]\n",
    "res = gameOfLife(board)\n",
    "print(res)"
   ]
  }
 ],
 "metadata": {
  "kernelspec": {
   "display_name": "leetcode_env",
   "language": "python",
   "name": "leetcode_env"
  },
  "language_info": {
   "codemirror_mode": {
    "name": "ipython",
    "version": 3
   },
   "file_extension": ".py",
   "mimetype": "text/x-python",
   "name": "python",
   "nbconvert_exporter": "python",
   "pygments_lexer": "ipython3",
   "version": "3.8.6"
  },
  "orig_nbformat": 4
 },
 "nbformat": 4,
 "nbformat_minor": 2
}
