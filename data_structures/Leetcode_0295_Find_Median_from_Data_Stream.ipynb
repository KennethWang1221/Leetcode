{
 "cells": [
  {
   "attachments": {},
   "cell_type": "markdown",
   "metadata": {},
   "source": [
    "## Method - Heap -  Priority Queue \n",
    "https://www.youtube.com/watch?v=itmhHWaHupI"
   ]
  },
  {
   "cell_type": "code",
   "execution_count": 2,
   "metadata": {},
   "outputs": [
    {
     "name": "stdout",
     "output_type": "stream",
     "text": [
      "1.5\n",
      "2\n"
     ]
    }
   ],
   "source": [
    "import heapq\n",
    "class MedianFinder:\n",
    "    def __init__(self):\n",
    "        \"\"\"\n",
    "        initialize your data structure here.\n",
    "        \"\"\"\n",
    "        # two heaps, large, small, minheap, maxheap\n",
    "        # heaps should be equal size\n",
    "        self.small, self.large = [], []  # maxHeap, minHeap (python default)\n",
    "\n",
    "    def addNum(self, num: int) -> None:\n",
    "        if self.large and num > self.large[0]:\n",
    "            heapq.heappush(self.large, num)\n",
    "        else:\n",
    "            heapq.heappush(self.small, -1 * num)\n",
    "\n",
    "        if len(self.small) > len(self.large) + 1:\n",
    "            val = -1 * heapq.heappop(self.small)\n",
    "            heapq.heappush(self.large, val)\n",
    "        if len(self.large) > len(self.small) + 1:\n",
    "            val = heapq.heappop(self.large)\n",
    "            heapq.heappush(self.small, -1 * val)\n",
    "\n",
    "    def findMedian(self) -> float:\n",
    "        if len(self.small) > len(self.large):\n",
    "            return -1 * self.small[0]\n",
    "        elif len(self.large) > len(self.small):\n",
    "            return self.large[0]\n",
    "        return (-1 * self.small[0] + self.large[0]) / 2\n",
    "\n",
    "# Test example\n",
    "medianFinder = MedianFinder()\n",
    "medianFinder.addNum(1)    # arr = [1]\n",
    "medianFinder.addNum(2)    # arr = [1, 2]\n",
    "print(medianFinder.findMedian()) # return 1.5 (i.e., (1 + 2) / 2)\n",
    "medianFinder.addNum(3)    # arr = [1, 2, 3]\n",
    "print(medianFinder.findMedian()) # return 2.0\n"
   ]
  }
 ],
 "metadata": {
  "kernelspec": {
   "display_name": "leetcode_env",
   "language": "python",
   "name": "leetcode_env"
  },
  "language_info": {
   "codemirror_mode": {
    "name": "ipython",
    "version": 3
   },
   "file_extension": ".py",
   "mimetype": "text/x-python",
   "name": "python",
   "nbconvert_exporter": "python",
   "pygments_lexer": "ipython3",
   "version": "3.8.6"
  },
  "orig_nbformat": 4
 },
 "nbformat": 4,
 "nbformat_minor": 2
}
