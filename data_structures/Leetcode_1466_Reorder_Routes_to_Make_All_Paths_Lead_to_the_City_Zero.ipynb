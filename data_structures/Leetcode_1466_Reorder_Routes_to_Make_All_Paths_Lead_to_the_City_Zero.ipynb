{
 "cells": [
  {
   "attachments": {},
   "cell_type": "markdown",
   "metadata": {},
   "source": [
    "## Method1-Graph-DFS\n",
    "https://www.youtube.com/watch?v=m17yOR5_PpI"
   ]
  },
  {
   "cell_type": "code",
   "execution_count": 4,
   "metadata": {},
   "outputs": [
    {
     "name": "stdout",
     "output_type": "stream",
     "text": [
      "3\n"
     ]
    }
   ],
   "source": [
    "def minReorder(n, connections):\n",
    "    neighbors = {i:[] for i in range(n)}\n",
    "    visited = set()\n",
    "    edges = {(a,b) for a,b in connections}\n",
    "    changes = 0\n",
    "\n",
    "    for a,b in connections:\n",
    "        neighbors[a].append(b)\n",
    "        neighbors[b].append(a)\n",
    "    \n",
    "    def dfs(city):\n",
    "        nonlocal changes\n",
    "        for neighbor in neighbors[city]:\n",
    "            if neighbor in visited:\n",
    "                continue\n",
    "            if (neighbor, city) not in edges:\n",
    "                changes+=1\n",
    "            visited.add(neighbor)\n",
    "            dfs(neighbor)\n",
    "\n",
    "    visited.add(0)\n",
    "    dfs(0)\n",
    "\n",
    "    return changes\n",
    "\n",
    "n = 6\n",
    "connections = [[0,1],[1,3],[2,3],[4,0],[4,5]]\n",
    "res = minReorder(n,connections)\n",
    "print(res)"
   ]
  }
 ],
 "metadata": {
  "kernelspec": {
   "display_name": "leetcode_env",
   "language": "python",
   "name": "leetcode_env"
  },
  "language_info": {
   "codemirror_mode": {
    "name": "ipython",
    "version": 3
   },
   "file_extension": ".py",
   "mimetype": "text/x-python",
   "name": "python",
   "nbconvert_exporter": "python",
   "pygments_lexer": "ipython3",
   "version": "3.8.6"
  },
  "orig_nbformat": 4
 },
 "nbformat": 4,
 "nbformat_minor": 2
}
