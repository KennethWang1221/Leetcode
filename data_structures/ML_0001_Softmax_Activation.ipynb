{
 "cells": [
  {
   "cell_type": "markdown",
   "metadata": {},
   "source": [
    "## Method1 - ML\n",
    "\n",
    "https://chatgpt.com/share/673042d4-32e8-8009-b05c-869918af61b8\n"
   ]
  },
  {
   "cell_type": "code",
   "execution_count": 9,
   "metadata": {},
   "outputs": [
    {
     "name": "stdout",
     "output_type": "stream",
     "text": [
      "[0.09003057317038046, 0.24472847105479767, 0.6652409557748219]\n"
     ]
    }
   ],
   "source": [
    "import math\n",
    "\n",
    "def softmax(x):\n",
    "    # Compute the exponentials of all elements\n",
    "    exp_values = [math.exp(i) for i in x]\n",
    "    \n",
    "    # Compute the sum of the exponentials\n",
    "    sum_exp_values = sum(exp_values)\n",
    "    \n",
    "    # Compute the probabilities by dividing each exponential by the sum\n",
    "    softmax_values = [value / sum_exp_values for value in exp_values]\n",
    "    \n",
    "    return softmax_values\n",
    "\n",
    "print(softmax([1, 2, 3]))"
   ]
  },
  {
   "cell_type": "markdown",
   "metadata": {},
   "source": [
    "sigmod"
   ]
  },
  {
   "cell_type": "code",
   "execution_count": 10,
   "metadata": {},
   "outputs": [
    {
     "name": "stdout",
     "output_type": "stream",
     "text": [
      "0.8807970779778823\n"
     ]
    }
   ],
   "source": [
    "import math\n",
    "\n",
    "def sigmoid(x: float) -> float:\n",
    "    return 1 / (1 + math.exp(-x))\n",
    "\n",
    "# Example usage\n",
    "input_value = 2.0\n",
    "print(sigmoid(input_value))  # Output: 0.8808\n"
   ]
  }
 ],
 "metadata": {
  "kernelspec": {
   "display_name": "leetcode_env",
   "language": "python",
   "name": "leetcode_env"
  },
  "language_info": {
   "codemirror_mode": {
    "name": "ipython",
    "version": 3
   },
   "file_extension": ".py",
   "mimetype": "text/x-python",
   "name": "python",
   "nbconvert_exporter": "python",
   "pygments_lexer": "ipython3",
   "version": "3.8.6"
  }
 },
 "nbformat": 4,
 "nbformat_minor": 2
}
