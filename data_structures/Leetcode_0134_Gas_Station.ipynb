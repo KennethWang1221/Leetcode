{
 "cells": [
  {
   "cell_type": "markdown",
   "metadata": {},
   "source": [
    "## Method1 - Greedy\n",
    "https://www.youtube.com/watch?v=lJwbPZGo05A"
   ]
  },
  {
   "cell_type": "code",
   "execution_count": 1,
   "metadata": {},
   "outputs": [
    {
     "name": "stdout",
     "output_type": "stream",
     "text": [
      "3\n"
     ]
    }
   ],
   "source": [
    "def canCompleteCircuit(gas, cost):\n",
    "    if sum(gas) < sum(cost):\n",
    "        return -1\n",
    "        \n",
    "    total = 0\n",
    "    res = 0\n",
    "    n = len(gas)\n",
    "    for i in range(n):\n",
    "        diff = gas[i] - cost[i]\n",
    "        total += diff\n",
    "\n",
    "        if total < 0:\n",
    "            total = 0\n",
    "            res = i + 1\n",
    "    \n",
    "    return res\n",
    "\n",
    "gas = [1,2,3,4,5]\n",
    "cost = [3,4,5,1,2]\n",
    "res = canCompleteCircuit(gas, cost)\n",
    "print(res)"
   ]
  },
  {
   "cell_type": "markdown",
   "metadata": {},
   "source": [
    "## Method2 - Greedy\n",
    "https://github.com/youngyangyang04/leetcode-master/blob/master/problems/0134.%E5%8A%A0%E6%B2%B9%E7%AB%99.md"
   ]
  },
  {
   "cell_type": "code",
   "execution_count": 2,
   "metadata": {},
   "outputs": [
    {
     "name": "stdout",
     "output_type": "stream",
     "text": [
      "3\n"
     ]
    }
   ],
   "source": [
    "def canCompleteCircuit(gas, cost):\n",
    "    n = len(cost)\n",
    "    for i in range(n):\n",
    "        rest = gas[i] - cost[i]  # 记录剩余油量\n",
    "        index = (i + 1) % n  # 下一个加油站的索引\n",
    "\n",
    "        while rest > 0 and index != i:  # 模拟以i为起点行驶一圈（如果有rest==0，那么答案就不唯一了）\n",
    "            rest += gas[index] - cost[index]  # 更新剩余油量\n",
    "            index = (index + 1) % n  # 更新下一个加油站的索引\n",
    "\n",
    "        if rest >= 0 and index == i:  # 如果以i为起点跑一圈，剩余油量>=0，并且回到起始位置\n",
    "            return i  # 返回起始位置i\n",
    "\n",
    "    return -1  # 所有起始位置都无法环绕一圈，返回-1\n",
    "\n",
    "gas = [1,2,3,4,5]\n",
    "cost = [3,4,5,1,2]\n",
    "res = canCompleteCircuit(gas, cost)\n",
    "print(res)"
   ]
  },
  {
   "cell_type": "code",
   "execution_count": 3,
   "metadata": {},
   "outputs": [
    {
     "name": "stdout",
     "output_type": "stream",
     "text": [
      "3\n"
     ]
    }
   ],
   "source": [
    "def canCompleteCircuit(gas, cost):\n",
    "    curSum = 0  # 当前累计的剩余油量\n",
    "    minFuel = float('inf')  # 从起点出发，油箱里的油量最小值\n",
    "    n = len(gas)\n",
    "    for i in range(n):\n",
    "        rest = gas[i] - cost[i]\n",
    "        curSum += rest\n",
    "        if curSum < minFuel:\n",
    "            minFuel = curSum\n",
    "    \n",
    "    if curSum < 0:\n",
    "        return -1  # 情况1：整个行程的总消耗大于总供给，无法完成一圈\n",
    "    \n",
    "    if minFuel >= 0:\n",
    "        return 0  # 情况2：从起点出发到任何一个加油站时油箱的剩余油量都不会小于0，可以从起点出发完成一圈\n",
    "    \n",
    "    for i in range(n - 1, -1, -1):\n",
    "        rest = gas[i] - cost[i]\n",
    "        minFuel += rest\n",
    "        if minFuel >= 0:\n",
    "            return i  # 情况3：找到一个位置使得从该位置出发油箱的剩余油量不会小于0，返回该位置的索引\n",
    "    \n",
    "    return -1  # 无法完成一圈\n",
    "\n",
    "gas = [1,2,3,4,5]\n",
    "cost = [3,4,5,1,2]\n",
    "res = canCompleteCircuit(gas, cost)\n",
    "print(res)"
   ]
  },
  {
   "cell_type": "code",
   "execution_count": 4,
   "metadata": {},
   "outputs": [
    {
     "name": "stdout",
     "output_type": "stream",
     "text": [
      "3\n"
     ]
    }
   ],
   "source": [
    "def canCompleteCircuit(gas, cost):\n",
    "    curSum = 0  # 当前累计的剩余油量\n",
    "    totalSum = 0  # 总剩余油量\n",
    "    start = 0  # 起始位置\n",
    "    n = len(gas)\n",
    "    for i in range(n):\n",
    "        curSum += gas[i] - cost[i]\n",
    "        totalSum += gas[i] - cost[i]\n",
    "        \n",
    "        if curSum < 0:  # 当前累计剩余油量curSum小于0\n",
    "            start = i + 1  # 起始位置更新为i+1\n",
    "            curSum = 0  # curSum重新从0开始累计\n",
    "    \n",
    "    if totalSum < 0:\n",
    "        return -1  # 总剩余油量totalSum小于0，说明无法环绕一圈\n",
    "    return start\n",
    "\n",
    "gas = [1,2,3,4,5]\n",
    "cost = [3,4,5,1,2]\n",
    "res = canCompleteCircuit(gas, cost)\n",
    "print(res)"
   ]
  }
 ],
 "metadata": {
  "kernelspec": {
   "display_name": "test_env",
   "language": "python",
   "name": "python3"
  },
  "language_info": {
   "codemirror_mode": {
    "name": "ipython",
    "version": 3
   },
   "file_extension": ".py",
   "mimetype": "text/x-python",
   "name": "python",
   "nbconvert_exporter": "python",
   "pygments_lexer": "ipython3",
   "version": "3.8.6"
  },
  "orig_nbformat": 4
 },
 "nbformat": 4,
 "nbformat_minor": 2
}
