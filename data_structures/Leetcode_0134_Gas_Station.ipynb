{
 "cells": [
  {
   "cell_type": "markdown",
   "metadata": {},
   "source": [
    "## Method1 - Greedy\n",
    "https://www.youtube.com/watch?v=lJwbPZGo05A"
   ]
  },
  {
   "cell_type": "code",
   "execution_count": 2,
   "metadata": {},
   "outputs": [
    {
     "name": "stdout",
     "output_type": "stream",
     "text": [
      "3\n"
     ]
    }
   ],
   "source": [
    "def canCompleteCircuit(gas, cost):\n",
    "    if sum(gas) < sum(cost):\n",
    "        return -1\n",
    "        \n",
    "    total = 0\n",
    "    res = 0\n",
    "    for i in range(len(gas)):\n",
    "        diff = gas[i] - cost[i]\n",
    "        total += diff\n",
    "\n",
    "        if total < 0:\n",
    "            total = 0\n",
    "            res = i + 1\n",
    "    \n",
    "    return res\n",
    "\n",
    "gas = [1,2,3,4,5]\n",
    "cost = [3,4,5,1,2]\n",
    "res = canCompleteCircuit(gas, cost)\n",
    "print(res)"
   ]
  }
 ],
 "metadata": {
  "kernelspec": {
   "display_name": "leetcode_env",
   "language": "python",
   "name": "leetcode_env"
  },
  "language_info": {
   "codemirror_mode": {
    "name": "ipython",
    "version": 3
   },
   "file_extension": ".py",
   "mimetype": "text/x-python",
   "name": "python",
   "nbconvert_exporter": "python",
   "pygments_lexer": "ipython3",
   "version": "3.8.6"
  },
  "orig_nbformat": 4
 },
 "nbformat": 4,
 "nbformat_minor": 2
}
