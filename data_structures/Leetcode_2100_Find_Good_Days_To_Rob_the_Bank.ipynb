{
 "cells": [
  {
   "cell_type": "markdown",
   "metadata": {},
   "source": [
    "## Method1 - Array "
   ]
  },
  {
   "cell_type": "code",
   "execution_count": 2,
   "metadata": {},
   "outputs": [
    {
     "name": "stdout",
     "output_type": "stream",
     "text": [
      "[2, 3]\n"
     ]
    }
   ],
   "source": [
    "def goodDaysToRobBank(security, k):\n",
    "    n = len(security)\n",
    "    if k == 0:\n",
    "        # Every day is good if k = 0 (no restrictions)\n",
    "        return list(range(n))\n",
    "    \n",
    "    # 1) Build prefix: non_increasing[i] = length of consecutive\n",
    "    #    non-increasing values ending at i\n",
    "    non_increasing = [1] * n\n",
    "    for i in range(1, n):\n",
    "        if security[i] <= security[i - 1]:\n",
    "            non_increasing[i] = non_increasing[i - 1] + 1\n",
    "    \n",
    "    # 2) Build suffix: non_decreasing[i] = length of consecutive\n",
    "    #    non-decreasing values starting at i\n",
    "    non_decreasing = [1] * n\n",
    "    for i in range(n - 2, -1, -1):\n",
    "        if security[i] <= security[i + 1]:\n",
    "            non_decreasing[i] = non_decreasing[i + 1] + 1\n",
    "    \n",
    "    # 3) Identify good days\n",
    "    good_days = []\n",
    "    for i in range(k, n - k):\n",
    "        # We need at least k+1 consecutive non_increasing up to i\n",
    "        # and k+1 consecutive non_decreasing starting at i\n",
    "        if non_increasing[i] >= k + 1 and non_decreasing[i] >= k + 1:\n",
    "            good_days.append(i)\n",
    "    \n",
    "    return good_days\n",
    "\n",
    "print(goodDaysToRobBank([5,3,3,3,5,6,2], 2))\n"
   ]
  }
 ],
 "metadata": {
  "kernelspec": {
   "display_name": "leetcode_env",
   "language": "python",
   "name": "leetcode_env"
  },
  "language_info": {
   "codemirror_mode": {
    "name": "ipython",
    "version": 3
   },
   "file_extension": ".py",
   "mimetype": "text/x-python",
   "name": "python",
   "nbconvert_exporter": "python",
   "pygments_lexer": "ipython3",
   "version": "3.8.6"
  }
 },
 "nbformat": 4,
 "nbformat_minor": 2
}
