{
 "cells": [
  {
   "attachments": {},
   "cell_type": "markdown",
   "metadata": {},
   "source": [
    "## Method1- Bottom-up Dynamic Programming 2D (Two 1D Inputs)\n",
    "\n",
    "https://turingplanet.org/2020/09/18/leetcode_planning_list/#Array\n",
    "\n",
    "https://www.youtube.com/watch?v=XYi2-LPrwm4\n"
   ]
  },
  {
   "cell_type": "code",
   "execution_count": 1,
   "metadata": {},
   "outputs": [
    {
     "name": "stdout",
     "output_type": "stream",
     "text": [
      "3\n"
     ]
    }
   ],
   "source": [
    "def minDistance(word1, word2):\n",
    "    dp = [[float(\"inf\")] * (len(word2) + 1) for i in range(len(word1) + 1)]\n",
    "\n",
    "    for j in range(len(word2) + 1):\n",
    "        dp[len(word1)][j] = len(word2) - j\n",
    "    for i in range(len(word1) + 1):\n",
    "        dp[i][len(word2)] = len(word1) - i\n",
    "\n",
    "    for i in range(len(word1) - 1, -1, -1):\n",
    "        for j in range(len(word2) - 1, -1, -1):\n",
    "            if word1[i] == word2[j]:\n",
    "                dp[i][j] = dp[i + 1][j + 1]\n",
    "            else:\n",
    "                dp[i][j] = 1 + min(dp[i + 1][j], dp[i][j + 1], dp[i + 1][j + 1])\n",
    "    return dp[0][0]\n",
    "\n",
    "word1 = \"horse\"\n",
    "word2 = \"ros\"\n",
    "res = minDistance(word1, word2)\n",
    "print(res)"
   ]
  },
  {
   "attachments": {},
   "cell_type": "markdown",
   "metadata": {},
   "source": [
    "## DIY - Bottom-UP DP"
   ]
  },
  {
   "cell_type": "code",
   "execution_count": 1,
   "metadata": {},
   "outputs": [
    {
     "name": "stdout",
     "output_type": "stream",
     "text": [
      "3\n",
      "[[3, 3, 4, 5], [3, 2, 3, 4], [2, 2, 2, 3], [3, 2, 1, 2], [3, 2, 1, 1], [3, 2, 1, 0]]\n",
      "6 4\n"
     ]
    }
   ],
   "source": [
    "def minDistance(word1, word2):\n",
    "    n1 = len(word1)\n",
    "    n2 = len(word2)\n",
    "    dp = []\n",
    "    for i in range(n1+1):\n",
    "        dp.append([float(\"inf\")] * (n2 + 1))\n",
    "\n",
    "    for j in range(n2 + 1):\n",
    "        dp[n1][j] = n2 - j\n",
    "    for i in range(n1 + 1):\n",
    "        dp[i][n2] = n1 - i\n",
    "\n",
    "    for i in range(n1 - 1, -1, -1):\n",
    "        for j in range(n2 - 1, -1, -1):\n",
    "            if word1[i] == word2[j]:\n",
    "                dp[i][j] = dp[i + 1][j + 1]\n",
    "            else:\n",
    "                dp[i][j] = 1 + min(dp[i + 1][j], dp[i][j + 1], dp[i + 1][j + 1])\n",
    "    return dp, dp[0][0]\n",
    "\n",
    "word1 = \"abd\"\n",
    "word2 = \"acd\"\n",
    "word1 = \"horse\"\n",
    "word2 = \"ros\"\n",
    "\n",
    "res_whole, res = minDistance(word1, word2)\n",
    "print(res)\n",
    "print(res_whole)\n",
    "print(len(res_whole), len(res_whole[0]))"
   ]
  },
  {
   "cell_type": "code",
   "execution_count": 52,
   "metadata": {},
   "outputs": [
    {
     "name": "stdout",
     "output_type": "stream",
     "text": [
      "(5,)\n",
      "5\n",
      "4\n",
      "3\n",
      "2\n",
      "1\n"
     ]
    }
   ],
   "source": [
    "import numpy as np\n",
    "a = np.array([1,2,3,4,5])\n",
    "n = len(a)\n",
    "print(a.shape)\n",
    "for i in range(n-1,-1,-1):\n",
    "    print(a[i])"
   ]
  },
  {
   "cell_type": "code",
   "execution_count": 73,
   "metadata": {},
   "outputs": [
    {
     "name": "stdout",
     "output_type": "stream",
     "text": [
      "1\n",
      "3\n",
      "5\n"
     ]
    }
   ],
   "source": [
    "for i in range(0,n,2):\n",
    "    print(a[i])"
   ]
  },
  {
   "cell_type": "code",
   "execution_count": 63,
   "metadata": {},
   "outputs": [
    {
     "name": "stdout",
     "output_type": "stream",
     "text": [
      "n1: 5 n2: 3\n",
      "===\n",
      "[[inf, inf, inf, inf], [inf, inf, inf, inf], [inf, inf, inf, inf], [inf, inf, inf, inf], [inf, inf, inf, inf], [3, inf, inf, inf]]\n",
      "[[inf, inf, inf, inf], [inf, inf, inf, inf], [inf, inf, inf, inf], [inf, inf, inf, inf], [inf, inf, inf, inf], [3, 2, inf, inf]]\n",
      "[[inf, inf, inf, inf], [inf, inf, inf, inf], [inf, inf, inf, inf], [inf, inf, inf, inf], [inf, inf, inf, inf], [3, 2, 1, inf]]\n",
      "[[inf, inf, inf, inf], [inf, inf, inf, inf], [inf, inf, inf, inf], [inf, inf, inf, inf], [inf, inf, inf, inf], [3, 2, 1, 0]]\n",
      "===\n",
      "[[inf, inf, inf, 5], [inf, inf, inf, 4], [inf, inf, inf, 3], [inf, inf, inf, 2], [inf, inf, inf, 1], [3, 2, 1, 0]]\n"
     ]
    }
   ],
   "source": [
    "n1 = len(word1)\n",
    "n2 = len(word2)\n",
    "dp = []\n",
    "print(\"n1:\",n1,\"n2:\",n2)\n",
    "for i in range(n1+1):\n",
    "    dp.append([float(\"inf\")] * (n2 + 1))\n",
    "print(\"===\")\n",
    "for j in range(n2 + 1):\n",
    "    dp[n1][j] = n2 - j\n",
    "    print(dp)\n",
    "print(\"===\")\n",
    "for i in range(n1 + 1):\n",
    "    dp[i][n2] = n1 - i\n",
    "\n",
    "print(dp)"
   ]
  },
  {
   "cell_type": "code",
   "execution_count": null,
   "metadata": {},
   "outputs": [],
   "source": [
    "adc\n",
    "abc\n",
    "insert: i,j+1\n",
    "delete: i+1,j\n",
    "replace: i+1,j+1\n",
    "\n",
    "see https://www.youtube.com/watch?v=XYi2-LPrwm4"
   ]
  },
  {
   "cell_type": "code",
   "execution_count": 58,
   "metadata": {},
   "outputs": [
    {
     "name": "stdout",
     "output_type": "stream",
     "text": [
      "4 3\n",
      "4 2\n",
      "4 1\n",
      "4 0\n",
      "3 3\n",
      "3 2\n",
      "3 1\n",
      "3 0\n",
      "2 3\n",
      "2 2\n",
      "2 1\n",
      "2 0\n",
      "1 3\n",
      "1 2\n",
      "1 1\n",
      "1 0\n",
      "0 3\n",
      "0 2\n",
      "0 1\n",
      "0 0\n"
     ]
    }
   ],
   "source": [
    "n1 = len(word1) # 5\n",
    "n2 = len(word2) # 3\n",
    "\n",
    "for i in range(n1-1,-1,-1):\n",
    "    for j in range(n2,-1,-1):\n",
    "        print(i,j)"
   ]
  }
 ],
 "metadata": {
  "kernelspec": {
   "display_name": "test_env",
   "language": "python",
   "name": "test_env"
  },
  "language_info": {
   "codemirror_mode": {
    "name": "ipython",
    "version": 3
   },
   "file_extension": ".py",
   "mimetype": "text/x-python",
   "name": "python",
   "nbconvert_exporter": "python",
   "pygments_lexer": "ipython3",
   "version": "3.8.6"
  },
  "orig_nbformat": 4,
  "vscode": {
   "interpreter": {
    "hash": "846fd2d9bb562a436898b7cc368204fc2f9d44e5e9b051b4f6e855e721078f23"
   }
  }
 },
 "nbformat": 4,
 "nbformat_minor": 2
}
