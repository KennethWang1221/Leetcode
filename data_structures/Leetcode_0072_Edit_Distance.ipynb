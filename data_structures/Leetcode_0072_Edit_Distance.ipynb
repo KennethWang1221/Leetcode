{
 "cells": [
  {
   "attachments": {},
   "cell_type": "markdown",
   "metadata": {},
   "source": [
    "## Method1- Bottom-up Dynamic Programming 2D (Two 1D Inputs)\n",
    "\n",
    "https://turingplanet.org/2020/09/18/leetcode_planning_list/#Array\n",
    "\n",
    "https://www.youtube.com/watch?v=XYi2-LPrwm4\n"
   ]
  },
  {
   "cell_type": "code",
   "execution_count": 1,
   "metadata": {},
   "outputs": [
    {
     "name": "stdout",
     "output_type": "stream",
     "text": [
      "3\n"
     ]
    }
   ],
   "source": [
    "def minDistance(word1, word2):\n",
    "    dp = [[float(\"inf\")] * (len(word2) + 1) for i in range(len(word1) + 1)]\n",
    "\n",
    "    for j in range(len(word2) + 1):\n",
    "        dp[len(word1)][j] = len(word2) - j\n",
    "    for i in range(len(word1) + 1):\n",
    "        dp[i][len(word2)] = len(word1) - i\n",
    "\n",
    "    for i in range(len(word1) - 1, -1, -1):\n",
    "        for j in range(len(word2) - 1, -1, -1):\n",
    "            if word1[i] == word2[j]:\n",
    "                dp[i][j] = dp[i + 1][j + 1]\n",
    "            else:\n",
    "                dp[i][j] = 1 + min(dp[i + 1][j], dp[i][j + 1], dp[i + 1][j + 1])\n",
    "    return dp[0][0]\n",
    "\n",
    "word1 = \"horse\"\n",
    "word2 = \"ros\"\n",
    "res = minDistance(word1, word2)\n",
    "print(res)"
   ]
  },
  {
   "attachments": {},
   "cell_type": "markdown",
   "metadata": {},
   "source": [
    "## DIY - Bottom-UP DP"
   ]
  },
  {
   "cell_type": "code",
   "execution_count": 22,
   "metadata": {},
   "outputs": [
    {
     "name": "stdout",
     "output_type": "stream",
     "text": [
      "3\n",
      "[[3, 3, 4, 5], [3, 2, 3, 4], [2, 2, 2, 3], [3, 2, 1, 2], [3, 2, 1, 1], [3, 2, 1, 0]]\n",
      "6 4\n"
     ]
    }
   ],
   "source": [
    "def minDistance(word1, word2):\n",
    "    n1 = len(word1)\n",
    "    n2 = len(word2)\n",
    "    dp = [[float('inf')] * (n2+1) for i in range(n1+1)]\n",
    "    \n",
    "    for j in range(n2 + 1):\n",
    "        dp[n1][j] = n2 - j\n",
    "    for i in range(n1 + 1):\n",
    "        dp[i][n2] = n1 - i\n",
    "\n",
    "    for i in range(n1 - 1, -1, -1):\n",
    "        for j in range(n2 - 1, -1, -1):\n",
    "            if word1[i] == word2[j]:\n",
    "                dp[i][j] = dp[i + 1][j + 1]\n",
    "            else:\n",
    "                dp[i][j] = 1 + min(dp[i + 1][j], dp[i][j + 1], dp[i + 1][j + 1])\n",
    "    return dp, dp[0][0]\n",
    "\n",
    "word1 = \"abd\"\n",
    "word2 = \"acd\"\n",
    "word1 = \"horse\"\n",
    "word2 = \"ros\"\n",
    "\n",
    "res_whole, res = minDistance(word1, word2)\n",
    "print(res)\n",
    "print(res_whole)\n",
    "print(len(res_whole), len(res_whole[0]))"
   ]
  }
 ],
 "metadata": {
  "kernelspec": {
   "display_name": "leetcode_env",
   "language": "python",
   "name": "python3"
  },
  "language_info": {
   "codemirror_mode": {
    "name": "ipython",
    "version": 3
   },
   "file_extension": ".py",
   "mimetype": "text/x-python",
   "name": "python",
   "nbconvert_exporter": "python",
   "pygments_lexer": "ipython3",
   "version": "3.8.6"
  },
  "orig_nbformat": 4
 },
 "nbformat": 4,
 "nbformat_minor": 2
}
