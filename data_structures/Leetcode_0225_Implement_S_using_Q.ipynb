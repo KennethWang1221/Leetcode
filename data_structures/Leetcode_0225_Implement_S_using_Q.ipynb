{
 "cells": [
  {
   "cell_type": "code",
   "execution_count": null,
   "metadata": {},
   "outputs": [],
   "source": [
    "class MyStack:\n",
    "\n",
    "    def __init__(self):\n",
    "        self.stack = []\n",
    "\n",
    "    def push(self, x: int) -> None:\n",
    "        self.stack.append(x)\n",
    "        \n",
    "    def pop(self) -> int:\n",
    "        val = self.stack.pop(-1)\n",
    "        return val\n",
    "\n",
    "    def top(self) -> int:\n",
    "        return self.stack[-1]\n",
    "        \n",
    "    def empty(self) -> bool:\n",
    "        if self.stack:\n",
    "            return False\n",
    "        else:\n",
    "            return True\n",
    "\n",
    "# Test case\n",
    "stack = MyStack()\n",
    "stack.push(1)\n",
    "stack.push(2)\n",
    "print(stack.top())   # Output should be 2\n",
    "print(stack.pop())   # Output should be 2\n",
    "print(stack.empty()) # Output should be False\n"
   ]
  }
 ],
 "metadata": {
  "language_info": {
   "name": "python"
  },
  "orig_nbformat": 4
 },
 "nbformat": 4,
 "nbformat_minor": 2
}
