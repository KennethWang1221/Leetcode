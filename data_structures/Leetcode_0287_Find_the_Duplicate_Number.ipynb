{
 "cells": [
  {
   "cell_type": "markdown",
   "metadata": {},
   "source": [
    "## Method1 - LinkedList\n",
    "https://www.youtube.com/watch?v=wjYnzkAhcNk"
   ]
  },
  {
   "cell_type": "code",
   "execution_count": 3,
   "metadata": {},
   "outputs": [
    {
     "name": "stdout",
     "output_type": "stream",
     "text": [
      "The duplicate number is: 2\n",
      "The duplicate number is: 3\n",
      "The duplicate number is: 5\n"
     ]
    }
   ],
   "source": [
    "class Solution:\n",
    "    def findDuplicate(self, nums):\n",
    "        # Floyd's Tortoise and Hare (Cycle Detection)\n",
    "        slow, fast = 0, 0\n",
    "        \n",
    "        # Phase 1: Finding the intersection point in the cycle\n",
    "        while True:\n",
    "            slow = nums[slow]\n",
    "            fast = nums[nums[fast]]\n",
    "            \n",
    "            # If they meet, break out of the loop\n",
    "            if slow == fast:\n",
    "                break\n",
    "        \n",
    "        # Phase 2: Finding the entrance to the cycle (duplicate number)\n",
    "        slow2 = 0\n",
    "        while slow != slow2:\n",
    "            slow = nums[slow]   # Move slow pointer by 1 step\n",
    "            slow2 = nums[slow2] # Move slow2 pointer by 1 step\n",
    "\n",
    "        return slow  # The duplicate number\n",
    "\n",
    "\n",
    "# Helper functions\n",
    "def make_list(arr):\n",
    "    return arr\n",
    "\n",
    "def test_case(nums):\n",
    "    s = Solution()\n",
    "    result = s.findDuplicate(nums)\n",
    "    print(f\"The duplicate number is: {result}\")\n",
    "\n",
    "\n",
    "# Valid Test cases based on the problem description\n",
    "if __name__ == \"__main__\":\n",
    "    # Test case 1\n",
    "    nums1 = [1, 3, 4, 2, 2]  # Expected output: 2\n",
    "    test_case(nums1)\n",
    "\n",
    "    # Test case 2\n",
    "    nums2 = [3, 1, 3, 4, 2]  # Expected output: 3\n",
    "    test_case(nums2)\n",
    "\n",
    "    # Test case 3\n",
    "    nums3 = [1, 3, 4, 2, 5, 5]  # Expected output: 5\n",
    "    test_case(nums3)\n"
   ]
  }
 ],
 "metadata": {
  "kernelspec": {
   "display_name": "leetcode_env",
   "language": "python",
   "name": "python3"
  },
  "language_info": {
   "codemirror_mode": {
    "name": "ipython",
    "version": 3
   },
   "file_extension": ".py",
   "mimetype": "text/x-python",
   "name": "python",
   "nbconvert_exporter": "python",
   "pygments_lexer": "ipython3",
   "version": "3.8.6"
  }
 },
 "nbformat": 4,
 "nbformat_minor": 2
}
