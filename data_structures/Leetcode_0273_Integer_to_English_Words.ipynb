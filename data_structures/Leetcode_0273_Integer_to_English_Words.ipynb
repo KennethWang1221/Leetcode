{
 "cells": [
  {
   "cell_type": "markdown",
   "metadata": {},
   "source": [
    "## Method1 - String\n",
    "\n",
    "https://www.youtube.com/watch?v=SCtIlKd3mDM"
   ]
  },
  {
   "cell_type": "code",
   "execution_count": 3,
   "metadata": {},
   "outputs": [
    {
     "name": "stdout",
     "output_type": "stream",
     "text": [
      "One Hundred Twenty Three\n"
     ]
    }
   ],
   "source": [
    "ones_map = {\n",
    "    1: 'One',\n",
    "    2: 'Two',\n",
    "    3: 'Three',\n",
    "    4: 'Four',\n",
    "    5: 'Five',\n",
    "    6: 'Six',\n",
    "    7: 'Seven',\n",
    "    8: 'Eight',\n",
    "    9: 'Nine',\n",
    "    10: 'Ten',\n",
    "    11: 'Eleven',\n",
    "    12: 'Twelve',\n",
    "    13: 'Thirteen',\n",
    "    14: 'Fourteen',\n",
    "    15: 'Fifteen',\n",
    "    16: 'Sixteen',\n",
    "    17: 'Seventeen',\n",
    "    18: 'Eighteen',\n",
    "    19: 'Nineteen',\n",
    "}\n",
    "\n",
    "tens_map = {\n",
    "    20: 'Twenty',\n",
    "    30: 'Thirty',\n",
    "    40: 'Forty',\n",
    "    50: 'Fifty',\n",
    "    60: 'Sixty',\n",
    "    70: 'Seventy',\n",
    "    80: 'Eighty',\n",
    "    90: 'Ninety',\n",
    "}\n",
    "def numberToWords(num):\n",
    "    if num == 0: \n",
    "        return 'Zero'\n",
    "    \n",
    "    def get_string(n):\n",
    "        # 123, 120, 102, 012, 100\n",
    "        res = []\n",
    "        hundreds = n // 100\n",
    "        if hundreds: \n",
    "            res.append(ones_map[hundreds] + ' Hundred') \n",
    "        last_2 = n % 100\n",
    "\n",
    "        if last_2 >= 20:\n",
    "            tens, ones = last_2 // 10, last_2 % 10\n",
    "            res.append(tens_map[tens * 10])\n",
    "            if ones:\n",
    "                res.append(ones_map[ones])\n",
    "        elif last_2:\n",
    "            res.append(ones_map[last_2])\n",
    "        return \" \".join(res)\n",
    "    \n",
    "    postfix = [\"\", \" Thousand\", \" Million\", \" Billion\"]\n",
    "    i = 0\n",
    "    res = []\n",
    "\n",
    "    while num:\n",
    "        digits = num % 1000\n",
    "        s = get_string(digits) \n",
    "        if s:\n",
    "            res.append(s + postfix[i])\n",
    "        num = num // 1000\n",
    "        i += 1\n",
    "    res.reverse()\n",
    "    return \" \".join(res)\n",
    "\n",
    "print(numberToWords(num = 123))"
   ]
  }
 ],
 "metadata": {
  "kernelspec": {
   "display_name": "leetcode_env",
   "language": "python",
   "name": "leetcode_env"
  },
  "language_info": {
   "codemirror_mode": {
    "name": "ipython",
    "version": 3
   },
   "file_extension": ".py",
   "mimetype": "text/x-python",
   "name": "python",
   "nbconvert_exporter": "python",
   "pygments_lexer": "ipython3",
   "version": "3.8.6"
  }
 },
 "nbformat": 4,
 "nbformat_minor": 2
}
