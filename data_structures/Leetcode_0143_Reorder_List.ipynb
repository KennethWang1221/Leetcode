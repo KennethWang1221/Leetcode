{
 "cells": [
  {
   "cell_type": "markdown",
   "metadata": {},
   "source": [
    "## Method1 - LinkedList\n",
    "https://www.youtube.com/watch?v=S5bfdUTrKLM"
   ]
  },
  {
   "cell_type": "code",
   "execution_count": 1,
   "metadata": {},
   "outputs": [
    {
     "name": "stdout",
     "output_type": "stream",
     "text": [
      "Original List:\n",
      "1, 2, 3, 4, 5, \n",
      "Reordered List:\n",
      "1, 5, 2, 4, 3, \n"
     ]
    }
   ],
   "source": [
    "class ListNode:\n",
    "    def __init__(self, x):\n",
    "        self.val = x\n",
    "        self.next = None\n",
    "\n",
    "def make_list(arr):\n",
    "    head_node = None\n",
    "    p_node = None\n",
    "    for a in arr:\n",
    "        new_node = ListNode(a)\n",
    "        if head_node is None:\n",
    "            head_node = new_node\n",
    "            p_node = new_node\n",
    "        else:\n",
    "            p_node.next = new_node\n",
    "            p_node = new_node\n",
    "    return head_node\n",
    "\n",
    "def print_list(head):\n",
    "    while head is not None:\n",
    "        print(head.val, end=', ')\n",
    "        head = head.next\n",
    "    print()\n",
    "\n",
    "class Solution:\n",
    "    def reorderList(self, head: ListNode) -> None:\n",
    "        # Find middle\n",
    "        slow, fast = head, head.next\n",
    "        while fast and fast.next:\n",
    "            slow = slow.next\n",
    "            fast = fast.next.next\n",
    "\n",
    "        # Reverse second half\n",
    "        second = slow.next\n",
    "        prev = slow.next = None\n",
    "        while second:\n",
    "            tmp = second.next\n",
    "            second.next = prev\n",
    "            prev = second\n",
    "            second = tmp\n",
    "\n",
    "        # Merge two halves\n",
    "        first, second = head, prev\n",
    "        while second:\n",
    "            tmp1, tmp2 = first.next, second.next\n",
    "            first.next = second\n",
    "            second.next = tmp1\n",
    "            first, second = tmp1, tmp2\n",
    "\n",
    "\n",
    "# Test case\n",
    "s = Solution()\n",
    "\n",
    "# Creating a linked list from an array\n",
    "arr = [1, 2, 3, 4, 5]\n",
    "head = make_list(arr)\n",
    "\n",
    "# Print the original linked list\n",
    "print(\"Original List:\")\n",
    "print_list(head)\n",
    "\n",
    "# Reorder the list\n",
    "s.reorderList(head)\n",
    "\n",
    "# Print the reordered linked list\n",
    "print(\"Reordered List:\")\n",
    "print_list(head)\n"
   ]
  }
 ],
 "metadata": {
  "kernelspec": {
   "display_name": "leetcode_env",
   "language": "python",
   "name": "python3"
  },
  "language_info": {
   "codemirror_mode": {
    "name": "ipython",
    "version": 3
   },
   "file_extension": ".py",
   "mimetype": "text/x-python",
   "name": "python",
   "nbconvert_exporter": "python",
   "pygments_lexer": "ipython3",
   "version": "3.8.6"
  }
 },
 "nbformat": 4,
 "nbformat_minor": 2
}
