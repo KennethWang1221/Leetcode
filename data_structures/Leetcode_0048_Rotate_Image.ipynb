{
 "cells": [
  {
   "cell_type": "markdown",
   "metadata": {},
   "source": [
    "## Method - Array - Matrix\n",
    "\n",
    "https://www.youtube.com/watch?v=fMSJSS7eO1w\n",
    "\n",
    "Same idea to 0054, 0059, 0048"
   ]
  },
  {
   "cell_type": "code",
   "execution_count": 1,
   "metadata": {},
   "outputs": [
    {
     "name": "stdout",
     "output_type": "stream",
     "text": [
      "[[7, 4, 1], [8, 5, 2], [9, 6, 3]]\n"
     ]
    }
   ],
   "source": [
    "def rotate(matrix):\n",
    "    \"\"\"\n",
    "    Do not return anything, modify matrix in-place instead.\n",
    "    \"\"\"\n",
    "    rows, cols = len(matrix), len(matrix[0])-1\n",
    "    left, right = 0, cols\n",
    "\n",
    "    while left<right:\n",
    "        # bottomleft -> topleft\n",
    "        for i in range(right - left):\n",
    "            top, bottom = left, right\n",
    "\n",
    "            topleft = matrix[top][left+i]\n",
    "\n",
    "            # bottomleft -> topleft\n",
    "            matrix[top][left+i] = matrix[bottom-i][left]\n",
    "            \n",
    "            # bottomright -> bottomleft\n",
    "            matrix[bottom-i][left] = matrix[bottom][right-i]\n",
    "        \n",
    "            # topright -> bottomright\n",
    "            matrix[bottom][right-i] = matrix[top+i][right]\n",
    "            \n",
    "            # topleft -> topright\n",
    "            matrix[top+i][right] = topleft\n",
    "            \n",
    "        left += 1\n",
    "        right -=1\n",
    "    return matrix\n",
    "matrix = [[1,2,3],[4,5,6],[7,8,9]]\n",
    "res = rotate(matrix)\n",
    "print(res)"
   ]
  }
 ],
 "metadata": {
  "kernelspec": {
   "display_name": "leetcode_env",
   "language": "python",
   "name": "python3"
  },
  "language_info": {
   "codemirror_mode": {
    "name": "ipython",
    "version": 3
   },
   "file_extension": ".py",
   "mimetype": "text/x-python",
   "name": "python",
   "nbconvert_exporter": "python",
   "pygments_lexer": "ipython3",
   "version": "3.8.6"
  },
  "orig_nbformat": 4
 },
 "nbformat": 4,
 "nbformat_minor": 2
}
