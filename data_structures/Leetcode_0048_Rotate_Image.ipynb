{
 "cells": [
  {
   "cell_type": "code",
   "execution_count": null,
   "metadata": {},
   "outputs": [],
   "source": [
    "# Learning url:\n",
    "# https://github.com/neetcode-gh/leetcode/blob/main/python/48-Rotate-Image.py\n",
    "# https://www.youtube.com/watch?v=fMSJSS7eO1w"
   ]
  },
  {
   "cell_type": "code",
   "execution_count": 55,
   "metadata": {},
   "outputs": [
    {
     "name": "stdout",
     "output_type": "stream",
     "text": [
      "[[7, 4, 1], [8, 5, 2], [9, 6, 3]]\n"
     ]
    }
   ],
   "source": [
    "def rotate(matrix):\n",
    "\n",
    "    \"\"\"\n",
    "    Do not return anything, modify matrix in-place instead.\n",
    "    \"\"\"\n",
    "    row = len(matrix)\n",
    "    col = len(matrix[0])\n",
    "    \n",
    "    left, right = 0, col-1\n",
    "    \n",
    "    while left < right:\n",
    "        #for i in range(left,right): cannot pass\n",
    "        for i in range(0, right-left):\n",
    "            top, bottom = left, right\n",
    "            topleft = matrix[top][left+i]\n",
    "            \n",
    "            # move bottom_left to the top_left\n",
    "            matrix[top][left+i] = matrix[bottom-i][left]\n",
    "            # move bottom_right to the bottom_left\n",
    "            matrix[bottom-i][left] = matrix[bottom][right-i]\n",
    "            \n",
    "            # move top_right to the bottom_right\n",
    "            matrix[bottom][right-i] = matrix[top+i][right]\n",
    "            # move top_left to the top_right\n",
    "            matrix[top+i][right] = topleft\n",
    "        \n",
    "        left+=1\n",
    "        right-=1\n",
    "    print(matrix)\n",
    "matrix = [[1,2,3],[4,5,6],[7,8,9]]\n",
    "#matrix = [[5,1,9,11],[2,4,8,10],[13,3,6,7],[15,14,12,16]]\n",
    "#matrix = [[2,29,20,26,16,28],[12,27,9,25,13,21],[32,33,32,2,28,14],[13,14,32,27,22,26],[33,1,20,7,21,7],[4,24,1,6,32,34]]\n",
    "rotate(matrix)"
   ]
  },
  {
   "cell_type": "code",
   "execution_count": 56,
   "metadata": {},
   "outputs": [
    {
     "name": "stdout",
     "output_type": "stream",
     "text": [
      "3 3\n"
     ]
    }
   ],
   "source": [
    "matrix = [[1,2,3],[4,5,6],[7,8,9]]\n",
    "row = len(matrix)\n",
    "col = len(matrix[0])\n",
    "print(row,col)"
   ]
  }
 ],
 "metadata": {
  "kernelspec": {
   "display_name": "Python 3.8.6 64-bit ('leetcode_env')",
   "language": "python",
   "name": "python3"
  },
  "language_info": {
   "codemirror_mode": {
    "name": "ipython",
    "version": 3
   },
   "file_extension": ".py",
   "mimetype": "text/x-python",
   "name": "python",
   "nbconvert_exporter": "python",
   "pygments_lexer": "ipython3",
   "version": "3.8.6"
  },
  "orig_nbformat": 4,
  "vscode": {
   "interpreter": {
    "hash": "846fd2d9bb562a436898b7cc368204fc2f9d44e5e9b051b4f6e855e721078f23"
   }
  }
 },
 "nbformat": 4,
 "nbformat_minor": 2
}
