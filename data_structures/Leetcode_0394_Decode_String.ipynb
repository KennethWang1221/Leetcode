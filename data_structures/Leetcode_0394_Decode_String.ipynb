{
 "cells": [
  {
   "cell_type": "markdown",
   "metadata": {},
   "source": [
    "## Method1 - Stack\n",
    "https://www.youtube.com/watch?v=qB0zZpBJlh8"
   ]
  },
  {
   "cell_type": "code",
   "execution_count": 1,
   "metadata": {},
   "outputs": [
    {
     "name": "stdout",
     "output_type": "stream",
     "text": [
      "aaabcbc\n"
     ]
    },
    {
     "name": "stderr",
     "output_type": "stream",
     "text": [
      "<>:5: SyntaxWarning: \"is not\" with a literal. Did you mean \"!=\"?\n",
      "<>:9: SyntaxWarning: \"is not\" with a literal. Did you mean \"!=\"?\n",
      "<>:5: SyntaxWarning: \"is not\" with a literal. Did you mean \"!=\"?\n",
      "<>:9: SyntaxWarning: \"is not\" with a literal. Did you mean \"!=\"?\n",
      "/var/folders/_0/t_q_3ydn61v2hbgddcm8pdz00000gn/T/ipykernel_18997/4122995173.py:5: SyntaxWarning: \"is not\" with a literal. Did you mean \"!=\"?\n",
      "  if char is not \"]\":\n",
      "/var/folders/_0/t_q_3ydn61v2hbgddcm8pdz00000gn/T/ipykernel_18997/4122995173.py:9: SyntaxWarning: \"is not\" with a literal. Did you mean \"!=\"?\n",
      "  while stack[-1] is not \"[\":\n"
     ]
    }
   ],
   "source": [
    "def decodeString(s) -> str:\n",
    "    stack = []\n",
    "\n",
    "    for char in s:\n",
    "        if char is not \"]\":\n",
    "            stack.append(char)\n",
    "        else:\n",
    "            sub_str = \"\"\n",
    "            while stack[-1] is not \"[\":\n",
    "                sub_str = stack.pop() + sub_str\n",
    "            stack.pop()\n",
    "\n",
    "            multiplier = \"\"\n",
    "            while stack and stack[-1].isdigit():\n",
    "                multiplier = stack.pop() + multiplier\n",
    "\n",
    "            stack.append(int(multiplier) * sub_str)\n",
    "\n",
    "    return \"\".join(stack)\n",
    "print(decodeString(s = \"3[a]2[bc]\"))"
   ]
  }
 ],
 "metadata": {
  "kernelspec": {
   "display_name": "leetcode_env",
   "language": "python",
   "name": "python3"
  },
  "language_info": {
   "codemirror_mode": {
    "name": "ipython",
    "version": 3
   },
   "file_extension": ".py",
   "mimetype": "text/x-python",
   "name": "python",
   "nbconvert_exporter": "python",
   "pygments_lexer": "ipython3",
   "version": "3.8.6"
  }
 },
 "nbformat": 4,
 "nbformat_minor": 2
}
