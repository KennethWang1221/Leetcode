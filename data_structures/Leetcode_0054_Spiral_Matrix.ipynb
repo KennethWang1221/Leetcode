{
 "cells": [
  {
   "cell_type": "code",
   "execution_count": null,
   "metadata": {},
   "outputs": [],
   "source": [
    "# learning url:\n",
    "# https://www.youtube.com/watch?v=BJnMZNwUk1M"
   ]
  },
  {
   "cell_type": "code",
   "execution_count": 57,
   "metadata": {},
   "outputs": [
    {
     "name": "stdout",
     "output_type": "stream",
     "text": [
      "[1, 2, 3]\n"
     ]
    }
   ],
   "source": [
    "def spiralOrder(matrix):\n",
    "    row = len(matrix)\n",
    "    col = len(matrix[0])\n",
    "    \n",
    "    left, right = 0, col\n",
    "    top, bottom = 0, row\n",
    "    result = []\n",
    "    # left ==0, right == 4\n",
    "    # top == 0, bottom == 3\n",
    "    while left<right and top<bottom:\n",
    "        # top row\n",
    "        for i in range(left, right):\n",
    "            result.append(matrix[top][i])\n",
    "        top+=1\n",
    "        # right col\n",
    "        for i in range(top, bottom):\n",
    "            result.append(matrix[i][right-1])\n",
    "        right -= 1\n",
    "        # corner case [1,2,3] [[1],[2],[3]]\n",
    "        if (left<right and top<bottom) == False: # either left<right or top<bottom == False, this statement will equal to False, then the break will be performed\n",
    "            break\n",
    "        # if not (left<right and top<bottom):\n",
    "        #     break\n",
    "        \n",
    "        # bottom row\n",
    "        for i in range(right-1, left-1, -1):\n",
    "            result.append(matrix[bottom-1][i])\n",
    "        bottom-=1\n",
    "        # left col\n",
    "        for i in range(bottom-1, top-1, -1):\n",
    "            result.append(matrix[i][left])\n",
    "        left+=1\n",
    "    return result\n",
    "matrix = [[1,2,3,4],[5,6,7,8],[9,10,11,12]]\n",
    "matrix = [[1,2,3],[4,5,6],[7,8,9]]\n",
    "matrix = [[1,2,3]]\n",
    "matrix = [[1],[2],[3]]\n",
    "result = spiralOrder(matrix)\n",
    "print(result)"
   ]
  },
  {
   "cell_type": "code",
   "execution_count": 44,
   "metadata": {},
   "outputs": [
    {
     "name": "stdout",
     "output_type": "stream",
     "text": [
      "有假则为假\n",
      "全真才为真\n"
     ]
    }
   ],
   "source": [
    "# https://kelepython.readthedocs.io/zh/latest/c01/c01_09.html\n",
    "# https://blog.csdn.net/shen_chengfeng/article/details/80470141\n",
    "bool_1 = True\n",
    "bool_2 = False\n",
    "bool_3 = True\n",
    "bool_4 = False\n",
    "if (bool_2 and bool_1) == False: # and 找 False/ or 找 True\n",
    "    print(\"有假则为假\")\n",
    "else:\n",
    "    print(\"false\")\n",
    "if bool_1 and bool_3:\n",
    "    print(\"全真才为真\")\n",
    "else:\n",
    "    print(\"false\")"
   ]
  },
  {
   "cell_type": "code",
   "execution_count": 42,
   "metadata": {},
   "outputs": [
    {
     "name": "stdout",
     "output_type": "stream",
     "text": [
      "True\n"
     ]
    }
   ],
   "source": [
    "left = 1 \n",
    "right = 2 \n",
    "top = 2 \n",
    "bottom = 2\n",
    "if (left<right and top<bottom) == False:\n",
    "    print(\"True\")\n",
    "else:\n",
    "    print(\"False\")"
   ]
  },
  {
   "cell_type": "code",
   "execution_count": 2,
   "metadata": {},
   "outputs": [
    {
     "name": "stdout",
     "output_type": "stream",
     "text": [
      "False\n"
     ]
    }
   ],
   "source": [
    "left = 1 \n",
    "right = 2 \n",
    "top = 2 \n",
    "bottom = 2\n",
    "if (left<right ) == False:\n",
    "    print(\"True\")\n",
    "else:\n",
    "    print(\"False\")"
   ]
  },
  {
   "cell_type": "code",
   "execution_count": 14,
   "metadata": {},
   "outputs": [
    {
     "name": "stdout",
     "output_type": "stream",
     "text": [
      "(3, 1)\n",
      "[[1]\n",
      " [2]\n",
      " [3]]\n",
      "3\n",
      "1\n",
      "===\n",
      "(1, 3)\n",
      "[[1 2 3]]\n"
     ]
    }
   ],
   "source": [
    "import numpy as np\n",
    "matrix1 = np.array([[1],[2],[3]])\n",
    "matrix2 = np.array([[1,2,3]])\n",
    "print(matrix1.shape)\n",
    "print(matrix1)\n",
    "print(matrix1.shape[0])\n",
    "print(matrix1.shape[1])\n",
    "print(\"===\")\n",
    "print(matrix2.shape)\n",
    "print(matrix2)"
   ]
  },
  {
   "cell_type": "code",
   "execution_count": 49,
   "metadata": {},
   "outputs": [
    {
     "name": "stdout",
     "output_type": "stream",
     "text": [
      "5 6\n",
      "4 5\n",
      "3 4\n",
      "2 3\n",
      "1 2\n"
     ]
    }
   ],
   "source": [
    "a = [1,2,3,4,5,6]\n",
    "n = len(a)# n == 6\n",
    "#print(n)\n",
    "result = []\n",
    "for i in range(n-1,0,-1):\n",
    "    result.append(a[i])\n",
    "    print(i,a[i])"
   ]
  }
 ],
 "metadata": {
  "kernelspec": {
   "display_name": "Python 3.8.6 64-bit ('leetcode_env')",
   "language": "python",
   "name": "python3"
  },
  "language_info": {
   "codemirror_mode": {
    "name": "ipython",
    "version": 3
   },
   "file_extension": ".py",
   "mimetype": "text/x-python",
   "name": "python",
   "nbconvert_exporter": "python",
   "pygments_lexer": "ipython3",
   "version": "3.8.6"
  },
  "orig_nbformat": 4,
  "vscode": {
   "interpreter": {
    "hash": "846fd2d9bb562a436898b7cc368204fc2f9d44e5e9b051b4f6e855e721078f23"
   }
  }
 },
 "nbformat": 4,
 "nbformat_minor": 2
}
