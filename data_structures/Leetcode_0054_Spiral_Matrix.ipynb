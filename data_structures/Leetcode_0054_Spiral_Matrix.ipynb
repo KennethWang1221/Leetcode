{
 "cells": [
  {
   "cell_type": "markdown",
   "metadata": {},
   "source": [
    "## Method1 - Matrix\n",
    "https://www.youtube.com/watch?v=BJnMZNwUk1M"
   ]
  },
  {
   "cell_type": "code",
   "execution_count": 1,
   "metadata": {},
   "outputs": [
    {
     "name": "stdout",
     "output_type": "stream",
     "text": [
      "[1, 2, 3, 6, 9, 8, 7, 4, 5]\n"
     ]
    }
   ],
   "source": [
    "def spiralOrder(matrix):\n",
    "    rows, cols = len(matrix), len(matrix[0])\n",
    "    top, left, bottom, right = 0, 0, rows-1, cols - 1\n",
    "    res = []\n",
    "    while left <= right and top<=bottom:\n",
    "\n",
    "        # top\n",
    "        for c in range(left, right + 1):\n",
    "            res.append(matrix[top][c])\n",
    "        top += 1\n",
    "\n",
    "        # right\n",
    "        for r in range(top, bottom + 1):\n",
    "            res.append(matrix[r][right])\n",
    "        right -= 1\n",
    "        \n",
    "        if left > right or bottom < top:\n",
    "            break\n",
    "        \n",
    "        # bottom\n",
    "        for c in range(right, left - 1, -1):\n",
    "            res.append(matrix[bottom][c])\n",
    "        bottom -= 1\n",
    "\n",
    "        # left\n",
    "        for r in range(bottom, top - 1, -1):\n",
    "            res.append(matrix[r][left])\n",
    "        left += 1\n",
    "\n",
    "    return res\n",
    "matrix = [[1,2,3],[4,5,6],[7,8,9]]\n",
    "#matrix = [[1],[2],[3],[4]]\n",
    "res = spiralOrder(matrix)\n",
    "print(res)"
   ]
  },
  {
   "cell_type": "markdown",
   "metadata": {},
   "source": [
    "## Recap bool"
   ]
  },
  {
   "cell_type": "code",
   "execution_count": 2,
   "metadata": {},
   "outputs": [
    {
     "name": "stdout",
     "output_type": "stream",
     "text": [
      "有假则为假\n",
      "全真才为真\n"
     ]
    }
   ],
   "source": [
    "# https://kelepython.readthedocs.io/zh/latest/c01/c01_09.html\n",
    "# https://blog.csdn.net/shen_chengfeng/article/details/80470141\n",
    "bool_1 = True\n",
    "bool_2 = False\n",
    "bool_3 = True\n",
    "bool_4 = False\n",
    "if (bool_2 and bool_1) == False: # and 找 False/ or 找 True\n",
    "    print(\"有假则为假\")\n",
    "else:\n",
    "    print(\"false\")\n",
    "if bool_1 and bool_3:\n",
    "    print(\"全真才为真\")\n",
    "else:\n",
    "    print(\"false\")"
   ]
  }
 ],
 "metadata": {
  "kernelspec": {
   "display_name": "leetcode_env",
   "language": "python",
   "name": "python3"
  },
  "language_info": {
   "codemirror_mode": {
    "name": "ipython",
    "version": 3
   },
   "file_extension": ".py",
   "mimetype": "text/x-python",
   "name": "python",
   "nbconvert_exporter": "python",
   "pygments_lexer": "ipython3",
   "version": "3.8.6"
  },
  "orig_nbformat": 4
 },
 "nbformat": 4,
 "nbformat_minor": 2
}
