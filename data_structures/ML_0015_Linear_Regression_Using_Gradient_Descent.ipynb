{
 "cells": [
  {
   "cell_type": "markdown",
   "metadata": {},
   "source": [
    "## Method1 - ML\n",
    "\n",
    "Refer to [ML_0047_Gradient_Descent_Variants](./ML_0047_Gradient_Descent_Variants.ipynb)"
   ]
  },
  {
   "cell_type": "code",
   "execution_count": 1,
   "metadata": {},
   "outputs": [
    {
     "name": "stdout",
     "output_type": "stream",
     "text": [
      "[0.0332 0.9854]\n"
     ]
    }
   ],
   "source": [
    "import numpy as np\n",
    "\n",
    "def linear_regression_gradient_descent(X,y,alpha,iterations):\n",
    "    # Initialize weights to zeros\n",
    "    theta = np.zeros(X.shape[1])\n",
    "    n = len(y)\n",
    "    pure_mse = True\n",
    "    for _ in range(iterations):\n",
    "        # Prediction step\n",
    "        predictions = X @ theta\n",
    "        # Compute gradients using pure MSE\n",
    "        if pure_mse:\n",
    "            gradients = X.T @ (predictions - y) * (2/n)\n",
    "        else:\n",
    "            gradients = X.T @ (predictions - y) * (1/n)\n",
    "\n",
    "        # Update weights\n",
    "        theta -= alpha * gradients\n",
    "\n",
    "    # Round to 4 decimal places\n",
    "    return np.round(theta, 4)\n",
    "X = np.array([[1, 1], [1, 2], [1, 3]])\n",
    "y = np.array([1, 2, 3])\n",
    "alpha = 0.01\n",
    "iterations = 1000\n",
    "print(linear_regression_gradient_descent(X,y,alpha,iterations))"
   ]
  }
 ],
 "metadata": {
  "kernelspec": {
   "display_name": "leetcode_env",
   "language": "python",
   "name": "python3"
  },
  "language_info": {
   "codemirror_mode": {
    "name": "ipython",
    "version": 3
   },
   "file_extension": ".py",
   "mimetype": "text/x-python",
   "name": "python",
   "nbconvert_exporter": "python",
   "pygments_lexer": "ipython3",
   "version": "3.8.6"
  }
 },
 "nbformat": 4,
 "nbformat_minor": 2
}
