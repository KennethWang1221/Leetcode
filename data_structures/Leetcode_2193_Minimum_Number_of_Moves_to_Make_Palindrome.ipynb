{
 "cells": [
  {
   "cell_type": "markdown",
   "metadata": {},
   "source": [
    "## Method1 - Binary Search"
   ]
  },
  {
   "cell_type": "code",
   "execution_count": 1,
   "metadata": {},
   "outputs": [
    {
     "name": "stdout",
     "output_type": "stream",
     "text": [
      "2\n"
     ]
    }
   ],
   "source": [
    "def minMovesToMakePalindrome(s):\n",
    "    s = list(s)\n",
    "    ans = 0\n",
    "    left, right = 0, len(s) - 1\n",
    "    while left < right:\n",
    "        # try to find matching char for s[left]\n",
    "        l = left\n",
    "        r = right\n",
    "        while s[l] != s[r]:\n",
    "            r -= 1\n",
    "        if l == r:\n",
    "            # no match found, so this char is the middle\n",
    "            s[r], s[r+1] = s[r+1], s[r]\n",
    "            ans += 1\n",
    "            continue\n",
    "        else:\n",
    "            # we found a match for s[l] at s[r]\n",
    "            for i in range(r, right):\n",
    "                s[i], s[i+1] = s[i+1], s[i]\n",
    "                ans += 1\n",
    "            left += 1\n",
    "            right -= 1\n",
    "    return ans\n",
    "s = \"aabb\"\n",
    "print(minMovesToMakePalindrome(s))"
   ]
  }
 ],
 "metadata": {
  "kernelspec": {
   "display_name": "leetcode_env",
   "language": "python",
   "name": "leetcode_env"
  },
  "language_info": {
   "codemirror_mode": {
    "name": "ipython",
    "version": 3
   },
   "file_extension": ".py",
   "mimetype": "text/x-python",
   "name": "python",
   "nbconvert_exporter": "python",
   "pygments_lexer": "ipython3",
   "version": "3.8.6"
  }
 },
 "nbformat": 4,
 "nbformat_minor": 2
}
