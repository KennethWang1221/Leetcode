{
 "cells": [
  {
   "cell_type": "markdown",
   "metadata": {},
   "source": [
    "## Method1 - Stack\n",
    "https://www.youtube.com/watch?v=qYlHrAKJfyA"
   ]
  },
  {
   "cell_type": "code",
   "execution_count": 4,
   "metadata": {},
   "outputs": [
    {
     "name": "stdout",
     "output_type": "stream",
     "text": [
      "/abc/def\n"
     ]
    }
   ],
   "source": [
    "def simplifyPath(path):\n",
    "\n",
    "    stack = []\n",
    "    path = path.split(\"/\")\n",
    "    for i in path:\n",
    "        #  if i == \"/\" or i == '//', it becomes '' (empty string)\n",
    "        if i == \"..\":\n",
    "            if stack:\n",
    "                stack.pop()\n",
    "        elif i == \".\" or i == '':\n",
    "            # skip \".\" or an empty string\n",
    "            continue\n",
    "        else:\n",
    "            stack.append(i)\n",
    "\n",
    "    res = \"/\" + \"/\".join(stack)\n",
    "    return res\n",
    "string = '/../abc//./def/'\n",
    "res = simplifyPath(string)\n",
    "print(res)"
   ]
  }
 ],
 "metadata": {
  "kernelspec": {
   "display_name": "leetcode_env",
   "language": "python",
   "name": "leetcode_env"
  },
  "language_info": {
   "codemirror_mode": {
    "name": "ipython",
    "version": 3
   },
   "file_extension": ".py",
   "mimetype": "text/x-python",
   "name": "python",
   "nbconvert_exporter": "python",
   "pygments_lexer": "ipython3",
   "version": "3.8.6"
  }
 },
 "nbformat": 4,
 "nbformat_minor": 2
}
