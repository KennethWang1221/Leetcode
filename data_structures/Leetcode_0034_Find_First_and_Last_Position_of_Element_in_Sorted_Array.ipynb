{
 "cells": [
  {
   "cell_type": "markdown",
   "metadata": {},
   "source": [
    "## Method1 - Binary Search\n",
    "\n",
    "https://www.youtube.com/watch?v=4sQL7R5ySUU"
   ]
  },
  {
   "cell_type": "code",
   "execution_count": 1,
   "metadata": {},
   "outputs": [
    {
     "name": "stdout",
     "output_type": "stream",
     "text": [
      "[3, 4]\n"
     ]
    }
   ],
   "source": [
    "def searchRange(nums, target):\n",
    "    left = binSearch(nums, target, True)\n",
    "    right = binSearch(nums, target, False)\n",
    "    return [left, right]\n",
    "\n",
    "# leftBias=[True/False], if false, res is rightBiased\n",
    "def binSearch(nums, target, leftBias):\n",
    "    l, r = 0, len(nums) - 1\n",
    "    i = -1\n",
    "    while l <= r:\n",
    "        m = (l + r) // 2\n",
    "        if target > nums[m]:\n",
    "            l = m + 1\n",
    "        elif target < nums[m]:\n",
    "            r = m - 1\n",
    "        else:\n",
    "            i = m\n",
    "            if leftBias:\n",
    "                r = m - 1\n",
    "            else:\n",
    "                l = m + 1\n",
    "    return i\n",
    "\n",
    "nums = [5,7,7,8,8,10]\n",
    "target = 8\n",
    "res = searchRange(nums, target)\n",
    "print(res)"
   ]
  },
  {
   "cell_type": "code",
   "execution_count": null,
   "metadata": {},
   "outputs": [],
   "source": []
  }
 ],
 "metadata": {
  "kernelspec": {
   "display_name": "test_env",
   "language": "python",
   "name": "test_env"
  },
  "language_info": {
   "codemirror_mode": {
    "name": "ipython",
    "version": 3
   },
   "file_extension": ".py",
   "mimetype": "text/x-python",
   "name": "python",
   "nbconvert_exporter": "python",
   "pygments_lexer": "ipython3",
   "version": "3.8.10"
  }
 },
 "nbformat": 4,
 "nbformat_minor": 2
}
