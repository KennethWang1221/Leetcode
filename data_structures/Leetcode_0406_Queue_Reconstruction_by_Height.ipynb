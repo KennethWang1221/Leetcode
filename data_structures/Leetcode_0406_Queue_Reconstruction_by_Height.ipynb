{
 "cells": [
  {
   "cell_type": "markdown",
   "metadata": {},
   "source": [
    "## Method1 - Greedy\n",
    "https://github.com/youngyangyang04/leetcode-master/blob/master/problems/0406.%E6%A0%B9%E6%8D%AE%E8%BA%AB%E9%AB%98%E9%87%8D%E5%BB%BA%E9%98%9F%E5%88%97.md"
   ]
  },
  {
   "cell_type": "code",
   "execution_count": 1,
   "metadata": {},
   "outputs": [
    {
     "name": "stdout",
     "output_type": "stream",
     "text": [
      "[[5, 0], [7, 0], [5, 2], [6, 1], [4, 4], [7, 1]]\n"
     ]
    }
   ],
   "source": [
    "def test(people):\n",
    "    # 先按照h维度的身高顺序从高到低排序。确定第一个维度\n",
    "    # lambda返回的是一个元组：当-x[0](维度h）相同时，再根据x[1]（维度k）从小到大排序\n",
    "    people.sort(key=lambda x: (-x[0], x[1]))\n",
    "    que = []\n",
    "\n",
    "# 根据每个元素的第二个维度k，贪心算法，进行插入\n",
    "    # people已经排序过了：同一高度时k值小的排前面。\n",
    "    for p in people:\n",
    "        que.insert(p[1], p)\n",
    "    return que\n",
    "\n",
    "print(test(people = [[7,0],[4,4],[7,1],[5,0],[6,1],[5,2]]))"
   ]
  },
  {
   "cell_type": "markdown",
   "metadata": {},
   "source": [
    "## Method2 - Greedy + Bubble Sort"
   ]
  },
  {
   "cell_type": "code",
   "execution_count": 1,
   "metadata": {},
   "outputs": [
    {
     "name": "stdout",
     "output_type": "stream",
     "text": [
      "[[9, 0], [7, 0], [6, 0], [6, 2], [5, 2], [5, 3], [3, 0], [3, 4], [2, 7], [1, 9]]\n",
      "[[3, 0], [6, 0], [7, 0], [5, 2], [3, 4], [5, 3], [6, 2], [2, 7], [9, 0], [1, 9]]\n"
     ]
    }
   ],
   "source": [
    "def test(people):\n",
    "    n = len(people)  # Get the number of people\n",
    "    res = []  # Initialize an empty list to store the final queue\n",
    "\n",
    "    # Sort people by height in descending order, and if heights are equal, by k (the second value) in ascending order\n",
    "    # people.sort(key=lambda x: (-x[0], x[1]))\n",
    "    # Bubble sort to sort by height in descending order, and by k in ascending order\n",
    "    for i in range(len(people)):\n",
    "        for j in range(0, len(people) - i - 1):\n",
    "            # Compare heights (people[j][0] and people[j+1][0])\n",
    "            if people[j][0] < people[j+1][0]:\n",
    "                # Swap if the first person is shorter than the next one\n",
    "                people[j], people[j+1] = people[j+1], people[j]\n",
    "            # If heights are equal, compare by k value (people[j][1] and people[j+1][1])\n",
    "            elif people[j][0] == people[j+1][0] and people[j][1] > people[j+1][1]:\n",
    "                # Swap if the first person's k is greater than the next one\n",
    "                people[j], people[j+1] = people[j+1], people[j]\n",
    "    print(people)\n",
    "    # Insert each person into the result list at the index specified by their k value\n",
    "    for person in people:\n",
    "        res.insert(person[1], person)  # Insert person at index given by their k value\n",
    "\n",
    "    return res  # Return the reconstructed queue\n",
    "\n",
    "print(test(people = [[9,0],[7,0],[1,9],[3,0],[2,7],[5,3],[6,0],[3,4],[6,2],[5,2]]))"
   ]
  }
 ],
 "metadata": {
  "kernelspec": {
   "display_name": "leetcode_env",
   "language": "python",
   "name": "leetcode_env"
  },
  "language_info": {
   "codemirror_mode": {
    "name": "ipython",
    "version": 3
   },
   "file_extension": ".py",
   "mimetype": "text/x-python",
   "name": "python",
   "nbconvert_exporter": "python",
   "pygments_lexer": "ipython3",
   "version": "3.8.6"
  }
 },
 "nbformat": 4,
 "nbformat_minor": 2
}
