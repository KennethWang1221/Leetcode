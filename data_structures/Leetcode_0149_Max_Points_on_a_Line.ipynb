{
 "cells": [
  {
   "cell_type": "markdown",
   "metadata": {},
   "source": [
    "## Method1 - Math\n",
    "https://www.youtube.com/watch?v=Bb9lOXUOnFw"
   ]
  },
  {
   "cell_type": "code",
   "execution_count": 2,
   "metadata": {},
   "outputs": [
    {
     "name": "stdout",
     "output_type": "stream",
     "text": [
      "3\n"
     ]
    }
   ],
   "source": [
    "from typing import List\n",
    "import collections\n",
    "\n",
    "def maxPoints(points: List[List[int]]) -> int:\n",
    "    # 1. For each pt determine if it lies on the longest line\n",
    "    # 2. Count all pts with same slope\n",
    "    # 3. Update result with max\n",
    "\n",
    "    res = 1\n",
    "    for i in range(len(points)):\n",
    "        p1 = points[i]\n",
    "        count = collections.defaultdict(int)\n",
    "        for j in range(i + 1, len(points)):\n",
    "            p2 = points[j]\n",
    "            if p2[0] == p1[0]:\n",
    "                slope = float(\"inf\")\n",
    "            else:\n",
    "                slope = (p2[1] - p1[1]) / (p2[0] - p1[0])\n",
    "            count[slope] += 1\n",
    "            res = max(res, count[slope] + 1)\n",
    "    return res\n",
    "\n",
    "points = [[1,1],[2,2],[3,3]]\n",
    "res = maxPoints(points)\n",
    "print(res)"
   ]
  }
 ],
 "metadata": {
  "kernelspec": {
   "display_name": "test_env",
   "language": "python",
   "name": "test_env"
  },
  "language_info": {
   "codemirror_mode": {
    "name": "ipython",
    "version": 3
   },
   "file_extension": ".py",
   "mimetype": "text/x-python",
   "name": "python",
   "nbconvert_exporter": "python",
   "pygments_lexer": "ipython3",
   "version": "3.8.6"
  }
 },
 "nbformat": 4,
 "nbformat_minor": 2
}
