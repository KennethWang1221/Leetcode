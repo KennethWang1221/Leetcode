{
 "cells": [
  {
   "cell_type": "markdown",
   "metadata": {},
   "source": [
    "## Method1: DIY"
   ]
  },
  {
   "cell_type": "code",
   "execution_count": 44,
   "metadata": {},
   "outputs": [
    {
     "name": "stdout",
     "output_type": "stream",
     "text": [
      "2\n"
     ]
    }
   ],
   "source": [
    "def firstUniqChar(s):\n",
    "    hashmap = {}\n",
    "        \n",
    "    for i in range(len(s)):\n",
    "        hashmap[s[i]] = hashmap.get(s[i], 0) + 1\n",
    "        \n",
    "            \n",
    "    for k, v in hashmap.items():\n",
    "        if v == 1:\n",
    "            #res = s.index(k)\n",
    "            return s.index(k)\n",
    "    \n",
    "    return -1\n",
    "\n",
    "s = 'leetcode'\n",
    "s = \"loveleetcode\"\n",
    "res = firstUniqChar(s)\n",
    "print(res)"
   ]
  },
  {
   "cell_type": "code",
   "execution_count": 43,
   "metadata": {},
   "outputs": [
    {
     "name": "stdout",
     "output_type": "stream",
     "text": [
      "2\n"
     ]
    }
   ],
   "source": [
    "def firstUniqChar(s):\n",
    "    cnt = {}\n",
    "        \n",
    "    \"\"\"\n",
    "    for c in s:\n",
    "        if c not in cnt:\n",
    "            cnt[c] = 1\n",
    "        else:\n",
    "            cnt[c] += 1\n",
    "    \"\"\"\n",
    "    for c in s:\n",
    "        cnt[c] = cnt.get(c,0)+1\n",
    "            \n",
    "    for i in range(len(s)):\n",
    "        temp = cnt[s[i]]\n",
    "        if cnt[s[i]] == 1:\n",
    "            return i\n",
    "        \n",
    "    return -1\n",
    "\n",
    "s = 'leetcode'\n",
    "s = \"loveleetcode\"\n",
    "res = firstUniqChar(s)\n",
    "print(res)"
   ]
  },
  {
   "cell_type": "markdown",
   "metadata": {},
   "source": [
    "## Recap index\n",
    "\n",
    "list.index(x[, start[, end]])"
   ]
  },
  {
   "cell_type": "code",
   "execution_count": 20,
   "metadata": {},
   "outputs": [
    {
     "name": "stdout",
     "output_type": "stream",
     "text": [
      "The e index:1\n",
      "The e index from s 4th to end: 7\n",
      "\n"
     ]
    }
   ],
   "source": [
    "s = 'leetcode'\n",
    "print(\"The e index:{}\\nThe e index from s 4th to end: {}\\n\".format(s.index('e'), s.index('e', 4)))"
   ]
  },
  {
   "cell_type": "code",
   "execution_count": 22,
   "metadata": {},
   "outputs": [
    {
     "name": "stdout",
     "output_type": "stream",
     "text": [
      "{'t', 'l', 'd', 'c', 'o', 'e'}\n"
     ]
    }
   ],
   "source": [
    "a = set(s)\n",
    "print(a)\n",
    "# A set is an unordered collection with no duplicate elements."
   ]
  },
  {
   "cell_type": "code",
   "execution_count": 28,
   "metadata": {},
   "outputs": [
    {
     "name": "stdout",
     "output_type": "stream",
     "text": [
      "xyz 索引位置:  1\n",
      "runoob 索引位置 :  2\n"
     ]
    },
    {
     "ename": "ValueError",
     "evalue": "'runoob' is not in list",
     "output_type": "error",
     "traceback": [
      "\u001b[0;31m---------------------------------------------------------------------------\u001b[0m",
      "\u001b[0;31mValueError\u001b[0m                                Traceback (most recent call last)",
      "\u001b[0;32m/var/folders/_0/t_q_3ydn61v2hbgddcm8pdz00000gn/T/ipykernel_14897/726521249.py\u001b[0m in \u001b[0;36m<module>\u001b[0;34m\u001b[0m\n\u001b[1;32m      3\u001b[0m \u001b[0mprint\u001b[0m \u001b[0;34m(\u001b[0m\u001b[0;34m\"xyz 索引位置: \"\u001b[0m\u001b[0;34m,\u001b[0m \u001b[0maList\u001b[0m\u001b[0;34m.\u001b[0m\u001b[0mindex\u001b[0m\u001b[0;34m(\u001b[0m \u001b[0;34m'xyz'\u001b[0m \u001b[0;34m)\u001b[0m\u001b[0;34m)\u001b[0m\u001b[0;34m\u001b[0m\u001b[0;34m\u001b[0m\u001b[0m\n\u001b[1;32m      4\u001b[0m \u001b[0mprint\u001b[0m \u001b[0;34m(\u001b[0m\u001b[0;34m\"runoob 索引位置 : \"\u001b[0m\u001b[0;34m,\u001b[0m \u001b[0maList\u001b[0m\u001b[0;34m.\u001b[0m\u001b[0mindex\u001b[0m\u001b[0;34m(\u001b[0m \u001b[0;34m'runoob'\u001b[0m\u001b[0;34m,\u001b[0m \u001b[0;36m1\u001b[0m\u001b[0;34m,\u001b[0m \u001b[0;36m4\u001b[0m \u001b[0;34m)\u001b[0m\u001b[0;34m)\u001b[0m\u001b[0;34m\u001b[0m\u001b[0;34m\u001b[0m\u001b[0m\n\u001b[0;32m----> 5\u001b[0;31m \u001b[0mprint\u001b[0m \u001b[0;34m(\u001b[0m\u001b[0;34m\"runoob 索引位置 : \"\u001b[0m\u001b[0;34m,\u001b[0m \u001b[0maList\u001b[0m\u001b[0;34m.\u001b[0m\u001b[0mindex\u001b[0m\u001b[0;34m(\u001b[0m \u001b[0;34m'runoob'\u001b[0m\u001b[0;34m,\u001b[0m \u001b[0;36m1\u001b[0m\u001b[0;34m,\u001b[0m \u001b[0;36m2\u001b[0m \u001b[0;34m)\u001b[0m\u001b[0;34m)\u001b[0m\u001b[0;34m\u001b[0m\u001b[0;34m\u001b[0m\u001b[0m\n\u001b[0m",
      "\u001b[0;31mValueError\u001b[0m: 'runoob' is not in list"
     ]
    }
   ],
   "source": [
    "aList = [123, 'xyz', 'runoob', 'abc']\n",
    "\n",
    "print (\"xyz 索引位置: \", aList.index( 'xyz' ))\n",
    "print (\"runoob 索引位置 : \", aList.index( 'runoob', 1, 4 ))\n",
    "print (\"runoob 索引位置 : \", aList.index( 'runoob', 1, 2 ))"
   ]
  }
 ],
 "metadata": {
  "kernelspec": {
   "display_name": "Python 3.8.6 64-bit ('leetcode_env')",
   "language": "python",
   "name": "python3"
  },
  "language_info": {
   "codemirror_mode": {
    "name": "ipython",
    "version": 3
   },
   "file_extension": ".py",
   "mimetype": "text/x-python",
   "name": "python",
   "nbconvert_exporter": "python",
   "pygments_lexer": "ipython3",
   "version": "3.8.6"
  },
  "orig_nbformat": 4,
  "vscode": {
   "interpreter": {
    "hash": "846fd2d9bb562a436898b7cc368204fc2f9d44e5e9b051b4f6e855e721078f23"
   }
  }
 },
 "nbformat": 4,
 "nbformat_minor": 2
}
