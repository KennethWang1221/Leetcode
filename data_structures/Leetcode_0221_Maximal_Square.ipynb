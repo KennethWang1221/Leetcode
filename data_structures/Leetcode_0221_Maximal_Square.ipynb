{
 "cells": [
  {
   "cell_type": "markdown",
   "metadata": {},
   "source": [
    "## Method1 - Recursive Multidimensional DP\n",
    "https://www.youtube.com/watch?v=6X7Ha2PrDmM\n"
   ]
  },
  {
   "cell_type": "code",
   "execution_count": 1,
   "metadata": {},
   "outputs": [
    {
     "name": "stdout",
     "output_type": "stream",
     "text": [
      "4\n"
     ]
    }
   ],
   "source": [
    "def maximalSquare(matrix):\n",
    "    ROWS, COLS = len(matrix), len(matrix[0])\n",
    "    cache = {}  # map each (r, c) -> maxLength of square\n",
    "\n",
    "    def helper(r, c):\n",
    "        if r >= ROWS or c >= COLS:\n",
    "            return 0\n",
    "\n",
    "        if (r, c) not in cache:\n",
    "            down = helper(r + 1, c)\n",
    "            right = helper(r, c + 1)\n",
    "            diag = helper(r + 1, c + 1)\n",
    "\n",
    "            cache[(r, c)] = 0\n",
    "            if matrix[r][c] == \"1\":\n",
    "                cache[(r, c)] = 1 + min(down, right, diag)\n",
    "        return cache[(r, c)]\n",
    "\n",
    "    helper(0, 0)\n",
    "    return max(cache.values()) ** 2\n",
    "\n",
    "matrix = [[\"1\",\"0\",\"1\",\"0\",\"0\"],[\"1\",\"0\",\"1\",\"1\",\"1\"],[\"1\",\"1\",\"1\",\"1\",\"1\"],[\"1\",\"0\",\"0\",\"1\",\"0\"]]\n",
    "res = maximalSquare(matrix)\n",
    "print(res)"
   ]
  },
  {
   "cell_type": "markdown",
   "metadata": {},
   "source": [
    "## Method2 - Multidimensional Top-UP and Bottom UP DP\n"
   ]
  },
  {
   "cell_type": "markdown",
   "metadata": {},
   "source": [
    "\n",
    "**Explanation of the why considered to Bottom-Up Approach:**\n",
    "\n",
    "1. **Strategy:**\n",
    "   - This solution employs a bottom-up dynamic programming strategy.\n",
    "   - Although the loops iterate from 1 to rows + 1 and 1 to cols + 1, the approach remains bottom-up.\n",
    "\n",
    "2. **Bottom-Up Dynamic Programming:**\n",
    "   - In dynamic programming, a \"bottom-up\" approach constructs the solution from the simplest cases to the complete solution.\n",
    "   - This process is independent of the loop directions.\n",
    "\n",
    "3. **Initialization and Iteration:**\n",
    "   - The DP table, `dp`, is initialized with zeros.\n",
    "   - Iteration begins with the smallest subproblems (top-left corner of the matrix) and advances to larger subproblems (bottom-right corner).\n",
    "   - This is a key feature of bottom-up DP, where solutions are built from base cases.\n",
    "\n",
    "4. **Filling the DP Table:**\n",
    "   - For each cell in the matrix, the DP table is updated using previously calculated values: `dp[i-1][j]`, `dp[i][j-1]`, and `dp[i-1][j-1]`.\n",
    "   - This indicates that the current subproblem's solution relies on solutions to smaller, already solved subproblems.\n",
    "\n",
    "5. **Final Solution:**\n",
    "   - The final solution, which is the area of the largest square, is obtained after resolving all subproblems.\n",
    "   - This is a characteristic of the bottom-up approach."
   ]
  },
  {
   "cell_type": "code",
   "execution_count": 2,
   "metadata": {},
   "outputs": [
    {
     "name": "stdout",
     "output_type": "stream",
     "text": [
      "4\n"
     ]
    }
   ],
   "source": [
    "def maximalSquare(matrix):\n",
    "    if not matrix or not matrix[0]:\n",
    "        return 0\n",
    "\n",
    "    rows, cols = len(matrix), len(matrix[0])\n",
    "    dp = [[0] * (cols + 1) for _ in range(rows + 1)]\n",
    "    max_side = 0\n",
    "\n",
    "    for i in range(1, rows + 1):\n",
    "        for j in range(1, cols + 1):\n",
    "            if matrix[i - 1][j - 1] == '1':\n",
    "                dp[i][j] = min(dp[i - 1][j], dp[i][j - 1], dp[i - 1][j - 1]) + 1\n",
    "                max_side = max(max_side, dp[i][j])\n",
    "\n",
    "    return max_side * max_side\n",
    "\n",
    "\n",
    "# Example usage:\n",
    "matrix = [\n",
    "    [\"1\", \"0\", \"1\", \"0\", \"0\"],\n",
    "    [\"1\", \"0\", \"1\", \"1\", \"1\"],\n",
    "    [\"1\", \"1\", \"1\", \"1\", \"1\"],\n",
    "    [\"1\", \"0\", \"0\", \"1\", \"0\"]\n",
    "]\n",
    "print(maximalSquare(matrix))  # Output: 4\n"
   ]
  },
  {
   "cell_type": "markdown",
   "metadata": {},
   "source": [
    "**Explanation of the Bottom-Up Approach with Reverse Iteration:**\n",
    "\n",
    "1. **Strategy:**\n",
    "   - This solution still uses a bottom-up dynamic programming strategy, but the iteration order is reversed.\n",
    "   - Instead of iterating from top-left to bottom-right, it iterates from bottom-right to top-left.\n",
    "\n",
    "2. **Initialization and Iteration:**\n",
    "   - The DP table, `dp`, is initialized with zeros.\n",
    "   - Iteration starts from the bottom-right corner of the matrix and moves towards the top-left corner.\n",
    "   - This approach still builds the solution from the smallest subproblems, albeit in reverse order.\n",
    "\n",
    "3. **Filling the DP Table:**\n",
    "   - For each cell in the matrix, the DP table is updated using previously calculated values: `dp[i + 1][j]`, `dp[i][j + 1]`, and `dp[i + 1][j + 1]`.\n",
    "   - This indicates that the current subproblem's solution relies on solutions to smaller, already solved subproblems.\n",
    "\n",
    "4. **Final Solution:**\n",
    "   - The final solution, which is the area of the largest square, is obtained after resolving all subproblems.\n",
    "   - This is a characteristic of the bottom-up approach."
   ]
  },
  {
   "cell_type": "code",
   "execution_count": 3,
   "metadata": {},
   "outputs": [
    {
     "name": "stdout",
     "output_type": "stream",
     "text": [
      "4\n"
     ]
    }
   ],
   "source": [
    "def maximalSquare(matrix):\n",
    "    if not matrix or not matrix[0]:\n",
    "        return 0\n",
    "\n",
    "    rows, cols = len(matrix), len(matrix[0])\n",
    "    dp = [[0] * (cols + 1) for _ in range(rows + 1)]\n",
    "    max_side = 0\n",
    "\n",
    "    # Method2 uses a bottom-up approach, iterating from bottom-right to top-left\n",
    "    for i in range(rows - 1, -1, -1):\n",
    "        for j in range(cols - 1, -1, -1):\n",
    "            if matrix[i][j] == '1':\n",
    "                dp[i][j] = min(dp[i + 1][j], dp[i][j + 1], dp[i + 1][j + 1]) + 1\n",
    "                max_side = max(max_side, dp[i][j])\n",
    "\n",
    "    return max_side * max_side\n",
    "\n",
    "# Example usage:\n",
    "matrix = [\n",
    "    [\"1\", \"0\", \"1\", \"0\", \"0\"],\n",
    "    [\"1\", \"0\", \"1\", \"1\", \"1\"],\n",
    "    [\"1\", \"1\", \"1\", \"1\", \"1\"],\n",
    "    [\"1\", \"0\", \"0\", \"1\", \"0\"]\n",
    "]\n",
    "print(maximalSquare(matrix))  # Output: 4\n"
   ]
  },
  {
   "cell_type": "markdown",
   "metadata": {},
   "source": [
    "##  Difference between bottom-up and top-down \n",
    "\n",
    "**Bottom-Up Approach**\n",
    "\n",
    "The bottom-up approach involves solving a problem by iteratively building up the solution from the smallest subproblems to the larger ones. This typically involves filling up a table (such as a 2D array) where each entry represents the solution to a subproblem.\n",
    "\n",
    "**Characteristics:**\n",
    "\n",
    "- **Iteration:** Uses iterative loops to fill up the table.\n",
    "- **Order of Computation:** Starts from the simplest cases (base cases) and progresses to the target problem.\n",
    "- **Space Complexity:** Often uses a table to store the results of subproblems, which can lead to higher space complexity.\n",
    "- **Initialization:** The table is pre-initialized with base case values before starting the main computation.\n",
    "\n",
    "**Example:**\n",
    "In the maximal square problem, a 2D array `dp` is used to store the side length of the largest square ending at each cell. The table is filled from the smallest subproblems (each cell) to larger ones by iterating through the matrix.\n",
    "\n",
    "**Top-Down Approach**\n",
    "\n",
    "The top-down approach, also known as memoization, involves solving a problem by recursively breaking it down into subproblems and storing the results of these subproblems to avoid redundant computations. This approach typically involves recursion combined with a memoization table to cache results.\n",
    "\n",
    "**Characteristics:**\n",
    "\n",
    "- **Recursion:** Uses recursive function calls to solve subproblems.\n",
    "- **Order of Computation:** Starts from the target problem and recursively solves smaller subproblems.\n",
    "- **Space Complexity:** Can use a memoization table to cache results but may have lower space complexity due to only storing necessary subproblems.\n",
    "- **Initialization:** The memoization table is usually initialized on-the-fly during recursive calls.\n",
    "\n",
    "**Example:**\n",
    "For a different problem, such as the Fibonacci sequence, the top-down approach involves recursively computing F(n) while storing the results of F(n-1), F(n-2), etc., in a memoization table to avoid redundant calculations."
   ]
  },
  {
   "cell_type": "markdown",
   "metadata": {},
   "source": [
    "### Fibonacci Sequence"
   ]
  },
  {
   "cell_type": "markdown",
   "metadata": {},
   "source": [
    "#### Top-Down (Memoization)"
   ]
  },
  {
   "cell_type": "code",
   "execution_count": 4,
   "metadata": {},
   "outputs": [
    {
     "name": "stdout",
     "output_type": "stream",
     "text": [
      "55\n"
     ]
    }
   ],
   "source": [
    "def fib(n, memo={}):\n",
    "    if n in memo:\n",
    "        return memo[n]\n",
    "    if n <= 1:\n",
    "        return n\n",
    "    memo[n] = fib(n-1, memo) + fib(n-2, memo)\n",
    "    return memo[n]\n",
    "\n",
    "print(fib(10))"
   ]
  },
  {
   "cell_type": "markdown",
   "metadata": {},
   "source": [
    "#### Bottom-Up Example:"
   ]
  },
  {
   "cell_type": "code",
   "execution_count": 5,
   "metadata": {},
   "outputs": [
    {
     "name": "stdout",
     "output_type": "stream",
     "text": [
      "55\n"
     ]
    }
   ],
   "source": [
    "def fib(n):\n",
    "    if n <= 1:\n",
    "        return n\n",
    "    dp = [0] * (n + 1)\n",
    "    dp[1] = 1\n",
    "    for i in range(2, n + 1):\n",
    "        dp[i] = dp[i - 1] + dp[i - 2]\n",
    "    return dp[n]\n",
    "\n",
    "print(fib(10))"
   ]
  },
  {
   "cell_type": "markdown",
   "metadata": {},
   "source": [
    "## Summary of Differences\n",
    "\n",
    "**Computation Order:**\n",
    "- **Top-Down:** Begins with the target problem and breaks it down recursively.\n",
    "- **Bottom-Up:** Starts with the base cases and builds up iteratively to the target problem.\n",
    "\n",
    "**Implementation:**\n",
    "- **Top-Down:** Utilizes recursion and memoization.\n",
    "- **Bottom-Up:** Employs iterative loops and tabulation.\n",
    "\n",
    "**Space Usage:**\n",
    "- **Top-Down:** Potentially uses less space if many subproblems are unnecessary.\n",
    "- **Bottom-Up:** Generally uses a table to store all subproblems.\n",
    "\n",
    "**Performance:**\n",
    "Both approaches can have similar time complexity. However, actual performance may vary based on the specific problem and implementation details."
   ]
  }
 ],
 "metadata": {
  "kernelspec": {
   "display_name": "test_env",
   "language": "python",
   "name": "python3"
  },
  "language_info": {
   "codemirror_mode": {
    "name": "ipython",
    "version": 3
   },
   "file_extension": ".py",
   "mimetype": "text/x-python",
   "name": "python",
   "nbconvert_exporter": "python",
   "pygments_lexer": "ipython3",
   "version": "3.8.10"
  }
 },
 "nbformat": 4,
 "nbformat_minor": 2
}
