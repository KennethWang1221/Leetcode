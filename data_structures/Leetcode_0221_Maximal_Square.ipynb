{
 "cells": [
  {
   "cell_type": "markdown",
   "metadata": {},
   "source": [
    "## Method1 - Multidimensional DP\n",
    "https://www.youtube.com/watch?v=6X7Ha2PrDmM\n"
   ]
  },
  {
   "cell_type": "code",
   "execution_count": 1,
   "metadata": {},
   "outputs": [
    {
     "name": "stdout",
     "output_type": "stream",
     "text": [
      "4\n"
     ]
    }
   ],
   "source": [
    "def maximalSquare(matrix):\n",
    "    ROWS, COLS = len(matrix), len(matrix[0])\n",
    "    cache = {}  # map each (r, c) -> maxLength of square\n",
    "\n",
    "    def helper(r, c):\n",
    "        if r >= ROWS or c >= COLS:\n",
    "            return 0\n",
    "\n",
    "        if (r, c) not in cache:\n",
    "            down = helper(r + 1, c)\n",
    "            right = helper(r, c + 1)\n",
    "            diag = helper(r + 1, c + 1)\n",
    "\n",
    "            cache[(r, c)] = 0\n",
    "            if matrix[r][c] == \"1\":\n",
    "                cache[(r, c)] = 1 + min(down, right, diag)\n",
    "        return cache[(r, c)]\n",
    "\n",
    "    helper(0, 0)\n",
    "    return max(cache.values()) ** 2\n",
    "\n",
    "matrix = [[\"1\",\"0\",\"1\",\"0\",\"0\"],[\"1\",\"0\",\"1\",\"1\",\"1\"],[\"1\",\"1\",\"1\",\"1\",\"1\"],[\"1\",\"0\",\"0\",\"1\",\"0\"]]\n",
    "res = maximalSquare(matrix)\n",
    "print(res)"
   ]
  }
 ],
 "metadata": {
  "kernelspec": {
   "display_name": "test_env",
   "language": "python",
   "name": "test_env"
  },
  "language_info": {
   "codemirror_mode": {
    "name": "ipython",
    "version": 3
   },
   "file_extension": ".py",
   "mimetype": "text/x-python",
   "name": "python",
   "nbconvert_exporter": "python",
   "pygments_lexer": "ipython3",
   "version": "3.8.6"
  }
 },
 "nbformat": 4,
 "nbformat_minor": 2
}
