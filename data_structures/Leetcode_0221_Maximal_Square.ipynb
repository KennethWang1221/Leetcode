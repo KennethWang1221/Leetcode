{
 "cells": [
  {
   "cell_type": "markdown",
   "metadata": {},
   "source": [
    "## Method1 - Recursive Multidimensional DP\n",
    "https://www.youtube.com/watch?v=6X7Ha2PrDmM\n"
   ]
  },
  {
   "cell_type": "code",
   "execution_count": 1,
   "metadata": {},
   "outputs": [
    {
     "name": "stdout",
     "output_type": "stream",
     "text": [
      "4\n"
     ]
    }
   ],
   "source": [
    "def maximalSquare(matrix):\n",
    "    ROWS, COLS = len(matrix), len(matrix[0])\n",
    "    cache = {}  # map each (r, c) -> maxLength of square\n",
    "\n",
    "    def helper(r, c):\n",
    "        if r >= ROWS or c >= COLS:\n",
    "            return 0\n",
    "\n",
    "        if (r, c) not in cache:\n",
    "            down = helper(r + 1, c)\n",
    "            right = helper(r, c + 1)\n",
    "            diag = helper(r + 1, c + 1)\n",
    "\n",
    "            cache[(r, c)] = 0\n",
    "            if matrix[r][c] == \"1\":\n",
    "                cache[(r, c)] = 1 + min(down, right, diag)\n",
    "        return cache[(r, c)]\n",
    "\n",
    "    helper(0, 0)\n",
    "    return max(cache.values()) ** 2\n",
    "\n",
    "matrix = [[\"1\",\"0\",\"1\",\"0\",\"0\"],[\"1\",\"0\",\"1\",\"1\",\"1\"],[\"1\",\"1\",\"1\",\"1\",\"1\"],[\"1\",\"0\",\"0\",\"1\",\"0\"]]\n",
    "res = maximalSquare(matrix)\n",
    "print(res)"
   ]
  },
  {
   "cell_type": "markdown",
   "metadata": {},
   "source": [
    "## Method2 - Multidimensional Bottom UP DP\n"
   ]
  },
  {
   "cell_type": "markdown",
   "metadata": {},
   "source": [
    " It is a bottom-up dynamic programming solution, despite the loops incrementing from 1 to rows + 1 and 1 to cols + 1. In dynamic programming, \"bottom-up\" refers to building the solution starting from the base cases and working up to the final solution, regardless of the actual loop directions."
   ]
  },
  {
   "cell_type": "code",
   "execution_count": 1,
   "metadata": {},
   "outputs": [
    {
     "name": "stdout",
     "output_type": "stream",
     "text": [
      "4\n"
     ]
    }
   ],
   "source": [
    "def maximalSquare(matrix):\n",
    "    if not matrix or not matrix[0]:\n",
    "        return 0\n",
    "\n",
    "    rows, cols = len(matrix), len(matrix[0])\n",
    "    dp = [[0] * (cols + 1) for _ in range(rows + 1)]\n",
    "    max_side = 0\n",
    "\n",
    "    for i in range(1, rows + 1):\n",
    "        for j in range(1, cols + 1):\n",
    "            if matrix[i - 1][j - 1] == '1':\n",
    "                dp[i][j] = min(dp[i - 1][j], dp[i][j - 1], dp[i - 1][j - 1]) + 1\n",
    "                max_side = max(max_side, dp[i][j])\n",
    "\n",
    "    return max_side * max_side\n",
    "\n",
    "# Example usage:\n",
    "matrix = [\n",
    "    [\"1\", \"0\", \"1\", \"0\", \"0\"],\n",
    "    [\"1\", \"0\", \"1\", \"1\", \"1\"],\n",
    "    [\"1\", \"1\", \"1\", \"1\", \"1\"],\n",
    "    [\"1\", \"0\", \"0\", \"1\", \"0\"]\n",
    "]\n",
    "print(maximalSquare(matrix))  # Output: 4\n"
   ]
  },
  {
   "cell_type": "code",
   "execution_count": 2,
   "metadata": {},
   "outputs": [
    {
     "name": "stdout",
     "output_type": "stream",
     "text": [
      "4\n"
     ]
    }
   ],
   "source": [
    "def maximalSquare(matrix):\n",
    "    if not matrix or not matrix[0]:\n",
    "        return 0\n",
    "\n",
    "    rows, cols = len(matrix), len(matrix[0])\n",
    "    dp = [[0] * (cols + 1) for _ in range(rows + 1)]\n",
    "    max_side = 0\n",
    "\n",
    "    for i in range(rows - 1, -1, -1):\n",
    "        for j in range(cols - 1, -1, -1):\n",
    "            if matrix[i][j] == '1':\n",
    "                dp[i][j] = min(dp[i + 1][j], dp[i][j + 1], dp[i + 1][j + 1]) + 1\n",
    "                max_side = max(max_side, dp[i][j])\n",
    "\n",
    "    return max_side * max_side\n",
    "\n",
    "# Example usage:\n",
    "matrix = [\n",
    "    [\"1\", \"0\", \"1\", \"0\", \"0\"],\n",
    "    [\"1\", \"0\", \"1\", \"1\", \"1\"],\n",
    "    [\"1\", \"1\", \"1\", \"1\", \"1\"],\n",
    "    [\"1\", \"0\", \"0\", \"1\", \"0\"]\n",
    "]\n",
    "print(maximalSquare(matrix))  # Output: 4\n"
   ]
  },
  {
   "cell_type": "markdown",
   "metadata": {},
   "source": [
    "##  Difference between bottom-up and top-down "
   ]
  },
  {
   "cell_type": "markdown",
   "metadata": {},
   "source": [
    "Bottom-Up Approach\n",
    "In the bottom-up approach, we solve the problem by iteratively building up the solution from the smallest subproblems to the larger ones. This usually involves filling up a table (such as a 2D array) where each entry represents the solution to a subproblem.\n",
    "\n",
    "Characteristics:\n",
    "\n",
    "Iteration: The approach typically uses iterative loops to fill up the table.\n",
    "Order of Computation: Computations start from the simplest cases (base cases) and progress to the target problem.\n",
    "Space Complexity: This approach often uses a table to store the results of subproblems, potentially leading to higher space complexity.\n",
    "Initialization: The table is pre-initialized with base case values before starting the main computation.\n",
    "Example:\n",
    "In the maximal square problem, we use a 2D array dp to store the side length of the largest square ending at each cell. We fill the table from the smallest subproblems (each cell) to larger ones by iterating through the matrix.\n",
    "\n",
    "Top-Down Approach\n",
    "In the top-down approach, also known as memoization, we solve the problem by recursively breaking it down into subproblems and storing the results of these subproblems to avoid redundant computations. This approach usually involves recursion combined with a memoization table to cache results.\n",
    "\n",
    "Characteristics:\n",
    "\n",
    "Recursion: The approach typically uses recursive function calls to solve subproblems.\n",
    "Order of Computation: Computations start from the target problem and recursively solve smaller subproblems.\n",
    "Space Complexity: This approach can use a memoization table to cache results but may have lower space complexity due to the possibility of only storing necessary subproblems.\n",
    "Initialization: The memoization table is usually initialized on-the-fly during recursive calls.\n",
    "Example:\n",
    "For a different problem, such as the Fibonacci sequence, the top-down approach would involve recursively computing F(n) while storing the results of F(n-1), F(n-2), etc., in a memoization table to avoid redundant calculations."
   ]
  },
  {
   "cell_type": "code",
   "execution_count": null,
   "metadata": {},
   "outputs": [],
   "source": []
  },
  {
   "cell_type": "markdown",
   "metadata": {},
   "source": [
    "### Fibonacci Sequence"
   ]
  },
  {
   "cell_type": "markdown",
   "metadata": {},
   "source": [
    "#### Top-Down (Memoization)"
   ]
  },
  {
   "cell_type": "code",
   "execution_count": 3,
   "metadata": {},
   "outputs": [
    {
     "name": "stdout",
     "output_type": "stream",
     "text": [
      "55\n"
     ]
    }
   ],
   "source": [
    "def fib(n, memo={}):\n",
    "    if n in memo:\n",
    "        return memo[n]\n",
    "    if n <= 1:\n",
    "        return n\n",
    "    memo[n] = fib(n-1, memo) + fib(n-2, memo)\n",
    "    return memo[n]\n",
    "\n",
    "print(fib(10))"
   ]
  },
  {
   "cell_type": "markdown",
   "metadata": {},
   "source": [
    "#### Bottom-Up Example:"
   ]
  },
  {
   "cell_type": "code",
   "execution_count": 4,
   "metadata": {},
   "outputs": [
    {
     "name": "stdout",
     "output_type": "stream",
     "text": [
      "55\n"
     ]
    }
   ],
   "source": [
    "def fib(n):\n",
    "    if n <= 1:\n",
    "        return n\n",
    "    dp = [0] * (n + 1)\n",
    "    dp[1] = 1\n",
    "    for i in range(2, n + 1):\n",
    "        dp[i] = dp[i - 1] + dp[i - 2]\n",
    "    return dp[n]\n",
    "\n",
    "print(fib(10))"
   ]
  },
  {
   "cell_type": "markdown",
   "metadata": {},
   "source": [
    "Summary of Differences\n",
    "Computation Order:\n",
    "\n",
    "Top-Down: Starts from the target problem and breaks it down recursively.\n",
    "Bottom-Up: Starts from the base cases and iteratively builds up to the target problem.\n",
    "Implementation:\n",
    "\n",
    "Top-Down: Uses recursion and memoization.\n",
    "Bottom-Up: Uses iterative loops and tabulation.\n",
    "Space Usage:\n",
    "\n",
    "Top-Down: May use less space if many subproblems are not needed.\n",
    "Bottom-Up: Typically uses a table to store all subproblems.\n",
    "Performance:\n",
    "\n",
    "Computation Order:\n",
    "\n",
    "Top-Down: Starts from the target problem and breaks it down recursively.\n",
    "Bottom-Up: Starts from the base cases and iteratively builds up to the target problem.\n",
    "Implementation:\n",
    "\n",
    "Top-Down: Uses recursion and memoization.\n",
    "Bottom-Up: Uses iterative loops and tabulation.\n",
    "Space Usage:\n",
    "\n",
    "Top-Down: May use less space if many subproblems are not needed.\n",
    "Bottom-Up: Typically uses a table to store all subproblems.\n",
    "Performance:\n",
    "\n",
    "Both approaches can have similar time complexity, but the actual performance can depend on the specific problem and implementation details.\n",
    "\n",
    "\n",
    "Both approaches can have similar time complexity, but the actual performance can depend on the specific problem and implementation details."
   ]
  }
 ],
 "metadata": {
  "kernelspec": {
   "display_name": "test_env",
   "language": "python",
   "name": "test_env"
  },
  "language_info": {
   "codemirror_mode": {
    "name": "ipython",
    "version": 3
   },
   "file_extension": ".py",
   "mimetype": "text/x-python",
   "name": "python",
   "nbconvert_exporter": "python",
   "pygments_lexer": "ipython3",
   "version": "3.8.6"
  }
 },
 "nbformat": 4,
 "nbformat_minor": 2
}
