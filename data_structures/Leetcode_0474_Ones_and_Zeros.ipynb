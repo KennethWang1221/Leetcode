{
 "cells": [
  {
   "cell_type": "markdown",
   "metadata": {},
   "source": [
    "## Bounded Knapsack Problem (BKP)"
   ]
  },
  {
   "cell_type": "markdown",
   "metadata": {},
   "source": [
    "## Method1 - 2D Bottom-UP DP\n",
    "https://www.youtube.com/watch?v=miZ3qV04b1g&t=754s"
   ]
  },
  {
   "cell_type": "code",
   "execution_count": 2,
   "metadata": {},
   "outputs": [
    {
     "name": "stdout",
     "output_type": "stream",
     "text": [
      "4\n"
     ]
    }
   ],
   "source": [
    "def findMaxForm(strs, M: int, N: int) -> int:\n",
    "    dp = {}\n",
    "\n",
    "    for s in strs:\n",
    "        mCnt, nCnt = s.count(\"0\"), s.count(\"1\")\n",
    "        # Iterate in reverse to avoid overcounting\n",
    "        for m in range(M, mCnt - 1, -1):\n",
    "            for n in range(N, nCnt - 1, -1):\n",
    "                # If the key (m, n) doesn't exist, initialize it with 0\n",
    "                if (m, n) not in dp:\n",
    "                    dp[(m, n)] = 0\n",
    "                if (m - mCnt, n - nCnt) not in dp:\n",
    "                    dp[(m - mCnt, n - nCnt)] = 0\n",
    "                # Update dp value\n",
    "                dp[(m, n)] = max(\n",
    "                    1 + dp[(m - mCnt, n - nCnt)],\n",
    "                    dp[(m, n)]\n",
    "                )\n",
    "                \n",
    "    # Return the result for (M, N), or 0 if not found\n",
    "    return dp.get((M, N), 0)\n",
    "\n",
    "# Example usage\n",
    "strs = [\"10\", \"0001\", \"111001\", \"1\", \"0\"]\n",
    "m = 5\n",
    "n = 3\n",
    "res = findMaxForm(strs, m, n)\n",
    "print(res)  # Expected output: 4\n"
   ]
  },
  {
   "cell_type": "markdown",
   "metadata": {},
   "source": [
    "## Method2 - 1D Top-Down DP\n",
    "https://www.youtube.com/watch?v=miZ3qV04b1g&t=754s"
   ]
  },
  {
   "cell_type": "code",
   "execution_count": 1,
   "metadata": {},
   "outputs": [
    {
     "name": "stdout",
     "output_type": "stream",
     "text": [
      "4\n"
     ]
    }
   ],
   "source": [
    "def findMaxForm(strs, m: int, n: int) -> int:\n",
    "\n",
    "    # Memoization\n",
    "    dp = {}\n",
    "\n",
    "    def dfs(i, m, n):\n",
    "        if i == len(strs):\n",
    "            return 0\n",
    "        if (i, m, n) in dp:\n",
    "            return dp[(i, m, n)]\n",
    "        \n",
    "        mCnt, nCnt = strs[i].count(\"0\"), strs[i].count(\"1\")\n",
    "        dp[(i, m, n)] = dfs(i + 1, m, n)\n",
    "        if mCnt <= m and nCnt <= n:\n",
    "            dp[(i, m, n)] = max(\n",
    "                dp[(i, m, n)], \n",
    "                1 + dfs(i + 1, m - mCnt, n - nCnt))\n",
    "        return dp[(i, m, n)]\n",
    "\n",
    "    return dfs(0, m, n)\n",
    "\n",
    "strs = [\"10\",\"0001\",\"111001\",\"1\",\"0\"]\n",
    "m = 5\n",
    "n = 3\n",
    "res = findMaxForm(strs, m, n)\n",
    "print(res)"
   ]
  },
  {
   "cell_type": "markdown",
   "metadata": {},
   "source": [
    "## Method3 - 2D Bottom-UP DP\n",
    "https://github.com/youngyangyang04/leetcode-master/blob/master/problems/0474.%E4%B8%80%E5%92%8C%E9%9B%B6.md"
   ]
  },
  {
   "cell_type": "code",
   "execution_count": 4,
   "metadata": {},
   "outputs": [
    {
     "name": "stdout",
     "output_type": "stream",
     "text": [
      "4\n"
     ]
    }
   ],
   "source": [
    "def findMaxForm(strs, m: int, n: int) -> int:\n",
    "    dp = [[0] * (n + 1) for _ in range(m + 1)]  # 创建二维动态规划数组，初始化为0\n",
    "    for s in strs:  # 遍历物品\n",
    "        zeroNum = s.count('0')  # 统计0的个数\n",
    "        oneNum = len(s) - zeroNum  # 统计1的个数\n",
    "        for i in range(m, zeroNum - 1, -1):  # 遍历背包容量且从后向前遍历\n",
    "            for j in range(n, oneNum - 1, -1):\n",
    "                dp[i][j] = max(dp[i][j], dp[i - zeroNum][j - oneNum] + 1)  # 状态转移方程\n",
    "    return dp[m][n]\n",
    "\n",
    "strs = [\"10\",\"0001\",\"111001\",\"1\",\"0\"]\n",
    "m = 5\n",
    "n = 3\n",
    "res = findMaxForm(strs, m, n)\n",
    "print(res)"
   ]
  },
  {
   "cell_type": "markdown",
   "metadata": {},
   "source": [
    "## Method4 - 2D Bottom-UP DP\n",
    "https://github.com/youngyangyang04/leetcode-master/blob/master/problems/0474.%E4%B8%80%E5%92%8C%E9%9B%B6.md"
   ]
  },
  {
   "cell_type": "code",
   "execution_count": 3,
   "metadata": {},
   "outputs": [
    {
     "name": "stdout",
     "output_type": "stream",
     "text": [
      "4\n"
     ]
    }
   ],
   "source": [
    "def findMaxForm(strs, m: int, n: int) -> int:\n",
    "    dp = [[0] * (n + 1) for _ in range(m + 1)]  # 创建二维动态规划数组，初始化为0\n",
    "    # 遍历物品\n",
    "    for s in strs:\n",
    "        ones = s.count('1')  # 统计字符串中1的个数\n",
    "        zeros = s.count('0')  # 统计字符串中0的个数\n",
    "        # 遍历背包容量且从后向前遍历\n",
    "        for i in range(m, zeros - 1, -1):\n",
    "            for j in range(n, ones - 1, -1):\n",
    "                dp[i][j] = max(dp[i][j], dp[i - zeros][j - ones] + 1)  # 状态转移方程\n",
    "    return dp[m][n]\n",
    "\n",
    "strs = [\"10\",\"0001\",\"111001\",\"1\",\"0\"]\n",
    "m = 5\n",
    "n = 3\n",
    "res = findMaxForm(strs, m, n)\n",
    "print(res)"
   ]
  }
 ],
 "metadata": {
  "kernelspec": {
   "display_name": "test_env",
   "language": "python",
   "name": "test_env"
  },
  "language_info": {
   "codemirror_mode": {
    "name": "ipython",
    "version": 3
   },
   "file_extension": ".py",
   "mimetype": "text/x-python",
   "name": "python",
   "nbconvert_exporter": "python",
   "pygments_lexer": "ipython3",
   "version": "3.8.6"
  }
 },
 "nbformat": 4,
 "nbformat_minor": 2
}
