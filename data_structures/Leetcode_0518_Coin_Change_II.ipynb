{
 "cells": [
  {
   "cell_type": "markdown",
   "metadata": {},
   "source": [
    "## Unbounded Knapsack Problem (UKP)"
   ]
  },
  {
   "cell_type": "markdown",
   "metadata": {},
   "source": [
    "## Method1 - 1D Top-Bottom DP\n",
    "https://www.youtube.com/watch?v=Mjy4hd2xgrs"
   ]
  },
  {
   "cell_type": "code",
   "execution_count": 1,
   "metadata": {},
   "outputs": [
    {
     "name": "stdout",
     "output_type": "stream",
     "text": [
      "4\n"
     ]
    }
   ],
   "source": [
    "def change(amount, coins):\n",
    "    # MEMOIZATION\n",
    "    # Time: O(n*m)\n",
    "    # Memory: O(n*m)\n",
    "    cache = {}\n",
    "\n",
    "    def dfs(i, a):\n",
    "        if a == amount:\n",
    "            return 1\n",
    "        if a > amount:\n",
    "            return 0\n",
    "        if i == len(coins):\n",
    "            return 0\n",
    "        if (i, a) in cache:\n",
    "            return cache[(i, a)]\n",
    "\n",
    "        cache[(i, a)] = dfs(i, a + coins[i]) + dfs(i + 1, a)\n",
    "        return cache[(i, a)]\n",
    "\n",
    "    return dfs(0, 0)\n",
    "\n",
    "amount = 5\n",
    "coins = [1,2,5]\n",
    "print(change(amount, coins))"
   ]
  },
  {
   "cell_type": "markdown",
   "metadata": {},
   "source": [
    "## Method2 - Knapsack problem (unbounded knapsack problem (UKP)) 2D Bottom-UP DP\n",
    "https://www.youtube.com/watch?v=Mjy4hd2xgrs"
   ]
  },
  {
   "cell_type": "code",
   "execution_count": 10,
   "metadata": {},
   "outputs": [
    {
     "name": "stdout",
     "output_type": "stream",
     "text": [
      "4\n"
     ]
    }
   ],
   "source": [
    "def change(amount, coins):\n",
    "    # DYNAMIC PROGRAMMING\n",
    "    # Time: O(n*m)\n",
    "    # Memory: O(n*m)\n",
    "    n = len(coins)\n",
    "    dp = [[0] * (n + 1) for i in range(amount + 1)]\n",
    "    dp[0] = [1] * (n + 1)\n",
    "    # go through backpack\n",
    "    for a in range(1, amount + 1):\n",
    "        # go through items\n",
    "        for i in range(n - 1, -1, -1):\n",
    "            remain = a - coins[i]\n",
    "            if remain < 0:\n",
    "                dp[a][i] = dp[a][i + 1]\n",
    "            else:\n",
    "                dp[a][i] = dp[a][i+1] + dp[remain][i]\n",
    "    return dp[amount][0]\n",
    "\n",
    "amount = 5\n",
    "coins = [1,2,5]\n",
    "print(change(amount, coins))"
   ]
  },
  {
   "cell_type": "markdown",
   "metadata": {},
   "source": [
    "## Method3 - Knapsack problem (unbounded knapsack problem (UKP)) 2D Bottom-UP DP Recap\n",
    "https://www.youtube.com/watch?v=Mjy4hd2xgrs\n",
    "\n",
    "Similar idea to UKP 0322 \n",
    "\n",
    "similar idea to Bounded Knapsack Problem (BKP) 2D Bottom-UP DP 0416/0494/0474/1049\n",
    "\n",
    "Both use total amount as column and use coins as the row to iterate the dp"
   ]
  },
  {
   "cell_type": "markdown",
   "metadata": {},
   "source": [
    "**Key Logic**:\n",
    "\n",
    "- `remain = a - coins[i-1]`: This calculates how much of the amount would be left if we used one of the current coin `coins[i-1]`.\n",
    "\n",
    "- Case 1 (`remain < 0`)\n",
    "\n",
    "  - If `remain` is negative, it means the current coin's value is larger than the current amount, so we can't use it.\n",
    "  - In this case, the number of ways to make the amount `a` using the first `i` coins is the same as using the first `i-1` coins: `dp[i][a] = dp[i-1][a]`.\n",
    "\n",
    "- Case 2 (`remain >= 0`)\n",
    "\n",
    "  - If `remain` is non-negative, we have two options:\n",
    "\n",
    "    1. **Not use the current coin**: This would be `dp[i-1][a]`, the number of ways to make `a` using the first `i-1` coins.\n",
    "    2. **Use the current coin**: This would add the number of ways to make the amount `remain` using the first `i` coins (`dp[i][remain]`).\n",
    "\n",
    "  - The total number of ways to make `a` using the first `i` coins is then the sum of these two options: `dp[i][a] = dp[i-1][a] + dp[i][remain]`."
   ]
  },
  {
   "cell_type": "code",
   "execution_count": 9,
   "metadata": {},
   "outputs": [
    {
     "name": "stdout",
     "output_type": "stream",
     "text": [
      "4\n"
     ]
    }
   ],
   "source": [
    "def change(amount, coins):\n",
    "    n = len(coins)\n",
    "    dp = [[0] * (amount + 1) for i in range(n+1)]\n",
    "    for i in range(n+1):\n",
    "        dp[i][0] = 1\n",
    "\n",
    "    for i in range(1,n+1):\n",
    "        for a in range(1, amount + 1):\n",
    "            remain = a - coins[i-1]\n",
    "            if remain < 0:\n",
    "                dp[i][a] = dp[i-1][a]\n",
    "            else:\n",
    "                dp[i][a] = dp[i-1][a] + dp[i][remain]\n",
    "        \n",
    "    return dp[n][amount]\n",
    "\n",
    "amount = 5\n",
    "coins = [1,2,5]\n",
    "print(change(amount, coins))"
   ]
  },
  {
   "cell_type": "markdown",
   "metadata": {},
   "source": [
    "## Method4 - Knapsack problem (unbounded knapsack problem (UKP)) 2D Bottom-UP DP\n",
    "https://www.youtube.com/watch?v=Mjy4hd2xgrs"
   ]
  },
  {
   "cell_type": "code",
   "execution_count": 3,
   "metadata": {},
   "outputs": [
    {
     "name": "stdout",
     "output_type": "stream",
     "text": [
      "4\n"
     ]
    }
   ],
   "source": [
    "def change(amount, coins):\n",
    "    # DYNAMIC PROGRAMMING\n",
    "    # Time: O(n*m)\n",
    "    # Memory: O(n*m)\n",
    "    dp = [0] * (amount + 1)\n",
    "    dp[0] = 1\n",
    "    for i in range(len(coins) - 1, -1, -1):\n",
    "        nextDP = [0] * (amount + 1)\n",
    "        nextDP[0] = 1\n",
    "\n",
    "        for a in range(1, amount + 1):\n",
    "            nextDP[a] = dp[a]\n",
    "            if a - coins[i] >= 0:\n",
    "                nextDP[a] += nextDP[a - coins[i]]\n",
    "        dp = nextDP\n",
    "    return dp[amount]\n",
    "\n",
    "amount = 5\n",
    "coins = [1,2,5]\n",
    "print(change(amount, coins))"
   ]
  },
  {
   "cell_type": "markdown",
   "metadata": {},
   "source": [
    "## Method5 - Knapsack problem (unbounded knapsack problem (UKP)) 2D Bottom-UP DP\n",
    "https://github.com/youngyangyang04/leetcode-master/blob/master/problems/0518.%E9%9B%B6%E9%92%B1%E5%85%91%E6%8D%A2II.md"
   ]
  },
  {
   "cell_type": "code",
   "execution_count": 4,
   "metadata": {},
   "outputs": [
    {
     "name": "stdout",
     "output_type": "stream",
     "text": [
      "4\n"
     ]
    }
   ],
   "source": [
    "def change(amount, coins):\n",
    "    dp = [0]*(amount + 1)\n",
    "    dp[0] = 1\n",
    "    # 遍历物品\n",
    "    for i in range(len(coins)):\n",
    "        # 遍历背包\n",
    "        for j in range(coins[i], amount + 1):\n",
    "            dp[j] += dp[j - coins[i]]\n",
    "    return dp[amount]\n",
    "\n",
    "amount = 5\n",
    "coins = [1,2,5]\n",
    "print(change(amount, coins))"
   ]
  }
 ],
 "metadata": {
  "kernelspec": {
   "display_name": "test_env",
   "language": "python",
   "name": "python3"
  },
  "language_info": {
   "codemirror_mode": {
    "name": "ipython",
    "version": 3
   },
   "file_extension": ".py",
   "mimetype": "text/x-python",
   "name": "python",
   "nbconvert_exporter": "python",
   "pygments_lexer": "ipython3",
   "version": "3.8.6"
  }
 },
 "nbformat": 4,
 "nbformat_minor": 2
}
