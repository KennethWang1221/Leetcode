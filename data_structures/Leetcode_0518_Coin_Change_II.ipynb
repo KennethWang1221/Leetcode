{
 "cells": [
  {
   "cell_type": "markdown",
   "metadata": {},
   "source": [
    "## Unbounded Knapsack Problem (UKP)"
   ]
  },
  {
   "cell_type": "markdown",
   "metadata": {},
   "source": [
    "## Method1 - 1D Top-Bottom DP\n",
    "https://www.youtube.com/watch?v=Mjy4hd2xgrs"
   ]
  },
  {
   "cell_type": "code",
   "execution_count": 1,
   "metadata": {},
   "outputs": [
    {
     "name": "stdout",
     "output_type": "stream",
     "text": [
      "4\n"
     ]
    }
   ],
   "source": [
    "def change(amount, coins):\n",
    "    # MEMOIZATION\n",
    "    # Time: O(n*m)\n",
    "    # Memory: O(n*m)\n",
    "    cache = {}\n",
    "\n",
    "    def dfs(i, a):\n",
    "        if a == amount:\n",
    "            return 1\n",
    "        if a > amount:\n",
    "            return 0\n",
    "        if i == len(coins):\n",
    "            return 0\n",
    "        if (i, a) in cache:\n",
    "            return cache[(i, a)]\n",
    "\n",
    "        cache[(i, a)] = dfs(i, a + coins[i]) + dfs(i + 1, a)\n",
    "        return cache[(i, a)]\n",
    "\n",
    "    return dfs(0, 0)\n",
    "\n",
    "amount = 5\n",
    "coins = [1,2,5]\n",
    "print(change(amount, coins))"
   ]
  },
  {
   "cell_type": "markdown",
   "metadata": {},
   "source": [
    "## Method2 - Knapsack problem (unbounded knapsack problem (UKP)) 2D Bottom-UP DP\n",
    "https://www.youtube.com/watch?v=Mjy4hd2xgrs"
   ]
  },
  {
   "cell_type": "code",
   "execution_count": 10,
   "metadata": {},
   "outputs": [
    {
     "name": "stdout",
     "output_type": "stream",
     "text": [
      "4\n"
     ]
    }
   ],
   "source": [
    "def change(amount, coins):\n",
    "    # DYNAMIC PROGRAMMING\n",
    "    # Time: O(n*m)\n",
    "    # Memory: O(n*m)\n",
    "    n = len(coins)\n",
    "    dp = [[0] * (n + 1) for i in range(amount + 1)]\n",
    "    dp[0] = [1] * (n + 1)\n",
    "    # go through backpack\n",
    "    for a in range(1, amount + 1):\n",
    "        # go through items\n",
    "        for i in range(n - 1, -1, -1):\n",
    "            remain = a - coins[i]\n",
    "            if remain < 0:\n",
    "                dp[a][i] = dp[a][i + 1]\n",
    "            else:\n",
    "                dp[a][i] = dp[a][i+1] + dp[remain][i]\n",
    "    return dp[amount][0]\n",
    "\n",
    "amount = 5\n",
    "coins = [1,2,5]\n",
    "print(change(amount, coins))"
   ]
  },
  {
   "cell_type": "markdown",
   "metadata": {},
   "source": [
    "## Method3 - Knapsack problem (unbounded knapsack problem (UKP)) 2D Bottom-UP DP Recap\n",
    "https://www.youtube.com/watch?v=Mjy4hd2xgrs\n",
    "\n",
    "Same idea to UKP 0322 Method1 and BKP 0416 Method3\n",
    "\n",
    "similar idea to Bounded Knapsack Problem (BKP) 2D Bottom-UP DP 0416/0494/0474/1049\n",
    "\n",
    "Both use total amount as column and use coins as the row to iterate the dp"
   ]
  },
  {
   "cell_type": "markdown",
   "metadata": {},
   "source": [
    "**Key Logic**:\n",
    "\n",
    "- `remain = a - coins[i-1]`: This calculates how much of the amount would be left if we used one of the current coin `coins[i-1]`.\n",
    "\n",
    "- Case 1 (`remain < 0`)\n",
    "\n",
    "  - If `remain` is negative, it means the current coin's value is larger than the current amount, so we can't use it.\n",
    "  - In this case, the number of ways to make the amount `a` using the first `i` coins is the same as using the first `i-1` coins: `dp[i][a] = dp[i-1][a]`.\n",
    "\n",
    "- Case 2 (`remain >= 0`)\n",
    "\n",
    "  - If `remain` is non-negative, we have two options:\n",
    "\n",
    "    1. **Not use the current coin**: This would be `dp[i-1][a]`, the number of ways to make `a` using the first `i-1` coins.\n",
    "    2. **Use the current coin**: This would add the number of ways to make the amount `remain` using the first `i` coins (`dp[i][remain]`).\n",
    "\n",
    "  - The total number of ways to make `a` using the first `i` coins is then the sum of these two options: `dp[i][a] = dp[i-1][a] + dp[i][remain]`."
   ]
  },
  {
   "cell_type": "code",
   "execution_count": 9,
   "metadata": {},
   "outputs": [
    {
     "name": "stdout",
     "output_type": "stream",
     "text": [
      "4\n"
     ]
    }
   ],
   "source": [
    "def change(amount, coins):\n",
    "    n = len(coins)\n",
    "    dp = [[0] * (amount + 1) for i in range(n+1)]\n",
    "    for i in range(n+1):\n",
    "        dp[i][0] = 1\n",
    "\n",
    "    for i in range(1,n+1):\n",
    "        for a in range(1, amount + 1):\n",
    "            remain = a - coins[i-1]\n",
    "            if remain < 0:\n",
    "                dp[i][a] = dp[i-1][a]\n",
    "            else:\n",
    "                dp[i][a] = dp[i-1][a] + dp[i][remain]\n",
    "        \n",
    "    return dp[n][amount]\n",
    "\n",
    "\"\"\"\n",
    "  0 1 2 3 4 5\n",
    "1 1 0 0 0 0 0 \n",
    "2 1 1 1 1 1 1 \n",
    "5 1 1 2 2 3 3\n",
    "x 1 1 2 2 3 4\n",
    "\n",
    "\"\"\"\n",
    "\n",
    "amount = 5\n",
    "coins = [1,2,5]\n",
    "print(change(amount, coins))"
   ]
  },
  {
   "cell_type": "markdown",
   "metadata": {},
   "source": [
    "## Method4 - Knapsack problem (unbounded knapsack problem (UKP)) 2D Bottom-UP DP\n",
    "https://www.youtube.com/watch?v=Mjy4hd2xgrs"
   ]
  },
  {
   "cell_type": "code",
   "execution_count": 3,
   "metadata": {},
   "outputs": [
    {
     "name": "stdout",
     "output_type": "stream",
     "text": [
      "4\n"
     ]
    }
   ],
   "source": [
    "def change(amount, coins):\n",
    "    # DYNAMIC PROGRAMMING\n",
    "    # Time: O(n*m)\n",
    "    # Memory: O(n*m)\n",
    "    dp = [0] * (amount + 1)\n",
    "    dp[0] = 1\n",
    "    for i in range(len(coins) - 1, -1, -1):\n",
    "        nextDP = [0] * (amount + 1)\n",
    "        nextDP[0] = 1\n",
    "\n",
    "        for a in range(1, amount + 1):\n",
    "            nextDP[a] = dp[a]\n",
    "            if a - coins[i] >= 0:\n",
    "                nextDP[a] += nextDP[a - coins[i]]\n",
    "        dp = nextDP\n",
    "    return dp[amount]\n",
    "\n",
    "amount = 5\n",
    "coins = [1,2,5]\n",
    "print(change(amount, coins))"
   ]
  },
  {
   "cell_type": "markdown",
   "metadata": {},
   "source": [
    "## Method5 - Knapsack problem (unbounded knapsack problem (UKP)) 2D Bottom-UP DP\n",
    "https://github.com/youngyangyang04/leetcode-master/blob/master/problems/0518.%E9%9B%B6%E9%92%B1%E5%85%91%E6%8D%A2II.md"
   ]
  },
  {
   "cell_type": "code",
   "execution_count": 4,
   "metadata": {},
   "outputs": [
    {
     "name": "stdout",
     "output_type": "stream",
     "text": [
      "4\n"
     ]
    }
   ],
   "source": [
    "def change(amount, coins):\n",
    "    dp = [0]*(amount + 1)\n",
    "    dp[0] = 1\n",
    "    # 遍历物品\n",
    "    for i in range(len(coins)):\n",
    "        # 遍历背包\n",
    "        for j in range(coins[i], amount + 1):\n",
    "            dp[j] += dp[j - coins[i]]\n",
    "    return dp[amount]\n",
    "\n",
    "amount = 5\n",
    "coins = [1,2,5]\n",
    "print(change(amount, coins))"
   ]
  },
  {
   "cell_type": "markdown",
   "metadata": {},
   "source": [
    "## Totally understand the difference between Unbounded Knapsack Problem (UKP) and Bounded Knapsack Problem (BKP)\n",
    "\n",
    "\n",
    "\n",
    "\n",
    "\n",
    "In UKP: `dp[i][a] = dp[i-1][a] + dp[i][a - coins[i-1]]`\n",
    "\n",
    "In BKP: `dp[i][a] = dp[i-1][a] + dp[i-1][a - nums[i-1]]`\n",
    "\n",
    "\n",
    "\n",
    "What's the difference? \n",
    "\n"
   ]
  },
  {
   "cell_type": "markdown",
   "metadata": {},
   "source": [
    "### UKP - Leetcode_0518_Coin_Change_II"
   ]
  },
  {
   "cell_type": "code",
   "execution_count": 13,
   "metadata": {},
   "outputs": [
    {
     "name": "stdout",
     "output_type": "stream",
     "text": [
      "4\n"
     ]
    }
   ],
   "source": [
    "def change(amount, coins):\n",
    "    n = len(coins)\n",
    "    dp = [[0] * (amount + 1) for i in range(n+1)]\n",
    "    for i in range(n+1):\n",
    "        dp[i][0] = 1\n",
    "\n",
    "    for i in range(1,n+1):\n",
    "        for a in range(1, amount + 1):\n",
    "            remain = a - coins[i-1]\n",
    "            if remain < 0:\n",
    "                dp[i][a] = dp[i-1][a]\n",
    "            else:\n",
    "                dp[i][a] = dp[i-1][a] + dp[i][remain]\n",
    "        \n",
    "    return dp[n][amount]\n",
    "\n",
    "amount = 5\n",
    "coins = [1,2,5]\n",
    "print(change(amount, coins))"
   ]
  },
  {
   "cell_type": "markdown",
   "metadata": {},
   "source": [
    "### BKP Leetcode_0494_Target_Sum"
   ]
  },
  {
   "cell_type": "code",
   "execution_count": 12,
   "metadata": {},
   "outputs": [
    {
     "name": "stdout",
     "output_type": "stream",
     "text": [
      "5\n"
     ]
    }
   ],
   "source": [
    "def findTargetSumWays(nums, target):\n",
    "    total_sum = sum(nums)  # Calculate the total sum of nums\n",
    "    if abs(target) > total_sum:\n",
    "        return 0  # No solution if target is greater than total_sum\n",
    "    if (target + total_sum) % 2 == 1:\n",
    "        return 0  # No solution if (target + total_sum) is odd\n",
    "    target_sum = (target + total_sum) // 2  # Calculate the target sum\n",
    "    n = len(nums)\n",
    "    # Create a 2D DP array, rows represent the number of elements selected, columns represent the cumulative sum\n",
    "    dp = [[0] * (target_sum + 1) for _ in range(n + 1)]\n",
    " \n",
    "    # Initialize the DP array\n",
    "    for i in range(n+1):\n",
    "        dp[i][0] = 1\n",
    " \n",
    "    # Fill the DP array\n",
    "    for i in range(1, n + 1):\n",
    "        for j in range(target_sum + 1):\n",
    "            remain = j - nums[i-1]\n",
    "            if remain < 0:\n",
    "                dp[i][j] = dp[i - 1][j]  # If current number is greater than j, don't use it\n",
    "            else:\n",
    "                dp[i][j] = dp[i - 1][j] + dp[i - 1][remain]  # Use or don't use the current number\n",
    " \n",
    "    return dp[n][target_sum]  # Return the number of ways to reach the target sum\n",
    " \n",
    "nums = [1,1,1,1,1]\n",
    "target = 3\n",
    "print(findTargetSumWays(nums, target))"
   ]
  },
  {
   "cell_type": "markdown",
   "metadata": {},
   "source": [
    "\n",
    "\n",
    "## **1. Understanding the `findTargetSumWays` Problem (LeetCode 494 - Target Sum)**\n",
    "\n",
    "### **Problem Description:**\n",
    "\n",
    "You need to determine the number of ways to assign `+` and `-` signs to each element in an array `nums` such that the total sum equals a given `target`.\n",
    "\n",
    "### **Example:**\n",
    "\n",
    "- Input:\n",
    "  - `nums = [1, 1, 1, 1, 1]`\n",
    "  - `target = 3`\n",
    "- Output:\n",
    "  - `5` (There are 5 ways to reach the target sum of 3)\n",
    "\n",
    "### **DP Table Explanation:**\n",
    "\n",
    "- **`dp[i][j]`:** Represents the number of ways to achieve the sum `j` using the first `i` elements from `nums`.\n",
    "\n",
    "### **DP Transition Formula:**\n",
    "\n",
    "```\n",
    "python\n",
    "Copy code\n",
    "dp[i][j] = dp[i-1][j] + dp[i-1][j - nums[i-1]]\n",
    "```\n",
    "\n",
    "### **Why `dp[i-1][j - nums[i-1]]`?**\n",
    "\n",
    "- **`dp[i-1][j]`:** Represents the number of ways to achieve the sum `j` without using the `i`-th element.\n",
    "- **`dp[i-1][j - nums[i-1]]`:** Represents the number of ways to achieve the sum `j` by including the `i`-th element (which has a value of `nums[i-1]`). This requires the remaining sum `j - nums[i-1]` to be achieved using the first `i-1` elements.\n",
    "\n",
    "### **Example Walkthrough:**\n",
    "\n",
    "Consider `nums = [1, 1, 1, 1, 1]` and `target = 3`.\n",
    "\n",
    "1. **Initialization:**\n",
    "\n",
    "   - `dp[0][0] = 1`: There's one way to achieve a sum of `0` using `0` elements (i.e., by not using any elements).\n",
    "   - `dp[0][j] = 0` for `j > 0`: No way to achieve a non-zero sum with `0` elements.\n",
    "\n",
    "2. **Filling the DP Table:**\n",
    "\n",
    "   - For \n",
    "\n",
    "     ```\n",
    "     i = 1\n",
    "     ```\n",
    "\n",
    "      and \n",
    "\n",
    "     ```\n",
    "     j = 1\n",
    "     ```\n",
    "\n",
    "     , the table would be filled as:\n",
    "\n",
    "     ```\n",
    "     python\n",
    "     Copy code\n",
    "     dp[1][1] = dp[0][1] + dp[0][0] = 0 + 1 = 1\n",
    "     ```\n",
    "\n",
    "   - Continue filling the table for all `i` and `j`.\n",
    "\n",
    "3. **Final Result:**\n",
    "\n",
    "   - The value at `dp[n][target]` gives the number of ways to reach the target sum.\n",
    "\n",
    "### **Summary:**\n",
    "\n",
    "- **Reason for `dp[i-1][j - nums[i-1]]`:** Each element in `nums` is considered exactly once per combination, either being added or subtracted.\n",
    "\n",
    "------\n",
    "\n",
    "## **2. Understanding the `change` Problem (LeetCode 518 - Coin Change 2)**\n",
    "\n",
    "### **Problem Description:**\n",
    "\n",
    "You need to determine the number of ways to make a specific amount using a given set of coin denominations. Each coin can be used an unlimited number of times.\n",
    "\n",
    "### **Example:**\n",
    "\n",
    "- Input:\n",
    "  - `amount = 5`\n",
    "  - `coins = [1, 2, 5]`\n",
    "- Output:\n",
    "  - `4` (There are 4 ways to make the amount 5 using the given coins)\n",
    "\n",
    "### **DP Table Explanation:**\n",
    "\n",
    "- **`dp[i][a]`:** Represents the number of ways to make the amount `a` using the first `i` coins.\n",
    "\n",
    "### **DP Transition Formula:**\n",
    "\n",
    "```\n",
    "python\n",
    "Copy code\n",
    "dp[i][a] = dp[i-1][a] + dp[i][a - coins[i-1]]\n",
    "```\n",
    "\n",
    "### **Why `dp[i][a - coins[i-1]]`?**\n",
    "\n",
    "- **`dp[i-1][a]`:** Represents the number of ways to make the amount `a` without using the `i`-th coin.\n",
    "- **`dp[i][a - coins[i-1]]`:** Represents the number of ways to make the amount `a` by including at least one `i`-th coin (with a value of `coins[i-1]`). Here, you stay on the same row to account for the possibility of using the same coin multiple times.\n",
    "\n",
    "### **Example Walkthrough:**\n",
    "\n",
    "Consider `amount = 5` and `coins = [1, 2, 5]`.\n",
    "\n",
    "1. **Initialization:**\n",
    "\n",
    "   - `dp[i][0] = 1` for all `i`: There's one way to make the amount `0` (by using no coins).\n",
    "   - `dp[0][a] = 0` for all `a > 0`: No way to make a non-zero amount with `0` coins.\n",
    "\n",
    "2. **Filling the DP Table:**\n",
    "\n",
    "   - For \n",
    "\n",
    "     ```\n",
    "     i = 1\n",
    "     ```\n",
    "\n",
    "      (coin = 1) and \n",
    "\n",
    "     ```\n",
    "     a = 1\n",
    "     ```\n",
    "\n",
    "     , the table would be filled as:\n",
    "\n",
    "     ```\n",
    "     python\n",
    "     Copy code\n",
    "     dp[1][1] = dp[0][1] + dp[1][0] = 0 + 1 = 1\n",
    "     ```\n",
    "\n",
    "   - Continue filling the table for all `i` and `a`.\n",
    "\n",
    "3. **Final Result:**\n",
    "\n",
    "   - The value at `dp[n][amount]` gives the number of ways to make the target amount.\n",
    "\n",
    "### **Summary:**\n",
    "\n",
    "- **Reason for `dp[i][a - coins[i-1]]`:** Coins can be reused, so after including a coin, you stay on the same row to consider using the coin again.\n",
    "\n",
    "------\n",
    "\n",
    "### **Final Summary:**\n",
    "\n",
    "- **`findTargetSumWays`** (LeetCode 494):\n",
    "  - **Transition:** `dp[i][j] = dp[i-1][j] + dp[i-1][j - nums[i-1]]`\n",
    "  - **Why?** Each element is considered only once per combination, ensuring it's either added or subtracted.\n",
    "- **`change`** (LeetCode 518):\n",
    "  - **Transition:** `dp[i][a] = dp[i-1][a] + dp[i][a - coins[i-1]]`\n",
    "  - **Why?** Coins can be reused, so the transition accounts for the possibility of including the same coin multiple times.\n",
    "\n",
    "These distinct transition formulas reflect the unique nature of each problem and the constraints involved."
   ]
  },
  {
   "cell_type": "markdown",
   "metadata": {},
   "source": [
    "## Conclusion"
   ]
  },
  {
   "cell_type": "markdown",
   "metadata": {},
   "source": [
    "### **Bounded Knapsack Problem (BKP)**\n",
    "\n",
    "- **DP Transition Formula:**\n",
    "\n",
    "  ```\n",
    "  python\n",
    "  Copy code\n",
    "  dp[i][j] = dp[i-1][j] + dp[i-1][j - nums[i-1]]\n",
    "  ```\n",
    "\n",
    "- **Explanation:**\n",
    "\n",
    "  - **`dp[i-1][j]`**: The number of ways to achieve the sum `j` without using the `i`-th item.\n",
    "  - **`dp[i-1][j - nums[i-1]]`**: The number of ways to achieve the sum `j` by including the `i`-th item (which can only be used once). The transition moves to the previous row (`i-1`) to ensure that the item is only counted once.\n",
    "\n",
    "- **Summary:**\n",
    "\n",
    "  - In the **Bounded Knapsack Problem**, each item can be used only once. This is why the formula moves to the previous row to ensure that each item is considered only once in the solution.\n",
    "\n",
    "\n",
    "\n",
    "### **Unbounded Knapsack Problem (UKP)**\n",
    "\n",
    "- **DP Transition Formula:**\n",
    "\n",
    "  ```\n",
    "  python\n",
    "  Copy code\n",
    "  dp[i][a] = dp[i-1][a] + dp[i][a - coins[i-1]]\n",
    "  ```\n",
    "\n",
    "- **Explanation:**\n",
    "\n",
    "  - **`dp[i-1][a]`**: The number of ways to make the amount `a` without using the `i`-th item.\n",
    "  - **`dp[i][a - coins[i-1]]`**: The number of ways to make the amount `a` by including the `i`-th item (which can be reused). Therefore, the transition stays on the same row (`i`) to account for the reuse of the same item.\n",
    "\n",
    "- **Summary:**\n",
    "\n",
    "  - In the **Unbounded Knapsack Problem**, you can use the same item multiple times. This is why the formula stays on the same row to consider the possibility of reusing the item.\n",
    "\n",
    "    \n",
    "\n",
    "### Final Summary:\n",
    "\n",
    "- **Bounded Knapsack Problem (BKP):**\n",
    "  - **Transition:** `dp[i][j] = dp[i-1][j] + dp[i-1][j - nums[i-1]]`\n",
    "  - **Why?** Each item is used only once, so the transition moves to the previous row.\n",
    "\n",
    "- **Unbounded Knapsack Problem (UKP):**\n",
    "\n",
    "  - **Transition:** `dp[i][a] = dp[i-1][a] + dp[i][a - coins[i-1]]`\n",
    "\n",
    "  - **Why?** Items can be reused, so the transition remains on the same row.\n",
    "\n",
    "    \n",
    "\n",
    "These differences reflect the distinct nature of the problems being solved and the constraints involved in each scenario."
   ]
  }
 ],
 "metadata": {
  "kernelspec": {
   "display_name": "test_env",
   "language": "python",
   "name": "python3"
  },
  "language_info": {
   "codemirror_mode": {
    "name": "ipython",
    "version": 3
   },
   "file_extension": ".py",
   "mimetype": "text/x-python",
   "name": "python",
   "nbconvert_exporter": "python",
   "pygments_lexer": "ipython3",
   "version": "3.8.6"
  }
 },
 "nbformat": 4,
 "nbformat_minor": 2
}
