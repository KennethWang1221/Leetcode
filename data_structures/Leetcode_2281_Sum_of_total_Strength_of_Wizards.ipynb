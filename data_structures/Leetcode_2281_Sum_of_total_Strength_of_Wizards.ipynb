{
 "cells": [
  {
   "cell_type": "code",
   "execution_count": 2,
   "metadata": {},
   "outputs": [
    {
     "name": "stdout",
     "output_type": "stream",
     "text": [
      "112\n"
     ]
    }
   ],
   "source": [
    "def totalStrength(strength):\n",
    "        MOD = 10**9 + 7\n",
    "        n = len(strength)\n",
    "        if n == 0:\n",
    "            return 0\n",
    "        \n",
    "        # Compute previous smaller (strictly smaller)\n",
    "        left = [-1] * n\n",
    "        stack = []\n",
    "        for i in range(n):\n",
    "            while stack and strength[stack[-1]] >= strength[i]:\n",
    "                stack.pop()\n",
    "            if stack:\n",
    "                left[i] = stack[-1]\n",
    "            stack.append(i)\n",
    "        \n",
    "        # Compute next smaller or equal\n",
    "        right = [n] * n\n",
    "        stack = []\n",
    "        for i in range(n-1, -1, -1):\n",
    "            while stack and strength[stack[-1]] > strength[i]:\n",
    "                stack.pop()\n",
    "            if stack:\n",
    "                right[i] = stack[-1]\n",
    "            stack.append(i)\n",
    "        \n",
    "        # Compute prefix and prefix-prefix arrays\n",
    "        prefix = [0] * (n + 1)\n",
    "        for i in range(n):\n",
    "            prefix[i+1] = (prefix[i] + strength[i]) % MOD\n",
    "        \n",
    "        pprefix = [0] * (n + 2)\n",
    "        for i in range(n + 1):\n",
    "            pprefix[i+1] = (pprefix[i] + prefix[i]) % MOD\n",
    "        \n",
    "        result = 0\n",
    "        for i in range(n):\n",
    "            L = left[i] + 1\n",
    "            R = right[i] - 1\n",
    "            \n",
    "            total = 0\n",
    "            # Calculate sum_e = sum(prefix[e+1] for e in [i..R])\n",
    "            # which is pprefix[R+2] - pprefix[i+1]\n",
    "            sum_e = (pprefix[R + 2] - pprefix[i + 1]) % MOD\n",
    "            # term1 = (i - L + 1) * sum_e\n",
    "            term1 = ((i - L + 1) * sum_e) % MOD\n",
    "            \n",
    "            # Calculate sum_s = sum(prefix[s] for s in [L..i])\n",
    "            sum_s = (pprefix[i + 1] - pprefix[L]) % MOD\n",
    "            # term2 = (R - i + 1) * sum_s\n",
    "            term2 = ((R - i + 1) * sum_s) % MOD\n",
    "            \n",
    "            total = (term1 - term2) % MOD\n",
    "            total = (total * strength[i]) % MOD\n",
    "            result = (result + total) % MOD\n",
    "        \n",
    "        return result % MOD\n",
    "print(totalStrength(strength = [1,3,1,2]))"
   ]
  }
 ],
 "metadata": {
  "kernelspec": {
   "display_name": "leetcode_env",
   "language": "python",
   "name": "leetcode_env"
  },
  "language_info": {
   "codemirror_mode": {
    "name": "ipython",
    "version": 3
   },
   "file_extension": ".py",
   "mimetype": "text/x-python",
   "name": "python",
   "nbconvert_exporter": "python",
   "pygments_lexer": "ipython3",
   "version": "3.8.6"
  }
 },
 "nbformat": 4,
 "nbformat_minor": 2
}
