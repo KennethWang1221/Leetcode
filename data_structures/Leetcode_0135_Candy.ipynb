{
 "cells": [
  {
   "cell_type": "markdown",
   "metadata": {},
   "source": [
    "## Method1 - Greedy\n",
    "https://github.com/youngyangyang04/leetcode-master/blob/master/problems/0135.%E5%88%86%E5%8F%91%E7%B3%96%E6%9E%9C.md\n",
    "\n",
    "https://www.youtube.com/watch?v=1IzCRCcK17A"
   ]
  },
  {
   "cell_type": "code",
   "execution_count": 1,
   "metadata": {},
   "outputs": [
    {
     "name": "stdout",
     "output_type": "stream",
     "text": [
      "5\n"
     ]
    }
   ],
   "source": [
    "def candy(ratings):\n",
    "    n = len(ratings)\n",
    "    candyVec = [1] * n\n",
    "    \n",
    "    # 从前向后遍历，处理右侧比左侧评分高的情况\n",
    "    for i in range(1, n):\n",
    "        if ratings[i] > ratings[i - 1]:\n",
    "            candyVec[i] = candyVec[i - 1] + 1\n",
    "    \n",
    "    # 从后向前遍历，处理左侧比右侧评分高的情况\n",
    "    for i in range(n - 2, -1, -1):\n",
    "        if ratings[i] > ratings[i + 1]:\n",
    "            candyVec[i] = max(candyVec[i], candyVec[i + 1] + 1)\n",
    "    \n",
    "    # 统计结果\n",
    "    result = sum(candyVec)\n",
    "    return result\n",
    "ratings = [1,0,2]\n",
    "res = candy(ratings)\n",
    "print(res)"
   ]
  }
 ],
 "metadata": {
  "kernelspec": {
   "display_name": "test_env",
   "language": "python",
   "name": "python3"
  },
  "language_info": {
   "codemirror_mode": {
    "name": "ipython",
    "version": 3
   },
   "file_extension": ".py",
   "mimetype": "text/x-python",
   "name": "python",
   "nbconvert_exporter": "python",
   "pygments_lexer": "ipython3",
   "version": "3.8.6"
  },
  "orig_nbformat": 4
 },
 "nbformat": 4,
 "nbformat_minor": 2
}
