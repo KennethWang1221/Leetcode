{
 "cells": [
  {
   "cell_type": "markdown",
   "metadata": {},
   "source": [
    "## Method1 - Two Passes of Linear scans\n",
    "https://leetcode.com/problems/candy/solutions/3205689/135-solution-with-step-by-step-explanation/"
   ]
  },
  {
   "cell_type": "code",
   "execution_count": 4,
   "metadata": {},
   "outputs": [
    {
     "name": "stdout",
     "output_type": "stream",
     "text": [
      "5\n"
     ]
    }
   ],
   "source": [
    "def candy(ratings):\n",
    "    n = len(ratings)\n",
    "    candies = [1] * n  # Allocate 1 candy to each child\n",
    "    for i in range(1, n):\n",
    "        if ratings[i] > ratings[i - 1]:\n",
    "            candies[i] = candies[i - 1] + 1  # Give one more candy to current child than previous child\n",
    "    for i in range(n - 2, -1, -1):\n",
    "        if ratings[i] > ratings[i + 1]:\n",
    "            candies[i] = max(candies[i], candies[i + 1] + 1)  # Give one more candy to current child than next child\n",
    "    return sum(candies)  # Return the total number of candies allocated\n",
    "\n",
    "ratings = [1,0,2]\n",
    "res = candy(ratings)\n",
    "print(res)"
   ]
  }
 ],
 "metadata": {
  "kernelspec": {
   "display_name": "leetcode_env",
   "language": "python",
   "name": "leetcode_env"
  },
  "language_info": {
   "codemirror_mode": {
    "name": "ipython",
    "version": 3
   },
   "file_extension": ".py",
   "mimetype": "text/x-python",
   "name": "python",
   "nbconvert_exporter": "python",
   "pygments_lexer": "ipython3",
   "version": "3.8.6"
  },
  "orig_nbformat": 4
 },
 "nbformat": 4,
 "nbformat_minor": 2
}
