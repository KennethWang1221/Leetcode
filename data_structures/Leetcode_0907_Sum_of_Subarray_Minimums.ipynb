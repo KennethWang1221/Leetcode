{
 "cells": [
  {
   "cell_type": "markdown",
   "metadata": {},
   "source": [
    "## Method1 - Monotonic stack\n",
    "https://www.youtube.com/watch?v=aX1F2-DrBkQ\n"
   ]
  },
  {
   "cell_type": "code",
   "execution_count": 3,
   "metadata": {},
   "outputs": [
    {
     "name": "stdout",
     "output_type": "stream",
     "text": [
      "17\n"
     ]
    }
   ],
   "source": [
    "def sumSubarrayMins(arr):\n",
    "    mod = 10 ** 9 + 7\n",
    "    res = 0\n",
    "    arr = [float('-inf')] + arr + [float('-inf')]\n",
    "    stack = [] # (index, num)\n",
    "    for i, n in enumerate(arr):\n",
    "        while (stack and n < stack[-1][-1]):\n",
    "            j, m = stack.pop(-1)\n",
    "            if stack:\n",
    "                left = j - stack[-1][0] \n",
    "            else:\n",
    "                left = j + 1\n",
    "            right = i - j\n",
    "            res = (res + m * left * right) % mod\n",
    "        stack.append((i,n))\n",
    "    return res            \n",
    "print(sumSubarrayMins(arr = [3,1,2,4]))"
   ]
  }
 ],
 "metadata": {
  "kernelspec": {
   "display_name": "leetcode_env",
   "language": "python",
   "name": "python3"
  },
  "language_info": {
   "codemirror_mode": {
    "name": "ipython",
    "version": 3
   },
   "file_extension": ".py",
   "mimetype": "text/x-python",
   "name": "python",
   "nbconvert_exporter": "python",
   "pygments_lexer": "ipython3",
   "version": "3.8.6"
  }
 },
 "nbformat": 4,
 "nbformat_minor": 2
}
