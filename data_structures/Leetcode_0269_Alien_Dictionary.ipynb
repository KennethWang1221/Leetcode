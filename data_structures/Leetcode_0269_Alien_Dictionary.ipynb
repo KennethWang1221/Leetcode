{
 "cells": [
  {
   "attachments": {},
   "cell_type": "markdown",
   "metadata": {},
   "source": [
    "## Method1 - Topological Sort\n",
    "\n",
    "https://www.youtube.com/watch?v=6kTZYvNNyps"
   ]
  },
  {
   "cell_type": "code",
   "execution_count": 4,
   "metadata": {},
   "outputs": [
    {
     "name": "stdout",
     "output_type": "stream",
     "text": [
      "t f\n",
      "w e\n",
      "r t\n",
      "e r\n",
      "wertf\n"
     ]
    }
   ],
   "source": [
    "def alienOrder(words):\n",
    "    adj = {char: set() for word in words for char in word}\n",
    "\n",
    "    for i in range(len(words) - 1):\n",
    "        w1, w2 = words[i], words[i + 1]\n",
    "        minLen = min(len(w1), len(w2))\n",
    "        if len(w1) > len(w2) and w1[:minLen] == w2[:minLen]:\n",
    "            return \"\"\n",
    "        for j in range(minLen):\n",
    "            if w1[j] != w2[j]:\n",
    "                print(w1[j], w2[j])\n",
    "                adj[w1[j]].add(w2[j])\n",
    "                break\n",
    "\n",
    "    visited = {}  # {char: bool} False visited, True current path\n",
    "    res = []\n",
    "\n",
    "    def dfs(char):\n",
    "        if char in visited:\n",
    "            return visited[char]\n",
    "\n",
    "        visited[char] = True\n",
    "\n",
    "        for neighChar in adj[char]:\n",
    "            if dfs(neighChar):\n",
    "                return True\n",
    "\n",
    "        visited[char] = False\n",
    "        res.append(char)\n",
    "\n",
    "    for char in adj:\n",
    "        if dfs(char):\n",
    "            return \"\"\n",
    "\n",
    "    res.reverse()\n",
    "    return \"\".join(res)\n",
    "\n",
    "words = [\"wrt\",\"wrf\",\"er\",\"ett\",\"rftt\"]\n",
    "res = alienOrder(words)\n",
    "print(res)"
   ]
  }
 ],
 "metadata": {
  "kernelspec": {
   "display_name": "leetcode_env",
   "language": "python",
   "name": "leetcode_env"
  },
  "language_info": {
   "codemirror_mode": {
    "name": "ipython",
    "version": 3
   },
   "file_extension": ".py",
   "mimetype": "text/x-python",
   "name": "python",
   "nbconvert_exporter": "python",
   "pygments_lexer": "ipython3",
   "version": "3.8.6"
  },
  "orig_nbformat": 4
 },
 "nbformat": 4,
 "nbformat_minor": 2
}
