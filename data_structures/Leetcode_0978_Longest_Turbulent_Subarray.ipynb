{
 "cells": [
  {
   "cell_type": "markdown",
   "metadata": {},
   "source": [
    "## Method1 - Greedy\n",
    "\n",
    "https://www.youtube.com/watch?v=V_iHUhR8Dek"
   ]
  },
  {
   "cell_type": "code",
   "execution_count": 1,
   "metadata": {},
   "outputs": [
    {
     "name": "stdout",
     "output_type": "stream",
     "text": [
      "5\n"
     ]
    }
   ],
   "source": [
    "def maxTurbulenceSize(arr):\n",
    "    l, r = 0, 1\n",
    "    res, prev = 1, \"\"\n",
    "\n",
    "    while r < len(arr):\n",
    "        if arr[r - 1] > arr[r] and prev != \">\":\n",
    "            res = max(res, r - l + 1)\n",
    "            r += 1\n",
    "            prev = \">\"\n",
    "        elif arr[r - 1] < arr[r] and prev != \"<\":\n",
    "            res = max(res, r - l + 1)\n",
    "            r += 1\n",
    "            prev = \"<\"\n",
    "        else:\n",
    "            r = r + 1 if arr[r] == arr[r - 1] else r\n",
    "            l = r - 1\n",
    "            prev = \"\"\n",
    "    return res\n",
    "print(maxTurbulenceSize(arr = [9,4,2,10,7,8,8,1,9]))"
   ]
  }
 ],
 "metadata": {
  "kernelspec": {
   "display_name": "leetcode_env",
   "language": "python",
   "name": "python3"
  },
  "language_info": {
   "codemirror_mode": {
    "name": "ipython",
    "version": 3
   },
   "file_extension": ".py",
   "mimetype": "text/x-python",
   "name": "python",
   "nbconvert_exporter": "python",
   "pygments_lexer": "ipython3",
   "version": "3.8.6"
  }
 },
 "nbformat": 4,
 "nbformat_minor": 2
}
