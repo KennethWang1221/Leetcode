{
 "cells": [
  {
   "cell_type": "markdown",
   "metadata": {},
   "source": [
    "## Method1 - Trie\n",
    "\n",
    "https://www.youtube.com/watch?v=BTf05gs_8iU"
   ]
  },
  {
   "cell_type": "code",
   "execution_count": 5,
   "metadata": {},
   "outputs": [
    {
     "data": {
      "text/plain": [
       "True"
      ]
     },
     "execution_count": 5,
     "metadata": {},
     "output_type": "execute_result"
    }
   ],
   "source": [
    "class TrieNode:\n",
    "    def __init__(self):\n",
    "        self.children = {}  # a : TrieNode\n",
    "        self.word = False\n",
    "\n",
    "\n",
    "class WordDictionary:\n",
    "    def __init__(self):\n",
    "        self.root = TrieNode()\n",
    "\n",
    "    def addWord(self, word: str) -> None:\n",
    "        cur = self.root\n",
    "        for c in word:\n",
    "            if c not in cur.children:\n",
    "                cur.children[c] = TrieNode()\n",
    "            cur = cur.children[c]\n",
    "        cur.word = True\n",
    "\n",
    "    def search(self, word: str) -> bool:\n",
    "        def dfs(j, root):\n",
    "            cur = root\n",
    "\n",
    "            for i in range(j, len(word)):\n",
    "                c = word[i]\n",
    "                if c == \".\":\n",
    "                    for child in cur.children.values():\n",
    "                        if dfs(i + 1, child):\n",
    "                            return True\n",
    "                    return False\n",
    "                else:\n",
    "                    if c not in cur.children:\n",
    "                        return False\n",
    "                    cur = cur.children[c]\n",
    "            return cur.word\n",
    "\n",
    "        return dfs(0, self.root)\n",
    "\n",
    "wordDictionary =  WordDictionary();\n",
    "wordDictionary.addWord(\"bad\")\n",
    "wordDictionary.addWord(\"dad\")\n",
    "wordDictionary.addWord(\"mad\")\n",
    "wordDictionary.search(\"pad\") #return False\n",
    "wordDictionary.search(\"bad\") #return True\n",
    "wordDictionary.search(\".ad\") #return True\n",
    "wordDictionary.search(\"b..\") #return True"
   ]
  }
 ],
 "metadata": {
  "kernelspec": {
   "display_name": "leetcode_env",
   "language": "python",
   "name": "leetcode_env"
  },
  "language_info": {
   "codemirror_mode": {
    "name": "ipython",
    "version": 3
   },
   "file_extension": ".py",
   "mimetype": "text/x-python",
   "name": "python",
   "nbconvert_exporter": "python",
   "pygments_lexer": "ipython3",
   "version": "3.8.6"
  }
 },
 "nbformat": 4,
 "nbformat_minor": 2
}
