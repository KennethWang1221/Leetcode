{
 "cells": [
  {
   "attachments": {},
   "cell_type": "markdown",
   "metadata": {},
   "source": [
    "## Method1 - DFS\n",
    "https://www.youtube.com/watch?v=wCc_nd-GiEc&list=PLot-Xpze53ldBT_7QA8NVot219jFNr_GI&index=27"
   ]
  },
  {
   "cell_type": "code",
   "execution_count": 1,
   "metadata": {},
   "outputs": [
    {
     "name": "stdout",
     "output_type": "stream",
     "text": [
      "4\n"
     ]
    }
   ],
   "source": [
    "def longestIncreasingPath(matrix):\n",
    "    rows, cols = len(matrix), len(matrix[0])\n",
    "    dp = {} # (r,c) -> LIP\n",
    "\n",
    "    def dfs(r,c,preval):\n",
    "        if (r<0 or c<0 or r==rows or c==cols or matrix[r][c] <=preval): \n",
    "            return 0\n",
    "        if (r,c) in dp: \n",
    "            return dp[(r,c)]\n",
    "\n",
    "        res = 1\n",
    "        res = max(res, 1 + dfs(r-1,c,matrix[r][c]))\n",
    "        res = max(res, 1 + dfs(r+1,c,matrix[r][c]))\n",
    "        res = max(res, 1 + dfs(r,c-1,matrix[r][c]))\n",
    "        res = max(res, 1 + dfs(r,c+1,matrix[r][c]))\n",
    "        dp[(r,c)] = res\n",
    "        return res\n",
    "\n",
    "    for r in range(rows):\n",
    "        for c in range(cols):\n",
    "            dfs(r,c,-1)\n",
    "    \n",
    "    return max(dp.values())\n",
    "\n",
    "matrix = [[9,9,4],[6,6,8],[2,1,1]]\n",
    "res = longestIncreasingPath(matrix)\n",
    "print(res)"
   ]
  }
 ],
 "metadata": {
  "kernelspec": {
   "display_name": "leetcode_env",
   "language": "python",
   "name": "leetcode_env"
  },
  "language_info": {
   "codemirror_mode": {
    "name": "ipython",
    "version": 3
   },
   "file_extension": ".py",
   "mimetype": "text/x-python",
   "name": "python",
   "nbconvert_exporter": "python",
   "pygments_lexer": "ipython3",
   "version": "3.8.6"
  },
  "orig_nbformat": 4
 },
 "nbformat": 4,
 "nbformat_minor": 2
}
