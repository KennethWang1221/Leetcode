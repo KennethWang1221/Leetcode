{
 "cells": [
  {
   "cell_type": "markdown",
   "metadata": {},
   "source": [
    "## Method1 - Sliding Window\n",
    "https://www.youtube.com/watch?v=jSto0O4AJbM"
   ]
  },
  {
   "cell_type": "code",
   "execution_count": 13,
   "metadata": {},
   "outputs": [
    {
     "name": "stdout",
     "output_type": "stream",
     "text": [
      "BANC\n"
     ]
    }
   ],
   "source": [
    "def minWindow(s,t):\n",
    "    if t == \"\":\n",
    "        return \"\"\n",
    "\n",
    "    countT, window = {}, {}\n",
    "    for c in t:\n",
    "        countT[c] = 1 + countT.get(c, 0)\n",
    "\n",
    "    have, need = 0, len(countT)\n",
    "    res, resLen = [-1, -1], float(\"infinity\")\n",
    "    l = 0\n",
    "    for r in range(len(s)):\n",
    "        c = s[r]\n",
    "        window[c] = 1 + window.get(c, 0)\n",
    "\n",
    "        if c in countT and window[c] == countT[c]:\n",
    "            have += 1\n",
    "\n",
    "        while have == need:\n",
    "            # update our result\n",
    "            if (r - l + 1) < resLen:\n",
    "                res = [l, r]\n",
    "                resLen = r - l + 1\n",
    "            # pop from the left of our window\n",
    "            window[s[l]] -= 1\n",
    "            if s[l] in countT and window[s[l]] < countT[s[l]]:\n",
    "                have -= 1\n",
    "            l += 1\n",
    "    l, r = res\n",
    "    return s[l : r + 1] if resLen != float(\"infinity\") else \"\"\n",
    "\n",
    "s = \"ADOBECODEBANC\"\n",
    "t = \"ABC\"\n",
    "res = minWindow(s,t)\n",
    "print(res)"
   ]
  }
 ],
 "metadata": {
  "kernelspec": {
   "display_name": "leetcode_env",
   "language": "python",
   "name": "leetcode_env"
  },
  "language_info": {
   "codemirror_mode": {
    "name": "ipython",
    "version": 3
   },
   "file_extension": ".py",
   "mimetype": "text/x-python",
   "name": "python",
   "nbconvert_exporter": "python",
   "pygments_lexer": "ipython3",
   "version": "3.8.6"
  },
  "orig_nbformat": 4
 },
 "nbformat": 4,
 "nbformat_minor": 2
}
