{
 "cells": [
  {
   "cell_type": "markdown",
   "metadata": {},
   "source": [
    "## Method1 - Hashmap\n",
    "https://www.youtube.com/watch?v=W_akoecmCbM\n",
    "\n",
    "same solution to Leetcode_0205_Isomorphic_Strings\n"
   ]
  },
  {
   "cell_type": "code",
   "execution_count": 11,
   "metadata": {},
   "outputs": [
    {
     "name": "stdout",
     "output_type": "stream",
     "text": [
      "False\n"
     ]
    }
   ],
   "source": [
    "def wordPattern(pattern: str, s: str):\n",
    "    s = s.split(\" \")\n",
    "    ps = {}\n",
    "    sp = {}\n",
    "\n",
    "    if len(s) != len(pattern): return False\n",
    "\n",
    "    for c1,c2 in zip(s, pattern):\n",
    "        if (c1 in sp and sp[c1] != c2 ) or (c2 in ps and ps[c2] != c1):\n",
    "            return False\n",
    "        sp[c1] = c2\n",
    "        ps[c2] = c1\n",
    "    print(sp, ps)    \n",
    "    return True\n",
    "\n",
    "pattern = \"abba\"\n",
    "s = \"dog cat cat dog\"\n",
    "pattern = \"abba\"\n",
    "s = \"dog cat cat fish\"\n",
    "res = wordPattern(pattern,s)\n",
    "print(res)"
   ]
  }
 ],
 "metadata": {
  "kernelspec": {
   "display_name": "leetcode_env",
   "language": "python",
   "name": "leetcode_env"
  },
  "language_info": {
   "codemirror_mode": {
    "name": "ipython",
    "version": 3
   },
   "file_extension": ".py",
   "mimetype": "text/x-python",
   "name": "python",
   "nbconvert_exporter": "python",
   "pygments_lexer": "ipython3",
   "version": "3.8.6"
  },
  "orig_nbformat": 4
 },
 "nbformat": 4,
 "nbformat_minor": 2
}
