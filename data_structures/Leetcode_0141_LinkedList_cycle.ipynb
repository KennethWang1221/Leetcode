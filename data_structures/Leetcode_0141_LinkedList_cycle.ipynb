{
 "cells": [
  {
   "cell_type": "markdown",
   "metadata": {},
   "source": [
    "## Method1 - LinkedList\n",
    "https://www.youtube.com/watch?v=gBTe7lFR3vc"
   ]
  },
  {
   "cell_type": "code",
   "execution_count": 2,
   "metadata": {},
   "outputs": [
    {
     "name": "stdout",
     "output_type": "stream",
     "text": [
      "3, 2, 0, 4, \n",
      "Has cycle? False\n",
      "Has cycle after creation? True\n"
     ]
    }
   ],
   "source": [
    "class ListNode:\n",
    "    def __init__(self, x):\n",
    "        self.val = x\n",
    "        self.next = None\n",
    "\n",
    "\n",
    "def make_list(arr):\n",
    "    head_node = None\n",
    "    p_node = None\n",
    "    for a in arr:\n",
    "        new_node = ListNode(a)\n",
    "        if head_node is None:\n",
    "            head_node = new_node\n",
    "            p_node = new_node\n",
    "        else:\n",
    "            p_node.next = new_node\n",
    "            p_node = new_node\n",
    "    return head_node\n",
    "\n",
    "\n",
    "def print_list(head):\n",
    "    while head is not None:\n",
    "        print(head.val, end=', ')\n",
    "        head = head.next\n",
    "    print()\n",
    "\n",
    "\n",
    "class Solution:\n",
    "    # Function to detect a cycle in a linked list\n",
    "    def hasCycle(self, head):\n",
    "        fast = head\n",
    "        slow = head\n",
    "\n",
    "        while fast is not None and fast.next is not None:\n",
    "            fast = fast.next.next\n",
    "            slow = slow.next\n",
    "\n",
    "            if fast == slow:\n",
    "                return True  # Cycle detected\n",
    "\n",
    "        return False  # No cycle\n",
    "\n",
    "    # Function to create a cycle in the list for testing purposes\n",
    "    def create_cycle(self, head, pos):\n",
    "        if head is None:\n",
    "            return None\n",
    "\n",
    "        cycle_node = None\n",
    "        current = head\n",
    "        index = 0\n",
    "        while current.next:\n",
    "            if index == pos:\n",
    "                cycle_node = current\n",
    "            current = current.next\n",
    "            index += 1\n",
    "        if cycle_node:\n",
    "            current.next = cycle_node  # Create cycle by linking the last node to the cycle node\n",
    "\n",
    "        return head\n",
    "\n",
    "\n",
    "head = make_list([3, 2, 0, 4])\n",
    "print_list(head)\n",
    "\n",
    "s = Solution()\n",
    "\n",
    "# Check for cycle (initially no cycle)\n",
    "print(\"Has cycle?\", s.hasCycle(head))  # Expected output: False\n",
    "\n",
    "# Create a cycle in the list for testing\n",
    "head = s.create_cycle(head, 1)\n",
    "\n",
    "# Check for cycle after creating a cycle\n",
    "print(\"Has cycle after creation?\", s.hasCycle(head))  # Expected output: True\n",
    "\n"
   ]
  }
 ],
 "metadata": {
  "kernelspec": {
   "display_name": "leetcode_env",
   "language": "python",
   "name": "python3"
  },
  "language_info": {
   "codemirror_mode": {
    "name": "ipython",
    "version": 3
   },
   "file_extension": ".py",
   "mimetype": "text/x-python",
   "name": "python",
   "nbconvert_exporter": "python",
   "pygments_lexer": "ipython3",
   "version": "3.8.6"
  },
  "orig_nbformat": 4
 },
 "nbformat": 4,
 "nbformat_minor": 2
}
