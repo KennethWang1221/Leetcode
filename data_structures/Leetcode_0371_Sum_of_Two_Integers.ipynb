{
 "cells": [
  {
   "cell_type": "markdown",
   "metadata": {},
   "source": [
    "## Method1 - Bits\n",
    "\n",
    "http://youtube.com/watch?v=gVUrDV4tZfY"
   ]
  },
  {
   "cell_type": "code",
   "execution_count": null,
   "metadata": {},
   "outputs": [],
   "source": [
    "def getSum(a,b):\n",
    "    def add(a, b):\n",
    "        if not a or not b:\n",
    "            return a or b\n",
    "        return add(a ^ b, (a & b) << 1)\n",
    "\n",
    "    if a * b < 0:  # assume a < 0, b > 0\n",
    "        if a > 0:\n",
    "            return getSum(b, a)\n",
    "        if add(~a, 1) == b:  # -a == b\n",
    "            return 0\n",
    "        if add(~a, 1) < b:  # -a < b\n",
    "            return add(~add(add(~a, 1), add(~b, 1)), 1)  # -add(-a, -b)\n",
    "\n",
    "    return add(a, b)  # a*b >= 0 or (-a) > b > 0\n",
    "print(getSum(a=1,b=2))"
   ]
  }
 ],
 "metadata": {
  "kernelspec": {
   "display_name": "leetcode_env",
   "language": "python",
   "name": "python3"
  },
  "language_info": {
   "name": "python",
   "version": "3.8.6"
  }
 },
 "nbformat": 4,
 "nbformat_minor": 2
}
