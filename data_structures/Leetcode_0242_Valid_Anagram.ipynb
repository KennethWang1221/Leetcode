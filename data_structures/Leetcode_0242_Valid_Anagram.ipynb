{
 "cells": [
  {
   "cell_type": "markdown",
   "metadata": {},
   "source": [
    "## Method1 - DIY - Hashmap"
   ]
  },
  {
   "cell_type": "code",
   "execution_count": 39,
   "metadata": {},
   "outputs": [
    {
     "name": "stdout",
     "output_type": "stream",
     "text": [
      "True\n"
     ]
    }
   ],
   "source": [
    "def isAnagram(s, t):\n",
    "    hashmap = {}\n",
    "    for i in s:\n",
    "        hashmap[i] = hashmap.get(i, 0) + 1\n",
    "    \n",
    "    hashmap2 = {}    \n",
    "    for i in t:\n",
    "        hashmap2[i] = hashmap2.get(i, 0) + 1\n",
    "\n",
    "    if hashmap2 == hashmap:\n",
    "        return True\n",
    "    else:\n",
    "        return False\n",
    "\n",
    "s = \"anagram\"\n",
    "t = \"nagaram\"\n",
    "# s = 'aacc'\n",
    "# t = 'ccac'\n",
    "# s = 'aa'\n",
    "# t = 'a'\n",
    "res = isAnagram(s, t)\n",
    "print(res)"
   ]
  },
  {
   "cell_type": "code",
   "execution_count": 1,
   "metadata": {},
   "outputs": [
    {
     "name": "stdout",
     "output_type": "stream",
     "text": [
      "True\n"
     ]
    }
   ],
   "source": [
    "def isAnagram(s,t):\n",
    "    sn = len(s)\n",
    "    tn = len(t)\n",
    "    if sn != tn: return False\n",
    "    s_record = {}\n",
    "    t_record = {}\n",
    "    for i in range(sn):\n",
    "        s_record[s[i]] = s_record.get(s[i], 0) + 1\n",
    " \n",
    "        t_record[t[i]] = t_record.get(t[i], 0) + 1\n",
    " \n",
    "    if s_record == t_record:\n",
    "        return True\n",
    "    else:\n",
    "        return False\n",
    "print(isAnagram(s = \"anagram\", t = \"nagaram\"))"
   ]
  },
  {
   "cell_type": "markdown",
   "metadata": {},
   "source": [
    "## Method2 - DIY - Hashmap"
   ]
  },
  {
   "cell_type": "code",
   "execution_count": 1,
   "metadata": {},
   "outputs": [
    {
     "name": "stdout",
     "output_type": "stream",
     "text": [
      "{'a': 2, 'c': 2}\n",
      "False\n"
     ]
    }
   ],
   "source": [
    "def isAnagram(s, t):\n",
    "    if len(s) != len(t): return False\n",
    "\n",
    "    s_dict = {}\n",
    "    for i in range(len(s)):\n",
    "        s_dict[s[i]] = s_dict.get(s[i], 0) + 1\n",
    "    print(s_dict)\n",
    "    for i in range(len(t)):\n",
    "        if t[i] in s_dict:\n",
    "            if s_dict[t[i]] > 1:\n",
    "                s_dict[t[i]] -= 1\n",
    "            else:\n",
    "                s_dict[t[i]] -= 1\n",
    "                s_dict.pop(t[i])\n",
    "        else:\n",
    "            return False\n",
    "    return True\n",
    "\n",
    "s = \"anagram\"\n",
    "t = \"nagaram\"\n",
    "s = 'aacc'\n",
    "t = 'ccac'\n",
    "print(isAnagram(s,t))"
   ]
  },
  {
   "cell_type": "markdown",
   "metadata": {},
   "source": [
    "## Method2 - DIY - Hashmap\n",
    "\n",
    "same solution to Leetcode_0383_Ransom_Note.ipynb"
   ]
  },
  {
   "cell_type": "code",
   "execution_count": 11,
   "metadata": {},
   "outputs": [
    {
     "name": "stdout",
     "output_type": "stream",
     "text": [
      "True\n"
     ]
    }
   ],
   "source": [
    "def isAnagram(s, t):\n",
    "    if len(s) != len(t): return False\n",
    "    s_map = {}\n",
    "    t_map = {}\n",
    "    for i in s:\n",
    "        if i not in t:\n",
    "            return False\n",
    "        s_map[i] = s_map.get(i,0)+1\n",
    "    \n",
    "    for i in t:\n",
    "        t_map[i] = t_map.get(i,0) + 1\n",
    "\n",
    "    for k, v in s_map.items():\n",
    "        if v != t_map[k]:\n",
    "            return False\n",
    "    return True\n",
    "\n",
    "s = \"anagram\"\n",
    "t = \"nagaram\"\n",
    "res = isAnagram(s,t)\n",
    "print(res)"
   ]
  },
  {
   "cell_type": "markdown",
   "metadata": {},
   "source": [
    "## Method3 - DIY - Hashmap"
   ]
  },
  {
   "cell_type": "code",
   "execution_count": 12,
   "metadata": {},
   "outputs": [
    {
     "name": "stdout",
     "output_type": "stream",
     "text": [
      "False\n"
     ]
    }
   ],
   "source": [
    "def isAnagram(s, t):\n",
    "    hashmap = {}\n",
    "    for i in s:\n",
    "        if i in hashmap:\n",
    "            hashmap[i] +=1\n",
    "        else:\n",
    "            hashmap[i] = 0\n",
    "\n",
    "    hashmap2 = {}    \n",
    "    for i in t:\n",
    "        if i in hashmap2:\n",
    "            hashmap2[i] +=1\n",
    "        else:\n",
    "            hashmap2[i] = 0\n",
    "    if hashmap2 == hashmap:\n",
    "        return True\n",
    "    else:\n",
    "\n",
    "        return False\n",
    "\n",
    "s = \"anagram\"\n",
    "t = \"nagaram\"\n",
    "s = 'aacc'\n",
    "t = 'ccac'\n",
    "s = 'aa'\n",
    "t = 'a'\n",
    "res = isAnagram(s, t)\n",
    "print(res)"
   ]
  },
  {
   "cell_type": "markdown",
   "metadata": {},
   "source": [
    "## Method4 - HashMap\n",
    "https://www.youtube.com/watch?v=9UtInBqnCgA"
   ]
  },
  {
   "cell_type": "code",
   "execution_count": 10,
   "metadata": {},
   "outputs": [
    {
     "name": "stdout",
     "output_type": "stream",
     "text": [
      "{'a': 3, 'n': 1, 'g': 1, 'r': 1, 'm': 1}\n",
      "True\n"
     ]
    }
   ],
   "source": [
    "def isAnagram(s, t):\n",
    "    if len(s) != len(t): return False\n",
    "\n",
    "    countS, countT = {}, {}\n",
    "\n",
    "    for i in range(len(s)):\n",
    "        countS[s[i]] = countS.get(s[i],0) + 1\n",
    "        countT[t[i]] = countT.get(t[i],0) + 1\n",
    "    print(countS)\n",
    "    for c in countS:\n",
    "        if countS[c] != countT.get(c,0):\n",
    "            return False\n",
    "\n",
    "    return True\n",
    "\n",
    "s = \"anagram\"\n",
    "t = \"nagaram\"\n",
    "res = isAnagram(s,t)\n",
    "print(res)"
   ]
  }
 ],
 "metadata": {
  "kernelspec": {
   "display_name": "leetcode_env",
   "language": "python",
   "name": "python3"
  },
  "language_info": {
   "codemirror_mode": {
    "name": "ipython",
    "version": 3
   },
   "file_extension": ".py",
   "mimetype": "text/x-python",
   "name": "python",
   "nbconvert_exporter": "python",
   "pygments_lexer": "ipython3",
   "version": "3.8.6"
  },
  "orig_nbformat": 4
 },
 "nbformat": 4,
 "nbformat_minor": 2
}
