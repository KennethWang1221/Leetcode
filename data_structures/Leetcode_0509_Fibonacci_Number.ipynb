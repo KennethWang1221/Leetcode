{
 "cells": [
  {
   "cell_type": "markdown",
   "metadata": {},
   "source": [
    "## Method1 - Top-Down DP"
   ]
  },
  {
   "cell_type": "code",
   "execution_count": 10,
   "metadata": {},
   "outputs": [
    {
     "name": "stdout",
     "output_type": "stream",
     "text": [
      "3\n"
     ]
    }
   ],
   "source": [
    "memo = {}\n",
    "def fib(n):\n",
    "    if n in memo:  # Check if the result is already computed\n",
    "        return memo[n]\n",
    "    if n <= 1:\n",
    "        return n\n",
    "    memo[n] = fib(n-1) + fib(n-2)  # Compute and store in memo\n",
    "    return memo[n]\n",
    "\n",
    "n = 4 # 0, 1, 1, 2, 3 \n",
    "print(fib(n))"
   ]
  },
  {
   "cell_type": "markdown",
   "metadata": {},
   "source": [
    "https://www.youtube.com/watch?v=dDokMfPpfu4\n",
    "\n",
    "Recursion for begineers!!!!"
   ]
  },
  {
   "cell_type": "code",
   "execution_count": 13,
   "metadata": {},
   "outputs": [
    {
     "name": "stdout",
     "output_type": "stream",
     "text": [
      "3\n"
     ]
    }
   ],
   "source": [
    "def fib(n):\n",
    "    if n ==0: return 0\n",
    "    if n ==1: return 1\n",
    "    return fib(n-1) + fib(n-2)  # Compute and store in memo\n",
    "    \n",
    "\n",
    "n = 4 # 0, 1, 1, 2, 3 \n",
    "print(fib(n))"
   ]
  },
  {
   "cell_type": "markdown",
   "metadata": {},
   "source": [
    "## Method2 - Bottom-UP DP"
   ]
  },
  {
   "cell_type": "code",
   "execution_count": 11,
   "metadata": {},
   "outputs": [
    {
     "name": "stdout",
     "output_type": "stream",
     "text": [
      "3\n"
     ]
    }
   ],
   "source": [
    "def fib(n):\n",
    "    if n == 0: return 0\n",
    "    if n == 1: return 1\n",
    "\n",
    "    dp = [0] * (n+1)\n",
    "    dp[1] = 1\n",
    "\n",
    "    for i in range(2, n+1):\n",
    "        dp[i] = dp[i-2] + dp[i-1]\n",
    "\n",
    "    return dp[-1]\n",
    "\n",
    "n = 4 # 0, 1, 1, 2, 3 \n",
    "print(fib(n))"
   ]
  },
  {
   "cell_type": "markdown",
   "metadata": {},
   "source": [
    "\n",
    "\n",
    "## Understanding Top-Down DP vs. Bottom-Up DP\n",
    "\n",
    "Both top-down and bottom-up approaches are methods of solving problems using dynamic programming (DP). They both rely on solving subproblems and using those solutions to build up to the final answer, but they differ in how they organize the computation.\n",
    "\n",
    "Let's consider an example problem to illustrate the difference between top-down and bottom-up DP.\n",
    "\n",
    "### Example Problem: Fibonacci Sequence\n",
    "\n",
    "The Fibonacci sequence is defined as:\n",
    "\n",
    "- `F(0) = 0`\n",
    "- `F(1) = 1`\n",
    "- `F(n) = F(n-1) + F(n-2)` for `n >= 2`\n",
    "\n",
    "The task is to compute the nth Fibonacci number.\n",
    "\n",
    "### 1. Top-Down DP (Memoization)\n",
    "\n",
    "**Top-down DP** is recursive. You start with the problem you want to solve (e.g., `F(n)`), and recursively break it down into smaller subproblems, storing their results to avoid redundant computations.\n",
    "\n",
    "#### Steps:\n",
    "\n",
    "1. **Start with the main problem:** To calculate `F(n)`, you recursively compute `F(n-1)` and `F(n-2)`.\n",
    "2. **Memoize:** Store the results of `F(n-1)` and `F(n-2)` so that if they are needed again, they can be returned immediately without recomputation.\n",
    "3. **Base Cases:** The recursion stops when it reaches the base cases `F(0)` and `F(1)`.\n",
    "\n",
    "#### Code Implementation (Top-Down with Memoization):\n",
    "\n",
    "```\n",
    "python\n",
    "Copy code\n",
    "def fib(n, memo={}):\n",
    "    if n in memo:  # Check if the result is already computed\n",
    "        return memo[n]\n",
    "    if n <= 1:\n",
    "        return n\n",
    "    memo[n] = fib(n-1, memo) + fib(n-2, memo)  # Compute and store in memo\n",
    "    return memo[n]\n",
    "\n",
    "# Example usage:\n",
    "print(fib(10))  # Output: 55\n",
    "```\n",
    "\n",
    "#### Explanation:\n",
    "\n",
    "- **Recursion:** The function `fib(n)` calls itself to compute `fib(n-1)` and `fib(n-2)`.\n",
    "- **Memoization:** Intermediate results are stored in the `memo` dictionary to avoid recomputing them.\n",
    "- **Top-Down Nature:** You start with the larger problem (`F(n)`) and break it down into smaller subproblems (`F(n-1)`, `F(n-2)`, etc.).\n",
    "\n",
    "### 2. Bottom-Up DP (Tabulation)\n",
    "\n",
    "**Bottom-up DP** is iterative. You start by solving the smallest subproblems first and use their solutions to build up to the solution of the main problem.\n",
    "\n",
    "#### Steps:\n",
    "\n",
    "1. **Initialize:** Create an array `dp` where `dp[i]` will store the ith Fibonacci number.\n",
    "2. **Base Cases:** Set `dp[0] = 0` and `dp[1] = 1`.\n",
    "3. **Iterate:** Fill in the array from the bottom up using the relation `dp[i] = dp[i-1] + dp[i-2]` for `i >= 2`.\n",
    "\n",
    "#### Code Implementation (Bottom-Up with Tabulation):\n",
    "\n",
    "```\n",
    "python\n",
    "Copy code\n",
    "def fib(n):\n",
    "    if n <= 1:\n",
    "        return n\n",
    "    dp = [0] * (n + 1)\n",
    "    dp[0] = 0\n",
    "    dp[1] = 1\n",
    "    for i in range(2, n + 1):\n",
    "        dp[i] = dp[i-1] + dp[i-2]  # Build the solution iteratively\n",
    "    return dp[n]\n",
    "\n",
    "# Example usage:\n",
    "print(fib(10))  # Output: 55\n",
    "```\n",
    "\n",
    "#### Explanation:\n",
    "\n",
    "- **Iteration:** The `for` loop fills the `dp` array starting from `dp[2]` up to `dp[n]`.\n",
    "- **Tabulation:** The solutions to smaller subproblems (`dp[0]`, `dp[1]`, etc.) are stored in the `dp` array.\n",
    "- **Bottom-Up Nature:** You start with the smallest subproblems and build up to the final solution.\n",
    "\n",
    "### Key Differences Between Top-Down and Bottom-Up:\n",
    "\n",
    "1. **Execution Flow:**\n",
    "   - **Top-Down:** Recursive, starting with the main problem and breaking it down. Results are stored (memoized) as they are computed.\n",
    "   - **Bottom-Up:** Iterative, starting with the smallest subproblems and building up to the main problem.\n",
    "2. **Memory Usage:**\n",
    "   - **Top-Down:** Typically uses more memory due to recursion stack and memoization storage.\n",
    "   - **Bottom-Up:** Often more memory-efficient as it only requires storing results of subproblems in a table (array).\n",
    "3. **Initialization:**\n",
    "   - **Top-Down:** Initialization is done as part of recursion.\n",
    "   - **Bottom-Up:** Requires explicit initialization before iteration.\n",
    "\n",
    "### Conclusion:\n",
    "\n",
    "- **Top-Down (Memoization):** Best when you need to solve specific subproblems that may not all be required, and when the recursive approach is more intuitive.\n",
    "- **Bottom-Up (Tabulation):** Best when you need to solve all subproblems leading up to the main problem and prefer an iterative approach."
   ]
  }
 ],
 "metadata": {
  "kernelspec": {
   "display_name": "test_env",
   "language": "python",
   "name": "test_env"
  },
  "language_info": {
   "codemirror_mode": {
    "name": "ipython",
    "version": 3
   },
   "file_extension": ".py",
   "mimetype": "text/x-python",
   "name": "python",
   "nbconvert_exporter": "python",
   "pygments_lexer": "ipython3",
   "version": "3.8.6"
  }
 },
 "nbformat": 4,
 "nbformat_minor": 2
}
