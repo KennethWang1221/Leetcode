{
 "cells": [
  {
   "cell_type": "markdown",
   "metadata": {},
   "source": [
    "## Method1 - Backtracking\n",
    "\n",
    "Same idea to 0077, 0216, 0017, 0039, 0040, 0131, 0093, 0078, 0090, 0491, 0046, 0047\n",
    "\n",
    "https://www.youtube.com/watch?v=s7AvT7cGdSo"
   ]
  },
  {
   "cell_type": "code",
   "execution_count": 2,
   "metadata": {},
   "outputs": [
    {
     "name": "stdout",
     "output_type": "stream",
     "text": [
      "[[3, 2, 1], [2, 3, 1], [1, 3, 2], [3, 1, 2], [2, 1, 3], [1, 2, 3]]\n"
     ]
    }
   ],
   "source": [
    "def permute(nums):\n",
    "    res = []\n",
    "    # base case\n",
    "    if n == 1:\n",
    "        return [nums[:]]  # nums[:] is a deep copy\n",
    "\n",
    "    for i in range(n):\n",
    "        n = nums.pop(0)\n",
    "        perms = permute(nums)\n",
    "\n",
    "        for perm in perms:\n",
    "            perm.append(n)\n",
    "        res.extend(perms)\n",
    "        nums.append(n)\n",
    "    return res\n",
    "\n",
    "nums = [1,2,3]\n",
    "res = permute(nums)\n",
    "print(res)"
   ]
  },
  {
   "cell_type": "markdown",
   "metadata": {},
   "source": [
    "## Method2 - Backtracking - Recap\n",
    "https://github.com/youngyangyang04/leetcode-master/blob/master/problems/0046.%E5%85%A8%E6%8E%92%E5%88%97.md"
   ]
  },
  {
   "cell_type": "markdown",
   "metadata": {},
   "source": [
    "回溯 使用used"
   ]
  },
  {
   "cell_type": "code",
   "execution_count": 5,
   "metadata": {},
   "outputs": [
    {
     "name": "stdout",
     "output_type": "stream",
     "text": [
      "[[1, 2, 3], [1, 3, 2], [2, 1, 3], [2, 3, 1], [3, 1, 2], [3, 2, 1]]\n"
     ]
    }
   ],
   "source": [
    "def permute(nums):\n",
    "    def backtracking(nums, comb, used, res):\n",
    "        if len(comb) == n:\n",
    "            res.append(comb[:])\n",
    "            return\n",
    "        for i in range(n):\n",
    "            if used[i]:\n",
    "                continue\n",
    "            used[i] = True\n",
    "            comb.append(nums[i])\n",
    "            backtracking(nums, comb, used, res)\n",
    "            comb.pop(-1)\n",
    "            used[i] = False\n",
    "\n",
    "    res = []\n",
    "    n = len(nums)\n",
    "    used = [False] * n\n",
    "    backtracking(nums, [], used, res)\n",
    "    return res\n",
    "print(permute(nums = [1,2,3]))"
   ]
  }
 ],
 "metadata": {
  "kernelspec": {
   "display_name": "leetcode_env",
   "language": "python",
   "name": "python3"
  },
  "language_info": {
   "codemirror_mode": {
    "name": "ipython",
    "version": 3
   },
   "file_extension": ".py",
   "mimetype": "text/x-python",
   "name": "python",
   "nbconvert_exporter": "python",
   "pygments_lexer": "ipython3",
   "version": "3.8.6"
  }
 },
 "nbformat": 4,
 "nbformat_minor": 2
}
