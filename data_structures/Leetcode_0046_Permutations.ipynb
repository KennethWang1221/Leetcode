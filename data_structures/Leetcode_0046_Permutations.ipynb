{
 "cells": [
  {
   "cell_type": "markdown",
   "metadata": {},
   "source": [
    "## Method1 - Backtracking\n",
    "https://www.youtube.com/watch?v=s7AvT7cGdSo"
   ]
  },
  {
   "cell_type": "code",
   "execution_count": 8,
   "metadata": {},
   "outputs": [
    {
     "name": "stdout",
     "output_type": "stream",
     "text": [
      "[[3, 2, 1], [2, 3, 1], [1, 3, 2], [3, 1, 2], [2, 1, 3], [1, 2, 3]]\n"
     ]
    }
   ],
   "source": [
    "def permute(nums):\n",
    "    res = []\n",
    "    # base case\n",
    "    if len(nums) == 1:\n",
    "        return [nums[:]]  # nums[:] is a deep copy\n",
    "\n",
    "    for i in range(len(nums)):\n",
    "        n = nums.pop(0)\n",
    "        perms = permute(nums)\n",
    "\n",
    "        for perm in perms:\n",
    "            perm.append(n)\n",
    "        res.extend(perms)\n",
    "        nums.append(n)\n",
    "    return res\n",
    "\n",
    "nums = [1,2,3]\n",
    "res = permute(nums)\n",
    "print(res)"
   ]
  }
 ],
 "metadata": {
  "kernelspec": {
   "display_name": "leetcode_env",
   "language": "python",
   "name": "leetcode_env"
  },
  "language_info": {
   "codemirror_mode": {
    "name": "ipython",
    "version": 3
   },
   "file_extension": ".py",
   "mimetype": "text/x-python",
   "name": "python",
   "nbconvert_exporter": "python",
   "pygments_lexer": "ipython3",
   "version": "3.8.6"
  }
 },
 "nbformat": 4,
 "nbformat_minor": 2
}
