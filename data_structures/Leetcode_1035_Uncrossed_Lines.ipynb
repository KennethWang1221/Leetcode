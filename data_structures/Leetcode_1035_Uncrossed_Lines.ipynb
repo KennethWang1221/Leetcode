{
 "cells": [
  {
   "cell_type": "markdown",
   "metadata": {},
   "source": [
    "## Method1 - Recursive\n",
    "https://www.youtube.com/watch?v=mnJF4vJ7GyE"
   ]
  },
  {
   "cell_type": "code",
   "execution_count": 11,
   "metadata": {},
   "outputs": [
    {
     "name": "stdout",
     "output_type": "stream",
     "text": [
      "2\n"
     ]
    }
   ],
   "source": [
    "def maxUncrossedLines(nums1,nums2):\n",
    "    def dfs(i,j):\n",
    "        if i == len(nums1) or j == len(nums2):\n",
    "            return 0\n",
    "        if (i, j) in dp:\n",
    "            return dp[(i,j)]\n",
    "        \n",
    "        if nums1[i] == nums2[j]:\n",
    "            dp[(i,j)] = 1 + dfs(i+1,j+1)\n",
    "        else:\n",
    "            dp[(i,j)] = max(dfs(i+1,j), dfs(i,j+1))\n",
    "        return dp[(i,j)]\n",
    "\n",
    "    dp = {}\n",
    "    return dfs(0,0)\n",
    "nums1 = [1,4,2]\n",
    "nums2 = [1,2,4]\n",
    "print(maxUncrossedLines(nums1,nums2))"
   ]
  },
  {
   "cell_type": "markdown",
   "metadata": {},
   "source": [
    "## Method2 - 1D Bottom-UP DP\n",
    "\n",
    "https://www.youtube.com/watch?v=mnJF4vJ7GyE"
   ]
  },
  {
   "cell_type": "code",
   "execution_count": 8,
   "metadata": {},
   "outputs": [
    {
     "name": "stdout",
     "output_type": "stream",
     "text": [
      "2\n"
     ]
    }
   ],
   "source": [
    "def maxUncrossedLines(nums1,nums2):\n",
    "    n1 = len(nums1)\n",
    "    n2 = len(nums2)\n",
    "    res = 0\n",
    "    prev = [0] * (n2+1)\n",
    "\n",
    "    for i in range(n1):\n",
    "        dp = [0] * (n2+1)\n",
    "        for j in range(n2):\n",
    "            if nums1[i] == nums2[j]:\n",
    "                dp[j+1] = 1 + prev[j]\n",
    "            else:\n",
    "                dp[j+1] = max(\n",
    "                    dp[j],\n",
    "                    prev[j+1]\n",
    "                )\n",
    "        prev = dp\n",
    "\n",
    "    res = prev[n2]\n",
    "    return res\n",
    "nums1 = [1,4,2]\n",
    "nums2 = [1,2,4]\n",
    "print(maxUncrossedLines(nums1,nums2))"
   ]
  },
  {
   "cell_type": "markdown",
   "metadata": {},
   "source": [
    "Let's Analysis why this solution is 1D Bottom-UP DP\n",
    "\n",
    "1. DP Table (1D Array):\n",
    "\n",
    "   The code uses a 1D array prev to store the results of subproblems from the previous iteration (i.e., the results of comparing nums1[i-1] with nums2).\n",
    "   A new 1D array dp is created in each iteration to store the current results (i.e., the results of comparing nums1[i] with nums2).\n",
    "\n",
    "2. Iteration (Bottom-Up):\n",
    "\n",
    "   The outer loop iterates over nums1 (from start to end), and the inner loop iterates over nums2 (also from start to end).\n",
    "   The values in dp[j+1] are computed using the previous results stored in prev. This ensures that the subproblems are solved iteratively from smaller to larger, which is characteristic of a bottom-up approach.\n",
    "\n",
    "3. Updating the DP Array:\n",
    "\n",
    "   At the end of each iteration of i, the prev array is updated to the current dp array, which means that the results of the current iteration will be used as the \"previous\" results in the next iteration.\n",
    "\n",
    "4. Conclusion:\n",
    "   1D Array: The code uses a 1D array to store the DP results, which helps in reducing the space complexity from O(n1 * n2) to O(n2).\n",
    "\n",
    "   Bottom-Up Approach: The solution iteratively builds the final answer by solving smaller subproblems first (from the beginning of the arrays to the end), which is characteristic of a bottom-up DP approach.\n",
    "\n",
    "Final Answer:\n",
    "Yes, this is a 1D bottom-up DP solution. The solution iteratively fills in the DP array from the start of the arrays to the end, ensuring that all dependencies are computed before they're needed."
   ]
  },
  {
   "cell_type": "markdown",
   "metadata": {},
   "source": [
    "## Method3 - 2D Bottom-UP DP\n"
   ]
  },
  {
   "cell_type": "code",
   "execution_count": 9,
   "metadata": {},
   "outputs": [
    {
     "name": "stdout",
     "output_type": "stream",
     "text": [
      "2\n"
     ]
    }
   ],
   "source": [
    "def maxUncrossedLines(nums1, nums2):\n",
    "    n1, n2 = len(nums1), len(nums2)\n",
    "    \n",
    "    # Create a 2D DP array initialized to 0\n",
    "    dp = [[0] * (n2 + 1) for _ in range(n1 + 1)]\n",
    "    \n",
    "    # Fill the DP table\n",
    "    for i in range(1, n1 + 1):\n",
    "        for j in range(1, n2 + 1):\n",
    "            if nums1[i - 1] == nums2[j - 1]:\n",
    "                dp[i][j] = dp[i - 1][j - 1] + 1\n",
    "            else:\n",
    "                dp[i][j] = max(dp[i - 1][j], dp[i][j - 1])\n",
    "    \n",
    "    # The result is in the bottom-right corner of the DP table\n",
    "    return dp[n1][n2]\n",
    "\n",
    "# Example usage\n",
    "nums1 = [1, 4, 2]\n",
    "nums2 = [1, 2, 4]\n",
    "print(maxUncrossedLines(nums1, nums2))  # Output: 2"
   ]
  },
  {
   "cell_type": "markdown",
   "metadata": {},
   "source": [
    "## Method4 - 2D Bottom-UP (Reversed Order) DP\n",
    "\n",
    "bottom-right to the top-left"
   ]
  },
  {
   "cell_type": "code",
   "execution_count": 12,
   "metadata": {},
   "outputs": [
    {
     "name": "stdout",
     "output_type": "stream",
     "text": [
      "2\n"
     ]
    }
   ],
   "source": [
    "def maxUncrossedLines(nums1, nums2):\n",
    "    n1, n2 = len(nums1), len(nums2)\n",
    "    \n",
    "    # Create a 2D DP array initialized to 0\n",
    "    dp = [[0] * (n2 + 1) for _ in range(n1 + 1)]\n",
    "    \n",
    "    # Fill the DP table in reverse order\n",
    "    for i in range(n1 - 1, -1, -1):\n",
    "        for j in range(n2 - 1, -1, -1):\n",
    "            if nums1[i] == nums2[j]:\n",
    "                dp[i][j] = 1 + dp[i + 1][j + 1]\n",
    "            else:\n",
    "                dp[i][j] = max(dp[i][j + 1], dp[i + 1][j])\n",
    "    \n",
    "    # The result is in dp[0][0] (comparing full nums1 and nums2)\n",
    "    return dp[0][0]\n",
    "\n",
    "# Example usage\n",
    "nums1 = [1, 4, 2]\n",
    "nums2 = [1, 2, 4]\n",
    "print(maxUncrossedLines(nums1, nums2))  # Output: 2"
   ]
  },
  {
   "cell_type": "markdown",
   "metadata": {},
   "source": [
    "Totally same idea as Leetcode_1143_Longest_Common_Subsequence"
   ]
  },
  {
   "cell_type": "code",
   "execution_count": 13,
   "metadata": {},
   "outputs": [
    {
     "name": "stdout",
     "output_type": "stream",
     "text": [
      "1\n"
     ]
    }
   ],
   "source": [
    "def longestCommonSubsequence(text1,text2):\n",
    "    n1 = len(text1)\n",
    "    n2 = len(text2)\n",
    "\n",
    "    dp = [[0]*(n2+1) for i in range(n1+1)]\n",
    "\n",
    "    for i in range(n1-1,-1,-1):\n",
    "        for j in range(n2-1,-1,-1):\n",
    "            if text1[i] == text2[j]:\n",
    "                dp[i][j] = 1 + dp[i+1][j+1]\n",
    "            else:\n",
    "                dp[i][j] = max(dp[i][j+1], dp[i+1][j])\n",
    "    \n",
    "    return dp[0][0]\n",
    "\n",
    "text1 = 'abcde'\n",
    "text2 = 'ace'\n",
    "text1 = \"bsbininm\"\n",
    "text2 = \"jmjkbkjkv\"\n",
    "res = longestCommonSubsequence(text1,text2)\n",
    "print(res)"
   ]
  }
 ],
 "metadata": {
  "kernelspec": {
   "display_name": "test_env",
   "language": "python",
   "name": "test_env"
  },
  "language_info": {
   "codemirror_mode": {
    "name": "ipython",
    "version": 3
   },
   "file_extension": ".py",
   "mimetype": "text/x-python",
   "name": "python",
   "nbconvert_exporter": "python",
   "pygments_lexer": "ipython3",
   "version": "3.8.6"
  }
 },
 "nbformat": 4,
 "nbformat_minor": 2
}
