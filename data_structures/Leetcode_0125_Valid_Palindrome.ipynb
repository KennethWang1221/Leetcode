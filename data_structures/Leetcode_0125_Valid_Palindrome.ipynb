{
 "cells": [
  {
   "cell_type": "markdown",
   "metadata": {},
   "source": [
    "## Method1 - String\n",
    "https://www.youtube.com/watch?v=jJXJ16kPFWg"
   ]
  },
  {
   "cell_type": "code",
   "execution_count": 17,
   "metadata": {},
   "outputs": [
    {
     "name": "stdout",
     "output_type": "stream",
     "text": [
      "False\n"
     ]
    }
   ],
   "source": [
    "def isPalindrome(s):\n",
    "    res = \"\"\n",
    "    \n",
    "    for i in range(len(s)):\n",
    "        if s[i].isalnum():\n",
    "            res += s[i].lower()\n",
    "    \n",
    "    return res[::-1] == res\n",
    "    \n",
    "\n",
    "s = \"A man, a plan, a canal: Panama\"\n",
    "s = \"race a car\"\n",
    "res = isPalindrome(s)\n",
    "print(res)"
   ]
  },
  {
   "cell_type": "markdown",
   "metadata": {},
   "source": [
    "## Method2 - Two Pointers\n",
    "https://www.youtube.com/watch?v=jJXJ16kPFWg"
   ]
  },
  {
   "cell_type": "code",
   "execution_count": 19,
   "metadata": {},
   "outputs": [
    {
     "name": "stdout",
     "output_type": "stream",
     "text": [
      "False\n"
     ]
    }
   ],
   "source": [
    "def isalpha(i):\n",
    "        if (\n",
    "            (ord('A') <= ord(i) <= ord('Z') or\n",
    "             ord('a') <= ord(i) <= ord('z') or\n",
    "             ord('0') <= ord(i) <= ord('9'))\n",
    "        ):\n",
    "            return True\n",
    "        else:\n",
    "            return False\n",
    "\n",
    "def isPalindrome(s):\n",
    "\n",
    "    l, r = 0, len(s)-1\n",
    "\n",
    "    while l<r:\n",
    "        while l<r and not isalpha(s[l]):\n",
    "            l+=1\n",
    "        while l<r and not isalpha(s[r]):\n",
    "            r-=1\n",
    "\n",
    "        if s[l].lower() != s[r].lower():\n",
    "            return False\n",
    "\n",
    "        l,r = l+1, r-1\n",
    "    return True\n",
    "\n",
    "\n",
    "s = \"A man, a plan, a canal: Panama\"\n",
    "s = \"race a car\"\n",
    "\n",
    "res = isPalindrome(s)\n",
    "print(res)"
   ]
  }
 ],
 "metadata": {
  "kernelspec": {
   "display_name": "leetcode_env",
   "language": "python",
   "name": "leetcode_env"
  },
  "language_info": {
   "codemirror_mode": {
    "name": "ipython",
    "version": 3
   },
   "file_extension": ".py",
   "mimetype": "text/x-python",
   "name": "python",
   "nbconvert_exporter": "python",
   "pygments_lexer": "ipython3",
   "version": "3.8.6"
  },
  "orig_nbformat": 4
 },
 "nbformat": 4,
 "nbformat_minor": 2
}
