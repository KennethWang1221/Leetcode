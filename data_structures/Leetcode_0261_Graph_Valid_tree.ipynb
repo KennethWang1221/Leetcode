{
 "cells": [
  {
   "attachments": {},
   "cell_type": "markdown",
   "metadata": {},
   "source": [
    "## Method1 - DFS\n",
    "\n",
    "https://www.youtube.com/watch?v=bXsUuownnoQ&list=PLot-Xpze53ldBT_7QA8NVot219jFNr_GI&index=13"
   ]
  },
  {
   "cell_type": "code",
   "execution_count": 2,
   "metadata": {},
   "outputs": [
    {
     "name": "stdout",
     "output_type": "stream",
     "text": [
      "False\n"
     ]
    }
   ],
   "source": [
    "def valid_tree(n, edges):\n",
    "    if not n:\n",
    "        return True\n",
    "    adj = {i: [] for i in range(n)}\n",
    "    for n1, n2 in edges:\n",
    "        adj[n1].append(n2)\n",
    "        adj[n2].append(n1)\n",
    "\n",
    "    visit = set()\n",
    "\n",
    "    def dfs(i, prev):\n",
    "        if i in visit:\n",
    "            return False\n",
    "\n",
    "        visit.add(i)\n",
    "        for j in adj[i]:\n",
    "            if j == prev:\n",
    "                continue\n",
    "            if dfs(j, i) == False:\n",
    "                return False\n",
    "        return True\n",
    "\n",
    "    return dfs(0, -1) and n == len(visit)\n",
    "    \n",
    "n = 5 \n",
    "edges = [[0, 1], [0, 2], [0, 3], [1, 4]]\n",
    "\n",
    "n = 5 \n",
    "edges = [[0, 1], [1, 2], [2, 3], [1, 3], [1, 4]]\n",
    "res = valid_tree(n, edges)\n",
    "print(res)"
   ]
  },
  {
   "attachments": {},
   "cell_type": "markdown",
   "metadata": {},
   "source": [
    "practice"
   ]
  },
  {
   "cell_type": "code",
   "execution_count": 7,
   "metadata": {},
   "outputs": [
    {
     "name": "stdout",
     "output_type": "stream",
     "text": [
      "{0: [1], 1: [0, 2, 3, 4], 2: [1, 3], 3: [2, 1], 4: [1]}\n",
      "False\n"
     ]
    }
   ],
   "source": [
    "def valid_tree(n, edges):\n",
    "    adj = {i:[] for i in range(n)}\n",
    "\n",
    "    for n1,n2 in edges:\n",
    "        adj[n1].append(n2)\n",
    "        adj[n2].append(n1)\n",
    "    \n",
    "    visit = set()\n",
    "    print(adj)\n",
    "    def dfs(i, prev):\n",
    "        if i in visit: return False\n",
    "        visit.add(i)\n",
    "\n",
    "        for j in adj[i]:\n",
    "            if j == prev: continue\n",
    "            if dfs(j,i) == False: return False\n",
    "        return True\n",
    "\n",
    "    res = dfs(0,-1)\n",
    "    return res and n == len(visit)\n",
    "\n",
    "n = 5 \n",
    "edges = [[0, 1], [0, 2], [0, 3], [1, 4]]\n",
    "\n",
    "n = 5 \n",
    "edges = [[0, 1], [1, 2], [2, 3], [1, 3], [1, 4]]\n",
    "res = valid_tree(n, edges)\n",
    "print(res)"
   ]
  }
 ],
 "metadata": {
  "kernelspec": {
   "display_name": "leetcode_env",
   "language": "python",
   "name": "leetcode_env"
  },
  "language_info": {
   "codemirror_mode": {
    "name": "ipython",
    "version": 3
   },
   "file_extension": ".py",
   "mimetype": "text/x-python",
   "name": "python",
   "nbconvert_exporter": "python",
   "pygments_lexer": "ipython3",
   "version": "3.8.6"
  },
  "orig_nbformat": 4
 },
 "nbformat": 4,
 "nbformat_minor": 2
}
