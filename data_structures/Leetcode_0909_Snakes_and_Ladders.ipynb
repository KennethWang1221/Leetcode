{
 "cells": [
  {
   "cell_type": "markdown",
   "metadata": {},
   "source": [
    "## Method1 - Graph - BFS\n",
    "https://www.youtube.com/watch?v=6lH4nO3JfLk"
   ]
  },
  {
   "cell_type": "code",
   "execution_count": 1,
   "metadata": {},
   "outputs": [
    {
     "name": "stdout",
     "output_type": "stream",
     "text": [
      "4\n"
     ]
    }
   ],
   "source": [
    "def snakesAndLadders(board):\n",
    "    \n",
    "    length = len(board)\n",
    "    board.reverse()\n",
    "\n",
    "    q = []\n",
    "    q.append([1, 0])  # [square, moves]\n",
    "    visit = set()\n",
    "\n",
    "    def intToPos(square):\n",
    "        r = (square - 1) // length\n",
    "        c = (square - 1) % length\n",
    "        if r % 2:\n",
    "            c = length - 1 - c\n",
    "        return [r, c]\n",
    "    while q:\n",
    "        square, moves = q.pop(0)\n",
    "        for i in range(1, 7):\n",
    "            nextSquare = square + i\n",
    "            r, c = intToPos(nextSquare)\n",
    "            if board[r][c] != -1:\n",
    "                nextSquare = board[r][c]\n",
    "            if nextSquare == length * length:\n",
    "                return moves + 1\n",
    "            if nextSquare not in visit:\n",
    "                visit.add(nextSquare)\n",
    "                q.append([nextSquare, moves + 1])\n",
    "    return -1\n",
    "\n",
    "board = [[-1,-1,-1,-1,-1,-1],[-1,-1,-1,-1,-1,-1],[-1,-1,-1,-1,-1,-1],[-1,35,-1,-1,13,-1],[-1,-1,-1,-1,-1,-1],[-1,15,-1,-1,-1,-1]]\n",
    "res = snakesAndLadders(board)\n",
    "print(res)"
   ]
  }
 ],
 "metadata": {
  "kernelspec": {
   "display_name": "leetcode_env",
   "language": "python",
   "name": "leetcode_env"
  },
  "language_info": {
   "codemirror_mode": {
    "name": "ipython",
    "version": 3
   },
   "file_extension": ".py",
   "mimetype": "text/x-python",
   "name": "python",
   "nbconvert_exporter": "python",
   "pygments_lexer": "ipython3",
   "version": "3.8.6"
  }
 },
 "nbformat": 4,
 "nbformat_minor": 2
}
