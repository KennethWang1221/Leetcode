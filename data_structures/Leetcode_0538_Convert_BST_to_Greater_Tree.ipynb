{
 "cells": [
  {
   "cell_type": "markdown",
   "metadata": {},
   "source": [
    "## Method1\n",
    "https://www.youtube.com/watch?v=7vVEJwVvAlI"
   ]
  },
  {
   "cell_type": "code",
   "execution_count": 4,
   "metadata": {},
   "outputs": [
    {
     "name": "stdout",
     "output_type": "stream",
     "text": [
      "<__main__.TreeNode object at 0x109e81160>\n"
     ]
    }
   ],
   "source": [
    "class TreeNode(object):\n",
    "    def __init__(self, x):\n",
    "        if x == None:\n",
    "            self.val = None\n",
    "        else:\n",
    "            self.val = x\n",
    "        self.left = None\n",
    "        self.right = None \n",
    "\n",
    "def convertBST(root):\n",
    "    curSum = 0\n",
    "\n",
    "    def dfs(node):\n",
    "        if node == None: return \n",
    "\n",
    "        nonlocal curSum\n",
    "        dfs(node.right)\n",
    "        temp = node.val\n",
    "        node.val+=curSum\n",
    "        curSum += temp\n",
    "        dfs(node.left)\n",
    "    dfs(root)\n",
    "    return root\n",
    "\n",
    "n1 = TreeNode(5)\n",
    "n2 = TreeNode(3)\n",
    "n3 = TreeNode(6)\n",
    "n4 = TreeNode(2)\n",
    "n5 = TreeNode(4)\n",
    "n6 = TreeNode(7)\n",
    "\n",
    "n1.left = n2\n",
    "n1.right = n3\n",
    "n2.left = n4\n",
    "n2.right = n5\n",
    "n3.right = n6\n",
    "res = convertBST(n1)\n",
    "print(res)"
   ]
  },
  {
   "cell_type": "markdown",
   "metadata": {},
   "source": [
    "## Method2\n",
    "https://github.com/youngyangyang04/leetcode-master/blob/master/problems/0538.%E6%8A%8A%E4%BA%8C%E5%8F%89%E6%90%9C%E7%B4%A2%E6%A0%91%E8%BD%AC%E6%8D%A2%E4%B8%BA%E7%B4%AF%E5%8A%A0%E6%A0%91.md"
   ]
  },
  {
   "cell_type": "code",
   "execution_count": 7,
   "metadata": {},
   "outputs": [],
   "source": [
    "class Solution:\n",
    "    def __init__(self):\n",
    "        self.pre = TreeNode()\n",
    "\n",
    "    def convertBST(self, root: Optional[TreeNode]) -> Optional[TreeNode]:\n",
    "        '''\n",
    "        倒序累加替换：  \n",
    "        [2, 5, 13] -> [[2]+[1]+[0], [2]+[1], [2]] -> [20, 18, 13]\n",
    "        '''\n",
    "        self.traversal(root)\n",
    "        return root\n",
    "\n",
    "    def traversal(self, root: TreeNode) -> None:\n",
    "        # 因为要遍历整棵树，所以递归函数不需要返回值\n",
    "        # Base Case\n",
    "        if not root: \n",
    "            return None\n",
    "        # 单层递归逻辑：中序遍历的反译 - 右中左\n",
    "        self.traversal(root.right)  # 右\n",
    "\n",
    "        # 中节点：用当前root的值加上pre的值\n",
    "        root.val += self.pre.val    # 中\n",
    "        self.pre = root             \n",
    "\n",
    "        self.traversal(root.left)   # 左\n",
    "\n",
    "n1 = TreeNode(5)\n",
    "n2 = TreeNode(3)\n",
    "n3 = TreeNode(6)\n",
    "n4 = TreeNode(2)\n",
    "n5 = TreeNode(4)\n",
    "n6 = TreeNode(7)\n",
    "\n",
    "n1.left = n2\n",
    "n1.right = n3\n",
    "n2.left = n4\n",
    "n2.right = n5\n",
    "n3.right = n6\n",
    "res = convertBST(n1)\n",
    "print(res)"
   ]
  },
  {
   "cell_type": "code",
   "execution_count": 1,
   "metadata": {},
   "outputs": [
    {
     "name": "stdout",
     "output_type": "stream",
     "text": [
      "\n",
      "    __5\n",
      "   /   \\\n",
      "  3     6\n",
      " / \\     \\\n",
      "2   4     7\n",
      "\n"
     ]
    }
   ],
   "source": [
    "from binarytree import tree, bst, heap, Node\n",
    "n1 = Node(5)\n",
    "n2 = Node(3)\n",
    "n3 = Node(6)\n",
    "n4 = Node(2)\n",
    "n5 = Node(4)\n",
    "n6 = Node(7)\n",
    "\n",
    "n1.left = n2\n",
    "n1.right = n3\n",
    "n2.left = n4\n",
    "n2.right = n5\n",
    "n3.right = n6\n",
    "print(n1)"
   ]
  }
 ],
 "metadata": {
  "kernelspec": {
   "display_name": "Python 3.8.6 64-bit ('leetcode_env')",
   "language": "python",
   "name": "python3"
  },
  "language_info": {
   "codemirror_mode": {
    "name": "ipython",
    "version": 3
   },
   "file_extension": ".py",
   "mimetype": "text/x-python",
   "name": "python",
   "nbconvert_exporter": "python",
   "pygments_lexer": "ipython3",
   "version": "3.8.6"
  },
  "orig_nbformat": 4,
  "vscode": {
   "interpreter": {
    "hash": "846fd2d9bb562a436898b7cc368204fc2f9d44e5e9b051b4f6e855e721078f23"
   }
  }
 },
 "nbformat": 4,
 "nbformat_minor": 2
}
