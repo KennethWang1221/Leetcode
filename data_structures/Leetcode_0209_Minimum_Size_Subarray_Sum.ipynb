{
 "cells": [
  {
   "cell_type": "markdown",
   "metadata": {},
   "source": [
    "## Method1 - sliding window\n",
    "https://www.youtube.com/watch?v=aYqYMIqZx5s&t=182s"
   ]
  },
  {
   "cell_type": "code",
   "execution_count": 11,
   "metadata": {},
   "outputs": [
    {
     "name": "stdout",
     "output_type": "stream",
     "text": [
      "2\n"
     ]
    }
   ],
   "source": [
    "def minSubArrayLen(target, nums):\n",
    "    n = len(nums)\n",
    "    l, total, res = 0, 0, float('inf')\n",
    "    \n",
    "    for r in range(n):\n",
    "        total += nums[r]\n",
    "\n",
    "        while total>=target:\n",
    "            res = min(res, (r-l+1))\n",
    "            total  = total - nums[l]\n",
    "            l+=1\n",
    "            \n",
    "    return 0 if res==float('inf') else res\n",
    "\n",
    "target = 7\n",
    "nums = [2,3,1,2,4,3]\n",
    "res = minSubArrayLen(target, nums)\n",
    "print(res)"
   ]
  }
 ],
 "metadata": {
  "kernelspec": {
   "display_name": "leetcode_env",
   "language": "python",
   "name": "leetcode_env"
  },
  "language_info": {
   "codemirror_mode": {
    "name": "ipython",
    "version": 3
   },
   "file_extension": ".py",
   "mimetype": "text/x-python",
   "name": "python",
   "nbconvert_exporter": "python",
   "pygments_lexer": "ipython3",
   "version": "3.8.6"
  },
  "orig_nbformat": 4
 },
 "nbformat": 4,
 "nbformat_minor": 2
}
