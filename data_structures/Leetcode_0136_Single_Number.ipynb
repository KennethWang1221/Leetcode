{
 "cells": [
  {
   "cell_type": "markdown",
   "metadata": {},
   "source": [
    "## Method1 - Bit Manipulation\n",
    "https://www.youtube.com/watch?v=qMPX1AOa83k"
   ]
  },
  {
   "cell_type": "code",
   "execution_count": 1,
   "metadata": {},
   "outputs": [
    {
     "name": "stdout",
     "output_type": "stream",
     "text": [
      "1\n"
     ]
    }
   ],
   "source": [
    "def singleNumber(nums):\n",
    "    res = 0\n",
    "    for n in nums:\n",
    "        res = n ^ res\n",
    "    return res\n",
    "\n",
    "nums = [2,2,1]\n",
    "res = singleNumber(nums)\n",
    "print(res)"
   ]
  },
  {
   "cell_type": "markdown",
   "metadata": {},
   "source": [
    "## Method2 - DIY"
   ]
  },
  {
   "cell_type": "code",
   "execution_count": 1,
   "metadata": {},
   "outputs": [
    {
     "name": "stdout",
     "output_type": "stream",
     "text": [
      "4\n"
     ]
    }
   ],
   "source": [
    "def singleNumber(nums):\n",
    "    n = len(nums)\n",
    "    record = {}\n",
    "    for i in range(n):\n",
    "        record[nums[i]] = record.get(nums[i], 0) + 1\n",
    "    for key, value in record.items():\n",
    "        if value == 1:\n",
    "            return key\n",
    "    return -1\n",
    "nums = [4,1,2,1,2]\n",
    "print(singleNumber(nums))"
   ]
  }
 ],
 "metadata": {
  "kernelspec": {
   "display_name": "leetcode_env",
   "language": "python",
   "name": "python3"
  },
  "language_info": {
   "codemirror_mode": {
    "name": "ipython",
    "version": 3
   },
   "file_extension": ".py",
   "mimetype": "text/x-python",
   "name": "python",
   "nbconvert_exporter": "python",
   "pygments_lexer": "ipython3",
   "version": "3.8.6"
  }
 },
 "nbformat": 4,
 "nbformat_minor": 2
}
