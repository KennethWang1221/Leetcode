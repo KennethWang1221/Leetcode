{
 "cells": [
  {
   "cell_type": "markdown",
   "metadata": {},
   "source": [
    "## Method 1 - Intervals - Greedy\n",
    "https://www.bilibili.com/video/BV1w7411a7Wo?spm_id_from=333.337.search-card.all.click&vd_source=8aba95d95a5a52895d55c1f87e0f02c2"
   ]
  },
  {
   "cell_type": "code",
   "execution_count": 10,
   "metadata": {},
   "outputs": [
    {
     "name": "stdout",
     "output_type": "stream",
     "text": [
      "[[1, 6], [8, 10], [15, 18]]\n"
     ]
    }
   ],
   "source": [
    "def merge(intervals):\n",
    "    result = []\n",
    "    intervals.sort(key=lambda x: x[0])\n",
    "    n = len(intervals)\n",
    "    i = 0\n",
    "    while i< n:\n",
    "        cur_start = intervals[i][0]\n",
    "        cur_end = intervals[i][1]\n",
    "\n",
    "        if result:\n",
    "            prev_start, prev_end = result[-1]\n",
    "\n",
    "            if prev_end < cur_start:\n",
    "                    result.append(intervals[i])\n",
    "            else:\n",
    "                result[-1][1] = max(prev_end,cur_end)\n",
    "        else:\n",
    "            result.append(intervals[i])\n",
    "        i+=1\n",
    "    return result\n",
    "\n",
    "\n",
    "intervals = [[1,3],[2,6],[8,10],[15,18]]\n",
    "#intervals = [[1,4],[2,3]]\n",
    "output = merge(intervals)\n",
    "print(output)"
   ]
  },
  {
   "cell_type": "code",
   "execution_count": 11,
   "metadata": {},
   "outputs": [
    {
     "name": "stdout",
     "output_type": "stream",
     "text": [
      "[[1, 6], [8, 10], [15, 18]]\n"
     ]
    }
   ],
   "source": [
    "# we also can use for i in range(n) to go through intervals list\n",
    "def merge(intervals):\n",
    "    result = []\n",
    "    intervals.sort(key=lambda x: x[0])\n",
    "    n = len(intervals)\n",
    "    i = 0\n",
    "    #while i< n:\n",
    "    for i in range(n):\n",
    "        cur_start = intervals[i][0]\n",
    "        cur_end = intervals[i][1]\n",
    "\n",
    "        if result:\n",
    "            prev_start, prev_end = result[-1]\n",
    "\n",
    "            if prev_end < cur_start:\n",
    "                    result.append(intervals[i])\n",
    "            else:\n",
    "                result[-1][1] = max(prev_end,cur_end)\n",
    "        else:\n",
    "            result.append(intervals[i])\n",
    "        #i+=1\n",
    "    return result\n",
    "\n",
    "\n",
    "intervals = [[1,3],[2,6],[8,10],[15,18]]\n",
    "#intervals = [[1,4],[2,3]]\n",
    "output = merge(intervals)\n",
    "print(output)"
   ]
  },
  {
   "cell_type": "markdown",
   "metadata": {},
   "source": [
    "## Method2 - Intervals - Greedy\n",
    "https://www.youtube.com/watch?v=44H3cEC2fFM\n"
   ]
  },
  {
   "cell_type": "code",
   "execution_count": 39,
   "metadata": {},
   "outputs": [
    {
     "name": "stdout",
     "output_type": "stream",
     "text": [
      "[[1, 3], [2, 3], [2, 2], [2, 2], [3, 3], [4, 6], [5, 7]]\n",
      "[[1, 3], [4, 7]]\n"
     ]
    }
   ],
   "source": [
    "def merge(intervals):\n",
    "    intervals.sort(key = lambda x: x[0])\n",
    "\n",
    "    output = [intervals[0]]\n",
    "    print(intervals)\n",
    "    start , lastend = output[0][0], output[0][1]\n",
    "    \n",
    "    for start, end in intervals:\n",
    "        if start <= lastend:\n",
    "            output[-1][1] = max(end, lastend)\n",
    "            \n",
    "        else:\n",
    "            output.append([start,end])\n",
    "        lastend = output[-1][1]\n",
    "        \n",
    "    return output\n",
    "\n",
    "intervals = [[1,3],[2,6],[8,10],[15,18]]\n",
    "intervals = [[1,4],[0,2],[3,5]]\n",
    "intervals = [[2,3],[2,2],[3,3],[1,3],[5,7],[2,2],[4,6]]\n",
    "res = merge(intervals)\n",
    "print(res)"
   ]
  },
  {
   "cell_type": "markdown",
   "metadata": {},
   "source": [
    "## Method3 - Greedy\n",
    "https://github.com/youngyangyang04/leetcode-master/blob/master/problems/0056.%E5%90%88%E5%B9%B6%E5%8C%BA%E9%97%B4.md"
   ]
  },
  {
   "cell_type": "code",
   "execution_count": 1,
   "metadata": {},
   "outputs": [
    {
     "name": "stdout",
     "output_type": "stream",
     "text": [
      "[[1, 3], [4, 7]]\n"
     ]
    }
   ],
   "source": [
    "def merge(intervals):\n",
    "    result = []\n",
    "    if len(intervals) == 0:\n",
    "        return result  # 区间集合为空直接返回\n",
    "\n",
    "    intervals.sort(key=lambda x: x[0])  # 按照区间的左边界进行排序\n",
    "\n",
    "    result.append(intervals[0])  # 第一个区间可以直接放入结果集中\n",
    "\n",
    "    for i in range(1, len(intervals)):\n",
    "        if result[-1][1] >= intervals[i][0]:  # 发现重叠区间\n",
    "            # 合并区间，只需要更新结果集最后一个区间的右边界，因为根据排序，左边界已经是最小的\n",
    "            result[-1][1] = max(result[-1][1], intervals[i][1])\n",
    "        else:\n",
    "            result.append(intervals[i])  # 区间不重叠\n",
    "\n",
    "    return result\n",
    "\n",
    "intervals = [[1,3],[2,6],[8,10],[15,18]]\n",
    "intervals = [[1,4],[0,2],[3,5]]\n",
    "intervals = [[2,3],[2,2],[3,3],[1,3],[5,7],[2,2],[4,6]]\n",
    "res = merge(intervals)\n",
    "print(res)"
   ]
  },
  {
   "cell_type": "markdown",
   "metadata": {},
   "source": [
    "## Recap lambda"
   ]
  },
  {
   "cell_type": "code",
   "execution_count": 27,
   "metadata": {},
   "outputs": [
    {
     "name": "stdout",
     "output_type": "stream",
     "text": [
      "[[1, 3], [15, 18], [8, 10], [2, 6]]\n",
      "[[1, 3], [2, 6], [8, 10], [15, 18]]\n",
      "15 18\n",
      "15 18\n"
     ]
    }
   ],
   "source": [
    "intervals = [[1,3],[15,18],[8,10],[2,6]]\n",
    "print(intervals)\n",
    "intervals.sort(key=lambda x: x[0])\n",
    "print(intervals)\n",
    "\n",
    "prev_start, prev_end = intervals[-1][0],intervals[-1][1]\n",
    "print(prev_start,prev_end)\n",
    "\n",
    "prev_start, prev_end = intervals[-1]\n",
    "print(prev_start,prev_end)"
   ]
  }
 ],
 "metadata": {
  "kernelspec": {
   "display_name": "test_env",
   "language": "python",
   "name": "python3"
  },
  "language_info": {
   "codemirror_mode": {
    "name": "ipython",
    "version": 3
   },
   "file_extension": ".py",
   "mimetype": "text/x-python",
   "name": "python",
   "nbconvert_exporter": "python",
   "pygments_lexer": "ipython3",
   "version": "3.8.6"
  },
  "orig_nbformat": 4
 },
 "nbformat": 4,
 "nbformat_minor": 2
}
