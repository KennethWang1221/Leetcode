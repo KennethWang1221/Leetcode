{
 "cells": [
  {
   "cell_type": "markdown",
   "metadata": {},
   "source": [
    "## Method1 - Stack\n",
    "https://www.youtube.com/watch?v=zx5Sw9130L0"
   ]
  },
  {
   "cell_type": "code",
   "execution_count": 1,
   "metadata": {},
   "outputs": [
    {
     "name": "stdout",
     "output_type": "stream",
     "text": [
      "10\n"
     ]
    }
   ],
   "source": [
    "def largestRectangleArea(heights):\n",
    "    maxArea = 0\n",
    "    stack = []  # pair: (index, height)\n",
    "\n",
    "    for i, h in enumerate(heights):\n",
    "        start = i\n",
    "        while stack and stack[-1][1] > h:\n",
    "            index, height = stack.pop()\n",
    "            maxArea = max(maxArea, height * (i - index))\n",
    "            start = index\n",
    "        stack.append((start, h))\n",
    "\n",
    "    for i, h in stack:\n",
    "        maxArea = max(maxArea, h * (len(heights) - i))\n",
    "    return maxArea\n",
    "print(largestRectangleArea(heights = [2,1,5,6,2,3]))"
   ]
  }
 ],
 "metadata": {
  "kernelspec": {
   "display_name": "leetcode_env",
   "language": "python",
   "name": "python3"
  },
  "language_info": {
   "codemirror_mode": {
    "name": "ipython",
    "version": 3
   },
   "file_extension": ".py",
   "mimetype": "text/x-python",
   "name": "python",
   "nbconvert_exporter": "python",
   "pygments_lexer": "ipython3",
   "version": "3.8.6"
  }
 },
 "nbformat": 4,
 "nbformat_minor": 2
}
