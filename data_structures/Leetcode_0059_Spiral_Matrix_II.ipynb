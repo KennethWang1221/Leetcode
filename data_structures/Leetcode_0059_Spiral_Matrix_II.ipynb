{
 "cells": [
  {
   "cell_type": "markdown",
   "metadata": {},
   "source": [
    "## Method1 - Matrix - Recap\n",
    "\n",
    "https://www.youtube.com/watch?v=RvLrWFBJ9fM\n",
    "\n",
    "Same idea to 0054, 0059, 0048"
   ]
  },
  {
   "cell_type": "code",
   "execution_count": 6,
   "metadata": {},
   "outputs": [
    {
     "name": "stdout",
     "output_type": "stream",
     "text": [
      "[[1, 2, 3], [8, 9, 4], [7, 6, 5]]\n"
     ]
    }
   ],
   "source": [
    "def generateMatrix(n):\n",
    "    mat = [[0] * n for i in range(n)]\n",
    "    left, right = 0, n - 1\n",
    "    top, bottom = 0, n - 1\n",
    "    val = 1\n",
    "\n",
    "    while left <= right and top <= bottom:\n",
    "        # fill every val in top row\n",
    "        for c in range(left, right + 1):\n",
    "            mat[top][c] = val\n",
    "            val += 1\n",
    "        top += 1\n",
    "\n",
    "        # fill every val in right col\n",
    "        for r in range(top, bottom + 1):\n",
    "            mat[r][right] = val\n",
    "            val += 1\n",
    "        right -= 1\n",
    "\n",
    "        if left > right or bottom < top:\n",
    "            break\n",
    "        \n",
    "        # fill every val in bottom row\n",
    "        for c in range(right, left-1, -1):\n",
    "            mat[bottom][c] = val\n",
    "            val += 1\n",
    "        bottom -= 1\n",
    "        \n",
    "        # fill every val in left col\n",
    "        for r in range(bottom, top-1, -1):\n",
    "            mat[r][left] = val\n",
    "            val+=1\n",
    "        left += 1\n",
    "    return mat\n",
    "\n",
    "print(generateMatrix(n=3))\n"
   ]
  }
 ],
 "metadata": {
  "kernelspec": {
   "display_name": "leetcode_env",
   "language": "python",
   "name": "python3"
  },
  "language_info": {
   "codemirror_mode": {
    "name": "ipython",
    "version": 3
   },
   "file_extension": ".py",
   "mimetype": "text/x-python",
   "name": "python",
   "nbconvert_exporter": "python",
   "pygments_lexer": "ipython3",
   "version": "3.8.6"
  }
 },
 "nbformat": 4,
 "nbformat_minor": 2
}
