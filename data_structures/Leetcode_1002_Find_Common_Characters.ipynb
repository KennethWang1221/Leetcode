{
 "cells": [
  {
   "cell_type": "markdown",
   "metadata": {},
   "source": [
    "## Method1\n",
    "https://www.youtube.com/watch?v=QEESBA2Q_88"
   ]
  },
  {
   "cell_type": "code",
   "execution_count": 6,
   "metadata": {},
   "outputs": [
    {
     "name": "stdout",
     "output_type": "stream",
     "text": [
      "['e', 'l', 'l']\n"
     ]
    }
   ],
   "source": [
    "def commonChars(words):\n",
    "    res = []\n",
    "    count_occur = {}\n",
    "\n",
    "    for c in set(words[0]):\n",
    "        number = []\n",
    "        for word in words:\n",
    "            number.append(word.count(c))\n",
    "        count_occur[c] = min(number)\n",
    "    \n",
    "    for k, v in count_occur.items():\n",
    "        for i in range(v):\n",
    "            res.append(k)\n",
    "        \n",
    "    return res\n",
    "            \n",
    "words = [\"bella\",\"label\",\"roller\"]\n",
    "#words = [\"cool\",\"lock\",\"cook\"]\n",
    "res = commonChars(words)\n",
    "print(res)"
   ]
  },
  {
   "cell_type": "code",
   "execution_count": 25,
   "metadata": {},
   "outputs": [
    {
     "name": "stdout",
     "output_type": "stream",
     "text": [
      "['o', 'c']\n"
     ]
    }
   ],
   "source": [
    "def commonChars(words):\n",
    "    rt_dict = {}\n",
    "    \n",
    "    for c in set(words[0]):\n",
    "        count_occur  = []\n",
    "        for word in words:\n",
    "            count_occur.append(word.count(c))\n",
    "        \n",
    "        rt_dict[c] = min(count_occur)\n",
    "    rt_list = []\n",
    "    for key, value in rt_dict.items():\n",
    "        if value > 0:\n",
    "            for v in range(value):\n",
    "                rt_list.append(key)\n",
    "    return rt_list\n",
    "            \n",
    "words = [\"bella\",\"label\",\"roller\"]\n",
    "words = [\"cool\",\"lock\",\"cook\"]\n",
    "res = commonChars(words)\n",
    "print(res)"
   ]
  },
  {
   "cell_type": "code",
   "execution_count": 23,
   "metadata": {},
   "outputs": [
    {
     "name": "stdout",
     "output_type": "stream",
     "text": [
      "['e', 'l', 'l']\n"
     ]
    }
   ],
   "source": [
    "def commonChars(words):\n",
    "    rt_dict = {}\n",
    "    for c in set(words[0]):\n",
    "        rt_dict[c] = min([word.count(c) for word in words])\n",
    "    rt_list = []\n",
    "    for key, value in rt_dict.items():\n",
    "        if value > 0:\n",
    "            for _ in range(value):\n",
    "                rt_list.append(key)\n",
    "    return rt_list\n",
    "words = [\"bella\",\"label\",\"roller\"]\n",
    "res = commonChars(words)\n",
    "print(res)"
   ]
  },
  {
   "cell_type": "markdown",
   "metadata": {},
   "source": [
    "## Method2 \n",
    "https://github.com/youngyangyang04/leetcode-master/blob/master/problems/1002.%E6%9F%A5%E6%89%BE%E5%B8%B8%E7%94%A8%E5%AD%97%E7%AC%A6.md"
   ]
  },
  {
   "cell_type": "code",
   "execution_count": 6,
   "metadata": {},
   "outputs": [
    {
     "name": "stdout",
     "output_type": "stream",
     "text": [
      "['e', 'l', 'l']\n"
     ]
    }
   ],
   "source": [
    "def commonChars(words):\n",
    "    if not words: return []\n",
    "    result = []\n",
    "    hash = [0] * 26 # 用来统计所有字符串里字符出现的最小频率\n",
    "    for i, c in enumerate(words[0]):  # 用第一个字符串给hash初始化\n",
    "        hash[ord(c) - ord('a')] += 1\n",
    "    # 统计除第一个字符串外字符的出现频率\n",
    "    for i in range(1, len(words)):\n",
    "        hashOtherStr = [0] * 26\n",
    "        for j in range(len(words[i])):\n",
    "            hashOtherStr[ord(words[i][j]) - ord('a')] += 1\n",
    "        # 更新hash，保证hash里统计26个字符在所有字符串里出现的最小次数\n",
    "        for k in range(26):\n",
    "            hash[k] = min(hash[k], hashOtherStr[k])\n",
    "    # 将hash统计的字符次数，转成输出形式\n",
    "    for i in range(26):\n",
    "        while hash[i] != 0: # 注意这里是while，多个重复的字符\n",
    "            result.extend(chr(i + ord('a')))\n",
    "            hash[i] -= 1\n",
    "    return result\n",
    "            \n",
    "words = [\"bella\",\"label\",\"roller\"]\n",
    "res = commonChars(words)\n",
    "print(res)"
   ]
  },
  {
   "cell_type": "markdown",
   "metadata": {},
   "source": [
    "## Recap count"
   ]
  },
  {
   "cell_type": "code",
   "execution_count": 15,
   "metadata": {},
   "outputs": [
    {
     "name": "stdout",
     "output_type": "stream",
     "text": [
      "str.count('o') :  3\n",
      "str.count('run', 0, 10) :  1\n",
      "0 w\n",
      "1 w\n",
      "2 w\n",
      "3 .\n",
      "4 r\n",
      "5 u\n",
      "6 n\n",
      "7 o\n",
      "8 o\n",
      "9 b\n",
      "10 .\n",
      "11 c\n",
      "12 o\n",
      "13 m\n"
     ]
    }
   ],
   "source": [
    "str=\"www.runoob.com\"\n",
    "sub='o'\n",
    "print (\"str.count('o') : \", str.count(sub))\n",
    "\n",
    "sub='run'\n",
    "print (\"str.count('run', 0, 10) : \", str.count(sub,0,10))\n",
    "for i, c in enumerate(str):\n",
    "    print(i,c)"
   ]
  },
  {
   "cell_type": "markdown",
   "metadata": {},
   "source": [
    "## Find Duplicates\n",
    "./Leetcode_0442_Find_All_Duplicates_in_Array.ipynb"
   ]
  },
  {
   "cell_type": "code",
   "execution_count": 5,
   "metadata": {},
   "outputs": [
    {
     "name": "stdout",
     "output_type": "stream",
     "text": [
      "[2, 3]\n"
     ]
    }
   ],
   "source": [
    "def findDuplicates(nums):\n",
    "    visited = set()              ### set will keep track of unique number \n",
    "    result = []\n",
    "    for num in nums:\n",
    "        if num in visited:     #### if number is already present in set then add to result\n",
    "            result.append(num)\n",
    "        else:\n",
    "            visited.add(num)  ## if number is not seen before then add it to the set\n",
    "            \n",
    "    return result\n",
    "\n",
    "nums = [4,3,2,7,8,2,3,1]\n",
    "#nums = [1,1,2]\n",
    "#nums = [1]\n",
    "result = findDuplicates(nums)\n",
    "print(result)"
   ]
  }
 ],
 "metadata": {
  "kernelspec": {
   "display_name": "Python 3.8.6 64-bit ('leetcode_env')",
   "language": "python",
   "name": "python3"
  },
  "language_info": {
   "codemirror_mode": {
    "name": "ipython",
    "version": 3
   },
   "file_extension": ".py",
   "mimetype": "text/x-python",
   "name": "python",
   "nbconvert_exporter": "python",
   "pygments_lexer": "ipython3",
   "version": "3.8.6"
  },
  "orig_nbformat": 4,
  "vscode": {
   "interpreter": {
    "hash": "846fd2d9bb562a436898b7cc368204fc2f9d44e5e9b051b4f6e855e721078f23"
   }
  }
 },
 "nbformat": 4,
 "nbformat_minor": 2
}
