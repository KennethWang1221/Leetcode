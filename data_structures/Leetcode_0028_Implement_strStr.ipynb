{
 "cells": [
  {
   "cell_type": "markdown",
   "metadata": {},
   "source": [
    "Method1"
   ]
  },
  {
   "cell_type": "code",
   "execution_count": 10,
   "metadata": {},
   "outputs": [
    {
     "name": "stdout",
     "output_type": "stream",
     "text": [
      "2\n"
     ]
    }
   ],
   "source": [
    "def strStr(haystack, needle):\n",
    "    haystack_n = len(haystack)\n",
    "    needle_n = len(needle)\n",
    "\n",
    "    if needle in haystack:\n",
    "        first_index = haystack.index(needle)\n",
    "        return first_index\n",
    "    \n",
    "    return -1\n",
    "    \n",
    "# haystack = \"sadbutsad\"\n",
    "# needle = \"sad\"\n",
    "haystack = \"hello\"\n",
    "needle = \"ll\"\n",
    "\n",
    "result = strStr(haystack, needle)\n",
    "print(result)"
   ]
  },
  {
   "cell_type": "markdown",
   "metadata": {},
   "source": [
    "Method2"
   ]
  },
  {
   "cell_type": "code",
   "execution_count": 18,
   "metadata": {},
   "outputs": [
    {
     "name": "stdout",
     "output_type": "stream",
     "text": [
      "0\n"
     ]
    }
   ],
   "source": [
    "def strStr(haystack, needle):\n",
    "    haystack_n = len(haystack)\n",
    "    needle_n = len(needle)\n",
    "\n",
    "    for i in range(haystack_n):\n",
    "        temp = haystack[i:i+needle_n]\n",
    "        if haystack[i:i+needle_n] == needle:\n",
    "            return i\n",
    "    return -1\n",
    "    \n",
    "haystack = \"sadbutsad\"\n",
    "needle = \"sad\"\n",
    "# haystack = \"hello\"\n",
    "# needle = \"ll\"\n",
    "\n",
    "result = strStr(haystack, needle)\n",
    "print(result)"
   ]
  },
  {
   "cell_type": "markdown",
   "metadata": {},
   "source": [
    "wrong solution"
   ]
  },
  {
   "cell_type": "code",
   "execution_count": 6,
   "metadata": {},
   "outputs": [
    {
     "name": "stdout",
     "output_type": "stream",
     "text": [
      "2\n"
     ]
    }
   ],
   "source": [
    "def strStr(haystack, needle):\n",
    "    haystack_n = len(haystack)\n",
    "    needle_n = len(needle)\n",
    "    \n",
    "    for i in range(haystack_n):\n",
    "        for j in range(needle_n):\n",
    "            if haystack[i+j] == needle[j]:\n",
    "                pass\n",
    "            else:\n",
    "                break\n",
    "        if j == needle_n - 1:\n",
    "            return i\n",
    "\n",
    "    return -1\n",
    "\n",
    "# haystack = \"sadbutsad\"\n",
    "# needle = \"sad\"\n",
    "haystack = \"helo\"\n",
    "needle = \"ll\"\n",
    "\n",
    "result = strStr(haystack, needle)\n",
    "print(result)"
   ]
  }
 ],
 "metadata": {
  "kernelspec": {
   "display_name": "Python 3.8.6 64-bit ('leetcode_env')",
   "language": "python",
   "name": "python3"
  },
  "language_info": {
   "codemirror_mode": {
    "name": "ipython",
    "version": 3
   },
   "file_extension": ".py",
   "mimetype": "text/x-python",
   "name": "python",
   "nbconvert_exporter": "python",
   "pygments_lexer": "ipython3",
   "version": "3.8.6"
  },
  "orig_nbformat": 4,
  "vscode": {
   "interpreter": {
    "hash": "846fd2d9bb562a436898b7cc368204fc2f9d44e5e9b051b4f6e855e721078f23"
   }
  }
 },
 "nbformat": 4,
 "nbformat_minor": 2
}
