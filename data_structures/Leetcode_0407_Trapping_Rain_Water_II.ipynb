{
 "cells": [
  {
   "cell_type": "markdown",
   "metadata": {},
   "source": [
    "## Method1 - Heap"
   ]
  },
  {
   "cell_type": "code",
   "execution_count": 2,
   "metadata": {},
   "outputs": [
    {
     "name": "stdout",
     "output_type": "stream",
     "text": [
      "4\n"
     ]
    }
   ],
   "source": [
    "import heapq\n",
    "\n",
    "def trapRainWater(heightMap):\n",
    "    if not heightMap or not heightMap[0]:\n",
    "        return 0\n",
    "\n",
    "    m, n = len(heightMap), len(heightMap[0])\n",
    "    visited = [[False] * n for _ in range(m)]\n",
    "    heap = []\n",
    "    \n",
    "    # Push all the border cells into the heap and mark them as visited.\n",
    "    for i in range(m):\n",
    "        heapq.heappush(heap, (heightMap[i][0], i, 0))\n",
    "        heapq.heappush(heap, (heightMap[i][n - 1], i, n - 1))\n",
    "        visited[i][0] = visited[i][n - 1] = True\n",
    "    \n",
    "    for j in range(1, n - 1):\n",
    "        heapq.heappush(heap, (heightMap[0][j], 0, j))\n",
    "        heapq.heappush(heap, (heightMap[m - 1][j], m - 1, j))\n",
    "        visited[0][j] = visited[m - 1][j] = True\n",
    "\n",
    "    water_trapped = 0\n",
    "    directions = [(0, 1), (0, -1), (1, 0), (-1, 0)]\n",
    "    \n",
    "    # Process cells in order of their height.\n",
    "    while heap:\n",
    "        height, x, y = heapq.heappop(heap)\n",
    "        for dx, dy in directions:\n",
    "            nx, ny = x + dx, y + dy\n",
    "            if 0 <= nx < m and 0 <= ny < n and not visited[nx][ny]:\n",
    "                visited[nx][ny] = True\n",
    "                # If the neighbor is lower than the current height, water can be trapped.\n",
    "                water_trapped += max(0, height - heightMap[nx][ny])\n",
    "                # Push the neighbor cell into the heap.\n",
    "                # The effective height is the maximum of its original height and the current water level.\n",
    "                heapq.heappush(heap, (max(heightMap[nx][ny], height), nx, ny))\n",
    "                \n",
    "    return water_trapped\n",
    "s\n",
    "print(trapRainWater(heightMap = [[1,4,3,1,3,2],[3,2,1,3,2,4],[2,3,3,2,3,1]]))"
   ]
  }
 ],
 "metadata": {
  "kernelspec": {
   "display_name": "leetcode_env",
   "language": "python",
   "name": "python3"
  },
  "language_info": {
   "codemirror_mode": {
    "name": "ipython",
    "version": 3
   },
   "file_extension": ".py",
   "mimetype": "text/x-python",
   "name": "python",
   "nbconvert_exporter": "python",
   "pygments_lexer": "ipython3",
   "version": "3.8.6"
  }
 },
 "nbformat": 4,
 "nbformat_minor": 2
}
