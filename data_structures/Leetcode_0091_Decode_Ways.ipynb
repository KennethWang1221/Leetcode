{
 "cells": [
  {
   "cell_type": "markdown",
   "metadata": {},
   "source": [
    "## Method1 - Recursive\n",
    "https://www.youtube.com/watch?v=6aEyTjOwlJU"
   ]
  },
  {
   "cell_type": "code",
   "execution_count": 2,
   "metadata": {},
   "outputs": [
    {
     "name": "stdout",
     "output_type": "stream",
     "text": [
      "2\n"
     ]
    }
   ],
   "source": [
    "def numDecodings(s) -> int:\n",
    "    # Memoization\n",
    "    dp = {len(s): 1}\n",
    "\n",
    "    def dfs(i):\n",
    "        if i in dp:\n",
    "            return dp[i]\n",
    "        if s[i] == \"0\":\n",
    "            return 0\n",
    "\n",
    "        res = dfs(i + 1)\n",
    "        if i + 1 < len(s) and (\n",
    "            s[i] == \"1\" or s[i] == \"2\" and s[i + 1] in \"0123456\"\n",
    "        ):\n",
    "            res += dfs(i + 2)\n",
    "        dp[i] = res\n",
    "        return res\n",
    "\n",
    "    return dfs(0)\n",
    "\n",
    "s = '12'\n",
    "res = numDecodings(s)\n",
    "print(res)"
   ]
  },
  {
   "cell_type": "markdown",
   "metadata": {},
   "source": [
    "## Method2 - 1D Bottom-UP DP\n",
    "https://www.youtube.com/watch?v=6aEyTjOwlJU"
   ]
  },
  {
   "cell_type": "code",
   "execution_count": 3,
   "metadata": {},
   "outputs": [
    {
     "name": "stdout",
     "output_type": "stream",
     "text": [
      "2\n"
     ]
    }
   ],
   "source": [
    "\n",
    "def numDecodings(s) -> int:\n",
    "    # Dynamic Programming\n",
    "    dp = {len(s): 1}\n",
    "    for i in range(len(s) - 1, -1, -1):\n",
    "        if s[i] == \"0\":\n",
    "            dp[i] = 0\n",
    "        else:\n",
    "            dp[i] = dp[i + 1]\n",
    "\n",
    "        if i + 1 < len(s) and (\n",
    "            s[i] == \"1\" or s[i] == \"2\" and s[i + 1] in \"0123456\"\n",
    "        ):\n",
    "            dp[i] += dp[i + 2]\n",
    "    return dp[0]\n",
    "\n",
    "s = '12'\n",
    "res = numDecodings(s)\n",
    "print(res)"
   ]
  }
 ],
 "metadata": {
  "kernelspec": {
   "display_name": "test_env",
   "language": "python",
   "name": "test_env"
  },
  "language_info": {
   "codemirror_mode": {
    "name": "ipython",
    "version": 3
   },
   "file_extension": ".py",
   "mimetype": "text/x-python",
   "name": "python",
   "nbconvert_exporter": "python",
   "pygments_lexer": "ipython3",
   "version": "3.8.6"
  }
 },
 "nbformat": 4,
 "nbformat_minor": 2
}
