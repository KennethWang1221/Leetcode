{
 "cells": [
  {
   "cell_type": "markdown",
   "metadata": {},
   "source": [
    "## Method1 - String\n",
    "https://www.youtube.com/watch?v=TzMl4Z7pVh8"
   ]
  },
  {
   "cell_type": "code",
   "execution_count": 1,
   "metadata": {},
   "outputs": [
    {
     "name": "stdout",
     "output_type": "stream",
     "text": [
      "['This    is    an', 'example  of text', 'justification.  ']\n"
     ]
    }
   ],
   "source": [
    "def fullJustify(words, maxWidth):\n",
    "    res = []\n",
    "    line = []  # Words in current line\n",
    "    length = 0  # Current line length\n",
    "    i = 0\n",
    "    while i < len(words):\n",
    "        if length + len(line) + len(words[i]) > maxWidth:\n",
    "            # Line complete\n",
    "            extra_space = maxWidth - length\n",
    "            word_cnt = len(line) - 1\n",
    "            spaces = extra_space // max(1, word_cnt)\n",
    "            remainder = extra_space % max(1, word_cnt)\n",
    "\n",
    "            for j in range(max(1, len(line) - 1)):\n",
    "                line[j] += \" \" * spaces\n",
    "                if remainder:\n",
    "                    line[j] += \" \"\n",
    "                    remainder -= 1\n",
    "\n",
    "            res.append(\"\".join(line))\n",
    "            line, length = [], 0  # Reset line and length\n",
    "        \n",
    "        line.append(words[i])\n",
    "        length += len(words[i])\n",
    "        i += 1\n",
    "\n",
    "    # Handling the last line\n",
    "    last_line = \" \".join(line)\n",
    "    trail_spaces = maxWidth - len(last_line)\n",
    "    res.append(last_line + (trail_spaces * \" \"))\n",
    "\n",
    "    return res\n",
    "\n",
    "words = [\"This\", \"is\", \"an\", \"example\", \"of\", \"text\", \"justification.\"]\n",
    "maxWidth = 16\n",
    "res = fullJustify(words, maxWidth)\n",
    "print(res)"
   ]
  }
 ],
 "metadata": {
  "kernelspec": {
   "display_name": "leetcode_env",
   "language": "python",
   "name": "leetcode_env"
  },
  "language_info": {
   "codemirror_mode": {
    "name": "ipython",
    "version": 3
   },
   "file_extension": ".py",
   "mimetype": "text/x-python",
   "name": "python",
   "nbconvert_exporter": "python",
   "pygments_lexer": "ipython3",
   "version": "3.8.6"
  },
  "orig_nbformat": 4
 },
 "nbformat": 4,
 "nbformat_minor": 2
}
