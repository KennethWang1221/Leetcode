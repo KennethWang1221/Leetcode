{
 "cells": [
  {
   "cell_type": "markdown",
   "metadata": {},
   "source": [
    "## Method1 - Backtracking\n",
    "https://www.youtube.com/watch?v=rSA3t6BDDwg"
   ]
  },
  {
   "cell_type": "code",
   "execution_count": 1,
   "metadata": {},
   "outputs": [
    {
     "name": "stdout",
     "output_type": "stream",
     "text": [
      "[[1, 1, 6], [1, 2, 5], [1, 7], [2, 6]]\n"
     ]
    }
   ],
   "source": [
    "def combinationSum2(candidates, target):\n",
    "    candidates.sort()\n",
    "    n = len(candidates)\n",
    "    res = []\n",
    "\n",
    "    def backtrack(cur, pos, target):\n",
    "        if target == 0:\n",
    "            res.append(cur.copy())\n",
    "            return\n",
    "        if target <= 0:\n",
    "            return\n",
    "\n",
    "        prev = -1\n",
    "        for i in range(pos, n):\n",
    "            if candidates[i] == prev:\n",
    "                continue\n",
    "            cur.append(candidates[i])\n",
    "            update = target - candidates[i]\n",
    "            backtrack(cur, i + 1, update)\n",
    "            cur.pop()\n",
    "            prev = candidates[i]\n",
    "\n",
    "    backtrack([], 0, target)\n",
    "    return res\n",
    "\n",
    "candidates = [10,1,2,7,6,1,5]\n",
    "target = 8\n",
    "res = combinationSum2(candidates, target)\n",
    "print(res)"
   ]
  },
  {
   "cell_type": "markdown",
   "metadata": {},
   "source": [
    "## Method2 - Backtracking\n",
    "https://github.com/youngyangyang04/leetcode-master/blob/master/problems/0040.%E7%BB%84%E5%90%88%E6%80%BB%E5%92%8CII.md"
   ]
  },
  {
   "cell_type": "code",
   "execution_count": 2,
   "metadata": {},
   "outputs": [
    {
     "name": "stdout",
     "output_type": "stream",
     "text": [
      "[[1, 1, 6], [1, 2, 5], [1, 7], [2, 6]]\n"
     ]
    }
   ],
   "source": [
    "def combinationSum2(candidates, target):\n",
    "    n = len(candidates)\n",
    "    def backtracking(candidates, target, total, startIndex, path, result):\n",
    "        if total == target:\n",
    "            result.append(path[:])\n",
    "            return\n",
    "\n",
    "        for i in range(startIndex, n):\n",
    "            if i > startIndex and candidates[i] == candidates[i - 1]:\n",
    "                continue\n",
    "\n",
    "            if total + candidates[i] > target:\n",
    "                break\n",
    "\n",
    "            total += candidates[i]\n",
    "            path.append(candidates[i])\n",
    "            backtracking(candidates, target, total, i + 1, path, result)\n",
    "            total -= candidates[i]\n",
    "            path.pop()\n",
    "    result = []\n",
    "    candidates.sort()\n",
    "    backtracking(candidates, target, 0, 0, [], result)\n",
    "    return result\n",
    "\n",
    "candidates = [10,1,2,7,6,1,5]\n",
    "target = 8\n",
    "res = combinationSum2(candidates, target)\n",
    "print(res)"
   ]
  },
  {
   "cell_type": "code",
   "execution_count": 3,
   "metadata": {},
   "outputs": [
    {
     "name": "stdout",
     "output_type": "stream",
     "text": [
      "[[1, 1, 6], [1, 2, 5], [1, 7], [2, 6]]\n"
     ]
    }
   ],
   "source": [
    "def combinationSum2(candidates, target):\n",
    "    n = len(candidates)\n",
    "    def backtracking(candidates, target, total, startIndex, used, path, result):\n",
    "        if total == target:\n",
    "            result.append(path[:])\n",
    "            return\n",
    "\n",
    "        for i in range(startIndex, len(candidates)):\n",
    "            # 对于相同的数字，只选择第一个未被使用的数字，跳过其他相同数字\n",
    "            if i > startIndex and candidates[i] == candidates[i - 1] and not used[i - 1]:\n",
    "                continue\n",
    "\n",
    "            if total + candidates[i] > target:\n",
    "                break\n",
    "\n",
    "            total += candidates[i]\n",
    "            path.append(candidates[i])\n",
    "            used[i] = True\n",
    "            backtracking(candidates, target, total, i + 1, used, path, result)\n",
    "            used[i] = False\n",
    "            total -= candidates[i]\n",
    "            path.pop()\n",
    "    \n",
    "    used = [False] * len(candidates)\n",
    "    result = []\n",
    "    candidates.sort()\n",
    "    backtracking(candidates, target, 0, 0, used, [], result)\n",
    "    return result\n",
    "\n",
    "candidates = [10,1,2,7,6,1,5]\n",
    "target = 8\n",
    "res = combinationSum2(candidates, target)\n",
    "print(res)"
   ]
  },
  {
   "cell_type": "code",
   "execution_count": 4,
   "metadata": {},
   "outputs": [
    {
     "name": "stdout",
     "output_type": "stream",
     "text": [
      "[[1, 1, 6], [1, 2, 5], [1, 7], [2, 6]]\n"
     ]
    }
   ],
   "source": [
    "def combinationSum2(candidates, target):\n",
    "    n = len(candidates)\n",
    "    def combinationSumHelper(candidates, target, index, path, results):\n",
    "        if target == 0:\n",
    "            results.append(path[:])\n",
    "            return\n",
    "        for i in range(index, n):\n",
    "            if i > index and candidates[i] == candidates[i - 1]:\n",
    "                continue  \n",
    "            if candidates[i] > target:\n",
    "                break  \n",
    "            path.append(candidates[i])\n",
    "            combinationSumHelper(candidates, target - candidates[i], i + 1, path, results)\n",
    "            path.pop()\n",
    "    \n",
    "    candidates.sort()\n",
    "    results = []\n",
    "    combinationSumHelper(candidates, target, 0, [], results)\n",
    "    return results\n",
    "\n",
    "candidates = [10,1,2,7,6,1,5]\n",
    "target = 8\n",
    "res = combinationSum2(candidates, target)\n",
    "print(res)"
   ]
  }
 ],
 "metadata": {
  "kernelspec": {
   "display_name": "leetcode_env",
   "language": "python",
   "name": "leetcode_env"
  },
  "language_info": {
   "codemirror_mode": {
    "name": "ipython",
    "version": 3
   },
   "file_extension": ".py",
   "mimetype": "text/x-python",
   "name": "python",
   "nbconvert_exporter": "python",
   "pygments_lexer": "ipython3",
   "version": "3.8.6"
  }
 },
 "nbformat": 4,
 "nbformat_minor": 2
}
