{
 "cells": [
  {
   "cell_type": "markdown",
   "metadata": {},
   "source": [
    "## Method1 - Backtracking\n",
    "\n",
    "Same idea to 0077, 0216, 0017, 0039, 0040, 0131, 0093, 0078\n",
    "\n",
    "https://www.youtube.com/watch?v=rSA3t6BDDwg"
   ]
  },
  {
   "cell_type": "code",
   "execution_count": 1,
   "metadata": {},
   "outputs": [
    {
     "name": "stdout",
     "output_type": "stream",
     "text": [
      "[[1, 1, 6], [1, 2, 5], [1, 7], [2, 6]]\n"
     ]
    }
   ],
   "source": [
    "def combinationSum2(candidates, target):\n",
    "    candidates.sort()\n",
    "    n = len(candidates)\n",
    "    res = []\n",
    "\n",
    "    def backtrack(cur, pos, target):\n",
    "        if target == 0:\n",
    "            res.append(cur.copy())\n",
    "            return\n",
    "        if target <= 0:\n",
    "            return\n",
    "\n",
    "        prev = -1\n",
    "        for i in range(pos, n):\n",
    "            if candidates[i] == prev:\n",
    "                continue\n",
    "            cur.append(candidates[i])\n",
    "            update = target - candidates[i]\n",
    "            backtrack(cur, i + 1, update)\n",
    "            cur.pop()\n",
    "            prev = candidates[i]\n",
    "\n",
    "    backtrack([], 0, target)\n",
    "    return res\n",
    "\n",
    "candidates = [10,1,2,7,6,1,5]\n",
    "target = 8\n",
    "res = combinationSum2(candidates, target)\n",
    "print(res)"
   ]
  },
  {
   "cell_type": "markdown",
   "metadata": {},
   "source": [
    "## DIY - Backtracking - Recap"
   ]
  },
  {
   "cell_type": "code",
   "execution_count": 2,
   "metadata": {},
   "outputs": [
    {
     "name": "stdout",
     "output_type": "stream",
     "text": [
      "[[1, 1, 1, 1, 1, 1, 1, 1, 1, 1, 1, 1, 1, 1, 1, 1, 1, 1, 1, 1, 1, 1, 1, 1, 1, 1, 1, 1, 1, 1]]\n"
     ]
    }
   ],
   "source": [
    "def combinationSum2(candidates, target):\n",
    "    n = len(candidates)\n",
    "    candidates.sort()\n",
    "    res = []\n",
    "\n",
    "    def backtracking(start, comb, total):\n",
    "        if total == target:\n",
    "            if comb not in res:\n",
    "                res.append(comb.copy())\n",
    "            return \n",
    "        \n",
    "        if start >= n or total > target:\n",
    "            return \n",
    "        \n",
    "        for i in range(start, n):\n",
    "            # Skip duplicates: i > start ensures we don't skip the first occurrence\n",
    "            if i > start and candidates[i] == candidates[i-1]: # If not add this condition, Time Limit Exceeded\n",
    "                continue\n",
    "            comb.append(candidates[i])\n",
    "            total += candidates[i]\n",
    "            backtracking(i+1, comb, total)\n",
    "            comb.pop(-1)\n",
    "            total -= candidates[i]\n",
    "\n",
    "    backtracking(0, [], 0)\n",
    "    return res\n",
    "candidates = [1,1,1,1,1,1,1,1,1,1,1,1,1,1,1,1,1,1,1,1,1,1,1,1,1,1,1,1,1,1,1,1,1,1,1,1,1,1,1,1,1,1,1,1,1,1,1,1,1,1,1,1,1,1,1,1,1,1,1,1,1,1,1,1,1,1,1,1,1,1,1,1,1,1,1,1,1,1,1,1,1,1,1,1,1,1,1,1,1,1,1,1,1,1,1,1,1,1,1,1]\n",
    "target = 30\n",
    "print(combinationSum2(candidates, target))\n"
   ]
  },
  {
   "cell_type": "markdown",
   "metadata": {},
   "source": [
    "## Method2 - Backtracking - Recap\n",
    "https://github.com/youngyangyang04/leetcode-master/blob/master/problems/0040.%E7%BB%84%E5%90%88%E6%80%BB%E5%92%8CII.md"
   ]
  },
  {
   "cell_type": "code",
   "execution_count": 3,
   "metadata": {},
   "outputs": [
    {
     "name": "stdout",
     "output_type": "stream",
     "text": [
      "[[1, 1, 6], [1, 2, 5], [1, 7], [2, 6]]\n"
     ]
    }
   ],
   "source": [
    "def combinationSum2(candidates, target):\n",
    "    n = len(candidates)\n",
    "    res = []\n",
    "    candidates.sort()\n",
    "\n",
    "    def backtracking(candidates, target, start, comb, total, res):\n",
    "        if total == target:\n",
    "            res.append(comb[:])\n",
    "            return\n",
    "        if start >= n or total > target:\n",
    "            return \n",
    "        \n",
    "        for i in range(start, n):\n",
    "            if i > start and candidates[i] == candidates[i - 1]:\n",
    "                continue\n",
    "            total += candidates[i]\n",
    "            comb.append(candidates[i])\n",
    "            backtracking(candidates, target, i + 1, comb, total, res)\n",
    "            total -= candidates[i]\n",
    "            comb.pop()\n",
    "\n",
    "    backtracking(candidates, target, 0, [], 0, res)\n",
    "    return res\n",
    "\n",
    "candidates = [10,1,2,7,6,1,5]\n",
    "target = 8\n",
    "res = combinationSum2(candidates, target)\n",
    "print(res)"
   ]
  },
  {
   "cell_type": "code",
   "execution_count": 4,
   "metadata": {},
   "outputs": [
    {
     "name": "stdout",
     "output_type": "stream",
     "text": [
      "[[1, 1, 6], [1, 2, 5], [1, 7], [2, 6]]\n"
     ]
    }
   ],
   "source": [
    "def combinationSum2(candidates, target):\n",
    "    n = len(candidates)\n",
    "    used = [False] * len(candidates)\n",
    "    res = []\n",
    "    candidates.sort()\n",
    "    \n",
    "    def backtracking(candidates, target, start, comb, used, total, res):\n",
    "        if total == target:\n",
    "            res.append(comb[:])\n",
    "            return\n",
    "        if start >= n or total > target:\n",
    "            return \n",
    "        \n",
    "        for i in range(start, len(candidates)):\n",
    "            # 对于相同的数字，只选择第一个未被使用的数字，跳过其他相同数字\n",
    "            if i > start and candidates[i] == candidates[i - 1] and not used[i - 1]:\n",
    "                continue\n",
    "\n",
    "            total += candidates[i]\n",
    "            comb.append(candidates[i])\n",
    "            used[i] = True\n",
    "            backtracking(candidates, target, i + 1, comb, used, total, res)\n",
    "            used[i] = False\n",
    "            total -= candidates[i]\n",
    "            comb.pop()\n",
    "    \n",
    "    backtracking(candidates, target, 0, [], used, 0, res)\n",
    "    return res\n",
    "\n",
    "candidates = [10,1,2,7,6,1,5]\n",
    "target = 8\n",
    "res = combinationSum2(candidates, target)\n",
    "print(res)"
   ]
  },
  {
   "cell_type": "code",
   "execution_count": 6,
   "metadata": {},
   "outputs": [
    {
     "name": "stdout",
     "output_type": "stream",
     "text": [
      "[[1, 1, 6], [1, 2, 5], [1, 7], [2, 6]]\n"
     ]
    }
   ],
   "source": [
    "def combinationSum2(candidates, target):\n",
    "    n = len(candidates)\n",
    "    def combinationSumHelper(candidates, target, start, comb, res):\n",
    "        if target == 0:\n",
    "            res.append(comb[:])\n",
    "            return\n",
    "        for i in range(start, n):\n",
    "            if i > start and candidates[i] == candidates[i - 1]:\n",
    "                continue  \n",
    "            if candidates[i] > target:\n",
    "                break  \n",
    "            comb.append(candidates[i])\n",
    "            combinationSumHelper(candidates, target - candidates[i], i + 1, comb, res)\n",
    "            comb.pop()\n",
    "    \n",
    "    candidates.sort()\n",
    "    res = []\n",
    "    combinationSumHelper(candidates, target, 0, [], res)\n",
    "    return res\n",
    "\n",
    "candidates = [10,1,2,7,6,1,5]\n",
    "target = 8\n",
    "res = combinationSum2(candidates, target)\n",
    "print(res)"
   ]
  }
 ],
 "metadata": {
  "kernelspec": {
   "display_name": "leetcode_env",
   "language": "python",
   "name": "leetcode_env"
  },
  "language_info": {
   "codemirror_mode": {
    "name": "ipython",
    "version": 3
   },
   "file_extension": ".py",
   "mimetype": "text/x-python",
   "name": "python",
   "nbconvert_exporter": "python",
   "pygments_lexer": "ipython3",
   "version": "3.8.6"
  }
 },
 "nbformat": 4,
 "nbformat_minor": 2
}
