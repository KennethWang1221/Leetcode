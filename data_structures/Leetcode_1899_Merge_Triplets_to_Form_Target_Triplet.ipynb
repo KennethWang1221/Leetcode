{
 "cells": [
  {
   "cell_type": "markdown",
   "metadata": {},
   "source": [
    "## Method1 - Greedy\n",
    "\n",
    "https://www.youtube.com/watch?v=kShkQLQZ9K4"
   ]
  },
  {
   "cell_type": "code",
   "execution_count": 1,
   "metadata": {},
   "outputs": [
    {
     "name": "stdout",
     "output_type": "stream",
     "text": [
      "True\n"
     ]
    }
   ],
   "source": [
    "def mergeTriplets(triplets, target):\n",
    "    good = set()\n",
    "\n",
    "    for t in triplets:\n",
    "        if t[0] > target[0] or t[1] > target[1] or t[2] > target[2]:\n",
    "            continue\n",
    "        for i, v in enumerate(t):\n",
    "            if v == target[i]:\n",
    "                good.add(i)\n",
    "    return len(good) == 3\n",
    "print(mergeTriplets(triplets = [[2,5,3],[1,8,4],[1,7,5]], target = [2,7,5]))"
   ]
  }
 ],
 "metadata": {
  "kernelspec": {
   "display_name": "leetcode_env",
   "language": "python",
   "name": "python3"
  },
  "language_info": {
   "codemirror_mode": {
    "name": "ipython",
    "version": 3
   },
   "file_extension": ".py",
   "mimetype": "text/x-python",
   "name": "python",
   "nbconvert_exporter": "python",
   "pygments_lexer": "ipython3",
   "version": "3.8.6"
  }
 },
 "nbformat": 4,
 "nbformat_minor": 2
}
