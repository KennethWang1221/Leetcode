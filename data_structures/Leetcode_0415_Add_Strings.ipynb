{
 "cells": [
  {
   "cell_type": "markdown",
   "metadata": {},
   "source": [
    "## Method1"
   ]
  },
  {
   "cell_type": "code",
   "execution_count": 10,
   "metadata": {},
   "outputs": [
    {
     "name": "stdout",
     "output_type": "stream",
     "text": [
      "134\n",
      "<class 'str'>\n"
     ]
    }
   ],
   "source": [
    "def addStrings(num1, num2):\n",
    "    n1 = len(num1)\n",
    "    n2 = len(num2)\n",
    "\n",
    "    if n1<n2:\n",
    "        add1 = int(num2)\n",
    "        add2 = int(num1)\n",
    "    else:\n",
    "        add1 = int(num1)\n",
    "        add2 = int(num2)\n",
    "    result= add1+add2\n",
    "    return str(result)\n",
    "\n",
    "num1 = \"11\"\n",
    "num2 = \"123\"\n",
    "result = addStrings(num1, num2)\n",
    "print(result)\n",
    "print(type(result))"
   ]
  },
  {
   "cell_type": "markdown",
   "metadata": {},
   "source": [
    "## Method2"
   ]
  },
  {
   "cell_type": "code",
   "execution_count": 11,
   "metadata": {},
   "outputs": [
    {
     "name": "stdout",
     "output_type": "stream",
     "text": [
      "134\n",
      "<class 'str'>\n"
     ]
    }
   ],
   "source": [
    "def addStrings(num1, num2):\n",
    "    result = []\n",
    "    n1 = len(num1)\n",
    "    n2 = len(num2)\n",
    "\n",
    "    if n1<n2:\n",
    "        add1 = int(num2)\n",
    "        add2 = int(num1)\n",
    "    else:\n",
    "        add1 = int(num1)\n",
    "        add2 = int(num2)\n",
    "    result.append(add1+add2)\n",
    "    return str(result[0])\n",
    "\n",
    "num1 = \"11\"\n",
    "num2 = \"123\"\n",
    "result = addStrings(num1, num2)\n",
    "print(result)\n",
    "print(type(result))"
   ]
  },
  {
   "cell_type": "code",
   "execution_count": 12,
   "metadata": {},
   "outputs": [
    {
     "name": "stdout",
     "output_type": "stream",
     "text": [
      "3\n",
      "<class 'list'>\n",
      "<class 'int'>\n",
      "0 1\n",
      "1 2\n",
      "2 3\n"
     ]
    }
   ],
   "source": [
    "a = [1,2,3]\n",
    "print(len(a))\n",
    "print(type(a))\n",
    "print(type(a[0]))\n",
    "for i in range(len(a)):\n",
    "    print(i,a[i])"
   ]
  },
  {
   "cell_type": "code",
   "execution_count": 13,
   "metadata": {},
   "outputs": [
    {
     "name": "stdout",
     "output_type": "stream",
     "text": [
      "[1, 2, 3]\n",
      "9\n",
      "<class 'str'>\n",
      "<class 'str'>\n",
      "0 [\n",
      "1 1\n",
      "2 ,\n",
      "3  \n",
      "4 2\n",
      "5 ,\n",
      "6  \n",
      "7 3\n",
      "8 ]\n"
     ]
    }
   ],
   "source": [
    "b = str(a)\n",
    "print(b)\n",
    "print(len(b))\n",
    "print(type(b))\n",
    "print(type(b[0]))\n",
    "\n",
    "for i in range(len(b)):\n",
    "    print(i,b[i])"
   ]
  },
  {
   "cell_type": "code",
   "execution_count": null,
   "metadata": {},
   "outputs": [],
   "source": []
  }
 ],
 "metadata": {
  "kernelspec": {
   "display_name": "Python 3.8.6 64-bit ('leetcode_env')",
   "language": "python",
   "name": "python3"
  },
  "language_info": {
   "codemirror_mode": {
    "name": "ipython",
    "version": 3
   },
   "file_extension": ".py",
   "mimetype": "text/x-python",
   "name": "python",
   "nbconvert_exporter": "python",
   "pygments_lexer": "ipython3",
   "version": "3.8.6"
  },
  "orig_nbformat": 4,
  "vscode": {
   "interpreter": {
    "hash": "846fd2d9bb562a436898b7cc368204fc2f9d44e5e9b051b4f6e855e721078f23"
   }
  }
 },
 "nbformat": 4,
 "nbformat_minor": 2
}
