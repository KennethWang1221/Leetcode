{
 "cells": [
  {
   "cell_type": "code",
   "execution_count": null,
   "metadata": {},
   "outputs": [],
   "source": [
    "# 讲 None 是撒 \n",
    "# http://c.biancheng.net/view/5659.html\n",
    "# https://blog.csdn.net/LHYzyp/article/details/70224141\n",
    "# https://blog.csdn.net/weixin_39718286/article/details/110376832?utm_medium=distribute.pc_relevant.none-task-blog-baidujs_baidulandingword-4&spm=1001.2101.3001.4242\n",
    "# https://blog.csdn.net/qq_33094993/article/details/53386078\n",
    "# ！！！ 讲得好： https://www.jianshu.com/p/627232777efd\n",
    "#None是python中的一个特殊的常量，表示一个空的对象，空值是python中的一个特殊值。数据为空并不代表是空对象，例如[],''等都不是None。None和任何对象比较返回值都是False，除了自己。\n"
   ]
  },
  {
   "cell_type": "code",
   "execution_count": null,
   "metadata": {},
   "outputs": [],
   "source": [
    "class MyQueue:\n",
    "\n",
    "    def __init__(self):\n",
    "        self.queue = []\n",
    "\n",
    "    def push(self, x: int) -> None:\n",
    "        self.queue.append(x)\n",
    "        \n",
    "\n",
    "    def pop(self) -> int:\n",
    "        val = self.queue.pop(0)\n",
    "        return val\n",
    "\n",
    "    def peek(self) -> int:\n",
    "        return self.queue[0]\n",
    "        \n",
    "\n",
    "    def empty(self) -> bool:\n",
    "        if self.queue:\n",
    "            return False\n",
    "        else:\n",
    "            return True\n",
    "        \n",
    "# Your MyQueue object will be instantiated and called as such:\n",
    "# obj = MyQueue()\n",
    "# obj.push(x)\n",
    "# param_2 = obj.pop()\n",
    "# param_3 = obj.peek()\n",
    "# param_4 = obj.empty()"
   ]
  }
 ],
 "metadata": {
  "language_info": {
   "name": "python"
  },
  "orig_nbformat": 4
 },
 "nbformat": 4,
 "nbformat_minor": 2
}
