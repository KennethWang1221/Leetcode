{
 "cells": [
  {
   "cell_type": "markdown",
   "metadata": {},
   "source": [
    "## Method1 Stack"
   ]
  },
  {
   "cell_type": "code",
   "execution_count": null,
   "metadata": {},
   "outputs": [],
   "source": [
    "class MyQueue:\n",
    "\n",
    "    def __init__(self):\n",
    "        self.queue = []\n",
    "\n",
    "    def push(self, x: int) -> None:\n",
    "        self.queue.append(x)\n",
    "        \n",
    "    def pop(self) -> int:\n",
    "        val = self.queue.pop(0)\n",
    "        return val\n",
    "\n",
    "    def peek(self) -> int:\n",
    "        return self.queue[0]\n",
    "        \n",
    "    def empty(self) -> bool:\n",
    "        if self.queue:\n",
    "            return False\n",
    "        else:\n",
    "            return True\n",
    "\n",
    "# Test case\n",
    "queue = MyQueue()\n",
    "queue.push(1)\n",
    "queue.push(2)\n",
    "print(queue.peek())   # Output should be 1\n",
    "print(queue.pop())    # Output should be 1\n",
    "print(queue.empty())  # Output should be False\n"
   ]
  },
  {
   "cell_type": "markdown",
   "metadata": {},
   "source": [
    "## Recap"
   ]
  },
  {
   "cell_type": "markdown",
   "metadata": {},
   "source": [
    "### What's None\n",
    "http://c.biancheng.net/view/5659.html\n",
    "\n",
    "https://blog.csdn.net/LHYzyp/article/details/70224141\n",
    "\n",
    "https://blog.csdn.net/weixin_39718286/article/details/110376832?utm_medium=distribute.pc_relevant.\n",
    "\n",
    "https://blog.csdn.net/qq_33094993/article/details/53386078\n",
    "\n",
    "https://www.jianshu.com/p/627232777efd\n",
    "\n",
    "None是python中的一个特殊的常量，表示一个空的对象，空值是python中的一个特殊值。数据为空并不代表是空对象，例如[],''等都不是None。None和任何对象比较返回值都是False，除了自己。\n"
   ]
  }
 ],
 "metadata": {
  "language_info": {
   "name": "python"
  },
  "orig_nbformat": 4
 },
 "nbformat": 4,
 "nbformat_minor": 2
}
