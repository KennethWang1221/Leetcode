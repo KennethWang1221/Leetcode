{
 "cells": [
  {
   "cell_type": "markdown",
   "metadata": {},
   "source": [
    "## Method1 - Greedy\n",
    "https://github.com/youngyangyang04/leetcode-master/blob/master/problems/1005.K%E6%AC%A1%E5%8F%96%E5%8F%8D%E5%90%8E%E6%9C%80%E5%A4%A7%E5%8C%96%E7%9A%84%E6%95%B0%E7%BB%84%E5%92%8C.md"
   ]
  },
  {
   "cell_type": "code",
   "execution_count": 2,
   "metadata": {},
   "outputs": [
    {
     "name": "stdout",
     "output_type": "stream",
     "text": [
      "7\n"
     ]
    }
   ],
   "source": [
    "def largestSumAfterKNegations(A,K):\n",
    "    A.sort(key=lambda x: abs(x), reverse=True)  # 第一步：按照绝对值降序排序数组A\n",
    "    n = len(A)\n",
    "    for i in range(len(A)):  # 第二步：执行K次取反操作\n",
    "        if A[i] < 0 and K > 0:\n",
    "            A[i] *= -1\n",
    "            K -= 1\n",
    "\n",
    "    if K % 2 == 1:  # 第三步：如果K还有剩余次数，将绝对值最小的元素取反\n",
    "        A[-1] *= -1\n",
    "\n",
    "    result = sum(A)  # 第四步：计算数组A的元素和\n",
    "    return result\n",
    "A = [-2,5,0,2,-2]\n",
    "K = 1\n",
    "res = largestSumAfterKNegations(A,K)\n",
    "print(res)"
   ]
  }
 ],
 "metadata": {
  "kernelspec": {
   "display_name": "leetcode_env",
   "language": "python",
   "name": "leetcode_env"
  },
  "language_info": {
   "codemirror_mode": {
    "name": "ipython",
    "version": 3
   },
   "file_extension": ".py",
   "mimetype": "text/x-python",
   "name": "python",
   "nbconvert_exporter": "python",
   "pygments_lexer": "ipython3",
   "version": "3.8.6"
  }
 },
 "nbformat": 4,
 "nbformat_minor": 2
}
