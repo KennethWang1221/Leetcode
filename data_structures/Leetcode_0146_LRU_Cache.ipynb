{
 "cells": [
  {
   "cell_type": "markdown",
   "metadata": {},
   "source": [
    "## Method1 - LinkedList\n",
    "https://www.youtube.com/watch?v=7ABFKPK2hD4"
   ]
  },
  {
   "cell_type": "code",
   "execution_count": 1,
   "metadata": {},
   "outputs": [
    {
     "name": "stdout",
     "output_type": "stream",
     "text": [
      "1\n",
      "-1\n",
      "-1\n",
      "3\n",
      "4\n"
     ]
    }
   ],
   "source": [
    "class Node:\n",
    "    def __init__(self, key, val):\n",
    "        self.key, self.val = key, val\n",
    "        self.prev = self.next = None\n",
    "\n",
    "\n",
    "class LRUCache:\n",
    "    def __init__(self, capacity: int):\n",
    "        self.cap = capacity\n",
    "        self.cache = {}  # map key to node\n",
    "\n",
    "        self.left, self.right = Node(0, 0), Node(0, 0)\n",
    "        self.left.next, self.right.prev = self.right, self.left\n",
    "\n",
    "    # remove node from list\n",
    "    def remove(self, node):\n",
    "        prev, nxt = node.prev, node.next\n",
    "        prev.next, nxt.prev = nxt, prev\n",
    "\n",
    "    # insert node at right\n",
    "    def insert(self, node):\n",
    "        prev, nxt = self.right.prev, self.right\n",
    "        prev.next = nxt.prev = node\n",
    "        node.next, node.prev = nxt, prev\n",
    "\n",
    "    def get(self, key: int) -> int:\n",
    "        if key in self.cache:\n",
    "            self.remove(self.cache[key])\n",
    "            self.insert(self.cache[key])\n",
    "            return self.cache[key].val\n",
    "        return -1\n",
    "\n",
    "    def put(self, key: int, value: int) -> None:\n",
    "        if key in self.cache:\n",
    "            self.remove(self.cache[key])\n",
    "        self.cache[key] = Node(key, value)\n",
    "        self.insert(self.cache[key])\n",
    "\n",
    "        if len(self.cache) > self.cap:\n",
    "            # remove from the list and delete the LRU from hashmap\n",
    "            lru = self.left.next\n",
    "            self.remove(lru)\n",
    "            del self.cache[lru.key]\n",
    "\n",
    "# Example usage:\n",
    "lRUCache = LRUCache(2)\n",
    "lRUCache.put(1, 1)  # cache is {1=1}\n",
    "lRUCache.put(2, 2)  # cache is {1=1, 2=2}\n",
    "print(lRUCache.get(1))  # return 1\n",
    "lRUCache.put(3, 3)  # LRU key was 2, evicts key 2, cache is {1=1, 3=3}\n",
    "print(lRUCache.get(2))  # returns -1 (not found)\n",
    "lRUCache.put(4, 4)  # LRU key was 1, evicts key 1, cache is {4=4, 3=3}\n",
    "print(lRUCache.get(1))  # return -1 (not found)\n",
    "print(lRUCache.get(3))  # return 3\n",
    "print(lRUCache.get(4))  # return 4"
   ]
  }
 ],
 "metadata": {
  "kernelspec": {
   "display_name": "test_env",
   "language": "python",
   "name": "test_env"
  },
  "language_info": {
   "codemirror_mode": {
    "name": "ipython",
    "version": 3
   },
   "file_extension": ".py",
   "mimetype": "text/x-python",
   "name": "python",
   "nbconvert_exporter": "python",
   "pygments_lexer": "ipython3",
   "version": "3.8.6"
  }
 },
 "nbformat": 4,
 "nbformat_minor": 2
}
