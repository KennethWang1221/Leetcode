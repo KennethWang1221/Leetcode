{
 "cells": [
  {
   "cell_type": "markdown",
   "metadata": {},
   "source": [
    "## Method1 - String\n",
    "https://www.youtube.com/watch?v=YA0LYrKI1CQ"
   ]
  },
  {
   "cell_type": "code",
   "execution_count": 1,
   "metadata": {},
   "outputs": [
    {
     "name": "stdout",
     "output_type": "stream",
     "text": [
      "4193\n"
     ]
    }
   ],
   "source": [
    "def myAtoi(s):\n",
    "    s = s.lstrip()\n",
    "    n = len(s)\n",
    "\n",
    "    if s=='':\n",
    "        return 0\n",
    "    \n",
    "    i = 0\n",
    "    result = 0\n",
    "    cur = s[i]\n",
    "    sign = 1 # in case such '42'\n",
    "    if s[i] == '+':\n",
    "        sign = 1\n",
    "        i+=1 # in case '42'\n",
    "    elif s[i] == '-':\n",
    "        sign = -1\n",
    "        i+=1 # '42'\n",
    "    \n",
    "    while i<n:\n",
    "        cur = s[i]\n",
    "        if cur.isdigit():\n",
    "            result = result * 10 + int(cur) # wonderful logic!\n",
    "        else:\n",
    "            #print(\"not digit, it's\",cur)\n",
    "            break\n",
    "        \n",
    "        i+=1\n",
    "    \n",
    "    result *= sign\n",
    "    if result < -2**31:\n",
    "        return -2**31\n",
    "    if result > 2**32-1:\n",
    "        return 2**32-1\n",
    "\n",
    "    return result\n",
    "        \n",
    "#s = \"   -42\"\n",
    "#s = \"+1\"\n",
    "s = \"+-12\"\n",
    "s = '42'\n",
    "s = '    '\n",
    "s = \"4193 with words\"\n",
    "\n",
    "result = myAtoi(s)\n",
    "print(result)"
   ]
  },
  {
   "cell_type": "markdown",
   "metadata": {},
   "source": [
    "## wrong version"
   ]
  },
  {
   "cell_type": "code",
   "execution_count": 43,
   "metadata": {},
   "outputs": [
    {
     "name": "stdout",
     "output_type": "stream",
     "text": [
      "-12\n",
      "0\n"
     ]
    }
   ],
   "source": [
    "def myAtoi(s):\n",
    "    s = s.lstrip()\n",
    "    n = len(s)\n",
    "\n",
    "    if s=='':\n",
    "        return s\n",
    "\n",
    "    sign = 1\n",
    "    result = 0\n",
    "    for i in range(n):\n",
    "        cur = s[i]\n",
    "        if cur == '-':\n",
    "            sign = -1\n",
    "        elif cur == '+':\n",
    "            sign = 1\n",
    "        # you cannot evaluate sign here, please test '+-12'\n",
    "        elif cur.isdigit():\n",
    "            #result+=int(s[i])*10\n",
    "            result = result * 10 + int(cur)\n",
    "        else:\n",
    "            break\n",
    "    \n",
    "    result *= sign\n",
    "    if result < -2**31:\n",
    "        return -2**31\n",
    "    if result > 2**32-1:\n",
    "        return 2**32-1\n",
    "\n",
    "    return result\n",
    "        \n",
    "#s = \"   -42\"\n",
    "#s = \"4193 with words\"\n",
    "#s = \"+1\"\n",
    "s = \"+-12\"\n",
    "result = myAtoi(s)\n",
    "print(result)\n",
    "expected = 0\n",
    "print(expected)"
   ]
  },
  {
   "cell_type": "markdown",
   "metadata": {},
   "source": [
    "## wrong version2"
   ]
  },
  {
   "cell_type": "code",
   "execution_count": 48,
   "metadata": {},
   "outputs": [
    {
     "name": "stdout",
     "output_type": "stream",
     "text": [
      "2\n",
      "42\n"
     ]
    }
   ],
   "source": [
    "def myAtoi(s):\n",
    "    s = s.lstrip()\n",
    "    n = len(s)\n",
    "\n",
    "    if s=='':\n",
    "        return 0\n",
    "    \n",
    "    i = 0\n",
    "    cur = s[i]\n",
    "    sign = 1 # in case such '42'\n",
    "    if s[i] == '+':\n",
    "        sign = 1\n",
    "    elif s[i] == '-':\n",
    "        sign = -1\n",
    "    i+=1 # you cannot put i+=1 here, please test '42' case\n",
    "    result = 0\n",
    "    while i<n:\n",
    "        cur = s[i]\n",
    "        if cur.isdigit():\n",
    "            result = result * 10 + int(cur)\n",
    "        else:\n",
    "            break\n",
    "        \n",
    "        i+=1\n",
    "    \n",
    "    result *= sign\n",
    "    if result < -2**31:\n",
    "        return -2**31\n",
    "    if result > 2**32-1:\n",
    "        return 2**32-1\n",
    "\n",
    "    return result\n",
    "\n",
    "s = '42'\n",
    "result = myAtoi(s)\n",
    "expected = 42\n",
    "print(result)\n",
    "print(expected)"
   ]
  },
  {
   "cell_type": "markdown",
   "metadata": {},
   "source": [
    "## recap isdigit()<br>\n",
    "https://blog.csdn.net/cj5230151/article/details/72874429"
   ]
  },
  {
   "cell_type": "code",
   "execution_count": 31,
   "metadata": {},
   "outputs": [
    {
     "name": "stdout",
     "output_type": "stream",
     "text": [
      "is digit 1\n",
      "is not digit ,\n",
      "is not digit -\n",
      "is digit 2\n",
      "===\n",
      "<class 'str'>\n",
      "<class 'int'>\n"
     ]
    }
   ],
   "source": [
    "a = '1,-2'\n",
    "for i in range(len(a)):\n",
    "    if a[i].isdigit() == True:\n",
    "        print(\"is digit\",a[i])\n",
    "    else:\n",
    "        print(\"is not digit\",a[i])\n",
    "print(\"===\")\n",
    "a = '-2'\n",
    "print(type(a))\n",
    "a = int('-2')\n",
    "print(type(a))"
   ]
  },
  {
   "cell_type": "markdown",
   "metadata": {},
   "source": [
    "evaluate string contains negative number or not"
   ]
  },
  {
   "cell_type": "code",
   "execution_count": 40,
   "metadata": {},
   "outputs": [
    {
     "data": {
      "text/plain": [
       "True"
      ]
     },
     "execution_count": 40,
     "metadata": {},
     "output_type": "execute_result"
    }
   ],
   "source": [
    "def fun(z):\n",
    "    try:\n",
    "        z = int(z)\n",
    "        return isinstance(z,int) # The isinstance() function checks if the object (first argument) is an instance or subclass of classinfo class (second argument).\n",
    "\n",
    "    except ValueError:\n",
    "        return False\n",
    "\n",
    "z = '-2' # True\n",
    "z = 'qes' # False\n",
    "z = '2ee' # False\n",
    "z = '3' # True\n",
    "fun(z)"
   ]
  },
  {
   "cell_type": "markdown",
   "metadata": {},
   "source": [
    "## compare break and continue"
   ]
  },
  {
   "cell_type": "markdown",
   "metadata": {},
   "source": [
    "https://www.cainiaojc.com/python/python-break-continue.html"
   ]
  },
  {
   "cell_type": "code",
   "execution_count": 48,
   "metadata": {},
   "outputs": [
    {
     "name": "stdout",
     "output_type": "stream",
     "text": [
      "s\n",
      "t\n",
      "r\n"
     ]
    }
   ],
   "source": [
    "for val in \"string\":\n",
    "    if val == \"i\":\n",
    "        break\n",
    "    print(val)"
   ]
  },
  {
   "cell_type": "code",
   "execution_count": 54,
   "metadata": {},
   "outputs": [
    {
     "name": "stdout",
     "output_type": "stream",
     "text": [
      "s\n",
      "t\n",
      "r\n",
      "s\n",
      "t\n",
      "r\n",
      "s\n",
      "t\n",
      "r\n"
     ]
    }
   ],
   "source": [
    "for i in range(3):\n",
    "    for val in \"string\":\n",
    "        if val == \"i\":\n",
    "            break\n",
    "        print(val)"
   ]
  },
  {
   "cell_type": "code",
   "execution_count": 56,
   "metadata": {},
   "outputs": [
    {
     "name": "stdout",
     "output_type": "stream",
     "text": [
      "s\n",
      "t\n",
      "r\n",
      "n\n",
      "g\n"
     ]
    }
   ],
   "source": [
    "for val in \"string\":\n",
    "    if val == \"i\":\n",
    "        continue\n",
    "    print(val)"
   ]
  },
  {
   "cell_type": "code",
   "execution_count": 52,
   "metadata": {},
   "outputs": [
    {
     "name": "stdout",
     "output_type": "stream",
     "text": [
      "s\n",
      "t\n",
      "r\n",
      "n\n",
      "g\n",
      "s\n",
      "t\n",
      "r\n",
      "n\n",
      "g\n",
      "s\n",
      "t\n",
      "r\n",
      "n\n",
      "g\n"
     ]
    }
   ],
   "source": [
    "for i in range(3):\n",
    "    for val in \"string\":\n",
    "        if val == \"i\":\n",
    "            continue\n",
    "        print(val)"
   ]
  }
 ],
 "metadata": {
  "kernelspec": {
   "display_name": "leetcode_env",
   "language": "python",
   "name": "leetcode_env"
  },
  "language_info": {
   "codemirror_mode": {
    "name": "ipython",
    "version": 3
   },
   "file_extension": ".py",
   "mimetype": "text/x-python",
   "name": "python",
   "nbconvert_exporter": "python",
   "pygments_lexer": "ipython3",
   "version": "3.8.6"
  },
  "orig_nbformat": 4,
  "vscode": {
   "interpreter": {
    "hash": "846fd2d9bb562a436898b7cc368204fc2f9d44e5e9b051b4f6e855e721078f23"
   }
  }
 },
 "nbformat": 4,
 "nbformat_minor": 2
}
