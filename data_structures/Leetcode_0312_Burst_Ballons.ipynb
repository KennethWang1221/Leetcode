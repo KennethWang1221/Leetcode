{
 "cells": [
  {
   "cell_type": "markdown",
   "metadata": {},
   "source": [
    "## Method1 - 2D Bottom-UP DP\n",
    "\n",
    "https://www.youtube.com/watch?v=VFskby7lUbw&t=42s"
   ]
  },
  {
   "cell_type": "code",
   "execution_count": 1,
   "metadata": {},
   "outputs": [
    {
     "name": "stdout",
     "output_type": "stream",
     "text": [
      "Max Coins: 167\n"
     ]
    }
   ],
   "source": [
    "def maxCoins(nums):\n",
    "    n = len(nums)\n",
    "    arr = [1] * (n + 2)  # add 1s on both ends\n",
    "    for i in range(n):\n",
    "        arr[i + 1] = nums[i]\n",
    "\n",
    "    dp = [[0] * (n + 2) for _ in range(n + 2)]\n",
    "\n",
    "    for length in range(1, n + 1):  # length of subarray\n",
    "        for i in range(1, n - length + 2):\n",
    "            j = i + length - 1\n",
    "            for k in range(i, j + 1):\n",
    "                dp[i][j] = max(dp[i][j],\n",
    "                                dp[i][k - 1] + arr[i - 1] * arr[k] * arr[j + 1] + dp[k + 1][j])\n",
    "\n",
    "    return dp[1][n]\n",
    "\n",
    "print(\"Max Coins:\", maxCoins([3,1,5,8]))  # Output: 167"
   ]
  }
 ],
 "metadata": {
  "kernelspec": {
   "display_name": "leetcode_env",
   "language": "python",
   "name": "python3"
  },
  "language_info": {
   "codemirror_mode": {
    "name": "ipython",
    "version": 3
   },
   "file_extension": ".py",
   "mimetype": "text/x-python",
   "name": "python",
   "nbconvert_exporter": "python",
   "pygments_lexer": "ipython3",
   "version": "3.8.6"
  }
 },
 "nbformat": 4,
 "nbformat_minor": 2
}
