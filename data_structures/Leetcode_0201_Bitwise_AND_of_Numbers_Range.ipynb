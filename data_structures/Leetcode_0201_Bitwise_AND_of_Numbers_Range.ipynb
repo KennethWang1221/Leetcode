{
 "cells": [
  {
   "cell_type": "markdown",
   "metadata": {},
   "source": [
    "## Method1 - Bit Manipulation\n",
    "https://www.youtube.com/watch?v=R3T0olAhUq0"
   ]
  },
  {
   "cell_type": "code",
   "execution_count": 1,
   "metadata": {},
   "outputs": [
    {
     "name": "stdout",
     "output_type": "stream",
     "text": [
      "4\n"
     ]
    }
   ],
   "source": [
    "def rangeBitwiseAnd(left, right):\n",
    "    i = 0 \n",
    "    while left != right:\n",
    "        left = left >> 1\n",
    "        right = right >> 1\n",
    "        i += 1\n",
    "    \n",
    "    return left << i\n",
    "\n",
    "left = 5\n",
    "right = 7\n",
    "res = rangeBitwiseAnd(left,right)\n",
    "print(res)"
   ]
  }
 ],
 "metadata": {
  "kernelspec": {
   "display_name": "test_env",
   "language": "python",
   "name": "test_env"
  },
  "language_info": {
   "codemirror_mode": {
    "name": "ipython",
    "version": 3
   },
   "file_extension": ".py",
   "mimetype": "text/x-python",
   "name": "python",
   "nbconvert_exporter": "python",
   "pygments_lexer": "ipython3",
   "version": "3.8.6"
  }
 },
 "nbformat": 4,
 "nbformat_minor": 2
}
