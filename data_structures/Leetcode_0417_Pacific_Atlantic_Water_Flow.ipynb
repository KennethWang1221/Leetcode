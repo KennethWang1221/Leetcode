{
 "cells": [
  {
   "attachments": {},
   "cell_type": "markdown",
   "metadata": {},
   "source": [
    "# Method1-DFS\n",
    "https://www.youtube.com/watch?v=s-VkcjHqkGI\n",
    "\n",
    "https://github.com/neetcode-gh/leetcode/blob/main/python/0417-pacific-atlantic-water-flow.py"
   ]
  },
  {
   "cell_type": "code",
   "execution_count": 1,
   "metadata": {},
   "outputs": [
    {
     "name": "stdout",
     "output_type": "stream",
     "text": [
      "[[0, 4], [1, 3], [1, 4], [2, 2], [3, 0], [3, 1], [4, 0]]\n"
     ]
    }
   ],
   "source": [
    "def pacificAtlantic(heights):\n",
    "    ROWS, COLS = len(heights), len(heights[0])\n",
    "    pac, atl = set(), set()\n",
    "\n",
    "    def dfs(r, c, visit, prevHeight):\n",
    "        if (\n",
    "            (r, c) in visit\n",
    "            or r < 0\n",
    "            or c < 0\n",
    "            or r == ROWS\n",
    "            or c == COLS\n",
    "            or heights[r][c] < prevHeight\n",
    "        ):\n",
    "            return\n",
    "        visit.add((r, c))\n",
    "        dfs(r + 1, c, visit, heights[r][c])\n",
    "        dfs(r - 1, c, visit, heights[r][c])\n",
    "        dfs(r, c + 1, visit, heights[r][c])\n",
    "        dfs(r, c - 1, visit, heights[r][c])\n",
    "\n",
    "    for c in range(COLS):\n",
    "        dfs(0, c, pac, heights[0][c])\n",
    "        dfs(ROWS - 1, c, atl, heights[ROWS - 1][c])\n",
    "\n",
    "    for r in range(ROWS):\n",
    "        dfs(r, 0, pac, heights[r][0])\n",
    "        dfs(r, COLS - 1, atl, heights[r][COLS - 1])\n",
    "\n",
    "    res = []\n",
    "    for r in range(ROWS):\n",
    "        for c in range(COLS):\n",
    "            if (r, c) in pac and (r, c) in atl:\n",
    "                res.append([r, c])\n",
    "    return res \n",
    "\n",
    "heights = [[1,2,2,3,5],[3,2,3,4,4],[2,4,5,3,1],[6,7,1,4,5],[5,1,1,2,4]]\n",
    "res = pacificAtlantic(heights)\n",
    "print(res)"
   ]
  },
  {
   "cell_type": "markdown",
   "metadata": {},
   "source": [
    "## Method2 - BFS"
   ]
  },
  {
   "cell_type": "code",
   "execution_count": 2,
   "metadata": {},
   "outputs": [
    {
     "name": "stdout",
     "output_type": "stream",
     "text": [
      "[[0, 4], [1, 3], [1, 4], [2, 2], [3, 0], [3, 1], [4, 0]]\n"
     ]
    }
   ],
   "source": [
    "def pacificAtlantic(heights):\n",
    "    ROWS, COLS = len(heights), len(heights[0])\n",
    "    pacific_queue = []\n",
    "    atlantic_queue = []\n",
    "    \n",
    "    # Initialize queues with border cells\n",
    "    for r in range(ROWS):\n",
    "        pacific_queue.append((r, 0))\n",
    "        atlantic_queue.append((r, COLS - 1))\n",
    "    for c in range(COLS):\n",
    "        pacific_queue.append((0, c))\n",
    "        atlantic_queue.append((ROWS - 1, c))\n",
    "    \n",
    "    # BFS function to explore reachable cells\n",
    "    def bfs(queue):\n",
    "        visited = set()\n",
    "        index = 0  # Pointer to simulate a queue\n",
    "        while index < len(queue):\n",
    "            r, c = queue[index]\n",
    "            index += 1\n",
    "            if (r, c) in visited:\n",
    "                continue\n",
    "            visited.add((r, c))\n",
    "            for dr, dc in [(1, 0), (-1, 0), (0, 1), (0, -1)]:\n",
    "                nr, nc = r + dr, c + dc\n",
    "                if 0 <= nr < ROWS and 0 <= nc < COLS and heights[nr][nc] >= heights[r][c]:\n",
    "                    queue.append((nr, nc))\n",
    "        return visited\n",
    "    \n",
    "    # Perform BFS for both oceans\n",
    "    pacific_reachable = bfs(pacific_queue)\n",
    "    atlantic_reachable = bfs(atlantic_queue)\n",
    "    \n",
    "    # Find the intersection of cells reachable from both oceans\n",
    "    res = []\n",
    "    for r in range(ROWS):\n",
    "        for c in range(COLS):\n",
    "            if (r, c) in pacific_reachable and (r, c) in atlantic_reachable:\n",
    "                res.append([r, c])\n",
    "    return res\n",
    "\n",
    "# Test case\n",
    "heights = [\n",
    "    [1, 2, 2, 3, 5],\n",
    "    [3, 2, 3, 4, 4],\n",
    "    [2, 4, 5, 3, 1],\n",
    "    [6, 7, 1, 4, 5],\n",
    "    [5, 1, 1, 2, 4]\n",
    "]\n",
    "res = pacificAtlantic(heights)\n",
    "print(res)  # Output: [[0, 4], [1, 3], [1, 4], [2, 2], [3, 0], [3, 1], [4, 0]]"
   ]
  }
 ],
 "metadata": {
  "kernelspec": {
   "display_name": "leetcode_env",
   "language": "python",
   "name": "python3"
  },
  "language_info": {
   "codemirror_mode": {
    "name": "ipython",
    "version": 3
   },
   "file_extension": ".py",
   "mimetype": "text/x-python",
   "name": "python",
   "nbconvert_exporter": "python",
   "pygments_lexer": "ipython3",
   "version": "3.8.6"
  },
  "orig_nbformat": 4,
  "vscode": {
   "interpreter": {
    "hash": "846fd2d9bb562a436898b7cc368204fc2f9d44e5e9b051b4f6e855e721078f23"
   }
  }
 },
 "nbformat": 4,
 "nbformat_minor": 2
}
