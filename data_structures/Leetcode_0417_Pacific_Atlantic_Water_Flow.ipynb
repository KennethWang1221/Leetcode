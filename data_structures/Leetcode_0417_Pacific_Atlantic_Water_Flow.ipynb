{
 "cells": [
  {
   "attachments": {},
   "cell_type": "markdown",
   "metadata": {},
   "source": [
    "# Method1-DFS\n",
    "https://www.youtube.com/watch?v=s-VkcjHqkGI\n",
    "\n",
    "https://github.com/neetcode-gh/leetcode/blob/main/python/0417-pacific-atlantic-water-flow.py"
   ]
  },
  {
   "cell_type": "code",
   "execution_count": 1,
   "metadata": {},
   "outputs": [
    {
     "name": "stdout",
     "output_type": "stream",
     "text": [
      "[[0, 4], [1, 3], [1, 4], [2, 2], [3, 0], [3, 1], [4, 0]]\n"
     ]
    }
   ],
   "source": [
    "def pacificAtlantic(heights):\n",
    "    ROWS, COLS = len(heights), len(heights[0])\n",
    "    pac, atl = set(), set()\n",
    "\n",
    "    def dfs(r, c, visit, prevHeight):\n",
    "        if (\n",
    "            (r, c) in visit\n",
    "            or r < 0\n",
    "            or c < 0\n",
    "            or r == ROWS\n",
    "            or c == COLS\n",
    "            or heights[r][c] < prevHeight\n",
    "        ):\n",
    "            return\n",
    "        visit.add((r, c))\n",
    "        dfs(r + 1, c, visit, heights[r][c])\n",
    "        dfs(r - 1, c, visit, heights[r][c])\n",
    "        dfs(r, c + 1, visit, heights[r][c])\n",
    "        dfs(r, c - 1, visit, heights[r][c])\n",
    "\n",
    "    for c in range(COLS):\n",
    "        dfs(0, c, pac, heights[0][c])\n",
    "        dfs(ROWS - 1, c, atl, heights[ROWS - 1][c])\n",
    "\n",
    "    for r in range(ROWS):\n",
    "        dfs(r, 0, pac, heights[r][0])\n",
    "        dfs(r, COLS - 1, atl, heights[r][COLS - 1])\n",
    "\n",
    "    res = []\n",
    "    for r in range(ROWS):\n",
    "        for c in range(COLS):\n",
    "            if (r, c) in pac and (r, c) in atl:\n",
    "                res.append([r, c])\n",
    "    return res \n",
    "\n",
    "heights = [[1,2,2,3,5],[3,2,3,4,4],[2,4,5,3,1],[6,7,1,4,5],[5,1,1,2,4]]\n",
    "res = pacificAtlantic(heights)\n",
    "print(res)"
   ]
  }
 ],
 "metadata": {
  "kernelspec": {
   "display_name": "leetcode_env",
   "language": "python",
   "name": "python3"
  },
  "language_info": {
   "codemirror_mode": {
    "name": "ipython",
    "version": 3
   },
   "file_extension": ".py",
   "mimetype": "text/x-python",
   "name": "python",
   "nbconvert_exporter": "python",
   "pygments_lexer": "ipython3",
   "version": "3.8.6 | packaged by conda-forge | (default, Jan 25 2021, 22:55:00) \n[Clang 11.0.1 ]"
  },
  "orig_nbformat": 4,
  "vscode": {
   "interpreter": {
    "hash": "846fd2d9bb562a436898b7cc368204fc2f9d44e5e9b051b4f6e855e721078f23"
   }
  }
 },
 "nbformat": 4,
 "nbformat_minor": 2
}
