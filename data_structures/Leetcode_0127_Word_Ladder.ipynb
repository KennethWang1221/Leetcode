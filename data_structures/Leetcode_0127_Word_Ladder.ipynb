{
 "cells": [
  {
   "cell_type": "markdown",
   "metadata": {},
   "source": [
    "## Method1 - Graph - BFS"
   ]
  },
  {
   "cell_type": "code",
   "execution_count": 1,
   "metadata": {},
   "outputs": [
    {
     "name": "stdout",
     "output_type": "stream",
     "text": [
      "5\n"
     ]
    }
   ],
   "source": [
    "def ladderLength(beginWord, endWord, wordList):\n",
    "    if endWord not in wordList:\n",
    "        return 0\n",
    "\n",
    "    nei = {}\n",
    "    wordList.append(beginWord)\n",
    "    for word in wordList:\n",
    "        for j in range(len(word)):\n",
    "            pattern = word[:j] + \"*\" + word[j+1:]\n",
    "            if pattern not in nei:\n",
    "                nei[pattern] = []\n",
    "            nei[pattern].append(word)\n",
    "\n",
    "    q = [beginWord]\n",
    "    visit = set([beginWord])    \n",
    "    res = 1\n",
    "\n",
    "    while q:\n",
    "        for i in range(len(q)):\n",
    "            word = q.pop(0)\n",
    "            if word == endWord: return res\n",
    "            for j in range(len(word)):\n",
    "                pattern = word[:j] + \"*\" + word[j+1:]\n",
    "                for neiword in nei[pattern]:\n",
    "                    if neiword not in visit:\n",
    "                        visit.add(neiword)\n",
    "                        q.append(neiword)\n",
    "                \n",
    "        res+=1\n",
    "    return 0\n",
    "print(ladderLength(beginWord = \"hit\", endWord = \"cog\", wordList = [\"hot\",\"dot\",\"dog\",\"lot\",\"log\",\"cog\"]))"
   ]
  }
 ],
 "metadata": {
  "kernelspec": {
   "display_name": "leetcode_env",
   "language": "python",
   "name": "python3"
  },
  "language_info": {
   "codemirror_mode": {
    "name": "ipython",
    "version": 3
   },
   "file_extension": ".py",
   "mimetype": "text/x-python",
   "name": "python",
   "nbconvert_exporter": "python",
   "pygments_lexer": "ipython3",
   "version": "3.8.6"
  }
 },
 "nbformat": 4,
 "nbformat_minor": 2
}
