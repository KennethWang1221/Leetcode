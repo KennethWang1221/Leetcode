{
 "cells": [
  {
   "cell_type": "markdown",
   "metadata": {},
   "source": [
    "## Method1-BFS\n",
    "https://github.com/youngyangyang04/leetcode-master/blob/master/problems/0530.%E4%BA%8C%E5%8F%89%E6%90%9C%E7%B4%A2%E6%A0%91%E7%9A%84%E6%9C%80%E5%B0%8F%E7%BB%9D%E5%AF%B9%E5%B7%AE.md"
   ]
  },
  {
   "cell_type": "code",
   "execution_count": 15,
   "metadata": {},
   "outputs": [
    {
     "name": "stdout",
     "output_type": "stream",
     "text": [
      "[1, 2, 3, 4, 6]\n",
      "1\n",
      "1\n",
      "1\n",
      "1\n",
      "1\n"
     ]
    }
   ],
   "source": [
    "class TreeNode(object):\n",
    "    def __init__(self, x):\n",
    "        if x == None:\n",
    "            self.val = None\n",
    "        else:\n",
    "            self.val = x\n",
    "        self.left = None\n",
    "        self.right = None \n",
    "\n",
    "\n",
    "def getMinimumDifference(root):\n",
    "    if root == None: return \n",
    "    res = []\n",
    "    que = [root]\n",
    "    minimum = []\n",
    "    while que:\n",
    "        level = []\n",
    "        n = len(que)\n",
    "        for i in range(n):\n",
    "            cur = que.pop(0)\n",
    "            level.append(cur.val)\n",
    "            if cur.left:\n",
    "                que.append(cur.left)\n",
    "            if cur.right:\n",
    "                que.append(cur.right)\n",
    "\n",
    "        res.extend(level)\n",
    "    res.sort()\n",
    "    print(res)\n",
    "    min_abs = float(\"inf\")\n",
    "    for i in range(1, len(res)):\n",
    "        min_abs = min(min_abs, abs(res[i] - res[i-1]))\n",
    "        print(min_abs)\n",
    "    \n",
    "    return min_abs\n",
    "\n",
    "\n",
    "n1 = TreeNode(4)\n",
    "n2 = TreeNode(2)\n",
    "n3 = TreeNode(6)\n",
    "n4 = TreeNode(1)\n",
    "n5 = TreeNode(3)\n",
    "\n",
    "n1.left = n2\n",
    "n1.right = n3\n",
    "n2.left = n4\n",
    "n2.right = n5\n",
    "\n",
    "res = getMinimumDifference(n1)\n",
    "print(res)"
   ]
  },
  {
   "cell_type": "markdown",
   "metadata": {},
   "source": [
    "## Method2-DFS (Inorder) Iterative"
   ]
  },
  {
   "cell_type": "code",
   "execution_count": 16,
   "metadata": {},
   "outputs": [
    {
     "name": "stdout",
     "output_type": "stream",
     "text": [
      "1\n"
     ]
    }
   ],
   "source": [
    "class TreeNode(object):\n",
    "    def __init__(self, x):\n",
    "        if x == None:\n",
    "            self.val = None\n",
    "        else:\n",
    "            self.val = x\n",
    "        self.left = None\n",
    "        self.right = None \n",
    "\n",
    "\n",
    "def getMinimumDifference(root):\n",
    "    if root == None: return \n",
    "    res = []\n",
    "    stack = []\n",
    "    cur = root\n",
    "\n",
    "    while cur or stack:\n",
    "        if cur:\n",
    "            stack.append(cur)\n",
    "            cur = cur.left\n",
    "\n",
    "        else:\n",
    "            cur = stack.pop(-1)\n",
    "            res.append(cur.val)\n",
    "            cur = cur.right\n",
    "\n",
    "    min_value = float(\"inf\")\n",
    "    for i in range(1, len(res)):\n",
    "        min_value = min(min_value, res[i] - res[i-1])\n",
    "\n",
    "\n",
    "    return min_value\n",
    "n1 = TreeNode(4)\n",
    "n2 = TreeNode(2)\n",
    "n3 = TreeNode(6)\n",
    "n4 = TreeNode(1)\n",
    "n5 = TreeNode(3)\n",
    "\n",
    "n1.left = n2\n",
    "n1.right = n3\n",
    "n2.left = n4\n",
    "n2.right = n5\n",
    "\n",
    "res = getMinimumDifference(n1)\n",
    "print(res)"
   ]
  },
  {
   "cell_type": "markdown",
   "metadata": {},
   "source": [
    "## Method-3 DFS (Inorder) Recursive\n",
    "https://www.youtube.com/watch?v=I4RxroxsyNA"
   ]
  },
  {
   "cell_type": "code",
   "execution_count": 18,
   "metadata": {},
   "outputs": [
    {
     "name": "stdout",
     "output_type": "stream",
     "text": [
      "[1, 2, 3, 4, 6]\n",
      "1\n"
     ]
    }
   ],
   "source": [
    "class TreeNode(object):\n",
    "    def __init__(self, x):\n",
    "        if x == None:\n",
    "            self.val = None\n",
    "        else:\n",
    "            self.val = x\n",
    "        self.left = None\n",
    "        self.right = None \n",
    "\n",
    "\n",
    "def getMinimumDifference(root):\n",
    "    res = []\n",
    "    def inorder(root):\n",
    "        if root == None: return\n",
    "        inorder(root.left)\n",
    "        res.append(root.val)\n",
    "        inorder(root.right)\n",
    "    inorder(root)\n",
    "    min_abs = float(\"inf\")\n",
    "    print(res)\n",
    "    for i in range(1, len(res)):\n",
    "        min_abs = min(min_abs, res[i] - res[i-1])\n",
    "    return min_abs\n",
    "    \n",
    "n1 = TreeNode(4)\n",
    "n2 = TreeNode(2)\n",
    "n3 = TreeNode(6)\n",
    "n4 = TreeNode(1)\n",
    "n5 = TreeNode(3)\n",
    "\n",
    "n1.left = n2\n",
    "n1.right = n3\n",
    "n2.left = n4\n",
    "n2.right = n5\n",
    "\n",
    "res = getMinimumDifference(n1)\n",
    "print(res)"
   ]
  },
  {
   "cell_type": "markdown",
   "metadata": {},
   "source": [
    "## Method4-DFS-Preorder-Iterative"
   ]
  },
  {
   "cell_type": "code",
   "execution_count": 21,
   "metadata": {},
   "outputs": [
    {
     "name": "stdout",
     "output_type": "stream",
     "text": [
      "1\n"
     ]
    }
   ],
   "source": [
    "class TreeNode(object):\n",
    "    def __init__(self, x):\n",
    "        if x == None:\n",
    "            self.val = None\n",
    "        else:\n",
    "            self.val = x\n",
    "        self.left = None\n",
    "        self.right = None \n",
    "\n",
    "\n",
    "def getMinimumDifference(root):\n",
    "    if root == None: return \n",
    "    res = []\n",
    "    stack = [root]\n",
    "    while stack:\n",
    "        cur = stack.pop(-1)\n",
    "        res.append(cur.val)\n",
    "        if cur.right:\n",
    "            stack.append(cur.right)\n",
    "        if cur.left:\n",
    "            stack.append(cur.left)\n",
    "\n",
    "    res.sort()\n",
    "    min_value = float(\"inf\")\n",
    "\n",
    "    for i in range(1, len(res)):\n",
    "        min_value = min(min_value, abs(res[i] - res[i-1]))\n",
    "    return min_value\n",
    "\n",
    "n1 = TreeNode(4)\n",
    "n2 = TreeNode(2)\n",
    "n3 = TreeNode(6)\n",
    "n4 = TreeNode(1)\n",
    "n5 = TreeNode(3)\n",
    "\n",
    "n1.left = n2\n",
    "n1.right = n3\n",
    "n2.left = n4\n",
    "n2.right = n5\n",
    "\n",
    "res = getMinimumDifference(n1)\n",
    "print(res)"
   ]
  },
  {
   "cell_type": "code",
   "execution_count": 19,
   "metadata": {},
   "outputs": [
    {
     "name": "stdout",
     "output_type": "stream",
     "text": [
      "<class 'float'> -inf\n"
     ]
    }
   ],
   "source": [
    "a = float(\"-inf\")\n",
    "print(type(a),a)"
   ]
  },
  {
   "cell_type": "code",
   "execution_count": 14,
   "metadata": {},
   "outputs": [
    {
     "name": "stdout",
     "output_type": "stream",
     "text": [
      "\n",
      "    __4\n",
      "   /   \\\n",
      "  2     6\n",
      " / \\\n",
      "1   3\n",
      "\n"
     ]
    }
   ],
   "source": [
    "from binarytree import tree, bst, heap, Node\n",
    "n1 = Node(4)\n",
    "n2 = Node(2)\n",
    "n3 = Node(6)\n",
    "n4 = Node(1)\n",
    "n5 = Node(3)\n",
    "\n",
    "n1.left = n2\n",
    "n1.right = n3\n",
    "n2.left = n4\n",
    "n2.right = n5\n",
    "print(n1)"
   ]
  },
  {
   "cell_type": "markdown",
   "metadata": {},
   "source": [
    "## Wrong version"
   ]
  },
  {
   "cell_type": "code",
   "execution_count": 23,
   "metadata": {},
   "outputs": [
    {
     "name": "stdout",
     "output_type": "stream",
     "text": [
      "1\n"
     ]
    }
   ],
   "source": [
    "class TreeNode(object):\n",
    "    def __init__(self, x):\n",
    "        if x == None:\n",
    "            self.val = None\n",
    "        else:\n",
    "            self.val = x\n",
    "        self.left = None\n",
    "        self.right = None \n",
    "\n",
    "\n",
    "def getMinimumDifference(root):\n",
    "    if root == None: return \n",
    "    res = [0]\n",
    "    stack = [root]\n",
    "    val = []\n",
    "    while stack:\n",
    "        cur = stack.pop(-1)\n",
    "        \n",
    "        res.append(cur.val)\n",
    "        val.append(abs(res[-1]-res[-2]))\n",
    "        if cur.right: stack.append(cur.right)\n",
    "        if cur.left: stack.append(cur.left)\n",
    "    return min(val)\n",
    "\n",
    "n1 = TreeNode(4)\n",
    "n2 = TreeNode(2)\n",
    "n3 = TreeNode(6)\n",
    "n4 = TreeNode(1)\n",
    "n5 = TreeNode(3)\n",
    "\n",
    "n1.left = n2\n",
    "n1.right = n3\n",
    "n2.left = n4\n",
    "n2.right = n5\n",
    "\n",
    "res = getMinimumDifference(n1)\n",
    "print(res)"
   ]
  }
 ],
 "metadata": {
  "kernelspec": {
   "display_name": "leetcode_env",
   "language": "python",
   "name": "leetcode_env"
  },
  "language_info": {
   "codemirror_mode": {
    "name": "ipython",
    "version": 3
   },
   "file_extension": ".py",
   "mimetype": "text/x-python",
   "name": "python",
   "nbconvert_exporter": "python",
   "pygments_lexer": "ipython3",
   "version": "3.8.6"
  },
  "orig_nbformat": 4,
  "vscode": {
   "interpreter": {
    "hash": "846fd2d9bb562a436898b7cc368204fc2f9d44e5e9b051b4f6e855e721078f23"
   }
  }
 },
 "nbformat": 4,
 "nbformat_minor": 2
}
