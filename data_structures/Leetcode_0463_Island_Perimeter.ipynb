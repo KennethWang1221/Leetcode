{
 "cells": [
  {
   "attachments": {},
   "cell_type": "markdown",
   "metadata": {},
   "source": [
    "## Method1 - Graph-DFS\n",
    "https://www.youtube.com/watch?v=fISIuAFRM2s"
   ]
  },
  {
   "cell_type": "code",
   "execution_count": 1,
   "metadata": {},
   "outputs": [
    {
     "name": "stdout",
     "output_type": "stream",
     "text": [
      "16\n"
     ]
    }
   ],
   "source": [
    "def islandPerimeter(grid):\n",
    "    visit = set()\n",
    "    res = 0\n",
    "    rows, cols = len(grid), len(grid[0])\n",
    "\n",
    "    def dfs(r,c):\n",
    "        if r >= rows or c >= cols or r < 0 or c < 0 or grid[r][c] == 0:\n",
    "            return 1\n",
    "        if (r,c) in visit:\n",
    "            return 0\n",
    "\n",
    "        visit.add((r,c))\n",
    "        perim = dfs(r+1,c)\n",
    "        perim += dfs(r-1,c)\n",
    "        perim += dfs(r,c+1)\n",
    "        perim += dfs(r,c-1)\n",
    "        return perim\n",
    "\n",
    "    for r in range(rows):\n",
    "        for c in range(cols):\n",
    "            if grid[r][c]==1:\n",
    "                return dfs(r,c)\n",
    "    \n",
    "grid = [[0,1,0,0],[1,1,1,0],[0,1,0,0],[1,1,0,0]]\n",
    "\n",
    "res = islandPerimeter(grid)\n",
    "print(res)  "
   ]
  },
  {
   "cell_type": "markdown",
   "metadata": {},
   "source": [
    "## Method1 - DFS"
   ]
  },
  {
   "cell_type": "code",
   "execution_count": 4,
   "metadata": {},
   "outputs": [
    {
     "name": "stdout",
     "output_type": "stream",
     "text": [
      "16\n"
     ]
    }
   ],
   "source": [
    "def islandPerimeter(grid):\n",
    "    visit = set()\n",
    "    rows, cols = len(grid), len(grid[0])\n",
    "    perim = 0\n",
    "    def dfs(r, c):\n",
    "        if r < 0 or r >= rows or c < 0 or c >= cols or grid[r][c] == 0:\n",
    "            return 1\n",
    "        if (r, c) in visit:\n",
    "            return 0\n",
    "\n",
    "        visit.add((r, c))\n",
    "        perim = dfs(r - 1, c)\n",
    "        perim += dfs(r + 1, c)\n",
    "        perim += dfs(r, c - 1)\n",
    "        perim += dfs(r, c + 1)\n",
    "        return perim\n",
    "\n",
    "    for r in range(rows):\n",
    "        for c in range(cols):\n",
    "            if grid[r][c] == 1:\n",
    "                perim += dfs(r, c)\n",
    "    return perim\n",
    "    \n",
    "grid = [[0, 1, 0, 0], [1, 1, 1, 0], [0, 1, 0, 0], [1, 1, 0, 0]]\n",
    "\n",
    "res = islandPerimeter(grid)\n",
    "print(res)  "
   ]
  },
  {
   "cell_type": "markdown",
   "metadata": {},
   "source": [
    "## Method1 - DFS - Recap"
   ]
  },
  {
   "cell_type": "code",
   "execution_count": 1,
   "metadata": {},
   "outputs": [
    {
     "name": "stdout",
     "output_type": "stream",
     "text": [
      "16\n"
     ]
    }
   ],
   "source": [
    "def islandPerimeter(grid):\n",
    "    rows, cols = len(grid), len(grid[0])\n",
    "    res = 0 \n",
    "    visit = set()\n",
    "\n",
    "    def dfs(row, col):\n",
    "        if (\n",
    "            (row < 0 or row > rows-1 or col < 0 or col > cols-1) or \n",
    "            (grid[row][col] == 0)\n",
    "        ):\n",
    "            return 1\n",
    "        if (row,col) in visit: return 0\n",
    "        visit.add((row,col))\n",
    "        perimeter = 0\n",
    "        directions = [[-1,0], [1,0],[0,-1],[0,1]]\n",
    "        for dr, dc in directions:\n",
    "            r,c = row + dr, col + dc\n",
    "            perimeter += dfs(r,c)\n",
    "        return perimeter\n",
    "\n",
    "    for row in range(rows):\n",
    "        for col in range(cols):\n",
    "            if (grid[row][col] == 1) and (row,col) not in visit:\n",
    "                return dfs(row,col)\n",
    "    return 0\n",
    "\n",
    "    \n",
    "grid = [[0, 1, 0, 0], [1, 1, 1, 0], [0, 1, 0, 0], [1, 1, 0, 0]]\n",
    "\n",
    "res = islandPerimeter(grid)\n",
    "print(res)  "
   ]
  }
 ],
 "metadata": {
  "kernelspec": {
   "display_name": "leetcode_env",
   "language": "python",
   "name": "python3"
  },
  "language_info": {
   "codemirror_mode": {
    "name": "ipython",
    "version": 3
   },
   "file_extension": ".py",
   "mimetype": "text/x-python",
   "name": "python",
   "nbconvert_exporter": "python",
   "pygments_lexer": "ipython3",
   "version": "3.8.6"
  },
  "orig_nbformat": 4
 },
 "nbformat": 4,
 "nbformat_minor": 2
}
