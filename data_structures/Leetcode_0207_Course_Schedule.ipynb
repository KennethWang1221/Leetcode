{
 "cells": [
  {
   "cell_type": "markdown",
   "metadata": {},
   "source": [
    "## Method1 - DFS\n",
    "https://www.youtube.com/watch?v=EgI5nU9etnU"
   ]
  },
  {
   "cell_type": "code",
   "execution_count": 1,
   "metadata": {},
   "outputs": [
    {
     "name": "stdout",
     "output_type": "stream",
     "text": [
      "True\n"
     ]
    }
   ],
   "source": [
    "def canFinish(numCourses: int, prerequisites):\n",
    "    # dfs\n",
    "    preMap = {i: [] for i in range(numCourses)}\n",
    "\n",
    "    # map each course to : prereq list\n",
    "    for crs, pre in prerequisites:\n",
    "        preMap[crs].append(pre)\n",
    "\n",
    "    visiting = set()\n",
    "\n",
    "    def dfs(crs):\n",
    "        if crs in visiting: return False # means we are visiting this course twice, and there is a loop\n",
    "        if preMap[crs] == []: return True # means this course has no prerequisites\n",
    "\n",
    "        # if neither of these conditions that is satisfied then we can take this course and add it to our visit set\n",
    "        # because that means we are currently visiting this and we are going to recursively run DFS on its prerequisites\n",
    "        visiting.add(crs)\n",
    "        for pre in preMap[crs]:\n",
    "            if dfs(pre) == False: return False\n",
    "        \n",
    "        visiting.remove(crs)\n",
    "        preMap[crs] = []\n",
    "        return True\n",
    "\n",
    "    for c in range(numCourses):\n",
    "        if dfs(c) == False: return False # if not dfs(c): return False\n",
    "    return True\n",
    "\n",
    "numCourses = 5\n",
    "prerequisites = [[0,1], [0,2], [1,3], [1,4], [3,4]]\n",
    "# numCourses = 4\n",
    "# prerequisites = [[0,1], [2,3]]\n",
    "\n",
    "# numCourses = 3\n",
    "# prerequisites = [[0,1], [1,2], [2,0]]\n",
    "numCourses = 5\n",
    "prerequisites = [[1,4],[1,3], [2,4],[3,1],[3,2]]\n",
    "prerequisites = [[1,4], [2,4],[3,1],[3,2]]\n",
    "\n",
    "res = canFinish(numCourses, prerequisites)\n",
    "print(res)"
   ]
  },
  {
   "cell_type": "markdown",
   "metadata": {},
   "source": [
    "## Method1 - Recap"
   ]
  },
  {
   "cell_type": "code",
   "execution_count": 28,
   "metadata": {},
   "outputs": [
    {
     "name": "stdout",
     "output_type": "stream",
     "text": [
      "True\n"
     ]
    }
   ],
   "source": [
    "def canFinish(numCourses: int, prerequisites):\n",
    "    preMaps = {}\n",
    "    visited = set()\n",
    "\n",
    "    for i in range(numCourses):\n",
    "        preMaps[i] = []\n",
    "\n",
    "    for crs, pre in prerequisites:\n",
    "        preMaps[crs].append(pre)\n",
    "\n",
    "    def dfs(c):\n",
    "        if preMaps[c] == []:  return True\n",
    "        if c in visited: return False\n",
    "        \n",
    "        visited.add(c)\n",
    "        for pre in preMaps[c]:\n",
    "            if not dfs(pre): return False\n",
    "\n",
    "        preMaps[c] = []\n",
    "        return True\n",
    "\n",
    "    for c in range(numCourses):\n",
    "        if not dfs(c): return False\n",
    "    \n",
    "    return True\n",
    "\n",
    "numCourses = 5\n",
    "prerequisites = [[0,1], [0,2], [1,3], [1,4], [3,4]]\n",
    "# numCourses = 4\n",
    "# prerequisites = [[0,1], [2,3]]\n",
    "\n",
    "# numCourses = 3\n",
    "# prerequisites = [[0,1], [1,2], [2,0]]\n",
    "numCourses = 5\n",
    "prerequisites = [[1,4],[1,3], [2,4],[3,1],[3,2]]\n",
    "prerequisites = [[1,4], [2,4],[3,1],[3,2]]\n",
    "\n",
    "res = canFinish(numCourses, prerequisites)\n",
    "print(res)"
   ]
  },
  {
   "cell_type": "markdown",
   "metadata": {},
   "source": [
    "## Recap hashmap \n",
    "\n",
    "Leetcode_0387_First_Unique_Character_in_a_String"
   ]
  },
  {
   "cell_type": "code",
   "execution_count": 4,
   "metadata": {},
   "outputs": [
    {
     "name": "stdout",
     "output_type": "stream",
     "text": [
      "2\n"
     ]
    }
   ],
   "source": [
    "def firstUniqChar(s):\n",
    "    hashmap = {}\n",
    "        \n",
    "    for i in range(len(s)):\n",
    "        hashmap[s[i]] = hashmap.get(s[i], 0) + 1\n",
    "        \n",
    "            \n",
    "    for k, v in hashmap.items():\n",
    "        if v == 1:\n",
    "            #res = s.index(k)\n",
    "            return s.index(k)\n",
    "    \n",
    "    return -1\n",
    "\n",
    "s = 'leetcode'\n",
    "s = \"loveleetcode\"\n",
    "res = firstUniqChar(s)\n",
    "print(res)"
   ]
  }
 ],
 "metadata": {
  "kernelspec": {
   "display_name": "leetcode_env",
   "language": "python",
   "name": "leetcode_env"
  },
  "language_info": {
   "codemirror_mode": {
    "name": "ipython",
    "version": 3
   },
   "file_extension": ".py",
   "mimetype": "text/x-python",
   "name": "python",
   "nbconvert_exporter": "python",
   "pygments_lexer": "ipython3",
   "version": "3.8.6"
  },
  "orig_nbformat": 4,
  "vscode": {
   "interpreter": {
    "hash": "846fd2d9bb562a436898b7cc368204fc2f9d44e5e9b051b4f6e855e721078f23"
   }
  }
 },
 "nbformat": 4,
 "nbformat_minor": 2
}
