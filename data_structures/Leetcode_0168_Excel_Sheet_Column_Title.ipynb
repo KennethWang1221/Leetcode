{
 "cells": [
  {
   "cell_type": "markdown",
   "metadata": {},
   "source": [
    "## Method1 - Math\n",
    "\n",
    "https://www.youtube.com/watch?v=X_vJDpCCuoA"
   ]
  },
  {
   "cell_type": "code",
   "execution_count": 5,
   "metadata": {},
   "outputs": [
    {
     "name": "stdout",
     "output_type": "stream",
     "text": [
      "ZY\n"
     ]
    }
   ],
   "source": [
    "def convertToTitle(columnNumber):\n",
    "    # Time: O(logn) - Log base 26 of n\n",
    "    res = \"\"\n",
    "    ord_A = ord('A')\n",
    "    while columnNumber > 0:\n",
    "        remainder = (columnNumber - 1) % 26\n",
    "        res += chr(ord_A + remainder)\n",
    "        columnNumber = (columnNumber - 1) // 26\n",
    "\n",
    "    return res[::-1] # reverse output\n",
    "print(convertToTitle(columnNumber = 701))"
   ]
  }
 ],
 "metadata": {
  "kernelspec": {
   "display_name": "leetcode_env",
   "language": "python",
   "name": "leetcode_env"
  },
  "language_info": {
   "codemirror_mode": {
    "name": "ipython",
    "version": 3
   },
   "file_extension": ".py",
   "mimetype": "text/x-python",
   "name": "python",
   "nbconvert_exporter": "python",
   "pygments_lexer": "ipython3",
   "version": "3.8.6"
  }
 },
 "nbformat": 4,
 "nbformat_minor": 2
}
