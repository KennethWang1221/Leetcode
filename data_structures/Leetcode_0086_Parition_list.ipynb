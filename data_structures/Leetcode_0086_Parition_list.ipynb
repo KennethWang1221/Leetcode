{
 "cells": [
  {
   "cell_type": "markdown",
   "metadata": {},
   "source": [
    "## Method1 - Use two pointers\n"
   ]
  },
  {
   "cell_type": "code",
   "execution_count": 2,
   "metadata": {},
   "outputs": [
    {
     "name": "stdout",
     "output_type": "stream",
     "text": [
      "1,4,3,2,5,2,\n",
      "Partitioned List:\n",
      "1,2,2,4,3,5,"
     ]
    }
   ],
   "source": [
    "class ListNode:\n",
    "    def __init__(self, x):\n",
    "        self.val = x\n",
    "        self.next = None\n",
    "\n",
    "def make_list(arr):\n",
    "    head_node = None\n",
    "    p_node = None\n",
    "    for a in arr:\n",
    "        new_node = ListNode(a)\n",
    "        if head_node is None:\n",
    "            head_node = new_node\n",
    "            p_node = new_node\n",
    "        else:\n",
    "            p_node.next = new_node\n",
    "            p_node = new_node\n",
    "    return head_node\n",
    "\n",
    "def print_list(head):\n",
    "    while head is not None:\n",
    "        print(head.val, end=',')\n",
    "        head = head.next\n",
    "\n",
    "class Solution:\n",
    "    def partition(self, head, x):\n",
    "        if head is None:\n",
    "            return head\n",
    "        \n",
    "        # Initialize two dummy nodes to start the two lists\n",
    "        left_dummy = ListNode(0)  # For values less than x\n",
    "        right_dummy = ListNode(0)  # For values greater than or equal to x\n",
    "        \n",
    "        left = left_dummy  # Pointer for the left list\n",
    "        right = right_dummy  # Pointer for the right list\n",
    "        \n",
    "        # Iterate through the list and partition it\n",
    "        while head:\n",
    "            if head.val < x:\n",
    "                left.next = head\n",
    "                left = left.next\n",
    "            else:\n",
    "                right.next = head\n",
    "                right = right.next\n",
    "            head = head.next\n",
    "        \n",
    "        # Connect the two partitions\n",
    "        right.next = None  # End the list\n",
    "        left.next = right_dummy.next  # Connect left list to right list\n",
    "        \n",
    "        return left_dummy.next  # Return the start of the new list\n",
    "\n",
    "# Example usage\n",
    "s = Solution()\n",
    "a = [1, 4, 3, 2, 5, 2]\n",
    "head = make_list(a)\n",
    "print_list(head)  # Before partitioning\n",
    "head = s.partition(head, x=3)\n",
    "print(\"\\nPartitioned List:\")\n",
    "print_list(head)  # After partitioning"
   ]
  },
  {
   "cell_type": "markdown",
   "metadata": {},
   "source": [
    "## Method2<br>\n",
    "similar problems: Leetcode 21. Merge Two Sorted Lists, Leetcode_0328_odd_even_linkedlist.ipynb\n",
    "\n",
    "https://www.youtube.com/watch?v=KT1iUciJr4g"
   ]
  },
  {
   "cell_type": "code",
   "execution_count": 4,
   "metadata": {},
   "outputs": [
    {
     "name": "stdout",
     "output_type": "stream",
     "text": [
      "1,4,3,2,5,2,\n",
      "1,2,2,4,3,5,"
     ]
    }
   ],
   "source": [
    "class ListNode:\n",
    "    def __init__(self, x):\n",
    "        self.val = x\n",
    "        self.next = None\n",
    "\n",
    "\n",
    "def make_list(arr):\n",
    "    head_node = None\n",
    "    p_node = None\n",
    "    for a in arr:\n",
    "        new_node = ListNode(a)\n",
    "        if head_node is None:\n",
    "            head_node = new_node\n",
    "            p_node = new_node\n",
    "        else:\n",
    "            p_node.next = new_node\n",
    "            p_node = new_node\n",
    "    return head_node\n",
    "\n",
    "\n",
    "def print_list(head):\n",
    "    while head is not None:\n",
    "        print(head.val, end=',')\n",
    "        head = head.next\n",
    "\n",
    "\n",
    "class Solution:\n",
    "    \n",
    "    def partition(self,head,x):\n",
    "        dummy = ListNode(0)\n",
    "        dummy.next = head\n",
    "        pre = dummy\n",
    "        \n",
    "        if head == None:\n",
    "            return head\n",
    "        \n",
    "        left = ListNode(0)\n",
    "        left_cur = left\n",
    "        \n",
    "        right = ListNode(0)\n",
    "        right_cur = right\n",
    "        \n",
    "        flag = False\n",
    "        while pre.next !=None:\n",
    "            pre = pre.next\n",
    "            \n",
    "            if pre.val <  x:\n",
    "                left_cur.next = ListNode(pre.val)\n",
    "                left_cur = left_cur.next\n",
    "            else:\n",
    "                right_cur.next = ListNode(pre.val)\n",
    "                right_cur = right_cur.next\n",
    "                \n",
    "        left_cur.next = right.next\n",
    "        return left.next\n",
    "\n",
    "\n",
    "s = Solution()\n",
    "a = [1, 4, 3, 2, 5, 2]\n",
    "head = make_list(a)\n",
    "print_list(head)\n",
    "head = s.partition(head, x=3)\n",
    "print()\n",
    "print_list(head)       "
   ]
  }
 ],
 "metadata": {
  "interpreter": {
   "hash": "846fd2d9bb562a436898b7cc368204fc2f9d44e5e9b051b4f6e855e721078f23"
  },
  "kernelspec": {
   "display_name": "leetcode_env",
   "language": "python",
   "name": "leetcode_env"
  },
  "language_info": {
   "codemirror_mode": {
    "name": "ipython",
    "version": 3
   },
   "file_extension": ".py",
   "mimetype": "text/x-python",
   "name": "python",
   "nbconvert_exporter": "python",
   "pygments_lexer": "ipython3",
   "version": "3.8.6"
  },
  "orig_nbformat": 4
 },
 "nbformat": 4,
 "nbformat_minor": 2
}
