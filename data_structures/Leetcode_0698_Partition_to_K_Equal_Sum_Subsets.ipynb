{
 "cells": [
  {
   "cell_type": "markdown",
   "metadata": {},
   "source": [
    "## Method1 - Backtracking\n",
    "https://www.youtube.com/watch?v=mBk4I0X46oI"
   ]
  },
  {
   "cell_type": "code",
   "execution_count": 4,
   "metadata": {},
   "outputs": [
    {
     "name": "stdout",
     "output_type": "stream",
     "text": [
      "True\n"
     ]
    }
   ],
   "source": [
    "def canPartitionKSubsets(nums, k):\n",
    "    n = len(nums)\n",
    "    \n",
    "    if sum(nums) % k != 0:\n",
    "        return False\n",
    "\n",
    "    nums.sort(reverse = True)\n",
    "    target = sum(nums) / k\n",
    "    visited= set()\n",
    "\n",
    "    def backtrack(idx, count, currSum):\n",
    "        if count == k:\n",
    "            return True\n",
    "\n",
    "        if target == currSum:\n",
    "            return backtrack(0, count + 1, 0)\n",
    "\n",
    "        for i in range(idx, n):\n",
    "            # skip duplicates if last same number was skipped\n",
    "            if i > 0 and (i - 1) not in visited and nums[i] == nums[i - 1]:\n",
    "                continue\n",
    "\n",
    "            if i in visited or currSum + nums[i] > target:\n",
    "                continue\n",
    "\n",
    "            visited.add(i)\n",
    "\n",
    "            if backtrack(i + 1, count, currSum + nums[i]):\n",
    "                return True\n",
    "            \n",
    "            visited.remove(i)\n",
    "\n",
    "        return False\n",
    "\n",
    "    return backtrack(0, 0, 0)\n",
    "print(canPartitionKSubsets(nums = [4,3,2,3,5,2,1], k = 4))"
   ]
  },
  {
   "cell_type": "markdown",
   "metadata": {},
   "source": [
    "Time Limit Exceeded"
   ]
  },
  {
   "cell_type": "code",
   "execution_count": 3,
   "metadata": {},
   "outputs": [
    {
     "name": "stdout",
     "output_type": "stream",
     "text": [
      "True\n"
     ]
    }
   ],
   "source": [
    "def canPartitionKSubsets(nums, k):\n",
    "    n = len(nums)\n",
    "    target = sum(nums) / k \n",
    "    used = [False] * n \n",
    "\n",
    "    def backtrack(i, k, subsetSum):\n",
    "        if k == 0: \n",
    "            return True\n",
    "        if subsetSum == target:\n",
    "            return backtrack(0, k - 1, 0)\n",
    "        \n",
    "        for j in range(i, n):\n",
    "            total = subsetSum + nums[j]\n",
    "            if used[j] or total > target:\n",
    "                continue\n",
    "            used[j] = True\n",
    "            if backtrack(j+1, k, total):\n",
    "                return True\n",
    "            used[j] = False\n",
    "        return False\n",
    "    return backtrack(0,k,0)\n",
    "\n",
    "print(canPartitionKSubsets(nums = [4,3,2,3,5,2,1], k = 4))"
   ]
  }
 ],
 "metadata": {
  "kernelspec": {
   "display_name": "leetcode_env",
   "language": "python",
   "name": "leetcode_env"
  },
  "language_info": {
   "codemirror_mode": {
    "name": "ipython",
    "version": 3
   },
   "file_extension": ".py",
   "mimetype": "text/x-python",
   "name": "python",
   "nbconvert_exporter": "python",
   "pygments_lexer": "ipython3",
   "version": "3.8.6"
  }
 },
 "nbformat": 4,
 "nbformat_minor": 2
}
