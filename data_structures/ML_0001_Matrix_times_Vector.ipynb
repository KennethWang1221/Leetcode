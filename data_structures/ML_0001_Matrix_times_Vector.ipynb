{
 "cells": [
  {
   "cell_type": "markdown",
   "metadata": {},
   "source": [
    "## ML - Matrix"
   ]
  },
  {
   "cell_type": "code",
   "execution_count": 26,
   "metadata": {},
   "outputs": [
    {
     "name": "stdout",
     "output_type": "stream",
     "text": [
      "[14, 25, 49]\n"
     ]
    }
   ],
   "source": [
    "def matrix_dot_vector(a, b):\n",
    "    \"\"\"\n",
    "    Multiplies a matrix (2D list) 'a' by a vector (1D list) 'b'.\n",
    "    a: List[List[int]] or List[List[float]] - Matrix of size m x n\n",
    "    b: List[int] or List[float] - Vector of size n\n",
    "    Returns: List[int] or List[float] - Resulting vector of size m\n",
    "    \"\"\"\n",
    "    # Check matrix and vector compatibility\n",
    "    rowa, cola = len(a), len(a[0])\n",
    "    assert len(b) == cola, \"Incompatible dimensions for matrix-vector multiplication.\"\n",
    "    \n",
    "    # Initialize result vector\n",
    "    res = [0] * rowa  # Result will have the same number of rows as 'a'\n",
    "    \n",
    "    # Perform matrix-vector multiplication\n",
    "    for i in range(rowa):\n",
    "        for j in range(cola):\n",
    "            res[i] += a[i][j] * b[j]\n",
    "    \n",
    "    return res\n",
    "\n",
    "# Test cases\n",
    "a = [[1, 2, 3],\n",
    "     [2, 4, 5],\n",
    "     [6, 8, 9]]\n",
    "b = [1, 2, 3]\n",
    "\n",
    "print(matrix_dot_vector(a, b))  # Expected: [14, 25, 41]\n"
   ]
  },
  {
   "cell_type": "markdown",
   "metadata": {},
   "source": [
    "### Error: Not same to ML_0009_Matrix_times_Matrix"
   ]
  },
  {
   "cell_type": "code",
   "execution_count": 25,
   "metadata": {},
   "outputs": [
    {
     "name": "stdout",
     "output_type": "stream",
     "text": [
      "[23, 34, 40]\n"
     ]
    }
   ],
   "source": [
    "def matrix_dot_vector(a, b):\n",
    "    # b:1x2 a: 2x2 -> 1x2\n",
    "    rowa, cola, rowb, colb = len(a), len(a[0]), 1, len(b)\n",
    "    res = [[0 for i in range(rowa)] for i in range(rowb)] \n",
    "    for i in range(rowb):\n",
    "        for j in range(cola):\n",
    "            for k in range(colb):\n",
    "                res[i][j] += b[k] * a[k][j]\n",
    "\n",
    "    return res[0]\n",
    "\n",
    "b = [1,2]\n",
    "\n",
    "a = [[1,2],\n",
    "     [2,4]]\n",
    "\n",
    "a = [[1,2,3],[2,4,5],[6,8,9]]\n",
    "b = [1,2,3]\n",
    "print(matrix_dot_vector(a,b))"
   ]
  }
 ],
 "metadata": {
  "kernelspec": {
   "display_name": "leetcode_env",
   "language": "python",
   "name": "python3"
  },
  "language_info": {
   "codemirror_mode": {
    "name": "ipython",
    "version": 3
   },
   "file_extension": ".py",
   "mimetype": "text/x-python",
   "name": "python",
   "nbconvert_exporter": "python",
   "pygments_lexer": "ipython3",
   "version": "3.8.6"
  }
 },
 "nbformat": 4,
 "nbformat_minor": 2
}
