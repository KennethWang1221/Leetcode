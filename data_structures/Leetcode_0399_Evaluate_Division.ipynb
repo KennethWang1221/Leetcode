{
 "cells": [
  {
   "cell_type": "markdown",
   "metadata": {},
   "source": [
    "## Method1 - Graph - DFS\n",
    "\n",
    "https://www.youtube.com/watch?v=Uei1fwDoyKk"
   ]
  },
  {
   "cell_type": "code",
   "execution_count": 1,
   "metadata": {},
   "outputs": [
    {
     "name": "stdout",
     "output_type": "stream",
     "text": [
      "[6.0, 0.5, -1, 1, -1]\n"
     ]
    }
   ],
   "source": [
    "from collections import defaultdict, deque\n",
    "def calcEquation(equations, values, queries):\n",
    "    adj = defaultdict(list) # Map a -> list of [b, a/b]\n",
    "    for i, eq in enumerate(equations):\n",
    "        a,b = eq\n",
    "        adj[a].append([b, values[i]])\n",
    "        adj[b].append([a, 1 / values[i]])\n",
    "\n",
    "    def bfs(src, target):\n",
    "        if src not in adj or target not in adj:\n",
    "            return -1\n",
    "        q, visit = [], set()\n",
    "        q.append([src,1])\n",
    "        visit.add(src)\n",
    "        while q:\n",
    "            n, w = q.pop(0)\n",
    "            if n == target:\n",
    "                return w\n",
    "            for nei, weight in adj[n]:\n",
    "                \n",
    "                if nei not in visit:\n",
    "                    q.append([nei, w * weight])\n",
    "                    visit.add(nei)\n",
    "        return -1\n",
    "    \n",
    "    return [bfs(q[0], q[1]) for q in queries]\n",
    "\n",
    "equations = [[\"a\",\"b\"],[\"b\",\"c\"]]\n",
    "values = [2.0,3.0]\n",
    "queries = [[\"a\",\"c\"],[\"b\",\"a\"],[\"a\",\"e\"],[\"a\",\"a\"],[\"x\",\"x\"]]\n",
    "res = calcEquation(equations,values,queries)\n",
    "print(res)"
   ]
  },
  {
   "cell_type": "markdown",
   "metadata": {},
   "source": [
    "In Python, trying to append to a list in a dictionary using a key that doesn't exist will result in a KeyError. To fix this, you need to initialize the list for each key before appending to it. You can use the defaultdict from the collections module to automatically initialize the list for each new key. "
   ]
  },
  {
   "cell_type": "markdown",
   "metadata": {},
   "source": [
    "replace defaultdict to normal dict"
   ]
  },
  {
   "cell_type": "code",
   "execution_count": 2,
   "metadata": {},
   "outputs": [
    {
     "name": "stdout",
     "output_type": "stream",
     "text": [
      "[6.0, 0.5, -1, 1, -1]\n"
     ]
    }
   ],
   "source": [
    "def calcEquation(equations, values, queries):\n",
    "    adj = {} # Map a -> list of [b, a/b]\n",
    "    for i, eq in enumerate(equations):\n",
    "        a, b = eq\n",
    "        if a not in adj:\n",
    "            adj[a] = []\n",
    "        if b not in adj:\n",
    "            adj[b] = []\n",
    "        adj[a].append([b, values[i]])\n",
    "        adj[b].append([a, 1 / values[i]])\n",
    "\n",
    "    def bfs(src, target):\n",
    "        if src not in adj or target not in adj:\n",
    "            return -1\n",
    "        q, visit = [], set()\n",
    "        q.append([src,1])\n",
    "        visit.add(src)\n",
    "        while q:\n",
    "            n, w = q.pop(0)\n",
    "            if n == target:\n",
    "                return w\n",
    "            for nei, weight in adj[n]:\n",
    "                \n",
    "                if nei not in visit:\n",
    "                    q.append([nei, w * weight])\n",
    "                    visit.add(nei)\n",
    "        return -1\n",
    "    \n",
    "    return [bfs(q[0], q[1]) for q in queries]\n",
    "\n",
    "equations = [[\"a\",\"b\"],[\"b\",\"c\"]]\n",
    "values = [2.0,3.0]\n",
    "queries = [[\"a\",\"c\"],[\"b\",\"a\"],[\"a\",\"e\"],[\"a\",\"a\"],[\"x\",\"x\"]]\n",
    "res = calcEquation(equations,values,queries)\n",
    "print(res)"
   ]
  }
 ],
 "metadata": {
  "kernelspec": {
   "display_name": "leetcode_env",
   "language": "python",
   "name": "leetcode_env"
  },
  "language_info": {
   "codemirror_mode": {
    "name": "ipython",
    "version": 3
   },
   "file_extension": ".py",
   "mimetype": "text/x-python",
   "name": "python",
   "nbconvert_exporter": "python",
   "pygments_lexer": "ipython3",
   "version": "3.8.6"
  }
 },
 "nbformat": 4,
 "nbformat_minor": 2
}
