{
 "cells": [
  {
   "cell_type": "markdown",
   "metadata": {},
   "source": [
    "## Method1-Recursion\n",
    "https://github.com/youngyangyang04/leetcode-master/blob/master/problems/0101.%E5%AF%B9%E7%A7%B0%E4%BA%8C%E5%8F%89%E6%A0%91.md"
   ]
  },
  {
   "cell_type": "code",
   "execution_count": 20,
   "metadata": {},
   "outputs": [
    {
     "name": "stdout",
     "output_type": "stream",
     "text": [
      "True\n"
     ]
    }
   ],
   "source": [
    "class TreeNode(object):\n",
    "    def __init__(self, x, left= None, right = None, next = None):\n",
    "        if x == None:\n",
    "            self.val = None\n",
    "        else:\n",
    "            self.val = x\n",
    "        self.left = None\n",
    "        self.right = None\n",
    "        self.next = None\n",
    "\n",
    "def isSymmetric(root):\n",
    "    if not root:\n",
    "        return True\n",
    "    return compare(root.left, root.right)\n",
    "    \n",
    "def compare(left, right):\n",
    "    #首先排除空节点的情况\n",
    "    if left == None and right != None: return False\n",
    "    elif left != None and right == None: return False\n",
    "    elif left == None and right == None: return True\n",
    "    #排除了空节点，再排除数值不相同的情况\n",
    "    elif left.val != right.val: return False\n",
    "    \n",
    "    #此时就是：左右节点都不为空，且数值相同的情况\n",
    "    #此时才做递归，做下一层的判断\n",
    "    outside = compare(left.left, right.right) #左子树：左、 右子树：右\n",
    "    inside = compare(left.right, right.left) #左子树：右、 右子树：左\n",
    "    isSame = outside and inside #左子树：中、 右子树：中 （逻辑处理）\n",
    "    return isSame\n",
    "\n",
    "n1 = TreeNode(1)\n",
    "n2 = TreeNode(2)\n",
    "n3 = TreeNode(2)\n",
    "n4 = TreeNode(3)\n",
    "n5 = TreeNode(4)\n",
    "n6 = TreeNode(4)\n",
    "n7 = TreeNode(3)\n",
    "\n",
    "n1.left = n2\n",
    "n1.right = n3\n",
    "n2.left = n4\n",
    "n2.right = n5\n",
    "n3.left = n6\n",
    "n3.right = n7\n",
    "\n",
    "\n",
    "res = isSymmetric(n1)\n",
    "\n",
    "print(res)"
   ]
  },
  {
   "cell_type": "markdown",
   "metadata": {},
   "source": [
    "## Method2-Iterative Using Stack"
   ]
  },
  {
   "cell_type": "code",
   "execution_count": 19,
   "metadata": {},
   "outputs": [
    {
     "name": "stdout",
     "output_type": "stream",
     "text": [
      "True\n"
     ]
    }
   ],
   "source": [
    "class TreeNode(object):\n",
    "    def __init__(self, x, left= None, right = None, next = None):\n",
    "        if x == None:\n",
    "            self.val = None\n",
    "        else:\n",
    "            self.val = x\n",
    "        self.left = None\n",
    "        self.right = None\n",
    "        self.next = None\n",
    "\n",
    "def isSymmetric(root):\n",
    "    if not root:\n",
    "        return True\n",
    "    st = [] #这里改成了栈\n",
    "    st.append(root.left)\n",
    "    st.append(root.right)\n",
    "    while st:\n",
    "        rightNode = st.pop()\n",
    "        leftNode = st.pop()\n",
    "        if not leftNode and not rightNode:\n",
    "            continue\n",
    "        if not leftNode or not rightNode or leftNode.val != rightNode.val:\n",
    "            return False\n",
    "        st.append(leftNode.left)\n",
    "        st.append(rightNode.right)\n",
    "        st.append(leftNode.right)\n",
    "        st.append(rightNode.left)\n",
    "    return True\n",
    "\n",
    "n1 = TreeNode(1)\n",
    "n2 = TreeNode(2)\n",
    "n3 = TreeNode(2)\n",
    "n4 = TreeNode(3)\n",
    "n5 = TreeNode(4)\n",
    "n6 = TreeNode(4)\n",
    "n7 = TreeNode(3)\n",
    "\n",
    "n1.left = n2\n",
    "n1.right = n3\n",
    "n2.left = n4\n",
    "n2.right = n5\n",
    "n3.left = n6\n",
    "n3.right = n7\n",
    "\n",
    "\n",
    "res = isSymmetric(n1)\n",
    "\n",
    "print(res)"
   ]
  },
  {
   "cell_type": "code",
   "execution_count": 33,
   "metadata": {},
   "outputs": [
    {
     "name": "stdout",
     "output_type": "stream",
     "text": [
      "1\n",
      "4\n",
      "3\n"
     ]
    }
   ],
   "source": [
    "a = [1,2,3,4]\n",
    "#print(a[-1], a[0])\n",
    "print(a.pop(0)) \n",
    "print(a.pop()) # print(a.pop(-1))\n",
    "print(a.pop(-1))"
   ]
  },
  {
   "cell_type": "markdown",
   "metadata": {},
   "source": [
    "### Method2-Iterative Using Que\n",
    "Top Interview 0071/150"
   ]
  },
  {
   "cell_type": "code",
   "execution_count": 34,
   "metadata": {},
   "outputs": [
    {
     "name": "stdout",
     "output_type": "stream",
     "text": [
      "True\n"
     ]
    }
   ],
   "source": [
    "class TreeNode(object):\n",
    "    def __init__(self, x, left= None, right = None, next = None):\n",
    "        if x == None:\n",
    "            self.val = None\n",
    "        else:\n",
    "            self.val = x\n",
    "        self.left = None\n",
    "        self.right = None\n",
    "        self.next = None\n",
    "\n",
    "def isSymmetric(root):\n",
    "    if not root:\n",
    "            return True\n",
    "    que = []\n",
    "    que.append(root.left) #将左子树头结点加入队列\n",
    "    que.append(root.right) #将右子树头结点加入队列\n",
    "    while que: #接下来就要判断这这两个树是否相互翻转\n",
    "        leftNode = que.pop(0)\n",
    "        rightNode = que.pop(0)\n",
    "        if not leftNode and not rightNode: #左节点为空、右节点为空，此时说明是对称的\n",
    "            continue\n",
    "        \n",
    "        #左右一个节点不为空，或者都不为空但数值不相同，返回false\n",
    "        if not leftNode or not rightNode or leftNode.val != rightNode.val:\n",
    "            return False\n",
    "        que.append(leftNode.left) #加入左节点左孩子\n",
    "        que.append(rightNode.right) #加入右节点右孩子\n",
    "        que.append(leftNode.right) #加入左节点右孩子\n",
    "        que.append(rightNode.left) #加入右节点左孩子\n",
    "    return True\n",
    "\n",
    "n1 = TreeNode(1)\n",
    "n2 = TreeNode(2)\n",
    "n3 = TreeNode(2)\n",
    "n4 = TreeNode(3)\n",
    "n5 = TreeNode(4)\n",
    "n6 = TreeNode(4)\n",
    "n7 = TreeNode(3)\n",
    "\n",
    "n1.left = n2\n",
    "n1.right = n3\n",
    "n2.left = n4\n",
    "n2.right = n5\n",
    "n3.left = n6\n",
    "n3.right = n7\n",
    "\n",
    "\n",
    "res = isSymmetric(n1)\n",
    "\n",
    "print(res)"
   ]
  },
  {
   "cell_type": "markdown",
   "metadata": {},
   "source": [
    "## Method3-BFS"
   ]
  },
  {
   "cell_type": "code",
   "execution_count": 23,
   "metadata": {},
   "outputs": [
    {
     "name": "stdout",
     "output_type": "stream",
     "text": [
      "True\n"
     ]
    }
   ],
   "source": [
    "class TreeNode(object):\n",
    "    def __init__(self, x, left= None, right = None, next = None):\n",
    "        if x == None:\n",
    "            self.val = None\n",
    "        else:\n",
    "            self.val = x\n",
    "        self.left = None\n",
    "        self.right = None\n",
    "        self.next = None\n",
    "\n",
    "def isSymmetric(root):\n",
    "    if not root:\n",
    "            return True\n",
    "\n",
    "    que = [root]\n",
    "    while que:\n",
    "        this_level_length = len(que)\n",
    "        for i in range(this_level_length // 2):\n",
    "            # 要么其中一个是None但另外一个不是\n",
    "            if (not que[i] and que[this_level_length - 1 - i]) or (que[i] and not que[this_level_length - 1 - i]):\n",
    "                return False\n",
    "            # 要么两个都不是None\n",
    "            if que[i] and que[i].val != que[this_level_length - 1 - i].val:\n",
    "                return False\n",
    "        for i in range(this_level_length):\n",
    "            if not que[i]: continue\n",
    "            que.append(que[i].left)\n",
    "            que.append(que[i].right)\n",
    "        que = que[this_level_length:]\n",
    "    return True\n",
    "\n",
    "n1 = TreeNode(1)\n",
    "n2 = TreeNode(2)\n",
    "n3 = TreeNode(2)\n",
    "n4 = TreeNode(3)\n",
    "n5 = TreeNode(4)\n",
    "n6 = TreeNode(4)\n",
    "n7 = TreeNode(3)\n",
    "\n",
    "n1.left = n2\n",
    "n1.right = n3\n",
    "n2.left = n4\n",
    "n2.right = n5\n",
    "n3.left = n6\n",
    "n3.right = n7\n",
    "\n",
    "\n",
    "res = isSymmetric(n1)\n",
    "\n",
    "print(res)"
   ]
  },
  {
   "cell_type": "code",
   "execution_count": 24,
   "metadata": {},
   "outputs": [
    {
     "name": "stdout",
     "output_type": "stream",
     "text": [
      "False\n"
     ]
    }
   ],
   "source": [
    "n1 = TreeNode(1)\n",
    "n2 = TreeNode(2)\n",
    "n3 = TreeNode(2)\n",
    "#n4 = TreeNode(3)\n",
    "n5 = TreeNode(3)\n",
    "#n6 = TreeNode(4)\n",
    "n7 = TreeNode(3)\n",
    "\n",
    "n1.left = n2\n",
    "n1.right = n3\n",
    "\n",
    "n2.right = n5\n",
    "\n",
    "n3.right = n7\n",
    "\n",
    "\n",
    "res = isSymmetric(n1)\n",
    "\n",
    "print(res)"
   ]
  },
  {
   "cell_type": "markdown",
   "metadata": {},
   "source": [
    "## Wrong version"
   ]
  },
  {
   "cell_type": "code",
   "execution_count": 21,
   "metadata": {},
   "outputs": [
    {
     "name": "stdout",
     "output_type": "stream",
     "text": [
      "True\n"
     ]
    }
   ],
   "source": [
    "class TreeNode(object):\n",
    "    def __init__(self, x, left= None, right = None, next = None):\n",
    "        if x == None:\n",
    "            self.val = None\n",
    "        else:\n",
    "            self.val = x\n",
    "        self.left = None\n",
    "        self.right = None\n",
    "        self.next = None\n",
    "\n",
    "def isSymmetric(root):\n",
    "    res = []\n",
    "    if root == None:\n",
    "        return \n",
    "    \n",
    "    que = [root]\n",
    "    while que:\n",
    "        \n",
    "        level = []\n",
    "        n = len(que)\n",
    "        for i in range(n):\n",
    "            cur = que.pop(0)\n",
    "            level.append(cur.val)\n",
    "            if cur.left:\n",
    "                que.append(cur.left)\n",
    "            if cur.right:\n",
    "                que.append(cur.right)\n",
    "            \n",
    "        if level == level[::-1]:\n",
    "            pass\n",
    "        else:\n",
    "            return False\n",
    "    return True\n",
    "\n",
    "n1 = TreeNode(1)\n",
    "n2 = TreeNode(2)\n",
    "n3 = TreeNode(2)\n",
    "#n4 = TreeNode(3)\n",
    "n5 = TreeNode(3)\n",
    "#n6 = TreeNode(4)\n",
    "n7 = TreeNode(3)\n",
    "\n",
    "n1.left = n2\n",
    "n1.right = n3\n",
    "\n",
    "n2.right = n5\n",
    "\n",
    "n3.right = n7\n",
    "\n",
    "\n",
    "res = isSymmetric(n1)\n",
    "\n",
    "print(res)\n"
   ]
  },
  {
   "cell_type": "code",
   "execution_count": 6,
   "metadata": {},
   "outputs": [
    {
     "name": "stdout",
     "output_type": "stream",
     "text": [
      "\n",
      "    __1__\n",
      "   /     \\\n",
      "  2       2\n",
      " / \\     / \\\n",
      "3   4   4   3\n",
      "\n"
     ]
    }
   ],
   "source": [
    "from binarytree import tree, bst, heap, Node\n",
    "n1 = Node(1)\n",
    "n2 = Node(2)\n",
    "n3 = Node(2)\n",
    "n4 = Node(3)\n",
    "n5 = Node(4)\n",
    "n6 = Node(4)\n",
    "n7 = Node(3)\n",
    "\n",
    "n1.left = n2\n",
    "n1.right = n3\n",
    "n2.left = n4\n",
    "n2.right = n5\n",
    "n3.left = n6\n",
    "n3.right = n7\n",
    "\n",
    "print(n1)"
   ]
  },
  {
   "cell_type": "code",
   "execution_count": 22,
   "metadata": {},
   "outputs": [
    {
     "name": "stdout",
     "output_type": "stream",
     "text": [
      "\n",
      "  __1\n",
      " /   \\\n",
      "2     2\n",
      " \\     \\\n",
      "  3     3\n",
      "\n"
     ]
    }
   ],
   "source": [
    "n1 = Node(1)\n",
    "n2 = Node(2)\n",
    "n3 = Node(2)\n",
    "#n4 = TreeNode(3)\n",
    "n5 = Node(3)\n",
    "#n6 = TreeNode(4)\n",
    "n7 = Node(3)\n",
    "\n",
    "n1.left = n2\n",
    "n1.right = n3\n",
    "\n",
    "n2.right = n5\n",
    "\n",
    "n3.right = n7\n",
    "print(n1)"
   ]
  }
 ],
 "metadata": {
  "kernelspec": {
   "display_name": "Python 3.8.6 64-bit ('leetcode_env')",
   "language": "python",
   "name": "python3"
  },
  "language_info": {
   "codemirror_mode": {
    "name": "ipython",
    "version": 3
   },
   "file_extension": ".py",
   "mimetype": "text/x-python",
   "name": "python",
   "nbconvert_exporter": "python",
   "pygments_lexer": "ipython3",
   "version": "3.8.6"
  },
  "orig_nbformat": 4,
  "vscode": {
   "interpreter": {
    "hash": "846fd2d9bb562a436898b7cc368204fc2f9d44e5e9b051b4f6e855e721078f23"
   }
  }
 },
 "nbformat": 4,
 "nbformat_minor": 2
}
