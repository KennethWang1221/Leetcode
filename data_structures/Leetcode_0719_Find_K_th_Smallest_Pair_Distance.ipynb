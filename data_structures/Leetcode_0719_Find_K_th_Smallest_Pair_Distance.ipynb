{
 "cells": [
  {
   "cell_type": "markdown",
   "metadata": {},
   "source": [
    "## Method1 - Array\n",
    "\n",
    "https://www.youtube.com/watch?v=bQ-QcFKwsZc"
   ]
  },
  {
   "cell_type": "code",
   "execution_count": 3,
   "metadata": {},
   "outputs": [
    {
     "name": "stdout",
     "output_type": "stream",
     "text": [
      "0\n"
     ]
    }
   ],
   "source": [
    "def smallestDistancePair(nums, k):\n",
    "    nums.sort()\n",
    "\n",
    "    def countPairs(mid):\n",
    "        count = 0\n",
    "        start = 0\n",
    "        for i in range(len(nums)):\n",
    "            while nums[i] - nums[start] > mid:\n",
    "                start += 1\n",
    "            count += (i - start)\n",
    "        return count\n",
    "\n",
    "    low, high = 0, nums[-1] - nums[0]\n",
    "    while low < high:\n",
    "        mid = (low + high) // 2\n",
    "        if countPairs(mid) >= k:\n",
    "            high = mid\n",
    "        else:\n",
    "            low = mid + 1\n",
    "    return low\n",
    "print(smallestDistancePair(nums = [1,3,1], k = 1))\n"
   ]
  }
 ],
 "metadata": {
  "kernelspec": {
   "display_name": "leetcode_env",
   "language": "python",
   "name": "leetcode_env"
  },
  "language_info": {
   "codemirror_mode": {
    "name": "ipython",
    "version": 3
   },
   "file_extension": ".py",
   "mimetype": "text/x-python",
   "name": "python",
   "nbconvert_exporter": "python",
   "pygments_lexer": "ipython3",
   "version": "3.8.6"
  }
 },
 "nbformat": 4,
 "nbformat_minor": 2
}
