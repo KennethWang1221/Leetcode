{
 "cells": [
  {
   "cell_type": "markdown",
   "metadata": {},
   "source": [
    "## Method1 \n",
    "https://leetcode.com/problems/binary-search-tree-iterator/solutions/3212805/173-solution-with-step-by-step-explanation/?envType=study-plan-v2&envId=top-interview-150\n",
    "\n",
    "Need investigate"
   ]
  },
  {
   "cell_type": "code",
   "execution_count": 1,
   "metadata": {},
   "outputs": [
    {
     "name": "stdout",
     "output_type": "stream",
     "text": [
      "BSTIterator Output:\n",
      "3 7 9 15 20 \n"
     ]
    }
   ],
   "source": [
    "from collections import deque\n",
    "\n",
    "# Definition for a binary tree node.\n",
    "class TreeNode:\n",
    "    def __init__(self, val=0, left=None, right=None):\n",
    "        self.val = val\n",
    "        self.left = left\n",
    "        self.right = right\n",
    "\n",
    "class BSTIterator:\n",
    "    def __init__(self, root: TreeNode):\n",
    "        self.stack = []\n",
    "        self.push_all_left(root)\n",
    "\n",
    "    def hasNext(self) -> bool:\n",
    "        return len(self.stack) > 0\n",
    "\n",
    "    def next(self) -> int:\n",
    "        node = self.stack.pop()\n",
    "        if node.right:\n",
    "            self.push_all_left(node.right)\n",
    "        return node.val\n",
    "\n",
    "    def push_all_left(self, node):\n",
    "        while node:\n",
    "            self.stack.append(node)\n",
    "            node = node.left\n",
    "\n",
    "# Helper function to build a sample BST\n",
    "def build_sample_tree():\n",
    "    \"\"\"\n",
    "         7\n",
    "        / \\\n",
    "       3   15\n",
    "          / \\\n",
    "         9   20\n",
    "    \"\"\"\n",
    "    root = TreeNode(7)\n",
    "    root.left = TreeNode(3)\n",
    "    root.right = TreeNode(15)\n",
    "    root.right.left = TreeNode(9)\n",
    "    root.right.right = TreeNode(20)\n",
    "    return root\n",
    "\n",
    "# Main test\n",
    "if __name__ == \"__main__\":\n",
    "    root = build_sample_tree()\n",
    "    iterator = BSTIterator(root)\n",
    "\n",
    "    print(\"BSTIterator Output:\")\n",
    "    while iterator.hasNext():\n",
    "        print(iterator.next(), end=\" \")\n",
    "    print()"
   ]
  }
 ],
 "metadata": {
  "kernelspec": {
   "display_name": "leetcode_env",
   "language": "python",
   "name": "python3"
  },
  "language_info": {
   "codemirror_mode": {
    "name": "ipython",
    "version": 3
   },
   "file_extension": ".py",
   "mimetype": "text/x-python",
   "name": "python",
   "nbconvert_exporter": "python",
   "pygments_lexer": "ipython3",
   "version": "3.8.6"
  }
 },
 "nbformat": 4,
 "nbformat_minor": 2
}
