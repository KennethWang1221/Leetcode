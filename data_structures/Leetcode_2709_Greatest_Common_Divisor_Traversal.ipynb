{
 "cells": [
  {
   "cell_type": "markdown",
   "metadata": {},
   "source": [
    "## Method1 - UnionFind\n",
    "\n",
    "https://www.youtube.com/watch?v=jZ-RVp5CVYY"
   ]
  },
  {
   "cell_type": "code",
   "execution_count": 4,
   "metadata": {},
   "outputs": [
    {
     "name": "stdout",
     "output_type": "stream",
     "text": [
      "Test Case 1 ([2,3,6]): True\n",
      "Test Case 2 ([5,2,3,8,10]): False\n",
      "Test Case 3 ([6,6,6,6]): True\n",
      "Test Case 4 ([1,1]): False\n"
     ]
    }
   ],
   "source": [
    "class UnionFind:\n",
    "    def __init__(self, n):\n",
    "        self.par = [i for i in range(n)]\n",
    "        self.size = [1] * n\n",
    "        self.count = n\n",
    "\n",
    "    def find(self, x):\n",
    "        if self.par[x] != x:\n",
    "            self.par[x] = self.find(self.par[x])\n",
    "        return self.par[x]\n",
    "\n",
    "    def union(self, x, y):\n",
    "        px, py = self.find(x), self.find(y)\n",
    "        if px == py:\n",
    "            return\n",
    "        if self.size[px] < self.size[py]:\n",
    "            self.par[px] = py\n",
    "            self.size[py] += self.size[px]\n",
    "        else:\n",
    "            self.par[py] = px\n",
    "            self.size[px] += self.size[py]\n",
    "        self.count -=1\n",
    "\n",
    "class Solution:\n",
    "    def canTraverseAllPairs(self, nums):\n",
    "        uf = UnionFind(len(nums))\n",
    "\n",
    "        factor_index = {}\n",
    "        for i, n in enumerate(nums):\n",
    "            f = 2\n",
    "            while f * f <= n:\n",
    "                if n % f == 0:\n",
    "                    if f in factor_index:\n",
    "                        uf.union(i, factor_index[f])\n",
    "                    else:\n",
    "                        factor_index[f] = i\n",
    "                    while n % f == 0:\n",
    "                        n = n // f\n",
    "                f += 1\n",
    "            if n > 1:\n",
    "                if n in factor_index:\n",
    "                    uf.union(i, factor_index[n])\n",
    "                else:\n",
    "                    factor_index[n] = i\n",
    "        return uf.count == 1\n",
    "s = Solution()\n",
    "print(\"Test Case 1 ([2,3,6]):\", s.canTraverseAllPairs([2,3,6]))  # True\n",
    "print(\"Test Case 2 ([5,2,3,8,10]):\", s.canTraverseAllPairs([5,2,3,8,10]))  # False\n",
    "print(\"Test Case 3 ([6,6,6,6]):\", s.canTraverseAllPairs([6,6,6,6]))  # True\n",
    "print(\"Test Case 4 ([1,1]):\", s.canTraverseAllPairs([1,1]))\n"
   ]
  },
  {
   "cell_type": "markdown",
   "metadata": {},
   "source": [
    "## Method1 - UnionFind\n",
    "\n",
    "https://leetcode.com/problems/greatest-common-divisor-traversal/solutions/3573061/c-java-python-slides-explanation-bfs-dfs-union-find-connected-graph/\n"
   ]
  },
  {
   "cell_type": "code",
   "execution_count": 3,
   "metadata": {},
   "outputs": [
    {
     "name": "stdout",
     "output_type": "stream",
     "text": [
      "Test Case 1 ([2,3,6]): True\n",
      "Test Case 2 ([5,2,3,8,10]): False\n",
      "Test Case 3 ([6,6,6,6]): True\n",
      "Test Case 4 ([1,1]): False\n"
     ]
    }
   ],
   "source": [
    "from collections import defaultdict\n",
    "import math\n",
    "from functools import reduce\n",
    "\n",
    "class Graph:\n",
    "    def __init__(self, n: int):\n",
    "        self.n = n\n",
    "        self.parent = [i for i in range(n)]\n",
    "        self.compSize = [1 for i in range(n)]\n",
    "    \n",
    "    def getParent(self, x: int) -> int:\n",
    "        if self.parent[x] == x:\n",
    "            return x\n",
    "        self.parent[x] = self.getParent(self.parent[x])\n",
    "        return self.parent[x]\n",
    "    \n",
    "    def unionSet(self, x: int, y: int):\n",
    "        parx, pary = self.getParent(x), self.getParent(y)\n",
    "        if parx != pary:\n",
    "            if self.compSize[parx] < self.compSize[pary]:\n",
    "                parx, pary = pary, parx\n",
    "            self.parent[pary] = parx\n",
    "            self.compSize[parx] += self.compSize[pary]\n",
    "    \n",
    "    def addEdge(self, x: int, y: int):\n",
    "        self.unionSet(x, y)\n",
    "    \n",
    "    def isConnected(self) -> bool:\n",
    "        return self.compSize[self.getParent(0)] == self.n\n",
    "\n",
    "\n",
    "class Solution:\n",
    "    def getPrimeFactors(self, x: int):\n",
    "        for i in range(2, int(math.sqrt(x)) + 1):\n",
    "            if x % i == 0:\n",
    "                while x % i == 0:\n",
    "                    x //= i\n",
    "                yield i\n",
    "        if x != 1:\n",
    "            yield x\n",
    "    \n",
    "    def canTraverseAllPairs(self, nums):\n",
    "        n = len(nums)\n",
    "        if n == 1:\n",
    "            return True\n",
    "        g = Graph(n)\n",
    "        seen = {}\n",
    "        for i in range(n):\n",
    "            if nums[i] == 1:\n",
    "                return False\n",
    "            for prime in self.getPrimeFactors(nums[i]):\n",
    "                if prime in seen:\n",
    "                    g.addEdge(i, seen[prime])\n",
    "                else:\n",
    "                    seen[prime] = i\n",
    "        return g.isConnected()\n",
    "    \n",
    "s = Solution()\n",
    "print(\"Test Case 1 ([2,3,6]):\", s.canTraverseAllPairs([2,3,6]))  # True\n",
    "print(\"Test Case 2 ([5,2,3,8,10]):\", s.canTraverseAllPairs([5,2,3,8,10]))  # False\n",
    "print(\"Test Case 3 ([6,6,6,6]):\", s.canTraverseAllPairs([6,6,6,6]))  # True\n",
    "print(\"Test Case 4 ([1,1]):\", s.canTraverseAllPairs([1,1]))"
   ]
  }
 ],
 "metadata": {
  "kernelspec": {
   "display_name": "leetcode_env",
   "language": "python",
   "name": "python3"
  },
  "language_info": {
   "codemirror_mode": {
    "name": "ipython",
    "version": 3
   },
   "file_extension": ".py",
   "mimetype": "text/x-python",
   "name": "python",
   "nbconvert_exporter": "python",
   "pygments_lexer": "ipython3",
   "version": "3.8.6"
  }
 },
 "nbformat": 4,
 "nbformat_minor": 2
}
