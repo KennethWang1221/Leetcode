{
 "cells": [
  {
   "cell_type": "markdown",
   "metadata": {},
   "source": [
    "## Method1 - Binary Search\n",
    "\n",
    "https://www.youtube.com/watch?v=ER_oLmdc-nw"
   ]
  },
  {
   "cell_type": "code",
   "execution_count": 1,
   "metadata": {},
   "outputs": [
    {
     "name": "stdout",
     "output_type": "stream",
     "text": [
      "15\n"
     ]
    }
   ],
   "source": [
    "def shipWithinDays(weights, days):\n",
    "    l, r = max(weights), sum(weights)\n",
    "    min_cap = r\n",
    "\n",
    "    def canShip(cap):\n",
    "        ships, curCap = 1, cap\n",
    "        for w in weights:\n",
    "            if curCap - w < 0:\n",
    "                ships += 1\n",
    "                curCap = cap\n",
    "            curCap -= w\n",
    "        return ships <= days\n",
    "\n",
    "    while l <= r:\n",
    "        cap = (l + r) // 2\n",
    "        if canShip(cap):\n",
    "            min_cap = min(min_cap, cap)\n",
    "            r = cap - 1\n",
    "        else:\n",
    "            l = cap + 1\n",
    "\n",
    "    return min_cap\n",
    "print(shipWithinDays(weights = [1,2,3,4,5,6,7,8,9,10], days = 5))"
   ]
  }
 ],
 "metadata": {
  "kernelspec": {
   "display_name": "leetcode_env",
   "language": "python",
   "name": "python3"
  },
  "language_info": {
   "codemirror_mode": {
    "name": "ipython",
    "version": 3
   },
   "file_extension": ".py",
   "mimetype": "text/x-python",
   "name": "python",
   "nbconvert_exporter": "python",
   "pygments_lexer": "ipython3",
   "version": "3.8.6"
  }
 },
 "nbformat": 4,
 "nbformat_minor": 2
}
