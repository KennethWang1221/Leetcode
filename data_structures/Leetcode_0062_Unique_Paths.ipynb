{
 "cells": [
  {
   "cell_type": "markdown",
   "metadata": {},
   "source": [
    "## Method1 - DIY - 2D Bottom-UP DP\n",
    "https://github.com/youngyangyang04/leetcode-master/blob/master/problems/0062.%E4%B8%8D%E5%90%8C%E8%B7%AF%E5%BE%84.md\n",
    "\n"
   ]
  },
  {
   "cell_type": "code",
   "execution_count": 21,
   "metadata": {},
   "outputs": [
    {
     "name": "stdout",
     "output_type": "stream",
     "text": [
      "28\n"
     ]
    }
   ],
   "source": [
    "def uniquePaths(m, n):\n",
    "    dp = [([0]) * (n+1) for i in range(m+1)]\n",
    "    dp[m-1][n-1] = 1\n",
    "    for i in range(m-1,-1,-1):\n",
    "        for j in range(n-1,-1,-1):\n",
    "            dp[i][j] = dp[i][j] + dp[i+1][j] + dp[i][j+1]\n",
    "    return dp[0][0]\n",
    "\n",
    "m = 3\n",
    "n = 7\n",
    "print(uniquePaths(m,n))"
   ]
  },
  {
   "cell_type": "markdown",
   "metadata": {},
   "source": [
    "## Method2 - 1D Bottom-UP DP\n",
    "https://www.youtube.com/watch?v=IlEsdxuD4lY"
   ]
  },
  {
   "cell_type": "code",
   "execution_count": 14,
   "metadata": {},
   "outputs": [
    {
     "name": "stdout",
     "output_type": "stream",
     "text": [
      "28\n"
     ]
    }
   ],
   "source": [
    "def uniquePaths(m, n):\n",
    "    row = [1] * n\n",
    "\n",
    "    for i in range(m - 1):\n",
    "        newRow = [1] * n\n",
    "        for j in range(n - 2, -1, -1):\n",
    "            newRow[j] = newRow[j + 1] + row[j]\n",
    "        row = newRow\n",
    "    return row[0]\n",
    "\n",
    "    # O(n * m) O(n)\n",
    "\n",
    "m = 3\n",
    "n = 7\n",
    "print(uniquePaths(m,n))"
   ]
  },
  {
   "cell_type": "markdown",
   "metadata": {},
   "source": [
    "## Leetcode_0063_Unique_PathsII"
   ]
  },
  {
   "cell_type": "code",
   "execution_count": 19,
   "metadata": {},
   "outputs": [
    {
     "name": "stdout",
     "output_type": "stream",
     "text": [
      "2\n"
     ]
    }
   ],
   "source": [
    "def test(obstacleGrid):\n",
    "    rows, cols = len(obstacleGrid), len(obstacleGrid[0])\n",
    "    dp = [[0]*(cols+1) for i in range(rows+1)]\n",
    "    dp[rows-1][cols-1] = 1\n",
    "    for i in range(rows-1,-1,-1):\n",
    "        for j in range(cols-1,-1,-1):\n",
    "            if obstacleGrid[i][j] == 1:\n",
    "                dp[i][j] = 0\n",
    "            else:\n",
    "                dp[i][j] = dp[i][j] + dp[i+1][j] + dp[i][j+1]\n",
    "    \n",
    "    return dp[0][0]\n",
    "\n",
    "obstacleGrid = [[0,0,0],[0,1,0],[0,0,0]]\n",
    "print(test(obstacleGrid))"
   ]
  }
 ],
 "metadata": {
  "kernelspec": {
   "display_name": "test_env",
   "language": "python",
   "name": "test_env"
  },
  "language_info": {
   "codemirror_mode": {
    "name": "ipython",
    "version": 3
   },
   "file_extension": ".py",
   "mimetype": "text/x-python",
   "name": "python",
   "nbconvert_exporter": "python",
   "pygments_lexer": "ipython3",
   "version": "3.8.6"
  }
 },
 "nbformat": 4,
 "nbformat_minor": 2
}
