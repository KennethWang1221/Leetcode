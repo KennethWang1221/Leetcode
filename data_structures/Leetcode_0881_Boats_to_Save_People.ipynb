{
 "cells": [
  {
   "cell_type": "markdown",
   "metadata": {},
   "source": [
    "## Method1 - Two Pointers\n",
    "\n",
    "https://www.youtube.com/watch?v=XbaxWuHIWUs"
   ]
  },
  {
   "cell_type": "code",
   "execution_count": 1,
   "metadata": {},
   "outputs": [
    {
     "name": "stdout",
     "output_type": "stream",
     "text": [
      "4\n"
     ]
    }
   ],
   "source": [
    "def numRescueBoats(people, limit):\n",
    "    people.sort()\n",
    "    right = len(people) - 1\n",
    "    left = res = 0\n",
    "    while left <= right:\n",
    "        if people[left] + people[right] <= limit:\n",
    "            left += 1\n",
    "        right -= 1\n",
    "        res += 1\n",
    "    return res\n",
    "print(numRescueBoats(people=[3,5,3,4], limit=5))"
   ]
  },
  {
   "cell_type": "markdown",
   "metadata": {},
   "source": [
    "## Method1 - Recap"
   ]
  },
  {
   "cell_type": "code",
   "execution_count": 2,
   "metadata": {},
   "outputs": [
    {
     "name": "stdout",
     "output_type": "stream",
     "text": [
      "4\n"
     ]
    }
   ],
   "source": [
    "def numRescueBoats(people, limit):\n",
    "    n = len(people)\n",
    "    l,r = 0, n -1\n",
    "    res = 0\n",
    "    people.sort()\n",
    "\n",
    "    while l <= r:\n",
    "        total = people[l] + people[r]\n",
    "        if total < limit:\n",
    "            res+=1\n",
    "            l += 1\n",
    "            r -= 1\n",
    "        elif total > limit:\n",
    "            res+=1\n",
    "            r -= 1\n",
    "        else:\n",
    "            res += 1\n",
    "            l += 1\n",
    "            r -= 1\n",
    "\n",
    "    return res\n",
    "print(numRescueBoats(people=[3,5,3,4], limit=5))"
   ]
  }
 ],
 "metadata": {
  "kernelspec": {
   "display_name": "leetcode_env",
   "language": "python",
   "name": "python3"
  },
  "language_info": {
   "codemirror_mode": {
    "name": "ipython",
    "version": 3
   },
   "file_extension": ".py",
   "mimetype": "text/x-python",
   "name": "python",
   "nbconvert_exporter": "python",
   "pygments_lexer": "ipython3",
   "version": "3.8.6"
  }
 },
 "nbformat": 4,
 "nbformat_minor": 2
}
