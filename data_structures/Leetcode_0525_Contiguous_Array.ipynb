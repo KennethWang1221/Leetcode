{
 "cells": [
  {
   "cell_type": "markdown",
   "metadata": {},
   "source": [
    "## Method1 - HashSet\n",
    "\n",
    "https://www.youtube.com/watch?v=agB1LyObUNE"
   ]
  },
  {
   "cell_type": "code",
   "execution_count": 1,
   "metadata": {},
   "outputs": [
    {
     "name": "stdout",
     "output_type": "stream",
     "text": [
      "4\n"
     ]
    }
   ],
   "source": [
    "def findMaxLength(nums):\n",
    "    one, zero = 0, 0\n",
    "    diff_index = {}\n",
    "    size = len(nums)\n",
    "    res = 0\n",
    "    for i, n in enumerate(nums):\n",
    "        if n == 0:\n",
    "            zero += 1\n",
    "        elif n == 1:\n",
    "            one += 1\n",
    "        \n",
    "        minus = one - zero\n",
    "        add = one + zero\n",
    "\n",
    "        if minus not in diff_index:\n",
    "            diff_index[minus] = i\n",
    "        \n",
    "        if one == zero:\n",
    "            res = add\n",
    "        else:\n",
    "            index = diff_index[minus]\n",
    "            remain = i - index\n",
    "            res = max(res, remain)\n",
    "    return res\n",
    "print(findMaxLength(nums = [0,1,0,1]))"
   ]
  }
 ],
 "metadata": {
  "kernelspec": {
   "display_name": "leetcode_env",
   "language": "python",
   "name": "python3"
  },
  "language_info": {
   "codemirror_mode": {
    "name": "ipython",
    "version": 3
   },
   "file_extension": ".py",
   "mimetype": "text/x-python",
   "name": "python",
   "nbconvert_exporter": "python",
   "pygments_lexer": "ipython3",
   "version": "3.8.6"
  }
 },
 "nbformat": 4,
 "nbformat_minor": 2
}
