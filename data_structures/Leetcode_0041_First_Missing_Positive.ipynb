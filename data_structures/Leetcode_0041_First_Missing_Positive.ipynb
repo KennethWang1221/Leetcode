{
 "cells": [
  {
   "cell_type": "markdown",
   "metadata": {},
   "source": [
    "## Method1 - Array\n",
    "\n",
    "https://www.youtube.com/watch?v=8g78yfzMlao"
   ]
  },
  {
   "cell_type": "code",
   "execution_count": 1,
   "metadata": {},
   "outputs": [
    {
     "name": "stdout",
     "output_type": "stream",
     "text": [
      "2\n"
     ]
    }
   ],
   "source": [
    "def firstMissingPositive(nums):\n",
    "    A = nums\n",
    "    for i in range(len(A)):\n",
    "        if A[i] < 0:\n",
    "            A[i] = 0\n",
    "        \n",
    "    for i in range(len(A)):\n",
    "        val = abs(A[i])\n",
    "        if 1 <= val <= len(A):\n",
    "            if A[val - 1] > 0:\n",
    "                A[val - 1] *= -1\n",
    "            elif A[val - 1] == 0:\n",
    "                A[val - 1] = -1 * (len(A) + 1)\n",
    "    \n",
    "    for i in range( 1, len(A)+ 1):\n",
    "        if A[i -1] >= 0:\n",
    "            return i\n",
    "    \n",
    "    return len(A) + 1\n",
    "    \n",
    "print(firstMissingPositive(nums = [3,4,-1,1]))\n"
   ]
  },
  {
   "cell_type": "code",
   "execution_count": 3,
   "metadata": {},
   "outputs": [
    {
     "name": "stdout",
     "output_type": "stream",
     "text": [
      "3\n"
     ]
    }
   ],
   "source": [
    "def firstMissingPositive(nums):\n",
    "    new = set(nums)\n",
    "    i = 1\n",
    "    while i in new:\n",
    "        i += 1\n",
    "    return i\n",
    "print(firstMissingPositive(nums = [1,2,0]))"
   ]
  }
 ],
 "metadata": {
  "kernelspec": {
   "display_name": "leetcode_env",
   "language": "python",
   "name": "python3"
  },
  "language_info": {
   "codemirror_mode": {
    "name": "ipython",
    "version": 3
   },
   "file_extension": ".py",
   "mimetype": "text/x-python",
   "name": "python",
   "nbconvert_exporter": "python",
   "pygments_lexer": "ipython3",
   "version": "3.8.6"
  }
 },
 "nbformat": 4,
 "nbformat_minor": 2
}
