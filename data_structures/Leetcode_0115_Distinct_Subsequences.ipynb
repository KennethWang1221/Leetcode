{
 "cells": [
  {
   "cell_type": "markdown",
   "metadata": {},
   "source": [
    "## Method1 - 2D Bottom-UP DP\n",
    "\n",
    "https://github.com/youngyangyang04/leetcode-master/blob/master/problems/0115.%E4%B8%8D%E5%90%8C%E7%9A%84%E5%AD%90%E5%BA%8F%E5%88%97.md"
   ]
  },
  {
   "cell_type": "code",
   "execution_count": 2,
   "metadata": {},
   "outputs": [
    {
     "name": "stdout",
     "output_type": "stream",
     "text": [
      "3\n"
     ]
    }
   ],
   "source": [
    "def numDistinct(s,t):\n",
    "    n1 = len(s)\n",
    "    n2 = len(t)\n",
    "    dp = [[0] * (n2+1) for i in range(n1+1)]\n",
    "\n",
    "    for i in range(n2+1):\n",
    "        dp[n1][i] = 0\n",
    "\n",
    "    for i in range(n1+1):\n",
    "        dp[i][n2] = 1\n",
    "\n",
    "    for i in range(n1-1,-1,-1):\n",
    "        for j in range(n2-1,-1,-1):\n",
    "            if s[i] == t[j]:\n",
    "                dp[i][j] = dp[i+1][j+1] + dp[i+1][j]\n",
    "            else:\n",
    "                dp[i][j] = dp[i+1][j]\n",
    "\n",
    "    return dp[0][0]\n",
    "\n",
    "s = \"rabbbit\"\n",
    "t = \"rabbit\"\n",
    "res = numDistinct(s,t)\n",
    "print(res)"
   ]
  },
  {
   "cell_type": "markdown",
   "metadata": {},
   "source": [
    "## Method2 - Recursive\n",
    "\n",
    "https://www.youtube.com/watch?v=-RDzMJ33nx8"
   ]
  },
  {
   "cell_type": "code",
   "execution_count": 4,
   "metadata": {},
   "outputs": [
    {
     "name": "stdout",
     "output_type": "stream",
     "text": [
      "3\n"
     ]
    }
   ],
   "source": [
    "def numDistinct(s,t):\n",
    "    cache = {}\n",
    "\n",
    "    def dfs(i, j):\n",
    "        if j == len(t): return 1\n",
    "        if i == len(s): return 0\n",
    "\n",
    "        if (i, j) in cache: \n",
    "            return cache[(i,j)]\n",
    "        \n",
    "        if s[i] == t[j]:\n",
    "            cache[(i, j)] = dfs(i+1, j+1) + dfs(i+1, j)\n",
    "        else:\n",
    "            cache[(i, j)] = dfs(i+1, j)\n",
    "\n",
    "        return cache[(i,j)]\n",
    "    \n",
    "    return dfs(0,0)\n",
    "\n",
    "s = \"rabbbit\"\n",
    "t = \"rabbit\"\n",
    "res = numDistinct(s,t)\n",
    "print(res)"
   ]
  }
 ],
 "metadata": {
  "kernelspec": {
   "display_name": "test_env",
   "language": "python",
   "name": "python3"
  },
  "language_info": {
   "codemirror_mode": {
    "name": "ipython",
    "version": 3
   },
   "file_extension": ".py",
   "mimetype": "text/x-python",
   "name": "python",
   "nbconvert_exporter": "python",
   "pygments_lexer": "ipython3",
   "version": "3.8.10"
  }
 },
 "nbformat": 4,
 "nbformat_minor": 2
}
