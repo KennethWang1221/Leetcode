{
 "cells": [
  {
   "cell_type": "markdown",
   "metadata": {},
   "source": [
    "## Method1 - 2D Bottom-UP DP\n",
    "\n",
    "source string: row\n",
    "\n",
    "target string: col\n",
    "\n",
    "https://github.com/youngyangyang04/leetcode-master/blob/master/problems/0115.%E4%B8%8D%E5%90%8C%E7%9A%84%E5%AD%90%E5%BA%8F%E5%88%97.md"
   ]
  },
  {
   "cell_type": "code",
   "execution_count": 17,
   "metadata": {},
   "outputs": [
    {
     "name": "stdout",
     "output_type": "stream",
     "text": [
      "3\n"
     ]
    }
   ],
   "source": [
    "def numDistinct(s,t):\n",
    "    s_n = len(s)\n",
    "    t_n = len(t)\n",
    "    dp = [[0] * (t_n+1) for i in range(s_n+1)]\n",
    "\n",
    "    for i in range(t_n+1):\n",
    "        dp[s_n][i] = 0\n",
    "\n",
    "    for i in range(s_n+1):\n",
    "        dp[i][t_n] = 1\n",
    "\n",
    "    for i in range(s_n-1,-1,-1):\n",
    "        for j in range(t_n-1,-1,-1):\n",
    "            if s[i] == t[j]:\n",
    "                dp[i][j] = dp[i+1][j+1] + dp[i+1][j]\n",
    "            else:\n",
    "                dp[i][j] = dp[i+1][j]\n",
    "\n",
    "    return dp[0][0]\n",
    "\n",
    "s = \"rabbbit\"\n",
    "t = \"rabbit\"\n",
    "res = numDistinct(s,t)\n",
    "print(res)"
   ]
  },
  {
   "cell_type": "markdown",
   "metadata": {},
   "source": [
    "## Method2 - 2D Bottom-UP DP - Recap\n",
    "\n",
    "In this case, s = 'rabbbit' actualy is target, and t = 'rabbit' is source\n",
    "\n",
    "s string: col\n",
    "\n",
    "t string: row\n",
    "\n",
    "Same idea to Leetcode_0392_Is_Subsequence.ipynb , Method2\n",
    "\n",
    "https://github.com/youngyangyang04/leetcode-master/blob/master/problems/0115.%E4%B8%8D%E5%90%8C%E7%9A%84%E5%AD%90%E5%BA%8F%E5%88%97.md"
   ]
  },
  {
   "cell_type": "code",
   "execution_count": 16,
   "metadata": {},
   "outputs": [
    {
     "name": "stdout",
     "output_type": "stream",
     "text": [
      "3\n"
     ]
    }
   ],
   "source": [
    "def numDistinct(s,t):\n",
    "    s_n = len(s)\n",
    "    t_n = len(t)\n",
    "\n",
    "    dp = [[0] * (s_n+1) for i in range(t_n+1)]\n",
    "    for i in range(s_n+1):\n",
    "        dp[-1][i] = 1 \n",
    "    \n",
    "    for i in range(t_n-1,-1,-1):\n",
    "        for j in range(s_n-1,-1,-1):\n",
    "            if t[i] == s[j]:\n",
    "                dp[i][j] = dp[i+1][j+1] + dp[i][j+1]\n",
    "            else:\n",
    "                dp[i][j] = dp[i][j+1]\n",
    "\n",
    "\n",
    "    return dp[0][0]\n",
    "\n",
    "s = \"rabbbit\"\n",
    "t = \"rabbit\"\n",
    "res = numDistinct(s,t)\n",
    "print(res)"
   ]
  },
  {
   "cell_type": "markdown",
   "metadata": {},
   "source": [
    "Explain why dp init ways are different between 1143 and 0115.\n",
    "\n",
    "The reason for initializing the `dp` table in the `numDistinct` function is as follows:\n",
    "\n",
    "### Problem Definition\n",
    "The `numDistinct` function calculates the number of distinct subsequences of `s` that equal `t`.\n",
    "\n",
    "### DP Table Meaning\n",
    "`dp[i][j]` represents the number of distinct subsequences of `s[i:]` that equal `t[j:]`.\n",
    "\n",
    "### Initialization\n",
    "1. **Last Column (j = n2):**\n",
    "   - `dp[i][n2] = 1` for all `i`.\n",
    "   - This indicates there's exactly one way to form an empty subsequence (i.e., `t[n2:]`, which is empty) from any suffix of `s`.\n",
    "\n",
    "2. **Last Row (i = n1):**\n",
    "   - `dp[n1][j] = 0` for `j < n2`.\n",
    "   - This means there are zero ways to form a non-empty subsequence (any non-empty suffix of `t`) from an empty string (`s[n1:]`, which is empty).\n",
    "\n",
    "### Why This Initialization?\n",
    "- **Last Column (`dp[i][n2] = 1`):** This serves as the base case, indicating there's always one way to form an empty subsequence from any string (by choosing no characters).\n",
    "- **Last Row (`dp[n1][j] = 0` for `j < n2`):** This handles the scenario where `s` is exhausted but `t` still has characters left. There are no ways to form a non-empty subsequence from an empty string.\n",
    "\n",
    "### Main DP Computation\n",
    "- When `s[i] == t[j]`, we have two choices:\n",
    "  1. Include `s[i]` in the subsequence (`dp[i+1][j+1]`).\n",
    "  2. Skip `s[i]` and look for `t[j]` in the rest of `s` (`dp[i+1][j]`).\n",
    "- When `s[i] != t[j]`, we can only skip `s[i]` (`dp[i+1][j]`).\n",
    "\n",
    "This initialization and computation ensure that we correctly count all distinct subsequences, including the empty subsequence when appropriate. Unlike the LCS problem, where we find the length of a subsequence, here we count the number of ways to form a specific subsequence, leading to a different initialization strategy.\n",
    "\n",
    "### Comparison with LCS\n",
    "For the LCS problem, the cases of `source = \"\"` and `target = \"a\"`, and `source = \"a\"` and `target = \"\"` both result in 0. Let's explore why:\n",
    "\n",
    "- **Case: `source = \"\"` and `target = \"a\"`**\n",
    "   - `source` (source string) is empty.\n",
    "   - `target` (target string) is \"a\".\n",
    "   - **Result:** 0\n",
    "   - **Explanation:** The Longest Common Subsequence (LCS) between an empty string and any non-empty string is always 0 because there are no characters in the empty string to match with any characters in the non-empty string.\n",
    " \n",
    "- **Case: `source = \"a\"` and `target = \"\"`**\n",
    "   - `source` (source string) is \"a\".\n",
    "   - `target` (target string) is empty.\n",
    "   - **Result:** 0\n",
    "   - **Explanation:** Similarly, the LCS between any non-empty string and an empty string is 0 because there are no characters in the empty string to match with any characters in the non-empty string.\n",
    "\n",
    " - **Case: `source = \"\"` and `target = \"\"`**\n",
    "    - Both `source` and `target` are empty strings.\n",
    "    - **Result:** 0\n",
    "    - **Explanation:** The Longest Common Subsequence (LCS) between two empty strings is 0 because there are no characters to compare or match. The LCS is defined as the longest sequence that appears in both strings in the same order. Since both strings are empty, the only subsequence they share is the empty subsequence, which has a length of 0. Therefore, the LCS is 0.\n",
    "\n",
    "Example:\n",
    "Consider `source = \"abc\"` and `target = \"\"`. The LCS is 0 because there are no characters in `target` to match with any characters in `source`.\n",
    "Similarly, for `source = \"\"` and `target = \"abc\"`, the LCS is 0 because there are no characters in `source` to match with any characters in `target`.\n",
    "\n",
    "In contrast, for distinct subsequences:\n",
    "\n",
    "- **Case: `source = \"\"` and `target = \"a\"`**\n",
    "   - **Result:** 0\n",
    "   - **Explanation:** There are no ways to form the non-empty string \"a\" from an empty string.\n",
    "\n",
    "- **Case: `source = \"a\"` and `target = \"\"`**\n",
    "   - **Result:** 1\n",
    "   - **Explanation:** There is exactly one way to form an empty string from \"a\" - by not choosing any character.\n",
    "\n",
    " - **Case: `source = \"\"` and `target = \"\"`**\n",
    "    - **Result:** 1\n",
    "    - **Explanation:** There is one way to form an empty string from another empty string: by doing nothing. \n",
    " \n",
    "      In the context of distinct subsequences, this differs from the Longest Common Subsequence (LCS). Here, we count the ways to transform the source into the target by deleting characters without reordering.\n",
    " \n",
    "      When both strings are empty, the only transformation needed is none, as they already match. Thus, the number of distinct subsequences is 1, since the empty string is a subsequence of any string, including itself.\n",
    "\n",
    "These results align with our DP table initialization:\n",
    "1. **For the last row (when `source` is empty):**\n",
    "   - `dp[n1][j] = 0` for `j < n2`.\n",
    "   - This handles the case where `source` is empty and `target` is not.\n",
    "\n",
    "2. **For the last column (when `target` is empty):**\n",
    "   - `dp[i][n2] = 1` for all `i`.\n",
    "   - This handles the case where `target` is empty, regardless of `source`.\n",
    "\n",
    "### Visualization of the DP Table\n",
    "- **For `source = \"\"` and `target = \"a\"`:**\n",
    "\n",
    "  ```\n",
    "    source \"\"\n",
    "  \"\" 0  1\n",
    "  ```\n",
    "\n",
    "- **For `source = \"a\"` and `target = \"\"`:**\n",
    "\n",
    "  ```\n",
    "    \"\"\n",
    "  source  1\n",
    "  \"\" 1\n",
    "  ```\n",
    "\n",
    "### Conclusion\n",
    "This initialization is crucial for the Distinct Subsequences problem because:\n",
    "1. It correctly handles edge cases involving empty strings.\n",
    "2. It provides the base cases for the dynamic programming solution.\n",
    "3. It reflects the fundamental difference between this problem and the LCS problem - we're counting ways to form subsequences rather than finding the length of a common subsequence."
   ]
  },
  {
   "cell_type": "markdown",
   "metadata": {},
   "source": [
    "## Method2 - Recursive\n",
    "\n",
    "https://www.youtube.com/watch?v=-RDzMJ33nx8"
   ]
  },
  {
   "cell_type": "code",
   "execution_count": 4,
   "metadata": {},
   "outputs": [
    {
     "name": "stdout",
     "output_type": "stream",
     "text": [
      "3\n"
     ]
    }
   ],
   "source": [
    "def numDistinct(s,t):\n",
    "    cache = {}\n",
    "\n",
    "    def dfs(i, j):\n",
    "        if j == len(t): return 1\n",
    "        if i == len(s): return 0\n",
    "\n",
    "        if (i, j) in cache: \n",
    "            return cache[(i,j)]\n",
    "        \n",
    "        if s[i] == t[j]:\n",
    "            cache[(i, j)] = dfs(i+1, j+1) + dfs(i+1, j)\n",
    "        else:\n",
    "            cache[(i, j)] = dfs(i+1, j)\n",
    "\n",
    "        return cache[(i,j)]\n",
    "    \n",
    "    return dfs(0,0)\n",
    "\n",
    "s = \"rabbbit\"\n",
    "t = \"rabbit\"\n",
    "res = numDistinct(s,t)\n",
    "print(res)"
   ]
  }
 ],
 "metadata": {
  "kernelspec": {
   "display_name": "test_env",
   "language": "python",
   "name": "python3"
  },
  "language_info": {
   "codemirror_mode": {
    "name": "ipython",
    "version": 3
   },
   "file_extension": ".py",
   "mimetype": "text/x-python",
   "name": "python",
   "nbconvert_exporter": "python",
   "pygments_lexer": "ipython3",
   "version": "3.8.10"
  }
 },
 "nbformat": 4,
 "nbformat_minor": 2
}
