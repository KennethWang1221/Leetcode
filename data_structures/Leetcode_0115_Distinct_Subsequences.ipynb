{
 "cells": [
  {
   "cell_type": "markdown",
   "metadata": {},
   "source": [
    "## Method1 - 2D Bottom-UP DP\n",
    "\n",
    "https://www.youtube.com/watch?v=-RDzMJ33nx8"
   ]
  },
  {
   "cell_type": "code",
   "execution_count": 17,
   "metadata": {},
   "outputs": [
    {
     "name": "stdout",
     "output_type": "stream",
     "text": [
      "3\n"
     ]
    }
   ],
   "source": [
    "def numDistinct(s,t):\n",
    "    n1 = len(s)\n",
    "    n2 = len(t)\n",
    "    dp = [[0] * (n2+1) for i in range(n1+1)]\n",
    "\n",
    "    for i in range(n2+1):\n",
    "        dp[n1][i] = 0\n",
    "\n",
    "    for i in range(n1+1):\n",
    "        dp[i][n2] = 1\n",
    "\n",
    "    for i in range(n1-1,-1,-1):\n",
    "        for j in range(n2-1,-1,-1):\n",
    "            if s[i] == t[j]:\n",
    "                dp[i][j] = dp[i+1][j+1] + dp[i+1][j]\n",
    "            else:\n",
    "                dp[i][j] = dp[i+1][j]\n",
    "\n",
    "    return dp[0][0]\n",
    "\n",
    "s = \"rabbbit\"\n",
    "t = \"rabbit\"\n",
    "res = numDistinct(s,t)\n",
    "print(res)"
   ]
  }
 ],
 "metadata": {
  "kernelspec": {
   "display_name": "test_env",
   "language": "python",
   "name": "test_env"
  },
  "language_info": {
   "codemirror_mode": {
    "name": "ipython",
    "version": 3
   },
   "file_extension": ".py",
   "mimetype": "text/x-python",
   "name": "python",
   "nbconvert_exporter": "python",
   "pygments_lexer": "ipython3",
   "version": "3.8.6"
  }
 },
 "nbformat": 4,
 "nbformat_minor": 2
}
