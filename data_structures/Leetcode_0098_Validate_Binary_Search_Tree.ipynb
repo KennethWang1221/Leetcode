{
 "cells": [
  {
   "cell_type": "markdown",
   "metadata": {},
   "source": [
    "## Method1 - Recursive\n",
    "https://github.com/youngyangyang04/leetcode-master/blob/master/problems/0098.%E9%AA%8C%E8%AF%81%E4%BA%8C%E5%8F%89%E6%90%9C%E7%B4%A2%E6%A0%91.md<br>\n",
    "https://www.youtube.com/watch?v=s6ATEkipzow"
   ]
  },
  {
   "cell_type": "code",
   "execution_count": 3,
   "metadata": {},
   "outputs": [
    {
     "name": "stdout",
     "output_type": "stream",
     "text": [
      "True\n"
     ]
    }
   ],
   "source": [
    "class TreeNode(object):\n",
    "    def __init__(self, x):\n",
    "        if x == None:\n",
    "            self.val = None\n",
    "        else:\n",
    "            self.val = x\n",
    "        self.left = None\n",
    "        self.right = None \n",
    "\n",
    "\n",
    "def isValidBST(root):\n",
    "    def valid(node, left, right):\n",
    "        if node == None: return True\n",
    "        if node.val <= left or node.val >= right: return False\n",
    "\n",
    "        return (valid(node.left, left, node.val) and valid(node.right, node.val, right))\n",
    "    return valid(root, float(\"-inf\"), float(\"inf\"))\n",
    "    \n",
    "def isValidBST(root):\n",
    "    # same as above\n",
    "    def valid(node, left, right):\n",
    "        if not node:\n",
    "            return True\n",
    "        if not (node.val < right and node.val > left):\n",
    "            return False\n",
    "\n",
    "        return valid(node.left, left, node.val) and valid(\n",
    "            node.right, node.val, right)\n",
    "\n",
    "    return valid(root, float(\"-inf\"), float(\"inf\"))\n",
    "\n",
    "n1 = TreeNode(2)\n",
    "n2 = TreeNode(1)\n",
    "n3 = TreeNode(3)\n",
    "\n",
    "\n",
    "n1.left = n2\n",
    "n1.right = n3\n",
    "\n",
    "res = isValidBST(n1)\n",
    "print(res)"
   ]
  },
  {
   "cell_type": "code",
   "execution_count": 1,
   "metadata": {},
   "outputs": [
    {
     "name": "stdout",
     "output_type": "stream",
     "text": [
      "\n",
      "  3___\n",
      " /    \\\n",
      "9     _20\n",
      "     /   \\\n",
      "    15    7\n",
      "\n"
     ]
    }
   ],
   "source": [
    "from binarytree import tree, bst, heap, Node\n",
    "n1 = Node(3)\n",
    "n2 = Node(9)\n",
    "n3 = Node(20)\n",
    "n4 = Node(15)\n",
    "n5 = Node(7)\n",
    "#n6 = TreeNode(6)\n",
    "#n7 = TreeNode(7)\n",
    "\n",
    "n1.left = n2\n",
    "n1.right = n3\n",
    "#n2.left = n4\n",
    "#n2.right = n5\n",
    "n3.left = n4\n",
    "n3.right = n5\n",
    "print(n1)"
   ]
  }
 ],
 "metadata": {
  "kernelspec": {
   "display_name": "Python 3.8.6 64-bit ('leetcode_env')",
   "language": "python",
   "name": "python3"
  },
  "language_info": {
   "codemirror_mode": {
    "name": "ipython",
    "version": 3
   },
   "file_extension": ".py",
   "mimetype": "text/x-python",
   "name": "python",
   "nbconvert_exporter": "python",
   "pygments_lexer": "ipython3",
   "version": "3.8.6"
  },
  "orig_nbformat": 4,
  "vscode": {
   "interpreter": {
    "hash": "846fd2d9bb562a436898b7cc368204fc2f9d44e5e9b051b4f6e855e721078f23"
   }
  }
 },
 "nbformat": 4,
 "nbformat_minor": 2
}
