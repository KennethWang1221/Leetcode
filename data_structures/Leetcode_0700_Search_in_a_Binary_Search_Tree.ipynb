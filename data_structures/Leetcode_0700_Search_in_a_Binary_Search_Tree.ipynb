{
 "cells": [
  {
   "cell_type": "markdown",
   "metadata": {},
   "source": [
    "## Method1-Recursive\n",
    "https://github.com/youngyangyang04/leetcode-master/blob/master/problems/0700.%E4%BA%8C%E5%8F%89%E6%90%9C%E7%B4%A2%E6%A0%91%E4%B8%AD%E7%9A%84%E6%90%9C%E7%B4%A2.md"
   ]
  },
  {
   "cell_type": "code",
   "execution_count": 2,
   "metadata": {},
   "outputs": [
    {
     "name": "stdout",
     "output_type": "stream",
     "text": [
      "<__main__.TreeNode object at 0x1049a6340>\n"
     ]
    }
   ],
   "source": [
    "class TreeNode(object):\n",
    "    def __init__(self, x):\n",
    "        if x == None:\n",
    "            self.val = None\n",
    "        else:\n",
    "            self.val = x\n",
    "        self.left = None\n",
    "        self.right = None \n",
    "\n",
    "\n",
    "def searchBST(root, val):\n",
    "    # 为什么要有返回值: \n",
    "    #   因为搜索到目标节点就要立即return，\n",
    "    #   这样才是找到节点就返回（搜索某一条边），如果不加return，就是遍历整棵树了。\n",
    "\n",
    "    if not root or root.val == val: \n",
    "        return root\n",
    "\n",
    "    if root.val > val: \n",
    "        return searchBST(root.left, val)\n",
    "\n",
    "    if root.val < val: \n",
    "        return searchBST(root.right, val)\n",
    "\n",
    "\n",
    "n1 = TreeNode(4)\n",
    "n2 = TreeNode(2)\n",
    "n3 = TreeNode(7)\n",
    "n4 = TreeNode(1)\n",
    "n5 = TreeNode(3)\n",
    "\n",
    "n1.left = n2\n",
    "n1.right = n3\n",
    "n2.left = n4\n",
    "n2.right = n5\n",
    "\n",
    "res = searchBST(n1, 2)\n",
    "print(res)"
   ]
  },
  {
   "cell_type": "markdown",
   "metadata": {},
   "source": [
    "## Method2-Iterative\n",
    "https://github.com/youngyangyang04/leetcode-master/blob/master/problems/0700.%E4%BA%8C%E5%8F%89%E6%90%9C%E7%B4%A2%E6%A0%91%E4%B8%AD%E7%9A%84%E6%90%9C%E7%B4%A2.md"
   ]
  },
  {
   "cell_type": "code",
   "execution_count": 3,
   "metadata": {},
   "outputs": [
    {
     "name": "stdout",
     "output_type": "stream",
     "text": [
      "<__main__.TreeNode object at 0x1049a65e0>\n"
     ]
    }
   ],
   "source": [
    "class TreeNode(object):\n",
    "    def __init__(self, x):\n",
    "        if x == None:\n",
    "            self.val = None\n",
    "        else:\n",
    "            self.val = x\n",
    "        self.left = None\n",
    "        self.right = None \n",
    "\n",
    "\n",
    "def searchBST(root, val):\n",
    "    while root is not None:\n",
    "        if val < root.val: root = root.left\n",
    "        elif val > root.val: root = root.right\n",
    "        else: return root\n",
    "    return None\n",
    "\n",
    "\n",
    "n1 = TreeNode(4)\n",
    "n2 = TreeNode(2)\n",
    "n3 = TreeNode(7)\n",
    "n4 = TreeNode(1)\n",
    "n5 = TreeNode(3)\n",
    "\n",
    "n1.left = n2\n",
    "n1.right = n3\n",
    "n2.left = n4\n",
    "n2.right = n5\n",
    "\n",
    "res = searchBST(n1, 2)\n",
    "print(res)"
   ]
  }
 ],
 "metadata": {
  "kernelspec": {
   "display_name": "Python 3.8.6 64-bit ('leetcode_env')",
   "language": "python",
   "name": "python3"
  },
  "language_info": {
   "codemirror_mode": {
    "name": "ipython",
    "version": 3
   },
   "file_extension": ".py",
   "mimetype": "text/x-python",
   "name": "python",
   "nbconvert_exporter": "python",
   "pygments_lexer": "ipython3",
   "version": "3.8.6"
  },
  "orig_nbformat": 4,
  "vscode": {
   "interpreter": {
    "hash": "846fd2d9bb562a436898b7cc368204fc2f9d44e5e9b051b4f6e855e721078f23"
   }
  }
 },
 "nbformat": 4,
 "nbformat_minor": 2
}
