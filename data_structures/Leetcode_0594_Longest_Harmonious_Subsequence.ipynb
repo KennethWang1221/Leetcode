{
 "cells": [
  {
   "cell_type": "code",
   "execution_count": 14,
   "metadata": {},
   "outputs": [
    {
     "name": "stdout",
     "output_type": "stream",
     "text": [
      "5\n"
     ]
    }
   ],
   "source": [
    "def findLHS(nums):\n",
    "    hashmap = {}\n",
    "    longest = 0\n",
    "    \n",
    "    for n in nums:\n",
    "        hashmap[n] = hashmap.get(n, 0) + 1\n",
    "    \n",
    "    for i in hashmap:\n",
    "        if i+1 in hashmap:\n",
    "            length = hashmap[i]+hashmap[i+1]\n",
    "            longest = max(longest, length)\n",
    "        \n",
    "    return longest\n",
    "\n",
    "nums = [1,3,2,2,5,2,3,7]\n",
    "res = findLHS(nums)\n",
    "print(res)"
   ]
  },
  {
   "cell_type": "markdown",
   "metadata": {},
   "source": [
    "source: \n",
    "https://github.com/CyC2018/CS-Notes/blob/master/notes/Leetcode%20%E9%A2%98%E8%A7%A3%20-%20%E5%93%88%E5%B8%8C%E8%A1%A8.md\n",
    "learning url:\n",
    "https://leetcode.com/problems/longest-harmonious-subsequence/discuss/731970/Easy-Python-3-Solution-without-using-Counter."
   ]
  },
  {
   "cell_type": "code",
   "execution_count": 4,
   "metadata": {},
   "outputs": [
    {
     "name": "stdout",
     "output_type": "stream",
     "text": [
      "{1: 1, 3: 2, 2: 3, 5: 1, 7: 1}\n",
      "1 1\n",
      "3 2\n",
      "2 3\n",
      "5 1\n",
      "7 1\n"
     ]
    }
   ],
   "source": [
    "hashmap = {}\n",
    "for n in nums:\n",
    "    hashmap[n] = hashmap.get(n, 0) + 1\n",
    "print(hashmap)\n",
    "for i in hashmap:\n",
    "    print(i, hashmap[i])"
   ]
  }
 ],
 "metadata": {
  "kernelspec": {
   "display_name": "Python 3.8.6 64-bit ('leetcode_env')",
   "language": "python",
   "name": "python3"
  },
  "language_info": {
   "codemirror_mode": {
    "name": "ipython",
    "version": 3
   },
   "file_extension": ".py",
   "mimetype": "text/x-python",
   "name": "python",
   "nbconvert_exporter": "python",
   "pygments_lexer": "ipython3",
   "version": "3.8.6"
  },
  "orig_nbformat": 4,
  "vscode": {
   "interpreter": {
    "hash": "846fd2d9bb562a436898b7cc368204fc2f9d44e5e9b051b4f6e855e721078f23"
   }
  }
 },
 "nbformat": 4,
 "nbformat_minor": 2
}
