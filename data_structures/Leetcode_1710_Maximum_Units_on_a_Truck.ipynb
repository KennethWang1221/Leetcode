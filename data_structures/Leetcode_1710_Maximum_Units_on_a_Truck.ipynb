{
 "cells": [
  {
   "cell_type": "markdown",
   "metadata": {},
   "source": [
    "## Method1 - Array"
   ]
  },
  {
   "cell_type": "code",
   "execution_count": 1,
   "metadata": {},
   "outputs": [
    {
     "name": "stdout",
     "output_type": "stream",
     "text": [
      "8\n"
     ]
    }
   ],
   "source": [
    "def maximumUnits(boxTypes, truckSize):\n",
    "    boxTypes.sort(key=lambda x: x[1], reverse=True)\n",
    "    total = 0\n",
    "    for boxes, units in boxTypes:\n",
    "        if truckSize <= 0:\n",
    "            break\n",
    "        can_take = min(truckSize, boxes)\n",
    "        total += can_take * units\n",
    "        truckSize -= can_take\n",
    "    return total\n",
    "boxTypes = [[1,3],[2,2],[3,1]]\n",
    "truckSize = 4\n",
    "print(maximumUnits(boxTypes, truckSize))"
   ]
  }
 ],
 "metadata": {
  "kernelspec": {
   "display_name": "leetcode_env",
   "language": "python",
   "name": "leetcode_env"
  },
  "language_info": {
   "codemirror_mode": {
    "name": "ipython",
    "version": 3
   },
   "file_extension": ".py",
   "mimetype": "text/x-python",
   "name": "python",
   "nbconvert_exporter": "python",
   "pygments_lexer": "ipython3",
   "version": "3.8.6"
  }
 },
 "nbformat": 4,
 "nbformat_minor": 2
}
