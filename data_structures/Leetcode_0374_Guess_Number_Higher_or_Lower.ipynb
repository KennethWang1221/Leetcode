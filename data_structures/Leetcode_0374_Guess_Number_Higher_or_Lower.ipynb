{
 "cells": [
  {
   "cell_type": "markdown",
   "metadata": {},
   "source": [
    "## Method1 - Binary Search\n",
    "https://www.youtube.com/watch?v=xW4QsTtaCa4"
   ]
  },
  {
   "cell_type": "code",
   "execution_count": 1,
   "metadata": {},
   "outputs": [
    {
     "name": "stdout",
     "output_type": "stream",
     "text": [
      "6\n"
     ]
    }
   ],
   "source": [
    "def guess(num, pick):\n",
    "    if num > pick:\n",
    "        return -1\n",
    "    elif num < pick:\n",
    "        return 1\n",
    "    else:\n",
    "        return 0\n",
    "def test(n, pick):\n",
    "    low = 1\n",
    "    high = n\n",
    "    \n",
    "    while True:\n",
    "        mid = low + (high - low) // 2\n",
    "        myGuess = guess(mid, pick)\n",
    "        if myGuess == 1:\n",
    "            low = mid + 1\n",
    "        elif myGuess == -1:\n",
    "            high = mid - 1\n",
    "        else:\n",
    "            return mid\n",
    "print(test(n=10, pick = 6))"
   ]
  }
 ],
 "metadata": {
  "kernelspec": {
   "display_name": "leetcode_env",
   "language": "python",
   "name": "python3"
  },
  "language_info": {
   "codemirror_mode": {
    "name": "ipython",
    "version": 3
   },
   "file_extension": ".py",
   "mimetype": "text/x-python",
   "name": "python",
   "nbconvert_exporter": "python",
   "pygments_lexer": "ipython3",
   "version": "3.8.6"
  }
 },
 "nbformat": 4,
 "nbformat_minor": 2
}
