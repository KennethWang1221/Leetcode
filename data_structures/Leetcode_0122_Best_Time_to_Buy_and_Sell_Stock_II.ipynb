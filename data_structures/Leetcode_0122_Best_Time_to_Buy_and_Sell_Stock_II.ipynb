{
 "cells": [
  {
   "attachments": {},
   "cell_type": "markdown",
   "metadata": {},
   "source": [
    "## Method1 - DP - Greedy - Sliding Window\n",
    "https://www.youtube.com/watch?v=3SJ3pUkPQMc"
   ]
  },
  {
   "cell_type": "code",
   "execution_count": 1,
   "metadata": {},
   "outputs": [
    {
     "name": "stdout",
     "output_type": "stream",
     "text": [
      "7\n"
     ]
    }
   ],
   "source": [
    "def maxProfit(prices):\n",
    "    profit = 0\n",
    "    n = len(prices)\n",
    "\n",
    "    for i in range(1, n):\n",
    "        if prices[i]>prices[i-1]:\n",
    "            profit += (prices[i]-prices[i-1])\n",
    "\n",
    "    return profit\n",
    "\n",
    "prices = [7,1,5,3,6,4]\n",
    "res = maxProfit(prices)\n",
    "print(res)"
   ]
  },
  {
   "cell_type": "markdown",
   "metadata": {},
   "source": [
    "## Method2 - 2D Bottom-UP DP\n",
    "https://github.com/youngyangyang04/leetcode-master/blob/master/problems/0122.%E4%B9%B0%E5%8D%96%E8%82%A1%E7%A5%A8%E7%9A%84%E6%9C%80%E4%BD%B3%E6%97%B6%E6%9C%BAII%EF%BC%88%E5%8A%A8%E6%80%81%E8%A7%84%E5%88%92%EF%BC%89.md"
   ]
  },
  {
   "cell_type": "code",
   "execution_count": 2,
   "metadata": {},
   "outputs": [
    {
     "name": "stdout",
     "output_type": "stream",
     "text": [
      "7\n"
     ]
    }
   ],
   "source": [
    "def maxProfit(prices):\n",
    "    length = len(prices)\n",
    "    dp = [[0] * 2 for _ in range(length)]\n",
    "    dp[0][0] = -prices[0]\n",
    "    dp[0][1] = 0\n",
    "    for i in range(1, length):\n",
    "        dp[i][0] = max(dp[i-1][0], dp[i-1][1] - prices[i]) #注意这里是和121. 买卖股票的最佳时机唯一不同的地方\n",
    "        dp[i][1] = max(dp[i-1][1], dp[i-1][0] + prices[i])\n",
    "    return dp[-1][1]\n",
    "\n",
    "prices = [7,1,5,3,6,4]\n",
    "res = maxProfit(prices)\n",
    "print(res)"
   ]
  },
  {
   "cell_type": "markdown",
   "metadata": {},
   "source": [
    "## Method3 - 2D Bottom-UP DP\n",
    "https://github.com/youngyangyang04/leetcode-master/blob/master/problems/0122.%E4%B9%B0%E5%8D%96%E8%82%A1%E7%A5%A8%E7%9A%84%E6%9C%80%E4%BD%B3%E6%97%B6%E6%9C%BAII%EF%BC%88%E5%8A%A8%E6%80%81%E8%A7%84%E5%88%92%EF%BC%89.md"
   ]
  },
  {
   "cell_type": "code",
   "execution_count": 4,
   "metadata": {},
   "outputs": [
    {
     "name": "stdout",
     "output_type": "stream",
     "text": [
      "7\n"
     ]
    }
   ],
   "source": [
    "def maxProfit(prices):\n",
    "    length = len(prices)\n",
    "    dp = [[0] * 2 for _ in range(2)] #注意这里只开辟了一个2 * 2大小的二维数组\n",
    "    dp[0][0] = -prices[0]\n",
    "    dp[0][1] = 0\n",
    "    for i in range(1, length):\n",
    "        dp[i % 2][0] = max(dp[(i-1) % 2][0], dp[(i-1) % 2][1] - prices[i])\n",
    "        dp[i % 2][1] = max(dp[(i-1) % 2][1], dp[(i-1) % 2][0] + prices[i])\n",
    "    return dp[(length-1) % 2][1]\n",
    "\n",
    "prices = [7,1,5,3,6,4]\n",
    "res = maxProfit(prices)\n",
    "print(res)"
   ]
  },
  {
   "attachments": {},
   "cell_type": "markdown",
   "metadata": {},
   "source": [
    "## Leetcode_0121_Best_Time_to_Buy_and_Sell_Stock - Sliding Window\n",
    "https://www.youtube.com/watch?v=1pkOgXD63yU"
   ]
  },
  {
   "cell_type": "code",
   "execution_count": 3,
   "metadata": {},
   "outputs": [
    {
     "name": "stdout",
     "output_type": "stream",
     "text": [
      "5\n"
     ]
    }
   ],
   "source": [
    "def maxProfit(prices):\n",
    "    l, r, n = 0, 1, len(prices)\n",
    "    maxP = 0\n",
    "\n",
    "    while r<n:\n",
    "        if prices[l] < prices[r]:\n",
    "            profit = prices[r] - prices[l]\n",
    "            maxP = max(maxP, profit)\n",
    "        else:\n",
    "            l = r\n",
    "        \n",
    "        r+=1\n",
    "    \n",
    "    return maxP\n",
    "\n",
    "prices = [7,1,5,3,6,4]\n",
    "res = maxProfit(prices)\n",
    "print(res)"
   ]
  }
 ],
 "metadata": {
  "kernelspec": {
   "display_name": "test_env",
   "language": "python",
   "name": "test_env"
  },
  "language_info": {
   "codemirror_mode": {
    "name": "ipython",
    "version": 3
   },
   "file_extension": ".py",
   "mimetype": "text/x-python",
   "name": "python",
   "nbconvert_exporter": "python",
   "pygments_lexer": "ipython3",
   "version": "3.8.6"
  },
  "orig_nbformat": 4
 },
 "nbformat": 4,
 "nbformat_minor": 2
}
