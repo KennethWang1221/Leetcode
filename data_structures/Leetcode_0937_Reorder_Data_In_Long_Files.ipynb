{
 "cells": [
  {
   "cell_type": "code",
   "execution_count": 1,
   "metadata": {},
   "outputs": [
    {
     "name": "stdout",
     "output_type": "stream",
     "text": [
      "[['let1', 'art', 'can'], ['let2', 'own', 'kit', 'dig'], ['let3', 'art', 'zero']]\n",
      "['dig1 8 1 5 1', 'dig2 3 6']\n",
      "====\n",
      "['let1 art can', 'let3 art zero', 'let2 own kit dig', 'dig1 8 1 5 1', 'dig2 3 6']\n"
     ]
    }
   ],
   "source": [
    "def reorderLogFiles(logs):\n",
    "    letter = []\n",
    "    digit = []\n",
    "    n = len(logs)\n",
    "\n",
    "    #prefix = logs[1].split(\" \") # ['dig1', '8', '1', '5', '1']/ ['let1', 'art', 'can']\n",
    "    for i in range(n):\n",
    "        prefix = logs[i].split(\" \")\n",
    "        if prefix[1].isdigit(): # logs[i].split(\" \")[1] ==8\n",
    "            digit.append(logs[i])\n",
    "        else:\n",
    "            letter.append(logs[i].split())\n",
    "            \n",
    "    \n",
    "    print(letter)\n",
    "    print(digit)\n",
    "    letter.sort(key = lambda x: x[0])\n",
    "    letter.sort(key = lambda x: x[1:])\n",
    "    \n",
    "    for i in range(len(letter)):\n",
    "        letter[i] = \" \".join(letter[i])\n",
    "    \n",
    "    letter.extend(digit) # equal to result = letter + digit\n",
    "    return letter\n",
    "\n",
    "logs = [\"dig1 8 1 5 1\",\"let1 art can\",\"dig2 3 6\",\"let2 own kit dig\",\"let3 art zero\"]\n",
    "result = reorderLogFiles(logs)\n",
    "print(\"====\")\n",
    "print(result)"
   ]
  },
  {
   "cell_type": "code",
   "execution_count": 2,
   "metadata": {},
   "outputs": [
    {
     "name": "stdout",
     "output_type": "stream",
     "text": [
      "[['g1', 'act', 'car'], ['ab1', 'off', 'key', 'dog'], ['a8', 'act', 'zoo']]\n",
      "['a1 9 2 3 1', 'zo4 4 7']\n",
      "====\n",
      "['g1 act car', 'a8 act zoo', 'ab1 off key dog', 'a1 9 2 3 1', 'zo4 4 7']\n"
     ]
    }
   ],
   "source": [
    "logs = [\"a1 9 2 3 1\",\"g1 act car\",\"zo4 4 7\",\"ab1 off key dog\",\"a8 act zoo\"]\n",
    "result = reorderLogFiles(logs)\n",
    "print(\"====\")\n",
    "print(result)"
   ]
  },
  {
   "cell_type": "markdown",
   "metadata": {},
   "source": [
    "wrong version"
   ]
  },
  {
   "cell_type": "code",
   "execution_count": 3,
   "metadata": {},
   "outputs": [
    {
     "name": "stdout",
     "output_type": "stream",
     "text": [
      "['let1 art can', 'let2 own kit dig', 'let3 art zero']\n",
      "['dig1 8 1 5 1', 'dig2 3 6']\n",
      "====\n",
      "['l e t 1   a r t   c a n', 'l e t 2   o w n   k i t   d i g', 'l e t 3   a r t   z e r o', 'dig1 8 1 5 1', 'dig2 3 6']\n"
     ]
    }
   ],
   "source": [
    "def reorderLogFiles(logs):\n",
    "    letter = []\n",
    "    digit = []\n",
    "    n = len(logs)\n",
    "\n",
    "    #prefix = logs[1].split(\" \") # ['dig1', '8', '1', '5', '1']/ ['let1', 'art', 'can']\n",
    "    for i in range(n):\n",
    "        prefix = logs[i].split(\" \")\n",
    "        if prefix[1].isdigit(): # logs[i].split(\" \")[1] ==8\n",
    "\n",
    "            digit.append(logs[i])\n",
    "        else:\n",
    "            #letter.append(logs[i].split())\n",
    "            letter.append(logs[i])\n",
    "    \n",
    "    print(letter)\n",
    "    print(digit)\n",
    "    \n",
    "    letter.sort(key = lambda x: x[0])\n",
    "    letter.sort(key = lambda x: x[1:])\n",
    "    \n",
    "    for i in range(len(letter)):\n",
    "        letter[i] = \" \".join(letter[i])\n",
    "    \n",
    "    letter.extend(digit)\n",
    "    return letter\n",
    "\n",
    "logs = [\"dig1 8 1 5 1\",\"let1 art can\",\"dig2 3 6\",\"let2 own kit dig\",\"let3 art zero\"]\n",
    "result = reorderLogFiles(logs)\n",
    "print(\"====\")\n",
    "print(result)"
   ]
  },
  {
   "cell_type": "markdown",
   "metadata": {},
   "source": [
    "## Sort trick"
   ]
  },
  {
   "cell_type": "code",
   "execution_count": 4,
   "metadata": {},
   "outputs": [
    {
     "name": "stdout",
     "output_type": "stream",
     "text": [
      "['dig1', '8', '1', '5', '1']\n",
      "['i']\n",
      "8\n"
     ]
    }
   ],
   "source": [
    "logs = [\"dig1 8 1 5 1\",\"let1 art can\",\"dig2 3 6\",\"let2 own kit dig\",\"let3 art zero\"]\n",
    "prefix = logs[0].split()\n",
    "print(prefix)\n",
    "\n",
    "prefix = logs[0][1].split()\n",
    "print(prefix)\n",
    "\n",
    "prefix = logs[0].split()[1]\n",
    "print(prefix)"
   ]
  },
  {
   "cell_type": "code",
   "execution_count": 18,
   "metadata": {},
   "outputs": [
    {
     "name": "stdout",
     "output_type": "stream",
     "text": [
      "l\n",
      "l\n",
      "l\n",
      "=====\n",
      "3\n",
      "12\n",
      "et1 art can\n",
      "et2 own kit dig\n",
      "et3 art zero\n"
     ]
    }
   ],
   "source": [
    "s = ['let1 art can', 'let2 own kit dig', 'let3 art zero']\n",
    "for i in range(len(s)):\n",
    "    print(s[i][0])\n",
    "print(\"=====\")\n",
    "s = ['let1 art can', 'let2 own kit dig', 'let3 art zero']\n",
    "print(len(s))\n",
    "print(len(s[0]))\n",
    "for i in range(len(s)):\n",
    "    print(s[i][1:])"
   ]
  },
  {
   "cell_type": "code",
   "execution_count": 19,
   "metadata": {},
   "outputs": [
    {
     "name": "stdout",
     "output_type": "stream",
     "text": [
      "let1\n",
      "let2\n",
      "let3\n",
      "=====\n",
      "3\n",
      "3\n",
      "['art', 'can']\n",
      "['own', 'kit', 'dig']\n",
      "['art', 'zero']\n"
     ]
    }
   ],
   "source": [
    "s = [['let1', 'art', 'can'], ['let2', 'own', 'kit', 'dig'], ['let3', 'art', 'zero']]\n",
    "for i in range(len(s)):\n",
    "    print(s[i][0])\n",
    "print(\"=====\")\n",
    "s = [['let1', 'art', 'can'], ['let2', 'own', 'kit', 'dig'], ['let3', 'art', 'zero']]\n",
    "print(len(s))\n",
    "print(len(s[0]))\n",
    "for i in range(len(s)):\n",
    "    print(s[i][1:])"
   ]
  },
  {
   "cell_type": "markdown",
   "metadata": {},
   "source": [
    "## append recap"
   ]
  },
  {
   "cell_type": "code",
   "execution_count": 7,
   "metadata": {},
   "outputs": [
    {
     "name": "stdout",
     "output_type": "stream",
     "text": [
      "<class 'str'>\n",
      "['let1 art can', 'let2 own kit dig', 'let3 art zero']\n",
      "=====\n",
      "<class 'str'> <class 'str'>\n",
      "['let1 art can', 'let2 own kit dig', 'let3 art zero']\n"
     ]
    }
   ],
   "source": [
    "c = []\n",
    "a = ['let1 art can', 'let2 own kit dig', 'let3 art zero']\n",
    "print(type(a[0]))\n",
    "c.append(a[0])\n",
    "c.append(a[1])\n",
    "c.append(a[2])\n",
    "print(c)\n",
    "print(\"=====\")\n",
    "c = []\n",
    "a = ['let1 art can']\n",
    "b = ['let3 art zero']\n",
    "d = ['let2 own kit dig']\n",
    "\n",
    "print(type(a[0]),type(b[0]))\n",
    "c.append(a[0])\n",
    "c.append(d[0])\n",
    "c.append(b[0])\n",
    "print(c)"
   ]
  },
  {
   "cell_type": "code",
   "execution_count": 21,
   "metadata": {},
   "outputs": [
    {
     "name": "stdout",
     "output_type": "stream",
     "text": [
      "<class 'str'> <class 'str'>\n",
      "[['let1 art can'], ['let2 own kit dig'], ['let3 art zero']]\n",
      "=====\n",
      "<class 'str'> <class 'str'>\n",
      "['let1 art can', 'let2 own kit dig', 'let3 art zero']\n"
     ]
    }
   ],
   "source": [
    "c = []\n",
    "a = ['let1 art can']\n",
    "b = ['let3 art zero']\n",
    "d = ['let2 own kit dig']\n",
    "\n",
    "print(type(a[0]),type(b[0]))\n",
    "c.append(a)\n",
    "c.append(d)\n",
    "c.append(b)\n",
    "print(c)\n",
    "print(\"=====\")\n",
    "\n",
    "c = []\n",
    "a = ['let1 art can']\n",
    "b = ['let3 art zero']\n",
    "d = ['let2 own kit dig']\n",
    "\n",
    "print(type(a[0]),type(b[0]))\n",
    "c.extend(a)\n",
    "c.extend(d)\n",
    "c.extend(b)\n",
    "print(c)\n"
   ]
  },
  {
   "cell_type": "markdown",
   "metadata": {},
   "source": [
    "## Sort recap"
   ]
  },
  {
   "cell_type": "code",
   "execution_count": 8,
   "metadata": {},
   "outputs": [
    {
     "name": "stdout",
     "output_type": "stream",
     "text": [
      "<class 'str'> <class 'str'>\n",
      "[['let4', 'art', 'can'], ['let1', 'art', 'can'], ['let2', 'own', 'kit', 'dig'], ['let3', 'art', 'zero']]\n",
      "===\n",
      "[['let1', 'art', 'can'], ['let2', 'own', 'kit', 'dig'], ['let3', 'art', 'zero'], ['let4', 'art', 'can']]\n",
      "[['let1', 'art', 'can'], ['let4', 'art', 'can'], ['let3', 'art', 'zero'], ['let2', 'own', 'kit', 'dig']]\n",
      "['let1', 'art', 'can']\n",
      "let1\n",
      "<class 'list'>\n",
      "<class 'list'>\n",
      "<class 'str'>\n"
     ]
    }
   ],
   "source": [
    "c = []\n",
    "e = ['let4 art can']\n",
    "a = ['let1 art can']\n",
    "b = ['let3 art zero']\n",
    "d = ['let2 own kit dig']\n",
    "print(type(a[0]),type(b[0]))\n",
    "c.append(e[0].split())\n",
    "c.append(a[0].split())\n",
    "c.append(d[0].split())\n",
    "c.append(b[0].split())\n",
    "print(c)\n",
    "print(\"===\")\n",
    "c.sort(key = lambda x: x[0])\n",
    "print(c)\n",
    "c.sort(key = lambda x: x[1:])\n",
    "print(c)\n",
    "\n",
    "print(c[0])\n",
    "print(c[0][0])\n",
    "print(type(c))\n",
    "print(type(c[0]))\n",
    "print(type(c[0][0]))\n"
   ]
  },
  {
   "cell_type": "code",
   "execution_count": 9,
   "metadata": {},
   "outputs": [
    {
     "name": "stdout",
     "output_type": "stream",
     "text": [
      "<class 'str'> <class 'str'>\n",
      "[['let5', 'art', 'can'], ['let4', 'own', 'kit', 'dig'], ['let1', 'art', 'can'], ['let2', 'own', 'kit', 'dig'], ['let3', 'art', 'zero']]\n",
      "===\n",
      "[['let1', 'art', 'can'], ['let2', 'own', 'kit', 'dig'], ['let3', 'art', 'zero'], ['let4', 'own', 'kit', 'dig'], ['let5', 'art', 'can']]\n",
      "[['let1', 'art', 'can'], ['let5', 'art', 'can'], ['let3', 'art', 'zero'], ['let2', 'own', 'kit', 'dig'], ['let4', 'own', 'kit', 'dig']]\n",
      "['let1', 'art', 'can']\n",
      "let1\n",
      "<class 'list'>\n",
      "<class 'list'>\n",
      "<class 'str'>\n"
     ]
    }
   ],
   "source": [
    "c = []\n",
    "f = ['let5 art can']\n",
    "e = ['let4 own kit dig']\n",
    "a = ['let1 art can']\n",
    "b = ['let3 art zero']\n",
    "d = ['let2 own kit dig']\n",
    "print(type(a[0]),type(b[0]))\n",
    "c.append(f[0].split())\n",
    "c.append(e[0].split())\n",
    "c.append(a[0].split())\n",
    "c.append(d[0].split())\n",
    "c.append(b[0].split())\n",
    "print(c)\n",
    "print(\"===\")\n",
    "c.sort(key = lambda x: x[0])\n",
    "print(c)\n",
    "c.sort(key = lambda x: x[1:])\n",
    "print(c)\n",
    "\n",
    "print(c[0])\n",
    "print(c[0][0])\n",
    "print(type(c))\n",
    "print(type(c[0]))\n",
    "print(type(c[0][0]))\n"
   ]
  },
  {
   "cell_type": "code",
   "execution_count": 10,
   "metadata": {},
   "outputs": [
    {
     "name": "stdout",
     "output_type": "stream",
     "text": [
      "[['let1', 'art', 'can'], ['let5', 'art', 'can'], ['let3', 'art', 'zero'], ['let2', 'own', 'kit', 'dig'], ['let4', 'own', 'kit', 'dig']]\n",
      "['let1 art can', 'let5 art can', 'let3 art zero', 'let2 own kit dig', 'let4 own kit dig']\n",
      "let1 art can\n",
      "l\n",
      "<class 'list'>\n",
      "<class 'str'>\n",
      "<class 'str'>\n"
     ]
    }
   ],
   "source": [
    "print(c)\n",
    "for i in range(len(c)):\n",
    "    c[i] = \" \".join(c[i])\n",
    "print(c)\n",
    "print(c[0])\n",
    "print(c[0][0])\n",
    "print(type(c))\n",
    "print(type(c[0]))\n",
    "print(type(c[0][0]))"
   ]
  },
  {
   "cell_type": "code",
   "execution_count": 23,
   "metadata": {},
   "outputs": [
    {
     "name": "stdout",
     "output_type": "stream",
     "text": [
      "<class 'str'>\n",
      "<class 'list'>\n"
     ]
    }
   ],
   "source": [
    "b = 'let1 art can'\n",
    "print(type(b))\n",
    "\n",
    "b = ['let1', 'art', 'can']\n",
    "print(type(b))"
   ]
  },
  {
   "cell_type": "markdown",
   "metadata": {},
   "source": [
    "## How to concatenate two lists \n"
   ]
  },
  {
   "cell_type": "code",
   "execution_count": 11,
   "metadata": {},
   "outputs": [
    {
     "name": "stdout",
     "output_type": "stream",
     "text": [
      "['a', 'a', ' ', 'b', 'b', ' ', 'c', 'c', ' ', 'd', 'd']\n",
      "['aa', 'bb', 'cc', 'dd']\n"
     ]
    }
   ],
   "source": [
    "strings = \"aa bb cc dd\"\n",
    "s = list(strings)\n",
    "print(s)\n",
    "\n",
    "s1 = strings.split(\" \")\n",
    "print(s1)"
   ]
  },
  {
   "cell_type": "code",
   "execution_count": 12,
   "metadata": {},
   "outputs": [
    {
     "name": "stdout",
     "output_type": "stream",
     "text": [
      "[1, 2, 3, 2, 3, 4]\n",
      "[1, 2, 3, 2, 3, 4]\n"
     ]
    }
   ],
   "source": [
    "# How to concatenate two lists \n",
    "# https://www.digitalocean.com/community/tutorials/concatenate-lists-python\n",
    "c = []\n",
    "a = [1,2,3]\n",
    "b = [2,3,4]\n",
    "\n",
    "c.extend(a)\n",
    "c.extend(b)\n",
    "d = a+b\n",
    "print(c)\n",
    "print(d)"
   ]
  },
  {
   "cell_type": "markdown",
   "metadata": {},
   "source": [
    "reference url: https://www.youtube.com/watch?v=Nj2Bpw1KKds&t=534s"
   ]
  },
  {
   "cell_type": "markdown",
   "metadata": {},
   "source": [
    "## Two Pointers recap"
   ]
  },
  {
   "cell_type": "code",
   "execution_count": 13,
   "metadata": {},
   "outputs": [
    {
     "name": "stdout",
     "output_type": "stream",
     "text": [
      "<class 'list'>\n",
      "<class 'str'>\n",
      "['4', '3', '2', '1']\n"
     ]
    }
   ],
   "source": [
    "s = ['1','2','3','4']\n",
    "print(type(s))\n",
    "print(type(s[0]))\n",
    "left = 0\n",
    "right = len(s)-1\n",
    "while left<right:\n",
    "    s[left], s[right] = s[right], s[left]\n",
    "    left+=1\n",
    "    right-=1\n",
    "    \n",
    "#a = '1 2 3 4'\n",
    "\n",
    "print(s)"
   ]
  },
  {
   "cell_type": "code",
   "execution_count": 14,
   "metadata": {},
   "outputs": [
    {
     "name": "stdout",
     "output_type": "stream",
     "text": [
      "<class 'str'>\n",
      "<class 'str'>\n"
     ]
    },
    {
     "ename": "TypeError",
     "evalue": "'str' object does not support item assignment",
     "output_type": "error",
     "traceback": [
      "\u001b[0;31m---------------------------------------------------------------------------\u001b[0m",
      "\u001b[0;31mTypeError\u001b[0m                                 Traceback (most recent call last)",
      "\u001b[0;32m/var/folders/_0/t_q_3ydn61v2hbgddcm8pdz00000gn/T/ipykernel_71550/4202990065.py\u001b[0m in \u001b[0;36m<module>\u001b[0;34m\u001b[0m\n\u001b[1;32m      5\u001b[0m \u001b[0mright\u001b[0m \u001b[0;34m=\u001b[0m \u001b[0mlen\u001b[0m\u001b[0;34m(\u001b[0m\u001b[0ms\u001b[0m\u001b[0;34m)\u001b[0m\u001b[0;34m-\u001b[0m\u001b[0;36m1\u001b[0m\u001b[0;34m\u001b[0m\u001b[0;34m\u001b[0m\u001b[0m\n\u001b[1;32m      6\u001b[0m \u001b[0;32mwhile\u001b[0m \u001b[0mleft\u001b[0m\u001b[0;34m<\u001b[0m\u001b[0mright\u001b[0m\u001b[0;34m:\u001b[0m\u001b[0;34m\u001b[0m\u001b[0;34m\u001b[0m\u001b[0m\n\u001b[0;32m----> 7\u001b[0;31m     \u001b[0ms\u001b[0m\u001b[0;34m[\u001b[0m\u001b[0mleft\u001b[0m\u001b[0;34m]\u001b[0m\u001b[0;34m,\u001b[0m \u001b[0ms\u001b[0m\u001b[0;34m[\u001b[0m\u001b[0mright\u001b[0m\u001b[0;34m]\u001b[0m \u001b[0;34m=\u001b[0m \u001b[0ms\u001b[0m\u001b[0;34m[\u001b[0m\u001b[0mright\u001b[0m\u001b[0;34m]\u001b[0m\u001b[0;34m,\u001b[0m \u001b[0ms\u001b[0m\u001b[0;34m[\u001b[0m\u001b[0mleft\u001b[0m\u001b[0;34m]\u001b[0m\u001b[0;34m\u001b[0m\u001b[0;34m\u001b[0m\u001b[0m\n\u001b[0m\u001b[1;32m      8\u001b[0m     \u001b[0mleft\u001b[0m\u001b[0;34m+=\u001b[0m\u001b[0;36m1\u001b[0m\u001b[0;34m\u001b[0m\u001b[0;34m\u001b[0m\u001b[0m\n\u001b[1;32m      9\u001b[0m     \u001b[0mright\u001b[0m\u001b[0;34m-=\u001b[0m\u001b[0;36m1\u001b[0m\u001b[0;34m\u001b[0m\u001b[0;34m\u001b[0m\u001b[0m\n",
      "\u001b[0;31mTypeError\u001b[0m: 'str' object does not support item assignment"
     ]
    }
   ],
   "source": [
    "s = '1 2 3 4'\n",
    "print(type(s))\n",
    "print(type(s[0]))\n",
    "left = 0\n",
    "right = len(s)-1\n",
    "while left<right:\n",
    "    s[left], s[right] = s[right], s[left]\n",
    "    left+=1\n",
    "    right-=1\n",
    "    \n",
    "\n",
    "print(s)"
   ]
  }
 ],
 "metadata": {
  "kernelspec": {
   "display_name": "Python 3.8.6 64-bit ('leetcode_env')",
   "language": "python",
   "name": "python3"
  },
  "language_info": {
   "codemirror_mode": {
    "name": "ipython",
    "version": 3
   },
   "file_extension": ".py",
   "mimetype": "text/x-python",
   "name": "python",
   "nbconvert_exporter": "python",
   "pygments_lexer": "ipython3",
   "version": "3.8.6"
  },
  "orig_nbformat": 4,
  "vscode": {
   "interpreter": {
    "hash": "846fd2d9bb562a436898b7cc368204fc2f9d44e5e9b051b4f6e855e721078f23"
   }
  }
 },
 "nbformat": 4,
 "nbformat_minor": 2
}
