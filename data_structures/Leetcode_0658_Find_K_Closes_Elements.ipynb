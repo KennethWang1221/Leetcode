{
 "cells": [
  {
   "cell_type": "markdown",
   "metadata": {},
   "source": [
    "## Method1 - Sliding Window\n",
    "https://www.youtube.com/watch?v=o-YDQzHoaKM"
   ]
  },
  {
   "cell_type": "code",
   "execution_count": 1,
   "metadata": {},
   "outputs": [
    {
     "name": "stdout",
     "output_type": "stream",
     "text": [
      "[1, 2, 3, 4]\n"
     ]
    }
   ],
   "source": [
    "def findClosestElements(arr,k,x):\n",
    "    l, r = 0, len(arr) - 1\n",
    "\n",
    "    # Find index of x or the closest val to x\n",
    "    val, idx = arr[0], 0\n",
    "    while l <= r:\n",
    "        m = (l + r) // 2\n",
    "        curDiff, resDiff = abs(arr[m] - x), abs(val - x)\n",
    "        if curDiff < resDiff or (curDiff == resDiff and arr[m] < val):\n",
    "            val, idx = arr[m], m\n",
    "\n",
    "        if arr[m] < x:\n",
    "            l = m + 1\n",
    "        elif arr[m] > x:\n",
    "            r = m - 1\n",
    "        else:\n",
    "            break\n",
    "\n",
    "    l = r = idx\n",
    "    for i in range(k - 1):\n",
    "        if l == 0:\n",
    "            r += 1\n",
    "        elif r == len(arr) - 1 or x - arr[l - 1] <= arr[r + 1] - x:\n",
    "            l -= 1\n",
    "        else:\n",
    "            r += 1\n",
    "    return arr[l : r + 1]\n",
    "\n",
    "arr = [1,2,3,4,5]\n",
    "k = 4\n",
    "x = 3\n",
    "\n",
    "res = findClosestElements(arr, k, x)\n",
    "print(res)"
   ]
  }
 ],
 "metadata": {
  "kernelspec": {
   "display_name": "leetcode_env",
   "language": "python",
   "name": "python3"
  },
  "language_info": {
   "codemirror_mode": {
    "name": "ipython",
    "version": 3
   },
   "file_extension": ".py",
   "mimetype": "text/x-python",
   "name": "python",
   "nbconvert_exporter": "python",
   "pygments_lexer": "ipython3",
   "version": "3.8.6"
  }
 },
 "nbformat": 4,
 "nbformat_minor": 2
}
