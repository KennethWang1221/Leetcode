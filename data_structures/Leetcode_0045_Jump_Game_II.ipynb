{
 "cells": [
  {
   "cell_type": "markdown",
   "metadata": {},
   "source": [
    "## Method1 - Greedy\n",
    "\n",
    "https://www.youtube.com/watch?v=dJ7sWiOoK7g&t=120s"
   ]
  },
  {
   "cell_type": "code",
   "execution_count": 1,
   "metadata": {},
   "outputs": [
    {
     "name": "stdout",
     "output_type": "stream",
     "text": [
      "2\n"
     ]
    }
   ],
   "source": [
    "def canJump(nums):\n",
    "\n",
    "    res, l, r, n = 0, 0, 0, len(nums)\n",
    "\n",
    "    while r<n-1:\n",
    "        farthest = 0\n",
    "        for i in range(l, r+1):\n",
    "            jump = i + nums[i]\n",
    "            farthest = max(farthest, jump)\n",
    "        l = r + 1\n",
    "        r = farthest\n",
    "        res += 1\n",
    "    \n",
    "    return res\n",
    "\n",
    "nums = [2,3,1,1,4]\n",
    "res = canJump(nums)\n",
    "print(res)  "
   ]
  },
  {
   "cell_type": "markdown",
   "metadata": {},
   "source": [
    "## Method3 - Greedy\n",
    "https://github.com/youngyangyang04/leetcode-master/blob/master/problems/0045.%E8%B7%B3%E8%B7%83%E6%B8%B8%E6%88%8FII.md"
   ]
  },
  {
   "cell_type": "code",
   "execution_count": 2,
   "metadata": {},
   "outputs": [
    {
     "name": "stdout",
     "output_type": "stream",
     "text": [
      "2\n"
     ]
    }
   ],
   "source": [
    "def jump(nums):\n",
    "    n = len(nums)\n",
    "    if n == 1:\n",
    "        return 0\n",
    "    \n",
    "    cur_distance = 0  # 当前覆盖最远距离下标\n",
    "    ans = 0  # 记录走的最大步数\n",
    "    next_distance = 0  # 下一步覆盖最远距离下标\n",
    "    \n",
    "    for i in range(n):\n",
    "        next_distance = max(nums[i] + i, next_distance)  # 更新下一步覆盖最远距离下标\n",
    "        if i == cur_distance:  # 遇到当前覆盖最远距离下标\n",
    "            ans += 1  # 需要走下一步\n",
    "            cur_distance = next_distance  # 更新当前覆盖最远距离下标（相当于加油了）\n",
    "            if next_distance >= n - 1:  # 当前覆盖最远距离达到数组末尾，不用再做ans++操作，直接结束\n",
    "                break\n",
    "    \n",
    "    return ans\n",
    "\n",
    "nums = [2,3,1,1,4]\n",
    "res = jump(nums)\n",
    "print(res)  "
   ]
  },
  {
   "cell_type": "code",
   "execution_count": 3,
   "metadata": {},
   "outputs": [
    {
     "name": "stdout",
     "output_type": "stream",
     "text": [
      "2\n"
     ]
    }
   ],
   "source": [
    "def jump(nums):\n",
    "    n = len(nums)\n",
    "    cur_distance = 0  # 当前覆盖的最远距离下标\n",
    "    ans = 0  # 记录走的最大步数\n",
    "    next_distance = 0  # 下一步覆盖的最远距离下标\n",
    "    \n",
    "    for i in range(n - 1):  # 注意这里是小于n - 1，这是关键所在\n",
    "        next_distance = max(nums[i] + i, next_distance)  # 更新下一步覆盖的最远距离下标\n",
    "        if i == cur_distance:  # 遇到当前覆盖的最远距离下标\n",
    "            cur_distance = next_distance  # 更新当前覆盖的最远距离下标\n",
    "            ans += 1\n",
    "    \n",
    "    return ans\n",
    "nums = [2,3,1,1,4]\n",
    "res = jump(nums)\n",
    "print(res)  "
   ]
  },
  {
   "cell_type": "code",
   "execution_count": 4,
   "metadata": {},
   "outputs": [
    {
     "name": "stdout",
     "output_type": "stream",
     "text": [
      "2\n"
     ]
    }
   ],
   "source": [
    "def jump(nums):\n",
    "    n = len(nums)\n",
    "    if n==1:  # 如果数组只有一个元素，不需要跳跃，步数为0\n",
    "        return 0\n",
    "    \n",
    "    i = 0  # 当前位置\n",
    "    count = 0  # 步数计数器\n",
    "    cover = 0  # 当前能够覆盖的最远距离\n",
    "    \n",
    "    while i <= cover:  # 当前位置小于等于当前能够覆盖的最远距离时循环\n",
    "        for i in range(i, cover+1):  # 遍历从当前位置到当前能够覆盖的最远距离之间的所有位置\n",
    "            cover = max(nums[i]+i, cover)  # 更新当前能够覆盖的最远距离\n",
    "            if cover >= n-1:  # 如果当前能够覆盖的最远距离达到或超过数组的最后一个位置，直接返回步数+1\n",
    "                return count+1\n",
    "        count += 1  # 每一轮遍历结束后，步数+1\n",
    "nums = [2,3,1,1,4]\n",
    "res = jump(nums)\n",
    "print(res)  "
   ]
  },
  {
   "cell_type": "markdown",
   "metadata": {},
   "source": [
    "## Method3 - 1D Bottom-UP DP\n",
    "https://github.com/youngyangyang04/leetcode-master/blob/master/problems/0045.%E8%B7%B3%E8%B7%83%E6%B8%B8%E6%88%8FII.md"
   ]
  },
  {
   "cell_type": "code",
   "execution_count": 5,
   "metadata": {},
   "outputs": [
    {
     "name": "stdout",
     "output_type": "stream",
     "text": [
      "2\n"
     ]
    }
   ],
   "source": [
    "def jump(nums):\n",
    "    n = len(nums)\n",
    "    result = [10**4+1] * n  # 初始化结果数组，初始值为一个较大的数\n",
    "    result[0] = 0  # 起始位置的步数为0\n",
    "\n",
    "    for i in range(n):  # 遍历数组\n",
    "        for j in range(nums[i] + 1):  # 在当前位置能够跳跃的范围内遍历\n",
    "            if i + j < n:  # 确保下一跳的位置不超过数组范围\n",
    "                result[i + j] = min(result[i + j], result[i] + 1)  # 更新到达下一跳位置的最少步数\n",
    "\n",
    "    return result[-1]  # 返回到达最后一个位置的最少步数\n",
    "\n",
    "nums = [2,3,1,1,4]\n",
    "res = jump(nums)\n",
    "print(res)  "
   ]
  },
  {
   "cell_type": "markdown",
   "metadata": {},
   "source": [
    "## Leetcode_0055_Jump_Game "
   ]
  },
  {
   "cell_type": "code",
   "execution_count": 7,
   "metadata": {},
   "outputs": [
    {
     "name": "stdout",
     "output_type": "stream",
     "text": [
      "True\n"
     ]
    }
   ],
   "source": [
    "def canJump(nums):\n",
    "    n = len(nums)\n",
    "    goal = n - 1\n",
    "\n",
    "    for i in range(n-1,-1,-1):\n",
    "        jump = i + nums[i]\n",
    "        if jump >= goal:\n",
    "            goal = i\n",
    "    \n",
    "    if goal == 0:\n",
    "        return True\n",
    "    else:\n",
    "        return False\n",
    "nums = [2,3,1,1,4]\n",
    "res = canJump(nums)\n",
    "print(res)"
   ]
  }
 ],
 "metadata": {
  "kernelspec": {
   "display_name": "test_env",
   "language": "python",
   "name": "python3"
  },
  "language_info": {
   "codemirror_mode": {
    "name": "ipython",
    "version": 3
   },
   "file_extension": ".py",
   "mimetype": "text/x-python",
   "name": "python",
   "nbconvert_exporter": "python",
   "pygments_lexer": "ipython3",
   "version": "3.8.6"
  },
  "orig_nbformat": 4
 },
 "nbformat": 4,
 "nbformat_minor": 2
}
