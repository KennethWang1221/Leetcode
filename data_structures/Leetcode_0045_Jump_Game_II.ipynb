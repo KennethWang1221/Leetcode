{
 "cells": [
  {
   "cell_type": "markdown",
   "metadata": {},
   "source": [
    "## Method1 - Greedy\n",
    "\n",
    "https://www.youtube.com/watch?v=dJ7sWiOoK7g&t=120s"
   ]
  },
  {
   "cell_type": "code",
   "execution_count": 2,
   "metadata": {},
   "outputs": [
    {
     "name": "stdout",
     "output_type": "stream",
     "text": [
      "2\n"
     ]
    }
   ],
   "source": [
    "def canJump(nums):\n",
    "    res, l, r, n = 0, 0, 0, len(nums)\n",
    "\n",
    "    while r<n-1:\n",
    "        farthest = 0\n",
    "        for i in range(l, r+1):\n",
    "            jump = i + nums[i]\n",
    "            farthest = max(farthest, jump)\n",
    "        l = r + 1\n",
    "        r = farthest\n",
    "        res += 1\n",
    "    \n",
    "    return res\n",
    "\n",
    "nums = [2,3,1,1,4]\n",
    "res = canJump(nums)\n",
    "print(res)  "
   ]
  },
  {
   "cell_type": "markdown",
   "metadata": {},
   "source": [
    "## Leetcode_0055_Jump_Game "
   ]
  },
  {
   "cell_type": "code",
   "execution_count": null,
   "metadata": {},
   "outputs": [],
   "source": [
    "def canJump(nums):\n",
    "    n = len(nums)\n",
    "    goal = n - 1\n",
    "\n",
    "    for i in range(n-1,-1,-1):\n",
    "        jump = i + nums[i]\n",
    "        if jump >= goal:\n",
    "            goal = i\n",
    "    \n",
    "    if goal == 0:\n",
    "        return True\n",
    "    else:\n",
    "        return False\n",
    "nums = [2,3,1,1,4]\n",
    "res = canJump(nums)\n",
    "print(res)"
   ]
  }
 ],
 "metadata": {
  "kernelspec": {
   "display_name": "leetcode_env",
   "language": "python",
   "name": "leetcode_env"
  },
  "language_info": {
   "codemirror_mode": {
    "name": "ipython",
    "version": 3
   },
   "file_extension": ".py",
   "mimetype": "text/x-python",
   "name": "python",
   "nbconvert_exporter": "python",
   "pygments_lexer": "ipython3",
   "version": "3.8.6"
  },
  "orig_nbformat": 4
 },
 "nbformat": 4,
 "nbformat_minor": 2
}
