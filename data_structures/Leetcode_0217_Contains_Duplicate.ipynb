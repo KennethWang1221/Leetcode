{
 "cells": [
  {
   "cell_type": "markdown",
   "metadata": {},
   "source": [
    "## Method1"
   ]
  },
  {
   "cell_type": "code",
   "execution_count": 9,
   "metadata": {},
   "outputs": [
    {
     "name": "stdout",
     "output_type": "stream",
     "text": [
      "True\n"
     ]
    }
   ],
   "source": [
    "def containsDuplicate(nums):\n",
    "\n",
    "    hashmap = {}\n",
    "        \n",
    "    for n in nums:\n",
    "        if n in hashmap:\n",
    "            return True\n",
    "        else:\n",
    "            hashmap[n] = hashmap.get(n,0)\n",
    "    \n",
    "    return False\n",
    "\n",
    "nums = [1,2,3,1]\n",
    "res = containsDuplicate(nums)\n",
    "print(res)"
   ]
  },
  {
   "cell_type": "markdown",
   "metadata": {},
   "source": [
    "## Method2"
   ]
  },
  {
   "cell_type": "code",
   "execution_count": 10,
   "metadata": {},
   "outputs": [
    {
     "name": "stdout",
     "output_type": "stream",
     "text": [
      "True\n"
     ]
    }
   ],
   "source": [
    "def containsDuplicate(nums):\n",
    "\n",
    "    return len(nums) != len(set(nums))\n",
    "\n",
    "nums = [1,2,3,1]\n",
    "res = containsDuplicate(nums)\n",
    "print(res)"
   ]
  },
  {
   "cell_type": "code",
   "execution_count": 8,
   "metadata": {},
   "outputs": [
    {
     "name": "stdout",
     "output_type": "stream",
     "text": [
      "{1: 2, 2: 1, 3: 1}\n"
     ]
    }
   ],
   "source": [
    "nums = [1,2,3,1]\n",
    "hashmap  = {}\n",
    "for i in range(len(nums)):\n",
    "    hashmap[nums[i]] = hashmap.get(nums[i], 0) + 1\n",
    "print(hashmap)"
   ]
  },
  {
   "cell_type": "markdown",
   "metadata": {},
   "source": [
    "## Method3\n",
    "https://www.youtube.com/watch?v=3OamzN90kPg"
   ]
  },
  {
   "cell_type": "code",
   "execution_count": 1,
   "metadata": {},
   "outputs": [
    {
     "name": "stdout",
     "output_type": "stream",
     "text": [
      "True\n"
     ]
    }
   ],
   "source": [
    "def containsDuplicate(nums):\n",
    "    hashset = set()\n",
    "\n",
    "    for n in nums:\n",
    "        if n in hashset:\n",
    "            return True\n",
    "        hashset.add(n)\n",
    "    return False\n",
    "\n",
    "nums = [1,2,3,1]\n",
    "res = containsDuplicate(nums)\n",
    "print(res)"
   ]
  }
 ],
 "metadata": {
  "kernelspec": {
   "display_name": "Python 3.8.6 64-bit ('leetcode_env')",
   "language": "python",
   "name": "python3"
  },
  "language_info": {
   "codemirror_mode": {
    "name": "ipython",
    "version": 3
   },
   "file_extension": ".py",
   "mimetype": "text/x-python",
   "name": "python",
   "nbconvert_exporter": "python",
   "pygments_lexer": "ipython3",
   "version": "3.8.10"
  },
  "orig_nbformat": 4,
  "vscode": {
   "interpreter": {
    "hash": "846fd2d9bb562a436898b7cc368204fc2f9d44e5e9b051b4f6e855e721078f23"
   }
  }
 },
 "nbformat": 4,
 "nbformat_minor": 2
}
