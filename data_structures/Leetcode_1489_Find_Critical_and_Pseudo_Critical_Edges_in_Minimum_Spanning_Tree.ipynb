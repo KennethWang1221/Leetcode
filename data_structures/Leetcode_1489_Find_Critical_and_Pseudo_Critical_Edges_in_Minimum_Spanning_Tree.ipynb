{
 "cells": [
  {
   "cell_type": "markdown",
   "metadata": {},
   "source": [
    "## Method1 -UnionFind\n",
    "https://www.youtube.com/watch?v=83JnUxrLKJU"
   ]
  },
  {
   "cell_type": "code",
   "execution_count": 2,
   "metadata": {},
   "outputs": [
    {
     "data": {
      "text/plain": [
       "[[0, 1], [2, 3, 4, 5]]"
      ]
     },
     "execution_count": 2,
     "metadata": {},
     "output_type": "execute_result"
    }
   ],
   "source": [
    "class UnionFind:\n",
    "    def __init__(self, n):\n",
    "        self.par = [i for i in range(n)]\n",
    "        self.rank = [1] * n\n",
    "\n",
    "    def find(self, v1):\n",
    "        while v1 != self.par[v1]:\n",
    "            self.par[v1] = self.par[self.par[v1]]\n",
    "            v1 = self.par[v1]\n",
    "        return v1\n",
    "\n",
    "    def union(self, v1, v2):\n",
    "        p1, p2 = self.find(v1), self.find(v2)\n",
    "        if p1 == p2:\n",
    "            return False\n",
    "        if self.rank[p1] > self.rank[p2]:\n",
    "            self.par[p2] = p1\n",
    "            self.rank[p1] += self.rank[p2]\n",
    "        else:\n",
    "            self.par[p1] = p2\n",
    "            self.rank[p2] += self.rank[p1]\n",
    "        return True\n",
    "\n",
    "class Solution:\n",
    "    def findCriticalAndPseudoCriticalEdges(self, n, edges):\n",
    "        # Time: O(E^2) - UF operations are assumed to be approx O(1)\n",
    "        for i, e in enumerate(edges):\n",
    "            e.append(i) # [v1, v2, weight, original_index]\n",
    "\n",
    "        edges.sort(key=lambda e: e[2])\n",
    "\n",
    "        mst_weight = 0\n",
    "        uf = UnionFind(n)\n",
    "        for v1, v2, w, i in edges:\n",
    "            if uf.union(v1, v2):\n",
    "                mst_weight += w\n",
    "\n",
    "        critical, pseudo = [], []\n",
    "        for n1, n2, e_weight, i in edges:\n",
    "            # Try without curr edge\n",
    "            weight = 0\n",
    "            uf = UnionFind(n)\n",
    "            for v1, v2, w, j in edges:\n",
    "                if i != j and uf.union(v1, v2):\n",
    "                    weight += w\n",
    "            if max(uf.rank) != n or weight > mst_weight:\n",
    "                critical.append(i)\n",
    "                continue\n",
    "            \n",
    "            # Try with curr edge\n",
    "            uf = UnionFind(n)\n",
    "            uf.union(n1, n2)\n",
    "            weight = e_weight\n",
    "            for v1, v2, w, j in edges:\n",
    "                if uf.union(v1, v2):\n",
    "                    weight += w\n",
    "            if weight == mst_weight:\n",
    "                pseudo.append(i)\n",
    "        return [critical, pseudo]\n",
    "n = 5\n",
    "edges = [[0,1,1],[1,2,1],[2,3,2],[0,3,2],[0,4,3],[3,4,3],[1,4,6]]\n",
    "s = Solution()\n",
    "s.findCriticalAndPseudoCriticalEdges(n,edges)"
   ]
  }
 ],
 "metadata": {
  "kernelspec": {
   "display_name": "leetcode_env",
   "language": "python",
   "name": "python3"
  },
  "language_info": {
   "codemirror_mode": {
    "name": "ipython",
    "version": 3
   },
   "file_extension": ".py",
   "mimetype": "text/x-python",
   "name": "python",
   "nbconvert_exporter": "python",
   "pygments_lexer": "ipython3",
   "version": "3.8.6"
  }
 },
 "nbformat": 4,
 "nbformat_minor": 2
}
