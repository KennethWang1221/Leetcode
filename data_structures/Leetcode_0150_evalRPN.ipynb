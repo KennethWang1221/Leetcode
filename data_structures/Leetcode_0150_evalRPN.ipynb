{
 "cells": [
  {
   "cell_type": "markdown",
   "metadata": {},
   "source": [
    "## Method1 - Stack\n"
   ]
  },
  {
   "cell_type": "code",
   "execution_count": 16,
   "metadata": {},
   "outputs": [
    {
     "name": "stdout",
     "output_type": "stream",
     "text": [
      "22\n"
     ]
    }
   ],
   "source": [
    "def evalRPN(tokens):\n",
    "    stack = []\n",
    "    \n",
    "    for t in tokens:\n",
    "        \n",
    "        if t == '+':\n",
    "            a1 = stack.pop(-1)\n",
    "            a2 = stack.pop(-1)\n",
    "            x = a2+a1\n",
    "            stack.append(x)\n",
    "        elif t == '-':\n",
    "            a1 = stack.pop(-1)\n",
    "            a2 = stack.pop(-1)\n",
    "            x = a2-a1\n",
    "            stack.append(x)\n",
    "        elif t == '*':\n",
    "            a1 = stack.pop(-1)\n",
    "            a2 = stack.pop(-1)\n",
    "            x = a2*a1\n",
    "            stack.append(x)\n",
    "        elif t =='/':\n",
    "            a1 = stack.pop(-1)\n",
    "            a2 = stack.pop(-1)\n",
    "            x = a2/a1\n",
    "            x = int(x)\n",
    "            stack.append(x)\n",
    "            \n",
    "        else:\n",
    "            t = int(t)\n",
    "            stack.append(t)\n",
    "            \n",
    "    return stack[-1]\n",
    "\n",
    "tokens = [\"2\",\"1\",\"+\",\"3\",\"*\"]\n",
    "tokens = [\"4\",\"13\",\"5\",\"/\",\"+\"]\n",
    "tokens = [\"10\",\"6\",\"9\",\"3\",\"+\",\"-11\",\"*\",\"/\",\"*\",\"17\",\"+\",\"5\",\"+\"]\n",
    "#tokens = [\"4\",\"3\",\"-\"]\n",
    "result = evalRPN(tokens)\n",
    "print(result)"
   ]
  }
 ],
 "metadata": {
  "kernelspec": {
   "display_name": "leetcode_env",
   "language": "python",
   "name": "leetcode_env"
  },
  "language_info": {
   "codemirror_mode": {
    "name": "ipython",
    "version": 3
   },
   "file_extension": ".py",
   "mimetype": "text/x-python",
   "name": "python",
   "nbconvert_exporter": "python",
   "pygments_lexer": "ipython3",
   "version": "3.8.6"
  },
  "orig_nbformat": 4,
  "vscode": {
   "interpreter": {
    "hash": "846fd2d9bb562a436898b7cc368204fc2f9d44e5e9b051b4f6e855e721078f23"
   }
  }
 },
 "nbformat": 4,
 "nbformat_minor": 2
}
