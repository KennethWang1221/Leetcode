{
 "cells": [
  {
   "cell_type": "markdown",
   "metadata": {},
   "source": [
    "## Method1 - Hashset - DIY"
   ]
  },
  {
   "cell_type": "code",
   "execution_count": 1,
   "metadata": {},
   "outputs": [
    {
     "name": "stdout",
     "output_type": "stream",
     "text": [
      "bbAa\n"
     ]
    }
   ],
   "source": [
    "def frequencySort(s):\n",
    "    n = len(s)\n",
    "    res = \"\"\n",
    "    freq = {}\n",
    "    for i in range(n):\n",
    "        freq[s[i]] = freq.get(s[i], 0) + 1\n",
    "    \n",
    "    record = []\n",
    "    for key,value in freq.items():\n",
    "        record.append([value,key])\n",
    "    record.sort(key=lambda x: x[0], reverse=True)\n",
    "    \n",
    "    for item in record:\n",
    "        cnt, char = item[0], item[1]\n",
    "        while cnt > 0:\n",
    "            res += char\n",
    "            cnt -=1\n",
    "    return res\n",
    " \n",
    "print(frequencySort(s='Aabb'))"
   ]
  },
  {
   "cell_type": "markdown",
   "metadata": {},
   "source": [
    "## Method1 - Hashset\n",
    "\n",
    "https://www.youtube.com/watch?v=OXdXc9HTrIg"
   ]
  },
  {
   "cell_type": "code",
   "execution_count": 2,
   "metadata": {},
   "outputs": [
    {
     "name": "stdout",
     "output_type": "stream",
     "text": [
      "bbAa\n"
     ]
    }
   ],
   "source": [
    "from collections import Counter\n",
    "from collections import defaultdict\n",
    "\n",
    "def frequencySort(s):\n",
    "    n = len(s)\n",
    "    count = Counter(s)\n",
    "    buckets = defaultdict(list)\n",
    "\n",
    "    for char, cnt in count.items():\n",
    "        buckets[cnt].append(char)\n",
    "    \n",
    "    res = []\n",
    "    for i in range(n, 0, -1):\n",
    "        for c in buckets[i]:\n",
    "            res.append(c*i)\n",
    "    return \"\".join(res)\n",
    " \n",
    "print(frequencySort(s='Aabb'))"
   ]
  }
 ],
 "metadata": {
  "kernelspec": {
   "display_name": "leetcode_env",
   "language": "python",
   "name": "python3"
  },
  "language_info": {
   "codemirror_mode": {
    "name": "ipython",
    "version": 3
   },
   "file_extension": ".py",
   "mimetype": "text/x-python",
   "name": "python",
   "nbconvert_exporter": "python",
   "pygments_lexer": "ipython3",
   "version": "3.8.6"
  }
 },
 "nbformat": 4,
 "nbformat_minor": 2
}
