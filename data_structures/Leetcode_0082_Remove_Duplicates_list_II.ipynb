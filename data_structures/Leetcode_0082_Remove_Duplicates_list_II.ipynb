{
 "cells": [
  {
   "cell_type": "markdown",
   "metadata": {},
   "source": [
    "## Method1 - Simplify version - two points\n",
    "https://www.bilibili.com/video/BV1Fi4y187pj"
   ]
  },
  {
   "cell_type": "code",
   "execution_count": 1,
   "metadata": {},
   "outputs": [
    {
     "name": "stdout",
     "output_type": "stream",
     "text": [
      "1,2,3,3,4,4,5,\n",
      "1,2,5,"
     ]
    }
   ],
   "source": [
    "class ListNode:\n",
    "    def __init__(self, x):\n",
    "        self.val = x\n",
    "        self.next = None\n",
    "\n",
    "\n",
    "def make_list(arr):\n",
    "    head_node = None\n",
    "    p_node = None\n",
    "    for a in arr:\n",
    "        new_node = ListNode(a)\n",
    "        if head_node is None:\n",
    "            head_node = new_node\n",
    "            p_node = new_node\n",
    "        else:\n",
    "            p_node.next = new_node\n",
    "            p_node = new_node\n",
    "    return head_node\n",
    "\n",
    "\n",
    "def print_list(head):\n",
    "    while head is not None:\n",
    "        print(head.val, end=',')\n",
    "        head = head.next\n",
    "        \n",
    "class Solution:\n",
    "    \"\"\"\n",
    "    1. Just use cur and cur.next to let code to go head\n",
    "    2. Not big different from Method1, just write here to understanding\n",
    "    \"\"\"\n",
    "    def deleteDuplicates(self, head):\n",
    "        dummy = ListNode(0)\n",
    "        dummy.next = head\n",
    "        pre = dummy\n",
    "        cur = pre.next\n",
    "        if head == None or head.next == None:\n",
    "            return head\n",
    "        while cur.next !=None:\n",
    "            while cur.next !=None and cur.val == cur.next.val:\n",
    "                cur = cur.next\n",
    "            if pre.next != cur:\n",
    "                pre.next = cur.next\n",
    "                if pre.next !=None:\n",
    "                    cur = pre.next\n",
    "            else:\n",
    "                pre = cur\n",
    "                if pre.next !=None:\n",
    "                    cur = pre.next\n",
    "\n",
    "        return dummy.next\n",
    "            \n",
    "\n",
    "\n",
    "s = Solution()\n",
    "a = [1,2,3,3,4,4,5]\n",
    "head = make_list(a)\n",
    "print_list(head)\n",
    "head = s.deleteDuplicates(head)\n",
    "print()\n",
    "print_list(head)"
   ]
  },
  {
   "cell_type": "markdown",
   "metadata": {},
   "source": [
    "## Method2 - Involve three points"
   ]
  },
  {
   "cell_type": "code",
   "execution_count": 16,
   "metadata": {},
   "outputs": [
    {
     "name": "stdout",
     "output_type": "stream",
     "text": [
      "1,1,2,3,\n",
      "2,3,"
     ]
    }
   ],
   "source": [
    "class ListNode:\n",
    "    def __init__(self, x):\n",
    "        self.val = x\n",
    "        self.next = None\n",
    "\n",
    "\n",
    "def make_list(arr):\n",
    "    head_node = None\n",
    "    p_node = None\n",
    "    for a in arr:\n",
    "        new_node = ListNode(a)\n",
    "        if head_node is None:\n",
    "            head_node = new_node\n",
    "            p_node = new_node\n",
    "        else:\n",
    "            p_node.next = new_node\n",
    "            p_node = new_node\n",
    "    return head_node\n",
    "\n",
    "\n",
    "def print_list(head):\n",
    "    while head is not None:\n",
    "        print(head.val, end=',')\n",
    "        head = head.next\n",
    "\n",
    "# \n",
    "# https://www.bilibili.com/video/BV1Fi4y187pj\n",
    "class Solution:\n",
    "    \"\"\"\n",
    "    1. Same, use pre+cur+future node to let loop go head\n",
    "    2. Unlike 83, this 82 should delete all duplicates\n",
    "    3. It should pratice more to understanding\n",
    "    \"\"\"\n",
    "    def deleteDuplicates(self, head):\n",
    "        dummy  =  ListNode(0)\n",
    "        dummy.next = head\n",
    "        pre = dummy\n",
    "        cur = pre.next\n",
    "        future = cur.next\n",
    "\n",
    "        while future !=None:\n",
    "            while future !=None and cur.val == future.val:\n",
    "                cur = future\n",
    "                future = cur.next\n",
    "            if pre.next != cur: # this if-else is so important and good ! \n",
    "                pre.next = cur.next\n",
    "                cur = pre.next\n",
    "                if cur !=None:\n",
    "                    future = cur.next\n",
    "            else: #if pre.next == cur:\n",
    "                pre = cur\n",
    "                cur = pre.next\n",
    "                if cur !=None:\n",
    "                    future = cur.next\n",
    "\n",
    "        return dummy.next\n",
    "\n",
    "s = Solution()\n",
    "#a = [1,2,2,2,3,3,4]\n",
    "a = [1,1,2,3]\n",
    "head = make_list(a)\n",
    "print_list(head)\n",
    "head = s.deleteDuplicates(head)\n",
    "print()\n",
    "print_list(head)"
   ]
  }
 ],
 "metadata": {
  "interpreter": {
   "hash": "846fd2d9bb562a436898b7cc368204fc2f9d44e5e9b051b4f6e855e721078f23"
  },
  "kernelspec": {
   "display_name": "leetcode_env",
   "language": "python",
   "name": "leetcode_env"
  },
  "language_info": {
   "codemirror_mode": {
    "name": "ipython",
    "version": 3
   },
   "file_extension": ".py",
   "mimetype": "text/x-python",
   "name": "python",
   "nbconvert_exporter": "python",
   "pygments_lexer": "ipython3",
   "version": "3.8.6"
  },
  "orig_nbformat": 4
 },
 "nbformat": 4,
 "nbformat_minor": 2
}
