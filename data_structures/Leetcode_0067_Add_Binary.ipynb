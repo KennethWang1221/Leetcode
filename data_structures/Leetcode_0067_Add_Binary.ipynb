{
 "cells": [
  {
   "cell_type": "markdown",
   "metadata": {},
   "source": [
    "## Method1 - Bit Manipulation\n",
    "https://www.youtube.com/watch?v=keuWJ47xG8g"
   ]
  },
  {
   "cell_type": "code",
   "execution_count": 10,
   "metadata": {},
   "outputs": [
    {
     "name": "stdout",
     "output_type": "stream",
     "text": [
      "10101\n"
     ]
    }
   ],
   "source": [
    "def addBinary(a, b):\n",
    "    res=\"\"\n",
    "    carry = 0\n",
    "    a = a[::-1]\n",
    "    b = b[::-1]\n",
    "    for i in range(max(len(a), len(b))):\n",
    "        # 1010\n",
    "        # 1011\n",
    "        digitA = ord(a[i]) - ord('0') if i < len(a) else 0\n",
    "        digitB = ord(b[i]) - ord('0') if i < len(b) else 0\n",
    "\n",
    "        total = digitA + digitB + carry\n",
    "        char = str(total % 2)\n",
    "        res = char + res\n",
    "        carry = total // 2\n",
    "\n",
    "    if carry:\n",
    "        res = '1' + res\n",
    "    return res\n",
    "\n",
    "\n",
    "a = \"11\"\n",
    "b = \"1\"\n",
    "a = '1010'\n",
    "b = '1011'\n",
    "res = addBinary(a,b)\n",
    "print(res)"
   ]
  }
 ],
 "metadata": {
  "kernelspec": {
   "display_name": "leetcode_env",
   "language": "python",
   "name": "leetcode_env"
  },
  "language_info": {
   "codemirror_mode": {
    "name": "ipython",
    "version": 3
   },
   "file_extension": ".py",
   "mimetype": "text/x-python",
   "name": "python",
   "nbconvert_exporter": "python",
   "pygments_lexer": "ipython3",
   "version": "3.8.6"
  }
 },
 "nbformat": 4,
 "nbformat_minor": 2
}
