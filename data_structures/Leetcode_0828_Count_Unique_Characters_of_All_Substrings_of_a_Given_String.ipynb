{
 "cells": [
  {
   "cell_type": "markdown",
   "metadata": {},
   "source": [
    "## Method1 - Array"
   ]
  },
  {
   "cell_type": "code",
   "execution_count": 1,
   "metadata": {},
   "outputs": [
    {
     "name": "stdout",
     "output_type": "stream",
     "text": [
      "10\n"
     ]
    }
   ],
   "source": [
    "def uniqueLetterString(s):\n",
    "    from collections import defaultdict\n",
    "    positions = defaultdict(list)\n",
    "    n = len(s)\n",
    "    \n",
    "    for i, ch in enumerate(s):\n",
    "        positions[ch].append(i)\n",
    "    \n",
    "    ans = 0\n",
    "    for ch, inds in positions.items():\n",
    "        inds = [-1] + inds + [n]\n",
    "        for j in range(1, len(inds)-1):\n",
    "            ans += (inds[j] - inds[j-1]) * (inds[j+1] - inds[j])\n",
    "    return ans\n",
    "print(uniqueLetterString(s = \"ABC\"))"
   ]
  }
 ],
 "metadata": {
  "kernelspec": {
   "display_name": "leetcode_env",
   "language": "python",
   "name": "leetcode_env"
  },
  "language_info": {
   "codemirror_mode": {
    "name": "ipython",
    "version": 3
   },
   "file_extension": ".py",
   "mimetype": "text/x-python",
   "name": "python",
   "nbconvert_exporter": "python",
   "pygments_lexer": "ipython3",
   "version": "3.8.6"
  }
 },
 "nbformat": 4,
 "nbformat_minor": 2
}
