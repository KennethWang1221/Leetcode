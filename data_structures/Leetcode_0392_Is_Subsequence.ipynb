{
 "cells": [
  {
   "cell_type": "markdown",
   "metadata": {},
   "source": [
    "## Method1 - 2D Bottom-UP DP\n",
    "\n",
    "source string: row\n",
    "\n",
    "target string: col"
   ]
  },
  {
   "cell_type": "code",
   "execution_count": 4,
   "metadata": {},
   "outputs": [
    {
     "name": "stdout",
     "output_type": "stream",
     "text": [
      "False\n"
     ]
    }
   ],
   "source": [
    "def isSubsequence(s, t):\n",
    "\n",
    "    s_n = len(s)\n",
    "    t_n = len(t)\n",
    "    \n",
    "    # dp[i][j] represents if s[i:] is a subsequence of t[j:]\n",
    "    dp = [[0] * (t_n + 1) for _ in range(s_n + 1)]\n",
    "    \n",
    "    # An empty string is always a subsequence of any string\n",
    "    for j in range(t_n + 1):\n",
    "        dp[s_n][j] = 1\n",
    "    \n",
    "    # Fill the dp table from bottom-right to top-left\n",
    "    for i in range(s_n - 1, -1, -1):\n",
    "        for j in range(t_n - 1, -1, -1):\n",
    "            if s[i] == t[j]:\n",
    "                dp[i][j] = dp[i + 1][j + 1]  # Move both pointers\n",
    "            else:\n",
    "                dp[i][j] = dp[i][j + 1]  # Skip a character in t\n",
    "    \n",
    "    # The answer is whether s[0:] is a subsequence of t[0:]\n",
    "    return True if dp[0][0] else False\n",
    "\n",
    "s = \"aec\"\n",
    "t = \"abcde\"\n",
    "res = isSubsequence(s, t)\n",
    "print(res)"
   ]
  },
  {
   "cell_type": "markdown",
   "metadata": {},
   "source": [
    "## Method2 - 2D Bottom-UP DP - Recap\n",
    "\n",
    "In this case, s = 'abc' is source, and t = 'ahbgdc' is target\n",
    "\n",
    "source string: col\n",
    "\n",
    "target string: row"
   ]
  },
  {
   "cell_type": "code",
   "execution_count": 4,
   "metadata": {},
   "outputs": [
    {
     "name": "stdout",
     "output_type": "stream",
     "text": [
      "False\n"
     ]
    }
   ],
   "source": [
    "# wrong\n",
    "def isSubsequence(s,t):\n",
    "    s_n = len(s)\n",
    "    t_n = len(t)\n",
    "\n",
    "    dp = [[0] * (s_n+1) for i in range(t_n+1)]\n",
    "\n",
    "    for i in range(t_n+1):\n",
    "        dp[i][-1] = 1\n",
    "\n",
    "    for i in range(t_n-1,-1,-1):\n",
    "        for j in range(s_n-1,-1,-1):\n",
    "            if t[i] == s[j]:\n",
    "                dp[i][j] = dp[i+1][j+1]\n",
    "            else:\n",
    "                dp[i][j] = dp[i+1][j]\n",
    "\n",
    "    return True if dp[0][0] else False\n",
    "\n",
    "print(isSubsequence(s = \"axc\", t = \"ahbgdc\"))"
   ]
  },
  {
   "cell_type": "markdown",
   "metadata": {},
   "source": [
    "## Method2 - 2D Bottom-UP DP - Failure \n",
    "\n",
    "source string: col\n",
    "\n",
    "target string: row"
   ]
  },
  {
   "cell_type": "code",
   "execution_count": 5,
   "metadata": {},
   "outputs": [
    {
     "name": "stdout",
     "output_type": "stream",
     "text": [
      "True\n"
     ]
    }
   ],
   "source": [
    "def isSubsequence(s,t):\n",
    "    s_n = len(s)\n",
    "    t_n = len(t)\n",
    "\n",
    "    dp = [[0] * (s_n+1) for i in range(t_n+1)]\n",
    "\n",
    "    for i in range(s_n+1):\n",
    "        dp[-1][i] = 1\n",
    "\n",
    "    for i in range(t_n-1,-1,-1):\n",
    "        for j in range(s_n-1,-1,-1):\n",
    "            if t[i] == s[j]:\n",
    "                dp[i][j] = dp[i+1][j+1]\n",
    "            else:\n",
    "                dp[i][j] = dp[i+1][j]\n",
    "\n",
    "    return True if dp[0][0] else False\n",
    "\n",
    "print(isSubsequence(s = \"axc\", t = \"ahbgdc\"))"
   ]
  },
  {
   "cell_type": "markdown",
   "metadata": {},
   "source": [
    "## Method3 - Two Pointers\n",
    "https://www.youtube.com/watch?v=99RVfqklbCE"
   ]
  },
  {
   "cell_type": "code",
   "execution_count": 50,
   "metadata": {},
   "outputs": [
    {
     "name": "stdout",
     "output_type": "stream",
     "text": [
      "False\n"
     ]
    }
   ],
   "source": [
    "def isSubsequence(s: str, t: str) -> bool:\n",
    "    i, j = 0, 0\n",
    "\n",
    "    while i<len(s) and j<len(t):\n",
    "        if s[i] == t[j]:\n",
    "            i,j = i+1, j+1\n",
    "        else:\n",
    "            j+=1\n",
    "    \n",
    "    if i==len(s):\n",
    "        return True\n",
    "    else:\n",
    "        return False\n",
    "s = \"axb\"\n",
    "t = \"ahbgdc\"\n",
    "res = isSubsequence(s,t)\n",
    "print(res)"
   ]
  },
  {
   "cell_type": "markdown",
   "metadata": {},
   "source": [
    "## Failure"
   ]
  },
  {
   "cell_type": "code",
   "execution_count": 40,
   "metadata": {},
   "outputs": [
    {
     "name": "stdout",
     "output_type": "stream",
     "text": [
      "True\n"
     ]
    }
   ],
   "source": [
    "def test(s,t):\n",
    "    n1 = len(s)\n",
    "    n2 = len(t)\n",
    "\n",
    "    dp = [[0] * (n2+1) for i in range(n1+1)]\n",
    "\n",
    "    for i in range(n1):\n",
    "        for j in range(n2):\n",
    "            if s[i] == t[j]:\n",
    "                dp[i][j] = 1 + dp[i+1][j+1]\n",
    "            else:\n",
    "                dp[i][j] = max(dp[i+1][j], dp[i][j+1])\n",
    "    if dp[0][0] == 1:\n",
    "        return True\n",
    "    else:\n",
    "        return False\n",
    "\n",
    "s = \"axc\"\n",
    "t = \"ahbgdc\"\n",
    "res = test(s,t)\n",
    "print(res)"
   ]
  },
  {
   "cell_type": "markdown",
   "metadata": {},
   "source": [
    "## Failure"
   ]
  },
  {
   "cell_type": "code",
   "execution_count": 37,
   "metadata": {},
   "outputs": [
    {
     "name": "stdout",
     "output_type": "stream",
     "text": [
      "True\n"
     ]
    }
   ],
   "source": [
    "def test(s,t):\n",
    "    n1 = len(s)\n",
    "    n2 = len(t)\n",
    "    flag = False\n",
    "    for i in range(n1):\n",
    "        for j in range(i,n2):\n",
    "            if s[i] == t[j]:\n",
    "                flag = True\n",
    "                break\n",
    "        if flag == False: return\n",
    "    return flag\n",
    "\n",
    "s = \"axc\"\n",
    "t = \"ahbgdc\"\n",
    "res = test(s,t)\n",
    "print(res)"
   ]
  }
 ],
 "metadata": {
  "kernelspec": {
   "display_name": "test_env",
   "language": "python",
   "name": "python3"
  },
  "language_info": {
   "codemirror_mode": {
    "name": "ipython",
    "version": 3
   },
   "file_extension": ".py",
   "mimetype": "text/x-python",
   "name": "python",
   "nbconvert_exporter": "python",
   "pygments_lexer": "ipython3",
   "version": "3.8.6"
  },
  "orig_nbformat": 4
 },
 "nbformat": 4,
 "nbformat_minor": 2
}
