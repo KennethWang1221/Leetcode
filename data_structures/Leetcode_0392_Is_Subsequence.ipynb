{
 "cells": [
  {
   "cell_type": "markdown",
   "metadata": {},
   "source": [
    "## Method1 - 2D Bottom-UP DP"
   ]
  },
  {
   "cell_type": "code",
   "execution_count": 47,
   "metadata": {},
   "outputs": [
    {
     "name": "stdout",
     "output_type": "stream",
     "text": [
      "False\n"
     ]
    }
   ],
   "source": [
    "def isSubsequence(s: str, t: str) -> bool:\n",
    "    m, n = len(s), len(t)\n",
    "    \n",
    "    # Create a 2D DP table with dimensions (m+1) x (n+1)\n",
    "    dp = [[False] * (n + 1) for _ in range(m + 1)]\n",
    "    \n",
    "    # An empty s is always a subsequence of any suffix of t\n",
    "    for j in range(n + 1):\n",
    "        dp[m][j] = True\n",
    "    \n",
    "    # Fill the DP table from bottom-right to top-left\n",
    "    for i in range(m - 1, -1, -1):\n",
    "        for j in range(n - 1, -1, -1):\n",
    "            if s[i] == t[j]:\n",
    "                dp[i][j] = dp[i + 1][j + 1]  # Characters match\n",
    "            dp[i][j] = dp[i][j] or dp[i][j + 1]  # Include the possibility of not matching the current character of t\n",
    "    \n",
    "    # The result is whether the entire s is a subsequence of the entire t\n",
    "    return dp[0][0]\n",
    "s = \"axb\"\n",
    "t = \"ahbgdc\"\n",
    "res = isSubsequence(s,t)\n",
    "print(res)"
   ]
  },
  {
   "cell_type": "code",
   "execution_count": 7,
   "metadata": {},
   "outputs": [
    {
     "name": "stdout",
     "output_type": "stream",
     "text": [
      "False\n"
     ]
    }
   ],
   "source": [
    "def isSubsequence(s: str, t: str) -> bool:\n",
    "    n1 = len(s)\n",
    "    n2 = len(t)\n",
    "    dp = [[0] * (n2+1) for _ in range(n1+1)]\n",
    "    for i in range(n1-1,-1,-1):\n",
    "        for j in range(n2-1,-1,-1):\n",
    "            if s[i] == t[j]:\n",
    "                dp[i][j] = 1+dp[i+1][j+1]\n",
    "            else:\n",
    "                dp[i][j] = dp[i][j+1]\n",
    "    if dp[0][0] == len(s):\n",
    "        return True\n",
    "    return False\n",
    "s = \"axb\"\n",
    "t = \"ahbgdc\"\n",
    "res = isSubsequence(s,t)\n",
    "print(res)"
   ]
  },
  {
   "cell_type": "markdown",
   "metadata": {},
   "source": [
    "## Method2 - Two Pointers\n",
    "https://www.youtube.com/watch?v=99RVfqklbCE"
   ]
  },
  {
   "cell_type": "code",
   "execution_count": 50,
   "metadata": {},
   "outputs": [
    {
     "name": "stdout",
     "output_type": "stream",
     "text": [
      "False\n"
     ]
    }
   ],
   "source": [
    "def isSubsequence(s: str, t: str) -> bool:\n",
    "    i, j = 0, 0\n",
    "\n",
    "    while i<len(s) and j<len(t):\n",
    "        if s[i] == t[j]:\n",
    "            i,j = i+1, j+1\n",
    "        else:\n",
    "            j+=1\n",
    "    \n",
    "    if i==len(s):\n",
    "        return True\n",
    "    else:\n",
    "        return False\n",
    "s = \"axb\"\n",
    "t = \"ahbgdc\"\n",
    "res = isSubsequence(s,t)\n",
    "print(res)"
   ]
  },
  {
   "cell_type": "markdown",
   "metadata": {},
   "source": [
    "## Failure"
   ]
  },
  {
   "cell_type": "code",
   "execution_count": 40,
   "metadata": {},
   "outputs": [
    {
     "name": "stdout",
     "output_type": "stream",
     "text": [
      "True\n"
     ]
    }
   ],
   "source": [
    "def test(s,t):\n",
    "    n1 = len(s)\n",
    "    n2 = len(t)\n",
    "\n",
    "    dp = [[0] * (n2+1) for i in range(n1+1)]\n",
    "\n",
    "    for i in range(n1):\n",
    "        for j in range(n2):\n",
    "            if s[i] == t[j]:\n",
    "                dp[i][j] = 1 + dp[i+1][j+1]\n",
    "            else:\n",
    "                dp[i][j] = max(dp[i+1][j], dp[i][j+1])\n",
    "    if dp[0][0] == 1:\n",
    "        return True\n",
    "    else:\n",
    "        return False\n",
    "\n",
    "s = \"axc\"\n",
    "t = \"ahbgdc\"\n",
    "res = test(s,t)\n",
    "print(res)"
   ]
  },
  {
   "cell_type": "markdown",
   "metadata": {},
   "source": [
    "## Failure"
   ]
  },
  {
   "cell_type": "code",
   "execution_count": 37,
   "metadata": {},
   "outputs": [
    {
     "name": "stdout",
     "output_type": "stream",
     "text": [
      "True\n"
     ]
    }
   ],
   "source": [
    "def test(s,t):\n",
    "    n1 = len(s)\n",
    "    n2 = len(t)\n",
    "    flag = False\n",
    "    for i in range(n1):\n",
    "        for j in range(i,n2):\n",
    "            if s[i] == t[j]:\n",
    "                flag = True\n",
    "                break\n",
    "        if flag == False: return\n",
    "    return flag\n",
    "\n",
    "s = \"axc\"\n",
    "t = \"ahbgdc\"\n",
    "res = test(s,t)\n",
    "print(res)"
   ]
  }
 ],
 "metadata": {
  "interpreter": {
   "hash": "846fd2d9bb562a436898b7cc368204fc2f9d44e5e9b051b4f6e855e721078f23"
  },
  "kernelspec": {
   "display_name": "test_env",
   "language": "python",
   "name": "test_env"
  },
  "language_info": {
   "codemirror_mode": {
    "name": "ipython",
    "version": 3
   },
   "file_extension": ".py",
   "mimetype": "text/x-python",
   "name": "python",
   "nbconvert_exporter": "python",
   "pygments_lexer": "ipython3",
   "version": "3.8.6"
  },
  "orig_nbformat": 4
 },
 "nbformat": 4,
 "nbformat_minor": 2
}
