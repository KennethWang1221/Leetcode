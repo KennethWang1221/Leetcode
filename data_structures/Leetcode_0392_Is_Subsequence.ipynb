{
 "cells": [
  {
   "cell_type": "markdown",
   "metadata": {},
   "source": [
    "## Method1 - String\n",
    "https://www.youtube.com/watch?v=99RVfqklbCE"
   ]
  },
  {
   "cell_type": "code",
   "execution_count": 4,
   "metadata": {},
   "outputs": [
    {
     "name": "stdout",
     "output_type": "stream",
     "text": [
      "True\n"
     ]
    }
   ],
   "source": [
    "def isSubsequence(s, t):\n",
    "    i, j = 0, 0\n",
    "\n",
    "    while i<len(s) and j<len(t):\n",
    "        if s[i] != t[j]:\n",
    "            j+=1\n",
    "        else:\n",
    "            i,j = i+1, j+1\n",
    "    \n",
    "    if i==len(s):\n",
    "        return True\n",
    "    else:\n",
    "        return False\n",
    "\n",
    "s = \"abc\"\n",
    "t = \"ahbgdc\"\n",
    "res = isSubsequence(s,t)\n",
    "print(res)"
   ]
  }
 ],
 "metadata": {
  "kernelspec": {
   "display_name": "leetcode_env",
   "language": "python",
   "name": "leetcode_env"
  },
  "language_info": {
   "codemirror_mode": {
    "name": "ipython",
    "version": 3
   },
   "file_extension": ".py",
   "mimetype": "text/x-python",
   "name": "python",
   "nbconvert_exporter": "python",
   "pygments_lexer": "ipython3",
   "version": "3.8.6"
  },
  "orig_nbformat": 4
 },
 "nbformat": 4,
 "nbformat_minor": 2
}
