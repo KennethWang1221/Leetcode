{
 "cells": [
  {
   "cell_type": "markdown",
   "metadata": {},
   "source": [
    "## method1"
   ]
  },
  {
   "cell_type": "code",
   "execution_count": 49,
   "metadata": {},
   "outputs": [
    {
     "name": "stdout",
     "output_type": "stream",
     "text": [
      "a(b(c)d)\n"
     ]
    }
   ],
   "source": [
    "def minRemoveToMakeValid(s):\n",
    "    stack=[]\n",
    "    char=list(s)\n",
    "    for i in range(len(char)):\n",
    "        if char[i]=='(':\n",
    "            # if current char is '(' then push it to stack\n",
    "            stack.append(i)\n",
    "        elif char[i]==')':\n",
    "            # if current char is ')' then pop top of the stack\n",
    "            if stack:\n",
    "                stack.pop()\n",
    "            else:\n",
    "                # if our stack is empty then we can't pop so make  current char as ''\n",
    "                char[i]=\"\"\n",
    "    for i in stack:\n",
    "        char[i]=\"\"\n",
    "    return '' .join(char)\n",
    "\n",
    "s = \"lee(t(c)o)de)\"\n",
    "s = \"a)b(c)d\"\n",
    "s = \"))((\"\n",
    "s = \"(a(b(c)d)\"\n",
    "res = minRemoveToMakeValid(s)\n",
    "print(res)"
   ]
  },
  {
   "cell_type": "markdown",
   "metadata": {},
   "source": [
    "## Wrong Version"
   ]
  },
  {
   "cell_type": "code",
   "execution_count": 47,
   "metadata": {},
   "outputs": [
    {
     "name": "stdout",
     "output_type": "stream",
     "text": [
      "\n"
     ]
    }
   ],
   "source": [
    "def minRemoveToMakeValid(s):\n",
    "        res = ''\n",
    "        n = len(s)\n",
    "        valid = {'(':')'}\n",
    "        \n",
    "        stack = []\n",
    "        for i in range(n):\n",
    "            if s[i] not in valid and s[i] != ')':\n",
    "                res+=s[i]\n",
    "            elif s[i] in valid:\n",
    "                res += s[i]\n",
    "                stack.append(s[i])\n",
    "            elif s[i] not in valid:\n",
    "\n",
    "                if stack and valid[stack[-1]] == s[i]:\n",
    "                    stack.pop(-1)\n",
    "                    res += s[i]\n",
    "                else:\n",
    "                    pass\n",
    "        if len(stack)>0:\n",
    "            return \"\"\n",
    "        else:\n",
    "            return res\n",
    "\n",
    "s = \"lee(t(c)o)de)\"\n",
    "s = \"a)b(c)d\"\n",
    "s = \"))((\"\n",
    "s = \"(a(b(c)d)\"\n",
    "res = minRemoveToMakeValid(s)\n",
    "correct = 'a(b(c)d)'\n",
    "print(res)"
   ]
  }
 ],
 "metadata": {
  "kernelspec": {
   "display_name": "Python 3.8.6 64-bit ('leetcode_env')",
   "language": "python",
   "name": "python3"
  },
  "language_info": {
   "codemirror_mode": {
    "name": "ipython",
    "version": 3
   },
   "file_extension": ".py",
   "mimetype": "text/x-python",
   "name": "python",
   "nbconvert_exporter": "python",
   "pygments_lexer": "ipython3",
   "version": "3.8.6"
  },
  "orig_nbformat": 4,
  "vscode": {
   "interpreter": {
    "hash": "846fd2d9bb562a436898b7cc368204fc2f9d44e5e9b051b4f6e855e721078f23"
   }
  }
 },
 "nbformat": 4,
 "nbformat_minor": 2
}
