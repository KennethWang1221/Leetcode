{
 "cells": [
  {
   "attachments": {},
   "cell_type": "markdown",
   "metadata": {},
   "source": [
    "## Method1 - DFS\n",
    "https://www.youtube.com/watch?v=Re_v0j0CRsg"
   ]
  },
  {
   "cell_type": "code",
   "execution_count": 2,
   "metadata": {},
   "outputs": [
    {
     "name": "stdout",
     "output_type": "stream",
     "text": [
      "[2, 4, 5, 6]\n"
     ]
    }
   ],
   "source": [
    "def eventualSafeNodes(graph):\n",
    "    n = len(graph)\n",
    "    safe = {}\n",
    "\n",
    "    def dfs(i):\n",
    "        if i in safe:\n",
    "            return safe[i]\n",
    "        safe[i] = False\n",
    "        for nei in graph[i]:\n",
    "            if not dfs(nei):\n",
    "                return safe[i]\n",
    "        safe[i] = True\n",
    "        return safe[i]\n",
    "    res = []\n",
    "    for i in range(n):\n",
    "        if dfs(i):\n",
    "            res.append(i)\n",
    "    return res\n",
    "\n",
    "\n",
    "graph = [[1,2],[2,3],[5],[0],[5],[],[]]\n",
    "res = eventualSafeNodes(graph)\n",
    "print(res)"
   ]
  }
 ],
 "metadata": {
  "kernelspec": {
   "display_name": "leetcode_env",
   "language": "python",
   "name": "leetcode_env"
  },
  "language_info": {
   "codemirror_mode": {
    "name": "ipython",
    "version": 3
   },
   "file_extension": ".py",
   "mimetype": "text/x-python",
   "name": "python",
   "nbconvert_exporter": "python",
   "pygments_lexer": "ipython3",
   "version": "3.8.6"
  },
  "orig_nbformat": 4
 },
 "nbformat": 4,
 "nbformat_minor": 2
}
