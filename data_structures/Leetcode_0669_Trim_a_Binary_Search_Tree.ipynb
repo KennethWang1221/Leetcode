{
 "cells": [
  {
   "cell_type": "markdown",
   "metadata": {},
   "source": [
    "## Method1 - Recursive\n",
    "https://www.youtube.com/watch?v=jwt5mTjEXGc<br>\n",
    "\n",
    "https://github.com/youngyangyang04/leetcode-master/blob/master/problems/0669.%E4%BF%AE%E5%89%AA%E4%BA%8C%E5%8F%89%E6%90%9C%E7%B4%A2%E6%A0%91.md"
   ]
  },
  {
   "cell_type": "code",
   "execution_count": 3,
   "metadata": {},
   "outputs": [
    {
     "name": "stdout",
     "output_type": "stream",
     "text": [
      "<__main__.TreeNode object at 0x1167046d0>\n"
     ]
    }
   ],
   "source": [
    "class TreeNode(object):\n",
    "    def __init__(self, x):\n",
    "        if x == None:\n",
    "            self.val = None\n",
    "        else:\n",
    "            self.val = x\n",
    "        self.left = None\n",
    "        self.right = None \n",
    "\n",
    "def trimBST(root, low, high):\n",
    "    if not root:\n",
    "            return None\n",
    "\n",
    "    # 若当前root节点大于右界：只考虑其左子树，用于替代更新后的其本身，抛弃其右子树整体\n",
    "    if root.val > high:\n",
    "        return trimBST(root.left, low, high)\n",
    "\n",
    "    # 若当前root节点小于左界：只考虑其右子树，用于替代更新后的其本身，抛弃其左子树整体\n",
    "    if root.val < low:\n",
    "        return trimBST(root.right, low, high)\n",
    "\n",
    "    else:\n",
    "        root.left = trimBST(root.left, low, high)\n",
    "        root.right = trimBST(root.right, low, high)\n",
    "        # 返回更新后的剪枝过的当前节点root\n",
    "        return root\n",
    "\n",
    "n1 = TreeNode(4)\n",
    "n2 = TreeNode(2)\n",
    "n3 = TreeNode(7)\n",
    "n4 = TreeNode(1)\n",
    "n5 = TreeNode(3)\n",
    "\n",
    "n1.left = n2\n",
    "n1.right = n3\n",
    "n2.left = n4\n",
    "n2.right = n5\n",
    "\n",
    "res = trimBST(n1, low=1, high=3)\n",
    "print(res)"
   ]
  },
  {
   "cell_type": "code",
   "execution_count": 1,
   "metadata": {},
   "outputs": [
    {
     "name": "stdout",
     "output_type": "stream",
     "text": [
      "\n",
      "    __5\n",
      "   /   \\\n",
      "  3     6\n",
      " / \\     \\\n",
      "2   4     7\n",
      "\n"
     ]
    }
   ],
   "source": [
    "from binarytree import tree, bst, heap, Node\n",
    "n1 = Node(5)\n",
    "n2 = Node(3)\n",
    "n3 = Node(6)\n",
    "n4 = Node(2)\n",
    "n5 = Node(4)\n",
    "n6 = Node(7)\n",
    "\n",
    "n1.left = n2\n",
    "n1.right = n3\n",
    "n2.left = n4\n",
    "n2.right = n5\n",
    "n3.right = n6\n",
    "print(n1)"
   ]
  }
 ],
 "metadata": {
  "kernelspec": {
   "display_name": "Python 3.8.6 64-bit ('leetcode_env')",
   "language": "python",
   "name": "python3"
  },
  "language_info": {
   "codemirror_mode": {
    "name": "ipython",
    "version": 3
   },
   "file_extension": ".py",
   "mimetype": "text/x-python",
   "name": "python",
   "nbconvert_exporter": "python",
   "pygments_lexer": "ipython3",
   "version": "3.8.6"
  },
  "orig_nbformat": 4,
  "vscode": {
   "interpreter": {
    "hash": "846fd2d9bb562a436898b7cc368204fc2f9d44e5e9b051b4f6e855e721078f23"
   }
  }
 },
 "nbformat": 4,
 "nbformat_minor": 2
}
