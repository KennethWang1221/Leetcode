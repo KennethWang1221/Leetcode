{
 "cells": [
  {
   "cell_type": "markdown",
   "metadata": {},
   "source": [
    "## ML - Linear Algebra"
   ]
  },
  {
   "cell_type": "code",
   "execution_count": 10,
   "metadata": {},
   "outputs": [
    {
     "name": "stdout",
     "output_type": "stream",
     "text": [
      "[[2, 4], [6, 8]]\n"
     ]
    }
   ],
   "source": [
    "def scalar_multiply(matrix, scalar):\n",
    "    rows, cols = len(matrix), len(matrix[0])\n",
    "    res = []\n",
    "\n",
    "    for row in range(rows):\n",
    "        new_row = [0] * cols\n",
    "        for col in range(cols):\n",
    "            new_row[col] = matrix[row][col] * scalar\n",
    "        res.append(new_row)\n",
    "            \n",
    "    return res\n",
    "matrix = [[1, 2], [3, 4]]\n",
    "scalar = 2\n",
    "print(scalar_multiply(matrix, scalar))"
   ]
  }
 ],
 "metadata": {
  "kernelspec": {
   "display_name": "leetcode_env",
   "language": "python",
   "name": "python3"
  },
  "language_info": {
   "codemirror_mode": {
    "name": "ipython",
    "version": 3
   },
   "file_extension": ".py",
   "mimetype": "text/x-python",
   "name": "python",
   "nbconvert_exporter": "python",
   "pygments_lexer": "ipython3",
   "version": "3.8.6"
  }
 },
 "nbformat": 4,
 "nbformat_minor": 2
}
