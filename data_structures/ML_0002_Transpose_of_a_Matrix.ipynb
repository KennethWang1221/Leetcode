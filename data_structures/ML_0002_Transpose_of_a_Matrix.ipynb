{
 "cells": [
  {
   "cell_type": "markdown",
   "metadata": {},
   "source": [
    "## ML - Linear Algebra"
   ]
  },
  {
   "cell_type": "code",
   "execution_count": 1,
   "metadata": {},
   "outputs": [
    {
     "name": "stdout",
     "output_type": "stream",
     "text": [
      "Original Matrix:\n",
      "[1, 2, 3]\n",
      "[4, 5, 6]\n",
      "[7, 8, 9]\n",
      "[10, 11, 12]\n",
      "\n",
      "Transposed Matrix:\n",
      "[1, 4, 7, 10]\n",
      "[2, 5, 8, 11]\n",
      "[3, 6, 9, 12]\n"
     ]
    }
   ],
   "source": [
    "def transpose_matrix(matrix):\n",
    "    # Initialize an empty list for the transposed matrix\n",
    "    row, col = len(matrix), len(matrix[0])\n",
    "    transposed = []\n",
    "\n",
    "    # Iterate over each column index in the original matrix\n",
    "    for i in range(col):\n",
    "        # Create a new row for the transposed matrix\n",
    "        new_row = []\n",
    "        # Iterate over each row index in the original matrix\n",
    "        for j in range(row):\n",
    "            # Append the element at position (j, i) to the new row\n",
    "            new_row.append(matrix[j][i])\n",
    "        # Append the new row to the transposed matrix\n",
    "        transposed.append(new_row)\n",
    "\n",
    "    # Return the transposed matrix\n",
    "    return transposed\n",
    "\n",
    "# Example usage\n",
    "matrix = [\n",
    "    [1, 2, 3],\n",
    "    [4, 5, 6],\n",
    "    [7, 8, 9],\n",
    "    [10,11,12]\n",
    "]\n",
    "\n",
    "# Compute the transposed matrix\n",
    "transposed_matrix = transpose_matrix(matrix)\n",
    "\n",
    "# Print the original matrix\n",
    "print(\"Original Matrix:\")\n",
    "for row in matrix:\n",
    "    print(row)\n",
    "\n",
    "# Print the transposed matrix\n",
    "print(\"\\nTransposed Matrix:\")\n",
    "for row in transposed_matrix:\n",
    "    print(row)\n"
   ]
  }
 ],
 "metadata": {
  "kernelspec": {
   "display_name": "leetcode_env",
   "language": "python",
   "name": "python3"
  },
  "language_info": {
   "codemirror_mode": {
    "name": "ipython",
    "version": 3
   },
   "file_extension": ".py",
   "mimetype": "text/x-python",
   "name": "python",
   "nbconvert_exporter": "python",
   "pygments_lexer": "ipython3",
   "version": "3.8.6"
  }
 },
 "nbformat": 4,
 "nbformat_minor": 2
}
