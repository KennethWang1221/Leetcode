{
 "cells": [
  {
   "cell_type": "markdown",
   "metadata": {},
   "source": [
    "## ML - Precision and Recall"
   ]
  },
  {
   "cell_type": "code",
   "execution_count": 1,
   "metadata": {},
   "outputs": [
    {
     "name": "stdout",
     "output_type": "stream",
     "text": [
      "Precision: 1.00\n",
      "Recall: 0.75\n",
      "accuracy: 0.83\n",
      "TPR: 0.75\n",
      "FPR: 0.00\n"
     ]
    }
   ],
   "source": [
    "import numpy as np\n",
    "def test(y_true, y_pred):\n",
    "    n = y_true.shape[0]\n",
    "    tp, fp, tn, fn = 0, 0, 0, 0\n",
    " \n",
    "    for i in range(n):\n",
    "        if y_true[i] == 1 and y_pred[i] == 1:\n",
    "            tp += 1\n",
    "        elif y_true[i] == 0 and y_pred[i] == 1:\n",
    "            fp += 1\n",
    "        elif y_true[i] == 1 and y_pred[i] == 0:\n",
    "            fn += 1\n",
    "        elif y_true[i] == 0 and y_pred[i] == 0:\n",
    "            tn += 1\n",
    " \n",
    "    # Calculate metrics with safeguards\n",
    "    precision = tp / (tp + fp) if tp + fp > 0 else 0\n",
    "    recall = tp / (tp + fn) if tp + fn > 0 else 0\n",
    "    accuracy = (tp + tn) / (tp + tn + fp + fn)\n",
    "    tpr = recall\n",
    "    fpr = fp / (fp + tn) if fp + tn > 0 else 0\n",
    " \n",
    "    return precision, recall, accuracy, tpr, fpr\n",
    " \n",
    "# Example usage\n",
    "y_true = np.array([1, 0, 1, 1, 0, 1])\n",
    "y_pred = np.array([1, 0, 1, 0, 0, 1])\n",
    " \n",
    "result = test(y_true, y_pred)\n",
    "print(f\"Precision: {result[0]:.2f}\")\n",
    "print(f\"Recall: {result[1]:.2f}\")\n",
    "print(f\"accuracy: {result[2]:.2f}\")\n",
    "print(f\"TPR: {result[3]:.2f}\")\n",
    "print(f\"FPR: {result[4]:.2f}\")"
   ]
  }
 ],
 "metadata": {
  "kernelspec": {
   "display_name": "leetcode_env",
   "language": "python",
   "name": "leetcode_env"
  },
  "language_info": {
   "codemirror_mode": {
    "name": "ipython",
    "version": 3
   },
   "file_extension": ".py",
   "mimetype": "text/x-python",
   "name": "python",
   "nbconvert_exporter": "python",
   "pygments_lexer": "ipython3",
   "version": "3.8.6"
  }
 },
 "nbformat": 4,
 "nbformat_minor": 2
}
