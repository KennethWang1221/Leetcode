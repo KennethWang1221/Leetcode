{
 "cells": [
  {
   "cell_type": "markdown",
   "metadata": {},
   "source": [
    "## Method1 - BFS"
   ]
  },
  {
   "cell_type": "code",
   "execution_count": 14,
   "metadata": {},
   "outputs": [
    {
     "name": "stdout",
     "output_type": "stream",
     "text": [
      "[[3], [20, 9], [15, 7]]\n"
     ]
    }
   ],
   "source": [
    "class TreeNode(object):\n",
    "    def __init__(self, x):\n",
    "        if x == None:\n",
    "            self.val = None\n",
    "        else:\n",
    "            self.val = x\n",
    "        self.left = None\n",
    "        self.right = None\n",
    "\n",
    "\n",
    "def zigzagLevelOrder(root):\n",
    "    res = []\n",
    "    if root == None:\n",
    "        return []\n",
    "    que = [root]\n",
    "    count = 0\n",
    "\n",
    "    while que:\n",
    "        level = []\n",
    "        n = len(que)\n",
    "        \n",
    "        for i in range(n):     \n",
    "            flag = True if (count % 2 == 0) else False   \n",
    "            cur = que.pop(0)\n",
    "            level.append(cur.val)\n",
    "            if cur.left:\n",
    "                que.append(cur.left)\n",
    "            if cur.right:\n",
    "                que.append(cur.right)\n",
    "        if flag:\n",
    "            res.append(level)\n",
    "        else:\n",
    "            res.append(level[::-1])\n",
    "        count+=1\n",
    "        \n",
    "    return res\n",
    "\n",
    "n1 = TreeNode(3)\n",
    "n2 = TreeNode(9)\n",
    "n3 = TreeNode(20)\n",
    "n4 = TreeNode(None)\n",
    "n5 = TreeNode(None)\n",
    "n6 = TreeNode(15)\n",
    "n7 = TreeNode(7)\n",
    "n1.left = n2\n",
    "n1.right = n3\n",
    "n3.left = n6\n",
    "n3.right = n7\n",
    "\n",
    "res = zigzagLevelOrder(n1)\n",
    "print(res)"
   ]
  },
  {
   "cell_type": "code",
   "execution_count": 10,
   "metadata": {},
   "outputs": [
    {
     "name": "stdout",
     "output_type": "stream",
     "text": [
      "0 0.0\n",
      "1 0.5\n",
      "0 1.0\n",
      "1 1.5\n",
      "0 2.0\n"
     ]
    }
   ],
   "source": [
    "a = [1,2,3,4,5]\n",
    "for i in range(len(a)):\n",
    "    print(i%2,i/2)"
   ]
  }
 ],
 "metadata": {
  "kernelspec": {
   "display_name": "leetcode_env",
   "language": "python",
   "name": "leetcode_env"
  },
  "language_info": {
   "codemirror_mode": {
    "name": "ipython",
    "version": 3
   },
   "file_extension": ".py",
   "mimetype": "text/x-python",
   "name": "python",
   "nbconvert_exporter": "python",
   "pygments_lexer": "ipython3",
   "version": "3.8.6"
  }
 },
 "nbformat": 4,
 "nbformat_minor": 2
}
