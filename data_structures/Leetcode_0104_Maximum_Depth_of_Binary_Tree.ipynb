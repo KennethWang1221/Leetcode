{
 "cells": [
  {
   "cell_type": "markdown",
   "metadata": {},
   "source": [
    "## Method1-DIY"
   ]
  },
  {
   "cell_type": "markdown",
   "metadata": {},
   "source": [
    "Similar problems. Both use BFS idea:<br>\n",
    "0102_Binary_Tree_Level_Order_Traversal.ipynb<br>\n",
    "0107_Binary_Tree_Level_Order_Traversal_II.ipynb<br>\n",
    "0199_Binary_Tree_Right_Side_View.ipynb<br>\n",
    "0637_Average_of_Levels_in_Binary_Tree.ipynb<br>\n",
    "0429_N-ary_Tree_Level_Order_Traversal.ipynb<br>\n",
    "0515_Find_Largest_Value_in_Each_Tree_Row.ipynb<br>\n",
    "0116_Populating_Next_Right_Pointers_in_Each_Node.ipynb<br>\n",
    "0117_Populating_Next_Right_Pointers_in_Each_Node_II.ipynb<br>\n",
    "0104_Maximum_Depth_of_Binary_Tree.ipynb<br>\n",
    "0111_Minimum_Depth_of_Binary_Tree.ipynb<br>\n",
    "\n",
    "BFS"
   ]
  },
  {
   "cell_type": "code",
   "execution_count": 2,
   "metadata": {},
   "outputs": [
    {
     "name": "stdout",
     "output_type": "stream",
     "text": [
      "3\n"
     ]
    }
   ],
   "source": [
    "class TreeNode(object):\n",
    "    def __init__(self, x, left= None, right = None, next = None):\n",
    "        if x == None:\n",
    "            self.val = None\n",
    "        else:\n",
    "            self.val = x\n",
    "        self.left = None\n",
    "        self.right = None\n",
    "        self.next = None\n",
    "\n",
    "def maxDepth(root):\n",
    "    \n",
    "    if root == None:\n",
    "        return 0\n",
    "    que = [root]\n",
    "    depth = 0\n",
    "    while que:\n",
    "        n = len(que)\n",
    "        for i in range(n):\n",
    "            cur = que.pop(0)\n",
    "            \n",
    "            if cur.left:\n",
    "                que.append(cur.left)\n",
    "            if cur.right:\n",
    "                que.append(cur.right)\n",
    "        depth +=1\n",
    "    return depth\n",
    "\n",
    "n1 = TreeNode(3)\n",
    "n2 = TreeNode(9)\n",
    "n3 = TreeNode(20)\n",
    "n4 = TreeNode(15)\n",
    "n5 = TreeNode(7)\n",
    "#n6 = TreeNode(6)\n",
    "#n7 = TreeNode(7)\n",
    "\n",
    "n1.left = n2\n",
    "n1.right = n3\n",
    "#n2.left = n4\n",
    "#n2.right = n5\n",
    "n3.left = n4\n",
    "n3.right = n5\n",
    "\n",
    "\n",
    "res = maxDepth(n1)\n",
    "\n",
    "print(res)"
   ]
  },
  {
   "cell_type": "markdown",
   "metadata": {},
   "source": [
    "## Method2-DIY"
   ]
  },
  {
   "cell_type": "code",
   "execution_count": 3,
   "metadata": {},
   "outputs": [
    {
     "name": "stdout",
     "output_type": "stream",
     "text": [
      "3\n"
     ]
    }
   ],
   "source": [
    "class TreeNode(object):\n",
    "    def __init__(self, x, left= None, right = None, next = None):\n",
    "        if x == None:\n",
    "            self.val = None\n",
    "        else:\n",
    "            self.val = x\n",
    "        self.left = None\n",
    "        self.right = None\n",
    "        self.next = None\n",
    "\n",
    "def maxDepth(root):\n",
    "    \n",
    "    res = []\n",
    "    if root == None:\n",
    "        return 0\n",
    "    que = [root]\n",
    "    depth = 0\n",
    "    while que:\n",
    "\n",
    "        n = len(que)\n",
    "        for i in range(n):\n",
    "            cur = que.pop(0)\n",
    "\n",
    "            if cur.left:\n",
    "                que.append(cur.left)\n",
    "            if cur.right:\n",
    "                que.append(cur.right)\n",
    "        depth +=1\n",
    "        res.append(depth)\n",
    "    return max(res)\n",
    "\n",
    "n1 = TreeNode(3)\n",
    "n2 = TreeNode(9)\n",
    "n3 = TreeNode(20)\n",
    "n4 = TreeNode(15)\n",
    "n5 = TreeNode(7)\n",
    "#n6 = TreeNode(6)\n",
    "#n7 = TreeNode(7)\n",
    "\n",
    "n1.left = n2\n",
    "n1.right = n3\n",
    "#n2.left = n4\n",
    "#n2.right = n5\n",
    "n3.left = n4\n",
    "n3.right = n5\n",
    "\n",
    "\n",
    "res = maxDepth(n1)\n",
    "\n",
    "print(res)"
   ]
  },
  {
   "cell_type": "markdown",
   "metadata": {},
   "source": [
    "## Method3-DIY"
   ]
  },
  {
   "cell_type": "code",
   "execution_count": 6,
   "metadata": {},
   "outputs": [
    {
     "name": "stdout",
     "output_type": "stream",
     "text": [
      "[2, 3, 3]\n",
      "3\n"
     ]
    }
   ],
   "source": [
    "class TreeNode(object):\n",
    "    def __init__(self, x, left= None, right = None, next = None):\n",
    "        if x == None:\n",
    "            self.val = None\n",
    "        else:\n",
    "            self.val = x\n",
    "        self.left = None\n",
    "        self.right = None\n",
    "        self.next = None\n",
    "\n",
    "def maxDepth(root):\n",
    "    \n",
    "    res = [] # or res = set() res.add(depth) -> return max(res)\n",
    "    if root == None:\n",
    "        return 0\n",
    "    que = [root]\n",
    "    depth = 0\n",
    "    while que:\n",
    "\n",
    "        n = len(que)\n",
    "        depth +=1\n",
    "        for i in range(n):\n",
    "            cur = que.pop(0)\n",
    "\n",
    "            if cur.left:\n",
    "                que.append(cur.left)\n",
    "            if cur.right:\n",
    "                que.append(cur.right)\n",
    "            \n",
    "            if cur.left == None and cur.right == None:   \n",
    "                res.append(depth)\n",
    "    print(res)\n",
    "    return max(res)\n",
    "\n",
    "n1 = TreeNode(3)\n",
    "n2 = TreeNode(9)\n",
    "n3 = TreeNode(20)\n",
    "n4 = TreeNode(15)\n",
    "n5 = TreeNode(7)\n",
    "#n6 = TreeNode(6)\n",
    "#n7 = TreeNode(7)\n",
    "\n",
    "n1.left = n2\n",
    "n1.right = n3\n",
    "#n2.left = n4\n",
    "#n2.right = n5\n",
    "n3.left = n4\n",
    "n3.right = n5\n",
    "\n",
    "\n",
    "res = maxDepth(n1)\n",
    "\n",
    "print(res)"
   ]
  },
  {
   "cell_type": "markdown",
   "metadata": {},
   "source": [
    "## Method4\n",
    "https://github.com/youngyangyang04/leetcode-master/blob/master/problems/0102.%E4%BA%8C%E5%8F%89%E6%A0%91%E7%9A%84%E5%B1%82%E5%BA%8F%E9%81%8D%E5%8E%86.md"
   ]
  },
  {
   "cell_type": "code",
   "execution_count": 4,
   "metadata": {},
   "outputs": [
    {
     "name": "stdout",
     "output_type": "stream",
     "text": [
      "3\n"
     ]
    }
   ],
   "source": [
    "class TreeNode(object):\n",
    "    def __init__(self, x, left= None, right = None, next = None):\n",
    "        if x == None:\n",
    "            self.val = None\n",
    "        else:\n",
    "            self.val = x\n",
    "        self.left = None\n",
    "        self.right = None\n",
    "        self.next = None\n",
    "\n",
    "def maxDepth(root):\n",
    "    \n",
    "    res = []\n",
    "    if root == None:\n",
    "        return 0\n",
    "    que = [root]\n",
    "    depth = 0\n",
    "    while que:\n",
    "\n",
    "        n = len(que)\n",
    "        for i in range(n):\n",
    "            cur = que.pop(0)\n",
    "\n",
    "            if cur.left:\n",
    "                que.append(cur.left)\n",
    "            if cur.right:\n",
    "                que.append(cur.right)\n",
    "        depth +=1\n",
    "        res.append(depth)\n",
    "    return len(res)\n",
    "\n",
    "n1 = TreeNode(3)\n",
    "n2 = TreeNode(9)\n",
    "n3 = TreeNode(20)\n",
    "n4 = TreeNode(15)\n",
    "n5 = TreeNode(7)\n",
    "#n6 = TreeNode(6)\n",
    "#n7 = TreeNode(7)\n",
    "\n",
    "n1.left = n2\n",
    "n1.right = n3\n",
    "#n2.left = n4\n",
    "#n2.right = n5\n",
    "n3.left = n4\n",
    "n3.right = n5\n",
    "\n",
    "\n",
    "res = maxDepth(n1)\n",
    "\n",
    "print(res)"
   ]
  },
  {
   "cell_type": "markdown",
   "metadata": {},
   "source": [
    "## Method5 - DFS\n",
    "https://www.youtube.com/watch?v=hTM3phVI6YQ"
   ]
  },
  {
   "cell_type": "code",
   "execution_count": 1,
   "metadata": {},
   "outputs": [
    {
     "name": "stdout",
     "output_type": "stream",
     "text": [
      "3\n"
     ]
    }
   ],
   "source": [
    "class TreeNode(object):\n",
    "    def __init__(self, x, left= None, right = None, next = None):\n",
    "        if x == None:\n",
    "            self.val = None\n",
    "        else:\n",
    "            self.val = x\n",
    "        self.left = None\n",
    "        self.right = None\n",
    "        self.next = None\n",
    "\n",
    "def maxDepth(root):\n",
    "    \n",
    "    if root==None:\n",
    "        return 0\n",
    "\n",
    "    depth = 1 + max(maxDepth(root.left), maxDepth(root.right))\n",
    "    return depth\n",
    "\n",
    "n1 = TreeNode(3)\n",
    "n2 = TreeNode(9)\n",
    "n3 = TreeNode(20)\n",
    "n4 = TreeNode(15)\n",
    "n5 = TreeNode(7)\n",
    "#n6 = TreeNode(6)\n",
    "#n7 = TreeNode(7)\n",
    "\n",
    "n1.left = n2\n",
    "n1.right = n3\n",
    "#n2.left = n4\n",
    "#n2.right = n5\n",
    "n3.left = n4\n",
    "n3.right = n5\n",
    "\n",
    "\n",
    "res = maxDepth(n1)\n",
    "\n",
    "print(res)"
   ]
  },
  {
   "cell_type": "markdown",
   "metadata": {},
   "source": [
    "## Method6\n",
    "https://www.youtube.com/watch?v=hTM3phVI6YQ"
   ]
  },
  {
   "cell_type": "code",
   "execution_count": 2,
   "metadata": {},
   "outputs": [
    {
     "name": "stdout",
     "output_type": "stream",
     "text": [
      "3\n"
     ]
    }
   ],
   "source": [
    "class TreeNode(object):\n",
    "    def __init__(self, x, left= None, right = None, next = None):\n",
    "        if x == None:\n",
    "            self.val = None\n",
    "        else:\n",
    "            self.val = x\n",
    "        self.left = None\n",
    "        self.right = None\n",
    "        self.next = None\n",
    "\n",
    "def maxDepth(root):\n",
    "    from collections import deque\n",
    "    q = deque()\n",
    "    if root:\n",
    "        q.append(root)\n",
    "\n",
    "    level = 0\n",
    "\n",
    "    while q:\n",
    "\n",
    "        for i in range(len(q)):\n",
    "            node = q.popleft()\n",
    "            if node.left:\n",
    "                q.append(node.left)\n",
    "            if node.right:\n",
    "                q.append(node.right)\n",
    "        level += 1\n",
    "    return level\n",
    "\n",
    "n1 = TreeNode(3)\n",
    "n2 = TreeNode(9)\n",
    "n3 = TreeNode(20)\n",
    "n4 = TreeNode(15)\n",
    "n5 = TreeNode(7)\n",
    "#n6 = TreeNode(6)\n",
    "#n7 = TreeNode(7)\n",
    "\n",
    "n1.left = n2\n",
    "n1.right = n3\n",
    "#n2.left = n4\n",
    "#n2.right = n5\n",
    "n3.left = n4\n",
    "n3.right = n5\n",
    "\n",
    "\n",
    "res = maxDepth(n1)\n",
    "\n",
    "print(res)"
   ]
  },
  {
   "cell_type": "markdown",
   "metadata": {},
   "source": [
    "## Method7 - Depth First Search without Recursion (Iterative DFS)\n",
    "https://www.youtube.com/watch?v=hTM3phVI6YQ"
   ]
  },
  {
   "cell_type": "code",
   "execution_count": 3,
   "metadata": {},
   "outputs": [
    {
     "name": "stdout",
     "output_type": "stream",
     "text": [
      "3\n"
     ]
    }
   ],
   "source": [
    "class TreeNode(object):\n",
    "    def __init__(self, x, left= None, right = None, next = None):\n",
    "        if x == None:\n",
    "            self.val = None\n",
    "        else:\n",
    "            self.val = x\n",
    "        self.left = None\n",
    "        self.right = None\n",
    "        self.next = None\n",
    "\n",
    "def maxDepth(root):\n",
    "    stack = [[root, 1]]\n",
    "    res = 0\n",
    "\n",
    "    while stack:\n",
    "        node, depth = stack.pop()\n",
    "\n",
    "        if node:\n",
    "            res = max(res, depth)\n",
    "            stack.append([node.left, depth + 1])\n",
    "            stack.append([node.right, depth + 1])\n",
    "    return res\n",
    "\n",
    "n1 = TreeNode(3)\n",
    "n2 = TreeNode(9)\n",
    "n3 = TreeNode(20)\n",
    "n4 = TreeNode(15)\n",
    "n5 = TreeNode(7)\n",
    "#n6 = TreeNode(6)\n",
    "#n7 = TreeNode(7)\n",
    "\n",
    "n1.left = n2\n",
    "n1.right = n3\n",
    "#n2.left = n4\n",
    "#n2.right = n5\n",
    "n3.left = n4\n",
    "n3.right = n5\n",
    "\n",
    "\n",
    "res = maxDepth(n1)\n",
    "\n",
    "print(res)"
   ]
  },
  {
   "cell_type": "code",
   "execution_count": 1,
   "metadata": {},
   "outputs": [
    {
     "name": "stdout",
     "output_type": "stream",
     "text": [
      "\n",
      "  3___\n",
      " /    \\\n",
      "9     _20\n",
      "     /   \\\n",
      "    15    7\n",
      "\n"
     ]
    }
   ],
   "source": [
    "from binarytree import tree, bst, heap, Node\n",
    "n1 = Node(3)\n",
    "n2 = Node(9)\n",
    "n3 = Node(20)\n",
    "n4 = Node(15)\n",
    "n5 = Node(7)\n",
    "#n6 = TreeNode(6)\n",
    "#n7 = TreeNode(7)\n",
    "\n",
    "n1.left = n2\n",
    "n1.right = n3\n",
    "#n2.left = n4\n",
    "#n2.right = n5\n",
    "n3.left = n4\n",
    "n3.right = n5\n",
    "print(n1)"
   ]
  }
 ],
 "metadata": {
  "kernelspec": {
   "display_name": "Python 3.8.6 64-bit ('leetcode_env')",
   "language": "python",
   "name": "python3"
  },
  "language_info": {
   "codemirror_mode": {
    "name": "ipython",
    "version": 3
   },
   "file_extension": ".py",
   "mimetype": "text/x-python",
   "name": "python",
   "nbconvert_exporter": "python",
   "pygments_lexer": "ipython3",
   "version": "3.8.6"
  },
  "orig_nbformat": 4,
  "vscode": {
   "interpreter": {
    "hash": "846fd2d9bb562a436898b7cc368204fc2f9d44e5e9b051b4f6e855e721078f23"
   }
  }
 },
 "nbformat": 4,
 "nbformat_minor": 2
}
