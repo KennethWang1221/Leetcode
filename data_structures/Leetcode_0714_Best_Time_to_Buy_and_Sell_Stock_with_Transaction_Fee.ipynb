{
 "cells": [
  {
   "cell_type": "markdown",
   "metadata": {},
   "source": [
    "## Method1 - 2D Bottom-UP DP\n",
    "https://github.com/youngyangyang04/leetcode-master/blob/master/problems/0714.%E4%B9%B0%E5%8D%96%E8%82%A1%E7%A5%A8%E7%9A%84%E6%9C%80%E4%BD%B3%E6%97%B6%E6%9C%BA%E5%90%AB%E6%89%8B%E7%BB%AD%E8%B4%B9%EF%BC%88%E5%8A%A8%E6%80%81%E8%A7%84%E5%88%92%EF%BC%89.md"
   ]
  },
  {
   "cell_type": "code",
   "execution_count": 1,
   "metadata": {},
   "outputs": [
    {
     "name": "stdout",
     "output_type": "stream",
     "text": [
      "8\n"
     ]
    }
   ],
   "source": [
    "def maxProfit(prices, fee):\n",
    "    n = len(prices)\n",
    "    dp = [[0] * 2 for _ in range(n)]\n",
    "    dp[0][0] = -prices[0] #持股票\n",
    "    for i in range(1, n):\n",
    "        dp[i][0] = max(dp[i-1][0], dp[i-1][1] - prices[i])\n",
    "        dp[i][1] = max(dp[i-1][1], dp[i-1][0] + prices[i] - fee)\n",
    "    return max(dp[-1][0], dp[-1][1])\n",
    "\n",
    "prices = [1,3,2,8,4,9]\n",
    "fee = 2\n",
    "print(maxProfit(prices, fee))"
   ]
  }
 ],
 "metadata": {
  "kernelspec": {
   "display_name": "test_env",
   "language": "python",
   "name": "test_env"
  },
  "language_info": {
   "codemirror_mode": {
    "name": "ipython",
    "version": 3
   },
   "file_extension": ".py",
   "mimetype": "text/x-python",
   "name": "python",
   "nbconvert_exporter": "python",
   "pygments_lexer": "ipython3",
   "version": "3.8.6"
  }
 },
 "nbformat": 4,
 "nbformat_minor": 2
}
