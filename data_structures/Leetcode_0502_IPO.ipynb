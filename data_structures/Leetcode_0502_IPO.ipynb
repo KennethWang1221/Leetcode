{
 "cells": [
  {
   "cell_type": "markdown",
   "metadata": {},
   "source": [
    "## Method1 - Heap\n",
    "https://www.youtube.com/watch?v=1IUzNJ6TPEM\n"
   ]
  },
  {
   "cell_type": "code",
   "execution_count": 1,
   "metadata": {},
   "outputs": [
    {
     "name": "stdout",
     "output_type": "stream",
     "text": [
      "4\n"
     ]
    }
   ],
   "source": [
    "import heapq\n",
    "def findMaximizedCapital(k, w, profits, capital):\n",
    "    # O(nlogn)\n",
    "    maxProfit = [] # only projects we can afford\n",
    "    minCapital = [(c, p) for c, p in zip(capital, profits)]\n",
    "    heapq.heapify(minCapital)\n",
    "\n",
    "    for i in range(k):\n",
    "        \n",
    "        while minCapital and minCapital[0][0] <= w:\n",
    "            c, p = heapq.heappop(minCapital)\n",
    "            heapq.heappush(maxProfit, -1 * p)\n",
    "        if not maxProfit:\n",
    "            break\n",
    "        w += -1 * heapq.heappop(maxProfit)\n",
    "    return w\n",
    "\n",
    "k = 2\n",
    "w = 0\n",
    "profits = [1,2,3]\n",
    "capital = [0,1,1]\n",
    "res = findMaximizedCapital(k, w, profits, capital)\n",
    "print(res)"
   ]
  }
 ],
 "metadata": {
  "kernelspec": {
   "display_name": "leetcode_env",
   "language": "python",
   "name": "leetcode_env"
  },
  "language_info": {
   "codemirror_mode": {
    "name": "ipython",
    "version": 3
   },
   "file_extension": ".py",
   "mimetype": "text/x-python",
   "name": "python",
   "nbconvert_exporter": "python",
   "pygments_lexer": "ipython3",
   "version": "3.8.6"
  }
 },
 "nbformat": 4,
 "nbformat_minor": 2
}
