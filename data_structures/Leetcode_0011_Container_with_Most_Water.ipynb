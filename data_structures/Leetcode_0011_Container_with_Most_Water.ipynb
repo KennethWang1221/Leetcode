{
 "cells": [
  {
   "cell_type": "markdown",
   "metadata": {},
   "source": [
    "## Method1 - Two Pointers\n",
    "https://www.youtube.com/watch?v=UuiTKBwPgAo"
   ]
  },
  {
   "cell_type": "code",
   "execution_count": 1,
   "metadata": {},
   "outputs": [
    {
     "name": "stdout",
     "output_type": "stream",
     "text": [
      "49\n"
     ]
    }
   ],
   "source": [
    "def maxArea(height):\n",
    "    n = len(height)\n",
    "    l, r = 0, n-1\n",
    "    res = 0\n",
    "\n",
    "    while l<r:\n",
    "        area = (r-l) * (min(height[l], height[r]))\n",
    "        res = max(area, res)\n",
    "\n",
    "        if height[l]<height[r]:\n",
    "            l+=1\n",
    "        elif height[l]>height[r]:\n",
    "            r-=1\n",
    "        else:\n",
    "            l+=1\n",
    "\n",
    "    return res\n",
    "\n",
    "height = [1,8,6,2,5,4,8,3,7]\n",
    "res = maxArea(height)\n",
    "print(res)"
   ]
  },
  {
   "cell_type": "markdown",
   "metadata": {},
   "source": [
    "## Practice"
   ]
  },
  {
   "cell_type": "code",
   "execution_count": 28,
   "metadata": {},
   "outputs": [
    {
     "name": "stdout",
     "output_type": "stream",
     "text": [
      "49\n"
     ]
    }
   ],
   "source": [
    "# Method1\n",
    "def maxArea(height):\n",
    "    n = len(height)\n",
    "    left = 0\n",
    "    right = n-1\n",
    "    area = 0\n",
    "\n",
    "    while left < right:\n",
    "        water = min(height[left],height[right]) * (right-left)\n",
    "\n",
    "        if water > area:\n",
    "            area = water\n",
    "        else:\n",
    "            \n",
    "            if height[left] < height[right]:\n",
    "                left+=1\n",
    "            else:\n",
    "                right-=1\n",
    "\n",
    "    return area\n",
    "    \n",
    "height = [1,8,6,2,5,4,8,3,7]\n",
    "result = maxArea(height)\n",
    "print(result)"
   ]
  },
  {
   "cell_type": "code",
   "execution_count": 29,
   "metadata": {},
   "outputs": [
    {
     "name": "stdout",
     "output_type": "stream",
     "text": [
      "49\n"
     ]
    }
   ],
   "source": [
    "# Method2\n",
    "# Method1 == Method2\n",
    "\n",
    "def maxArea(height):\n",
    "    n = len(height)\n",
    "    left = 0\n",
    "    right = n-1\n",
    "    area = 0\n",
    "\n",
    "    while left < right:\n",
    "        water = min(height[left],height[right]) * (right-left)\n",
    "\n",
    "        if water > area:\n",
    "            area = water\n",
    "        else:\n",
    "            pass            \n",
    "        if height[left] < height[right]:\n",
    "            left+=1\n",
    "        else:\n",
    "            right-=1\n",
    "\n",
    "    return area\n",
    "    \n",
    "height = [1,8,6,2,5,4,8,3,7]\n",
    "result = maxArea(height)\n",
    "print(result)"
   ]
  },
  {
   "cell_type": "code",
   "execution_count": null,
   "metadata": {},
   "outputs": [],
   "source": [
    "# learning url:\n",
    "# https://www.bilibili.com/video/BV1Yb411H7Gn?spm_id_from=333.337.search-card.all.click&vd_source=8aba95d95a5a52895d55c1f87e0f02c2"
   ]
  },
  {
   "cell_type": "code",
   "execution_count": 32,
   "metadata": {},
   "outputs": [
    {
     "name": "stdout",
     "output_type": "stream",
     "text": [
      "49\n"
     ]
    }
   ],
   "source": [
    "# When I recap, it DIY by myself\n",
    "\n",
    "def maxArea(height):\n",
    "    area = []\n",
    "    n = len(height)\n",
    "    left = 0\n",
    "    right = len(height) - 1\n",
    "    \n",
    "    while left < right:\n",
    "        x = (right-left)\n",
    "        y = min(height[left], height[right])\n",
    "        water = x * y\n",
    "        if area == []:\n",
    "            area  = water\n",
    "        else:\n",
    "            if area < water:\n",
    "                area = water\n",
    "            else:\n",
    "                pass\n",
    "\n",
    "        if height[left] < height[right]:\n",
    "            left +=1\n",
    "        else:\n",
    "            right -=1\n",
    "    \n",
    "    return area\n",
    "height = [1,8,6,2,5,4,8,3,7]\n",
    "#height = [1,1]\n",
    "result = maxArea(height)\n",
    "print(result)"
   ]
  }
 ],
 "metadata": {
  "kernelspec": {
   "display_name": "leetcode_env",
   "language": "python",
   "name": "leetcode_env"
  },
  "language_info": {
   "codemirror_mode": {
    "name": "ipython",
    "version": 3
   },
   "file_extension": ".py",
   "mimetype": "text/x-python",
   "name": "python",
   "nbconvert_exporter": "python",
   "pygments_lexer": "ipython3",
   "version": "3.8.6"
  },
  "orig_nbformat": 4,
  "vscode": {
   "interpreter": {
    "hash": "846fd2d9bb562a436898b7cc368204fc2f9d44e5e9b051b4f6e855e721078f23"
   }
  }
 },
 "nbformat": 4,
 "nbformat_minor": 2
}
