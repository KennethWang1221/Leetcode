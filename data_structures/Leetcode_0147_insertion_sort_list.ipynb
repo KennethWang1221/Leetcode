{
 "cells": [
  {
   "cell_type": "code",
   "execution_count": 12,
   "metadata": {},
   "outputs": [
    {
     "name": "stdout",
     "output_type": "stream",
     "text": [
      "-1,0,3,4,5,\n"
     ]
    }
   ],
   "source": [
    "class ListNode:\n",
    "    def __init__(self, x):\n",
    "        self.val = x\n",
    "        self.next = None\n",
    "\n",
    "\n",
    "def make_list(arr):\n",
    "    head_node = None\n",
    "    p_node = None\n",
    "    for a in arr:\n",
    "        new_node = ListNode(a)\n",
    "        if head_node is None:\n",
    "            head_node = new_node\n",
    "            p_node = new_node\n",
    "        else:\n",
    "            p_node.next = new_node\n",
    "            p_node = new_node\n",
    "    return head_node\n",
    "\n",
    "\n",
    "def print_list(head):\n",
    "    while head is not None:\n",
    "        print(head.val, end=',')\n",
    "        head = head.next\n",
    "    print()\n",
    "\n",
    "\n",
    "class Solution:\n",
    "    def insertion_sort_list(self, head):\n",
    "        dummy = ListNode(0)\n",
    "        array = []\n",
    "        pre = head\n",
    "\n",
    "        while pre != None:\n",
    "            array.append(pre.val)\n",
    "            pre = pre.next\n",
    "        \n",
    "        n = len(array)\n",
    "        for i in range(n-1):\n",
    "            \n",
    "            j = i\n",
    "            target = array[i+1]\n",
    "            while j>=0 and array[j]>target:\n",
    "                array[j+1] = array[j]\n",
    "                j = j - 1\n",
    "               \n",
    "            array[j+1] = target\n",
    "\n",
    "        tail = dummy\n",
    "        for i in array:\n",
    "            tail.next = ListNode(i)\n",
    "            tail = tail.next\n",
    "\n",
    "        return dummy.next\n",
    "        \n",
    "head = make_list([-1,5,3,4,0])\n",
    "#print_list(head)\n",
    "s = Solution()\n",
    "head2 = s.insertion_sort_list(head)\n",
    "print_list(head2)"
   ]
  },
  {
   "cell_type": "code",
   "execution_count": 13,
   "metadata": {},
   "outputs": [
    {
     "name": "stdout",
     "output_type": "stream",
     "text": [
      "1,3,2,0,\n",
      "0,1,2,3,\n"
     ]
    }
   ],
   "source": [
    "class ListNode:\n",
    "    def __init__(self, x):\n",
    "        self.val = x\n",
    "        self.next = None\n",
    "\n",
    "\n",
    "def make_list(arr):\n",
    "    head_node = None\n",
    "    p_node = None\n",
    "    for a in arr:\n",
    "        new_node = ListNode(a)\n",
    "        if head_node is None:\n",
    "            head_node = new_node\n",
    "            p_node = new_node\n",
    "        else:\n",
    "            p_node.next = new_node\n",
    "            p_node = new_node\n",
    "    return head_node\n",
    "\n",
    "\n",
    "def print_list(head):\n",
    "    while head is not None:\n",
    "        print(head.val, end=',')\n",
    "        head = head.next\n",
    "    print()\n",
    "\n",
    "\n",
    "class Solution:\n",
    "    def insertionSortList(self, head):\n",
    "        # 1.建立新的头节点\n",
    "        dummy = ListNode(0)\n",
    "        # 3.每次从原串中cur节点放入新串中合适位置，然后cur右移\n",
    "        cur = head\n",
    "        while cur is not None:\n",
    "            # pre每次从头节点开始，找到插入位置\n",
    "            pre = dummy\n",
    "            # 2遍历新串：找到pre.next 比cur大，pre比cur小的位置，然后在pre后面插入\n",
    "            while pre.next is not None and pre.next.val < cur.val:\n",
    "                pre = pre.next\n",
    "            temp = cur.next\n",
    "            cur.next = pre.next\n",
    "            pre.next = cur\n",
    "            cur = temp\n",
    "        return dummy.next\n",
    "\n",
    "\n",
    "head = make_list([1, 3, 2, 0])\n",
    "print_list(head)\n",
    "s = Solution()\n",
    "head = s.insertionSortList(head)\n",
    "print_list(head)"
   ]
  }
 ],
 "metadata": {
  "interpreter": {
   "hash": "846fd2d9bb562a436898b7cc368204fc2f9d44e5e9b051b4f6e855e721078f23"
  },
  "kernelspec": {
   "display_name": "Python 3.8.6 ('leetcode_env': conda)",
   "language": "python",
   "name": "python3"
  },
  "language_info": {
   "codemirror_mode": {
    "name": "ipython",
    "version": 3
   },
   "file_extension": ".py",
   "mimetype": "text/x-python",
   "name": "python",
   "nbconvert_exporter": "python",
   "pygments_lexer": "ipython3",
   "version": "3.8.6"
  },
  "orig_nbformat": 4
 },
 "nbformat": 4,
 "nbformat_minor": 2
}
