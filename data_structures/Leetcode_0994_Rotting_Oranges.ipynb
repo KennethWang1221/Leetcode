{
 "cells": [
  {
   "attachments": {},
   "cell_type": "markdown",
   "metadata": {},
   "source": [
    "## Method1 - BFS\n",
    "https://www.youtube.com/watch?v=y704fEOx0s0"
   ]
  },
  {
   "cell_type": "code",
   "execution_count": 2,
   "metadata": {},
   "outputs": [
    {
     "name": "stdout",
     "output_type": "stream",
     "text": [
      "4\n"
     ]
    }
   ],
   "source": [
    "def orangesRotting(grid):\n",
    "    q = []\n",
    "    fresh = 0\n",
    "    time = 0\n",
    "    rows, cols = len(grid), len(grid[0])\n",
    "    for r in range(rows):\n",
    "        for c in range(cols):\n",
    "            if grid[r][c] == 1:\n",
    "                fresh += 1\n",
    "            if grid[r][c] == 2:\n",
    "                q.append((r, c))\n",
    "\n",
    "    directions = [[0, 1], [0, -1], [1, 0], [-1, 0]]\n",
    "    while fresh > 0 and q:\n",
    "        length = len(q)\n",
    "        for i in range(length):\n",
    "            row, col = q.pop(0)\n",
    "            for dr, dc in directions:\n",
    "                r, c = row + dr, col + dc\n",
    "                if (\n",
    "                    (r>=0 and r<=rows-1) and \n",
    "                    (c>=0 and c<=cols-1) and \n",
    "                    (grid[r][c]==1)\n",
    "                ):\n",
    "                    grid[r][c] = 2\n",
    "                    q.append((r, c))\n",
    "                    fresh -= 1\n",
    "        time += 1\n",
    "    return time if fresh == 0 else -1\n",
    "grid = [[2,1,1],[1,1,0],[0,1,1]]\n",
    "res = orangesRotting(grid)\n",
    "print(res)"
   ]
  },
  {
   "cell_type": "markdown",
   "metadata": {},
   "source": [
    "## Method2 - DFS"
   ]
  },
  {
   "cell_type": "code",
   "execution_count": 4,
   "metadata": {},
   "outputs": [
    {
     "name": "stdout",
     "output_type": "stream",
     "text": [
      "4\n"
     ]
    }
   ],
   "source": [
    "def orangesRotting(grid):\n",
    "    rows, cols = len(grid), len(grid[0])\n",
    "    fresh = 0\n",
    "    rotten = []\n",
    "    \n",
    "    # Count fresh oranges and record initial rotten ones\n",
    "    for r in range(rows):\n",
    "        for c in range(cols):\n",
    "            if grid[r][c] == 1:\n",
    "                fresh += 1\n",
    "            elif grid[r][c] == 2:\n",
    "                rotten.append((r, c))\n",
    "    \n",
    "    def dfs(r, c, time):\n",
    "        nonlocal fresh\n",
    "        directions = [(1,0), (-1,0), (0,1), (0,-1)]\n",
    "        \n",
    "        for dr, dc in directions:\n",
    "            nr, nc = r + dr, c + dc\n",
    "            if 0 <= nr < rows and 0 <= nc < cols:\n",
    "                # If the adjacent orange is fresh, rot it and propagate further\n",
    "                if grid[nr][nc] == 1:\n",
    "                    grid[nr][nc] = time + 3  # Mark with a timestamp (offset by 2)\n",
    "                    fresh -= 1\n",
    "                    dfs(nr, nc, time + 1)\n",
    "                # If the adjacent orange is already rotten but found via a slower path,\n",
    "                # update it if we've found a faster route now.\n",
    "                elif grid[nr][nc] > 2 and (grid[nr][nc] - 2) > time + 1:\n",
    "                    grid[nr][nc] = time + 3\n",
    "                    dfs(nr, nc, time + 1)\n",
    "    \n",
    "    # Start DFS from each initially rotten orange\n",
    "    for r, c in rotten:\n",
    "        dfs(r, c, 0)\n",
    "    \n",
    "    max_time = 0\n",
    "    # Find the maximum time taken to rot an orange\n",
    "    for r in range(rows):\n",
    "        for c in range(cols):\n",
    "            if grid[r][c] > 2:\n",
    "                max_time = max(max_time, grid[r][c] - 2)\n",
    "    \n",
    "    # If there are still fresh oranges, return -1. Otherwise, return the time.\n",
    "    return max_time if fresh == 0 else -1\n",
    "grid = [[2,1,1],[1,1,0],[0,1,1]]\n",
    "res = orangesRotting(grid)\n",
    "print(res)"
   ]
  }
 ],
 "metadata": {
  "kernelspec": {
   "display_name": "leetcode_env",
   "language": "python",
   "name": "leetcode_env"
  },
  "language_info": {
   "codemirror_mode": {
    "name": "ipython",
    "version": 3
   },
   "file_extension": ".py",
   "mimetype": "text/x-python",
   "name": "python",
   "nbconvert_exporter": "python",
   "pygments_lexer": "ipython3",
   "version": "3.8.6"
  },
  "orig_nbformat": 4
 },
 "nbformat": 4,
 "nbformat_minor": 2
}
