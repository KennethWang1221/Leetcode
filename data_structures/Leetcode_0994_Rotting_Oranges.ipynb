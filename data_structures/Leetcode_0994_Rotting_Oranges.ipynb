{
 "cells": [
  {
   "attachments": {},
   "cell_type": "markdown",
   "metadata": {},
   "source": [
    "## Method1 - BFS\n",
    "https://www.youtube.com/watch?v=y704fEOx0s0"
   ]
  },
  {
   "cell_type": "code",
   "execution_count": 2,
   "metadata": {},
   "outputs": [
    {
     "name": "stdout",
     "output_type": "stream",
     "text": [
      "4\n"
     ]
    }
   ],
   "source": [
    "import collections\n",
    "def orangesRotting(grid):\n",
    "    q = collections.deque()\n",
    "    fresh = 0\n",
    "    time = 0\n",
    "\n",
    "    for r in range(len(grid)):\n",
    "        for c in range(len(grid[0])):\n",
    "            if grid[r][c] == 1:\n",
    "                fresh += 1\n",
    "            if grid[r][c] == 2:\n",
    "                q.append((r, c))\n",
    "\n",
    "    directions = [[0, 1], [0, -1], [1, 0], [-1, 0]]\n",
    "    while fresh > 0 and q:\n",
    "        length = len(q)\n",
    "        for i in range(length):\n",
    "            r, c = q.popleft()\n",
    "\n",
    "            for dr, dc in directions:\n",
    "                row, col = r + dr, c + dc\n",
    "                # if in bounds and nonrotten, make rotten\n",
    "                # and add to q\n",
    "                if (\n",
    "                    row in range(len(grid))\n",
    "                    and col in range(len(grid[0]))\n",
    "                    and grid[row][col] == 1\n",
    "                ):\n",
    "                    grid[row][col] = 2\n",
    "                    q.append((row, col))\n",
    "                    fresh -= 1\n",
    "        time += 1\n",
    "    return time if fresh == 0 else -1\n",
    "grid = [[2,1,1],[1,1,0],[0,1,1]]\n",
    "res = orangesRotting(grid)\n",
    "print(res)"
   ]
  },
  {
   "attachments": {},
   "cell_type": "markdown",
   "metadata": {},
   "source": [
    "## Recap - BFS - DIY"
   ]
  },
  {
   "cell_type": "code",
   "execution_count": 14,
   "metadata": {},
   "outputs": [
    {
     "name": "stdout",
     "output_type": "stream",
     "text": [
      "4\n"
     ]
    }
   ],
   "source": [
    "\n",
    "def orangesRotting(grid):\n",
    "    rows, cols = len(grid), len(grid[0])\n",
    "    fresh, time, q = 0, 0, []\n",
    "    \n",
    "    for r in range(rows):\n",
    "        for c in range(cols):\n",
    "            if grid[r][c] == 1: fresh +=1\n",
    "            if grid[r][c] == 2: q.append([r,c])\n",
    "\n",
    "    directions = [[-1,0],[1,0],[0,-1],[0,1]]\n",
    "\n",
    "    while q and fresh>0:\n",
    "        n = len(q)        \n",
    "        for i in range(n):\n",
    "            r,c = q.pop(0)\n",
    "            for dr,dc in directions:\n",
    "                row, col = r+dr, c+dc\n",
    "                if (row in range(rows) and col in range(cols) and grid[row][col] == 1):\n",
    "                    grid[row][col] = 2\n",
    "                    q.append([row,col])\n",
    "                    fresh -=1\n",
    "        time +=1\n",
    "\n",
    "    return time if fresh >= 0 else -1\n",
    "grid = [[2,1,1],[1,1,0],[0,1,1]]\n",
    "res = orangesRotting(grid)\n",
    "print(res)"
   ]
  }
 ],
 "metadata": {
  "kernelspec": {
   "display_name": "leetcode_env",
   "language": "python",
   "name": "leetcode_env"
  },
  "language_info": {
   "codemirror_mode": {
    "name": "ipython",
    "version": 3
   },
   "file_extension": ".py",
   "mimetype": "text/x-python",
   "name": "python",
   "nbconvert_exporter": "python",
   "pygments_lexer": "ipython3",
   "version": "3.8.6"
  },
  "orig_nbformat": 4
 },
 "nbformat": 4,
 "nbformat_minor": 2
}
