{
 "cells": [
  {
   "cell_type": "markdown",
   "metadata": {},
   "source": [
    "## Method1 - Array"
   ]
  },
  {
   "cell_type": "code",
   "execution_count": 1,
   "metadata": {},
   "outputs": [
    {
     "name": "stdout",
     "output_type": "stream",
     "text": [
      "28\n"
     ]
    }
   ],
   "source": [
    "def appealSum(s):\n",
    "    last_occurrence = {}\n",
    "    total = 0\n",
    "    n = len(s)\n",
    "    for i, char in enumerate(s):\n",
    "        prev = last_occurrence.get(char, -1)\n",
    "        contribution = (i - prev) * (n - i)\n",
    "        total += contribution\n",
    "        last_occurrence[char] = i\n",
    "    return total\n",
    "\n",
    "s = \"abbca\"\n",
    "print(appealSum(s))"
   ]
  }
 ],
 "metadata": {
  "kernelspec": {
   "display_name": "leetcode_env",
   "language": "python",
   "name": "leetcode_env"
  },
  "language_info": {
   "codemirror_mode": {
    "name": "ipython",
    "version": 3
   },
   "file_extension": ".py",
   "mimetype": "text/x-python",
   "name": "python",
   "nbconvert_exporter": "python",
   "pygments_lexer": "ipython3",
   "version": "3.8.6"
  }
 },
 "nbformat": 4,
 "nbformat_minor": 2
}
