{
 "cells": [
  {
   "cell_type": "markdown",
   "metadata": {},
   "source": [
    "## Method1 - HashMap\n",
    "\n",
    "Time complexity: O(m*n*26))\n",
    "Space complexity: O(n)\n",
    "\n",
    "https://www.youtube.com/watch?v=vzdNOK2oB2E"
   ]
  },
  {
   "cell_type": "code",
   "execution_count": 5,
   "metadata": {},
   "outputs": [
    {
     "name": "stdout",
     "output_type": "stream",
     "text": [
      "dict_values([['eat', 'tea', 'ate'], ['tan', 'nat'], ['bat']])\n"
     ]
    }
   ],
   "source": [
    "from collections import defaultdict \n",
    "def groupAnagrams(strs):\n",
    "    res = defaultdict(list)\n",
    "\n",
    "    for s in strs:\n",
    "        count = [0] * 26\n",
    "\n",
    "        for c in s:\n",
    "            count[ord(c) - ord(\"a\")] += 1\n",
    "        res[tuple(count)].append(s)\n",
    "    return res.values()\n",
    "\n",
    "strs = [\"eat\",\"tea\",\"tan\",\"ate\",\"nat\",\"bat\"]\n",
    "res = groupAnagrams(strs)\n",
    "print(res)"
   ]
  },
  {
   "cell_type": "markdown",
   "metadata": {},
   "source": [
    "## Method2 - Hashmap \n",
    "\n",
    "Time complexity: O(m*nlogn))\n",
    "Space complexity: O(n)\n",
    "\n",
    "https://leetcode.com/problems/group-anagrams/solutions/2384037/python-easily-understood-hash-table-fast-simple/?envType=study-plan-v2&envId=top-interview-150"
   ]
  },
  {
   "cell_type": "code",
   "execution_count": 17,
   "metadata": {},
   "outputs": [
    {
     "name": "stdout",
     "output_type": "stream",
     "text": [
      "[['eat', 'tea', 'ate'], ['tan', 'nat'], ['bat']]\n"
     ]
    }
   ],
   "source": [
    "def groupAnagrams(strs):\n",
    "    n = len(strs)\n",
    "    res = {}\n",
    "\n",
    "    for str in strs:\n",
    "        sorted_str = ''.join(sorted(str))\n",
    "        \n",
    "        if sorted_str not in res:\n",
    "            res[sorted_str]=[]\n",
    "        \n",
    "        res[sorted_str].append(str)\n",
    "        \n",
    "    return list(res.values())\n",
    "    \n",
    "\n",
    "strs = [\"eat\",\"tea\",\"tan\",\"ate\",\"nat\",\"bat\"]\n",
    "res = groupAnagrams(strs)\n",
    "print(res)"
   ]
  }
 ],
 "metadata": {
  "kernelspec": {
   "display_name": "leetcode_env",
   "language": "python",
   "name": "leetcode_env"
  },
  "language_info": {
   "codemirror_mode": {
    "name": "ipython",
    "version": 3
   },
   "file_extension": ".py",
   "mimetype": "text/x-python",
   "name": "python",
   "nbconvert_exporter": "python",
   "pygments_lexer": "ipython3",
   "version": "3.8.6"
  },
  "orig_nbformat": 4
 },
 "nbformat": 4,
 "nbformat_minor": 2
}
