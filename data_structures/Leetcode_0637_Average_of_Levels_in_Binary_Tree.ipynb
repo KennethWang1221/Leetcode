{
 "cells": [
  {
   "cell_type": "markdown",
   "metadata": {},
   "source": [
    "## Method1 - BFS\n",
    "\n",
    "similar with 0102_Binary_Tree_Level_Order_Traversal"
   ]
  },
  {
   "cell_type": "code",
   "execution_count": 2,
   "metadata": {},
   "outputs": [
    {
     "name": "stdout",
     "output_type": "stream",
     "text": [
      "[3.0, 14.5, 11.0]\n"
     ]
    }
   ],
   "source": [
    "class TreeNode(object):\n",
    "    def __init__(self, x):\n",
    "        if x == None:\n",
    "            self.val = None\n",
    "        else:\n",
    "            self.val = x\n",
    "        self.left = None\n",
    "        self.right = None\n",
    "\n",
    "\n",
    "def rightSideView(root):\n",
    "    res = []\n",
    "    if root == None:\n",
    "        return []\n",
    "    que = [root]\n",
    "\n",
    "    while que:\n",
    "        level = []\n",
    "        n = len(que)\n",
    "        avg = 0\n",
    "        for i in range(n):        \n",
    "            cur = que.pop(0)\n",
    "            level.append(cur.val)\n",
    "\n",
    "            if cur.left:\n",
    "                que.append(cur.left)\n",
    "            if cur.right:\n",
    "                que.append(cur.right)\n",
    "\n",
    "            avg = sum(level) / n\n",
    "        res.extend([avg])\n",
    "\n",
    "    return res\n",
    "\n",
    "n1 = TreeNode(3)\n",
    "n2 = TreeNode(9)\n",
    "n3 = TreeNode(20)\n",
    "n4 = TreeNode(None)\n",
    "n5 = TreeNode(None)\n",
    "n6 = TreeNode(15)\n",
    "n7 = TreeNode(7)\n",
    "#n5 = TreeNode(17)\n",
    "\n",
    "n1.left = n2\n",
    "n1.right = n3\n",
    "#n2.left = n4\n",
    "#n2.right = n5\n",
    "n3.left = n6\n",
    "n3.right = n7\n",
    "\n",
    "\n",
    "res = rightSideView(n1)\n",
    "\n",
    "print(res)"
   ]
  },
  {
   "cell_type": "markdown",
   "metadata": {},
   "source": [
    "## similar with 0102_Binary_Tree_Level_Order_Traversal"
   ]
  },
  {
   "cell_type": "code",
   "execution_count": 20,
   "metadata": {},
   "outputs": [
    {
     "name": "stdout",
     "output_type": "stream",
     "text": [
      "[[3], [9, 20], [15, 7]]\n"
     ]
    }
   ],
   "source": [
    "class TreeNode(object):\n",
    "    def __init__(self, x):\n",
    "        if x == None:\n",
    "            self.val = None\n",
    "        else:\n",
    "            self.val = x\n",
    "        self.left = None\n",
    "        self.right = None\n",
    "\n",
    "\n",
    "def levelOrder(root):\n",
    "    results = []\n",
    "    que = []\n",
    "    if root == None:\n",
    "        return []\n",
    "    \n",
    "    que = [root]\n",
    "    \n",
    "    while que:\n",
    "        level = []\n",
    "        n = len(que)\n",
    "        for i in range(n):\n",
    "            cur = que.pop(0)\n",
    "            level.append(cur.val)\n",
    "            if cur.left:\n",
    "                que.append(cur.left)\n",
    "            if cur.right:\n",
    "                que.append(cur.right)\n",
    "        results.append(level)\n",
    "\n",
    "    return results\n",
    "n1 = TreeNode(3)\n",
    "n2 = TreeNode(9)\n",
    "n3 = TreeNode(20)\n",
    "#n4 = TreeNode(None)\n",
    "#n5 = TreeNode(None)\n",
    "n6 = TreeNode(15)\n",
    "n7 = TreeNode(7)\n",
    "#n5 = TreeNode(17)\n",
    "\n",
    "n1.left = n2\n",
    "n1.right = n3\n",
    "#n2.left = n4\n",
    "#n2.right = n5\n",
    "n3.left = n6\n",
    "n3.right = n7\n",
    "\n",
    "\n",
    "res = levelOrder(n1)\n",
    "\n",
    "print(res)"
   ]
  },
  {
   "cell_type": "code",
   "execution_count": 21,
   "metadata": {},
   "outputs": [
    {
     "name": "stdout",
     "output_type": "stream",
     "text": [
      "3\n",
      "29\n",
      "22\n"
     ]
    }
   ],
   "source": [
    "a = [[3], [9,20], [15,7]]\n",
    "for i in a:\n",
    "    print(sum(i))"
   ]
  },
  {
   "cell_type": "markdown",
   "metadata": {},
   "source": [
    "## Recap binarytree"
   ]
  },
  {
   "cell_type": "code",
   "execution_count": 1,
   "metadata": {},
   "outputs": [
    {
     "name": "stdout",
     "output_type": "stream",
     "text": [
      "\n",
      "  __1\n",
      " /   \\\n",
      "2     3\n",
      " \\     \\\n",
      "  5     4\n",
      "\n"
     ]
    }
   ],
   "source": [
    "from binarytree import tree, bst, heap, Node\n",
    "n1 = Node(1)\n",
    "n2 = Node(2)\n",
    "n3 = Node(3)\n",
    "#n4 = Node(None)\n",
    "n5 = Node(5)\n",
    "n6 = Node(4)\n",
    "\n",
    "n1.left = n2\n",
    "n1.right = n3\n",
    "n2.right = n5\n",
    "n3.right = n6\n",
    "print(n1)"
   ]
  }
 ],
 "metadata": {
  "kernelspec": {
   "display_name": "leetcode_env",
   "language": "python",
   "name": "leetcode_env"
  },
  "language_info": {
   "codemirror_mode": {
    "name": "ipython",
    "version": 3
   },
   "file_extension": ".py",
   "mimetype": "text/x-python",
   "name": "python",
   "nbconvert_exporter": "python",
   "pygments_lexer": "ipython3",
   "version": "3.8.6"
  },
  "orig_nbformat": 4,
  "vscode": {
   "interpreter": {
    "hash": "846fd2d9bb562a436898b7cc368204fc2f9d44e5e9b051b4f6e855e721078f23"
   }
  }
 },
 "nbformat": 4,
 "nbformat_minor": 2
}
