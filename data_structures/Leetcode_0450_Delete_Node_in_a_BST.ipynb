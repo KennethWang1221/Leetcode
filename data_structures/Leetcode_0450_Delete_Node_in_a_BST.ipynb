{
 "cells": [
  {
   "cell_type": "markdown",
   "metadata": {},
   "source": [
    "## Method1 - Recursive\n",
    "https://github.com/youngyangyang04/leetcode-master/blob/master/problems/0450.%E5%88%A0%E9%99%A4%E4%BA%8C%E5%8F%89%E6%90%9C%E7%B4%A2%E6%A0%91%E4%B8%AD%E7%9A%84%E8%8A%82%E7%82%B9.md"
   ]
  },
  {
   "cell_type": "markdown",
   "metadata": {},
   "source": [
    "Need investigate later!"
   ]
  },
  {
   "cell_type": "code",
   "execution_count": 1,
   "metadata": {},
   "outputs": [
    {
     "name": "stdout",
     "output_type": "stream",
     "text": [
      "Original Tree:\n",
      "2, 3, 4, 5, 6, 7, \n",
      "After deleting 5:\n",
      "2, 3, 4, 6, 7, \n",
      "Original Tree:\n",
      "2, 3, 4, 5, 6, 7, \n",
      "After deleting 7:\n",
      "2, 3, 4, 5, 6, \n",
      "Original Tree:\n",
      "2, 3, 4, 5, 6, 7, \n",
      "After deleting 3:\n",
      "2, 4, 5, 6, 7, \n"
     ]
    }
   ],
   "source": [
    "class TreeNode(object):\n",
    "    def __init__(self, x):\n",
    "        self.val = x\n",
    "        self.left = None\n",
    "        self.right = None \n",
    "\n",
    "def deleteNode(root, key):\n",
    "    if not root:\n",
    "        return None  # If the node is empty, return None\n",
    "    \n",
    "    if root.val < key:\n",
    "        root.right = deleteNode(root.right, key)  # Recursively move to the right subtree\n",
    "    elif root.val > key:\n",
    "        root.left = deleteNode(root.left, key)  # Recursively move to the left subtree\n",
    "    else:\n",
    "        # Case 1: Node has no left child\n",
    "        if not root.left:\n",
    "            return root.right\n",
    "        # Case 2: Node has no right child\n",
    "        if not root.right:\n",
    "            return root.left\n",
    "        # Case 3: Node has both left and right children\n",
    "        node = root.right\n",
    "        while node.left:\n",
    "            node = node.left  # Find the leftmost node in the right subtree\n",
    "        node.left = root.left  # Attach the left subtree to the left of the found node\n",
    "        root = root.right  # Replace current node with the right child\n",
    "    return root\n",
    "\n",
    "# Helper function to print the tree in-order (left, root, right)\n",
    "def print_tree(root):\n",
    "    if root:\n",
    "        print_tree(root.left)\n",
    "        print(root.val, end=\", \")\n",
    "        print_tree(root.right)\n",
    "\n",
    "# Test Case 1: Deleting a node with value 5 (root node)\n",
    "n1 = TreeNode(5)\n",
    "n2 = TreeNode(3)\n",
    "n3 = TreeNode(6)\n",
    "n4 = TreeNode(2)\n",
    "n5 = TreeNode(4)\n",
    "n6 = TreeNode(7)\n",
    "\n",
    "n1.left = n2\n",
    "n1.right = n3\n",
    "n2.left = n4\n",
    "n2.right = n5\n",
    "n3.right = n6\n",
    "\n",
    "print(\"Original Tree:\")\n",
    "print_tree(n1)\n",
    "print()\n",
    "\n",
    "# Delete node with value 5\n",
    "res = deleteNode(n1, key=5)\n",
    "print(\"After deleting 5:\")\n",
    "print_tree(res)\n",
    "print()\n",
    "\n",
    "# Test Case 2: Deleting a leaf node with value 7\n",
    "n1 = TreeNode(5)\n",
    "n2 = TreeNode(3)\n",
    "n3 = TreeNode(6)\n",
    "n4 = TreeNode(2)\n",
    "n5 = TreeNode(4)\n",
    "n6 = TreeNode(7)\n",
    "\n",
    "n1.left = n2\n",
    "n1.right = n3\n",
    "n2.left = n4\n",
    "n2.right = n5\n",
    "n3.right = n6\n",
    "\n",
    "print(\"Original Tree:\")\n",
    "print_tree(n1)\n",
    "print()\n",
    "\n",
    "# Delete node with value 7 (a leaf node)\n",
    "res2 = deleteNode(n1, key=7)\n",
    "print(\"After deleting 7:\")\n",
    "print_tree(res2)\n",
    "print()\n",
    "\n",
    "# Test Case 3: Deleting a node with value 3 (node with both left and right children)\n",
    "n1 = TreeNode(5)\n",
    "n2 = TreeNode(3)\n",
    "n3 = TreeNode(6)\n",
    "n4 = TreeNode(2)\n",
    "n5 = TreeNode(4)\n",
    "n6 = TreeNode(7)\n",
    "\n",
    "n1.left = n2\n",
    "n1.right = n3\n",
    "n2.left = n4\n",
    "n2.right = n5\n",
    "n3.right = n6\n",
    "\n",
    "print(\"Original Tree:\")\n",
    "print_tree(n1)\n",
    "print()\n",
    "\n",
    "# Delete node with value 3 (node with left and right children)\n",
    "res3 = deleteNode(n1, key=3)\n",
    "print(\"After deleting 3:\")\n",
    "print_tree(res3)\n",
    "print()\n"
   ]
  },
  {
   "cell_type": "code",
   "execution_count": 5,
   "metadata": {},
   "outputs": [
    {
     "name": "stdout",
     "output_type": "stream",
     "text": [
      "\n",
      "    __5\n",
      "   /   \\\n",
      "  3     6\n",
      " / \\     \\\n",
      "2   4     7\n",
      "\n"
     ]
    }
   ],
   "source": [
    "from binarytree import tree, bst, heap, Node\n",
    "n1 = Node(5)\n",
    "n2 = Node(3)\n",
    "n3 = Node(6)\n",
    "n4 = Node(2)\n",
    "n5 = Node(4)\n",
    "n6 = Node(7)\n",
    "\n",
    "n1.left = n2\n",
    "n1.right = n3\n",
    "n2.left = n4\n",
    "n2.right = n5\n",
    "n3.right = n6\n",
    "print(n1)"
   ]
  }
 ],
 "metadata": {
  "kernelspec": {
   "display_name": "Python 3.8.6 64-bit ('leetcode_env')",
   "language": "python",
   "name": "python3"
  },
  "language_info": {
   "codemirror_mode": {
    "name": "ipython",
    "version": 3
   },
   "file_extension": ".py",
   "mimetype": "text/x-python",
   "name": "python",
   "nbconvert_exporter": "python",
   "pygments_lexer": "ipython3",
   "version": "3.8.6"
  },
  "orig_nbformat": 4,
  "vscode": {
   "interpreter": {
    "hash": "846fd2d9bb562a436898b7cc368204fc2f9d44e5e9b051b4f6e855e721078f23"
   }
  }
 },
 "nbformat": 4,
 "nbformat_minor": 2
}
