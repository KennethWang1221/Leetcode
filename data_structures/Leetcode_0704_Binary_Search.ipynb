{
 "cells": [
  {
   "cell_type": "markdown",
   "metadata": {},
   "source": [
    "## Method1 - DIY - Binary Search"
   ]
  },
  {
   "cell_type": "code",
   "execution_count": 3,
   "metadata": {},
   "outputs": [
    {
     "name": "stdout",
     "output_type": "stream",
     "text": [
      "the index is: 4\n",
      "4\n"
     ]
    }
   ],
   "source": [
    "def search(nums, target):\n",
    "    n = len(nums)\n",
    "    l, r = 0, n-1\n",
    "\n",
    "    while l<=r:\n",
    "        middle = (l+r) // 2\n",
    "        if target < nums[middle]:\n",
    "            r = middle - 1\n",
    "        elif target > nums[middle]:\n",
    "            l = middle + 1\n",
    "        else:\n",
    "            print(\"the index is:\", middle)\n",
    "            break\n",
    "    else:\n",
    "        print(\"No target\")\n",
    "        return -1\n",
    "    return middle\n",
    "\n",
    "nums = [-1,0,3,5,9,12]\n",
    "target = 9\n",
    "print(search(nums,target))"
   ]
  },
  {
   "cell_type": "markdown",
   "metadata": {},
   "source": [
    "## Method-2 Binary Search \n",
    "\n",
    "https://www.youtube.com/watch?v=s4DPM8ct1pI"
   ]
  },
  {
   "cell_type": "code",
   "execution_count": 4,
   "metadata": {},
   "outputs": [
    {
     "name": "stdout",
     "output_type": "stream",
     "text": [
      "4\n"
     ]
    }
   ],
   "source": [
    "def search(nums, target):\n",
    "    l, r = 0, len(nums) - 1\n",
    "\n",
    "    while l <= r:\n",
    "        m = l + ((r - l) // 2)  # (l + r) // 2 can lead to overflow\n",
    "        if nums[m] > target:\n",
    "            r = m - 1\n",
    "        elif nums[m] < target:\n",
    "            l = m + 1\n",
    "        else:\n",
    "            return m\n",
    "    return -1\n",
    "\n",
    "nums = [-1,0,3,5,9,12]\n",
    "target = 9\n",
    "print(search(nums,target))"
   ]
  }
 ],
 "metadata": {
  "kernelspec": {
   "display_name": "test_env",
   "language": "python",
   "name": "python3"
  },
  "language_info": {
   "codemirror_mode": {
    "name": "ipython",
    "version": 3
   },
   "file_extension": ".py",
   "mimetype": "text/x-python",
   "name": "python",
   "nbconvert_exporter": "python",
   "pygments_lexer": "ipython3",
   "version": "3.8.6"
  }
 },
 "nbformat": 4,
 "nbformat_minor": 2
}
