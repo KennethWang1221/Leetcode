{
 "cells": [
  {
   "cell_type": "markdown",
   "metadata": {},
   "source": [
    "## Method1 - Hashset - Sliding Window \n",
    "Top Interview 0047/150\n",
    "\n",
    "https://www.youtube.com/watch?v=ypn0aZ0nrL4"
   ]
  },
  {
   "cell_type": "code",
   "execution_count": 4,
   "metadata": {},
   "outputs": [
    {
     "name": "stdout",
     "output_type": "stream",
     "text": [
      "False\n"
     ]
    }
   ],
   "source": [
    "def containsNearbyDuplicate(nums, k):\n",
    "    window = set()\n",
    "    L = 0\n",
    "    n = len(nums)\n",
    "    for R in range(n):\n",
    "        if R - L > k:\n",
    "            window.remove(nums[L])\n",
    "            L += 1\n",
    "        if nums[R] in window:\n",
    "            return True\n",
    "        window.add(nums[R])\n",
    "    return False\n",
    "nums = [1,2,3,1]\n",
    "k = 3\n",
    "nums = [1,2,3,1,2,3]\n",
    "k = 2\n",
    "res = containsNearbyDuplicate(nums,k)\n",
    "print(res)"
   ]
  },
  {
   "cell_type": "markdown",
   "metadata": {},
   "source": [
    "## Method2 - Hashset"
   ]
  },
  {
   "cell_type": "code",
   "execution_count": 1,
   "metadata": {},
   "outputs": [
    {
     "name": "stdout",
     "output_type": "stream",
     "text": [
      "False\n"
     ]
    }
   ],
   "source": [
    "def containsNearbyDuplicate(nums, k):\n",
    "    map = {}\n",
    "\n",
    "    for index, val in enumerate(nums):\n",
    "        if val in map:\n",
    "            diff = abs(map[val] - index)\n",
    "            if diff <= k: return True\n",
    "        map[val] = index\n",
    "\n",
    "    return False\n",
    "    \n",
    "nums = [1,2,3,1]\n",
    "k = 3\n",
    "nums = [1,2,3,1,2,3]\n",
    "k = 2\n",
    "res = containsNearbyDuplicate(nums,k)\n",
    "print(res)"
   ]
  },
  {
   "cell_type": "code",
   "execution_count": null,
   "metadata": {},
   "outputs": [],
   "source": [
    "def containsNearbyDuplicate(nums, k):\n",
    "    n = len(nums)\n",
    "    premap = {}\n",
    "    for i in range(n):\n",
    "        if nums[i] not in premap:\n",
    "            premap[nums[i]] = []\n",
    "            premap[nums[i]].append(i)\n",
    "        else:\n",
    "            prev = premap[nums[i]][-1]\n",
    "            diff = abs(i - prev)\n",
    "            premap[nums[i]].append(i)\n",
    "            if diff <= k:\n",
    "                return True\n",
    "    return False\n",
    "    \n",
    "nums = [1,2,3,1]\n",
    "k = 3\n",
    "nums = [1,2,3,1,2,3]\n",
    "k = 2\n",
    "res = containsNearbyDuplicate(nums,k)\n",
    "print(res)"
   ]
  }
 ],
 "metadata": {
  "kernelspec": {
   "display_name": "leetcode_env",
   "language": "python",
   "name": "python3"
  },
  "language_info": {
   "codemirror_mode": {
    "name": "ipython",
    "version": 3
   },
   "file_extension": ".py",
   "mimetype": "text/x-python",
   "name": "python",
   "nbconvert_exporter": "python",
   "pygments_lexer": "ipython3",
   "version": "3.8.6"
  },
  "orig_nbformat": 4
 },
 "nbformat": 4,
 "nbformat_minor": 2
}
