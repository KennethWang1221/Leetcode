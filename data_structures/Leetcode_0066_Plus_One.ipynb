{
 "cells": [
  {
   "cell_type": "markdown",
   "metadata": {},
   "source": [
    "## Method1 - Math\n",
    "https://www.youtube.com/watch?v=jIaA8boiG1s"
   ]
  },
  {
   "cell_type": "code",
   "execution_count": 1,
   "metadata": {},
   "outputs": [
    {
     "name": "stdout",
     "output_type": "stream",
     "text": [
      "[1, 2, 4]\n"
     ]
    }
   ],
   "source": [
    "def plusOne(digits):\n",
    "    one = 1\n",
    "    i = 0\n",
    "    digits = digits[::-1]\n",
    "\n",
    "    while one:\n",
    "        if i < len(digits):\n",
    "            if digits[i] == 9:\n",
    "                digits[i] = 0\n",
    "            else:\n",
    "                digits[i] += 1\n",
    "                one = 0\n",
    "        else:\n",
    "            digits.append(one)\n",
    "            one = 0\n",
    "        i += 1\n",
    "    return digits[::-1]\n",
    "\n",
    "digits = [1,2,3]\n",
    "res = plusOne(digits)\n",
    "print(res)"
   ]
  },
  {
   "cell_type": "markdown",
   "metadata": {},
   "source": [
    "## DIY"
   ]
  },
  {
   "cell_type": "code",
   "execution_count": 3,
   "metadata": {},
   "outputs": [
    {
     "name": "stdout",
     "output_type": "stream",
     "text": [
      "[1, 0, 0]\n"
     ]
    }
   ],
   "source": [
    "def test(digits):\n",
    "    n = len(digits)\n",
    "    res = []\n",
    "    carry = 0\n",
    "    for i in range(n-1,-1,-1):\n",
    "        if i == n-1:\n",
    "            curr = digits[i] + 1 \n",
    "        else:   \n",
    "            curr = digits[i] + carry\n",
    "        \n",
    "        carry, char = curr // 10, curr % 10\n",
    "        res.append(char)\n",
    "    if carry:\n",
    "        res.append(1)\n",
    "    return res[::-1]\n",
    "\n",
    "digits = [9,9]\n",
    "res = test(digits)\n",
    "print(res) "
   ]
  },
  {
   "cell_type": "markdown",
   "metadata": {},
   "source": [
    "## Failure example"
   ]
  },
  {
   "cell_type": "code",
   "execution_count": 1,
   "metadata": {},
   "outputs": [
    {
     "name": "stdout",
     "output_type": "stream",
     "text": [
      "[9, 1, 0]\n"
     ]
    }
   ],
   "source": [
    "def test(digits):\n",
    "    n = len(digits)\n",
    "    res = []\n",
    "\n",
    "    for i in range(0,n-1):\n",
    "        res.append(digits[i])\n",
    "    \n",
    "    new = digits[-1] + 1\n",
    "    left, right = new // 10, new % 10\n",
    "    if left:\n",
    "        res.append(left)\n",
    "    \n",
    "    res.append(right)\n",
    "    return res\n",
    "\n",
    "digits = [9,9]\n",
    "res = test(digits)\n",
    "print(res) # 1 0 0 "
   ]
  }
 ],
 "metadata": {
  "kernelspec": {
   "display_name": "test_env",
   "language": "python",
   "name": "test_env"
  },
  "language_info": {
   "codemirror_mode": {
    "name": "ipython",
    "version": 3
   },
   "file_extension": ".py",
   "mimetype": "text/x-python",
   "name": "python",
   "nbconvert_exporter": "python",
   "pygments_lexer": "ipython3",
   "version": "3.8.6"
  }
 },
 "nbformat": 4,
 "nbformat_minor": 2
}
