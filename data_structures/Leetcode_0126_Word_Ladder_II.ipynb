{
 "cells": [
  {
   "cell_type": "markdown",
   "metadata": {},
   "source": [
    "## Method1 - DFS + BFS\n",
    "\n",
    "https://leetcode.com/problems/word-ladder-ii/solutions/2422401/46ms-python-97-faster-working-multiple-solutions-95-memory-efficient-solution/"
   ]
  },
  {
   "cell_type": "code",
   "execution_count": 5,
   "metadata": {},
   "outputs": [
    {
     "name": "stdout",
     "output_type": "stream",
     "text": [
      "[['hit', 'hot', 'dot', 'dog', 'cog'], ['hit', 'hot', 'lot', 'log', 'cog']]\n"
     ]
    }
   ],
   "source": [
    "from collections import defaultdict, deque\n",
    "\n",
    "def findLadders(beginWord, endWord, wordList):\n",
    "    d = defaultdict(list)\n",
    "    for word in wordList:\n",
    "        for i in range(len(word)):\n",
    "            d[word[:i]+\"*\"+word[i+1:]].append(word)\n",
    "\n",
    "    if endWord not in wordList:\n",
    "        return []\n",
    "\n",
    "    visited1 = defaultdict(list)\n",
    "    q1 = deque([beginWord])\n",
    "    visited1[beginWord] = []\n",
    "\n",
    "    visited2 = defaultdict(list)\n",
    "    q2 = deque([endWord])\n",
    "    visited2[endWord] = []\n",
    "\n",
    "    ans = []\n",
    "    def dfs(v, visited, path, paths):\n",
    "        path.append(v)\n",
    "        if not visited[v]:\n",
    "            if visited is visited1:\n",
    "                paths.append(path[::-1])\n",
    "            else:\n",
    "                paths.append(path[:])\n",
    "        for u in visited[v]:\n",
    "            dfs(u, visited, path, paths)\n",
    "        path.pop()\n",
    "\n",
    "    def bfs(q, visited1, visited2, frombegin):\n",
    "        level_visited = defaultdict(list)\n",
    "        for _ in range(len(q)):\n",
    "            u = q.popleft()\n",
    "\n",
    "            for i in range(len(u)):\n",
    "                for v in d[u[:i]+\"*\"+u[i+1:]]:\n",
    "                    if v in visited2:\n",
    "                        paths1 = []\n",
    "                        paths2 = []\n",
    "                        dfs(u, visited1, [], paths1)\n",
    "                        dfs(v, visited2, [], paths2)\n",
    "                        if not frombegin:\n",
    "                            paths1, paths2 = paths2, paths1\n",
    "                        for a in paths1:\n",
    "                            for b in paths2:\n",
    "                                ans.append(a+b)\n",
    "                    elif v not in visited1:\n",
    "                        if v not in level_visited:\n",
    "                            q.append(v)\n",
    "                        level_visited[v].append(u)\n",
    "        visited1.update(level_visited)\n",
    "\n",
    "    while q1 and q2 and not ans:\n",
    "        if len(q1) <= len(q2):\n",
    "            bfs(q1, visited1, visited2, True)\n",
    "        else:\n",
    "            bfs(q2, visited2, visited1, False)\n",
    "\n",
    "    return ans\n",
    "    \n",
    "print(findLadders(beginWord = \"hit\", endWord = \"cog\", wordList = [\"hot\",\"dot\",\"dog\",\"lot\",\"log\",\"cog\"])) "
   ]
  }
 ],
 "metadata": {
  "kernelspec": {
   "display_name": "leetcode_env",
   "language": "python",
   "name": "python3"
  },
  "language_info": {
   "codemirror_mode": {
    "name": "ipython",
    "version": 3
   },
   "file_extension": ".py",
   "mimetype": "text/x-python",
   "name": "python",
   "nbconvert_exporter": "python",
   "pygments_lexer": "ipython3",
   "version": "3.8.6"
  }
 },
 "nbformat": 4,
 "nbformat_minor": 2
}
