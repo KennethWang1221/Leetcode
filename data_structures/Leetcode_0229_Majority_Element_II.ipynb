{
 "cells": [
  {
   "cell_type": "markdown",
   "metadata": {},
   "source": [
    "## Method1 - HashSet - DIY\n"
   ]
  },
  {
   "cell_type": "code",
   "execution_count": 1,
   "metadata": {},
   "outputs": [
    {
     "name": "stdout",
     "output_type": "stream",
     "text": [
      "[3]\n"
     ]
    }
   ],
   "source": [
    "def majorityElement(nums):\n",
    "    n = len(nums)\n",
    "    appera = n / 3\n",
    "    freq = {}\n",
    "    res = []\n",
    "    for n in nums:\n",
    "        freq[n] = freq.get(n,0) + 1\n",
    "    \n",
    "    for key , value in freq.items():\n",
    "        if value > appera:\n",
    "            res.append(key)\n",
    "    return res\n",
    "print(majorityElement(nums = [3,2,3]))"
   ]
  },
  {
   "cell_type": "markdown",
   "metadata": {},
   "source": [
    "## Method1 - HashSet\n",
    "https://www.youtube.com/watch?v=Eua-UrQ_ANo"
   ]
  },
  {
   "cell_type": "code",
   "execution_count": 4,
   "metadata": {},
   "outputs": [
    {
     "name": "stdout",
     "output_type": "stream",
     "text": [
      "[3]\n"
     ]
    }
   ],
   "source": [
    "from collections import defaultdict\n",
    "def majorityElement(nums):\n",
    "    count = defaultdict(int)\n",
    "    size = len(nums)\n",
    "    for n in nums:\n",
    "        count[n] += 1\n",
    "        \n",
    "        if len(count) <= 2:\n",
    "            continue\n",
    "        new_count = defaultdict(int)\n",
    "        for n, c in count.items():\n",
    "            if c > 1:\n",
    "                new_count[n] = c - 1\n",
    "        count = new_count\n",
    "    res = []\n",
    "    for n in count:\n",
    "        if nums.count(n) > size // 3:\n",
    "            res.append(n)\n",
    "    return res\n",
    "print(majorityElement(nums = [3,2,3]))"
   ]
  }
 ],
 "metadata": {
  "kernelspec": {
   "display_name": "leetcode_env",
   "language": "python",
   "name": "python3"
  },
  "language_info": {
   "codemirror_mode": {
    "name": "ipython",
    "version": 3
   },
   "file_extension": ".py",
   "mimetype": "text/x-python",
   "name": "python",
   "nbconvert_exporter": "python",
   "pygments_lexer": "ipython3",
   "version": "3.8.6"
  }
 },
 "nbformat": 4,
 "nbformat_minor": 2
}
