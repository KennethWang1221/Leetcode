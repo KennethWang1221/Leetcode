{
 "cells": [
  {
   "cell_type": "markdown",
   "metadata": {},
   "source": [
    "## Method1 - Heap\n",
    "https://www.youtube.com/watch?v=2g_b1aYTHeg"
   ]
  },
  {
   "cell_type": "code",
   "execution_count": 3,
   "metadata": {},
   "outputs": [
    {
     "name": "stdout",
     "output_type": "stream",
     "text": [
      "aba\n"
     ]
    }
   ],
   "source": [
    "from collections import Counter\n",
    "import heapq\n",
    "def reorganizeString(s):\n",
    "    count = Counter(s)  # Hashmap, count each char\n",
    "    maxHeap = [[-cnt, char] for char, cnt in count.items()]\n",
    "    heapq.heapify(maxHeap)  # O(n)\n",
    "\n",
    "    prev = None\n",
    "    res = \"\"\n",
    "    while maxHeap or prev:\n",
    "        if prev and not maxHeap:\n",
    "            return \"\"\n",
    "        # most frequent, except prev\n",
    "        cnt, char = heapq.heappop(maxHeap)\n",
    "        res += char\n",
    "        cnt += 1\n",
    "\n",
    "        if prev:\n",
    "            heapq.heappush(maxHeap, prev)\n",
    "            prev = None\n",
    "        if cnt != 0:\n",
    "            prev = [cnt, char]\n",
    "    return res\n",
    "\n",
    "print(reorganizeString(s='aab'))"
   ]
  },
  {
   "cell_type": "markdown",
   "metadata": {},
   "source": [
    "## Method2 - List"
   ]
  },
  {
   "cell_type": "code",
   "execution_count": 4,
   "metadata": {},
   "outputs": [
    {
     "name": "stdout",
     "output_type": "stream",
     "text": [
      "aba\n"
     ]
    }
   ],
   "source": [
    "def reorganizeString(s):\n",
    "    freq_map = {}\n",
    "    for c in s:\n",
    "        freq_map[c] = freq_map.get(c, 0) + 1\n",
    "        \n",
    "    # 2. Convert the dictionary into a list of [count, char]\n",
    "    freq_list = []\n",
    "    for char, count in freq_map.items():\n",
    "        freq_list.append([count, char])\n",
    "        \n",
    "    # 3. Sort the list by descending frequency\n",
    "    freq_list.sort(key=lambda x: x[0], reverse=True)\n",
    "    \n",
    "    res = []\n",
    "    prev = None  # This will hold something like [count, char] that we need to reinsert later\n",
    "    \n",
    "    # 4. Loop while we still have characters in freq_list or a leftover 'prev'\n",
    "    while freq_list or prev:\n",
    "        \n",
    "        # If there's a leftover (prev) but nothing to pair it with, we fail\n",
    "        if prev and not freq_list:\n",
    "            return \"\"\n",
    "        \n",
    "        # Pop the most frequent character\n",
    "        '''        \n",
    "        count, char = freq_list[0]\n",
    "        freq_list = freq_list[1:]\n",
    "        '''\n",
    "        count, char = freq_list.pop(0)\n",
    "        \n",
    "        # Add to our result\n",
    "        res.append(char)\n",
    "        count -= 1\n",
    "        \n",
    "        # If we had a leftover from previous iteration, push it back into freq_list\n",
    "        if prev:\n",
    "            freq_list.append(prev)\n",
    "            # Re-sort after adding the leftover\n",
    "            freq_list.sort(key=lambda x: x[0], reverse=True)\n",
    "            prev = None\n",
    "        \n",
    "        # If current character still has frequency left, store it as the new 'prev'\n",
    "        if count > 0:\n",
    "            prev = [count, char]\n",
    "    \n",
    "    return \"\".join(res)\n",
    "\n",
    "# Test\n",
    "print(reorganizeString('aab'))  # Should print something like \"aba\"\n"
   ]
  }
 ],
 "metadata": {
  "kernelspec": {
   "display_name": "leetcode_env",
   "language": "python",
   "name": "leetcode_env"
  },
  "language_info": {
   "codemirror_mode": {
    "name": "ipython",
    "version": 3
   },
   "file_extension": ".py",
   "mimetype": "text/x-python",
   "name": "python",
   "nbconvert_exporter": "python",
   "pygments_lexer": "ipython3",
   "version": "3.8.6"
  }
 },
 "nbformat": 4,
 "nbformat_minor": 2
}
