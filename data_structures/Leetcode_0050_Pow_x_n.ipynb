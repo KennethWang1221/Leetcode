{
 "cells": [
  {
   "cell_type": "markdown",
   "metadata": {},
   "source": [
    "## Method1 \n",
    "https://www.youtube.com/watch?v=g9YQyYi4IQQ"
   ]
  },
  {
   "cell_type": "code",
   "execution_count": 1,
   "metadata": {},
   "outputs": [
    {
     "name": "stdout",
     "output_type": "stream",
     "text": [
      "1024.0\n"
     ]
    }
   ],
   "source": [
    "def myPow(x: float, n: int) -> float:\n",
    "\n",
    "    def helper(x, n):\n",
    "        if x == 0:\n",
    "            return 0\n",
    "        if n == 0:\n",
    "            return 1\n",
    "\n",
    "        res = helper(x * x, n // 2)\n",
    "        return x * res if n % 2 else res\n",
    "\n",
    "    res = helper(x, abs(n))\n",
    "    return res if n >= 0 else 1 / res\n",
    "\n",
    "x = 2.00000\n",
    "n = 10\n",
    "res = myPow(x, n)\n",
    "print(res)"
   ]
  }
 ],
 "metadata": {
  "kernelspec": {
   "display_name": "test_env",
   "language": "python",
   "name": "test_env"
  },
  "language_info": {
   "codemirror_mode": {
    "name": "ipython",
    "version": 3
   },
   "file_extension": ".py",
   "mimetype": "text/x-python",
   "name": "python",
   "nbconvert_exporter": "python",
   "pygments_lexer": "ipython3",
   "version": "3.8.6"
  }
 },
 "nbformat": 4,
 "nbformat_minor": 2
}
