{
 "cells": [
  {
   "cell_type": "markdown",
   "metadata": {},
   "source": [
    "Method1: DIY"
   ]
  },
  {
   "cell_type": "code",
   "execution_count": 16,
   "metadata": {},
   "outputs": [
    {
     "name": "stdout",
     "output_type": "stream",
     "text": [
      "['b', 'l', 'u', 'e', ' ', 'i', 's', ' ', 's', 'k', 'y', ' ', 't', 'h', 'e']\n",
      "['b', 'l', 'u', 'e', ' ', 'i', 's', ' ', 's', 'k', 'y', ' ', 't', 'h', 'e']\n"
     ]
    }
   ],
   "source": [
    "def reverseWords(s):\n",
    "    n = len(s)\n",
    "    result = []\n",
    "    left = 0\n",
    "    right = n - 1\n",
    "\n",
    "    while left< right:\n",
    "        s[left], s[right] = s[right], s[left]\n",
    "        left+=1\n",
    "        right-=1\n",
    "    \n",
    "    start = 0\n",
    "    for i in range(n):\n",
    "        if s[i] == ' ' or i == n-1:\n",
    "            if i == n-1:\n",
    "                end = i # import otherwise the last world cannot reverse correct. \n",
    "            else:\n",
    "                end = i - 1\n",
    "            while start<end:\n",
    "                s[start], s[end] = s[end], s[start]\n",
    "                start+=1\n",
    "                end -=1\n",
    "            start = i+1\n",
    "\n",
    "    return s\n",
    "\n",
    "s = [\"t\",\"h\",\"e\",\" \",\"s\",\"k\",\"y\",\" \",\"i\",\"s\",\" \",\"b\",\"l\",\"u\",\"e\"]\n",
    "result = reverseWords(s)\n",
    "print(result)\n",
    "expected = [\"b\",\"l\",\"u\",\"e\",\" \",\"i\",\"s\",\" \",\"s\",\"k\",\"y\",\" \",\"t\",\"h\",\"e\"]\n",
    "print(expected)"
   ]
  },
  {
   "cell_type": "markdown",
   "metadata": {},
   "source": [
    "Wrong version"
   ]
  },
  {
   "cell_type": "code",
   "execution_count": 18,
   "metadata": {},
   "outputs": [
    {
     "name": "stdout",
     "output_type": "stream",
     "text": [
      "['b', 'l', 'u', 'e', ' ', 'i', 's', ' ', 's', 'k', 'y', ' ', 'h', 'e', 't']\n",
      "['b', 'l', 'u', 'e', ' ', 'i', 's', ' ', 's', 'k', 'y', ' ', 't', 'h', 'e']\n"
     ]
    }
   ],
   "source": [
    "def reverseWords(s):\n",
    "    n = len(s)\n",
    "    result = []\n",
    "    left = 0\n",
    "    right = n - 1\n",
    "\n",
    "    while left< right:\n",
    "        s[left], s[right] = s[right], s[left]\n",
    "        left+=1\n",
    "        right-=1\n",
    "    \n",
    "    start = 0\n",
    "    for i in range(n):\n",
    "        if s[i] == ' ' or i == n-1:\n",
    "            if i == n-1:\n",
    "                end = i - 1 # import otherwise the last world cannot reverse correct. \n",
    "            else:\n",
    "                end = i - 1\n",
    "            while start<end:\n",
    "                s[start], s[end] = s[end], s[start]\n",
    "                start+=1\n",
    "                end -=1\n",
    "            start = i+1\n",
    "\n",
    "    return s\n",
    "\n",
    "s = [\"t\",\"h\",\"e\",\" \",\"s\",\"k\",\"y\",\" \",\"i\",\"s\",\" \",\"b\",\"l\",\"u\",\"e\"]\n",
    "result = reverseWords(s)\n",
    "print(result)\n",
    "expected = [\"b\",\"l\",\"u\",\"e\",\" \",\"i\",\"s\",\" \",\"s\",\"k\",\"y\",\" \",\"t\",\"h\",\"e\"]\n",
    "print(expected)"
   ]
  },
  {
   "cell_type": "markdown",
   "metadata": {},
   "source": [
    "Method2: https://www.youtube.com/watch?v=TpVc85D5wOM"
   ]
  },
  {
   "cell_type": "code",
   "execution_count": 17,
   "metadata": {},
   "outputs": [
    {
     "name": "stdout",
     "output_type": "stream",
     "text": [
      "['b', 'l', 'u', 'e', ' ', 'i', 's', ' ', 's', 'k', 'y', ' ', 't', 'h', 'e']\n",
      "['b', 'l', 'u', 'e', ' ', 'i', 's', ' ', 's', 'k', 'y', ' ', 't', 'h', 'e']\n"
     ]
    }
   ],
   "source": [
    "def reverseWords(s):\n",
    "    n = len(s)\n",
    "    result = []\n",
    "    left = 0\n",
    "    right = n - 1\n",
    "\n",
    "    while left< right:\n",
    "        s[left], s[right] = s[right], s[left]\n",
    "\n",
    "        left+=1\n",
    "        right-=1\n",
    "    \n",
    "    start = 0\n",
    "    index = 0\n",
    "    while index<n:\n",
    "        if s[index] == ' ' or index == n-1:\n",
    "            if index == n-1:\n",
    "                end = index\n",
    "            else:\n",
    "                end = index-1\n",
    "            while start < end:\n",
    "                s[end], s[start] = s[start], s[end]\n",
    "                start+=1\n",
    "                end -=1\n",
    "            start=index+1\n",
    "\n",
    "        else:\n",
    "            pass\n",
    "        index+=1\n",
    "        \n",
    "    return s\n",
    "\n",
    "s = [\"t\",\"h\",\"e\",\" \",\"s\",\"k\",\"y\",\" \",\"i\",\"s\",\" \",\"b\",\"l\",\"u\",\"e\"]\n",
    "result = reverseWords(s)\n",
    "print(result)\n",
    "expected = [\"b\",\"l\",\"u\",\"e\",\" \",\"i\",\"s\",\" \",\"s\",\"k\",\"y\",\" \",\"t\",\"h\",\"e\"]\n",
    "print(expected)"
   ]
  }
 ],
 "metadata": {
  "kernelspec": {
   "display_name": "Python 3.8.6 64-bit ('leetcode_env')",
   "language": "python",
   "name": "python3"
  },
  "language_info": {
   "codemirror_mode": {
    "name": "ipython",
    "version": 3
   },
   "file_extension": ".py",
   "mimetype": "text/x-python",
   "name": "python",
   "nbconvert_exporter": "python",
   "pygments_lexer": "ipython3",
   "version": "3.8.6"
  },
  "orig_nbformat": 4,
  "vscode": {
   "interpreter": {
    "hash": "846fd2d9bb562a436898b7cc368204fc2f9d44e5e9b051b4f6e855e721078f23"
   }
  }
 },
 "nbformat": 4,
 "nbformat_minor": 2
}
