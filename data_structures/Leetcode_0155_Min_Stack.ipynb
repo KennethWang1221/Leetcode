{
 "cells": [
  {
   "cell_type": "code",
   "execution_count": 1,
   "metadata": {},
   "outputs": [
    {
     "name": "stdout",
     "output_type": "stream",
     "text": [
      "0\n",
      "-2\n"
     ]
    }
   ],
   "source": [
    "# https://www.bilibili.com/video/BV13p4y167KL\n",
    "class MinStack:\n",
    "\n",
    "    def __init__(self):\n",
    "        \"\"\"\n",
    "        initialize your data structure here.\n",
    "        \"\"\"\n",
    "        self.stack = []\n",
    "        self.minstack = []\n",
    "\n",
    "    def push(self, val: int) -> None:\n",
    "        self.stack.append(val)\n",
    "        if self.minstack == []: # if len(self.minstack) == 0\n",
    "            self.minstack.append(val)\n",
    "        else:\n",
    "            x = min(val,self.minstack[-1])\n",
    "            self.minstack.append(x)\n",
    "\n",
    "    def pop(self) -> None:\n",
    "        self.stack.pop(-1)\n",
    "        self.minstack.pop(-1)\n",
    "\n",
    "    def top(self) -> int:\n",
    "        val = self.stack[-1]\n",
    "        return val\n",
    "\n",
    "    def getMin(self) -> int:\n",
    "        return self.minstack[-1]\n",
    "\n",
    "\n",
    "\n",
    "# Your MinStack object will be instantiated and called as such:\n",
    "obj = MinStack()\n",
    "val = -2\n",
    "obj.push(val)\n",
    "val = -0\n",
    "obj.push(val)\n",
    "val = -3\n",
    "obj.push(val)\n",
    "obj.pop()\n",
    "param_3 = obj.top()\n",
    "print(param_3)\n",
    "param_4 = obj.getMin()\n",
    "print(param_4)"
   ]
  }
 ],
 "metadata": {
  "kernelspec": {
   "display_name": "Python 3.8.6 64-bit ('leetcode_env')",
   "language": "python",
   "name": "python3"
  },
  "language_info": {
   "codemirror_mode": {
    "name": "ipython",
    "version": 3
   },
   "file_extension": ".py",
   "mimetype": "text/x-python",
   "name": "python",
   "nbconvert_exporter": "python",
   "pygments_lexer": "ipython3",
   "version": "3.8.6"
  },
  "orig_nbformat": 4,
  "vscode": {
   "interpreter": {
    "hash": "846fd2d9bb562a436898b7cc368204fc2f9d44e5e9b051b4f6e855e721078f23"
   }
  }
 },
 "nbformat": 4,
 "nbformat_minor": 2
}
