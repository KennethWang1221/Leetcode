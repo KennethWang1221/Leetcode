{
 "cells": [
  {
   "cell_type": "markdown",
   "metadata": {},
   "source": [
    "## Method1 - DP - Bottom-UP\n",
    "\n",
    "https://www.youtube.com/watch?v=HsLG5QW9CFQ"
   ]
  },
  {
   "cell_type": "code",
   "execution_count": 3,
   "metadata": {},
   "outputs": [
    {
     "name": "stdout",
     "output_type": "stream",
     "text": [
      "Test Case 1: Bob\n",
      "Test Case 2: Alice\n",
      "Test Case 3: Bob\n",
      "Test Case 4: Tie\n",
      "Test Case 5: Tie\n"
     ]
    }
   ],
   "source": [
    "def stoneGameIII(stoneValue):\n",
    "    n = len(stoneValue)\n",
    "    dp = [float('-inf')] * (n + 4)\n",
    "    dp[n] = 0  # No stones left means no score difference\n",
    "\n",
    "    for i in range(n - 1, -1, -1):\n",
    "        total = 0\n",
    "        for k in range(3):\n",
    "            if i + k >= n:\n",
    "                break\n",
    "            total += stoneValue[i + k]\n",
    "            dp[i] = max(dp[i], total - dp[i + k + 1])\n",
    "\n",
    "    if dp[0] > 0:\n",
    "        return \"Alice\"\n",
    "    elif dp[0] < 0:\n",
    "        return \"Bob\"\n",
    "    else:\n",
    "        return \"Tie\"\n",
    "\n",
    "print(\"Test Case 1:\", stoneGameIII([1, 2, 3, 7]))     # Output: Bob\n",
    "print(\"Test Case 2:\", stoneGameIII([1, 2, 3, -9]))    # Output: Alice\n",
    "print(\"Test Case 3:\", stoneGameIII([1, 2, 3, 4, 5]))  # Output: Alice\n",
    "print(\"Test Case 4:\", stoneGameIII([0]))              # Output: Tie\n",
    "print(\"Test Case 5:\", stoneGameIII([-1, -2, -3]))     # Output: Bob"
   ]
  }
 ],
 "metadata": {
  "kernelspec": {
   "display_name": "leetcode_env",
   "language": "python",
   "name": "python3"
  },
  "language_info": {
   "codemirror_mode": {
    "name": "ipython",
    "version": 3
   },
   "file_extension": ".py",
   "mimetype": "text/x-python",
   "name": "python",
   "nbconvert_exporter": "python",
   "pygments_lexer": "ipython3",
   "version": "3.8.6"
  }
 },
 "nbformat": 4,
 "nbformat_minor": 2
}
