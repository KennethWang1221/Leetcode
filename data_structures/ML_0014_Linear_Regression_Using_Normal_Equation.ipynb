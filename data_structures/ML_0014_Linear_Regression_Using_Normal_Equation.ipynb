{
 "cells": [
  {
   "cell_type": "markdown",
   "metadata": {},
   "source": [
    "## ML - ML"
   ]
  },
  {
   "cell_type": "code",
   "execution_count": 12,
   "metadata": {},
   "outputs": [
    {
     "name": "stdout",
     "output_type": "stream",
     "text": [
      "Coefficients (Test Case 1): [-0.0, 1.0]\n",
      "Coefficients (Test Case 2): [4.0, -1.0, -0.0]\n",
      "Coefficients (Test Case 3): [2.0]\n"
     ]
    }
   ],
   "source": [
    "import numpy as np\n",
    "def linear_regression_normal_equation(X,y):\n",
    "    # Step 1: Convert X and y to NumPy arrays\n",
    "    X = np.array(X)  # Convert feature matrix X to a NumPy array\n",
    "    y = np.array(y).reshape(-1, 1)  # Convert target vector y to a column vector\n",
    "    \n",
    "    # Step 2: Compute the transpose of X\n",
    "    X_transpose = X.T  # Transpose of X\n",
    "    \n",
    "    # Step 3: Compute X^T X (X_transpose dot X)\n",
    "    X_transpose_X = X_transpose.dot(X)\n",
    "    \n",
    "    # Step 4: Compute the inverse of X^T X\n",
    "    X_transpose_X_inv = np.linalg.inv(X_transpose_X)\n",
    "    \n",
    "    # Step 5: Compute X^T y (X_transpose dot y)\n",
    "    X_transpose_y = X_transpose.dot(y)\n",
    "    \n",
    "    # Step 6: Compute theta using the normal equation\n",
    "    theta = X_transpose_X_inv.dot(X_transpose_y)\n",
    "    \n",
    "    # Step 7: Round theta to 4 decimal places and flatten to a list\n",
    "    theta_rounded = np.round(theta, 4)  # Round to 4 decimal places\n",
    "    theta_flattened = theta_rounded.flatten().tolist()  # Flatten and convert to list\n",
    "    \n",
    "    # Step 8: Return the final coefficients\n",
    "    return theta_flattened\n",
    "\n",
    "# Test Case 1: Simple linear relationship\n",
    "X1 = [[1, 1], [1, 2], [1, 3]]  # Feature matrix\n",
    "y1 = [1, 2, 3]                 # Target vector\n",
    "coefficients1 = linear_regression_normal_equation(X1, y1)\n",
    "print(\"Coefficients (Test Case 1):\", coefficients1)  # Expected: [0.0, 1.0]\n",
    "\n",
    "# Test Case 2: Multiple features\n",
    "X2 = [[1, 3, 4], [1, 2, 5], [1, 3, 2]]  # Feature matrix\n",
    "y2 = [1, 2, 1]                          # Target vector\n",
    "coefficients2 = linear_regression_normal_equation(X2, y2)\n",
    "print(\"Coefficients (Test Case 2):\", coefficients2)  # Expected: [4.0, -1.0, 0.0]\n",
    "\n",
    "# Additional Test Case 3: Perfect linear relationship\n",
    "X3 = [[1], [2], [3], [4]]\n",
    "y3 = [2, 4, 6, 8]\n",
    "coefficients3 = linear_regression_normal_equation(X3, y3)\n",
    "print(\"Coefficients (Test Case 3):\", coefficients3)  # Expected: [0.0, 2.0]"
   ]
  },
  {
   "cell_type": "markdown",
   "metadata": {},
   "source": [
    "## Understanding `np.linalg.inv`\n",
    "\n",
    "The function `np.linalg.inv` in NumPy computes the **inverse of a square matrix**. The inverse of a matrix $A$ is another matrix $A^{-1}$ such that:\n",
    "\n",
    "$$\n",
    "A \\cdot A^{-1} = A^{-1} \\cdot A = I\n",
    "$$\n",
    "\n",
    "where $I$ is the **identity matrix** (a matrix with 1s on the diagonal and 0s elsewhere).\n",
    "\n",
    "---\n",
    "\n",
    "## Key Points\n",
    "\n",
    "1. **Inverse of a Matrix**:\n",
    "   - The inverse of a matrix $A$ is a matrix $A^{-1}$ that, when multiplied by $A$, gives the identity matrix $I$.\n",
    "   - Not all matrices have an inverse. A matrix must be **square** (same number of rows and columns) and **non-singular** (its determinant is not zero) to have an inverse.\n",
    "\n",
    "2. **Syntax**:\n",
    "   ```python\n",
    "   np.linalg.inv(A)"
   ]
  },
  {
   "cell_type": "code",
   "execution_count": 18,
   "metadata": {},
   "outputs": [
    {
     "name": "stdout",
     "output_type": "stream",
     "text": [
      "Matrix A:\n",
      "[[2 1 3]\n",
      " [1 2 1]\n",
      " [3 1 2]]\n",
      "\n",
      "Inverse of A:\n",
      "[[-0.375 -0.125  0.625]\n",
      " [-0.125  0.625 -0.125]\n",
      " [ 0.625 -0.125 -0.375]]\n",
      "\n",
      "A * A_inv (should be close to identity matrix):\n",
      "[[1. 0. 0.]\n",
      " [0. 1. 0.]\n",
      " [0. 0. 1.]]\n",
      "Determinant of A: -8.000000000000002\n"
     ]
    }
   ],
   "source": [
    "import numpy as np\n",
    "\n",
    "# Define a 3x3 matrix\n",
    "A = np.array([[2, 1, 3],\n",
    "              [1, 2, 1],\n",
    "              [3, 1, 2]])\n",
    "\n",
    "# Compute the inverse of A\n",
    "A_inv = np.linalg.inv(A)\n",
    "\n",
    "print(\"Matrix A:\")\n",
    "print(A)\n",
    "\n",
    "print(\"\\nInverse of A:\")\n",
    "print(A_inv)\n",
    "\n",
    "# Verify: A @ A_inv should give the identity matrix\n",
    "identity = np.dot(A, A_inv)\n",
    "\n",
    "print(\"\\nA * A_inv (should be close to identity matrix):\")\n",
    "print(identity)\n",
    "\n",
    "det_A = np.linalg.det(A)\n",
    "print(\"Determinant of A:\", det_A)\n"
   ]
  }
 ],
 "metadata": {
  "kernelspec": {
   "display_name": "leetcode_env",
   "language": "python",
   "name": "python3"
  },
  "language_info": {
   "codemirror_mode": {
    "name": "ipython",
    "version": 3
   },
   "file_extension": ".py",
   "mimetype": "text/x-python",
   "name": "python",
   "nbconvert_exporter": "python",
   "pygments_lexer": "ipython3",
   "version": "3.8.6"
  }
 },
 "nbformat": 4,
 "nbformat_minor": 2
}
