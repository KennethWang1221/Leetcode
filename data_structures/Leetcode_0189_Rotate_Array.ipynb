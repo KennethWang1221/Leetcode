{
 "cells": [
  {
   "cell_type": "code",
   "execution_count": 3,
   "metadata": {},
   "outputs": [
    {
     "name": "stdout",
     "output_type": "stream",
     "text": [
      "[5, 6, 7, 1, 2, 3, 4]\n"
     ]
    }
   ],
   "source": [
    "def rotate(nums, k):\n",
    "    n = len(nums)\n",
    "    \n",
    "    k = k%n\n",
    "    \n",
    "    nums[:k],nums[k:] = nums[n-k:],nums[:n-k]\n",
    "    print(nums)\n",
    "\n",
    "nums = [1,2,3,4,5,6,7]\n",
    "k = 3\n",
    "# nums = [-1,-100,3,99]\n",
    "# k = 2\n",
    "result = rotate(nums,k)"
   ]
  },
  {
   "attachments": {},
   "cell_type": "markdown",
   "metadata": {},
   "source": [
    "## Method2 - Two Pointers\n",
    "https://www.youtube.com/watch?v=BHr381Guz3Y"
   ]
  },
  {
   "cell_type": "code",
   "execution_count": 4,
   "metadata": {},
   "outputs": [
    {
     "name": "stdout",
     "output_type": "stream",
     "text": [
      "[5, 6, 7, 1, 2, 3, 4]\n"
     ]
    }
   ],
   "source": [
    "def rotate(nums,k):\n",
    "    n = len(nums)\n",
    "    k, l, r = k % n, 0, n-1\n",
    "\n",
    "    while l<r:\n",
    "        nums[l], nums[r] = nums[r], nums[l]\n",
    "        l, r = l+1 , r-1\n",
    "    \n",
    "    l, r = 0, k -1\n",
    "    while l<r:\n",
    "        nums[l], nums[r] = nums[r], nums[l]\n",
    "        l, r = l+1, r-1\n",
    "    \n",
    "    l, r = k, n -1\n",
    "    while l<r:\n",
    "        nums[l], nums[r] = nums[r], nums[l]\n",
    "        l, r = l+1, r-1\n",
    "    return nums\n",
    "\n",
    "nums = [1,2,3,4,5,6,7]\n",
    "k = 3 \n",
    "#nums = [-1,-100,3,99]\n",
    "#k = 2\n",
    "res = rotate(nums,k)\n",
    "print(res)"
   ]
  }
 ],
 "metadata": {
  "kernelspec": {
   "display_name": "leetcode_env",
   "language": "python",
   "name": "leetcode_env"
  },
  "language_info": {
   "codemirror_mode": {
    "name": "ipython",
    "version": 3
   },
   "file_extension": ".py",
   "mimetype": "text/x-python",
   "name": "python",
   "nbconvert_exporter": "python",
   "pygments_lexer": "ipython3",
   "version": "3.8.6"
  },
  "orig_nbformat": 4,
  "vscode": {
   "interpreter": {
    "hash": "846fd2d9bb562a436898b7cc368204fc2f9d44e5e9b051b4f6e855e721078f23"
   }
  }
 },
 "nbformat": 4,
 "nbformat_minor": 2
}
