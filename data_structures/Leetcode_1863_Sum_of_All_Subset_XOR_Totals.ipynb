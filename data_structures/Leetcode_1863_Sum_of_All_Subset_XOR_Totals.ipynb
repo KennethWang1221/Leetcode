{
 "cells": [
  {
   "cell_type": "markdown",
   "metadata": {},
   "source": [
    "## Method1 - Backtracking\n",
    "\n",
    "https://www.youtube.com/watch?v=LI7YR-bwNYY"
   ]
  },
  {
   "cell_type": "code",
   "execution_count": 1,
   "metadata": {},
   "outputs": [
    {
     "name": "stdout",
     "output_type": "stream",
     "text": [
      "28\n"
     ]
    }
   ],
   "source": [
    "def subsetXORSum(nums):\n",
    "    n = len(nums)\n",
    "    def dfs(i, total):\n",
    "        if i == n:\n",
    "            return total\n",
    "\n",
    "        return dfs(i+1, total ^ nums[i]) + dfs(i+1, total)\n",
    "    return dfs(0, 0)\n",
    "print(subsetXORSum(nums = [5,1,6]))"
   ]
  },
  {
   "cell_type": "markdown",
   "metadata": {},
   "source": [
    "## Method2 - Bit\n",
    "\n",
    "https://www.youtube.com/watch?v=LI7YR-bwNYY"
   ]
  },
  {
   "cell_type": "code",
   "execution_count": 2,
   "metadata": {},
   "outputs": [
    {
     "name": "stdout",
     "output_type": "stream",
     "text": [
      "28\n"
     ]
    }
   ],
   "source": [
    "def subsetXORSum(nums):\n",
    "    res = 0\n",
    "    size = len(nums)\n",
    "    for n in nums:\n",
    "        res = res | n\n",
    "\n",
    "    res = res * 2 ** (size-1)\n",
    "    return res\n",
    "print(subsetXORSum(nums = [5,1,6]))"
   ]
  }
 ],
 "metadata": {
  "kernelspec": {
   "display_name": "leetcode_env",
   "language": "python",
   "name": "leetcode_env"
  },
  "language_info": {
   "codemirror_mode": {
    "name": "ipython",
    "version": 3
   },
   "file_extension": ".py",
   "mimetype": "text/x-python",
   "name": "python",
   "nbconvert_exporter": "python",
   "pygments_lexer": "ipython3",
   "version": "3.8.6"
  }
 },
 "nbformat": 4,
 "nbformat_minor": 2
}
