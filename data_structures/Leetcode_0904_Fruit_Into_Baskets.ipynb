{
 "cells": [
  {
   "cell_type": "markdown",
   "metadata": {},
   "source": [
    "## Method1 - Sliding Window\n",
    "\n",
    "https://www.youtube.com/watch?v=yYtaV0G3mWQ"
   ]
  },
  {
   "cell_type": "code",
   "execution_count": 13,
   "metadata": {},
   "outputs": [
    {
     "name": "stdout",
     "output_type": "stream",
     "text": [
      "4\n"
     ]
    }
   ],
   "source": [
    "def totalFruit(fruits):\n",
    "    basket = {}\n",
    "    left = 0\n",
    "    max_fruits = 0\n",
    "    n = len(fruits)\n",
    "    total = 0\n",
    "\n",
    "    for right in range(n):\n",
    "        fruit = fruits[right]\n",
    "        basket[fruit] = basket.get(fruit, 0) + 1\n",
    "        total += 1\n",
    "        while len(basket) > 2:\n",
    "            left_fruit = fruits[left]\n",
    "            basket[left_fruit] -= 1\n",
    "            total -= 1\n",
    "            left += 1\n",
    "            if basket[left_fruit] == 0:\n",
    "                basket.pop(left_fruit)\n",
    "            \n",
    "        max_fruits = max(max_fruits, total)\n",
    "\n",
    "    return max_fruits\n",
    "\n",
    "fruits = [1,2,3,2,2]\n",
    "# fruits = [0,1,2,2]\n",
    "# fruits = [1,2,1]\n",
    "print(totalFruit(fruits))"
   ]
  }
 ],
 "metadata": {
  "kernelspec": {
   "display_name": "leetcode_env",
   "language": "python",
   "name": "python3"
  },
  "language_info": {
   "codemirror_mode": {
    "name": "ipython",
    "version": 3
   },
   "file_extension": ".py",
   "mimetype": "text/x-python",
   "name": "python",
   "nbconvert_exporter": "python",
   "pygments_lexer": "ipython3",
   "version": "3.8.6"
  }
 },
 "nbformat": 4,
 "nbformat_minor": 2
}
