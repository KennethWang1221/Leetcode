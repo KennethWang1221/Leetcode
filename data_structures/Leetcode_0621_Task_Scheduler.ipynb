{
 "cells": [
  {
   "cell_type": "markdown",
   "metadata": {},
   "source": [
    "## Method1 - Max Heap\n",
    "\n",
    "https://www.youtube.com/watch?v=s8p8ukTyA2I"
   ]
  },
  {
   "cell_type": "code",
   "execution_count": 7,
   "metadata": {},
   "outputs": [
    {
     "name": "stdout",
     "output_type": "stream",
     "text": [
      "8\n"
     ]
    }
   ],
   "source": [
    "import heapq\n",
    "def leastInterval(tasks,n):\n",
    "    # Manually count the frequency of each task\n",
    "    counts = {}\n",
    "    for task in tasks:\n",
    "        counts[task] = counts.get(task, 0) + 1\n",
    "\n",
    "    # Build a max-heap (using negative counts) from the task frequencies.\n",
    "    maxHeap = []\n",
    "    for cnt in counts.values():\n",
    "        maxHeap.append(-cnt)\n",
    "    heapq.heapify(maxHeap)\n",
    "\n",
    "    time = 0\n",
    "    # Use a deque to keep track of tasks in their cooldown period.\n",
    "    # Each element is a pair: [negative count, time when this task becomes available again]\n",
    "    q = []\n",
    "    \n",
    "    while maxHeap or q:\n",
    "        time += 1\n",
    "\n",
    "        if maxHeap:\n",
    "            # Pop the most frequent task (the one with the highest count).\n",
    "            cnt = 1 + heapq.heappop(maxHeap)  # add 1 because counts are negative\n",
    "            if cnt:\n",
    "                # If there are still occurrences left for this task,\n",
    "                # put it into the cooldown queue with its available time.\n",
    "                q.append([cnt, time + n])\n",
    "        else:\n",
    "            # If no tasks are ready (heap is empty) then we jump time forward to when the\n",
    "            # first task in the cooldown queue becomes available.\n",
    "            time = q[0][1]\n",
    "        \n",
    "        # Check if any task in cooldown is now available.\n",
    "        if q and q[0][1] == time:\n",
    "            heapq.heappush(maxHeap, q.pop(0)[0])\n",
    "            \n",
    "    return time\n",
    "\n",
    "tasks = [\"A\",\"A\",\"A\",\"B\",\"B\",\"B\"]\n",
    "n = 2\n",
    "print(leastInterval(tasks, n))"
   ]
  },
  {
   "cell_type": "markdown",
   "metadata": {},
   "source": [
    "without import heap"
   ]
  },
  {
   "cell_type": "code",
   "execution_count": 8,
   "metadata": {},
   "outputs": [
    {
     "name": "stdout",
     "output_type": "stream",
     "text": [
      "8\n"
     ]
    }
   ],
   "source": [
    "def leastInterval(tasks,n):\n",
    "    # Step 1. Count the frequency of each task manually.\n",
    "    counts = {}\n",
    "    for t in tasks:\n",
    "        counts[t] = counts.get(t, 0) + 1\n",
    "    \n",
    "    # Step 2. Build a list of available tasks.\n",
    "    # Each element is a pair: [remaining_count, task].\n",
    "    # We want to always choose the task with the highest remaining count.\n",
    "    available = []\n",
    "    for task, cnt in counts.items():\n",
    "        available.append([cnt, task])\n",
    "    # Sort in descending order of count.\n",
    "    available.sort(key=lambda x: x[0], reverse=True)\n",
    "    \n",
    "    # Step 3. Initialize time and the cooldown list.\n",
    "    # Each cooldown entry is a list: [remaining_count, available_time, task].\n",
    "    time = 0\n",
    "    cooldown = []\n",
    "    \n",
    "    # Loop until there are no tasks left in available or waiting in cooldown.\n",
    "    while available or cooldown:\n",
    "        # If no task is immediately available, jump time forward\n",
    "        # to the earliest time when a task comes off cooldown.\n",
    "        if not available and cooldown:\n",
    "            next_available = min(item[1] for item in cooldown)\n",
    "            time = max(time, next_available)\n",
    "            # Release all tasks whose available time has arrived.\n",
    "            new_cooldown = []\n",
    "            for item in cooldown:\n",
    "                if item[1] <= time:\n",
    "                    available.append([item[0], item[2]])\n",
    "                else:\n",
    "                    new_cooldown.append(item)\n",
    "            cooldown = new_cooldown\n",
    "            # Re-sort available tasks by remaining count (descending).\n",
    "            available.sort(key=lambda x: x[0], reverse=True)\n",
    "        \n",
    "        # If a task is available, execute the one with highest remaining count.\n",
    "        if available:\n",
    "            # Pop the first task (highest remaining count).\n",
    "            task_info = available.pop(0)\n",
    "            # Simulate execution by increasing time by 1.\n",
    "            time += 1\n",
    "            # Decrement the count since we executed it once.\n",
    "            task_info[0] -= 1\n",
    "            # If the task is not yet finished, put it into the cooldown list.\n",
    "            if task_info[0] > 0:\n",
    "                # It will be available again at (current time + n).\n",
    "                cooldown.append([task_info[0], time + n, task_info[1]])\n",
    "        \n",
    "        # Also, check if any tasks in cooldown have become available at this time.\n",
    "        # (This extra check is useful when tasks finish exactly at the current time.)\n",
    "        new_cooldown = []\n",
    "        for item in cooldown:\n",
    "            if item[1] <= time:\n",
    "                available.append([item[0], item[2]])\n",
    "            else:\n",
    "                new_cooldown.append(item)\n",
    "        cooldown = new_cooldown\n",
    "        available.sort(key=lambda x: x[0], reverse=True)\n",
    "    \n",
    "    return time\n",
    "\n",
    "tasks = [\"A\",\"A\",\"A\",\"B\",\"B\",\"B\"]\n",
    "n = 2\n",
    "print(leastInterval(tasks, n))"
   ]
  },
  {
   "cell_type": "markdown",
   "metadata": {},
   "source": [
    "## Method2 - Greedy / Hashset"
   ]
  },
  {
   "cell_type": "code",
   "execution_count": 5,
   "metadata": {},
   "outputs": [
    {
     "name": "stdout",
     "output_type": "stream",
     "text": [
      "8\n"
     ]
    }
   ],
   "source": [
    "def leastInterval(tasks,n):\n",
    "    # Step 1: Count the frequency of each task using a simple dictionary.\n",
    "    freq = {}\n",
    "    for task in tasks:\n",
    "        freq[task] = freq.get(task,0)+1\n",
    "    \n",
    "    # Step 2: Find the maximum frequency among all tasks.\n",
    "    max_freq = 0\n",
    "    for count in freq.values():\n",
    "        if count > max_freq:\n",
    "            max_freq = count\n",
    "    \n",
    "    # Step 3: Count how many tasks have the maximum frequency.\n",
    "    count_max = 0\n",
    "    for count in freq.values():\n",
    "        if count == max_freq:\n",
    "            count_max += 1\n",
    "    \n",
    "    # Step 4: Compute the minimum time using the formula.\n",
    "    # The formula considers the arrangement:\n",
    "    # (max_freq - 1) full cycles of length (n + 1) plus the last cycle containing count_max tasks.\n",
    "    # However, if there are enough tasks to avoid idles, the result will be the total number of tasks.\n",
    "    intervals = (max_freq - 1) * (n + 1) + count_max\n",
    "    \n",
    "    return max(len(tasks), intervals)\n",
    "\n",
    "tasks = [\"A\",\"A\",\"A\",\"B\",\"B\",\"B\"]\n",
    "n = 2\n",
    "print(leastInterval(tasks, n))"
   ]
  },
  {
   "cell_type": "markdown",
   "metadata": {},
   "source": [
    "import Counter"
   ]
  },
  {
   "cell_type": "code",
   "execution_count": 10,
   "metadata": {},
   "outputs": [
    {
     "name": "stdout",
     "output_type": "stream",
     "text": [
      "8\n"
     ]
    }
   ],
   "source": [
    "from collections import Counter\n",
    "\n",
    "def leastInterval(tasks,n):\n",
    "    counter = Counter(tasks)\n",
    "    max_count = max(counter.values())\n",
    "    min_time = (max_count - 1) * (n + 1) + \\\n",
    "                sum(map(lambda count: count == max_count, counter.values()))\n",
    "\n",
    "    return max(min_time, len(tasks))\n",
    "\n",
    "tasks = [\"A\",\"A\",\"A\",\"B\",\"B\",\"B\"]\n",
    "n = 2\n",
    "print(leastInterval(tasks, n))"
   ]
  }
 ],
 "metadata": {
  "kernelspec": {
   "display_name": "leetcode_env",
   "language": "python",
   "name": "leetcode_env"
  },
  "language_info": {
   "codemirror_mode": {
    "name": "ipython",
    "version": 3
   },
   "file_extension": ".py",
   "mimetype": "text/x-python",
   "name": "python",
   "nbconvert_exporter": "python",
   "pygments_lexer": "ipython3",
   "version": "3.8.6"
  }
 },
 "nbformat": 4,
 "nbformat_minor": 2
}
