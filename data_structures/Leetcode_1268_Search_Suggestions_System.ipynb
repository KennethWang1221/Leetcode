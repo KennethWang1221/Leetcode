{
 "cells": [
  {
   "cell_type": "markdown",
   "metadata": {},
   "source": [
    "## Method1 - Binary_Search"
   ]
  },
  {
   "cell_type": "code",
   "execution_count": 2,
   "metadata": {},
   "outputs": [
    {
     "name": "stdout",
     "output_type": "stream",
     "text": [
      "[['mobile', 'moneypot', 'monitor'], ['mobile', 'moneypot', 'monitor'], ['mouse', 'mousepad'], ['mouse', 'mousepad'], ['mouse', 'mousepad']]\n"
     ]
    }
   ],
   "source": [
    "def suggestedProducts(products, searchWord):\n",
    "    products.sort()\n",
    "    ans = []\n",
    "    prefix = \"\"\n",
    "    for ch in searchWord:\n",
    "        prefix += ch\n",
    "        low, high = 0, len(products)\n",
    "        # Binary search to find the leftmost index where the product >= prefix\n",
    "        while low < high:\n",
    "            mid = (low + high) // 2\n",
    "            if products[mid] < prefix:\n",
    "                low = mid + 1\n",
    "            else:\n",
    "                high = mid\n",
    "        i = low\n",
    "        tmp = []\n",
    "        j = i\n",
    "        # Collect up to 3 products that start with the prefix\n",
    "        while j < len(products) and len(tmp) < 3:\n",
    "            if products[j].startswith(prefix):\n",
    "                tmp.append(products[j])\n",
    "                j += 1\n",
    "            else:\n",
    "                break\n",
    "        ans.append(tmp)\n",
    "    return ans\n",
    "\n",
    "products = [\"mobile\",\"mouse\",\"moneypot\",\"monitor\",\"mousepad\"]\n",
    "searchWord = \"mouse\"\n",
    "print(suggestedProducts(products, searchWord))"
   ]
  }
 ],
 "metadata": {
  "kernelspec": {
   "display_name": "leetcode_env",
   "language": "python",
   "name": "leetcode_env"
  },
  "language_info": {
   "codemirror_mode": {
    "name": "ipython",
    "version": 3
   },
   "file_extension": ".py",
   "mimetype": "text/x-python",
   "name": "python",
   "nbconvert_exporter": "python",
   "pygments_lexer": "ipython3",
   "version": "3.8.6"
  }
 },
 "nbformat": 4,
 "nbformat_minor": 2
}
