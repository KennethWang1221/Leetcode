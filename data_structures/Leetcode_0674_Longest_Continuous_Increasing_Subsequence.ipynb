{
 "cells": [
  {
   "cell_type": "markdown",
   "metadata": {},
   "source": [
    "## Method1 - 1D DP\n",
    "https://github.com/youngyangyang04/leetcode-master/blob/master/problems/0674.%E6%9C%80%E9%95%BF%E8%BF%9E%E7%BB%AD%E9%80%92%E5%A2%9E%E5%BA%8F%E5%88%97.md"
   ]
  },
  {
   "cell_type": "code",
   "execution_count": 4,
   "metadata": {},
   "outputs": [
    {
     "name": "stdout",
     "output_type": "stream",
     "text": [
      "3\n"
     ]
    }
   ],
   "source": [
    "def findLengthOfLCIS(nums):\n",
    "    if len(nums) == 0:\n",
    "        return 0\n",
    "    result = 1\n",
    "    dp = [1] * len(nums)\n",
    "    for i in range(len(nums)-1):\n",
    "        if nums[i+1] > nums[i]: #连续记录\n",
    "            dp[i+1] = dp[i] + 1\n",
    "        result = max(result, dp[i+1])\n",
    "    return result\n",
    "print(findLengthOfLCIS(nums = [1,3,5,4,7]))"
   ]
  },
  {
   "cell_type": "markdown",
   "metadata": {},
   "source": [
    "## Method2 - 1D DP"
   ]
  },
  {
   "cell_type": "code",
   "execution_count": 2,
   "metadata": {},
   "outputs": [
    {
     "name": "stdout",
     "output_type": "stream",
     "text": [
      "3\n"
     ]
    }
   ],
   "source": [
    "def findLengthOfLCIS(nums):\n",
    "    if not nums:\n",
    "        return 0\n",
    "\n",
    "    max_length = 1\n",
    "    current_length = 1\n",
    "\n",
    "    for i in range(1, len(nums)):\n",
    "        if nums[i] > nums[i - 1]:\n",
    "            current_length += 1\n",
    "            max_length = max(max_length, current_length)\n",
    "        else:\n",
    "            current_length = 1\n",
    "\n",
    "    return max_length\n",
    "print(findLengthOfLCIS(nums = [1,3,5,4,7]))"
   ]
  },
  {
   "cell_type": "markdown",
   "metadata": {},
   "source": [
    "## Method3 - Greedy"
   ]
  },
  {
   "cell_type": "code",
   "execution_count": 3,
   "metadata": {},
   "outputs": [
    {
     "name": "stdout",
     "output_type": "stream",
     "text": [
      "3\n"
     ]
    }
   ],
   "source": [
    "def findLengthOfLCIS(nums):\n",
    "    if len(nums) == 0:\n",
    "        return 0\n",
    "    result = 1 #连续子序列最少也是1\n",
    "    count = 1\n",
    "    for i in range(len(nums)-1):\n",
    "        if nums[i+1] > nums[i]: #连续记录\n",
    "            count += 1\n",
    "        else: #不连续，count从头开始\n",
    "            count = 1\n",
    "        result = max(result, count)\n",
    "    return result\n",
    "print(findLengthOfLCIS(nums = [1,3,5,4,7]))"
   ]
  },
  {
   "cell_type": "markdown",
   "metadata": {},
   "source": [
    "## Failure"
   ]
  },
  {
   "cell_type": "code",
   "execution_count": 5,
   "metadata": {},
   "outputs": [
    {
     "name": "stdout",
     "output_type": "stream",
     "text": [
      "0\n"
     ]
    }
   ],
   "source": [
    "def findLengthOfLCIS(nums):\n",
    "    n = len(nums)\n",
    "    dp = [0  for i in range(n+1)]\n",
    "    dp[0] = 1\n",
    "    for i in range(1,n):\n",
    "        diff = nums[i] - nums[i-1]\n",
    "        if diff>0:\n",
    "            dp[i] = 1 + dp[i-1]\n",
    "        else:\n",
    "            dp[i] = dp[i-1]\n",
    "    return dp[n]\n",
    "print(findLengthOfLCIS(nums = [1,3,5,4,7]))"
   ]
  }
 ],
 "metadata": {
  "kernelspec": {
   "display_name": "leetcode_env",
   "language": "python",
   "name": "python3"
  },
  "language_info": {
   "codemirror_mode": {
    "name": "ipython",
    "version": 3
   },
   "file_extension": ".py",
   "mimetype": "text/x-python",
   "name": "python",
   "nbconvert_exporter": "python",
   "pygments_lexer": "ipython3",
   "version": "3.8.6"
  }
 },
 "nbformat": 4,
 "nbformat_minor": 2
}
