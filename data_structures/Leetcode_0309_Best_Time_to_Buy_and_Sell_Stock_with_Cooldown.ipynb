{
 "cells": [
  {
   "cell_type": "markdown",
   "metadata": {},
   "source": [
    "## Method1 - 1D Top-Down DP / Recursive\n",
    "https://www.youtube.com/watch?v=I7j0F7AHpb8"
   ]
  },
  {
   "cell_type": "code",
   "execution_count": 2,
   "metadata": {},
   "outputs": [
    {
     "name": "stdout",
     "output_type": "stream",
     "text": [
      "3\n"
     ]
    }
   ],
   "source": [
    "def maxProfit(prices):\n",
    "        \n",
    "    # State: Buying or Selling?\n",
    "    # If Buy -> i + 1\n",
    "    # If Sell -> i + 2\n",
    "\n",
    "    dp = {}  # key=(i, buying) val=max_profit\n",
    "    n = len(prices)\n",
    "    def dfs(i, buying):\n",
    "        if i >= n:\n",
    "            return 0\n",
    "        if (i, buying) in dp:\n",
    "            return dp[(i, buying)]\n",
    "\n",
    "        cooldown = dfs(i + 1, buying)\n",
    "        if buying:\n",
    "            buy = dfs(i + 1, not buying) - prices[i]\n",
    "            dp[(i, buying)] = max(buy, cooldown)\n",
    "        else:\n",
    "            sell = dfs(i + 2, not buying) + prices[i]\n",
    "            dp[(i, buying)] = max(sell, cooldown)\n",
    "        return dp[(i, buying)]\n",
    "\n",
    "    return dfs(0, True)\n",
    "\n",
    "prices = [1,2,3,0,2]\n",
    "print(maxProfit(prices))"
   ]
  },
  {
   "cell_type": "markdown",
   "metadata": {},
   "source": [
    "## Method2 - 2D Bottom-UP DP\n",
    "https://github.com/youngyangyang04/leetcode-master/blob/master/problems/0309.%E6%9C%80%E4%BD%B3%E4%B9%B0%E5%8D%96%E8%82%A1%E7%A5%A8%E6%97%B6%E6%9C%BA%E5%90%AB%E5%86%B7%E5%86%BB%E6%9C%9F.md"
   ]
  },
  {
   "cell_type": "code",
   "execution_count": 3,
   "metadata": {},
   "outputs": [
    {
     "name": "stdout",
     "output_type": "stream",
     "text": [
      "3\n"
     ]
    }
   ],
   "source": [
    "def maxProfit(prices):\n",
    "    n = len(prices)\n",
    "    if n == 0:\n",
    "        return 0\n",
    "    dp = [[0] * 4 for _ in range(n)]  # 创建动态规划数组，4个状态分别表示持有股票、不持有股票且处于冷冻期、不持有股票且不处于冷冻期、不持有股票且当天卖出后处于冷冻期\n",
    "    dp[0][0] = -prices[0]  # 初始状态：第一天持有股票的最大利润为买入股票的价格\n",
    "    for i in range(1, n):\n",
    "        dp[i][0] = max(dp[i-1][0], max(dp[i-1][3], dp[i-1][1]) - prices[i])  # 当前持有股票的最大利润等于前一天持有股票的最大利润或者前一天不持有股票且不处于冷冻期的最大利润减去当前股票的价格\n",
    "        dp[i][1] = max(dp[i-1][1], dp[i-1][3])  # 当前不持有股票且处于冷冻期的最大利润等于前一天持有股票的最大利润加上当前股票的价格\n",
    "        dp[i][2] = dp[i-1][0] + prices[i]  # 当前不持有股票且不处于冷冻期的最大利润等于前一天不持有股票的最大利润或者前一天处于冷冻期的最大利润\n",
    "        dp[i][3] = dp[i-1][2]  # 当前不持有股票且当天卖出后处于冷冻期的最大利润等于前一天不持有股票且不处于冷冻期的最大利润\n",
    "    return max(dp[n-1][3], dp[n-1][1], dp[n-1][2])  # 返回最后一天不持有股票的最大利润\n",
    "\n",
    "prices = [1,2,3,0,2]\n",
    "print(maxProfit(prices))"
   ]
  },
  {
   "cell_type": "markdown",
   "metadata": {},
   "source": [
    "## Method3 - 2D Bottom-UP DP\n",
    "https://github.com/youngyangyang04/leetcode-master/blob/master/problems/0309.%E6%9C%80%E4%BD%B3%E4%B9%B0%E5%8D%96%E8%82%A1%E7%A5%A8%E6%97%B6%E6%9C%BA%E5%90%AB%E5%86%B7%E5%86%BB%E6%9C%9F.md"
   ]
  },
  {
   "cell_type": "code",
   "execution_count": 4,
   "metadata": {},
   "outputs": [
    {
     "name": "stdout",
     "output_type": "stream",
     "text": [
      "3\n"
     ]
    }
   ],
   "source": [
    "def maxProfit(prices):\n",
    "    n = len(prices)\n",
    "    if n < 2:\n",
    "        return 0\n",
    "\n",
    "    # 定义三种状态的动态规划数组\n",
    "    dp = [[0] * 3 for _ in range(n)]\n",
    "    dp[0][0] = -prices[0]  # 持有股票的最大利润\n",
    "    dp[0][1] = 0           # 不持有股票，且处于冷冻期的最大利润\n",
    "    dp[0][2] = 0           # 不持有股票，不处于冷冻期的最大利润\n",
    "\n",
    "    for i in range(1, n):\n",
    "        # 当前持有股票的最大利润等于前一天持有股票的最大利润或者前一天不持有股票且不处于冷冻期的最大利润减去当前股票的价格\n",
    "        dp[i][0] = max(dp[i-1][0], dp[i-1][2] - prices[i])\n",
    "        # 当前不持有股票且处于冷冻期的最大利润等于前一天持有股票的最大利润加上当前股票的价格\n",
    "        dp[i][1] = dp[i-1][0] + prices[i]\n",
    "        # 当前不持有股票且不处于冷冻期的最大利润等于前一天不持有股票的最大利润或者前一天处于冷冻期的最大利润\n",
    "        dp[i][2] = max(dp[i-1][2], dp[i-1][1])\n",
    "\n",
    "    # 返回最后一天不持有股票的最大利润\n",
    "    return max(dp[-1][1], dp[-1][2])\n",
    "\n",
    "prices = [1,2,3,0,2]\n",
    "print(maxProfit(prices))"
   ]
  }
 ],
 "metadata": {
  "kernelspec": {
   "display_name": "test_env",
   "language": "python",
   "name": "test_env"
  },
  "language_info": {
   "codemirror_mode": {
    "name": "ipython",
    "version": 3
   },
   "file_extension": ".py",
   "mimetype": "text/x-python",
   "name": "python",
   "nbconvert_exporter": "python",
   "pygments_lexer": "ipython3",
   "version": "3.8.6"
  }
 },
 "nbformat": 4,
 "nbformat_minor": 2
}
