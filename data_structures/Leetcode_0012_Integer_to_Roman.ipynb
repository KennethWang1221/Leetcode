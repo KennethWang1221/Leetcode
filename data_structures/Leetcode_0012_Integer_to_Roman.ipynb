{
 "cells": [
  {
   "cell_type": "markdown",
   "metadata": {},
   "source": [
    "## Method1 - Hashtable\n",
    "https://www.youtube.com/watch?v=ohBNdSJyLh8"
   ]
  },
  {
   "cell_type": "code",
   "execution_count": 63,
   "metadata": {},
   "outputs": [
    {
     "name": "stdout",
     "output_type": "stream",
     "text": [
      "MCMXCIV\n"
     ]
    }
   ],
   "source": [
    "def intToRoman(num):\n",
    "    symList = [[\"I\",1], [\"IV\",4],[\"V\",5],[\"IX\",9],[\"X\",10],[\"XL\",40],[\"L\",50],\n",
    "               [\"XC\",90],[\"C\",100],[\"CD\",400],[\"D\",500],[\"CM\",900],[\"M\",1000]\n",
    "               ]\n",
    "    res = \"\"\n",
    "    for sym, val in reversed(symList):\n",
    "        flag = num // val\n",
    "        if flag:\n",
    "            count = num // val\n",
    "            res += (sym * count)\n",
    "            num = num % val \n",
    "\n",
    "    return res\n",
    "\n",
    "num = 1994\n",
    "res = intToRoman(num)\n",
    "print(res)"
   ]
  }
 ],
 "metadata": {
  "kernelspec": {
   "display_name": "leetcode_env",
   "language": "python",
   "name": "leetcode_env"
  },
  "language_info": {
   "codemirror_mode": {
    "name": "ipython",
    "version": 3
   },
   "file_extension": ".py",
   "mimetype": "text/x-python",
   "name": "python",
   "nbconvert_exporter": "python",
   "pygments_lexer": "ipython3",
   "version": "3.8.6"
  },
  "orig_nbformat": 4
 },
 "nbformat": 4,
 "nbformat_minor": 2
}
