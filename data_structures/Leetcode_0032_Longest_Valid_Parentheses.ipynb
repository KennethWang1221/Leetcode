{
 "cells": [
  {
   "cell_type": "markdown",
   "metadata": {},
   "source": [
    "## Method1 - Stack"
   ]
  },
  {
   "cell_type": "code",
   "execution_count": 6,
   "metadata": {},
   "outputs": [
    {
     "name": "stdout",
     "output_type": "stream",
     "text": [
      "2\n"
     ]
    }
   ],
   "source": [
    "def longestValidParentheses(s):\n",
    "    # Initialize a stack with a base index -1.\n",
    "    # This helps compute the length of valid parentheses from the beginning.\n",
    "    stack = [-1]\n",
    "    max_length = 0\n",
    "    \n",
    "    for i, char in enumerate(s):\n",
    "        if char == '(':\n",
    "            # For an opening parenthesis, push its index onto the stack.\n",
    "            stack.append(i)\n",
    "        else:  # char == ')'\n",
    "            # For a closing parenthesis, pop the top element.\n",
    "            stack.pop(-1)\n",
    "            \n",
    "            if not stack:\n",
    "                # If the stack is empty after popping, push the current index.\n",
    "                # This marks the beginning of a new potential valid substring.\n",
    "                stack.append(i)\n",
    "            else:\n",
    "                # The current valid substring length is the difference between the\n",
    "                # current index and the new top of the stack.\n",
    "                current_length = i - stack[-1]\n",
    "                max_length = max(max_length, current_length)\n",
    "                \n",
    "    return max_length\n",
    "print(longestValidParentheses(s = \"(()\"))"
   ]
  }
 ],
 "metadata": {
  "kernelspec": {
   "display_name": "leetcode_env",
   "language": "python",
   "name": "python3"
  },
  "language_info": {
   "codemirror_mode": {
    "name": "ipython",
    "version": 3
   },
   "file_extension": ".py",
   "mimetype": "text/x-python",
   "name": "python",
   "nbconvert_exporter": "python",
   "pygments_lexer": "ipython3",
   "version": "3.8.6"
  }
 },
 "nbformat": 4,
 "nbformat_minor": 2
}
