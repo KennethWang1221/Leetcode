{
 "cells": [
  {
   "cell_type": "markdown",
   "metadata": {},
   "source": [
    "## Method1 - Array"
   ]
  },
  {
   "cell_type": "code",
   "execution_count": 1,
   "metadata": {},
   "outputs": [
    {
     "name": "stdout",
     "output_type": "stream",
     "text": [
      "1\n"
     ]
    }
   ],
   "source": [
    "def minSwaps(s):\n",
    "    n = len(s)\n",
    "    count0 = s.count('0')\n",
    "    count1 = n - count0\n",
    "\n",
    "    # Two possible patterns\n",
    "    # \"0101...\" or \"1010...\"\n",
    "    alt1 = ''.join('0' if i%2 == 0 else '1' for i in range(n))\n",
    "    alt2 = ''.join('1' if i%2 == 0 else '0' for i in range(n))\n",
    "\n",
    "    # Count mismatches\n",
    "    diff1 = sum(s[i] != alt1[i] for i in range(n))\n",
    "    diff2 = sum(s[i] != alt2[i] for i in range(n))\n",
    "\n",
    "    # For a binary string, swapping a mismatch at index i with\n",
    "    # a mismatch at index j can fix 2 mismatches at once. So\n",
    "    # the cost in swaps is diff // 2\n",
    "    # But we must ensure the pattern is feasible (count0 == count1 or differs by 1).\n",
    "    \n",
    "    res = []\n",
    "    if (count0 == (n+1)//2 and count1 == n//2):\n",
    "        res.append(diff1 // 2)\n",
    "    if (count1 == (n+1)//2 and count0 == n//2):\n",
    "        res.append(diff2 // 2)\n",
    "\n",
    "    return min(res) if res else -1\n",
    "s = \"111000\"\n",
    "print(minSwaps(s))"
   ]
  }
 ],
 "metadata": {
  "kernelspec": {
   "display_name": "leetcode_env",
   "language": "python",
   "name": "leetcode_env"
  },
  "language_info": {
   "codemirror_mode": {
    "name": "ipython",
    "version": 3
   },
   "file_extension": ".py",
   "mimetype": "text/x-python",
   "name": "python",
   "nbconvert_exporter": "python",
   "pygments_lexer": "ipython3",
   "version": "3.8.6"
  }
 },
 "nbformat": 4,
 "nbformat_minor": 2
}
