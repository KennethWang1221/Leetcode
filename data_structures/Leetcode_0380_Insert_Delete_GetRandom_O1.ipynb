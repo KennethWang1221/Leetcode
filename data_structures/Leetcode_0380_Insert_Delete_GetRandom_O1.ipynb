{
 "cells": [
  {
   "cell_type": "markdown",
   "metadata": {},
   "source": [
    "## Method1 - Hashmap\n",
    "https://www.youtube.com/watch?v=j4KwhBziOpg"
   ]
  },
  {
   "cell_type": "code",
   "execution_count": 1,
   "metadata": {},
   "outputs": [
    {
     "name": "stdout",
     "output_type": "stream",
     "text": [
      "Insert 1: True\n",
      "Insert 2: True\n",
      "Insert 1: False\n",
      "Get Random: 2\n",
      "Remove 2: True\n",
      "Get Random: 1\n",
      "Remove 2 again: False\n"
     ]
    }
   ],
   "source": [
    "import random\n",
    "\n",
    "class RandomizedSet:\n",
    "\n",
    "    def __init__(self):\n",
    "        self.dict = {}\n",
    "        self.list = []\n",
    "        \n",
    "    def insert(self, val: int) -> bool:\n",
    "        if val in self.dict:\n",
    "            return False\n",
    "\n",
    "        self.dict[val] = len(self.list)\n",
    "        self.list.append(val)\n",
    "\n",
    "        return True\n",
    "\n",
    "    def remove(self, val: int) -> bool:\n",
    "        if val not in self.dict:\n",
    "            return False\n",
    "\n",
    "        idx, last_element = self.dict[val], self.list[-1]\n",
    "        self.list[idx], self.dict[last_element] = last_element, idx\n",
    "        self.list.pop()\n",
    "        del self.dict[val]\n",
    "\n",
    "        return True  \n",
    "\n",
    "    def getRandom(self) -> int:\n",
    "        return random.choice(self.list)\n",
    "\n",
    "# Test Case 1\n",
    "obj = RandomizedSet()\n",
    "print(\"Insert 1:\", obj.insert(1))  # Expected: True (1 is inserted)\n",
    "print(\"Insert 2:\", obj.insert(2))  # Expected: True (2 is inserted)\n",
    "print(\"Insert 1:\", obj.insert(1))  # Expected: False (1 is already present)\n",
    "print(\"Get Random:\", obj.getRandom())  # Expected: Random (1 or 2)\n",
    "print(\"Remove 2:\", obj.remove(2))  # Expected: True (2 is removed)\n",
    "print(\"Get Random:\", obj.getRandom())  # Expected: 1 (since 2 is removed)\n",
    "\n",
    "# Test Case 2\n",
    "print(\"Remove 2 again:\", obj.remove(2))  # Expected: False (2 is not present)\n"
   ]
  }
 ],
 "metadata": {
  "kernelspec": {
   "display_name": "leetcode_env",
   "language": "python",
   "name": "python3"
  },
  "language_info": {
   "codemirror_mode": {
    "name": "ipython",
    "version": 3
   },
   "file_extension": ".py",
   "mimetype": "text/x-python",
   "name": "python",
   "nbconvert_exporter": "python",
   "pygments_lexer": "ipython3",
   "version": "3.8.6"
  },
  "orig_nbformat": 4
 },
 "nbformat": 4,
 "nbformat_minor": 2
}
