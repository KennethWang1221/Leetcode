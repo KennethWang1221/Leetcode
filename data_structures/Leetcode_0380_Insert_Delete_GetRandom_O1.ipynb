{
 "cells": [
  {
   "cell_type": "markdown",
   "metadata": {},
   "source": [
    "## Method1 - Hashmap\n",
    "https://www.youtube.com/watch?v=j4KwhBziOpg"
   ]
  },
  {
   "cell_type": "code",
   "execution_count": null,
   "metadata": {},
   "outputs": [],
   "source": [
    "import random\n",
    "class RandomizedSet:\n",
    "\n",
    "    def __init__(self):\n",
    "        self.dict = {}\n",
    "        self.list = []\n",
    "        \n",
    "    def insert(self, val: int) -> bool:\n",
    "        if val in self.dict:\n",
    "            return False\n",
    "\n",
    "        self.dict[val] = len(self.list)\n",
    "        self.list.append(val)\n",
    "\n",
    "        return True\n",
    "\n",
    "    def remove(self, val: int) -> bool:\n",
    "        if val not in self.dict:\n",
    "            return False\n",
    "\n",
    "        idx, last_element = self.dict[val], self.list[-1]\n",
    "        self.list[idx], self.dict[last_element] = last_element, idx\n",
    "        self.list.pop()\n",
    "        del self.dict[val]\n",
    "\n",
    "        return True  \n",
    "\n",
    "    def getRandom(self) -> int:\n",
    "        return random.choice(self.list)\n",
    "# Your RandomizedSet object will be instantiated and called as such:\n",
    "# obj = RandomizedSet()\n",
    "# param_1 = obj.insert(val)\n",
    "# param_2 = obj.remove(val)\n",
    "# param_3 = obj.getRandom()"
   ]
  }
 ],
 "metadata": {
  "kernelspec": {
   "display_name": "leetcode_env",
   "language": "python",
   "name": "leetcode_env"
  },
  "language_info": {
   "codemirror_mode": {
    "name": "ipython",
    "version": 3
   },
   "file_extension": ".py",
   "mimetype": "text/x-python",
   "name": "python",
   "nbconvert_exporter": "python",
   "pygments_lexer": "ipython3",
   "version": "3.8.6"
  },
  "orig_nbformat": 4
 },
 "nbformat": 4,
 "nbformat_minor": 2
}
