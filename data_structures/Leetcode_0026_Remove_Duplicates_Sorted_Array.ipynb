{
 "cells": [
  {
   "attachments": {},
   "cell_type": "markdown",
   "metadata": {},
   "source": [
    "## Method1-Array\n",
    "https://www.bilibili.com/video/BV1hb411i77e?spm_id_from=333.337.search-card.all.click&vd_source=8aba95d95a5a52895d55c1f87e0f02c2"
   ]
  },
  {
   "cell_type": "code",
   "execution_count": 3,
   "metadata": {},
   "outputs": [
    {
     "name": "stdout",
     "output_type": "stream",
     "text": [
      "5\n",
      "[0, 1, 2, 3, 4, 2, 2, 3, 3, 4]\n"
     ]
    }
   ],
   "source": [
    "def removeDuplicates(nums):\n",
    "    n = len(nums)\n",
    "    \n",
    "    count = 0\n",
    "    for i in range(n):\n",
    "        if nums[i] == nums[count]:\n",
    "            pass\n",
    "        else:\n",
    "            count+=1\n",
    "            nums[count] = nums[i]\n",
    "\n",
    "    result = count+1\n",
    "    return result,nums\n",
    "            \n",
    "\n",
    "nums = [0,0,1,1,1,2,2,3,3,4]\n",
    "#nums = [1,2]\n",
    "result, nums = removeDuplicates(nums)\n",
    "print(result)\n",
    "print(nums)"
   ]
  },
  {
   "attachments": {},
   "cell_type": "markdown",
   "metadata": {},
   "source": [
    "## Method2 - Two Pointers\n",
    "https://www.youtube.com/watch?v=DEJAZBq0FDA"
   ]
  },
  {
   "cell_type": "code",
   "execution_count": 4,
   "metadata": {},
   "outputs": [
    {
     "name": "stdout",
     "output_type": "stream",
     "text": [
      "5\n"
     ]
    }
   ],
   "source": [
    "def removeDuplicates(nums):\n",
    "    L = 1\n",
    "    n = len(nums)\n",
    "    for R in range(1, n):\n",
    "          if nums[R] != nums[R - 1]:\n",
    "            nums[L] = nums[R]\n",
    "            L += 1\n",
    "    return L\n",
    "nums = [0,0,1,1,1,2,2,3,3,4]\n",
    "#nums = [1,2]\n",
    "result = removeDuplicates(nums)\n",
    "print(result)"
   ]
  },
  {
   "cell_type": "markdown",
   "metadata": {},
   "source": [
    "## Failure Method - DIY"
   ]
  },
  {
   "cell_type": "code",
   "execution_count": 1,
   "metadata": {},
   "outputs": [
    {
     "name": "stdout",
     "output_type": "stream",
     "text": [
      "[1, 2, 2]\n",
      "2\n"
     ]
    }
   ],
   "source": [
    "def test(nums):\n",
    "    n = len(nums)\n",
    "    l = r = 0\n",
    "\n",
    "    while r<n-1:\n",
    "        l = r \n",
    "        while nums[l] == nums[r]:\n",
    "            r+=1\n",
    "        l+=1\n",
    "        nums[l] = nums[r]\n",
    "    \n",
    "    \n",
    "    print(nums)\n",
    "    return r\n",
    "\n",
    "print(test(nums = [1,1,2]))"
   ]
  }
 ],
 "metadata": {
  "kernelspec": {
   "display_name": "test_env",
   "language": "python",
   "name": "python3"
  },
  "language_info": {
   "codemirror_mode": {
    "name": "ipython",
    "version": 3
   },
   "file_extension": ".py",
   "mimetype": "text/x-python",
   "name": "python",
   "nbconvert_exporter": "python",
   "pygments_lexer": "ipython3",
   "version": "3.8.6"
  },
  "orig_nbformat": 4
 },
 "nbformat": 4,
 "nbformat_minor": 2
}
