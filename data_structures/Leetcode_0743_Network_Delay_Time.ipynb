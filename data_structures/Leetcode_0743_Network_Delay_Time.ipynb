{
 "cells": [
  {
   "attachments": {},
   "cell_type": "markdown",
   "metadata": {},
   "source": [
    "# Method1 - Djikstra - shortest path - BFS\n",
    "\n",
    "https://www.youtube.com/watch?v=EaphyqKU4PQ\n"
   ]
  },
  {
   "cell_type": "code",
   "execution_count": 25,
   "metadata": {},
   "outputs": [
    {
     "name": "stdout",
     "output_type": "stream",
     "text": [
      "3\n"
     ]
    }
   ],
   "source": [
    "import heapq\n",
    "import collections\n",
    "def networkDelayTime(times, n, k):\n",
    "    edges = collections.defaultdict(list)\n",
    "    for u, v, w in times:\n",
    "        edges[u].append((v, w))\n",
    "\n",
    "    minHeap = [(0, k)]\n",
    "    visit = set()\n",
    "    t = 0\n",
    "    while minHeap:\n",
    "        w1, n1 = heapq.heappop(minHeap)\n",
    "        if n1 in visit:\n",
    "            continue\n",
    "        visit.add(n1)\n",
    "        t = w1\n",
    "\n",
    "        for n2, w2 in edges[n1]:\n",
    "            if n2 not in visit:\n",
    "                heapq.heappush(minHeap, (w1 + w2, n2))\n",
    "    return t if len(visit) == n else -1\n",
    "\n",
    "times = [[1,3,1],[1,2,4], [3,4,1],[4,2,1]]\n",
    "n = 4\n",
    "k = 1\n",
    "# times = [[2,1,1],[2,3,1],[3,4,1]]\n",
    "# n = 4\n",
    "# k = 2\n",
    "res = networkDelayTime(times,n,k)\n",
    "print(res)"
   ]
  },
  {
   "attachments": {},
   "cell_type": "markdown",
   "metadata": {},
   "source": [
    "## The Python heapq Module: Using Heaps and Priority Queues \n",
    "https://realpython.com/python-heapq-module/"
   ]
  },
  {
   "cell_type": "code",
   "execution_count": 12,
   "metadata": {},
   "outputs": [
    {
     "name": "stdout",
     "output_type": "stream",
     "text": [
      "[2, 5, 3, 7, 6, 8]\n",
      "122222\n",
      "[2, 5, 3, 7, 6, 8, 33333]\n"
     ]
    }
   ],
   "source": [
    "import heapq\n",
    "a = [122222, 2, 3, 5, 6, 8, 7]\n",
    "b = heapq.heappop(a)\n",
    "print(a)\n",
    "print(b)\n",
    "c = heapq.heappush(a, 33333)\n",
    "print(a)"
   ]
  },
  {
   "cell_type": "code",
   "execution_count": 4,
   "metadata": {},
   "outputs": [
    {
     "name": "stdout",
     "output_type": "stream",
     "text": [
      "<class 'collections.defaultdict'> defaultdict(<class 'list'>, {})\n"
     ]
    }
   ],
   "source": [
    "import collections\n",
    "\n",
    "edges = collections.defaultdict(list)\n",
    "print(type(edges), edges)"
   ]
  }
 ],
 "metadata": {
  "kernelspec": {
   "display_name": "leetcode_env",
   "language": "python",
   "name": "python3"
  },
  "language_info": {
   "codemirror_mode": {
    "name": "ipython",
    "version": 3
   },
   "file_extension": ".py",
   "mimetype": "text/x-python",
   "name": "python",
   "nbconvert_exporter": "python",
   "pygments_lexer": "ipython3",
   "version": "3.8.6"
  },
  "orig_nbformat": 4,
  "vscode": {
   "interpreter": {
    "hash": "846fd2d9bb562a436898b7cc368204fc2f9d44e5e9b051b4f6e855e721078f23"
   }
  }
 },
 "nbformat": 4,
 "nbformat_minor": 2
}
