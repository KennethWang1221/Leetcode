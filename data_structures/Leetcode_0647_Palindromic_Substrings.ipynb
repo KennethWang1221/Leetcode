{
 "cells": [
  {
   "cell_type": "markdown",
   "metadata": {},
   "source": [
    "## Method1 - 2D DP"
   ]
  },
  {
   "cell_type": "code",
   "execution_count": 16,
   "metadata": {},
   "outputs": [
    {
     "name": "stdout",
     "output_type": "stream",
     "text": [
      "6\n"
     ]
    }
   ],
   "source": [
    "def countSubstrings(s: str) -> int:\n",
    "    n = len(s)\n",
    "    dp = [[False] * n for _ in range(n)]\n",
    "    count = 0\n",
    "\n",
    "    for i in range(n):\n",
    "        dp[i][i] = True  # Every single character is a palindrome\n",
    "        count += 1\n",
    "\n",
    "    for length in range(2, n + 1):  # length of the substring\n",
    "        for i in range(n - length + 1):\n",
    "            j = i + length - 1\n",
    "            if s[i] == s[j]:\n",
    "                if length == 2 or dp[i + 1][j - 1]:\n",
    "                    dp[i][j] = True\n",
    "                    count += 1\n",
    "\n",
    "    return count\n",
    "\n",
    "s = \"aaa\"\n",
    "res = countSubstrings(s)\n",
    "print(res)"
   ]
  },
  {
   "cell_type": "markdown",
   "metadata": {},
   "source": [
    "## Method2 - Two Pointers\n",
    "https://www.youtube.com/watch?v=4RACzI5-du8"
   ]
  },
  {
   "cell_type": "code",
   "execution_count": 14,
   "metadata": {},
   "outputs": [
    {
     "name": "stdout",
     "output_type": "stream",
     "text": [
      "6\n"
     ]
    }
   ],
   "source": [
    "def countSubstrings(s: str) -> int:\n",
    "    res = 0\n",
    "    n = len(s)\n",
    "    for i in range(n):\n",
    "        l = r = i\n",
    "        while l >= 0 and r < n and s[l] == s[r]:\n",
    "            res += 1\n",
    "            l -= 1\n",
    "            r += 1\n",
    "\n",
    "        l = i\n",
    "        r = l+1\n",
    "        while l >= 0 and r < n and s[l] == s[r]:\n",
    "            res += 1\n",
    "            l -= 1\n",
    "            r += 1\n",
    "    return res\n",
    "\n",
    "\n",
    "s = \"aaa\"\n",
    "res = countSubstrings(s)\n",
    "print(res)"
   ]
  },
  {
   "cell_type": "code",
   "execution_count": 11,
   "metadata": {},
   "outputs": [
    {
     "name": "stdout",
     "output_type": "stream",
     "text": [
      "6\n"
     ]
    }
   ],
   "source": [
    "def countSubstrings(s: str) -> int:\n",
    "    res = 0\n",
    "    n = len(s)\n",
    "    for i in range(n):\n",
    "        res += countPali(s, i, i)\n",
    "        res += countPali(s, i, i + 1)\n",
    "    return res\n",
    "\n",
    "def countPali(s, l, r):\n",
    "    res = 0\n",
    "    n = len(s)\n",
    "    while l >= 0 and r < n and s[l] == s[r]:\n",
    "        res += 1\n",
    "        l -= 1\n",
    "        r += 1\n",
    "    return res\n",
    "\n",
    "s = \"aaa\"\n",
    "res = countSubstrings(s)\n",
    "print(res)"
   ]
  }
 ],
 "metadata": {
  "kernelspec": {
   "display_name": "test_env",
   "language": "python",
   "name": "test_env"
  },
  "language_info": {
   "codemirror_mode": {
    "name": "ipython",
    "version": 3
   },
   "file_extension": ".py",
   "mimetype": "text/x-python",
   "name": "python",
   "nbconvert_exporter": "python",
   "pygments_lexer": "ipython3",
   "version": "3.8.6"
  }
 },
 "nbformat": 4,
 "nbformat_minor": 2
}
