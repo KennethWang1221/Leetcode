{
 "cells": [
  {
   "cell_type": "markdown",
   "metadata": {},
   "source": [
    "## Method1 - Array"
   ]
  },
  {
   "cell_type": "code",
   "execution_count": 8,
   "metadata": {},
   "outputs": [
    {
     "name": "stdout",
     "output_type": "stream",
     "text": [
      "[2, 4, 5, 4, 1, 2, 3, 4]\n"
     ]
    }
   ],
   "source": [
    "def nextPermutation(nums):\n",
    "    n = len(nums)\n",
    "    i = n - 2\n",
    "    while i >= 0 and nums[i] >= nums[i+1]:\n",
    "        i -= 1\n",
    "\n",
    "    if i == -1:\n",
    "        nums.reverse()\n",
    "        return\n",
    "    \n",
    "    # 找到比nums[i]大的最小j\n",
    "    j = n - 1\n",
    "    while j > i and nums[j] <= nums[i]:\n",
    "        j -= 1\n",
    "    \n",
    "    # 交换i和j的值\n",
    "    nums[i], nums[j] = nums[j], nums[i]\n",
    "    \n",
    "    # 反转i之后的元素，使其升序\n",
    "    left, right = i+1, n-1\n",
    "    while left < right:\n",
    "        nums[left], nums[right] = nums[right], nums[left]\n",
    "        left += 1\n",
    "        right -= 1\n",
    "    return nums\n",
    "nums = [3,2,1]\n",
    "nums = [1]\n",
    "nums = [2,4,5,3,4,4,2,1]\n",
    "result = nextPermutation(nums)\n",
    "print(result)"
   ]
  },
  {
   "cell_type": "markdown",
   "metadata": {},
   "source": [
    "## Method1 - Array\n",
    "\n",
    "https://www.bilibili.com/video/BV1SK4y1V7ch?spm_id_from=333.337.search-card.all.click&vd_source=8aba95d95a5a52895d55c1f87e0f02c2\n",
    "\n",
    "https://www.bilibili.com/video/BV1ZD4y1m7A6?spm_id_from=333.337.search-card.all.click&vd_source=8aba95d95a5a52895d55c1f87e0f02c2"
   ]
  },
  {
   "cell_type": "code",
   "execution_count": 4,
   "metadata": {},
   "outputs": [
    {
     "name": "stdout",
     "output_type": "stream",
     "text": [
      "[2, 4, 5, 4, 1, 2, 3, 4]\n"
     ]
    }
   ],
   "source": [
    "def nextPermutation(num):\n",
    "        if num is None or len(num) <= 1:\n",
    "            return num\n",
    "        # step1: find nums[i] < nums[i + 1], Loop backwards\n",
    "        i = 0\n",
    "        n = len(num)\n",
    "        for i in range(n - 2, -1, -1):\n",
    "            if num[i] < num[i + 1]:\n",
    "                break\n",
    "            elif i == 0:\n",
    "                # reverse nums if reach maximum\n",
    "                num.reverse()\n",
    "                return num\n",
    "        # step2: find nums[i] < nums[j], Loop backwards\n",
    "        j = 0\n",
    "        for j in range(n - 1, i, -1):\n",
    "            if num[i] < num[j]:\n",
    "                break\n",
    "        # step3: swap betwenn nums[i] and nums[j]\n",
    "        num[i], num[j] = num[j], num[i]\n",
    "        # step4: reverse between [i + 1, n - 1] i 后元素都小于 num[j], 且是从大到小的，需要反转之以获得最小的序列\n",
    "        num[i + 1:n] = num[n - 1:i:-1]\n",
    "        return num\n",
    "num = [3,2,1]\n",
    "num = [1]\n",
    "num = [2,4,5,3,4,4,2,1]\n",
    "result = nextPermutation(num)\n",
    "print(result)"
   ]
  },
  {
   "cell_type": "code",
   "execution_count": 27,
   "metadata": {},
   "outputs": [
    {
     "name": "stdout",
     "output_type": "stream",
     "text": [
      "8\n",
      "[2, 4, 5, 4, 4, 3, 2, 1]\n",
      "[2, 4, 5, 4, 1, 2, 3, 4]\n",
      "[4, 3, 2]\n"
     ]
    }
   ],
   "source": [
    "num = [2,4,5,4,4,3,2,1]\n",
    "n = len(num)\n",
    "print(n)\n",
    "print(num)\n",
    "i = 3\n",
    "num[i + 1 : n] = num[n-1:i:-1]\n",
    "print(num)\n",
    "print(num[n-1: i+1:-1])"
   ]
  },
  {
   "cell_type": "code",
   "execution_count": 19,
   "metadata": {},
   "outputs": [
    {
     "name": "stdout",
     "output_type": "stream",
     "text": [
      "3\n",
      "[2]\n",
      "[2, 1]\n"
     ]
    }
   ],
   "source": [
    "num = [3,2,1]\n",
    "n  = len(num)\n",
    "print(n)\n",
    "print(num[1:n-1])\n",
    "print(num[1:n])"
   ]
  },
  {
   "cell_type": "code",
   "execution_count": 51,
   "metadata": {},
   "outputs": [
    {
     "name": "stdout",
     "output_type": "stream",
     "text": [
      "1\n",
      "2\n"
     ]
    }
   ],
   "source": [
    "num = [3,2,1]\n",
    "n = len(num)\n",
    "for i in range((n-1),0,-1):\n",
    "    print(num[i])"
   ]
  }
 ],
 "metadata": {
  "kernelspec": {
   "display_name": "leetcode_env",
   "language": "python",
   "name": "leetcode_env"
  },
  "language_info": {
   "codemirror_mode": {
    "name": "ipython",
    "version": 3
   },
   "file_extension": ".py",
   "mimetype": "text/x-python",
   "name": "python",
   "nbconvert_exporter": "python",
   "pygments_lexer": "ipython3",
   "version": "3.8.6"
  },
  "orig_nbformat": 4,
  "vscode": {
   "interpreter": {
    "hash": "846fd2d9bb562a436898b7cc368204fc2f9d44e5e9b051b4f6e855e721078f23"
   }
  }
 },
 "nbformat": 4,
 "nbformat_minor": 2
}
