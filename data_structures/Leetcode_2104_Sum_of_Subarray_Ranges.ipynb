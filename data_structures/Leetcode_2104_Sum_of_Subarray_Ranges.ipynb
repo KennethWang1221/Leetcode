{
 "cells": [
  {
   "cell_type": "markdown",
   "metadata": {},
   "source": [
    "## Method1 - Array"
   ]
  },
  {
   "cell_type": "code",
   "execution_count": 2,
   "metadata": {},
   "outputs": [
    {
     "name": "stdout",
     "output_type": "stream",
     "text": [
      "4\n"
     ]
    }
   ],
   "source": [
    "def subArrayRanges(nums):\n",
    "    n = len(nums)\n",
    "    if n == 0:\n",
    "        return 0\n",
    "    \n",
    "    # Calculate sum of max elements in all subarrays\n",
    "    left_prev_greater = [-1] * n\n",
    "    stack = []\n",
    "    for i in range(n):\n",
    "        while stack and nums[stack[-1]] <= nums[i]:\n",
    "            stack.pop()\n",
    "        if stack:\n",
    "            left_prev_greater[i] = stack[-1]\n",
    "        stack.append(i)\n",
    "    \n",
    "    right_next_ge = [n] * n\n",
    "    stack = []\n",
    "    for i in range(n-1, -1, -1):\n",
    "        while stack and nums[stack[-1]] < nums[i]:\n",
    "            stack.pop()\n",
    "        if stack:\n",
    "            right_next_ge[i] = stack[-1]\n",
    "        stack.append(i)\n",
    "    \n",
    "    sum_max = 0\n",
    "    for i in range(n):\n",
    "        count = (i - left_prev_greater[i]) * (right_next_ge[i] - i)\n",
    "        sum_max += nums[i] * count\n",
    "    \n",
    "    # Calculate sum of min elements in all subarrays\n",
    "    left_prev_smaller = [-1] * n\n",
    "    stack = []\n",
    "    for i in range(n):\n",
    "        while stack and nums[stack[-1]] >= nums[i]:\n",
    "            stack.pop()\n",
    "        if stack:\n",
    "            left_prev_smaller[i] = stack[-1]\n",
    "        stack.append(i)\n",
    "    \n",
    "    right_next_le = [n] * n\n",
    "    stack = []\n",
    "    for i in range(n-1, -1, -1):\n",
    "        while stack and nums[stack[-1]] > nums[i]:\n",
    "            stack.pop()\n",
    "        if stack:\n",
    "            right_next_le[i] = stack[-1]\n",
    "        stack.append(i)\n",
    "    \n",
    "    sum_min = 0\n",
    "    for i in range(n):\n",
    "        count = (i - left_prev_smaller[i]) * (right_next_le[i] - i)\n",
    "        sum_min += nums[i] * count\n",
    "    \n",
    "    return sum_max - sum_min\n",
    "nums = [1,2,3]\n",
    "print(subArrayRanges(nums))"
   ]
  }
 ],
 "metadata": {
  "kernelspec": {
   "display_name": "leetcode_env",
   "language": "python",
   "name": "leetcode_env"
  },
  "language_info": {
   "codemirror_mode": {
    "name": "ipython",
    "version": 3
   },
   "file_extension": ".py",
   "mimetype": "text/x-python",
   "name": "python",
   "nbconvert_exporter": "python",
   "pygments_lexer": "ipython3",
   "version": "3.8.6"
  }
 },
 "nbformat": 4,
 "nbformat_minor": 2
}
