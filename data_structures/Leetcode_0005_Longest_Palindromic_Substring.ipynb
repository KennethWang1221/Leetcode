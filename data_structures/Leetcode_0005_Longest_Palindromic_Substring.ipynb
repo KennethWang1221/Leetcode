{
 "cells": [
  {
   "cell_type": "markdown",
   "metadata": {},
   "source": [
    "## Method1 - Two Pointers\n",
    "https://www.youtube.com/watch?v=XYQecbcd6_c"
   ]
  },
  {
   "cell_type": "code",
   "execution_count": 5,
   "metadata": {},
   "outputs": [
    {
     "name": "stdout",
     "output_type": "stream",
     "text": [
      "bb\n"
     ]
    }
   ],
   "source": [
    "def longestPalindrome(s):\n",
    "    res = \"\"\n",
    "    resLen = 0\n",
    "    n = len(s)\n",
    "    for i in range(n):\n",
    "        # odd length\n",
    "        l, r = i, i\n",
    "        while l >= 0 and r < n and s[l] == s[r]:\n",
    "            if (r - l + 1) > resLen:\n",
    "                res = s[l : r + 1]\n",
    "                resLen = r - l + 1\n",
    "            l -= 1\n",
    "            r += 1\n",
    "\n",
    "        # even length\n",
    "        l, r = i, i + 1\n",
    "        while l >= 0 and r < n and s[l] == s[r]:\n",
    "            if (r - l + 1) > resLen:\n",
    "                res = s[l : r + 1]\n",
    "                resLen = r - l + 1\n",
    "            l -= 1\n",
    "            r += 1\n",
    "\n",
    "    return res\n",
    "\n",
    "s = \"babad\"\n",
    "s = 'cbbd'\n",
    "res = longestPalindrome(s)\n",
    "print(res)"
   ]
  },
  {
   "cell_type": "markdown",
   "metadata": {},
   "source": [
    "## Method1 - Multidimensional Top-Down DP \n",
    "https://leetcode.com/problems/longest-palindromic-substring/solutions/4212564/beats-96-49-5-different-approaches-brute-force-eac-dp-ma-recursion/?envType=study-plan-v2&envId=top-interview-150"
   ]
  },
  {
   "cell_type": "code",
   "execution_count": 8,
   "metadata": {},
   "outputs": [
    {
     "name": "stdout",
     "output_type": "stream",
     "text": [
      "bab\n"
     ]
    }
   ],
   "source": [
    "def longestPalindrome(s):\n",
    "    if len(s) <= 1:\n",
    "        return s\n",
    "    \n",
    "    Max_Len=1\n",
    "    Max_Str=s[0]\n",
    "    for i in range(len(s)-1):\n",
    "        for j in range(i+1,len(s)):\n",
    "            if j-i+1 > Max_Len and s[i:j+1] == s[i:j+1][::-1]:\n",
    "                Max_Len = j-i+1\n",
    "                Max_Str = s[i:j+1]\n",
    "\n",
    "    return Max_Str\n",
    "\n",
    "s = \"babad\"\n",
    "res = longestPalindrome(s)\n",
    "print(res)"
   ]
  }
 ],
 "metadata": {
  "kernelspec": {
   "display_name": "test_env",
   "language": "python",
   "name": "test_env"
  },
  "language_info": {
   "codemirror_mode": {
    "name": "ipython",
    "version": 3
   },
   "file_extension": ".py",
   "mimetype": "text/x-python",
   "name": "python",
   "nbconvert_exporter": "python",
   "pygments_lexer": "ipython3",
   "version": "3.8.6"
  }
 },
 "nbformat": 4,
 "nbformat_minor": 2
}
