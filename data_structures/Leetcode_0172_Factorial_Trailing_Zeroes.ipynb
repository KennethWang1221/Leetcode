{
 "cells": [
  {
   "cell_type": "markdown",
   "metadata": {},
   "source": [
    "## Method1 - Math"
   ]
  },
  {
   "cell_type": "code",
   "execution_count": 2,
   "metadata": {},
   "outputs": [
    {
     "name": "stdout",
     "output_type": "stream",
     "text": [
      "0\n"
     ]
    }
   ],
   "source": [
    "def trailingZeroes(n: int) -> int:\n",
    "    # Initialize the count of trailing zeroes to 0\n",
    "    count = 0\n",
    "    \n",
    "    # Loop until n is less than 5\n",
    "    while n >= 5:\n",
    "        # Divide n by 5 and update n\n",
    "        n //= 5\n",
    "        # Add the updated n to the count\n",
    "        count += n\n",
    "    \n",
    "    # Return the total count of trailing zeroes\n",
    "    return count\n",
    "\n",
    "# Example usage\n",
    "n = 3\n",
    "# Call the function with the example input\n",
    "res = trailingZeroes(n)\n",
    "# Print the result\n",
    "print(res)"
   ]
  }
 ],
 "metadata": {
  "kernelspec": {
   "display_name": "test_env",
   "language": "python",
   "name": "test_env"
  },
  "language_info": {
   "codemirror_mode": {
    "name": "ipython",
    "version": 3
   },
   "file_extension": ".py",
   "mimetype": "text/x-python",
   "name": "python",
   "nbconvert_exporter": "python",
   "pygments_lexer": "ipython3",
   "version": "3.8.6"
  }
 },
 "nbformat": 4,
 "nbformat_minor": 2
}
