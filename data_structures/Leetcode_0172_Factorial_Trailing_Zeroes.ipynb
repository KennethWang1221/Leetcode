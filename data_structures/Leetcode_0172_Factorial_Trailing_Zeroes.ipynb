{
 "cells": [
  {
   "cell_type": "markdown",
   "metadata": {},
   "source": [
    "## Method1 - Math"
   ]
  },
  {
   "cell_type": "code",
   "execution_count": 2,
   "metadata": {},
   "outputs": [
    {
     "name": "stdout",
     "output_type": "stream",
     "text": [
      "0\n"
     ]
    }
   ],
   "source": [
    "def trailingZeroes(n: int) -> int:\n",
    "    # Initialize the count of trailing zeroes to 0\n",
    "    count = 0\n",
    "    \n",
    "    # Loop until n is less than 5\n",
    "    while n >= 5:\n",
    "        # Divide n by 5 and update n\n",
    "        n //= 5\n",
    "        # Add the updated n to the count\n",
    "        count += n\n",
    "    \n",
    "    # Return the total count of trailing zeroes\n",
    "    return count\n",
    "\n",
    "# Example usage\n",
    "n = 3\n",
    "# Call the function with the example input\n",
    "res = trailingZeroes(n)\n",
    "# Print the result\n",
    "print(res)"
   ]
  },
  {
   "cell_type": "markdown",
   "metadata": {},
   "source": [
    "## DIY - Brute Force \n",
    "\n",
    "This method works, but efficiency is too low. "
   ]
  },
  {
   "cell_type": "code",
   "execution_count": 3,
   "metadata": {},
   "outputs": [
    {
     "name": "stdout",
     "output_type": "stream",
     "text": [
      "3628800\n",
      "2\n"
     ]
    }
   ],
   "source": [
    "import sys\n",
    "def test(n):\n",
    "    mul = 1\n",
    "    res = 0\n",
    "    for i in range(n,0,-1):\n",
    "        mul = mul * i\n",
    "    print(mul)\n",
    "    mul = str(mul)\n",
    "    \n",
    "    # Conversion of a Number into String is limited by No. of Digits\n",
    "    # So increasing the Limit\n",
    "    # sys.set_int_max_str_digits(100000) # Have to set this line in online leetcode environment \n",
    "    for i in range(len(mul)-1,-1,-1):\n",
    "        if mul[i] == '0':\n",
    "            res+=1\n",
    "        else:\n",
    "            break    \n",
    "    return res\n",
    "\n",
    "n = 10\n",
    "res = test(n)\n",
    "print(res)\n"
   ]
  }
 ],
 "metadata": {
  "kernelspec": {
   "display_name": "test_env",
   "language": "python",
   "name": "test_env"
  },
  "language_info": {
   "codemirror_mode": {
    "name": "ipython",
    "version": 3
   },
   "file_extension": ".py",
   "mimetype": "text/x-python",
   "name": "python",
   "nbconvert_exporter": "python",
   "pygments_lexer": "ipython3",
   "version": "3.8.6"
  }
 },
 "nbformat": 4,
 "nbformat_minor": 2
}
