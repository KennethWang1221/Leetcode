{
 "cells": [
  {
   "cell_type": "markdown",
   "metadata": {},
   "source": [
    "## Method1 - Backtracking\n",
    "\n",
    "Same idea to 0077, 0216, 0017, 0039, 0040, 0131, 0093, 0078\n",
    "\n",
    "https://www.youtube.com/watch?v=0snEunUacZY"
   ]
  },
  {
   "cell_type": "code",
   "execution_count": 2,
   "metadata": {},
   "outputs": [
    {
     "name": "stdout",
     "output_type": "stream",
     "text": [
      "['ad', 'ae', 'af', 'bd', 'be', 'bf', 'cd', 'ce', 'cf']\n"
     ]
    }
   ],
   "source": [
    "def letterCombinations(digits):\n",
    "    res = []\n",
    "    digitToChar = {\n",
    "        \"2\": \"abc\",\n",
    "        \"3\": \"def\",\n",
    "        \"4\": \"ghi\",\n",
    "        \"5\": \"jkl\",\n",
    "        \"6\": \"mno\",\n",
    "        \"7\": \"qprs\",\n",
    "        \"8\": \"tuv\",\n",
    "        \"9\": \"wxyz\",\n",
    "    }\n",
    "\n",
    "    def backtrack(i, curStr):\n",
    "        if len(curStr) == len(digits):\n",
    "            res.append(curStr)\n",
    "            return\n",
    "        for c in digitToChar[digits[i]]:\n",
    "            backtrack(i + 1, curStr + c)\n",
    "\n",
    "    if digits:\n",
    "        backtrack(0, \"\")\n",
    "\n",
    "    return res\n",
    "\n",
    "digits = \"23\"\n",
    "res = letterCombinations(digits)\n",
    "print(res)"
   ]
  },
  {
   "cell_type": "markdown",
   "metadata": {},
   "source": [
    "## DIY - Backtracking - Recap"
   ]
  },
  {
   "cell_type": "code",
   "execution_count": 1,
   "metadata": {},
   "outputs": [
    {
     "name": "stdout",
     "output_type": "stream",
     "text": [
      "['ad', 'ae', 'af', 'bd', 'be', 'bf', 'cd', 'ce', 'cf']\n"
     ]
    }
   ],
   "source": [
    "def letterCombinations(digits):\n",
    "    letterMap = {\n",
    "        '0':\"\",     # 0\n",
    "        '1':\"\",     # 1\n",
    "        '2':\"abc\",  # 2\n",
    "        '3':\"def\",  # 3\n",
    "        '4':\"ghi\",  # 4\n",
    "        '5':\"jkl\",  # 5\n",
    "        '6':\"mno\",  # 6\n",
    "        '7':\"pqrs\", # 7\n",
    "        '8':\"tuv\",  # 8\n",
    "        '9':\"wxyz\"  # 9\n",
    "    }\n",
    "\n",
    "    def backtracking(i, s):\n",
    "        if i == n:\n",
    "            result.append(s)\n",
    "            return\n",
    "        \n",
    "        for c in letterMap[digits[i]]:\n",
    "            s += c    # 处理字符\n",
    "            backtracking(i+1, s)    # 递归调用，注意索引加1，处理下一个数字\n",
    "            s = s[:-1]    # 回溯，删除最后添加的字符\n",
    "    \n",
    "    result = []\n",
    "    s = \"\"\n",
    "    n = len(digits)\n",
    "    if digits:\n",
    "        backtracking(0, s)\n",
    "    return result\n",
    "\n",
    "digits = \"23\"\n",
    "res = letterCombinations(digits)\n",
    "print(res)"
   ]
  },
  {
   "cell_type": "markdown",
   "metadata": {},
   "source": [
    "## Method2 - Backtracking\n",
    "https://github.com/youngyangyang04/leetcode-master/blob/master/problems/0017.%E7%94%B5%E8%AF%9D%E5%8F%B7%E7%A0%81%E7%9A%84%E5%AD%97%E6%AF%8D%E7%BB%84%E5%90%88.md"
   ]
  },
  {
   "cell_type": "code",
   "execution_count": 3,
   "metadata": {},
   "outputs": [
    {
     "name": "stdout",
     "output_type": "stream",
     "text": [
      "['ad', 'ae', 'af', 'bd', 'be', 'bf', 'cd', 'ce', 'cf']\n"
     ]
    }
   ],
   "source": [
    "def letterCombinations(digits):\n",
    "    letterMap = [\n",
    "        \"\",     # 0\n",
    "        \"\",     # 1\n",
    "        \"abc\",  # 2\n",
    "        \"def\",  # 3\n",
    "        \"ghi\",  # 4\n",
    "        \"jkl\",  # 5\n",
    "        \"mno\",  # 6\n",
    "        \"pqrs\", # 7\n",
    "        \"tuv\",  # 8\n",
    "        \"wxyz\"  # 9\n",
    "    ]\n",
    "\n",
    "    def backtracking(digits, index, s):\n",
    "        if index == len(digits):\n",
    "            result.append(s)\n",
    "            return\n",
    "        digit = int(digits[index])    # 将索引处的数字转换为整数\n",
    "        letters = letterMap[digit]    # 获取对应的字符集\n",
    "        for i in range(len(letters)):\n",
    "            s += letters[i]    # 处理字符\n",
    "            backtracking(digits, index + 1, s)    # 递归调用，注意索引加1，处理下一个数字\n",
    "            s = s[:-1]    # 回溯，删除最后添加的字符\n",
    "    \n",
    "    result = []\n",
    "    s = \"\"\n",
    "    if len(digits) == 0:\n",
    "        return result\n",
    "    backtracking(digits, 0, s)\n",
    "    return result\n",
    "\n",
    "digits = \"23\"\n",
    "res = letterCombinations(digits)\n",
    "print(res)"
   ]
  }
 ],
 "metadata": {
  "kernelspec": {
   "display_name": "leetcode_env",
   "language": "python",
   "name": "leetcode_env"
  },
  "language_info": {
   "codemirror_mode": {
    "name": "ipython",
    "version": 3
   },
   "file_extension": ".py",
   "mimetype": "text/x-python",
   "name": "python",
   "nbconvert_exporter": "python",
   "pygments_lexer": "ipython3",
   "version": "3.8.6"
  }
 },
 "nbformat": 4,
 "nbformat_minor": 2
}
