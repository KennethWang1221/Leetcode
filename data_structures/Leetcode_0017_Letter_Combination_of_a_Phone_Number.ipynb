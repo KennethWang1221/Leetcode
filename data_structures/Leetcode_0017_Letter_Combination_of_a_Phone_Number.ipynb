{
 "cells": [
  {
   "cell_type": "markdown",
   "metadata": {},
   "source": [
    "## Method1 - Backtracking\n",
    "\n",
    "https://www.youtube.com/watch?v=0snEunUacZY"
   ]
  },
  {
   "cell_type": "code",
   "execution_count": 1,
   "metadata": {},
   "outputs": [
    {
     "name": "stdout",
     "output_type": "stream",
     "text": [
      "['ad', 'ae', 'af', 'bd', 'be', 'bf', 'cd', 'ce', 'cf']\n"
     ]
    }
   ],
   "source": [
    "def letterCombinations(digits):\n",
    "    res = []\n",
    "    digitToChar = {\n",
    "        \"2\": \"abc\",\n",
    "        \"3\": \"def\",\n",
    "        \"4\": \"ghi\",\n",
    "        \"5\": \"jkl\",\n",
    "        \"6\": \"mno\",\n",
    "        \"7\": \"qprs\",\n",
    "        \"8\": \"tuv\",\n",
    "        \"9\": \"wxyz\",\n",
    "    }\n",
    "\n",
    "    def backtrack(i, curStr):\n",
    "        if len(curStr) == len(digits):\n",
    "            res.append(curStr)\n",
    "            return\n",
    "        for c in digitToChar[digits[i]]:\n",
    "            backtrack(i + 1, curStr + c)\n",
    "\n",
    "    if digits:\n",
    "        backtrack(0, \"\")\n",
    "\n",
    "    return res\n",
    "\n",
    "digits = \"23\"\n",
    "res = letterCombinations(digits)\n",
    "print(res)"
   ]
  }
 ],
 "metadata": {
  "kernelspec": {
   "display_name": "leetcode_env",
   "language": "python",
   "name": "leetcode_env"
  },
  "language_info": {
   "codemirror_mode": {
    "name": "ipython",
    "version": 3
   },
   "file_extension": ".py",
   "mimetype": "text/x-python",
   "name": "python",
   "nbconvert_exporter": "python",
   "pygments_lexer": "ipython3",
   "version": "3.8.6"
  }
 },
 "nbformat": 4,
 "nbformat_minor": 2
}
