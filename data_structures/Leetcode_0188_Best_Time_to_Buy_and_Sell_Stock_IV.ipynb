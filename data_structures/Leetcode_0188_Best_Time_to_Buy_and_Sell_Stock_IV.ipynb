{
 "cells": [
  {
   "cell_type": "markdown",
   "metadata": {},
   "source": [
    "## Method1 - Multidimensional DP\n"
   ]
  },
  {
   "cell_type": "code",
   "execution_count": 1,
   "metadata": {},
   "outputs": [
    {
     "name": "stdout",
     "output_type": "stream",
     "text": [
      "2\n"
     ]
    }
   ],
   "source": [
    "def maxProfit(k, prices):\n",
    "    n = len(prices)\n",
    "    if n == 0:\n",
    "        return 0\n",
    "\n",
    "    # If k is greater than n/2, then it's equivalent to an unlimited number of transactions\n",
    "    if k >= n // 2:\n",
    "        return sum(max(prices[i + 1] - prices[i], 0) for i in range(n - 1))\n",
    "\n",
    "    # Initialize the DP table\n",
    "    dp = [[0] * n for _ in range(k + 1)]\n",
    "\n",
    "    for i in range(1, k + 1):\n",
    "        max_diff = -prices[0]\n",
    "        for j in range(1, n):\n",
    "            # Update the dp table for the i-th transaction and j-th day\n",
    "            dp[i][j] = max(dp[i][j - 1], prices[j] + max_diff)\n",
    "            # Update max_diff for the next iteration\n",
    "            max_diff = max(max_diff, dp[i - 1][j] - prices[j])\n",
    "\n",
    "    return dp[k][n - 1]\n",
    "k = 2\n",
    "prices = [2,4,1]\n",
    "res = maxProfit(k, prices)\n",
    "print(res)\n",
    "# Step-by-step explanation:\n",
    "# 1. Check if the prices list is empty. If it is, return 0 as no transactions can be made.\n",
    "# 2. If k is greater than or equal to half the number of days, then we can make as many transactions as we want.\n",
    "#    In this case, we sum up all the positive differences between consecutive days.\n",
    "# 3. Initialize a 2D DP table where dp[i][j] represents the maximum profit using at most i transactions up to day j.\n",
    "# 4. Iterate over the number of transactions from 1 to k.\n",
    "# 5. For each transaction, initialize max_diff to -prices[0]. This keeps track of the maximum difference between the\n",
    "#    profit of the previous transaction and the current price.\n",
    "# 6. Iterate over the days from 1 to n-1.\n",
    "# 7. Update the dp table for the current transaction and day by taking the maximum of not making a transaction on day j\n",
    "#    or selling on day j after buying on a previous day.\n",
    "# 8. Update max_diff to keep track of the maximum difference for the next iteration.\n",
    "# 9. Finally, return the maximum profit with at most k transactions up to the last day.\n"
   ]
  }
 ],
 "metadata": {
  "kernelspec": {
   "display_name": "test_env",
   "language": "python",
   "name": "test_env"
  },
  "language_info": {
   "codemirror_mode": {
    "name": "ipython",
    "version": 3
   },
   "file_extension": ".py",
   "mimetype": "text/x-python",
   "name": "python",
   "nbconvert_exporter": "python",
   "pygments_lexer": "ipython3",
   "version": "3.8.6"
  }
 },
 "nbformat": 4,
 "nbformat_minor": 2
}
