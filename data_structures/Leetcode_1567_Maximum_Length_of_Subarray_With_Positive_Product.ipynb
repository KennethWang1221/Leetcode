{
 "cells": [
  {
   "cell_type": "markdown",
   "metadata": {},
   "source": [
    "## Method1 - Array"
   ]
  },
  {
   "cell_type": "code",
   "execution_count": 1,
   "metadata": {},
   "outputs": [
    {
     "name": "stdout",
     "output_type": "stream",
     "text": [
      "4\n"
     ]
    }
   ],
   "source": [
    "def maxPositiveSegmentLength(nums, left, right):\n",
    "    negative_count = 0\n",
    "    first_neg = -1\n",
    "    last_neg = -1\n",
    "    \n",
    "    for i in range(left, right + 1):\n",
    "        if nums[i] < 0:\n",
    "            negative_count += 1\n",
    "            if first_neg == -1:\n",
    "                first_neg = i\n",
    "            last_neg = i\n",
    "    \n",
    "    # If we have an even number of negative numbers, the entire segment is valid\n",
    "    if negative_count % 2 == 0:\n",
    "        return (right - left + 1)\n",
    "    else:\n",
    "        # Odd number of negatives: exclude either the first or the last negative\n",
    "        # Option A: remove the prefix up to the first negative\n",
    "        len_excluding_first = (right - first_neg)\n",
    "        # Option B: remove the suffix from the last negative to the end\n",
    "        len_excluding_last = (last_neg - left)\n",
    "        return max(len_excluding_first, len_excluding_last)\n",
    "\n",
    "def getMaxLen(nums):\n",
    "    \"\"\"\n",
    "    Main function that returns the maximum length of a subarray with a positive product.\n",
    "    We split by zeros (since zero resets the product) and evaluate each zero-free segment.\n",
    "    \"\"\"\n",
    "    max_len = 0\n",
    "    start = 0  # start index of the current zero-free segment\n",
    "\n",
    "    extended_nums = nums + [0]\n",
    "    \n",
    "    for i in range(len(extended_nums)):\n",
    "        if extended_nums[i] == 0:\n",
    "            # Process the segment [start..i-1] if it has length > 0\n",
    "            if i - start > 0:\n",
    "                max_len = max(max_len, maxPositiveSegmentLength(extended_nums, start, i - 1))\n",
    "            # Next zero-free segment starts at i+1\n",
    "            start = i + 1\n",
    "    \n",
    "    return max_len\n",
    "\n",
    "print(getMaxLen([1, -2, -3, 4]))"
   ]
  }
 ],
 "metadata": {
  "kernelspec": {
   "display_name": "leetcode_env",
   "language": "python",
   "name": "leetcode_env"
  },
  "language_info": {
   "codemirror_mode": {
    "name": "ipython",
    "version": 3
   },
   "file_extension": ".py",
   "mimetype": "text/x-python",
   "name": "python",
   "nbconvert_exporter": "python",
   "pygments_lexer": "ipython3",
   "version": "3.8.6"
  }
 },
 "nbformat": 4,
 "nbformat_minor": 2
}
