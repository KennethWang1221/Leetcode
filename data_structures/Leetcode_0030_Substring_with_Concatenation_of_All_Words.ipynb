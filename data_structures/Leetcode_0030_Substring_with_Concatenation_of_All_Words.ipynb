{
 "cells": [
  {
   "cell_type": "markdown",
   "metadata": {},
   "source": [
    "## Method1 - Sliding Window\n",
    "https://leetcode.com/problems/substring-with-concatenation-of-all-words/solutions/3364752/python-sliding-window-solution-for-reference/?envType=study-plan-v2&envId=top-interview-150"
   ]
  },
  {
   "cell_type": "markdown",
   "metadata": {},
   "source": [
    "1. First thing that comes in our minds is to generate all permutations\n",
    "of the wordlist, store them in a hashmap, and do a sliding window on string 's'. This works but gives TLE .\n",
    "Here is the code if anyone wants to take a look :\n",
    "BRUTE FORCE 151 / 178 test cases passed.\n",
    "\n",
    "2. But the act to generate all the permutations is suboptimal,\n",
    "and will lead to T(n) ~ O(n!) or O(len(words)!)\n",
    "\n",
    "3. Now, since every word needs to be in our substring and every word has a same len.\n",
    "First, we need to check every substing of 's'\n",
    "2nd. This substring needs to have every word frm our wordlist\n",
    "3rd. For this, we just count occurence of each word of our wordlist using a hashmap\n",
    "4rd. In the substring , we check at the indexes in following order ( 0, wordlen, 2wordlen, 3wordlen ... ), because every word has the same length.\n",
    "5th. And if we don't have a word in hashmap, the substring is invalid, if it is not invalid at any point, it was already totallen, so it contains all the occurence, we return True, and add the index to our result.\n",
    "\n",
    "4. T(n) = O(len(s) * len(wordlist) )\n",
    "( Every Substring of s )*\n",
    "( Checking for each word in substring with slicing and hashing )\n",
    "\n",
    "5. Solution refernce \n",
    "   https://leetcode.com/problems/substring-with-concatenation-of-all-words/solutions/2418173/c-unordered-map-sliding-window-simple-easy-to-understand/"
   ]
  },
  {
   "cell_type": "code",
   "execution_count": 4,
   "metadata": {},
   "outputs": [
    {
     "name": "stdout",
     "output_type": "stream",
     "text": [
      "[0, 9]\n"
     ]
    }
   ],
   "source": [
    "import copy\n",
    "from collections import Counter\n",
    "def findSubstring(s, words):  \n",
    "        hmap = Counter(words)\n",
    "        wlen =len(words[0]) \n",
    "        tlen = len(words)*wlen\n",
    "        def checksubstr(substr,hmap):\n",
    "            # every word is of same len, so we skip that amount \n",
    "            for i in range(0,len(substr),wlen):\n",
    "                if(hmap[substr[i:i+wlen]] != 0 ):\n",
    "                    hmap[substr[i:i+wlen]] -= 1\n",
    "                else:\n",
    "                    return False\n",
    "            return True \n",
    "        res = []\n",
    "        start = 0 ;\n",
    "        for i in range(tlen,len(s)+1):\n",
    "            if( checksubstr(s[start:i] , copy.deepcopy(hmap) ) ):\n",
    "                res.append(start)\n",
    "            start += 1\n",
    "\n",
    "        return res\n",
    "\n",
    "s = \"barfoothefoobarman\"\n",
    "words = [\"foo\",\"bar\"]\n",
    "res = findSubstring(s, words)\n",
    "print(res)"
   ]
  }
 ],
 "metadata": {
  "kernelspec": {
   "display_name": "leetcode_env",
   "language": "python",
   "name": "leetcode_env"
  },
  "language_info": {
   "codemirror_mode": {
    "name": "ipython",
    "version": 3
   },
   "file_extension": ".py",
   "mimetype": "text/x-python",
   "name": "python",
   "nbconvert_exporter": "python",
   "pygments_lexer": "ipython3",
   "version": "3.8.6"
  },
  "orig_nbformat": 4
 },
 "nbformat": 4,
 "nbformat_minor": 2
}
