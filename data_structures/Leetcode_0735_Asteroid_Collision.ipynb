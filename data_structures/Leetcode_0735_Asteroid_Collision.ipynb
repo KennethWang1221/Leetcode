{
 "cells": [
  {
   "cell_type": "markdown",
   "metadata": {},
   "source": [
    "## Method1 - Stack\n",
    "\n",
    "https://www.youtube.com/watch?v=LN7KjRszjk4"
   ]
  },
  {
   "cell_type": "code",
   "execution_count": 1,
   "metadata": {},
   "outputs": [
    {
     "name": "stdout",
     "output_type": "stream",
     "text": [
      "[10]\n"
     ]
    }
   ],
   "source": [
    "def test(nums):\n",
    "    stack = []\n",
    "\n",
    "    for a in nums:\n",
    "        while stack and a < 0 and stack[-1] > 0:\n",
    "            diff = a + stack[-1]\n",
    "            if diff > 0:\n",
    "                a = 0\n",
    "            elif diff < 0:\n",
    "                stack.pop()\n",
    "            else:\n",
    "                a = 0\n",
    "                stack.pop()\n",
    "        if a:\n",
    "            stack.append(a)\n",
    "\n",
    "    return stack\n",
    "nums = [10,2,-5]\n",
    "print(test(nums))"
   ]
  }
 ],
 "metadata": {
  "kernelspec": {
   "display_name": "leetcode_env",
   "language": "python",
   "name": "python3"
  },
  "language_info": {
   "codemirror_mode": {
    "name": "ipython",
    "version": 3
   },
   "file_extension": ".py",
   "mimetype": "text/x-python",
   "name": "python",
   "nbconvert_exporter": "python",
   "pygments_lexer": "ipython3",
   "version": "3.8.6"
  }
 },
 "nbformat": 4,
 "nbformat_minor": 2
}
