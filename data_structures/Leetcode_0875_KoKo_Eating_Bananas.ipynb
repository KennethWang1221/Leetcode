{
 "cells": [
  {
   "cell_type": "markdown",
   "metadata": {},
   "source": [
    "## Method1 - Binary Search\n",
    "\n",
    "https://www.youtube.com/watch?v=U2SozAs9RzA"
   ]
  },
  {
   "cell_type": "code",
   "execution_count": 1,
   "metadata": {},
   "outputs": [
    {
     "name": "stdout",
     "output_type": "stream",
     "text": [
      "4\n"
     ]
    }
   ],
   "source": [
    "import math\n",
    "def minEatingSpeed(piles, h):\n",
    "    n = len(piles)\n",
    "    l, r = 1, max(piles)\n",
    "    res = r\n",
    "\n",
    "    while l <= r:\n",
    "        k = (l + r) // 2\n",
    "\n",
    "        totalTime = 0\n",
    "        for p in piles:\n",
    "            totalTime += math.ceil(float(p) / k)\n",
    "        if totalTime <= h:\n",
    "            res = min(res, k)\n",
    "            r = k - 1\n",
    "        else:\n",
    "            l = k + 1\n",
    "    return res \n",
    "\n",
    "print(minEatingSpeed(piles=[3,6,7,11], h = 8))"
   ]
  }
 ],
 "metadata": {
  "kernelspec": {
   "display_name": "leetcode_env",
   "language": "python",
   "name": "python3"
  },
  "language_info": {
   "codemirror_mode": {
    "name": "ipython",
    "version": 3
   },
   "file_extension": ".py",
   "mimetype": "text/x-python",
   "name": "python",
   "nbconvert_exporter": "python",
   "pygments_lexer": "ipython3",
   "version": "3.8.6"
  }
 },
 "nbformat": 4,
 "nbformat_minor": 2
}
