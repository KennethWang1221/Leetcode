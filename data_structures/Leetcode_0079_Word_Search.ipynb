{
 "cells": [
  {
   "attachments": {},
   "cell_type": "markdown",
   "metadata": {},
   "source": [
    "## Method1-Backtracking - DFS\n",
    "https://www.youtube.com/watch?v=pfiQ_PS1g8E"
   ]
  },
  {
   "cell_type": "code",
   "execution_count": 6,
   "metadata": {},
   "outputs": [
    {
     "name": "stdout",
     "output_type": "stream",
     "text": [
      "True\n"
     ]
    }
   ],
   "source": [
    "def exist(board, word):\n",
    "    ROWS, COLS = len(board), len(board[0])\n",
    "    path = set()\n",
    "\n",
    "    def dfs(r, c, i):\n",
    "        if i == len(word):\n",
    "            return True\n",
    "        if (\n",
    "            r < 0 or c < 0\n",
    "            or r >= ROWS\n",
    "            or c >= COLS\n",
    "            or word[i] != board[r][c]\n",
    "            or (r, c) in path\n",
    "        ):\n",
    "            return False\n",
    "        path.add((r, c))\n",
    "        res = (\n",
    "            dfs(r + 1, c, i + 1)\n",
    "            or dfs(r - 1, c, i + 1)\n",
    "            or dfs(r, c + 1, i + 1)\n",
    "            or dfs(r, c - 1, i + 1)\n",
    "        )\n",
    "        path.remove((r, c))\n",
    "        return res\n",
    "\n",
    "    for r in range(ROWS):\n",
    "        for c in range(COLS):\n",
    "            if dfs(r, c, 0):\n",
    "                return True\n",
    "    return False\n",
    "\n",
    "board = [[\"A\",\"B\",\"C\",\"E\"],[\"S\",\"F\",\"C\",\"S\"],[\"A\",\"D\",\"E\",\"E\"]]\n",
    "word = \"ABCCED\"\n",
    "res = exist(board, word) # O(n*m*4^n)\n",
    "print(res)"
   ]
  },
  {
   "cell_type": "code",
   "execution_count": 5,
   "metadata": {},
   "outputs": [
    {
     "name": "stdout",
     "output_type": "stream",
     "text": [
      "<class 'collections.defaultdict'> defaultdict(<class 'int'>, {'A': 2, 'B': 1, 'C': 2, 'E': 3, 'S': 2, 'F': 1, 'D': 1})\n",
      "<class 'str'> ABCCED\n",
      "==========\n",
      "<class 'str'> DECCBA\n"
     ]
    }
   ],
   "source": [
    "from collections import defaultdict, Counter\n",
    "# To prevent TLE,reverse the word if frequency of the first letter is more than the last letter's\n",
    "count = defaultdict(int, sum(map(Counter, board), Counter()))\n",
    "#count = {}\n",
    "print(type(count), count)\n",
    "print(type(word), word)\n",
    "print(\"=\"*10)\n",
    "if count[word[0]] > count[word[-1]]:\n",
    "    word = word[::-1]\n",
    "print(type(word), word)"
   ]
  },
  {
   "cell_type": "markdown",
   "metadata": {},
   "source": [
    "## Method2 - BFS"
   ]
  },
  {
   "cell_type": "code",
   "execution_count": 3,
   "metadata": {},
   "outputs": [
    {
     "name": "stdout",
     "output_type": "stream",
     "text": [
      "True\n"
     ]
    }
   ],
   "source": [
    "from collections import defaultdict, Counter, deque\n",
    "\n",
    "def exist(board, word):\n",
    "    def bfs(board, word, start_row, start_col, rows, cols):\n",
    "        queue = deque([(start_row, start_col, 0, set([(start_row, start_col)]))])  # (row, col, index, visited_set)\n",
    "        \n",
    "        while queue:\n",
    "            row, col, index, visited = queue.popleft()\n",
    "            \n",
    "            if index == len(word) - 1:\n",
    "                return True\n",
    "            \n",
    "            # Explore neighbors: up, down, left, right\n",
    "            for dr, dc in [(-1, 0), (1, 0), (0, -1), (0, 1)]:\n",
    "                new_row, new_col = row + dr, col + dc\n",
    "                \n",
    "                if (0 <= new_row < rows and 0 <= new_col < cols and\n",
    "                    (new_row, new_col) not in visited and\n",
    "                    board[new_row][new_col] == word[index + 1]):\n",
    "                    \n",
    "                    # Create a new visited set for this path\n",
    "                    new_visited = visited | {(new_row, new_col)}\n",
    "                    queue.append((new_row, new_col, index + 1, new_visited))\n",
    "        \n",
    "        return False\n",
    "        \n",
    "    if not board:\n",
    "        return False\n",
    "    \n",
    "    rows, cols = len(board), len(board[0])\n",
    "    \n",
    "    for r in range(rows):\n",
    "        for c in range(cols):\n",
    "            if board[r][c] == word[0]:\n",
    "                if bfs(board, word, r, c, rows, cols):\n",
    "                    return True\n",
    "    \n",
    "    return False\n",
    "board = [[\"A\",\"B\",\"C\",\"E\"],[\"S\",\"F\",\"C\",\"S\"],[\"A\",\"D\",\"E\",\"E\"]]\n",
    "word = \"ABCCED\"\n",
    "res = exist(board, word) # O(n*m*4^n)\n",
    "print(res)"
   ]
  }
 ],
 "metadata": {
  "kernelspec": {
   "display_name": "leetcode_env",
   "language": "python",
   "name": "python3"
  },
  "language_info": {
   "codemirror_mode": {
    "name": "ipython",
    "version": 3
   },
   "file_extension": ".py",
   "mimetype": "text/x-python",
   "name": "python",
   "nbconvert_exporter": "python",
   "pygments_lexer": "ipython3",
   "version": "3.8.6"
  },
  "orig_nbformat": 4
 },
 "nbformat": 4,
 "nbformat_minor": 2
}
