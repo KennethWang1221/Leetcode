{
 "cells": [
  {
   "cell_type": "markdown",
   "metadata": {},
   "source": [
    "## Method1 - Array"
   ]
  },
  {
   "cell_type": "code",
   "execution_count": 3,
   "metadata": {},
   "outputs": [
    {
     "name": "stdout",
     "output_type": "stream",
     "text": [
      "3\n"
     ]
    }
   ],
   "source": [
    "def maximumRobots(chargeTimes, runningCosts, budget):\n",
    "    n = len(chargeTimes)\n",
    "    \n",
    "    # Monotonic deque to keep track of the max charge time in the current window\n",
    "    # The front of the deque holds the index of the maximum charge time\n",
    "    max_charge_deque = []\n",
    "    \n",
    "    running_sum = 0  # sum of running costs in the current window\n",
    "    left = 0\n",
    "    max_robots = 0\n",
    "    \n",
    "    for right in range(n):\n",
    "        # 1) Update the deque for chargeTimes[right]\n",
    "        while max_charge_deque and chargeTimes[max_charge_deque[-1]] <= chargeTimes[right]:\n",
    "            max_charge_deque.pop()\n",
    "        max_charge_deque.append(right)\n",
    "        \n",
    "        # 2) Add runningCosts[right] to the sum\n",
    "        running_sum += runningCosts[right]\n",
    "        \n",
    "        # 3) Check the cost for the current window [left..right]\n",
    "        #    cost = max_charge_time + window_size * running_sum\n",
    "        #    window_size = (right - left + 1)\n",
    "        while max_charge_deque:\n",
    "            max_charge = chargeTimes[max_charge_deque[0]]\n",
    "            window_size = right - left + 1\n",
    "            current_cost = max_charge + window_size * running_sum\n",
    "            \n",
    "            # If cost exceeds budget, shrink from the left\n",
    "            if current_cost > budget:\n",
    "                # If the leftmost element is the max in the deque, remove it\n",
    "                if max_charge_deque[0] == left:\n",
    "                    max_charge_deque.pop(0)\n",
    "                # Remove the left element from running sum\n",
    "                running_sum -= runningCosts[left]\n",
    "                left += 1\n",
    "            else:\n",
    "                # within budget => we have a valid window, break to update max_robots\n",
    "                break\n",
    "        \n",
    "        # 4) Update the maximum number of robots\n",
    "        max_robots = max(max_robots, right - left + 1)\n",
    "    \n",
    "    return max_robots\n",
    "\n",
    "\n",
    "# ----------------------------------------------------------------\n",
    "# Example Usage / Quick Testing\n",
    "# ----------------------------------------------------------------\n",
    "\n",
    "# Example 1 (from a hypothetical test):\n",
    "chargeTimes1 = [3,6,1,3,4]\n",
    "runningCosts1 = [1,2,1,1,1]\n",
    "budget1 = 25\n",
    "\n",
    "# Explanation:\n",
    "# One possible maximum subarray might be the entire array:\n",
    "#  max_charge = 6, size=5, sum(runningCosts)=1+2+1+1+1 = 6\n",
    "#  cost = 6 + 5*6 = 6 + 30 = 36 (which is > 25, so not valid)\n",
    "# You'd check smaller windows, etc.\n",
    "\n",
    "print(maximumRobots(chargeTimes1, runningCosts1, budget1))\n",
    "# The answer depends on the constraints. This just demonstrates usage.\n"
   ]
  }
 ],
 "metadata": {
  "kernelspec": {
   "display_name": "leetcode_env",
   "language": "python",
   "name": "leetcode_env"
  },
  "language_info": {
   "codemirror_mode": {
    "name": "ipython",
    "version": 3
   },
   "file_extension": ".py",
   "mimetype": "text/x-python",
   "name": "python",
   "nbconvert_exporter": "python",
   "pygments_lexer": "ipython3",
   "version": "3.8.6"
  }
 },
 "nbformat": 4,
 "nbformat_minor": 2
}
