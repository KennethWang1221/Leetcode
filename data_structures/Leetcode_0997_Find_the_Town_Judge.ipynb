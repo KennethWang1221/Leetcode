{
 "cells": [
  {
   "cell_type": "markdown",
   "metadata": {},
   "source": [
    "## Method1 - Graph\n",
    "https://www.youtube.com/watch?v=QiGaxdUINJ8"
   ]
  },
  {
   "cell_type": "code",
   "execution_count": 12,
   "metadata": {},
   "outputs": [
    {
     "name": "stdout",
     "output_type": "stream",
     "text": [
      "3\n",
      "-1\n"
     ]
    }
   ],
   "source": [
    "def findJudge(n,trust):\n",
    "    if n == 1 and not trust:\n",
    "        return 1  # If only one person and no trust relationships, they are the judge\n",
    "\n",
    "    delta = {i: 0 for i in range(1, n + 1)}\n",
    "\n",
    "    for src, dst in trust:\n",
    "        delta[src] -= 1\n",
    "        delta[dst] += 1\n",
    "\n",
    "    for i in range(1, n + 1):\n",
    "        if delta[i] == n - 1:\n",
    "            return i\n",
    "    return -1\n",
    "print(findJudge(n = 3, trust = [[1,3],[2,3]]))\n",
    "print(findJudge(n = 3, trust = [[1,3],[2,3],[3,1]]))"
   ]
  },
  {
   "cell_type": "markdown",
   "metadata": {},
   "source": [
    "## Method1 - Recap"
   ]
  },
  {
   "cell_type": "code",
   "execution_count": 20,
   "metadata": {},
   "outputs": [
    {
     "name": "stdout",
     "output_type": "stream",
     "text": [
      "3\n",
      "-1\n"
     ]
    }
   ],
   "source": [
    "def findJudge(n, trust) -> int:\n",
    "    if n == 1 and not trust: return 1\n",
    "\n",
    "    premap = {}\n",
    "    for i in range(1, n+1):\n",
    "        premap[i] = 0\n",
    "    \n",
    "    for t in trust:\n",
    "        src, dst = t[0], t[1]\n",
    "        premap[src] -= 1\n",
    "        premap[dst] += 1\n",
    "    \n",
    "    for key, value in premap.items():\n",
    "        if value == n - 1:\n",
    "            return key\n",
    "    return -1\n",
    "print(findJudge(n = 3, trust = [[1,3],[2,3]]))\n",
    "print(findJudge(n = 3, trust = [[1,3],[2,3],[3,1]]))"
   ]
  }
 ],
 "metadata": {
  "kernelspec": {
   "display_name": "leetcode_env",
   "language": "python",
   "name": "leetcode_env"
  },
  "language_info": {
   "codemirror_mode": {
    "name": "ipython",
    "version": 3
   },
   "file_extension": ".py",
   "mimetype": "text/x-python",
   "name": "python",
   "nbconvert_exporter": "python",
   "pygments_lexer": "ipython3",
   "version": "3.8.6"
  }
 },
 "nbformat": 4,
 "nbformat_minor": 2
}
