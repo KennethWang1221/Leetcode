{
 "cells": [
  {
   "attachments": {},
   "cell_type": "markdown",
   "metadata": {},
   "source": [
    "## Method1 - Bucket Sort\n",
    "https://walkccc.me/LeetCode/problems/0692/\n"
   ]
  },
  {
   "cell_type": "code",
   "execution_count": 36,
   "metadata": {},
   "outputs": [
    {
     "name": "stdout",
     "output_type": "stream",
     "text": [
      "['the', 'is', 'sunny', 'day']\n"
     ]
    }
   ],
   "source": [
    "import collections\n",
    "def topKFrequent(words, k):\n",
    "    ans = []\n",
    "    bucket = [[] for _ in range(len(words) + 1)]\n",
    "\n",
    "    for word, freq in collections.Counter(words).items():\n",
    "      bucket[freq].append(word)\n",
    "\n",
    "    for b in reversed(bucket):\n",
    "      for word in sorted(b):\n",
    "        ans.append(word)\n",
    "        if len(ans) == k:\n",
    "          return ans\n",
    "\n",
    "\n",
    "words = [\"i\",\"love\",\"leetcode\",\"i\",\"love\",\"coding\"]\n",
    "k = 2\n",
    "words = [\"the\",\"day\",\"is\",\"sunny\",\"the\",\"the\",\"the\",\"sunny\",\"is\",\"is\"]\n",
    "k = 4\n",
    "res = topKFrequent(words,k)\n",
    "print(res)"
   ]
  },
  {
   "cell_type": "code",
   "execution_count": 6,
   "metadata": {},
   "outputs": [
    {
     "name": "stdout",
     "output_type": "stream",
     "text": [
      "['the', 'is', 'sunny', 'day']\n"
     ]
    }
   ],
   "source": [
    "import collections\n",
    "def topKFrequent(words, k):\n",
    "    \"\"\"\n",
    "    :type words: List[str]\n",
    "    :type k: int\n",
    "    :rtype: List[str]\n",
    "    \"\"\"\n",
    "    lookup = collections.Counter(words)\n",
    "    \n",
    "    words = list(set(words)) # list(lookup.keys()) 也可以\n",
    "    words.sort(key = lambda w: (-lookup[w], w))\n",
    "    return words[:k]\n",
    "\n",
    "words = [\"i\",\"love\",\"leetcode\",\"i\",\"love\",\"coding\"]\n",
    "k = 2\n",
    "words = [\"the\",\"day\",\"is\",\"sunny\",\"the\",\"the\",\"the\",\"sunny\",\"is\",\"is\"]\n",
    "k = 4\n",
    "res = topKFrequent(words,k)\n",
    "print(res)"
   ]
  },
  {
   "attachments": {},
   "cell_type": "markdown",
   "metadata": {},
   "source": [
    "## Method2 - Heap\n",
    "https://github.com/zhuifengshen/awesome-leetcode/blob/master/docs/Leetcode_Solutions/Python/0692._Top_K_Frequent_Words.md"
   ]
  },
  {
   "cell_type": "code",
   "execution_count": 39,
   "metadata": {},
   "outputs": [
    {
     "name": "stdout",
     "output_type": "stream",
     "text": [
      "['the', 'is', 'sunny', 'day']\n"
     ]
    }
   ],
   "source": [
    "class WordFreq:\n",
    "    def __init__(self, freq, word):\n",
    "        self.freq = freq\n",
    "        self.word = word\n",
    "        \n",
    "    def __lt__(self, other):\n",
    "        if self.freq != other.freq:\n",
    "            # return self.freq.__lt__(other.freq)\n",
    "            return self.freq < other.freq\n",
    "        else:\n",
    "            # return self.word.__gt__(other.word)\n",
    "            return self.word > other.word\n",
    "\n",
    "import collections\n",
    "import heapq\n",
    "def topKFrequent(words, k):\n",
    "    \"\"\"\n",
    "    :type words: List[str]\n",
    "    :type k: int\n",
    "    :rtype: List[str]\n",
    "    \"\"\"\n",
    "    counts = collections.Counter(words)   \n",
    "    \n",
    "    topk = []\n",
    "    heapq.heapify(topk)\n",
    "    for word, freq in counts.items():\n",
    "        heapq.heappush(topk, WordFreq(freq, word))\n",
    "        # solution 2: \n",
    "        # heapq.heappush(topk, (WordFreq(freq, word), word)) \n",
    "        if len(topk) > k:\n",
    "            heapq.heappop(topk)\n",
    "    \n",
    "    res = []\n",
    "    for _ in range(k):\n",
    "        res.append(heapq.heappop(topk).word)\n",
    "        # solution 2: \n",
    "        # res.append(heapq.heappop(topk)[1])\n",
    "    return res[::-1]\n",
    "\n",
    "\n",
    "words = [\"i\",\"love\",\"leetcode\",\"i\",\"love\",\"coding\"]\n",
    "k = 2\n",
    "words = [\"the\",\"day\",\"is\",\"sunny\",\"the\",\"the\",\"the\",\"sunny\",\"is\",\"is\"]\n",
    "k = 4\n",
    "res = topKFrequent(words,k)\n",
    "print(res)"
   ]
  },
  {
   "attachments": {},
   "cell_type": "markdown",
   "metadata": {},
   "source": [
    "## Method3 - Dict failure"
   ]
  },
  {
   "cell_type": "code",
   "execution_count": 30,
   "metadata": {},
   "outputs": [
    {
     "name": "stdout",
     "output_type": "stream",
     "text": [
      "['the']\n"
     ]
    }
   ],
   "source": [
    "def topKFrequent(words, k):\n",
    "    dict = {}\n",
    "    res = []\n",
    "\n",
    "    for i in words:\n",
    "        dict[i] = dict.get(i, 0) + 1\n",
    "\n",
    "    for key, value in dict.items():\n",
    "        if value == k:\n",
    "            res.append(key)\n",
    "\n",
    "    return res\n",
    "\n",
    "\n",
    "words = [\"i\",\"love\",\"leetcode\",\"i\",\"love\",\"coding\"]\n",
    "k = 2\n",
    "words = [\"the\",\"day\",\"is\",\"sunny\",\"the\",\"the\",\"the\",\"sunny\",\"is\",\"is\"]\n",
    "k = 4\n",
    "res = topKFrequent(words,k)\n",
    "print(res)"
   ]
  },
  {
   "attachments": {},
   "cell_type": "markdown",
   "metadata": {},
   "source": [
    "### dict Correct"
   ]
  },
  {
   "cell_type": "code",
   "execution_count": 26,
   "metadata": {},
   "outputs": [
    {
     "name": "stdout",
     "output_type": "stream",
     "text": [
      "['the', 'is', 'sunny', 'day']\n"
     ]
    }
   ],
   "source": [
    "def topKFrequent(words, k):\n",
    "    \"\"\"\n",
    "    :type words: List[str]\n",
    "    :type k: int\n",
    "    :rtype: List[str]\n",
    "    \"\"\"\n",
    "    lookup = {}\n",
    "    for i in words:\n",
    "        lookup[i] = lookup.get(i,0)+1\n",
    "    \n",
    "    words = list(lookup.keys())\n",
    "    \n",
    "    words.sort(key = lambda w: (-lookup[w], w))\n",
    "    return words[:k]\n",
    "\n",
    "words = [\"i\",\"love\",\"leetcode\",\"i\",\"love\",\"coding\"]\n",
    "k = 2\n",
    "words = [\"the\",\"day\",\"is\",\"sunny\",\"the\",\"the\",\"the\",\"sunny\",\"is\",\"is\"]\n",
    "k = 4\n",
    "res = topKFrequent(words,k)\n",
    "print(res)"
   ]
  },
  {
   "attachments": {},
   "cell_type": "markdown",
   "metadata": {},
   "source": [
    "recap sort"
   ]
  },
  {
   "cell_type": "code",
   "execution_count": 23,
   "metadata": {},
   "outputs": [
    {
     "name": "stdout",
     "output_type": "stream",
     "text": [
      "排序列表： [(1, 3), (2, 2), (3, 4), (4, 1)]\n"
     ]
    }
   ],
   "source": [
    "# 获取列表的第二个元素\n",
    "def takeSecond(elem):\n",
    "    return elem[1]\n",
    " \n",
    "# 列表\n",
    "random = [(2, 2), (3, 4), (4, 1), (1, 3)]\n",
    " \n",
    "# 指定第二个元素排序\n",
    "random.sort(key=takeSecond)\n",
    "#random.sort(key = lambda w: (random, w))\n",
    " \n",
    "# 输出类别\n",
    "print ('排序列表：', random)"
   ]
  },
  {
   "attachments": {},
   "cell_type": "markdown",
   "metadata": {},
   "source": [
    "## Recap Buck Sort"
   ]
  },
  {
   "cell_type": "code",
   "execution_count": 34,
   "metadata": {},
   "outputs": [
    {
     "name": "stdout",
     "output_type": "stream",
     "text": [
      "No 1 outsdie 1 insdie 0 [2, 4, 9, 1, 7, 8, 3, 14, 19, 16]\n",
      "No 2 outsdie 2 insdie 0 [2, 4, 9, 1, 7, 8, 3, 14, 19, 16]\n",
      "No 3 outsdie 3 insdie 3 [1, 2, 4, 9, 7, 8, 3, 14, 19, 16]\n",
      "No 4 outsdie 4 insdie 1 [1, 2, 4, 7, 9, 8, 3, 14, 19, 16]\n",
      "No 5 outsdie 5 insdie 1 [1, 2, 4, 7, 8, 9, 3, 14, 19, 16]\n",
      "No 6 outsdie 6 insdie 4 [1, 2, 3, 4, 7, 8, 9, 14, 19, 16]\n",
      "No 7 outsdie 7 insdie 0 [1, 2, 3, 4, 7, 8, 9, 14, 19, 16]\n",
      "No 8 outsdie 8 insdie 0 [1, 2, 3, 4, 7, 8, 9, 14, 19, 16]\n",
      "No 9 outsdie 9 insdie 1 [1, 2, 3, 4, 7, 8, 9, 14, 16, 19]\n"
     ]
    }
   ],
   "source": [
    "# Each loop, samll item go head and big item go tail\n",
    "def insert_sort(array):\n",
    "    n = len(array)\n",
    "    i_count = 0\n",
    "    for i in range(n-1):\n",
    "        i_count+=1\n",
    "        j_count = 0\n",
    "        j = i\n",
    "        target = array[i+1]\n",
    "        while j>=0 and array[j]>target:\n",
    "            j_count+=1\n",
    "            array[j+1] = array[j]\n",
    "            j =j - 1\n",
    "        array[j+1] = target\n",
    "        print(\"No\",i_count,'outsdie',i_count,'insdie',j_count,array)\n",
    "\n",
    "\n",
    "\n",
    "array = [2,4,9,1,7,8,3,14,19,16]\n",
    "insert_sort(array)"
   ]
  },
  {
   "cell_type": "code",
   "execution_count": 35,
   "metadata": {},
   "outputs": [
    {
     "name": "stdout",
     "output_type": "stream",
     "text": [
      "No 1 outsdie 1 insdie 0 [2, 4, 1, 3]\n",
      "No 2 outsdie 2 insdie 2 [1, 2, 4, 3]\n",
      "No 3 outsdie 3 insdie 1 [1, 2, 3, 4]\n",
      "No 1 outsdie 1 insdie 1 [7, 9, 8]\n",
      "No 2 outsdie 2 insdie 1 [7, 8, 9]\n",
      "No 1 outsdie 1 insdie 1 [16, 19]\n",
      "[1, 2, 3, 4, 7, 8, 9, 14, 16, 19]\n"
     ]
    }
   ],
   "source": [
    "def buckets_sort(array):\n",
    "    n = len(array)\n",
    "    buckets = []\n",
    "    maxVal,minVal=max(array),min(array)\n",
    "    bucketsRange = 5\n",
    "    bucketsSize= (maxVal-minVal)//bucketsRange + 1\n",
    "    for i in range(bucketsSize):\n",
    "        buckets.append([])\n",
    "    for i in array:\n",
    "        buckets[(i-minVal)//bucketsRange].append(i)\n",
    "    array = []\n",
    "    for bucket in buckets:\n",
    "        insert_sort(bucket)\n",
    "        array.extend(bucket)\n",
    "    print(array)\n",
    "\n",
    "array = [2,4,9,1,7,8,3,14,19,16]\n",
    "buckets_sort(array)"
   ]
  }
 ],
 "metadata": {
  "kernelspec": {
   "display_name": "leetcode_env",
   "language": "python",
   "name": "leetcode_env"
  },
  "language_info": {
   "codemirror_mode": {
    "name": "ipython",
    "version": 3
   },
   "file_extension": ".py",
   "mimetype": "text/x-python",
   "name": "python",
   "nbconvert_exporter": "python",
   "pygments_lexer": "ipython3",
   "version": "3.8.6"
  },
  "orig_nbformat": 4
 },
 "nbformat": 4,
 "nbformat_minor": 2
}
