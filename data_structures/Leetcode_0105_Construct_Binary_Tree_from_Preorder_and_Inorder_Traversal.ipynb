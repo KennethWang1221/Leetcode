{
 "cells": [
  {
   "cell_type": "markdown",
   "metadata": {},
   "source": [
    "## Method1 - Recursive\n",
    "https://github.com/youngyangyang04/leetcode-master/blob/master/problems/0106.%E4%BB%8E%E4%B8%AD%E5%BA%8F%E4%B8%8E%E5%90%8E%E5%BA%8F%E9%81%8D%E5%8E%86%E5%BA%8F%E5%88%97%E6%9E%84%E9%80%A0%E4%BA%8C%E5%8F%89%E6%A0%91.md<br>\n",
    "https://www.youtube.com/watch?v=ihj4IQGZ2zc&t=20s"
   ]
  },
  {
   "cell_type": "code",
   "execution_count": 1,
   "metadata": {},
   "outputs": [
    {
     "name": "stdout",
     "output_type": "stream",
     "text": [
      "Preorder of the tree constructed from test case 1:\n",
      "3 9 20 15 7 \n",
      "Preorder of the tree constructed from test case 2:\n",
      "1 \n",
      "Preorder of the tree constructed from test case 3:\n",
      "5 4 3 2 1 \n",
      "Preorder of the tree constructed from test case 4:\n",
      "1 2 3 4 5 \n"
     ]
    }
   ],
   "source": [
    "class TreeNode(object):\n",
    "    def __init__(self, x):\n",
    "        if x == None:\n",
    "            self.val = None\n",
    "        else:\n",
    "            self.val = x\n",
    "        self.left = None\n",
    "        self.right = None \n",
    "\n",
    "\n",
    "def buildTree(preorder, inorder):\n",
    "    # Base case: If either preorder or inorder is empty, return None\n",
    "    if not preorder or not inorder:\n",
    "        return None\n",
    "\n",
    "    # The first element in preorder is the root node\n",
    "    root = TreeNode(preorder[0])\n",
    "\n",
    "    # Find the index of the root in inorder\n",
    "    mid = inorder.index(preorder[0])\n",
    "\n",
    "    # Recursively build the left and right subtrees\n",
    "    root.left = buildTree(preorder[1:mid+1], inorder[:mid])\n",
    "    root.right = buildTree(preorder[mid+1:], inorder[mid+1:])\n",
    "\n",
    "    return root\n",
    "\n",
    "\n",
    "def print_tree(root):\n",
    "    # Helper function to print tree in preorder (for validation)\n",
    "    if root:\n",
    "        print(root.val, end=\" \")\n",
    "        print_tree(root.left)\n",
    "        print_tree(root.right)\n",
    "\n",
    "\n",
    "# Test case 1: Given preorder and inorder for a typical tree\n",
    "preorder1 = [3, 9, 20, 15, 7]\n",
    "inorder1 = [9, 3, 15, 20, 7]\n",
    "\n",
    "# Build tree\n",
    "res1 = buildTree(preorder1, inorder1)\n",
    "\n",
    "# Print the tree in preorder (to validate the structure)\n",
    "print(\"Preorder of the tree constructed from test case 1:\")\n",
    "print_tree(res1)  # Expected output: 3 9 20 15 7\n",
    "print()\n",
    "\n",
    "# Test case 2: Edge case where the tree is just one node\n",
    "preorder2 = [1]\n",
    "inorder2 = [1]\n",
    "\n",
    "# Build tree\n",
    "res2 = buildTree(preorder2, inorder2)\n",
    "\n",
    "# Print the tree in preorder (to validate the structure)\n",
    "print(\"Preorder of the tree constructed from test case 2:\")\n",
    "print_tree(res2)  # Expected output: 1\n",
    "print()\n",
    "\n",
    "# Test case 3: A left-skewed tree (all nodes on the left)\n",
    "preorder3 = [5, 4, 3, 2, 1]\n",
    "inorder3 = [1, 2, 3, 4, 5]\n",
    "\n",
    "# Build tree\n",
    "res3 = buildTree(preorder3, inorder3)\n",
    "\n",
    "# Print the tree in preorder (to validate the structure)\n",
    "print(\"Preorder of the tree constructed from test case 3:\")\n",
    "print_tree(res3)  # Expected output: 5 4 3 2 1\n",
    "print()\n",
    "\n",
    "# Test case 4: A right-skewed tree (all nodes on the right)\n",
    "preorder4 = [1, 2, 3, 4, 5]\n",
    "inorder4 = [1, 2, 3, 4, 5]\n",
    "\n",
    "# Build tree\n",
    "res4 = buildTree(preorder4, inorder4)\n",
    "\n",
    "# Print the tree in preorder (to validate the structure)\n",
    "print(\"Preorder of the tree constructed from test case 4:\")\n",
    "print_tree(res4)  # Expected output: 1 2 3 4 5\n",
    "print()\n"
   ]
  },
  {
   "cell_type": "code",
   "execution_count": 5,
   "metadata": {},
   "outputs": [
    {
     "name": "stdout",
     "output_type": "stream",
     "text": [
      "3 1 [9] [9]\n"
     ]
    }
   ],
   "source": [
    "preorder = [3,9,20,15,7]\n",
    "inorder = [9,3,15,20,7]\n",
    "root = preorder[0]\n",
    "mid = inorder.index(root)\n",
    "print(root, mid, preorder[1:mid+1], inorder[:mid])"
   ]
  },
  {
   "cell_type": "code",
   "execution_count": 2,
   "metadata": {},
   "outputs": [
    {
     "name": "stdout",
     "output_type": "stream",
     "text": [
      "\n",
      "  3___\n",
      " /    \\\n",
      "9     _20\n",
      "     /   \\\n",
      "    15    7\n",
      "\n"
     ]
    }
   ],
   "source": [
    "from binarytree import tree, bst, heap, Node\n",
    "n1 = Node(3)\n",
    "n2 = Node(9)\n",
    "n3 = Node(20)\n",
    "n4 = Node(15)\n",
    "n5 = Node(7)\n",
    "\n",
    "n1.left = n2\n",
    "n1.right = n3\n",
    "n3.left = n4\n",
    "n3.right = n5\n",
    "print(n1)"
   ]
  }
 ],
 "metadata": {
  "kernelspec": {
   "display_name": "Python 3.8.6 64-bit ('leetcode_env')",
   "language": "python",
   "name": "python3"
  },
  "language_info": {
   "codemirror_mode": {
    "name": "ipython",
    "version": 3
   },
   "file_extension": ".py",
   "mimetype": "text/x-python",
   "name": "python",
   "nbconvert_exporter": "python",
   "pygments_lexer": "ipython3",
   "version": "3.8.6"
  },
  "orig_nbformat": 4,
  "vscode": {
   "interpreter": {
    "hash": "846fd2d9bb562a436898b7cc368204fc2f9d44e5e9b051b4f6e855e721078f23"
   }
  }
 },
 "nbformat": 4,
 "nbformat_minor": 2
}
