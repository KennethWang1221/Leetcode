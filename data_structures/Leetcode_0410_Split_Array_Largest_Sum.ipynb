{
 "cells": [
  {
   "cell_type": "markdown",
   "metadata": {},
   "source": [
    "## Method1 - Binary Search\n",
    "\n",
    "https://www.youtube.com/watch?v=YUF3_eBdzsk"
   ]
  },
  {
   "cell_type": "code",
   "execution_count": 3,
   "metadata": {},
   "outputs": [
    {
     "name": "stdout",
     "output_type": "stream",
     "text": [
      "18\n"
     ]
    }
   ],
   "source": [
    "def splitArray(nums,k):\n",
    "    def canSplit(largest):\n",
    "        subarray = 0\n",
    "        curSum = 0\n",
    "        for n in nums:\n",
    "            curSum += n\n",
    "            if curSum > largest:\n",
    "                subarray += 1\n",
    "                curSum = n\n",
    "        return subarray + 1 <= k\n",
    "\n",
    "    l, r = max(nums), sum(nums)\n",
    "    res = r\n",
    "    while l <= r:\n",
    "        mid = l + ((r - l) // 2)\n",
    "        if canSplit(mid):\n",
    "            res = mid\n",
    "            r = mid - 1\n",
    "        else:\n",
    "            l = mid + 1\n",
    "    return res\n",
    "print(splitArray(nums = [7,2,5,10,8], k = 2))"
   ]
  }
 ],
 "metadata": {
  "kernelspec": {
   "display_name": "leetcode_env",
   "language": "python",
   "name": "python3"
  },
  "language_info": {
   "codemirror_mode": {
    "name": "ipython",
    "version": 3
   },
   "file_extension": ".py",
   "mimetype": "text/x-python",
   "name": "python",
   "nbconvert_exporter": "python",
   "pygments_lexer": "ipython3",
   "version": "3.8.6"
  }
 },
 "nbformat": 4,
 "nbformat_minor": 2
}
