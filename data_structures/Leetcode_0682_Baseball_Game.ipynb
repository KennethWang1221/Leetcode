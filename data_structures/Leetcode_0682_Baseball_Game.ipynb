{
 "cells": [
  {
   "cell_type": "markdown",
   "metadata": {},
   "source": [
    "## Method1 - Stack"
   ]
  },
  {
   "cell_type": "code",
   "execution_count": 1,
   "metadata": {},
   "outputs": [
    {
     "name": "stdout",
     "output_type": "stream",
     "text": [
      "27\n"
     ]
    }
   ],
   "source": [
    "def calPoints(operations):\n",
    "    n = len(operations)\n",
    "    res = []\n",
    "    operators = [\"C\",\"D\",\"+\"]\n",
    "\n",
    "    for i in range(n):\n",
    "        if operations[i] in operators:\n",
    "            if operations[i] == \"C\":\n",
    "                res.pop(-1)\n",
    "            elif operations[i] == \"D\":\n",
    "                temp = res.pop(-1)\n",
    "                res.append(temp)\n",
    "                res.append(temp*2)\n",
    "            elif operations[i] == '+':\n",
    "                add1 = res.pop(-1)\n",
    "                add2 = res.pop(-1)\n",
    "                res.append(add2)\n",
    "                res.append(add1)\n",
    "                res.append(add2+add1)\n",
    "            \n",
    "        else:\n",
    "            res.append(int(operations[i]))\n",
    "\n",
    "    return sum(res)\n",
    "print(calPoints(operations = [\"5\",\"-2\",\"4\",\"C\",\"D\",\"9\",\"+\",\"+\"]))"
   ]
  },
  {
   "cell_type": "markdown",
   "metadata": {},
   "source": [
    "## Metho1 - Stack\n",
    "\n",
    "https://www.youtube.com/watch?v=Id_tqGdsZQI"
   ]
  },
  {
   "cell_type": "code",
   "execution_count": null,
   "metadata": {},
   "outputs": [],
   "source": [
    "def calPoints(operations):    \n",
    "    score_stack = []\n",
    "    \n",
    "    for o in operations:\n",
    "        \n",
    "        # it is +, D, or C\n",
    "        # if stack isn't of sufficient length, then operation is voided\n",
    "        if o == \"+\" and len(score_stack) >= 2:\n",
    "            summed = score_stack[-2] + score_stack[-1]\n",
    "            score_stack.append(summed)\n",
    "            \n",
    "        elif o == \"D\" and len(score_stack) >= 1:\n",
    "            doubled = score_stack[-1] * 2\n",
    "            score_stack.append(doubled)\n",
    "            \n",
    "        elif o == \"C\" and len(score_stack) >= 1:\n",
    "            score_stack.pop() \n",
    "            \n",
    "        else: \n",
    "            score_stack.append(int(o))\n",
    "\n",
    "    return sum(score_stack)\n",
    "print(calPoints(operations = [\"5\",\"-2\",\"4\",\"C\",\"D\",\"9\",\"+\",\"+\"]))"
   ]
  }
 ],
 "metadata": {
  "kernelspec": {
   "display_name": "leetcode_env",
   "language": "python",
   "name": "python3"
  },
  "language_info": {
   "codemirror_mode": {
    "name": "ipython",
    "version": 3
   },
   "file_extension": ".py",
   "mimetype": "text/x-python",
   "name": "python",
   "nbconvert_exporter": "python",
   "pygments_lexer": "ipython3",
   "version": "3.8.6"
  }
 },
 "nbformat": 4,
 "nbformat_minor": 2
}
