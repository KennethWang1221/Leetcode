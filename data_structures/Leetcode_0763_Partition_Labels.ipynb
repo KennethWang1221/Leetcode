{
 "cells": [
  {
   "cell_type": "markdown",
   "metadata": {},
   "source": [
    "## Method1 - Greedy\n",
    "https://www.youtube.com/watch?v=B7m8UmZE-vw"
   ]
  },
  {
   "cell_type": "code",
   "execution_count": 4,
   "metadata": {},
   "outputs": [
    {
     "name": "stdout",
     "output_type": "stream",
     "text": [
      "[9, 7, 8]\n"
     ]
    }
   ],
   "source": [
    "def partitionLabels(s):\n",
    "    lastIndex = {} # char -> last index in s\n",
    "\n",
    "    for i, c in enumerate(s):\n",
    "        lastIndex[c] = i\n",
    "    \n",
    "    res = []\n",
    "    size, end = 0, 0\n",
    "    for i, c in enumerate(s):\n",
    "        size += 1\n",
    "        end = max(end, lastIndex[c])\n",
    "\n",
    "        if i == end:\n",
    "            res.append(size)\n",
    "            size = 0\n",
    "    return res\n",
    "\n",
    "s = \"ababcbacadefegdehijhklij\"\n",
    "print(partitionLabels(s)) "
   ]
  },
  {
   "cell_type": "markdown",
   "metadata": {},
   "source": [
    "## Method2 - Greedy\n",
    "https://github.com/youngyangyang04/leetcode-master/blob/master/problems/0763.%E5%88%92%E5%88%86%E5%AD%97%E6%AF%8D%E5%8C%BA%E9%97%B4.md"
   ]
  },
  {
   "cell_type": "code",
   "execution_count": 3,
   "metadata": {},
   "outputs": [
    {
     "name": "stdout",
     "output_type": "stream",
     "text": [
      "[9, 7, 8]\n"
     ]
    }
   ],
   "source": [
    "def partitionLabels(s):\n",
    "    last_occurrence = {}  # 存储每个字符最后出现的位置\n",
    "    for i, ch in enumerate(s):\n",
    "        last_occurrence[ch] = i\n",
    "\n",
    "    result = []\n",
    "    start = 0\n",
    "    end = 0\n",
    "    for i, ch in enumerate(s):\n",
    "        end = max(end, last_occurrence[ch])  # 找到当前字符出现的最远位置\n",
    "        if i == end:  # 如果当前位置是最远位置，表示可以分割出一个区间\n",
    "            result.append(end - start + 1)\n",
    "            start = i + 1\n",
    "\n",
    "    return result\n",
    "\n",
    "s = \"ababcbacadefegdehijhklij\"\n",
    "print(partitionLabels(s)) "
   ]
  },
  {
   "cell_type": "markdown",
   "metadata": {},
   "source": [
    "## Method3 - Greedy\n",
    "https://github.com/youngyangyang04/leetcode-master/blob/master/problems/0763.%E5%88%92%E5%88%86%E5%AD%97%E6%AF%8D%E5%8C%BA%E9%97%B4.md \n",
    "\n",
    "贪心（版本二）与452.用最少数量的箭引爆气球 (opens new window)、435.无重叠区间 (opens new window)相同的思路。"
   ]
  },
  {
   "cell_type": "code",
   "execution_count": 2,
   "metadata": {},
   "outputs": [
    {
     "name": "stdout",
     "output_type": "stream",
     "text": [
      "[9, 7, 8]\n"
     ]
    }
   ],
   "source": [
    "def countLabels(s):\n",
    "    # 初始化一个长度为26的区间列表，初始值为负无穷\n",
    "    hash = [[float('-inf'), float('-inf')] for _ in range(26)]\n",
    "    hash_filter = []\n",
    "    for i in range(len(s)):\n",
    "        if hash[ord(s[i]) - ord('a')][0] == float('-inf'):\n",
    "            hash[ord(s[i]) - ord('a')][0] = i\n",
    "        hash[ord(s[i]) - ord('a')][1] = i\n",
    "    for i in range(len(hash)):\n",
    "        if hash[i][0] != float('-inf'):\n",
    "            hash_filter.append(hash[i])\n",
    "    return hash_filter\n",
    "\n",
    "def partitionLabels(s):\n",
    "    res = []\n",
    "    hash = countLabels(s)\n",
    "    hash.sort(key=lambda x: x[0])  # 按左边界从小到大排序\n",
    "    rightBoard = hash[0][1]  # 记录最大右边界\n",
    "    leftBoard = 0\n",
    "    for i in range(1, len(hash)):\n",
    "        if hash[i][0] > rightBoard:  # 出现分割点\n",
    "            res.append(rightBoard - leftBoard + 1)\n",
    "            leftBoard = hash[i][0]\n",
    "        rightBoard = max(rightBoard, hash[i][1])\n",
    "    res.append(rightBoard - leftBoard + 1)  # 最右端\n",
    "    return res\n",
    "\n",
    "s = \"ababcbacadefegdehijhklij\"\n",
    "print(partitionLabels(s)) "
   ]
  }
 ],
 "metadata": {
  "kernelspec": {
   "display_name": "test_env",
   "language": "python",
   "name": "python3"
  },
  "language_info": {
   "codemirror_mode": {
    "name": "ipython",
    "version": 3
   },
   "file_extension": ".py",
   "mimetype": "text/x-python",
   "name": "python",
   "nbconvert_exporter": "python",
   "pygments_lexer": "ipython3",
   "version": "3.8.6"
  }
 },
 "nbformat": 4,
 "nbformat_minor": 2
}
