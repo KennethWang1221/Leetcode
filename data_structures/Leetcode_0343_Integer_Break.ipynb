{
 "cells": [
  {
   "cell_type": "markdown",
   "metadata": {},
   "source": [
    "## Method1 - Recursive / 1D Top-Down DP\n",
    "\n",
    "https://youtube.com/watch?v=in6QbUPMJ3I"
   ]
  },
  {
   "cell_type": "code",
   "execution_count": 10,
   "metadata": {},
   "outputs": [
    {
     "name": "stdout",
     "output_type": "stream",
     "text": [
      "4\n"
     ]
    }
   ],
   "source": [
    "def integerBreak(n):\n",
    "    dp = {1:1}\n",
    "\n",
    "    def dfs(num):\n",
    "        if num in dp: return dp[num]\n",
    "\n",
    "        dp[num] = 0 if num == n else num\n",
    "        for i in range(1, num):\n",
    "            val = dfs(i) * dfs(num-i)\n",
    "            dp[num] = max(dp[num], val)\n",
    "        return dp[num]\n",
    "\n",
    "    return dfs(n)\n",
    "\n",
    "n = 4\n",
    "print(integerBreak(n))"
   ]
  },
  {
   "cell_type": "markdown",
   "metadata": {},
   "source": [
    "## Method2 - 1D Bottom-UP DP\n",
    "https://youtube.com/watch?v=in6QbUPMJ3I"
   ]
  },
  {
   "cell_type": "code",
   "execution_count": 11,
   "metadata": {},
   "outputs": [
    {
     "name": "stdout",
     "output_type": "stream",
     "text": [
      "4\n"
     ]
    }
   ],
   "source": [
    "def integerBreak(n):\n",
    "    dp = {1:1}\n",
    "\n",
    "    for num in range(2, n+1):\n",
    "        dp[num] = 0 if num == n else num\n",
    "        for i in range(1, num):\n",
    "            val = dp[i] * dp[num - i]\n",
    "            dp[num] = max(dp[num], val)\n",
    "    return dp[n]\n",
    "\n",
    "n = 4\n",
    "print(integerBreak(n))"
   ]
  }
 ],
 "metadata": {
  "kernelspec": {
   "display_name": "test_env",
   "language": "python",
   "name": "test_env"
  },
  "language_info": {
   "codemirror_mode": {
    "name": "ipython",
    "version": 3
   },
   "file_extension": ".py",
   "mimetype": "text/x-python",
   "name": "python",
   "nbconvert_exporter": "python",
   "pygments_lexer": "ipython3",
   "version": "3.8.6"
  }
 },
 "nbformat": 4,
 "nbformat_minor": 2
}
