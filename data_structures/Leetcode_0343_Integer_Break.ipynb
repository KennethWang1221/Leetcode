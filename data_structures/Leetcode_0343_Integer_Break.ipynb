{
 "cells": [
  {
   "cell_type": "markdown",
   "metadata": {},
   "source": [
    "## Method1 - Recursive / 1D Top-Down DP\n",
    "\n",
    "https://youtube.com/watch?v=in6QbUPMJ3I"
   ]
  },
  {
   "cell_type": "code",
   "execution_count": 10,
   "metadata": {},
   "outputs": [
    {
     "name": "stdout",
     "output_type": "stream",
     "text": [
      "4\n"
     ]
    }
   ],
   "source": [
    "def integerBreak(n):\n",
    "    dp = {1:1}\n",
    "\n",
    "    def dfs(num):\n",
    "        if num in dp: return dp[num]\n",
    "\n",
    "        dp[num] = 0 if num == n else num\n",
    "        for i in range(1, num):\n",
    "            val = dfs(i) * dfs(num-i)\n",
    "            dp[num] = max(dp[num], val)\n",
    "        return dp[num]\n",
    "\n",
    "    return dfs(n)\n",
    "\n",
    "n = 4\n",
    "print(integerBreak(n))"
   ]
  },
  {
   "cell_type": "markdown",
   "metadata": {},
   "source": [
    "## Method2 - 1D Bottom-UP DP\n",
    "https://youtube.com/watch?v=in6QbUPMJ3I"
   ]
  },
  {
   "cell_type": "code",
   "execution_count": 11,
   "metadata": {},
   "outputs": [
    {
     "name": "stdout",
     "output_type": "stream",
     "text": [
      "4\n"
     ]
    }
   ],
   "source": [
    "def integerBreak(n):\n",
    "    dp = {1:1}\n",
    "\n",
    "    for num in range(2, n+1):\n",
    "        dp[num] = 0 if num == n else num\n",
    "        for i in range(1, num):\n",
    "            val = dp[i] * dp[num - i]\n",
    "            dp[num] = max(dp[num], val)\n",
    "    return dp[n]\n",
    "\n",
    "n = 4\n",
    "print(integerBreak(n))"
   ]
  },
  {
   "cell_type": "markdown",
   "metadata": {},
   "source": [
    "## Method3 - 1D Bottom-UP DP\n",
    "https://youtube.com/watch?v=in6QbUPMJ3I"
   ]
  },
  {
   "cell_type": "code",
   "execution_count": 15,
   "metadata": {},
   "outputs": [
    {
     "name": "stdout",
     "output_type": "stream",
     "text": [
      "4\n"
     ]
    }
   ],
   "source": [
    "def integerBreak(n):\n",
    "    dp = [0] * (n+1)\n",
    "    dp[1] = 1\n",
    "\n",
    "    for num in range(2, n+1):\n",
    "        dp[num] = 0 if num == n else num\n",
    "        for i in range(1, num):\n",
    "            val = dp[i] * dp[num - i]\n",
    "            dp[num] = max(dp[num], val)\n",
    "    return dp[n]\n",
    "\n",
    "n = 4\n",
    "print(integerBreak(n))"
   ]
  },
  {
   "cell_type": "markdown",
   "metadata": {},
   "source": [
    "## Method4 - 1D Bottom-UP DP\n",
    "https://programmercarl.com/0343.%E6%95%B4%E6%95%B0%E6%8B%86%E5%88%86.html#%E5%85%B6%E4%BB%96%E8%AF%AD%E8%A8%80%E7%89%88%E6%9C%AC"
   ]
  },
  {
   "cell_type": "code",
   "execution_count": 1,
   "metadata": {},
   "outputs": [
    {
     "name": "stdout",
     "output_type": "stream",
     "text": [
      "4\n"
     ]
    }
   ],
   "source": [
    "def integerBreak(n):\n",
    "    if n <= 3:\n",
    "        return 1 * (n - 1)  # 对于n小于等于3的情况，返回1 * (n - 1)\n",
    "\n",
    "    dp = [0] * (n + 1)  # 创建一个大小为n+1的数组来存储最大乘积结果\n",
    "    dp[1] = 1  # 当n等于1时，最大乘积为1\n",
    "    dp[2] = 2  # 当n等于2时，最大乘积为2\n",
    "    dp[3] = 3  # 当n等于3时，最大乘积为3\n",
    "\n",
    "    # 从4开始计算，直到n\n",
    "    for i in range(4, n + 1):\n",
    "        # 遍历所有可能的切割点\n",
    "        for j in range(1, i // 2 + 1):\n",
    "            # 计算切割点j和剩余部分(i - j)的乘积，并与之前的结果进行比较取较大值\n",
    "            dp[i] = max(dp[i], dp[i - j] * dp[j])\n",
    "\n",
    "    return dp[n]  # 返回整数拆分的最大乘积结果\n",
    "\n",
    "n = 4\n",
    "print(integerBreak(n))"
   ]
  }
 ],
 "metadata": {
  "kernelspec": {
   "display_name": "test_env",
   "language": "python",
   "name": "test_env"
  },
  "language_info": {
   "codemirror_mode": {
    "name": "ipython",
    "version": 3
   },
   "file_extension": ".py",
   "mimetype": "text/x-python",
   "name": "python",
   "nbconvert_exporter": "python",
   "pygments_lexer": "ipython3",
   "version": "3.8.6"
  }
 },
 "nbformat": 4,
 "nbformat_minor": 2
}
