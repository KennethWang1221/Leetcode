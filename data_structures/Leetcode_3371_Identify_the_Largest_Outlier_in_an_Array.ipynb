{
 "cells": [
  {
   "cell_type": "markdown",
   "metadata": {},
   "source": [
    "## Method1 - Array"
   ]
  },
  {
   "cell_type": "code",
   "execution_count": 1,
   "metadata": {},
   "outputs": [
    {
     "name": "stdout",
     "output_type": "stream",
     "text": [
      "-626\n"
     ]
    }
   ],
   "source": [
    "def getLargestOutlier(nums):\n",
    "    total = sum(nums)\n",
    "    \n",
    "    # Build a frequency dictionary manually.\n",
    "    freq = {}\n",
    "    for num in nums:\n",
    "        freq[num] = freq.get(num, 0) + 1\n",
    "    \n",
    "    # We will search for the largest valid candidate y.\n",
    "    candidate = None\n",
    "    \n",
    "    for y in freq:\n",
    "        # (total - y) must be even to have an integer candidate sum.\n",
    "        if (total - y) % 2 != 0:\n",
    "            continue\n",
    "        x = (total - y) // 2  # candidate sum of the special numbers\n",
    "        \n",
    "        # x must appear in the array.\n",
    "        if x not in freq:\n",
    "            continue\n",
    "        \n",
    "        # If x equals y, then we need at least two occurrences.\n",
    "        if x == y and freq[y] < 2:\n",
    "            continue\n",
    "        \n",
    "        # y is a valid candidate outlier; update if it's larger than current candidate.\n",
    "        if candidate is None or y > candidate:\n",
    "            candidate = y\n",
    "    \n",
    "    # According to the problem, there is always a valid assignment,\n",
    "    # so candidate will not be None.\n",
    "    return candidate\n",
    "print(getLargestOutlier( nums = [963,-626,963]))"
   ]
  }
 ],
 "metadata": {
  "kernelspec": {
   "display_name": "leetcode_env",
   "language": "python",
   "name": "leetcode_env"
  },
  "language_info": {
   "codemirror_mode": {
    "name": "ipython",
    "version": 3
   },
   "file_extension": ".py",
   "mimetype": "text/x-python",
   "name": "python",
   "nbconvert_exporter": "python",
   "pygments_lexer": "ipython3",
   "version": "3.8.6"
  }
 },
 "nbformat": 4,
 "nbformat_minor": 2
}
