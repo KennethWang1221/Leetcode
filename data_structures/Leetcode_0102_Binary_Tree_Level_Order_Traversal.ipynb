{
 "cells": [
  {
   "cell_type": "markdown",
   "metadata": {},
   "source": [
    "## Method1-Recursion"
   ]
  },
  {
   "cell_type": "code",
   "execution_count": 3,
   "metadata": {},
   "outputs": [
    {
     "name": "stdout",
     "output_type": "stream",
     "text": [
      "[[3], [9, 20], [None, None, 15, 7]]\n"
     ]
    }
   ],
   "source": [
    "class TreeNode(object):\n",
    "    def __init__(self, x):\n",
    "        if x == None:\n",
    "            self.val = None\n",
    "        else:\n",
    "            self.val = x\n",
    "        self.left = None\n",
    "        self.right = None\n",
    "\n",
    "class Solution(object):\n",
    "    def levelOrder(self, root):\n",
    "        res = []\n",
    "        def helper(root, depth):\n",
    "            if not root: return []\n",
    "            if len(res) == depth: res.append([]) # start the current depth\n",
    "            res[depth].append(root.val) # fulfil the current depth\n",
    "            if  root.left: helper(root.left, depth + 1) # process child nodes for the next depth\n",
    "            if  root.right: helper(root.right, depth + 1)\n",
    "        helper(root, 0)\n",
    "        return res\n",
    "        \n",
    "n1 = TreeNode(3)\n",
    "n2 = TreeNode(9)\n",
    "n3 = TreeNode(20)\n",
    "n4 = TreeNode(None)\n",
    "n5 = TreeNode(None)\n",
    "n6 = TreeNode(15)\n",
    "n7 = TreeNode(7)\n",
    "#n5 = TreeNode(17)\n",
    "\n",
    "n1.left = n2\n",
    "n1.right = n3\n",
    "n2.left = n4\n",
    "n2.right = n5\n",
    "n3.left = n6\n",
    "n3.right = n7\n",
    "\n",
    "s = Solution()\n",
    "res = s.levelOrder(n1)\n",
    "\n",
    "print(res)"
   ]
  },
  {
   "cell_type": "markdown",
   "metadata": {},
   "source": [
    "## Method2-Iterative"
   ]
  },
  {
   "cell_type": "markdown",
   "metadata": {},
   "source": [
    "learning url: https://www.youtube.com/watch?v=6ZnyEApgFYg<br>\n",
    "https://github.com/youngyangyang04/leetcode-master/blob/master/problems/0102.%E4%BA%8C%E5%8F%89%E6%A0%91%E7%9A%84%E5%B1%82%E5%BA%8F%E9%81%8D%E5%8E%86.md<br>\n"
   ]
  },
  {
   "cell_type": "markdown",
   "metadata": {},
   "source": [
    "## Method2-Iterative"
   ]
  },
  {
   "cell_type": "markdown",
   "metadata": {},
   "source": [
    "### Using deque"
   ]
  },
  {
   "cell_type": "code",
   "execution_count": 6,
   "metadata": {},
   "outputs": [
    {
     "name": "stdout",
     "output_type": "stream",
     "text": [
      "[[3], [9, 20], [None, None, 15, 7]]\n"
     ]
    }
   ],
   "source": [
    "class TreeNode(object):\n",
    "    def __init__(self, x):\n",
    "        if x == None:\n",
    "            self.val = None\n",
    "        else:\n",
    "            self.val = x\n",
    "        self.left = None\n",
    "        self.right = None\n",
    "\n",
    "class Solution(object):\n",
    "    def levelOrder(self, root):\n",
    "        results = []\n",
    "        if not root:\n",
    "            return results\n",
    "        \n",
    "        from collections import deque\n",
    "        que = deque([root])\n",
    "        \n",
    "        while que:\n",
    "            size = len(que)\n",
    "            result = []\n",
    "            for _ in range(size):\n",
    "                cur = que.popleft()\n",
    "                result.append(cur.val)\n",
    "                if cur.left:\n",
    "                    que.append(cur.left)\n",
    "                if cur.right:\n",
    "                    que.append(cur.right)\n",
    "            results.append(result)\n",
    "\n",
    "        return results\n",
    "n1 = TreeNode(3)\n",
    "n2 = TreeNode(9)\n",
    "n3 = TreeNode(20)\n",
    "n4 = TreeNode(None)\n",
    "n5 = TreeNode(None)\n",
    "n6 = TreeNode(15)\n",
    "n7 = TreeNode(7)\n",
    "#n5 = TreeNode(17)\n",
    "\n",
    "n1.left = n2\n",
    "n1.right = n3\n",
    "n2.left = n4\n",
    "n2.right = n5\n",
    "n3.left = n6\n",
    "n3.right = n7\n",
    "\n",
    "s = Solution()\n",
    "res = s.levelOrder(n1)\n",
    "\n",
    "print(res)"
   ]
  },
  {
   "cell_type": "markdown",
   "metadata": {},
   "source": [
    "method2 from Neetcode\n",
    "https://www.youtube.com/watch?v=6ZnyEApgFYg"
   ]
  },
  {
   "cell_type": "code",
   "execution_count": 3,
   "metadata": {},
   "outputs": [
    {
     "name": "stdout",
     "output_type": "stream",
     "text": [
      "[[3], [9, 20], [None, None, 15, 7]]\n"
     ]
    }
   ],
   "source": [
    "class TreeNode(object):\n",
    "    def __init__(self, x):\n",
    "        if x == None:\n",
    "            self.val = None\n",
    "        else:\n",
    "            self.val = x\n",
    "        self.left = None\n",
    "        self.right = None\n",
    "\n",
    "\n",
    "def levelOrder(root):\n",
    "    results = []\n",
    "    if not root:\n",
    "        return results\n",
    "    \n",
    "    from collections import deque\n",
    "    que = deque([root])\n",
    "    \n",
    "    while que:\n",
    "        qLen = len(que)\n",
    "        level = []\n",
    "        for i in range(qLen):\n",
    "            cur = que.popleft()\n",
    "            if cur:\n",
    "                level.append(cur.val)\n",
    "                que.append(cur.left)\n",
    "                que.append(cur.right)\n",
    "        if level:\n",
    "            results.append(level)\n",
    "\n",
    "    return results\n",
    "n1 = TreeNode(3)\n",
    "n2 = TreeNode(9)\n",
    "n3 = TreeNode(20)\n",
    "n4 = TreeNode(None)\n",
    "n5 = TreeNode(None)\n",
    "n6 = TreeNode(15)\n",
    "n7 = TreeNode(7)\n",
    "#n5 = TreeNode(17)\n",
    "\n",
    "n1.left = n2\n",
    "n1.right = n3\n",
    "n2.left = n4\n",
    "n2.right = n5\n",
    "n3.left = n6\n",
    "n3.right = n7\n",
    "\n",
    "res = levelOrder(n1)\n",
    "\n",
    "print(res)"
   ]
  },
  {
   "cell_type": "markdown",
   "metadata": {},
   "source": [
    "### DIY Using list\n",
    "Similar problems. Both use BFS idea:<br>\n",
    "0102_Binary_Tree_Level_Order_Traversal.ipynb<br>\n",
    "0107_Binary_Tree_Level_Order_Traversal_II.ipynb<br>\n",
    "0199_Binary_Tree_Right_Side_View.ipynb<br>\n",
    "0637_Average_of_Levels_in_Binary_Tree.ipynb<br>\n",
    "0429_N-ary_Tree_Level_Order_Traversal.ipynb<br>\n",
    "0515_Find_Largest_Value_in_Each_Tree_Row.ipynb<br>\n",
    "0116_Populating_Next_Right_Pointers_in_Each_Node.ipynb<br>\n",
    "0117_Populating_Next_Right_Pointers_in_Each_Node_II.ipynb<br>\n",
    "0104_Maximum_Depth_of_Binary_Tree.ipynb<br>\n",
    "0111_Minimum_Depth_of_Binary_Tree.ipynb<br>\n",
    "0637_Average_of_Levels_in_Binary_Tree.ipynb<br>\n",
    "0199_Binary_Tree_Right_Side_View.ipynb<br>\n",
    "BFS"
   ]
  },
  {
   "cell_type": "code",
   "execution_count": 7,
   "metadata": {},
   "outputs": [
    {
     "name": "stdout",
     "output_type": "stream",
     "text": [
      "[[3], [9, 20], [None, None, 15, 7]]\n"
     ]
    }
   ],
   "source": [
    "class TreeNode(object):\n",
    "    def __init__(self, x):\n",
    "        if x == None:\n",
    "            self.val = None\n",
    "        else:\n",
    "            self.val = x\n",
    "        self.left = None\n",
    "        self.right = None\n",
    "\n",
    "class Solution(object):\n",
    "    def levelOrder(self, root):\n",
    "        results = []\n",
    "        if not root:\n",
    "            return results\n",
    "\n",
    "        que = [root]\n",
    "        \n",
    "        while que:\n",
    "            size = len(que)\n",
    "            result = []\n",
    "            for _ in range(size):\n",
    "                cur = que.pop(0)\n",
    "                result.append(cur.val)\n",
    "                if cur.left:\n",
    "                    que.append(cur.left)\n",
    "                if cur.right:\n",
    "                    que.append(cur.right)\n",
    "            results.append(result)\n",
    "\n",
    "        return results\n",
    "n1 = TreeNode(3)\n",
    "n2 = TreeNode(9)\n",
    "n3 = TreeNode(20)\n",
    "n4 = TreeNode(None)\n",
    "n5 = TreeNode(None)\n",
    "n6 = TreeNode(15)\n",
    "n7 = TreeNode(7)\n",
    "#n5 = TreeNode(17)\n",
    "\n",
    "n1.left = n2\n",
    "n1.right = n3\n",
    "n2.left = n4\n",
    "n2.right = n5\n",
    "n3.left = n6\n",
    "n3.right = n7\n",
    "\n",
    "s = Solution()\n",
    "res = s.levelOrder(n1)\n",
    "\n",
    "print(res)"
   ]
  },
  {
   "cell_type": "markdown",
   "metadata": {},
   "source": [
    "without class"
   ]
  },
  {
   "cell_type": "markdown",
   "metadata": {},
   "source": [
    "Breadth-First Search: using queue idea<br>\n",
    "Binary_Tree Traversal (Iterative method): using stack idea, e.g. 0144_Binary_Tree_Preorder_Traversal, 0145_Binary_Tree_Postorder_Traversal, 0094_Binary_Tree_Inorder_Traversal<br>"
   ]
  },
  {
   "cell_type": "code",
   "execution_count": 1,
   "metadata": {},
   "outputs": [
    {
     "name": "stdout",
     "output_type": "stream",
     "text": [
      "[[3], [9, 20], [None, None, 15, 7]]\n"
     ]
    }
   ],
   "source": [
    "class TreeNode(object):\n",
    "    def __init__(self, x):\n",
    "        if x == None:\n",
    "            self.val = None\n",
    "        else:\n",
    "            self.val = x\n",
    "        self.left = None\n",
    "        self.right = None\n",
    "\n",
    "\n",
    "def levelOrder(root):\n",
    "    results = []\n",
    "    que = []\n",
    "    if root == None:\n",
    "        return []\n",
    "    else:\n",
    "        # que.append(root)\n",
    "        que = [root]\n",
    "    \n",
    "    while que:\n",
    "        size = len(que)\n",
    "        level = []\n",
    "        for i in range(size):\n",
    "            cur = que.pop(0)\n",
    "            level.append(cur.val)\n",
    "            if cur.left:\n",
    "                que.append(cur.left)\n",
    "            if cur.right:\n",
    "                que.append(cur.right)\n",
    "        results.append(level)\n",
    "\n",
    "    return results\n",
    "n1 = TreeNode(3)\n",
    "n2 = TreeNode(9)\n",
    "n3 = TreeNode(20)\n",
    "n4 = TreeNode(None)\n",
    "n5 = TreeNode(None)\n",
    "n6 = TreeNode(15)\n",
    "n7 = TreeNode(7)\n",
    "#n5 = TreeNode(17)\n",
    "\n",
    "n1.left = n2\n",
    "n1.right = n3\n",
    "n2.left = n4\n",
    "n2.right = n5\n",
    "n3.left = n6\n",
    "n3.right = n7\n",
    "\n",
    "\n",
    "res = levelOrder(n1)\n",
    "\n",
    "print(res)"
   ]
  },
  {
   "cell_type": "code",
   "execution_count": 5,
   "metadata": {},
   "outputs": [
    {
     "name": "stdout",
     "output_type": "stream",
     "text": [
      "Counter({'a': 3, 'c': 2, 'b': 1})\n",
      "<class 'collections.Counter'>\n"
     ]
    }
   ],
   "source": [
    "from collections import *\n",
    "\n",
    "cnt = Counter()\n",
    "wordList = [\"a\",\"b\",\"c\",\"c\",\"a\",\"a\"]\n",
    "for word in wordList:\n",
    "    cnt[word] += 1\n",
    "print(cnt)"
   ]
  },
  {
   "cell_type": "code",
   "execution_count": 13,
   "metadata": {},
   "outputs": [
    {
     "name": "stdout",
     "output_type": "stream",
     "text": [
      "[333, 33333, 0, 1, 2]\n"
     ]
    }
   ],
   "source": [
    "a = []\n",
    "a = [333]\n",
    "a.append(33333)\n",
    "\n",
    "for i in range(3):\n",
    "    a.append(i)\n",
    "print(a)"
   ]
  }
 ],
 "metadata": {
  "kernelspec": {
   "display_name": "Python 3.8.6 64-bit ('leetcode_env')",
   "language": "python",
   "name": "python3"
  },
  "language_info": {
   "codemirror_mode": {
    "name": "ipython",
    "version": 3
   },
   "file_extension": ".py",
   "mimetype": "text/x-python",
   "name": "python",
   "nbconvert_exporter": "python",
   "pygments_lexer": "ipython3",
   "version": "3.8.6"
  },
  "orig_nbformat": 4,
  "vscode": {
   "interpreter": {
    "hash": "846fd2d9bb562a436898b7cc368204fc2f9d44e5e9b051b4f6e855e721078f23"
   }
  }
 },
 "nbformat": 4,
 "nbformat_minor": 2
}
