{
 "cells": [
  {
   "cell_type": "markdown",
   "metadata": {},
   "source": [
    "## Method1 - LinkedList\n",
    "https://www.youtube.com/watch?v=1UOPsfP85V4&t=3s"
   ]
  },
  {
   "cell_type": "code",
   "execution_count": 21,
   "metadata": {},
   "outputs": [
    {
     "name": "stdout",
     "output_type": "stream",
     "text": [
      "1,2,3,4,5,\n",
      "2,1,4,3,5,"
     ]
    }
   ],
   "source": [
    "class ListNode:\n",
    "    def __init__(self, x, next = None):\n",
    "        self.val = x\n",
    "        self.next = None\n",
    "\n",
    "\n",
    "def make_list(arr):\n",
    "    head_node = None\n",
    "    p_node = None\n",
    "    for a in arr:\n",
    "        new_node = ListNode(a)\n",
    "        if head_node is None:\n",
    "            head_node = new_node\n",
    "            p_node = new_node\n",
    "        else:\n",
    "            p_node.next = new_node\n",
    "            p_node = new_node\n",
    "    return head_node\n",
    "\n",
    "\n",
    "def print_list(head):\n",
    "    while head is not None:\n",
    "        print(head.val, end=',')\n",
    "        head = head.next\n",
    "    \n",
    "def reverseKGroup(head, k):\n",
    "    def getKth(curr, k):\n",
    "        while curr and k > 0:\n",
    "            curr = curr.next\n",
    "            k -= 1\n",
    "        return curr\n",
    "    # 1 -> 2 -> 3 -> 4 -> 5\n",
    "    dummy = ListNode(0)\n",
    "    dummy.next = head\n",
    "    groupPrev = dummy\n",
    "\n",
    "    while True:\n",
    "        kth = getKth(groupPrev, k)\n",
    "        if not kth:\n",
    "            break\n",
    "        groupNext = kth.next\n",
    "        # reverse group\n",
    "        prev, curr = groupNext, groupPrev.next\n",
    "        while curr != groupNext:\n",
    "            future = curr.next\n",
    "            curr.next = prev\n",
    "            prev = curr\n",
    "            curr = future\n",
    "\n",
    "        future = groupPrev.next\n",
    "        groupPrev.next = kth\n",
    "        groupPrev = future\n",
    "    return dummy.next\n",
    "\n",
    "head = [1,2,3,4,5]\n",
    "k = 2\n",
    "\n",
    "# head = [1,2,3,4,5]\n",
    "# k = 3\n",
    "head = make_list(head)\n",
    "print_list(head)\n",
    "head = reverseKGroup(head, k)\n",
    "print()\n",
    "print_list(head)       "
   ]
  },
  {
   "cell_type": "markdown",
   "metadata": {},
   "source": [
    "Learning url:\n",
    "https://www.youtube.com/watch?v=1UOPsfP85V4&t=3s"
   ]
  },
  {
   "cell_type": "markdown",
   "metadata": {},
   "source": [
    "## Method2"
   ]
  },
  {
   "cell_type": "code",
   "execution_count": 22,
   "metadata": {},
   "outputs": [
    {
     "name": "stdout",
     "output_type": "stream",
     "text": [
      "1,2,3,4,5,\n",
      "2,1,4,3,5,"
     ]
    }
   ],
   "source": [
    "class ListNode:\n",
    "    def __init__(self, x, next = None):\n",
    "        self.val = x\n",
    "        self.next = None\n",
    "\n",
    "\n",
    "def make_list(arr):\n",
    "    head_node = None\n",
    "    p_node = None\n",
    "    for a in arr:\n",
    "        new_node = ListNode(a)\n",
    "        if head_node is None:\n",
    "            head_node = new_node\n",
    "            p_node = new_node\n",
    "        else:\n",
    "            p_node.next = new_node\n",
    "            p_node = new_node\n",
    "    return head_node\n",
    "\n",
    "\n",
    "def print_list(head):\n",
    "    while head is not None:\n",
    "        print(head.val, end=',')\n",
    "        head = head.next\n",
    "    \n",
    "def reverseKGroup(head, k):\n",
    "    if head == None:\n",
    "        return head\n",
    "    def getKth(cur, k):\n",
    "        while cur and k>0:\n",
    "            cur = cur.next\n",
    "            k-=1\n",
    "        return cur\n",
    "        \n",
    "    dummy = ListNode(0)\n",
    "    dummy.next = head\n",
    "    groupPrev = dummy\n",
    "    \n",
    "    while True:\n",
    "        kth = getKth(groupPrev, k)\n",
    "        if not kth:\n",
    "            break\n",
    "        \n",
    "        groupNext = kth.next\n",
    "        \n",
    "        pre = groupNext\n",
    "        cur = groupPrev.next\n",
    "        future = cur.next\n",
    "        \n",
    "        while cur != groupNext:\n",
    "            future = cur.next\n",
    "            cur.next = pre\n",
    "            pre = cur\n",
    "            cur = future\n",
    "            \n",
    "        temp = groupPrev.next\n",
    "        groupPrev.next = kth\n",
    "        groupPrev = temp\n",
    "        \n",
    "    return dummy.next\n",
    "\n",
    "head = [1,2,3,4,5]\n",
    "k = 2\n",
    "\n",
    "# head = [1,2,3,4,5]\n",
    "# k = 3\n",
    "head = make_list(head)\n",
    "print_list(head)\n",
    "head = reverseKGroup(head, k)\n",
    "print()\n",
    "print_list(head)       "
   ]
  }
 ],
 "metadata": {
  "kernelspec": {
   "display_name": "leetcode_env",
   "language": "python",
   "name": "leetcode_env"
  },
  "language_info": {
   "codemirror_mode": {
    "name": "ipython",
    "version": 3
   },
   "file_extension": ".py",
   "mimetype": "text/x-python",
   "name": "python",
   "nbconvert_exporter": "python",
   "pygments_lexer": "ipython3",
   "version": "3.8.6"
  },
  "orig_nbformat": 4,
  "vscode": {
   "interpreter": {
    "hash": "846fd2d9bb562a436898b7cc368204fc2f9d44e5e9b051b4f6e855e721078f23"
   }
  }
 },
 "nbformat": 4,
 "nbformat_minor": 2
}
