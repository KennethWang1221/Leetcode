{
 "cells": [
  {
   "cell_type": "markdown",
   "metadata": {},
   "source": [
    "## Method1 - DIY - Preorder Traversal DFS\n",
    "same as Leetcode_0112_Path_Sum.ipynb"
   ]
  },
  {
   "cell_type": "code",
   "execution_count": 1,
   "metadata": {},
   "outputs": [
    {
     "name": "stdout",
     "output_type": "stream",
     "text": [
      "1026\n"
     ]
    }
   ],
   "source": [
    "class TreeNode(object):\n",
    "    def __init__(self, x):\n",
    "        if x == None:\n",
    "            self.val = None\n",
    "        else:\n",
    "            self.val = x\n",
    "        self.left = None\n",
    "        self.right = None \n",
    "\n",
    "\n",
    "def sumNumbers(root):\n",
    "    res = []\n",
    "    stack = [root]\n",
    "    path_list = [(root.val)]\n",
    "    \n",
    "    while stack:\n",
    "        cur = stack.pop(-1)\n",
    "        path = path_list.pop(-1)\n",
    "        if cur.right == None and cur.left == None:\n",
    "            res.append(int(path))\n",
    "        if cur.right:\n",
    "            stack.append(cur.right)\n",
    "            path_list.append(str(path)+str(cur.right.val))\n",
    "        if cur.left:\n",
    "            stack.append(cur.left)\n",
    "            path_list.append(str(path)+str(cur.left.val))\n",
    "\n",
    "    return sum(res)\n",
    "\n",
    "n1 = TreeNode(4)\n",
    "n2 = TreeNode(9)\n",
    "n3 = TreeNode(0)\n",
    "n4 = TreeNode(5)\n",
    "n5 = TreeNode(1)\n",
    "\n",
    "n1.left = n2\n",
    "n1.right = n3\n",
    "n2.left = n4\n",
    "n2.right = n5\n",
    "\n",
    "res = sumNumbers(n1)\n",
    "print(res)"
   ]
  },
  {
   "cell_type": "markdown",
   "metadata": {},
   "source": [
    "## Method2 - DFS\n",
    "https://www.youtube.com/watch?v=Jk16lZGFWxE"
   ]
  },
  {
   "cell_type": "code",
   "execution_count": 2,
   "metadata": {},
   "outputs": [
    {
     "name": "stdout",
     "output_type": "stream",
     "text": [
      "1026\n"
     ]
    }
   ],
   "source": [
    "class TreeNode(object):\n",
    "    def __init__(self, x):\n",
    "        if x == None:\n",
    "            self.val = None\n",
    "        else:\n",
    "            self.val = x\n",
    "        self.left = None\n",
    "        self.right = None \n",
    "\n",
    "\n",
    "def sumNumbers(root):\n",
    "    def dfs(cur, num):\n",
    "        if not cur: return 0\n",
    "\n",
    "        num = num * 10 + cur.val\n",
    "        if not cur.left and not cur.right: return num\n",
    "\n",
    "        return dfs(cur.left, num) + dfs(cur.right, num)\n",
    "\n",
    "\n",
    "    return dfs(root,0)\n",
    "\n",
    "n1 = TreeNode(4)\n",
    "n2 = TreeNode(9)\n",
    "n3 = TreeNode(0)\n",
    "n4 = TreeNode(5)\n",
    "n5 = TreeNode(1)\n",
    "\n",
    "n1.left = n2\n",
    "n1.right = n3\n",
    "n2.left = n4\n",
    "n2.right = n5\n",
    "\n",
    "res = sumNumbers(n1)\n",
    "print(res)"
   ]
  }
 ],
 "metadata": {
  "kernelspec": {
   "display_name": "leetcode_env",
   "language": "python",
   "name": "leetcode_env"
  },
  "language_info": {
   "codemirror_mode": {
    "name": "ipython",
    "version": 3
   },
   "file_extension": ".py",
   "mimetype": "text/x-python",
   "name": "python",
   "nbconvert_exporter": "python",
   "pygments_lexer": "ipython3",
   "version": "3.8.6"
  }
 },
 "nbformat": 4,
 "nbformat_minor": 2
}
