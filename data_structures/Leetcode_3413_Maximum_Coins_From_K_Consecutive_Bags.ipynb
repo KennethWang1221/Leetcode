{
 "cells": [
  {
   "cell_type": "markdown",
   "metadata": {},
   "source": [
    "## Method1 - Sliding Window"
   ]
  },
  {
   "cell_type": "code",
   "execution_count": 1,
   "metadata": {},
   "outputs": [
    {
     "name": "stdout",
     "output_type": "stream",
     "text": [
      "10\n"
     ]
    }
   ],
   "source": [
    "def maximumCoins(coins,k):\n",
    "    ans = 0\n",
    "    s = 0\n",
    "    coins.sort()  # Sort the coins by the start of each range\n",
    "    \n",
    "    j = 0\n",
    "    for i in range(len(coins)):\n",
    "        l, r, c = coins[i]  # Extract the left, right, and coin count for the current range\n",
    "        \n",
    "        # Add the coins from the current range [l, r] to the total sum\n",
    "        s += (r - l + 1) * c\n",
    "        \n",
    "        # Adjust the window from the left side (j) to maintain the size <= k\n",
    "        while r - k + 1 > coins[j][1]:\n",
    "            if coins[j][0] + k - 1 >= l:\n",
    "                # Calculate the new result considering the remaining coins\n",
    "                ans = max(ans, s - (r - (coins[j][0] + k - 1)) * c)\n",
    "            # Subtract the current range from the sum and move `j` to the next\n",
    "            s -= (coins[j][1] - coins[j][0] + 1) * coins[j][2]\n",
    "            j += 1\n",
    "        \n",
    "        # Now, process the current range with respect to the window [j, i]\n",
    "        if coins[j][0] + k - 1 >= r:\n",
    "            ans = max(ans, s)  # If we can fit all the coins, take the sum\n",
    "        else:\n",
    "            # Adjust the result considering the overlap with the current range\n",
    "            ans = max(ans, s - (r - k + 1 - coins[j][0]) * coins[j][2])\n",
    "            if coins[j][0] + k - 1 >= l:\n",
    "                ans = max(ans, s - (r - (coins[j][0] + k - 1)) * c)\n",
    "    \n",
    "    return ans\n",
    "print(maximumCoins(coins = [[8,10,1],[1,3,2],[5,6,4]], k = 4))"
   ]
  }
 ],
 "metadata": {
  "kernelspec": {
   "display_name": "leetcode_env",
   "language": "python",
   "name": "python3"
  },
  "language_info": {
   "codemirror_mode": {
    "name": "ipython",
    "version": 3
   },
   "file_extension": ".py",
   "mimetype": "text/x-python",
   "name": "python",
   "nbconvert_exporter": "python",
   "pygments_lexer": "ipython3",
   "version": "3.8.6"
  }
 },
 "nbformat": 4,
 "nbformat_minor": 2
}
