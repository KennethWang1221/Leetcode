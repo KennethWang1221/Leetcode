{
 "cells": [
  {
   "cell_type": "markdown",
   "metadata": {},
   "source": [
    "## Method1 - Backtracking"
   ]
  },
  {
   "cell_type": "code",
   "execution_count": 4,
   "metadata": {},
   "outputs": [
    {
     "name": "stdout",
     "output_type": "stream",
     "text": [
      "[-34, -10, -14, -10, 10]\n"
     ]
    }
   ],
   "source": [
    "def diffWaysToCompute(expression):\n",
    "    operations = {\n",
    "        '+': lambda x, y: x + y,\n",
    "        '-': lambda x, y: x - y,\n",
    "        '*': lambda x, y: x * y\n",
    "    }\n",
    "\n",
    "    def backtracking(left,right):\n",
    "        res = []\n",
    "        for i in range(left,right+1):\n",
    "            op = expression[i]\n",
    "            if op in operations:\n",
    "                nums1 = backtracking(left, i - 1)\n",
    "                nums2 = backtracking(i+1, right)\n",
    "\n",
    "                for n1 in nums1:\n",
    "                    for n2 in nums2:\n",
    "                        res.append(operations[op](n1,n2))\n",
    "        if res == []:\n",
    "            res.append(int(expression[left:right+1]))\n",
    "        return res\n",
    "\n",
    "    n = len(expression)\n",
    "    return backtracking(0, n-1)\n",
    "print(diffWaysToCompute(expression= \"2*3-4*5\"))"
   ]
  },
  {
   "cell_type": "markdown",
   "metadata": {},
   "source": [
    "## Method2 - Array"
   ]
  },
  {
   "cell_type": "code",
   "execution_count": 3,
   "metadata": {},
   "outputs": [
    {
     "name": "stdout",
     "output_type": "stream",
     "text": [
      "[-34, -10, -14, -10, 10]\n"
     ]
    }
   ],
   "source": [
    "def diffWaysToCompute(s):\n",
    "    def f(s):\n",
    "        res = []\n",
    "        for i, c in enumerate(s):\n",
    "            if c in '+-*':\n",
    "                for l in f(s[:i]):\n",
    "                    for r in f(s[i + 1:]):\n",
    "                        res.append(eval(f'{l}{c}{r}'))\n",
    "        \n",
    "        return res or [int(s)]\n",
    "    return f(s)\n",
    "print(diffWaysToCompute(s= \"2*3-4*5\"))"
   ]
  }
 ],
 "metadata": {
  "kernelspec": {
   "display_name": "leetcode_env",
   "language": "python",
   "name": "python3"
  },
  "language_info": {
   "codemirror_mode": {
    "name": "ipython",
    "version": 3
   },
   "file_extension": ".py",
   "mimetype": "text/x-python",
   "name": "python",
   "nbconvert_exporter": "python",
   "pygments_lexer": "ipython3",
   "version": "3.8.6"
  }
 },
 "nbformat": 4,
 "nbformat_minor": 2
}
