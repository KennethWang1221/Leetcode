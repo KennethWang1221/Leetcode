{
 "cells": [
  {
   "cell_type": "markdown",
   "metadata": {},
   "source": [
    "## Method1 - DIY - Stack"
   ]
  },
  {
   "cell_type": "code",
   "execution_count": 1,
   "metadata": {},
   "outputs": [
    {
     "name": "stdout",
     "output_type": "stream",
     "text": [
      "False\n",
      "False\n"
     ]
    }
   ],
   "source": [
    "def isValid(s):\n",
    "    preMap = {'(':')', '{':'}', '[':']'}\n",
    "    \n",
    "    n = len(s)\n",
    " \n",
    "    candidates = []\n",
    " \n",
    "    for i in range(n):\n",
    "        if s[i] in preMap:\n",
    "            candidates.append(preMap[s[i]])\n",
    "        elif s[i] in candidates:\n",
    "            if s[i] == candidates[-1]:\n",
    "                candidates.pop(-1)\n",
    "        else:\n",
    "            return False\n",
    "    return True if not candidates else False\n",
    " \n",
    "print(isValid(s=\"({{{{}}}))\"))\n",
    "print(isValid(s=\"]\"))"
   ]
  },
  {
   "cell_type": "code",
   "execution_count": 1,
   "metadata": {},
   "outputs": [
    {
     "name": "stdout",
     "output_type": "stream",
     "text": [
      "False\n",
      "False\n"
     ]
    }
   ],
   "source": [
    "def isValid(s):\n",
    "    if not s: return True\n",
    "    stack = []\n",
    "    n = len(s)\n",
    "    premap = {'(':')', '[':']', '{':'}'}\n",
    "\n",
    "    for i in range(n):\n",
    "        if s[i] in premap:\n",
    "            stack.append(s[i])\n",
    "        else:\n",
    "            if stack and s[i] == premap[stack[-1]]:\n",
    "                stack.pop(-1)\n",
    "            else:\n",
    "                return False\n",
    "\n",
    "    return False if stack else True\n",
    " \n",
    "print(isValid(s=\"({{{{}}}))\"))\n",
    "print(isValid(s=\"]\"))"
   ]
  },
  {
   "cell_type": "code",
   "execution_count": 10,
   "metadata": {},
   "outputs": [
    {
     "name": "stdout",
     "output_type": "stream",
     "text": [
      "False\n"
     ]
    }
   ],
   "source": [
    "def isValid(s):\n",
    "    store = {'(':')', '[':']','{':'}'}\n",
    "    record = []\n",
    "\n",
    "    for item in s:\n",
    "        if item in store:\n",
    "            record.append(item)\n",
    "\n",
    "        else:\n",
    "            if record != []:\n",
    "                if item != store[record.pop(-1)]: return False\n",
    "            else:\n",
    "                return False\n",
    "    \n",
    "    if record == []: return True\n",
    "    else: return False\n",
    "\n",
    "s = \"()[]{}\"\n",
    "s = \"(([]))\"\n",
    "s = \"[\"\n",
    "s = \"]\"\n",
    "res = isValid(s)\n",
    "print(res)"
   ]
  },
  {
   "cell_type": "markdown",
   "metadata": {},
   "source": [
    "## Method2 - Stack\n",
    "\n",
    "https://www.youtube.com/watch?v=WTzjTskDFMg"
   ]
  },
  {
   "cell_type": "code",
   "execution_count": 11,
   "metadata": {},
   "outputs": [
    {
     "name": "stdout",
     "output_type": "stream",
     "text": [
      "False\n"
     ]
    }
   ],
   "source": [
    "def isValid(s):\n",
    "    Map = {\")\": \"(\", \"]\": \"[\", \"}\": \"{\"}\n",
    "    stack = []\n",
    "\n",
    "    for c in s:\n",
    "        if c not in Map:\n",
    "            stack.append(c)\n",
    "            continue\n",
    "        if not stack or stack[-1] != Map[c]:\n",
    "            return False\n",
    "        stack.pop()\n",
    "\n",
    "    return not stack\n",
    "\n",
    "s = \"()[]{}\"\n",
    "s = \"(([]))\"\n",
    "s = \"[\"\n",
    "s = \"]\"\n",
    "res = isValid(s)\n",
    "print(res)"
   ]
  },
  {
   "cell_type": "code",
   "execution_count": 24,
   "metadata": {},
   "outputs": [
    {
     "data": {
      "text/plain": [
       "True"
      ]
     },
     "execution_count": 24,
     "metadata": {},
     "output_type": "execute_result"
    }
   ],
   "source": [
    "s = '[]'\n",
    "# s = '['\n",
    "# s = ']'\n",
    "#s = '([)]'\n",
    "s = \"()[]{}\"\n",
    "def isValid(s):\n",
    "    stack = []\n",
    "        \n",
    "    dic  = {'(':')', '{':'}','[':']'}\n",
    "    \n",
    "    for i in s:\n",
    "        if i in dic:\n",
    "            stack.append(i)\n",
    "        else:\n",
    "            if len(stack)==0:\n",
    "                return False\n",
    "            if i == dic[stack.pop(-1)]:\n",
    "                pass\n",
    "            else:\n",
    "                return False\n",
    "        \n",
    "    if len(stack) == 0:\n",
    "        return True\n",
    "    else:\n",
    "        \n",
    "        return False\n",
    "isValid(s)"
   ]
  },
  {
   "cell_type": "markdown",
   "metadata": {},
   "source": [
    "## Method2: Recap"
   ]
  },
  {
   "cell_type": "code",
   "execution_count": 1,
   "metadata": {},
   "outputs": [
    {
     "data": {
      "text/plain": [
       "True"
      ]
     },
     "execution_count": 1,
     "metadata": {},
     "output_type": "execute_result"
    }
   ],
   "source": [
    "s = '[]'\n",
    "# s = '['\n",
    "# s = ']'\n",
    "#s = '([)]'\n",
    "s = \"()[]{}\"\n",
    "def isValid(s):\n",
    "    valid = {'(':')', '[':']', '{':'}'}\n",
    "    \n",
    "    stack = []\n",
    "    \n",
    "    for i in s:\n",
    "        if stack and i in valid:\n",
    "            stack.append(i)\n",
    "        elif stack and i not in valid:\n",
    "            if valid[stack[-1]] == i:\n",
    "                stack.pop(-1)\n",
    "            else:\n",
    "                return False\n",
    "                \n",
    "        else:\n",
    "            if i not in valid:\n",
    "                return False\n",
    "            else:\n",
    "                \n",
    "                stack.append(i)\n",
    "        \n",
    "    if stack == []:\n",
    "        return True\n",
    "    else:\n",
    "        return False\n",
    "isValid(s)"
   ]
  },
  {
   "cell_type": "markdown",
   "metadata": {},
   "source": [
    "### debug trick"
   ]
  },
  {
   "cell_type": "markdown",
   "metadata": {},
   "source": [
    "error"
   ]
  },
  {
   "cell_type": "code",
   "execution_count": null,
   "metadata": {},
   "outputs": [],
   "source": [
    "\n",
    "def isValid(s):\n",
    "    stack = []\n",
    "    dic  = {'(':')', '{':'}','[':']'}\n",
    "    for i in s:\n",
    "        if i in dic:\n",
    "            stack.append(i)\n",
    "        # elif i == dic[stack.pop(-1)]:\n",
    "        #     print(\"s\")\n",
    "        else:\n",
    "            #return False\n",
    "            pass\n",
    "    #return True\n",
    "            \n",
    "s = '[]'\n",
    "isValid(s)"
   ]
  },
  {
   "cell_type": "markdown",
   "metadata": {},
   "source": [
    "correct"
   ]
  },
  {
   "cell_type": "code",
   "execution_count": 9,
   "metadata": {},
   "outputs": [
    {
     "name": "stdout",
     "output_type": "stream",
     "text": [
      "[]\n"
     ]
    }
   ],
   "source": [
    "s = '[]'\n",
    "def test(s):\n",
    "    stack = []\n",
    "    dic  = {'(':')', '{':'}','[':']'}\n",
    "    for i in s:\n",
    "        if i in dic:\n",
    "            stack.append(i)\n",
    "        else:\n",
    "            pass\n",
    "    print(stack)\n",
    "\n",
    "s = \"()[]{}\"\n",
    "s = \"(([]))\"\n",
    "s = \"[\"\n",
    "s = \"]\"\n",
    "test(s)"
   ]
  }
 ],
 "metadata": {
  "kernelspec": {
   "display_name": "leetcode_env",
   "language": "python",
   "name": "leetcode_env"
  },
  "language_info": {
   "codemirror_mode": {
    "name": "ipython",
    "version": 3
   },
   "file_extension": ".py",
   "mimetype": "text/x-python",
   "name": "python",
   "nbconvert_exporter": "python",
   "pygments_lexer": "ipython3",
   "version": "3.8.6"
  },
  "orig_nbformat": 4,
  "vscode": {
   "interpreter": {
    "hash": "846fd2d9bb562a436898b7cc368204fc2f9d44e5e9b051b4f6e855e721078f23"
   }
  }
 },
 "nbformat": 4,
 "nbformat_minor": 2
}
