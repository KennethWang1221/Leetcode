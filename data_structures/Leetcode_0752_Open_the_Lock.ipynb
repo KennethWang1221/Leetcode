{
 "cells": [
  {
   "attachments": {},
   "cell_type": "markdown",
   "metadata": {},
   "source": [
    "## Method1 - BFS\n",
    "https://www.youtube.com/watch?v=Pzg3bCDY87w"
   ]
  },
  {
   "cell_type": "code",
   "execution_count": 1,
   "metadata": {},
   "outputs": [
    {
     "name": "stdout",
     "output_type": "stream",
     "text": [
      "6\n"
     ]
    }
   ],
   "source": [
    "def openLock(deadends, target):\n",
    "    if \"0000\" in deadends:\n",
    "        return -1\n",
    "\n",
    "    def children(wheel):\n",
    "        res = []\n",
    "        for i in range(4):\n",
    "            digit = str((int(wheel[i]) + 1) % 10)\n",
    "            res.append(wheel[:i] + digit + wheel[i + 1 :])\n",
    "            digit = str((int(wheel[i]) + 10 - 1) % 10)\n",
    "            res.append(wheel[:i] + digit + wheel[i + 1 :])\n",
    "        return res\n",
    "\n",
    "    q = []\n",
    "    visit = set(deadends)\n",
    "    q.append([\"0000\", 0])  # [wheel, turns]\n",
    "    while q:\n",
    "        wheel, turns = q.pop(0)\n",
    "        if wheel == target:\n",
    "            return turns\n",
    "        for child in children(wheel):\n",
    "            if child not in visit:\n",
    "                visit.add(child)\n",
    "                q.append([child, turns + 1])\n",
    "    return -1\n",
    "\n",
    "deadends = [\"0201\",\"0101\",\"0102\",\"1212\",\"2002\"]\n",
    "target = \"0202\"\n",
    "res = openLock(deadends, target)\n",
    "print(res)"
   ]
  }
 ],
 "metadata": {
  "kernelspec": {
   "display_name": "leetcode_env",
   "language": "python",
   "name": "leetcode_env"
  },
  "language_info": {
   "codemirror_mode": {
    "name": "ipython",
    "version": 3
   },
   "file_extension": ".py",
   "mimetype": "text/x-python",
   "name": "python",
   "nbconvert_exporter": "python",
   "pygments_lexer": "ipython3",
   "version": "3.8.6"
  },
  "orig_nbformat": 4
 },
 "nbformat": 4,
 "nbformat_minor": 2
}
