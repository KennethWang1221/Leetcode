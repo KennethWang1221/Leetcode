{
 "cells": [
  {
   "cell_type": "markdown",
   "metadata": {},
   "source": [
    "## Method1 - UnionFind\n",
    "\n",
    "https://www.youtube.com/watch?v=6st4IxEF-90"
   ]
  },
  {
   "cell_type": "code",
   "execution_count": 1,
   "metadata": {},
   "outputs": [
    {
     "name": "stdout",
     "output_type": "stream",
     "text": [
      "['John', 'john00@mail.com', 'john_newyork@mail.com', 'johnsmith@mail.com']\n",
      "['John', 'johnnybravo@mail.com']\n",
      "['Mary', 'mary@mail.com']\n"
     ]
    }
   ],
   "source": [
    "from collections import defaultdict\n",
    "\n",
    "class UnionFind:\n",
    "    def __init__(self, n):\n",
    "        self.par = [i for i in range(n)]\n",
    "        self.rank = [1] * n\n",
    "\n",
    "    def find(self, x):\n",
    "        while x != self.par[x]:\n",
    "            self.par[x] = self.par[self.par[x]]  # Path compression\n",
    "            x = self.par[x]\n",
    "        return x\n",
    "\n",
    "    def union(self, x1, x2):\n",
    "        p1, p2 = self.find(x1), self.find(x2)\n",
    "        if p1 == p2:\n",
    "            return False\n",
    "        if self.rank[p1] > self.rank[p2]:\n",
    "            self.par[p2] = p1\n",
    "            self.rank[p1] += self.rank[p2]\n",
    "        else:\n",
    "            self.par[p1] = p2\n",
    "            self.rank[p2] += self.rank[p1]\n",
    "        return True\n",
    "\n",
    "\n",
    "class Solution:\n",
    "    def accountsMerge(self, accounts):\n",
    "        uf = UnionFind(len(accounts))\n",
    "        emailToAcc = {}  # email -> index of account\n",
    "\n",
    "        # Step 1: Union accounts based on common emails\n",
    "        for i, a in enumerate(accounts):\n",
    "            for e in a[1:]:\n",
    "                if e in emailToAcc:\n",
    "                    uf.union(i, emailToAcc[e])  # Union the account index\n",
    "                else:\n",
    "                    emailToAcc[e] = i  # Map email to current account index\n",
    "\n",
    "        # Step 2: Group emails by their root account index\n",
    "        emailGroup = defaultdict(list)  # index of account -> list of emails\n",
    "        for e, i in emailToAcc.items():\n",
    "            leader = uf.find(i)\n",
    "            emailGroup[leader].append(e)\n",
    "\n",
    "        # Step 3: Prepare the result\n",
    "        res = []\n",
    "        for i, emails in emailGroup.items():\n",
    "            name = accounts[i][0]\n",
    "            res.append([name] + sorted(emailGroup[i]))  # Concatenate name and sorted emails\n",
    "        return res\n",
    "\n",
    "\n",
    "# Test case\n",
    "sol = Solution()\n",
    "accounts = [\n",
    "    [\"John\", \"johnsmith@mail.com\", \"john00@mail.com\"],\n",
    "    [\"John\", \"johnnybravo@mail.com\"],\n",
    "    [\"John\", \"johnsmith@mail.com\", \"john_newyork@mail.com\"],\n",
    "    [\"Mary\", \"mary@mail.com\"]\n",
    "]\n",
    "\n",
    "res = sol.accountsMerge(accounts)\n",
    "\n",
    "for account in res:\n",
    "    print(account)\n"
   ]
  }
 ],
 "metadata": {
  "kernelspec": {
   "display_name": "leetcode_env",
   "language": "python",
   "name": "python3"
  },
  "language_info": {
   "codemirror_mode": {
    "name": "ipython",
    "version": 3
   },
   "file_extension": ".py",
   "mimetype": "text/x-python",
   "name": "python",
   "nbconvert_exporter": "python",
   "pygments_lexer": "ipython3",
   "version": "3.8.6"
  }
 },
 "nbformat": 4,
 "nbformat_minor": 2
}
