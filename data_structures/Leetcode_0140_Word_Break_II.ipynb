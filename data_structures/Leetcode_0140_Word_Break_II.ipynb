{
 "cells": [
  {
   "cell_type": "markdown",
   "metadata": {},
   "source": [
    "## Method1 - Backtrack\n",
    "\n",
    "https://www.youtube.com/watch?v=QgLKdluDo08"
   ]
  },
  {
   "cell_type": "code",
   "execution_count": 1,
   "metadata": {},
   "outputs": [
    {
     "name": "stdout",
     "output_type": "stream",
     "text": [
      "['cat sand dog', 'cats and dog']\n"
     ]
    }
   ],
   "source": [
    "def wordBreak(s, wordDict):\n",
    "    wordDict = set(wordDict)\n",
    "    n = len(s)\n",
    "    def backtrack(i):\n",
    "        if i == n:\n",
    "            return [\"\"]\n",
    "        \n",
    "        res = []\n",
    "        for j in range(i, n):\n",
    "            w = s[i: j+1]\n",
    "            if w not in wordDict:\n",
    "                continue\n",
    "            strings = backtrack(j+1)\n",
    "            if not strings:\n",
    "                continue\n",
    "            for substr in strings:\n",
    "                sentence = w\n",
    "                if substr:\n",
    "                    sentence += \" \" + substr\n",
    "\n",
    "                res.append(sentence)\n",
    "        return res\n",
    "\n",
    "    return backtrack(0)\n",
    "\n",
    "s = \"catsanddog\"\n",
    "wordDict = [\"cat\",\"cats\",\"and\",\"sand\",\"dog\"]\n",
    "print(wordBreak(s, wordDict))"
   ]
  },
  {
   "cell_type": "markdown",
   "metadata": {},
   "source": [
    "## Method2 - DFS + Memoization"
   ]
  },
  {
   "cell_type": "code",
   "execution_count": 3,
   "metadata": {},
   "outputs": [
    {
     "name": "stdout",
     "output_type": "stream",
     "text": [
      "['cat sand dog', 'cats and dog']\n",
      "['pineapple pen apple', 'pine applepen apple', 'pine apple pen apple']\n",
      "[]\n"
     ]
    }
   ],
   "source": [
    "def wordBreak(s, wordDict):\n",
    "    word_set = set(wordDict)  # For O(1) lookups\n",
    "    memo = {}  # start_index -> list of valid sentences from that index\n",
    "\n",
    "    def dfs(start):\n",
    "        # If we've reached the end of string s, return an empty sentence\n",
    "        if start == len(s):\n",
    "            return [\"\"]  # Return a list with an empty string\n",
    "\n",
    "        # If we already computed solutions for s[start:], return them\n",
    "        if start in memo:\n",
    "            return memo[start]\n",
    "\n",
    "        res = []\n",
    "        # Try each word in the dictionary\n",
    "        for w in word_set:\n",
    "            if s.startswith(w, start):\n",
    "                # 'w' matches s[start:start+len(w)]\n",
    "                sub_sentences = dfs(start + len(w))  # Solutions for the remaining substring\n",
    "                # Combine current word w with each of these solutions\n",
    "                for sub in sub_sentences:\n",
    "                    # If sub is empty, it means w ends exactly at the end of s or we are building\n",
    "                    # the first word in a sentence.\n",
    "                    if sub == \"\":\n",
    "                        res.append(w)\n",
    "                    else:\n",
    "                        res.append(w + \" \" + sub)\n",
    "\n",
    "        # Memoize the result for current 'start'\n",
    "        memo[start] = res\n",
    "        return res\n",
    "\n",
    "    return dfs(0)\n",
    "\n",
    "# ---------------------------------------------------------------\n",
    "# Examples\n",
    "print(wordBreak(\"catsanddog\", [\"cat\",\"cats\",\"and\",\"sand\",\"dog\"]))\n",
    "# Expected: [\"cats and dog\",\"cat sand dog\"] (order may vary)\n",
    "\n",
    "print(wordBreak(\"pineapplepenapple\", [\"apple\",\"pen\",\"applepen\",\"pine\",\"pineapple\"]))\n",
    "# Expected: [\"pine apple pen apple\",\"pineapple pen apple\",\"pine applepen apple\"]\n",
    "\n",
    "print(wordBreak(\"catsandog\", [\"cats\",\"dog\",\"sand\",\"and\",\"cat\"]))\n",
    "# Expected: []\n"
   ]
  }
 ],
 "metadata": {
  "kernelspec": {
   "display_name": "leetcode_env",
   "language": "python",
   "name": "leetcode_env"
  },
  "language_info": {
   "codemirror_mode": {
    "name": "ipython",
    "version": 3
   },
   "file_extension": ".py",
   "mimetype": "text/x-python",
   "name": "python",
   "nbconvert_exporter": "python",
   "pygments_lexer": "ipython3",
   "version": "3.8.6"
  }
 },
 "nbformat": 4,
 "nbformat_minor": 2
}
