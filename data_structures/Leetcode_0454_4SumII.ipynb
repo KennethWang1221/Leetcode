{
 "cells": [
  {
   "cell_type": "markdown",
   "metadata": {},
   "source": [
    "## Metho1 - HashMap\n",
    "\n",
    "https://github.com/youngyangyang04/leetcode-master/blob/master/problems/0454.%E5%9B%9B%E6%95%B0%E7%9B%B8%E5%8A%A0II.md"
   ]
  },
  {
   "cell_type": "code",
   "execution_count": 2,
   "metadata": {},
   "outputs": [
    {
     "name": "stdout",
     "output_type": "stream",
     "text": [
      "2\n"
     ]
    }
   ],
   "source": [
    "def fourSumCount(nums1, nums2, nums3, nums4):\n",
    "    count = {}\n",
    "    res = 0\n",
    "    for n1 in nums1:\n",
    "        for n2 in nums2:\n",
    "            diff = n1 + n2\n",
    "            count[diff] = count.get(diff,0) + 1\n",
    "    \n",
    "    for n3 in nums3:\n",
    "        for n4 in nums4:\n",
    "            diff = -1 * (n3+n4)\n",
    "            if diff in count:\n",
    "                res += count[diff]\n",
    "    return res\n",
    "nums1 = [1,2]\n",
    "nums2 = [-2,-1]\n",
    "nums3 = [-1,2]\n",
    "nums4 = [0,2]\n",
    "res = fourSumCount(nums1, nums2, nums3, nums4)\n",
    "print(res)"
   ]
  }
 ],
 "metadata": {
  "kernelspec": {
   "display_name": "Python 3.8.6 64-bit ('leetcode_env')",
   "language": "python",
   "name": "python3"
  },
  "language_info": {
   "codemirror_mode": {
    "name": "ipython",
    "version": 3
   },
   "file_extension": ".py",
   "mimetype": "text/x-python",
   "name": "python",
   "nbconvert_exporter": "python",
   "pygments_lexer": "ipython3",
   "version": "3.8.6"
  },
  "orig_nbformat": 4,
  "vscode": {
   "interpreter": {
    "hash": "846fd2d9bb562a436898b7cc368204fc2f9d44e5e9b051b4f6e855e721078f23"
   }
  }
 },
 "nbformat": 4,
 "nbformat_minor": 2
}
