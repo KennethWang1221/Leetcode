{
 "cells": [
  {
   "cell_type": "markdown",
   "metadata": {},
   "source": [
    "## Method1 - Greedy\n",
    "https://github.com/youngyangyang04/leetcode-master/blob/master/problems/0968.%E7%9B%91%E6%8E%A7%E4%BA%8C%E5%8F%89%E6%A0%91.md"
   ]
  },
  {
   "cell_type": "code",
   "execution_count": 1,
   "metadata": {},
   "outputs": [
    {
     "name": "stdout",
     "output_type": "stream",
     "text": [
      "2\n"
     ]
    }
   ],
   "source": [
    "class TreeNode:\n",
    "    def __init__(self, val=0, left=None, right=None):\n",
    "        self.val = val\n",
    "        self.left = left\n",
    "        self.right = right\n",
    "\n",
    "class Solution:\n",
    "    def minCameraCover(self, root: TreeNode) -> int:\n",
    "        result = [0]  # To keep track of the number of cameras\n",
    "        if self.traversal(root, result) == 0:  # If root is not covered, add a camera at root\n",
    "            result[0] += 1\n",
    "        return result[0]\n",
    "\n",
    "    def traversal(self, cur: TreeNode, result: list) -> int:\n",
    "        if not cur:\n",
    "            return 2  # If it's a null node, it's considered covered\n",
    "\n",
    "        left = self.traversal(cur.left, result)   # Recur on left child\n",
    "        right = self.traversal(cur.right, result)  # Recur on right child\n",
    "\n",
    "        # If both left and right children are covered, the current node is not covered\n",
    "        if left == 2 and right == 2:\n",
    "            return 0\n",
    "\n",
    "        # If either of the children is not covered, place a camera here\n",
    "        if left == 0 or right == 0:\n",
    "            result[0] += 1\n",
    "            return 1\n",
    "\n",
    "        # Otherwise, the current node is covered without needing a camera\n",
    "        return 2\n",
    "\n",
    "# Test case: Binary Tree structure\n",
    "#      0\n",
    "#     / \\\n",
    "#    0   0\n",
    "#   / \\\n",
    "#  0   0\n",
    "\n",
    "root = TreeNode(0)\n",
    "root.left = TreeNode(0)\n",
    "root.right = TreeNode(0)\n",
    "root.left.left = TreeNode(0)\n",
    "root.left.right = TreeNode(0)\n",
    "\n",
    "# Instantiate the Solution class and test it\n",
    "sol = Solution()\n",
    "print(sol.minCameraCover(root))  # Expected output: 2\n"
   ]
  }
 ],
 "metadata": {
  "kernelspec": {
   "display_name": "test_env",
   "language": "python",
   "name": "python3"
  },
  "language_info": {
   "codemirror_mode": {
    "name": "ipython",
    "version": 3
   },
   "file_extension": ".py",
   "mimetype": "text/x-python",
   "name": "python",
   "nbconvert_exporter": "python",
   "pygments_lexer": "ipython3",
   "version": "3.8.6"
  }
 },
 "nbformat": 4,
 "nbformat_minor": 2
}
