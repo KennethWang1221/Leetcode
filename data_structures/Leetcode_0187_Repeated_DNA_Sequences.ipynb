{
 "cells": [
  {
   "cell_type": "markdown",
   "metadata": {},
   "source": [
    "## Method1 - Hashset\n",
    "\n",
    "https://www.youtube.com/watch?v=FzTYfsmtOso"
   ]
  },
  {
   "cell_type": "code",
   "execution_count": 1,
   "metadata": {},
   "outputs": [
    {
     "name": "stdout",
     "output_type": "stream",
     "text": [
      "['AAAAACCCCC', 'CCCCCAAAAA']\n"
     ]
    }
   ],
   "source": [
    "def findRepeatedDnaSequences(s):\n",
    "    n = len(s)\n",
    "    iteration = n - 9\n",
    "    result = set()\n",
    "    record = set()\n",
    "    for i in range(iteration):\n",
    "        substr = s[i:i+10]\n",
    "        if substr in record:\n",
    "            result.add(substr)\n",
    "        record.add(substr)\n",
    "\n",
    "    return list(result)\n",
    "print(findRepeatedDnaSequences(s = \"AAAAACCCCCAAAAACCCCCCAAAAAGGGTTT\"))"
   ]
  }
 ],
 "metadata": {
  "kernelspec": {
   "display_name": "leetcode_env",
   "language": "python",
   "name": "python3"
  },
  "language_info": {
   "codemirror_mode": {
    "name": "ipython",
    "version": 3
   },
   "file_extension": ".py",
   "mimetype": "text/x-python",
   "name": "python",
   "nbconvert_exporter": "python",
   "pygments_lexer": "ipython3",
   "version": "3.8.6"
  }
 },
 "nbformat": 4,
 "nbformat_minor": 2
}
