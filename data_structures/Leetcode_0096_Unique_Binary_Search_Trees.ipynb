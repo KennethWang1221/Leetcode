{
 "cells": [
  {
   "cell_type": "markdown",
   "metadata": {},
   "source": [
    "## Method1 - 1D Bottom-UP DP\n",
    "https://www.youtube.com/watch?v=Ox0TenN3Zpg"
   ]
  },
  {
   "cell_type": "code",
   "execution_count": 3,
   "metadata": {},
   "outputs": [
    {
     "name": "stdout",
     "output_type": "stream",
     "text": [
      "5\n"
     ]
    }
   ],
   "source": [
    "def numTrees(n):\n",
    "    \"\"\"\n",
    "    numTree[4] = numTree[0] * numTree[3] +\n",
    "                 numTree[1] * numTree[2] +\n",
    "                 numTree[2] * numTree[1] +\n",
    "                 numTree[3] * numTree[1] +\n",
    "    \"\"\"\n",
    "    numTree = [1] * (n+1)\n",
    "\n",
    "    # 0 nodes = 1 tree / 1 nodes = 1 tree\n",
    "    for nodes in range(2, n + 1):\n",
    "        total = 0\n",
    "        for root in range(1, nodes + 1):\n",
    "            left = root - 1\n",
    "            right = nodes - root\n",
    "            total += numTree[left] * numTree[right]\n",
    "        numTree[nodes] = total\n",
    "    return numTree[n]\n",
    "n = 3\n",
    "print(numTrees(n))"
   ]
  },
  {
   "cell_type": "markdown",
   "metadata": {},
   "source": [
    "## Method2 - 1D Bottom-UP DP\n",
    "https://github.com/youngyangyang04/leetcode-master/blob/master/problems/0096.%E4%B8%8D%E5%90%8C%E7%9A%84%E4%BA%8C%E5%8F%89%E6%90%9C%E7%B4%A2%E6%A0%91.md"
   ]
  },
  {
   "cell_type": "code",
   "execution_count": 6,
   "metadata": {},
   "outputs": [
    {
     "name": "stdout",
     "output_type": "stream",
     "text": [
      "5\n"
     ]
    }
   ],
   "source": [
    "def numTrees(n: int) -> int:\n",
    "    dp = [0] * (n + 1)  # 创建一个长度为n+1的数组，初始化为0\n",
    "    dp[0] = 1  # 当n为0时，只有一种情况，即空树，空节点也是一棵二叉树 所以dp[0] = 1\n",
    "    for i in range(1, n + 1):  # 遍历从1到n的每个数字\n",
    "        for j in range(1, i + 1):  # 对于每个数字i，计算以i为根节点的二叉搜索树的数量\n",
    "            dp[i] += dp[j - 1] * dp[i - j]  # 利用动态规划的思想，累加左子树和右子树的组合数量\n",
    "    return dp[n]  # 返回以1到n为节点的二叉搜索树的总数量\n",
    "\n",
    "n = 3\n",
    "print(numTrees(n))"
   ]
  }
 ],
 "metadata": {
  "kernelspec": {
   "display_name": "test_env",
   "language": "python",
   "name": "test_env"
  },
  "language_info": {
   "codemirror_mode": {
    "name": "ipython",
    "version": 3
   },
   "file_extension": ".py",
   "mimetype": "text/x-python",
   "name": "python",
   "nbconvert_exporter": "python",
   "pygments_lexer": "ipython3",
   "version": "3.8.6"
  }
 },
 "nbformat": 4,
 "nbformat_minor": 2
}
