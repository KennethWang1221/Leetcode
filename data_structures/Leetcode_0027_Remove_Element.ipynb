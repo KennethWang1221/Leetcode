{
 "cells": [
  {
   "attachments": {},
   "cell_type": "markdown",
   "metadata": {},
   "source": [
    "## Method1 - Two Pointers\n",
    "https://www.youtube.com/watch?v=Pcd1ii9P9ZI"
   ]
  },
  {
   "cell_type": "code",
   "execution_count": 35,
   "metadata": {},
   "outputs": [
    {
     "name": "stdout",
     "output_type": "stream",
     "text": [
      "5\n"
     ]
    }
   ],
   "source": [
    "def removeElement(nums,val):\n",
    "    l = 0\n",
    "    n = len(nums)\n",
    "    for r in range(n):\n",
    "        if nums[r] != val:\n",
    "            nums[l] = nums[r]\n",
    "            l+=1\n",
    "    return l\n",
    "        \n",
    "nums = [0,1,2,2,3,0,4,2]\n",
    "val = 2\n",
    "res = removeElement(nums,val)\n",
    "print(res)"
   ]
  },
  {
   "cell_type": "markdown",
   "metadata": {},
   "source": [
    "## Method2 - Fast and Slow Pointers\n",
    "https://github.com/youngyangyang04/leetcode-master/blob/master/problems/0027.%E7%A7%BB%E9%99%A4%E5%85%83%E7%B4%A0.md"
   ]
  },
  {
   "cell_type": "code",
   "execution_count": 18,
   "metadata": {},
   "outputs": [
    {
     "name": "stdout",
     "output_type": "stream",
     "text": [
      "5\n"
     ]
    }
   ],
   "source": [
    "def removeElement(nums,val):\n",
    "    # 快慢指针\n",
    "    fast = 0  # 快指针\n",
    "    slow = 0  # 慢指针\n",
    "    size = len(nums)\n",
    "    while fast < size:  # 不加等于是因为，a = size 时，nums[a] 会越界\n",
    "        # slow 用来收集不等于 val 的值，如果 fast 对应值不等于 val，则把它与 slow 替换\n",
    "        if nums[fast] != val:\n",
    "            nums[slow] = nums[fast]\n",
    "            slow += 1\n",
    "        fast += 1\n",
    "    return slow\n",
    "        \n",
    "nums = [0,1,2,2,3,0,4,2]\n",
    "val = 2\n",
    "res = removeElement(nums,val)\n",
    "print(res)"
   ]
  },
  {
   "cell_type": "markdown",
   "metadata": {},
   "source": [
    "## Method3 - Brute-Force\n",
    "https://github.com/youngyangyang04/leetcode-master/blob/master/problems/0027.%E7%A7%BB%E9%99%A4%E5%85%83%E7%B4%A0.md"
   ]
  },
  {
   "cell_type": "code",
   "execution_count": 19,
   "metadata": {},
   "outputs": [
    {
     "name": "stdout",
     "output_type": "stream",
     "text": [
      "5\n"
     ]
    }
   ],
   "source": [
    "def removeElement(nums,val):\n",
    "    i, l = 0, len(nums)\n",
    "    while i < l:\n",
    "        if nums[i] == val: # 找到等于目标值的节点\n",
    "            for j in range(i+1, l): # 移除该元素，并将后面元素向前平移\n",
    "                nums[j - 1] = nums[j]\n",
    "            l -= 1\n",
    "            i -= 1\n",
    "        i += 1\n",
    "    return l\n",
    "nums = [0,1,2,2,3,0,4,2]\n",
    "val = 2\n",
    "res = removeElement(nums,val)\n",
    "print(res)"
   ]
  }
 ],
 "metadata": {
  "kernelspec": {
   "display_name": "test_env",
   "language": "python",
   "name": "python3"
  },
  "language_info": {
   "codemirror_mode": {
    "name": "ipython",
    "version": 3
   },
   "file_extension": ".py",
   "mimetype": "text/x-python",
   "name": "python",
   "nbconvert_exporter": "python",
   "pygments_lexer": "ipython3",
   "version": "3.8.6"
  },
  "orig_nbformat": 4
 },
 "nbformat": 4,
 "nbformat_minor": 2
}
