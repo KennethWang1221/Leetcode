{
 "cells": [
  {
   "cell_type": "markdown",
   "metadata": {},
   "source": [
    "## Method1 - Kadane's Algorithm\n",
    "https://www.youtube.com/watch?v=fxT9KjakYPM"
   ]
  },
  {
   "cell_type": "code",
   "execution_count": 4,
   "metadata": {},
   "outputs": [
    {
     "name": "stdout",
     "output_type": "stream",
     "text": [
      "3\n",
      "10\n",
      "-3\n"
     ]
    }
   ],
   "source": [
    "def maxSubarraySumCircular(nums):\n",
    "    globMax, globMin = nums[0], nums[0]\n",
    "    curMax, curMin = 0, 0\n",
    "    total = 0\n",
    "    \n",
    "    for i, n in enumerate(nums):\n",
    "        curMax = max(curMax + n, n)\n",
    "        curMin = min(curMin + n, n)\n",
    "        total += n\n",
    "        globMax = max(curMax, globMax)\n",
    "        globMin = min(curMin, globMin)\n",
    "\n",
    "    result = max(globMax, total - globMin) if globMax > 0 else globMax\n",
    "    return result\n",
    "\n",
    "print(maxSubarraySumCircular(nums = [1,-2,3,-2]))\n",
    "print(maxSubarraySumCircular(nums = [5,-3,5]))\n",
    "print(maxSubarraySumCircular(nums = [-5,-3,-5]))"
   ]
  }
 ],
 "metadata": {
  "kernelspec": {
   "display_name": "leetcode_env",
   "language": "python",
   "name": "leetcode_env"
  },
  "language_info": {
   "codemirror_mode": {
    "name": "ipython",
    "version": 3
   },
   "file_extension": ".py",
   "mimetype": "text/x-python",
   "name": "python",
   "nbconvert_exporter": "python",
   "pygments_lexer": "ipython3",
   "version": "3.8.6"
  }
 },
 "nbformat": 4,
 "nbformat_minor": 2
}
