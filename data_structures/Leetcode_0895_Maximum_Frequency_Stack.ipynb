{
 "cells": [
  {
   "cell_type": "markdown",
   "metadata": {},
   "source": [
    "## Method1 - Stack\n",
    "https://www.youtube.com/watch?v=Z6idIicFDOE"
   ]
  },
  {
   "cell_type": "code",
   "execution_count": 1,
   "metadata": {},
   "outputs": [
    {
     "name": "stdout",
     "output_type": "stream",
     "text": [
      "5\n",
      "7\n",
      "5\n"
     ]
    }
   ],
   "source": [
    "class FreqStack:\n",
    "    def __init__(self):\n",
    "        self.cnt = {}\n",
    "        self.maxCnt = 0\n",
    "        self.stacks = {}\n",
    "\n",
    "    def push(self, val: int) -> None:\n",
    "        valCnt = 1 + self.cnt.get(val, 0)\n",
    "        self.cnt[val] = valCnt\n",
    "        if valCnt > self.maxCnt:\n",
    "            self.maxCnt = valCnt\n",
    "            self.stacks[valCnt] = []\n",
    "        self.stacks[valCnt].append(val)\n",
    "\n",
    "    def pop(self) -> int:\n",
    "        res = self.stacks[self.maxCnt].pop()\n",
    "        self.cnt[res] -= 1\n",
    "        if not self.stacks[self.maxCnt]:\n",
    "            self.maxCnt -= 1\n",
    "        return res\n",
    "\n",
    "\n",
    "# Test case\n",
    "freq_stack = FreqStack()\n",
    "freq_stack.push(5)\n",
    "freq_stack.push(7)\n",
    "freq_stack.push(5)\n",
    "freq_stack.push(7)\n",
    "freq_stack.push(4)\n",
    "freq_stack.push(5)\n",
    "\n",
    "print(freq_stack.pop())  # Expected output: 5 (most frequent)\n",
    "print(freq_stack.pop())  # Expected output: 7 (next most frequent)\n",
    "print(freq_stack.pop())  # Expected output: 5 (most frequent)\n"
   ]
  }
 ],
 "metadata": {
  "kernelspec": {
   "display_name": "leetcode_env",
   "language": "python",
   "name": "python3"
  },
  "language_info": {
   "codemirror_mode": {
    "name": "ipython",
    "version": 3
   },
   "file_extension": ".py",
   "mimetype": "text/x-python",
   "name": "python",
   "nbconvert_exporter": "python",
   "pygments_lexer": "ipython3",
   "version": "3.8.6"
  }
 },
 "nbformat": 4,
 "nbformat_minor": 2
}
