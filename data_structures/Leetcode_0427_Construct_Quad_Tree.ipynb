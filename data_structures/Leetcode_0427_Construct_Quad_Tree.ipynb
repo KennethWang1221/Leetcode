{
 "cells": [
  {
   "cell_type": "markdown",
   "metadata": {},
   "source": [
    "## Method1 - Recursive - Divide - conquer - Binary Search\n",
    "\n",
    "https://www.youtube.com/watch?v=UQ-1sBMV0v4"
   ]
  },
  {
   "cell_type": "code",
   "execution_count": 5,
   "metadata": {},
   "outputs": [
    {
     "name": "stdout",
     "output_type": "stream",
     "text": [
      "Internal:\n",
      "Leaf: 1\n",
      "Leaf: 0\n",
      "Leaf: 1\n",
      "Leaf: 1\n"
     ]
    }
   ],
   "source": [
    "\n",
    "# Definition for a QuadTree node.\n",
    "class Node:\n",
    "    def __init__(self, val, isLeaf, topLeft, topRight, bottomLeft, bottomRight):\n",
    "        self.val = val  # Value of the node, '*' for internal nodes\n",
    "        self.isLeaf = isLeaf  # Boolean flag to check if it's a leaf node\n",
    "        self.topLeft = topLeft  # Top left child node\n",
    "        self.topRight = topRight  # Top right child node\n",
    "        self.bottomLeft = bottomLeft  # Bottom left child node\n",
    "        self.bottomRight = bottomRight  # Bottom right child node\n",
    "\n",
    "from typing import List\n",
    "\n",
    "class Solution:\n",
    "    def construct(self, grid: List[List[int]]) -> 'Node':\n",
    "        def dfs(n, r, c):\n",
    "            allSame = True  # Initialize a flag to check if all elements in the current grid section are the same\n",
    "            for i in range(n):\n",
    "                for j in range(n):\n",
    "                    if grid[r + i][c + j] != grid[r][c]:  # Compare each element with the first element\n",
    "                        allSame = False  # Set flag to False if any element is different\n",
    "                        break\n",
    "                if not allSame:\n",
    "                    break\n",
    "            \n",
    "            if allSame:\n",
    "                return Node(grid[r][c], True, None, None, None, None)  # If all elements are the same, return a leaf node\n",
    "            \n",
    "            n = n // 2  # Divide the size of the grid section by 2 for further subdivision\n",
    "            topleft = dfs(n, r, c)  # Recursively process the top-left quadrant\n",
    "            topright = dfs(n, r, c + n)  # Recursively process the top-right quadrant\n",
    "            bottomleft = dfs(n, r + n, c)  # Recursively process the bottom-left quadrant\n",
    "            bottomright = dfs(n, r + n, c + n)  # Recursively process the bottom-right quadrant\n",
    "        \n",
    "            return Node('*', False, topleft, topright, bottomleft, bottomright)  # Return an internal node with four children\n",
    "\n",
    "        return dfs(len(grid), 0, 0)  # Start the recursion from the top-left corner of the grid\n",
    "\n",
    "# Test case for the Solution\n",
    "if __name__ == \"__main__\":\n",
    "    sol = Solution()\n",
    "    grid = [[1, 1, 0, 0], [1, 1, 0, 0], [1, 1, 1, 1], [1, 1, 1, 1]]\n",
    "    quad_tree = sol.construct(grid)\n",
    "    # Function to print the QuadTree for testing purposes\n",
    "    def print_quad_tree(node):\n",
    "        if node.isLeaf:\n",
    "            print(f\"Leaf: {node.val}\")  # Print leaf node value\n",
    "        else:\n",
    "            print(\"Internal:\")  # Indicate an internal node\n",
    "            if node.topLeft: print_quad_tree(node.topLeft)  # Recursively print top left child\n",
    "            if node.topRight: print_quad_tree(node.topRight)  # Recursively print top right child\n",
    "            if node.bottomLeft: print_quad_tree(node.bottomLeft)  # Recursively print bottom left child\n",
    "            if node.bottomRight: print_quad_tree(node.bottomRight)  # Recursively print bottom right child\n",
    "    \n",
    "    print_quad_tree(quad_tree)\n"
   ]
  },
  {
   "cell_type": "markdown",
   "metadata": {},
   "source": [
    "## Method2 - Chatgpt"
   ]
  },
  {
   "cell_type": "code",
   "execution_count": 2,
   "metadata": {},
   "outputs": [
    {
     "name": "stdout",
     "output_type": "stream",
     "text": [
      "Internal:\n",
      "Leaf: 1\n",
      "Leaf: 0\n",
      "Leaf: 1\n",
      "Leaf: 1\n"
     ]
    }
   ],
   "source": [
    "\n",
    "# Definition for a QuadTree node.\n",
    "class Node:\n",
    "    def __init__(self, val, isLeaf, topLeft, topRight, bottomLeft, bottomRight):\n",
    "        self.val = val  # Value of the node, '*' for internal nodes\n",
    "        self.isLeaf = isLeaf  # Boolean flag to check if it's a leaf node\n",
    "        self.topLeft = topLeft  # Top left child node\n",
    "        self.topRight = topRight  # Top right child node\n",
    "        self.bottomLeft = bottomLeft  # Bottom left child node\n",
    "        self.bottomRight = bottomRight  # Bottom right child node\n",
    "\n",
    "from typing import List\n",
    "\n",
    "class Solution:\n",
    "    def construct(self, grid: List[List[int]]) -> 'Node':\n",
    "        def isUniform(x, y, length):\n",
    "            val = grid[x][y]  # Initial value to compare against\n",
    "            for i in range(x, x + length):\n",
    "                for j in range(y, y + length):\n",
    "                    if grid[i][j] != val:  # Check if all elements in the square are the same\n",
    "                        return False\n",
    "            return True  # Return True if all elements are the same\n",
    "\n",
    "        def helper(x, y, length):\n",
    "            if length == 1 or isUniform(x, y, length):  # Base case: single element or uniform square\n",
    "                return Node(grid[x][y], True, None, None, None, None)\n",
    "\n",
    "            half = length // 2  # Calculate half the length to divide the grid\n",
    "            topLeft = helper(x, y, half)  # Recursively process top left quadrant\n",
    "            topRight = helper(x, y + half, half)  # Recursively process top right quadrant\n",
    "            bottomLeft = helper(x + half, y, half)  # Recursively process bottom left quadrant\n",
    "            bottomRight = helper(x + half, y + half, half)  # Recursively process bottom right quadrant\n",
    "            return Node('*', False, topLeft, topRight, bottomLeft, bottomRight)  # Create internal node\n",
    "\n",
    "        return helper(0, 0, len(grid))  # Start the recursion from the top-left corner of the grid\n",
    "\n",
    "# Test case for the Solution\n",
    "if __name__ == \"__main__\":\n",
    "    sol = Solution()\n",
    "    grid = [[1, 1, 0, 0], [1, 1, 0, 0], [1, 1, 1, 1], [1, 1, 1, 1]]\n",
    "    quad_tree = sol.construct(grid)\n",
    "    # Function to print the QuadTree for testing purposes\n",
    "    def print_quad_tree(node):\n",
    "        if node.isLeaf:\n",
    "            print(f\"Leaf: {node.val}\")  # Print leaf node value\n",
    "        else:\n",
    "            print(\"Internal:\")  # Indicate an internal node\n",
    "            if node.topLeft: print_quad_tree(node.topLeft)  # Recursively print top left child\n",
    "            if node.topRight: print_quad_tree(node.topRight)  # Recursively print top right child\n",
    "            if node.bottomLeft: print_quad_tree(node.bottomLeft)  # Recursively print bottom left child\n",
    "            if node.bottomRight: print_quad_tree(node.bottomRight)  # Recursively print bottom right child\n",
    "    \n",
    "    print_quad_tree(quad_tree)\n"
   ]
  }
 ],
 "metadata": {
  "kernelspec": {
   "display_name": "test_env",
   "language": "python",
   "name": "python3"
  },
  "language_info": {
   "codemirror_mode": {
    "name": "ipython",
    "version": 3
   },
   "file_extension": ".py",
   "mimetype": "text/x-python",
   "name": "python",
   "nbconvert_exporter": "python",
   "pygments_lexer": "ipython3",
   "version": "3.8.10"
  }
 },
 "nbformat": 4,
 "nbformat_minor": 2
}
