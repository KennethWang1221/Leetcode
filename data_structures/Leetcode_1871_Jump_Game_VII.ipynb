{
 "cells": [
  {
   "cell_type": "markdown",
   "metadata": {},
   "source": [
    "## Method1 - Greedy\n",
    "\n",
    "https://www.youtube.com/watch?v=v1HpZUnQ4Yo"
   ]
  },
  {
   "cell_type": "code",
   "execution_count": 4,
   "metadata": {},
   "outputs": [
    {
     "name": "stdout",
     "output_type": "stream",
     "text": [
      "True\n",
      "False\n"
     ]
    }
   ],
   "source": [
    "from collections import deque\n",
    "\n",
    "def canReach(s, minJump, maxJump):\n",
    "    q, farthest = deque([0]), 0\n",
    "\n",
    "    while q: \n",
    "        i = q.popleft()\n",
    "        start = max(i + minJump, farthest + 1)\n",
    "        for j in range(start, min(i + maxJump + 1, len(s))):\n",
    "            if s[j] == '0':\n",
    "                q.append(j)\n",
    "                if j == len(s) - 1:\n",
    "                    return True \n",
    "        farthest = i + maxJump \n",
    "\n",
    "    return False\n",
    "\n",
    "s = \"011010\"\n",
    "minJump = 2\n",
    "maxJump = 3\n",
    "print(canReach(s, minJump, maxJump))  # Output: True\n",
    "\n",
    "s2 = \"011011101\"\n",
    "print(canReach(s2, minJump, maxJump)) # Another test case"
   ]
  }
 ],
 "metadata": {
  "kernelspec": {
   "display_name": "leetcode_env",
   "language": "python",
   "name": "python3"
  },
  "language_info": {
   "codemirror_mode": {
    "name": "ipython",
    "version": 3
   },
   "file_extension": ".py",
   "mimetype": "text/x-python",
   "name": "python",
   "nbconvert_exporter": "python",
   "pygments_lexer": "ipython3",
   "version": "3.8.6"
  }
 },
 "nbformat": 4,
 "nbformat_minor": 2
}
