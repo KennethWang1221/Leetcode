{
 "cells": [
  {
   "cell_type": "code",
   "execution_count": 92,
   "metadata": {},
   "outputs": [
    {
     "name": "stdout",
     "output_type": "stream",
     "text": [
      "False\n"
     ]
    }
   ],
   "source": [
    "def checkRecord(s):\n",
    "    award = True\n",
    "    \n",
    "    n = len(s)\n",
    "    \n",
    "    A_count = 0\n",
    "    L_count = 0\n",
    "    \n",
    "    for i in range(n):\n",
    "        if s[i] == 'P':\n",
    "            L_count = 0 \n",
    "        elif s[i] == 'A':\n",
    "            A_count +=1\n",
    "            L_count = 0\n",
    "        elif s[i] == 'L':\n",
    "            L_count +=1 \n",
    "\n",
    "        if A_count >= 2 or L_count>=3:\n",
    "            return False\n",
    "\n",
    "    return True\n",
    "\n",
    "#s = \"PPALLP\"\n",
    "s = \"PPALLL\"\n",
    "#s = \"LPLL\"\n",
    "#s = \"LLLALL\"\n",
    "result = checkRecord(s)\n",
    "print(result)"
   ]
  },
  {
   "cell_type": "markdown",
   "metadata": {},
   "source": [
    "Knowledge about logical operator: and or "
   ]
  },
  {
   "cell_type": "code",
   "execution_count": 93,
   "metadata": {},
   "outputs": [
    {
     "name": "stdout",
     "output_type": "stream",
     "text": [
      "2\n",
      "2\n",
      "1\n",
      "False\n",
      "False\n",
      "A\n"
     ]
    }
   ],
   "source": [
    "print(1 and 2)\n",
    "print('1' and '2')\n",
    "print('2' and '1')\n",
    "print(True and False)\n",
    "print(False and True)\n",
    "print(\"B\" and \"C\" and \"A\")"
   ]
  },
  {
   "cell_type": "code",
   "execution_count": 63,
   "metadata": {},
   "outputs": [
    {
     "name": "stdout",
     "output_type": "stream",
     "text": [
      "L\n",
      "False\n",
      "False\n",
      "True\n",
      "False\n",
      "False\n",
      "False\n",
      "False\n"
     ]
    }
   ],
   "source": [
    "print(\"A\" and \"L\")\n",
    "print(True and False)\n",
    "print(False and True)\n",
    "print((0<1) and (1>0))\n",
    "print((1>0) and (1<0))\n",
    "print((1<0) and (1>0))\n",
    "print((1<0) == True and (1>0) == True)\n",
    "print((1>0) == True and (1<0) == True)"
   ]
  },
  {
   "cell_type": "code",
   "execution_count": 65,
   "metadata": {},
   "outputs": [
    {
     "name": "stdout",
     "output_type": "stream",
     "text": [
      "A\n",
      "True\n",
      "True\n",
      "True\n",
      "True\n",
      "True\n",
      "True\n",
      "True\n",
      "False\n"
     ]
    }
   ],
   "source": [
    "print(\"A\" or \"L\")\n",
    "print(True or False)\n",
    "print(False or True)\n",
    "print((0<1) or (1>0))\n",
    "print((1>0) or (1<0))\n",
    "print((1<0) or (1>0))\n",
    "print((1<0) == True or (1>0) == True)\n",
    "print((1>0) == True or (1<0) == True)\n",
    "print(False or False)"
   ]
  },
  {
   "cell_type": "code",
   "execution_count": 94,
   "metadata": {},
   "outputs": [
    {
     "name": "stdout",
     "output_type": "stream",
     "text": [
      "False\n"
     ]
    }
   ],
   "source": [
    "s1 = False\n",
    "s2 = True\n",
    "\n",
    "if (s1 and s2) == True:\n",
    "    print(True)\n",
    "else:\n",
    "    print(False)"
   ]
  },
  {
   "cell_type": "code",
   "execution_count": 40,
   "metadata": {},
   "outputs": [
    {
     "name": "stdout",
     "output_type": "stream",
     "text": [
      "A L\n",
      "False\n"
     ]
    }
   ],
   "source": [
    "s = \"LALL\"\n",
    "i = 0\n",
    "print(s[i+1],s[i+2])\n",
    "if (s[i+1] == 'L' and s[i+2] == 'L'):\n",
    "    print(s[i+1] and s[i+2])\n",
    "    print(True)\n",
    "else:\n",
    "    print(False)"
   ]
  },
  {
   "cell_type": "code",
   "execution_count": 61,
   "metadata": {},
   "outputs": [
    {
     "name": "stdout",
     "output_type": "stream",
     "text": [
      "2 1\n",
      "1\n",
      "False\n"
     ]
    }
   ],
   "source": [
    "s = [1,2,1,1]\n",
    "\n",
    "i = 0\n",
    "print(s[i+1],s[i+2])\n",
    "if (s[i+1] and s[i+2]) == '1':\n",
    "    print(s[i+1] and s[i+2])\n",
    "    print(True)\n",
    "else:\n",
    "    print(s[i+1] and s[i+2])\n",
    "    print(False)"
   ]
  },
  {
   "cell_type": "code",
   "execution_count": 62,
   "metadata": {},
   "outputs": [
    {
     "name": "stdout",
     "output_type": "stream",
     "text": [
      "2 1\n",
      "1\n",
      "True\n"
     ]
    }
   ],
   "source": [
    "s = [1,2,1,1]\n",
    "\n",
    "i = 0\n",
    "print(s[i+1],s[i+2])\n",
    "if (s[i+1] and s[i+2]) == True:\n",
    "    print(s[i+1] and s[i+2])\n",
    "    print(True)\n",
    "else:\n",
    "    print(s[i+1] and s[i+2])\n",
    "    print(False)"
   ]
  },
  {
   "cell_type": "code",
   "execution_count": 55,
   "metadata": {},
   "outputs": [
    {
     "name": "stdout",
     "output_type": "stream",
     "text": [
      "2 1\n",
      "1\n",
      "False\n"
     ]
    }
   ],
   "source": [
    "s = [1,2,1,1]\n",
    "\n",
    "i = 0\n",
    "print(s[i+1],s[i+2])\n",
    "if (s[i+1] == 1 and s[i+2] == 1):\n",
    "    print(s[i+1] and s[i+2])\n",
    "    print(True)\n",
    "else:\n",
    "    print(s[i+1] and s[i+2])\n",
    "    print(False)"
   ]
  },
  {
   "cell_type": "code",
   "execution_count": 60,
   "metadata": {},
   "outputs": [
    {
     "name": "stdout",
     "output_type": "stream",
     "text": [
      "有假则为假\n",
      "全真才为真\n"
     ]
    }
   ],
   "source": [
    "# https://kelepython.readthedocs.io/zh/latest/c01/c01_09.html\n",
    "# https://blog.csdn.net/shen_chengfeng/article/details/80470141\n",
    "bool_1 = True\n",
    "bool_2 = False\n",
    "bool_3 = True\n",
    "bool_4 = False\n",
    "if (bool_1 and bool_2) == False: # and 找 False/ or 找 True\n",
    "    print(\"有假则为假\")\n",
    "else:\n",
    "    print(\"false\")\n",
    "if bool_1 and bool_3:\n",
    "    print(\"全真才为真\")\n",
    "else:\n",
    "    print(\"false\")"
   ]
  }
 ],
 "metadata": {
  "kernelspec": {
   "display_name": "Python 3.8.6 64-bit ('leetcode_env')",
   "language": "python",
   "name": "python3"
  },
  "language_info": {
   "codemirror_mode": {
    "name": "ipython",
    "version": 3
   },
   "file_extension": ".py",
   "mimetype": "text/x-python",
   "name": "python",
   "nbconvert_exporter": "python",
   "pygments_lexer": "ipython3",
   "version": "3.8.6"
  },
  "orig_nbformat": 4,
  "vscode": {
   "interpreter": {
    "hash": "846fd2d9bb562a436898b7cc368204fc2f9d44e5e9b051b4f6e855e721078f23"
   }
  }
 },
 "nbformat": 4,
 "nbformat_minor": 2
}
