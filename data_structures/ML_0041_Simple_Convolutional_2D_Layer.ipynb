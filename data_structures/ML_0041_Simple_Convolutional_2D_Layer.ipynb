{
 "cells": [
  {
   "cell_type": "markdown",
   "metadata": {},
   "source": [
    "## ML - ML"
   ]
  },
  {
   "cell_type": "code",
   "execution_count": 1,
   "metadata": {},
   "outputs": [
    {
     "name": "stdout",
     "output_type": "stream",
     "text": [
      "Original Input Tensor (x):\n",
      " [[[[ 1  2  3  4]\n",
      "   [ 5  6  7  8]\n",
      "   [ 9 10 11 12]\n",
      "   [13 14 15 16]]\n",
      "\n",
      "  [[17 18 19 20]\n",
      "   [21 22 23 24]\n",
      "   [25 26 27 28]\n",
      "   [29 30 31 32]]]]\n",
      "Shape of x: (1, 2, 4, 4)\n"
     ]
    }
   ],
   "source": [
    "import numpy as np\n",
    " \n",
    "def conv2d(x, weights, bias=None, kernel_size=1, stride=1, padding=0, is_depthwise=False):\n",
    "    \"\"\"\n",
    "    Performs 2D convolution with configurable kernel size\n",
    "    Args:\n",
    "        x: Input tensor of shape [batch_size, in_channels, height, width]\n",
    "        weights: Weight tensor of shape [out_channels, in_channels, kernel_size, kernel_size]\n",
    "        bias: Optional bias tensor of shape [out_channels]\n",
    "        kernel_size: Size of convolution kernel (1 or 3 supported)\n",
    "        stride: Convolution stride\n",
    "        padding: Padding size\n",
    "        is_depthwise: Boolean indicating if this is a depthwise convolution\n",
    "    Returns:\n",
    "        Output tensor of shape [batch_size, out_channels, out_height, out_width]\n",
    "    \"\"\"\n",
    "    # Validate kernel size\n",
    "    if kernel_size not in [1, 3]:\n",
    "        raise ValueError(\"Only kernel sizes 1 and 3 are currently supported\")\n",
    "    \n",
    "    # Extract dimensions\n",
    "    batch_size, in_channels, height, width = x.shape\n",
    "    out_channels = weights.shape[0]\n",
    "    \n",
    "    # Handle 1x1 convolution using matrix multiplication\n",
    "    if kernel_size == 1:\n",
    "        # Reshape input to [batch_size, in_channels, height * width]\n",
    "        x_reshaped = x.reshape(batch_size, in_channels, -1)\n",
    "        \n",
    "        # Reshape weights to [out_channels, in_channels]\n",
    "        weights_reshaped = weights.reshape(out_channels, -1)\n",
    "        \n",
    "        # Perform matrix multiplication: [batch_size, height * width, in_channels] x [in_channels, out_channels]\n",
    "        result = np.matmul(x_reshaped.transpose(0, 2, 1), weights_reshaped.T)\n",
    "        \n",
    "        # Reshape back to [batch_size, out_channels, height, width]\n",
    "        result = result.reshape(batch_size, height, width, -1).transpose(0, 3, 1, 2)\n",
    "    \n",
    "    # Handle 3x3 convolution (traditional or depthwise)\n",
    "    else:\n",
    "        # Add padding if needed\n",
    "        if padding > 0:\n",
    "            pad_width = (\n",
    "                (0, 0),  # No padding for batch dimension\n",
    "                (0, 0),  # No padding for channel dimension\n",
    "                (padding, padding),  # Padding for height\n",
    "                (padding, padding)   # Padding for width\n",
    "            )\n",
    "            x_padded = np.pad(x, pad_width, mode='constant', constant_values=0)\n",
    "        else:\n",
    "            x_padded = x\n",
    "        \n",
    "        # Calculate output dimensions\n",
    "        out_height = (height + 2 * padding - kernel_size) // stride + 1\n",
    "        out_width = (width + 2 * padding - kernel_size) // stride + 1\n",
    "        \n",
    "        # Initialize output tensor with zeros\n",
    "        result = np.zeros((batch_size, out_channels, out_height, out_width))\n",
    "        \n",
    "        if is_depthwise:\n",
    "            # Perform depthwise convolution\n",
    "            for b in range(batch_size):\n",
    "                for c in range(in_channels):\n",
    "                    for h in range(out_height):\n",
    "                        for w in range(out_width):\n",
    "                            h_start = h * stride\n",
    "                            w_start = w * stride\n",
    "                            # Extract the current patch [kernel_size, kernel_size]\n",
    "                            patch = x_padded[b, c, h_start:h_start+kernel_size, w_start:w_start+kernel_size]\n",
    "                            # Perform element-wise multiplication and sum\n",
    "                            result[b, c, h, w] = np.sum(patch * weights[c, 0])\n",
    "        else:\n",
    "            # Perform traditional convolution\n",
    "            for b in range(batch_size):\n",
    "                for c_out in range(out_channels):\n",
    "                    for h in range(out_height):\n",
    "                        for w in range(out_width):\n",
    "                            h_start = h * stride\n",
    "                            w_start = w * stride\n",
    "                            # Extract the current patch across all input channels [in_channels, kernel_size, kernel_size]\n",
    "                            patch = x_padded[b, :, h_start:h_start+kernel_size, w_start:w_start+kernel_size]\n",
    "                            # Perform element-wise multiplication and sum\n",
    "                            result[b, c_out, h, w] = np.sum(patch * weights[c_out])\n",
    "    \n",
    "    # Add bias if provided\n",
    "    if bias is not None:\n",
    "        # Reshape bias to [1, out_channels, 1, 1] for broadcasting\n",
    "        result += bias.reshape(1, -1, 1, 1)\n",
    "    \n",
    "    return result\n",
    " \n",
    " \n",
    "# Define input tensor [1, 2, 4, 4]\n",
    "x = np.array([[\n",
    "    [[1, 2, 3, 4],\n",
    "        [5, 6, 7, 8],\n",
    "        [9, 10, 11, 12],\n",
    "        [13, 14, 15, 16]],\n",
    "    \n",
    "    [[17, 18, 19, 20],\n",
    "        [21, 22, 23, 24],\n",
    "        [25, 26, 27, 28],\n",
    "        [29, 30, 31, 32]]\n",
    "]])\n",
    "print(\"Original Input Tensor (x):\\n\", x)\n",
    "print(\"Shape of x:\", x.shape)"
   ]
  },
  {
   "cell_type": "markdown",
   "metadata": {},
   "source": [
    "### 1x1 Conv"
   ]
  },
  {
   "cell_type": "code",
   "execution_count": 2,
   "metadata": {},
   "outputs": [
    {
     "name": "stdout",
     "output_type": "stream",
     "text": [
      "\n",
      "1x1 Convolution Output:\n",
      " [[[[ 36  39  42  45]\n",
      "   [ 48  51  54  57]\n",
      "   [ 60  63  66  69]\n",
      "   [ 72  75  78  81]]\n",
      "\n",
      "  [[ 73  80  87  94]\n",
      "   [101 108 115 122]\n",
      "   [129 136 143 150]\n",
      "   [157 164 171 178]]]]\n",
      "Shape: (1, 2, 4, 4)\n"
     ]
    }
   ],
   "source": [
    "# Define weights for 1x1 convolution [2, 2, 1, 1]\n",
    "weights_1x1 = np.array([\n",
    "    [\n",
    "        [[1]],  # Output Channel 0, Input Channel 0\n",
    "        [[2]]   # Output Channel 0, Input Channel 1\n",
    "    ],\n",
    "    [\n",
    "        [[3]],  # Output Channel 1, Input Channel 0\n",
    "        [[4]]   # Output Channel 1, Input Channel 1\n",
    "    ]\n",
    "])\n",
    "# Bias for 1x1 convolution [2]\n",
    "bias_1x1 = np.array([1, 2])\n",
    "\n",
    "# Perform 1x1 convolution\n",
    "output_1x1 = conv2d(\n",
    "    x,\n",
    "    weights=weights_1x1,\n",
    "    bias=bias_1x1,\n",
    "    kernel_size=1,\n",
    "    stride=1,\n",
    "    padding=0,\n",
    "    is_depthwise=False\n",
    ")\n",
    "print(\"\\n1x1 Convolution Output:\\n\", output_1x1)\n",
    "print(\"Shape:\", output_1x1.shape)"
   ]
  },
  {
   "cell_type": "markdown",
   "metadata": {},
   "source": [
    "### 3x3 Conv"
   ]
  },
  {
   "cell_type": "code",
   "execution_count": 3,
   "metadata": {},
   "outputs": [
    {
     "name": "stdout",
     "output_type": "stream",
     "text": [
      "\n",
      "Traditional 3x3 Convolution Output:\n",
      " [[[[-36. -16. -16. -23.]\n",
      "   [-33.   0.   1.   4.]\n",
      "   [-45.   4.   5.  16.]\n",
      "   [-72. -24. -24. -27.]]]]\n",
      "Shape: (1, 1, 4, 4)\n"
     ]
    }
   ],
   "source": [
    "# weights_traditional = np.array([[\n",
    "#     [[1, 0, -1],\n",
    "#         [1, 0, -1],\n",
    "#         [1, 0, -1]],\n",
    "    \n",
    "#     [[0, 1, 0],\n",
    "#         [1, -4, 1],\n",
    "#         [0, 1, 0]]\n",
    "# ]]) \n",
    "\n",
    "weights_traditional = np.array([[\n",
    "    [[1, 0, -1],\n",
    "        [1, 1, -1],\n",
    "        [1, 0, -1]],\n",
    "    \n",
    "    [[0, 1, 0],\n",
    "        [1, -4, 1],\n",
    "        [0, 1, 0]]\n",
    "]])\n",
    "\n",
    "# Bias for Traditional 3x3 convolution [1]\n",
    "bias_traditional = np.array([0])\n",
    " \n",
    "# Perform Traditional 3x3 convolution padding = 1\n",
    "output_traditional = conv2d(\n",
    "    x,\n",
    "    weights=weights_traditional,\n",
    "    bias=bias_traditional,\n",
    "    kernel_size=3,\n",
    "    stride=1,\n",
    "    padding=1,\n",
    "    is_depthwise=False\n",
    ")\n",
    "\"\"\"\n",
    "x: 1,2,4,4 -> add padd -> 1,2,6,6\n",
    "w: 1,2,3,3\n",
    "o: 1,1,4,4\n",
    " \n",
    "x: 1,3,224,224 (pad = 1, strides = 2)\n",
    "w: 32,3,3,3\n",
    "o: 1,32,112,112\n",
    " \n",
    "\"\"\"\n",
    "print(\"\\nTraditional 3x3 Convolution Output:\\n\", output_traditional)\n",
    "print(\"Shape:\", output_traditional.shape)\n",
    " \n"
   ]
  },
  {
   "cell_type": "markdown",
   "metadata": {},
   "source": [
    "### 3x3 Conv with Padding = 0"
   ]
  },
  {
   "cell_type": "code",
   "execution_count": 4,
   "metadata": {},
   "outputs": [
    {
     "name": "stdout",
     "output_type": "stream",
     "text": [
      "\n",
      "Traditional 3x3 Convolution Output:\n",
      " [[[[0. 1.]\n",
      "   [4. 5.]]]]\n",
      "Shape: (1, 1, 2, 2)\n"
     ]
    }
   ],
   "source": [
    " \n",
    "# Perform Traditional 3x3 convolution\n",
    "output_traditional = conv2d(\n",
    "    x,\n",
    "    weights=weights_traditional,\n",
    "    bias=bias_traditional,\n",
    "    kernel_size=3,\n",
    "    stride=1,\n",
    "    padding=0,\n",
    "    is_depthwise=False\n",
    ")\n",
    "\"\"\"\n",
    "x: 1,2,4,4 -> add padd -> 1,2,6,6\n",
    "w: 1,2,3,3\n",
    "o: 1,1,4,4\n",
    " \n",
    "x: 1,3,224,224 (pad = 1, strides = 2)\n",
    "w: 32,3,3,3\n",
    "o: 1,32,112,112\n",
    " \n",
    "\"\"\"\n",
    "print(\"\\nTraditional 3x3 Convolution Output:\\n\", output_traditional)\n",
    "print(\"Shape:\", output_traditional.shape)"
   ]
  },
  {
   "cell_type": "markdown",
   "metadata": {},
   "source": [
    "### Depthwise Conv"
   ]
  },
  {
   "cell_type": "code",
   "execution_count": 5,
   "metadata": {},
   "outputs": [
    {
     "name": "stdout",
     "output_type": "stream",
     "text": [
      "\n",
      "Depthwise 3x3 Convolution Output:\n",
      " [[[[ -8.  -4.  -4.  10.]\n",
      "   [-18.  -6.  -6.  21.]\n",
      "   [-30.  -6.  -6.  33.]\n",
      "   [-24.  -4.  -4.  26.]]\n",
      "\n",
      "  [[-29. -14. -15. -37.]\n",
      "   [-20.   0.   0. -25.]\n",
      "   [-24.   0.   0. -29.]\n",
      "   [-61. -34. -35. -69.]]]]\n",
      "Shape: (1, 2, 4, 4)\n"
     ]
    }
   ],
   "source": [
    "# Define weights for Depthwise 3x3 convolution [2,1,3,3]\n",
    "weights_depthwise = np.array([\n",
    "    [\n",
    "        [[1, 0, -1],\n",
    "            [1, 0, -1],\n",
    "            [1, 0, -1]]\n",
    "    ],\n",
    "    [\n",
    "        [[0, 1, 0],\n",
    "            [1, -4, 1],\n",
    "            [0, 1, 0]]\n",
    "    ]\n",
    "])\n",
    "# Bias for Depthwise 3x3 convolution [2]\n",
    "bias_depthwise = np.array([0, 0])\n",
    " \n",
    "# Perform Depthwise 3x3 convolution\n",
    "output_depthwise = conv2d(\n",
    "    x,\n",
    "    weights=weights_depthwise,\n",
    "    bias=bias_depthwise,\n",
    "    kernel_size=3,\n",
    "    stride=1,\n",
    "    padding=1,\n",
    "    is_depthwise=True\n",
    ")\n",
    "print(\"\\nDepthwise 3x3 Convolution Output:\\n\", output_depthwise)\n",
    "print(\"Shape:\", output_depthwise.shape)"
   ]
  },
  {
   "cell_type": "markdown",
   "metadata": {},
   "source": [
    "## Example from https://www.deep-ml.com/problems/41"
   ]
  },
  {
   "cell_type": "code",
   "execution_count": 6,
   "metadata": {},
   "outputs": [
    {
     "name": "stdout",
     "output_type": "stream",
     "text": [
      "[[ 1.  1. -4.]\n",
      " [ 9.  7. -4.]\n",
      " [ 0. 14. 16.]]\n"
     ]
    }
   ],
   "source": [
    "import numpy as np\n",
    "\n",
    "def simple_conv2d(input_matrix: np.ndarray, kernel: np.ndarray, padding=1, stride=2):\n",
    "\tinput_height, input_width = input_matrix.shape\n",
    "\tkernel_height, kernel_width = kernel.shape\n",
    "\t# Your code here\n",
    "\n",
    "\tpad_width = (\n",
    "\t\t(padding, padding),  # Padding for height\n",
    "\t\t(padding, padding)   # Padding for width\n",
    "\t)\n",
    "\n",
    "\tx_padded = np.pad(input_matrix, pad_width, mode='constant', constant_values=0)\n",
    "        \n",
    "\tout_height = (input_height + 2 * padding - kernel_height) // stride + 1\n",
    "\tout_width = (input_width + 2 * padding - kernel_width) // stride + 1\n",
    "\n",
    "\tresult = np.zeros((out_height,out_width))\n",
    "\t\n",
    "\n",
    "\n",
    "\tfor h in range(out_height):\n",
    "\t\tfor w in range(out_width):\n",
    "\t\t\th_start = h * stride\n",
    "\t\t\tw_start = w * stride\n",
    "\t\t\t# Extract the current patch across all input channels [in_channels, kernel_size, kernel_size]\n",
    "\t\t\tpatch = x_padded[h_start:h_start+kernel_height, w_start:w_start+kernel_width]\n",
    "\t\t\t# Perform element-wise multiplication and sum\n",
    "\t\t\tresult[h, w] = np.sum(patch * kernel)\n",
    "\n",
    "\treturn result\n",
    "\n",
    "\n",
    "import numpy as np\n",
    "\n",
    "input_matrix = np.array([\n",
    "    [1, 2, 3, 4],\n",
    "    [5, 6, 7, 8],\n",
    "    [9, 10, 11, 12],\n",
    "    [13, 14, 15, 16]\n",
    "])\n",
    "\n",
    "kernel = np.array([\n",
    "    [1, 0],\n",
    "    [-1, 1]\n",
    "])\n",
    "\n",
    "padding = 1\n",
    "stride = 2\n",
    "\n",
    "output = simple_conv2d(input_matrix, kernel, padding, stride)\n",
    "print(output)\n"
   ]
  }
 ],
 "metadata": {
  "kernelspec": {
   "display_name": "leetcode_env",
   "language": "python",
   "name": "python3"
  },
  "language_info": {
   "codemirror_mode": {
    "name": "ipython",
    "version": 3
   },
   "file_extension": ".py",
   "mimetype": "text/x-python",
   "name": "python",
   "nbconvert_exporter": "python",
   "pygments_lexer": "ipython3",
   "version": "3.8.6"
  }
 },
 "nbformat": 4,
 "nbformat_minor": 2
}
