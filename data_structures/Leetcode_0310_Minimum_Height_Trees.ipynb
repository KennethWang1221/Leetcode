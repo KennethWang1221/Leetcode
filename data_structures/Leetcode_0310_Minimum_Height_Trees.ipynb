{
 "cells": [
  {
   "attachments": {},
   "cell_type": "markdown",
   "metadata": {},
   "source": [
    "## Method1 - Graph - Topological \n",
    "https://turingplanet.org/2020/09/18/leetcode_planning_list/#Array<br>\n",
    "https://leetcode.com/problems/minimum-height-trees/solutions/2677980/python-linear-time-solution-using-topological-sorting/<br>\n",
    "https://www.youtube.com/watch?v=pUtxTz134qM"
   ]
  },
  {
   "attachments": {},
   "cell_type": "markdown",
   "metadata": {},
   "source": [
    "Need investigate ! "
   ]
  },
  {
   "cell_type": "code",
   "execution_count": 8,
   "metadata": {},
   "outputs": [
    {
     "name": "stdout",
     "output_type": "stream",
     "text": [
      "[3, 4]\n"
     ]
    }
   ],
   "source": [
    "from collections import defaultdict\n",
    "\n",
    "def findMinHeightTrees(n, edges):\n",
    "    if n == 1: return [0]\n",
    "    adj = defaultdict(list)\n",
    "    for edge in edges:\n",
    "        adj[edge[0]].append(edge[1])\n",
    "        adj[edge[1]].append(edge[0])\n",
    "    queue, degrees = [], {}\n",
    "    for node, neighbors in adj.items():\n",
    "        degrees[node] = len(neighbors)\n",
    "        # Insert all leaves into our priority queue.\n",
    "        if degrees[node] == 1:\n",
    "            queue.append(node)\n",
    "    ans = []\n",
    "    while queue:\n",
    "        nodes = []\n",
    "        while queue:\n",
    "            nodes.append(queue.pop())\n",
    "        ans = nodes\n",
    "        for node in nodes:\n",
    "            degrees[node] -= 1\n",
    "            for neighbor in adj[node]:\n",
    "                degrees[neighbor] -= 1\n",
    "                if degrees[neighbor] == 1:\n",
    "                    queue.append(neighbor)\n",
    "    return ans\n",
    "\n",
    "n = 6\n",
    "edges = [[3,0],[3,1],[3,2],[3,4],[5,4]]\n",
    "\n",
    "res = findMinHeightTrees(n, edges)\n",
    "print(res)"
   ]
  },
  {
   "attachments": {},
   "cell_type": "markdown",
   "metadata": {},
   "source": [
    "The Minimum Height Trees problem is a graph theory problem that asks us to find the minimum height trees in an undirected graph. In other words, we need to find the nodes in the graph that, if removed, would result in a new graph with the smallest maximum distance from any remaining node to the nearest leaf node.\n",
    "\n",
    "One possible solution to this problem is to use a topological sorting algorithm, such as Kahn's algorithm, to identify the leaf nodes in the graph. We can then iteratively remove these leaf nodes and their associated edges until we are left with one or two nodes, which will be the minimum height trees.\n",
    "\n",
    "Here is the step-by-step algorithm for finding the minimum height trees:\n",
    "\n",
    "Create an adjacency list representation of the graph.\n",
    "Initialize a set of leaf nodes to be all nodes with degree 1.\n",
    "While the number of nodes in the graph is greater than 2, do the following:\n",
    "a. Remove all the leaf nodes from the graph, updating the degrees of their neighbors accordingly.\n",
    "b. Add any new leaf nodes to the set of leaf nodes.\n",
    "Return the remaining nodes as the minimum height trees.\n",
    "Here is the Python code for implementing the above algorithm:"
   ]
  },
  {
   "cell_type": "code",
   "execution_count": 1,
   "metadata": {},
   "outputs": [
    {
     "name": "stdout",
     "output_type": "stream",
     "text": [
      "[3, 4]\n"
     ]
    }
   ],
   "source": [
    "from collections import defaultdict\n",
    "\n",
    "def findMinHeightTrees(n, edges):\n",
    "    if n == 1:\n",
    "        return [0]\n",
    "    adj_list = defaultdict(set)\n",
    "    for a, b in edges:\n",
    "        adj_list[a].add(b)\n",
    "        adj_list[b].add(a)\n",
    "    leaves = {i for i in range(n) if len(adj_list[i]) == 1}\n",
    "    while n > 2:\n",
    "        n -= len(leaves)\n",
    "        new_leaves = set()\n",
    "        for leaf in leaves:\n",
    "            neighbor = adj_list[leaf].pop()\n",
    "            adj_list[neighbor].remove(leaf)\n",
    "            if len(adj_list[neighbor]) == 1:\n",
    "                new_leaves.add(neighbor)\n",
    "        leaves = new_leaves\n",
    "    return list(leaves)\n",
    "\n",
    "\n",
    "n = 6\n",
    "edges = [[3,0],[3,1],[3,2],[3,4],[5,4]]\n",
    "\n",
    "res = findMinHeightTrees(n, edges)\n",
    "print(res)"
   ]
  },
  {
   "attachments": {},
   "cell_type": "markdown",
   "metadata": {},
   "source": [
    "The function takes in the number of nodes n and the edges of the graph as a list of pairs edges. It returns a list of the minimum height trees in the graph. If there is only one node in the graph, the function returns a list containing that node."
   ]
  }
 ],
 "metadata": {
  "kernelspec": {
   "display_name": "leetcode_env",
   "language": "python",
   "name": "python3"
  },
  "language_info": {
   "codemirror_mode": {
    "name": "ipython",
    "version": 3
   },
   "file_extension": ".py",
   "mimetype": "text/x-python",
   "name": "python",
   "nbconvert_exporter": "python",
   "pygments_lexer": "ipython3",
   "version": "3.8.6"
  },
  "orig_nbformat": 4,
  "vscode": {
   "interpreter": {
    "hash": "846fd2d9bb562a436898b7cc368204fc2f9d44e5e9b051b4f6e855e721078f23"
   }
  }
 },
 "nbformat": 4,
 "nbformat_minor": 2
}
