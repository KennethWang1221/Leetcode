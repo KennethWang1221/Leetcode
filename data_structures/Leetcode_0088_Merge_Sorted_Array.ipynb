{
 "cells": [
  {
   "attachments": {},
   "cell_type": "markdown",
   "metadata": {},
   "source": [
    "## Method1 - Bubble_sort"
   ]
  },
  {
   "cell_type": "code",
   "execution_count": 1,
   "metadata": {},
   "outputs": [
    {
     "name": "stdout",
     "output_type": "stream",
     "text": [
      "[1, 2, 2, 3, 5, 6]\n"
     ]
    }
   ],
   "source": [
    "def merge(nums1, m, nums2, n):\n",
    "\n",
    "    \"\"\"\n",
    "    Do not return anything, modify nums1 in-place instead.\n",
    "    \"\"\"\n",
    "    nums1[m:] = nums2\n",
    "    n = len(nums1)\n",
    "    for i in range(n):\n",
    "        for j in range(n-1-i):\n",
    "            if nums1[j]>nums1[j+1]:\n",
    "                nums1[j+1],nums1[j] = nums1[j],nums1[j+1]\n",
    "\n",
    "    print(nums1)\n",
    "\n",
    "nums1 = [2,0]\n",
    "m = 1\n",
    "nums2 = [1]\n",
    "n = 1\n",
    "nums1 = [1,2,3,0,0,0]\n",
    "m = 3\n",
    "nums2 = [2,5,6]\n",
    "n = 3\n",
    "merge(nums1, m, nums2, n)"
   ]
  },
  {
   "attachments": {},
   "cell_type": "markdown",
   "metadata": {},
   "source": [
    "## Recap Bubble_sort"
   ]
  },
  {
   "cell_type": "code",
   "execution_count": 3,
   "metadata": {},
   "outputs": [
    {
     "name": "stdout",
     "output_type": "stream",
     "text": [
      "No 1 outsdie 1 insdie 9 [2, 4, 1, 7, 8, 3, 9, 14, 16, 19]\n",
      "No 2 outsdie 2 insdie 8 [2, 1, 4, 7, 3, 8, 9, 14, 16, 19]\n",
      "No 3 outsdie 3 insdie 7 [1, 2, 4, 3, 7, 8, 9, 14, 16, 19]\n",
      "No 4 outsdie 4 insdie 6 [1, 2, 3, 4, 7, 8, 9, 14, 16, 19]\n",
      "No 5 outsdie 5 insdie 5 [1, 2, 3, 4, 7, 8, 9, 14, 16, 19]\n",
      "No 6 outsdie 6 insdie 4 [1, 2, 3, 4, 7, 8, 9, 14, 16, 19]\n",
      "No 7 outsdie 7 insdie 3 [1, 2, 3, 4, 7, 8, 9, 14, 16, 19]\n",
      "No 8 outsdie 8 insdie 2 [1, 2, 3, 4, 7, 8, 9, 14, 16, 19]\n",
      "No 9 outsdie 9 insdie 1 [1, 2, 3, 4, 7, 8, 9, 14, 16, 19]\n",
      "No 10 outsdie 10 insdie 0 [1, 2, 3, 4, 7, 8, 9, 14, 16, 19]\n"
     ]
    }
   ],
   "source": [
    "# Each loop, samll item go head, big item got tail\n",
    "def bubble_sort(array):\n",
    "    n = len(array)\n",
    "    i_count = 0\n",
    "    for i in range(n):\n",
    "        i_count +=1\n",
    "        j_count = 0\n",
    "        for j in range(n-1-i):\n",
    "            j_count +=1\n",
    "            if array[j]>array[j+1]:\n",
    "                array[j],array[j+1] = array[j+1],array[j]\n",
    "        print(\"No\",i_count,'outsdie',i_count,'insdie',j_count,array)\n",
    "array = [2,4,9,1,7,8,3,14,19,16]\n",
    "bubble_sort(array)"
   ]
  },
  {
   "attachments": {},
   "cell_type": "markdown",
   "metadata": {},
   "source": [
    "## Method2 - Two Pointers\n",
    "https://www.youtube.com/watch?v=P1Ic85RarKY"
   ]
  },
  {
   "cell_type": "code",
   "execution_count": 2,
   "metadata": {},
   "outputs": [
    {
     "name": "stdout",
     "output_type": "stream",
     "text": [
      "[1, 2, 2, 3, 5, 6]\n"
     ]
    }
   ],
   "source": [
    "def merge(nums1, m, nums2, n):\n",
    "    \"\"\"\n",
    "    Do not return anything, modify nums1 in-place instead.\n",
    "    \"\"\"\n",
    "    while m > 0 and n > 0:\n",
    "        if nums1[m-1] >= nums2[n-1]:\n",
    "            nums1[m+n-1] = nums1[m-1]\n",
    "            m -= 1\n",
    "        else:\n",
    "            nums1[m+n-1] = nums2[n-1]\n",
    "            n -= 1\n",
    "    if n > 0:\n",
    "        nums1[:n] = nums2[:n]\n",
    "\n",
    "    print(nums1)\n",
    "nums1 = [2,0]\n",
    "m = 1\n",
    "nums2 = [1]\n",
    "n = 1\n",
    "nums1 = [1,2,3,0,0,0]\n",
    "m = 3\n",
    "nums2 = [2,5,6]\n",
    "n = 3\n",
    "merge(nums1, m, nums2, n)"
   ]
  }
 ],
 "metadata": {
  "kernelspec": {
   "display_name": "leetcode_env",
   "language": "python",
   "name": "leetcode_env"
  },
  "language_info": {
   "codemirror_mode": {
    "name": "ipython",
    "version": 3
   },
   "file_extension": ".py",
   "mimetype": "text/x-python",
   "name": "python",
   "nbconvert_exporter": "python",
   "pygments_lexer": "ipython3",
   "version": "3.8.6"
  },
  "orig_nbformat": 4,
  "vscode": {
   "interpreter": {
    "hash": "846fd2d9bb562a436898b7cc368204fc2f9d44e5e9b051b4f6e855e721078f23"
   }
  }
 },
 "nbformat": 4,
 "nbformat_minor": 2
}
