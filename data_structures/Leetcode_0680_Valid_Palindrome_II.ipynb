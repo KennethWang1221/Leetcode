{
 "cells": [
  {
   "cell_type": "markdown",
   "metadata": {},
   "source": [
    "## Method1 - Two Pointers\n",
    "\n",
    "https://www.youtube.com/watch?v=JrxRYBwG6EI"
   ]
  },
  {
   "cell_type": "code",
   "execution_count": 1,
   "metadata": {},
   "outputs": [
    {
     "name": "stdout",
     "output_type": "stream",
     "text": [
      "True\n"
     ]
    }
   ],
   "source": [
    "def validPalindromeUtil(s, i, j):\n",
    "    while i < j:\n",
    "        if s[i] == s[j]:\n",
    "            i += 1\n",
    "            j -= 1\n",
    "        else:\n",
    "            return False\n",
    "    \n",
    "    return True\n",
    "    \n",
    "def validPalindrome(s):\n",
    "    i, j = 0, len(s) - 1\n",
    "    \n",
    "    while i < j:\n",
    "        if s[i] == s[j]:\n",
    "            i += 1\n",
    "            j -= 1\n",
    "        else:\n",
    "            return validPalindromeUtil(s, i + 1, j) or validPalindromeUtil(s, i, j - 1)\n",
    "    return True\n",
    "\n",
    "print(validPalindrome(s='cbbcc'))"
   ]
  }
 ],
 "metadata": {
  "kernelspec": {
   "display_name": "leetcode_env",
   "language": "python",
   "name": "python3"
  },
  "language_info": {
   "codemirror_mode": {
    "name": "ipython",
    "version": 3
   },
   "file_extension": ".py",
   "mimetype": "text/x-python",
   "name": "python",
   "nbconvert_exporter": "python",
   "pygments_lexer": "ipython3",
   "version": "3.8.6"
  }
 },
 "nbformat": 4,
 "nbformat_minor": 2
}
