{
 "cells": [
  {
   "cell_type": "markdown",
   "metadata": {},
   "source": [
    "## Method1 - Binary Search\n",
    "https://www.youtube.com/watch?v=nIVW4P8b1VA"
   ]
  },
  {
   "cell_type": "code",
   "execution_count": 1,
   "metadata": {},
   "outputs": [
    {
     "name": "stdout",
     "output_type": "stream",
     "text": [
      "1\n"
     ]
    }
   ],
   "source": [
    "def findMin(nums):\n",
    "    start , end = 0, len(nums) - 1 \n",
    "    curr_min = float(\"inf\")\n",
    "    \n",
    "    while start  <  end :\n",
    "        mid = start + (end - start ) // 2\n",
    "        curr_min = min(curr_min,nums[mid])\n",
    "        \n",
    "        # right has the min \n",
    "        if nums[mid] > nums[end]:\n",
    "            start = mid + 1\n",
    "            \n",
    "        # left has the  min \n",
    "        else:\n",
    "            end = mid - 1 \n",
    "            \n",
    "    return min(curr_min,nums[start])\n",
    "\n",
    "nums = [3,4,5,1,2]\n",
    "res = findMin(nums)\n",
    "print(res)"
   ]
  }
 ],
 "metadata": {
  "kernelspec": {
   "display_name": "leetcode_env",
   "language": "python",
   "name": "leetcode_env"
  },
  "language_info": {
   "codemirror_mode": {
    "name": "ipython",
    "version": 3
   },
   "file_extension": ".py",
   "mimetype": "text/x-python",
   "name": "python",
   "nbconvert_exporter": "python",
   "pygments_lexer": "ipython3",
   "version": "3.8.6"
  }
 },
 "nbformat": 4,
 "nbformat_minor": 2
}
