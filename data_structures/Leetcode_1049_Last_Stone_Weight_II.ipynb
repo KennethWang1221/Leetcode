{
 "cells": [
  {
   "cell_type": "markdown",
   "metadata": {},
   "source": [
    "## Bounded Knapsack Problem (BKP)"
   ]
  },
  {
   "cell_type": "markdown",
   "metadata": {},
   "source": [
    "## Method1 - 1D Top-Down DP\n",
    "https://www.youtube.com/watch?v=gdXkkmzvR3c"
   ]
  },
  {
   "cell_type": "code",
   "execution_count": 5,
   "metadata": {},
   "outputs": [
    {
     "name": "stdout",
     "output_type": "stream",
     "text": [
      "1\n"
     ]
    }
   ],
   "source": [
    "def lastStoneWeightII(stones):\n",
    "    # Memoization\n",
    "    stoneSum = sum(stones)\n",
    "    target = (stoneSum+1) // 2\n",
    "\n",
    "    def dfs(i, total):\n",
    "        if total >= target or i == len(stones):\n",
    "            return abs(total - (stoneSum - total))\n",
    "        if (i, total) in dp:\n",
    "            return dp[(i, total)]\n",
    "\n",
    "        dp[(i, total)] = min(dfs(i + 1, total),\n",
    "                                dfs(i + 1, total + stones[i]))\n",
    "        return dp[(i, total)]\n",
    "\n",
    "    dp = {}\n",
    "    return dfs(0, 0)\n",
    "\n",
    "stones = [2,7,4,1,8,1]\n",
    "print(lastStoneWeightII(stones))"
   ]
  },
  {
   "cell_type": "markdown",
   "metadata": {},
   "source": [
    "## Method2 - 1D Bottom-UP DP\n",
    "https://github.com/youngyangyang04/leetcode-master/blob/master/problems/1049.%E6%9C%80%E5%90%8E%E4%B8%80%E5%9D%97%E7%9F%B3%E5%A4%B4%E7%9A%84%E9%87%8D%E9%87%8FII.md"
   ]
  },
  {
   "cell_type": "code",
   "execution_count": 1,
   "metadata": {},
   "outputs": [
    {
     "name": "stdout",
     "output_type": "stream",
     "text": [
      "1\n"
     ]
    }
   ],
   "source": [
    "def lastStoneWeightII(stones):\n",
    "    dp = [0] * 15001\n",
    "    total_sum = sum(stones)\n",
    "    target = total_sum // 2\n",
    "\n",
    "    for stone in stones:  # 遍历物品\n",
    "        for j in range(target, stone - 1, -1):  # 遍历背包\n",
    "            dp[j] = max(dp[j], dp[j - stone] + stone)\n",
    "\n",
    "    return total_sum - dp[target] - dp[target]\n",
    "\n",
    "stones = [2,7,4,1,8,1]\n",
    "print(lastStoneWeightII(stones))"
   ]
  },
  {
   "cell_type": "markdown",
   "metadata": {},
   "source": [
    "## Method3 - 1D Bottom-UP DP\n",
    "https://github.com/youngyangyang04/leetcode-master/blob/master/problems/1049.%E6%9C%80%E5%90%8E%E4%B8%80%E5%9D%97%E7%9F%B3%E5%A4%B4%E7%9A%84%E9%87%8D%E9%87%8FII.md"
   ]
  },
  {
   "cell_type": "code",
   "execution_count": 2,
   "metadata": {},
   "outputs": [
    {
     "name": "stdout",
     "output_type": "stream",
     "text": [
      "1\n"
     ]
    }
   ],
   "source": [
    "def lastStoneWeightII(stones):\n",
    "    total_sum = sum(stones)\n",
    "    target = total_sum // 2\n",
    "    dp = [0] * (target + 1)\n",
    "    for stone in stones:\n",
    "        for j in range(target, stone - 1, -1):\n",
    "            dp[j] = max(dp[j], dp[j - stone] + stone)\n",
    "    return total_sum - 2* dp[-1]\n",
    "\n",
    "stones = [2,7,4,1,8,1]\n",
    "print(lastStoneWeightII(stones))"
   ]
  },
  {
   "cell_type": "markdown",
   "metadata": {},
   "source": [
    "## Method4 - 1D Bottom-UP DP\n",
    "https://github.com/youngyangyang04/leetcode-master/blob/master/problems/1049.%E6%9C%80%E5%90%8E%E4%B8%80%E5%9D%97%E7%9F%B3%E5%A4%B4%E7%9A%84%E9%87%8D%E9%87%8FII.md"
   ]
  },
  {
   "cell_type": "code",
   "execution_count": 4,
   "metadata": {},
   "outputs": [
    {
     "name": "stdout",
     "output_type": "stream",
     "text": [
      "1\n"
     ]
    }
   ],
   "source": [
    "def lastStoneWeightII(stones):\n",
    "    total_sum = sum(stones)\n",
    "    target = total_sum // 2\n",
    "    dp = [False] * (target + 1)\n",
    "    dp[0] = True\n",
    "\n",
    "    for stone in stones:\n",
    "        for j in range(target, stone - 1, -1):\n",
    "            # 判断当前重量是否可以通过选择之前的石头得到或选择当前石头和之前的石头得到\n",
    "            dp[j] = dp[j] or dp[j - stone]\n",
    "\n",
    "    for i in range(target, -1, -1):\n",
    "        if dp[i]:\n",
    "            # 返回剩余石头的重量，即总重量减去两倍的最接近总重量一半的重量\n",
    "            return total_sum - 2 * i\n",
    "\n",
    "    return 0\n",
    "\n",
    "stones = [2,7,4,1,8,1]\n",
    "print(lastStoneWeightII(stones))"
   ]
  },
  {
   "cell_type": "markdown",
   "metadata": {},
   "source": [
    "## Method5 - 2D Bottom-UP DP\n",
    "https://github.com/youngyangyang04/leetcode-master/blob/master/problems/1049.%E6%9C%80%E5%90%8E%E4%B8%80%E5%9D%97%E7%9F%B3%E5%A4%B4%E7%9A%84%E9%87%8D%E9%87%8FII.md"
   ]
  },
  {
   "cell_type": "code",
   "execution_count": 3,
   "metadata": {},
   "outputs": [
    {
     "name": "stdout",
     "output_type": "stream",
     "text": [
      "1\n"
     ]
    }
   ],
   "source": [
    "def lastStoneWeightII(stones):\n",
    "    total_sum = sum(stones)\n",
    "    target = total_sum // 2\n",
    "    n = len(stones)\n",
    "    # 创建二维dp数组，行数为石头的数量加1，列数为target加1\n",
    "    # dp[i][j]表示前i个石头能否组成总重量为j\n",
    "    dp = [[False] * (target + 1) for _ in range(n + 1)]\n",
    "    \n",
    "    # 初始化第一列，表示总重量为0时，前i个石头都能组成\n",
    "    for i in range(n + 1):\n",
    "        dp[i][0] = True\n",
    "    \n",
    "    for i in range(1, n + 1):\n",
    "        for j in range(1, target + 1):\n",
    "            # 如果当前石头重量大于当前目标重量j，则无法选择该石头\n",
    "            if stones[i - 1] > j:\n",
    "                dp[i][j] = dp[i - 1][j]\n",
    "            else:\n",
    "                # 可选择该石头或不选择该石头\n",
    "                dp[i][j] = dp[i - 1][j] or dp[i - 1][j - stones[i - 1]]\n",
    "    \n",
    "    # 找到最大的重量i，使得dp[n][i]为True\n",
    "    # 返回总重量减去两倍的最接近总重量一半的重量\n",
    "    for i in range(target, -1, -1):\n",
    "        if dp[n][i]:\n",
    "            return total_sum - 2 * i\n",
    "    \n",
    "    return 0\n",
    "stones = [2,7,4,1,8,1]\n",
    "print(lastStoneWeightII(stones))"
   ]
  }
 ],
 "metadata": {
  "kernelspec": {
   "display_name": "test_env",
   "language": "python",
   "name": "test_env"
  },
  "language_info": {
   "codemirror_mode": {
    "name": "ipython",
    "version": 3
   },
   "file_extension": ".py",
   "mimetype": "text/x-python",
   "name": "python",
   "nbconvert_exporter": "python",
   "pygments_lexer": "ipython3",
   "version": "3.8.6"
  }
 },
 "nbformat": 4,
 "nbformat_minor": 2
}
