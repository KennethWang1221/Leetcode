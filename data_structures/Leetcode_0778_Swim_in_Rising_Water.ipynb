{
 "cells": [
  {
   "attachments": {},
   "cell_type": "markdown",
   "metadata": {},
   "source": [
    "## Method1 - Dijkstra's Algorithm\n",
    "\n",
    "https://www.youtube.com/watch?v=amvrKlMLuGY&list=PLot-Xpze53ldBT_7QA8NVot219jFNr_GI&index=19"
   ]
  },
  {
   "cell_type": "code",
   "execution_count": 2,
   "metadata": {},
   "outputs": [
    {
     "name": "stdout",
     "output_type": "stream",
     "text": [
      "3\n"
     ]
    }
   ],
   "source": [
    "import heapq\n",
    "def swimInWater(grid):\n",
    "    rows, cols = len(grid), len(grid[0])\n",
    "\n",
    "    visit = set()\n",
    "    minH = [[grid[0][0], 0, 0]]\n",
    "    directions = [[-1,0],[1,0],[0,-1],[0,1]]\n",
    "\n",
    "    visit.add((0,0))\n",
    "\n",
    "    while minH:\n",
    "        t, r, c = heapq.heappop(minH)\n",
    "\n",
    "        if r == rows-1 and c == cols -1:\n",
    "            return t\n",
    "        \n",
    "        for dr,dc in directions:\n",
    "            neiR, neiC = r+dr, c+dc\n",
    "            if (\n",
    "                neiR<0 or neiC<0\n",
    "                or neiR>=rows or neiC>=cols or \n",
    "                (neiR,neiC) in visit\n",
    "            ):\n",
    "                continue\n",
    "            visit.add((neiR,neiC))\n",
    "            heapq.heappush(minH, (max(t,grid[neiR][neiC]),neiR,neiC))\n",
    "\n",
    "\n",
    "\n",
    "\n",
    "\n",
    "grid = [[0,2],[1,3]]\n",
    "res = swimInWater(grid)\n",
    "print(res)"
   ]
  }
 ],
 "metadata": {
  "kernelspec": {
   "display_name": "leetcode_env",
   "language": "python",
   "name": "leetcode_env"
  },
  "language_info": {
   "codemirror_mode": {
    "name": "ipython",
    "version": 3
   },
   "file_extension": ".py",
   "mimetype": "text/x-python",
   "name": "python",
   "nbconvert_exporter": "python",
   "pygments_lexer": "ipython3",
   "version": "3.8.6"
  },
  "orig_nbformat": 4
 },
 "nbformat": 4,
 "nbformat_minor": 2
}
