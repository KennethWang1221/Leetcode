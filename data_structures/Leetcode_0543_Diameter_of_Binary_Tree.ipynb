{
 "cells": [
  {
   "cell_type": "markdown",
   "metadata": {},
   "source": [
    "## Method1 - DFS\n",
    "https://www.youtube.com/watch?v=K81C31ytOZE"
   ]
  },
  {
   "cell_type": "code",
   "execution_count": 3,
   "metadata": {},
   "outputs": [
    {
     "name": "stdout",
     "output_type": "stream",
     "text": [
      "3\n"
     ]
    }
   ],
   "source": [
    "from typing import Optional\n",
    "\n",
    "# Definition for a binary tree node.\n",
    "class TreeNode:\n",
    "    def __init__(self, val=0, left=None, right=None):\n",
    "        self.val = val\n",
    "        self.left = left\n",
    "        self.right = right\n",
    "\n",
    "class Solution:\n",
    "    def diameterOfBinaryTree(self, root: Optional[TreeNode]) -> int:\n",
    "        self.diameter = 0  # Stores the maximum diameter\n",
    "\n",
    "        def depth(node):\n",
    "            if not node:\n",
    "                return 0  # Base case: empty subtree has depth 0\n",
    "            \n",
    "            left_depth = depth(node.left)   # Recursively find left subtree depth\n",
    "            right_depth = depth(node.right) # Recursively find right subtree depth\n",
    "            \n",
    "            # Update the diameter: longest path through this node\n",
    "            self.diameter = max(self.diameter, left_depth + right_depth)\n",
    "            \n",
    "            return max(left_depth, right_depth) + 1  # Return the height of the subtree\n",
    "        \n",
    "        depth(root)  # Start DFS from the root\n",
    "        return self.diameter  # Return the max diameter found\n",
    "\n",
    "# Example Usage:\n",
    "root = TreeNode(1)\n",
    "root.left = TreeNode(2)\n",
    "root.right = TreeNode(3)\n",
    "root.left.left = TreeNode(4)\n",
    "root.left.right = TreeNode(5)\n",
    "\n",
    "sol = Solution()\n",
    "print(sol.diameterOfBinaryTree(root))  # Expected Output: 3\n"
   ]
  }
 ],
 "metadata": {
  "kernelspec": {
   "display_name": "leetcode_env",
   "language": "python",
   "name": "leetcode_env"
  },
  "language_info": {
   "codemirror_mode": {
    "name": "ipython",
    "version": 3
   },
   "file_extension": ".py",
   "mimetype": "text/x-python",
   "name": "python",
   "nbconvert_exporter": "python",
   "pygments_lexer": "ipython3",
   "version": "3.8.6"
  }
 },
 "nbformat": 4,
 "nbformat_minor": 2
}
