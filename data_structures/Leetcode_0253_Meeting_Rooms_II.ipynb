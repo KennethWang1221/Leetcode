{
 "cells": [
  {
   "cell_type": "markdown",
   "metadata": {},
   "source": [
    "## Method1 - Heap\n",
    "\n",
    "https://www.youtube.com/watch?v=FdzJmTCVyJU\n",
    "\n",
    "\n",
    "Given an array of meeting time intervals intervals where intervals[i] = [starti, endi], return the minimum number of conference rooms required.\n"
   ]
  },
  {
   "cell_type": "code",
   "execution_count": 1,
   "metadata": {},
   "outputs": [
    {
     "name": "stdout",
     "output_type": "stream",
     "text": [
      "2\n"
     ]
    }
   ],
   "source": [
    "import heapq\n",
    " \n",
    "def minMeetingRooms(intervals):\n",
    "    if not intervals:\n",
    "        return 0\n",
    "    # 按开始时间排序\n",
    "    intervals.sort(key=lambda x: x[0])\n",
    "    n = len(intervals)\n",
    "    # 初始化最小堆存储结束时间\n",
    "    heap = []\n",
    "    heapq.heappush(heap, intervals[0][1])\n",
    "    \n",
    "    for i in range(1,n):\n",
    "        curstart, curend = intervals[i][0], intervals[i][1]\n",
    "        # 如果当前会议的开始时间 >= 堆顶的结束时间 → 可以复用会议室\n",
    "        if curstart >= heap[0]:\n",
    "            heapq.heappop(heap)\n",
    "        # 压入当前会议的结束时间\n",
    "        heapq.heappush(heap, curend)\n",
    "    \n",
    "    return len(heap)\n",
    " \n",
    "# print(minMeetingRooms([[0,30],[5,10],[15,20]]))  # 输出2\n",
    "# print(minMeetingRooms([[7,10],[2,4]]))          # 输出1\n",
    "print(minMeetingRooms([[5,8],[6,8]]))           # 输出2\n",
    " "
   ]
  },
  {
   "cell_type": "code",
   "execution_count": 2,
   "metadata": {},
   "outputs": [
    {
     "name": "stdout",
     "output_type": "stream",
     "text": [
      "2\n"
     ]
    }
   ],
   "source": [
    "import heapq\n",
    " \n",
    "def minMeetingRooms(intervals):\n",
    "    time = []\n",
    "    for start, end in intervals:\n",
    "        time.append((start, 1))\n",
    "        time.append((end, -1))\n",
    "    \n",
    "    time.sort(key=lambda x: (x[0], x[1]))\n",
    "    \n",
    "    count = 0\n",
    "    max_count = 0\n",
    "    for t in time:\n",
    "        count += t[1]\n",
    "        max_count = max(max_count, count)\n",
    "    return max_count\n",
    " \n",
    "# print(minMeetingRooms([[0,30],[5,10],[15,20]]))  # 输出2\n",
    "# print(minMeetingRooms([[7,10],[2,4]]))          # 输出1\n",
    "print(minMeetingRooms([[5,8],[6,8]]))           # 输出2\n",
    " "
   ]
  }
 ],
 "metadata": {
  "kernelspec": {
   "display_name": "leetcode_env",
   "language": "python",
   "name": "python3"
  },
  "language_info": {
   "codemirror_mode": {
    "name": "ipython",
    "version": 3
   },
   "file_extension": ".py",
   "mimetype": "text/x-python",
   "name": "python",
   "nbconvert_exporter": "python",
   "pygments_lexer": "ipython3",
   "version": "3.8.6"
  }
 },
 "nbformat": 4,
 "nbformat_minor": 2
}
