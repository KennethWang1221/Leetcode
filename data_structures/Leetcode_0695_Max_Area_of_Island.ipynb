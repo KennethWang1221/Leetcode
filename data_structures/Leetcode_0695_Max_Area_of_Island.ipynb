{
 "cells": [
  {
   "attachments": {},
   "cell_type": "markdown",
   "metadata": {},
   "source": [
    "## Method1 - DFS\n",
    "https://www.youtube.com/watch?v=iJGr1OtmH0c"
   ]
  },
  {
   "cell_type": "code",
   "execution_count": 6,
   "metadata": {},
   "outputs": [
    {
     "name": "stdout",
     "output_type": "stream",
     "text": [
      "6\n"
     ]
    }
   ],
   "source": [
    "def numIslands(grid):\n",
    "        ROWS, COLS = len(grid), len(grid[0])\n",
    "        visit = set()\n",
    "\n",
    "        def dfs(r, c):\n",
    "            if (\n",
    "                r < 0\n",
    "                or r == ROWS\n",
    "                or c < 0\n",
    "                or c == COLS\n",
    "                or grid[r][c] == 0\n",
    "                or (r, c) in visit\n",
    "            ):\n",
    "                return 0\n",
    "            visit.add((r, c))\n",
    "            return 1 + dfs(r + 1, c) + dfs(r - 1, c) + dfs(r, c + 1) + dfs(r, c - 1)\n",
    "\n",
    "        area = 0\n",
    "        for r in range(ROWS):\n",
    "            for c in range(COLS):\n",
    "                area = max(area, dfs(r, c))\n",
    "        return area\n",
    "\n",
    "\n",
    "grid = [[0,0,1,0,0,0,0,1,0,0,0,0,0],[0,0,0,0,0,0,0,1,1,1,0,0,0],[0,1,1,0,1,0,0,0,0,0,0,0,0],[0,1,0,0,1,1,0,0,1,0,1,0,0],[0,1,0,0,1,1,0,0,1,1,1,0,0],[0,0,0,0,0,0,0,0,0,0,1,0,0],[0,0,0,0,0,0,0,1,1,1,0,0,0],[0,0,0,0,0,0,0,1,1,0,0,0,0]]\n",
    "\n",
    "res = numIslands(grid)\n",
    "print(res)"
   ]
  },
  {
   "cell_type": "markdown",
   "metadata": {},
   "source": [
    "## Method1 - Recap"
   ]
  },
  {
   "cell_type": "code",
   "execution_count": 4,
   "metadata": {},
   "outputs": [
    {
     "name": "stdout",
     "output_type": "stream",
     "text": [
      "6\n"
     ]
    }
   ],
   "source": [
    "def numIslands(grid):\n",
    "    rows, cols = len(grid), len(grid[0])\n",
    "    visited = set()\n",
    "    \n",
    "    def dfs(row, col):\n",
    "        if (row < 0 or row >= rows or \n",
    "            col < 0 or col >= cols or \n",
    "            grid[row][col] != 1 or \n",
    "            (row, col) in visited):\n",
    "            return 0\n",
    "\n",
    "        visited.add((row, col))\n",
    "        area = 1  # count current cell\n",
    "        # recursively visit all 4 directions\n",
    "        directions = [[-1,0], [1,0], [0,-1], [0,1]]\n",
    "        \n",
    "        for dr, dc in directions:\n",
    "            area += dfs(row + dr, col + dc)\n",
    "            \n",
    "        return area\n",
    "    \n",
    "    max_area = 0\n",
    "    for row in range(rows):\n",
    "        for col in range(cols):\n",
    "            if grid[row][col] == 1 and (row, col) not in visited:\n",
    "                max_area = max(max_area, dfs(row, col))\n",
    "                \n",
    "    return max_area\n",
    "\n",
    "grid = [[0,0,1,0,0,0,0,1,0,0,0,0,0],[0,0,0,0,0,0,0,1,1,1,0,0,0],[0,1,1,0,1,0,0,0,0,0,0,0,0],[0,1,0,0,1,1,0,0,1,0,1,0,0],[0,1,0,0,1,1,0,0,1,1,1,0,0],[0,0,0,0,0,0,0,0,0,0,1,0,0],[0,0,0,0,0,0,0,1,1,1,0,0,0],[0,0,0,0,0,0,0,1,1,0,0,0,0]]\n",
    "\n",
    "res = numIslands(grid)\n",
    "print(res)"
   ]
  },
  {
   "attachments": {},
   "cell_type": "markdown",
   "metadata": {},
   "source": [
    "## Method2 - DIY"
   ]
  },
  {
   "cell_type": "code",
   "execution_count": 5,
   "metadata": {},
   "outputs": [
    {
     "name": "stdout",
     "output_type": "stream",
     "text": [
      "6\n"
     ]
    }
   ],
   "source": [
    "def numIslands(grid):\n",
    "    islands = 0\n",
    "    area = 0\n",
    "    rows, cols = len(grid), len(grid[0])\n",
    "    visit = set()\n",
    "\n",
    "    def dfs(r,c):\n",
    "        q = []\n",
    "        q.append([r,c])\n",
    "        visit.add((r,c))\n",
    "        directions = [[-1,0],[1,0],[0,-1],[0,1]]\n",
    "        i_count = 0\n",
    "        i_count +=1\n",
    "        while q:\n",
    "            \n",
    "            r,c = q.pop(-1)\n",
    "            for dr,dc in directions:\n",
    "                row, col = r + dr, c+ dc\n",
    "                if (row >=0 and col >=0 and row <=rows-1  and col <=cols-1 and (row,col) not in visit and grid[row][col]==1):\n",
    "                    i_count +=1    \n",
    "                    q.append([row,col])\n",
    "                    visit.add((row,col))\n",
    "        return i_count\n",
    "    \n",
    "    for r in range(rows):\n",
    "        for c in range(cols):\n",
    "            if (grid[r][c] == 1 and (r,c) not in visit):\n",
    "                area = max((dfs(r,c)),area)\n",
    "                islands+=1\n",
    "    return area\n",
    "\n",
    "\n",
    "grid = [[0,0,1,0,0,0,0,1,0,0,0,0,0],[0,0,0,0,0,0,0,1,1,1,0,0,0],[0,1,1,0,1,0,0,0,0,0,0,0,0],[0,1,0,0,1,1,0,0,1,0,1,0,0],[0,1,0,0,1,1,0,0,1,1,1,0,0],[0,0,0,0,0,0,0,0,0,0,1,0,0],[0,0,0,0,0,0,0,1,1,1,0,0,0],[0,0,0,0,0,0,0,1,1,0,0,0,0]]\n",
    "\n",
    "res = numIslands(grid)\n",
    "print(res)"
   ]
  },
  {
   "cell_type": "markdown",
   "metadata": {},
   "source": [
    "## Method2 - BFS Recap"
   ]
  },
  {
   "cell_type": "code",
   "execution_count": 1,
   "metadata": {},
   "outputs": [
    {
     "name": "stdout",
     "output_type": "stream",
     "text": [
      "6\n"
     ]
    }
   ],
   "source": [
    "def numIslands(grid):\n",
    "    rows, cols = len(grid), len(grid[0])\n",
    "    res = [0]\n",
    "    visited = set()\n",
    "\n",
    "    def dfs(row, col):\n",
    "        area = 0  # Initialize area inside the dfs function\n",
    "        visited.add((row,col))\n",
    "        area += 1\n",
    "        q = [[row,col]]\n",
    "        directions = [[-1,0], [1,0], [0,-1], [0,1]]\n",
    "        while q:\n",
    "            row, col = q.pop(-1)\n",
    "            for dr, dc in directions:\n",
    "                r,c = row + dr, col + dc\n",
    "                if ((r>=0 and r<rows and c>=0 and c<cols) and (grid[r][c] == 1) and (r,c) not in visited):\n",
    "                    q.append([r,c])\n",
    "                    visited.add((r,c))\n",
    "                    area += 1\n",
    "        return area\n",
    "    \n",
    "    for row in range(rows):\n",
    "        for col in range(cols):\n",
    "            if ((row, col) not in visited and grid[row][col] == 1):\n",
    "                area = dfs(row,col)\n",
    "                res.append(area)             \n",
    "\n",
    "    return max(res)\n",
    "\n",
    "\n",
    "grid = [[0,0,1,0,0,0,0,1,0,0,0,0,0],[0,0,0,0,0,0,0,1,1,1,0,0,0],[0,1,1,0,1,0,0,0,0,0,0,0,0],[0,1,0,0,1,1,0,0,1,0,1,0,0],[0,1,0,0,1,1,0,0,1,1,1,0,0],[0,0,0,0,0,0,0,0,0,0,1,0,0],[0,0,0,0,0,0,0,1,1,1,0,0,0],[0,0,0,0,0,0,0,1,1,0,0,0,0]]\n",
    "\n",
    "res = numIslands(grid)\n",
    "print(res)"
   ]
  },
  {
   "attachments": {},
   "cell_type": "markdown",
   "metadata": {},
   "source": [
    "## Leetcode_0200_Number_of_Islands.ipynb"
   ]
  },
  {
   "cell_type": "code",
   "execution_count": 28,
   "metadata": {},
   "outputs": [
    {
     "name": "stdout",
     "output_type": "stream",
     "text": [
      "4\n",
      "1\n",
      "2\n",
      "[4, 1, 2]\n",
      "3\n"
     ]
    }
   ],
   "source": [
    "def numIslands(grid):\n",
    "    if not grid: return 0\n",
    "\n",
    "    rows, cols = len(grid), len(grid[0])\n",
    "    visited=set()\n",
    "    islands=0\n",
    "\n",
    "    def dfs(row,col):\n",
    "        q = []\n",
    "        visited.add((row,col))\n",
    "        q.append((row,col))\n",
    "        i_count=0\n",
    "        i_count+=1\n",
    "\n",
    "        while q:\n",
    "            #row,col = q.popleft()\n",
    "            row,col = q.pop(-1)\n",
    "            directions= [[-1,0], [1,0], [0,-1], [0,1]]\n",
    "            \n",
    "            for dr,dc in directions:\n",
    "                r,c = row + dr, col + dc\n",
    "                if (r) in range(rows) and (c) in range(cols) and grid[r][c] == '1' and (r ,c) not in visited:\n",
    "                    i_count+=1\n",
    "                    q.append((r , c ))\n",
    "                    visited.add((r, c ))\n",
    "        print(i_count)\n",
    "        return i_count\n",
    "    \n",
    "    area = []\n",
    "    for r in range(rows):\n",
    "        for c in range(cols):\n",
    "        \n",
    "            if grid[r][c] == \"1\" and (r,c) not in visited:\n",
    "                area.append(dfs(r,c))\n",
    "                islands +=1 \n",
    "    print(area)\n",
    "    return islands\n",
    "\n",
    "grid = [\n",
    "  [\"1\",\"1\",\"1\",\"1\",\"0\"],\n",
    "  [\"1\",\"1\",\"0\",\"1\",\"0\"],\n",
    "  [\"1\",\"1\",\"0\",\"0\",\"0\"],\n",
    "  [\"0\",\"0\",\"0\",\"0\",\"0\"]\n",
    "]\n",
    "\n",
    "grid = [\n",
    "  [\"1\",\"1\",\"1\",\"0\",\"0\"],\n",
    "  [\"1\",\"1\",\"0\",\"0\",\"0\"],\n",
    "  [\"1\",\"1\",\"0\",\"0\",\"0\"],\n",
    "  [\"0\",\"0\",\"0\",\"1\",\"1\"]\n",
    "]\n",
    "\n",
    "grid = [\n",
    "  [\"1\",\"1\",\"0\",\"0\",\"0\"],\n",
    "  [\"1\",\"1\",\"0\",\"0\",\"0\"],\n",
    "  [\"0\",\"0\",\"1\",\"0\",\"0\"],\n",
    "  [\"0\",\"0\",\"0\",\"1\",\"1\"]\n",
    "]\n",
    "\n",
    "res = numIslands(grid)\n",
    "print(res)"
   ]
  }
 ],
 "metadata": {
  "kernelspec": {
   "display_name": "test_env",
   "language": "python",
   "name": "python3"
  },
  "language_info": {
   "codemirror_mode": {
    "name": "ipython",
    "version": 3
   },
   "file_extension": ".py",
   "mimetype": "text/x-python",
   "name": "python",
   "nbconvert_exporter": "python",
   "pygments_lexer": "ipython3",
   "version": "3.8.10"
  },
  "orig_nbformat": 4
 },
 "nbformat": 4,
 "nbformat_minor": 2
}
