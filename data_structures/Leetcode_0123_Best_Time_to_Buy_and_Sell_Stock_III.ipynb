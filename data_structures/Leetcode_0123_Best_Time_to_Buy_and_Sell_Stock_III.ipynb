{
 "cells": [
  {
   "cell_type": "markdown",
   "metadata": {},
   "source": [
    "## Method1 - Multidimensional DP\n"
   ]
  },
  {
   "cell_type": "code",
   "execution_count": 1,
   "metadata": {},
   "outputs": [
    {
     "name": "stdout",
     "output_type": "stream",
     "text": [
      "6\n"
     ]
    }
   ],
   "source": [
    "def maxProfit(prices):\n",
    "    if not prices:\n",
    "        return 0\n",
    "\n",
    "    n = len(prices)\n",
    "    # Initialize the DP arrays\n",
    "    dp = [[0] * n for _ in range(3)]\n",
    "\n",
    "    for k in range(1, 3):\n",
    "        max_diff = -prices[0]\n",
    "        for i in range(1, n):\n",
    "            # dp[k][i-1] means no transaction on the ith day\n",
    "            # prices[i] + max_diff means selling on the ith day\n",
    "            dp[k][i] = max(dp[k][i-1], prices[i] + max_diff)\n",
    "            # Update max_diff to consider the best buying point\n",
    "            max_diff = max(max_diff, dp[k-1][i] - prices[i])\n",
    "\n",
    "    return dp[2][n-1]\n",
    "\n",
    "# Example usage:\n",
    "prices = [3,3,5,0,0,3,1,4]\n",
    "print(maxProfit(prices))  # Output: 6\n",
    "\n",
    "# Step-by-step explanation:\n",
    "# 1. We initialize a 2D list `dp` where dp[k][i] represents the maximum profit up to day i with at most k transactions.\n",
    "# 2. We iterate over the number of transactions (k) from 1 to 2.\n",
    "# 3. For each transaction, we maintain a variable `max_diff` which keeps track of the maximum difference between the profit of the previous transaction up to day i and the price on day i.\n",
    "# 4. For each day (i), we update dp[k][i] to be the maximum of not making a transaction on day i (dp[k][i-1]) or selling on day i (prices[i] + max_diff).\n",
    "# 5. We also update `max_diff` to consider the best buying point for the next days.\n",
    "# 6. Finally, we return dp[2][n-1], which contains the maximum profit with at most 2 transactions up to the last day.\n",
    "\n"
   ]
  }
 ],
 "metadata": {
  "kernelspec": {
   "display_name": "test_env",
   "language": "python",
   "name": "test_env"
  },
  "language_info": {
   "codemirror_mode": {
    "name": "ipython",
    "version": 3
   },
   "file_extension": ".py",
   "mimetype": "text/x-python",
   "name": "python",
   "nbconvert_exporter": "python",
   "pygments_lexer": "ipython3",
   "version": "3.8.6"
  }
 },
 "nbformat": 4,
 "nbformat_minor": 2
}
