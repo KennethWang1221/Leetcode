{
 "cells": [
  {
   "cell_type": "markdown",
   "metadata": {},
   "source": [
    "## Method1 - 2D Bottom-UP DP\n"
   ]
  },
  {
   "cell_type": "code",
   "execution_count": 1,
   "metadata": {},
   "outputs": [
    {
     "name": "stdout",
     "output_type": "stream",
     "text": [
      "6\n"
     ]
    }
   ],
   "source": [
    "def maxProfit(prices):\n",
    "    if not prices:\n",
    "        return 0\n",
    "\n",
    "    n = len(prices)\n",
    "    # Initialize the DP arrays\n",
    "    dp = [[0] * n for _ in range(3)]\n",
    "\n",
    "    for k in range(1, 3):\n",
    "        max_diff = -prices[0]\n",
    "        for i in range(1, n):\n",
    "            # dp[k][i-1] means no transaction on the ith day\n",
    "            # prices[i] + max_diff means selling on the ith day\n",
    "            dp[k][i] = max(dp[k][i-1], prices[i] + max_diff)\n",
    "            # Update max_diff to consider the best buying point\n",
    "            max_diff = max(max_diff, dp[k-1][i] - prices[i])\n",
    "\n",
    "    return dp[2][n-1]\n",
    "\n",
    "# Example usage:\n",
    "prices = [3,3,5,0,0,3,1,4]\n",
    "print(maxProfit(prices))  # Output: 6\n",
    "\n",
    "# Step-by-step explanation:\n",
    "# 1. We initialize a 2D list `dp` where dp[k][i] represents the maximum profit up to day i with at most k transactions.\n",
    "# 2. We iterate over the number of transactions (k) from 1 to 2.\n",
    "# 3. For each transaction, we maintain a variable `max_diff` which keeps track of the maximum difference between the profit of the previous transaction up to day i and the price on day i.\n",
    "# 4. For each day (i), we update dp[k][i] to be the maximum of not making a transaction on day i (dp[k][i-1]) or selling on day i (prices[i] + max_diff).\n",
    "# 5. We also update `max_diff` to consider the best buying point for the next days.\n",
    "# 6. Finally, we return dp[2][n-1], which contains the maximum profit with at most 2 transactions up to the last day.\n",
    "\n"
   ]
  },
  {
   "cell_type": "markdown",
   "metadata": {},
   "source": [
    "## Method2 - 2D Bottom-UP DP\n",
    "https://github.com/youngyangyang04/leetcode-master/blob/master/problems/0123.%E4%B9%B0%E5%8D%96%E8%82%A1%E7%A5%A8%E7%9A%84%E6%9C%80%E4%BD%B3%E6%97%B6%E6%9C%BAIII.md"
   ]
  },
  {
   "cell_type": "code",
   "execution_count": 1,
   "metadata": {},
   "outputs": [
    {
     "name": "stdout",
     "output_type": "stream",
     "text": [
      "6\n"
     ]
    }
   ],
   "source": [
    "def maxProfit(prices):\n",
    "    if len(prices) == 0:\n",
    "        return 0\n",
    "    dp = [[0] * 5 for _ in range(len(prices))]\n",
    "    dp[0][1] = -prices[0]\n",
    "    dp[0][3] = -prices[0]\n",
    "    for i in range(1, len(prices)):\n",
    "        dp[i][0] = dp[i-1][0]\n",
    "        dp[i][1] = max(dp[i-1][1], dp[i-1][0] - prices[i])\n",
    "        dp[i][2] = max(dp[i-1][2], dp[i-1][1] + prices[i])\n",
    "        dp[i][3] = max(dp[i-1][3], dp[i-1][2] - prices[i])\n",
    "        dp[i][4] = max(dp[i-1][4], dp[i-1][3] + prices[i])\n",
    "    return dp[-1][4]\n",
    "# Example usage:\n",
    "prices = [3,3,5,0,0,3,1,4]\n",
    "print(maxProfit(prices))  # Output: 6\n",
    "\n"
   ]
  },
  {
   "cell_type": "markdown",
   "metadata": {},
   "source": [
    "## Method3 - 2D Bottom-UP DP\n",
    "https://github.com/youngyangyang04/leetcode-master/blob/master/problems/0123.%E4%B9%B0%E5%8D%96%E8%82%A1%E7%A5%A8%E7%9A%84%E6%9C%80%E4%BD%B3%E6%97%B6%E6%9C%BAIII.md"
   ]
  },
  {
   "cell_type": "code",
   "execution_count": 2,
   "metadata": {},
   "outputs": [
    {
     "name": "stdout",
     "output_type": "stream",
     "text": [
      "6\n"
     ]
    }
   ],
   "source": [
    "def maxProfit(prices):\n",
    "    if len(prices) == 0:\n",
    "        return 0\n",
    "    dp = [0] * 5 \n",
    "    dp[1] = -prices[0]\n",
    "    dp[3] = -prices[0]\n",
    "    for i in range(1, len(prices)):\n",
    "        dp[1] = max(dp[1], dp[0] - prices[i])\n",
    "        dp[2] = max(dp[2], dp[1] + prices[i])\n",
    "        dp[3] = max(dp[3], dp[2] - prices[i])\n",
    "        dp[4] = max(dp[4], dp[3] + prices[i])\n",
    "    return dp[4]\n",
    "# Example usage:\n",
    "prices = [3,3,5,0,0,3,1,4]\n",
    "print(maxProfit(prices))  # Output: 6"
   ]
  }
 ],
 "metadata": {
  "kernelspec": {
   "display_name": "test_env",
   "language": "python",
   "name": "test_env"
  },
  "language_info": {
   "codemirror_mode": {
    "name": "ipython",
    "version": 3
   },
   "file_extension": ".py",
   "mimetype": "text/x-python",
   "name": "python",
   "nbconvert_exporter": "python",
   "pygments_lexer": "ipython3",
   "version": "3.8.6"
  }
 },
 "nbformat": 4,
 "nbformat_minor": 2
}
