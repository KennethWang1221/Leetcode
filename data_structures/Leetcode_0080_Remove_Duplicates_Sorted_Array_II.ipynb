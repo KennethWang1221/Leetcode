{
 "cells": [
  {
   "attachments": {},
   "cell_type": "markdown",
   "metadata": {},
   "source": [
    "## Method1 - Two Pointers\n",
    "\n",
    "https://www.youtube.com/watch?v=ycAq8iqh0TI"
   ]
  },
  {
   "cell_type": "code",
   "execution_count": 2,
   "metadata": {},
   "outputs": [
    {
     "name": "stdout",
     "output_type": "stream",
     "text": [
      "7\n"
     ]
    }
   ],
   "source": [
    "def removeDuplicates(nums):\n",
    "    l,r, n = 0, 0, len(nums)\n",
    "\n",
    "    while r<n:\n",
    "        count = 1\n",
    "        while r+1 < n and nums[r] == nums[r+1]:\n",
    "            r+=1\n",
    "            count+=1\n",
    "        \n",
    "        for i in range(min(2,count)):\n",
    "            nums[l] = nums[r]\n",
    "            l += 1\n",
    "        r+=1\n",
    "    return l    \n",
    "\n",
    "nums = [0,0,1,1,1,1,2,3,3]\n",
    "res = removeDuplicates(nums)\n",
    "print(res)"
   ]
  },
  {
   "attachments": {},
   "cell_type": "markdown",
   "metadata": {},
   "source": [
    "## Leetcode-0026_remove_Deplicates_Sorted_Array"
   ]
  },
  {
   "cell_type": "code",
   "execution_count": 1,
   "metadata": {},
   "outputs": [
    {
     "name": "stdout",
     "output_type": "stream",
     "text": [
      "5\n"
     ]
    }
   ],
   "source": [
    "def removeDuplicates(nums):\n",
    "    L = 1\n",
    "    n = len(nums)\n",
    "    for R in range(1, n):\n",
    "        if nums[R]!=nums[R-1]:\n",
    "            nums[L] = nums[R]\n",
    "            L+=1\n",
    "    return L\n",
    "\n",
    "nums = [0,0,1,1,1,2,2,3,3,4]\n",
    "#nums = [1,2]\n",
    "result = removeDuplicates(nums)\n",
    "print(result)"
   ]
  },
  {
   "cell_type": "markdown",
   "metadata": {},
   "source": [
    "## Leetcode_0027_Remove_Element"
   ]
  },
  {
   "cell_type": "code",
   "execution_count": 1,
   "metadata": {},
   "outputs": [
    {
     "name": "stdout",
     "output_type": "stream",
     "text": [
      "5\n"
     ]
    }
   ],
   "source": [
    "def removeElement(nums,val):\n",
    "    l = 0\n",
    "    n = len(nums)\n",
    "    for r in range(n):\n",
    "        if nums[r] != val:\n",
    "            nums[l] = nums[r]\n",
    "            l+=1\n",
    "    return l\n",
    "        \n",
    "nums = [0,1,2,2,3,0,4,2]\n",
    "val = 2\n",
    "res = removeElement(nums,val)\n",
    "print(res)"
   ]
  }
 ],
 "metadata": {
  "kernelspec": {
   "display_name": "test_env",
   "language": "python",
   "name": "python3"
  },
  "language_info": {
   "codemirror_mode": {
    "name": "ipython",
    "version": 3
   },
   "file_extension": ".py",
   "mimetype": "text/x-python",
   "name": "python",
   "nbconvert_exporter": "python",
   "pygments_lexer": "ipython3",
   "version": "3.8.6"
  },
  "orig_nbformat": 4
 },
 "nbformat": 4,
 "nbformat_minor": 2
}
