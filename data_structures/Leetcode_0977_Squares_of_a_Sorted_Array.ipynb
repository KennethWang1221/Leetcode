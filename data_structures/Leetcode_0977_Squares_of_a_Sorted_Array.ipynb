{
 "cells": [
  {
   "cell_type": "markdown",
   "metadata": {},
   "source": [
    "## Method1 - DIY - Brute-Force"
   ]
  },
  {
   "cell_type": "code",
   "execution_count": 1,
   "metadata": {},
   "outputs": [
    {
     "name": "stdout",
     "output_type": "stream",
     "text": [
      "[0, 1, 9, 16, 100]\n"
     ]
    }
   ],
   "source": [
    "def sortedSquares(nums):\n",
    "    n = len(nums)\n",
    "    for i in range(n):\n",
    "        nums[i] = nums[i] * nums[i]\n",
    "    nums.sort()\n",
    "    return nums\n",
    "        \n",
    "nums = [-4,-1,0,3,10]\n",
    "res = sortedSquares(nums)\n",
    "print(res)"
   ]
  },
  {
   "cell_type": "markdown",
   "metadata": {},
   "source": [
    "## Method3 - Two - Pointers - Recap\n",
    "\n",
    "https://www.youtube.com/watch?v=FPCZsG_AkUg"
   ]
  },
  {
   "cell_type": "code",
   "execution_count": 2,
   "metadata": {},
   "outputs": [
    {
     "name": "stdout",
     "output_type": "stream",
     "text": [
      "[0, 1, 9, 16, 100]\n"
     ]
    }
   ],
   "source": [
    "def sortedSquares(nums):\n",
    "    n = len(nums)\n",
    "    l, r = 0, n-1\n",
    "    res = [0] * n\n",
    "    while l <=r:\n",
    "        left, right = abs(nums[l]), abs(nums[r])\n",
    "        if left < right:\n",
    "            res[r-l] = right*right\n",
    "            r -=1\n",
    "        else:\n",
    "            res[r-l] = left*left\n",
    "            l += 1\n",
    "    return res\n",
    "\n",
    "        \n",
    "nums = [-4,-1,0,3,10]\n",
    "res = sortedSquares(nums)\n",
    "print(res)"
   ]
  },
  {
   "cell_type": "markdown",
   "metadata": {},
   "source": [
    "## Method3 - Two - Pointers\n",
    "https://github.com/youngyangyang04/leetcode-master/blob/master/problems/0977.%E6%9C%89%E5%BA%8F%E6%95%B0%E7%BB%84%E7%9A%84%E5%B9%B3%E6%96%B9.md"
   ]
  },
  {
   "cell_type": "code",
   "execution_count": 3,
   "metadata": {},
   "outputs": [
    {
     "name": "stdout",
     "output_type": "stream",
     "text": [
      "[0, 1, 9, 16, 100]\n"
     ]
    }
   ],
   "source": [
    "def sortedSquares(nums):\n",
    "    l, r, i = 0, len(nums)-1, len(nums)-1\n",
    "    res = [float('inf')] * len(nums) # 需要提前定义列表，存放结果\n",
    "    while l <= r:\n",
    "        if nums[l] ** 2 < nums[r] ** 2: # 左右边界进行对比，找出最大值\n",
    "            res[i] = nums[r] ** 2\n",
    "            r -= 1 # 右指针往左移动\n",
    "        else:\n",
    "            res[i] = nums[l] ** 2\n",
    "            l += 1 # 左指针往右移动\n",
    "        i -= 1 # 存放结果的指针需要往前平移一位\n",
    "    return res\n",
    "        \n",
    "nums = [-4,-1,0,3,10]\n",
    "res = sortedSquares(nums)\n",
    "print(res)"
   ]
  }
 ],
 "metadata": {
  "kernelspec": {
   "display_name": "leetcode_env",
   "language": "python",
   "name": "python3"
  },
  "language_info": {
   "codemirror_mode": {
    "name": "ipython",
    "version": 3
   },
   "file_extension": ".py",
   "mimetype": "text/x-python",
   "name": "python",
   "nbconvert_exporter": "python",
   "pygments_lexer": "ipython3",
   "version": "3.8.6"
  }
 },
 "nbformat": 4,
 "nbformat_minor": 2
}
