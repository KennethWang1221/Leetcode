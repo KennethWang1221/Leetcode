{
 "cells": [
  {
   "cell_type": "markdown",
   "metadata": {},
   "source": [
    "## Method1 - Monotonic Stack\n",
    "\n",
    "https://www.youtube.com/watch?v=slYh0ZNEqSw"
   ]
  },
  {
   "cell_type": "code",
   "execution_count": 1,
   "metadata": {},
   "outputs": [
    {
     "name": "stdout",
     "output_type": "stream",
     "text": [
      "Testing StockSpanner:\n",
      "Price: 100 -> Span: 1 (expected: 1)\n",
      "Price: 80 -> Span: 1 (expected: 1)\n",
      "Price: 60 -> Span: 1 (expected: 1)\n",
      "Price: 70 -> Span: 2 (expected: 2)\n",
      "Price: 60 -> Span: 1 (expected: 1)\n",
      "Price: 75 -> Span: 4 (expected: 4)\n",
      "Price: 85 -> Span: 6 (expected: 6)\n"
     ]
    }
   ],
   "source": [
    "class StockSpanner:\n",
    "    def __init__(self):\n",
    "        self.stack = []  # Each element is a tuple: (price, span)\n",
    "\n",
    "    def next(self, price: int) -> int:\n",
    "        span = 1\n",
    "        while self.stack and self.stack[-1][0] <= price:\n",
    "            span += self.stack[-1][1]\n",
    "            self.stack.pop()\n",
    "        self.stack.append((price, span))\n",
    "        return span\n",
    "\n",
    "if __name__ == \"__main__\":\n",
    "    spanner = StockSpanner()\n",
    "    prices = [100, 80, 60, 70, 60, 75, 85]\n",
    "    expected = [1, 1, 1, 2, 1, 4, 6]  # Expected spans for each price\n",
    "\n",
    "    print(\"Testing StockSpanner:\")\n",
    "    for price, exp in zip(prices, expected):\n",
    "        result = spanner.next(price)\n",
    "        print(f\"Price: {price} -> Span: {result} (expected: {exp})\")\n"
   ]
  }
 ],
 "metadata": {
  "kernelspec": {
   "display_name": "leetcode_env",
   "language": "python",
   "name": "python3"
  },
  "language_info": {
   "codemirror_mode": {
    "name": "ipython",
    "version": 3
   },
   "file_extension": ".py",
   "mimetype": "text/x-python",
   "name": "python",
   "nbconvert_exporter": "python",
   "pygments_lexer": "ipython3",
   "version": "3.8.6"
  }
 },
 "nbformat": 4,
 "nbformat_minor": 2
}
