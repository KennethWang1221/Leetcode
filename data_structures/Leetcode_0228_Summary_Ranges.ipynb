{
 "cells": [
  {
   "cell_type": "markdown",
   "metadata": {},
   "source": [
    "## Method1 - Intervals - Top Interview 0049/150\n",
    "https://leetcode.com/problems/summary-ranges/solutions/3627119/python-java-c-simple-solution-easy-to-understand/?envType=study-plan-v2&envId=top-interview-150"
   ]
  },
  {
   "cell_type": "code",
   "execution_count": 17,
   "metadata": {},
   "outputs": [
    {
     "name": "stdout",
     "output_type": "stream",
     "text": [
      "['0', '2->4', '6', '8->9']\n"
     ]
    }
   ],
   "source": [
    "def summaryRanges(nums):\n",
    "    if not nums:\n",
    "        return []\n",
    "\n",
    "    ranges = []\n",
    "    start = nums[0]\n",
    "\n",
    "    for i in range(1, len(nums)):\n",
    "        if nums[i] != nums[i-1] + 1:\n",
    "            if start == nums[i-1]:\n",
    "                ranges.append(str(start))\n",
    "            else:\n",
    "                ranges.append(str(start) + \"->\" + str(nums[i-1]))\n",
    "            start = nums[i]\n",
    "\n",
    "    # Handle the last range\n",
    "    if start == nums[-1]:\n",
    "        ranges.append(str(start))\n",
    "    else:\n",
    "        ranges.append(str(start) + \"->\" + str(nums[-1]))\n",
    "\n",
    "    return ranges\n",
    "\n",
    "nums = [0,1,2,4,5,7]\n",
    "nums = [0,2,3,4,6,8,9]\n",
    "res = summaryRanges(nums)\n",
    "print(res)"
   ]
  }
 ],
 "metadata": {
  "kernelspec": {
   "display_name": "leetcode_env",
   "language": "python",
   "name": "leetcode_env"
  },
  "language_info": {
   "codemirror_mode": {
    "name": "ipython",
    "version": 3
   },
   "file_extension": ".py",
   "mimetype": "text/x-python",
   "name": "python",
   "nbconvert_exporter": "python",
   "pygments_lexer": "ipython3",
   "version": "3.8.6"
  },
  "orig_nbformat": 4
 },
 "nbformat": 4,
 "nbformat_minor": 2
}
