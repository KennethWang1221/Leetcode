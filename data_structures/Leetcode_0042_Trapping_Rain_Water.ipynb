{
 "cells": [
  {
   "cell_type": "markdown",
   "metadata": {},
   "source": [
    "Method1<br/>\n",
    "url:https://www.bilibili.com/video/BV1it4y1y7eV?spm_id_from=333.999.0.0&vd_source=8aba95d95a5a52895d55c1f87e0f02c2"
   ]
  },
  {
   "cell_type": "code",
   "execution_count": null,
   "metadata": {},
   "outputs": [],
   "source": [
    "def trap(height):\n",
    "    stack,res,n=[],0,len(height)\n",
    "\n",
    "    for i in range(n):\n",
    "        while stack and height[stack[-1]] < height[i]:\n",
    "            bottom=stack.pop(-1)\n",
    "            if stack == []:\n",
    "                break\n",
    "            right = i\n",
    "            left = stack[-1]\n",
    "\n",
    "            local_height=min(height[left],height[right])\n",
    "            local_height = local_height -height[bottom]\n",
    "            bottom_width=right - 1 - left\n",
    "            res+=local_height*bottom_width\n",
    "        stack.append(i)\n",
    "    return res\n",
    "\n",
    "height = [0,1,0,2,1,0,1,3,2,1,2,1]\n",
    "result = trap(height)\n",
    "print(result)"
   ]
  },
  {
   "cell_type": "markdown",
   "metadata": {},
   "source": [
    "Method2<br/>\n",
    "url:https://www.youtube.com/watch?v=ZI2z5pq0TqA"
   ]
  },
  {
   "cell_type": "code",
   "execution_count": 8,
   "metadata": {},
   "outputs": [
    {
     "name": "stdout",
     "output_type": "stream",
     "text": [
      "6\n"
     ]
    }
   ],
   "source": [
    "def trap(height):\n",
    "    if not height:\n",
    "        return 0\n",
    "\n",
    "    l, r = 0, len(height) - 1\n",
    "    leftMax, rightMax = height[l], height[r]\n",
    "    res = 0\n",
    "    while l < r:\n",
    "        if leftMax <= rightMax:\n",
    "            l += 1\n",
    "            leftMax = max(leftMax, height[l])\n",
    "            cur = height[l]\n",
    "            res += leftMax - cur\n",
    "        else:\n",
    "            r -= 1\n",
    "            rightMax = max(rightMax, height[r])\n",
    "            cur = height[r]\n",
    "            res += rightMax - cur\n",
    "    return res\n",
    "height = [0,1,0,2,1,0,1,3,2,1,2,1]\n",
    "result = trap(height)\n",
    "print(result)"
   ]
  },
  {
   "cell_type": "code",
   "execution_count": 11,
   "metadata": {},
   "outputs": [
    {
     "name": "stdout",
     "output_type": "stream",
     "text": [
      "None\n"
     ]
    }
   ],
   "source": [
    "stack = []\n",
    "\n",
    "if stack == []:\n",
    "    print(\"None\")\n",
    "else:\n",
    "    print(\"Not none\")"
   ]
  },
  {
   "cell_type": "code",
   "execution_count": 12,
   "metadata": {},
   "outputs": [
    {
     "name": "stdout",
     "output_type": "stream",
     "text": [
      "1\n",
      "2\n",
      "4\n"
     ]
    }
   ],
   "source": [
    "a = [1,2,3,4]\n",
    "\n",
    "for i in range(len(a)):\n",
    "    #for j in range(i+1,len(a)):\n",
    "    while a[i] == 3:\n",
    "    \n",
    "        break\n",
    "    else:\n",
    "        print(a[i])"
   ]
  }
 ],
 "metadata": {
  "kernelspec": {
   "display_name": "Python 3.8.6 64-bit ('leetcode_env')",
   "language": "python",
   "name": "python3"
  },
  "language_info": {
   "codemirror_mode": {
    "name": "ipython",
    "version": 3
   },
   "file_extension": ".py",
   "mimetype": "text/x-python",
   "name": "python",
   "nbconvert_exporter": "python",
   "pygments_lexer": "ipython3",
   "version": "3.8.6"
  },
  "orig_nbformat": 4,
  "vscode": {
   "interpreter": {
    "hash": "846fd2d9bb562a436898b7cc368204fc2f9d44e5e9b051b4f6e855e721078f23"
   }
  }
 },
 "nbformat": 4,
 "nbformat_minor": 2
}
