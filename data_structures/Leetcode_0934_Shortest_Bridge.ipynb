{
 "cells": [
  {
   "attachments": {},
   "cell_type": "markdown",
   "metadata": {},
   "source": [
    "## Method1 - DFS - BFS\n",
    "https://www.youtube.com/watch?v=gkINMhbbIbU&list=PLot-Xpze53ldBT_7QA8NVot219jFNr_GI&index=29"
   ]
  },
  {
   "cell_type": "code",
   "execution_count": 5,
   "metadata": {},
   "outputs": [
    {
     "name": "stdout",
     "output_type": "stream",
     "text": [
      "2\n"
     ]
    }
   ],
   "source": [
    "from collections import deque\n",
    "\n",
    "def shortestBridge(grid):\n",
    "    N = len(grid)\n",
    "    direct = [[0,1],[0,-1],[1,0],[-1,0]]\n",
    "\n",
    "    def invalid(r,c):\n",
    "        return r<0 or c<0 or r == N or c == N\n",
    "    \n",
    "    visit = set()\n",
    "    def dfs(r,c):\n",
    "        if (invalid(r,c) or not grid[r][c] or (r,c) in visit):\n",
    "            return \n",
    "        visit.add((r,c))\n",
    "        for dr,dc in direct:\n",
    "            dfs(r+dr, c+dc)\n",
    "    \n",
    "    def bfs():\n",
    "        res, q = 0, deque(visit)\n",
    "        while q:\n",
    "            for i in range(len(q)):\n",
    "                r,c = q.popleft()\n",
    "                for dr,dc in direct:\n",
    "                    curR, curC = r+dr, c+dc\n",
    "                    if invalid(curR, curC) or (curR, curC) in visit:\n",
    "                        continue\n",
    "                    if grid[curR][curC]:\n",
    "                        return res\n",
    "                    q.append([curR,curC])\n",
    "                    visit.add((curR,curC))\n",
    "            res+=1\n",
    "\n",
    "    for r in range(N):\n",
    "        for c in range(N):\n",
    "            if grid[r][c]:\n",
    "                dfs(r,c)\n",
    "                return bfs()\n",
    "\n",
    "grid = [[0,1,0],[0,0,0],[0,0,1]]\n",
    "res = shortestBridge(grid)\n",
    "print(res)       "
   ]
  }
 ],
 "metadata": {
  "kernelspec": {
   "display_name": "leetcode_env",
   "language": "python",
   "name": "leetcode_env"
  },
  "language_info": {
   "codemirror_mode": {
    "name": "ipython",
    "version": 3
   },
   "file_extension": ".py",
   "mimetype": "text/x-python",
   "name": "python",
   "nbconvert_exporter": "python",
   "pygments_lexer": "ipython3",
   "version": "3.8.6"
  },
  "orig_nbformat": 4
 },
 "nbformat": 4,
 "nbformat_minor": 2
}
