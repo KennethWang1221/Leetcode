{
 "cells": [
  {
   "cell_type": "markdown",
   "metadata": {},
   "source": [
    "## Method1 - Multidimensional Bottom-UP DP\n",
    "https://www.youtube.com/watch?v=OM1MTokvxs4"
   ]
  },
  {
   "cell_type": "code",
   "execution_count": 7,
   "metadata": {},
   "outputs": [
    {
     "name": "stdout",
     "output_type": "stream",
     "text": [
      "11\n"
     ]
    }
   ],
   "source": [
    "def minimumTotal(triangle):\n",
    "    dp = triangle[-1]\n",
    "    n = len(triangle)\n",
    "    for row in range(n - 2, -1, -1):\n",
    "        for col in range(0, row + 1):\n",
    "            dp[col] = triangle[row][col] + min(dp[col], dp[col + 1])\n",
    "\n",
    "    return dp[0]\n",
    "\n",
    "triangle = [[2],[3,4],[6,5,7],[4,1,8,3]]\n",
    "res = minimumTotal(triangle)\n",
    "print(res)"
   ]
  },
  {
   "cell_type": "markdown",
   "metadata": {},
   "source": [
    "## Failure Method"
   ]
  },
  {
   "cell_type": "code",
   "execution_count": 4,
   "metadata": {},
   "outputs": [
    {
     "name": "stdout",
     "output_type": "stream",
     "text": [
      "[-1, 2, -3]\n",
      "-2\n"
     ]
    }
   ],
   "source": [
    "def minimumTotal(triangle):\n",
    "    n = len(triangle)\n",
    "    min_num = []\n",
    "    for row in range(n):\n",
    "        min_curr = min(triangle[row])\n",
    "        min_num.append(min_curr)\n",
    "    print(min_num)\n",
    "    return sum(min_num)\n",
    "\n",
    "triangle = [[2],[3,4],[6,5,7],[4,1,8,3]]\n",
    "triangle = [[-1],[2,3],[1,-1,-3]]\n",
    "res = minimumTotal(triangle)\n",
    "print(res)"
   ]
  }
 ],
 "metadata": {
  "kernelspec": {
   "display_name": "test_env",
   "language": "python",
   "name": "test_env"
  },
  "language_info": {
   "codemirror_mode": {
    "name": "ipython",
    "version": 3
   },
   "file_extension": ".py",
   "mimetype": "text/x-python",
   "name": "python",
   "nbconvert_exporter": "python",
   "pygments_lexer": "ipython3",
   "version": "3.8.6"
  }
 },
 "nbformat": 4,
 "nbformat_minor": 2
}
