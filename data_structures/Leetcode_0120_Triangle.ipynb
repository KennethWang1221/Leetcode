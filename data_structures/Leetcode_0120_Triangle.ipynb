{
 "cells": [
  {
   "cell_type": "markdown",
   "metadata": {},
   "source": [
    "## Method1 - Multidimensional DP\n",
    "https://www.youtube.com/watch?v=OM1MTokvxs4"
   ]
  },
  {
   "cell_type": "code",
   "execution_count": 1,
   "metadata": {},
   "outputs": [
    {
     "name": "stdout",
     "output_type": "stream",
     "text": [
      "11\n"
     ]
    }
   ],
   "source": [
    "def minimumTotal(triangle):\n",
    "    dp = triangle[-1]\n",
    "\n",
    "    for row in range(len(triangle) - 2, -1, -1):\n",
    "        for col in range(0, row + 1):\n",
    "            dp[col] = triangle[row][col] + min(dp[col], dp[col + 1])\n",
    "\n",
    "    return dp[0]\n",
    "\n",
    "triangle = [[2],[3,4],[6,5,7],[4,1,8,3]]\n",
    "res = minimumTotal(triangle)\n",
    "print(res)"
   ]
  }
 ],
 "metadata": {
  "kernelspec": {
   "display_name": "test_env",
   "language": "python",
   "name": "test_env"
  },
  "language_info": {
   "codemirror_mode": {
    "name": "ipython",
    "version": 3
   },
   "file_extension": ".py",
   "mimetype": "text/x-python",
   "name": "python",
   "nbconvert_exporter": "python",
   "pygments_lexer": "ipython3",
   "version": "3.8.6"
  }
 },
 "nbformat": 4,
 "nbformat_minor": 2
}
