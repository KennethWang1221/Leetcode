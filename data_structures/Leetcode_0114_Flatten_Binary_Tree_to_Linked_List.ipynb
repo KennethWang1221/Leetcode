{
 "cells": [
  {
   "cell_type": "markdown",
   "metadata": {},
   "source": [
    "## Method1 - DFS \n",
    "https://www.youtube.com/watch?v=rKnD7rLT0lI"
   ]
  },
  {
   "cell_type": "code",
   "execution_count": 5,
   "metadata": {},
   "outputs": [
    {
     "name": "stdout",
     "output_type": "stream",
     "text": [
      "None\n"
     ]
    }
   ],
   "source": [
    "class TreeNode(object):\n",
    "    def __init__(self, x, left=None, right=None):\n",
    "        self.val = x\n",
    "        self.left = left\n",
    "        self.right = right\n",
    "\n",
    "def flatten(root):\n",
    "    def dfs(root):\n",
    "        if not root: return None\n",
    "\n",
    "        leftTail = dfs(root.left)\n",
    "        rightTail = dfs(root.right)\n",
    "\n",
    "        if root.left:\n",
    "            leftTail.right = root.right\n",
    "            root.right = root.left\n",
    "            root.left = None\n",
    "\n",
    "        last = rightTail or leftTail or root\n",
    "        return last\n",
    "    \n",
    "    dfs(root)\n",
    "\n",
    "n1 = TreeNode(1)\n",
    "n2 = TreeNode(2)\n",
    "n3 = TreeNode(5)\n",
    "n4 = TreeNode(3)\n",
    "n5 = TreeNode(4)\n",
    "n6 = TreeNode(6)\n",
    "\n",
    "n1.left = n2\n",
    "n1.right = n3\n",
    "n2.left = n4\n",
    "n2.right = n5\n",
    "n3.right=n6\n",
    "res = flatten(n1)\n",
    "print(res)"
   ]
  },
  {
   "cell_type": "markdown",
   "metadata": {},
   "source": [
    "## Pre-order traversal"
   ]
  },
  {
   "cell_type": "code",
   "execution_count": 1,
   "metadata": {},
   "outputs": [
    {
     "name": "stdout",
     "output_type": "stream",
     "text": [
      "[1, 2, 3, 4, 5, 6]\n"
     ]
    }
   ],
   "source": [
    "class TreeNode(object):\n",
    "    def __init__(self, x, left=None, right=None):\n",
    "        self.val = x\n",
    "        self.left = left\n",
    "        self.right = right\n",
    "\n",
    "def flatten(root):\n",
    "    res = []\n",
    "    if root == None: return \n",
    "\n",
    "    stack = [root]\n",
    "    while stack:\n",
    "        cur = stack.pop(-1)\n",
    "        res.append(cur.val)\n",
    "        if cur.right: stack.append(cur.right)\n",
    "        if cur.left: stack.append(cur.left)\n",
    "\n",
    "    return res\n",
    "\n",
    "n1 = TreeNode(1)\n",
    "n2 = TreeNode(2)\n",
    "n3 = TreeNode(5)\n",
    "n4 = TreeNode(3)\n",
    "n5 = TreeNode(4)\n",
    "n6 = TreeNode(6)\n",
    "\n",
    "n1.left = n2\n",
    "n1.right = n3\n",
    "n2.left = n4\n",
    "n2.right = n5\n",
    "n3.right=n6\n",
    "res = flatten(n1)\n",
    "print(res)"
   ]
  }
 ],
 "metadata": {
  "kernelspec": {
   "display_name": "leetcode_env",
   "language": "python",
   "name": "leetcode_env"
  },
  "language_info": {
   "codemirror_mode": {
    "name": "ipython",
    "version": 3
   },
   "file_extension": ".py",
   "mimetype": "text/x-python",
   "name": "python",
   "nbconvert_exporter": "python",
   "pygments_lexer": "ipython3",
   "version": "3.8.6"
  }
 },
 "nbformat": 4,
 "nbformat_minor": 2
}
