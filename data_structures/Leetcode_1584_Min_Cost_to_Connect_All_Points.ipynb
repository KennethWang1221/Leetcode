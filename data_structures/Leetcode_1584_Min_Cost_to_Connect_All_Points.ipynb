{
 "cells": [
  {
   "attachments": {},
   "cell_type": "markdown",
   "metadata": {},
   "source": [
    "## Method1 - Minimum Cost Spanning Tree / Prim's Algorithm\n",
    "\n",
    "https://www.youtube.com/watch?v=f7JOBJIC-NA"
   ]
  },
  {
   "cell_type": "code",
   "execution_count": 65,
   "metadata": {},
   "outputs": [
    {
     "name": "stdout",
     "output_type": "stream",
     "text": [
      "20\n"
     ]
    }
   ],
   "source": [
    "import heapq\n",
    "def minCostConnectPoints(points):\n",
    "    N = len(points)\n",
    "\n",
    "    adj = {i:[] for i in range(N)}\n",
    "\n",
    "    for i in range(N):\n",
    "        x1, y1 = points[i]\n",
    "        for j in range(i+1, N):\n",
    "            x2, y2 = points[j]\n",
    "            dist = abs(x1-x2) + abs(y1-y2)\n",
    "            adj[i].append([dist, j])\n",
    "            adj[j].append([dist, i])\n",
    "    \n",
    "    # Prim's\n",
    "    res = 0\n",
    "    visit = set()\n",
    "    minH = [[0,0]] # [cost, point]\n",
    "    while len(visit) < N:\n",
    "        cost, i = heapq.heappop(minH)\n",
    "        if i in visit:\n",
    "            continue\n",
    "        res += cost\n",
    "        visit.add(i)\n",
    "        for neiCost, nei in adj[i]:\n",
    "            if nei not in visit:\n",
    "                heapq.heappush(minH, [neiCost,nei])\n",
    "    return res\n",
    "\n",
    "points = [[0,0],[2,2],[3,10],[5,2],[7,0]]\n",
    "res = minCostConnectPoints(points)\n",
    "print(res)"
   ]
  },
  {
   "attachments": {},
   "cell_type": "markdown",
   "metadata": {},
   "source": [
    "## Recap heapq\n",
    "\n",
    "https://cloud.tencent.com/developer/article/1794191"
   ]
  },
  {
   "attachments": {},
   "cell_type": "markdown",
   "metadata": {},
   "source": [
    "create heap using heapq.heappush or heapq.heapify"
   ]
  },
  {
   "cell_type": "code",
   "execution_count": 3,
   "metadata": {},
   "outputs": [
    {
     "name": "stdout",
     "output_type": "stream",
     "text": [
      "array: [10, 17, 50, 7, 30, 24, 27, 45, 15, 5, 36, 21]\n",
      "heap:  [5, 7, 21, 15, 10, 24, 27, 45, 17, 30, 36, 50]\n",
      "array: [5, 7, 21, 10, 17, 24, 27, 45, 15, 30, 36, 50]\n"
     ]
    }
   ],
   "source": [
    "import heapq\n",
    "\n",
    "array = [10, 17, 50, 7, 30, 24, 27, 45, 15, 5, 36, 21]\n",
    "heap = []\n",
    "for num in array:\n",
    "    heapq.heappush(heap, num)\n",
    "print(\"array:\", array)\n",
    "print(\"heap: \", heap)\n",
    "\n",
    "heapq.heapify(array)\n",
    "print(\"array:\", array)"
   ]
  },
  {
   "attachments": {},
   "cell_type": "markdown",
   "metadata": {},
   "source": [
    "heap sort using heapq"
   ]
  },
  {
   "cell_type": "code",
   "execution_count": 29,
   "metadata": {},
   "outputs": [
    {
     "name": "stdout",
     "output_type": "stream",
     "text": [
      "[5, 7, 21, 15, 10, 24, 27, 45, 17, 30, 36, 50]\n"
     ]
    }
   ],
   "source": [
    "array = [10, 17, 50, 7, 30, 24, 27, 45, 15, 5, 36, 21]\n",
    "heap = []\n",
    "for num in array:\n",
    "    heapq.heappush(heap, num)\n",
    "print(heap)\n",
    "#print(heapq.heappop(heap))"
   ]
  },
  {
   "cell_type": "code",
   "execution_count": 30,
   "metadata": {},
   "outputs": [
    {
     "name": "stdout",
     "output_type": "stream",
     "text": [
      "[5, 7, 10, 15, 17, 21, 24, 27, 30, 36, 45, 50]\n"
     ]
    }
   ],
   "source": [
    "heap_sort = []\n",
    "for i in range(len(heap)):\n",
    "    heap_sort.append(heapq.heappop(heap))\n",
    "\n",
    "# heap_sort = [heapq.heappop(heap) for _ in range(len(heap))]\n",
    "print(heap_sort)"
   ]
  },
  {
   "attachments": {},
   "cell_type": "markdown",
   "metadata": {},
   "source": [
    "get the maximum value or minimum value "
   ]
  },
  {
   "cell_type": "code",
   "execution_count": 35,
   "metadata": {},
   "outputs": [
    {
     "name": "stdout",
     "output_type": "stream",
     "text": [
      "[5, 7, 21, 15, 10, 24, 27, 45, 17, 30, 36, 50]\n",
      "[50]\n",
      "[5]\n"
     ]
    }
   ],
   "source": [
    "array = [10, 17, 50, 7, 30, 24, 27, 45, 15, 5, 36, 21]\n",
    "heap = []\n",
    "for i in array:\n",
    "    heapq.heappush(heap,i)\n",
    "print(heap)\n",
    "print(heapq.nlargest(1,array))\n",
    "print(heapq.nsmallest(1,array))"
   ]
  },
  {
   "attachments": {},
   "cell_type": "markdown",
   "metadata": {},
   "source": [
    "concat two sorted list"
   ]
  },
  {
   "cell_type": "code",
   "execution_count": 36,
   "metadata": {},
   "outputs": [
    {
     "name": "stdout",
     "output_type": "stream",
     "text": [
      "merge result: [3, 7, 8, 8, 10, 13, 15, 17, 20]\n"
     ]
    }
   ],
   "source": [
    "array_a = [10, 7, 15, 8]\n",
    "array_b = [17, 3, 8, 20, 13]\n",
    "array_merge = heapq.merge(sorted(array_a), sorted(array_b))\n",
    "print(\"merge result:\", list(array_merge))"
   ]
  },
  {
   "attachments": {},
   "cell_type": "markdown",
   "metadata": {},
   "source": [
    "replace data using heapq"
   ]
  },
  {
   "cell_type": "code",
   "execution_count": 51,
   "metadata": {},
   "outputs": [
    {
     "name": "stdout",
     "output_type": "stream",
     "text": [
      "before: [10, 7, 15, 8]\n",
      "after:  [7, 8, 15, 11]\n",
      "10\n",
      "before: [10, 7, 15, 8]\n",
      "after:  [5, 7, 15, 8]\n",
      "10\n"
     ]
    }
   ],
   "source": [
    "array_c = [10, 7, 15, 8]\n",
    "heap = []\n",
    "for i in array_c:\n",
    "    heapq.heappush(heap,i)\n",
    "print(\"before:\", array_c)\n",
    "# 先push再pop\n",
    "item = heapq.heappushpop(array_c, 11)\n",
    "print(\"after: \", array_c)\n",
    "print(item)\n",
    "\n",
    "array_d = [10, 7, 15, 8]\n",
    "heap = []\n",
    "for i in array_d:\n",
    "    heapq.heappush(heap,i)\n",
    "print(\"before:\", array_d)\n",
    "# 先pop再push\n",
    "item = heapq.heapreplace(array_d, 5)\n",
    "print(\"after: \", array_d)\n",
    "print(item)"
   ]
  },
  {
   "attachments": {},
   "cell_type": "markdown",
   "metadata": {},
   "source": [
    "## Recap - heap sort"
   ]
  },
  {
   "cell_type": "code",
   "execution_count": 1,
   "metadata": {},
   "outputs": [
    {
     "name": "stdout",
     "output_type": "stream",
     "text": [
      "[1, 2, 3, 4, 7, 8, 9, 14, 16, 19]\n"
     ]
    }
   ],
   "source": [
    "def sift(array,low,high):\n",
    "    i = low\n",
    "    j = 2*i+1\n",
    "    temp = array[i]\n",
    "\n",
    "    while j<=high:\n",
    "        if j+1 <= high and array[j+1]>array[j]:\n",
    "            j = j +1\n",
    "        if array[j]>temp:\n",
    "            array[i] = array[j]\n",
    "            i = j \n",
    "            j = 2*i+1\n",
    "        else:\n",
    "            array[i] = temp\n",
    "            break\n",
    "    else:\n",
    "        array[i] = temp\n",
    "\n",
    "def heap_sort(array):\n",
    "    n = len(array)\n",
    "    for i in range((n-1-1)//2,-1,-1):\n",
    "        sift(array,i,n-1)\n",
    "    for i in range(n-1,-1,-1):\n",
    "        array[i],array[0] = array[0],array[i]\n",
    "        sift(array,0,i-1)\n",
    "    return array\n",
    "\n",
    "\n",
    "\n",
    "array = [2,4,9,1,7,8,3,14,19,16]\n",
    "array1 = [1, 2, 3, 4, 7, 8, 9, 14, 16, 19]\n",
    "res = heap_sort(array)\n",
    "print(res)"
   ]
  }
 ],
 "metadata": {
  "kernelspec": {
   "display_name": "leetcode_env",
   "language": "python",
   "name": "leetcode_env"
  },
  "language_info": {
   "codemirror_mode": {
    "name": "ipython",
    "version": 3
   },
   "file_extension": ".py",
   "mimetype": "text/x-python",
   "name": "python",
   "nbconvert_exporter": "python",
   "pygments_lexer": "ipython3",
   "version": "3.8.6"
  },
  "orig_nbformat": 4
 },
 "nbformat": 4,
 "nbformat_minor": 2
}
