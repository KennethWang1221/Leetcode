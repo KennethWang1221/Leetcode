{
 "cells": [
  {
   "cell_type": "markdown",
   "metadata": {},
   "source": [
    "## Method1 - Array"
   ]
  },
  {
   "cell_type": "code",
   "execution_count": 1,
   "metadata": {},
   "outputs": [
    {
     "name": "stdout",
     "output_type": "stream",
     "text": [
      "[123, 234]\n"
     ]
    }
   ],
   "source": [
    "def sequentialDigits(low, high):\n",
    "    from collections import deque\n",
    "    ans = []\n",
    "    queue = deque(range(1,10))\n",
    "\n",
    "    while queue:\n",
    "        num = queue.popleft()\n",
    "        if low <= num <= high:\n",
    "            ans.append(num)\n",
    "        last_digit = num % 10\n",
    "        if last_digit < 9:  # can append next digit\n",
    "            nxt = num*10 + (last_digit+1)\n",
    "            if nxt <= high:\n",
    "                queue.append(nxt)\n",
    "    return ans\n",
    "low = 100\n",
    "high = 300\n",
    "print(sequentialDigits(low,high))"
   ]
  }
 ],
 "metadata": {
  "kernelspec": {
   "display_name": "leetcode_env",
   "language": "python",
   "name": "leetcode_env"
  },
  "language_info": {
   "codemirror_mode": {
    "name": "ipython",
    "version": 3
   },
   "file_extension": ".py",
   "mimetype": "text/x-python",
   "name": "python",
   "nbconvert_exporter": "python",
   "pygments_lexer": "ipython3",
   "version": "3.8.6"
  }
 },
 "nbformat": 4,
 "nbformat_minor": 2
}
