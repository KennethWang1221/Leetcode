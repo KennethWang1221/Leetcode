{
 "cells": [
  {
   "cell_type": "markdown",
   "metadata": {},
   "source": [
    "## Method1 - DFS\n",
    "https://www.youtube.com/watch?v=u4JAi2JJhI8"
   ]
  },
  {
   "cell_type": "code",
   "execution_count": 2,
   "metadata": {},
   "outputs": [
    {
     "name": "stdout",
     "output_type": "stream",
     "text": [
      "Serialized Tree: 1,2,4,N,N,5,N,N,3,6,N,N,7,N,N\n",
      "Deserialized Tree (root value): 1\n",
      "Serialized Tree 2: 1,N,3,N,N\n",
      "Deserialized Tree 2 (root value): 1\n",
      "Deserialized Tree 2 (right child value): 3\n"
     ]
    }
   ],
   "source": [
    "class TreeNode:\n",
    "    def __init__(self, x):\n",
    "        self.val = x\n",
    "        self.left = None\n",
    "        self.right = None\n",
    "\n",
    "class Codec:\n",
    "    def serialize(self, root):\n",
    "        res = []\n",
    "\n",
    "        def dfs(node):\n",
    "            if not node:\n",
    "                res.append(\"N\")\n",
    "                return\n",
    "            res.append(str(node.val))\n",
    "            dfs(node.left)\n",
    "            dfs(node.right)\n",
    "\n",
    "        dfs(root)\n",
    "        return \",\".join(res)\n",
    "\n",
    "    def deserialize(self, data):\n",
    "        vals = data.split(\",\")\n",
    "\n",
    "        def dfs():\n",
    "            val = vals.pop(0)\n",
    "            if val == \"N\":\n",
    "                return None\n",
    "            node = TreeNode(int(val))  # Corrected: initialize the TreeNode with an integer value\n",
    "            node.left = dfs()\n",
    "            node.right = dfs()\n",
    "            return node\n",
    "\n",
    "        return dfs()\n",
    "\n",
    "# Test case\n",
    "root = TreeNode(1)\n",
    "root.left = TreeNode(2)\n",
    "root.right = TreeNode(3)\n",
    "root.left.left = TreeNode(4)\n",
    "root.left.right = TreeNode(5)\n",
    "root.right.left = TreeNode(6)\n",
    "root.right.right = TreeNode(7)\n",
    "\n",
    "codec = Codec()\n",
    "\n",
    "# Serialize the tree\n",
    "serialized = codec.serialize(root)\n",
    "print(\"Serialized Tree:\", serialized)\n",
    "\n",
    "# Deserialize the tree back\n",
    "deserialized = codec.deserialize(serialized)\n",
    "print(\"Deserialized Tree (root value):\", deserialized.val)\n",
    "\n",
    "# Additional test: Serialize and Deserialize a tree with None nodes\n",
    "root2 = TreeNode(1)\n",
    "root2.left = None\n",
    "root2.right = TreeNode(3)\n",
    "\n",
    "serialized2 = codec.serialize(root2)\n",
    "print(\"Serialized Tree 2:\", serialized2)\n",
    "\n",
    "deserialized2 = codec.deserialize(serialized2)\n",
    "print(\"Deserialized Tree 2 (root value):\", deserialized2.val)\n",
    "print(\"Deserialized Tree 2 (right child value):\", deserialized2.right.val)\n"
   ]
  }
 ],
 "metadata": {
  "kernelspec": {
   "display_name": "leetcode_env",
   "language": "python",
   "name": "python3"
  },
  "language_info": {
   "codemirror_mode": {
    "name": "ipython",
    "version": 3
   },
   "file_extension": ".py",
   "mimetype": "text/x-python",
   "name": "python",
   "nbconvert_exporter": "python",
   "pygments_lexer": "ipython3",
   "version": "3.8.6"
  }
 },
 "nbformat": 4,
 "nbformat_minor": 2
}
