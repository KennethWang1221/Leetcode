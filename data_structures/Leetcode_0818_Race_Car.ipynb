{
 "cells": [
  {
   "cell_type": "markdown",
   "metadata": {},
   "source": [
    "## Method1 - Array"
   ]
  },
  {
   "cell_type": "code",
   "execution_count": 1,
   "metadata": {},
   "outputs": [
    {
     "name": "stdout",
     "output_type": "stream",
     "text": [
      "2\n"
     ]
    }
   ],
   "source": [
    "from collections import deque\n",
    "\n",
    "def racecar(target):\n",
    "    visited = set()\n",
    "    queue = deque([(0, 1, 0)])  # (pos, speed, steps)\n",
    "    while queue:\n",
    "        pos, speed, steps = queue.popleft()\n",
    "        if pos == target:\n",
    "            return steps\n",
    "\n",
    "        # Option A: accelerate\n",
    "        nxt = (pos + speed, speed << 1, steps + 1)\n",
    "        if 0 <= pos + speed < 2*target and nxt not in visited:\n",
    "            visited.add(nxt)\n",
    "            queue.append(nxt)\n",
    "\n",
    "        # Option B: reverse\n",
    "        rev = (pos, -1 if speed>0 else 1, steps + 1)\n",
    "        if rev not in visited:\n",
    "            visited.add(rev)\n",
    "            queue.append(rev)\n",
    "print(racecar(target = 3))"
   ]
  }
 ],
 "metadata": {
  "kernelspec": {
   "display_name": "leetcode_env",
   "language": "python",
   "name": "leetcode_env"
  },
  "language_info": {
   "codemirror_mode": {
    "name": "ipython",
    "version": 3
   },
   "file_extension": ".py",
   "mimetype": "text/x-python",
   "name": "python",
   "nbconvert_exporter": "python",
   "pygments_lexer": "ipython3",
   "version": "3.8.6"
  }
 },
 "nbformat": 4,
 "nbformat_minor": 2
}
