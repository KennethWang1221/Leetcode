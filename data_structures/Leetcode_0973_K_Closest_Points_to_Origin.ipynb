{
 "cells": [
  {
   "cell_type": "markdown",
   "metadata": {},
   "source": [
    "## Method1 - DIY - Heap"
   ]
  },
  {
   "cell_type": "code",
   "execution_count": 2,
   "metadata": {},
   "outputs": [
    {
     "name": "stdout",
     "output_type": "stream",
     "text": [
      "[[2.8284271247461903, [-2, 2]], [3.1622776601683795, [1, 3]]]\n",
      "[[-2, 2]]\n"
     ]
    }
   ],
   "source": [
    "import heapq\n",
    "def kClosest(points, k):\n",
    "    res = []\n",
    "    minheap = []\n",
    "    for p in points:\n",
    "        dist = (p[1] ** 2 + p[0] ** 2) ** 0.5\n",
    "        heapq.heappush(minheap, [1*dist, p])\n",
    "    \n",
    "    for i in range(k):\n",
    "        dist, p = heapq.heappop(minheap)\n",
    "        res.append(p)\n",
    "\n",
    "    return res\n",
    "\n",
    "points = [[1,3], [-2,2]]\n",
    "k = 1\n",
    "res = kClosest(points,k)\n",
    "print(res)"
   ]
  },
  {
   "attachments": {},
   "cell_type": "markdown",
   "metadata": {},
   "source": [
    "## Method2 - Heap\n",
    "https://www.youtube.com/watch?v=rI2EBUEMfTk"
   ]
  },
  {
   "cell_type": "code",
   "execution_count": 11,
   "metadata": {},
   "outputs": [
    {
     "name": "stdout",
     "output_type": "stream",
     "text": [
      "[[10, 1, 3], [8, -2, 2]]\n",
      "[[8, -2, 2], [10, 1, 3]]\n",
      "[[-2, 2]]\n"
     ]
    }
   ],
   "source": [
    "import heapq\n",
    "def kClosest(points, k):\n",
    "    minHeap = []\n",
    "    for x, y in points:\n",
    "        dist = (x**2) + (y**2)\n",
    "        minHeap.append([dist,x,y])\n",
    "    \n",
    "    heapq.heapify(minHeap)\n",
    "    \n",
    "    res = []\n",
    "    while k>0:\n",
    "        dist,x,y = heapq.heappop(minHeap)\n",
    "        res.append([x,y])\n",
    "        k-=1\n",
    "\n",
    "    return res\n",
    "\n",
    "points = [[1,3], [-2,2]]\n",
    "k = 1\n",
    "res = kClosest(points,k)\n",
    "print(res)"
   ]
  },
  {
   "cell_type": "code",
   "execution_count": 14,
   "metadata": {},
   "outputs": [
    {
     "name": "stdout",
     "output_type": "stream",
     "text": [
      "[(-2, 2)]\n"
     ]
    }
   ],
   "source": [
    "import heapq\n",
    "def kClosest(points, k):\n",
    "    minHeap = []\n",
    "    for x, y in points:\n",
    "        dist = (x ** 2) + (y ** 2)\n",
    "        minHeap.append((dist, x, y))\n",
    "    \n",
    "    heapq.heapify(minHeap)\n",
    "    res = []\n",
    "    for _ in range(k):\n",
    "        _, x, y = heapq.heappop(minHeap)\n",
    "        res.append((x, y))\n",
    "    return res\n",
    "\n",
    "points = [[1,3], [-2,2]]\n",
    "k = 1\n",
    "res = kClosest(points,k)\n",
    "print(res)"
   ]
  },
  {
   "attachments": {},
   "cell_type": "markdown",
   "metadata": {},
   "source": [
    "## Recap Heap"
   ]
  },
  {
   "cell_type": "code",
   "execution_count": 12,
   "metadata": {},
   "outputs": [
    {
     "name": "stdout",
     "output_type": "stream",
     "text": [
      "array: [10, 17, 50, 7, 30, 24, 27, 45, 15, 5, 36, 21]\n",
      "heap:  [5, 7, 21, 15, 10, 24, 27, 45, 17, 30, 36, 50]\n",
      "array: [5, 7, 21, 10, 17, 24, 27, 45, 15, 30, 36, 50]\n"
     ]
    }
   ],
   "source": [
    "import heapq\n",
    "\n",
    "array = [10, 17, 50, 7, 30, 24, 27, 45, 15, 5, 36, 21]\n",
    "heap = []\n",
    "for num in array:\n",
    "    heapq.heappush(heap, num)\n",
    "print(\"array:\", array)\n",
    "print(\"heap: \", heap)\n",
    "\n",
    "heapq.heapify(array)\n",
    "print(\"array:\", array)"
   ]
  },
  {
   "attachments": {},
   "cell_type": "markdown",
   "metadata": {},
   "source": [
    "### Recap heapq\n",
    "\n",
    "https://cloud.tencent.com/developer/article/1794191"
   ]
  },
  {
   "attachments": {},
   "cell_type": "markdown",
   "metadata": {},
   "source": [
    "create heap using heapq.heappush or heapq.heapify"
   ]
  },
  {
   "cell_type": "code",
   "execution_count": null,
   "metadata": {},
   "outputs": [
    {
     "name": "stdout",
     "output_type": "stream",
     "text": [
      "array: [10, 17, 50, 7, 30, 24, 27, 45, 15, 5, 36, 21]\n",
      "heap:  [5, 7, 21, 15, 10, 24, 27, 45, 17, 30, 36, 50]\n",
      "array: [5, 7, 21, 10, 17, 24, 27, 45, 15, 30, 36, 50]\n"
     ]
    }
   ],
   "source": [
    "import heapq\n",
    "\n",
    "array = [10, 17, 50, 7, 30, 24, 27, 45, 15, 5, 36, 21]\n",
    "heap = []\n",
    "for num in array:\n",
    "    heapq.heappush(heap, num)\n",
    "print(\"array:\", array)\n",
    "print(\"heap: \", heap)\n",
    "\n",
    "heapq.heapify(array)\n",
    "print(\"array:\", array)"
   ]
  },
  {
   "attachments": {},
   "cell_type": "markdown",
   "metadata": {},
   "source": [
    "heap sort using heapq"
   ]
  },
  {
   "cell_type": "code",
   "execution_count": null,
   "metadata": {},
   "outputs": [
    {
     "name": "stdout",
     "output_type": "stream",
     "text": [
      "[5, 7, 21, 15, 10, 24, 27, 45, 17, 30, 36, 50]\n"
     ]
    }
   ],
   "source": [
    "array = [10, 17, 50, 7, 30, 24, 27, 45, 15, 5, 36, 21]\n",
    "heap = []\n",
    "for num in array:\n",
    "    heapq.heappush(heap, num)\n",
    "print(heap)\n",
    "#print(heapq.heappop(heap))"
   ]
  },
  {
   "cell_type": "code",
   "execution_count": null,
   "metadata": {},
   "outputs": [
    {
     "name": "stdout",
     "output_type": "stream",
     "text": [
      "[5, 7, 10, 15, 17, 21, 24, 27, 30, 36, 45, 50]\n"
     ]
    }
   ],
   "source": [
    "heap_sort = []\n",
    "for i in range(len(heap)):\n",
    "    heap_sort.append(heapq.heappop(heap))\n",
    "\n",
    "# heap_sort = [heapq.heappop(heap) for _ in range(len(heap))]\n",
    "print(heap_sort)"
   ]
  },
  {
   "attachments": {},
   "cell_type": "markdown",
   "metadata": {},
   "source": [
    "get the maximum value or minimum value "
   ]
  },
  {
   "cell_type": "code",
   "execution_count": null,
   "metadata": {},
   "outputs": [
    {
     "name": "stdout",
     "output_type": "stream",
     "text": [
      "[5, 7, 21, 15, 10, 24, 27, 45, 17, 30, 36, 50]\n",
      "[50]\n",
      "[5]\n"
     ]
    }
   ],
   "source": [
    "array = [10, 17, 50, 7, 30, 24, 27, 45, 15, 5, 36, 21]\n",
    "heap = []\n",
    "for i in array:\n",
    "    heapq.heappush(heap,i)\n",
    "print(heap)\n",
    "print(heapq.nlargest(1,array))\n",
    "print(heapq.nsmallest(1,array))"
   ]
  },
  {
   "attachments": {},
   "cell_type": "markdown",
   "metadata": {},
   "source": [
    "concat two sorted list"
   ]
  },
  {
   "cell_type": "code",
   "execution_count": null,
   "metadata": {},
   "outputs": [
    {
     "name": "stdout",
     "output_type": "stream",
     "text": [
      "merge result: [3, 7, 8, 8, 10, 13, 15, 17, 20]\n"
     ]
    }
   ],
   "source": [
    "array_a = [10, 7, 15, 8]\n",
    "array_b = [17, 3, 8, 20, 13]\n",
    "array_merge = heapq.merge(sorted(array_a), sorted(array_b))\n",
    "print(\"merge result:\", list(array_merge))"
   ]
  },
  {
   "attachments": {},
   "cell_type": "markdown",
   "metadata": {},
   "source": [
    "replace data using heapq"
   ]
  },
  {
   "cell_type": "code",
   "execution_count": null,
   "metadata": {},
   "outputs": [
    {
     "name": "stdout",
     "output_type": "stream",
     "text": [
      "before: [10, 7, 15, 8]\n",
      "after:  [7, 8, 15, 11]\n",
      "10\n",
      "before: [10, 7, 15, 8]\n",
      "after:  [5, 7, 15, 8]\n",
      "10\n"
     ]
    }
   ],
   "source": [
    "array_c = [10, 7, 15, 8]\n",
    "heap = []\n",
    "for i in array_c:\n",
    "    heapq.heappush(heap,i)\n",
    "print(\"before:\", array_c)\n",
    "# 先push再pop\n",
    "item = heapq.heappushpop(array_c, 11)\n",
    "print(\"after: \", array_c)\n",
    "print(item)\n",
    "\n",
    "array_d = [10, 7, 15, 8]\n",
    "heap = []\n",
    "for i in array_d:\n",
    "    heapq.heappush(heap,i)\n",
    "print(\"before:\", array_d)\n",
    "# 先pop再push\n",
    "item = heapq.heapreplace(array_d, 5)\n",
    "print(\"after: \", array_d)\n",
    "print(item)"
   ]
  },
  {
   "attachments": {},
   "cell_type": "markdown",
   "metadata": {},
   "source": [
    "#### heap sort"
   ]
  },
  {
   "cell_type": "code",
   "execution_count": null,
   "metadata": {},
   "outputs": [
    {
     "name": "stdout",
     "output_type": "stream",
     "text": [
      "[1, 2, 3, 4, 7, 8, 9, 14, 16, 19]\n"
     ]
    }
   ],
   "source": [
    "def sift(array,low,high):\n",
    "    i = low\n",
    "    j = 2*i+1\n",
    "    temp = array[i]\n",
    "\n",
    "    while j<=high:\n",
    "        if j+1 <= high and array[j+1]>array[j]:\n",
    "            j = j +1\n",
    "        if array[j]>temp:\n",
    "            array[i] = array[j]\n",
    "            i = j \n",
    "            j = 2*i+1\n",
    "        else:\n",
    "            array[i] = temp\n",
    "            break\n",
    "    else:\n",
    "        array[i] = temp\n",
    "\n",
    "def heap_sort(array):\n",
    "    n = len(array)\n",
    "    for i in range((n-1-1)//2,-1,-1):\n",
    "        sift(array,i,n-1)\n",
    "    for i in range(n-1,-1,-1):\n",
    "        array[i],array[0] = array[0],array[i]\n",
    "        sift(array,0,i-1)\n",
    "    return array\n",
    "\n",
    "\n",
    "\n",
    "array = [2,4,9,1,7,8,3,14,19,16]\n",
    "array1 = [1, 2, 3, 4, 7, 8, 9, 14, 16, 19]\n",
    "res = heap_sort(array)\n",
    "print(res)"
   ]
  }
 ],
 "metadata": {
  "kernelspec": {
   "display_name": "leetcode_env",
   "language": "python",
   "name": "leetcode_env"
  },
  "language_info": {
   "codemirror_mode": {
    "name": "ipython",
    "version": 3
   },
   "file_extension": ".py",
   "mimetype": "text/x-python",
   "name": "python",
   "nbconvert_exporter": "python",
   "pygments_lexer": "ipython3",
   "version": "3.8.6"
  },
  "orig_nbformat": 4
 },
 "nbformat": 4,
 "nbformat_minor": 2
}
