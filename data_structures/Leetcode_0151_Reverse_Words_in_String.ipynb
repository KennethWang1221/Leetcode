{
 "cells": [
  {
   "cell_type": "markdown",
   "metadata": {},
   "source": [
    "## Method1 - DIY - String"
   ]
  },
  {
   "cell_type": "code",
   "execution_count": 2,
   "metadata": {},
   "outputs": [
    {
     "name": "stdout",
     "output_type": "stream",
     "text": [
      "<class 'list'>\n",
      "<class 'str'>\n",
      "world hello\n"
     ]
    }
   ],
   "source": [
    "def reverseWords(s):\n",
    "    n = len(s) \n",
    "\n",
    "    if n == 0:\n",
    "        return s\n",
    "\n",
    "    s = s.split()\n",
    "    if s == []: # in case s = \"    \"\n",
    "        return s\n",
    "\n",
    "    s = s[::-1]\n",
    "    print(type(s))\n",
    "    s = \" \".join(s) \n",
    "    print(type(s))\n",
    "    return s\n",
    "\n",
    "s = \"the sky is blue\"\n",
    "s = \"  hello world  \"\n",
    "#s = \"a good   example\"\n",
    "result = reverseWords(s)\n",
    "print(result)"
   ]
  },
  {
   "cell_type": "markdown",
   "metadata": {},
   "source": [
    "## Method2 - String\n",
    "https://www.youtube.com/watch?v=T3Sz-SI3gVE"
   ]
  },
  {
   "cell_type": "code",
   "execution_count": 20,
   "metadata": {},
   "outputs": [
    {
     "name": "stdout",
     "output_type": "stream",
     "text": [
      "result: world hello\n",
      "type: <class 'str'>\n",
      "world hello\n"
     ]
    }
   ],
   "source": [
    "def reverseWords(s):\n",
    "    result = ''\n",
    "    s1 = s.split()\n",
    "    n = len(s1)\n",
    "    for i in range(0,n-1,1):\n",
    "        result+=s1[n-1-i]+' '\n",
    "    result+=s1[0]\n",
    "    print(\"result:\",result)\n",
    "    print('type:',type(result))\n",
    "    return result\n",
    "\n",
    "string='the sky is blue'\n",
    "string2 = \"  hello world  \"\n",
    "result = reverseWords(string2)\n",
    "print(result)"
   ]
  },
  {
   "cell_type": "markdown",
   "metadata": {},
   "source": [
    "## Method3"
   ]
  },
  {
   "cell_type": "code",
   "execution_count": 12,
   "metadata": {},
   "outputs": [
    {
     "name": "stdout",
     "output_type": "stream",
     "text": [
      "result: world hello\n",
      "type: <class 'str'>\n",
      "world hello\n"
     ]
    }
   ],
   "source": [
    "def reverseWords(s):\n",
    "    result = ''\n",
    "    s1 = s.split()\n",
    "    for i in range(len(s1)-1,0,-1):\n",
    "        result+=(s1[i])+' '\n",
    "    result+=s1[0]\n",
    "    print(\"result:\",result)\n",
    "    print('type:',type(result))\n",
    "    return result\n",
    "\n",
    "string='the sky is blue'\n",
    "string2 = \"  hello world  \"\n",
    "result = reverseWords(string2)\n",
    "print(result)"
   ]
  }
 ],
 "metadata": {
  "kernelspec": {
   "display_name": "leetcode_env",
   "language": "python",
   "name": "leetcode_env"
  },
  "language_info": {
   "codemirror_mode": {
    "name": "ipython",
    "version": 3
   },
   "file_extension": ".py",
   "mimetype": "text/x-python",
   "name": "python",
   "nbconvert_exporter": "python",
   "pygments_lexer": "ipython3",
   "version": "3.8.6"
  },
  "orig_nbformat": 4,
  "vscode": {
   "interpreter": {
    "hash": "846fd2d9bb562a436898b7cc368204fc2f9d44e5e9b051b4f6e855e721078f23"
   }
  }
 },
 "nbformat": 4,
 "nbformat_minor": 2
}
