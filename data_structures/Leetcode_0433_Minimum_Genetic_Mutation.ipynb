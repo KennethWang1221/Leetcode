{
 "cells": [
  {
   "attachments": {},
   "cell_type": "markdown",
   "metadata": {},
   "source": [
    "## Method1 - BFS\n",
    "https://leetcode.com/problems/minimum-genetic-mutation/solutions/2097023/python-3-10-dfs-bfs-very-short/?envType=study-plan-v2&envId=top-interview-150"
   ]
  },
  {
   "cell_type": "code",
   "execution_count": 3,
   "metadata": {},
   "outputs": [
    {
     "name": "stdout",
     "output_type": "stream",
     "text": [
      "2\n"
     ]
    }
   ],
   "source": [
    "def minMutation(startGene, endGene, bank):\n",
    "\n",
    "    bank = set(bank)\n",
    "    dq = [(startGene, 0)]\n",
    "\n",
    "    while dq:\n",
    "        word, steps = dq.pop(0)\n",
    "        if word == endGene:\n",
    "            return steps\n",
    "\n",
    "        for i, ch in enumerate(word):\n",
    "            for new_ch in \"ACGT\":\n",
    "                new_word = word[:i] + new_ch + word[i+1:]\n",
    "                if new_word in bank:\n",
    "                    bank.remove(new_word)\n",
    "                    dq.append((new_word, steps + 1))\n",
    "\n",
    "    return -1\n",
    "\n",
    "\n",
    "\n",
    "startGene = \"AACCGGTT\"\n",
    "endGene = \"AAACGGTA\"\n",
    "bank = [\"AACCGGTA\",\"AACCGCTA\",\"AAACGGTA\"]\n",
    "res = minMutation(startGene, endGene, bank)\n",
    "print(res)"
   ]
  },
  {
   "attachments": {},
   "cell_type": "markdown",
   "metadata": {},
   "source": [
    "## Method2 - DFS\n",
    "https://leetcode.com/problems/minimum-genetic-mutation/solutions/2097023/python-3-10-dfs-bfs-very-short/?envType=study-plan-v2&envId=top-interview-150"
   ]
  },
  {
   "cell_type": "code",
   "execution_count": 5,
   "metadata": {},
   "outputs": [
    {
     "name": "stdout",
     "output_type": "stream",
     "text": [
      "2\n"
     ]
    }
   ],
   "source": [
    "\n",
    "def minMutation(startGene, endGene, bank):\n",
    "    bank = set(bank) | {startGene}\n",
    "\n",
    "    def dfs(st0, cnt):\n",
    "        if st0 == endGene:\n",
    "            return cnt\n",
    "\n",
    "        bank.remove(st0)\n",
    "        for i, ch0 in enumerate(st0):\n",
    "            for ch1 in \"ACGT\":\n",
    "                if (\n",
    "                    ch0 != ch1\n",
    "                    and (st1 := st0[:i] + ch1 + st0[i + 1 :]) in bank\n",
    "                    and (res := dfs(st1, cnt + 1)) != -1\n",
    "                ):\n",
    "                    return res\n",
    "\n",
    "        return -1\n",
    "\n",
    "    return dfs(startGene, 0)\n",
    "\n",
    "startGene = \"AACCGGTT\"\n",
    "endGene = \"AAACGGTA\"\n",
    "bank = [\"AACCGGTA\",\"AACCGCTA\",\"AAACGGTA\"]\n",
    "res = minMutation(startGene, endGene, bank)\n",
    "print(res)"
   ]
  },
  {
   "cell_type": "markdown",
   "metadata": {},
   "source": [
    "## Leetcode_0127_word_ladder - Graph - BFS\n",
    "https://www.youtube.com/watch?v=h9iTnkgv05E"
   ]
  },
  {
   "cell_type": "code",
   "execution_count": 1,
   "metadata": {},
   "outputs": [
    {
     "name": "stdout",
     "output_type": "stream",
     "text": [
      "5\n"
     ]
    }
   ],
   "source": [
    "def ladderLength(beginWord, endWord, wordList):\n",
    "    if endWord not in wordList:\n",
    "        return 0\n",
    "\n",
    "    nei = {} #nei = collections.defaultdict(list)\n",
    "    wordList.append(beginWord)\n",
    "    for word in wordList:\n",
    "        for j in range(len(word)):\n",
    "            pattern = word[:j] + \"*\" + word[j + 1 :]\n",
    "            if pattern not in nei:\n",
    "                nei[pattern] = []\n",
    "            nei[pattern].append(word)\n",
    "\n",
    "    visit = set([beginWord])\n",
    "    q = [beginWord] #q = deque([beginWord])\n",
    "    res = 1\n",
    "    while q:\n",
    "        for i in range(len(q)):\n",
    "            word = q.pop(0)\n",
    "            if word == endWord:\n",
    "                return res\n",
    "            for j in range(len(word)):\n",
    "                pattern = word[:j] + \"*\" + word[j + 1 :]\n",
    "                for neiWord in nei[pattern]:\n",
    "                    if neiWord not in visit:\n",
    "                        visit.add(neiWord)\n",
    "                        q.append(neiWord)\n",
    "        res += 1\n",
    "    return 0\n",
    "\n",
    "beginWord = \"hit\"\n",
    "endWord = \"cog\"\n",
    "wordList = [\"hot\",\"dot\",\"dog\",\"lot\",\"log\",\"cog\"]\n",
    "res = ladderLength(beginWord, endWord, wordList)\n",
    "print(res)"
   ]
  }
 ],
 "metadata": {
  "kernelspec": {
   "display_name": "leetcode_env",
   "language": "python",
   "name": "leetcode_env"
  },
  "language_info": {
   "codemirror_mode": {
    "name": "ipython",
    "version": 3
   },
   "file_extension": ".py",
   "mimetype": "text/x-python",
   "name": "python",
   "nbconvert_exporter": "python",
   "pygments_lexer": "ipython3",
   "version": "3.8.6"
  }
 },
 "nbformat": 4,
 "nbformat_minor": 2
}
