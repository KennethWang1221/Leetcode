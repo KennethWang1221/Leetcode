{
 "cells": [
  {
   "attachments": {},
   "cell_type": "markdown",
   "metadata": {},
   "source": [
    "## Method1 - BFS\n",
    "https://leetcode.com/problems/minimum-genetic-mutation/solutions/2097023/python-3-10-dfs-bfs-very-short/?envType=study-plan-v2&envId=top-interview-150"
   ]
  },
  {
   "cell_type": "code",
   "execution_count": 3,
   "metadata": {},
   "outputs": [
    {
     "name": "stdout",
     "output_type": "stream",
     "text": [
      "2\n"
     ]
    }
   ],
   "source": [
    "def minMutation(startGene, endGene, bank):\n",
    "\n",
    "    bank = set(bank)\n",
    "    dq = [(startGene, 0)]\n",
    "\n",
    "    while dq:\n",
    "        word, steps = dq.pop(0)\n",
    "        if word == endGene:\n",
    "            return steps\n",
    "\n",
    "        for i, ch in enumerate(word):\n",
    "            for new_ch in \"ACGT\":\n",
    "                new_word = word[:i] + new_ch + word[i+1:]\n",
    "                if new_word in bank:\n",
    "                    bank.remove(new_word)\n",
    "                    dq.append((new_word, steps + 1))\n",
    "\n",
    "    return -1\n",
    "\n",
    "\n",
    "\n",
    "startGene = \"AACCGGTT\"\n",
    "endGene = \"AAACGGTA\"\n",
    "bank = [\"AACCGGTA\",\"AACCGCTA\",\"AAACGGTA\"]\n",
    "res = minMutation(startGene, endGene, bank)\n",
    "print(res)"
   ]
  },
  {
   "attachments": {},
   "cell_type": "markdown",
   "metadata": {},
   "source": [
    "## Method2 - DFS\n",
    "https://leetcode.com/problems/minimum-genetic-mutation/solutions/2097023/python-3-10-dfs-bfs-very-short/?envType=study-plan-v2&envId=top-interview-150"
   ]
  },
  {
   "cell_type": "code",
   "execution_count": 5,
   "metadata": {},
   "outputs": [
    {
     "name": "stdout",
     "output_type": "stream",
     "text": [
      "2\n"
     ]
    }
   ],
   "source": [
    "\n",
    "def minMutation(startGene, endGene, bank):\n",
    "    bank = set(bank) | {startGene}\n",
    "\n",
    "    def dfs(st0, cnt):\n",
    "        if st0 == endGene:\n",
    "            return cnt\n",
    "\n",
    "        bank.remove(st0)\n",
    "        for i, ch0 in enumerate(st0):\n",
    "            for ch1 in \"ACGT\":\n",
    "                if (\n",
    "                    ch0 != ch1\n",
    "                    and (st1 := st0[:i] + ch1 + st0[i + 1 :]) in bank\n",
    "                    and (res := dfs(st1, cnt + 1)) != -1\n",
    "                ):\n",
    "                    return res\n",
    "\n",
    "        return -1\n",
    "\n",
    "    return dfs(startGene, 0)\n",
    "\n",
    "startGene = \"AACCGGTT\"\n",
    "endGene = \"AAACGGTA\"\n",
    "bank = [\"AACCGGTA\",\"AACCGCTA\",\"AAACGGTA\"]\n",
    "res = minMutation(startGene, endGene, bank)\n",
    "print(res)"
   ]
  }
 ],
 "metadata": {
  "kernelspec": {
   "display_name": "test_env",
   "language": "python",
   "name": "test_env"
  },
  "language_info": {
   "codemirror_mode": {
    "name": "ipython",
    "version": 3
   },
   "file_extension": ".py",
   "mimetype": "text/x-python",
   "name": "python",
   "nbconvert_exporter": "python",
   "pygments_lexer": "ipython3",
   "version": "3.8.10"
  }
 },
 "nbformat": 4,
 "nbformat_minor": 2
}
