{
 "cells": [
  {
   "cell_type": "markdown",
   "metadata": {},
   "source": [
    "## Method1-DIY"
   ]
  },
  {
   "cell_type": "code",
   "execution_count": 1,
   "metadata": {},
   "outputs": [
    {
     "name": "stdout",
     "output_type": "stream",
     "text": [
      "<__main__.TreeNode object at 0x10b8a8e80>\n"
     ]
    }
   ],
   "source": [
    "class TreeNode(object):\n",
    "    def __init__(self, x):\n",
    "        if x == None:\n",
    "            self.val = None\n",
    "        else:\n",
    "            self.val = x\n",
    "        self.left = None\n",
    "        self.right = None \n",
    "\n",
    "\n",
    "def constructMaximumBinaryTree(nums):\n",
    "    if nums == []: return\n",
    "    root = TreeNode(max(nums))\n",
    "    mid = nums.index(max(nums))\n",
    "    left, right = nums[:mid], nums[mid+1:]\n",
    "    \n",
    "    root.left = constructMaximumBinaryTree(left)\n",
    "    root.right = constructMaximumBinaryTree(right)\n",
    "\n",
    "    return root\n",
    "\n",
    "nums = [3,2,1,6,0,5]\n",
    "res = constructMaximumBinaryTree(nums)\n",
    "print(res)"
   ]
  },
  {
   "cell_type": "markdown",
   "metadata": {},
   "source": [
    "similar to 0104_Maximum_Depth_of_Binary_Tree.ipynb and 0105_Construct_Binary_Tree_from_Preorder_and_Inorder_Traversal.ipynb"
   ]
  },
  {
   "cell_type": "markdown",
   "metadata": {},
   "source": [
    "## Method2\n",
    "https://github.com/youngyangyang04/leetcode-master/blob/master/problems/0654.%E6%9C%80%E5%A4%A7%E4%BA%8C%E5%8F%89%E6%A0%91.md"
   ]
  },
  {
   "cell_type": "code",
   "execution_count": null,
   "metadata": {},
   "outputs": [],
   "source": [
    "class Solution:\n",
    "    \"\"\"递归法 更快\"\"\"\n",
    "    def constructMaximumBinaryTree(self, nums: List[int]) -> TreeNode:\n",
    "        if not nums:\n",
    "            return None\n",
    "        maxvalue = max(nums)\n",
    "        index = nums.index(maxvalue)\n",
    "        \n",
    "        root = TreeNode(maxvalue)\n",
    "\n",
    "        left = nums[:index]\n",
    "        right = nums[index + 1:]\n",
    "\n",
    "        root.left = self.constructMaximumBinaryTree(left)\n",
    "        root.right = self.constructMaximumBinaryTree(right)\n",
    "        return root\n",
    "        \n",
    "class Solution:\n",
    "    \"\"\"最大二叉树 递归法\"\"\"\n",
    "\n",
    "    def constructMaximumBinaryTree(self, nums: List[int]) -> TreeNode:\n",
    "        return self.traversal(nums, 0, len(nums))\n",
    "    \n",
    "    def traversal(self, nums: List[int], begin: int, end: int) -> TreeNode:\n",
    "        # 列表长度为0时返回空节点\n",
    "        if begin == end:\n",
    "            return None\n",
    "        \n",
    "        # 找到最大的值和其对应的下标\n",
    "        max_index = begin\n",
    "        for i in range(begin, end):\n",
    "            if nums[i] > nums[max_index]:\n",
    "                max_index = i\n",
    "        \n",
    "        # 构建当前节点\n",
    "        root = TreeNode(nums[max_index])\n",
    "        \n",
    "        # 递归构建左右子树\n",
    "        root.left = self.traversal(nums, begin, max_index)\n",
    "        root.right = self.traversal(nums, max_index + 1, end)\n",
    "        \n",
    "        return root"
   ]
  }
 ],
 "metadata": {
  "kernelspec": {
   "display_name": "Python 3.8.6 64-bit ('leetcode_env')",
   "language": "python",
   "name": "python3"
  },
  "language_info": {
   "codemirror_mode": {
    "name": "ipython",
    "version": 3
   },
   "file_extension": ".py",
   "mimetype": "text/x-python",
   "name": "python",
   "nbconvert_exporter": "python",
   "pygments_lexer": "ipython3",
   "version": "3.8.6"
  },
  "orig_nbformat": 4,
  "vscode": {
   "interpreter": {
    "hash": "846fd2d9bb562a436898b7cc368204fc2f9d44e5e9b051b4f6e855e721078f23"
   }
  }
 },
 "nbformat": 4,
 "nbformat_minor": 2
}
