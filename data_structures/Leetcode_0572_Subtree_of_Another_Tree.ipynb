{
 "cells": [
  {
   "cell_type": "markdown",
   "metadata": {},
   "source": [
    "## Method1\n",
    "https://www.youtube.com/watch?v=E36O5SWp-LE"
   ]
  },
  {
   "cell_type": "code",
   "execution_count": 6,
   "metadata": {},
   "outputs": [
    {
     "name": "stdout",
     "output_type": "stream",
     "text": [
      "True\n"
     ]
    }
   ],
   "source": [
    "class TreeNode(object):\n",
    "    def __init__(self, x, left= None, right = None, next = None):\n",
    "        if x == None:\n",
    "            self.val = None\n",
    "        else:\n",
    "            self.val = x\n",
    "        self.left = None\n",
    "        self.right = None\n",
    "        self.next = None\n",
    "\n",
    "def isSubtree(root, subRoot):\n",
    "    s = root\n",
    "    t = subRoot \n",
    "    if not t:return True\n",
    "    if not s:return False\n",
    "\n",
    "    if sameTree(s, t):return True\n",
    "    \n",
    "    return isSubtree(s.left, t) or isSubtree(s.right, t)\n",
    "\n",
    "def sameTree(s, t):\n",
    "    if not s and not t: return True\n",
    "    if s == None or t == None or s.val != t.val: return False\n",
    "\n",
    "    return sameTree(s.left, t.left) and sameTree(s.right, t.right)\n",
    "\n",
    "n1 = TreeNode(3)\n",
    "n2 = TreeNode(4)\n",
    "n3 = TreeNode(5)\n",
    "n4 = TreeNode(1)\n",
    "n5 = TreeNode(2)\n",
    "\n",
    "n1.left = n2\n",
    "n1.right = n3\n",
    "n2.left = n4\n",
    "n2.right = n5\n",
    "\n",
    "\n",
    "s1 = TreeNode(4)\n",
    "s2 = TreeNode(1)\n",
    "s3 = TreeNode(2)\n",
    "s1.left = s2\n",
    "s1.right = s3\n",
    "\n",
    "\n",
    "res = isSubtree(n1, s1)\n",
    "\n",
    "print(res)"
   ]
  },
  {
   "cell_type": "markdown",
   "metadata": {},
   "source": [
    "## Recap\n",
    "similar problems:\n",
    "Leetcode_0572_Subtree_of_Another_Tree.ipynb<br>\n",
    "Leetcode_0100_Same_Tree.ipynb<br>\n",
    "Leetcode_0101_Symmetric_Tree.ipynb<br>"
   ]
  },
  {
   "cell_type": "code",
   "execution_count": 7,
   "metadata": {},
   "outputs": [
    {
     "name": "stdout",
     "output_type": "stream",
     "text": [
      "True\n"
     ]
    }
   ],
   "source": [
    "class TreeNode(object):\n",
    "    def __init__(self, x, left= None, right = None, next = None):\n",
    "        if x == None:\n",
    "            self.val = None\n",
    "        else:\n",
    "            self.val = x\n",
    "        self.left = None\n",
    "        self.right = None\n",
    "        self.next = None\n",
    "\n",
    "def isSubtree(root, subRoot):\n",
    "    if subRoot == None: return True\n",
    "    if root == None: return False\n",
    "\n",
    "    # if they are equal if both of the trees are the same, then we can return true\n",
    "    if sametree(root, subRoot): return True\n",
    "    \n",
    "    # but what if they are not same sub tree and this is kind of the tricky part\n",
    "    # ok, let's see. They're not the same tree but remember this is tree function is recursive\n",
    "    # so, we can instead compare subRoot to the subtree of root. \n",
    "    # we can compare subRoot to the left substree of root (root.left, subRoot) and subRoot to the right substree of root  (root.right, subRoot)\n",
    "    return isSubtree(root.left, subRoot) or isSubtree(root.right, subRoot)\n",
    "\n",
    "def sametree(root,subRoot):\n",
    "    if root == None and subRoot == None: return True\n",
    "    if root == None or subRoot == None or root.val != subRoot.val: return False\n",
    "\n",
    "    return sametree(root.left, subRoot.left) and sametree(root.right, subRoot.right)\n",
    "\n",
    "\n",
    "n1 = TreeNode(3)\n",
    "n2 = TreeNode(4)\n",
    "n3 = TreeNode(5)\n",
    "n4 = TreeNode(1)\n",
    "n5 = TreeNode(2)\n",
    "\n",
    "n1.left = n2\n",
    "n1.right = n3\n",
    "n2.left = n4\n",
    "n2.right = n5\n",
    "\n",
    "\n",
    "s1 = TreeNode(4)\n",
    "s2 = TreeNode(1)\n",
    "s3 = TreeNode(2)\n",
    "s1.left = s2\n",
    "s1.right = s3\n",
    "\n",
    "\n",
    "res = isSubtree(n1, s1)\n",
    "\n",
    "print(res)"
   ]
  }
 ],
 "metadata": {
  "kernelspec": {
   "display_name": "Python 3.8.6 64-bit ('leetcode_env')",
   "language": "python",
   "name": "python3"
  },
  "language_info": {
   "codemirror_mode": {
    "name": "ipython",
    "version": 3
   },
   "file_extension": ".py",
   "mimetype": "text/x-python",
   "name": "python",
   "nbconvert_exporter": "python",
   "pygments_lexer": "ipython3",
   "version": "3.8.6"
  },
  "orig_nbformat": 4,
  "vscode": {
   "interpreter": {
    "hash": "846fd2d9bb562a436898b7cc368204fc2f9d44e5e9b051b4f6e855e721078f23"
   }
  }
 },
 "nbformat": 4,
 "nbformat_minor": 2
}
