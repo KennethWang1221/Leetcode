{
 "cells": [
  {
   "cell_type": "markdown",
   "metadata": {},
   "source": [
    "## Method1 - Heap\n",
    "\n",
    "https://leetcode.com/problems/find-k-pairs-with-smallest-sums/solutions/3687209/easy-heap-solution-beats-93-python3-java-c/?envType=study-plan-v2&envId=top-interview-150"
   ]
  },
  {
   "cell_type": "markdown",
   "metadata": {},
   "source": [
    "gpt version"
   ]
  },
  {
   "cell_type": "code",
   "execution_count": 1,
   "metadata": {},
   "outputs": [
    {
     "name": "stdout",
     "output_type": "stream",
     "text": [
      "[(1, 2), (1, 4), (1, 6)]\n"
     ]
    }
   ],
   "source": [
    "import heapq\n",
    "\n",
    "def kSmallestPairs(nums1, nums2, k):\n",
    "    # If either list is empty or k is non-positive, return an empty list\n",
    "    if not nums1 or not nums2 or k <= 0:\n",
    "        return []\n",
    "\n",
    "    # Initialize a min-heap\n",
    "    min_heap = []\n",
    "    # Push the first k pairs (nums1[i], nums2[0]) into the heap\n",
    "    # We only need the first k elements from nums1 because we are looking for the k smallest pairs\n",
    "    for i in range(min(len(nums1), k)):\n",
    "        heapq.heappush(min_heap, (nums1[i] + nums2[0], i, 0))\n",
    "\n",
    "    # This will store the result pairs\n",
    "    result = []\n",
    "    # Extract the smallest pairs from the heap until we have k pairs\n",
    "    while min_heap and len(result) < k:\n",
    "        # Pop the smallest pair from the heap\n",
    "        sum, i, j = heapq.heappop(min_heap)\n",
    "        # Add the corresponding pair to the result list\n",
    "        result.append((nums1[i], nums2[j]))\n",
    "        # If there are more elements in nums2 to pair with nums1[i], push the next pair into the heap\n",
    "        if j + 1 < len(nums2):\n",
    "            heapq.heappush(min_heap, (nums1[i] + nums2[j + 1], i, j + 1))\n",
    "\n",
    "    return result\n",
    "\n",
    "# Example usage\n",
    "nums1 = [1, 7, 11]\n",
    "nums2 = [2, 4, 6]\n",
    "k = 3\n",
    "res = kSmallestPairs(nums1, nums2, k)\n",
    "print(res)  # Output: [(1, 2), (1, 4), (1, 6)]"
   ]
  }
 ],
 "metadata": {
  "kernelspec": {
   "display_name": "leetcode_env",
   "language": "python",
   "name": "leetcode_env"
  },
  "language_info": {
   "codemirror_mode": {
    "name": "ipython",
    "version": 3
   },
   "file_extension": ".py",
   "mimetype": "text/x-python",
   "name": "python",
   "nbconvert_exporter": "python",
   "pygments_lexer": "ipython3",
   "version": "3.8.6"
  }
 },
 "nbformat": 4,
 "nbformat_minor": 2
}
