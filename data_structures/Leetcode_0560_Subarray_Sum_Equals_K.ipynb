{
 "cells": [
  {
   "cell_type": "code",
   "execution_count": 2,
   "metadata": {},
   "outputs": [
    {
     "name": "stdout",
     "output_type": "stream",
     "text": [
      "2\n"
     ]
    }
   ],
   "source": [
    "def subarraySum(nums, k):\n",
    "    cursum = 0\n",
    "    res = 0\n",
    "    prefixsum = {0:1}\n",
    "    #prefixsum = {}\n",
    "\n",
    "    for n in nums:\n",
    "        cursum += n \n",
    "        \n",
    "        diff = cursum - k\n",
    "        res += prefixsum.get(diff, 0)\n",
    "\n",
    "        prefixsum[cursum] = prefixsum.get(cursum,0) + 1\n",
    "            \n",
    "    return res\n",
    "\n",
    "nums = [1,1,1]\n",
    "nums = [1,2,3]\n",
    "#nums = [1,2,1,2,1]\n",
    "k = 2\n",
    "k = 3\n",
    "res = subarraySum(nums, k)\n",
    "print(res)"
   ]
  },
  {
   "cell_type": "markdown",
   "metadata": {},
   "source": [
    "learning url:\n",
    "https://www.youtube.com/watch?v=fFVZt-6sgyo"
   ]
  },
  {
   "cell_type": "code",
   "execution_count": 7,
   "metadata": {},
   "outputs": [
    {
     "name": "stdout",
     "output_type": "stream",
     "text": [
      "no\n"
     ]
    }
   ],
   "source": [
    "a = {'1':2,'3':4, 5:6, 7:8}\n",
    "\n",
    "b = 6\n",
    "if b in a:\n",
    "    print(b)\n",
    "else:\n",
    "    print('no')"
   ]
  }
 ],
 "metadata": {
  "kernelspec": {
   "display_name": "Python 3.8.6 64-bit ('leetcode_env')",
   "language": "python",
   "name": "python3"
  },
  "language_info": {
   "codemirror_mode": {
    "name": "ipython",
    "version": 3
   },
   "file_extension": ".py",
   "mimetype": "text/x-python",
   "name": "python",
   "nbconvert_exporter": "python",
   "pygments_lexer": "ipython3",
   "version": "3.8.6"
  },
  "orig_nbformat": 4,
  "vscode": {
   "interpreter": {
    "hash": "846fd2d9bb562a436898b7cc368204fc2f9d44e5e9b051b4f6e855e721078f23"
   }
  }
 },
 "nbformat": 4,
 "nbformat_minor": 2
}
