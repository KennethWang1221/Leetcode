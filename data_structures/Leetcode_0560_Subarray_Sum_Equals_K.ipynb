{
 "cells": [
  {
   "cell_type": "markdown",
   "metadata": {},
   "source": [
    "## Method1 - Prefix Sum\n",
    "\n",
    "https://www.youtube.com/watch?v=fFVZt-6sgyo"
   ]
  },
  {
   "cell_type": "code",
   "execution_count": 2,
   "metadata": {},
   "outputs": [
    {
     "name": "stdout",
     "output_type": "stream",
     "text": [
      "2\n"
     ]
    }
   ],
   "source": [
    "def subarraySum(nums, k):\n",
    "    cursum = 0\n",
    "    res = 0\n",
    "    prefixsum = {0:1}\n",
    "    #prefixsum = {}\n",
    "\n",
    "    for n in nums:\n",
    "        cursum += n \n",
    "        \n",
    "        diff = cursum - k\n",
    "        res += prefixsum.get(diff, 0)\n",
    "\n",
    "        prefixsum[cursum] = prefixsum.get(cursum,0) + 1\n",
    "            \n",
    "    return res\n",
    "\n",
    "nums = [1,1,1]\n",
    "nums = [1,2,3]\n",
    "#nums = [1,2,1,2,1]\n",
    "k = 2\n",
    "k = 3\n",
    "res = subarraySum(nums, k)\n",
    "print(res)"
   ]
  },
  {
   "cell_type": "markdown",
   "metadata": {},
   "source": [
    "## Method2 - Backtracking - But Time Limit Exceeded"
   ]
  },
  {
   "cell_type": "code",
   "execution_count": 2,
   "metadata": {},
   "outputs": [
    {
     "name": "stdout",
     "output_type": "stream",
     "text": [
      "[[1, 2], [3]]\n",
      "2\n"
     ]
    }
   ],
   "source": [
    "def subarraySum(nums, k):\n",
    "    result = []  # This will store all contiguous subarrays that sum to k\n",
    "    n = len(nums)\n",
    "    \n",
    "    def backtrack(index, current_subarray, current_sum):\n",
    "        # Only count if the subarray is non-empty\n",
    "        if current_subarray and current_sum == k:\n",
    "            result.append(current_subarray.copy())\n",
    "        \n",
    "        # Stop recursion if we've reached the end of the array.\n",
    "        if index >= n:\n",
    "            return\n",
    "        \n",
    "        # Since we need contiguous subarrays, add the element at the current index.\n",
    "        current_subarray.append(nums[index])\n",
    "        backtrack(index + 1, current_subarray, current_sum + nums[index])\n",
    "        current_subarray.pop()  # Backtrack: remove the last element to try new paths.\n",
    "    \n",
    "    # Start a new contiguous subarray from every index in the array.\n",
    "    for start in range(n):\n",
    "        backtrack(start, [], 0)\n",
    "    \n",
    "    # For debugging, you can print the subarrays that sum to k.\n",
    "    print(result)\n",
    "    return len(result)\n",
    "nums = [1,1,1]\n",
    "nums = [1,2,3]\n",
    "#nums = [1,2,1,2,1]\n",
    "k = 2\n",
    "k = 3\n",
    "res = subarraySum(nums, k)\n",
    "print(res)"
   ]
  }
 ],
 "metadata": {
  "kernelspec": {
   "display_name": "leetcode_env",
   "language": "python",
   "name": "leetcode_env"
  },
  "language_info": {
   "codemirror_mode": {
    "name": "ipython",
    "version": 3
   },
   "file_extension": ".py",
   "mimetype": "text/x-python",
   "name": "python",
   "nbconvert_exporter": "python",
   "pygments_lexer": "ipython3",
   "version": "3.8.6"
  },
  "orig_nbformat": 4,
  "vscode": {
   "interpreter": {
    "hash": "846fd2d9bb562a436898b7cc368204fc2f9d44e5e9b051b4f6e855e721078f23"
   }
  }
 },
 "nbformat": 4,
 "nbformat_minor": 2
}
