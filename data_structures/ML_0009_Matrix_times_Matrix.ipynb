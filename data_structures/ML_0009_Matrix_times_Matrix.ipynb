{
 "cells": [
  {
   "cell_type": "markdown",
   "metadata": {},
   "source": [
    "## Method1 - Matrix"
   ]
  },
  {
   "cell_type": "code",
   "execution_count": 13,
   "metadata": {},
   "outputs": [
    {
     "name": "stdout",
     "output_type": "stream",
     "text": [
      "[[58, 64], [139, 154]]\n"
     ]
    }
   ],
   "source": [
    "def matrix_multiply(A, B):\n",
    "    # Check if the number of columns in A equals the number of rows in B\n",
    "    if len(A[0]) != len(B):\n",
    "        return -1\n",
    "    \n",
    "    # Initialize the result matrix with zeros\n",
    "    rows_A, cols_A = len(A), len(A[0])\n",
    "    rows_B, cols_B = len(B), len(B[0])\n",
    "    result = [[0 for _ in range(cols_B)] for _ in range(rows_A)]\n",
    "    \n",
    "    # Perform matrix multiplication\n",
    "    for i in range(rows_A):\n",
    "        for j in range(cols_B):\n",
    "            for k in range(cols_A):  # or len(B)\n",
    "                result[i][j] += A[i][k] * B[k][j]\n",
    "    \n",
    "    return result\n",
    "\n",
    "# Example Usage\n",
    "A = [\n",
    "    [1, 2, 3],\n",
    "    [4, 5, 6]\n",
    "]\n",
    "\n",
    "B = [\n",
    "    [7, 8],\n",
    "    [9, 10],\n",
    "    [11, 12]\n",
    "]\n",
    "\n",
    "print(matrix_multiply(A, B))  # Expected output: [[58, 64], [139, 154]]"
   ]
  },
  {
   "cell_type": "code",
   "execution_count": 11,
   "metadata": {},
   "outputs": [
    {
     "name": "stdout",
     "output_type": "stream",
     "text": [
      "[[58, 64], [139, 154]]\n"
     ]
    }
   ],
   "source": [
    "def matrixmul(a,b):\n",
    "    if len(a[0]) != len(b):\n",
    "        return -1\n",
    "    \n",
    "    vals = []\n",
    "    for i in range(len(a)):\n",
    "        hold = []\n",
    "        for j in range(len(b[0])):\n",
    "            val = 0\n",
    "            for k in range(len(b)):\n",
    "                val += a[i][k] * b[k][j]\n",
    "                           \n",
    "            hold.append(val)\n",
    "        vals.append(hold)\n",
    "\n",
    "    return vals\n",
    "\n",
    "print(matrix_multiply(A, B))  # Expected output: [[58, 64], [139, 154]]"
   ]
  }
 ],
 "metadata": {
  "kernelspec": {
   "display_name": "leetcode_env",
   "language": "python",
   "name": "python3"
  },
  "language_info": {
   "codemirror_mode": {
    "name": "ipython",
    "version": 3
   },
   "file_extension": ".py",
   "mimetype": "text/x-python",
   "name": "python",
   "nbconvert_exporter": "python",
   "pygments_lexer": "ipython3",
   "version": "3.8.6"
  }
 },
 "nbformat": 4,
 "nbformat_minor": 2
}
