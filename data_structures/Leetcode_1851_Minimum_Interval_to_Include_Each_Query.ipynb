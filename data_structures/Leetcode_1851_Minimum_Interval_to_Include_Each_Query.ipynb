{
 "cells": [
  {
   "cell_type": "markdown",
   "metadata": {},
   "source": [
    "## Method1 -  Heap and Intervals\n",
    "\n",
    "https://www.youtube.com/watch?v=5hQ5WWW5awQ"
   ]
  },
  {
   "cell_type": "code",
   "execution_count": 1,
   "metadata": {},
   "outputs": [
    {
     "name": "stdout",
     "output_type": "stream",
     "text": [
      "[3, 3, 1, 4]\n"
     ]
    }
   ],
   "source": [
    "import heapq\n",
    "\n",
    "def minInterval(intervals, queries):\n",
    "    intervals.sort()\n",
    "    minHeap = []\n",
    "    res = {}\n",
    "    i = 0\n",
    "    for q in sorted(queries):\n",
    "        while i < len(intervals) and intervals[i][0] <= q:\n",
    "            l, r = intervals[i]\n",
    "            heapq.heappush(minHeap, (r - l + 1, r))\n",
    "            i += 1\n",
    "\n",
    "        while minHeap and minHeap[0][1] < q:\n",
    "            heapq.heappop(minHeap)\n",
    "        res[q] = minHeap[0][0] if minHeap else -1\n",
    "    return [res[q] for q in queries]\n",
    "print(minInterval(intervals = [[1,4],[2,4],[3,6],[4,4]], queries = [2,3,4,5]))"
   ]
  }
 ],
 "metadata": {
  "kernelspec": {
   "display_name": "leetcode_env",
   "language": "python",
   "name": "python3"
  },
  "language_info": {
   "codemirror_mode": {
    "name": "ipython",
    "version": 3
   },
   "file_extension": ".py",
   "mimetype": "text/x-python",
   "name": "python",
   "nbconvert_exporter": "python",
   "pygments_lexer": "ipython3",
   "version": "3.8.6"
  }
 },
 "nbformat": 4,
 "nbformat_minor": 2
}
