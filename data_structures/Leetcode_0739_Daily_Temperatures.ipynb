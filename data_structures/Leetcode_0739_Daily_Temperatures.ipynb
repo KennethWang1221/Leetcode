{
 "cells": [
  {
   "cell_type": "markdown",
   "metadata": {},
   "source": [
    "## Method: monotonic stack<br>\n",
    "similar problems: 0042_Trapping_Rain_Water and 0503_Next_greater_E_II.ipynb"
   ]
  },
  {
   "cell_type": "code",
   "execution_count": 6,
   "metadata": {},
   "outputs": [
    {
     "name": "stdout",
     "output_type": "stream",
     "text": [
      "[1, 1, 4, 2, 1, 1, 0, 0]\n"
     ]
    }
   ],
   "source": [
    "def dailyTemperatures(temperatures):\n",
    "    stack = []\n",
    "    n = len(temperatures)\n",
    "\n",
    "    res = [0] * n\n",
    "    for i, t in enumerate(temperatures):\n",
    "        while stack and t > stack[-1][0]:\n",
    "            stackT, stackInd = stack.pop()\n",
    "            res[stackInd] = (i - stackInd)\n",
    "        stack.append([t,i])\n",
    "\n",
    "    return res\n",
    "\n",
    "temperatures = [73,74,75,71,69,72,76,73]\n",
    "res = dailyTemperatures(temperatures)\n",
    "print(res)"
   ]
  },
  {
   "cell_type": "markdown",
   "metadata": {},
   "source": [
    "learning url: https://www.youtube.com/watch?v=cTBiBSnjO3c"
   ]
  },
  {
   "cell_type": "markdown",
   "metadata": {},
   "source": [
    "## Wrong Method:Time Limit Exceeded"
   ]
  },
  {
   "cell_type": "code",
   "execution_count": 7,
   "metadata": {},
   "outputs": [
    {
     "name": "stdout",
     "output_type": "stream",
     "text": [
      "[1, 1, 4, 2, 1, 1, 0, 0]\n"
     ]
    }
   ],
   "source": [
    "def dailyTemperatures(temperatures):\n",
    "    stack = []\n",
    "    n = len(temperatures)\n",
    "\n",
    "    res = [0] * n\n",
    "    for i in range(n):\n",
    "        index = i\n",
    "        while stack and index<n:\n",
    "            if temperatures[index]>temperatures[stack[-1]]: \n",
    "                index = index - stack[-1]        \n",
    "                res[stack.pop(-1)] = index\n",
    "                break\n",
    "            else:\n",
    "                pass\n",
    "\n",
    "            index +=1\n",
    "        \n",
    "\n",
    "        stack.append(i)\n",
    "    return res\n",
    "\n",
    "temperatures = [73,74,75,71,69,72,76,73]\n",
    "res = dailyTemperatures(temperatures)\n",
    "print(res)"
   ]
  }
 ],
 "metadata": {
  "kernelspec": {
   "display_name": "Python 3.8.6 64-bit ('leetcode_env')",
   "language": "python",
   "name": "python3"
  },
  "language_info": {
   "codemirror_mode": {
    "name": "ipython",
    "version": 3
   },
   "file_extension": ".py",
   "mimetype": "text/x-python",
   "name": "python",
   "nbconvert_exporter": "python",
   "pygments_lexer": "ipython3",
   "version": "3.8.6"
  },
  "orig_nbformat": 4,
  "vscode": {
   "interpreter": {
    "hash": "846fd2d9bb562a436898b7cc368204fc2f9d44e5e9b051b4f6e855e721078f23"
   }
  }
 },
 "nbformat": 4,
 "nbformat_minor": 2
}
