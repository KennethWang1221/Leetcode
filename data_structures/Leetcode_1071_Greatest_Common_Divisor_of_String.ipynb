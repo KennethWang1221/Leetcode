{
 "cells": [
  {
   "cell_type": "markdown",
   "metadata": {},
   "source": [
    "## Method1 - Math\n",
    "https://www.youtube.com/watch?v=i5I_wrbUdzM"
   ]
  },
  {
   "cell_type": "code",
   "execution_count": 6,
   "metadata": {},
   "outputs": [
    {
     "name": "stdout",
     "output_type": "stream",
     "text": [
      "AB\n"
     ]
    }
   ],
   "source": [
    "def gcdOfStrings(str1, str2):\n",
    "    len1, len2 = len(str1), len(str2)\n",
    "\n",
    "    def isDivisor(l):\n",
    "        if len1 % l or len2 % l:  # Check if l divides both lengths\n",
    "            return False\n",
    "        f1, f2 = len1 // l, len2 // l  # Compute the repeat factors\n",
    "\n",
    "        return str1[:l] * f1 == str1 and str1[:l] * f2 == str2\n",
    "\n",
    "    for l in range(min(len1, len2), 0, -1):\n",
    "        if isDivisor(l):\n",
    "            return str1[:l]\n",
    "    return \"\"\n",
    "print(gcdOfStrings(str1 = \"ABABAB\", str2 = \"ABAB\"))"
   ]
  }
 ],
 "metadata": {
  "kernelspec": {
   "display_name": "leetcode_env",
   "language": "python",
   "name": "leetcode_env"
  },
  "language_info": {
   "codemirror_mode": {
    "name": "ipython",
    "version": 3
   },
   "file_extension": ".py",
   "mimetype": "text/x-python",
   "name": "python",
   "nbconvert_exporter": "python",
   "pygments_lexer": "ipython3",
   "version": "3.8.6"
  }
 },
 "nbformat": 4,
 "nbformat_minor": 2
}
