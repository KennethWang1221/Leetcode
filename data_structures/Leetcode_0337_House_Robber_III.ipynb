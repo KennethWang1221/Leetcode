{
 "cells": [
  {
   "cell_type": "markdown",
   "metadata": {},
   "source": [
    "## Method1 - Tree DP + Binary Tree Postorder Traversal\n",
    "https://www.youtube.com/watch?v=nHR8ytpzz7c"
   ]
  },
  {
   "cell_type": "code",
   "execution_count": 6,
   "metadata": {},
   "outputs": [
    {
     "name": "stdout",
     "output_type": "stream",
     "text": [
      "7\n"
     ]
    }
   ],
   "source": [
    "from typing import Optional\n",
    "\n",
    "# Test the solution with the given tree\n",
    "def build_tree(values):\n",
    "    if not values:\n",
    "        return None\n",
    "    root = TreeNode(values[0])\n",
    "    queue = [root]\n",
    "    index = 1\n",
    "    while queue and index < len(values):\n",
    "        node = queue.pop(0)\n",
    "        if values[index] is not None:\n",
    "            node.left = TreeNode(values[index])\n",
    "            queue.append(node.left)\n",
    "        index += 1\n",
    "        if index < len(values) and values[index] is not None:\n",
    "            node.right = TreeNode(values[index])\n",
    "            queue.append(node.right)\n",
    "        index += 1\n",
    "    return root\n",
    "\n",
    "# Definition for a binary tree node.\n",
    "class TreeNode:\n",
    "    def __init__(self, val=0, left=None, right=None):\n",
    "        self.val = val\n",
    "        self.left = left\n",
    "        self.right = right\n",
    "\n",
    "class Solution:\n",
    "    def rob(self, root: Optional[TreeNode]) -> int:\n",
    "        def dfs(node):\n",
    "            if not node:\n",
    "                return (0, 0)\n",
    "            \n",
    "            leftPair = dfs(node.left)\n",
    "            rightPair = dfs(node.right)\n",
    "            \n",
    "            withRoot = node.val + leftPair[1] + rightPair[1]\n",
    "            withoutRoot = max(leftPair) + max(rightPair)\n",
    "            \n",
    "            return (withRoot, withoutRoot)\n",
    "        \n",
    "        return max(dfs(root))\n",
    "\n",
    "root = build_tree([3, 2, 3, None, 3, None, 1])\n",
    "solution = Solution()\n",
    "print(solution.rob(root))  # Expected output: 7"
   ]
  }
 ],
 "metadata": {
  "kernelspec": {
   "display_name": "test_env",
   "language": "python",
   "name": "python3"
  },
  "language_info": {
   "codemirror_mode": {
    "name": "ipython",
    "version": 3
   },
   "file_extension": ".py",
   "mimetype": "text/x-python",
   "name": "python",
   "nbconvert_exporter": "python",
   "pygments_lexer": "ipython3",
   "version": "3.8.10"
  }
 },
 "nbformat": 4,
 "nbformat_minor": 2
}
