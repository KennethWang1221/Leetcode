{
 "cells": [
  {
   "cell_type": "markdown",
   "metadata": {},
   "source": [
    "## Method1 - Stack"
   ]
  },
  {
   "cell_type": "code",
   "execution_count": 6,
   "metadata": {},
   "outputs": [
    {
     "name": "stdout",
     "output_type": "stream",
     "text": [
      "[5, 6, 6, 8, -1]\n"
     ]
    }
   ],
   "source": [
    "def nextGreaterElementII(nums):\n",
    "    stack = []\n",
    "    n = len(nums)\n",
    "    result = [-1] * n\n",
    "    iter = n*2\n",
    "    for i in range(iter):\n",
    "        index = i % n \n",
    "        while stack and nums[index]>nums[stack[-1]]:\n",
    "            result[stack.pop(-1)] = nums[index]\n",
    "        \n",
    "        stack.append(index)\n",
    "    return result\n",
    "        \n",
    "print(nextGreaterElementII(nums = [1,5,3,6,8]))"
   ]
  }
 ],
 "metadata": {
  "kernelspec": {
   "display_name": "Python 3.8.6 64-bit ('leetcode_env')",
   "language": "python",
   "name": "python3"
  },
  "language_info": {
   "codemirror_mode": {
    "name": "ipython",
    "version": 3
   },
   "file_extension": ".py",
   "mimetype": "text/x-python",
   "name": "python",
   "nbconvert_exporter": "python",
   "pygments_lexer": "ipython3",
   "version": "3.8.6"
  },
  "orig_nbformat": 4,
  "vscode": {
   "interpreter": {
    "hash": "846fd2d9bb562a436898b7cc368204fc2f9d44e5e9b051b4f6e855e721078f23"
   }
  }
 },
 "nbformat": 4,
 "nbformat_minor": 2
}
