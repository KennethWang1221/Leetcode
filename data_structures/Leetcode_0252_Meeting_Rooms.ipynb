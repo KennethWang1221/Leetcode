{
 "cells": [
  {
   "cell_type": "markdown",
   "metadata": {},
   "source": [
    "## Method1 - DIY - Intervals\n"
   ]
  },
  {
   "cell_type": "code",
   "execution_count": 1,
   "metadata": {},
   "outputs": [
    {
     "name": "stdout",
     "output_type": "stream",
     "text": [
      "False\n"
     ]
    }
   ],
   "source": [
    "def canAttendMeetings(intervals):\n",
    "    n = len(intervals)\n",
    "    if not intervals: return True\n",
    "    intervals.sort(key=lambda x: x[0])\n",
    "    res = [intervals[0]]\n",
    "    for i in range(1,n):\n",
    "        prevstart, prevend = res[-1][0], res[-1][1]\n",
    "        curstart, curend = intervals[i][0], intervals[i][1]\n",
    "        if curstart < prevend or curend < prevend:\n",
    "            return False\n",
    "        else:\n",
    "            res.append([curstart, curend])\n",
    "    return True\n",
    "print(canAttendMeetings(intervals = [[0,30],[5,10],[15,20]]))"
   ]
  },
  {
   "cell_type": "markdown",
   "metadata": {},
   "source": [
    "## Method2 - Intervals\n",
    "\n",
    "https://www.youtube.com/watch?v=PaJxqZVPhbg"
   ]
  },
  {
   "cell_type": "code",
   "execution_count": 2,
   "metadata": {},
   "outputs": [
    {
     "name": "stdout",
     "output_type": "stream",
     "text": [
      "False\n"
     ]
    }
   ],
   "source": [
    "def canAttendMeetings(intervals):\n",
    "    intervals.sort(key=lambda i: i[0])\n",
    "\n",
    "    for i in range(1, len(intervals)):\n",
    "        i1 = intervals[i - 1]\n",
    "        i2 = intervals[i]\n",
    "\n",
    "        if i1[1] > i2[0]:\n",
    "            return False\n",
    "    return True\n",
    "print(canAttendMeetings(intervals = [[0,30],[5,10],[15,20]]))"
   ]
  }
 ],
 "metadata": {
  "kernelspec": {
   "display_name": "leetcode_env",
   "language": "python",
   "name": "python3"
  },
  "language_info": {
   "codemirror_mode": {
    "name": "ipython",
    "version": 3
   },
   "file_extension": ".py",
   "mimetype": "text/x-python",
   "name": "python",
   "nbconvert_exporter": "python",
   "pygments_lexer": "ipython3",
   "version": "3.8.6"
  }
 },
 "nbformat": 4,
 "nbformat_minor": 2
}
