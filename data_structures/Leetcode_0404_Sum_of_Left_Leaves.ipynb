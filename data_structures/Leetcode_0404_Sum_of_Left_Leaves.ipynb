{
 "cells": [
  {
   "cell_type": "markdown",
   "metadata": {},
   "source": [
    "## Method1-Recursive\n",
    "https://github.com/youngyangyang04/leetcode-master/blob/master/problems/0404.%E5%B7%A6%E5%8F%B6%E5%AD%90%E4%B9%8B%E5%92%8C.md"
   ]
  },
  {
   "cell_type": "code",
   "execution_count": 12,
   "metadata": {},
   "outputs": [
    {
     "name": "stdout",
     "output_type": "stream",
     "text": [
      "24\n"
     ]
    }
   ],
   "source": [
    "class TreeNode(object):\n",
    "    def __init__(self, x):\n",
    "        if x == None:\n",
    "            self.val = None\n",
    "        else:\n",
    "            self.val = x\n",
    "        self.left = None\n",
    "        self.right = None \n",
    "\n",
    "\n",
    "# Using Postorder_traversal idea\n",
    "def sumOfLeftLeaves(root):\n",
    "    res = []\n",
    "    if root == None: return\n",
    "    \n",
    "    stack = [root]\n",
    "    while stack:\n",
    "        cur = stack.pop(-1)\n",
    "        if cur.left != None and cur.left.left == None and cur.left.right == None:\n",
    "            res.append(cur.left.val)\n",
    "        if cur.left:\n",
    "            stack.append(cur.left)\n",
    "        if cur.right:\n",
    "            stack.append(cur.right)\n",
    "        \n",
    "    return sum(res)\n",
    "\n",
    "n1 = TreeNode(1)\n",
    "n2 = TreeNode(9)\n",
    "n3 = TreeNode(20)\n",
    "n4 = TreeNode(15)\n",
    "n5 = TreeNode(7)\n",
    "\n",
    "n1.left = n2\n",
    "n1.right = n3\n",
    "n3.left = n4\n",
    "n3.right = n5\n",
    "\n",
    "res = sumOfLeftLeaves(n1)\n",
    "print(res)"
   ]
  },
  {
   "cell_type": "markdown",
   "metadata": {},
   "source": [
    "## Recursive"
   ]
  },
  {
   "cell_type": "code",
   "execution_count": 13,
   "metadata": {},
   "outputs": [
    {
     "name": "stdout",
     "output_type": "stream",
     "text": [
      "24\n"
     ]
    }
   ],
   "source": [
    "class TreeNode(object):\n",
    "    def __init__(self, x):\n",
    "        if x == None:\n",
    "            self.val = None\n",
    "        else:\n",
    "            self.val = x\n",
    "        self.left = None\n",
    "        self.right = None \n",
    "\n",
    "def sumOfLeftLeaves(root):\n",
    "    if not root: \n",
    "        return 0\n",
    "    \n",
    "    left_left_leaves_sum = sumOfLeftLeaves(root.left)  # 左\n",
    "    right_left_leaves_sum = sumOfLeftLeaves(root.right) # 右\n",
    "    \n",
    "    cur_left_leaf_val = 0\n",
    "    if root.left and not root.left.left and not root.left.right: \n",
    "        cur_left_leaf_val = root.left.val \n",
    "        \n",
    "    return cur_left_leaf_val + left_left_leaves_sum + right_left_leaves_sum # 中\n",
    "\n",
    "n1 = TreeNode(1)\n",
    "n2 = TreeNode(9)\n",
    "n3 = TreeNode(20)\n",
    "n4 = TreeNode(15)\n",
    "n5 = TreeNode(7)\n",
    "\n",
    "n1.left = n2\n",
    "n1.right = n3\n",
    "n3.left = n4\n",
    "n3.right = n5\n",
    "\n",
    "res = sumOfLeftLeaves(n1)\n",
    "print(res)"
   ]
  },
  {
   "cell_type": "markdown",
   "metadata": {},
   "source": [
    "## 0145 Postorder Traversal"
   ]
  },
  {
   "cell_type": "markdown",
   "metadata": {},
   "source": [
    "### Iterative"
   ]
  },
  {
   "cell_type": "code",
   "execution_count": 3,
   "metadata": {},
   "outputs": [
    {
     "name": "stdout",
     "output_type": "stream",
     "text": [
      "[9, 15, 7, 20, 1]\n"
     ]
    }
   ],
   "source": [
    "\n",
    "def postorderTraversal(root):\n",
    "    res = []\n",
    "    if root == None:\n",
    "        return\n",
    "    cur = root\n",
    "    stack = [cur]\n",
    "\n",
    "    while stack:\n",
    "        cur = stack.pop(-1)\n",
    "        res.append(cur.val)\n",
    "\n",
    "        if cur.left:\n",
    "            stack.append(cur.left)\n",
    "\n",
    "        if cur.right:\n",
    "            stack.append(cur.right)\n",
    "    return res[::-1]\n",
    "\n",
    "n1 = TreeNode(1)\n",
    "n2 = TreeNode(9)\n",
    "n3 = TreeNode(20)\n",
    "n4 = TreeNode(15)\n",
    "n5 = TreeNode(7)\n",
    "\n",
    "n1.left = n2\n",
    "n1.right = n3\n",
    "n3.left = n4\n",
    "n3.right = n5\n",
    "\n",
    "\n",
    "res = postorderTraversal(n1)\n",
    "print(res)"
   ]
  },
  {
   "cell_type": "markdown",
   "metadata": {},
   "source": [
    "### Recursive"
   ]
  },
  {
   "cell_type": "code",
   "execution_count": 4,
   "metadata": {},
   "outputs": [
    {
     "name": "stdout",
     "output_type": "stream",
     "text": [
      "[None, 3, 2, 1]\n"
     ]
    }
   ],
   "source": [
    "class TreeNode(object):\n",
    "    def __init__(self, x, left = None, right = None):\n",
    "        self.val = x\n",
    "        self.left = left\n",
    "        self.right = right\n",
    "\n",
    "def postorderTraversal(root):\n",
    "    res = []\n",
    "\n",
    "    def traversal(root):\n",
    "        if root == None:\n",
    "            return \n",
    "        \n",
    "        traversal(root.left)\n",
    "        traversal(root.right)\n",
    "        res.append(root.val)\n",
    "    traversal(root)\n",
    "    \n",
    "    return res\n",
    "\n",
    "\n",
    "n1 = TreeNode(1)\n",
    "n2 = TreeNode(None)\n",
    "n3 = TreeNode(2)\n",
    "n4 = TreeNode(3)\n",
    "\n",
    "n1.left = n2\n",
    "n1.right = n3\n",
    "n3.left = n4\n",
    "\n",
    "\n",
    "res = postorderTraversal(n1)\n",
    "print(res)"
   ]
  }
 ],
 "metadata": {
  "kernelspec": {
   "display_name": "Python 3.8.6 64-bit ('leetcode_env')",
   "language": "python",
   "name": "python3"
  },
  "language_info": {
   "codemirror_mode": {
    "name": "ipython",
    "version": 3
   },
   "file_extension": ".py",
   "mimetype": "text/x-python",
   "name": "python",
   "nbconvert_exporter": "python",
   "pygments_lexer": "ipython3",
   "version": "3.8.6"
  },
  "orig_nbformat": 4,
  "vscode": {
   "interpreter": {
    "hash": "846fd2d9bb562a436898b7cc368204fc2f9d44e5e9b051b4f6e855e721078f23"
   }
  }
 },
 "nbformat": 4,
 "nbformat_minor": 2
}
