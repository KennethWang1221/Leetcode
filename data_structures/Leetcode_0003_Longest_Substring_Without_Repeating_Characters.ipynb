{
 "cells": [
  {
   "cell_type": "markdown",
   "metadata": {},
   "source": [
    "## Method1-hashset\n",
    "https://www.youtube.com/watch?v=wiGpQwVHdE0"
   ]
  },
  {
   "cell_type": "code",
   "execution_count": 3,
   "metadata": {},
   "outputs": [
    {
     "name": "stdout",
     "output_type": "stream",
     "text": [
      "3\n"
     ]
    }
   ],
   "source": [
    "def lengthOfLongestSubstring(s):\n",
    "    n = len(s)\n",
    "    res = 0\n",
    "    charset = set()\n",
    "    l = 0\n",
    "    \n",
    "    for r in range(n):\n",
    "        while s[r] in charset:\n",
    "            charset.remove(s[l])\n",
    "            l+=1\n",
    "        \n",
    "        charset.add(s[r])\n",
    "        res = max(res, r-l+1)\n",
    "        \n",
    "    return res\n",
    "\n",
    "s = \"abcabcbb\"\n",
    "#s = \"pwwkew\"\n",
    "res = lengthOfLongestSubstring(s)\n",
    "print(res)"
   ]
  },
  {
   "cell_type": "markdown",
   "metadata": {},
   "source": [
    "## Other KMP algorithm"
   ]
  },
  {
   "cell_type": "code",
   "execution_count": 9,
   "metadata": {},
   "outputs": [
    {
     "name": "stdout",
     "output_type": "stream",
     "text": [
      "[0, 0, 1, 2, 3, 4, 5, 6]\n",
      "True\n"
     ]
    }
   ],
   "source": [
    "def repeatedSubstringPattern(s):\n",
    "    # abab\n",
    "    # 0010\n",
    "    n = len(s)\n",
    "    \"\"\"\n",
    "    KMP:\n",
    "    1. 初始化 (initialization)\n",
    "    2. 前后缀不相同 (prefix and surfix are different)\n",
    "    3. 前后缀相同 (prefix and surfix are same)\n",
    "    4. 更新 next 数组 (update the next)\n",
    "    \"\"\"\n",
    "    next = [0] * n\n",
    "    j = next[0]\n",
    "    for i in range(1, n):\n",
    "        #j = next[i-1]\n",
    "        while j>0 and s[i] != s[j]:\n",
    "            j = next[j-1]\n",
    "        \n",
    "        if s[i] == s[j]:\n",
    "            j+=1 \n",
    "        \n",
    "        next[i] = j\n",
    "    print(next)\n",
    "    \n",
    "    \"\"\"\n",
    "    如果 s 字符串是由重复子串组成的，那么这个重复子串的最小单位 就是 s 字符串里的\n",
    "    最长相等前后缀所不包含的那个子串组成的。\n",
    "    如果这个最小单位能被 len(s) 也就是原s字符串的长度整除的话，那说明整个字符串它是由\n",
    "    重复的子串来组成的。\n",
    "    也就是说原字符串如果能整除最长相等前后缀这个多余的 ，那说明这个字符串是由重复的子串组成的\n",
    "    \"\"\"\n",
    "    p = next[-1]\n",
    "    a = n % (n-p) \n",
    "\n",
    "    return p>0 and n % (n-p) == 0\n",
    "    \n",
    "\n",
    "s = 'aabaaf'\n",
    "s = \"aba\"\n",
    "s = 'abcabcabcabc'\n",
    "s = 'abababab'\n",
    "#s = 'abac'\n",
    "result = repeatedSubstringPattern(s)\n",
    "print(result)    "
   ]
  }
 ],
 "metadata": {
  "kernelspec": {
   "display_name": "leetcode_env",
   "language": "python",
   "name": "leetcode_env"
  },
  "language_info": {
   "codemirror_mode": {
    "name": "ipython",
    "version": 3
   },
   "file_extension": ".py",
   "mimetype": "text/x-python",
   "name": "python",
   "nbconvert_exporter": "python",
   "pygments_lexer": "ipython3",
   "version": "3.8.6"
  },
  "orig_nbformat": 4,
  "vscode": {
   "interpreter": {
    "hash": "846fd2d9bb562a436898b7cc368204fc2f9d44e5e9b051b4f6e855e721078f23"
   }
  }
 },
 "nbformat": 4,
 "nbformat_minor": 2
}
