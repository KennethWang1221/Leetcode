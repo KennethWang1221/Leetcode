{
 "cells": [
  {
   "cell_type": "markdown",
   "metadata": {},
   "source": [
    "## Method1 - Array\n",
    "https://www.youtube.com/watch?v=68isPRHgcFQ"
   ]
  },
  {
   "cell_type": "code",
   "execution_count": 1,
   "metadata": {},
   "outputs": [
    {
     "name": "stdout",
     "output_type": "stream",
     "text": [
      "[1, 2, 1, 1, 2, 1]\n"
     ]
    }
   ],
   "source": [
    "def getConcatenation(nums):\n",
    "    ans = []\n",
    "    for i in range(2):\n",
    "        for n in nums:\n",
    "            ans.append(n)\n",
    "    return ans\n",
    "\n",
    "nums = [1,2,1]\n",
    "res = getConcatenation(nums)\n",
    "print(res)"
   ]
  },
  {
   "cell_type": "markdown",
   "metadata": {},
   "source": [
    "## Method2 - DIY"
   ]
  },
  {
   "cell_type": "code",
   "execution_count": 1,
   "metadata": {},
   "outputs": [
    {
     "name": "stdout",
     "output_type": "stream",
     "text": [
      "[1, 2, 1, 1, 2, 1]\n"
     ]
    }
   ],
   "source": [
    "def getConcatenation(nums):\n",
    "    n = len(nums)\n",
    "    iteration = 2 * n\n",
    "    res = [0 for i in range(iteration)]\n",
    "    for i in range(iteration):\n",
    "        index = i % n\n",
    "        res[i] = nums[index]\n",
    "    return res\n",
    "print(getConcatenation(nums=[1,2,1]))"
   ]
  }
 ],
 "metadata": {
  "kernelspec": {
   "display_name": "test_env",
   "language": "python",
   "name": "python3"
  },
  "language_info": {
   "codemirror_mode": {
    "name": "ipython",
    "version": 3
   },
   "file_extension": ".py",
   "mimetype": "text/x-python",
   "name": "python",
   "nbconvert_exporter": "python",
   "pygments_lexer": "ipython3",
   "version": "3.8.6"
  }
 },
 "nbformat": 4,
 "nbformat_minor": 2
}
