{
 "cells": [
  {
   "cell_type": "markdown",
   "metadata": {},
   "source": [
    "## Method1\n",
    "HashMap"
   ]
  },
  {
   "cell_type": "code",
   "execution_count": 5,
   "metadata": {},
   "outputs": [
    {
     "name": "stdout",
     "output_type": "stream",
     "text": [
      "[0, 1]\n"
     ]
    }
   ],
   "source": [
    "def twoSum(nums, target):\n",
    "    prehash = {}\n",
    "    \n",
    "    for i in range(len(nums)):\n",
    "        diff = target - nums[i]\n",
    "        \n",
    "        if diff in prehash:\n",
    "            res = [prehash[diff], i]\n",
    "            return res\n",
    "            \n",
    "        else:\n",
    "            prehash[nums[i]] = i\n",
    "nums = [2,7,11,15]\n",
    "target = 9\n",
    "res = twoSum(nums, target)\n",
    "print(res)"
   ]
  },
  {
   "cell_type": "code",
   "execution_count": 20,
   "metadata": {},
   "outputs": [
    {
     "name": "stdout",
     "output_type": "stream",
     "text": [
      "{'a': 3, 'b': 4, 'c': 6, 2: 3, 5: 88, 4: 8} 6 88\n"
     ]
    }
   ],
   "source": [
    "a = {'a':3, 'b':4, 'c':6, 2:3, 5:88}\n",
    "\n",
    "# for k, v in a.items():\n",
    "#     print(k,v)\n",
    "a[4] = 8\n",
    "print(a, a['c'], a[5])\n"
   ]
  },
  {
   "cell_type": "markdown",
   "metadata": {},
   "source": [
    "hashmap or hashset learning url:\n",
    "\n",
    "https://bbs.huaweicloud.com/blogs/245640<br>\n",
    "https://www.cnblogs.com/kumata/p/9157738.html<br>\n",
    "https://geek-docs.com/java/java-collection/hashset-vs-hashmap.html<br>"
   ]
  },
  {
   "cell_type": "markdown",
   "metadata": {},
   "source": [
    "[0001 learning](https://www.youtube.com/watch?v=KLlXCFG5TnA)"
   ]
  },
  {
   "cell_type": "markdown",
   "metadata": {},
   "source": [
    "## Method2\n",
    "This solution exceees the time limit"
   ]
  },
  {
   "cell_type": "code",
   "execution_count": 15,
   "metadata": {},
   "outputs": [
    {
     "name": "stdout",
     "output_type": "stream",
     "text": [
      "[0, 1]\n"
     ]
    }
   ],
   "source": [
    "def twoSum(array,target):\n",
    "    n = len(nums)\n",
    "    result = []\n",
    "    for i in range(n):\n",
    "        for j in range(i+1,n):\n",
    "            if nums[i]+nums[j] == target:\n",
    "                result.append(i)\n",
    "                result.append(j)\n",
    "    print(result)\n",
    "nums = [2,7,11,15]\n",
    "#nums = [3,2,4]\n",
    "target = 9\n",
    "twoSum(nums,target)"
   ]
  }
 ],
 "metadata": {
  "interpreter": {
   "hash": "846fd2d9bb562a436898b7cc368204fc2f9d44e5e9b051b4f6e855e721078f23"
  },
  "kernelspec": {
   "display_name": "leetcode_env",
   "language": "python",
   "name": "leetcode_env"
  },
  "language_info": {
   "codemirror_mode": {
    "name": "ipython",
    "version": 3
   },
   "file_extension": ".py",
   "mimetype": "text/x-python",
   "name": "python",
   "nbconvert_exporter": "python",
   "pygments_lexer": "ipython3",
   "version": "3.8.6"
  },
  "orig_nbformat": 4
 },
 "nbformat": 4,
 "nbformat_minor": 2
}
