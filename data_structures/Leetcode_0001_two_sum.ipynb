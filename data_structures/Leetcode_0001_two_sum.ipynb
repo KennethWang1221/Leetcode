{
 "cells": [
  {
   "cell_type": "markdown",
   "metadata": {},
   "source": [
    "## Method1 - HashMap\n",
    "\n",
    "https://www.youtube.com/watch?v=KLlXCFG5TnA"
   ]
  },
  {
   "cell_type": "code",
   "execution_count": 1,
   "metadata": {},
   "outputs": [
    {
     "name": "stdout",
     "output_type": "stream",
     "text": [
      "[0, 1]\n"
     ]
    }
   ],
   "source": [
    "def twoSum(nums, target):\n",
    "    prehash = {}\n",
    "    \n",
    "    for i in range(len(nums)):\n",
    "        diff = target - nums[i]\n",
    "        \n",
    "        if diff in prehash:\n",
    "            return [prehash[diff], i]\n",
    "    \n",
    "        prehash[nums[i]] = i\n",
    "nums = [2,7,11,15]\n",
    "target = 9\n",
    "res = twoSum(nums, target)\n",
    "print(res)"
   ]
  },
  {
   "cell_type": "markdown",
   "metadata": {},
   "source": [
    "## Method1 - Hashset - DIY"
   ]
  },
  {
   "cell_type": "code",
   "execution_count": 1,
   "metadata": {},
   "outputs": [
    {
     "name": "stdout",
     "output_type": "stream",
     "text": [
      "[0, 1]\n"
     ]
    }
   ],
   "source": [
    "def twoSum(nums, target):\n",
    "    premap = {}\n",
    "    n = len(nums)\n",
    " \n",
    "    for i in range(n):\n",
    "        diff = target - nums[i]\n",
    "        if diff in premap:\n",
    "            return [premap[diff], i]\n",
    "        else:\n",
    "            premap[nums[i]] = i\n",
    "    \n",
    "nums = [2,7,11,15]\n",
    "target = 9\n",
    "res = twoSum(nums, target)\n",
    "print(res)"
   ]
  },
  {
   "cell_type": "code",
   "execution_count": 2,
   "metadata": {},
   "outputs": [
    {
     "name": "stdout",
     "output_type": "stream",
     "text": [
      "[0, 1]\n"
     ]
    }
   ],
   "source": [
    "def twoSum(nums, target):\n",
    "    premap = {}\n",
    "    n = len(nums)\n",
    " \n",
    "    for i in range(n):\n",
    "        if nums[i] in premap:\n",
    "            return [premap[nums[i]], i]\n",
    "        else:\n",
    "            diff = target - nums[i]\n",
    "            premap[diff] = i\n",
    "nums = [2,7,11,15]\n",
    "target = 9\n",
    "res = twoSum(nums, target)\n",
    "print(res)"
   ]
  },
  {
   "cell_type": "markdown",
   "metadata": {},
   "source": [
    "Recap Hashmap or Hashset\n",
    "\n",
    "https://bbs.huaweicloud.com/blogs/245640\n",
    "\n",
    "https://www.cnblogs.com/kumata/p/9157738.html\n",
    "\n",
    "https://geek-docs.com/java/java-collection/hashset-vs-hashmap.html"
   ]
  },
  {
   "cell_type": "markdown",
   "metadata": {},
   "source": [
    "## Method2 - Brute-Force\n",
    "This solution exceees the time limit"
   ]
  },
  {
   "cell_type": "code",
   "execution_count": 15,
   "metadata": {},
   "outputs": [
    {
     "name": "stdout",
     "output_type": "stream",
     "text": [
      "[0, 1]\n"
     ]
    }
   ],
   "source": [
    "def twoSum(nums,target):\n",
    "    res =[]\n",
    "    for i in range(len(nums)):\n",
    "        for j in range(i+1, len(nums)):\n",
    "            if nums[i] + nums[j] == target:\n",
    "                res.append([i,j])\n",
    "    return res[0]\n",
    "nums = [2,7,11,15]\n",
    "target = 9\n",
    "twoSum(nums,target)"
   ]
  }
 ],
 "metadata": {
  "kernelspec": {
   "display_name": "leetcode_env",
   "language": "python",
   "name": "python3"
  },
  "language_info": {
   "codemirror_mode": {
    "name": "ipython",
    "version": 3
   },
   "file_extension": ".py",
   "mimetype": "text/x-python",
   "name": "python",
   "nbconvert_exporter": "python",
   "pygments_lexer": "ipython3",
   "version": "3.8.6"
  },
  "orig_nbformat": 4
 },
 "nbformat": 4,
 "nbformat_minor": 2
}
