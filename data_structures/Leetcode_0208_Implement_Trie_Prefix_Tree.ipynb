{
 "cells": [
  {
   "cell_type": "markdown",
   "metadata": {},
   "source": [
    "## Method1 - Trie\n",
    "https://www.youtube.com/watch?v=oobqoCJlHA0&t=12s"
   ]
  },
  {
   "cell_type": "code",
   "execution_count": null,
   "metadata": {},
   "outputs": [],
   "source": [
    "class TrieNode:\n",
    "    def __init__(self):\n",
    "        self.children = [None] * 26\n",
    "        self.end = False\n",
    "\n",
    "\n",
    "class Trie:\n",
    "    def __init__(self):\n",
    "        \"\"\"\n",
    "        Initialize your data structure here.\n",
    "        \"\"\"\n",
    "        self.root = TrieNode()\n",
    "\n",
    "    def insert(self, word: str) -> None:\n",
    "        \"\"\"\n",
    "        Inserts a word into the trie.\n",
    "        \"\"\"\n",
    "        curr = self.root\n",
    "        for c in word:\n",
    "            i = ord(c) - ord(\"a\")\n",
    "            if curr.children[i] == None:\n",
    "                curr.children[i] = TrieNode()\n",
    "            curr = curr.children[i]\n",
    "        curr.end = True\n",
    "\n",
    "    def search(self, word: str) -> bool:\n",
    "        \"\"\"\n",
    "        Returns if the word is in the trie.\n",
    "        \"\"\"\n",
    "        curr = self.root\n",
    "        for c in word:\n",
    "            i = ord(c) - ord(\"a\")\n",
    "            if curr.children[i] == None:\n",
    "                return False\n",
    "            curr = curr.children[i]\n",
    "        return curr.end\n",
    "\n",
    "    def startsWith(self, prefix: str) -> bool:\n",
    "        \"\"\"\n",
    "        Returns if there is any word in the trie that starts with the given prefix.\n",
    "        \"\"\"\n",
    "        curr = self.root\n",
    "        for c in prefix:\n",
    "            i = ord(c) - ord(\"a\")\n",
    "            if curr.children[i] == None:\n",
    "                return False\n",
    "            curr = curr.children[i]\n",
    "        return True"
   ]
  }
 ],
 "metadata": {
  "kernelspec": {
   "display_name": "leetcode_env",
   "language": "python",
   "name": "leetcode_env"
  },
  "language_info": {
   "name": "python",
   "version": "3.8.6"
  }
 },
 "nbformat": 4,
 "nbformat_minor": 2
}
