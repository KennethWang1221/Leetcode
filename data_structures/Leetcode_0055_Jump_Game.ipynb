{
 "cells": [
  {
   "attachments": {},
   "cell_type": "markdown",
   "metadata": {},
   "source": [
    "## Method1 - DIY - Time Limit Exceeded"
   ]
  },
  {
   "cell_type": "code",
   "execution_count": 9,
   "metadata": {},
   "outputs": [
    {
     "name": "stdout",
     "output_type": "stream",
     "text": [
      "True\n"
     ]
    }
   ],
   "source": [
    "def canJump(nums):\n",
    "    n = len(nums)\n",
    "    step = 0\n",
    "    index = 0\n",
    "    while index<n-1:\n",
    "        index += step \n",
    "        step = nums[index]\n",
    "        \n",
    "    if step == n-1: \n",
    "        return True\n",
    "    else:\n",
    "        return False\n",
    "nums = [2,3,1,1,4]\n",
    "res = canJump(nums)\n",
    "print(res)"
   ]
  },
  {
   "attachments": {},
   "cell_type": "markdown",
   "metadata": {},
   "source": [
    "## Method2 - Greedy"
   ]
  },
  {
   "cell_type": "code",
   "execution_count": 14,
   "metadata": {},
   "outputs": [
    {
     "name": "stdout",
     "output_type": "stream",
     "text": [
      "True\n"
     ]
    }
   ],
   "source": [
    "def canJump(nums):\n",
    "    n = len(nums)\n",
    "    goal = n - 1\n",
    "\n",
    "    for i in range(n-1,-1,-1):\n",
    "        jump = i + nums[i]\n",
    "        if jump >= goal:\n",
    "            goal = i\n",
    "    \n",
    "    if goal == 0:\n",
    "        return True\n",
    "    else:\n",
    "        return False\n",
    "nums = [2,3,1,1,4]\n",
    "res = canJump(nums)\n",
    "print(res)"
   ]
  }
 ],
 "metadata": {
  "kernelspec": {
   "display_name": "leetcode_env",
   "language": "python",
   "name": "leetcode_env"
  },
  "language_info": {
   "codemirror_mode": {
    "name": "ipython",
    "version": 3
   },
   "file_extension": ".py",
   "mimetype": "text/x-python",
   "name": "python",
   "nbconvert_exporter": "python",
   "pygments_lexer": "ipython3",
   "version": "3.8.6"
  },
  "orig_nbformat": 4
 },
 "nbformat": 4,
 "nbformat_minor": 2
}
