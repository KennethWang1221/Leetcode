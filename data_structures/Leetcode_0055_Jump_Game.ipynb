{
 "cells": [
  {
   "attachments": {},
   "cell_type": "markdown",
   "metadata": {},
   "source": [
    "## Method1 - DIY - Time Limit Exceeded"
   ]
  },
  {
   "cell_type": "code",
   "execution_count": 9,
   "metadata": {},
   "outputs": [
    {
     "name": "stdout",
     "output_type": "stream",
     "text": [
      "True\n"
     ]
    }
   ],
   "source": [
    "def canJump(nums):\n",
    "    n = len(nums)\n",
    "    step = 0\n",
    "    index = 0\n",
    "    while index<n-1:\n",
    "        index += step \n",
    "        step = nums[index]\n",
    "        \n",
    "    if step == n-1: \n",
    "        return True\n",
    "    else:\n",
    "        return False\n",
    "nums = [2,3,1,1,4]\n",
    "res = canJump(nums)\n",
    "print(res)"
   ]
  },
  {
   "attachments": {},
   "cell_type": "markdown",
   "metadata": {},
   "source": [
    "## Method2 - Greedy\n",
    "https://www.youtube.com/watch?v=Yan0cv2cLy8"
   ]
  },
  {
   "cell_type": "code",
   "execution_count": 14,
   "metadata": {},
   "outputs": [
    {
     "name": "stdout",
     "output_type": "stream",
     "text": [
      "True\n"
     ]
    }
   ],
   "source": [
    "def canJump(nums):\n",
    "    n = len(nums)\n",
    "    goal = n - 1\n",
    "\n",
    "    for i in range(n-1,-1,-1):\n",
    "        jump = i + nums[i]\n",
    "        if jump >= goal:\n",
    "            goal = i\n",
    "    \n",
    "    if goal == 0:\n",
    "        return True\n",
    "    else:\n",
    "        return False\n",
    "nums = [2,3,1,1,4]\n",
    "res = canJump(nums)\n",
    "print(res)"
   ]
  },
  {
   "cell_type": "markdown",
   "metadata": {},
   "source": [
    "## Method3 - Greedy - Recap\n",
    "https://github.com/youngyangyang04/leetcode-master/blob/master/problems/0055.%E8%B7%B3%E8%B7%83%E6%B8%B8%E6%88%8F.md"
   ]
  },
  {
   "cell_type": "code",
   "execution_count": 3,
   "metadata": {},
   "outputs": [
    {
     "name": "stdout",
     "output_type": "stream",
     "text": [
      "True\n"
     ]
    }
   ],
   "source": [
    "def canJump(nums):\n",
    "    cover = 0\n",
    "    n = len(nums)\n",
    "    if n == 1: return True\n",
    "    for i in range(n): # n or n-1 both ok\n",
    "        if i <= cover:\n",
    "            jump = i + nums[i]\n",
    "            cover = max(jump, cover)\n",
    "            if cover >= n - 1: \n",
    "                return True\n",
    "        else:\n",
    "            return False\n",
    "nums = [2,3,1,1,4]\n",
    "res = canJump(nums)\n",
    "print(res)"
   ]
  },
  {
   "cell_type": "code",
   "execution_count": 1,
   "metadata": {},
   "outputs": [
    {
     "name": "stdout",
     "output_type": "stream",
     "text": [
      "True\n"
     ]
    }
   ],
   "source": [
    "def canJump(nums):\n",
    "    n = len(nums)\n",
    "    cover = 0\n",
    "\n",
    "    for i in range(n):\n",
    "        jump = nums[i] + i\n",
    "        if i<=cover:\n",
    "            cover = max(jump, cover)\n",
    "            if cover >=n-1: return True\n",
    "        else:\n",
    "            return False\n",
    "    \n",
    "    return False\n",
    "nums = [2,3,1,1,4]\n",
    "res = canJump(nums)\n",
    "print(res)"
   ]
  },
  {
   "cell_type": "code",
   "execution_count": 2,
   "metadata": {},
   "outputs": [
    {
     "name": "stdout",
     "output_type": "stream",
     "text": [
      "True\n"
     ]
    }
   ],
   "source": [
    "def canJump(nums):\n",
    "    cover = 0\n",
    "    n = len(nums)\n",
    "    if n == 1: return True\n",
    "    i = 0\n",
    "    # python不支持动态修改for循环中变量,使用while循环代替\n",
    "    while i <= cover:\n",
    "        jump = i + nums[i]\n",
    "        cover = max(jump, cover)\n",
    "        if cover >= n - 1: \n",
    "            return True\n",
    "        i += 1\n",
    "    return False\n",
    "nums = [2,3,1,1,4]\n",
    "res = canJump(nums)\n",
    "print(res)"
   ]
  },
  {
   "cell_type": "markdown",
   "metadata": {},
   "source": [
    "## Method4 - 1D Bottom-UP DP"
   ]
  },
  {
   "cell_type": "code",
   "execution_count": 1,
   "metadata": {},
   "outputs": [
    {
     "name": "stdout",
     "output_type": "stream",
     "text": [
      "True\n"
     ]
    }
   ],
   "source": [
    "def canJump(nums):\n",
    "    #using DP\n",
    "    n = len(nums)\n",
    "    dp = [False] * n #create a DP every index i repsenet whther we can reach this index else False\n",
    "    dp[0] = True #we aare already stading @ index 1\n",
    "\n",
    "    for a in range(1,n):\n",
    "        for j in range(a-1,-1,-1): #for every index behind current index check if you can\n",
    "            remain = a - j - nums[j]\n",
    "            if remain <= 0 and dp[j]:#reach current index from a previous index\n",
    "            #above means from a prev step you can reach current step and we also need\n",
    "            #to make sure we can reach that prev step so also checking dp[j]\n",
    "                dp[a] = True\n",
    "                break\n",
    "\n",
    "    return dp[-1]\n",
    "\n",
    "nums = [2,3,1,1,4]\n",
    "res = canJump(nums)\n",
    "print(res)"
   ]
  }
 ],
 "metadata": {
  "kernelspec": {
   "display_name": "test_env",
   "language": "python",
   "name": "python3"
  },
  "language_info": {
   "codemirror_mode": {
    "name": "ipython",
    "version": 3
   },
   "file_extension": ".py",
   "mimetype": "text/x-python",
   "name": "python",
   "nbconvert_exporter": "python",
   "pygments_lexer": "ipython3",
   "version": "3.8.6"
  },
  "orig_nbformat": 4
 },
 "nbformat": 4,
 "nbformat_minor": 2
}
