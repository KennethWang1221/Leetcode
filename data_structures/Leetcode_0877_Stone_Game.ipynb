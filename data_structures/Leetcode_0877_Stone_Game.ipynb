{
 "cells": [
  {
   "cell_type": "markdown",
   "metadata": {},
   "source": [
    "## Method1 - DFS + 1D DP\n",
    "https://www.youtube.com/watch?v=uhgdXOlGYqE"
   ]
  },
  {
   "cell_type": "code",
   "execution_count": 4,
   "metadata": {},
   "outputs": [
    {
     "name": "stdout",
     "output_type": "stream",
     "text": [
      "10\n"
     ]
    }
   ],
   "source": [
    "def stoneGame(piles):\n",
    "    dp = {}\n",
    "    n = len(piles)\n",
    "\n",
    "    def dfs(l, r):\n",
    "        if l > r: \n",
    "            return 0\n",
    "        if (l, r) in dp:\n",
    "            return dp[(l,r)]\n",
    "        \n",
    "        even = True if (r-l) % 2 else False\n",
    "        left = piles[l] if even else 0\n",
    "        right = piles[r] if even else 0\n",
    "        dp[(l,r)] = max(dfs(l+1, r) + left,\n",
    "                        dfs(l, r - 1) + right)\n",
    "        return dp[(l,r)]\n",
    "\n",
    "    total = sum(piles)\n",
    "    alex_score = dfs(0, n - 1)\n",
    "    return alex_score > total // 2  # Alex wins if he gets more than half\n",
    "print(stoneGame(piles = [5,3,4,5]))"
   ]
  }
 ],
 "metadata": {
  "kernelspec": {
   "display_name": "leetcode_env",
   "language": "python",
   "name": "leetcode_env"
  },
  "language_info": {
   "codemirror_mode": {
    "name": "ipython",
    "version": 3
   },
   "file_extension": ".py",
   "mimetype": "text/x-python",
   "name": "python",
   "nbconvert_exporter": "python",
   "pygments_lexer": "ipython3",
   "version": "3.8.6"
  }
 },
 "nbformat": 4,
 "nbformat_minor": 2
}
