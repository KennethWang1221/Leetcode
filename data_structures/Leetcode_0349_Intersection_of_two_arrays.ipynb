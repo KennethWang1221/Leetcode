{
 "cells": [
  {
   "cell_type": "markdown",
   "metadata": {},
   "source": [
    "## Method1 - Hashset - DIY"
   ]
  },
  {
   "cell_type": "code",
   "execution_count": 34,
   "metadata": {},
   "outputs": [
    {
     "name": "stdout",
     "output_type": "stream",
     "text": [
      "{2}\n"
     ]
    }
   ],
   "source": [
    "def intersection(nums1, nums2):\n",
    "    nums1 = set(nums1)\n",
    "    nums2 = set(nums2)\n",
    "    res = []\n",
    "\n",
    "    for i in nums1:\n",
    "        if i in nums2:\n",
    "            res.append(i)\n",
    "    return res\n",
    "\n",
    "print(intersection(nums1 = [1,2,2,1], nums2 = [2,2]))"
   ]
  },
  {
   "cell_type": "markdown",
   "metadata": {},
   "source": [
    "### using dict"
   ]
  },
  {
   "cell_type": "code",
   "execution_count": 33,
   "metadata": {},
   "outputs": [
    {
     "name": "stdout",
     "output_type": "stream",
     "text": [
      "[9, 4]\n"
     ]
    }
   ],
   "source": [
    "def intersection_of_two_arrays(nums1,nums2):\n",
    "    result = set()\n",
    "    lookup  = {}\n",
    "    for i in nums1:\n",
    "        lookup[i] = lookup.get(i,0) + 1\n",
    "        \n",
    "    for j in nums2:\n",
    "        if j not in lookup:\n",
    "            pass\n",
    "        else:\n",
    "            result.add(j)\n",
    "    return list(result)\n",
    "\n",
    "nums1 = [4,9,5,4,5]\n",
    "nums2 = [9,4,9,8,4]\n",
    "results = intersection_of_two_arrays(nums1,nums2)\n",
    "print(results)"
   ]
  },
  {
   "cell_type": "markdown",
   "metadata": {},
   "source": [
    "## Recap Set\n",
    "\n",
    "add value into set"
   ]
  },
  {
   "cell_type": "code",
   "execution_count": 2,
   "metadata": {},
   "outputs": [
    {
     "name": "stdout",
     "output_type": "stream",
     "text": [
      "{'Taobao', 'Runoob', 'Google'}\n",
      "{'Taobao', 'Facebook', 'Runoob', 'Google'}\n",
      "<class 'set'>\n",
      "{1, 3, 4, 5, 6, 'Facebook', 'Taobao', 'Google', 'Runoob'}\n"
     ]
    }
   ],
   "source": [
    "thisset = set((\"Google\", \"Runoob\", \"Taobao\"))\n",
    "print(thisset)\n",
    "thisset.add(\"Facebook\")\n",
    "print(thisset)\n",
    "print(type(thisset))\n",
    "thisset.update({1,3}, [1,4], [5,6])\n",
    "print(thisset)"
   ]
  },
  {
   "cell_type": "markdown",
   "metadata": {},
   "source": [
    "remove value into set"
   ]
  },
  {
   "cell_type": "code",
   "execution_count": 3,
   "metadata": {},
   "outputs": [
    {
     "name": "stdout",
     "output_type": "stream",
     "text": [
      "{1, 3, 4, 5, 6, 'Facebook', 'Google', 'Runoob'}\n"
     ]
    }
   ],
   "source": [
    "thisset.remove(\"Taobao\")\n",
    "print(thisset)\n"
   ]
  },
  {
   "cell_type": "code",
   "execution_count": 4,
   "metadata": {},
   "outputs": [
    {
     "name": "stdout",
     "output_type": "stream",
     "text": [
      "{'Taobao', 'Runoob', 'Google'}\n"
     ]
    }
   ],
   "source": [
    "thisset = set((\"Google\", \"Runoob\", \"Taobao\"))\n",
    "thisset.discard(\"Facebook\")  # 不存在不会发生错误\n",
    "print(thisset)"
   ]
  },
  {
   "cell_type": "markdown",
   "metadata": {},
   "source": [
    "if count in set"
   ]
  },
  {
   "cell_type": "code",
   "execution_count": 24,
   "metadata": {},
   "outputs": [
    {
     "name": "stdout",
     "output_type": "stream",
     "text": [
      "True\n",
      "False\n"
     ]
    }
   ],
   "source": [
    "thisset = set((\"Google\", \"Runoob\", \"Taobao\"))\n",
    "if \"Runoob\" in thisset:\n",
    "    print(\"True\")\n",
    "else:\n",
    "    print(\"False\")\n",
    "\n",
    "if \"Facebook\" in thisset:\n",
    "    print(\"True\")\n",
    "else:\n",
    "    print(\"False\")"
   ]
  }
 ],
 "metadata": {
  "interpreter": {
   "hash": "846fd2d9bb562a436898b7cc368204fc2f9d44e5e9b051b4f6e855e721078f23"
  },
  "kernelspec": {
   "display_name": "Python 3.8.6 ('leetcode_env': conda)",
   "language": "python",
   "name": "python3"
  },
  "language_info": {
   "codemirror_mode": {
    "name": "ipython",
    "version": 3
   },
   "file_extension": ".py",
   "mimetype": "text/x-python",
   "name": "python",
   "nbconvert_exporter": "python",
   "pygments_lexer": "ipython3",
   "version": "3.8.6"
  },
  "orig_nbformat": 4
 },
 "nbformat": 4,
 "nbformat_minor": 2
}
