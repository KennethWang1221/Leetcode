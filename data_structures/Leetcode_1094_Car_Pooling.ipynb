{
 "cells": [
  {
   "cell_type": "markdown",
   "metadata": {},
   "source": [
    "## Method1 - Heap O(nlogn)\n",
    "\n",
    "https://www.youtube.com/watch?v=08sn_w4LWEE"
   ]
  },
  {
   "cell_type": "code",
   "execution_count": 9,
   "metadata": {},
   "outputs": [
    {
     "name": "stdout",
     "output_type": "stream",
     "text": [
      "True\n"
     ]
    }
   ],
   "source": [
    "import heapq\n",
    "def carPooling(trips, capacity): \n",
    "    trips.sort(key = lambda t: t[1])\n",
    "    minHeap = []\n",
    "    curPass = 0\n",
    "\n",
    "    for t in trips:\n",
    "        numPass, start, end = t\n",
    "        while minHeap and minHeap[0][0] <= start:\n",
    "            curPass -= minHeap[0][1]\n",
    "            heapq.heappop(minHeap)\n",
    "\n",
    "        curPass += numPass\n",
    "        if curPass > capacity:\n",
    "            return False\n",
    "        heapq.heappush(minHeap, [end, numPass])\n",
    "    return True\n",
    "print(carPooling(trips = [[3,2,8],[4,4,6],[10,8,9]], capacity = 11))"
   ]
  },
  {
   "cell_type": "markdown",
   "metadata": {},
   "source": [
    "## Method2 - Heap O(n)\n",
    "\n",
    "https://www.youtube.com/watch?v=08sn_w4LWEE"
   ]
  },
  {
   "cell_type": "code",
   "execution_count": 4,
   "metadata": {},
   "outputs": [
    {
     "name": "stdout",
     "output_type": "stream",
     "text": [
      "False\n"
     ]
    }
   ],
   "source": [
    "import heapq\n",
    "def carPooling(trips, capacity): \n",
    "    passChange = [0] * 1001\n",
    "\n",
    "    for t in trips:\n",
    "        numPass, start, end = t\n",
    "        passChange[start] += numPass\n",
    "        passChange[end] -= numPass\n",
    "    curPass = 0\n",
    "    for i in range(1001):\n",
    "        curPass += passChange[i]\n",
    "        if curPass > capacity:\n",
    "            return False\n",
    "    return True\n",
    "print(carPooling(trips = [[2,1,5],[3,3,7]], capacity = 4))"
   ]
  }
 ],
 "metadata": {
  "kernelspec": {
   "display_name": "leetcode_env",
   "language": "python",
   "name": "leetcode_env"
  },
  "language_info": {
   "codemirror_mode": {
    "name": "ipython",
    "version": 3
   },
   "file_extension": ".py",
   "mimetype": "text/x-python",
   "name": "python",
   "nbconvert_exporter": "python",
   "pygments_lexer": "ipython3",
   "version": "3.8.6"
  }
 },
 "nbformat": 4,
 "nbformat_minor": 2
}
