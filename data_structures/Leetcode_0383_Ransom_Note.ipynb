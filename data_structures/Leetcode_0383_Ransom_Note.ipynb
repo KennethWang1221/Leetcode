{
 "cells": [
  {
   "cell_type": "markdown",
   "metadata": {},
   "source": [
    "## Method1: Hasmap DIY  - Top Interview 0040/150\n",
    "Runtime: 51 ms\n",
    "Memory: 16.5"
   ]
  },
  {
   "cell_type": "code",
   "execution_count": 33,
   "metadata": {},
   "outputs": [
    {
     "name": "stdout",
     "output_type": "stream",
     "text": [
      "True\n"
     ]
    }
   ],
   "source": [
    "def canConstruct(ransomNote, magazine):\n",
    "    char = {}\n",
    "        \n",
    "    for r in ransomNote:\n",
    "        if r in magazine:\n",
    "            char[r] = char.get(r, 0) + 1\n",
    "        else:\n",
    "            return False\n",
    "        \n",
    "    m_char = {}\n",
    "    for m in magazine:\n",
    "        m_char[m] = m_char.get(m, 0) + 1\n",
    "    \n",
    "    for k, v in char.items():\n",
    "        if v <= m_char[k]:\n",
    "            pass\n",
    "        else:\n",
    "            return False\n",
    "    return True\n",
    "\n",
    "ransomNote = \"aa\"\n",
    "magazine = \"aab\"\n",
    "res = canConstruct(ransomNote, magazine)\n",
    "print(res)"
   ]
  },
  {
   "cell_type": "markdown",
   "metadata": {},
   "source": [
    "## Method1 - DIY - not good with Runtime \n",
    "Runtime: 71 ms\n",
    "Memory: 16.6"
   ]
  },
  {
   "cell_type": "code",
   "execution_count": null,
   "metadata": {},
   "outputs": [],
   "source": [
    "def canConstruct(ransomNote: str, magazine: str):\n",
    "    dict = {}\n",
    "\n",
    "    for i in magazine:\n",
    "        dict[i] = dict.get(i,0) + 1\n",
    "    \n",
    "    target = {}\n",
    "    for i in ransomNote:\n",
    "        target[i] = target.get(i,0) + 1\n",
    "\n",
    "    for k, v in target.items():\n",
    "        if k in dict and v <= dict[k]:\n",
    "            pass\n",
    "        else:\n",
    "            return False\n",
    "    return True\n",
    "        \n",
    "ransomNote = \"aa\"\n",
    "magazine = \"ab\"\n",
    "ransomNote = \"aa\"\n",
    "magazine = \"aab\"\n",
    "ransomNote = \"a\"\n",
    "magazine = \"aaaab\"\n",
    "ransomNote = \"fihjjjjei\"\n",
    "magazine = \"hjibagacbhadfaefdjaeaebgi\"\n",
    "res = canConstruct(ransomNote, magazine)\n",
    "print(res)"
   ]
  },
  {
   "cell_type": "markdown",
   "metadata": {},
   "source": [
    "## Method2"
   ]
  },
  {
   "cell_type": "code",
   "execution_count": 15,
   "metadata": {},
   "outputs": [
    {
     "name": "stdout",
     "output_type": "stream",
     "text": [
      "True\n"
     ]
    }
   ],
   "source": [
    "def canConstruct(ransomNote, magazine):\n",
    "    for i in ransomNote:\n",
    "        if magazine.count(i) < ransomNote.count(i):\n",
    "            return False\n",
    "    return True\n",
    "\n",
    "ransomNote = \"aa\"\n",
    "magazine = \"aab\"\n",
    "res = canConstruct(ransomNote, magazine)\n",
    "print(res)"
   ]
  }
 ],
 "metadata": {
  "kernelspec": {
   "display_name": "leetcode_env",
   "language": "python",
   "name": "leetcode_env"
  },
  "language_info": {
   "codemirror_mode": {
    "name": "ipython",
    "version": 3
   },
   "file_extension": ".py",
   "mimetype": "text/x-python",
   "name": "python",
   "nbconvert_exporter": "python",
   "pygments_lexer": "ipython3",
   "version": "3.8.6"
  },
  "orig_nbformat": 4,
  "vscode": {
   "interpreter": {
    "hash": "846fd2d9bb562a436898b7cc368204fc2f9d44e5e9b051b4f6e855e721078f23"
   }
  }
 },
 "nbformat": 4,
 "nbformat_minor": 2
}
