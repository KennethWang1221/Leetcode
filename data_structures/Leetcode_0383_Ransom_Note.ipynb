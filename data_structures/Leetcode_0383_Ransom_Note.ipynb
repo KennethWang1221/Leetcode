{
 "cells": [
  {
   "cell_type": "markdown",
   "metadata": {},
   "source": [
    "## Method1 - HasMap - DIY\n"
   ]
  },
  {
   "cell_type": "code",
   "execution_count": 1,
   "metadata": {},
   "outputs": [
    {
     "name": "stdout",
     "output_type": "stream",
     "text": [
      "False\n"
     ]
    }
   ],
   "source": [
    "def canConstruct(ransomNote, magazine):\n",
    "    magazine_dict = {}\n",
    "    for s in magazine:\n",
    "        magazine_dict[s] = magazine_dict.get(s, 0) + 1\n",
    "    \n",
    "    for s in ransomNote:\n",
    "        if s in magazine_dict and magazine_dict[s]:\n",
    "            magazine_dict[s] -= 1\n",
    "        else:\n",
    "            return False\n",
    "    \n",
    "    return True\n",
    "\n",
    "print(canConstruct(ransomNote = \"aa\", magazine = \"ab\"))"
   ]
  },
  {
   "cell_type": "markdown",
   "metadata": {},
   "source": [
    "## Method2 - HashMap - DIY - not good with Runtime "
   ]
  },
  {
   "cell_type": "code",
   "execution_count": null,
   "metadata": {},
   "outputs": [],
   "source": [
    "def canConstruct(ransomNote: str, magazine: str):\n",
    "    dict = {}\n",
    "\n",
    "    for i in magazine:\n",
    "        dict[i] = dict.get(i,0) + 1\n",
    "    \n",
    "    target = {}\n",
    "    for i in ransomNote:\n",
    "        target[i] = target.get(i,0) + 1\n",
    "\n",
    "    for k, v in target.items():\n",
    "        if k in dict and v <= dict[k]:\n",
    "            pass\n",
    "        else:\n",
    "            return False\n",
    "    return True\n",
    "        \n",
    "ransomNote = \"aa\"\n",
    "magazine = \"ab\"\n",
    "ransomNote = \"aa\"\n",
    "magazine = \"aab\"\n",
    "ransomNote = \"a\"\n",
    "magazine = \"aaaab\"\n",
    "ransomNote = \"fihjjjjei\"\n",
    "magazine = \"hjibagacbhadfaefdjaeaebgi\"\n",
    "res = canConstruct(ransomNote, magazine)\n",
    "print(res)"
   ]
  },
  {
   "cell_type": "markdown",
   "metadata": {},
   "source": [
    "## Method2"
   ]
  },
  {
   "cell_type": "code",
   "execution_count": 15,
   "metadata": {},
   "outputs": [
    {
     "name": "stdout",
     "output_type": "stream",
     "text": [
      "True\n"
     ]
    }
   ],
   "source": [
    "def canConstruct(ransomNote, magazine):\n",
    "    for i in ransomNote:\n",
    "        if magazine.count(i) < ransomNote.count(i):\n",
    "            return False\n",
    "    return True\n",
    "\n",
    "ransomNote = \"aa\"\n",
    "magazine = \"aab\"\n",
    "res = canConstruct(ransomNote, magazine)\n",
    "print(res)"
   ]
  }
 ],
 "metadata": {
  "kernelspec": {
   "display_name": "leetcode_env",
   "language": "python",
   "name": "python3"
  },
  "language_info": {
   "codemirror_mode": {
    "name": "ipython",
    "version": 3
   },
   "file_extension": ".py",
   "mimetype": "text/x-python",
   "name": "python",
   "nbconvert_exporter": "python",
   "pygments_lexer": "ipython3",
   "version": "3.8.6"
  },
  "orig_nbformat": 4
 },
 "nbformat": 4,
 "nbformat_minor": 2
}
