{
 "cells": [
  {
   "cell_type": "markdown",
   "metadata": {},
   "source": [
    "## Method1 - Array"
   ]
  },
  {
   "cell_type": "code",
   "execution_count": 1,
   "metadata": {},
   "outputs": [
    {
     "name": "stdout",
     "output_type": "stream",
     "text": [
      "3\n"
     ]
    }
   ],
   "source": [
    "def largestVariance(s):\n",
    "    unique_chars = set(s)\n",
    "    res = 0\n",
    "    for a in unique_chars:\n",
    "        for b in unique_chars:\n",
    "            if a == b: continue\n",
    "            # Kadane-like\n",
    "            diff = 0\n",
    "            has_b = False\n",
    "            first_b = False\n",
    "            for ch in s:\n",
    "                if ch == a: \n",
    "                    diff += 1\n",
    "                elif ch == b:\n",
    "                    diff -= 1\n",
    "                    has_b = True\n",
    "                if has_b:\n",
    "                    res = max(res, diff)\n",
    "                if diff < 0:\n",
    "                    diff = 0\n",
    "                    has_b = False\n",
    "                    first_b = True\n",
    "    return res\n",
    "s = \"aababbb\"\n",
    "print(largestVariance(s))"
   ]
  }
 ],
 "metadata": {
  "kernelspec": {
   "display_name": "leetcode_env",
   "language": "python",
   "name": "leetcode_env"
  },
  "language_info": {
   "codemirror_mode": {
    "name": "ipython",
    "version": 3
   },
   "file_extension": ".py",
   "mimetype": "text/x-python",
   "name": "python",
   "nbconvert_exporter": "python",
   "pygments_lexer": "ipython3",
   "version": "3.8.6"
  }
 },
 "nbformat": 4,
 "nbformat_minor": 2
}
