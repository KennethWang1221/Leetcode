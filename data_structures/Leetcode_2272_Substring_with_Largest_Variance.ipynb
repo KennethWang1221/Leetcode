{
 "cells": [
  {
   "cell_type": "markdown",
   "metadata": {},
   "source": [
    "## Method1 - Hashset"
   ]
  },
  {
   "cell_type": "code",
   "execution_count": 1,
   "metadata": {},
   "outputs": [
    {
     "name": "stdout",
     "output_type": "stream",
     "text": [
      "3\n"
     ]
    }
   ],
   "source": [
    "def largestVariance(s):\n",
    "    max_variance = 0\n",
    "    unique_chars = set(s)\n",
    "    \n",
    "    # Check if all characters are unique (special case handling)\n",
    "    if len(unique_chars) == len(s):\n",
    "        return 0\n",
    "    \n",
    "    # Iterate over all pairs of distinct characters (a, b)\n",
    "    for a in unique_chars:\n",
    "        for b in unique_chars:\n",
    "            if a == b:\n",
    "                continue\n",
    "            \n",
    "            var = 0\n",
    "            has_b = False\n",
    "            first_b = False\n",
    "            current_max = 0\n",
    "            \n",
    "            for c in s:\n",
    "                if c == a:\n",
    "                    var += 1\n",
    "                elif c == b:\n",
    "                    var -= 1\n",
    "                    has_b = True\n",
    "                    first_b = True\n",
    "                \n",
    "                if first_b:\n",
    "                    current_max = max(current_max, var)\n",
    "                else:\n",
    "                    current_max = max(current_max, var - 1)\n",
    "                \n",
    "                if var < 0:\n",
    "                    var = 0\n",
    "                    first_b = False\n",
    "            \n",
    "            if has_b and current_max > max_variance:\n",
    "                max_variance = current_max\n",
    "    \n",
    "    return max_variance\n",
    "s = \"aababbb\"\n",
    "print(largestVariance(s))"
   ]
  }
 ],
 "metadata": {
  "kernelspec": {
   "display_name": "leetcode_env",
   "language": "python",
   "name": "leetcode_env"
  },
  "language_info": {
   "codemirror_mode": {
    "name": "ipython",
    "version": 3
   },
   "file_extension": ".py",
   "mimetype": "text/x-python",
   "name": "python",
   "nbconvert_exporter": "python",
   "pygments_lexer": "ipython3",
   "version": "3.8.6"
  }
 },
 "nbformat": 4,
 "nbformat_minor": 2
}
