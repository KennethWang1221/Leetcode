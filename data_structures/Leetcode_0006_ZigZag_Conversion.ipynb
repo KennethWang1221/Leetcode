{
 "cells": [
  {
   "cell_type": "markdown",
   "metadata": {},
   "source": [
    "## Method1 - String\n",
    "https://www.youtube.com/watch?v=Q2Tw6gcVEwc"
   ]
  },
  {
   "cell_type": "code",
   "execution_count": 1,
   "metadata": {},
   "outputs": [
    {
     "name": "stdout",
     "output_type": "stream",
     "text": [
      "PINALSIGYAHRPI\n"
     ]
    }
   ],
   "source": [
    "def convert(s, numRows):\n",
    "    result = ''\n",
    "    n = len(s)\n",
    "    if numRows<=1:\n",
    "        return s\n",
    "\n",
    "    increment = (numRows-1)*2\n",
    "    for r in range(numRows):\n",
    "        for i in range(r, n, increment):\n",
    "            result += s[i]\n",
    "            \n",
    "            middle = i+increment-2*r\n",
    "            if (r >0 and r <numRows-1 and middle < n):\n",
    "                result += s[middle]\n",
    "        \n",
    "    return result\n",
    "\n",
    "# s = \"PAYPALISHIRING\"\n",
    "# numRows = 3\n",
    "s = \"PAYPALISHIRING\"\n",
    "numRows = 4\n",
    "result = convert(s, numRows)\n",
    "print(result)"
   ]
  },
  {
   "cell_type": "code",
   "execution_count": null,
   "metadata": {},
   "outputs": [],
   "source": []
  }
 ],
 "metadata": {
  "interpreter": {
   "hash": "846fd2d9bb562a436898b7cc368204fc2f9d44e5e9b051b4f6e855e721078f23"
  },
  "kernelspec": {
   "display_name": "leetcode_env",
   "language": "python",
   "name": "leetcode_env"
  },
  "language_info": {
   "codemirror_mode": {
    "name": "ipython",
    "version": 3
   },
   "file_extension": ".py",
   "mimetype": "text/x-python",
   "name": "python",
   "nbconvert_exporter": "python",
   "pygments_lexer": "ipython3",
   "version": "3.8.6"
  },
  "orig_nbformat": 4
 },
 "nbformat": 4,
 "nbformat_minor": 2
}
