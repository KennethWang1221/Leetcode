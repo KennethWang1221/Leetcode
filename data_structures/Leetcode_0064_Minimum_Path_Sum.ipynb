{
 "cells": [
  {
   "cell_type": "markdown",
   "metadata": {},
   "source": [
    "## Method1 - Multidimensional DP\n",
    "https://www.youtube.com/watch?v=pGMsrvt0fpk"
   ]
  },
  {
   "cell_type": "code",
   "execution_count": 1,
   "metadata": {},
   "outputs": [
    {
     "name": "stdout",
     "output_type": "stream",
     "text": [
      "7\n"
     ]
    }
   ],
   "source": [
    "def minPathSum(grid):\n",
    "    m, n = len(grid), len(grid[0])\n",
    "    prev = [float(\"inf\")] * n\n",
    "    prev[-1] = 0\n",
    "\n",
    "    for row in range(m - 1, -1, -1):\n",
    "        dp = [float(\"inf\")] * n\n",
    "        for col in range(n - 1, -1, -1):\n",
    "            if col < n - 1:\n",
    "                dp[col] = min(dp[col], dp[col + 1])\n",
    "            dp[col] = min(dp[col], prev[col]) + grid[row][col]\n",
    "        prev = dp\n",
    "\n",
    "    return prev[0]\n",
    "\n",
    "grid = [[1,3,1],[1,5,1],[4,2,1]]\n",
    "res = minPathSum(grid)\n",
    "print(res)"
   ]
  },
  {
   "cell_type": "markdown",
   "metadata": {},
   "source": [
    "## Method2 - Bottom-UP DP\n",
    "https://www.youtube.com/watch?v=pGMsrvt0fpk"
   ]
  },
  {
   "cell_type": "code",
   "execution_count": 6,
   "metadata": {},
   "outputs": [
    {
     "name": "stdout",
     "output_type": "stream",
     "text": [
      "7\n"
     ]
    }
   ],
   "source": [
    "def minPathSum(grid):\n",
    "    rows, cols = len(grid), len(grid[0])\n",
    "    res = [[float(\"inf\")] * (cols+1) for r in range(rows+1)]\n",
    "    res[rows - 1][cols] = 0\n",
    "\n",
    "    for r in range(rows - 1, -1, -1):\n",
    "        for c in range(cols - 1, -1, -1):\n",
    "            res[r][c] = grid[r][c] + min(res[r + 1][c], res[r][c + 1])\n",
    "\n",
    "    return res[0][0]\n",
    "grid = [[1,3,1],[1,5,1],[4,2,1]]\n",
    "res = minPathSum(grid)\n",
    "print(res)"
   ]
  }
 ],
 "metadata": {
  "kernelspec": {
   "display_name": "test_env",
   "language": "python",
   "name": "test_env"
  },
  "language_info": {
   "codemirror_mode": {
    "name": "ipython",
    "version": 3
   },
   "file_extension": ".py",
   "mimetype": "text/x-python",
   "name": "python",
   "nbconvert_exporter": "python",
   "pygments_lexer": "ipython3",
   "version": "3.8.6"
  }
 },
 "nbformat": 4,
 "nbformat_minor": 2
}
