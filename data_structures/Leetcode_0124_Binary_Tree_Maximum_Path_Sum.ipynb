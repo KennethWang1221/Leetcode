{
 "cells": [
  {
   "cell_type": "markdown",
   "metadata": {},
   "source": [
    "## Tree recap"
   ]
  },
  {
   "cell_type": "code",
   "execution_count": 2,
   "metadata": {},
   "outputs": [
    {
     "name": "stdout",
     "output_type": "stream",
     "text": [
      "\n",
      "         ______14_____\n",
      "        /             \\\n",
      "    ___10__         ___4\n",
      "   /       \\       /    \\\n",
      "  7         13    2      5\n",
      " / \\       /       \\      \\\n",
      "8   12    3         11     9\n",
      "\n"
     ]
    }
   ],
   "source": [
    "from binarytree import tree, bst, heap\n",
    "my_tree = tree(height=3, is_perfect=False)\n",
    "my_bst = bst(height=3, is_perfect=True)\n",
    "my_heap = heap(height=3, is_max=True, is_perfect=False)\n",
    "print(my_tree)"
   ]
  },
  {
   "cell_type": "code",
   "execution_count": 3,
   "metadata": {},
   "outputs": [
    {
     "name": "stdout",
     "output_type": "stream",
     "text": [
      "\n",
      "        ______7_______\n",
      "       /              \\\n",
      "    __3__           ___11___\n",
      "   /     \\         /        \\\n",
      "  1       5       9         _13\n",
      " / \\     / \\     / \\       /   \\\n",
      "0   2   4   6   8   10    12    14\n",
      "\n"
     ]
    }
   ],
   "source": [
    "print(my_bst)"
   ]
  },
  {
   "cell_type": "code",
   "execution_count": 4,
   "metadata": {},
   "outputs": [
    {
     "name": "stdout",
     "output_type": "stream",
     "text": [
      "\n",
      "      ___14__\n",
      "     /       \\\n",
      "    12        13\n",
      "   /  \\      /  \\\n",
      "  6    8    7    2\n",
      " /\n",
      "1\n",
      "\n"
     ]
    }
   ],
   "source": [
    "print(my_heap)"
   ]
  },
  {
   "cell_type": "markdown",
   "metadata": {},
   "source": [
    "## Method1\n",
    "https://www.youtube.com/watch?v=Hr5cWUld4vU\n"
   ]
  },
  {
   "cell_type": "code",
   "execution_count": 1,
   "metadata": {},
   "outputs": [
    {
     "name": "stdout",
     "output_type": "stream",
     "text": [
      "42\n"
     ]
    }
   ],
   "source": [
    "class TreeNode:\n",
    "    def __init__(self, x):\n",
    "        self.val = x\n",
    "        self.left = None\n",
    "        self.right = None\n",
    "\n",
    "\n",
    "class Solution:\n",
    "    def maxPathSum(self, root):\n",
    "\n",
    "\n",
    "        res = [root.val]\n",
    "\n",
    "        # return max path sum without split\n",
    "        def dfs(root):\n",
    "            if not root:\n",
    "                return 0\n",
    "\n",
    "            leftMax = dfs(root.left)\n",
    "            rightMax = dfs(root.right)\n",
    "            leftMax = max(leftMax, 0)\n",
    "            rightMax = max(rightMax, 0)\n",
    "\n",
    "            # compute max path sum WITH split\n",
    "            res[0] = max(res[0], root.val + leftMax + rightMax)\n",
    "            return root.val + max(leftMax, rightMax)\n",
    "\n",
    "        dfs(root)\n",
    "        return res[0]\n",
    "        \n",
    "\n",
    "n1 = TreeNode(-10)\n",
    "n2 = TreeNode(9)\n",
    "n3 = TreeNode(20)\n",
    "n4 = TreeNode(15)\n",
    "n5 = TreeNode(7)\n",
    "\n",
    "n1.left = n2\n",
    "n1.right = n3\n",
    "\n",
    "n3.left = n4\n",
    "n3.right = n5\n",
    "\n",
    "print(Solution().maxPathSum(n1))"
   ]
  },
  {
   "cell_type": "markdown",
   "metadata": {},
   "source": [
    "## Method2"
   ]
  },
  {
   "cell_type": "code",
   "execution_count": 2,
   "metadata": {},
   "outputs": [
    {
     "name": "stdout",
     "output_type": "stream",
     "text": [
      "42\n"
     ]
    }
   ],
   "source": [
    "class TreeNode:\n",
    "    def __init__(self, x):\n",
    "        self.val = x\n",
    "        self.left = None\n",
    "        self.right = None\n",
    "\n",
    "\n",
    "class Solution:\n",
    "    def maxPathSum(self, root):\n",
    "        self.ans = float('-inf')\n",
    "        self.getNodeMaxValue(root)\n",
    "        return self.ans\n",
    "\n",
    "    def getNodeMaxValue(self, node):\n",
    "        # 得到以node结点为终点的 最大path 之和\n",
    "        if not node: return 0\n",
    "        # 得到以node.left结点为终点的 最大path 之和\n",
    "        lresult = self.getNodeMaxValue(node.left)\n",
    "        # 得到以node.right结点为终点的 最大path 之和\n",
    "        rresult = self.getNodeMaxValue(node.right)\n",
    "        # 左右最大路径和都知道了，如果小于0就不要了::max(l/r,0) ，如果大于0，那就拼上左右的和、和当前节点看能不能增加和\n",
    "        # ans能拼接左右，但是函数返回值不能，不是同一个意思\n",
    "        self.ans = max(self.ans, max(lresult, 0) + max(rresult, 0) + node.val)\n",
    "        path_sum = max(lresult, rresult, 0)\n",
    "        # 返回值是取 left 和 right 中的较大值加上当前结点值\n",
    "        # 返回值的定义是以当前结点为终点的 最大path 之和，所以只能取 left 和 right 中较大的那个值，\n",
    "        return max(0, path_sum + node.val)\n",
    "\n",
    "\n",
    "n1 = TreeNode(-10)\n",
    "n2 = TreeNode(9)\n",
    "n3 = TreeNode(20)\n",
    "n4 = TreeNode(15)\n",
    "n5 = TreeNode(7)\n",
    "\n",
    "n1.left = n2\n",
    "n1.right = n3\n",
    "\n",
    "n3.left = n4\n",
    "n3.right = n5\n",
    "\n",
    "print(Solution().maxPathSum(n1))"
   ]
  },
  {
   "cell_type": "markdown",
   "metadata": {},
   "source": [
    "learning url: https://github.com/425776024/easy_leetcode/blob/master/easyleetcode/leetcodes/Leetcode_124_Binary_Tree_Maximum_Path_Sum.py"
   ]
  },
  {
   "cell_type": "markdown",
   "metadata": {},
   "source": [
    "## Leetcode_110_Balanced_Binary_Tree<br>\n",
    "learning url: https://github.com/425776024/easy_leetcode/blob/master/easyleetcode/leetcodes/Leetcode_110_Balanced_Binary_Tree.py"
   ]
  },
  {
   "cell_type": "code",
   "execution_count": 6,
   "metadata": {},
   "outputs": [
    {
     "name": "stdout",
     "output_type": "stream",
     "text": [
      "True\n"
     ]
    }
   ],
   "source": [
    "class TreeNode(object):\n",
    "    def __init__(self, x):\n",
    "        self.val = x\n",
    "        self.left = None\n",
    "        self.right = None\n",
    "\n",
    "\n",
    "class Solution(object):\n",
    "    def isBalanced(self, root):\n",
    "        if root is None:\n",
    "            return True\n",
    "        if self.getDepth(root) == False:\n",
    "            return False\n",
    "        return True\n",
    "\n",
    "    def getDepth(self, node):\n",
    "        if node is None:\n",
    "            return 1\n",
    "        ld = self.getDepth(node.left)\n",
    "        if ld < 0:\n",
    "            return -1\n",
    "        rd = self.getDepth(node.right)\n",
    "        if rd < 0:\n",
    "            return -1\n",
    "        # 任一节点下，左右子数深度相差超过1，不是平衡树\n",
    "        elif abs(ld - rd) > 1:\n",
    "            return False\n",
    "        else:\n",
    "            return max(ld, rd) + 1\n",
    "\n",
    "\n",
    "n1 = TreeNode(3)\n",
    "n2 = TreeNode(9)\n",
    "n3 = TreeNode(20)\n",
    "n4 = TreeNode(15)\n",
    "n5 = TreeNode(17)\n",
    "\n",
    "n1.left = n2\n",
    "n1.right = n3\n",
    "\n",
    "n3.left = n4\n",
    "n3.right = n5\n",
    "\n",
    "print(Solution().isBalanced(n1))"
   ]
  }
 ],
 "metadata": {
  "kernelspec": {
   "display_name": "leetcode_env",
   "language": "python",
   "name": "leetcode_env"
  },
  "language_info": {
   "codemirror_mode": {
    "name": "ipython",
    "version": 3
   },
   "file_extension": ".py",
   "mimetype": "text/x-python",
   "name": "python",
   "nbconvert_exporter": "python",
   "pygments_lexer": "ipython3",
   "version": "3.8.6"
  },
  "orig_nbformat": 4,
  "vscode": {
   "interpreter": {
    "hash": "846fd2d9bb562a436898b7cc368204fc2f9d44e5e9b051b4f6e855e721078f23"
   }
  }
 },
 "nbformat": 4,
 "nbformat_minor": 2
}
