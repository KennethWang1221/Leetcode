{
 "cells": [
  {
   "cell_type": "markdown",
   "metadata": {},
   "source": [
    "## Method1 - DP\n",
    "\n",
    "https://www.youtube.com/watch?v=3lpNp5Ojvrw"
   ]
  },
  {
   "cell_type": "code",
   "execution_count": 1,
   "metadata": {},
   "outputs": [
    {
     "name": "stdout",
     "output_type": "stream",
     "text": [
      "tribonacci(0): 0\n",
      "tribonacci(1): 1\n",
      "tribonacci(2): 1\n",
      "tribonacci(4): 4\n",
      "tribonacci(25): 1389537\n"
     ]
    }
   ],
   "source": [
    "def tribonacci(n):\n",
    "    if n == 0:\n",
    "        return 0\n",
    "    if n == 1 or n == 2:\n",
    "        return 1\n",
    "\n",
    "    t0, t1, t2 = 0, 1, 1\n",
    "\n",
    "    for _ in range(3, n + 1):\n",
    "        next_val = t0 + t1 + t2\n",
    "        t0, t1, t2 = t1, t2, next_val\n",
    "\n",
    "    return t2\n",
    "\n",
    "print(\"tribonacci(0):\", tribonacci(0))  # Output: 0\n",
    "print(\"tribonacci(1):\", tribonacci(1))  # Output: 1\n",
    "print(\"tribonacci(2):\", tribonacci(2))  # Output: 1\n",
    "print(\"tribonacci(4):\", tribonacci(4))  # Output: 4\n",
    "print(\"tribonacci(25):\", tribonacci(25))  # Output: 1389537"
   ]
  }
 ],
 "metadata": {
  "kernelspec": {
   "display_name": "leetcode_env",
   "language": "python",
   "name": "python3"
  },
  "language_info": {
   "codemirror_mode": {
    "name": "ipython",
    "version": 3
   },
   "file_extension": ".py",
   "mimetype": "text/x-python",
   "name": "python",
   "nbconvert_exporter": "python",
   "pygments_lexer": "ipython3",
   "version": "3.8.6"
  }
 },
 "nbformat": 4,
 "nbformat_minor": 2
}
