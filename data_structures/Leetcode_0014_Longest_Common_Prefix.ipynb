{
 "cells": [
  {
   "cell_type": "markdown",
   "metadata": {},
   "source": [
    "## Method1 - String\n",
    "https://www.youtube.com/watch?v=0sWShKIJoo4"
   ]
  },
  {
   "cell_type": "code",
   "execution_count": 1,
   "metadata": {},
   "outputs": [
    {
     "name": "stdout",
     "output_type": "stream",
     "text": [
      "fl\n"
     ]
    }
   ],
   "source": [
    "def longestCommonPrefix(strs):\n",
    "    res = \"\"\n",
    "    \n",
    "    for i in range(len(strs[0])):\n",
    "        for s in strs:\n",
    "            if i == len(s) or s[i] != strs[0][i]:\n",
    "                return res\n",
    "        res += strs[0][i]    \n",
    "    return res\n",
    "\n",
    "#strs = [\"flower\",\"flow\",\"flight\"]\n",
    "strs = [\"flower\",\"fl\", \"flight\"]\n",
    "#strs = [\"fl\", \"flower\", \"flight\"]\n",
    "#strs = [\"flower\",\"flower\",\"flower\",\"flower\"] # for i in range(n):\n",
    "#strs = [\"ab\", \"a\"] # if i == s_n or\n",
    "#strs = [\"dog\",\"racecar\",\"car\"]\n",
    "#strs = [\"a\"]\n",
    "#strs = [\"aaa\",\"aa\",\"aaa\"]\n",
    "#strs = [\"caa\",\" \",\"a\",\"acb\"]\n",
    "#strs = [\"\"]\n",
    "result = longestCommonPrefix(strs)\n",
    "print(result)"
   ]
  },
  {
   "cell_type": "markdown",
   "metadata": {},
   "source": [
    "review "
   ]
  },
  {
   "cell_type": "code",
   "execution_count": 1,
   "metadata": {},
   "outputs": [
    {
     "name": "stdout",
     "output_type": "stream",
     "text": [
      "fl\n"
     ]
    }
   ],
   "source": [
    "def longestCommonPrefix(strs):\n",
    "    result = \"\"\n",
    "    n = len(strs)\n",
    "    \n",
    "    s_0_len = len(strs[0])\n",
    "    for i in range(s_0_len):\n",
    "        for j in range(n):\n",
    "            s_n = len(strs[j])\n",
    "            #if i == s_n or s[i] != strs[0][i]:\n",
    "            if i == s_n or strs[0][i] != strs[j][i]:\n",
    "                return result\n",
    "            \n",
    "\n",
    "        result += strs[0][i]\n",
    "    \n",
    "    return result\n",
    "\n",
    "#strs = [\"flower\",\"flow\",\"flight\"]\n",
    "#strs = [\"flower\",\"fl\", \"flight\"]\n",
    "strs = [\"fl\", \"flower\", \"flight\"]\n",
    "#strs = [\"flower\",\"flower\",\"flower\",\"flower\"] # for i in range(n):\n",
    "#strs = [\"ab\", \"a\"] # if i == s_n or\n",
    "#strs = [\"dog\",\"racecar\",\"car\"]\n",
    "#strs = [\"a\"]\n",
    "#strs = [\"aaa\",\"aa\",\"aaa\"]\n",
    "#strs = [\"caa\",\" \",\"a\",\"acb\"]\n",
    "#strs = [\"\"]\n",
    "result = longestCommonPrefix(strs)\n",
    "print(result)"
   ]
  },
  {
   "cell_type": "markdown",
   "metadata": {},
   "source": [
    "## and or recap"
   ]
  },
  {
   "cell_type": "code",
   "execution_count": 2,
   "metadata": {},
   "outputs": [
    {
     "name": "stdout",
     "output_type": "stream",
     "text": [
      "2!=a\n"
     ]
    }
   ],
   "source": [
    "# https://blog.csdn.net/lqzdreamer/article/details/77171255\n",
    "a = 1\n",
    "b = [1,2,3]\n",
    "#if 2!=a or b[2] > b[3]:\n",
    "if 2!=a or False:\n",
    "    print(\"2!=a\")\n",
    "else:\n",
    "    print(\"false\")"
   ]
  },
  {
   "cell_type": "code",
   "execution_count": 3,
   "metadata": {},
   "outputs": [
    {
     "name": "stdout",
     "output_type": "stream",
     "text": [
      "false\n"
     ]
    }
   ],
   "source": [
    "a = 2\n",
    "b = [1,2,3]\n",
    "#if 2!=a or b[2] > b[3]:\n",
    "if 2!=a or False:\n",
    "    print(\"2!=a\")\n",
    "else:\n",
    "    print(\"false\")"
   ]
  },
  {
   "cell_type": "code",
   "execution_count": 4,
   "metadata": {},
   "outputs": [
    {
     "name": "stdout",
     "output_type": "stream",
     "text": [
      "1\n"
     ]
    }
   ],
   "source": [
    "a = 1\n",
    "b = [1,2,3]\n",
    "#if 2!=a or b[2] > b[3]:\n",
    "if 2==a or a:\n",
    "    print(a)\n",
    "else:\n",
    "    print(\"false\")"
   ]
  },
  {
   "cell_type": "code",
   "execution_count": 5,
   "metadata": {},
   "outputs": [
    {
     "name": "stdout",
     "output_type": "stream",
     "text": [
      "2==a\n"
     ]
    }
   ],
   "source": [
    "a = 2\n",
    "b = [1,2,3]\n",
    "#if 2!=a or b[2] > b[3]:\n",
    "if 2==a or a:\n",
    "    print(\"2==a\")\n",
    "else:\n",
    "    print(\"false\")"
   ]
  },
  {
   "cell_type": "markdown",
   "metadata": {},
   "source": [
    "## wrong version"
   ]
  },
  {
   "cell_type": "code",
   "execution_count": 6,
   "metadata": {},
   "outputs": [
    {
     "name": "stdout",
     "output_type": "stream",
     "text": [
      "true\n",
      "true\n",
      "true\n",
      "true\n",
      "ab\n"
     ]
    }
   ],
   "source": [
    "def longestCommonPrefix(strs):\n",
    "    result = ''\n",
    "    n = len(strs)\n",
    "    s_0 = len(strs[0])\n",
    "    for i in range(s_0):\n",
    "        for j in range(n):\n",
    "            s_n = len(strs[j])\n",
    "            if i == s_n or strs[0][i] == strs[j][i]:\n",
    "                print(\"true\")\n",
    "            else:\n",
    "                return result\n",
    "        result +=strs[0][i]\n",
    "\n",
    "    return result\n",
    "strs = [\"flower\",\"fl\", \"flight\"]\n",
    "strs = [\"ab\", \"a\"]\n",
    "result = longestCommonPrefix(strs)\n",
    "print(result)"
   ]
  },
  {
   "cell_type": "code",
   "execution_count": 7,
   "metadata": {},
   "outputs": [
    {
     "name": "stdout",
     "output_type": "stream",
     "text": [
      "\n"
     ]
    }
   ],
   "source": [
    "def longestCommonPrefix(strs):\n",
    "    result = []\n",
    "    n = len(strs)\n",
    "\n",
    "    if n<=1: # for #strs = [\"a\"]\n",
    "        return \"\".join(strs)\n",
    "\n",
    "    prefix = ''\n",
    "    for i in range(n):\n",
    "        j = 0\n",
    "        result = [] # for strs = [\"dog\",\"racecar\",\"car\"]\n",
    "\n",
    "        if prefix == '':\n",
    "            while j<len(strs[i]):\n",
    "                prefix += strs[i][j]\n",
    "                \n",
    "                j+=1\n",
    "        else:\n",
    "            while j < len(strs[i]) and j < len(prefix): # j<len(prefix) for strs = [\"aaa\",\"aa\",\"aaa\"]\n",
    "                if strs[i][j] == prefix[j]:\n",
    "                    result += strs[i][j]\n",
    "                else:\n",
    "                    break\n",
    "                j+=1\n",
    "            else:\n",
    "                return \"\"\n",
    "            prefix = \"\".join(result)\n",
    "            \n",
    "    \n",
    "    return \"\".join(result)\n",
    "\n",
    "strs = [\"flower\",\"flow\",\"flight\"]\n",
    "#strs = [\"dog\",\"racecar\",\"car\"]\n",
    "#strs = [\"a\"]\n",
    "strs = [\"aaa\",\"aa\",\"aaa\"]\n",
    "#strs = [\"caa\",\" \",\"a\",\"acb\"]\n",
    "result = longestCommonPrefix(strs)\n",
    "print(result)"
   ]
  },
  {
   "cell_type": "markdown",
   "metadata": {},
   "source": [
    "## int value in list to string"
   ]
  },
  {
   "cell_type": "code",
   "execution_count": 8,
   "metadata": {},
   "outputs": [
    {
     "name": "stdout",
     "output_type": "stream",
     "text": [
      "<class 'list'>\n",
      "<class 'int'>\n",
      "['123', '234']\n",
      "<class 'list'>\n",
      "<class 'str'>\n",
      "====\n",
      "['123', '234']\n"
     ]
    }
   ],
   "source": [
    "a = [123,234]\n",
    "print(type(a))\n",
    "print(type(a[0]))\n",
    "s=[]\n",
    "for i in range(len(a)):\n",
    "    s.append(str(a[i]))\n",
    "print(s)\n",
    "print(type(s))\n",
    "print(type(s[0]))\n",
    "\n",
    "print('====')\n",
    "\n",
    "a = [123,234]\n",
    "s=[]\n",
    "for i in range(len(a)):\n",
    "    s.append(\"\".join(str(a[i])))\n",
    "print(s)\n"
   ]
  },
  {
   "cell_type": "code",
   "execution_count": 9,
   "metadata": {},
   "outputs": [
    {
     "name": "stdout",
     "output_type": "stream",
     "text": [
      "123\n",
      "====\n",
      "123\n",
      "====\n",
      "<map object at 0x110856f70>\n",
      "123\n"
     ]
    }
   ],
   "source": [
    "#https://www.techiedelight.com/zh/convert-list-to-string-python/\n",
    "\n",
    "# 在可迭代中连接字符串的首选且快速的方法是使用 str.join() 功能\n",
    "chars = ['1', '2', '3'] \n",
    "s = ''.join(chars) \n",
    "print(s)\n",
    "\n",
    "print(\"====\")\n",
    "# 使用生成器表达式\n",
    "\n",
    "nums = [1, 2, 3] \n",
    "s = ''.join(str(x) for x in nums)\n",
    "print(s)\n",
    "\n",
    "print(\"====\")\n",
    "# 使用 map() 功能\n",
    "nums = [1, 2, 3] \n",
    "temp = map(str, nums)\n",
    "print(temp)\n",
    "s = ''.join(temp)\n",
    "print(s)"
   ]
  },
  {
   "cell_type": "code",
   "execution_count": 10,
   "metadata": {},
   "outputs": [
    {
     "name": "stdout",
     "output_type": "stream",
     "text": [
      "<map object at 0x110856ac0>\n",
      "[1, 4, 9, 16, 25]\n",
      "====\n",
      "[1, 4, 9, 16, 25]\n"
     ]
    }
   ],
   "source": [
    "# map function: https://www.runoob.com/python3/python3-func-map.html\n",
    "\n",
    "def square(x) :         # 计算平方数\n",
    "    return x ** 2\n",
    "    \n",
    "results = map(square, [1,2,3,4,5])\n",
    "print(results)\n",
    "results = list(results)\n",
    "print(results)\n",
    "print(\"====\")\n",
    "results = list(map(lambda x: x ** 2, [1, 2, 3, 4, 5]))\n",
    "print(results)"
   ]
  },
  {
   "cell_type": "markdown",
   "metadata": {},
   "source": [
    "## string value in list to int"
   ]
  },
  {
   "cell_type": "code",
   "execution_count": 11,
   "metadata": {},
   "outputs": [
    {
     "name": "stdout",
     "output_type": "stream",
     "text": [
      "123\n",
      "<class 'str'>\n",
      "<class 'str'>\n",
      "====\n",
      "['123']\n",
      "<class 'list'>\n",
      "<class 'str'>\n"
     ]
    }
   ],
   "source": [
    "a = '123'\n",
    "print(a)\n",
    "print(type(a))\n",
    "print(type(a[0]))\n",
    "print(\"====\")\n",
    "s = a.split()\n",
    "print(s)\n",
    "print(type(s))\n",
    "print(type(s[0]))"
   ]
  },
  {
   "cell_type": "code",
   "execution_count": 12,
   "metadata": {},
   "outputs": [
    {
     "name": "stdout",
     "output_type": "stream",
     "text": [
      "123\n",
      "<class 'str'>\n",
      "<class 'str'>\n",
      "====\n",
      "['1', '2', '3']\n"
     ]
    }
   ],
   "source": [
    "a = '123'\n",
    "print(a)\n",
    "print(type(a))\n",
    "print(type(a[0]))\n",
    "print(\"====\")\n",
    "s = []\n",
    "for i in range(len(a)):\n",
    "    s.append(a[i])\n",
    "print(s)"
   ]
  },
  {
   "cell_type": "code",
   "execution_count": 13,
   "metadata": {},
   "outputs": [
    {
     "name": "stdout",
     "output_type": "stream",
     "text": [
      "<map object at 0x110670f10>\n",
      "[1, 2, 3]\n"
     ]
    }
   ],
   "source": [
    "# https://blog.csdn.net/u010412858/article/details/72084936\n",
    "results = [\"1\",\"2\",\"3\"]\n",
    "results = map(int, results)\n",
    "print(results)\n",
    "results = list(results)\n",
    "#results = list(map(int, results))\n",
    "print(results)"
   ]
  },
  {
   "cell_type": "code",
   "execution_count": 14,
   "metadata": {},
   "outputs": [
    {
     "name": "stdout",
     "output_type": "stream",
     "text": [
      "<class 'list'>\n",
      "<class 'str'>\n",
      "[1, 2, 3]\n",
      "<class 'list'>\n",
      "<class 'int'>\n"
     ]
    }
   ],
   "source": [
    "results = [\"1\",\"2\",\"3\"]\n",
    "print(type(results))\n",
    "print(type(results[0]))\n",
    "s = []\n",
    "for i in range(len(results)):\n",
    "    s.append(int(results[i]))\n",
    "print(s)\n",
    "print(type(s))\n",
    "print(type(s[0]))"
   ]
  },
  {
   "cell_type": "markdown",
   "metadata": {},
   "source": [
    "## join function recap"
   ]
  },
  {
   "cell_type": "code",
   "execution_count": 15,
   "metadata": {},
   "outputs": [
    {
     "ename": "TypeError",
     "evalue": "can only join an iterable",
     "output_type": "error",
     "traceback": [
      "\u001b[0;31m---------------------------------------------------------------------------\u001b[0m",
      "\u001b[0;31mTypeError\u001b[0m                                 Traceback (most recent call last)",
      "\u001b[0;32m/var/folders/_0/t_q_3ydn61v2hbgddcm8pdz00000gn/T/ipykernel_72423/1278441637.py\u001b[0m in \u001b[0;36m<module>\u001b[0;34m\u001b[0m\n\u001b[1;32m      2\u001b[0m \u001b[0ma\u001b[0m \u001b[0;34m=\u001b[0m \u001b[0;34m[\u001b[0m\u001b[0;36m123\u001b[0m\u001b[0;34m]\u001b[0m\u001b[0;34m\u001b[0m\u001b[0;34m\u001b[0m\u001b[0m\n\u001b[1;32m      3\u001b[0m \u001b[0;31m#s = str(a)\u001b[0m\u001b[0;34m\u001b[0m\u001b[0;34m\u001b[0m\u001b[0;34m\u001b[0m\u001b[0m\n\u001b[0;32m----> 4\u001b[0;31m \u001b[0ms\u001b[0m \u001b[0;34m=\u001b[0m \u001b[0;34m\"-\"\u001b[0m\u001b[0;34m.\u001b[0m\u001b[0mjoin\u001b[0m\u001b[0;34m(\u001b[0m\u001b[0ma\u001b[0m\u001b[0;34m[\u001b[0m\u001b[0;36m0\u001b[0m\u001b[0;34m]\u001b[0m\u001b[0;34m)\u001b[0m\u001b[0;34m\u001b[0m\u001b[0;34m\u001b[0m\u001b[0m\n\u001b[0m\u001b[1;32m      5\u001b[0m \u001b[0;31m#s = str(a)\u001b[0m\u001b[0;34m\u001b[0m\u001b[0;34m\u001b[0m\u001b[0;34m\u001b[0m\u001b[0m\n\u001b[1;32m      6\u001b[0m \u001b[0mprint\u001b[0m\u001b[0;34m(\u001b[0m\u001b[0ms\u001b[0m\u001b[0;34m)\u001b[0m\u001b[0;34m\u001b[0m\u001b[0;34m\u001b[0m\u001b[0m\n",
      "\u001b[0;31mTypeError\u001b[0m: can only join an iterable"
     ]
    }
   ],
   "source": [
    "# https://blog.csdn.net/ruanxuan/article/details/117336128\n",
    "a = [123]\n",
    "#s = str(a)\n",
    "s = \"-\".join(a[0])\n",
    "#s = str(a)\n",
    "print(s)\n",
    "for i in range(len(s)):\n",
    "    print(i,s[i])"
   ]
  },
  {
   "cell_type": "code",
   "execution_count": 16,
   "metadata": {},
   "outputs": [
    {
     "ename": "TypeError",
     "evalue": "sequence item 0: expected str instance, int found",
     "output_type": "error",
     "traceback": [
      "\u001b[0;31m---------------------------------------------------------------------------\u001b[0m",
      "\u001b[0;31mTypeError\u001b[0m                                 Traceback (most recent call last)",
      "\u001b[0;32m/var/folders/_0/t_q_3ydn61v2hbgddcm8pdz00000gn/T/ipykernel_72423/3123222796.py\u001b[0m in \u001b[0;36m<module>\u001b[0;34m\u001b[0m\n\u001b[1;32m      1\u001b[0m \u001b[0ma\u001b[0m \u001b[0;34m=\u001b[0m \u001b[0;34m[\u001b[0m\u001b[0;36m123\u001b[0m\u001b[0;34m]\u001b[0m\u001b[0;34m\u001b[0m\u001b[0;34m\u001b[0m\u001b[0m\n\u001b[1;32m      2\u001b[0m \u001b[0;31m#s = str(a)\u001b[0m\u001b[0;34m\u001b[0m\u001b[0;34m\u001b[0m\u001b[0;34m\u001b[0m\u001b[0m\n\u001b[0;32m----> 3\u001b[0;31m \u001b[0ms\u001b[0m \u001b[0;34m=\u001b[0m \u001b[0;34m\"-\"\u001b[0m\u001b[0;34m.\u001b[0m\u001b[0mjoin\u001b[0m\u001b[0;34m(\u001b[0m\u001b[0ma\u001b[0m\u001b[0;34m)\u001b[0m\u001b[0;34m\u001b[0m\u001b[0;34m\u001b[0m\u001b[0m\n\u001b[0m\u001b[1;32m      4\u001b[0m \u001b[0;31m#s = str(a)\u001b[0m\u001b[0;34m\u001b[0m\u001b[0;34m\u001b[0m\u001b[0;34m\u001b[0m\u001b[0m\n\u001b[1;32m      5\u001b[0m \u001b[0mprint\u001b[0m\u001b[0;34m(\u001b[0m\u001b[0ms\u001b[0m\u001b[0;34m)\u001b[0m\u001b[0;34m\u001b[0m\u001b[0;34m\u001b[0m\u001b[0m\n",
      "\u001b[0;31mTypeError\u001b[0m: sequence item 0: expected str instance, int found"
     ]
    }
   ],
   "source": [
    "a = [123]\n",
    "#s = str(a)\n",
    "s = \"-\".join(a)\n",
    "#s = str(a)\n",
    "print(s)\n",
    "for i in range(len(s)):\n",
    "    print(i,s[i])"
   ]
  },
  {
   "cell_type": "code",
   "execution_count": null,
   "metadata": {},
   "outputs": [],
   "source": []
  },
  {
   "cell_type": "code",
   "execution_count": 17,
   "metadata": {},
   "outputs": [
    {
     "name": "stdout",
     "output_type": "stream",
     "text": [
      "<class 'list'>\n",
      "<class 'int'>\n",
      "[123, 234]\n",
      "<class 'str'>\n",
      "<class 'str'>\n",
      "[-1-2-3-,- -2-3-4-]\n",
      "0 [\n",
      "1 -\n",
      "2 1\n",
      "3 -\n",
      "4 2\n",
      "5 -\n",
      "6 3\n",
      "7 -\n",
      "8 ,\n",
      "9 -\n",
      "10  \n",
      "11 -\n",
      "12 2\n",
      "13 -\n",
      "14 3\n",
      "15 -\n",
      "16 4\n",
      "17 -\n",
      "18 ]\n"
     ]
    }
   ],
   "source": [
    "a = [123,234]\n",
    "print(type(a))\n",
    "print(type(a[0]))\n",
    "s = str(a)\n",
    "print(s)\n",
    "print(type(s))\n",
    "print(type(s[0]))\n",
    "s = \"-\".join(s)\n",
    "#s = str(a)\n",
    "print(s)\n",
    "for i in range(len(s)):\n",
    "    print(i,s[i])"
   ]
  },
  {
   "cell_type": "markdown",
   "metadata": {},
   "source": [
    "## sort string recap"
   ]
  },
  {
   "cell_type": "code",
   "execution_count": 18,
   "metadata": {},
   "outputs": [
    {
     "name": "stdout",
     "output_type": "stream",
     "text": [
      "['d', 'a', 'i', 'b', 'a', 'h', 'g', 'k']\n",
      "['a', 'a', 'b', 'd', 'g', 'h', 'i', 'k']\n",
      "<class 'list'>\n",
      "<class 'str'>\n",
      "===\n",
      "aabdghik\n",
      "<class 'str'>\n",
      "<class 'str'>\n",
      "0 a\n",
      "1 a\n",
      "2 b\n",
      "3 d\n",
      "4 g\n",
      "5 h\n",
      "6 i\n",
      "7 k\n"
     ]
    }
   ],
   "source": [
    "string = 'daibahgk'\n",
    "li = list(string) # 将字符串转换为列表['d', 'a', 'i', 'b', 'a', 'h', 'g', 'k']\n",
    "print(li)\n",
    "li.sort()     # 对列表里的字母进行排序\n",
    "print(li)\n",
    "print(type(li))\n",
    "print(type(li[0]))\n",
    "new_string = \"\".join(li)\n",
    "print(\"===\")\n",
    "print(new_string)\n",
    "print(type(new_string))\n",
    "print(type(new_string[0]))\n",
    "for i in range(len(new_string)):\n",
    "    print(i,new_string[i])"
   ]
  },
  {
   "cell_type": "code",
   "execution_count": 19,
   "metadata": {},
   "outputs": [
    {
     "name": "stdout",
     "output_type": "stream",
     "text": [
      "['d', 'a', 'i', 'b', 'a', 'h', 'g', 'k']\n",
      "['a', 'a', 'b', 'd', 'g', 'h', 'i', 'k']\n",
      "<class 'list'>\n",
      "<class 'str'>\n",
      "===\n",
      "<class 'str'>\n",
      "<class 'str'>\n",
      "['a', 'a', 'b', 'd', 'g', 'h', 'i', 'k']\n",
      "0 [\n",
      "1 '\n",
      "2 a\n",
      "3 '\n",
      "4 ,\n",
      "5  \n",
      "6 '\n",
      "7 a\n",
      "8 '\n",
      "9 ,\n",
      "10  \n",
      "11 '\n",
      "12 b\n",
      "13 '\n",
      "14 ,\n",
      "15  \n",
      "16 '\n",
      "17 d\n",
      "18 '\n",
      "19 ,\n",
      "20  \n",
      "21 '\n",
      "22 g\n",
      "23 '\n",
      "24 ,\n",
      "25  \n",
      "26 '\n",
      "27 h\n",
      "28 '\n",
      "29 ,\n",
      "30  \n",
      "31 '\n",
      "32 i\n",
      "33 '\n",
      "34 ,\n",
      "35  \n",
      "36 '\n",
      "37 k\n",
      "38 '\n",
      "39 ]\n"
     ]
    }
   ],
   "source": [
    "string = 'daibahgk'\n",
    "li = list(string) # 将字符串转换为列表['d', 'a', 'i', 'b', 'a', 'h', 'g', 'k']\n",
    "print(li)\n",
    "li.sort()     # 对列表里的字母进行排序\n",
    "print(li)\n",
    "print(type(li))\n",
    "print(type(li[0]))\n",
    "#new_string = \"\".join(li)\n",
    "new_string = str(li)\n",
    "print(\"===\")\n",
    "print(type(new_string))\n",
    "print(type(new_string[0]))\n",
    "print(new_string)\n",
    "\n",
    "for i in range(len(new_string)):\n",
    "    print(i,new_string[i])"
   ]
  }
 ],
 "metadata": {
  "kernelspec": {
   "display_name": "leetcode_env",
   "language": "python",
   "name": "leetcode_env"
  },
  "language_info": {
   "codemirror_mode": {
    "name": "ipython",
    "version": 3
   },
   "file_extension": ".py",
   "mimetype": "text/x-python",
   "name": "python",
   "nbconvert_exporter": "python",
   "pygments_lexer": "ipython3",
   "version": "3.8.6"
  },
  "orig_nbformat": 4,
  "vscode": {
   "interpreter": {
    "hash": "846fd2d9bb562a436898b7cc368204fc2f9d44e5e9b051b4f6e855e721078f23"
   }
  }
 },
 "nbformat": 4,
 "nbformat_minor": 2
}
