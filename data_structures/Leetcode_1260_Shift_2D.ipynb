{
 "cells": [
  {
   "cell_type": "markdown",
   "metadata": {},
   "source": [
    "## Method1 - Array\n",
    "https://www.youtube.com/watch?v=nJYFh4Dl-as"
   ]
  },
  {
   "cell_type": "code",
   "execution_count": 1,
   "metadata": {},
   "outputs": [
    {
     "name": "stdout",
     "output_type": "stream",
     "text": [
      "[[12, 1, 2], [3, 4, 5], [6, 7, 8], [9, 10, 11]]\n",
      "[[6], [5], [1], [2], [3], [4], [7]]\n"
     ]
    }
   ],
   "source": [
    "def shiftGrid(grid, k):\n",
    "    result = []\n",
    "    row = len(grid)\n",
    "    col = len(grid[0])\n",
    "    def posTval(r,c):\n",
    "        posval = r*col+c\n",
    "        return posval\n",
    "    def valTpos(val):\n",
    "        R = val//col\n",
    "        C = val%col\n",
    "        return R,C\n",
    "\n",
    "    # result = []\n",
    "    # for i in range(row):\n",
    "    #     result.append([0]*col)\n",
    "    result = [[0]*col for i in range(row)]\n",
    "    \n",
    "    for r in range(row):\n",
    "        for c in range(col):\n",
    "            newval = (posTval(r,c) + k) % (row*col) \n",
    "            newR, newC = valTpos(newval)\n",
    "            result[newR][newC] = grid[r][c]\n",
    "    return result\n",
    "\n",
    "print(shiftGrid(grid=[[1,2,3],[4,5,6],[7,8,9],[10,11,12]], k = 1))\n",
    "print(shiftGrid(grid=[[1],[2],[3],[4],[7],[6],[5]], k = 23))"
   ]
  }
 ],
 "metadata": {
  "kernelspec": {
   "display_name": "leetcode_env",
   "language": "python",
   "name": "leetcode_env"
  },
  "language_info": {
   "codemirror_mode": {
    "name": "ipython",
    "version": 3
   },
   "file_extension": ".py",
   "mimetype": "text/x-python",
   "name": "python",
   "nbconvert_exporter": "python",
   "pygments_lexer": "ipython3",
   "version": "3.8.6"
  },
  "orig_nbformat": 4,
  "vscode": {
   "interpreter": {
    "hash": "846fd2d9bb562a436898b7cc368204fc2f9d44e5e9b051b4f6e855e721078f23"
   }
  }
 },
 "nbformat": 4,
 "nbformat_minor": 2
}
