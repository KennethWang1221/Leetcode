{
 "cells": [
  {
   "cell_type": "markdown",
   "metadata": {},
   "source": [
    "## Method1 - Reinforcement Learning"
   ]
  },
  {
   "cell_type": "code",
   "execution_count": 1,
   "metadata": {},
   "outputs": [
    {
     "name": "stdout",
     "output_type": "stream",
     "text": [
      "1.032748929359358\n"
     ]
    }
   ],
   "source": [
    "import numpy as np\n",
    "\n",
    "def grpo_objective(rhos, A, pi_theta_old, pi_theta_ref, epsilon=0.2, beta=0.01) -> float:\n",
    "    \"\"\"\n",
    "    Compute the GRPO objective function.\n",
    "\n",
    "    Args:\n",
    "        rhos: List of likelihood ratios (Ï_i) = Ï_theta(o_i | q) / Ï_theta_old(o_i | q).\n",
    "        A: List of advantage estimates (A_i).\n",
    "        pi_theta_old: List representing the old policy probabilities Ï_theta_old(o_i | q).\n",
    "        pi_theta_ref: List representing the reference policy probabilities Ï_ref(o_i | q).\n",
    "        epsilon: Clipping parameter (Ïµ).\n",
    "        beta: KL divergence penalty coefficient (Î²).\n",
    "\n",
    "    Returns:\n",
    "        The computed GRPO objective value.\n",
    "    \"\"\"\n",
    "    G = len(rhos)\n",
    "    if not (len(A) == len(pi_theta_old) == len(pi_theta_ref) == G):\n",
    "        raise ValueError(\"All input lists must have the same length.\")\n",
    "    \n",
    "    # Compute clipped likelihood ratios\n",
    "    clipped_rhos = np.clip(rhos, 1 - epsilon, 1 + epsilon)\n",
    "    \n",
    "    # Compute the minimum terms for the objective\n",
    "    unclipped = np.array(rhos) * np.array(A)\n",
    "    clipped = clipped_rhos * np.array(A)\n",
    "    min_terms = np.minimum(unclipped, clipped)\n",
    "    average_min = np.mean(min_terms)\n",
    "    \n",
    "    # Compute pi_theta from rhos and pi_theta_old\n",
    "    pi_theta = np.array(rhos) * np.array(pi_theta_old)\n",
    "    \n",
    "    # Normalize pi_theta and pi_theta_ref to ensure they are valid probability distributions\n",
    "    pi_theta /= np.sum(pi_theta)\n",
    "    pi_theta_ref /= np.sum(pi_theta_ref)\n",
    "    \n",
    "    # Compute KL divergence D_KL(pi_theta || pi_theta_ref)\n",
    "    kl_divergence = np.sum(pi_theta * np.log(pi_theta / pi_theta_ref + 1e-10))  # Added epsilon to avoid log(0)\n",
    "    \n",
    "    # Compute the final objective\n",
    "    objective = average_min - beta * kl_divergence\n",
    "    \n",
    "    return objective\n",
    "\n",
    "print(grpo_objective([1.2, 0.8, 1.1], [1.0, 1.0, 1.0], [0.9, 1.1, 1.0], [1.0, 0.5, 1.5], epsilon=0.2, beta=0.01))"
   ]
  }
 ],
 "metadata": {
  "kernelspec": {
   "display_name": "leetcode_env",
   "language": "python",
   "name": "python3"
  },
  "language_info": {
   "codemirror_mode": {
    "name": "ipython",
    "version": 3
   },
   "file_extension": ".py",
   "mimetype": "text/x-python",
   "name": "python",
   "nbconvert_exporter": "python",
   "pygments_lexer": "ipython3",
   "version": "3.8.6"
  }
 },
 "nbformat": 4,
 "nbformat_minor": 2
}
