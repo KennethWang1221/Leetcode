{
 "cells": [
  {
   "cell_type": "markdown",
   "metadata": {},
   "source": [
    "## Method1 - 2D Bottom-UP DP\n",
    "https://github.com/youngyangyang04/leetcode-master/blob/master/problems/0516.%E6%9C%80%E9%95%BF%E5%9B%9E%E6%96%87%E5%AD%90%E5%BA%8F%E5%88%97.md"
   ]
  },
  {
   "cell_type": "code",
   "execution_count": 12,
   "metadata": {},
   "outputs": [
    {
     "name": "stdout",
     "output_type": "stream",
     "text": [
      "4\n"
     ]
    }
   ],
   "source": [
    "def longestPalindromeSubseq(s):\n",
    "    n = len(s)\n",
    "    # Create a 2D DP table with dimensions (n x n)\n",
    "    dp = [[0] * n for _ in range(n)]\n",
    "    \n",
    "    # Initialize the diagonal (single characters are palindromes of length 1)\n",
    "    for i in range(n):\n",
    "        dp[i][i] = 1\n",
    "    \n",
    "    # Fill the DP table from bottom-right to top-left\n",
    "    for i in range(n - 1, -1, -1):  # start from the bottom\n",
    "        for j in range(i + 1, n):  # start from the left\n",
    "            if s[i] == s[j]:\n",
    "                dp[i][j] = dp[i + 1][j - 1] + 2\n",
    "            else:\n",
    "                dp[i][j] = max(dp[i + 1][j], dp[i][j - 1])\n",
    "    \n",
    "    # The result is the length of the longest palindromic subsequence\n",
    "    return dp[0][n - 1]\n",
    "\n",
    "s = 'bbbab'\n",
    "res = longestPalindromeSubseq(s)\n",
    "print(res)"
   ]
  },
  {
   "cell_type": "markdown",
   "metadata": {},
   "source": [
    "## Method2 - LCS\n",
    "https://www.youtube.com/watch?v=bUr8cNWI09Q"
   ]
  },
  {
   "cell_type": "code",
   "execution_count": 15,
   "metadata": {},
   "outputs": [
    {
     "name": "stdout",
     "output_type": "stream",
     "text": [
      "4\n"
     ]
    }
   ],
   "source": [
    "def longestCommonSubsequence(s1: str, s2: str) -> int:\n",
    "    N, M = len(s1), len(s2)\n",
    "    dp = [[0] * (M+1) for _ in range(N+1)]\n",
    "\n",
    "    for i in range(N):\n",
    "        for j in range(M):\n",
    "            if s1[i] == s2[j]:\n",
    "                dp[i+1][j+1] = 1 + dp[i][j]\n",
    "            else:\n",
    "                dp[i+1][j+1] = max(dp[i][j+1], dp[i+1][j])\n",
    "    return dp[N][M]\n",
    "\n",
    "def longestCommonSubsequence(s1: str, s2: str) -> int:\n",
    "    N, M = len(s1), len(s2)\n",
    "    dp = [[0] * (M+1) for _ in range(N+1)]\n",
    "\n",
    "    for i in range(N-1,-1,-1):\n",
    "        for j in range(M-1,-1,-1):\n",
    "            if s1[i] == s2[j]:\n",
    "                dp[i][j] = 1 + dp[i+1][j+1]\n",
    "            else:\n",
    "                dp[i][j] = max(dp[i+1][j], dp[i][j+1])\n",
    "    return dp[0][0]\n",
    "\n",
    "def longestPalindromeSubseq(s: str) -> int:\n",
    "    return longestCommonSubsequence(s, s[::-1])\n",
    "    \n",
    "s = 'bbbab'\n",
    "res = longestPalindromeSubseq(s)\n",
    "print(res)"
   ]
  },
  {
   "cell_type": "markdown",
   "metadata": {},
   "source": [
    "## Method3 - 2D Bottom-UP DP\n",
    "https://www.youtube.com/watch?v=bUr8cNWI09Q"
   ]
  },
  {
   "cell_type": "code",
   "execution_count": 16,
   "metadata": {},
   "outputs": [
    {
     "name": "stdout",
     "output_type": "stream",
     "text": [
      "4\n"
     ]
    }
   ],
   "source": [
    "# Time: O(n^2) Space: O(n^2) - For all three solutions\n",
    "def longestPalindromeSubseq(s: str) -> int:   \n",
    "    # Dynamic Programming\n",
    "    dp = [ [0] * (len(s) + 1) for i in range(len(s) + 1)]\n",
    "    res = 0\n",
    "    \n",
    "    for i in range(len(s)):\n",
    "        for j in range(len(s) - 1, i - 1, -1):\n",
    "            if s[i] == s[j]:\n",
    "                dp[i][j] = 1 if i == j else 2\n",
    "                if i - 1 >= 0:\n",
    "                    dp[i][j] += dp[i - 1][j + 1]\n",
    "            else:\n",
    "                dp[i][j] = dp[i][j + 1]\n",
    "                if i - 1 >= 0:\n",
    "                    dp[i][j] = max(dp[i][j], dp[i - 1][j])\n",
    "            res = max(res, dp[i][j])\n",
    "    return res\n",
    "s = 'bbbab'\n",
    "res = longestPalindromeSubseq(s)\n",
    "print(res)"
   ]
  },
  {
   "cell_type": "markdown",
   "metadata": {},
   "source": [
    "## Method4 - Recursive \n",
    "https://www.youtube.com/watch?v=bUr8cNWI09Q"
   ]
  },
  {
   "cell_type": "code",
   "execution_count": 9,
   "metadata": {},
   "outputs": [
    {
     "name": "stdout",
     "output_type": "stream",
     "text": [
      "4\n"
     ]
    }
   ],
   "source": [
    "def longestPalindromeSubseq(s: str) -> int:   \n",
    "    # Memoization\n",
    "    cache = {}\n",
    "\n",
    "    def dfs(i, j):\n",
    "        if i < 0 or j == len(s):\n",
    "            return 0\n",
    "        if (i, j) in cache:\n",
    "            return cache[(i, j)]\n",
    "\n",
    "        if s[i] == s[j]:\n",
    "            length = 1 if i == j else 2\n",
    "            cache[(i, j)] = length + dfs(i - 1, j + 1)\n",
    "        else:\n",
    "            cache[(i, j)] = max(dfs(i - 1, j), dfs(i, j + 1))\n",
    "        return cache[(i, j)]\n",
    "    \n",
    "    for i in range(len(s)):\n",
    "        dfs(i, i) # odd length\n",
    "        dfs(i, i + 1) # even length\n",
    "\n",
    "    return max(cache.values())\n",
    "\n",
    "s = 'bbbab'\n",
    "res = longestPalindromeSubseq(s)\n",
    "print(res)"
   ]
  }
 ],
 "metadata": {
  "kernelspec": {
   "display_name": "test_env",
   "language": "python",
   "name": "test_env"
  },
  "language_info": {
   "codemirror_mode": {
    "name": "ipython",
    "version": 3
   },
   "file_extension": ".py",
   "mimetype": "text/x-python",
   "name": "python",
   "nbconvert_exporter": "python",
   "pygments_lexer": "ipython3",
   "version": "3.8.6"
  }
 },
 "nbformat": 4,
 "nbformat_minor": 2
}
