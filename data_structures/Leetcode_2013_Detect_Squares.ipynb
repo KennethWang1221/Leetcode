{
 "cells": [
  {
   "cell_type": "markdown",
   "metadata": {},
   "source": [
    "## Method1 - Math\n",
    "\n",
    "https://www.youtube.com/watch?v=bahebearrDc"
   ]
  },
  {
   "cell_type": "code",
   "execution_count": 1,
   "metadata": {},
   "outputs": [
    {
     "name": "stdout",
     "output_type": "stream",
     "text": [
      "Count [11, 2]: 2\n",
      "Count [14, 10]: 0\n"
     ]
    }
   ],
   "source": [
    "from collections import defaultdict, Counter\n",
    "from typing import List\n",
    "\n",
    "class DetectSquares:\n",
    "    def __init__(self):\n",
    "        self.pts_count = defaultdict(int)  # To count occurrences of each point\n",
    "        self.pts = []                      # To store all added points\n",
    "\n",
    "    def add(self, point: List[int]) -> None:\n",
    "        x, y = point\n",
    "        self.pts_count[(x, y)] += 1\n",
    "        self.pts.append((x, y))\n",
    "\n",
    "    def count(self, point: List[int]) -> int:\n",
    "        px, py = point\n",
    "        result = 0\n",
    "\n",
    "        for (x, y) in self.pts:\n",
    "            # Skip if not diagonal or same row/column\n",
    "            if abs(py - y) != abs(px - x) or x == px or y == py:\n",
    "                continue\n",
    "            \n",
    "            # Check if the other two corners exist\n",
    "            corner1 = (x, py)\n",
    "            corner2 = (px, y)\n",
    "\n",
    "            result += self.pts_count.get(corner1, 0) * self.pts_count.get(corner2, 0)\n",
    "\n",
    "        return result\n",
    "\n",
    "# 🧪 Test Case\n",
    "if __name__ == \"__main__\":\n",
    "    detect_squares = DetectSquares()\n",
    "\n",
    "    # Add some points\n",
    "    detect_squares.add([3, 10])\n",
    "    detect_squares.add([11, 2])\n",
    "    detect_squares.add([3, 2])\n",
    "    detect_squares.add([11, 10])\n",
    "    detect_squares.add([11, 10])  # Adding duplicate\n",
    "\n",
    "    # Count squares with query point [11, 2]\n",
    "    print(\"Count [11, 2]:\", detect_squares.count([11, 2]))  # Expected: 2\n",
    "\n",
    "    # Count with a new point that doesn't form any square\n",
    "    print(\"Count [14, 10]:\", detect_squares.count([14, 10]))  # Expected: 0"
   ]
  }
 ],
 "metadata": {
  "kernelspec": {
   "display_name": "leetcode_env",
   "language": "python",
   "name": "python3"
  },
  "language_info": {
   "codemirror_mode": {
    "name": "ipython",
    "version": 3
   },
   "file_extension": ".py",
   "mimetype": "text/x-python",
   "name": "python",
   "nbconvert_exporter": "python",
   "pygments_lexer": "ipython3",
   "version": "3.8.6"
  }
 },
 "nbformat": 4,
 "nbformat_minor": 2
}
