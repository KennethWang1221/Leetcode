{
 "cells": [
  {
   "cell_type": "markdown",
   "metadata": {},
   "source": [
    "## Method1 - String"
   ]
  },
  {
   "cell_type": "code",
   "execution_count": 2,
   "metadata": {},
   "outputs": [
    {
     "name": "stdout",
     "output_type": "stream",
     "text": [
      "cadf\n"
     ]
    }
   ],
   "source": [
    "def mergeAlternately(word1: str, word2: str):\n",
    "    n1 = len(word1)\n",
    "    n2 = len(word2)\n",
    "    res = []\n",
    "\n",
    "    n = min(n1,n2)\n",
    "    i,j = 0, 0\n",
    "    while n>0:\n",
    "\n",
    "        res.append(word1[i])\n",
    "        i += 1\n",
    "        res.append(word2[j])\n",
    "        j += 1\n",
    "        \n",
    "        n -= 1\n",
    "    \n",
    "    if i != n1:\n",
    "        res.append(word1[i:])\n",
    "    if j != n2:\n",
    "        res.append(word2[j:])\n",
    "    \n",
    "    return \"\".join(res)\n",
    "\n",
    "word1 = \"cdf\"\n",
    "word2 = \"a\"\n",
    "print(mergeAlternately(word1, word2))"
   ]
  }
 ],
 "metadata": {
  "kernelspec": {
   "display_name": "leetcode_env",
   "language": "python",
   "name": "leetcode_env"
  },
  "language_info": {
   "codemirror_mode": {
    "name": "ipython",
    "version": 3
   },
   "file_extension": ".py",
   "mimetype": "text/x-python",
   "name": "python",
   "nbconvert_exporter": "python",
   "pygments_lexer": "ipython3",
   "version": "3.8.6"
  }
 },
 "nbformat": 4,
 "nbformat_minor": 2
}
