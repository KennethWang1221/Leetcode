{
 "cells": [
  {
   "cell_type": "markdown",
   "metadata": {},
   "source": [
    "## Method1 - 1D Bottom-UP DP\n",
    "https://www.youtube.com/watch?v=ktmzAZWkEZ0"
   ]
  },
  {
   "cell_type": "code",
   "execution_count": 1,
   "metadata": {},
   "outputs": [
    {
     "name": "stdout",
     "output_type": "stream",
     "text": [
      "6\n"
     ]
    }
   ],
   "source": [
    "def minCostClimbingStairs(cost):\n",
    "    n = len(cost)\n",
    "    cost.append(0)\n",
    "    for i in range(n-3, -1,-1):\n",
    "        cost[i] += min(cost[i+1], cost[i+2])\n",
    "    \n",
    "    return min(cost[0], cost[1])\n",
    "\n",
    "cost = [1,100,1,1,1,100,1,1,100,1]\n",
    "res = minCostClimbingStairs(cost)\n",
    "print(res)"
   ]
  },
  {
   "cell_type": "markdown",
   "metadata": {},
   "source": [
    "## Method2 - 1D Bottom-UP DP\n",
    "https://github.com/youngyangyang04/leetcode-master/blob/master/problems/0746.%E4%BD%BF%E7%94%A8%E6%9C%80%E5%B0%8F%E8%8A%B1%E8%B4%B9%E7%88%AC%E6%A5%BC%E6%A2%AF.md"
   ]
  },
  {
   "cell_type": "code",
   "execution_count": 2,
   "metadata": {},
   "outputs": [
    {
     "name": "stdout",
     "output_type": "stream",
     "text": [
      "6\n"
     ]
    }
   ],
   "source": [
    "def minCostClimbingStairs(cost):\n",
    "    dp = [0] * len(cost)\n",
    "    dp[0] = cost[0]  # 第一步有花费\n",
    "    dp[1] = cost[1]\n",
    "    for i in range(2, len(cost)):\n",
    "        dp[i] = min(dp[i - 1], dp[i - 2]) + cost[i]\n",
    "    # 注意最后一步可以理解为不用花费，所以取倒数第一步，第二步的最少值\n",
    "    return min(dp[-1], dp[-2])\n",
    "\n",
    "cost = [1,100,1,1,1,100,1,1,100,1]\n",
    "print(minCostClimbingStairs(cost))"
   ]
  }
 ],
 "metadata": {
  "kernelspec": {
   "display_name": "test_env",
   "language": "python",
   "name": "test_env"
  },
  "language_info": {
   "codemirror_mode": {
    "name": "ipython",
    "version": 3
   },
   "file_extension": ".py",
   "mimetype": "text/x-python",
   "name": "python",
   "nbconvert_exporter": "python",
   "pygments_lexer": "ipython3",
   "version": "3.8.6"
  }
 },
 "nbformat": 4,
 "nbformat_minor": 2
}
