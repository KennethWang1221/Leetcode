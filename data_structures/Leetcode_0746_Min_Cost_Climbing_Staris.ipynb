{
 "cells": [
  {
   "cell_type": "markdown",
   "metadata": {},
   "source": [
    "## Method1 - 1D Bottom-UP DP\n",
    "https://www.youtube.com/watch?v=ktmzAZWkEZ0"
   ]
  },
  {
   "cell_type": "code",
   "execution_count": 1,
   "metadata": {},
   "outputs": [
    {
     "name": "stdout",
     "output_type": "stream",
     "text": [
      "6\n"
     ]
    }
   ],
   "source": [
    "def minCostClimbingStairs(cost):\n",
    "    n = len(cost)\n",
    "    cost.append(0)\n",
    "    for i in range(n-3, -1,-1):\n",
    "        cost[i] += min(cost[i+1], cost[i+2])\n",
    "    \n",
    "    return min(cost[0], cost[1])\n",
    "\n",
    "cost = [1,100,1,1,1,100,1,1,100,1]\n",
    "res = minCostClimbingStairs(cost)\n",
    "print(res)"
   ]
  }
 ],
 "metadata": {
  "kernelspec": {
   "display_name": "test_env",
   "language": "python",
   "name": "test_env"
  },
  "language_info": {
   "codemirror_mode": {
    "name": "ipython",
    "version": 3
   },
   "file_extension": ".py",
   "mimetype": "text/x-python",
   "name": "python",
   "nbconvert_exporter": "python",
   "pygments_lexer": "ipython3",
   "version": "3.8.6"
  }
 },
 "nbformat": 4,
 "nbformat_minor": 2
}
