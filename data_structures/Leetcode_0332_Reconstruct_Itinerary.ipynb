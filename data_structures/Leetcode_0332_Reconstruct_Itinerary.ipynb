{
 "cells": [
  {
   "attachments": {},
   "cell_type": "markdown",
   "metadata": {},
   "source": [
    "## Method1 - Graph_DFS - Backtracking - Recap\n",
    "https://www.youtube.com/watch?v=ZyB_gQ8vqGA&list=PLot-Xpze53ldBT_7QA8NVot219jFNr_GI&index=24\n"
   ]
  },
  {
   "cell_type": "code",
   "execution_count": 3,
   "metadata": {},
   "outputs": [
    {
     "name": "stdout",
     "output_type": "stream",
     "text": [
      "['JFK', 'ATL', 'JFK', 'SFO', 'ATL', 'SFO']\n"
     ]
    }
   ],
   "source": [
    "def findItinerary(tickets):\n",
    "    adj = {src: [] for src, dst in tickets}\n",
    "    res = []\n",
    "\n",
    "    for src, dst in tickets:\n",
    "        adj[src].append(dst)\n",
    "\n",
    "    for key in adj:\n",
    "        adj[key].sort()\n",
    "\n",
    "    def dfs(adj, result, src):\n",
    "        if src in adj:\n",
    "            destinations = adj[src][:]\n",
    "            while destinations:\n",
    "                dest = destinations[0]\n",
    "                adj[src].pop(0)\n",
    "                dfs(adj, res, dest)\n",
    "                destinations = adj[src][:]\n",
    "        res.append(src)\n",
    "\n",
    "    dfs(adj, res, \"JFK\")\n",
    "    res.reverse()\n",
    "\n",
    "    if len(res) != len(tickets) + 1:\n",
    "        return []\n",
    "\n",
    "    return res\n",
    "\n",
    "tickets = [[\"JFK\",\"SFO\"],[\"JFK\",\"ATL\"],[\"SFO\",\"ATL\"],[\"ATL\",\"JFK\"],[\"ATL\",\"SFO\"]]\n",
    "print(findItinerary(tickets))"
   ]
  },
  {
   "cell_type": "markdown",
   "metadata": {},
   "source": [
    "## Method2 - Backtracking\n",
    "https://github.com/youngyangyang04/leetcode-master/blob/master/problems/0332.%E9%87%8D%E6%96%B0%E5%AE%89%E6%8E%92%E8%A1%8C%E7%A8%8B.md"
   ]
  },
  {
   "cell_type": "markdown",
   "metadata": {},
   "source": [
    "回溯 使用字典"
   ]
  },
  {
   "cell_type": "code",
   "execution_count": 6,
   "metadata": {},
   "outputs": [
    {
     "name": "stdout",
     "output_type": "stream",
     "text": [
      "['JFK', 'ATL', 'JFK', 'SFO', 'ATL', 'SFO']\n"
     ]
    }
   ],
   "source": [
    "def findItinerary(tickets):\n",
    "    def dfs(s, adj):\n",
    "        # if depart city has flight and the flight can go to another city\n",
    "        while s in adj and len(adj[s]) > 0:\n",
    "            # 找到s能到哪里，选能到的第一个机场\n",
    "            v = adj[s][0]  # we go to the 1 choice of the city\n",
    "            # 在之后的可选项机场中去掉这个机场\n",
    "            adj[s].pop(0)  # get rid of this choice since we used it\n",
    "            # 从当前的新出发点开始\n",
    "            dfs(v, adj)  # we start from the new airport\n",
    "\n",
    "        result.append(s)  # after append, it will back track to last node, thus the result list is in reversed order\n",
    "\n",
    "    adj = {}\n",
    "\n",
    "    # sort by the destination alphabetically\n",
    "    # 根据航班每一站的重点字母顺序排序\n",
    "    tickets.sort(key=lambda x:x[1])\n",
    "\n",
    "    # get all possible connection for each destination\n",
    "    # 罗列每一站的下一个可选项\n",
    "    for u,v in tickets:\n",
    "        if u in adj: \n",
    "            adj[u].append(v)\n",
    "        else:\n",
    "            adj[u] = [v]\n",
    "\n",
    "    # 从JFK出发\n",
    "    result = []\n",
    "    dfs(\"JFK\", adj)  # start with JFK\n",
    "\n",
    "    return result[::-1]  # reverse to get the result\n",
    "\n",
    "tickets = [[\"JFK\",\"SFO\"],[\"JFK\",\"ATL\"],[\"SFO\",\"ATL\"],[\"ATL\",\"JFK\"],[\"ATL\",\"SFO\"]]\n",
    "print(findItinerary(tickets))"
   ]
  },
  {
   "cell_type": "markdown",
   "metadata": {},
   "source": [
    "回溯 使用字典 逆序"
   ]
  },
  {
   "cell_type": "code",
   "execution_count": 4,
   "metadata": {},
   "outputs": [
    {
     "name": "stdout",
     "output_type": "stream",
     "text": [
      "['JFK', 'ATL', 'JFK', 'SFO', 'ATL', 'SFO']\n"
     ]
    }
   ],
   "source": [
    "from collections import defaultdict\n",
    "def findItinerary(tickets):\n",
    "    def backtracking(airport, targets, result):\n",
    "        while targets[airport]:  # 当机场还有可到达的机场时\n",
    "            next_airport = targets[airport].pop()  # 弹出下一个机场\n",
    "            backtracking(next_airport, targets, result)  # 递归调用回溯函数进行深度优先搜索\n",
    "        result.append(airport)  # 将当前机场添加到行程路径中\n",
    "    \n",
    "    targets = defaultdict(list)  # 创建默认字典，用于存储机场映射关系\n",
    "    for ticket in tickets:\n",
    "        targets[ticket[0]].append(ticket[1])  # 将机票输入到字典中\n",
    "    \n",
    "    for key in targets:\n",
    "        targets[key].sort(reverse=True)  # 对到达机场列表进行字母逆序排序\n",
    "    \n",
    "    result = []\n",
    "    backtracking(\"JFK\", targets, result)  # 调用回溯函数开始搜索路径\n",
    "    return result[::-1]  # 返回逆序的行程路径\n",
    "\n",
    "tickets = [[\"JFK\",\"SFO\"],[\"JFK\",\"ATL\"],[\"SFO\",\"ATL\"],[\"ATL\",\"JFK\"],[\"ATL\",\"SFO\"]]\n",
    "print(findItinerary(tickets))"
   ]
  },
  {
   "cell_type": "markdown",
   "metadata": {},
   "source": [
    "## Time Limit Exceeded"
   ]
  },
  {
   "cell_type": "code",
   "execution_count": 16,
   "metadata": {},
   "outputs": [
    {
     "name": "stdout",
     "output_type": "stream",
     "text": [
      "{'JFK': ['ATL', 'SFO'], 'SFO': ['ATL'], 'ATL': ['JFK', 'SFO']}\n",
      "['JFK', 'ATL', 'JFK', 'SFO', 'ATL', 'SFO']\n"
     ]
    }
   ],
   "source": [
    "def findItinerary(tickets):\n",
    "    adj = {src: [] for src, dst in tickets}\n",
    "    tickets.sort()\n",
    "\n",
    "    for src, dst in tickets:\n",
    "        adj[src].append(dst)\n",
    "    print(adj)\n",
    "    res = [\"JFK\"]\n",
    "    def dfs(src):\n",
    "        if len(res) == len(tickets)+1: return True\n",
    "        if src not in adj: return False\n",
    "\n",
    "        temp = list(adj[src])\n",
    "        for i, v in enumerate(temp):\n",
    "            adj[src].pop(i)\n",
    "            res.append(v)\n",
    "            if dfs(v): return True\n",
    "            adj[src].insert(i,v)\n",
    "            res.pop()\n",
    "        return False\n",
    "\n",
    "    dfs(\"JFK\")\n",
    "    return res\n",
    "\n",
    "tickets = [[\"JFK\",\"SFO\"],[\"JFK\",\"ATL\"],[\"SFO\",\"ATL\"],[\"ATL\",\"JFK\"],[\"ATL\",\"SFO\"]]\n",
    "#tickets = [[\"JFK\",\"C\"],[\"C\",\"JFK\"],[\"JFK\",\"B\"]]\n",
    "res = findItinerary(tickets)\n",
    "print(res)"
   ]
  }
 ],
 "metadata": {
  "kernelspec": {
   "display_name": "leetcode_env",
   "language": "python",
   "name": "python3"
  },
  "language_info": {
   "codemirror_mode": {
    "name": "ipython",
    "version": 3
   },
   "file_extension": ".py",
   "mimetype": "text/x-python",
   "name": "python",
   "nbconvert_exporter": "python",
   "pygments_lexer": "ipython3",
   "version": "3.8.6"
  },
  "orig_nbformat": 4
 },
 "nbformat": 4,
 "nbformat_minor": 2
}
