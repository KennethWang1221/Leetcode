{
 "cells": [
  {
   "attachments": {},
   "cell_type": "markdown",
   "metadata": {},
   "source": [
    "## Method1 - DFS\n",
    "https://www.youtube.com/watch?v=ZyB_gQ8vqGA&list=PLot-Xpze53ldBT_7QA8NVot219jFNr_GI&index=24"
   ]
  },
  {
   "cell_type": "code",
   "execution_count": 16,
   "metadata": {},
   "outputs": [
    {
     "name": "stdout",
     "output_type": "stream",
     "text": [
      "{'JFK': ['ATL', 'SFO'], 'SFO': ['ATL'], 'ATL': ['JFK', 'SFO']}\n",
      "['JFK', 'ATL', 'JFK', 'SFO', 'ATL', 'SFO']\n"
     ]
    }
   ],
   "source": [
    "def findItinerary(tickets):\n",
    "    adj = {src: [] for src, dst in tickets}\n",
    "    tickets.sort()\n",
    "\n",
    "    for src, dst in tickets:\n",
    "        adj[src].append(dst)\n",
    "    print(adj)\n",
    "    res = [\"JFK\"]\n",
    "    def dfs(src):\n",
    "        if len(res) == len(tickets)+1: return True\n",
    "        if src not in adj: return False\n",
    "\n",
    "        temp = list(adj[src])\n",
    "        for i, v in enumerate(temp):\n",
    "            adj[src].pop(i)\n",
    "            res.append(v)\n",
    "            if dfs(v): return True\n",
    "            adj[src].insert(i,v)\n",
    "            res.pop()\n",
    "        return False\n",
    "\n",
    "    dfs(\"JFK\")\n",
    "    return res\n",
    "\n",
    "tickets = [[\"JFK\",\"SFO\"],[\"JFK\",\"ATL\"],[\"SFO\",\"ATL\"],[\"ATL\",\"JFK\"],[\"ATL\",\"SFO\"]]\n",
    "#tickets = [[\"JFK\",\"C\"],[\"C\",\"JFK\"],[\"JFK\",\"B\"]]\n",
    "res = findItinerary(tickets)\n",
    "print(res)"
   ]
  },
  {
   "attachments": {},
   "cell_type": "markdown",
   "metadata": {},
   "source": [
    "## Modify slightly"
   ]
  },
  {
   "cell_type": "code",
   "execution_count": 17,
   "metadata": {},
   "outputs": [
    {
     "name": "stdout",
     "output_type": "stream",
     "text": [
      "{'JFK': ['ATL', 'SFO'], 'SFO': ['ATL'], 'ATL': ['JFK', 'SFO']}\n",
      "['JFK', 'ATL', 'JFK', 'SFO', 'ATL', 'SFO']\n"
     ]
    }
   ],
   "source": [
    "def findItinerary(tickets):\n",
    "    adj = {src: [] for src, dst in tickets}\n",
    "    tickets.sort()\n",
    "\n",
    "    for src, dst in tickets:\n",
    "        adj[src].append(dst)\n",
    "    print(adj)\n",
    "    res = [\"JFK\"]\n",
    "    def dfs(src):\n",
    "        if len(res) == len(tickets)+1: return True\n",
    "        if src not in adj: return False\n",
    "\n",
    "        temp = adj[src]\n",
    "        for i, v in enumerate(temp):\n",
    "            adj[src].pop(i)\n",
    "            res.append(v)\n",
    "            if dfs(v): return True\n",
    "            adj[src].insert(i,v)\n",
    "            res.pop()\n",
    "        \n",
    "\n",
    "    dfs(\"JFK\")\n",
    "    return res\n",
    "\n",
    "tickets = [[\"JFK\",\"SFO\"],[\"JFK\",\"ATL\"],[\"SFO\",\"ATL\"],[\"ATL\",\"JFK\"],[\"ATL\",\"SFO\"]]\n",
    "res = findItinerary(tickets)\n",
    "print(res)"
   ]
  },
  {
   "cell_type": "code",
   "execution_count": 18,
   "metadata": {},
   "outputs": [
    {
     "name": "stdout",
     "output_type": "stream",
     "text": [
      "['ATL', 'SFO']\n"
     ]
    }
   ],
   "source": [
    "a = {'JFK': ['ATL', 'SFO'], 'SFO': ['ATL'], 'ATL': ['JFK', 'SFO']}\n",
    "b = (a['JFK'])\n",
    "print(b)"
   ]
  }
 ],
 "metadata": {
  "kernelspec": {
   "display_name": "leetcode_env",
   "language": "python",
   "name": "leetcode_env"
  },
  "language_info": {
   "codemirror_mode": {
    "name": "ipython",
    "version": 3
   },
   "file_extension": ".py",
   "mimetype": "text/x-python",
   "name": "python",
   "nbconvert_exporter": "python",
   "pygments_lexer": "ipython3",
   "version": "3.8.6"
  },
  "orig_nbformat": 4
 },
 "nbformat": 4,
 "nbformat_minor": 2
}
