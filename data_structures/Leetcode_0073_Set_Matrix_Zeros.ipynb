{
 "cells": [
  {
   "cell_type": "markdown",
   "metadata": {},
   "source": [
    "## Method1\n",
    "https://www.youtube.com/watch?v=T41rL0L3Pnw"
   ]
  },
  {
   "cell_type": "code",
   "execution_count": 9,
   "metadata": {},
   "outputs": [
    {
     "name": "stdout",
     "output_type": "stream",
     "text": [
      "[[1, 0, 1], [0, 0, 0], [1, 0, 1]]\n",
      "None\n"
     ]
    }
   ],
   "source": [
    "def setZeroes(matrix):\n",
    "    # O(1)\n",
    "    ROWS, COLS = len(matrix), len(matrix[0])\n",
    "    rowZero = False\n",
    "\n",
    "    # determine which rows/cols need to be zero\n",
    "    for r in range(ROWS):\n",
    "        for c in range(COLS):\n",
    "            if matrix[r][c] == 0:\n",
    "                matrix[0][c] = 0\n",
    "                if r > 0:\n",
    "                    matrix[r][0] = 0\n",
    "                else:\n",
    "                    rowZero = True\n",
    "\n",
    "    for r in range(1, ROWS):\n",
    "        for c in range(1, COLS):\n",
    "            if matrix[0][c] == 0 or matrix[r][0] == 0:\n",
    "                matrix[r][c] = 0\n",
    "\n",
    "    if matrix[0][0] == 0:\n",
    "        for r in range(ROWS):\n",
    "            matrix[r][0] = 0\n",
    "\n",
    "    if rowZero:\n",
    "        for c in range(COLS):\n",
    "            matrix[0][c] = 0    \n",
    "    \n",
    "    print(matrix)\n",
    "matrix = [[1,1,1],[1,0,1],[1,1,1]]\n",
    "res = setZeroes(matrix)\n",
    "print(res)"
   ]
  }
 ],
 "metadata": {
  "kernelspec": {
   "display_name": "leetcode_env",
   "language": "python",
   "name": "leetcode_env"
  },
  "language_info": {
   "codemirror_mode": {
    "name": "ipython",
    "version": 3
   },
   "file_extension": ".py",
   "mimetype": "text/x-python",
   "name": "python",
   "nbconvert_exporter": "python",
   "pygments_lexer": "ipython3",
   "version": "3.8.6"
  },
  "orig_nbformat": 4
 },
 "nbformat": 4,
 "nbformat_minor": 2
}
