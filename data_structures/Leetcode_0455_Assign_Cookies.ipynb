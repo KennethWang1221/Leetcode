{
 "cells": [
  {
   "cell_type": "markdown",
   "metadata": {},
   "source": [
    "## Method1 - Greedy\n",
    "https://www.youtube.com/watch?v=JW8fgvoxPTg"
   ]
  },
  {
   "cell_type": "code",
   "execution_count": 23,
   "metadata": {},
   "outputs": [
    {
     "name": "stdout",
     "output_type": "stream",
     "text": [
      "1\n"
     ]
    }
   ],
   "source": [
    "def findContentChildren(g,s):\n",
    "    g.sort()\n",
    "    s.sort()\n",
    "\n",
    "    i = j = 0\n",
    "    g_n = len(g)\n",
    "    s_n = len(s)\n",
    "    while i < g_n:\n",
    "        while j < s_n and g[i] > s[j]:\n",
    "            j += 1\n",
    "        if j == s_n:\n",
    "            break\n",
    "\n",
    "        i += 1\n",
    "        j += 1\n",
    "    \n",
    "    return i \n",
    "\n",
    "print(findContentChildren(g=[1,2,3],s=[1,1]))"
   ]
  },
  {
   "cell_type": "markdown",
   "metadata": {},
   "source": [
    "## Method2 - Greedy\n",
    "https://github.com/youngyangyang04/leetcode-master/blob/master/problems/0455.%E5%88%86%E5%8F%91%E9%A5%BC%E5%B9%B2.md"
   ]
  },
  {
   "cell_type": "markdown",
   "metadata": {},
   "source": [
    "贪心 大饼干优先"
   ]
  },
  {
   "cell_type": "code",
   "execution_count": 12,
   "metadata": {},
   "outputs": [
    {
     "name": "stdout",
     "output_type": "stream",
     "text": [
      "1\n"
     ]
    }
   ],
   "source": [
    "def findContentChildren(g,s):\n",
    "    g.sort()  # 将孩子的贪心因子排序\n",
    "    s.sort()  # 将饼干的尺寸排序\n",
    "    s_n = len(s)\n",
    "    if s_n <= 0: return 0\n",
    "    g_n = len(g)\n",
    "    index = s_n - 1  # 饼干数组的下标，从最后一个饼干开始\n",
    "    result = 0  # 满足孩子的数量\n",
    "    for i in range(g_n-1, -1, -1):  # 遍历胃口，从最后一个孩子开始\n",
    "        if index >= 0 and s[index] >= g[i]:  # 遍历饼干\n",
    "            result += 1\n",
    "            index -= 1\n",
    "    return result\n",
    "\n",
    "print(findContentChildren(g=[1,2,3],s=[3]))"
   ]
  },
  {
   "cell_type": "markdown",
   "metadata": {},
   "source": [
    "贪心 小饼干优先"
   ]
  },
  {
   "cell_type": "code",
   "execution_count": 20,
   "metadata": {},
   "outputs": [
    {
     "name": "stdout",
     "output_type": "stream",
     "text": [
      "2\n"
     ]
    }
   ],
   "source": [
    "def findContentChildren(g,s):\n",
    "    g.sort()  # 将孩子的贪心因子排序\n",
    "    s.sort()  # 将饼干的尺寸排序\n",
    "    index = 0\n",
    "    g_n = len(g)\n",
    "    s_n = len(s)\n",
    "    for i in range(s_n):  # 遍历饼干\n",
    "        if index < g_n and g[index] <= s[i]:  # 如果当前孩子的贪心因子小于等于当前饼干尺寸\n",
    "            index += 1  # 满足一个孩子，指向下一个孩子\n",
    "    return index  # 返回满足的孩子数目\n",
    "\n",
    "print(findContentChildren(g=[1,2],s=[1,2,3]))"
   ]
  }
 ],
 "metadata": {
  "kernelspec": {
   "display_name": "test_env",
   "language": "python",
   "name": "python3"
  },
  "language_info": {
   "codemirror_mode": {
    "name": "ipython",
    "version": 3
   },
   "file_extension": ".py",
   "mimetype": "text/x-python",
   "name": "python",
   "nbconvert_exporter": "python",
   "pygments_lexer": "ipython3",
   "version": "3.8.6"
  }
 },
 "nbformat": 4,
 "nbformat_minor": 2
}
