{
 "cells": [
  {
   "cell_type": "markdown",
   "metadata": {},
   "source": [
    "## Method1 - Binary Search\n",
    "\n",
    "https://www.youtube.com/watch?v=K-RYzDZkzCI"
   ]
  },
  {
   "cell_type": "code",
   "execution_count": 17,
   "metadata": {},
   "outputs": [
    {
     "name": "stdout",
     "output_type": "stream",
     "text": [
      "2\n"
     ]
    }
   ],
   "source": [
    "def searchInsert(nums, target):\n",
    "    n = len(nums)\n",
    "    start = 0\n",
    "    end = n - 1\n",
    "\n",
    "    while start <= end:\n",
    "        middle = (start+end)//2\n",
    "        if nums[middle] < target:\n",
    "            start = middle + 1\n",
    "        elif nums[middle] > target:\n",
    "            end = middle - 1\n",
    "        else:\n",
    "            return middle\n",
    "    \n",
    "    return start\n",
    "\n",
    "nums = [1,3,5,6]\n",
    "target = 5\n",
    "res = searchInsert(nums, target)\n",
    "print(res)\n"
   ]
  },
  {
   "cell_type": "markdown",
   "metadata": {},
   "source": [
    "## Method2 - Binary Search"
   ]
  },
  {
   "cell_type": "code",
   "execution_count": null,
   "metadata": {},
   "outputs": [],
   "source": [
    "def searchInsert(nums, target):\n",
    "    n = len(nums)\n",
    "    start = 0\n",
    "    end = n \n",
    "\n",
    "    while start < end:\n",
    "        middle = start + (end - start)//2\n",
    "        if nums[middle] < target:\n",
    "            start = middle + 1\n",
    "        else:\n",
    "            end = middle\n",
    "    \n",
    "    return start\n",
    "\n",
    "nums = [1,3,5,6]\n",
    "target = 2\n",
    "res = searchInsert(nums, target)\n",
    "print(res)\n"
   ]
  }
 ],
 "metadata": {
  "kernelspec": {
   "display_name": "leetcode_env",
   "language": "python",
   "name": "leetcode_env"
  },
  "language_info": {
   "codemirror_mode": {
    "name": "ipython",
    "version": 3
   },
   "file_extension": ".py",
   "mimetype": "text/x-python",
   "name": "python",
   "nbconvert_exporter": "python",
   "pygments_lexer": "ipython3",
   "version": "3.8.6"
  }
 },
 "nbformat": 4,
 "nbformat_minor": 2
}
