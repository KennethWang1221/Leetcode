{
 "cells": [
  {
   "attachments": {},
   "cell_type": "markdown",
   "metadata": {},
   "source": [
    "## Method1 - DIY - Hash"
   ]
  },
  {
   "cell_type": "code",
   "execution_count": 27,
   "metadata": {},
   "outputs": [
    {
     "name": "stdout",
     "output_type": "stream",
     "text": [
      "key2value: {2: 4, 1: 3}\n",
      "value2key: {4: 2, 3: 1}\n",
      "2\n"
     ]
    }
   ],
   "source": [
    "def majorityElement(nums):\n",
    "    n = len(nums)\n",
    "    k2v = {}\n",
    "    maxval = 0\n",
    "\n",
    "    for i in nums:\n",
    "        k2v[i] = k2v.get(i,0) + 1\n",
    "    \n",
    "    v2k = {v:k for k, v in k2v.items()}\n",
    "    \n",
    "    for key, value in k2v.items():\n",
    "        maxval = max(maxval, value)\n",
    "\n",
    "    print((\"key2value: {}\\nvalue2key: {}\").format(k2v, v2k))    \n",
    "    return v2k[maxval]\n",
    "nums = [2,2,1,1,1,2,2]\n",
    "res = majorityElement(nums)\n",
    "print(res)"
   ]
  },
  {
   "attachments": {},
   "cell_type": "markdown",
   "metadata": {},
   "source": [
    "## Method2 - HashMap \n",
    "https://www.google.com/search?q=majority+element&oq=Majority+Element&aqs=chrome.0.0i512l5j69i60l3.273j0j4&sourceid=chrome&ie=UTF-8#fpstate=ive&vld=cid:c2f87b1f,vid:7pnhv842keE"
   ]
  },
  {
   "cell_type": "code",
   "execution_count": 31,
   "metadata": {},
   "outputs": [
    {
     "name": "stdout",
     "output_type": "stream",
     "text": [
      "2\n"
     ]
    }
   ],
   "source": [
    "def majorityElement(nums):\n",
    "    count = {}\n",
    "    res, maxCount = 0, 0\n",
    "\n",
    "    for n in nums:\n",
    "        count[n] = 1 + count.get(n,0)\n",
    "        res = n if count[n] > maxCount else res\n",
    "        maxCount = max(count[n], maxCount)\n",
    "\n",
    "    return res\n",
    "nums = [2,2,1,1,1,2,2]\n",
    "res = majorityElement(nums)\n",
    "print(res)"
   ]
  },
  {
   "attachments": {},
   "cell_type": "markdown",
   "metadata": {},
   "source": [
    "## Method3 - Boyer-Moore Algorithm （string-searching algorithm）\n",
    "https://www.google.com/search?q=majority+element&oq=Majority+Element&aqs=chrome.0.0i512l5j69i60l3.273j0j4&sourceid=chrome&ie=UTF-8#fpstate=ive&vld=cid:c2f87b1f,vid:7pnhv842keE"
   ]
  },
  {
   "cell_type": "code",
   "execution_count": null,
   "metadata": {},
   "outputs": [],
   "source": [
    "def majorityElement(nums):\n",
    "    res, count = 0, 0\n",
    "\n",
    "    for n in nums:\n",
    "        if count == 0:\n",
    "            res = n \n",
    "        if n == res:\n",
    "            count +=1\n",
    "        else:\n",
    "            count += -1\n",
    "\n",
    "    return res\n",
    "nums = [2,2,1,1,1,2,2]\n",
    "res = majorityElement(nums)\n",
    "print(res)"
   ]
  },
  {
   "attachments": {},
   "cell_type": "markdown",
   "metadata": {},
   "source": [
    "## Recap Dict"
   ]
  },
  {
   "cell_type": "code",
   "execution_count": 10,
   "metadata": {},
   "outputs": [
    {
     "name": "stdout",
     "output_type": "stream",
     "text": [
      "a 1\n",
      "b 2\n",
      "c 3\n",
      "{'a': 1, 'b': 2, 'c': 3}\n",
      "{'c': 3, 'a': 1, 'b': 2}\n"
     ]
    }
   ],
   "source": [
    "a = {'a':1,'b':2,'c':3}\n",
    "for key, value in a.items():\n",
    "    print(key,value)\n",
    "\n",
    "new_dict = { k : v for k, v in a.items()}\n",
    "print(new_dict)\n",
    "newdict = {}\n",
    "for k, v in a.items():\n",
    "    newdict[k]  = v\n",
    "print(newdict)"
   ]
  },
  {
   "cell_type": "code",
   "execution_count": 11,
   "metadata": {},
   "outputs": [
    {
     "name": "stdout",
     "output_type": "stream",
     "text": [
      "{1: 'a', 2: 'b', 3: 'c'}\n"
     ]
    }
   ],
   "source": [
    "new_dict = { v : k for k, v in a.items()}\n",
    "print(new_dict)"
   ]
  }
 ],
 "metadata": {
  "kernelspec": {
   "display_name": "leetcode_env",
   "language": "python",
   "name": "leetcode_env"
  },
  "language_info": {
   "codemirror_mode": {
    "name": "ipython",
    "version": 3
   },
   "file_extension": ".py",
   "mimetype": "text/x-python",
   "name": "python",
   "nbconvert_exporter": "python",
   "pygments_lexer": "ipython3",
   "version": "3.8.6"
  },
  "orig_nbformat": 4
 },
 "nbformat": 4,
 "nbformat_minor": 2
}
