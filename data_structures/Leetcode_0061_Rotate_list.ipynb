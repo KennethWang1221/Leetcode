{
 "cells": [
  {
   "cell_type": "markdown",
   "metadata": {},
   "source": [
    "## Method1 - Simply method\n",
    "https://www.bilibili.com/video/BV1Fi4y187pj"
   ]
  },
  {
   "cell_type": "code",
   "execution_count": 22,
   "metadata": {},
   "outputs": [
    {
     "name": "stdout",
     "output_type": "stream",
     "text": [
      "0,1,2,\n",
      "2,0,1,"
     ]
    }
   ],
   "source": [
    "class ListNode:\n",
    "    def __init__(self, x):\n",
    "        self.val = x\n",
    "        self.next = None\n",
    "\n",
    "\n",
    "def make_list(arr):\n",
    "    head_node = None\n",
    "    p_node = None\n",
    "    for a in arr:\n",
    "        new_node = ListNode(a)\n",
    "        if head_node is None:\n",
    "            head_node = new_node\n",
    "            p_node = new_node\n",
    "        else:\n",
    "            p_node.next = new_node\n",
    "            p_node = new_node\n",
    "    return head_node\n",
    "\n",
    "\n",
    "def print_list(head):\n",
    "    while head is not None:\n",
    "        print(head.val, end=',')\n",
    "        head = head.next\n",
    "        \n",
    "class Solution:\n",
    "    \"\"\"\n",
    "    1. Just use cur and cur.next to let code to go head\n",
    "    2. Not big different from Method1, just write here to understanding\n",
    "    \"\"\"\n",
    "    def Roate_list(self, head,k):\n",
    "        if head is None and head.next is None:\n",
    "            return head\n",
    "        dummy = ListNode(0)\n",
    "        dummy.next = head\n",
    "        cur = dummy.next\n",
    "        # 链表长度n\n",
    "        len = 1\n",
    "        \n",
    "        # cur到最后一个节点\n",
    "        while cur.next !=None:\n",
    "            len+=1\n",
    "            cur = cur.next\n",
    "        \n",
    "        # 最后一个节点与第一个节点连接\n",
    "        cur.next = head\n",
    "        \n",
    "        # 继续走n - k % n个位置，就是满足要求串，的头结点的前一个点\n",
    "        m = len - k %len\n",
    "        \n",
    "        \n",
    "        for i in range(m):\n",
    "            cur = cur.next\n",
    "        \n",
    "        # 新的\n",
    "        newhead = cur.next\n",
    "\n",
    "        # 断开\n",
    "        cur.next = None\n",
    "        return newhead\n",
    "\n",
    "s = Solution()\n",
    "a = [0,1,2]\n",
    "head = make_list(a)\n",
    "print_list(head)\n",
    "k = 4\n",
    "head = s.Roate_list(head,k)\n",
    "print()\n",
    "print_list(head)"
   ]
  },
  {
   "cell_type": "markdown",
   "metadata": {},
   "source": [
    "## Method2 - fast/slow pointers\n",
    "https://algo.monster/liteproblems/61"
   ]
  },
  {
   "cell_type": "code",
   "execution_count": 28,
   "metadata": {},
   "outputs": [
    {
     "name": "stdout",
     "output_type": "stream",
     "text": [
      "\n",
      "4,5,1,2,3,"
     ]
    }
   ],
   "source": [
    "class ListNode:\n",
    "    def __init__(self, x):\n",
    "        self.val = x\n",
    "        self.next = None\n",
    "\n",
    "\n",
    "def make_list(arr):\n",
    "    head_node = None\n",
    "    p_node = None\n",
    "    for a in arr:\n",
    "        new_node = ListNode(a)\n",
    "        if head_node is None:\n",
    "            head_node = new_node\n",
    "            p_node = new_node\n",
    "        else:\n",
    "            p_node.next = new_node\n",
    "            p_node = new_node\n",
    "    return head_node\n",
    "\n",
    "\n",
    "def print_list(head):\n",
    "    while head is not None:\n",
    "        print(head.val, end=',')\n",
    "        head = head.next\n",
    "\n",
    "# https://www.bilibili.com/video/BV1Fi4y187pj\n",
    "class Solution:\n",
    "    \"\"\"\n",
    "    1. Just use cur and cur.next to let code to go head\n",
    "    2. Not big different from Method1, just write here to understanding\n",
    "    \"\"\"\n",
    "    def Roate_list(self, head,k):\n",
    "        if head == None or head.next == None: return head\n",
    "        dummy = ListNode(0)\n",
    "        dummy.next = head\n",
    "\n",
    "        pre = dummy\n",
    "        length = 0\n",
    "\n",
    "        while pre.next!=None:\n",
    "            length +=1\n",
    "            pre = pre.next\n",
    "            \n",
    "        k = k % length\n",
    "        fast = slow = head\n",
    "    \n",
    "        # Move the fast pointer k steps ahead\n",
    "        for _ in range(k):\n",
    "            fast = fast.next\n",
    "\n",
    "        while fast.next!=None:\n",
    "            slow = slow.next\n",
    "            fast = fast.next\n",
    "\n",
    "        new_head = slow.next\n",
    "        fast.next = head\n",
    "        slow.next = None\n",
    "\n",
    "\n",
    "        return new_head\n",
    "\n",
    "s = Solution()\n",
    "#a = [0,1,2]\n",
    "#head = make_list(a)\n",
    "#print_list(head)\n",
    "#k = 4\n",
    "head = [1,2,3,4,5]\n",
    "head = make_list(head)\n",
    "k = 2\n",
    "head = s.Roate_list(head,k)\n",
    "print()\n",
    "print_list(head)"
   ]
  },
  {
   "cell_type": "markdown",
   "metadata": {},
   "source": [
    "wrong version"
   ]
  },
  {
   "cell_type": "code",
   "execution_count": 21,
   "metadata": {},
   "outputs": [
    {
     "name": "stdout",
     "output_type": "stream",
     "text": [
      "1,2,3,4,5,\n",
      "4,5,1,2,3,"
     ]
    }
   ],
   "source": [
    "class ListNode:\n",
    "    def __init__(self, x):\n",
    "        self.val = x\n",
    "        self.next = None\n",
    "\n",
    "\n",
    "def make_list(arr):\n",
    "    head_node = None\n",
    "    p_node = None\n",
    "    for a in arr:\n",
    "        new_node = ListNode(a)\n",
    "        if head_node is None:\n",
    "            head_node = new_node\n",
    "            p_node = new_node\n",
    "        else:\n",
    "            p_node.next = new_node\n",
    "            p_node = new_node\n",
    "    return head_node\n",
    "\n",
    "\n",
    "def print_list(head):\n",
    "    while head is not None:\n",
    "        print(head.val, end=',')\n",
    "        head = head.next\n",
    "\n",
    "# https://www.bilibili.com/video/BV1Fi4y187pj\n",
    "class Solution:\n",
    "    \"\"\"\n",
    "    1. Just use cur and cur.next to let code to go head\n",
    "    2. Not big different from Method1, just write here to understanding\n",
    "    \"\"\"\n",
    "    def Roate_list(self, head,k):\n",
    "        if head == None or head.next == None:\n",
    "            return head\n",
    "        \n",
    "        dummy = ListNode(0)\n",
    "        dummy.next = head\n",
    "        pre = dummy.next\n",
    "        fast = pre\n",
    "        slow = pre\n",
    "\n",
    "        len = 1\n",
    "        while fast !=None:\n",
    "            len+=1\n",
    "            fast = fast.next\n",
    "        \n",
    "        fast = pre\n",
    "\n",
    "        k = k%len\n",
    "        if k==0:\n",
    "            return head\n",
    "\n",
    "        for i in range(k):\n",
    "            fast = fast.next\n",
    "\n",
    "        while fast.next !=None:\n",
    "            fast = fast.next\n",
    "            slow = slow.next\n",
    "        pre = slow.next\n",
    "        fast.next = head\n",
    "        slow.next = None\n",
    "\n",
    "        return pre\n",
    "\n",
    "s = Solution()\n",
    "a = [1,2,3,4,5]\n",
    "head = make_list(a)\n",
    "print_list(head)\n",
    "k = 2\n",
    "head = s.Roate_list(head,k)\n",
    "print()\n",
    "print_list(head)"
   ]
  },
  {
   "cell_type": "code",
   "execution_count": 13,
   "metadata": {},
   "outputs": [
    {
     "name": "stdout",
     "output_type": "stream",
     "text": [
      "1\n",
      "0\n"
     ]
    }
   ],
   "source": [
    "a = [1,2,3]\n",
    "length = 3\n",
    "k = 4\n",
    "\n",
    "m = k%length\n",
    "print(m)\n",
    "m = length//k\n",
    "print(m)"
   ]
  },
  {
   "cell_type": "markdown",
   "metadata": {},
   "source": [
    "wrong version 2"
   ]
  },
  {
   "cell_type": "code",
   "execution_count": 16,
   "metadata": {},
   "outputs": [
    {
     "name": "stdout",
     "output_type": "stream",
     "text": [
      "0,1,2,"
     ]
    },
    {
     "ename": "AttributeError",
     "evalue": "'NoneType' object has no attribute 'next'",
     "output_type": "error",
     "traceback": [
      "\u001b[0;31m---------------------------------------------------------------------------\u001b[0m",
      "\u001b[0;31mAttributeError\u001b[0m                            Traceback (most recent call last)",
      "\u001b[0;32m/var/folders/_0/t_q_3ydn61v2hbgddcm8pdz00000gn/T/ipykernel_74822/980445129.py\u001b[0m in \u001b[0;36m<module>\u001b[0;34m\u001b[0m\n\u001b[1;32m     65\u001b[0m \u001b[0mprint_list\u001b[0m\u001b[0;34m(\u001b[0m\u001b[0mhead\u001b[0m\u001b[0;34m)\u001b[0m\u001b[0;34m\u001b[0m\u001b[0;34m\u001b[0m\u001b[0m\n\u001b[1;32m     66\u001b[0m \u001b[0mk\u001b[0m \u001b[0;34m=\u001b[0m \u001b[0;36m4\u001b[0m\u001b[0;34m\u001b[0m\u001b[0;34m\u001b[0m\u001b[0m\n\u001b[0;32m---> 67\u001b[0;31m \u001b[0mhead\u001b[0m \u001b[0;34m=\u001b[0m \u001b[0ms\u001b[0m\u001b[0;34m.\u001b[0m\u001b[0mRoate_list\u001b[0m\u001b[0;34m(\u001b[0m\u001b[0mhead\u001b[0m\u001b[0;34m,\u001b[0m\u001b[0mk\u001b[0m\u001b[0;34m)\u001b[0m\u001b[0;34m\u001b[0m\u001b[0;34m\u001b[0m\u001b[0m\n\u001b[0m\u001b[1;32m     68\u001b[0m \u001b[0mprint\u001b[0m\u001b[0;34m(\u001b[0m\u001b[0;34m)\u001b[0m\u001b[0;34m\u001b[0m\u001b[0;34m\u001b[0m\u001b[0m\n\u001b[1;32m     69\u001b[0m \u001b[0mprint_list\u001b[0m\u001b[0;34m(\u001b[0m\u001b[0mhead\u001b[0m\u001b[0;34m)\u001b[0m\u001b[0;34m\u001b[0m\u001b[0;34m\u001b[0m\u001b[0m\n",
      "\u001b[0;32m/var/folders/_0/t_q_3ydn61v2hbgddcm8pdz00000gn/T/ipykernel_74822/980445129.py\u001b[0m in \u001b[0;36mRoate_list\u001b[0;34m(self, head, k)\u001b[0m\n\u001b[1;32m     55\u001b[0m \u001b[0;34m\u001b[0m\u001b[0m\n\u001b[1;32m     56\u001b[0m         \u001b[0mtail\u001b[0m\u001b[0;34m.\u001b[0m\u001b[0mnext\u001b[0m \u001b[0;34m=\u001b[0m \u001b[0;32mNone\u001b[0m\u001b[0;34m\u001b[0m\u001b[0;34m\u001b[0m\u001b[0m\n\u001b[0;32m---> 57\u001b[0;31m         \u001b[0mfuture\u001b[0m\u001b[0;34m.\u001b[0m\u001b[0mnext\u001b[0m \u001b[0;34m=\u001b[0m \u001b[0mhead\u001b[0m\u001b[0;34m\u001b[0m\u001b[0;34m\u001b[0m\u001b[0m\n\u001b[0m\u001b[1;32m     58\u001b[0m \u001b[0;34m\u001b[0m\u001b[0m\n\u001b[1;32m     59\u001b[0m         \u001b[0;32mreturn\u001b[0m \u001b[0mcur\u001b[0m\u001b[0;34m\u001b[0m\u001b[0;34m\u001b[0m\u001b[0m\n",
      "\u001b[0;31mAttributeError\u001b[0m: 'NoneType' object has no attribute 'next'"
     ]
    }
   ],
   "source": [
    "class ListNode:\n",
    "    def __init__(self, x):\n",
    "        self.val = x\n",
    "        self.next = None\n",
    "\n",
    "\n",
    "def make_list(arr):\n",
    "    head_node = None\n",
    "    p_node = None\n",
    "    for a in arr:\n",
    "        new_node = ListNode(a)\n",
    "        if head_node is None:\n",
    "            head_node = new_node\n",
    "            p_node = new_node\n",
    "        else:\n",
    "            p_node.next = new_node\n",
    "            p_node = new_node\n",
    "    return head_node\n",
    "\n",
    "\n",
    "def print_list(head):\n",
    "    while head is not None:\n",
    "        print(head.val, end=',')\n",
    "        head = head.next\n",
    "\n",
    "# https://www.bilibili.com/video/BV1Fi4y187pj\n",
    "class Solution:\n",
    "    \"\"\"\n",
    "    1. Just use cur and cur.next to let code to go head\n",
    "    2. Not big different from Method1, just write here to understanding\n",
    "    \"\"\"\n",
    "    def Roate_list(self, head,k):\n",
    "        if head == None and head.next==None:\n",
    "            return head\n",
    "        dummy = ListNode(0)\n",
    "        dummy.next = head\n",
    "        pre = dummy\n",
    "        length = 0\n",
    "\n",
    "        while pre.next !=None:\n",
    "            length +=1\n",
    "            pre = pre.next\n",
    "        pre = dummy\n",
    "        tail = pre\n",
    "        cur = pre.next\n",
    "        future = pre.next.next\n",
    "\n",
    "        m = k%length\n",
    "\n",
    "        for i in range(length-m):\n",
    "            tail = tail.next\n",
    "            cur = cur.next\n",
    "\n",
    "            future = future.next\n",
    "        \n",
    "        tail.next = None\n",
    "        future.next = head\n",
    "\n",
    "        return cur\n",
    "\n",
    "\n",
    "s = Solution()\n",
    "a = [0,1,2]\n",
    "head = make_list(a)\n",
    "print_list(head)\n",
    "k = 4\n",
    "head = s.Roate_list(head,k)\n",
    "print()\n",
    "print_list(head)"
   ]
  },
  {
   "cell_type": "code",
   "execution_count": 26,
   "metadata": {},
   "outputs": [
    {
     "name": "stdout",
     "output_type": "stream",
     "text": [
      "k 2\n",
      "\n",
      "4,5,1,2,3,"
     ]
    }
   ],
   "source": []
  }
 ],
 "metadata": {
  "interpreter": {
   "hash": "846fd2d9bb562a436898b7cc368204fc2f9d44e5e9b051b4f6e855e721078f23"
  },
  "kernelspec": {
   "display_name": "leetcode_env",
   "language": "python",
   "name": "leetcode_env"
  },
  "language_info": {
   "codemirror_mode": {
    "name": "ipython",
    "version": 3
   },
   "file_extension": ".py",
   "mimetype": "text/x-python",
   "name": "python",
   "nbconvert_exporter": "python",
   "pygments_lexer": "ipython3",
   "version": "3.8.6"
  },
  "orig_nbformat": 4
 },
 "nbformat": 4,
 "nbformat_minor": 2
}
