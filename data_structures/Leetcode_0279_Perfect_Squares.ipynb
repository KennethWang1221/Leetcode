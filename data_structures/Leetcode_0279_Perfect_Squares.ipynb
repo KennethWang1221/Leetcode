{
 "cells": [
  {
   "cell_type": "markdown",
   "metadata": {},
   "source": [
    "## Unbounded Knapsack Problem (UKP)"
   ]
  },
  {
   "cell_type": "markdown",
   "metadata": {},
   "source": [
    "## Method1 - 1D Bottom-UP DP\n",
    "https://www.youtube.com/watch?v=HLZLwjzIVGo"
   ]
  },
  {
   "cell_type": "code",
   "execution_count": 2,
   "metadata": {},
   "outputs": [
    {
     "name": "stdout",
     "output_type": "stream",
     "text": [
      "3\n"
     ]
    }
   ],
   "source": [
    "def numSquares(n) -> int:\n",
    "    dp = [n] * (n+1)\n",
    "    dp[0] = 0\n",
    "\n",
    "    for target in range(1, n+1):\n",
    "        for s in range(1, target+1):\n",
    "            square = s * s \n",
    "            remain = target - square\n",
    "            if remain < 0: \n",
    "                break\n",
    "            dp[target] = min(dp[target], 1 + dp[remain])\n",
    "    \n",
    "    return dp[n]\n",
    "n = 12\n",
    "print(numSquares(n))"
   ]
  },
  {
   "cell_type": "markdown",
   "metadata": {},
   "source": [
    "## Method2 - 1D Bottom-UP DP - Recap\n",
    "https://github.com/youngyangyang04/leetcode-master/blob/master/problems/0279.%E5%AE%8C%E5%85%A8%E5%B9%B3%E6%96%B9%E6%95%B0.md"
   ]
  },
  {
   "cell_type": "markdown",
   "metadata": {},
   "source": [
    "先遍历背包, 再遍历物品\n",
    "\n",
    "Same idea to Leetcode_0377_Combination_Sum_IV and Leetcode_0322_Coin_Change and Leetcode_0070_Climbing_Stairs"
   ]
  },
  {
   "cell_type": "code",
   "execution_count": 12,
   "metadata": {},
   "outputs": [
    {
     "name": "stdout",
     "output_type": "stream",
     "text": [
      "3\n"
     ]
    }
   ],
   "source": [
    "def numSquares(n) -> int:\n",
    "    dp = [float('inf')] * (n + 1)\n",
    "    dp[0] = 0\n",
    "\n",
    "    for a in range(1, n + 1):  # 遍历背包\n",
    "        square = int(a ** 0.5)\n",
    "        for j in range(1, square + 1):  # 遍历物品\n",
    "            # 更新凑成数字 i 所需的最少完全平方数数量\n",
    "            remain = a - (j*j)\n",
    "            if remain < 0:\n",
    "                dp[a] = dp[a]\n",
    "            else:\n",
    "                dp[a] = min(dp[a], 1 + dp[remain])\n",
    "    return dp[n]\n",
    "n = 12\n",
    "print(numSquares(n))"
   ]
  },
  {
   "cell_type": "markdown",
   "metadata": {},
   "source": [
    "Same solution as Method2, but time exceeded on leetcode"
   ]
  },
  {
   "cell_type": "code",
   "execution_count": 10,
   "metadata": {},
   "outputs": [
    {
     "name": "stdout",
     "output_type": "stream",
     "text": [
      "3\n"
     ]
    }
   ],
   "source": [
    "def numSquares(n):\n",
    "    nums = []\n",
    "    for i in range(n+1):\n",
    "        nums.append(i)\n",
    "    dp = [float(\"inf\")] * (n+1)\n",
    "    dp[0] = 0\n",
    "\n",
    "    for a in range(1, n+1):\n",
    "        for i in nums:\n",
    "            remain = a - (i*i)\n",
    "            if remain<0:\n",
    "                dp[a] = dp[a]\n",
    "            else:\n",
    "                dp[a] = min(dp[a], 1 + dp[remain])\n",
    "    return dp[n]\n",
    "\n",
    "print(numSquares(n=12))"
   ]
  },
  {
   "cell_type": "markdown",
   "metadata": {},
   "source": [
    "## Method3 - 1D Bottom-UP DP\n",
    "https://github.com/youngyangyang04/leetcode-master/blob/master/problems/0279.%E5%AE%8C%E5%85%A8%E5%B9%B3%E6%96%B9%E6%95%B0.md"
   ]
  },
  {
   "cell_type": "markdown",
   "metadata": {},
   "source": [
    "先遍历物品, 再遍历背包"
   ]
  },
  {
   "cell_type": "code",
   "execution_count": 4,
   "metadata": {},
   "outputs": [
    {
     "name": "stdout",
     "output_type": "stream",
     "text": [
      "3\n"
     ]
    }
   ],
   "source": [
    "def numSquares(n) -> int:\n",
    "    dp = [float('inf')] * (n + 1)\n",
    "    dp[0] = 0\n",
    "\n",
    "    for i in range(1, int(n ** 0.5) + 1):  # 遍历物品\n",
    "        for j in range(i * i, n + 1):  # 遍历背包\n",
    "            # 更新凑成数字 j 所需的最少完全平方数数量\n",
    "            dp[j] = min(dp[j - i * i] + 1, dp[j])\n",
    "\n",
    "    return dp[n]\n",
    "n = 12\n",
    "print(numSquares(n))"
   ]
  },
  {
   "cell_type": "markdown",
   "metadata": {},
   "source": [
    "## Method4 - 1D Bottom-UP DP\n",
    "https://github.com/youngyangyang04/leetcode-master/blob/master/problems/0279.%E5%AE%8C%E5%85%A8%E5%B9%B3%E6%96%B9%E6%95%B0.md"
   ]
  },
  {
   "cell_type": "code",
   "execution_count": 1,
   "metadata": {},
   "outputs": [
    {
     "name": "stdout",
     "output_type": "stream",
     "text": [
      "3\n"
     ]
    }
   ],
   "source": [
    "def numSquares(n) -> int:\n",
    "    # 先把可以选的数准备好，更好理解\n",
    "    nums, num = [], 1\n",
    "    while num ** 2 <= n:\n",
    "        nums.append(num ** 2)\n",
    "        num += 1\n",
    "    # dp数组初始化\n",
    "    dp = [float('inf')] * (n + 1)\n",
    "    dp[0] = 0\n",
    "\n",
    "    # 遍历准备好的完全平方数\n",
    "    for i in range(len(nums)):\n",
    "        # 遍历背包容量\n",
    "        for j in range(nums[i], n+1):\n",
    "            dp[j] = min(dp[j], dp[j-nums[i]]+1)\n",
    "    # 返回结果\n",
    "    return dp[-1]\n",
    "n = 12\n",
    "print(numSquares(n))"
   ]
  },
  {
   "cell_type": "markdown",
   "metadata": {},
   "source": [
    "## Method5 - 1D Bottom-UP DP\n",
    "https://github.com/youngyangyang04/leetcode-master/blob/master/problems/0279.%E5%AE%8C%E5%85%A8%E5%B9%B3%E6%96%B9%E6%95%B0.md"
   ]
  },
  {
   "cell_type": "code",
   "execution_count": 3,
   "metadata": {},
   "outputs": [
    {
     "name": "stdout",
     "output_type": "stream",
     "text": [
      "3\n"
     ]
    }
   ],
   "source": [
    "def numSquares(n) -> int:\n",
    "    # 创建动态规划数组，初始值为最大值\n",
    "    dp = [float('inf')] * (n + 1)\n",
    "    # 初始化已知情况\n",
    "    dp[0] = 0\n",
    "\n",
    "    # 遍历背包容量\n",
    "    for i in range(1, n + 1):\n",
    "        # 遍历完全平方数作为物品\n",
    "        j = 1\n",
    "        while j * j <= i:\n",
    "            # 更新最少完全平方数的数量\n",
    "            dp[i] = min(dp[i], dp[i - j * j] + 1)\n",
    "            j += 1\n",
    "\n",
    "    # 返回结果\n",
    "    return dp[n]\n",
    "n = 12\n",
    "print(numSquares(n))"
   ]
  }
 ],
 "metadata": {
  "kernelspec": {
   "display_name": "test_env",
   "language": "python",
   "name": "python3"
  },
  "language_info": {
   "codemirror_mode": {
    "name": "ipython",
    "version": 3
   },
   "file_extension": ".py",
   "mimetype": "text/x-python",
   "name": "python",
   "nbconvert_exporter": "python",
   "pygments_lexer": "ipython3",
   "version": "3.8.6"
  }
 },
 "nbformat": 4,
 "nbformat_minor": 2
}
