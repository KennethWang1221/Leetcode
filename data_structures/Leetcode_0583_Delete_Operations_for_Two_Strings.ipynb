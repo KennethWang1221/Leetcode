{
 "cells": [
  {
   "cell_type": "markdown",
   "metadata": {},
   "source": [
    "## Method1 -DIY 2D Bottom-UP DP"
   ]
  },
  {
   "cell_type": "code",
   "execution_count": 14,
   "metadata": {},
   "outputs": [
    {
     "name": "stdout",
     "output_type": "stream",
     "text": [
      "5\n"
     ]
    }
   ],
   "source": [
    "def minDistance(word1, word2):\n",
    "    n1 = len(word1)\n",
    "    n2 = len(word2)\n",
    "\n",
    "    dp = [[0] * (n2+1) for i in range(n1+1)]\n",
    "\n",
    "    for i in range(n1+1):\n",
    "        dp[i][n2] = n1 - i\n",
    "\n",
    "    for i in range(n2+1):\n",
    "        dp[n1][i] = n2 - i\n",
    "    \n",
    "    for i in range(n1-1,-1,-1):\n",
    "        for j in range(n2-1,-1,-1):\n",
    "            if word1[i] == word2[j]:\n",
    "                dp[i][j] = dp[i+1][j+1]\n",
    "            else:\n",
    "                dp[i][j] = 1 + min(dp[i+1][j], dp[i][j+1])\n",
    "\n",
    "    return dp[0][0]\n",
    "word1 = \"leetcode\"\n",
    "word2 = \"etco\"\n",
    "word1 = \"sea\"\n",
    "word2 = \"eat\"\n",
    "word1 = \"mart\"\n",
    "word2 = \"karma\"\n",
    "res = minDistance(word1, word2)\n",
    "print(res)"
   ]
  }
 ],
 "metadata": {
  "kernelspec": {
   "display_name": "test_env",
   "language": "python",
   "name": "test_env"
  },
  "language_info": {
   "codemirror_mode": {
    "name": "ipython",
    "version": 3
   },
   "file_extension": ".py",
   "mimetype": "text/x-python",
   "name": "python",
   "nbconvert_exporter": "python",
   "pygments_lexer": "ipython3",
   "version": "3.8.6"
  }
 },
 "nbformat": 4,
 "nbformat_minor": 2
}
