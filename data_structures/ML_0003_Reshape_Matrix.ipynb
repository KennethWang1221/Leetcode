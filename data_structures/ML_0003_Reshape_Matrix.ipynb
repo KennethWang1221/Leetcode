{
 "cells": [
  {
   "cell_type": "markdown",
   "metadata": {},
   "source": [
    "## ML - Linear Algebra"
   ]
  },
  {
   "cell_type": "code",
   "execution_count": 4,
   "metadata": {},
   "outputs": [
    {
     "name": "stdout",
     "output_type": "stream",
     "text": [
      "Reshaped Matrix:\n",
      "[1, 2]\n",
      "[3, 4]\n",
      "[5, 6]\n",
      "[7, 8]\n"
     ]
    }
   ],
   "source": [
    "def reshape_matrix(matrix, new_shape):\n",
    "    # Step 1: Flatten the matrix into a 1D list\n",
    "    flat = []\n",
    "    for row in matrix:\n",
    "        for item in row:\n",
    "            flat.append(item)\n",
    "    \n",
    "    # Step 2: Validate the dimensions\n",
    "    total_elements = len(flat)\n",
    "    expected_elements = new_shape[0] * new_shape[1]\n",
    "    if total_elements != expected_elements:\n",
    "        raise ValueError(\"Total number of elements does not match the new shape.\")\n",
    "    \n",
    "    # Step 3: Reshape the flattened list\n",
    "    reshaped = []\n",
    "    for i in range(new_shape[0]):\n",
    "        start_idx = i * new_shape[1]\n",
    "        end_idx = start_idx + new_shape[1]\n",
    "        reshaped.append(flat[start_idx:end_idx])\n",
    "    \n",
    "    # Step 4: Return the reshaped matrix\n",
    "    return reshaped\n",
    "\n",
    "# Example usage\n",
    "a = [[1, 2, 3, 4],\n",
    "     [5, 6, 7, 8]]\n",
    "\n",
    "new_shape = (4, 2)\n",
    "\n",
    "# Reshape the matrix\n",
    "reshaped_a = reshape_matrix(a, new_shape)\n",
    "\n",
    "# Print the reshaped matrix\n",
    "print(\"Reshaped Matrix:\")\n",
    "for row in reshaped_a:\n",
    "    print(row)\n"
   ]
  }
 ],
 "metadata": {
  "kernelspec": {
   "display_name": "leetcode_env",
   "language": "python",
   "name": "python3"
  },
  "language_info": {
   "codemirror_mode": {
    "name": "ipython",
    "version": 3
   },
   "file_extension": ".py",
   "mimetype": "text/x-python",
   "name": "python",
   "nbconvert_exporter": "python",
   "pygments_lexer": "ipython3",
   "version": "3.8.6"
  }
 },
 "nbformat": 4,
 "nbformat_minor": 2
}
