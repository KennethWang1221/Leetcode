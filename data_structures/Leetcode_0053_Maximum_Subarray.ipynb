{
 "cells": [
  {
   "cell_type": "markdown",
   "metadata": {},
   "source": [
    "## Method1 - Kadane's Algorithm\n",
    "https://www.youtube.com/watch?v=5WZl3MMT0Eg"
   ]
  },
  {
   "cell_type": "code",
   "execution_count": 5,
   "metadata": {},
   "outputs": [
    {
     "name": "stdout",
     "output_type": "stream",
     "text": [
      "6\n"
     ]
    }
   ],
   "source": [
    "def maxSubArray(nums):\n",
    "    res = nums[0]\n",
    "\n",
    "    total = 0\n",
    "    for n in nums:\n",
    "        total += n\n",
    "        res = max(res, total)\n",
    "        if total < 0:\n",
    "            total = 0\n",
    "    return res\n",
    "\n",
    "nums = [-2,1,-3,4,-1,2,1,-5,4]\n",
    "res = maxSubArray(nums)\n",
    "print(res)"
   ]
  },
  {
   "cell_type": "markdown",
   "metadata": {},
   "source": [
    "## Method2 - Greedy"
   ]
  },
  {
   "cell_type": "code",
   "execution_count": 3,
   "metadata": {},
   "outputs": [
    {
     "name": "stdout",
     "output_type": "stream",
     "text": [
      "6\n"
     ]
    }
   ],
   "source": [
    "def maxSubArray(nums):\n",
    "    # Initialize with the first element\n",
    "    current_sum = max_sum = nums[0]\n",
    "    \n",
    "    # Iterate through the array starting from the second element\n",
    "    for num in nums[1:]:\n",
    "        # Greedily decide whether to add the current number to the existing subarray or start a new one\n",
    "        current_sum = max(num, current_sum + num)\n",
    "        \n",
    "        # Update the max_sum if the current_sum is greater\n",
    "        max_sum = max(max_sum, current_sum)\n",
    "    \n",
    "    return max_sum\n",
    "\n",
    "# Example usage\n",
    "nums = [-2, 1, -3, 4, -1, 2, 1, -5, 4]\n",
    "print(maxSubArray(nums))  # Output: 6 (subarray is [4, -1, 2, 1])\n"
   ]
  },
  {
   "cell_type": "markdown",
   "metadata": {},
   "source": [
    "## Method3 - 1D Bottom-UP DP\n",
    "https://github.com/youngyangyang04/leetcode-master/blob/master/problems/0053.%E6%9C%80%E5%A4%A7%E5%AD%90%E5%BA%8F%E5%92%8C%EF%BC%88%E5%8A%A8%E6%80%81%E8%A7%84%E5%88%92%EF%BC%89.md"
   ]
  },
  {
   "cell_type": "markdown",
   "metadata": {},
   "source": [
    "Why It's Bottom-Up:\n",
    "\n",
    "1. Bottom-Up Approach:\n",
    "\n",
    "   In a bottom-up DP approach, you solve smaller subproblems first and use their results to build up to the solution of larger subproblems.\n",
    "   In this case, you start by solving the smallest subproblem (dp[0], which is just the first element) and then iteratively solve for dp[1], dp[2], and so on, until you reach dp[n-1].\n",
    "\n",
    "2. Iteration Process:\n",
    "\n",
    "   You iterate through the array from the first element to the last (for i in range(1, n)). For each i, you compute dp[i] based on the value of dp[i-1].\n",
    "\n",
    "   This iterative process builds the solution from the \"bottom\" (starting with the smallest subproblem) up to the \"top\" (the final solution).\n",
    "\n",
    "Top-Down vs. Bottom-Up:\n",
    "   \n",
    "   Top-Down (Memoization):\n",
    "\n",
    "   In a top-down approach, you typically use recursion with memoization to solve the problem. You start with the largest subproblem and break it down into smaller subproblems, storing the results of these smaller subproblems to avoid redundant calculations.\n",
    "\n",
    "   This approach often involves defining a recursive function and storing the results of subproblems in a memoization table.\n",
    "   \n",
    "   Bottom-Up:\n",
    "\n",
    "   In contrast, the bottom-up approach avoids recursion and directly iterates through the problem space, building the solution iteratively. This is what you're doing in the dp solution for the maximum subarray problem.\n",
    "\n",
    "Summary:\n",
    "\n",
    "The DP solution for the maximum subarray problem using the dp array is a 1D bottom-up approach because you iteratively solve the problem from the smallest subproblem (starting with the first element) up to the complete solution"
   ]
  },
  {
   "cell_type": "code",
   "execution_count": 5,
   "metadata": {},
   "outputs": [
    {
     "name": "stdout",
     "output_type": "stream",
     "text": [
      "6\n"
     ]
    }
   ],
   "source": [
    "def maxSubArray(nums):\n",
    "    dp = [0] * len(nums)\n",
    "    dp[0] = nums[0]\n",
    "    result = dp[0]\n",
    "    for i in range(1, len(nums)):\n",
    "        dp[i] = max(dp[i-1] + nums[i], nums[i]) #状态转移公式\n",
    "        result = max(result, dp[i]) #result 保存dp[i]的最大值\n",
    "    return result\n",
    "\n",
    "nums = [-2,1,-3,4,-1,2,1,-5,4]\n",
    "res = maxSubArray(nums)\n",
    "print(res)"
   ]
  },
  {
   "cell_type": "markdown",
   "metadata": {},
   "source": [
    "## Method4 - Brute Force\n",
    "https://github.com/youngyangyang04/leetcode-master/blob/master/problems/0053.%E6%9C%80%E5%A4%A7%E5%AD%90%E5%BA%8F%E5%92%8C%EF%BC%88%E5%8A%A8%E6%80%81%E8%A7%84%E5%88%92%EF%BC%89.md"
   ]
  },
  {
   "cell_type": "code",
   "execution_count": 1,
   "metadata": {},
   "outputs": [
    {
     "name": "stdout",
     "output_type": "stream",
     "text": [
      "6\n"
     ]
    }
   ],
   "source": [
    "def maxSubArray(nums):\n",
    "    result = float('-inf')  # 初始化结果为负无穷大\n",
    "    count = 0\n",
    "    for i in range(len(nums)):  # 设置起始位置\n",
    "        count = 0\n",
    "        for j in range(i, len(nums)):  # 从起始位置i开始遍历寻找最大值\n",
    "            count += nums[j]\n",
    "            result = max(count, result)  # 更新最大值\n",
    "    return result\n",
    "\n",
    "nums = [-2,1,-3,4,-1,2,1,-5,4]\n",
    "res = maxSubArray(nums)\n",
    "print(res)"
   ]
  }
 ],
 "metadata": {
  "kernelspec": {
   "display_name": "test_env",
   "language": "python",
   "name": "test_env"
  },
  "language_info": {
   "codemirror_mode": {
    "name": "ipython",
    "version": 3
   },
   "file_extension": ".py",
   "mimetype": "text/x-python",
   "name": "python",
   "nbconvert_exporter": "python",
   "pygments_lexer": "ipython3",
   "version": "3.8.6"
  }
 },
 "nbformat": 4,
 "nbformat_minor": 2
}
