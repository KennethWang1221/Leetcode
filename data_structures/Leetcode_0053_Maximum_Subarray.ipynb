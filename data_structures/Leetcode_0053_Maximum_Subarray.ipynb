{
 "cells": [
  {
   "cell_type": "markdown",
   "metadata": {},
   "source": [
    "## Method1 - Kadane's Algorithm\n",
    "https://www.youtube.com/watch?v=5WZl3MMT0Eg"
   ]
  },
  {
   "cell_type": "code",
   "execution_count": 5,
   "metadata": {},
   "outputs": [
    {
     "name": "stdout",
     "output_type": "stream",
     "text": [
      "6\n"
     ]
    }
   ],
   "source": [
    "def maxSubArray(nums):\n",
    "    res = nums[0]\n",
    "\n",
    "    total = 0\n",
    "    for n in nums:\n",
    "        total += n\n",
    "        res = max(res, total)\n",
    "        if total < 0:\n",
    "            total = 0\n",
    "    return res\n",
    "\n",
    "nums = [-2,1,-3,4,-1,2,1,-5,4]\n",
    "res = maxSubArray(nums)\n",
    "print(res)"
   ]
  },
  {
   "cell_type": "markdown",
   "metadata": {},
   "source": [
    "## Method2 - Greedy"
   ]
  },
  {
   "cell_type": "code",
   "execution_count": 3,
   "metadata": {},
   "outputs": [
    {
     "name": "stdout",
     "output_type": "stream",
     "text": [
      "6\n"
     ]
    }
   ],
   "source": [
    "def maxSubArray(nums):\n",
    "    # Initialize with the first element\n",
    "    current_sum = max_sum = nums[0]\n",
    "    \n",
    "    # Iterate through the array starting from the second element\n",
    "    for num in nums[1:]:\n",
    "        # Greedily decide whether to add the current number to the existing subarray or start a new one\n",
    "        current_sum = max(num, current_sum + num)\n",
    "        \n",
    "        # Update the max_sum if the current_sum is greater\n",
    "        max_sum = max(max_sum, current_sum)\n",
    "    \n",
    "    return max_sum\n",
    "\n",
    "# Example usage\n",
    "nums = [-2, 1, -3, 4, -1, 2, 1, -5, 4]\n",
    "print(maxSubArray(nums))  # Output: 6 (subarray is [4, -1, 2, 1])\n"
   ]
  },
  {
   "cell_type": "markdown",
   "metadata": {},
   "source": [
    "https://programmercarl.com/0053.%E6%9C%80%E5%A4%A7%E5%AD%90%E5%BA%8F%E5%92%8C.html#%E6%80%9D%E8%B7%AF"
   ]
  },
  {
   "cell_type": "markdown",
   "metadata": {},
   "source": [
    "贪心贪的是哪里呢？\n",
    "\n",
    "如果 -2 1 在一起，计算起点的时候，一定是从 1 开始计算，因为负数只会拉低总和，这就是贪心贪的地方！\n",
    "\n",
    "局部最优：当前“连续和”为负数的时候立刻放弃，从下一个元素重新计算“连续和”，因为负数加上下一个元素 “连续和”只会越来越小。\n",
    "\n",
    "全局最优：选取最大“连续和”\n",
    "\n",
    "局部最优的情况下，并记录最大的“连续和”，可以推出全局最优。\n",
    "\n",
    "从代码角度上来讲：遍历 nums，从头开始用 count 累积，如果 count 一旦加上 nums[i]变为负数，那么就应该从 nums[i+1]开始从 0 累积 count 了，因为已经变为负数的 count，只会拖累总和。\n",
    "\n",
    "这相当于是暴力解法中的不断调整最大子序和区间的起始位置。\n",
    "\n",
    "那有同学问了，区间终止位置不用调整么？ 如何才能得到最大“连续和”呢？\n",
    "\n",
    "区间的终止位置，其实就是如果 count 取到最大值了，及时记录下来了。例如如下代码：\n",
    "\n",
    "if count > result:  \n",
    "    result = count\n",
    "\n",
    "这样相当于是用 result 记录最大子序和区间和（变相的算是调整了终止位置）。\n",
    "\n"
   ]
  },
  {
   "cell_type": "code",
   "execution_count": null,
   "metadata": {},
   "outputs": [],
   "source": [
    "def maxSubArray(nums):\n",
    "    result = float('-inf')  # INT32_MIN equivalent in Python\n",
    "    count = 0\n",
    "    for i in range(len(nums)):\n",
    "        count += nums[i]\n",
    "        if count > result:  # Get the maximum of the cumulative sums\n",
    "            result = count\n",
    "        if count <= 0:\n",
    "            count = 0  # Reset the start of the maximum subarray if count is non-positive\n",
    "    return result\n",
    "nums = [-2, 1, -3, 4, -1, 2, 1, -5, 4]\n",
    "print(maxSubArray(nums))  # Output: 6 (subarray is [4, -1, 2, 1])\n"
   ]
  },
  {
   "cell_type": "markdown",
   "metadata": {},
   "source": [
    "## Method3 - 1D Bottom-UP DP\n",
    "https://github.com/youngyangyang04/leetcode-master/blob/master/problems/0053.%E6%9C%80%E5%A4%A7%E5%AD%90%E5%BA%8F%E5%92%8C%EF%BC%88%E5%8A%A8%E6%80%81%E8%A7%84%E5%88%92%EF%BC%89.md"
   ]
  },
  {
   "cell_type": "markdown",
   "metadata": {},
   "source": [
    "Why It's Bottom-Up:\n",
    "\n",
    "1. Bottom-Up Approach:\n",
    "\n",
    "   In a bottom-up DP approach, you solve smaller subproblems first and use their results to build up to the solution of larger subproblems.\n",
    "   In this case, you start by solving the smallest subproblem (dp[0], which is just the first element) and then iteratively solve for dp[1], dp[2], and so on, until you reach dp[n-1].\n",
    "\n",
    "2. Iteration Process:\n",
    "\n",
    "   You iterate through the array from the first element to the last (for i in range(1, n)). For each i, you compute dp[i] based on the value of dp[i-1].\n",
    "\n",
    "   This iterative process builds the solution from the \"bottom\" (starting with the smallest subproblem) up to the \"top\" (the final solution).\n",
    "\n",
    "Top-Down vs. Bottom-Up:\n",
    "   \n",
    "   Top-Down (Memoization):\n",
    "\n",
    "   In a top-down approach, you typically use recursion with memoization to solve the problem. You start with the largest subproblem and break it down into smaller subproblems, storing the results of these smaller subproblems to avoid redundant calculations.\n",
    "\n",
    "   This approach often involves defining a recursive function and storing the results of subproblems in a memoization table.\n",
    "   \n",
    "   Bottom-Up:\n",
    "\n",
    "   In contrast, the bottom-up approach avoids recursion and directly iterates through the problem space, building the solution iteratively. This is what you're doing in the dp solution for the maximum subarray problem.\n",
    "\n",
    "Summary:\n",
    "\n",
    "The DP solution for the maximum subarray problem using the dp array is a 1D bottom-up approach because you iteratively solve the problem from the smallest subproblem (starting with the first element) up to the complete solution"
   ]
  },
  {
   "cell_type": "code",
   "execution_count": 5,
   "metadata": {},
   "outputs": [
    {
     "name": "stdout",
     "output_type": "stream",
     "text": [
      "6\n"
     ]
    }
   ],
   "source": [
    "def maxSubArray(nums):\n",
    "    dp = [0] * len(nums)\n",
    "    dp[0] = nums[0]\n",
    "    result = dp[0]\n",
    "    for i in range(1, len(nums)):\n",
    "        dp[i] = max(dp[i-1] + nums[i], nums[i]) #状态转移公式\n",
    "        result = max(result, dp[i]) #result 保存dp[i]的最大值\n",
    "    return result\n",
    "\n",
    "nums = [-2,1,-3,4,-1,2,1,-5,4]\n",
    "res = maxSubArray(nums)\n",
    "print(res)"
   ]
  },
  {
   "cell_type": "markdown",
   "metadata": {},
   "source": [
    "## Method4 - Brute Force\n",
    "https://github.com/youngyangyang04/leetcode-master/blob/master/problems/0053.%E6%9C%80%E5%A4%A7%E5%AD%90%E5%BA%8F%E5%92%8C%EF%BC%88%E5%8A%A8%E6%80%81%E8%A7%84%E5%88%92%EF%BC%89.md"
   ]
  },
  {
   "cell_type": "code",
   "execution_count": 1,
   "metadata": {},
   "outputs": [
    {
     "name": "stdout",
     "output_type": "stream",
     "text": [
      "6\n"
     ]
    }
   ],
   "source": [
    "def maxSubArray(nums):\n",
    "    result = float('-inf')  # 初始化结果为负无穷大\n",
    "    count = 0\n",
    "    for i in range(len(nums)):  # 设置起始位置\n",
    "        count = 0\n",
    "        for j in range(i, len(nums)):  # 从起始位置i开始遍历寻找最大值\n",
    "            count += nums[j]\n",
    "            result = max(count, result)  # 更新最大值\n",
    "    return result\n",
    "\n",
    "nums = [-2,1,-3,4,-1,2,1,-5,4]\n",
    "res = maxSubArray(nums)\n",
    "print(res)"
   ]
  }
 ],
 "metadata": {
  "kernelspec": {
   "display_name": "test_env",
   "language": "python",
   "name": "test_env"
  },
  "language_info": {
   "codemirror_mode": {
    "name": "ipython",
    "version": 3
   },
   "file_extension": ".py",
   "mimetype": "text/x-python",
   "name": "python",
   "nbconvert_exporter": "python",
   "pygments_lexer": "ipython3",
   "version": "3.8.6"
  }
 },
 "nbformat": 4,
 "nbformat_minor": 2
}
