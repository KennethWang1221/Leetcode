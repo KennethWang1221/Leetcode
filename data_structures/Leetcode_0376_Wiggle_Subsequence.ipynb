{
 "cells": [
  {
   "cell_type": "markdown",
   "metadata": {},
   "source": [
    "## Method1 Greedy\n",
    "https://github.com/youngyangyang04/leetcode-master/blob/master/problems/0376.%E6%91%86%E5%8A%A8%E5%BA%8F%E5%88%97.md"
   ]
  },
  {
   "cell_type": "code",
   "execution_count": 1,
   "metadata": {},
   "outputs": [
    {
     "name": "stdout",
     "output_type": "stream",
     "text": [
      "6\n"
     ]
    }
   ],
   "source": [
    "def wiggleMaxLength(nums):\n",
    "    n = len(nums)\n",
    "    if n <= 1:\n",
    "        return n  # 如果数组长度为0或1，则返回数组长度\n",
    "    curDiff = 0  # 当前一对元素的差值\n",
    "    preDiff = 0  # 前一对元素的差值\n",
    "    result = 1  # 记录峰值的个数，初始为1（默认最右边的元素被视为峰值）\n",
    "    for i in range(n - 1):\n",
    "        curDiff = nums[i + 1] - nums[i]  # 计算下一个元素与当前元素的差值\n",
    "        # 如果遇到一个峰值\n",
    "        if (preDiff <= 0 and curDiff > 0) or (preDiff >= 0 and curDiff < 0):\n",
    "            result += 1  # 峰值个数加1\n",
    "            preDiff = curDiff  # 注意这里，只在摆动变化的时候更新preDiff\n",
    "    return result  # 返回最长摆动子序列的长度\n",
    "print(wiggleMaxLength(nums=[1,7,4,9,2,5]))"
   ]
  },
  {
   "cell_type": "code",
   "execution_count": 2,
   "metadata": {},
   "outputs": [
    {
     "name": "stdout",
     "output_type": "stream",
     "text": [
      "6\n"
     ]
    }
   ],
   "source": [
    "def wiggleMaxLength(nums):\n",
    "    n = len(nums)\n",
    "    if n <= 1:\n",
    "        return n  # 如果数组长度为0或1，则返回数组长度\n",
    "    preDiff,curDiff ,result  = 0,0,1  #题目里nums长度大于等于1，当长度为1时，其实到不了for循环里去，所以不用考虑nums长度\n",
    "    for i in range(n - 1):\n",
    "        curDiff = nums[i + 1] - nums[i]\n",
    "        if curDiff * preDiff <= 0 and curDiff !=0:  #差值为0时，不算摆动\n",
    "            result += 1\n",
    "            preDiff = curDiff  #如果当前差值和上一个差值为一正一负时，才需要用当前差值替代上一个差值\n",
    "    return result\n",
    "print(wiggleMaxLength(nums=[1,7,4,9,2,5]))"
   ]
  },
  {
   "cell_type": "markdown",
   "metadata": {},
   "source": [
    "## Method2 - 2D Bottom-UP DP\n",
    "https://github.com/youngyangyang04/leetcode-master/blob/master/problems/0376.%E6%91%86%E5%8A%A8%E5%BA%8F%E5%88%97.md"
   ]
  },
  {
   "cell_type": "code",
   "execution_count": 3,
   "metadata": {},
   "outputs": [
    {
     "name": "stdout",
     "output_type": "stream",
     "text": [
      "6\n"
     ]
    }
   ],
   "source": [
    "def wiggleMaxLength(nums):\n",
    "    # 0 i 作为波峰的最大长度\n",
    "    # 1 i 作为波谷的最大长度\n",
    "    # dp是一个列表，列表中每个元素是长度为 2 的列表\n",
    "    n = len(nums)\n",
    "    dp = []\n",
    "    for i in range(n):\n",
    "        dp.append([1, 1])\n",
    "        for j in range(i):\n",
    "            # nums[i] 为波谷\n",
    "            if nums[j] > nums[i]:\n",
    "                dp[i][1] = max(dp[i][1], dp[j][0] + 1)\n",
    "            # nums[i] 为波峰\n",
    "            if nums[j] < nums[i]:\n",
    "                dp[i][0] = max(dp[i][0], dp[j][1] + 1)\n",
    "    return max(dp[-1][0], dp[-1][1])\n",
    "print(wiggleMaxLength(nums=[1,7,4,9,2,5]))"
   ]
  },
  {
   "cell_type": "code",
   "execution_count": 4,
   "metadata": {},
   "outputs": [
    {
     "name": "stdout",
     "output_type": "stream",
     "text": [
      "6\n"
     ]
    }
   ],
   "source": [
    "def wiggleMaxLength(nums):\n",
    "    n = len(nums)\n",
    "    dp = [[0, 0] for _ in range(n)]  # 创建二维dp数组，用于记录摆动序列的最大长度\n",
    "    dp[0][0] = dp[0][1] = 1  # 初始条件，序列中的第一个元素默认为峰值，最小长度为1\n",
    "    for i in range(1, n):\n",
    "        dp[i][0] = dp[i][1] = 1  # 初始化当前位置的dp值为1\n",
    "        for j in range(i):\n",
    "            if nums[j] > nums[i]:\n",
    "                dp[i][1] = max(dp[i][1], dp[j][0] + 1)  # 如果前一个数比当前数大，可以形成一个上升峰值，更新dp[i][1]\n",
    "        for j in range(i):\n",
    "            if nums[j] < nums[i]:\n",
    "                dp[i][0] = max(dp[i][0], dp[j][1] + 1)  # 如果前一个数比当前数小，可以形成一个下降峰值，更新dp[i][0]\n",
    "    return max(dp[-1][0], dp[-1][1])  # 返回最大的摆动序列长度\n",
    "print(wiggleMaxLength(nums=[1,7,4,9,2,5]))"
   ]
  },
  {
   "cell_type": "code",
   "execution_count": 5,
   "metadata": {},
   "outputs": [
    {
     "name": "stdout",
     "output_type": "stream",
     "text": [
      "6\n"
     ]
    }
   ],
   "source": [
    "def wiggleMaxLength(nums):\n",
    "    n = len(nums)\n",
    "    if n <= 1:\n",
    "        return n  # 如果数组长度为0或1，则返回数组长度\n",
    "    \n",
    "    up = down = 1  # 记录上升和下降摆动序列的最大长度\n",
    "    for i in range(1, n):\n",
    "        if nums[i] > nums[i-1]:\n",
    "            up = down + 1  # 如果当前数比前一个数大，则可以形成一个上升峰值\n",
    "        elif nums[i] < nums[i-1]:\n",
    "            down = up + 1  # 如果当前数比前一个数小，则可以形成一个下降峰值\n",
    "    \n",
    "    return max(up, down)  # 返回上升和下降摆动序列的最大长度\n",
    "print(wiggleMaxLength(nums=[1,7,4,9,2,5]))"
   ]
  }
 ],
 "metadata": {
  "kernelspec": {
   "display_name": "test_env",
   "language": "python",
   "name": "python3"
  },
  "language_info": {
   "codemirror_mode": {
    "name": "ipython",
    "version": 3
   },
   "file_extension": ".py",
   "mimetype": "text/x-python",
   "name": "python",
   "nbconvert_exporter": "python",
   "pygments_lexer": "ipython3",
   "version": "3.8.6"
  }
 },
 "nbformat": 4,
 "nbformat_minor": 2
}
