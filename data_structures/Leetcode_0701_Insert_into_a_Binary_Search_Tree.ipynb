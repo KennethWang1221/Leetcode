{
 "cells": [
  {
   "cell_type": "markdown",
   "metadata": {},
   "source": [
    "## Method1 - Iterative\n",
    "https://github.com/youngyangyang04/leetcode-master/blob/master/problems/0701.%E4%BA%8C%E5%8F%89%E6%90%9C%E7%B4%A2%E6%A0%91%E4%B8%AD%E7%9A%84%E6%8F%92%E5%85%A5%E6%93%8D%E4%BD%9C.md"
   ]
  },
  {
   "cell_type": "code",
   "execution_count": 1,
   "metadata": {},
   "outputs": [
    {
     "name": "stdout",
     "output_type": "stream",
     "text": [
      "Original BST:\n",
      "1, 2, 3, 4, 7, \n",
      "After inserting 5:\n",
      "1, 2, 3, 4, 5, 7, \n",
      "Original BST:\n",
      "1, 2, 3, 4, 7, \n",
      "After inserting 0:\n",
      "0, 1, 2, 3, 4, 7, \n",
      "Original BST:\n",
      "2, 3, 4, 5, 7, 8, 9, \n",
      "After inserting 6:\n",
      "2, 3, 4, 5, 6, 7, 8, 9, \n"
     ]
    }
   ],
   "source": [
    "class TreeNode(object):\n",
    "    def __init__(self, x):\n",
    "        self.val = x\n",
    "        self.left = None\n",
    "        self.right = None\n",
    "\n",
    "def insertIntoBST(root, val):\n",
    "    if root is None:\n",
    "        return TreeNode(val)\n",
    "\n",
    "    cur = root\n",
    "    while cur:\n",
    "        parent = cur\n",
    "        if cur.val > val:\n",
    "            cur = cur.left\n",
    "        elif cur.val < val:\n",
    "            cur = cur.right\n",
    "    \n",
    "    # Insert the node in the correct position\n",
    "    if parent.val > val:\n",
    "        parent.left = TreeNode(val)\n",
    "    elif parent.val < val:\n",
    "        parent.right = TreeNode(val)\n",
    "\n",
    "    return root\n",
    "\n",
    "def print_tree(root):\n",
    "    # In-order traversal to print the tree\n",
    "    if root is not None:\n",
    "        print_tree(root.left)\n",
    "        print(root.val, end=\", \")\n",
    "        print_tree(root.right)\n",
    "\n",
    "# Test Case 1: Insert value 5 into a given BST\n",
    "n1 = TreeNode(4)\n",
    "n2 = TreeNode(2)\n",
    "n3 = TreeNode(7)\n",
    "n4 = TreeNode(1)\n",
    "n5 = TreeNode(3)\n",
    "\n",
    "n1.left = n2\n",
    "n1.right = n3\n",
    "n2.left = n4\n",
    "n2.right = n5\n",
    "\n",
    "print(\"Original BST:\")\n",
    "print_tree(n1)\n",
    "print()\n",
    "\n",
    "# Insert value 5\n",
    "res = insertIntoBST(n1, 5)\n",
    "print(\"After inserting 5:\")\n",
    "print_tree(res)\n",
    "print()\n",
    "\n",
    "# Test Case 2: Insert value 0 into a given BST\n",
    "n6 = TreeNode(4)\n",
    "n7 = TreeNode(2)\n",
    "n8 = TreeNode(7)\n",
    "n9 = TreeNode(1)\n",
    "n10 = TreeNode(3)\n",
    "\n",
    "n6.left = n7\n",
    "n6.right = n8\n",
    "n7.left = n9\n",
    "n7.right = n10\n",
    "\n",
    "print(\"Original BST:\")\n",
    "print_tree(n6)\n",
    "print()\n",
    "\n",
    "# Insert value 0\n",
    "res2 = insertIntoBST(n6, 0)\n",
    "print(\"After inserting 0:\")\n",
    "print_tree(res2)\n",
    "print()\n",
    "\n",
    "# Test Case 3: Insert value 6 into a given BST\n",
    "n11 = TreeNode(5)\n",
    "n12 = TreeNode(3)\n",
    "n13 = TreeNode(8)\n",
    "n14 = TreeNode(2)\n",
    "n15 = TreeNode(4)\n",
    "n16 = TreeNode(7)\n",
    "n17 = TreeNode(9)\n",
    "\n",
    "n11.left = n12\n",
    "n11.right = n13\n",
    "n12.left = n14\n",
    "n12.right = n15\n",
    "n13.left = n16\n",
    "n13.right = n17\n",
    "\n",
    "print(\"Original BST:\")\n",
    "print_tree(n11)\n",
    "print()\n",
    "\n",
    "# Insert value 6\n",
    "res3 = insertIntoBST(n11, 6)\n",
    "print(\"After inserting 6:\")\n",
    "print_tree(res3)\n",
    "print()\n"
   ]
  },
  {
   "cell_type": "markdown",
   "metadata": {},
   "source": [
    "## Method2-Recursive - without return value"
   ]
  },
  {
   "cell_type": "code",
   "execution_count": 7,
   "metadata": {},
   "outputs": [
    {
     "name": "stdout",
     "output_type": "stream",
     "text": [
      "<__main__.TreeNode object at 0x1084a4280>\n"
     ]
    }
   ],
   "source": [
    "class TreeNode(object):\n",
    "    def __init__(self, x):\n",
    "        if x == None:\n",
    "            self.val = None\n",
    "        else:\n",
    "            self.val = x\n",
    "        self.left = None\n",
    "        self.right = None \n",
    "\n",
    "def insertIntoBST(root, val):\n",
    "    if not root:    # for root==None\n",
    "        return TreeNode(val)\n",
    "    if root.val<val:\n",
    "        if root.right==None:    # find the parent\n",
    "            root.right = TreeNode(val)\n",
    "        else:   # not found, keep searching\n",
    "            insertIntoBST(root.right, val)\n",
    "    if root.val>val:\n",
    "        if root.left==None: # found the parent\n",
    "            root.left = TreeNode(val)\n",
    "        else:   # not found, keep searching\n",
    "            insertIntoBST(root.left, val)\n",
    "    # return the final tree\n",
    "    return root\n",
    "\n",
    "    \n",
    "    \n",
    "n1 = TreeNode(4)\n",
    "n2 = TreeNode(2)\n",
    "n3 = TreeNode(7)\n",
    "n4 = TreeNode(1)\n",
    "n5 = TreeNode(3)\n",
    "\n",
    "n1.left = n2\n",
    "n1.right = n3\n",
    "n2.left = n4\n",
    "n2.right = n5\n",
    "\n",
    "res = insertIntoBST(n1, val=5)\n",
    "print(res)"
   ]
  },
  {
   "cell_type": "markdown",
   "metadata": {},
   "source": [
    "## Method3 - Recursive - with return value"
   ]
  },
  {
   "cell_type": "code",
   "execution_count": 8,
   "metadata": {},
   "outputs": [
    {
     "name": "stdout",
     "output_type": "stream",
     "text": [
      "<__main__.TreeNode object at 0x1084a4370>\n"
     ]
    }
   ],
   "source": [
    "class TreeNode(object):\n",
    "    def __init__(self, x):\n",
    "        if x == None:\n",
    "            self.val = None\n",
    "        else:\n",
    "            self.val = x\n",
    "        self.left = None\n",
    "        self.right = None \n",
    "\n",
    "def insertIntoBST(root, val):\n",
    "    # 返回更新后的以当前root为根节点的新树，方便用于更新上一层的父子节点关系链\n",
    "\n",
    "    # Base Case\n",
    "    if not root: return TreeNode(val)\n",
    "\n",
    "    # 单层递归逻辑:\n",
    "    if val < root.val: \n",
    "        # 将val插入至当前root的左子树中合适的位置\n",
    "        # 并更新当前root的左子树为包含目标val的新左子树\n",
    "        root.left = insertIntoBST(root.left, val)\n",
    "\n",
    "    if root.val < val:\n",
    "        # 将val插入至当前root的右子树中合适的位置\n",
    "        # 并更新当前root的右子树为包含目标val的新右子树\n",
    "        root.right = insertIntoBST(root.right, val)\n",
    "\n",
    "    # 返回更新后的以当前root为根节点的新树\n",
    "    return root\n",
    "\n",
    "    \n",
    "    \n",
    "n1 = TreeNode(4)\n",
    "n2 = TreeNode(2)\n",
    "n3 = TreeNode(7)\n",
    "n4 = TreeNode(1)\n",
    "n5 = TreeNode(3)\n",
    "\n",
    "n1.left = n2\n",
    "n1.right = n3\n",
    "n2.left = n4\n",
    "n2.right = n5\n",
    "\n",
    "res = insertIntoBST(n1, val=5)\n",
    "print(res)"
   ]
  },
  {
   "cell_type": "code",
   "execution_count": 6,
   "metadata": {},
   "outputs": [
    {
     "name": "stdout",
     "output_type": "stream",
     "text": [
      "\n",
      "    ______6__\n",
      "   /         \\\n",
      "  2__         8\n",
      " /   \\       / \\\n",
      "0     4     7   9\n",
      "     / \\\n",
      "    3   5\n",
      "\n"
     ]
    }
   ],
   "source": [
    "from binarytree import tree, bst, heap, Node\n",
    "n1 = Node(6)\n",
    "n2 = Node(2)\n",
    "n3 = Node(8)\n",
    "n4 = Node(0)\n",
    "n5 = Node(4)\n",
    "n6 = Node(7)\n",
    "n7 = Node(9)\n",
    "n8 = Node(3)\n",
    "n9 = Node(5)\n",
    "\n",
    "n1.left = n2\n",
    "n1.right = n3\n",
    "n2.left = n4\n",
    "n2.right = n5\n",
    "n3.left = n6\n",
    "n3.right = n7\n",
    "n5.left = n8\n",
    "n5.right = n9\n",
    "print(n1)"
   ]
  }
 ],
 "metadata": {
  "kernelspec": {
   "display_name": "Python 3.8.6 64-bit ('leetcode_env')",
   "language": "python",
   "name": "python3"
  },
  "language_info": {
   "codemirror_mode": {
    "name": "ipython",
    "version": 3
   },
   "file_extension": ".py",
   "mimetype": "text/x-python",
   "name": "python",
   "nbconvert_exporter": "python",
   "pygments_lexer": "ipython3",
   "version": "3.8.6"
  },
  "orig_nbformat": 4,
  "vscode": {
   "interpreter": {
    "hash": "846fd2d9bb562a436898b7cc368204fc2f9d44e5e9b051b4f6e855e721078f23"
   }
  }
 },
 "nbformat": 4,
 "nbformat_minor": 2
}
