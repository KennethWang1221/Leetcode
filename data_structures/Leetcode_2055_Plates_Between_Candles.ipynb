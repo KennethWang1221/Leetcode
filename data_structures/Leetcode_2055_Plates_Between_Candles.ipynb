{
 "cells": [
  {
   "cell_type": "markdown",
   "metadata": {},
   "source": [
    "## Method1 - Array"
   ]
  },
  {
   "cell_type": "code",
   "execution_count": 1,
   "metadata": {},
   "outputs": [
    {
     "name": "stdout",
     "output_type": "stream",
     "text": [
      "[2, 3]\n"
     ]
    }
   ],
   "source": [
    "def platesBetweenCandles(s, queries):\n",
    "    n = len(s)\n",
    "    pre_sum = [0] * (n + 1)\n",
    "    for i in range(n):\n",
    "        pre_sum[i+1] = pre_sum[i] + (1 if s[i] == '*' else 0)\n",
    "    \n",
    "    # Precompute previous candle positions\n",
    "    prev_candle = [-1] * n\n",
    "    last = -1\n",
    "    for i in range(n):\n",
    "        if s[i] == '|':\n",
    "            last = i\n",
    "        prev_candle[i] = last\n",
    "    \n",
    "    # Precompute next candle positions\n",
    "    next_candle = [-1] * n\n",
    "    last = -1\n",
    "    for i in range(n-1, -1, -1):\n",
    "        if s[i] == '|':\n",
    "            last = i\n",
    "        next_candle[i] = last\n",
    "    \n",
    "    ans = []\n",
    "    for left, right in queries:\n",
    "        # Find the first candle in the range starting from left\n",
    "        left_candle = next_candle[left]\n",
    "        # Find the last candle in the range ending at right\n",
    "        right_candle = prev_candle[right]\n",
    "        \n",
    "        if left_candle == -1 or right_candle == -1 or left_candle > right_candle:\n",
    "            ans.append(0)\n",
    "        else:\n",
    "            # Calculate the number of plates between left_candle and right_candle inclusive\n",
    "            count = pre_sum[right_candle + 1] - pre_sum[left_candle]\n",
    "            ans.append(count)\n",
    "    \n",
    "    return ans\n",
    "s = \"**|**|***|\"\n",
    "queries = [[2,5],[5,9]]\n",
    "print(platesBetweenCandles(s, queries))"
   ]
  }
 ],
 "metadata": {
  "kernelspec": {
   "display_name": "leetcode_env",
   "language": "python",
   "name": "leetcode_env"
  },
  "language_info": {
   "codemirror_mode": {
    "name": "ipython",
    "version": 3
   },
   "file_extension": ".py",
   "mimetype": "text/x-python",
   "name": "python",
   "nbconvert_exporter": "python",
   "pygments_lexer": "ipython3",
   "version": "3.8.6"
  }
 },
 "nbformat": 4,
 "nbformat_minor": 2
}
