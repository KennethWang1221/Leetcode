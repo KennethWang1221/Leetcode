{
 "cells": [
  {
   "cell_type": "markdown",
   "metadata": {},
   "source": [
    "## Method1 - Backtracking\n",
    "\n",
    "https://www.youtube.com/watch?v=hUe0cUKV-YY"
   ]
  },
  {
   "cell_type": "code",
   "execution_count": 8,
   "metadata": {},
   "outputs": [
    {
     "name": "stdout",
     "output_type": "stream",
     "text": [
      "True\n",
      "False\n"
     ]
    }
   ],
   "source": [
    "def makesquare(matchsticks):\n",
    "    total = sum(matchsticks)\n",
    "    length = total // 4\n",
    "    sides = [0] * 4\n",
    "\n",
    "    if total / 4 != length:\n",
    "        return False\n",
    "    matchsticks.sort(reverse=True)\n",
    "\n",
    "    def backtrack(i):\n",
    "        if i == len(matchsticks):\n",
    "            return True\n",
    "\n",
    "        for j in range(4):\n",
    "            if sides[j] + matchsticks[i] <= length:\n",
    "                sides[j] += matchsticks[i]\n",
    "                if backtrack(i + 1):\n",
    "                    return True\n",
    "                sides[j] -= matchsticks[i]\n",
    "        return False\n",
    "\n",
    "    return backtrack(0)\n",
    "print(makesquare(matchsticks = [1,1,2,2,2]))\n",
    "print(makesquare(matchsticks = [3,3,3,3,4]))"
   ]
  }
 ],
 "metadata": {
  "kernelspec": {
   "display_name": "leetcode_env",
   "language": "python",
   "name": "leetcode_env"
  },
  "language_info": {
   "codemirror_mode": {
    "name": "ipython",
    "version": 3
   },
   "file_extension": ".py",
   "mimetype": "text/x-python",
   "name": "python",
   "nbconvert_exporter": "python",
   "pygments_lexer": "ipython3",
   "version": "3.8.6"
  }
 },
 "nbformat": 4,
 "nbformat_minor": 2
}
