{
 "cells": [
  {
   "cell_type": "markdown",
   "metadata": {},
   "source": [
    "## Method1 - Greedy\n",
    "\n",
    "https://www.youtube.com/watch?v=amnrMCVd2YI"
   ]
  },
  {
   "cell_type": "code",
   "execution_count": 2,
   "metadata": {},
   "outputs": [
    {
     "name": "stdout",
     "output_type": "stream",
     "text": [
      "True\n"
     ]
    }
   ],
   "source": [
    "import heapq\n",
    "def isNStraightHand(hand, groupSize):\n",
    "    if len(hand) % groupSize:\n",
    "        return False\n",
    "\n",
    "    count = {}\n",
    "    for n in hand:\n",
    "        count[n] = 1 + count.get(n, 0)\n",
    "\n",
    "    minH = list(count.keys())\n",
    "    heapq.heapify(minH)\n",
    "    while minH:\n",
    "        first = minH[0]\n",
    "        for i in range(first, first + groupSize):\n",
    "            if i not in count:\n",
    "                return False\n",
    "            count[i] -= 1\n",
    "            if count[i] == 0:\n",
    "                if i != minH[0]:\n",
    "                    return False\n",
    "                heapq.heappop(minH)\n",
    "    return True\n",
    "print(isNStraightHand(hand = [1,2,3,6,2,3,4,7,8], groupSize = 3))"
   ]
  }
 ],
 "metadata": {
  "kernelspec": {
   "display_name": "leetcode_env",
   "language": "python",
   "name": "python3"
  },
  "language_info": {
   "codemirror_mode": {
    "name": "ipython",
    "version": 3
   },
   "file_extension": ".py",
   "mimetype": "text/x-python",
   "name": "python",
   "nbconvert_exporter": "python",
   "pygments_lexer": "ipython3",
   "version": "3.8.6"
  }
 },
 "nbformat": 4,
 "nbformat_minor": 2
}
