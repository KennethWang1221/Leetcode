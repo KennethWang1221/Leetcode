{
 "cells": [
  {
   "cell_type": "markdown",
   "metadata": {},
   "source": [
    "## Method1 - DFS\n",
    "\n",
    "https://www.youtube.com/watch?v=j8KrBYIxHK8"
   ]
  },
  {
   "cell_type": "code",
   "execution_count": 1,
   "metadata": {},
   "outputs": [
    {
     "name": "stdout",
     "output_type": "stream",
     "text": [
      "5\n"
     ]
    }
   ],
   "source": [
    "def regionsBySlashes(grid):\n",
    "    rows1, cols1 = len(grid), len(grid[0])\n",
    "    rows2, cols2 = 3 * rows1, 3 * cols1\n",
    "    grid2 = [[0] * cols2 for _ in range(rows2)]\n",
    "\n",
    "    for r in range(rows1):\n",
    "        for c in range(cols1):\n",
    "            r2, c2 = r * 3, c * 3\n",
    "            if grid[r][c] == '/':\n",
    "                grid2[r2][c2+2] = 1\n",
    "                grid2[r2+1][c2+1] = 1\n",
    "                grid2[r2+2][c2] = 1\n",
    "            elif grid[r][c] == '\\\\':\n",
    "                grid2[r2][c2] = 1\n",
    "                grid2[r2+1][c2+1] = 1\n",
    "                grid2[r2+2][c2+2] = 1\n",
    "    \n",
    "    def dfs(r,c,visit):\n",
    "        if (\n",
    "            r < 0 or c < 0 or r == rows2 or c == cols2 or grid2[r][c]!=0 or (r,c) in visit\n",
    "        ):\n",
    "            return \n",
    "        visit.add((r,c))\n",
    "        neighbors = [[r-1,c], [r+1,c], [r,c-1],[r,c+1]]\n",
    "        for nr, nc in neighbors:\n",
    "            dfs(nr,nc, visit)\n",
    "\n",
    "    \n",
    "    visit = set()\n",
    "    res = 0\n",
    "    for r in range(rows2):\n",
    "        for c in range(cols2):\n",
    "            if grid2[r][c] == 0 and (r,c) not in visit:\n",
    "                dfs(r,c,visit)\n",
    "                res += 1\n",
    "    return res\n",
    "print(regionsBySlashes(grid = [\"/\\\\\",\"\\\\/\"]))"
   ]
  }
 ],
 "metadata": {
  "kernelspec": {
   "display_name": "leetcode_env",
   "language": "python",
   "name": "python3"
  },
  "language_info": {
   "codemirror_mode": {
    "name": "ipython",
    "version": 3
   },
   "file_extension": ".py",
   "mimetype": "text/x-python",
   "name": "python",
   "nbconvert_exporter": "python",
   "pygments_lexer": "ipython3",
   "version": "3.8.6"
  }
 },
 "nbformat": 4,
 "nbformat_minor": 2
}
