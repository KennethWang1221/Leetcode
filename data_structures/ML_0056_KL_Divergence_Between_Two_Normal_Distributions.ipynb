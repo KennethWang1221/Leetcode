{
 "cells": [
  {
   "cell_type": "markdown",
   "metadata": {},
   "source": [
    "# Method1 - ML - KL Divergence Between Two Normal Distributions\n",
    "\n",
    "## 1. Introduction to KL Divergence\n",
    "\n",
    "The Kullback-Leibler (KL) divergence measures how one probability distribution (P) diverges from another probability distribution (Q). Mathematically, it's defined as:\n",
    "\n",
    "$$\n",
    "KL(P \\| Q) = \\int P(x) \\log\\frac{P(x)}{Q(x)} dx\n",
    "$$\n",
    "\n",
    "## 2. Step-by-step Derivation for Normal (Gaussian) Distributions\n",
    "\n",
    "### Step 1: PDF of Normal Distributions\n",
    "Consider two Normal distributions:\n",
    "\n",
    "$$\n",
    "P(x) \\sim N(\\mu_p, \\sigma_p^2), \\quad Q(x) \\sim N(\\mu_q, \\sigma_q^2)\n",
    "$$\n",
    "\n",
    "Their probability density functions (PDFs) are:\n",
    "\n",
    "$$\n",
    "P(x) = \\frac{1}{\\sqrt{2\\pi}\\sigma_p} \\exp\\left(-\\frac{(x - \\mu_p)^2}{2\\sigma_p^2}\\right), \\quad Q(x) = \\frac{1}{\\sqrt{2\\pi}\\sigma_q} \\exp\\left(-\\frac{(x - \\mu_q)^2}{2\\sigma_q^2}\\right)\n",
    "$$\n",
    "\n",
    "### Step 2: Substitute PDFs into KL Divergence\n",
    "\n",
    "$$\n",
    "KL(P \\| Q) = \\int_{-\\infty}^{\\infty} P(x) \\log\\frac{\\frac{1}{\\sqrt{2\\pi}\\sigma_p}\\exp\\left(-\\frac{(x - \\mu_p)^2}{2\\sigma_p^2}\\right)}{\\frac{1}{\\sqrt{2\\pi}\\sigma_q}\\exp\\left(-\\frac{(x - \\mu_q)^2}{2\\sigma_q^2}\\right)} dx\n",
    "$$\n",
    "\n",
    "Simplifying the logarithm:\n",
    "\n",
    "$$\n",
    "KL(P \\| Q) = \\int_{-\\infty}^{\\infty} P(x)\\left[\\log\\frac{\\sigma_q}{\\sigma_p} - \\frac{(x - \\mu_p)^2}{2\\sigma_p^2} + \\frac{(x - \\mu_q)^2}{2\\sigma_q^2}\\right] dx\n",
    "$$\n",
    "\n",
    "### Step 3: Split Integrals and Evaluate\n",
    "\n",
    "Since \\(\\int_{-\\infty}^{\\infty} P(x) dx = 1\\) and knowing the integrals involving Gaussian properties:\n",
    "\n",
    "$$\n",
    "\\int_{-\\infty}^{\\infty}(x - \\mu_p)^2P(x)dx = \\sigma_p^2\n",
    "$$\n",
    "$$\n",
    "\\int_{-\\infty}^{\\infty}(x - \\mu_q)^2P(x)dx = \\sigma_p^2 + (\\mu_p - \\mu_q)^2\n",
    "$$\n",
    "\n",
    "Thus:\n",
    "\n",
    "$$\n",
    "KL(P \\| Q) = \\log\\frac{\\sigma_q}{\\sigma_p} - \\frac{1}{2} + \\frac{\\sigma_p^2 + (\\mu_p - \\mu_q)^2}{2\\sigma_q^2}\n",
    "$$\n",
    "\n",
    "### Step 4: Final Formula\n",
    "\n",
    "Rearranging terms clearly:\n",
    "\n",
    "$$\n",
    "\\boxed{KL(P \\| Q) = \\log\\frac{\\sigma_q}{\\sigma_p} + \\frac{\\sigma_p^2 + (\\mu_p - \\mu_q)^2}{2\\sigma_q^2} - \\frac{1}{2}}\n",
    "$$\n",
    "\n",
    "\n",
    "## 5. Interpretation\n",
    "\n",
    "- A KL divergence of 0 indicates identical distributions.\n",
    "- A larger KL divergence indicates greater divergence between distributions.\n"
   ]
  },
  {
   "cell_type": "code",
   "execution_count": 1,
   "metadata": {},
   "outputs": [
    {
     "name": "stdout",
     "output_type": "stream",
     "text": [
      "KL Divergence between P and Q: 0.5\n"
     ]
    }
   ],
   "source": [
    "import numpy as np\n",
    "\n",
    "def kl_divergence_normal(mu_p, sigma_p, mu_q, sigma_q):\n",
    "    log_term = np.log(sigma_q / sigma_p)\n",
    "    variance_ratio = (sigma_p**2) / (sigma_q**2)\n",
    "    mean_diff_squared = ((mu_p - mu_q)**2) / (sigma_q**2)\n",
    "\n",
    "    kl_div = log_term + (variance_ratio + mean_diff_squared - 1) / 2.0\n",
    "    \n",
    "    return kl_div\n",
    "\n",
    "mu_p = 0.0\n",
    "sigma_p = 1.0\n",
    "mu_q = 1.0\n",
    "sigma_q = 1.0\n",
    "\n",
    "kl_result = kl_divergence_normal(mu_p, sigma_p, mu_q, sigma_q)\n",
    "print(f\"KL Divergence between P and Q: {kl_result}\")"
   ]
  },
  {
   "cell_type": "code",
   "execution_count": null,
   "metadata": {},
   "outputs": [],
   "source": []
  }
 ],
 "metadata": {
  "kernelspec": {
   "display_name": "leetcode_env",
   "language": "python",
   "name": "python3"
  },
  "language_info": {
   "codemirror_mode": {
    "name": "ipython",
    "version": 3
   },
   "file_extension": ".py",
   "mimetype": "text/x-python",
   "name": "python",
   "nbconvert_exporter": "python",
   "pygments_lexer": "ipython3",
   "version": "3.8.6"
  }
 },
 "nbformat": 4,
 "nbformat_minor": 2
}
