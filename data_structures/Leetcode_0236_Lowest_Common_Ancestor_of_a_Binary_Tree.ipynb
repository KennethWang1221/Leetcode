{
 "cells": [
  {
   "cell_type": "markdown",
   "metadata": {},
   "source": [
    "## Method1 - DFS\n",
    "https://www.youtube.com/watch?v=gs2LMfuOR9k"
   ]
  },
  {
   "cell_type": "code",
   "execution_count": 2,
   "metadata": {},
   "outputs": [
    {
     "name": "stdout",
     "output_type": "stream",
     "text": [
      "LCA of 5 and 1: 3\n",
      "LCA of 6 and 4: 5\n"
     ]
    }
   ],
   "source": [
    "class TreeNode:\n",
    "    def __init__(self, x):\n",
    "        self.val = x\n",
    "        self.left = None\n",
    "        self.right = None\n",
    "\n",
    "class Solution:\n",
    "    def lowestCommonAncestor(self, root: 'TreeNode', p: 'TreeNode', q: 'TreeNode') -> 'TreeNode':\n",
    "        if not root or root == p or root == q:\n",
    "            return root\n",
    "\n",
    "        left = self.lowestCommonAncestor(root.left, p, q)\n",
    "        right = self.lowestCommonAncestor(root.right, p, q)\n",
    "\n",
    "        if left and right:\n",
    "            return root\n",
    "\n",
    "        return left if left else right\n",
    "\n",
    "# Helper to build the tree\n",
    "def buildSampleTree():\n",
    "    root = TreeNode(3)\n",
    "    root.left = TreeNode(5)\n",
    "    root.right = TreeNode(1)\n",
    "    root.left.left = TreeNode(6)\n",
    "    root.left.right = TreeNode(2)\n",
    "    root.left.right.left = TreeNode(7)\n",
    "    root.left.right.right = TreeNode(4)\n",
    "    root.right.left = TreeNode(0)\n",
    "    root.right.right = TreeNode(8)\n",
    "    return root\n",
    "\n",
    "# Test case\n",
    "if __name__ == \"__main__\":\n",
    "    root = buildSampleTree()\n",
    "    sol = Solution()\n",
    "\n",
    "    p = root.left  # 5\n",
    "    q = root.right  # 1\n",
    "    lca = sol.lowestCommonAncestor(root, p, q)\n",
    "    print(f\"LCA of {p.val} and {q.val}: {lca.val}\")  # Expected: 3\n",
    "\n",
    "    p = root.left.left  # 6\n",
    "    q = root.left.right.right  # 4\n",
    "    lca = sol.lowestCommonAncestor(root, p, q)\n",
    "    print(f\"LCA of {p.val} and {q.val}: {lca.val}\")  # Expected: 2"
   ]
  },
  {
   "cell_type": "markdown",
   "metadata": {},
   "source": [
    "## Method2\n",
    "https://github.com/youngyangyang04/leetcode-master/blob/master/problems/0236.%E4%BA%8C%E5%8F%89%E6%A0%91%E7%9A%84%E6%9C%80%E8%BF%91%E5%85%AC%E5%85%B1%E7%A5%96%E5%85%88.md"
   ]
  },
  {
   "cell_type": "code",
   "execution_count": 5,
   "metadata": {},
   "outputs": [
    {
     "name": "stdout",
     "output_type": "stream",
     "text": [
      "<__main__.TreeNode object at 0x118ae18e0>\n"
     ]
    }
   ],
   "source": [
    "class TreeNode(object):\n",
    "    def __init__(self, x):\n",
    "        if x == None:\n",
    "            self.val = None\n",
    "        else:\n",
    "            self.val = x\n",
    "        self.left = None\n",
    "        self.right = None \n",
    "\n",
    "def lowestCommonAncestor(root, p, q):\n",
    "    if root == None or root == p or root == q:\n",
    "        return root\n",
    "    \n",
    "    left = lowestCommonAncestor(root.left, p, q)\n",
    "    right = lowestCommonAncestor(root.right, p, q)\n",
    "    \n",
    "    if left and right:\n",
    "        return root\n",
    "    if left:\n",
    "        return left\n",
    "    return right\n",
    "    \n",
    "    \n",
    "n1 = TreeNode(3)\n",
    "n2 = TreeNode(5)\n",
    "n3 = TreeNode(1)\n",
    "n4 = TreeNode(6)\n",
    "n5 = TreeNode(2)\n",
    "n6 = TreeNode(0)\n",
    "n7 = TreeNode(8)\n",
    "n8 = TreeNode(7)\n",
    "n9 = TreeNode(4)\n",
    "\n",
    "n1.left = n2\n",
    "n1.right = n3\n",
    "n2.left = n4\n",
    "n2.right = n5\n",
    "n3.left = n6\n",
    "n3.right = n7\n",
    "n5.left = n8\n",
    "n5.right = n9\n",
    "p, q = n2, n3 \n",
    "res = lowestCommonAncestor(n1, p, q)\n",
    "print(res)"
   ]
  },
  {
   "cell_type": "code",
   "execution_count": 3,
   "metadata": {},
   "outputs": [
    {
     "name": "stdout",
     "output_type": "stream",
     "text": [
      "\n",
      "    ______3__\n",
      "   /         \\\n",
      "  5__         1\n",
      " /   \\       / \\\n",
      "6     2     0   8\n",
      "     / \\\n",
      "    7   4\n",
      "\n"
     ]
    }
   ],
   "source": [
    "from binarytree import tree, bst, heap, Node\n",
    "n1 = Node(3)\n",
    "n2 = Node(5)\n",
    "n3 = Node(1)\n",
    "n4 = Node(6)\n",
    "n5 = Node(2)\n",
    "n6 = Node(0)\n",
    "n7 = Node(8)\n",
    "n8 = Node(7)\n",
    "n9 = Node(4)\n",
    "\n",
    "n1.left = n2\n",
    "n1.right = n3\n",
    "n2.left = n4\n",
    "n2.right = n5\n",
    "n3.left = n6\n",
    "n3.right = n7\n",
    "n5.left = n8\n",
    "n5.right = n9\n",
    "print(n1)"
   ]
  }
 ],
 "metadata": {
  "kernelspec": {
   "display_name": "leetcode_env",
   "language": "python",
   "name": "python3"
  },
  "language_info": {
   "codemirror_mode": {
    "name": "ipython",
    "version": 3
   },
   "file_extension": ".py",
   "mimetype": "text/x-python",
   "name": "python",
   "nbconvert_exporter": "python",
   "pygments_lexer": "ipython3",
   "version": "3.8.6"
  },
  "orig_nbformat": 4
 },
 "nbformat": 4,
 "nbformat_minor": 2
}
