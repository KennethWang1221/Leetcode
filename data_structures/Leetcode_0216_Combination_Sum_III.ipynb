{
 "cells": [
  {
   "cell_type": "markdown",
   "metadata": {},
   "source": [
    "## Method1 - Backtracking - Recap\n",
    "\n",
    "Same idea to 0077, 0216, 0017, 0039, 0040, 0131, 0093, 0078\n",
    "\n",
    "https://github.com/youngyangyang04/leetcode-master/blob/master/problems/0216.%E7%BB%84%E5%90%88%E6%80%BB%E5%92%8CIII.md"
   ]
  },
  {
   "cell_type": "code",
   "execution_count": 9,
   "metadata": {},
   "outputs": [
    {
     "name": "stdout",
     "output_type": "stream",
     "text": [
      "[[1, 2, 4]]\n"
     ]
    }
   ],
   "source": [
    "def combinationSum3(k, n):\n",
    "\n",
    "    def backtracking(target, k, start, comb, total, res):\n",
    "        if len(comb) == k and total == target:\n",
    "            res.append(comb[:])\n",
    "            return\n",
    "        if total > target:  # 剪枝操作\n",
    "            return  # 如果comb的长度等于k但total不等于target，则直接返回\n",
    "                \n",
    "        for i in range(start, 9+1):  # 剪枝\n",
    "            total += i  # 处理\n",
    "            comb.append(i)  # 处理\n",
    "            backtracking(target, k, i + 1, comb, total, res)  # 注意i+1调整start\n",
    "            total -= i  # 回溯\n",
    "            comb.pop()  # 回溯\n",
    "\n",
    "\n",
    "    res = []  # 存放结果集\n",
    "    backtracking(n, k, 1, [], 0, res)\n",
    "    return res\n",
    "\n",
    "k = 3\n",
    "n = 7\n",
    "print(combinationSum3(k,n))\n"
   ]
  },
  {
   "cell_type": "markdown",
   "metadata": {},
   "source": [
    "## Method2 - DIY - Backtracking\n",
    "\n",
    "                                     []\n",
    "                               /      |       \\\n",
    "                             1        2         3\n",
    "                           /  \\      /  |     /  | \\\n",
    "                         2     3     3  4    4   5  6\n",
    "                        /|  \\   \\    |  |    |   |  |\n",
    "                       3 4 .. 6  5   5  6    5   6  7\n",
    "                      /|  |   |   |  |  |    |   |\n",
    "                 [1,2,6] valid   [2,3,4] valid  [3,5,6] exceeds target\n",
    "\n",
    "                   ...\n",
    "\n",
    "\n",
    "void backtracking(参数) {\n",
    "    if (终止条件) {\n",
    "        存放结果;\n",
    "        return;\n",
    "    }\n",
    "\n",
    "    for (选择：本层集合中元素（树中节点孩子的数量就是集合的大小）) {\n",
    "        处理节点;\n",
    "        backtracking(路径，选择列表); // 递归\n",
    "        回溯，撤销处理结果\n",
    "    }\n",
    "}\n",
    "\n"
   ]
  },
  {
   "cell_type": "code",
   "execution_count": 10,
   "metadata": {},
   "outputs": [
    {
     "name": "stdout",
     "output_type": "stream",
     "text": [
      "[[1, 2, 4]]\n"
     ]
    }
   ],
   "source": [
    "def combinationSum3(k,n):\n",
    "    def backtracking(start, comb, total):\n",
    "        if len(comb) == k and total == n:\n",
    "            res.append(comb.copy())\n",
    "            return res\n",
    "        if len(comb) == k and total != n:\n",
    "            return\n",
    "\n",
    "        \"\"\"\n",
    "        Note: the prolems say Only numbers 1 through 9 are used.\n",
    "        so should be for i in range(start, 9+1): not n+1\n",
    "        \"\"\"\n",
    "        for i in range(start, 9+1):\n",
    "            # if total + i > n: break # with this condition or without both ok \n",
    "            comb.append(i)\n",
    "            total += i \n",
    "            backtracking(i+1, comb, total)\n",
    "            total -= i\n",
    "            comb.pop(-1)\n",
    "\n",
    "    res = []\n",
    "    backtracking(1, [], 0)\n",
    "    return res\n",
    "\n",
    "print(combinationSum3(k=3,n=9))"
   ]
  },
  {
   "cell_type": "markdown",
   "metadata": {},
   "source": [
    "## Failure - DIY - Backtracking - Time Limit Exceeded!!!"
   ]
  },
  {
   "cell_type": "code",
   "execution_count": 11,
   "metadata": {},
   "outputs": [
    {
     "name": "stdout",
     "output_type": "stream",
     "text": [
      "[[1, 2, 6], [1, 3, 5], [2, 3, 4]]\n"
     ]
    }
   ],
   "source": [
    "def combinationSum3(k,n):\n",
    "    def backtracking(start, comb, total):\n",
    "        if len(comb) == k and total == n:\n",
    "            res.append(comb.copy())\n",
    "            return res\n",
    "        if len(comb) == k and total != n:\n",
    "            return\n",
    "\n",
    "        \"\"\"\n",
    "        Note: the prolems say Only numbers 1 through 9 are used.\n",
    "        so should be for i in range(start, 9+1): not n+1\n",
    "        \"\"\"\n",
    "        for i in range(start, n+1):\n",
    "            # if total + i > n: break # with this condition or without both ok \n",
    "            comb.append(i)\n",
    "            total += i \n",
    "            backtracking(i+1, comb, total)\n",
    "            total -= i\n",
    "            comb.pop(-1)\n",
    "\n",
    "    res = []\n",
    "    backtracking(1, [], 0)\n",
    "    return res\n",
    "\n",
    "print(combinationSum3(k=3,n=9))"
   ]
  }
 ],
 "metadata": {
  "kernelspec": {
   "display_name": "leetcode_env",
   "language": "python",
   "name": "leetcode_env"
  },
  "language_info": {
   "codemirror_mode": {
    "name": "ipython",
    "version": 3
   },
   "file_extension": ".py",
   "mimetype": "text/x-python",
   "name": "python",
   "nbconvert_exporter": "python",
   "pygments_lexer": "ipython3",
   "version": "3.8.6"
  }
 },
 "nbformat": 4,
 "nbformat_minor": 2
}
