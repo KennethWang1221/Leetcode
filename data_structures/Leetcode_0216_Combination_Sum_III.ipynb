{
 "cells": [
  {
   "cell_type": "markdown",
   "metadata": {},
   "source": [
    "## Method1 - Backtracking\n",
    "https://github.com/youngyangyang04/leetcode-master/blob/master/problems/0216.%E7%BB%84%E5%90%88%E6%80%BB%E5%92%8CIII.md"
   ]
  },
  {
   "cell_type": "code",
   "execution_count": 1,
   "metadata": {},
   "outputs": [
    {
     "name": "stdout",
     "output_type": "stream",
     "text": [
      "[[1, 2, 4]]\n"
     ]
    }
   ],
   "source": [
    "def combinationSum3(k, n):\n",
    "\n",
    "    def backtracking(targetSum, k, currentSum, startIndex, path, result):\n",
    "        if currentSum > targetSum:  # 剪枝操作\n",
    "            return  # 如果path的长度等于k但currentSum不等于targetSum，则直接返回\n",
    "        if len(path) == k:\n",
    "            if currentSum == targetSum:\n",
    "                result.append(path[:])\n",
    "            return\n",
    "        for i in range(startIndex, 9 - (k - len(path)) + 2):  # 剪枝\n",
    "            currentSum += i  # 处理\n",
    "            path.append(i)  # 处理\n",
    "            backtracking(targetSum, k, currentSum, i + 1, path, result)  # 注意i+1调整startIndex\n",
    "            currentSum -= i  # 回溯\n",
    "            path.pop()  # 回溯\n",
    "\n",
    "\n",
    "    result = []  # 存放结果集\n",
    "    backtracking(n, k, 0, 1, [], result)\n",
    "    return result\n",
    "\n",
    "k = 3\n",
    "n = 7\n",
    "print(combinationSum3(k,n))\n"
   ]
  }
 ],
 "metadata": {
  "kernelspec": {
   "display_name": "leetcode_env",
   "language": "python",
   "name": "leetcode_env"
  },
  "language_info": {
   "codemirror_mode": {
    "name": "ipython",
    "version": 3
   },
   "file_extension": ".py",
   "mimetype": "text/x-python",
   "name": "python",
   "nbconvert_exporter": "python",
   "pygments_lexer": "ipython3",
   "version": "3.8.6"
  }
 },
 "nbformat": 4,
 "nbformat_minor": 2
}
