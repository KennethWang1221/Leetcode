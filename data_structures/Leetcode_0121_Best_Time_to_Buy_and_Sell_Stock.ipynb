{
 "cells": [
  {
   "attachments": {},
   "cell_type": "markdown",
   "metadata": {},
   "source": [
    "## Method1 - DIY - Failure - Time Limit Exceeded"
   ]
  },
  {
   "cell_type": "code",
   "execution_count": 6,
   "metadata": {},
   "outputs": [
    {
     "name": "stdout",
     "output_type": "stream",
     "text": [
      "5\n"
     ]
    }
   ],
   "source": [
    "def maxProfit(prices):\n",
    "    res = []\n",
    "    n = len(prices)\n",
    "    \n",
    "    value = 0\n",
    "    for l in range(n):\n",
    "        for r in range(l+1,n):\n",
    "            value = max(prices[r] - prices[l], value)\n",
    "\n",
    "    return value\n",
    "\n",
    "prices = [7,1,5,3,6,4]\n",
    "res = maxProfit(prices)\n",
    "print(res)"
   ]
  },
  {
   "attachments": {},
   "cell_type": "markdown",
   "metadata": {},
   "source": [
    "## Method2 - Sliding Window\n",
    "https://www.youtube.com/watch?v=1pkOgXD63yU"
   ]
  },
  {
   "cell_type": "code",
   "execution_count": 8,
   "metadata": {},
   "outputs": [
    {
     "name": "stdout",
     "output_type": "stream",
     "text": [
      "5\n"
     ]
    }
   ],
   "source": [
    "def maxProfit(prices):\n",
    "    l, r, n = 0, 1, len(prices)\n",
    "    maxP = 0\n",
    "\n",
    "    while r<n:\n",
    "        if prices[l] < prices[r]:\n",
    "            profit = prices[r] - prices[l]\n",
    "            maxP = max(maxP, profit)\n",
    "        else:\n",
    "            l = r\n",
    "        \n",
    "        r+=1\n",
    "    \n",
    "    return maxP\n",
    "\n",
    "prices = [7,1,5,3,6,4]\n",
    "res = maxProfit(prices)\n",
    "print(res)"
   ]
  }
 ],
 "metadata": {
  "kernelspec": {
   "display_name": "leetcode_env",
   "language": "python",
   "name": "leetcode_env"
  },
  "language_info": {
   "codemirror_mode": {
    "name": "ipython",
    "version": 3
   },
   "file_extension": ".py",
   "mimetype": "text/x-python",
   "name": "python",
   "nbconvert_exporter": "python",
   "pygments_lexer": "ipython3",
   "version": "3.8.6"
  },
  "orig_nbformat": 4
 },
 "nbformat": 4,
 "nbformat_minor": 2
}
