{
 "cells": [
  {
   "cell_type": "markdown",
   "metadata": {},
   "source": [
    "## Method1 - Backtracking - Recap\n",
    "\n",
    "Same idea to 0077, 0216, 0017, 0039, 0040, 0131, 0093, 0078, 0090, 0491\n",
    "\n",
    "https://github.com/youngyangyang04/leetcode-master/blob/master/problems/0491.%E9%80%92%E5%A2%9E%E5%AD%90%E5%BA%8F%E5%88%97.md"
   ]
  },
  {
   "cell_type": "markdown",
   "metadata": {},
   "source": [
    "回溯 利用set去重"
   ]
  },
  {
   "cell_type": "code",
   "execution_count": 6,
   "metadata": {},
   "outputs": [
    {
     "name": "stdout",
     "output_type": "stream",
     "text": [
      "[[4, 7], [4, 7, 7], [4, 6], [4, 6, 7], [7, 7], [6, 7]]\n"
     ]
    }
   ],
   "source": [
    "def findSubsequences(nums):\n",
    "    def backtracking(nums, start, comb, res):\n",
    "        if len(comb) > 1:\n",
    "            res.append(comb[:])  # 注意要使用切片将当前路径的副本加入结果集\n",
    "            # 注意这里不要加return，要取树上的节点\n",
    "        \n",
    "        uset = set()  # 使用集合对本层元素进行去重\n",
    "        for i in range(start, n):\n",
    "            if (comb and nums[i] < comb[-1]) or nums[i] in uset:\n",
    "                continue\n",
    "            \n",
    "            uset.add(nums[i])  # 记录这个元素在本层用过了，本层后面不能再用了\n",
    "            comb.append(nums[i])\n",
    "            backtracking(nums, i + 1, comb, res)\n",
    "            comb.pop()\n",
    "\n",
    "    res = []\n",
    "    n = len(nums)\n",
    "    comb = []\n",
    "    backtracking(nums, 0, comb, res)\n",
    "    return res\n",
    "print(findSubsequences(nums = [4,7,6,7]))"
   ]
  },
  {
   "cell_type": "markdown",
   "metadata": {},
   "source": [
    "回溯 利用哈希表去重"
   ]
  },
  {
   "cell_type": "code",
   "execution_count": 2,
   "metadata": {},
   "outputs": [
    {
     "name": "stdout",
     "output_type": "stream",
     "text": [
      "[[4, 6], [4, 6, 7], [4, 6, 7, 7], [4, 7], [4, 7, 7], [6, 7], [6, 7, 7], [7, 7]]\n"
     ]
    }
   ],
   "source": [
    "def findSubsequences(nums):\n",
    "    def backtracking(nums, start, comb, res):\n",
    "        if len(comb) > 1:\n",
    "            res.append(comb[:])  # 注意要使用切片将当前路径的副本加入结果集\n",
    "        \n",
    "        used = [0] * 201  # 使用数组来进行去重操作，题目说数值范围[-100, 100]\n",
    "        for i in range(start, n):\n",
    "            if (comb and nums[i] < comb[-1]) or used[nums[i] + 100] == 1:\n",
    "                continue  # 如果当前元素小于上一个元素，或者已经使用过当前元素，则跳过当前元素\n",
    "            \n",
    "            used[nums[i] + 100] = 1  # 标记当前元素已经使用过\n",
    "            comb.append(nums[i])  # 将当前元素加入当前递增子序列\n",
    "            backtracking(nums, i + 1, comb, res)\n",
    "            comb.pop()\n",
    "    res = []\n",
    "    comb = []\n",
    "    n = len(nums)\n",
    "    backtracking(nums, 0, comb, res)\n",
    "    return res\n",
    "print(findSubsequences(nums = [4,6,7,7]))"
   ]
  }
 ],
 "metadata": {
  "kernelspec": {
   "display_name": "leetcode_env",
   "language": "python",
   "name": "python3"
  },
  "language_info": {
   "codemirror_mode": {
    "name": "ipython",
    "version": 3
   },
   "file_extension": ".py",
   "mimetype": "text/x-python",
   "name": "python",
   "nbconvert_exporter": "python",
   "pygments_lexer": "ipython3",
   "version": "3.8.6"
  }
 },
 "nbformat": 4,
 "nbformat_minor": 2
}
