{
 "cells": [
  {
   "cell_type": "markdown",
   "metadata": {},
   "source": [
    "## Method1 - Backtracking\n",
    "https://github.com/youngyangyang04/leetcode-master/blob/master/problems/0491.%E9%80%92%E5%A2%9E%E5%AD%90%E5%BA%8F%E5%88%97.md"
   ]
  },
  {
   "cell_type": "markdown",
   "metadata": {},
   "source": [
    "回溯 利用set去重"
   ]
  },
  {
   "cell_type": "code",
   "execution_count": 2,
   "metadata": {},
   "outputs": [
    {
     "name": "stdout",
     "output_type": "stream",
     "text": [
      "[[4, 6], [4, 6, 7], [4, 6, 7, 7], [4, 7], [4, 7, 7], [6, 7], [6, 7, 7], [7, 7]]\n"
     ]
    }
   ],
   "source": [
    "def findSubsequences(nums):\n",
    "    def backtracking(nums, startIndex, path, result):\n",
    "        if len(path) > 1:\n",
    "            result.append(path[:])  # 注意要使用切片将当前路径的副本加入结果集\n",
    "            # 注意这里不要加return，要取树上的节点\n",
    "        \n",
    "        uset = set()  # 使用集合对本层元素进行去重\n",
    "        for i in range(startIndex, len(nums)):\n",
    "            if (path and nums[i] < path[-1]) or nums[i] in uset:\n",
    "                continue\n",
    "            \n",
    "            uset.add(nums[i])  # 记录这个元素在本层用过了，本层后面不能再用了\n",
    "            path.append(nums[i])\n",
    "            backtracking(nums, i + 1, path, result)\n",
    "            path.pop()\n",
    "\n",
    "    result = []\n",
    "    path = []\n",
    "    backtracking(nums, 0, path, result)\n",
    "    return result\n",
    "print(findSubsequences(nums = [4,6,7,7]))"
   ]
  },
  {
   "cell_type": "markdown",
   "metadata": {},
   "source": [
    "回溯 利用哈希表去重"
   ]
  },
  {
   "cell_type": "code",
   "execution_count": 1,
   "metadata": {},
   "outputs": [
    {
     "name": "stdout",
     "output_type": "stream",
     "text": [
      "[[4, 6], [4, 6, 7], [4, 6, 7, 7], [4, 7], [4, 7, 7], [6, 7], [6, 7, 7], [7, 7]]\n"
     ]
    }
   ],
   "source": [
    "def findSubsequences(nums):\n",
    "    def backtracking(nums, startIndex, path, result):\n",
    "        if len(path) > 1:\n",
    "            result.append(path[:])  # 注意要使用切片将当前路径的副本加入结果集\n",
    "        \n",
    "        used = [0] * 201  # 使用数组来进行去重操作，题目说数值范围[-100, 100]\n",
    "        for i in range(startIndex, len(nums)):\n",
    "            if (path and nums[i] < path[-1]) or used[nums[i] + 100] == 1:\n",
    "                continue  # 如果当前元素小于上一个元素，或者已经使用过当前元素，则跳过当前元素\n",
    "            \n",
    "            used[nums[i] + 100] = 1  # 标记当前元素已经使用过\n",
    "            path.append(nums[i])  # 将当前元素加入当前递增子序列\n",
    "            backtracking(nums, i + 1, path, result)\n",
    "            path.pop()\n",
    "    result = []\n",
    "    path = []\n",
    "    backtracking(nums, 0, path, result)\n",
    "    return result\n",
    "print(findSubsequences(nums = [4,6,7,7]))"
   ]
  }
 ],
 "metadata": {
  "kernelspec": {
   "display_name": "leetcode_env",
   "language": "python",
   "name": "leetcode_env"
  },
  "language_info": {
   "codemirror_mode": {
    "name": "ipython",
    "version": 3
   },
   "file_extension": ".py",
   "mimetype": "text/x-python",
   "name": "python",
   "nbconvert_exporter": "python",
   "pygments_lexer": "ipython3",
   "version": "3.8.6"
  }
 },
 "nbformat": 4,
 "nbformat_minor": 2
}
