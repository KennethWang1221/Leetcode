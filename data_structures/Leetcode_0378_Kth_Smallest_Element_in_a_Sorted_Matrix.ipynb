{
 "cells": [
  {
   "cell_type": "markdown",
   "metadata": {},
   "source": [
    "## Method1 - Heap"
   ]
  },
  {
   "cell_type": "code",
   "execution_count": 1,
   "metadata": {},
   "outputs": [
    {
     "name": "stdout",
     "output_type": "stream",
     "text": [
      "13\n"
     ]
    }
   ],
   "source": [
    "import heapq\n",
    "def kthSmallest(matrix, k):\n",
    "    n = len(matrix)\n",
    "    # Initialize a min-heap with the first element of each row.\n",
    "    # Each heap entry is a tuple: (value, row, col)\n",
    "    heap = [(matrix[i][0], i, 0) for i in range(n)]\n",
    "    heapq.heapify(heap)\n",
    "    \n",
    "    # Extract the smallest element k-1 times.\n",
    "    for _ in range(k - 1):\n",
    "        value, row, col = heapq.heappop(heap)\n",
    "        # If there is a next element in the same row, push it into the heap.\n",
    "        if col + 1 < n:\n",
    "            heapq.heappush(heap, (matrix[row][col + 1], row, col + 1))\n",
    "            \n",
    "    # The kth smallest element is now at the top of the heap.\n",
    "    return heap[0][0]\n",
    "matrix = [[1,5,9],[10,11,13],[12,13,15]]\n",
    "k = 8\n",
    "print(kthSmallest(matrix, k))"
   ]
  }
 ],
 "metadata": {
  "kernelspec": {
   "display_name": "leetcode_env",
   "language": "python",
   "name": "python3"
  },
  "language_info": {
   "codemirror_mode": {
    "name": "ipython",
    "version": 3
   },
   "file_extension": ".py",
   "mimetype": "text/x-python",
   "name": "python",
   "nbconvert_exporter": "python",
   "pygments_lexer": "ipython3",
   "version": "3.8.6"
  }
 },
 "nbformat": 4,
 "nbformat_minor": 2
}
