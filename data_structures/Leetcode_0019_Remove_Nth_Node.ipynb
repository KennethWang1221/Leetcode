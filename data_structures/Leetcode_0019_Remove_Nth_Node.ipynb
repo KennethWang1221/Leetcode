{
 "cells": [
  {
   "cell_type": "markdown",
   "metadata": {},
   "source": [
    "## Method1 - LinkedList"
   ]
  },
  {
   "cell_type": "code",
   "execution_count": 1,
   "metadata": {},
   "outputs": [
    {
     "name": "stdout",
     "output_type": "stream",
     "text": [
      "1,2,3,4,5,\n",
      "5\n",
      "1,2,3,5,\n"
     ]
    }
   ],
   "source": [
    "class ListNode:\n",
    "    def __init__(self, x):\n",
    "        self.val = x\n",
    "        self.next = None\n",
    "\n",
    "\n",
    "def make_list(arr):\n",
    "    head_node = None\n",
    "    p_node = None\n",
    "    for a in arr:\n",
    "        new_node = ListNode(a)\n",
    "        if head_node is None:\n",
    "            head_node = new_node\n",
    "            p_node = new_node\n",
    "        else:\n",
    "            p_node.next = new_node\n",
    "            p_node = new_node\n",
    "    return head_node\n",
    "\n",
    "\n",
    "def print_list(head):\n",
    "    while head is not None:\n",
    "        print(head.val, end=',')\n",
    "        head = head.next\n",
    "    print()\n",
    "\n",
    "\n",
    "class Solution:\n",
    "   def removeNthFromEnd(self, head: ListNode, n: int) -> ListNode:\n",
    "        \"\"\"\n",
    "        1. traverse the linkedlist, and use count variable to record the length of linkedlist\n",
    "        2. cause we have already change the index of cur, so we must re-place the cur to the initial position\n",
    "        3. set the while-loop conditional statement to control flow\n",
    "        4. Important, while length !=n : xxxx else xxx. Remember this idea \n",
    "        5. core code: cur.next = cur.next.next : this is code to delete/skip specific node!!!!\n",
    "        \"\"\"\n",
    "        if head == None:\n",
    "            return head\n",
    "        if head.next == None:\n",
    "            head = None\n",
    "            return head\n",
    "        \n",
    "        dummy = ListNode(0)\n",
    "        dummy.next = head\n",
    "        pre  = dummy\n",
    "        length = 0\n",
    "        cur = pre.next\n",
    "        \n",
    "        while cur !=None:\n",
    "            cur = cur.next\n",
    "            length +=1 # this while-loop aims to traverse the linkedlist and record the length of this linkedlist\n",
    "        print(length)\n",
    "        cur = pre # re-place the cur to the initial position\n",
    "        while length != n:\n",
    "            cur = cur.next\n",
    "            length -=1 # we should set length-=1, because before while-loop the length is 5, we should while-loop go head , so must set length-=1. \n",
    "        else:\n",
    "            cur.next = cur.next.next # delete specific node\n",
    "        \n",
    "        return dummy.next\n",
    "\n",
    "\n",
    "head = make_list([1, 2,3,4,5])\n",
    "print_list(head)\n",
    "s = Solution()\n",
    "n =2\n",
    "head = s.removeNthFromEnd(head,n)\n",
    "print_list(head)"
   ]
  },
  {
   "cell_type": "markdown",
   "metadata": {},
   "source": [
    "## Method2 - fast/slow pointer"
   ]
  },
  {
   "cell_type": "code",
   "execution_count": 4,
   "metadata": {},
   "outputs": [
    {
     "name": "stdout",
     "output_type": "stream",
     "text": [
      "1,2,\n",
      "2,\n"
     ]
    }
   ],
   "source": [
    "class ListNode:\n",
    "    def __init__(self, x):\n",
    "        self.val = x\n",
    "        self.next = None\n",
    "\n",
    "\n",
    "def make_list(arr):\n",
    "    head_node = None\n",
    "    p_node = None\n",
    "    for a in arr:\n",
    "        new_node = ListNode(a)\n",
    "        if head_node is None:\n",
    "            head_node = new_node\n",
    "            p_node = new_node\n",
    "        else:\n",
    "            p_node.next = new_node\n",
    "            p_node = new_node\n",
    "    return head_node\n",
    "\n",
    "\n",
    "def print_list(head):\n",
    "    while head is not None:\n",
    "        print(head.val, end=',')\n",
    "        head = head.next\n",
    "    print()\n",
    "\n",
    "\n",
    "class Solution:\n",
    "   def removeNthFromEnd(self, head: ListNode, n: int) -> ListNode:\n",
    "        \"\"\"\n",
    "        1. use fast/slow pointer to indicate the specific position\n",
    "        2. Important, please the end conditional of while-loop\n",
    "        3. Unlike the Method1, this Method2 is unique. The idea used in this alogorithm only used in this algorithm.\n",
    "            but for Method1, we involve how to traverse the linkedlist and how to let cur go head. These operations are common operations in many linkedlist problem\n",
    "            so I think we can learn the idea of Method2, and use Method1 in the practical problems. \n",
    "        \"\"\"\n",
    "        dummy = ListNode(0)\n",
    "        dummy.next = head\n",
    "        pre = dummy\n",
    "        \n",
    "        if head ==None:\n",
    "            return head\n",
    "        if head.next ==None:\n",
    "            head = None\n",
    "            return head\n",
    "        \n",
    "        fast = pre\n",
    "        slow = pre        \n",
    "        for i in range(n):\n",
    "            fast = fast.next # this is unusual code, which is used for this algorithm.\n",
    "        \n",
    "        while fast.next !=None:\n",
    "            fast = fast.next\n",
    "            slow = slow.next \n",
    "        slow.next = slow.next.next\n",
    "        return dummy.next\n",
    "\n",
    "head = make_list([1, 2])\n",
    "print_list(head)\n",
    "s = Solution()\n",
    "n =2\n",
    "head = s.removeNthFromEnd(head,n)\n",
    "print_list(head)\n",
    "\n",
    "        \n",
    "        "
   ]
  }
 ],
 "metadata": {
  "interpreter": {
   "hash": "846fd2d9bb562a436898b7cc368204fc2f9d44e5e9b051b4f6e855e721078f23"
  },
  "kernelspec": {
   "display_name": "leetcode_env",
   "language": "python",
   "name": "leetcode_env"
  },
  "language_info": {
   "codemirror_mode": {
    "name": "ipython",
    "version": 3
   },
   "file_extension": ".py",
   "mimetype": "text/x-python",
   "name": "python",
   "nbconvert_exporter": "python",
   "pygments_lexer": "ipython3",
   "version": "3.8.6"
  },
  "orig_nbformat": 4
 },
 "nbformat": 4,
 "nbformat_minor": 2
}
