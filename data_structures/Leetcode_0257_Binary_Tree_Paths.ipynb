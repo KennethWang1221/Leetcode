{
 "cells": [
  {
   "cell_type": "markdown",
   "metadata": {},
   "source": [
    "## Method1 - Recursive\n",
    "https://github.com/youngyangyang04/leetcode-master/blob/master/problems/0257.%E4%BA%8C%E5%8F%89%E6%A0%91%E7%9A%84%E6%89%80%E6%9C%89%E8%B7%AF%E5%BE%84.md"
   ]
  },
  {
   "cell_type": "code",
   "execution_count": 15,
   "metadata": {},
   "outputs": [
    {
     "name": "stdout",
     "output_type": "stream",
     "text": [
      "['1->2->5', '1->3']\n"
     ]
    }
   ],
   "source": [
    "class TreeNode(object):\n",
    "    def __init__(self, x):\n",
    "        if x == None:\n",
    "            self.val = None\n",
    "        else:\n",
    "            self.val = x\n",
    "        self.left = None\n",
    "        self.right = None \n",
    "\n",
    "\n",
    "def binaryTreePaths(root):\n",
    "    path = ''\n",
    "    result = []\n",
    "    if not root: return result\n",
    "    traversal(root, path, result)\n",
    "    return result\n",
    "    \n",
    "def traversal(cur, path, result):\n",
    "    path += str(cur.val)\n",
    "    # 若当前节点为leave，直接输出\n",
    "    #if not cur.left and not cur.right:\n",
    "    if cur.left == None and cur.right == None:\n",
    "        result.append(path)\n",
    "\n",
    "    if cur.left:\n",
    "        # + '->' 是隐藏回溯\n",
    "        traversal(cur.left, path + '->', result)\n",
    "    \n",
    "    if cur.right:\n",
    "        traversal(cur.right, path + '->', result)\n",
    "\n",
    "n1 = TreeNode(1)\n",
    "n2 = TreeNode(2)\n",
    "n3 = TreeNode(3)\n",
    "n4 = TreeNode(5)\n",
    "\n",
    "\n",
    "\n",
    "n1.left = n2\n",
    "n1.right = n3\n",
    "n2.right = n4\n",
    "\n",
    "res = binaryTreePaths(n1)\n",
    "print(res)"
   ]
  },
  {
   "cell_type": "markdown",
   "metadata": {},
   "source": [
    "## Method2-Iterative\n",
    "https://github.com/youngyangyang04/leetcode-master/blob/master/problems/0257.%E4%BA%8C%E5%8F%89%E6%A0%91%E7%9A%84%E6%89%80%E6%9C%89%E8%B7%AF%E5%BE%84.md"
   ]
  },
  {
   "cell_type": "code",
   "execution_count": 16,
   "metadata": {},
   "outputs": [
    {
     "name": "stdout",
     "output_type": "stream",
     "text": [
      "['1->2->5', '1->3']\n"
     ]
    }
   ],
   "source": [
    "class TreeNode(object):\n",
    "    def __init__(self, x):\n",
    "        if x == None:\n",
    "            self.val = None\n",
    "        else:\n",
    "            self.val = x\n",
    "        self.left = None\n",
    "        self.right = None\n",
    "\n",
    "\n",
    "def binaryTreePaths(root):\n",
    "    # 题目中节点数至少为1\n",
    "    stack, path_st, result = [root], [str(root.val)], []\n",
    "    #path_st.append(str(root.val))\n",
    "\n",
    "    while stack:\n",
    "        cur = stack.pop(-1)\n",
    "        path = path_st.pop(-1)\n",
    "        # 如果当前节点为叶子节点，添加路径到结果中\n",
    "        #if not (cur.left or cur.right):\n",
    "        if cur.left == None and cur.right == None:\n",
    "            result.append(path)\n",
    "        if cur.right:\n",
    "            stack.append(cur.right)\n",
    "            path_st.append(path + '->' + str(cur.right.val))\n",
    "        if cur.left:\n",
    "            stack.append(cur.left)\n",
    "            path_st.append(path + '->' + str(cur.left.val))\n",
    "\n",
    "    return result\n",
    "\n",
    "n1 = TreeNode(1)\n",
    "n2 = TreeNode(2)\n",
    "n3 = TreeNode(3)\n",
    "n4 = TreeNode(5)\n",
    "\n",
    "\n",
    "\n",
    "n1.left = n2\n",
    "n1.right = n3\n",
    "n2.right = n4\n",
    "\n",
    "res = binaryTreePaths(n1)\n",
    "print(res)"
   ]
  },
  {
   "cell_type": "code",
   "execution_count": 10,
   "metadata": {},
   "outputs": [
    {
     "name": "stdout",
     "output_type": "stream",
     "text": [
      "['3->13']\n"
     ]
    }
   ],
   "source": [
    "a = 3\n",
    "\n",
    "res = []\n",
    "res.append((str(3)+'->'+str(13)))\n",
    "print(res)"
   ]
  },
  {
   "cell_type": "markdown",
   "metadata": {},
   "source": [
    "## Method2-Iterative\n",
    "https://github.com/youngyangyang04/leetcode-master/blob/master/problems/0110.%E5%B9%B3%E8%A1%A1%E4%BA%8C%E5%8F%89%E6%A0%91.md"
   ]
  },
  {
   "cell_type": "code",
   "execution_count": 17,
   "metadata": {},
   "outputs": [
    {
     "name": "stdout",
     "output_type": "stream",
     "text": [
      "True\n"
     ]
    }
   ],
   "source": [
    "class TreeNode(object):\n",
    "    def __init__(self, x):\n",
    "        if x == None:\n",
    "            self.val = None\n",
    "        else:\n",
    "            self.val = x\n",
    "        self.left = None\n",
    "        self.right = None\n",
    "\n",
    "\n",
    "def isBalanced(root):\n",
    "    if not root:\n",
    "        return True\n",
    "\n",
    "    height_map = {}\n",
    "    stack = [root]\n",
    "    while stack:\n",
    "        node = stack.pop()\n",
    "        if node:\n",
    "            stack.append(node)\n",
    "            stack.append(None)\n",
    "            if node.left: stack.append(node.left)\n",
    "            if node.right: stack.append(node.right)\n",
    "        else:\n",
    "            real_node = stack.pop()\n",
    "            left, right = height_map.get(real_node.left, 0), height_map.get(real_node.right, 0)\n",
    "            if abs(left - right) > 1:\n",
    "                return False\n",
    "            height_map[real_node] = 1 + max(left, right)\n",
    "    return True\n",
    "\n",
    "n1 = TreeNode(1)\n",
    "n2 = TreeNode(2)\n",
    "n3 = TreeNode(3)\n",
    "n4 = TreeNode(4)\n",
    "n5 = TreeNode(5)\n",
    "n6 = TreeNode(6)\n",
    "\n",
    "\n",
    "n1.left = n2\n",
    "n1.right = n3\n",
    "n2.left = n4\n",
    "n2.right = n5\n",
    "n3.left = n6\n",
    "\n",
    "res = isBalanced(n1)\n",
    "\n",
    "print(res)"
   ]
  },
  {
   "cell_type": "markdown",
   "metadata": {},
   "source": [
    "## 0257 is same as 0144 (Binary_Tree_Preorder_Traversal)"
   ]
  },
  {
   "cell_type": "markdown",
   "metadata": {},
   "source": [
    "### Recursive"
   ]
  },
  {
   "cell_type": "code",
   "execution_count": 20,
   "metadata": {},
   "outputs": [
    {
     "name": "stdout",
     "output_type": "stream",
     "text": [
      "[1, None, 2, 3]\n"
     ]
    }
   ],
   "source": [
    "class TreeNode(object):\n",
    "    def __init__(self, x):\n",
    "        if x == None:\n",
    "            self.val = None\n",
    "        else:\n",
    "            self.val = x\n",
    "        self.left = None\n",
    "        self.right = None\n",
    "\n",
    "class Solution(object):\n",
    "    def preorderTraversal(self, root):\n",
    "        # 保存结果\n",
    "        result = []      \n",
    "        def traversal(root):\n",
    "            if root == None:return\n",
    "            result.append(root.val) # 前序\n",
    "            traversal(root.left)    # 左\n",
    "            traversal(root.right)   # 右\n",
    "\n",
    "        traversal(root)\n",
    "        return result\n",
    "\n",
    "n1 = TreeNode(1)\n",
    "n2 = TreeNode(None)\n",
    "n3 = TreeNode(2)\n",
    "n4 = TreeNode(3)\n",
    "#n5 = TreeNode(17)\n",
    "\n",
    "n1.left = n2\n",
    "n1.right = n3\n",
    "\n",
    "n3.left = n4\n",
    "#n3.right = n5\n",
    "s = Solution()\n",
    "res = s.preorderTraversal(n1)\n",
    "\n",
    "print(res)"
   ]
  },
  {
   "cell_type": "markdown",
   "metadata": {},
   "source": [
    "### Iterative"
   ]
  },
  {
   "cell_type": "code",
   "execution_count": 18,
   "metadata": {},
   "outputs": [
    {
     "name": "stdout",
     "output_type": "stream",
     "text": [
      "[1, None, 2, 3]\n"
     ]
    }
   ],
   "source": [
    "def preorderTraversal(root):\n",
    "    res = []\n",
    "    if root == None:\n",
    "        return\n",
    "\n",
    "    cur = root\n",
    "    stack = [cur]\n",
    "\n",
    "    while stack:\n",
    "        cur = stack.pop(-1)\n",
    "        res.append(cur.val)\n",
    "\n",
    "        if cur.right:\n",
    "            stack.append(cur.right)\n",
    "        if cur.left:\n",
    "            stack.append(cur.left)\n",
    "\n",
    "    return res\n",
    "\n",
    "n1 = TreeNode(1)\n",
    "n2 = TreeNode(None)\n",
    "n3 = TreeNode(2)\n",
    "n4 = TreeNode(3)\n",
    "#n5 = TreeNode(17)\n",
    "\n",
    "n1.left = n2\n",
    "n1.right = n3\n",
    "\n",
    "n3.left = n4\n",
    "#n3.right = n5\n",
    "\n",
    "res = preorderTraversal(n1)\n",
    "\n",
    "print(res)"
   ]
  }
 ],
 "metadata": {
  "kernelspec": {
   "display_name": "Python 3.8.6 64-bit ('leetcode_env')",
   "language": "python",
   "name": "python3"
  },
  "language_info": {
   "codemirror_mode": {
    "name": "ipython",
    "version": 3
   },
   "file_extension": ".py",
   "mimetype": "text/x-python",
   "name": "python",
   "nbconvert_exporter": "python",
   "pygments_lexer": "ipython3",
   "version": "3.8.6"
  },
  "orig_nbformat": 4,
  "vscode": {
   "interpreter": {
    "hash": "846fd2d9bb562a436898b7cc368204fc2f9d44e5e9b051b4f6e855e721078f23"
   }
  }
 },
 "nbformat": 4,
 "nbformat_minor": 2
}
