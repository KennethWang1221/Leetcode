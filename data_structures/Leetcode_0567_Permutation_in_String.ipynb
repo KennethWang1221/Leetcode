{
 "cells": [
  {
   "cell_type": "markdown",
   "metadata": {},
   "source": [
    "## Method1 - Sliding Window\n",
    "\n",
    "https://www.youtube.com/watch?v=UbyhOgBN834"
   ]
  },
  {
   "cell_type": "code",
   "execution_count": 2,
   "metadata": {},
   "outputs": [
    {
     "name": "stdout",
     "output_type": "stream",
     "text": [
      "True\n"
     ]
    }
   ],
   "source": [
    "def checkInclusion(s1,s2):\n",
    "    s1n = len(s1)\n",
    "    s2n = len(s2)\n",
    "    if s1n > s2n:\n",
    "        return False\n",
    "\n",
    "    s1Count, s2Count = [0] * 26, [0] * 26\n",
    "    for i in range(s1n):\n",
    "        s1Count[ord(s1[i]) - ord(\"a\")] += 1\n",
    "        s2Count[ord(s2[i]) - ord(\"a\")] += 1\n",
    "\n",
    "    matches = 0\n",
    "    for i in range(26):\n",
    "        matches += 1 if s1Count[i] == s2Count[i] else 0\n",
    "\n",
    "    l = 0\n",
    "    for r in range(s1n, s2n):\n",
    "        if matches == 26:\n",
    "            return True\n",
    "\n",
    "        index = ord(s2[r]) - ord(\"a\")\n",
    "        s2Count[index] += 1\n",
    "        if s1Count[index] == s2Count[index]:\n",
    "            matches += 1\n",
    "        elif s1Count[index] + 1 == s2Count[index]:\n",
    "            matches -= 1\n",
    "\n",
    "        index = ord(s2[l]) - ord(\"a\")\n",
    "        s2Count[index] -= 1\n",
    "        if s1Count[index] == s2Count[index]:\n",
    "            matches += 1\n",
    "        elif s1Count[index] - 1 == s2Count[index]:\n",
    "            matches -= 1\n",
    "        l += 1\n",
    "    return matches == 26\n",
    "print(checkInclusion(s1 = \"abc\", s2 = \"lecabee\"))"
   ]
  }
 ],
 "metadata": {
  "kernelspec": {
   "display_name": "leetcode_env",
   "language": "python",
   "name": "python3"
  },
  "language_info": {
   "codemirror_mode": {
    "name": "ipython",
    "version": 3
   },
   "file_extension": ".py",
   "mimetype": "text/x-python",
   "name": "python",
   "nbconvert_exporter": "python",
   "pygments_lexer": "ipython3",
   "version": "3.8.6"
  }
 },
 "nbformat": 4,
 "nbformat_minor": 2
}
