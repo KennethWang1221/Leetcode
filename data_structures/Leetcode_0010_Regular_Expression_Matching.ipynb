{
 "cells": [
  {
   "cell_type": "markdown",
   "metadata": {},
   "source": [
    "## Method1 - 2D Bottom-UP DP\n",
    "\n"
   ]
  },
  {
   "cell_type": "code",
   "execution_count": 1,
   "metadata": {},
   "outputs": [
    {
     "name": "stdout",
     "output_type": "stream",
     "text": [
      "Test 1: False\n",
      "Test 2: True\n",
      "Test 3: True\n",
      "Test 4: True\n",
      "Test 5: False\n"
     ]
    }
   ],
   "source": [
    "def isMatch(s,p):\n",
    "    m, n = len(s), len(p)\n",
    "    dp = [[False] * (n + 1) for _ in range(m + 1)]\n",
    "    dp[0][0] = True  # Empty string matches empty pattern\n",
    "\n",
    "    # Handle patterns like a*, a*b*, a*b*c* for empty string\n",
    "    for j in range(2, n + 1):\n",
    "        if p[j - 1] == '*':\n",
    "            dp[0][j] = dp[0][j - 2]\n",
    "\n",
    "    for i in range(1, m + 1):\n",
    "        for j in range(1, n + 1):\n",
    "            if p[j - 1] == '*':\n",
    "                # Option 1: Skip last char\n",
    "                dp[i][j] = dp[i][j - 2]\n",
    "                # Option 2: Use * to repeat previous char\n",
    "                if not dp[i][j] and (p[j - 2] == '.' or p[j - 2] == s[i - 1]):\n",
    "                    dp[i][j] = dp[i - 1][j]\n",
    "            else:\n",
    "                # Match current char\n",
    "                if p[j - 1] == '.' or p[j - 1] == s[i - 1]:\n",
    "                    dp[i][j] = dp[i - 1][j - 1]\n",
    "\n",
    "    return dp[m][n]\n",
    "\n",
    "print(\"Test 1:\", isMatch(\"aa\", \"a\"))         # False\n",
    "print(\"Test 2:\", isMatch(\"aa\", \"a*\"))        # True\n",
    "print(\"Test 3:\", isMatch(\"ab\", \".*\"))        # True\n",
    "print(\"Test 4:\", isMatch(\"aab\", \"c*a*b\"))    # True\n",
    "print(\"Test 5:\", isMatch(\"mississippi\", \"mis*is*p*.\"))  # False"
   ]
  }
 ],
 "metadata": {
  "kernelspec": {
   "display_name": "leetcode_env",
   "language": "python",
   "name": "python3"
  },
  "language_info": {
   "codemirror_mode": {
    "name": "ipython",
    "version": 3
   },
   "file_extension": ".py",
   "mimetype": "text/x-python",
   "name": "python",
   "nbconvert_exporter": "python",
   "pygments_lexer": "ipython3",
   "version": "3.8.6"
  }
 },
 "nbformat": 4,
 "nbformat_minor": 2
}
