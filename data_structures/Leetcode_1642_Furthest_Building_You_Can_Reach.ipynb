{
 "cells": [
  {
   "cell_type": "markdown",
   "metadata": {},
   "source": [
    "## Method1 - Heap\n",
    "\n",
    "https://www.youtube.com/watch?v=zyTeznvXCtg"
   ]
  },
  {
   "cell_type": "code",
   "execution_count": 1,
   "metadata": {},
   "outputs": [
    {
     "name": "stdout",
     "output_type": "stream",
     "text": [
      "5\n"
     ]
    }
   ],
   "source": [
    "import heapq\n",
    "def furthestBuilding(heights, bricks, ladders):\n",
    "    heap = []\n",
    "    n = len(heights)\n",
    "    for i in range(n - 1):\n",
    "        diff = heights[i + 1] - heights[i]\n",
    "        if diff <= 0:\n",
    "            continue\n",
    " \n",
    "        bricks -= diff\n",
    "        heapq.heappush(heap, -diff)\n",
    " \n",
    "        if bricks < 0:\n",
    "            if ladders == 0:\n",
    "                return i\n",
    "            ladders -= 1\n",
    "            bricks += -heapq.heappop(heap)\n",
    "        \n",
    "    return n - 1\n",
    "heights = [1,5,1,2,3,4,10000]\n",
    "bricks = 4\n",
    "ladders = 1\n",
    "print(furthestBuilding(heights, bricks, ladders))"
   ]
  }
 ],
 "metadata": {
  "kernelspec": {
   "display_name": "leetcode_env",
   "language": "python",
   "name": "python3"
  },
  "language_info": {
   "codemirror_mode": {
    "name": "ipython",
    "version": 3
   },
   "file_extension": ".py",
   "mimetype": "text/x-python",
   "name": "python",
   "nbconvert_exporter": "python",
   "pygments_lexer": "ipython3",
   "version": "3.8.6"
  }
 },
 "nbformat": 4,
 "nbformat_minor": 2
}
