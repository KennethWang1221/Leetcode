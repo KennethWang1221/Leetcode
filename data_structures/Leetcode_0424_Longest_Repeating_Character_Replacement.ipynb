{
 "cells": [
  {
   "cell_type": "markdown",
   "metadata": {},
   "source": [
    "## Method1 - Sliding Window\n",
    "\n",
    "https://www.youtube.com/watch?v=gqXU1UyA8pk"
   ]
  },
  {
   "cell_type": "code",
   "execution_count": 7,
   "metadata": {},
   "outputs": [
    {
     "name": "stdout",
     "output_type": "stream",
     "text": [
      "4\n"
     ]
    }
   ],
   "source": [
    "def characterReplacement(s,k):\n",
    "    count = {}\n",
    "    l = 0\n",
    "    maxf = 0\n",
    "    n = len(s)\n",
    "    res = 0\n",
    "    \n",
    "    for r in range(n):\n",
    "        count[s[r]] = count.get(s[r], 0) + 1\n",
    "        maxf = max(maxf, count[s[r]])\n",
    "\n",
    "        while (r - l + 1) - maxf > k:\n",
    "            count[s[l]] -= 1\n",
    "            l += 1\n",
    "        res = max(res, r-l+1)\n",
    "    return res\n",
    "print(characterReplacement(s = \"AABABBA\", k = 1))"
   ]
  }
 ],
 "metadata": {
  "kernelspec": {
   "display_name": "leetcode_env",
   "language": "python",
   "name": "python3"
  },
  "language_info": {
   "codemirror_mode": {
    "name": "ipython",
    "version": 3
   },
   "file_extension": ".py",
   "mimetype": "text/x-python",
   "name": "python",
   "nbconvert_exporter": "python",
   "pygments_lexer": "ipython3",
   "version": "3.8.6"
  }
 },
 "nbformat": 4,
 "nbformat_minor": 2
}
