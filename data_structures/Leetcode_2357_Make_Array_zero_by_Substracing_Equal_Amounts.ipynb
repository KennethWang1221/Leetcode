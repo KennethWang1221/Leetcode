{
 "cells": [
  {
   "cell_type": "markdown",
   "metadata": {},
   "source": [
    "## Method1 - Array"
   ]
  },
  {
   "cell_type": "code",
   "execution_count": 8,
   "metadata": {},
   "outputs": [
    {
     "name": "stdout",
     "output_type": "stream",
     "text": [
      "3\n"
     ]
    }
   ],
   "source": [
    "def minimumOperations(nums):\n",
    "    n = len(nums)\n",
    "    if max(nums) == 0: \n",
    "        return 0\n",
    "    \n",
    "    res = 0\n",
    "    for i in range(n):\n",
    "        no_duplicate = sorted(set(nums))\n",
    "        smallest = no_duplicate[0] if no_duplicate[0] != 0 else no_duplicate[1]\n",
    "        nums = [nums[j] - smallest if nums[j] - smallest >0 else 0 for j in range(n)]\n",
    "        res += 1\n",
    "        if max(nums) == 0:\n",
    "            break\n",
    "\n",
    "    return res\n",
    "\n",
    "nums = [1, 5, 0, 3, 5]\n",
    "#nums = [0,0,0,0]\n",
    "#nums = [1,2,3,5]\n",
    "print(minimumOperations(nums))"
   ]
  },
  {
   "cell_type": "code",
   "execution_count": 6,
   "metadata": {},
   "outputs": [
    {
     "name": "stdout",
     "output_type": "stream",
     "text": [
      "3\n"
     ]
    }
   ],
   "source": [
    "def minimumOperations(nums):\n",
    "    n = len(nums)\n",
    "    if max(nums) == 0: \n",
    "        return 0\n",
    "    \n",
    "    res = 0\n",
    "\n",
    "    for _ in range(n):\n",
    "        if max(nums) == 0:\n",
    "            break\n",
    "        \n",
    "        no_duplicate = sorted(set(nums))\n",
    "\n",
    "        if no_duplicate[0] != 0:\n",
    "            smallest = no_duplicate[0]  \n",
    "        else:\n",
    "            smallest = no_duplicate[1]\n",
    "        \n",
    "        new_nums = []\n",
    "        for j in range(n):\n",
    "            if nums[j] - smallest > 0:\n",
    "                new_nums.append(nums[j] - smallest)\n",
    "            else:\n",
    "                new_nums.append(0)\n",
    "        \n",
    "        nums = new_nums\n",
    "        res += 1\n",
    "\n",
    "    return res\n",
    "\n",
    "nums = [1, 5, 0, 3, 5]\n",
    "#nums = [0,0,0,0]\n",
    "#nums = [1,2,3,5]\n",
    "print(minimumOperations(nums))"
   ]
  },
  {
   "cell_type": "markdown",
   "metadata": {},
   "source": [
    "## Method2 - Array"
   ]
  },
  {
   "cell_type": "code",
   "execution_count": 7,
   "metadata": {},
   "outputs": [
    {
     "name": "stdout",
     "output_type": "stream",
     "text": [
      "4\n"
     ]
    }
   ],
   "source": [
    "def minimumOperations(nums):\n",
    "\n",
    "    if max(nums) == 0:\n",
    "        return 0\n",
    "        \n",
    "    operations = 0\n",
    "    while True:\n",
    "        # Find smallest non-zero number\n",
    "        smallest = float('inf')\n",
    "        for num in nums:\n",
    "            if num > 0 and num < smallest:\n",
    "                smallest = num\n",
    "                \n",
    "        # Subtract smallest from all positive numbers\n",
    "        for i in range(len(nums)):\n",
    "            if nums[i] > 0:\n",
    "                nums[i] -= smallest\n",
    "                \n",
    "        operations += 1\n",
    "        \n",
    "        # Check if all numbers are zero\n",
    "        if max(nums) == 0:\n",
    "            break\n",
    "            \n",
    "    return operations\n",
    "\n",
    "nums = [1,2,3,5]\n",
    "print(minimumOperations(nums))"
   ]
  }
 ],
 "metadata": {
  "kernelspec": {
   "display_name": "test_env",
   "language": "python",
   "name": "python3"
  },
  "language_info": {
   "codemirror_mode": {
    "name": "ipython",
    "version": 3
   },
   "file_extension": ".py",
   "mimetype": "text/x-python",
   "name": "python",
   "nbconvert_exporter": "python",
   "pygments_lexer": "ipython3",
   "version": "3.8.10"
  }
 },
 "nbformat": 4,
 "nbformat_minor": 2
}
