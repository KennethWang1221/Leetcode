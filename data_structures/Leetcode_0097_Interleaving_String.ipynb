{
 "cells": [
  {
   "cell_type": "markdown",
   "metadata": {},
   "source": [
    "## Method1 - Multidimensional DP\n",
    "\n",
    "https://www.youtube.com/watch?v=3Rw3p9LrgvE"
   ]
  },
  {
   "cell_type": "code",
   "execution_count": 1,
   "metadata": {},
   "outputs": [
    {
     "name": "stdout",
     "output_type": "stream",
     "text": [
      "True\n"
     ]
    }
   ],
   "source": [
    "def isInterleave(s1: str, s2: str, s3: str) -> bool:\n",
    "    if len(s1) + len(s2) != len(s3):\n",
    "        return False\n",
    "\n",
    "    dp = [[False] * (len(s2) + 1) for i in range(len(s1) + 1)]\n",
    "    dp[len(s1)][len(s2)] = True\n",
    "\n",
    "    for i in range(len(s1), -1, -1):\n",
    "        for j in range(len(s2), -1, -1):\n",
    "            if i < len(s1) and s1[i] == s3[i + j] and dp[i + 1][j]:\n",
    "                dp[i][j] = True\n",
    "            if j < len(s2) and s2[j] == s3[i + j] and dp[i][j + 1]:\n",
    "                dp[i][j] = True\n",
    "    return dp[0][0]\n",
    "\n",
    "s1 = \"aabcc\"\n",
    "s2 = \"dbbca\"\n",
    "s3 = \"aadbbcbcac\"\n",
    "res = isInterleave(s1, s2, s3)\n",
    "print(res)"
   ]
  }
 ],
 "metadata": {
  "kernelspec": {
   "display_name": "test_env",
   "language": "python",
   "name": "test_env"
  },
  "language_info": {
   "codemirror_mode": {
    "name": "ipython",
    "version": 3
   },
   "file_extension": ".py",
   "mimetype": "text/x-python",
   "name": "python",
   "nbconvert_exporter": "python",
   "pygments_lexer": "ipython3",
   "version": "3.8.6"
  }
 },
 "nbformat": 4,
 "nbformat_minor": 2
}
