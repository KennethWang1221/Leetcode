{
 "cells": [
  {
   "cell_type": "markdown",
   "metadata": {},
   "source": [
    "## Method1 - Backtracking\n",
    "https://github.com/youngyangyang04/leetcode-master/blob/master/problems/0037.%E8%A7%A3%E6%95%B0%E7%8B%AC.md"
   ]
  },
  {
   "cell_type": "code",
   "execution_count": 4,
   "metadata": {},
   "outputs": [
    {
     "name": "stdout",
     "output_type": "stream",
     "text": [
      "None\n"
     ]
    }
   ],
   "source": [
    "def solveSudoku(board):\n",
    "    \"\"\"\n",
    "    Do not return anything, modify board in-place instead.\n",
    "    \"\"\"\n",
    "    def backtracking(board):\n",
    "        # 若有解，返回True；若无解，返回False\n",
    "        for i in range(len(board)): # 遍历行\n",
    "            for j in range(len(board[0])):  # 遍历列\n",
    "                # 若空格内已有数字，跳过\n",
    "                if board[i][j] != '.': continue\n",
    "                for k in range(1, 10):\n",
    "                    if is_valid(i, j, k, board):\n",
    "                        board[i][j] = str(k)\n",
    "                        if backtracking(board): return True\n",
    "                        board[i][j] = '.'\n",
    "                # 若数字1-9都不能成功填入空格，返回False无解\n",
    "                return False\n",
    "        return True # 有解\n",
    "\n",
    "    def is_valid(row, col, val, board):\n",
    "        # 判断同一行是否冲突\n",
    "        for i in range(9):\n",
    "            if board[row][i] == str(val):\n",
    "                return False\n",
    "        # 判断同一列是否冲突\n",
    "        for j in range(9):\n",
    "            if board[j][col] == str(val):\n",
    "                return False\n",
    "        # 判断同一九宫格是否有冲突\n",
    "        start_row = (row // 3) * 3\n",
    "        start_col = (col // 3) * 3\n",
    "        for i in range(start_row, start_row + 3):\n",
    "            for j in range(start_col, start_col + 3):\n",
    "                if board[i][j] == str(val):\n",
    "                    return False\n",
    "        return True\n",
    "\n",
    "    backtracking(board)\n",
    "    \n",
    "board = [[\"5\",\"3\",\".\",\".\",\"7\",\".\",\".\",\".\",\".\"],[\"6\",\".\",\".\",\"1\",\"9\",\"5\",\".\",\".\",\".\"],[\".\",\"9\",\"8\",\".\",\".\",\".\",\".\",\"6\",\".\"],[\"8\",\".\",\".\",\".\",\"6\",\".\",\".\",\".\",\"3\"],[\"4\",\".\",\".\",\"8\",\".\",\"3\",\".\",\".\",\"1\"],[\"7\",\".\",\".\",\".\",\"2\",\".\",\".\",\".\",\"6\"],[\".\",\"6\",\".\",\".\",\".\",\".\",\"2\",\"8\",\".\"],[\".\",\".\",\".\",\"4\",\"1\",\"9\",\".\",\".\",\"5\"],[\".\",\".\",\".\",\".\",\"8\",\".\",\".\",\"7\",\"9\"]]\n",
    "print(solveSudoku(board))"
   ]
  }
 ],
 "metadata": {
  "kernelspec": {
   "display_name": "leetcode_env",
   "language": "python",
   "name": "leetcode_env"
  },
  "language_info": {
   "codemirror_mode": {
    "name": "ipython",
    "version": 3
   },
   "file_extension": ".py",
   "mimetype": "text/x-python",
   "name": "python",
   "nbconvert_exporter": "python",
   "pygments_lexer": "ipython3",
   "version": "3.8.6"
  }
 },
 "nbformat": 4,
 "nbformat_minor": 2
}
