{
 "cells": [
  {
   "cell_type": "markdown",
   "metadata": {},
   "source": [
    "## Method1 - Heap\n",
    "\n",
    "https://www.youtube.com/watch?v=RR1n-d4oYqE"
   ]
  },
  {
   "cell_type": "code",
   "execution_count": 5,
   "metadata": {},
   "outputs": [
    {
     "name": "stdout",
     "output_type": "stream",
     "text": [
      "[0, 2, 3, 1]\n"
     ]
    }
   ],
   "source": [
    "import heapq\n",
    "def getOrder(tasks):\n",
    "    for i, t in enumerate(tasks):\n",
    "        t.append(i)\n",
    "    tasks.sort(key=lambda t: t[0])\n",
    "\n",
    "    res, minHeap = [], []\n",
    "    i, time = 0, tasks[0][0]\n",
    "\n",
    "    while minHeap or i < len(tasks):\n",
    "        while i < len(tasks) and time >= tasks[i][0]:\n",
    "            heapq.heappush(minHeap, [tasks[i][1], tasks[i][2]])\n",
    "            i+=1\n",
    "\n",
    "        if not minHeap:\n",
    "            time = tasks[i][0]\n",
    "        else:\n",
    "            procTime, index = heapq.heappop(minHeap)\n",
    "            time += procTime\n",
    "            res.append(index)\n",
    "    return res\n",
    "print(getOrder(tasks = [[1,2],[2,4],[3,2],[4,1]]))"
   ]
  },
  {
   "cell_type": "code",
   "execution_count": 3,
   "metadata": {},
   "outputs": [
    {
     "name": "stdout",
     "output_type": "stream",
     "text": [
      "[0, 2, 3, 1]\n"
     ]
    }
   ],
   "source": [
    "import heapq\n",
    "def getOrder(tasks):\n",
    "    tasks = sorted([(t[0], t[1], i) for i, t in enumerate(tasks)])\n",
    "    result, heap = [], []\n",
    "    cur_task_index = 0\n",
    "    cur_time = tasks[0][0]\n",
    "    \n",
    "    while len(result) < len(tasks):\n",
    "        while (cur_task_index < len(tasks)) and (tasks[cur_task_index][0] <= cur_time):\n",
    "            heapq.heappush(heap, (tasks[cur_task_index][1], tasks[cur_task_index][2]))\n",
    "            cur_task_index += 1\n",
    "        if heap:\n",
    "            time_difference, original_index = heapq.heappop(heap)\n",
    "            cur_time += time_difference\n",
    "            result.append(original_index)\n",
    "        elif cur_task_index < len(tasks):\n",
    "            cur_time = tasks[cur_task_index][0]\n",
    "            \n",
    "    return result\n",
    "print(getOrder(tasks = [[1,2],[2,4],[3,2],[4,1]]))"
   ]
  }
 ],
 "metadata": {
  "kernelspec": {
   "display_name": "leetcode_env",
   "language": "python",
   "name": "leetcode_env"
  },
  "language_info": {
   "codemirror_mode": {
    "name": "ipython",
    "version": 3
   },
   "file_extension": ".py",
   "mimetype": "text/x-python",
   "name": "python",
   "nbconvert_exporter": "python",
   "pygments_lexer": "ipython3",
   "version": "3.8.6"
  }
 },
 "nbformat": 4,
 "nbformat_minor": 2
}
