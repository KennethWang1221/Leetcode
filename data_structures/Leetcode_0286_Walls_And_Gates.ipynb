{
 "cells": [
  {
   "attachments": {},
   "cell_type": "markdown",
   "metadata": {},
   "source": [
    "## Method1 - BFS\n",
    "\n",
    "https://www.youtube.com/watch?v=e69C6xhiSQE"
   ]
  },
  {
   "cell_type": "code",
   "execution_count": 1,
   "metadata": {},
   "outputs": [
    {
     "name": "stdout",
     "output_type": "stream",
     "text": [
      "None\n"
     ]
    }
   ],
   "source": [
    "from collections import deque\n",
    "def walls_and_gates(rooms):\n",
    "    # write your code here\n",
    "    rows, cols = len(rooms), len(rooms[0])\n",
    "    visit = set()\n",
    "    q = deque()\n",
    "\n",
    "    def addroom(r,c):\n",
    "        if (\n",
    "            r<0 or c<0 or r>=rows or c>=cols or \n",
    "            (r,c) in visit or \n",
    "            rooms[r][c]==-1\n",
    "        ):\n",
    "            return \n",
    "        visit.add((r,c))\n",
    "        q.append([r,c])\n",
    "        \n",
    "\n",
    "    for r in range(rows):\n",
    "        for c in range(cols):\n",
    "            if rooms[r][c] == 0:\n",
    "                q.append([r, c])\n",
    "                visit.add((r, c))\n",
    "\n",
    "    dist = 0\n",
    "    while q:\n",
    "        for i in range(len(q)):\n",
    "            r, c = q.popleft()\n",
    "            rooms[r][c] = dist\n",
    "\n",
    "            addroom(r+1, c)\n",
    "            addroom(r-1, c)\n",
    "            addroom(r, c+1)\n",
    "            addroom(r, c-1)\n",
    "\n",
    "        dist +=1\n",
    "\n",
    "rooms = [[2147483647,-1,0,2147483647],[2147483647,2147483647,2147483647,-1],[2147483647,-1,2147483647,-1],[0,-1,2147483647,2147483647]]\n",
    "res = walls_and_gates(rooms)\n",
    "print(res)"
   ]
  }
 ],
 "metadata": {
  "kernelspec": {
   "display_name": "leetcode_env",
   "language": "python",
   "name": "leetcode_env"
  },
  "language_info": {
   "codemirror_mode": {
    "name": "ipython",
    "version": 3
   },
   "file_extension": ".py",
   "mimetype": "text/x-python",
   "name": "python",
   "nbconvert_exporter": "python",
   "pygments_lexer": "ipython3",
   "version": "3.8.6"
  },
  "orig_nbformat": 4
 },
 "nbformat": 4,
 "nbformat_minor": 2
}
