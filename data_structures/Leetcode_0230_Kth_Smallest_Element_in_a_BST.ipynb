{
 "cells": [
  {
   "cell_type": "markdown",
   "metadata": {},
   "source": [
    "## Method1 - DIY - BFS\n"
   ]
  },
  {
   "cell_type": "code",
   "execution_count": 1,
   "metadata": {},
   "outputs": [
    {
     "name": "stdout",
     "output_type": "stream",
     "text": [
      "1\n"
     ]
    }
   ],
   "source": [
    "class TreeNode(object):\n",
    "    def __init__(self, x):\n",
    "        if x == None:\n",
    "            self.val = None\n",
    "        else:\n",
    "            self.val = x\n",
    "        self.left = None\n",
    "        self.right = None\n",
    "\n",
    "\n",
    "def kthSmallest(root,k):\n",
    "    res = []\n",
    "    if root == None: return \n",
    "\n",
    "    q = [root]\n",
    "    while q:\n",
    "        level = []\n",
    "        size = len(q)\n",
    "        for i in range(size):\n",
    "            cur = q.pop(0)\n",
    "            level.append(cur.val)\n",
    "            if cur.left: q.append(cur.left)\n",
    "            if cur.right: q.append(cur.right)\n",
    "\n",
    "        res.extend(level)\n",
    "    \n",
    "    res.sort()\n",
    "    for i in range(len(res)):\n",
    "        if i == k-1: return res[i]\n",
    "\n",
    "n1 = TreeNode(3)\n",
    "n2 = TreeNode(1)\n",
    "n3 = TreeNode(4)\n",
    "n4 = TreeNode(2)\n",
    "\n",
    "n1.left = n2\n",
    "n1.right = n3\n",
    "n2.right = n4\n",
    "res = kthSmallest(n1,k=1)\n",
    "print(res)"
   ]
  },
  {
   "cell_type": "markdown",
   "metadata": {},
   "source": [
    "## Method2 - BST\n",
    "https://www.youtube.com/watch?v=5LUXSvjmGCw"
   ]
  },
  {
   "cell_type": "code",
   "execution_count": 2,
   "metadata": {},
   "outputs": [
    {
     "name": "stdout",
     "output_type": "stream",
     "text": [
      "1\n"
     ]
    }
   ],
   "source": [
    "class TreeNode(object):\n",
    "    def __init__(self, x):\n",
    "        if x == None:\n",
    "            self.val = None\n",
    "        else:\n",
    "            self.val = x\n",
    "        self.left = None\n",
    "        self.right = None\n",
    "\n",
    "\n",
    "def kthSmallest(root,k):\n",
    "\n",
    "    stack = []\n",
    "    curr = root\n",
    "\n",
    "    while stack or curr:\n",
    "        while curr:\n",
    "            stack.append(curr)\n",
    "            curr = curr.left\n",
    "        curr = stack.pop()\n",
    "        k -= 1\n",
    "        if k == 0:\n",
    "            return curr.val\n",
    "        curr = curr.right\n",
    "\n",
    "n1 = TreeNode(3)\n",
    "n2 = TreeNode(1)\n",
    "n3 = TreeNode(4)\n",
    "n4 = TreeNode(2)\n",
    "\n",
    "n1.left = n2\n",
    "n1.right = n3\n",
    "n2.right = n4\n",
    "res = kthSmallest(n1,k=1)\n",
    "print(res)"
   ]
  }
 ],
 "metadata": {
  "kernelspec": {
   "display_name": "leetcode_env",
   "language": "python",
   "name": "leetcode_env"
  },
  "language_info": {
   "codemirror_mode": {
    "name": "ipython",
    "version": 3
   },
   "file_extension": ".py",
   "mimetype": "text/x-python",
   "name": "python",
   "nbconvert_exporter": "python",
   "pygments_lexer": "ipython3",
   "version": "3.8.6"
  }
 },
 "nbformat": 4,
 "nbformat_minor": 2
}
