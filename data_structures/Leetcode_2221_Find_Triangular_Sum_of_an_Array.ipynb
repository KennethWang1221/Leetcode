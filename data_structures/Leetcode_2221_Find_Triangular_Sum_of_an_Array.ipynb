{
 "cells": [
  {
   "cell_type": "markdown",
   "metadata": {},
   "source": [
    "## Method1 - Array"
   ]
  },
  {
   "cell_type": "code",
   "execution_count": 1,
   "metadata": {},
   "outputs": [
    {
     "name": "stdout",
     "output_type": "stream",
     "text": [
      "8\n"
     ]
    }
   ],
   "source": [
    "def triangularSum(nums):\n",
    "    # While there's more than one element\n",
    "    while len(nums) > 1:\n",
    "        new_nums = []\n",
    "        for i in range(len(nums) - 1):\n",
    "            new_nums.append((nums[i] + nums[i+1]) % 10)\n",
    "        nums = new_nums\n",
    "    \n",
    "    return nums[0]\n",
    "\n",
    "print(triangularSum(nums = [1,2,3,4,5]))"
   ]
  }
 ],
 "metadata": {
  "kernelspec": {
   "display_name": "leetcode_env",
   "language": "python",
   "name": "leetcode_env"
  },
  "language_info": {
   "codemirror_mode": {
    "name": "ipython",
    "version": 3
   },
   "file_extension": ".py",
   "mimetype": "text/x-python",
   "name": "python",
   "nbconvert_exporter": "python",
   "pygments_lexer": "ipython3",
   "version": "3.8.6"
  }
 },
 "nbformat": 4,
 "nbformat_minor": 2
}
