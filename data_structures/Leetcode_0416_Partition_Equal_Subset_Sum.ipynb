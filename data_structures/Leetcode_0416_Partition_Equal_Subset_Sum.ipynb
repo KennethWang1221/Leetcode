{
 "cells": [
  {
   "cell_type": "markdown",
   "metadata": {},
   "source": [
    "## Bounded Knapsack Problem (BKP)"
   ]
  },
  {
   "cell_type": "markdown",
   "metadata": {},
   "source": [
    "## Method1 - 1D Bottom-UP DP\n",
    "https://www.youtube.com/watch?v=IsvocB5BJhw"
   ]
  },
  {
   "cell_type": "code",
   "execution_count": 1,
   "metadata": {},
   "outputs": [
    {
     "name": "stdout",
     "output_type": "stream",
     "text": [
      "True\n"
     ]
    }
   ],
   "source": [
    "def canPartition(nums):\n",
    "    if sum(nums) % 2:\n",
    "        return False\n",
    "\n",
    "    dp = set()\n",
    "    dp.add(0)\n",
    "    target = sum(nums) // 2\n",
    "\n",
    "    for i in range(len(nums) - 1, -1, -1):\n",
    "        nextDP = set()\n",
    "        for t in dp:\n",
    "            nextDP.add(t + nums[i])\n",
    "            nextDP.add(t)\n",
    "        dp = nextDP\n",
    "    return True if target in dp else False\n",
    "\n",
    "nums = [1,5,11,5]\n",
    "print(canPartition(nums))"
   ]
  },
  {
   "cell_type": "markdown",
   "metadata": {},
   "source": [
    "## Method2 -  1D Bottom-UP DP Recap\n",
    "https://github.com/youngyangyang04/leetcode-master/blob/master/problems/0416.%E5%88%86%E5%89%B2%E7%AD%89%E5%92%8C%E5%AD%90%E9%9B%86.md"
   ]
  },
  {
   "cell_type": "code",
   "execution_count": 16,
   "metadata": {},
   "outputs": [
    {
     "name": "stdout",
     "output_type": "stream",
     "text": [
      "True\n"
     ]
    }
   ],
   "source": [
    "def canPartition(nums):\n",
    "    if sum(nums) % 2 != 0:\n",
    "        return False\n",
    "    target = sum(nums) // 2\n",
    "    dp = [0] * (target + 1)\n",
    "    for num in nums:\n",
    "        for j in range(target, num-1, -1):\n",
    "            remain = dp[j-num]\n",
    "            dp[j] = max(dp[j], remain + num)\n",
    "    return dp[-1] == target\n",
    "\n",
    "nums = [1,5,11,5]\n",
    "print(canPartition(nums))"
   ]
  },
  {
   "cell_type": "markdown",
   "metadata": {},
   "source": [
    "## Method3 -  2D Bottom-UP DP - Recap\n",
    "https://github.com/youngyangyang04/leetcode-master/blob/master/problems/0416.%E5%88%86%E5%89%B2%E7%AD%89%E5%92%8C%E5%AD%90%E9%9B%86.md"
   ]
  },
  {
   "cell_type": "code",
   "execution_count": 17,
   "metadata": {},
   "outputs": [
    {
     "name": "stdout",
     "output_type": "stream",
     "text": [
      "True\n"
     ]
    }
   ],
   "source": [
    "def canPartition(nums):\n",
    "    total_sum = sum(nums)\n",
    "\n",
    "    if total_sum % 2 != 0:\n",
    "        return False\n",
    "    n = len(nums)\n",
    "    target_sum = total_sum // 2\n",
    "    dp = [[False] * (target_sum + 1) for _ in range(n + 1)]\n",
    "\n",
    "    # 初始化第一行（空子集可以得到和为0）\n",
    "    for i in range(n + 1):\n",
    "        dp[i][0] = True\n",
    "\n",
    "    for i in range(1, n + 1):\n",
    "        for j in range(1, target_sum + 1):\n",
    "            remain = j - nums[i - 1]\n",
    "            if remain < 0:\n",
    "                # 当前数字大于目标和时，无法使用该数字\n",
    "                dp[i][j] = dp[i - 1][j]\n",
    "            else:\n",
    "                # 当前数字小于等于目标和时，可以选择使用或不使用该数字\n",
    "                dp[i][j] = dp[i - 1][j] or dp[i - 1][remain]\n",
    "\n",
    "    return dp[n][target_sum]\n",
    "\n",
    "nums = [1,5,11,5]\n",
    "nums = [2,2,1,1]\n",
    "print(canPartition(nums))\n"
   ]
  },
  {
   "cell_type": "markdown",
   "metadata": {},
   "source": [
    "## Method3 - 2D Bottom-UP DP Recap (Without use True or False)\n",
    "\n",
    "Same idea to UKP-0322 Method1, UKP-0518 Method3"
   ]
  },
  {
   "cell_type": "code",
   "execution_count": 29,
   "metadata": {},
   "outputs": [
    {
     "name": "stdout",
     "output_type": "stream",
     "text": [
      "True\n"
     ]
    }
   ],
   "source": [
    "def canPartition(nums):\n",
    "    total_sum = sum(nums)\n",
    " \n",
    "    if total_sum % 2 != 0:\n",
    "        return 0\n",
    "    n = len(nums)\n",
    "    target_sum = total_sum // 2\n",
    "    dp = [[0] * (target_sum + 1) for _ in range(n + 1)]\n",
    " \n",
    "    # 初始化第一行（空子集可以得到和为0）\n",
    "    for i in range(n + 1):\n",
    "        dp[i][0] = 1\n",
    " \n",
    "    for i in range(1, n + 1):\n",
    "        for j in range(1, target_sum + 1):\n",
    "            remain = j - nums[i - 1]\n",
    "            if remain < 0:\n",
    "                # 当前数字大于目标和时，无法使用该数字\n",
    "                dp[i][j] = dp[i - 1][j]\n",
    "            else:\n",
    "                # 当前数字小于等于目标和时，可以选择使用或不使用该数字\n",
    "                dp[i][j] = max(dp[i - 1][j], dp[i - 1][remain])\n",
    " \n",
    "    return True if dp[n][target_sum] else False\n",
    " \n",
    "nums = [1,5,11,5]\n",
    "nums = [2,2,1,1]\n",
    "print(canPartition(nums))"
   ]
  },
  {
   "cell_type": "markdown",
   "metadata": {},
   "source": [
    "## Method4 -  1D Bottom-UP DP\n",
    "https://github.com/youngyangyang04/leetcode-master/blob/master/problems/0416.%E5%88%86%E5%89%B2%E7%AD%89%E5%92%8C%E5%AD%90%E9%9B%86.md"
   ]
  },
  {
   "cell_type": "code",
   "execution_count": 5,
   "metadata": {},
   "outputs": [
    {
     "name": "stdout",
     "output_type": "stream",
     "text": [
      "True\n"
     ]
    }
   ],
   "source": [
    "def canPartition(nums):\n",
    "\n",
    "    total_sum = sum(nums)\n",
    "\n",
    "    if total_sum % 2 != 0:\n",
    "        return False\n",
    "\n",
    "    target_sum = total_sum // 2\n",
    "    dp = [False] * (target_sum + 1)\n",
    "    dp[0] = True\n",
    "\n",
    "    for num in nums:\n",
    "        # 从target_sum逆序迭代到num，步长为-1\n",
    "        for i in range(target_sum, num - 1, -1):\n",
    "            dp[i] = dp[i] or dp[i - num]\n",
    "    return dp[target_sum]\n",
    "\n",
    "nums = [1,5,11,5]\n",
    "print(canPartition(nums))"
   ]
  },
  {
   "cell_type": "markdown",
   "metadata": {},
   "source": [
    "## Method5 -  1D Bottom-UP DP\n",
    "https://github.com/youngyangyang04/leetcode-master/blob/master/problems/0416.%E5%88%86%E5%89%B2%E7%AD%89%E5%92%8C%E5%AD%90%E9%9B%86.md"
   ]
  },
  {
   "cell_type": "code",
   "execution_count": 3,
   "metadata": {},
   "outputs": [
    {
     "name": "stdout",
     "output_type": "stream",
     "text": [
      "True\n"
     ]
    }
   ],
   "source": [
    "def canPartition(nums):\n",
    "    _sum = 0\n",
    "\n",
    "    # dp[i]中的i表示背包内总和\n",
    "    # 题目中说：每个数组中的元素不会超过 100，数组的大小不会超过 200\n",
    "    # 总和不会大于20000，背包最大只需要其中一半，所以10001大小就可以了\n",
    "    dp = [0] * 10001\n",
    "    for num in nums:\n",
    "        _sum += num\n",
    "    # 也可以使用内置函数一步求和\n",
    "    # _sum = sum(nums)\n",
    "    if _sum % 2 == 1:\n",
    "        return False\n",
    "    target = _sum // 2\n",
    "\n",
    "    # 开始 0-1背包\n",
    "    for num in nums:\n",
    "        for j in range(target, num - 1, -1):  # 每一个元素一定是不可重复放入，所以从大到小遍历\n",
    "            dp[j] = max(dp[j], dp[j - num] + num)\n",
    "\n",
    "    # 集合中的元素正好可以凑成总和target\n",
    "    if dp[target] == target:\n",
    "        return True\n",
    "    return False\n",
    "\n",
    "nums = [1,5,11,5]\n",
    "print(canPartition(nums))"
   ]
  }
 ],
 "metadata": {
  "kernelspec": {
   "display_name": "test_env",
   "language": "python",
   "name": "python3"
  },
  "language_info": {
   "codemirror_mode": {
    "name": "ipython",
    "version": 3
   },
   "file_extension": ".py",
   "mimetype": "text/x-python",
   "name": "python",
   "nbconvert_exporter": "python",
   "pygments_lexer": "ipython3",
   "version": "3.8.10"
  }
 },
 "nbformat": 4,
 "nbformat_minor": 2
}
