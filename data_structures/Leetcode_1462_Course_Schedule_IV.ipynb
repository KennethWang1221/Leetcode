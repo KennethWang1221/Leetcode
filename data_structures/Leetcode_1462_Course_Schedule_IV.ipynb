{
 "cells": [
  {
   "cell_type": "markdown",
   "metadata": {},
   "source": [
    "## Method1 - DFS\n",
    "https://www.youtube.com/watch?v=cEW05ofxhn0&pp=ygUNbGVldGNvZGUgMTQ2Mg%3D%3D"
   ]
  },
  {
   "cell_type": "code",
   "execution_count": 2,
   "metadata": {},
   "outputs": [
    {
     "name": "stdout",
     "output_type": "stream",
     "text": [
      "[False, True]\n"
     ]
    }
   ],
   "source": [
    "from collections import defaultdict\n",
    "def checkIfPrerequisite(numCourses, prerequisites, queries):\n",
    "    adj = defaultdict(list)\n",
    "    for prereq, crs in prerequisites:\n",
    "        adj[crs].append(prereq)\n",
    "    \n",
    "    def dfs(crs):\n",
    "        if crs not in prereqMap:\n",
    "            prereqMap[crs] = set()\n",
    "            for pre in adj[crs]:\n",
    "                prereqMap[crs] |= dfs(pre)\n",
    "        prereqMap[crs].add(crs)\n",
    "        return prereqMap[crs]\n",
    "\n",
    "    prereqMap = {} # map course -> set indirect prereqs\n",
    "    for crs in range(numCourses):\n",
    "        dfs(crs)\n",
    "\n",
    "    res = []\n",
    "    for u, v in queries:\n",
    "        res.append(u in prereqMap[v])\n",
    "    return res\n",
    "numCourses = 2\n",
    "prerequisites = [[1,0]]\n",
    "queries = [[0,1],[1,0]]\n",
    "print(checkIfPrerequisite(numCourses, prerequisites, queries))"
   ]
  }
 ],
 "metadata": {
  "kernelspec": {
   "display_name": "leetcode_env",
   "language": "python",
   "name": "python3"
  },
  "language_info": {
   "codemirror_mode": {
    "name": "ipython",
    "version": 3
   },
   "file_extension": ".py",
   "mimetype": "text/x-python",
   "name": "python",
   "nbconvert_exporter": "python",
   "pygments_lexer": "ipython3",
   "version": "3.8.6"
  }
 },
 "nbformat": 4,
 "nbformat_minor": 2
}
