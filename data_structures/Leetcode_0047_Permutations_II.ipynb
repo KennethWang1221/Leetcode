{
 "cells": [
  {
   "cell_type": "markdown",
   "metadata": {},
   "source": [
    "## Method1 - DIY - Backtracking\n",
    "\n",
    "Same idea to 0077, 0216, 0017, 0039, 0040, 0131, 0093, 0078, 0090, 0491, 0046, 0047"
   ]
  },
  {
   "cell_type": "code",
   "execution_count": 2,
   "metadata": {},
   "outputs": [
    {
     "name": "stdout",
     "output_type": "stream",
     "text": [
      "[[1, 1, 2], [1, 2, 1], [2, 1, 1]]\n"
     ]
    }
   ],
   "source": [
    "def permuteUnique(nums):\n",
    "    n = len(nums)\n",
    "    res = []\n",
    "    used = [False] * n\n",
    "    def backtracking(nums, comb, used, res):\n",
    "        if len(comb) == n and comb not in res:\n",
    "            res.append(comb[:])\n",
    "            return \n",
    "        if comb in res:\n",
    "            return \n",
    "        for i in range(n):\n",
    "            if used[i] == True:\n",
    "                continue\n",
    "            used[i] = True\n",
    "            comb.append(nums[i])\n",
    "            backtracking(nums, comb, used, res)\n",
    "            comb.pop(-1)\n",
    "            used[i] = False\n",
    "\n",
    "    # with or without nums.sort(), both ok \n",
    "    backtracking(nums, comb=[], used = used, res = res)\n",
    "    return res\n",
    "\n",
    "nums = [1,1,2]\n",
    "print(permuteUnique(nums=[1,1,2]))"
   ]
  },
  {
   "cell_type": "markdown",
   "metadata": {},
   "source": [
    "## Method2 - Backtracking\n",
    "https://www.youtube.com/watch?v=qhBVWf0YafA"
   ]
  },
  {
   "cell_type": "code",
   "execution_count": 1,
   "metadata": {},
   "outputs": [
    {
     "name": "stdout",
     "output_type": "stream",
     "text": [
      "[[1, 1, 2], [1, 2, 1], [2, 1, 1]]\n"
     ]
    }
   ],
   "source": [
    "import collections\n",
    "def permuteUnique(nums):\n",
    "    result = []\n",
    "    counter = collections.Counter(nums)\n",
    "\n",
    "    def backtrack(perm, counter):\n",
    "        if len(perm) == len(nums):\n",
    "            result.append(perm.copy())\n",
    "\n",
    "        for n in counter:\n",
    "            if counter[n] == 0:\n",
    "                continue\n",
    "            perm.append(n)\n",
    "            counter[n] -= 1\n",
    "            backtrack(perm, counter)\n",
    "            perm.pop()\n",
    "            counter[n] += 1\n",
    "\n",
    "    backtrack([], counter)\n",
    "\n",
    "    return result\n",
    "\n",
    "nums = [1,1,2]\n",
    "print(permuteUnique(nums=[1,1,2]))"
   ]
  },
  {
   "cell_type": "markdown",
   "metadata": {},
   "source": [
    "## Method3 - Backtracking\n",
    "https://github.com/youngyangyang04/leetcode-master/blob/master/problems/0047.%E5%85%A8%E6%8E%92%E5%88%97II.md"
   ]
  },
  {
   "cell_type": "code",
   "execution_count": 2,
   "metadata": {},
   "outputs": [
    {
     "name": "stdout",
     "output_type": "stream",
     "text": [
      "[[1, 1, 2], [1, 2, 1], [2, 1, 1]]\n"
     ]
    }
   ],
   "source": [
    "def permuteUnique(nums):\n",
    "    def backtracking(nums, path, used, result):\n",
    "        if len(path) == len(nums):\n",
    "            result.append(path[:])\n",
    "            return\n",
    "        for i in range(len(nums)):\n",
    "            if (i > 0 and nums[i] == nums[i - 1] and not used[i - 1]) or used[i]:\n",
    "                continue\n",
    "            used[i] = True\n",
    "            path.append(nums[i])\n",
    "            backtracking(nums, path, used, result)\n",
    "            path.pop()\n",
    "            used[i] = False\n",
    "\n",
    "    nums.sort()  # 排序\n",
    "    result = []\n",
    "    backtracking(nums, [], [False] * len(nums), result)\n",
    "    return result\n",
    "\n",
    "nums = [1,1,2]\n",
    "print(permuteUnique(nums=[1,1,2]))"
   ]
  }
 ],
 "metadata": {
  "kernelspec": {
   "display_name": "leetcode_env",
   "language": "python",
   "name": "python3"
  },
  "language_info": {
   "codemirror_mode": {
    "name": "ipython",
    "version": 3
   },
   "file_extension": ".py",
   "mimetype": "text/x-python",
   "name": "python",
   "nbconvert_exporter": "python",
   "pygments_lexer": "ipython3",
   "version": "3.8.6"
  }
 },
 "nbformat": 4,
 "nbformat_minor": 2
}
