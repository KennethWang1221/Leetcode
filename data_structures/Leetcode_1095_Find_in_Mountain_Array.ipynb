{
 "cells": [
  {
   "cell_type": "markdown",
   "metadata": {},
   "source": [
    "## Method1 - Binary Search\n",
    "\n",
    "https://www.youtube.com/watch?v=BGgYC-YkGvc"
   ]
  },
  {
   "cell_type": "code",
   "execution_count": 4,
   "metadata": {},
   "outputs": [
    {
     "name": "stdout",
     "output_type": "stream",
     "text": [
      "2\n"
     ]
    }
   ],
   "source": [
    "# Mock MountainArray class for testing\n",
    "class MountainArray:\n",
    "    def __init__(self, arr):\n",
    "        self.arr = arr\n",
    "\n",
    "    def get(self, index: int) -> int:\n",
    "        return self.arr[index]\n",
    "\n",
    "    def length(self) -> int:\n",
    "        return len(self.arr)\n",
    "\n",
    "def findInMountainArray(target, mountain_arr):\n",
    "    n = mountain_arr.length()\n",
    "    \n",
    "    # Step 1: Find peak index\n",
    "    def find_peak():\n",
    "        left, right = 0, n - 1\n",
    "        while left < right:\n",
    "            mid = (left + right) // 2\n",
    "            if mountain_arr.get(mid) < mountain_arr.get(mid + 1):\n",
    "                left = mid + 1\n",
    "            else:\n",
    "                right = mid\n",
    "        return left  # Peak index\n",
    "\n",
    "    peak = find_peak()\n",
    "\n",
    "    # Step 2: Binary search on ascending part\n",
    "    def binary_search(left, right, target, increasing=True):\n",
    "        while left <= right:\n",
    "            mid = (left + right) // 2\n",
    "            val = mountain_arr.get(mid)\n",
    "            if val == target:\n",
    "                return mid\n",
    "            if increasing:\n",
    "                if val < target:\n",
    "                    left = mid + 1\n",
    "                else:\n",
    "                    right = mid - 1\n",
    "            else:  # Decreasing order\n",
    "                if val > target:\n",
    "                    left = mid + 1\n",
    "                else:\n",
    "                    right = mid - 1\n",
    "        return -1\n",
    "\n",
    "    # Search in the left (increasing) part\n",
    "    left_result = binary_search(0, peak, target, True)\n",
    "    if left_result != -1:\n",
    "        return left_result  # Found in left part\n",
    "\n",
    "    # Step 3: Binary search on descending part\n",
    "    return binary_search(peak + 1, n - 1, target, False)\n",
    "\n",
    "# Test case\n",
    "mountainArr = MountainArray([1, 2, 3, 4, 5, 3, 1])\n",
    "target = 3\n",
    "print(findInMountainArray(target, mountainArr))  # Expected output: 2\n"
   ]
  }
 ],
 "metadata": {
  "kernelspec": {
   "display_name": "leetcode_env",
   "language": "python",
   "name": "python3"
  },
  "language_info": {
   "codemirror_mode": {
    "name": "ipython",
    "version": 3
   },
   "file_extension": ".py",
   "mimetype": "text/x-python",
   "name": "python",
   "nbconvert_exporter": "python",
   "pygments_lexer": "ipython3",
   "version": "3.8.6"
  }
 },
 "nbformat": 4,
 "nbformat_minor": 2
}
