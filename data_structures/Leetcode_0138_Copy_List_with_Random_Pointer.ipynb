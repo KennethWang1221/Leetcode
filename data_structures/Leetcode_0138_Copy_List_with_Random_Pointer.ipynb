{
 "cells": [
  {
   "cell_type": "markdown",
   "metadata": {},
   "source": [
    "## Method1 - Linkedlist\n",
    "https://www.youtube.com/watch?v=5Y2EiZST97Y"
   ]
  },
  {
   "cell_type": "code",
   "execution_count": 6,
   "metadata": {},
   "outputs": [
    {
     "name": "stdout",
     "output_type": "stream",
     "text": [
      "[7, None],[13, 0],[11, 4],[10, 2],[1, 0],\n",
      "[7, None],[13, 0],[11, 4],[10, 2],[1, 0],\n"
     ]
    }
   ],
   "source": [
    "class ListNode:\n",
    "    def __init__(self, x,next=None,random=None):\n",
    "        self.val = x\n",
    "        self.next = None\n",
    "        self.random = random\n",
    "\n",
    "\n",
    "def make_list(arr):\n",
    "    head_node = None\n",
    "    p_node = None\n",
    "    for a in arr:\n",
    "        new_node = ListNode(a)\n",
    "        if head_node is None:\n",
    "            head_node = new_node\n",
    "            p_node = new_node\n",
    "        else:\n",
    "            p_node.next = new_node\n",
    "            p_node = new_node\n",
    "    return head_node\n",
    "\n",
    "\n",
    "def print_list(head):\n",
    "    while head is not None:\n",
    "        print(head.val, end=',')\n",
    "        head = head.next\n",
    "    print()\n",
    "\n",
    "\n",
    "class Solution:\n",
    "   def copyRandomList(self, head: ListNode) -> 'ListNode':\n",
    "        oldToCopy = {None: None}\n",
    "\n",
    "        cur = head\n",
    "        while cur:\n",
    "            copy = ListNode(cur.val)\n",
    "            oldToCopy[cur] = copy\n",
    "            cur = cur.next\n",
    "        cur = head\n",
    "        while cur:\n",
    "            copy = oldToCopy[cur]\n",
    "            copy.next = oldToCopy[cur.next]\n",
    "            copy.random = oldToCopy[cur.random]\n",
    "            cur = cur.next\n",
    "        return oldToCopy[head]\n",
    "\n",
    "head = make_list([[7,None],[13,0],[11,4],[10,2],[1,0]])\n",
    "print_list(head)\n",
    "s = Solution()\n",
    "head = s.copyRandomList(head)\n",
    "print_list(head)"
   ]
  },
  {
   "cell_type": "code",
   "execution_count": null,
   "metadata": {},
   "outputs": [],
   "source": []
  }
 ],
 "metadata": {
  "kernelspec": {
   "display_name": "leetcode_env",
   "language": "python",
   "name": "leetcode_env"
  },
  "language_info": {
   "codemirror_mode": {
    "name": "ipython",
    "version": 3
   },
   "file_extension": ".py",
   "mimetype": "text/x-python",
   "name": "python",
   "nbconvert_exporter": "python",
   "pygments_lexer": "ipython3",
   "version": "3.8.6"
  }
 },
 "nbformat": 4,
 "nbformat_minor": 2
}
