{
 "cells": [
  {
   "cell_type": "markdown",
   "metadata": {},
   "source": [
    "## Method1 - Backtracking - Recap\n",
    "\n",
    "https://www.youtube.com/watch?v=q0s6m7AiM7o"
   ]
  },
  {
   "cell_type": "markdown",
   "metadata": {},
   "source": [
    "Same idea to Leetcode_0216_Combination_Sum_II"
   ]
  },
  {
   "cell_type": "code",
   "execution_count": 4,
   "metadata": {},
   "outputs": [
    {
     "name": "stdout",
     "output_type": "stream",
     "text": [
      "[[1, 2], [1, 3], [1, 4], [2, 3], [2, 4], [3, 4]]\n"
     ]
    }
   ],
   "source": [
    "def combine(n, k):\n",
    "    res = []\n",
    "    def backtrack(start, comb):\n",
    "        if len(comb) == k:\n",
    "            res.append(comb.copy())\n",
    "            return\n",
    "        for i in range(start, n+1):\n",
    "            comb.append(i)\n",
    "            backtrack(i+1, comb)\n",
    "            comb.pop()\n",
    "    backtrack(1, [])\n",
    "    return res\n",
    "n = 4\n",
    "k = 2\n",
    "res = combine(n,k)\n",
    "print(res)"
   ]
  },
  {
   "cell_type": "markdown",
   "metadata": {},
   "source": [
    "## Method2 - Backtracking\n",
    "https://github.com/youngyangyang04/leetcode-master/blob/master/problems/0077.%E7%BB%84%E5%90%88.md"
   ]
  },
  {
   "cell_type": "code",
   "execution_count": 1,
   "metadata": {},
   "outputs": [
    {
     "name": "stdout",
     "output_type": "stream",
     "text": [
      "[[1, 2], [1, 3], [1, 4], [2, 3], [2, 4], [3, 4]]\n"
     ]
    }
   ],
   "source": [
    "def combine(n, k):\n",
    "    def backtracking(n, k, startIndex, path, result):\n",
    "        if len(path) == k:\n",
    "            result.append(path[:])\n",
    "            return\n",
    "        for i in range(startIndex, n + 1):  # 需要优化的地方\n",
    "            path.append(i)  # 处理节点\n",
    "            backtracking(n, k, i + 1, path, result)\n",
    "            path.pop()  # 回溯，撤销处理的节点\n",
    "    result = []  # 存放结果集\n",
    "    backtracking(n, k, 1, [], result)\n",
    "    return result\n",
    "\n",
    "n = 4\n",
    "k = 2\n",
    "res = combine(n,k)\n",
    "print(res)"
   ]
  },
  {
   "cell_type": "markdown",
   "metadata": {},
   "source": [
    "剪枝优化"
   ]
  },
  {
   "cell_type": "code",
   "execution_count": 2,
   "metadata": {},
   "outputs": [
    {
     "name": "stdout",
     "output_type": "stream",
     "text": [
      "[[1, 2], [1, 3], [1, 4], [2, 3], [2, 4], [3, 4]]\n"
     ]
    }
   ],
   "source": [
    "def combine(n, k):\n",
    "    def backtracking(n, k, startIndex, path, result):\n",
    "        if len(path) == k:\n",
    "            result.append(path[:])\n",
    "            return\n",
    "        for i in range(startIndex, n - (k - len(path)) + 2):  # 优化的地方\n",
    "            path.append(i)  # 处理节点\n",
    "            backtracking(n, k, i + 1, path, result)\n",
    "            path.pop()  # 回溯，撤销处理的节点\n",
    "\n",
    "    result = []  # 存放结果集\n",
    "    backtracking(n, k, 1, [], result)\n",
    "    return result\n",
    "\n",
    "n = 4\n",
    "k = 2\n",
    "res = combine(n,k)\n",
    "print(res)"
   ]
  },
  {
   "cell_type": "markdown",
   "metadata": {},
   "source": [
    "The overview of Backtracking: \n",
    "分析完过程，回溯算法模板框架如下：\n",
    "\n",
    "void backtracking(参数) {\n",
    "    if (终止条件) {\n",
    "        存放结果;\n",
    "        return;\n",
    "    }\n",
    "\n",
    "    for (选择：本层集合中元素（树中节点孩子的数量就是集合的大小）) {\n",
    "        处理节点;\n",
    "        backtracking(路径，选择列表); // 递归\n",
    "        回溯，撤销处理结果\n",
    "    }\n",
    "}\n",
    "\n",
    "https://github.com/youngyangyang04/leetcode-master/blob/master/problems/%E5%9B%9E%E6%BA%AF%E7%AE%97%E6%B3%95%E7%90%86%E8%AE%BA%E5%9F%BA%E7%A1%80.md"
   ]
  }
 ],
 "metadata": {
  "kernelspec": {
   "display_name": "leetcode_env",
   "language": "python",
   "name": "leetcode_env"
  },
  "language_info": {
   "codemirror_mode": {
    "name": "ipython",
    "version": 3
   },
   "file_extension": ".py",
   "mimetype": "text/x-python",
   "name": "python",
   "nbconvert_exporter": "python",
   "pygments_lexer": "ipython3",
   "version": "3.8.6"
  }
 },
 "nbformat": 4,
 "nbformat_minor": 2
}
