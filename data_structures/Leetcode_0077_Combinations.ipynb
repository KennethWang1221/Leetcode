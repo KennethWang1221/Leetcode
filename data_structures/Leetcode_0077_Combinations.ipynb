{
 "cells": [
  {
   "cell_type": "markdown",
   "metadata": {},
   "source": [
    "## Method1 - Backtracking\n",
    "\n",
    "https://www.youtube.com/watch?v=q0s6m7AiM7o"
   ]
  },
  {
   "cell_type": "code",
   "execution_count": 2,
   "metadata": {},
   "outputs": [
    {
     "name": "stdout",
     "output_type": "stream",
     "text": [
      "[[1, 2], [1, 3], [1, 4], [2, 3], [2, 4], [3, 4]]\n"
     ]
    }
   ],
   "source": [
    "def combine(n, k):\n",
    "    res = []\n",
    "    def helper(start, comb):\n",
    "        if len(comb) == k:\n",
    "            res.append(comb.copy())\n",
    "            return\n",
    "        for i in range(start, n+1):\n",
    "            comb.append(i)\n",
    "            helper(i+1, comb)\n",
    "            comb.pop()\n",
    "    helper(1, [])\n",
    "    return res\n",
    "n = 4\n",
    "k = 2\n",
    "res = combine(n,k)\n",
    "print(res)"
   ]
  },
  {
   "cell_type": "markdown",
   "metadata": {},
   "source": [
    "## Method2 - Backtracking\n",
    "https://github.com/youngyangyang04/leetcode-master/blob/master/problems/0077.%E7%BB%84%E5%90%88.md"
   ]
  },
  {
   "cell_type": "code",
   "execution_count": 1,
   "metadata": {},
   "outputs": [
    {
     "name": "stdout",
     "output_type": "stream",
     "text": [
      "[[1, 2], [1, 3], [1, 4], [2, 3], [2, 4], [3, 4]]\n"
     ]
    }
   ],
   "source": [
    "def combine(n, k):\n",
    "    result = []  # 存放结果集\n",
    "    backtracking(n, k, 1, [], result)\n",
    "    return result\n",
    "def backtracking(n, k, startIndex, path, result):\n",
    "    if len(path) == k:\n",
    "        result.append(path[:])\n",
    "        return\n",
    "    for i in range(startIndex, n + 1):  # 需要优化的地方\n",
    "        path.append(i)  # 处理节点\n",
    "        backtracking(n, k, i + 1, path, result)\n",
    "        path.pop()  # 回溯，撤销处理的节点\n",
    "n = 4\n",
    "k = 2\n",
    "res = combine(n,k)\n",
    "print(res)"
   ]
  },
  {
   "cell_type": "markdown",
   "metadata": {},
   "source": [
    "剪枝优化"
   ]
  },
  {
   "cell_type": "code",
   "execution_count": 2,
   "metadata": {},
   "outputs": [
    {
     "name": "stdout",
     "output_type": "stream",
     "text": [
      "[[1, 2], [1, 3], [1, 4], [2, 3], [2, 4], [3, 4]]\n"
     ]
    }
   ],
   "source": [
    "def combine(n, k):\n",
    "    result = []  # 存放结果集\n",
    "    backtracking(n, k, 1, [], result)\n",
    "    return result\n",
    "def backtracking(n, k, startIndex, path, result):\n",
    "    if len(path) == k:\n",
    "        result.append(path[:])\n",
    "        return\n",
    "    for i in range(startIndex, n - (k - len(path)) + 2):  # 优化的地方\n",
    "        path.append(i)  # 处理节点\n",
    "        backtracking(n, k, i + 1, path, result)\n",
    "        path.pop()  # 回溯，撤销处理的节点\n",
    "\n",
    "n = 4\n",
    "k = 2\n",
    "res = combine(n,k)\n",
    "print(res)"
   ]
  }
 ],
 "metadata": {
  "kernelspec": {
   "display_name": "leetcode_env",
   "language": "python",
   "name": "leetcode_env"
  },
  "language_info": {
   "codemirror_mode": {
    "name": "ipython",
    "version": 3
   },
   "file_extension": ".py",
   "mimetype": "text/x-python",
   "name": "python",
   "nbconvert_exporter": "python",
   "pygments_lexer": "ipython3",
   "version": "3.8.6"
  }
 },
 "nbformat": 4,
 "nbformat_minor": 2
}
