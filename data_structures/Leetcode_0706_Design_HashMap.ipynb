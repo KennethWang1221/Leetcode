{
 "cells": [
  {
   "cell_type": "markdown",
   "metadata": {},
   "source": [
    "## Method1 - Hashsmap\n",
    "\n",
    "https://www.youtube.com/watch?v=cNWsgbKwwoU"
   ]
  },
  {
   "cell_type": "code",
   "execution_count": 1,
   "metadata": {},
   "outputs": [
    {
     "name": "stdout",
     "output_type": "stream",
     "text": [
      "Get key 1: 100\n",
      "Get key 2: 200\n",
      "Get key 3: -1\n",
      "Get key 1 after update: 500\n",
      "Get key 2 after removal: -1\n",
      "Get key 3 after removal: -1\n"
     ]
    }
   ],
   "source": [
    "class ListNode:\n",
    "    def __init__(self, key=-1, val=-1, next=None):\n",
    "        self.key = key\n",
    "        self.val = val\n",
    "        self.next = next\n",
    "\n",
    "class MyHashMap:\n",
    "    def __init__(self):\n",
    "        self.map = [ListNode() for i in range(1000)]\n",
    "        \n",
    "    def hashcode(self, key):\n",
    "        return key % len(self.map)\n",
    "\n",
    "    def put(self, key: int, value: int) -> None:\n",
    "        cur = self.map[self.hashcode(key)]\n",
    "        while cur.next:\n",
    "            if cur.next.key == key:\n",
    "                cur.next.val = value\n",
    "                return\n",
    "            cur = cur.next\n",
    "        cur.next = ListNode(key, value)\n",
    "         \n",
    "    def get(self, key: int) -> int:\n",
    "        cur = self.map[self.hashcode(key)].next\n",
    "        while cur and cur.key != key:\n",
    "            cur = cur.next\n",
    "        if cur:\n",
    "            return cur.val\n",
    "        return -1\n",
    "\n",
    "    def remove(self, key: int) -> None:\n",
    "        cur = self.map[self.hashcode(key)]\n",
    "        while cur.next and cur.next.key != key:\n",
    "            cur = cur.next\n",
    "        if cur and cur.next:\n",
    "            cur.next = cur.next.next\n",
    "\n",
    "hashmap = MyHashMap()\n",
    "\n",
    "# Test put and get methods\n",
    "hashmap.put(1, 100)\n",
    "hashmap.put(2, 200)\n",
    "print(f\"Get key 1: {hashmap.get(1)}\")  # Expected output: 100\n",
    "print(f\"Get key 2: {hashmap.get(2)}\")  # Expected output: 200\n",
    "print(f\"Get key 3: {hashmap.get(3)}\")  # Expected output: -1 (not found)\n",
    "\n",
    "# Test put method with the same key, it should update the value\n",
    "hashmap.put(1, 500)\n",
    "print(f\"Get key 1 after update: {hashmap.get(1)}\")  # Expected output: 500\n",
    "\n",
    "# Test remove method\n",
    "hashmap.remove(2)\n",
    "print(f\"Get key 2 after removal: {hashmap.get(2)}\")  # Expected output: -1 (not found)\n",
    "\n",
    "# Test remove method with a key that does not exist\n",
    "hashmap.remove(3)\n",
    "print(f\"Get key 3 after removal: {hashmap.get(3)}\")  # Expected output: -1 (not found)\n",
    "\n"
   ]
  }
 ],
 "metadata": {
  "kernelspec": {
   "display_name": "leetcode_env",
   "language": "python",
   "name": "python3"
  },
  "language_info": {
   "codemirror_mode": {
    "name": "ipython",
    "version": 3
   },
   "file_extension": ".py",
   "mimetype": "text/x-python",
   "name": "python",
   "nbconvert_exporter": "python",
   "pygments_lexer": "ipython3",
   "version": "3.8.6"
  }
 },
 "nbformat": 4,
 "nbformat_minor": 2
}
