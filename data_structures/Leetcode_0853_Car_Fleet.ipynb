{
 "cells": [
  {
   "cell_type": "markdown",
   "metadata": {},
   "source": [
    "## Method1 - Stack\n",
    "\n",
    "https://www.youtube.com/watch?v=Pr6T-3yB9RM"
   ]
  },
  {
   "cell_type": "code",
   "execution_count": 1,
   "metadata": {},
   "outputs": [
    {
     "name": "stdout",
     "output_type": "stream",
     "text": [
      "3\n"
     ]
    }
   ],
   "source": [
    "def carFleet(target,position,speed):\n",
    "    pair = [(p, s) for p, s in zip(position, speed)]\n",
    "    pair.sort(reverse=True)\n",
    "    stack = []\n",
    "    for p, s in pair:  # Reverse Sorted Order\n",
    "        stack.append((target - p) / s)\n",
    "        if len(stack) >= 2 and stack[-1] <= stack[-2]:\n",
    "            stack.pop()\n",
    "    return len(stack)\n",
    "print(carFleet(target = 12, position = [10,8,0,5,3], speed = [2,4,1,1,3]))"
   ]
  }
 ],
 "metadata": {
  "kernelspec": {
   "display_name": "leetcode_env",
   "language": "python",
   "name": "python3"
  },
  "language_info": {
   "codemirror_mode": {
    "name": "ipython",
    "version": 3
   },
   "file_extension": ".py",
   "mimetype": "text/x-python",
   "name": "python",
   "nbconvert_exporter": "python",
   "pygments_lexer": "ipython3",
   "version": "3.8.6"
  }
 },
 "nbformat": 4,
 "nbformat_minor": 2
}
