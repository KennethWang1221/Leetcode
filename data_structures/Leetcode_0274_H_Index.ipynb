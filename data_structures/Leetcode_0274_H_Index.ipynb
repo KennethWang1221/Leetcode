{
 "cells": [
  {
   "cell_type": "markdown",
   "metadata": {},
   "source": [
    "## Method1 - Sorting\n",
    "https://leetcode.com/problems/h-index/solutions/3403785/easy-to-understand-python-solution-with-explanation/"
   ]
  },
  {
   "cell_type": "code",
   "execution_count": 1,
   "metadata": {},
   "outputs": [
    {
     "name": "stdout",
     "output_type": "stream",
     "text": [
      "3\n"
     ]
    }
   ],
   "source": [
    "def hIndex(citations):\n",
    "    c = sorted(citations)\n",
    "    n = len(c)\n",
    "    for i in range(n):\n",
    "        diff = n - i\n",
    "        if c[i] >= diff:\n",
    "            return diff\n",
    "    return 0\n",
    "\n",
    "citations = [3,0,6,1,5]\n",
    "res = hIndex(citations)\n",
    "print(res)"
   ]
  },
  {
   "cell_type": "markdown",
   "metadata": {},
   "source": [
    "## Method2 - Binary_Search"
   ]
  },
  {
   "cell_type": "code",
   "execution_count": 3,
   "metadata": {},
   "outputs": [
    {
     "name": "stdout",
     "output_type": "stream",
     "text": [
      "3\n"
     ]
    }
   ],
   "source": [
    "def hIndex(citations):\n",
    "    n = len(citations)\n",
    "    l, r = 0, n-1\n",
    "    while l<=r:\n",
    "        mid = (l+r)//2\n",
    "\n",
    "        if n-mid > citations[mid]:\n",
    "            l = mid + 1\n",
    "        elif n-mid < citations[mid]:\n",
    "            r = mid - 1\n",
    "        elif n -mid == citations[mid]:\n",
    "            return n-mid\n",
    "    return n- l\n",
    "citations = [3,0,6,1,5]\n",
    "res = hIndex(citations)\n",
    "print(res)"
   ]
  }
 ],
 "metadata": {
  "kernelspec": {
   "display_name": "leetcode_env",
   "language": "python",
   "name": "leetcode_env"
  },
  "language_info": {
   "codemirror_mode": {
    "name": "ipython",
    "version": 3
   },
   "file_extension": ".py",
   "mimetype": "text/x-python",
   "name": "python",
   "nbconvert_exporter": "python",
   "pygments_lexer": "ipython3",
   "version": "3.8.6"
  },
  "orig_nbformat": 4
 },
 "nbformat": 4,
 "nbformat_minor": 2
}
