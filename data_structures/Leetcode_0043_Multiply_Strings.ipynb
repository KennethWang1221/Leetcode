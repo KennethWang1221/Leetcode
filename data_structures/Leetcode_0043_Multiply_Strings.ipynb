{
 "cells": [
  {
   "cell_type": "markdown",
   "metadata": {},
   "source": [
    "## Method1 - Math\n",
    "\n",
    "https://www.youtube.com/watch?v=1vZswirL8Y8"
   ]
  },
  {
   "cell_type": "code",
   "execution_count": 1,
   "metadata": {},
   "outputs": [
    {
     "name": "stdout",
     "output_type": "stream",
     "text": [
      "6\n"
     ]
    }
   ],
   "source": [
    "def multiply(num1, num2):\n",
    "    if \"0\" in [num1, num2]:\n",
    "        return \"0\"\n",
    "\n",
    "    res = [0] * (len(num1) + len(num2))\n",
    "    num1, num2 = num1[::-1], num2[::-1]\n",
    "    for i1 in range(len(num1)):\n",
    "        for i2 in range(len(num2)):\n",
    "            digit = int(num1[i1]) * int(num2[i2])\n",
    "            res[i1 + i2] += digit\n",
    "            res[i1 + i2 + 1] += res[i1 + i2] // 10\n",
    "            res[i1 + i2] = res[i1 + i2] % 10\n",
    "\n",
    "    res, beg = res[::-1], 0\n",
    "    while beg < len(res) and res[beg] == 0:\n",
    "        beg += 1\n",
    "    res = map(str, res[beg:])\n",
    "    return \"\".join(res)\n",
    "print(multiply(num1 = \"2\", num2 = \"3\"))"
   ]
  }
 ],
 "metadata": {
  "kernelspec": {
   "display_name": "leetcode_env",
   "language": "python",
   "name": "python3"
  },
  "language_info": {
   "codemirror_mode": {
    "name": "ipython",
    "version": 3
   },
   "file_extension": ".py",
   "mimetype": "text/x-python",
   "name": "python",
   "nbconvert_exporter": "python",
   "pygments_lexer": "ipython3",
   "version": "3.8.6"
  }
 },
 "nbformat": 4,
 "nbformat_minor": 2
}
