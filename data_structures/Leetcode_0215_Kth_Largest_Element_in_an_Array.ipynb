{
 "cells": [
  {
   "attachments": {},
   "cell_type": "markdown",
   "metadata": {},
   "source": [
    "## Method1 - Sorting\n",
    "Time Complexity:\n",
    "    - Best Case: O(n)\n",
    "    - Average Case: O(n*log(n))\n",
    "    - Worst Case:O(n*log(n))\n",
    "Extra Space Complexity: O(n)\n",
    "\n",
    "https://www.youtube.com/watch?v=XEmy13g1Qxc\n"
   ]
  },
  {
   "cell_type": "code",
   "execution_count": 1,
   "metadata": {},
   "outputs": [
    {
     "name": "stdout",
     "output_type": "stream",
     "text": [
      "5\n"
     ]
    }
   ],
   "source": [
    "def findKthLargest(nums, k):\n",
    "    nums.sort()\n",
    "    return nums[len(nums) - k]\n",
    "\n",
    "nums = [3,2,1,5,6,4]\n",
    "k = 2\n",
    "res = findKthLargest(nums,k)\n",
    "print(res)"
   ]
  },
  {
   "attachments": {},
   "cell_type": "markdown",
   "metadata": {},
   "source": [
    "## Method2 - Heap - QuickSelect\n",
    "Time Complexity:\n",
    "    - Best Case: O(n)\n",
    "    - Average Case: O(n)\n",
    "    - Worst Case: O(n^2)\n",
    "Extra Space Complexity: O(1)\n",
    "https://www.youtube.com/watch?v=XEmy13g1Qxc"
   ]
  },
  {
   "cell_type": "code",
   "execution_count": 14,
   "metadata": {},
   "outputs": [
    {
     "name": "stdout",
     "output_type": "stream",
     "text": [
      "5\n"
     ]
    }
   ],
   "source": [
    "def findKthLargest(nums, k):\n",
    "    k = len(nums) - k\n",
    "\n",
    "    def quickSelect(l,r):\n",
    "        p, pivot = l, nums[r]\n",
    "        for i in range(l,r):\n",
    "            if nums[i] <= pivot:\n",
    "                nums[p], nums[i] = nums[i], nums[p]\n",
    "                p+=1\n",
    "        nums[p], nums[r] = nums[r], nums[p]\n",
    "\n",
    "        if p > k: return quickSelect(l,p-1)\n",
    "        elif p < k: return quickSelect(p+1,r)\n",
    "        else: return nums[p]\n",
    "\n",
    "    return quickSelect(0, len(nums)-1)\n",
    "\n",
    "nums = [3,2,1,5,6,4]\n",
    "k = 2\n",
    "res = findKthLargest(nums,k)\n",
    "print(res)"
   ]
  },
  {
   "cell_type": "markdown",
   "metadata": {},
   "source": [
    "## Quick Sort"
   ]
  },
  {
   "cell_type": "code",
   "execution_count": 7,
   "metadata": {},
   "outputs": [
    {
     "name": "stdout",
     "output_type": "stream",
     "text": [
      "[2]\n",
      "[1, 2]\n",
      "[4]\n",
      "[4, 7]\n",
      "[9]\n",
      "[4, 7, 8, 9]\n",
      "[1, 2, 3, 4, 7, 8, 9]\n",
      "[1, 2, 3, 4, 7, 8, 9, 14]\n",
      "[19]\n",
      "[1, 2, 3, 4, 7, 8, 9, 14, 16, 19]\n"
     ]
    },
    {
     "data": {
      "text/plain": [
       "[1, 2, 3, 4, 7, 8, 9, 14, 16, 19]"
      ]
     },
     "execution_count": 7,
     "metadata": {},
     "output_type": "execute_result"
    }
   ],
   "source": [
    "# Each loop, samll item go head (pass to d[0]), big item go tail (pass to d[2])\n",
    "# which means samll section of array go head and big section of array go tail\n",
    "\n",
    "def quick_sort(array):\n",
    "    n = len(array)\n",
    "    i_count = 0\n",
    "    d_pivort = array[-1]\n",
    "    d = [[],[],[]]\n",
    "    for i in array:\n",
    "        if i<d_pivort:\n",
    "            d[0].append(i)\n",
    "        elif i>d_pivort:\n",
    "            d[2].append(i)\n",
    "        else:\n",
    "            d[1].append(i)\n",
    "    if len(d[0])>0:\n",
    "        d[0] = quick_sort(d[0])\n",
    "    if len(d[2])>0:\n",
    "        d[2] = quick_sort(d[2])\n",
    "    d[0].extend(d[1])\n",
    "    d[0].extend(d[2])\n",
    "    print(d[0])\n",
    "    return d[0]\n",
    "\n",
    "\n",
    "array = [2,4,9,1,7,8,3,14,19,16]\n",
    "quick_sort(array)"
   ]
  }
 ],
 "metadata": {
  "kernelspec": {
   "display_name": "leetcode_env",
   "language": "python",
   "name": "leetcode_env"
  },
  "language_info": {
   "codemirror_mode": {
    "name": "ipython",
    "version": 3
   },
   "file_extension": ".py",
   "mimetype": "text/x-python",
   "name": "python",
   "nbconvert_exporter": "python",
   "pygments_lexer": "ipython3",
   "version": "3.8.6"
  },
  "orig_nbformat": 4
 },
 "nbformat": 4,
 "nbformat_minor": 2
}
