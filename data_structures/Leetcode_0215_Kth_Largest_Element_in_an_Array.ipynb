{
 "cells": [
  {
   "attachments": {},
   "cell_type": "markdown",
   "metadata": {},
   "source": [
    "## Method1 - Sorting\n",
    "Time Complexity:\n",
    "    - Best Case: O(n)\n",
    "    - Average Case: O(n*log(n))\n",
    "    - Worst Case:O(n*log(n))\n",
    "Extra Space Complexity: O(n)\n",
    "\n",
    "https://www.youtube.com/watch?v=XEmy13g1Qxc\n"
   ]
  },
  {
   "cell_type": "code",
   "execution_count": 1,
   "metadata": {},
   "outputs": [
    {
     "name": "stdout",
     "output_type": "stream",
     "text": [
      "5\n"
     ]
    }
   ],
   "source": [
    "def findKthLargest(nums, k):\n",
    "    nums.sort()\n",
    "    return nums[len(nums) - k]\n",
    "\n",
    "nums = [3,2,1,5,6,4]\n",
    "k = 2\n",
    "res = findKthLargest(nums,k)\n",
    "print(res)"
   ]
  },
  {
   "attachments": {},
   "cell_type": "markdown",
   "metadata": {},
   "source": [
    "## Method2 - Heap - QuickSelect\n",
    "Time Complexity:\n",
    "    - Best Case: O(n)\n",
    "    - Average Case: O(n)\n",
    "    - Worst Case: O(n^2)\n",
    "Extra Space Complexity: O(1)\n",
    "https://www.youtube.com/watch?v=XEmy13g1Qxc"
   ]
  },
  {
   "cell_type": "code",
   "execution_count": 2,
   "metadata": {},
   "outputs": [
    {
     "name": "stdout",
     "output_type": "stream",
     "text": [
      "5\n"
     ]
    }
   ],
   "source": [
    "def findKthLargest(nums, k):\n",
    "    k = len(nums) - k\n",
    "\n",
    "    def quickSelect(l,r):\n",
    "        pivot, p = nums[r], l\n",
    "        for i in range(l,r):\n",
    "            if nums[i] <= pivot:\n",
    "                nums[p], nums[i] = nums[i], nums[p]\n",
    "                p+=1\n",
    "        nums[p], nums[r] = nums[r], nums[p]\n",
    "\n",
    "        if p > k: return quickSelect(l,p-1)\n",
    "        elif p < k: return quickSelect(p+1,r)\n",
    "        else: return nums[p]\n",
    "\n",
    "    return quickSelect(0, len(nums)-1)\n",
    "\n",
    "nums = [3,2,1,5,6,4]\n",
    "k = 2\n",
    "res = findKthLargest(nums,k)\n",
    "print(res)"
   ]
  }
 ],
 "metadata": {
  "kernelspec": {
   "display_name": "leetcode_env",
   "language": "python",
   "name": "leetcode_env"
  },
  "language_info": {
   "codemirror_mode": {
    "name": "ipython",
    "version": 3
   },
   "file_extension": ".py",
   "mimetype": "text/x-python",
   "name": "python",
   "nbconvert_exporter": "python",
   "pygments_lexer": "ipython3",
   "version": "3.8.6"
  },
  "orig_nbformat": 4
 },
 "nbformat": 4,
 "nbformat_minor": 2
}
