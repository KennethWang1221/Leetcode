{
 "cells": [
  {
   "cell_type": "markdown",
   "metadata": {},
   "source": [
    "## Method1 - Array"
   ]
  },
  {
   "cell_type": "code",
   "execution_count": 1,
   "metadata": {},
   "outputs": [
    {
     "name": "stdout",
     "output_type": "stream",
     "text": [
      "True\n",
      "True\n",
      "False\n",
      "False\n"
     ]
    }
   ],
   "source": [
    "class ParkingSystem:\n",
    "    def __init__(self, big: int, medium: int, small: int):\n",
    "        self.spaces = [big, medium, small]\n",
    "\n",
    "    def addCar(self, carType: int) -> bool:\n",
    "        if self.spaces[carType-1] > 0:\n",
    "            self.spaces[carType-1] -= 1\n",
    "            return True\n",
    "        return False\n",
    "# Initialize ParkingSystem with 1 big, 1 medium, 0 small slots\n",
    "ps = ParkingSystem(1, 1, 0)\n",
    "print(ps.addCar(1))  # Output: True (big car added)\n",
    "print(ps.addCar(2))  # Output: True (medium car added)\n",
    "print(ps.addCar(3))  # Output: False (no small slot)\n",
    "print(ps.addCar(1))  # Output: False (big slot already full)"
   ]
  }
 ],
 "metadata": {
  "kernelspec": {
   "display_name": "leetcode_env",
   "language": "python",
   "name": "leetcode_env"
  },
  "language_info": {
   "codemirror_mode": {
    "name": "ipython",
    "version": 3
   },
   "file_extension": ".py",
   "mimetype": "text/x-python",
   "name": "python",
   "nbconvert_exporter": "python",
   "pygments_lexer": "ipython3",
   "version": "3.8.6"
  }
 },
 "nbformat": 4,
 "nbformat_minor": 2
}
