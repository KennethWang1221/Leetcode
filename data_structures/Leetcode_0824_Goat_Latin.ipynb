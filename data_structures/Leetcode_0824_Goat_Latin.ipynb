{
 "cells": [
  {
   "cell_type": "markdown",
   "metadata": {},
   "source": [
    "## Method1: DIY"
   ]
  },
  {
   "cell_type": "code",
   "execution_count": 95,
   "metadata": {},
   "outputs": [
    {
     "name": "stdout",
     "output_type": "stream",
     "text": [
      "Imaa peaksmaaa oatGmaaaa atinLmaaaaa\n",
      "Imaa peaksmaaa oatGmaaaa atinLmaaaaa\n"
     ]
    }
   ],
   "source": [
    "def toGoatLatin(sentence):\n",
    "    result = []\n",
    "    vowel = ['a','e','i','o','u','A','E','I','O','U']\n",
    "    ma = 'ma'\n",
    "    a = 'a'\n",
    "    \n",
    "    sentence = sentence.split() # ['I', 'speak', 'Goat', 'Latin'] \n",
    "    n = len(sentence) # len==4\n",
    "\n",
    "    for i in range(n):\n",
    "        a_count = i+1\n",
    "        prefix = sentence[i][0]\n",
    "        if prefix in vowel:\n",
    "            add_string = sentence[i] + ma + a_count*a\n",
    "            result.append(add_string)\n",
    "        else:\n",
    "            sentence[i] = sentence[i][1:]\n",
    "            add_string = sentence[i] + prefix + ma + a_count*a\n",
    "            result.append(add_string)\n",
    "    result = \" \".join(result)\n",
    "    return result\n",
    "\n",
    "\n",
    "sentence = \"I speak Goat Latin\" # len==18\n",
    "result = toGoatLatin(sentence)\n",
    "print(result)\n",
    "expected = 'Imaa peaksmaaa oatGmaaaa atinLmaaaaa'\n",
    "print(expected)"
   ]
  },
  {
   "cell_type": "markdown",
   "metadata": {},
   "source": [
    "## Method2: DIY"
   ]
  },
  {
   "cell_type": "code",
   "execution_count": 87,
   "metadata": {},
   "outputs": [
    {
     "name": "stdout",
     "output_type": "stream",
     "text": [
      "Imaa peaksmaaa oatGmaaaa atinLmaaaaa\n",
      "Imaa peaksmaaa oatGmaaaa atinLmaaaaa\n"
     ]
    }
   ],
   "source": [
    "def toGoatLatin(sentence):\n",
    "    result = []\n",
    "    vowel = ['a','e','i','o','u','A','E','I','O','U']\n",
    "    ma = 'ma'\n",
    "    a = 'a'\n",
    "    \n",
    "    def remove_char(string,index):\n",
    "        substring = []\n",
    "        for i in range(len(string)):\n",
    "            if i !=index:\n",
    "                substring.append(string[i])\n",
    "        return ''.join(substring)\n",
    "\n",
    "\n",
    "    sentence = sentence.split() # ['I', 'speak', 'Goat', 'Latin'] \n",
    "    n = len(sentence) # len==4\n",
    "\n",
    "    for i in range(n):\n",
    "        a_count = i+1\n",
    "        prefix = sentence[i][0]\n",
    "        if prefix in vowel:\n",
    "            add_string = sentence[i] + ma + a_count*a\n",
    "            result.append(add_string)\n",
    "        else:\n",
    "            sentence[i] = remove_char(sentence[i],0)\n",
    "            add_string = sentence[i] + prefix + ma + a_count*a\n",
    "            result.append(add_string)\n",
    "\n",
    "    return \" \".join(result)\n",
    "\n",
    "\n",
    "sentence = \"I speak Goat Latin\" # len==18\n",
    "result = toGoatLatin(sentence)\n",
    "print(result)\n",
    "expected = 'Imaa peaksmaaa oatGmaaaa atinLmaaaaa'\n",
    "print(expected)"
   ]
  },
  {
   "cell_type": "markdown",
   "metadata": {},
   "source": [
    "## Remove first or specified character from a string"
   ]
  },
  {
   "cell_type": "markdown",
   "metadata": {},
   "source": [
    "Method1"
   ]
  },
  {
   "cell_type": "code",
   "execution_count": 82,
   "metadata": {},
   "outputs": [
    {
     "name": "stdout",
     "output_type": "stream",
     "text": [
      "['p']\n",
      "['p', 'e']\n",
      "['p', 'e', 'a']\n",
      "['p', 'e', 'a', 'k']\n",
      "['p', 'e', 'a', 'k', 's']\n",
      "peaks\n"
     ]
    }
   ],
   "source": [
    "# a = 'speak'\n",
    "# result = []\n",
    "# for i in range(len(a)):\n",
    "#     if i == 1:\n",
    "#         pass\n",
    "#     else:\n",
    "#         result.append(a[i])\n",
    "# result = \"\".join(result)\n",
    "# print(result)\n",
    "\n",
    "a = 'speaks'\n",
    "result = []\n",
    "for i in range(len(a)):\n",
    "    if i != 0:\n",
    "        result.append(a[i])\n",
    "        print(result)\n",
    "result = \"\".join(result)\n",
    "print(result)"
   ]
  },
  {
   "cell_type": "markdown",
   "metadata": {},
   "source": [
    "Method2"
   ]
  },
  {
   "cell_type": "code",
   "execution_count": 83,
   "metadata": {},
   "outputs": [
    {
     "name": "stdout",
     "output_type": "stream",
     "text": [
      "peaks\n"
     ]
    }
   ],
   "source": [
    "def remove_char(string,index):\n",
    "    substring = []\n",
    "    for i in range(len(string)):\n",
    "        if i !=index:\n",
    "            substring.append(string[i])\n",
    "    return ''.join(substring)\n",
    "\n",
    "a = 'speaks'\n",
    "result = remove_char(a,0)\n",
    "print(result)"
   ]
  },
  {
   "cell_type": "code",
   "execution_count": 74,
   "metadata": {},
   "outputs": [
    {
     "name": "stdout",
     "output_type": "stream",
     "text": [
      "['p']\n",
      "['p', 'e']\n",
      "['p', 'e', 'a']\n",
      "['p', 'e', 'a', 'k']\n",
      "peak\n"
     ]
    }
   ],
   "source": [
    "a = 'speaks'\n",
    "result = []\n",
    "for i in range(len(a)):\n",
    "    if a[i] != 's':\n",
    "        result.append(a[i])\n",
    "        print(result)\n",
    "result = \"\".join(result)\n",
    "print(result)"
   ]
  },
  {
   "cell_type": "markdown",
   "metadata": {},
   "source": [
    "Method3"
   ]
  },
  {
   "cell_type": "code",
   "execution_count": 79,
   "metadata": {},
   "outputs": [
    {
     "name": "stdout",
     "output_type": "stream",
     "text": [
      "speaks\n",
      "peaks\n"
     ]
    }
   ],
   "source": [
    "a = 'speaks'\n",
    "print(a)\n",
    "a = a[1:]\n",
    "print(a)"
   ]
  },
  {
   "cell_type": "code",
   "execution_count": 90,
   "metadata": {},
   "outputs": [
    {
     "name": "stdout",
     "output_type": "stream",
     "text": [
      "['s', 'p', 'e', 'a', 'k', 's']\n",
      "<class 'list'>\n",
      "<class 'str'>\n",
      "['p', 'e', 'a', 'k', 's']\n",
      "=====\n",
      "[1, 2, 3, 4, 5, 6]\n",
      "<class 'list'>\n",
      "<class 'int'>\n",
      "[2, 3, 4, 5, 6]\n"
     ]
    }
   ],
   "source": [
    "a = ['s','p','e','a','k','s']\n",
    "print(a)\n",
    "print(type(a))\n",
    "print(type(a[0]))\n",
    "a = a[1:]\n",
    "print(a)\n",
    "print(\"=====\")\n",
    "a = [1,2,3,4,5,6]\n",
    "print(a)\n",
    "print(type(a))\n",
    "print(type(a[0]))\n",
    "a = a[1:]\n",
    "print(a)"
   ]
  },
  {
   "cell_type": "code",
   "execution_count": 78,
   "metadata": {},
   "outputs": [
    {
     "name": "stdout",
     "output_type": "stream",
     "text": [
      "Original string: Engineering\n",
      "String after removal of character: Enineering\n"
     ]
    }
   ],
   "source": [
    "# https://www.askpython.com/python/string/remove-character-from-string-python\n",
    "\n",
    "str = \"Engineering\"\n",
    "   \n",
    " \n",
    "print (\"Original string: \" + str) \n",
    "   \n",
    "# Removing char at pos 3 \n",
    "# using slice + concatenation \n",
    "res_str = str[:2] +  str[3:] \n",
    "   \n",
    " \n",
    "print (\"String after removal of character: \" + res_str) \n"
   ]
  },
  {
   "cell_type": "markdown",
   "metadata": {},
   "source": [
    "## Replace recap"
   ]
  },
  {
   "cell_type": "code",
   "execution_count": 57,
   "metadata": {},
   "outputs": [
    {
     "name": "stdout",
     "output_type": "stream",
     "text": [
      "dspeak\n",
      "====\n",
      "ddpeak\n",
      "====\n",
      "thwas was string example....wow!!! thwas was really string\n",
      "thwas was string example....wow!!! thwas is really string\n"
     ]
    }
   ],
   "source": [
    "# https://blog.csdn.net/zdz0200/article/details/81453367\n",
    "a = 'sspeak'\n",
    "s = a.replace('s','d',1)\n",
    "print(s)\n",
    "print(\"====\")\n",
    "a = 'sspeak'\n",
    "s = a.replace('s','d',3) # \n",
    "print(s)\n",
    "\n",
    "\"\"\"\n",
    "replace(old, new[, max])\n",
    "\n",
    "基本用法：ss.replace(old, new[, max])\n",
    "\n",
    "old是原字符串中的字符，new是需要替换为的新字符串，max是最大匹配次数，匹配时从左到右最多max次。一般情况下不设置max的值，默认全部替换。\n",
    "\n",
    "\n",
    "Parameters\n",
    "old − This is old substring to be replaced.\n",
    "\n",
    "new − This is new substring, which would replace old substring.\n",
    "\n",
    "max − If this optional argument max is given, only the first count occurrences are replaced.\n",
    "\n",
    "\n",
    "\"\"\"\n",
    "print(\"====\")\n",
    "# https://www.tutorialspoint.com/python3/string_replace.htm\n",
    "str = \"this is string example....wow!!! this is really string\"\n",
    "print (str.replace(\"is\", \"was\"))\n",
    "print (str.replace(\"is\", \"was\", 3))"
   ]
  },
  {
   "cell_type": "markdown",
   "metadata": {},
   "source": [
    "## wrong version"
   ]
  },
  {
   "cell_type": "code",
   "execution_count": 91,
   "metadata": {},
   "outputs": [
    {
     "name": "stdout",
     "output_type": "stream",
     "text": [
      "Ima Ia speaks speakma aa GoatG Goatma aaa LatinL Latinma aaaa\n",
      "Imaa peaksmaaa oatGmaaaa atinLmaaaaa\n"
     ]
    }
   ],
   "source": [
    "def toGoatLatin(sentence):\n",
    "    result = []\n",
    "    vowel = ['a','e','i','o','u','A','E','I','O','U']\n",
    "    ma = 'ma'\n",
    "    a = 'a'\n",
    "    \n",
    "    sentence = sentence.split() # ['I', 'speak', 'Goat', 'Latin'] \n",
    "    n = len(sentence) # len==4\n",
    "\n",
    "    for i in range(n):\n",
    "        a_count = i+1\n",
    "        prefix = sentence[i][0]\n",
    "        if sentence[i][0] in vowel:\n",
    "            result.append(sentence[i] + ma) # wrong\n",
    "            result.append(sentence[i] + a_count*a) # wrong\n",
    "        else:\n",
    "            sentence[i] = sentence[i].replace(prefix,\"\",0)\n",
    "            result.append(sentence[i] + prefix)# wrong\n",
    "            result.append(sentence[i] + ma)# wrong\n",
    "            result.append(a_count*a)# wrong need combine those together and then append\n",
    "\n",
    "    return \" \".join(result)\n",
    "\n",
    "\n",
    "sentence = \"I speak Goat Latin\" # len==18\n",
    "result = toGoatLatin(sentence)\n",
    "print(result)\n",
    "expected = 'Imaa peaksmaaa oatGmaaaa atinLmaaaaa'\n",
    "print(expected)"
   ]
  }
 ],
 "metadata": {
  "kernelspec": {
   "display_name": "Python 3.8.6 64-bit ('leetcode_env')",
   "language": "python",
   "name": "python3"
  },
  "language_info": {
   "codemirror_mode": {
    "name": "ipython",
    "version": 3
   },
   "file_extension": ".py",
   "mimetype": "text/x-python",
   "name": "python",
   "nbconvert_exporter": "python",
   "pygments_lexer": "ipython3",
   "version": "3.8.6"
  },
  "orig_nbformat": 4,
  "vscode": {
   "interpreter": {
    "hash": "846fd2d9bb562a436898b7cc368204fc2f9d44e5e9b051b4f6e855e721078f23"
   }
  }
 },
 "nbformat": 4,
 "nbformat_minor": 2
}
