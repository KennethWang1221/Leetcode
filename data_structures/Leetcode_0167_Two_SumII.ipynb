{
 "cells": [
  {
   "cell_type": "markdown",
   "metadata": {},
   "source": [
    "## Method1 - Two Pointers\n",
    "https://www.youtube.com/watch?v=cQ1Oz4ckceM"
   ]
  },
  {
   "cell_type": "code",
   "execution_count": 4,
   "metadata": {},
   "outputs": [
    {
     "name": "stdout",
     "output_type": "stream",
     "text": [
      "[1, 2]\n"
     ]
    }
   ],
   "source": [
    "def twoSum(numbers, target):\n",
    "    n = len(numbers)\n",
    "    l, r = 0, n-1\n",
    "\n",
    "    while l<r:\n",
    "        diff = numbers[l] + numbers[r]\n",
    "        \n",
    "        if diff>target:\n",
    "            r-=1\n",
    "        elif diff < target:\n",
    "            l+=1\n",
    "        else:\n",
    "            return [l+1,r+1]\n",
    "    \n",
    "numbers = [2,7,11,15]\n",
    "target = 9\n",
    "res = twoSum(numbers, target)\n",
    "print(res)"
   ]
  },
  {
   "cell_type": "markdown",
   "metadata": {},
   "source": [
    "## Failure - Time out"
   ]
  },
  {
   "cell_type": "code",
   "execution_count": 2,
   "metadata": {},
   "outputs": [
    {
     "name": "stdout",
     "output_type": "stream",
     "text": [
      "[1, 2]\n"
     ]
    }
   ],
   "source": [
    "def twoSum(numbers, target):\n",
    "    \n",
    "    n = len(numbers)\n",
    "\n",
    "    for i in range(n):\n",
    "        for j in range(i+1,n):\n",
    "            if numbers[i]+numbers[j] == target:\n",
    "                return [i+1,j+1]\n",
    "            \n",
    "    \n",
    "\n",
    "numbers = [2,7,11,15]\n",
    "target = 9\n",
    "res = twoSum(numbers, target)\n",
    "print(res)"
   ]
  },
  {
   "cell_type": "markdown",
   "metadata": {},
   "source": [
    "## Method2-HashMap\n",
    "solution is same as Leetcode_0001_two_sum.ipynb"
   ]
  },
  {
   "cell_type": "code",
   "execution_count": 6,
   "metadata": {},
   "outputs": [
    {
     "data": {
      "text/plain": [
       "[1, 2]"
      ]
     },
     "execution_count": 6,
     "metadata": {},
     "output_type": "execute_result"
    }
   ],
   "source": [
    "def twoSum(numbers, target):\n",
    "    prehasMap = {}\n",
    "        \n",
    "    n = len(numbers)\n",
    "    \n",
    "    for i in range(n):\n",
    "        diff = target - numbers[i]\n",
    "        \n",
    "        if diff in prehasMap:\n",
    "            return [prehasMap[diff]+1, i+1]\n",
    "        else:\n",
    "            prehasMap[numbers[i]] = i\n",
    "\n",
    "numbers = [2,7,11,15]\n",
    "target = 9\n",
    "\n",
    "twoSum(numbers,target)"
   ]
  },
  {
   "cell_type": "markdown",
   "metadata": {},
   "source": [
    "wrong version: Time Limit Exceeded"
   ]
  },
  {
   "cell_type": "code",
   "execution_count": 1,
   "metadata": {},
   "outputs": [
    {
     "data": {
      "text/plain": [
       "[1, 2]"
      ]
     },
     "execution_count": 1,
     "metadata": {},
     "output_type": "execute_result"
    }
   ],
   "source": [
    "def twoSum(numbers, target):\n",
    "    result = []\n",
    "    n = len(numbers)\n",
    "    \n",
    "    for i in range(n):\n",
    "        for j in range(i+1,n):\n",
    "            if numbers[i]+numbers[j] == target:\n",
    "                result.append(i+1)\n",
    "                result.append(j+1)\n",
    "                \n",
    "    return result\n",
    "numbers = [2,7,11,15]\n",
    "target = 9\n",
    "\n",
    "twoSum(numbers,target)"
   ]
  },
  {
   "cell_type": "markdown",
   "metadata": {},
   "source": [
    "## Not a concise way"
   ]
  },
  {
   "cell_type": "code",
   "execution_count": 5,
   "metadata": {},
   "outputs": [
    {
     "data": {
      "text/plain": [
       "[1, 2]"
      ]
     },
     "execution_count": 5,
     "metadata": {},
     "output_type": "execute_result"
    }
   ],
   "source": [
    "def twoSum(numbers, target):\n",
    "    result = []\n",
    "    n = len(numbers)\n",
    "    start = 0\n",
    "    end = n  -1 \n",
    "    while start<=end:\n",
    "        add = numbers[start]+numbers[end]\n",
    "        if add > target:\n",
    "            end -=1\n",
    "        elif add<target:\n",
    "            start+=1\n",
    "        else:\n",
    "            result.append(start+1)\n",
    "            result.append(end+1)\n",
    "            return result # equal to break\n",
    "    print(result)\n",
    "    return result\n",
    "\n",
    "\n",
    "numbers = [2,7,11,15]\n",
    "target = 9\n",
    "\n",
    "twoSum(numbers,target)"
   ]
  }
 ],
 "metadata": {
  "kernelspec": {
   "display_name": "leetcode_env",
   "language": "python",
   "name": "leetcode_env"
  },
  "language_info": {
   "codemirror_mode": {
    "name": "ipython",
    "version": 3
   },
   "file_extension": ".py",
   "mimetype": "text/x-python",
   "name": "python",
   "nbconvert_exporter": "python",
   "pygments_lexer": "ipython3",
   "version": "3.8.6"
  },
  "orig_nbformat": 4,
  "vscode": {
   "interpreter": {
    "hash": "846fd2d9bb562a436898b7cc368204fc2f9d44e5e9b051b4f6e855e721078f23"
   }
  }
 },
 "nbformat": 4,
 "nbformat_minor": 2
}
