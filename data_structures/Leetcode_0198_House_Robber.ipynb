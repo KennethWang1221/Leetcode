{
 "cells": [
  {
   "cell_type": "markdown",
   "metadata": {},
   "source": [
    "## Method1 - 1D Bottom-UP DP\n",
    "https://www.youtube.com/watch?v=73r3KWiEvyk"
   ]
  },
  {
   "cell_type": "code",
   "execution_count": 1,
   "metadata": {},
   "outputs": [
    {
     "name": "stdout",
     "output_type": "stream",
     "text": [
      "4\n"
     ]
    }
   ],
   "source": [
    "def rob(nums):\n",
    "    rob1, rob2 = 0, 0\n",
    "\n",
    "    # [rob1, rob2, n, n+1]\n",
    "    for n in nums:\n",
    "        temp = max(n + rob1, rob2)\n",
    "        rob1 = rob2\n",
    "        rob2 = temp\n",
    "    return rob2\n",
    "\n",
    "n = [1,2,3,1]\n",
    "res = rob(n)\n",
    "print(res)"
   ]
  },
  {
   "cell_type": "markdown",
   "metadata": {},
   "source": [
    "## Method2 - 1D DP\n",
    "https://github.com/youngyangyang04/leetcode-master/blob/master/problems/0198.%E6%89%93%E5%AE%B6%E5%8A%AB%E8%88%8D.md"
   ]
  },
  {
   "cell_type": "code",
   "execution_count": 2,
   "metadata": {},
   "outputs": [
    {
     "name": "stdout",
     "output_type": "stream",
     "text": [
      "4\n"
     ]
    }
   ],
   "source": [
    "def rob(nums) -> int:\n",
    "    if len(nums) == 0:  # 如果没有房屋，返回0\n",
    "        return 0\n",
    "    if len(nums) == 1:  # 如果只有一个房屋，返回其金额\n",
    "        return nums[0]\n",
    "\n",
    "    # 创建一个动态规划数组，用于存储最大金额\n",
    "    dp = [0] * len(nums)\n",
    "    dp[0] = nums[0]  # 将dp的第一个元素设置为第一个房屋的金额\n",
    "    dp[1] = max(nums[0], nums[1])  # 将dp的第二个元素设置为第一二个房屋中的金额较大者\n",
    "\n",
    "    # 遍历剩余的房屋\n",
    "    for i in range(2, len(nums)):\n",
    "        # 对于每个房屋，选择抢劫当前房屋和抢劫前一个房屋的最大金额\n",
    "        dp[i] = max(dp[i - 2] + nums[i], dp[i - 1])\n",
    "\n",
    "    return dp[-1]  # 返回最后一个房屋中可抢劫的最大金额\n",
    "\n",
    "n = [1,2,3,1]\n",
    "res = rob(n)\n",
    "print(res)"
   ]
  },
  {
   "cell_type": "markdown",
   "metadata": {},
   "source": [
    "## Method3 - 2D Bottom-UP DP\n"
   ]
  },
  {
   "cell_type": "code",
   "execution_count": 3,
   "metadata": {},
   "outputs": [
    {
     "name": "stdout",
     "output_type": "stream",
     "text": [
      "4\n"
     ]
    }
   ],
   "source": [
    "def rob(nums):\n",
    "    if not nums:  # 如果没有房屋，返回0\n",
    "        return 0\n",
    "\n",
    "    n = len(nums)\n",
    "    dp = [[0, 0] for _ in range(n)]  # 创建二维动态规划数组，dp[i][0]表示不抢劫第i个房屋的最大金额，dp[i][1]表示抢劫第i个房屋的最大金额\n",
    "\n",
    "    dp[0][1] = nums[0]  # 抢劫第一个房屋的最大金额为第一个房屋的金额\n",
    "\n",
    "    for i in range(1, n):\n",
    "        dp[i][0] = max(dp[i-1][0], dp[i-1][1])  # 不抢劫第i个房屋，最大金额为前一个房屋抢劫和不抢劫的最大值\n",
    "        dp[i][1] = dp[i-1][0] + nums[i]  # 抢劫第i个房屋，最大金额为前一个房屋不抢劫的最大金额加上当前房屋的金额\n",
    "\n",
    "    return max(dp[n-1][0], dp[n-1][1])  # 返回最后一个房屋中可抢劫的最大金额\n",
    "\n",
    "n = [1,2,3,1]\n",
    "res = rob(n)\n",
    "print(res)"
   ]
  },
  {
   "cell_type": "markdown",
   "metadata": {},
   "source": [
    "2D Bottom-UP / Bottom-right to Top-left"
   ]
  },
  {
   "cell_type": "code",
   "execution_count": 4,
   "metadata": {},
   "outputs": [
    {
     "name": "stdout",
     "output_type": "stream",
     "text": [
      "4\n"
     ]
    }
   ],
   "source": [
    "def rob(nums):\n",
    "    if not nums:  # If there are no houses, return 0\n",
    "        return 0\n",
    "\n",
    "    n = len(nums)\n",
    "    dp = [[0, 0] for _ in range(n)]  # DP array, dp[i][0] means not robbing the ith house, dp[i][1] means robbing the ith house\n",
    "\n",
    "    dp[n-1][1] = nums[n-1]  # Robbing the last house (rightmost house)\n",
    "\n",
    "    # Iterate from the second last house to the first house (right to left)\n",
    "    for i in range(n-2, -1, -1):\n",
    "        dp[i][0] = max(dp[i+1][0], dp[i+1][1])  # Not robbing the ith house\n",
    "        dp[i][1] = dp[i+1][0] + nums[i]  # Robbing the ith house\n",
    "\n",
    "    # Return the maximum amount that can be robbed starting from the first house\n",
    "    return max(dp[0][0], dp[0][1])\n",
    "\n",
    "# Example usage\n",
    "nums = [1,2,3,1]\n",
    "print(rob(nums))  # Output will be 12\n"
   ]
  }
 ],
 "metadata": {
  "kernelspec": {
   "display_name": "test_env",
   "language": "python",
   "name": "test_env"
  },
  "language_info": {
   "codemirror_mode": {
    "name": "ipython",
    "version": 3
   },
   "file_extension": ".py",
   "mimetype": "text/x-python",
   "name": "python",
   "nbconvert_exporter": "python",
   "pygments_lexer": "ipython3",
   "version": "3.8.6"
  }
 },
 "nbformat": 4,
 "nbformat_minor": 2
}
