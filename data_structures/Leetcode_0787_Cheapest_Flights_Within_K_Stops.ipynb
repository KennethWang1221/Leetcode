{
 "cells": [
  {
   "attachments": {},
   "cell_type": "markdown",
   "metadata": {},
   "source": [
    "## Method1 - Ballman-Ford Algorithm\n",
    "\n",
    "https://www.youtube.com/watch?v=5eIK3zUdYmE"
   ]
  },
  {
   "cell_type": "code",
   "execution_count": 9,
   "metadata": {},
   "outputs": [
    {
     "name": "stdout",
     "output_type": "stream",
     "text": [
      "200\n"
     ]
    }
   ],
   "source": [
    "def findCheapestPrice(n, flights, src, dst, k):\n",
    "    prices = [float(\"inf\")] * n\n",
    "    prices[src] = 0\n",
    "\n",
    "    for i in range(k + 1):\n",
    "        tmpPrices = prices.copy()\n",
    "\n",
    "        for s, d, p in flights:  # s=source, d=dest, p=price\n",
    "            if prices[s] == float(\"inf\"):\n",
    "                continue\n",
    "            if prices[s] + p < tmpPrices[d]:\n",
    "                tmpPrices[d] = prices[s] + p\n",
    "        prices = tmpPrices\n",
    "    return -1 if prices[dst] == float(\"inf\") else prices[dst]\n",
    "\n",
    "\n",
    "n = 4\n",
    "flights = [[0,1,100],[1,2,100],[2,0,100],[1,3,600],[2,3,200]]\n",
    "src = 0\n",
    "dst = 3\n",
    "k = 1\n",
    "\n",
    "n = 3\n",
    "flights = [[0,1,100],[1,2,100],[0,2,500]]\n",
    "src = 0\n",
    "dst = 2\n",
    "k = 1\n",
    "res = findCheapestPrice(n, flights, src, dst, k)\n",
    "print(res)"
   ]
  }
 ],
 "metadata": {
  "kernelspec": {
   "display_name": "leetcode_env",
   "language": "python",
   "name": "leetcode_env"
  },
  "language_info": {
   "codemirror_mode": {
    "name": "ipython",
    "version": 3
   },
   "file_extension": ".py",
   "mimetype": "text/x-python",
   "name": "python",
   "nbconvert_exporter": "python",
   "pygments_lexer": "ipython3",
   "version": "3.8.6"
  },
  "orig_nbformat": 4
 },
 "nbformat": 4,
 "nbformat_minor": 2
}
