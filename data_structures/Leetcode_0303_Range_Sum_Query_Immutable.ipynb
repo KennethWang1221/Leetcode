{
 "cells": [
  {
   "cell_type": "markdown",
   "metadata": {},
   "source": [
    "## Method1 - Prefix sum\n",
    "\n",
    "https://www.youtube.com/watch?v=2pndAmo_sMA"
   ]
  },
  {
   "cell_type": "code",
   "execution_count": 1,
   "metadata": {},
   "outputs": [
    {
     "data": {
      "text/plain": [
       "-3"
      ]
     },
     "execution_count": 1,
     "metadata": {},
     "output_type": "execute_result"
    }
   ],
   "source": [
    " class NumArray:\n",
    "    def __init__(self, nums):\n",
    "        self.prefix = []\n",
    "        cur = 0\n",
    "        for n in nums:\n",
    "            cur += n\n",
    "            self.prefix.append(cur)\n",
    "        \n",
    "        \n",
    "    def sumRange(self, left, right):\n",
    "        r = self.prefix[right]\n",
    "        if left > 0:\n",
    "            l = self.prefix[left - 1]\n",
    "        else:\n",
    "            l = 0\n",
    "         \n",
    "        return r - l\n",
    " \n",
    "numArray = NumArray([-2, 0, 3, -5, 2, -1]);\n",
    "numArray.sumRange(0, 2) # ; // return (-2) + 0 + 3 = 1\n",
    "numArray.sumRange(2, 5) # ; // return 3 + (-5) + 2 + (-1) = -1\n",
    "numArray.sumRange(0, 5) # ; // return (-2) + 0 + 3 + (-5) + 2 + (-1) = -3"
   ]
  },
  {
   "cell_type": "markdown",
   "metadata": {},
   "source": [
    "## Method2 - DIY"
   ]
  },
  {
   "cell_type": "code",
   "execution_count": 2,
   "metadata": {},
   "outputs": [
    {
     "data": {
      "text/plain": [
       "-3"
      ]
     },
     "execution_count": 2,
     "metadata": {},
     "output_type": "execute_result"
    }
   ],
   "source": [
    "class NumArray:\n",
    "    def __init__(self, nums):\n",
    "        self.arr = []\n",
    "        for n in nums:\n",
    "            self.arr.append(n)\n",
    "\n",
    "        \n",
    "    def sumRange(self, left, right):\n",
    "        subarr = self.arr[left:right+1]\n",
    "        return sum(subarr)\n",
    " \n",
    "numArray = NumArray([-2, 0, 3, -5, 2, -1]);\n",
    "numArray.sumRange(0, 2) # ; // return (-2) + 0 + 3 = 1\n",
    "numArray.sumRange(2, 5) # ; // return 3 + (-5) + 2 + (-1) = -1\n",
    "numArray.sumRange(0, 5) # ; // return (-2) + 0 + 3 + (-5) + 2 + (-1) = -3"
   ]
  }
 ],
 "metadata": {
  "kernelspec": {
   "display_name": "leetcode_env",
   "language": "python",
   "name": "python3"
  },
  "language_info": {
   "codemirror_mode": {
    "name": "ipython",
    "version": 3
   },
   "file_extension": ".py",
   "mimetype": "text/x-python",
   "name": "python",
   "nbconvert_exporter": "python",
   "pygments_lexer": "ipython3",
   "version": "3.8.6"
  }
 },
 "nbformat": 4,
 "nbformat_minor": 2
}
