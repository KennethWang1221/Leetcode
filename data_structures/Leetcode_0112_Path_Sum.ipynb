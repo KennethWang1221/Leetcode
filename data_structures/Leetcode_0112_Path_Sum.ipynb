{
 "cells": [
  {
   "cell_type": "markdown",
   "metadata": {},
   "source": [
    "## Method1-Recursive\n",
    "https://github.com/youngyangyang04/leetcode-master/blob/master/problems/0112.%E8%B7%AF%E5%BE%84%E6%80%BB%E5%92%8C.md"
   ]
  },
  {
   "cell_type": "code",
   "execution_count": 5,
   "metadata": {},
   "outputs": [
    {
     "name": "stdout",
     "output_type": "stream",
     "text": [
      "True\n"
     ]
    }
   ],
   "source": [
    "class TreeNode(object):\n",
    "    def __init__(self, x):\n",
    "        if x == None:\n",
    "            self.val = None\n",
    "        else:\n",
    "            self.val = x\n",
    "        self.left = None\n",
    "        self.right = None \n",
    "\n",
    "\n",
    "def hasPathSum(root, targetsum):\n",
    "    \n",
    "    def isornot(root, targetsum):\n",
    "        if (not root.left) and (not root.right) and targetsum == 0:\n",
    "            return True  # 遇到叶子节点，并且计数为0\n",
    "        if (not root.left) and (not root.right):\n",
    "            return False  # 遇到叶子节点，计数不为0\n",
    "        if root.left:\n",
    "            targetsum -= root.left.val  # 左节点\n",
    "            if isornot(root.left, targetsum): return True  # 递归，处理左节点\n",
    "            targetsum += root.left.val  # 回溯\n",
    "        if root.right:\n",
    "            targetsum -= root.right.val  # 右节点\n",
    "            if isornot(root.right, targetsum): return True  # 递归，处理右节点\n",
    "            targetsum += root.right.val  # 回溯\n",
    "        return False\n",
    "\n",
    "    if root == None:\n",
    "        return False  # 别忘记处理空treenode\n",
    "    else:\n",
    "        return isornot(root, targetsum - root.val)\n",
    "n1 = TreeNode(5)\n",
    "n2 = TreeNode(4)\n",
    "n3 = TreeNode(8)\n",
    "n4 = TreeNode(11)\n",
    "n5 = TreeNode(13)\n",
    "n6 = TreeNode(4)\n",
    "n7 = TreeNode(7)\n",
    "n8 = TreeNode(2)\n",
    "n9 = TreeNode(1)\n",
    "\n",
    "n1.left = n2\n",
    "n1.right = n3\n",
    "n2.left = n4\n",
    "n3.left = n5\n",
    "n3.right = n6\n",
    "n4.left = n7\n",
    "n4.right = n8\n",
    "n6.right = n9\n",
    "\n",
    "res = hasPathSum(n1, targetsum=22)\n",
    "print(res)"
   ]
  },
  {
   "cell_type": "markdown",
   "metadata": {},
   "source": [
    "## Method2-DIY-Preorder traversal DFS "
   ]
  },
  {
   "cell_type": "code",
   "execution_count": 2,
   "metadata": {},
   "outputs": [
    {
     "name": "stdout",
     "output_type": "stream",
     "text": [
      "True\n"
     ]
    }
   ],
   "source": [
    "class TreeNode(object):\n",
    "    def __init__(self, x):\n",
    "        if x == None:\n",
    "            self.val = None\n",
    "        else:\n",
    "            self.val = x\n",
    "        self.left = None\n",
    "        self.right = None \n",
    "\n",
    "\n",
    "def hasPathSum(root, targetSum):\n",
    "    \n",
    "    pathsum = 0\n",
    "    if root == None: return\n",
    "    \n",
    "    stack, path_st, res = [root], [(root.val)], []\n",
    "    \n",
    "    while stack:\n",
    "        cur = stack.pop(-1)\n",
    "        path = path_st.pop(-1)\n",
    "        if cur.left == None and cur.right == None:\n",
    "            res.append(path)\n",
    "            if path == targetSum:\n",
    "                return True\n",
    "        if cur.right:\n",
    "            stack.append(cur.right)\n",
    "            path_st.append(path+(cur.right.val))\n",
    "        if cur.left:\n",
    "            stack.append(cur.left)\n",
    "            path_st.append(path+(cur.left.val))\n",
    "    \n",
    "    return False\n",
    "\n",
    "n1 = TreeNode(5)\n",
    "n2 = TreeNode(4)\n",
    "n3 = TreeNode(8)\n",
    "n4 = TreeNode(11)\n",
    "n5 = TreeNode(13)\n",
    "n6 = TreeNode(4)\n",
    "n7 = TreeNode(7)\n",
    "n8 = TreeNode(2)\n",
    "n9 = TreeNode(1)\n",
    "\n",
    "n1.left = n2\n",
    "n1.right = n3\n",
    "n2.left = n4\n",
    "n3.left = n5\n",
    "n3.right = n6\n",
    "n4.left = n7\n",
    "n4.right = n8\n",
    "n6.right = n9\n",
    "\n",
    "res = hasPathSum(n1, targetSum=22)\n",
    "print(res)"
   ]
  },
  {
   "cell_type": "markdown",
   "metadata": {},
   "source": [
    "## Method3-Recursive\n",
    "https://www.youtube.com/watch?v=LSKQyOz_P8I"
   ]
  },
  {
   "cell_type": "code",
   "execution_count": 1,
   "metadata": {},
   "outputs": [
    {
     "name": "stdout",
     "output_type": "stream",
     "text": [
      "True\n"
     ]
    }
   ],
   "source": [
    "class TreeNode(object):\n",
    "    def __init__(self, x):\n",
    "        if x == None:\n",
    "            self.val = None\n",
    "        else:\n",
    "            self.val = x\n",
    "        self.left = None\n",
    "        self.right = None \n",
    "\n",
    "\n",
    "def hasPathSum(root, targetSum):\n",
    "    \n",
    "    def dfs(root, cursum):\n",
    "        if root == None: return \n",
    "        cursum += root.val\n",
    "        \n",
    "        if root.left == None and root.right == None:\n",
    "            return cursum == targetSum\n",
    "        \n",
    "        return (dfs(root.left, cursum) or dfs(root.right, cursum))\n",
    "\n",
    "\n",
    "    return dfs(root, cursum = 0)\n",
    "\n",
    "n1 = TreeNode(5)\n",
    "n2 = TreeNode(4)\n",
    "n3 = TreeNode(8)\n",
    "n4 = TreeNode(11)\n",
    "n5 = TreeNode(13)\n",
    "n6 = TreeNode(4)\n",
    "n7 = TreeNode(7)\n",
    "n8 = TreeNode(2)\n",
    "n9 = TreeNode(1)\n",
    "\n",
    "n1.left = n2\n",
    "n1.right = n3\n",
    "n2.left = n4\n",
    "n3.left = n5\n",
    "n3.right = n6\n",
    "n4.left = n7\n",
    "n4.right = n8\n",
    "n6.right = n9\n",
    "\n",
    "res = hasPathSum(n1, targetSum=22)\n",
    "print(res)"
   ]
  },
  {
   "cell_type": "markdown",
   "metadata": {},
   "source": [
    "## Same as 0257_Binary_Tree_Paths"
   ]
  },
  {
   "cell_type": "code",
   "execution_count": 1,
   "metadata": {},
   "outputs": [
    {
     "name": "stdout",
     "output_type": "stream",
     "text": [
      "['1->2->5', '1->3']\n"
     ]
    }
   ],
   "source": [
    "class TreeNode(object):\n",
    "    def __init__(self, x):\n",
    "        if x == None:\n",
    "            self.val = None\n",
    "        else:\n",
    "            self.val = x\n",
    "        self.left = None\n",
    "        self.right = None\n",
    "\n",
    "\n",
    "def binaryTreePaths(root):\n",
    "    # 题目中节点数至少为1\n",
    "    stack, path_st, result = [root], [str(root.val)], []\n",
    "    #path_st.append(str(root.val))\n",
    "\n",
    "    while stack:\n",
    "        cur = stack.pop(-1)\n",
    "        path = path_st.pop(-1)\n",
    "        # 如果当前节点为叶子节点，添加路径到结果中\n",
    "        #if not (cur.left or cur.right):\n",
    "        if cur.left == None and cur.right == None:\n",
    "            result.append(path)\n",
    "        if cur.right:\n",
    "            stack.append(cur.right)\n",
    "            path_st.append(path + '->' + str(cur.right.val))\n",
    "        if cur.left:\n",
    "            stack.append(cur.left)\n",
    "            path_st.append(path + '->' + str(cur.left.val))\n",
    "\n",
    "    return result\n",
    "\n",
    "n1 = TreeNode(1)\n",
    "n2 = TreeNode(2)\n",
    "n3 = TreeNode(3)\n",
    "n4 = TreeNode(5)\n",
    "\n",
    "\n",
    "\n",
    "n1.left = n2\n",
    "n1.right = n3\n",
    "n2.right = n4\n",
    "\n",
    "res = binaryTreePaths(n1)\n",
    "print(res)"
   ]
  }
 ],
 "metadata": {
  "kernelspec": {
   "display_name": "leetcode_env",
   "language": "python",
   "name": "leetcode_env"
  },
  "language_info": {
   "codemirror_mode": {
    "name": "ipython",
    "version": 3
   },
   "file_extension": ".py",
   "mimetype": "text/x-python",
   "name": "python",
   "nbconvert_exporter": "python",
   "pygments_lexer": "ipython3",
   "version": "3.8.6"
  },
  "orig_nbformat": 4,
  "vscode": {
   "interpreter": {
    "hash": "846fd2d9bb562a436898b7cc368204fc2f9d44e5e9b051b4f6e855e721078f23"
   }
  }
 },
 "nbformat": 4,
 "nbformat_minor": 2
}
