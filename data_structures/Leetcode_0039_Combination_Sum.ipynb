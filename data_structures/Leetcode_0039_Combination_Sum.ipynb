{
 "cells": [
  {
   "cell_type": "markdown",
   "metadata": {},
   "source": [
    "## Method1 - Backtracking\n",
    "https://www.youtube.com/watch?v=GBKI9VSKdGg"
   ]
  },
  {
   "cell_type": "code",
   "execution_count": 4,
   "metadata": {},
   "outputs": [
    {
     "name": "stdout",
     "output_type": "stream",
     "text": [
      "[[2, 2, 3], [7]]\n"
     ]
    }
   ],
   "source": [
    "def combinationSum(candidates, target):\n",
    "    res = []\n",
    "    n = len(candidates)\n",
    "    def dfs(i, cur, total):\n",
    "        if total == target:\n",
    "            res.append(cur.copy())\n",
    "            return\n",
    "        if i >= n or total > target:\n",
    "            return\n",
    "\n",
    "        cur.append(candidates[i])\n",
    "        update = total + candidates[i]\n",
    "        dfs(i, cur, update)\n",
    "        cur.pop()\n",
    "        dfs(i + 1, cur, total)\n",
    "\n",
    "    dfs(0, [], 0)\n",
    "    return res\n",
    "\n",
    "candidates = [2,3,6,7]\n",
    "target = 7\n",
    "res = combinationSum(candidates, target)\n",
    "print(res)"
   ]
  },
  {
   "cell_type": "markdown",
   "metadata": {},
   "source": [
    "## Method2 - Backtracking\n",
    "https://github.com/youngyangyang04/leetcode-master/blob/master/problems/0039.%E7%BB%84%E5%90%88%E6%80%BB%E5%92%8C.md"
   ]
  },
  {
   "cell_type": "code",
   "execution_count": 5,
   "metadata": {},
   "outputs": [
    {
     "name": "stdout",
     "output_type": "stream",
     "text": [
      "[[2, 2, 3], [7]]\n"
     ]
    }
   ],
   "source": [
    "def combinationSum(candidates, target):\n",
    "    def backtracking(candidates, target, total, startIndex, path, result):\n",
    "        if total > target:\n",
    "            return\n",
    "        if total == target:\n",
    "            result.append(path[:])\n",
    "            return\n",
    "\n",
    "        for i in range(startIndex, len(candidates)):\n",
    "            total += candidates[i]\n",
    "            path.append(candidates[i])\n",
    "            backtracking(candidates, target, total, i, path, result)  # 不用i+1了，表示可以重复读取当前的数\n",
    "            total -= candidates[i]\n",
    "            path.pop()\n",
    "    result = []\n",
    "    backtracking(candidates, target, 0, 0, [], result)\n",
    "    return result\n",
    "\n",
    "candidates = [2,3,6,7]\n",
    "target = 7\n",
    "res = combinationSum(candidates, target)\n",
    "print(res)"
   ]
  },
  {
   "cell_type": "code",
   "execution_count": 3,
   "metadata": {},
   "outputs": [
    {
     "name": "stdout",
     "output_type": "stream",
     "text": [
      "[[2, 2, 3], [7]]\n"
     ]
    }
   ],
   "source": [
    "def combinationSum(candidates, target):\n",
    "    def backtracking(candidates, target, total, startIndex, path, result):\n",
    "        if total == target:\n",
    "            result.append(path[:])\n",
    "            return\n",
    "\n",
    "        for i in range(startIndex, len(candidates)):\n",
    "            if total + candidates[i] > target:\n",
    "                break\n",
    "            total += candidates[i]\n",
    "            path.append(candidates[i])\n",
    "            backtracking(candidates, target, total, i, path, result)\n",
    "            total -= candidates[i]\n",
    "            path.pop()\n",
    "\n",
    "    result = []\n",
    "    candidates.sort()  # 需要排序\n",
    "    backtracking(candidates, target, 0, 0, [], result)\n",
    "    return result\n",
    "\n",
    "candidates = [2,3,6,7]\n",
    "target = 7\n",
    "res = combinationSum(candidates, target)\n",
    "print(res)"
   ]
  }
 ],
 "metadata": {
  "kernelspec": {
   "display_name": "leetcode_env",
   "language": "python",
   "name": "leetcode_env"
  },
  "language_info": {
   "codemirror_mode": {
    "name": "ipython",
    "version": 3
   },
   "file_extension": ".py",
   "mimetype": "text/x-python",
   "name": "python",
   "nbconvert_exporter": "python",
   "pygments_lexer": "ipython3",
   "version": "3.8.6"
  }
 },
 "nbformat": 4,
 "nbformat_minor": 2
}
