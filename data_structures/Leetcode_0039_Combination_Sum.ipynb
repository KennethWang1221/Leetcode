{
 "cells": [
  {
   "cell_type": "markdown",
   "metadata": {},
   "source": [
    "## Method1 - Backtracking\n",
    "https://www.youtube.com/watch?v=GBKI9VSKdGg"
   ]
  },
  {
   "cell_type": "code",
   "execution_count": 3,
   "metadata": {},
   "outputs": [
    {
     "name": "stdout",
     "output_type": "stream",
     "text": [
      "[[2, 2, 3], [7]]\n"
     ]
    }
   ],
   "source": [
    "def combinationSum(candidates, target):\n",
    "    res = []\n",
    "\n",
    "    def dfs(i, cur, total):\n",
    "        if total == target:\n",
    "            res.append(cur.copy())\n",
    "            return\n",
    "        if i >= len(candidates) or total > target:\n",
    "            return\n",
    "\n",
    "        cur.append(candidates[i])\n",
    "        dfs(i, cur, total + candidates[i])\n",
    "        cur.pop()\n",
    "        dfs(i + 1, cur, total)\n",
    "\n",
    "    dfs(0, [], 0)\n",
    "    return res\n",
    "\n",
    "candidates = [2,3,6,7]\n",
    "target = 7\n",
    "res = combinationSum(candidates, target)\n",
    "print(res)"
   ]
  }
 ],
 "metadata": {
  "kernelspec": {
   "display_name": "leetcode_env",
   "language": "python",
   "name": "leetcode_env"
  },
  "language_info": {
   "codemirror_mode": {
    "name": "ipython",
    "version": 3
   },
   "file_extension": ".py",
   "mimetype": "text/x-python",
   "name": "python",
   "nbconvert_exporter": "python",
   "pygments_lexer": "ipython3",
   "version": "3.8.6"
  }
 },
 "nbformat": 4,
 "nbformat_minor": 2
}
