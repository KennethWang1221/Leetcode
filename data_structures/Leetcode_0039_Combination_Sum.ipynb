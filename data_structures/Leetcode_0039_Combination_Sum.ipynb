{
 "cells": [
  {
   "cell_type": "markdown",
   "metadata": {},
   "source": [
    "## Method1 - Backtracking - Recap\n",
    "\n",
    "Same idea to 0077, 0216, 0017, 0039, 0040, 0131, 0093, 0078\n",
    "\n",
    "https://www.youtube.com/watch?v=GBKI9VSKdGg"
   ]
  },
  {
   "cell_type": "code",
   "execution_count": 10,
   "metadata": {},
   "outputs": [
    {
     "name": "stdout",
     "output_type": "stream",
     "text": [
      "[[2, 2, 3], [7]]\n"
     ]
    }
   ],
   "source": [
    "def combinationSum(candidates, target):\n",
    "    res = []\n",
    "    n = len(candidates)\n",
    "\n",
    "    def backtracking(start, comb, total):\n",
    "        if total == target:\n",
    "            res.append(comb.copy())\n",
    "            return \n",
    "        if start >=n or total > target:\n",
    "            return \n",
    "        \n",
    "        comb.append(candidates[start])\n",
    "        total += candidates[start]\n",
    "        backtracking(start, comb, total)\n",
    "        comb.pop(-1)\n",
    "        total -= candidates[start]\n",
    "        backtracking(start+1, comb, total)\n",
    "    \n",
    "\n",
    "    backtracking(start = 0, comb = [], total = 0)\n",
    "\n",
    "\n",
    "    return res\n",
    "candidates = [2,3,6,7]\n",
    "target = 7\n",
    "print(combinationSum(candidates, target))"
   ]
  },
  {
   "cell_type": "markdown",
   "metadata": {},
   "source": [
    "## Method2 - Backtracking - Recap\n",
    "https://github.com/youngyangyang04/leetcode-master/blob/master/problems/0039.%E7%BB%84%E5%90%88%E6%80%BB%E5%92%8C.md"
   ]
  },
  {
   "cell_type": "code",
   "execution_count": 11,
   "metadata": {},
   "outputs": [
    {
     "name": "stdout",
     "output_type": "stream",
     "text": [
      "[[2, 2, 3], [7]]\n"
     ]
    }
   ],
   "source": [
    "def combinationSum(candidates, target):\n",
    "    res = []\n",
    "    n = len(candidates)\n",
    "\n",
    "    def backtracking(candidates, target, start, comb, total, res):\n",
    "        if total == target:\n",
    "            res.append(comb[:])\n",
    "            return\n",
    "        if total > target:\n",
    "            return\n",
    "\n",
    "        for i in range(start, n):\n",
    "            total += candidates[i]\n",
    "            comb.append(candidates[i])\n",
    "            backtracking(candidates, target, i, comb, total, res)  # 不用i+1了，表示可以重复读取当前的数\n",
    "            total -= candidates[i]\n",
    "            comb.pop()\n",
    "\n",
    "    backtracking(candidates, target, 0, [], 0, res)\n",
    "    return res\n",
    "\n",
    "candidates = [2,3,6,7]\n",
    "target = 7\n",
    "res = combinationSum(candidates, target)\n",
    "print(res)"
   ]
  },
  {
   "cell_type": "code",
   "execution_count": 12,
   "metadata": {},
   "outputs": [
    {
     "name": "stdout",
     "output_type": "stream",
     "text": [
      "[[2, 2, 3], [7]]\n"
     ]
    }
   ],
   "source": [
    "def combinationSum(candidates, target):\n",
    "\n",
    "    res = []\n",
    "    n = len(candidates)\n",
    "    candidates.sort()  # 需要排序\n",
    "\n",
    "    def backtracking(candidates, target, start, comb, total, res):\n",
    "        if total == target:\n",
    "            res.append(comb[:])\n",
    "            return\n",
    "\n",
    "        for i in range(start, n):\n",
    "            if total + candidates[i] > target:\n",
    "                break\n",
    "            total += candidates[i]\n",
    "            comb.append(candidates[i])\n",
    "            backtracking(candidates, target, i, comb, total, res)\n",
    "            total -= candidates[i]\n",
    "            comb.pop()\n",
    "\n",
    "\n",
    "    backtracking(candidates, target, 0, [], 0, res)\n",
    "    return res\n",
    "\n",
    "candidates = [2,3,6,7]\n",
    "target = 7\n",
    "res = combinationSum(candidates, target)\n",
    "print(res)"
   ]
  }
 ],
 "metadata": {
  "kernelspec": {
   "display_name": "leetcode_env",
   "language": "python",
   "name": "leetcode_env"
  },
  "language_info": {
   "codemirror_mode": {
    "name": "ipython",
    "version": 3
   },
   "file_extension": ".py",
   "mimetype": "text/x-python",
   "name": "python",
   "nbconvert_exporter": "python",
   "pygments_lexer": "ipython3",
   "version": "3.8.6"
  }
 },
 "nbformat": 4,
 "nbformat_minor": 2
}
