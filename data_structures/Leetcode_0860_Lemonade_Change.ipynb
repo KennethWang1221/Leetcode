{
 "cells": [
  {
   "cell_type": "markdown",
   "metadata": {},
   "source": [
    "## Method1 - Greedy\n",
    "https://github.com/youngyangyang04/leetcode-master/blob/master/problems/0860.%E6%9F%A0%E6%AA%AC%E6%B0%B4%E6%89%BE%E9%9B%B6.md"
   ]
  },
  {
   "cell_type": "code",
   "execution_count": 1,
   "metadata": {},
   "outputs": [
    {
     "name": "stdout",
     "output_type": "stream",
     "text": [
      "True\n"
     ]
    }
   ],
   "source": [
    "def lemonadeChange(bills):\n",
    "    five = 0\n",
    "    ten = 0\n",
    "    twenty = 0\n",
    "    \n",
    "    for bill in bills:\n",
    "        # 情况一：收到5美元\n",
    "        if bill == 5:\n",
    "            five += 1\n",
    "        \n",
    "        # 情况二：收到10美元\n",
    "        if bill == 10:\n",
    "            if five <= 0:\n",
    "                return False\n",
    "            ten += 1\n",
    "            five -= 1\n",
    "        \n",
    "        # 情况三：收到20美元\n",
    "        if bill == 20:\n",
    "            # 先尝试使用10美元和5美元找零\n",
    "            if five > 0 and ten > 0:\n",
    "                five -= 1\n",
    "                ten -= 1\n",
    "                #twenty += 1\n",
    "            # 如果无法使用10美元找零，则尝试使用三张5美元找零\n",
    "            elif five >= 3:\n",
    "                five -= 3\n",
    "                #twenty += 1\n",
    "            else:\n",
    "                return False\n",
    "    \n",
    "    return True\n",
    "bills = [5,5,5,10,20]\n",
    "print(lemonadeChange(bills))"
   ]
  },
  {
   "cell_type": "markdown",
   "metadata": {},
   "source": [
    "## Method2 - Greedy\n",
    "https://www.youtube.com/watch?v=mSVAw0AUZgA"
   ]
  },
  {
   "cell_type": "code",
   "execution_count": 2,
   "metadata": {},
   "outputs": [
    {
     "name": "stdout",
     "output_type": "stream",
     "text": [
      "True\n"
     ]
    }
   ],
   "source": [
    "def lemonadeChange(bills):\n",
    "    five, ten = 0, 0\n",
    "    \n",
    "    for bill in bills:\n",
    "        # 情况一：收到5美元\n",
    "        if bill == 5:\n",
    "            five += 1\n",
    "        \n",
    "        # 情况二：收到10美元\n",
    "        if bill == 10:\n",
    "            ten += 1\n",
    "        \n",
    "        change = bill - 5\n",
    "        if change == 5:\n",
    "            if five > 0:\n",
    "                five -= 1\n",
    "            else:\n",
    "                return False\n",
    "        elif change == 15:\n",
    "            if five > 0 and ten > 0:\n",
    "                five, ten = five - 1, ten - 1\n",
    "            elif five >= 3:\n",
    "                five -= 3\n",
    "            else:\n",
    "                return False\n",
    "    return True\n",
    "bills = [5,5,5,10,20]\n",
    "print(lemonadeChange(bills))"
   ]
  }
 ],
 "metadata": {
  "kernelspec": {
   "display_name": "test_env",
   "language": "python",
   "name": "python3"
  },
  "language_info": {
   "codemirror_mode": {
    "name": "ipython",
    "version": 3
   },
   "file_extension": ".py",
   "mimetype": "text/x-python",
   "name": "python",
   "nbconvert_exporter": "python",
   "pygments_lexer": "ipython3",
   "version": "3.8.6"
  }
 },
 "nbformat": 4,
 "nbformat_minor": 2
}
