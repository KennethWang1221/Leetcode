{
 "cells": [
  {
   "cell_type": "markdown",
   "id": "ec420a7d-9ff0-4e83-8b25-5e6ec1422900",
   "metadata": {},
   "source": [
    "# BERTScore From Scratch"
   ]
  },
  {
   "cell_type": "code",
   "execution_count": 1,
   "id": "f962b7b7-a42b-4422-a7d3-27b70bf02d1f",
   "metadata": {},
   "outputs": [],
   "source": [
    "import torch\n",
    "import numpy as np\n",
    "from transformers import BertTokenizer, BertModel\n",
    "\n",
    "def cosine_similarity(a, b):\n",
    "    return np.dot(a, b) / (np.linalg.norm(a) * np.linalg.norm(b))\n",
    "\n",
    "def bert_score(reference, candidate, return_similarity_matrix=False):\n",
    "    \n",
    "    # Load the BERT tokenizer and model\n",
    "    tokenizer = BertTokenizer.from_pretrained(\"bert-base-uncased\")\n",
    "    model = BertModel.from_pretrained(\"bert-base-uncased\")\n",
    "    \n",
    "    # Tokenize the input text\n",
    "    ref_tokens = tokenizer(reference, return_tensors=\"pt\", add_special_tokens=False)\n",
    "    can_tokens = tokenizer(candidate, return_tensors=\"pt\", add_special_tokens=False)\n",
    "\n",
    "    # Get the BERT embeddings\n",
    "    model.eval()\n",
    "    with torch.no_grad():\n",
    "        ref_outputs = model(**ref_tokens)\n",
    "        ref_embeddings = ref_outputs.last_hidden_state[0]\n",
    "\n",
    "        can_outputs = model(**can_tokens)\n",
    "        can_embeddings = can_outputs.last_hidden_state[0]\n",
    "        \n",
    "    # Compute cosine similarities\n",
    "    cosine_similarities = np.zeros((can_embeddings.shape[0], ref_embeddings.shape[0]))\n",
    "    for i, c in enumerate(can_embeddings):\n",
    "        for j, r in enumerate(ref_embeddings):\n",
    "            cosine_similarities[i, j] = cosine_similarity(c, r)\n",
    "    \n",
    "\n",
    "    # Align cosine similarities\n",
    "    max_similarities = cosine_similarities.max(axis=1)\n",
    "\n",
    "    # Average similarity scores\n",
    "    bertscore = max_similarities.mean()\n",
    "\n",
    "    if return_similarity_matrix:\n",
    "        return bertscore, cosine_similarities\n",
    "    else:\n",
    "        return bertscore"
   ]
  },
  {
   "cell_type": "code",
   "execution_count": 3,
   "id": "46883444-11af-46a3-bb2a-22329c3558ae",
   "metadata": {},
   "outputs": [
    {
     "name": "stderr",
     "output_type": "stream",
     "text": [
      "/tmp/ipykernel_958934/2515279279.py:6: DeprecationWarning: __array__ implementation doesn't accept a copy keyword, so passing copy=False failed. __array__ must implement 'dtype' and 'copy' keyword arguments. To learn more, see the migration guide https://numpy.org/devdocs/numpy_2_0_migration_guide.html#adapting-to-changes-in-the-copy-keyword\n",
      "  return np.dot(a, b) / (np.linalg.norm(a) * np.linalg.norm(b))\n"
     ]
    },
    {
     "data": {
      "text/plain": [
       "np.float64(0.8767200112342834)"
      ]
     },
     "execution_count": 3,
     "metadata": {},
     "output_type": "execute_result"
    }
   ],
   "source": [
    "# Define the input text\n",
    "reference = \"The quick brown fox jumps over the lazy dog.\"\n",
    "candidate = \"A quick brown fox leaps over a dog.\"\n",
    "\n",
    "bert_score(reference, candidate)"
   ]
  },
  {
   "cell_type": "code",
   "execution_count": 4,
   "id": "e3494bb3-9742-4cf9-b339-80436b4e4e3b",
   "metadata": {},
   "outputs": [
    {
     "name": "stderr",
     "output_type": "stream",
     "text": [
      "/tmp/ipykernel_958934/2515279279.py:6: DeprecationWarning: __array__ implementation doesn't accept a copy keyword, so passing copy=False failed. __array__ must implement 'dtype' and 'copy' keyword arguments. To learn more, see the migration guide https://numpy.org/devdocs/numpy_2_0_migration_guide.html#adapting-to-changes-in-the-copy-keyword\n",
      "  return np.dot(a, b) / (np.linalg.norm(a) * np.linalg.norm(b))\n"
     ]
    },
    {
     "data": {
      "text/plain": [
       "np.float64(0.6320914030075073)"
      ]
     },
     "execution_count": 4,
     "metadata": {},
     "output_type": "execute_result"
    }
   ],
   "source": [
    "bert_score(\"fast\", \"quick\")"
   ]
  },
  {
   "cell_type": "code",
   "execution_count": 5,
   "id": "f4ac45db-1227-46b2-bb02-9d4eebcba5d2",
   "metadata": {},
   "outputs": [
    {
     "name": "stderr",
     "output_type": "stream",
     "text": [
      "/tmp/ipykernel_958934/2515279279.py:6: DeprecationWarning: __array__ implementation doesn't accept a copy keyword, so passing copy=False failed. __array__ must implement 'dtype' and 'copy' keyword arguments. To learn more, see the migration guide https://numpy.org/devdocs/numpy_2_0_migration_guide.html#adapting-to-changes-in-the-copy-keyword\n",
      "  return np.dot(a, b) / (np.linalg.norm(a) * np.linalg.norm(b))\n"
     ]
    },
    {
     "data": {
      "text/plain": [
       "np.float64(1.0)"
      ]
     },
     "execution_count": 5,
     "metadata": {},
     "output_type": "execute_result"
    }
   ],
   "source": [
    "bert_score(\"fast\", \"fast\")"
   ]
  },
  {
   "cell_type": "code",
   "execution_count": 6,
   "id": "ec6c369c-0350-4a7d-8442-051d2a7be83c",
   "metadata": {},
   "outputs": [
    {
     "name": "stdout",
     "output_type": "stream",
     "text": [
      "0.685903400182724\n",
      "[[0.63398361 0.52621448 0.51968807]\n",
      " [0.59454829 0.71506625 0.68891406]\n",
      " [0.55240399 0.68978441 0.69811237]\n",
      " [0.55321121 0.69164979 0.69645137]]\n"
     ]
    },
    {
     "name": "stderr",
     "output_type": "stream",
     "text": [
      "/tmp/ipykernel_958934/2515279279.py:6: DeprecationWarning: __array__ implementation doesn't accept a copy keyword, so passing copy=False failed. __array__ must implement 'dtype' and 'copy' keyword arguments. To learn more, see the migration guide https://numpy.org/devdocs/numpy_2_0_migration_guide.html#adapting-to-changes-in-the-copy-keyword\n",
      "  return np.dot(a, b) / (np.linalg.norm(a) * np.linalg.norm(b))\n"
     ]
    }
   ],
   "source": [
    "reference = \"The cat jumped\"\n",
    "candidate = \"A cat leaped high\"\n",
    "\n",
    "# Compute BERTScore\n",
    "bertscore, sim_matrix = bert_score(\n",
    "    reference, candidate, return_similarity_matrix=True)\n",
    "\n",
    "print(bertscore)\n",
    "print(sim_matrix)"
   ]
  },
  {
   "cell_type": "code",
   "execution_count": 7,
   "id": "cf7f4778-9aa2-4ef5-83de-cbeb31e5b15a",
   "metadata": {},
   "outputs": [],
   "source": [
    "import matplotlib.pyplot as plt\n",
    "import numpy as np\n",
    "\n",
    "\n",
    "def heatmap(\n",
    "    matrix,\n",
    "    hide_spines=False,\n",
    "    hide_ticks=False,\n",
    "    figsize=None,\n",
    "    cmap=None,\n",
    "    colorbar=True,\n",
    "    row_names=None,\n",
    "    column_names=None,\n",
    "    column_name_rotation=45,\n",
    "    cell_values=True,\n",
    "    cell_fmt=\".2f\",\n",
    "    cell_font_size=None,\n",
    "):\n",
    "\n",
    "    if row_names is not None and len(row_names) != matrix.shape[0]:\n",
    "        raise AssertionError(\n",
    "            f\"len(row_names) (got {len(row_names)})\"\n",
    "            \" should be equal to number of\"\n",
    "            \" rows in the input \"\n",
    "            f\" array (expect {matrix.shape[0]}).\"\n",
    "        )\n",
    "\n",
    "    if column_names is not None and len(column_names) != matrix.shape[1]:\n",
    "        raise AssertionError(\n",
    "            f\"len(column_names)\"\n",
    "            \" (got {len(column_names)})\"\n",
    "            \" should be equal to number of\"\n",
    "            \" columns in the\"\n",
    "            f\" input array (expect {matrix.shape[1]}).\"\n",
    "        )\n",
    "\n",
    "    fig, ax = plt.subplots(figsize=figsize)\n",
    "    ax.grid(False)\n",
    "\n",
    "    if cmap is None:\n",
    "        cmap = plt.cm.viridis\n",
    "\n",
    "    if figsize is None:\n",
    "        figsize = (len(matrix) * 1.5, len(matrix) * 1.5)\n",
    "\n",
    "    matshow = ax.matshow(matrix, cmap=cmap)\n",
    "\n",
    "    if colorbar:\n",
    "        fig.colorbar(matshow)\n",
    "\n",
    "    normed_matrix = matrix.astype(\"float\") / matrix.max()\n",
    "\n",
    "    if cell_values:\n",
    "        for i in range(matrix.shape[0]):\n",
    "            for j in range(matrix.shape[1]):\n",
    "                cell_text = format(matrix[i, j], cell_fmt)\n",
    "\n",
    "                ax.text(\n",
    "                    x=j,\n",
    "                    y=i,\n",
    "                    size=cell_font_size,\n",
    "                    s=cell_text,\n",
    "                    va=\"center\",\n",
    "                    ha=\"center\",\n",
    "                    color=\"black\"\n",
    "                    if normed_matrix[i, j] > np.max(normed_matrix) / 2\n",
    "                    else \"black\",\n",
    "                )\n",
    "\n",
    "    if row_names is not None:\n",
    "        tick_marks = np.arange(len(row_names))\n",
    "        plt.yticks(tick_marks, row_names)\n",
    "\n",
    "    if column_names is not None:\n",
    "        tick_marks = np.arange(len(column_names))\n",
    "\n",
    "        if column_name_rotation:\n",
    "            plt.xticks(\n",
    "                tick_marks,\n",
    "                column_names,\n",
    "                rotation=column_name_rotation,\n",
    "                ha=\"right\",\n",
    "                rotation_mode=\"anchor\",\n",
    "            )\n",
    "        else:\n",
    "            plt.xticks(tick_marks, column_names)\n",
    "\n",
    "    if hide_spines:\n",
    "        ax.spines[\"right\"].set_visible(False)\n",
    "        ax.spines[\"top\"].set_visible(False)\n",
    "        ax.spines[\"left\"].set_visible(False)\n",
    "        ax.spines[\"bottom\"].set_visible(False)\n",
    "    ax.yaxis.set_ticks_position(\"left\")\n",
    "    ax.xaxis.set_ticks_position(\"bottom\")\n",
    "    if hide_ticks:\n",
    "        ax.axes.get_yaxis().set_ticks([])\n",
    "        ax.axes.get_xaxis().set_ticks([])\n",
    "\n",
    "    return fig, ax"
   ]
  },
  {
   "cell_type": "code",
   "execution_count": 8,
   "id": "bf64bd2a-77eb-49ed-be75-6cb4e5e32dd7",
   "metadata": {},
   "outputs": [
    {
     "name": "stderr",
     "output_type": "stream",
     "text": [
      "/tmp/ipykernel_958934/3624493765.py:4: MatplotlibDeprecationWarning: The get_cmap function was deprecated in Matplotlib 3.7 and will be removed in 3.11. Use ``matplotlib.colormaps[name]`` or ``matplotlib.colormaps.get_cmap()`` or ``pyplot.get_cmap()`` instead.\n",
      "  viridisBig = cm.get_cmap('Blues', 512)\n"
     ]
    },
    {
     "data": {
      "image/png": "[encoded data removed]",
      "text/plain": [
       "<Figure size 400x400 with 2 Axes>"
      ]
     },
     "metadata": {},
     "output_type": "display_data"
    }
   ],
   "source": [
    "from matplotlib import cm\n",
    "from matplotlib.colors import ListedColormap\n",
    "\n",
    "viridisBig = cm.get_cmap('Blues', 512)\n",
    "newcmp = ListedColormap(viridisBig(np.linspace(0.0, 0.5, 256)))\n",
    "\n",
    "fig, ax = heatmap(sim_matrix, column_names=reference.split(), row_names=candidate.split(), cmap=newcmp, figsize=(4, 4))\n",
    "\n",
    "plt.tight_layout()\n",
    "\n",
    "#plt.savefig('matrix.pdf')\n",
    "plt.show()"
   ]
  },
  {
   "cell_type": "markdown",
   "id": "1f78877c-aa5f-450b-a683-925a2346a1d3",
   "metadata": {},
   "source": [
    "# Using the Official BERTScore package"
   ]
  },
  {
   "cell_type": "markdown",
   "id": "bb0a0a7b-3c61-4caf-af5d-e9c78dd1e1b2",
   "metadata": {},
   "source": [
    "See https://github.com/Tiiiger/bert_score"
   ]
  },
  {
   "cell_type": "code",
   "execution_count": null,
   "id": "73533cb5-2c93-4be9-b4b5-266932fbc3fc",
   "metadata": {},
   "outputs": [],
   "source": [
    "# pip install bert-score"
   ]
  },
  {
   "cell_type": "code",
   "execution_count": 9,
   "id": "ac66de0d-24dc-47ba-a388-b060b8f3d4ff",
   "metadata": {},
   "outputs": [
    {
     "name": "stdout",
     "output_type": "stream",
     "text": [
      "Precision: 0.9040\n",
      "Recall: 0.9040\n",
      "F1 Score: 0.9040\n"
     ]
    }
   ],
   "source": [
    "import torch\n",
    "from bert_score import score\n",
    "\n",
    "# Define the reference and candidate texts\n",
    "reference = \"The quick brown fox jumps over the lazy dog.\"\n",
    "candidate = \"A quick brown fox leaps over a lazy dog.\"\n",
    "\n",
    "# Compute BERTScore (P, R, F1)\n",
    "P, R, F1 = score([candidate], [reference], lang='en', model_type='bert-base-uncased',\n",
    "                 device=torch.device('cuda' if torch.cuda.is_available() else 'cpu'))\n",
    "\n",
    "# Print the BERTScore results\n",
    "print(f\"Precision: {P.item():.4f}\")\n",
    "print(f\"Recall: {R.item():.4f}\")\n",
    "print(f\"F1 Score: {F1.item():.4f}\")"
   ]
  },
  {
   "cell_type": "code",
   "execution_count": null,
   "id": "7887c143-53cd-442a-b0c4-7710da407cb5",
   "metadata": {},
   "outputs": [],
   "source": []
  }
 ],
 "metadata": {
  "kernelspec": {
   "display_name": "Python 3 (ipykernel)",
   "language": "python",
   "name": "python3"
  },
  "language_info": {
   "codemirror_mode": {
    "name": "ipython",
    "version": 3
   },
   "file_extension": ".py",
   "mimetype": "text/x-python",
   "name": "python",
   "nbconvert_exporter": "python",
   "pygments_lexer": "ipython3",
   "version": "3.11.11"
  }
 },
 "nbformat": 4,
 "nbformat_minor": 5
}
