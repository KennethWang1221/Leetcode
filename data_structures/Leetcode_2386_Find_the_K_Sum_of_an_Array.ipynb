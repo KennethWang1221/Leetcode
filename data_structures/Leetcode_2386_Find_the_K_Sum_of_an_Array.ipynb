{
 "cells": [
  {
   "cell_type": "markdown",
   "metadata": {},
   "source": [
    "## Method1 - Heap"
   ]
  },
  {
   "cell_type": "code",
   "execution_count": 2,
   "metadata": {},
   "outputs": [
    {
     "name": "stdout",
     "output_type": "stream",
     "text": [
      "-2\n"
     ]
    }
   ],
   "source": [
    "import heapq\n",
    "def kSum(nums, k):\n",
    "    maxSum = sum([max(0, num) for num in nums])\n",
    "    absNums = sorted([abs(num) for num in nums])\n",
    "    maxHeap, nextSum = [(-maxSum + absNums[0], 0)], -maxSum\n",
    "    for _ in range(k - 1):\n",
    "        nextSum, i = heapq.heappop(maxHeap)\n",
    "        if i + 1 < len(absNums):\n",
    "            heapq.heappush(maxHeap, (nextSum - absNums[i] + absNums[i + 1], i + 1))\n",
    "            heapq.heappush(maxHeap, (nextSum + absNums[i + 1], i + 1))\n",
    "    return -nextSum\n",
    "\n",
    "# Example 2:\n",
    "nums2 = [-1, -2, -3, -4, -5]\n",
    "# Flipped -> [1, 2, 3, 4, 5], sum = 15\n",
    "# The 1st largest subsequence sum = 15 (use all)\n",
    "# The 2nd largest = 15-1=14, 3rd=15-2=13, etc. \n",
    "print(kSum(nums2, 3))  # e.g. 13\n"
   ]
  }
 ],
 "metadata": {
  "kernelspec": {
   "display_name": "leetcode_env",
   "language": "python",
   "name": "leetcode_env"
  },
  "language_info": {
   "codemirror_mode": {
    "name": "ipython",
    "version": 3
   },
   "file_extension": ".py",
   "mimetype": "text/x-python",
   "name": "python",
   "nbconvert_exporter": "python",
   "pygments_lexer": "ipython3",
   "version": "3.8.6"
  }
 },
 "nbformat": 4,
 "nbformat_minor": 2
}
