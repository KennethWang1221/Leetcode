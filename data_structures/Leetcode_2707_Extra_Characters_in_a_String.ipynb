{
 "cells": [
  {
   "cell_type": "markdown",
   "metadata": {},
   "source": [
    "## Method1 - 1D Bottom-up DF and Trie\n",
    "\n",
    "https://leetcode.com/problems/extra-characters-in-a-string/solutions/3990686/step-by-step-beginner-friendly-full-explanation-dp-efficient-easy-to-understand/\n",
    "\n",
    "https://www.youtube.com/watch?v=ONstwO1cD7c\n",
    "\n"
   ]
  },
  {
   "cell_type": "code",
   "execution_count": 1,
   "metadata": {},
   "outputs": [
    {
     "name": "stdout",
     "output_type": "stream",
     "text": [
      "1\n"
     ]
    }
   ],
   "source": [
    "def minExtraChar(s, dictionary):\n",
    "    dp = [0] * 51  # Initialize an array to store the minimum extra characters.\n",
    "    n = len(s)\n",
    "\n",
    "    for i in range(n - 1, -1, -1):\n",
    "        dp[i] = 1 + dp[i + 1]  # Initialize with one extra character.\n",
    "\n",
    "        for w in dictionary:\n",
    "            if i + len(w) <= n and s[i:i + len(w)] == w:\n",
    "                dp[i] = min(dp[i], dp[i + len(w)])  # Update if a word in the dictionary is found.\n",
    "\n",
    "    return dp[0]  # Return the minimum extra characters for the entire string.\n",
    "print(minExtraChar(s = \"leetscode\", dictionary = [\"leet\",\"code\",\"leetcode\"]))"
   ]
  }
 ],
 "metadata": {
  "kernelspec": {
   "display_name": "leetcode_env",
   "language": "python",
   "name": "python3"
  },
  "language_info": {
   "codemirror_mode": {
    "name": "ipython",
    "version": 3
   },
   "file_extension": ".py",
   "mimetype": "text/x-python",
   "name": "python",
   "nbconvert_exporter": "python",
   "pygments_lexer": "ipython3",
   "version": "3.8.6"
  }
 },
 "nbformat": 4,
 "nbformat_minor": 2
}
