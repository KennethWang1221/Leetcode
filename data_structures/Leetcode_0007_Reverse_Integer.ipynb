{
 "cells": [
  {
   "cell_type": "markdown",
   "metadata": {},
   "source": [
    "## Method1 - String - DIY"
   ]
  },
  {
   "cell_type": "code",
   "execution_count": 1,
   "metadata": {},
   "outputs": [
    {
     "name": "stdout",
     "output_type": "stream",
     "text": [
      "321\n"
     ]
    }
   ],
   "source": [
    "def reverse(x):\n",
    "    value_range = [-1 * 2 ** 31, 2**31]\n",
    "    if x > 0:\n",
    "        reverse_x = str(x)[::-1]\n",
    "        reverse_x = int(reverse_x)\n",
    "    else:\n",
    "        reverse_x = str(-1*x)[::-1]\n",
    "        reverse_x = -1 * int(reverse_x)\n",
    "    \n",
    "    if (reverse_x > value_range[1]):\n",
    "        return 0\n",
    "    elif (reverse_x < value_range[0]):\n",
    "        return 0\n",
    "    else:\n",
    "        return reverse_x\n",
    "print(reverse(x = 123))\n"
   ]
  },
  {
   "cell_type": "markdown",
   "metadata": {},
   "source": [
    "## Method2 - String\n",
    "\n",
    "https://www.youtube.com/watch?v=HAgLH58IgJQ"
   ]
  },
  {
   "cell_type": "code",
   "execution_count": 2,
   "metadata": {},
   "outputs": [
    {
     "name": "stdout",
     "output_type": "stream",
     "text": [
      "321\n"
     ]
    }
   ],
   "source": [
    "import math\n",
    "def reverse(x):\n",
    "    # Integer.MAX_VALUE = 2147483647 (end with 7)\n",
    "    # Integer.MIN_VALUE = -2147483648 (end with -8 )\n",
    "\n",
    "    MIN = -2147483648  # -2^31,\n",
    "    MAX = 2147483647  #  2^31 - 1\n",
    "\n",
    "    res = 0\n",
    "    while x:\n",
    "        digit = int(math.fmod(x, 10))  # (python dumb) -1 %  10 = 9\n",
    "        x = int(x / 10)  # (python dumb) -1 // 10 = -1\n",
    "\n",
    "        if res > MAX // 10 or (res == MAX // 10 and digit > MAX % 10):\n",
    "            return 0\n",
    "        if res < MIN // 10 or (res == MIN // 10 and digit < MIN % 10):\n",
    "            return 0\n",
    "        res = (res * 10) + digit\n",
    "\n",
    "    return res\n",
    "print(reverse(x = 123))\n"
   ]
  }
 ],
 "metadata": {
  "kernelspec": {
   "display_name": "leetcode_env",
   "language": "python",
   "name": "leetcode_env"
  },
  "language_info": {
   "codemirror_mode": {
    "name": "ipython",
    "version": 3
   },
   "file_extension": ".py",
   "mimetype": "text/x-python",
   "name": "python",
   "nbconvert_exporter": "python",
   "pygments_lexer": "ipython3",
   "version": "3.8.6"
  }
 },
 "nbformat": 4,
 "nbformat_minor": 2
}
