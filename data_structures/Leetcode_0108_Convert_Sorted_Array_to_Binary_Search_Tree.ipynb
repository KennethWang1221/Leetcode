{
 "cells": [
  {
   "cell_type": "markdown",
   "metadata": {},
   "source": [
    "## Method1 - Divide & Conquer - Recursive - Binary Search\n",
    "https://www.youtube.com/watch?v=0K0uCMYq5ng<br>\n"
   ]
  },
  {
   "cell_type": "code",
   "execution_count": 1,
   "metadata": {},
   "outputs": [
    {
     "name": "stdout",
     "output_type": "stream",
     "text": [
      "<__main__.TreeNode object at 0x1058a8130>\n"
     ]
    }
   ],
   "source": [
    "class TreeNode(object):\n",
    "    def __init__(self, x):\n",
    "        if x == None:\n",
    "            self.val = None\n",
    "        else:\n",
    "            self.val = x\n",
    "        self.left = None\n",
    "        self.right = None \n",
    "\n",
    "def sortedArrayToBST(nums):\n",
    "    \n",
    "    def helper(l, r):\n",
    "        if l > r: return None\n",
    "\n",
    "        m = (l + r) //2\n",
    "        root = TreeNode(nums[m])\n",
    "        root.left = helper(l, m-1)\n",
    "        root.right = helper(m+1, r)\n",
    "        return root\n",
    "    return helper(0, len(nums)-1)\n",
    "nums = [-10,-3,0,5,9]\n",
    "res = sortedArrayToBST(nums)\n",
    "print(res)"
   ]
  },
  {
   "cell_type": "markdown",
   "metadata": {},
   "source": [
    "## Method2- Recursive\n",
    "https://github.com/youngyangyang04/leetcode-master/blob/master/problems/0108.%E5%B0%86%E6%9C%89%E5%BA%8F%E6%95%B0%E7%BB%84%E8%BD%AC%E6%8D%A2%E4%B8%BA%E4%BA%8C%E5%8F%89%E6%90%9C%E7%B4%A2%E6%A0%91.md"
   ]
  },
  {
   "cell_type": "code",
   "execution_count": 15,
   "metadata": {},
   "outputs": [
    {
     "name": "stdout",
     "output_type": "stream",
     "text": [
      "<__main__.TreeNode object at 0x10593d700>\n"
     ]
    }
   ],
   "source": [
    "class TreeNode(object):\n",
    "    def __init__(self, x):\n",
    "        if x == None:\n",
    "            self.val = None\n",
    "        else:\n",
    "            self.val = x\n",
    "        self.left = None\n",
    "        self.right = None \n",
    "\n",
    "def sortedArrayToBST(list):\n",
    "    '''\n",
    "    构造二叉树：重点是选取数组最中间元素为分割点，左侧是递归左区间；右侧是递归右区间\n",
    "    必然是平衡树\n",
    "    左闭右闭区间\n",
    "    '''\n",
    "    # 返回根节点\n",
    "    root = traversal(nums, 0, len(nums)-1)\n",
    "    return root\n",
    "\n",
    "def traversal(nums, left, right):\n",
    "    # Base Case\n",
    "    if left > right:\n",
    "        return None\n",
    "    \n",
    "    # 确定左右界的中心，防越界\n",
    "    mid = left + (right - left) // 2\n",
    "    # 构建根节点\n",
    "    mid_root = TreeNode(nums[mid])\n",
    "    # 构建以左右界的中心为分割点的左右子树\n",
    "    mid_root.left = traversal(nums, left, mid-1)\n",
    "    mid_root.right = traversal(nums, mid+1, right)\n",
    "\n",
    "    # 返回由被传入的左右界定义的某子树的根节点\n",
    "    return mid_root\n",
    "nums = [-10,-3,0,5,9]\n",
    "res = sortedArrayToBST(nums)\n",
    "print(res)"
   ]
  },
  {
   "cell_type": "code",
   "execution_count": 14,
   "metadata": {},
   "outputs": [
    {
     "name": "stdout",
     "output_type": "stream",
     "text": [
      "\n",
      "    __5\n",
      "   /   \\\n",
      "  3     6\n",
      " / \\     \\\n",
      "2   4     7\n",
      "\n"
     ]
    }
   ],
   "source": [
    "from binarytree import tree, bst, heap, Node\n",
    "n1 = Node(5)\n",
    "n2 = Node(3)\n",
    "n3 = Node(6)\n",
    "n4 = Node(2)\n",
    "n5 = Node(4)\n",
    "n6 = Node(7)\n",
    "\n",
    "n1.left = n2\n",
    "n1.right = n3\n",
    "n2.left = n4\n",
    "n2.right = n5\n",
    "n3.right = n6\n",
    "print(n1)"
   ]
  }
 ],
 "metadata": {
  "kernelspec": {
   "display_name": "Python 3.8.6 64-bit ('leetcode_env')",
   "language": "python",
   "name": "python3"
  },
  "language_info": {
   "codemirror_mode": {
    "name": "ipython",
    "version": 3
   },
   "file_extension": ".py",
   "mimetype": "text/x-python",
   "name": "python",
   "nbconvert_exporter": "python",
   "pygments_lexer": "ipython3",
   "version": "3.8.6"
  },
  "orig_nbformat": 4,
  "vscode": {
   "interpreter": {
    "hash": "846fd2d9bb562a436898b7cc368204fc2f9d44e5e9b051b4f6e855e721078f23"
   }
  }
 },
 "nbformat": 4,
 "nbformat_minor": 2
}
