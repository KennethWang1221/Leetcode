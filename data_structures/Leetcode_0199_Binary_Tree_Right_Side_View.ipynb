{
 "cells": [
  {
   "cell_type": "markdown",
   "metadata": {},
   "source": [
    "\n",
    "## Method1 - BFS\n",
    "\n",
    "https://github.com/neetcode-gh/leetcode/blob/main/python/199-Binary-Tree-Right-Side-View.py\n",
    "\n",
    "https://www.youtube.com/watch?v=d4zLyf32e3I\n",
    "\n",
    "https://github.com/youngyangyang04/leetcode-master/blob/master/problems/0102.%E4%BA%8C%E5%8F%89%E6%A0%91%E7%9A%84%E5%B1%82%E5%BA%8F%E9%81%8D%E5%8E%86.md"
   ]
  },
  {
   "cell_type": "code",
   "execution_count": 27,
   "metadata": {},
   "outputs": [
    {
     "name": "stdout",
     "output_type": "stream",
     "text": [
      "[1, 3, 4]\n"
     ]
    }
   ],
   "source": [
    "class TreeNode(object):\n",
    "    def __init__(self, x):\n",
    "        if x == None:\n",
    "            self.val = None\n",
    "        else:\n",
    "            self.val = x\n",
    "        self.left = None\n",
    "        self.right = None\n",
    "\n",
    "\n",
    "def rightSideView(root):\n",
    "    from collections import deque\n",
    "    res = []\n",
    "    q = deque([root])\n",
    "\n",
    "    while q:\n",
    "        rightSide = None\n",
    "        qLen = len(q)\n",
    "\n",
    "        for i in range(qLen):\n",
    "            node = q.popleft()\n",
    "            if node:\n",
    "                rightSide = node\n",
    "                q.append(node.left)\n",
    "                q.append(node.right)\n",
    "        if rightSide:\n",
    "            res.append(rightSide.val)\n",
    "    return res\n",
    "n1 = TreeNode(1)\n",
    "n2 = TreeNode(2)\n",
    "n3 = TreeNode(3)\n",
    "n4 = TreeNode(None)\n",
    "n5 = TreeNode(5)\n",
    "n6 = TreeNode(4)\n",
    "\n",
    "n1.left = n2\n",
    "n1.right = n3\n",
    "n2.right = n5\n",
    "n3.right = n6\n",
    "\n",
    "\n",
    "res = rightSideView(n1)\n",
    "\n",
    "print(res)"
   ]
  },
  {
   "cell_type": "markdown",
   "metadata": {},
   "source": [
    "## Method2 - Using deque\n",
    "\n",
    "https://github.com/youngyangyang04/leetcode-master/blob/master/problems/0102.%E4%BA%8C%E5%8F%89%E6%A0%91%E7%9A%84%E5%B1%82%E5%BA%8F%E9%81%8D%E5%8E%86.md"
   ]
  },
  {
   "cell_type": "code",
   "execution_count": 26,
   "metadata": {},
   "outputs": [
    {
     "name": "stdout",
     "output_type": "stream",
     "text": [
      "[1, 3, 4]\n"
     ]
    }
   ],
   "source": [
    "class TreeNode(object):\n",
    "    def __init__(self, x):\n",
    "        if x == None:\n",
    "            self.val = None\n",
    "        else:\n",
    "            self.val = x\n",
    "        self.left = None\n",
    "        self.right = None\n",
    "\n",
    "\n",
    "def rightSideView(root):\n",
    "    from collections import deque\n",
    "    \"\"\"\n",
    "    deque来自collections模块，不在力扣平台时，需要手动写入\n",
    "    'from collections import deque' 导入\n",
    "    deque相比list的好处是，list的pop(0)是O(n)复杂度，deque的popleft()是O(1)复杂度\n",
    "    \"\"\"\n",
    "    \n",
    "    level = []\n",
    "    if root == None:\n",
    "        return []\n",
    "    que = deque([root])\n",
    "    \n",
    "    while que:\n",
    "        # 每次都取最后一个node就可以了\n",
    "        cur = que[-1]\n",
    "        level.append(cur.val)\n",
    "        \n",
    "        # 执行这个遍历的目的是获取下一层所有的node\n",
    "        for i in range(len(que)):\n",
    "            cur = que.popleft()\n",
    "            if cur.left:\n",
    "                \n",
    "                que.append(cur.left)\n",
    "\n",
    "            if cur.right:\n",
    "                \n",
    "                que.append(cur.right)\n",
    "\n",
    "    return level\n",
    "n1 = TreeNode(1)\n",
    "n2 = TreeNode(2)\n",
    "n3 = TreeNode(3)\n",
    "n4 = TreeNode(None)\n",
    "n5 = TreeNode(5)\n",
    "n6 = TreeNode(4)\n",
    "\n",
    "n1.left = n2\n",
    "n1.right = n3\n",
    "n2.right = n5\n",
    "n3.right = n6\n",
    "\n",
    "\n",
    "res = rightSideView(n1)\n",
    "\n",
    "print(res)"
   ]
  },
  {
   "cell_type": "markdown",
   "metadata": {},
   "source": [
    "## Recap and DIY"
   ]
  },
  {
   "cell_type": "markdown",
   "metadata": {},
   "source": [
    "### Using list"
   ]
  },
  {
   "cell_type": "code",
   "execution_count": 9,
   "metadata": {},
   "outputs": [
    {
     "name": "stdout",
     "output_type": "stream",
     "text": [
      "[1, 3, 4]\n"
     ]
    }
   ],
   "source": [
    "class TreeNode(object):\n",
    "    def __init__(self, x):\n",
    "        if x == None:\n",
    "            self.val = None\n",
    "        else:\n",
    "            self.val = x\n",
    "        self.left = None\n",
    "        self.right = None\n",
    "\n",
    "\n",
    "def rightSideView(root):\n",
    "    level = []\n",
    "    if root == None:\n",
    "        return []\n",
    "\n",
    "    que = [root]\n",
    "\n",
    "    while que:\n",
    "        rightSide = que[-1]\n",
    "        level.append(rightSide.val)\n",
    "        size = len(que)\n",
    "        for i in range(size):\n",
    "            cur = que.pop(0)\n",
    "\n",
    "            if cur.left:\n",
    "                que.append(cur.left)\n",
    "            if cur.right:\n",
    "                que.append(cur.right)\n",
    "\n",
    "    return level\n",
    "\n",
    "n1 = TreeNode(1)\n",
    "n2 = TreeNode(2)\n",
    "n3 = TreeNode(3)\n",
    "n4 = TreeNode(None)\n",
    "n5 = TreeNode(5)\n",
    "n6 = TreeNode(4)\n",
    "\n",
    "n1.left = n2\n",
    "n1.right = n3\n",
    "n2.right = n5\n",
    "n3.right = n6\n",
    "\n",
    "\n",
    "res = rightSideView(n1)\n",
    "\n",
    "print(res)"
   ]
  },
  {
   "cell_type": "code",
   "execution_count": 10,
   "metadata": {},
   "outputs": [
    {
     "name": "stdout",
     "output_type": "stream",
     "text": [
      "[1, 2]\n"
     ]
    }
   ],
   "source": [
    "n1 = TreeNode(1)\n",
    "n2 = TreeNode(2)\n",
    "\n",
    "\n",
    "n1.left = n2\n",
    "res = rightSideView(n1)\n",
    "\n",
    "print(res)"
   ]
  },
  {
   "cell_type": "markdown",
   "metadata": {},
   "source": [
    "## Method-DIY-BFS"
   ]
  },
  {
   "cell_type": "code",
   "execution_count": 6,
   "metadata": {},
   "outputs": [
    {
     "name": "stdout",
     "output_type": "stream",
     "text": [
      "[1, 3, 4]\n"
     ]
    }
   ],
   "source": [
    "class TreeNode(object):\n",
    "    def __init__(self, x):\n",
    "        if x == None:\n",
    "            self.val = None\n",
    "        else:\n",
    "            self.val = x\n",
    "        self.left = None\n",
    "        self.right = None\n",
    "\n",
    "\n",
    "def rightSideView(root):\n",
    "    results = []\n",
    "    if root == None:\n",
    "        return []\n",
    "    que = [root]\n",
    "    \n",
    "    while que:\n",
    "        level = []\n",
    "        for i in range(len(que)):\n",
    "            cur = que.pop(0)\n",
    "            level.append(cur.val)\n",
    "\n",
    "            if cur.left:\n",
    "                que.append(cur.left)\n",
    "            if cur.right:\n",
    "                que.append(cur.right)\n",
    "\n",
    "\n",
    "        results.extend([level[-1]])\n",
    "\n",
    "    return results\n",
    "n1 = TreeNode(1)\n",
    "n2 = TreeNode(2)\n",
    "n3 = TreeNode(3)\n",
    "n4 = TreeNode(None)\n",
    "n5 = TreeNode(5)\n",
    "n6 = TreeNode(4)\n",
    "\n",
    "n1.left = n2\n",
    "n1.right = n3\n",
    "n2.right = n5\n",
    "n3.right = n6\n",
    "\n",
    "\n",
    "res = rightSideView(n1)\n",
    "\n",
    "print(res)"
   ]
  },
  {
   "cell_type": "code",
   "execution_count": 16,
   "metadata": {},
   "outputs": [
    {
     "name": "stdout",
     "output_type": "stream",
     "text": [
      "[1, 2]\n"
     ]
    }
   ],
   "source": [
    "n1 = TreeNode(1)\n",
    "n2 = TreeNode(None)\n",
    "n3 = TreeNode(2)\n",
    "\n",
    "n1.left = n2\n",
    "n1.right = n3\n",
    "res = rightSideView(n1)\n",
    "\n",
    "print(res)\n",
    "# should be [1,2]"
   ]
  },
  {
   "cell_type": "markdown",
   "metadata": {},
   "source": [
    "but not works for below case"
   ]
  },
  {
   "cell_type": "code",
   "execution_count": 15,
   "metadata": {},
   "outputs": [
    {
     "name": "stdout",
     "output_type": "stream",
     "text": [
      "[1]\n"
     ]
    }
   ],
   "source": [
    "n1 = TreeNode(1)\n",
    "n2 = TreeNode(2)\n",
    "\n",
    "\n",
    "n1.left = n2\n",
    "res = rightSideView(n1)\n",
    "\n",
    "print(res)\n",
    "# should be [1,2]"
   ]
  },
  {
   "cell_type": "markdown",
   "metadata": {},
   "source": [
    "## Recap binarytree\n",
    "Docs and API Specification:<br>\n",
    "https://binarytree.readthedocs.io/en/main/overview.html"
   ]
  },
  {
   "cell_type": "code",
   "execution_count": 4,
   "metadata": {},
   "outputs": [
    {
     "name": "stdout",
     "output_type": "stream",
     "text": [
      "\n",
      "  __1\n",
      " /   \\\n",
      "2     3\n",
      " \\     \\\n",
      "  5     4\n",
      "\n"
     ]
    }
   ],
   "source": [
    "from binarytree import tree, bst, heap, Node\n",
    "n1 = Node(1)\n",
    "n2 = Node(2)\n",
    "n3 = Node(3)\n",
    "#n4 = Node(None)\n",
    "n5 = Node(5)\n",
    "n6 = Node(4)\n",
    "\n",
    "n1.left = n2\n",
    "n1.right = n3\n",
    "n2.right = n5\n",
    "n3.right = n6\n",
    "print(n1)"
   ]
  },
  {
   "cell_type": "code",
   "execution_count": 7,
   "metadata": {},
   "outputs": [
    {
     "name": "stdout",
     "output_type": "stream",
     "text": [
      "\n",
      "    __1\n",
      "   /   \\\n",
      "  2     3\n",
      " / \\\n",
      "4   5\n",
      "\n"
     ]
    }
   ],
   "source": [
    "root = Node(1)\n",
    "root.left = Node(2)\n",
    "root.right = Node(3)\n",
    "root.left.left = Node(4)\n",
    "root.left.right = Node(5)\n",
    "print(root)"
   ]
  },
  {
   "cell_type": "code",
   "execution_count": 2,
   "metadata": {},
   "outputs": [
    {
     "name": "stdout",
     "output_type": "stream",
     "text": [
      "===tree===\n",
      "\n",
      "         ____0_____\n",
      "        /          \\\n",
      "     __1__       ___14\n",
      "    /     \\     /     \\\n",
      "  _4       2   13      12\n",
      " /  \\     /      \\       \\\n",
      "10   7   8        9       3\n",
      "\n",
      "===bst===\n",
      "\n",
      "        ______7_______\n",
      "       /              \\\n",
      "    __3__           ___11___\n",
      "   /     \\         /        \\\n",
      "  1       5       9         _13\n",
      " / \\     / \\     / \\       /   \\\n",
      "0   2   4   6   8   10    12    14\n",
      "\n",
      "===heap===\n",
      "\n",
      "        ________13__\n",
      "       /            \\\n",
      "    __12__           11\n",
      "   /      \\         /  \\\n",
      "  9        10      0    1\n",
      " / \\      /  \\\n",
      "5   3    4    2\n",
      "\n"
     ]
    }
   ],
   "source": [
    "\n",
    "my_tree = tree(height=3, is_perfect=False)\n",
    "my_bst = bst(height=3, is_perfect=True)\n",
    "my_heap = heap(height=3, is_max=True, is_perfect=False)\n",
    "print(\"===tree===\")\n",
    "print(my_tree)\n",
    "print(\"===bst===\")\n",
    "print(my_bst)\n",
    "print(\"===heap===\")\n",
    "print(my_heap)"
   ]
  },
  {
   "cell_type": "code",
   "execution_count": 4,
   "metadata": {},
   "outputs": [
    {
     "name": "stdout",
     "output_type": "stream",
     "text": [
      "2\n",
      "[2]\n"
     ]
    }
   ],
   "source": [
    "a = []\n",
    "b = [1,2]\n",
    "print(b[-1])\n",
    "a.extend([b[-1]])\n",
    "print(a)"
   ]
  }
 ],
 "metadata": {
  "kernelspec": {
   "display_name": "leetcode_env",
   "language": "python",
   "name": "leetcode_env"
  },
  "language_info": {
   "codemirror_mode": {
    "name": "ipython",
    "version": 3
   },
   "file_extension": ".py",
   "mimetype": "text/x-python",
   "name": "python",
   "nbconvert_exporter": "python",
   "pygments_lexer": "ipython3",
   "version": "3.8.6"
  },
  "orig_nbformat": 4,
  "vscode": {
   "interpreter": {
    "hash": "846fd2d9bb562a436898b7cc368204fc2f9d44e5e9b051b4f6e855e721078f23"
   }
  }
 },
 "nbformat": 4,
 "nbformat_minor": 2
}
