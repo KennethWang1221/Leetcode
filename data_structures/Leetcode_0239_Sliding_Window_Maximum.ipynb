{
 "cells": [
  {
   "cell_type": "markdown",
   "metadata": {},
   "source": [
    "## Method1 - Array"
   ]
  },
  {
   "cell_type": "code",
   "execution_count": 2,
   "metadata": {},
   "outputs": [
    {
     "name": "stdout",
     "output_type": "stream",
     "text": [
      "[3, 3, 5, 5, 6, 7]\n"
     ]
    }
   ],
   "source": [
    "def maxSlidingWindow(nums, k):\n",
    "    dq = []  # will store indices, with nums[dq[0]] being the largest in the window\n",
    "    result = []\n",
    "    for i, val in enumerate(nums):\n",
    "        # Remove indices out of this window (i - k)\n",
    "        while dq and dq[0] <= i - k:\n",
    "            dq.pop(0)\n",
    "        # Remove smaller elements (they can't be the max if we have a bigger one)\n",
    "        while dq and nums[dq[-1]] <= val:\n",
    "            dq.pop()\n",
    "        dq.append(i)\n",
    "        # Starting from i >= k-1, add the front to results\n",
    "        if i >= k - 1:\n",
    "            result.append(nums[dq[0]])\n",
    "    return result\n",
    "print(maxSlidingWindow(nums = [1,3,-1,-3,5,3,6,7], k = 3))"
   ]
  },
  {
   "cell_type": "markdown",
   "metadata": {},
   "source": [
    "## Method2 - Monotonic Queue\n",
    "\n",
    "https://www.youtube.com/watch?v=DfljaUwZsOk"
   ]
  },
  {
   "cell_type": "code",
   "execution_count": 2,
   "metadata": {},
   "outputs": [
    {
     "name": "stdout",
     "output_type": "stream",
     "text": [
      "[3, 3, 5, 5, 6, 7]\n"
     ]
    }
   ],
   "source": [
    "from collections import deque\n",
    "\n",
    "def maxSlidingWindow(nums, k):\n",
    "    output = []\n",
    "    q = deque()  # index\n",
    "    l = r = 0\n",
    "    n = len(nums)\n",
    "    # O(n) O(n)\n",
    "    while r < n:\n",
    "        # pop smaller values from q\n",
    "        while q and nums[q[-1]] < nums[r]:\n",
    "            q.pop(-1)\n",
    "        q.append(r)\n",
    "\n",
    "        # remove left val from window\n",
    "        if l > q[0]:\n",
    "            q.popleft()\n",
    "\n",
    "        if (r + 1) >= k:\n",
    "            output.append(nums[q[0]])\n",
    "            l += 1\n",
    "        r += 1\n",
    "\n",
    "    return output\n",
    "print(maxSlidingWindow(nums = [1,3,-1,-3,5,3,6,7], k = 3))"
   ]
  },
  {
   "cell_type": "code",
   "execution_count": 5,
   "metadata": {},
   "outputs": [
    {
     "name": "stdout",
     "output_type": "stream",
     "text": [
      "[3, 3, 5, 5, 6, 7]\n"
     ]
    }
   ],
   "source": [
    "def maxSlidingWindow(nums, k):\n",
    "    n = len(nums)\n",
    "    if n * k == 0:\n",
    "        return []\n",
    "    if k == 1:\n",
    "        return nums\n",
    "    \n",
    "    # Initialize left and right arrays.\n",
    "    left = [0] * n\n",
    "    right = [0] * n\n",
    "    \n",
    "    # Fill the left array.\n",
    "    left[0] = nums[0]\n",
    "    for i in range(1, n):\n",
    "        # If at the start of a block, just use the current number.\n",
    "        if i % k == 0:\n",
    "            left[i] = nums[i]\n",
    "        else:\n",
    "            left[i] = max(left[i - 1], nums[i])\n",
    "    \n",
    "    # Fill the right array.\n",
    "    right[n - 1] = nums[n - 1]\n",
    "    for j in range(n - 2, -1, -1):\n",
    "        # If at the end of a block, just use the current number.\n",
    "        if (j + 1) % k == 0:\n",
    "            right[j] = nums[j]\n",
    "        else:\n",
    "            right[j] = max(right[j + 1], nums[j])\n",
    "    \n",
    "    # Compute the maximum for each sliding window.\n",
    "    output = []\n",
    "    for i in range(n - k + 1):\n",
    "        # The maximum is the larger of the right value for the window start \n",
    "        # and the left value for the window end.\n",
    "        output.append(max(right[i], left[i + k - 1]))\n",
    "    \n",
    "    return output\n",
    "print(maxSlidingWindow(nums = [1,3,-1,-3,5,3,6,7], k = 3))"
   ]
  },
  {
   "cell_type": "markdown",
   "metadata": {},
   "source": [
    "## Method3 - Array - Time Limit Exceeded"
   ]
  },
  {
   "cell_type": "code",
   "execution_count": 1,
   "metadata": {},
   "outputs": [
    {
     "name": "stdout",
     "output_type": "stream",
     "text": [
      "[3, 3, 5, 5, 6, 7]\n"
     ]
    }
   ],
   "source": [
    "from collections import deque\n",
    "\n",
    "def maxSlidingWindow(nums, k):\n",
    "    res = []\n",
    "    n = len(nums)\n",
    "    intervals = n  // k\n",
    "\n",
    "    for i in range(n-k+1):\n",
    "        maxvalue = nums[i]\n",
    "        end = min(i+k,n)\n",
    "        for j in range(i,end):\n",
    "            maxvalue = max(maxvalue, nums[j])\n",
    "        res.append(maxvalue)\n",
    "\n",
    "\n",
    "    return res\n",
    "print(maxSlidingWindow(nums = [1,3,-1,-3,5,3,6,7], k = 3))"
   ]
  }
 ],
 "metadata": {
  "kernelspec": {
   "display_name": "leetcode_env",
   "language": "python",
   "name": "leetcode_env"
  },
  "language_info": {
   "codemirror_mode": {
    "name": "ipython",
    "version": 3
   },
   "file_extension": ".py",
   "mimetype": "text/x-python",
   "name": "python",
   "nbconvert_exporter": "python",
   "pygments_lexer": "ipython3",
   "version": "3.8.6"
  }
 },
 "nbformat": 4,
 "nbformat_minor": 2
}
