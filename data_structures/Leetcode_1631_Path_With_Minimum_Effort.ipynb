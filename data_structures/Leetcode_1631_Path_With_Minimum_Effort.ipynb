{
 "cells": [
  {
   "cell_type": "markdown",
   "metadata": {},
   "source": [
    "## Method1 - MinHeap\n",
    "https://www.youtube.com/watch?v=XQlxCCx2vI4"
   ]
  },
  {
   "cell_type": "code",
   "execution_count": 7,
   "metadata": {},
   "outputs": [
    {
     "name": "stdout",
     "output_type": "stream",
     "text": [
      "1\n"
     ]
    }
   ],
   "source": [
    "import heapq\n",
    "\n",
    "def minimumEffortPath(heights):\n",
    "    rows, cols = len(heights), len(heights[0])\n",
    "\n",
    "    # Directions for moving up, down, left, and right\n",
    "    dirs = [(-1, 0), (1, 0), (0, -1), (0, 1)]\n",
    "\n",
    "    # Min-Heap for Dijkstra's algorithm, stores (effort, x, y)\n",
    "    min_heap = [(0, 0, 0)]  # Starting at (0, 0) with effort 0\n",
    "    visited = [[False] * cols for _ in range(rows)]  # To keep track of visited cells\n",
    "\n",
    "    while min_heap:\n",
    "        effort, x, y = heapq.heappop(min_heap)\n",
    "\n",
    "        # Skip if already visited\n",
    "        if visited[x][y]:\n",
    "            continue\n",
    "\n",
    "        # Mark as visited when processing\n",
    "        visited[x][y] = True\n",
    "\n",
    "        # If we reach the bottom-right corner, return the effort\n",
    "        if x == rows - 1 and y == cols - 1:\n",
    "            return effort\n",
    "\n",
    "        # Explore the 4 neighboring cells\n",
    "        for dx, dy in dirs:\n",
    "            nx, ny = x + dx, y + dy\n",
    "            # Check bounds and if not visited\n",
    "            if nx < 0 or nx >= rows or ny < 0 or ny >= cols or visited[nx][ny]:\n",
    "                continue\n",
    "\n",
    "            # Calculate the effort to reach the neighboring cell\n",
    "            new_effort = max(effort, abs(heights[x][y] - heights[nx][ny]))\n",
    "            heapq.heappush(min_heap, (new_effort, nx, ny))\n",
    "\n",
    "    return 0  # This should never be reached if a path exists\n",
    "# Example usage:\n",
    "heights = [\n",
    "    [1, 2, 3],\n",
    "    [3, 8, 4],\n",
    "    [5, 3, 5]\n",
    "]\n",
    "result = minimumEffortPath(heights)\n",
    "print(result)  # Output: 1"
   ]
  },
  {
   "cell_type": "markdown",
   "metadata": {},
   "source": [
    "## Method2 - BFS"
   ]
  },
  {
   "cell_type": "code",
   "execution_count": 4,
   "metadata": {},
   "outputs": [
    {
     "name": "stdout",
     "output_type": "stream",
     "text": [
      "1\n"
     ]
    }
   ],
   "source": [
    "from collections import deque\n",
    "\n",
    "def minimumEffortPath(heights):\n",
    "    rows, cols = len(heights), len(heights[0])\n",
    "\n",
    "    # Directions for moving up, down, left, and right\n",
    "    dirs = [(-1, 0), (1, 0), (0, -1), (0, 1)]\n",
    "    \n",
    "    # Function to check if it's possible to reach the bottom-right corner with a maximum effort of `mid`\n",
    "    def valid(mid):\n",
    "        visited = [[False] * cols for _ in range(rows)]\n",
    "        queue = deque([(0, 0)])  # Start BFS from the top-left corner\n",
    "        visited[0][0] = True\n",
    "\n",
    "        while queue:\n",
    "            x, y = queue.popleft()\n",
    "            \n",
    "            # If we reached the bottom-right corner, return True\n",
    "            if x == rows - 1 and y == cols - 1:\n",
    "                return True\n",
    "            \n",
    "            # Explore the four possible directions\n",
    "            for dx, dy in dirs:\n",
    "                nx, ny = x + dx, y + dy\n",
    "                \n",
    "                if 0 <= nx < rows and 0 <= ny < cols and not visited[nx][ny]:\n",
    "                    # Check if the effort between the current cell and the neighbor is <= mid\n",
    "                    if abs(heights[x][y] - heights[nx][ny]) <= mid:\n",
    "                        visited[nx][ny] = True\n",
    "                        queue.append((nx, ny))\n",
    "        \n",
    "        return False\n",
    "    \n",
    "    # Binary search on the maximum effort\n",
    "    left, right = 0, 1000000\n",
    "    answer = 0\n",
    "    \n",
    "    while left <= right:\n",
    "        mid = (left + right) // 2\n",
    "        \n",
    "        if valid(mid):\n",
    "            answer = mid  # If it's possible with `mid` effort, try smaller values\n",
    "            right = mid - 1\n",
    "        else:\n",
    "            left = mid + 1  # Otherwise, try higher values\n",
    "    \n",
    "    return answer\n",
    "\n",
    "heights = [\n",
    "[1, 2, 3],\n",
    "[3, 8, 4],\n",
    "[5, 3, 5]\n",
    "]\n",
    "result = minimumEffortPath(heights)\n",
    "print(result)  # Output: 3\n"
   ]
  }
 ],
 "metadata": {
  "kernelspec": {
   "display_name": "leetcode_env",
   "language": "python",
   "name": "python3"
  },
  "language_info": {
   "codemirror_mode": {
    "name": "ipython",
    "version": 3
   },
   "file_extension": ".py",
   "mimetype": "text/x-python",
   "name": "python",
   "nbconvert_exporter": "python",
   "pygments_lexer": "ipython3",
   "version": "3.8.6"
  }
 },
 "nbformat": 4,
 "nbformat_minor": 2
}
