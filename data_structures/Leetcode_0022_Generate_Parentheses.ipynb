{
 "cells": [
  {
   "cell_type": "markdown",
   "metadata": {},
   "source": [
    "## Method1 - Backtracking\n",
    "\n",
    "https://www.youtube.com/watch?v=s9fokUqJ76A"
   ]
  },
  {
   "cell_type": "code",
   "execution_count": 1,
   "metadata": {},
   "outputs": [
    {
     "name": "stdout",
     "output_type": "stream",
     "text": [
      "['((()))', '(()())', '(())()', '()(())', '()()()']\n"
     ]
    }
   ],
   "source": [
    "def generateParenthesis(n):\n",
    "    stack = []\n",
    "    res = []\n",
    "\n",
    "    def backtrack(openN, closedN):\n",
    "        if openN == closedN == n:\n",
    "            res.append(\"\".join(stack))\n",
    "            return\n",
    "\n",
    "        if openN < n:\n",
    "            stack.append(\"(\")\n",
    "            backtrack(openN + 1, closedN)\n",
    "            stack.pop()\n",
    "        if closedN < openN:\n",
    "            stack.append(\")\")\n",
    "            backtrack(openN, closedN + 1)\n",
    "            stack.pop()\n",
    "\n",
    "    backtrack(0, 0)\n",
    "    return res\n",
    "\n",
    "n = 3\n",
    "res = generateParenthesis(n)\n",
    "print(res)"
   ]
  }
 ],
 "metadata": {
  "kernelspec": {
   "display_name": "leetcode_env",
   "language": "python",
   "name": "leetcode_env"
  },
  "language_info": {
   "codemirror_mode": {
    "name": "ipython",
    "version": 3
   },
   "file_extension": ".py",
   "mimetype": "text/x-python",
   "name": "python",
   "nbconvert_exporter": "python",
   "pygments_lexer": "ipython3",
   "version": "3.8.6"
  }
 },
 "nbformat": 4,
 "nbformat_minor": 2
}
