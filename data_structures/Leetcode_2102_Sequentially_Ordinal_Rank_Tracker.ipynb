{
 "cells": [
  {
   "cell_type": "markdown",
   "metadata": {},
   "source": [
    "## Method - Heap"
   ]
  },
  {
   "cell_type": "code",
   "execution_count": null,
   "metadata": {},
   "outputs": [],
   "source": [
    "import bisect\n",
    "\n",
    "class SORTracker:\n",
    "\n",
    "    def __init__(self):\n",
    "        # This will hold tuples (-score, name)\n",
    "        # so that the \"best\" item appears at the front.\n",
    "        self.items = []\n",
    "        self.count_get = 0  # How many times we've called get()\n",
    "\n",
    "    def add(self, name: str, score: int) -> None:\n",
    "        # The tuple that defines our ordering\n",
    "        new_item = (-score, name)\n",
    "        \n",
    "        # Find the correct insert position via binary search\n",
    "        # so that items remain sorted by (-score, name)\n",
    "        # i.e. descending by score, then ascending by name.\n",
    "        pos = bisect.bisect_left(self.items, new_item)\n",
    "        \n",
    "        # Insert into the list\n",
    "        self.items.insert(pos, new_item)\n",
    "\n",
    "    def get(self) -> str:\n",
    "        # The k-th best item is at index k-1,\n",
    "        # but we track how many times we have called get()\n",
    "        # so it's at index self.count_get in 0-based indexing\n",
    "        item = self.items[self.count_get]\n",
    "        self.count_get += 1\n",
    "        # The item is stored as (-score, name)\n",
    "        # We only need to return the name.\n",
    "        return item[1]\n",
    "\n",
    "\n",
    "# ----------------------------------------------------------------\n",
    "# Example usage:\n",
    "# ----------------------------------------------------------------\n",
    "\"\"\"\n",
    "Suppose we do these calls:\n",
    "  tracker.add(\"brad\", 2)\n",
    "  tracker.add(\"adam\", 2)\n",
    "  tracker.add(\"john\", 3)\n",
    "  print(tracker.get())  # The best so far -> \"john\" (score=3)\n",
    "  tracker.add(\"david\", 3)\n",
    "  print(tracker.get())  # The 2nd best so far\n",
    "  print(tracker.get())  # The 3rd best so far\n",
    "\"\"\"\n",
    "\n",
    "tracker = SORTracker()\n",
    "\n",
    "tracker.add(\"brad\", 2)    # items => [(-2, \"brad\")]\n",
    "tracker.add(\"adam\", 2)    # items => [(-2, \"adam\"), (-2, \"brad\")] (\"adam\" < \"brad\" lexicographically)\n",
    "tracker.add(\"john\", 3)    # items => [(-3, \"john\"), (-2, \"adam\"), (-2, \"brad\")]\n",
    "\n",
    "print(tracker.get())      # \"john\"  (best so far)\n",
    "tracker.add(\"david\", 3)   # items => [(-3, \"david\"), (-3, \"john\"), (-2, \"adam\"), (-2, \"brad\")]\n",
    "print(tracker.get())      # \"john\"  (2nd best)\n",
    "print(tracker.get())      # \"adam\"  (3rd best)\n"
   ]
  }
 ],
 "metadata": {
  "language_info": {
   "name": "python"
  }
 },
 "nbformat": 4,
 "nbformat_minor": 2
}
