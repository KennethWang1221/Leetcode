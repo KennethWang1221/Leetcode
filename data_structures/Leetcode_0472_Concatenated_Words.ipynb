{
 "cells": [
  {
   "cell_type": "markdown",
   "metadata": {},
   "source": [
    "## Method1 - DFS\n",
    "https://www.youtube.com/watch?v=iHp7fjw1R28 "
   ]
  },
  {
   "cell_type": "code",
   "execution_count": 1,
   "metadata": {},
   "outputs": [
    {
     "name": "stdout",
     "output_type": "stream",
     "text": [
      "['catsdogcats', 'dogcatsdog', 'ratcatdogcat']\n"
     ]
    }
   ],
   "source": [
    "def findAllConcatenatedWordsInADict(words):\n",
    "    wordSet = set(words)\n",
    "    dp = {}\n",
    "    # O(N*L*3)\n",
    "    def dfs(word):\n",
    "        if word in dp:\n",
    "            return dp[word]\n",
    "        for i in range(1, len(word)):\n",
    "            prefix = word[:i]\n",
    "            suffix = word[i:]\n",
    "            if ((prefix in wordSet and suffix in wordSet) or\n",
    "                (prefix in wordSet and dfs(suffix))):\n",
    "                dp[word] = True\n",
    "                return dp[word]\n",
    "        dp[word] = False\n",
    "        return dp[word]\n",
    "    \n",
    "    res = []\n",
    "    for w in words:\n",
    "        if dfs(w):\n",
    "            res.append(w)\n",
    "    return res\n",
    "\n",
    "words = [\"cat\",\"cats\",\"catsdogcats\",\"dog\",\"dogcatsdog\",\"hippopotamuses\",\"rat\",\"ratcatdogcat\"]\n",
    "print(findAllConcatenatedWordsInADict(words))"
   ]
  },
  {
   "cell_type": "markdown",
   "metadata": {},
   "source": [
    "## Method2 - DFS"
   ]
  },
  {
   "cell_type": "code",
   "execution_count": 3,
   "metadata": {},
   "outputs": [
    {
     "name": "stdout",
     "output_type": "stream",
     "text": [
      "['dogcatsdog', 'catsdogcats', 'ratcatdogcat']\n"
     ]
    }
   ],
   "source": [
    "def findAllConcatenatedWordsInADict(words):\n",
    "    def canForm(word, valid):\n",
    "        if not valid: \n",
    "            return False\n",
    "\n",
    "        n = len(word)\n",
    "        dp = [False] * (n+1)\n",
    "        dp[0] = True\n",
    "        for i in range(1, n+1):\n",
    "            for j in range(i):\n",
    "                if dp[j] and word[j:i] in valid and not (j == 0 and i == n):\n",
    "                    dp[i] = True\n",
    "                    break\n",
    "        return dp[n]\n",
    "\n",
    "    words.sort(key=len)\n",
    "    valid = set()\n",
    "    res = []\n",
    "\n",
    "    for w in words:\n",
    "        if canForm(w, valid):\n",
    "            res.append(w)\n",
    "        valid.add(w)\n",
    "    return res\n",
    "\n",
    "\n",
    "words = [\"cat\",\"cats\",\"catsdogcats\",\"dog\",\"dogcatsdog\",\"hippopotamuses\",\"rat\",\"ratcatdogcat\"]\n",
    "print(findAllConcatenatedWordsInADict(words))"
   ]
  }
 ],
 "metadata": {
  "kernelspec": {
   "display_name": "leetcode_env",
   "language": "python",
   "name": "leetcode_env"
  },
  "language_info": {
   "codemirror_mode": {
    "name": "ipython",
    "version": 3
   },
   "file_extension": ".py",
   "mimetype": "text/x-python",
   "name": "python",
   "nbconvert_exporter": "python",
   "pygments_lexer": "ipython3",
   "version": "3.8.6"
  }
 },
 "nbformat": 4,
 "nbformat_minor": 2
}
