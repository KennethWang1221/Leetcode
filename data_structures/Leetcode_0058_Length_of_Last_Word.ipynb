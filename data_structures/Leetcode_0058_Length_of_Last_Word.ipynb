{
 "cells": [
  {
   "cell_type": "markdown",
   "metadata": {},
   "source": [
    "## Method1 - DIY - String"
   ]
  },
  {
   "cell_type": "code",
   "execution_count": 18,
   "metadata": {},
   "outputs": [
    {
     "name": "stdout",
     "output_type": "stream",
     "text": [
      "27\n",
      "['', '', '', 'fly', 'me', '', '', 'to', '', '', 'the', 'moon', '', '']\n",
      "moon\n",
      "4\n"
     ]
    }
   ],
   "source": [
    "def lengthOfLastWord(s):\n",
    "    n = len(s)\n",
    "    print(n)\n",
    "    new = s.split(\" \")\n",
    "    print(new)\n",
    "    for i in range(len(new)-1,-1,-1):\n",
    "        if new[i] == \"\":\n",
    "            continue\n",
    "        else:\n",
    "            res = len(new[i])\n",
    "            print(new[i])\n",
    "            return res\n",
    "\n",
    "s = \"   fly me   to   the moon  \"\n",
    "res = lengthOfLastWord(s)\n",
    "print(res)"
   ]
  },
  {
   "cell_type": "markdown",
   "metadata": {},
   "source": [
    "## Method2 - String\n",
    "https://www.youtube.com/watch?v=KT9rltZTybQ"
   ]
  },
  {
   "cell_type": "code",
   "execution_count": 20,
   "metadata": {},
   "outputs": [
    {
     "name": "stdout",
     "output_type": "stream",
     "text": [
      "4\n"
     ]
    }
   ],
   "source": [
    "def lengthOfLastWord(s):\n",
    "    i, length = len(s) -1, 0\n",
    "\n",
    "    while s[i] == \" \":\n",
    "        i -= 1\n",
    "    while i>=0 and s[i] != \" \":\n",
    "        length += 1\n",
    "        i -= 1\n",
    "    return length\n",
    "\n",
    "s = \"   fly me   to   the moon  \"\n",
    "res = lengthOfLastWord(s)\n",
    "print(res)"
   ]
  }
 ],
 "metadata": {
  "kernelspec": {
   "display_name": "leetcode_env",
   "language": "python",
   "name": "leetcode_env"
  },
  "language_info": {
   "codemirror_mode": {
    "name": "ipython",
    "version": 3
   },
   "file_extension": ".py",
   "mimetype": "text/x-python",
   "name": "python",
   "nbconvert_exporter": "python",
   "pygments_lexer": "ipython3",
   "version": "3.8.6"
  },
  "orig_nbformat": 4
 },
 "nbformat": 4,
 "nbformat_minor": 2
}
