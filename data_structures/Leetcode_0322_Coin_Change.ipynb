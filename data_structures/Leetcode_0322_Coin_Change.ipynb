{
 "cells": [
  {
   "cell_type": "markdown",
   "metadata": {},
   "source": [
    "## Unbounded Knapsack Problem (UKP)"
   ]
  },
  {
   "cell_type": "markdown",
   "metadata": {},
   "source": [
    "## Method1 - 2D Bottom-UP DP - DIY \n",
    "\n",
    "Same idea to BKP-0416 Method3, UKP-0518 Method3"
   ]
  },
  {
   "cell_type": "code",
   "execution_count": 9,
   "metadata": {},
   "outputs": [
    {
     "name": "stdout",
     "output_type": "stream",
     "text": [
      "3\n"
     ]
    }
   ],
   "source": [
    "def coinChange(coins, amount):\n",
    "    n = len(coins)\n",
    "    # Initialize the DP table with size (n+1) x (amount+1)\n",
    "    dp = [[float('inf')] * (amount + 1) for _ in range(n + 1)]\n",
    "    \n",
    "    # Base case: to make amount 0, we need 0 coins\n",
    "    for i in range(n + 1):\n",
    "        dp[i][0] = 0\n",
    "\n",
    "    # Fill the DP table\n",
    "    for i in range(1, n + 1):\n",
    "        for j in range(1, amount + 1):\n",
    "            remain = j - coins[i-1]\n",
    "            if remain < 0:\n",
    "                # Option 1: Exclude the coin (same as previous row)\n",
    "                dp[i][j] = dp[i-1][j]\n",
    "            else:\n",
    "                # Option 2: Include the coin\n",
    "                dp[i][j] = min(dp[i-1][j], 1 + dp[i][remain])\n",
    "\n",
    "    # The answer is in dp[n][amount], if it's still infinity, return -1\n",
    "    return dp[n][amount] if dp[n][amount] != float('inf') else -1\n",
    "\n",
    "coins = [1,2,5]\n",
    "amount = 11\n",
    "res = coinChange(coins, amount)\n",
    "print(res)"
   ]
  },
  {
   "cell_type": "markdown",
   "metadata": {},
   "source": [
    "## Method2 - 1D Bottom-UP DP\n",
    "https://www.youtube.com/watch?v=H9bfqozjoqs"
   ]
  },
  {
   "cell_type": "code",
   "execution_count": 18,
   "metadata": {},
   "outputs": [
    {
     "name": "stdout",
     "output_type": "stream",
     "text": [
      "2\n"
     ]
    }
   ],
   "source": [
    "from typing import List\n",
    "\n",
    "def coinChange(coins: List[int], amount: int) -> int:\n",
    "    dp = [amount + 1] * (amount + 1)\n",
    "    dp[0] = 0\n",
    "\n",
    "    for a in range(1, amount + 1):\n",
    "        for c in coins:\n",
    "            remain = a - c\n",
    "            if remain >= 0:\n",
    "                dp[a] = min(dp[a], 1 + dp[remain])\n",
    "    return dp[amount] if dp[amount] != amount + 1 else -1\n",
    "\n",
    "coins = [2]\n",
    "amount = 3\n",
    "coins = [1, 2, 5]\n",
    "amount = 7\n",
    "res = coinChange(coins, amount)\n",
    "print(res)"
   ]
  },
  {
   "cell_type": "markdown",
   "metadata": {},
   "source": [
    "## Method2 - 1D Bottom-UP DP Recap\n",
    "\n",
    "similar idea to Bounded Knapsack Problem (BKP) 2D Bottom-UP DP 0416/0494/0474/1049\n",
    "\n",
    "Both use total amount as column and use coins as the row to iterate the dp"
   ]
  },
  {
   "cell_type": "code",
   "execution_count": 8,
   "metadata": {},
   "outputs": [
    {
     "name": "stdout",
     "output_type": "stream",
     "text": [
      "3\n"
     ]
    }
   ],
   "source": [
    "def coinChange(coins = [1,2,5], amount = 11):\n",
    "    dp = [float(\"inf\")] * (amount+1)\n",
    "    dp[0] = 0\n",
    "    for a in range(1, amount+1):\n",
    "        for coin in coins:\n",
    "            remain = a - coin\n",
    "            if remain < 0:\n",
    "                dp[a] = dp[a]\n",
    "            else:\n",
    "                dp[a] = min(dp[a], 1+dp[remain])\n",
    "    return dp[amount] if dp[amount] != float('inf') else -1\n",
    "        \n",
    "print(coinChange()) # dp = [0,4,1,4]"
   ]
  },
  {
   "cell_type": "markdown",
   "metadata": {},
   "source": [
    "## Method3 - 1D Bottom-UP DP\n",
    "\n",
    "https://github.com/youngyangyang04/leetcode-master/blob/master/problems/0322.%E9%9B%B6%E9%92%B1%E5%85%91%E6%8D%A2.md"
   ]
  },
  {
   "cell_type": "markdown",
   "metadata": {},
   "source": [
    "### 先遍历背包 后遍历物品"
   ]
  },
  {
   "cell_type": "code",
   "execution_count": 26,
   "metadata": {},
   "outputs": [
    {
     "name": "stdout",
     "output_type": "stream",
     "text": [
      "2\n"
     ]
    }
   ],
   "source": [
    "def coinChange(coins: List[int], amount: int) -> int:\n",
    "    dp = [float('inf')] * (amount + 1)  # 创建动态规划数组，初始值为正无穷大\n",
    "    dp[0] = 0  # 初始化背包容量为0时的最小硬币数量为0\n",
    "\n",
    "    for i in range(1, amount + 1):  # 遍历背包容量\n",
    "        for j in range(len(coins)):  # 遍历硬币列表，相当于遍历物品\n",
    "            if i - coins[j] >= 0 and dp[i - coins[j]] != float('inf'):  # 如果dp[i - coins[j]]不是初始值，则进行状态转移\n",
    "                dp[i] = min(dp[i - coins[j]] + 1, dp[i])  # 更新最小硬币数量\n",
    "\n",
    "    if dp[amount] == float('inf'):  # 如果最终背包容量的最小硬币数量仍为正无穷大，表示无解\n",
    "        return -1\n",
    "    return dp[amount]  # 返回背包容量为amount时的最小硬币数量\n",
    "\n",
    "coins = [2]\n",
    "amount = 3\n",
    "coins = [1, 2, 5]\n",
    "amount = 7\n",
    "res = coinChange(coins, amount)\n",
    "print(res)"
   ]
  },
  {
   "cell_type": "markdown",
   "metadata": {},
   "source": [
    "### 先遍历背包 后遍历物品（优化版）"
   ]
  },
  {
   "cell_type": "code",
   "execution_count": null,
   "metadata": {},
   "outputs": [],
   "source": [
    "from typing import List\n",
    "\n",
    "def coinChange(coins: List[int], amount: int) -> int:\n",
    "    dp = [float('inf')] * (amount + 1)\n",
    "    dp[0] = 0\n",
    "\n",
    "    for i in range(1, amount + 1):  # 遍历背包容量\n",
    "        for coin in coins:  # 遍历物品\n",
    "            if i - coin >= 0:\n",
    "                # 更新凑成金额 i 所需的最少硬币数量\n",
    "                dp[i] = min(dp[i], dp[i - coin] + 1)\n",
    "\n",
    "    return dp[amount] if dp[amount] != float('inf') else -1\n",
    "\n",
    "coins = [2]\n",
    "amount = 3\n",
    "coins = [1, 2, 5]\n",
    "amount = 7\n",
    "res = coinChange(coins, amount)\n",
    "print(res)"
   ]
  },
  {
   "cell_type": "markdown",
   "metadata": {},
   "source": [
    "### 先遍历物品 后遍历背包"
   ]
  },
  {
   "cell_type": "code",
   "execution_count": 27,
   "metadata": {},
   "outputs": [
    {
     "name": "stdout",
     "output_type": "stream",
     "text": [
      "2\n"
     ]
    }
   ],
   "source": [
    "from typing import List\n",
    "\n",
    "def coinChange(coins: List[int], amount: int) -> int:\n",
    "    dp = [float('inf')] * (amount + 1)  # 创建动态规划数组，初始值为正无穷大\n",
    "    dp[0] = 0  # 初始化背包容量为0时的最小硬币数量为0\n",
    "\n",
    "    for coin in coins:  # 遍历硬币列表，相当于遍历物品\n",
    "        for i in range(coin, amount + 1):  # 遍历背包容量\n",
    "            if dp[i - coin] != float('inf'):  # 如果dp[i - coin]不是初始值，则进行状态转移\n",
    "                dp[i] = min(dp[i - coin] + 1, dp[i])  # 更新最小硬币数量\n",
    "\n",
    "    if dp[amount] == float('inf'):  # 如果最终背包容量的最小硬币数量仍为正无穷大，表示无解\n",
    "        return -1\n",
    "    return dp[amount]  # 返回背包容量为amount时的最小硬币数量\n",
    "coins = [2]\n",
    "amount = 3\n",
    "coins = [1, 2, 5]\n",
    "amount = 7\n",
    "res = coinChange(coins, amount)\n",
    "print(res)"
   ]
  },
  {
   "cell_type": "markdown",
   "metadata": {},
   "source": [
    "### 先遍历物品 后遍历背包（优化版）"
   ]
  },
  {
   "cell_type": "code",
   "execution_count": 28,
   "metadata": {},
   "outputs": [
    {
     "name": "stdout",
     "output_type": "stream",
     "text": [
      "2\n"
     ]
    }
   ],
   "source": [
    "from typing import List\n",
    "\n",
    "def coinChange(coins: List[int], amount: int) -> int:\n",
    "    dp = [float('inf')] * (amount + 1)\n",
    "    dp[0] = 0\n",
    "\n",
    "    for coin in coins:\n",
    "        for i in range(coin, amount + 1): # 进行优化，从能装得下的背包开始计算，则不需要进行比较\n",
    "            # 更新凑成金额 i 所需的最少硬币数量\n",
    "            dp[i] = min(dp[i], dp[i - coin] + 1)\n",
    "\n",
    "    return dp[amount] if dp[amount] != float('inf') else -1\n",
    "coins = [2]\n",
    "amount = 3\n",
    "coins = [1, 2, 5]\n",
    "amount = 7\n",
    "res = coinChange(coins, amount)\n",
    "print(res)"
   ]
  }
 ],
 "metadata": {
  "kernelspec": {
   "display_name": "test_env",
   "language": "python",
   "name": "python3"
  },
  "language_info": {
   "codemirror_mode": {
    "name": "ipython",
    "version": 3
   },
   "file_extension": ".py",
   "mimetype": "text/x-python",
   "name": "python",
   "nbconvert_exporter": "python",
   "pygments_lexer": "ipython3",
   "version": "3.8.6"
  }
 },
 "nbformat": 4,
 "nbformat_minor": 2
}
