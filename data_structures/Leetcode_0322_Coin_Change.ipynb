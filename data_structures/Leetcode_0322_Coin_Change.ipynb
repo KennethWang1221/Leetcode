{
 "cells": [
  {
   "cell_type": "markdown",
   "metadata": {},
   "source": [
    "## Method1 - 1D Top-Down DP\n",
    "https://www.youtube.com/watch?v=H9bfqozjoqs"
   ]
  },
  {
   "cell_type": "code",
   "execution_count": 10,
   "metadata": {},
   "outputs": [
    {
     "name": "stdout",
     "output_type": "stream",
     "text": [
      "-1\n"
     ]
    }
   ],
   "source": [
    "from typing import List\n",
    "\n",
    "def coinChange(coins: List[int], amount: int) -> int:\n",
    "    dp = [amount + 1] * (amount + 1)\n",
    "    dp[0] = 0\n",
    "\n",
    "    for a in range(1, amount + 1):\n",
    "        for c in coins:\n",
    "            if a - c >= 0:\n",
    "                dp[a] = min(dp[a], 1 + dp[a - c])\n",
    "    return dp[amount] if dp[amount] != amount + 1 else -1\n",
    "\n",
    "coins = [1, 2, 5]\n",
    "amount = 11\n",
    "coins = [2]\n",
    "amount = 3\n",
    "res = coinChange(coins, amount)\n",
    "print(res)"
   ]
  }
 ],
 "metadata": {
  "kernelspec": {
   "display_name": "test_env",
   "language": "python",
   "name": "test_env"
  },
  "language_info": {
   "codemirror_mode": {
    "name": "ipython",
    "version": 3
   },
   "file_extension": ".py",
   "mimetype": "text/x-python",
   "name": "python",
   "nbconvert_exporter": "python",
   "pygments_lexer": "ipython3",
   "version": "3.8.6"
  }
 },
 "nbformat": 4,
 "nbformat_minor": 2
}
