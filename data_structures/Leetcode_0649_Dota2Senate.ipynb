{
 "cells": [
  {
   "cell_type": "markdown",
   "metadata": {},
   "source": [
    "## Method1 - Greedy\n",
    "\n",
    "https://www.youtube.com/watch?v=zZA5KskfMuQ"
   ]
  },
  {
   "cell_type": "code",
   "execution_count": 1,
   "metadata": {},
   "outputs": [
    {
     "name": "stdout",
     "output_type": "stream",
     "text": [
      "Dire\n"
     ]
    }
   ],
   "source": [
    "from collections import deque\n",
    "\n",
    "def predictPartyVictory(senate):\n",
    "\n",
    "    n = len(senate)\n",
    "    radiant = deque()\n",
    "    dire = deque()\n",
    "\n",
    "    # Store indices of each senator\n",
    "    for i, s in enumerate(senate):\n",
    "        if s == 'R':\n",
    "            radiant.append(i)\n",
    "        else:\n",
    "            dire.append(i)\n",
    "\n",
    "    # Simulate rounds\n",
    "    while radiant and dire:\n",
    "        r = radiant.popleft()\n",
    "        d = dire.popleft()\n",
    "\n",
    "        if r < d:\n",
    "            radiant.append(r + n)  # R bans D\n",
    "        else:\n",
    "            dire.append(d + n)     # D bans R\n",
    "\n",
    "    return \"Radiant\" if radiant else \"Dire\"\n",
    "senate = \"DDRRR\"\n",
    "print(predictPartyVictory(senate))  # Output: Dire"
   ]
  }
 ],
 "metadata": {
  "kernelspec": {
   "display_name": "leetcode_env",
   "language": "python",
   "name": "python3"
  },
  "language_info": {
   "codemirror_mode": {
    "name": "ipython",
    "version": 3
   },
   "file_extension": ".py",
   "mimetype": "text/x-python",
   "name": "python",
   "nbconvert_exporter": "python",
   "pygments_lexer": "ipython3",
   "version": "3.8.6"
  }
 },
 "nbformat": 4,
 "nbformat_minor": 2
}
