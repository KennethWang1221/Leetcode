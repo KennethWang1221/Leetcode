{
 "cells": [
  {
   "cell_type": "markdown",
   "metadata": {},
   "source": [
    "## Method1 - Bits\n",
    "\n",
    "https://www.youtube.com/watch?v=4pP-0UpEok4"
   ]
  },
  {
   "cell_type": "code",
   "execution_count": 1,
   "metadata": {},
   "outputs": [
    {
     "name": "stdout",
     "output_type": "stream",
     "text": [
      "13\n"
     ]
    }
   ],
   "source": [
    "def minEnd(n,x):\n",
    "    cnt = n - 1\n",
    "    result = x\n",
    "    bit = 1\n",
    "    \n",
    "    # Apply the bits of 'cnt' into the zero positions of 'x'\n",
    "    i = 0\n",
    "    while cnt > 0:\n",
    "        if (result >> i) & 1 == 0:\n",
    "            if cnt & 1:\n",
    "                result |= (1 << i)\n",
    "            cnt >>= 1\n",
    "        i += 1\n",
    "\n",
    "    return result\n",
    "print(minEnd(n = 3,x = 5))"
   ]
  }
 ],
 "metadata": {
  "kernelspec": {
   "display_name": "leetcode_env",
   "language": "python",
   "name": "python3"
  },
  "language_info": {
   "codemirror_mode": {
    "name": "ipython",
    "version": 3
   },
   "file_extension": ".py",
   "mimetype": "text/x-python",
   "name": "python",
   "nbconvert_exporter": "python",
   "pygments_lexer": "ipython3",
   "version": "3.8.6"
  }
 },
 "nbformat": 4,
 "nbformat_minor": 2
}
