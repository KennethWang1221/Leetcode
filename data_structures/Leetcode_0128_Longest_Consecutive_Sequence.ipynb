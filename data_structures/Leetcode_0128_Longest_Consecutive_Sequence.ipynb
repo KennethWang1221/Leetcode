{
 "cells": [
  {
   "cell_type": "markdown",
   "metadata": {},
   "source": [
    "## Method1 - HashSet - Top Interview \n",
    "\n",
    "https://www.youtube.com/watch?v=P6RZZMu_maU"
   ]
  },
  {
   "cell_type": "code",
   "execution_count": 5,
   "metadata": {},
   "outputs": [
    {
     "name": "stdout",
     "output_type": "stream",
     "text": [
      "4\n"
     ]
    }
   ],
   "source": [
    "def longestConsecutive(nums):\n",
    "    numSet = set(nums)\n",
    "    longest = 0\n",
    "\n",
    "    for n in numSet:\n",
    "        # check if its the start of a sequence\n",
    "        if (n-1) not in numSet:\n",
    "            length = 0\n",
    "            while n+length in numSet:\n",
    "                temp = n+length\n",
    "                length += 1\n",
    "            longest = max(length, longest)\n",
    "    return longest\n",
    "    \n",
    "nums = [100,4,200,1,3,2]\n",
    "#nums = [0,3,7,2,5,8,4,6,0,1]\n",
    "res = longestConsecutive(nums)\n",
    "print(res)"
   ]
  },
  {
   "cell_type": "markdown",
   "metadata": {},
   "source": [
    "## Wrong Version"
   ]
  },
  {
   "cell_type": "code",
   "execution_count": 19,
   "metadata": {},
   "outputs": [
    {
     "name": "stdout",
     "output_type": "stream",
     "text": [
      "8\n"
     ]
    }
   ],
   "source": [
    "def longestConsecutive(nums):\n",
    "    nums.sort()\n",
    "    hashmap = {}\n",
    "    \n",
    "    for i in range(len(nums)):\n",
    "        diff = nums[i] - hashmap.get(i-1,0)\n",
    "        if diff == 1:\n",
    "            hashmap[i] = nums[i]    \n",
    "        \n",
    "    return len(hashmap)\n",
    "\n",
    "nums = [0,3,7,2,5,8,4,6,0,1]\n",
    "res = longestConsecutive(nums)\n",
    "print(res)"
   ]
  }
 ],
 "metadata": {
  "kernelspec": {
   "display_name": "leetcode_env",
   "language": "python",
   "name": "leetcode_env"
  },
  "language_info": {
   "codemirror_mode": {
    "name": "ipython",
    "version": 3
   },
   "file_extension": ".py",
   "mimetype": "text/x-python",
   "name": "python",
   "nbconvert_exporter": "python",
   "pygments_lexer": "ipython3",
   "version": "3.8.6"
  },
  "orig_nbformat": 4,
  "vscode": {
   "interpreter": {
    "hash": "846fd2d9bb562a436898b7cc368204fc2f9d44e5e9b051b4f6e855e721078f23"
   }
  }
 },
 "nbformat": 4,
 "nbformat_minor": 2
}
