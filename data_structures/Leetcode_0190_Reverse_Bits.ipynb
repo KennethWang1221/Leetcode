{
 "cells": [
  {
   "cell_type": "markdown",
   "metadata": {},
   "source": [
    "## Method1 - Bit Manipulation\n",
    "\n",
    "https://www.youtube.com/watch?v=UcoN6UjAI64\n"
   ]
  },
  {
   "cell_type": "code",
   "execution_count": 4,
   "metadata": {},
   "outputs": [
    {
     "name": "stdout",
     "output_type": "stream",
     "text": [
      "964176192\n"
     ]
    }
   ],
   "source": [
    "def reverseBits(n):\n",
    "    res = 0\n",
    "    for i in range(32):\n",
    "        bit = (n >> i) & 1\n",
    "        res += (bit << (31 - i))\n",
    "    return res\n",
    "\n",
    "n = 0b00000010100101000001111010011100\n",
    "res = reverseBits(n)\n",
    "print(res)"
   ]
  }
 ],
 "metadata": {
  "kernelspec": {
   "display_name": "test_env",
   "language": "python",
   "name": "test_env"
  },
  "language_info": {
   "codemirror_mode": {
    "name": "ipython",
    "version": 3
   },
   "file_extension": ".py",
   "mimetype": "text/x-python",
   "name": "python",
   "nbconvert_exporter": "python",
   "pygments_lexer": "ipython3",
   "version": "3.8.6"
  }
 },
 "nbformat": 4,
 "nbformat_minor": 2
}
