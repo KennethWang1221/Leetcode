{
 "cells": [
  {
   "cell_type": "markdown",
   "metadata": {},
   "source": [
    "## Method1 - Graph - BFS\n",
    "https://www.youtube.com/watch?v=h9iTnkgv05E"
   ]
  },
  {
   "cell_type": "code",
   "execution_count": 3,
   "metadata": {},
   "outputs": [
    {
     "name": "stdout",
     "output_type": "stream",
     "text": [
      "5\n"
     ]
    }
   ],
   "source": [
    "import collections\n",
    "from collections import deque\n",
    "def ladderLength(beginWord, endWord, wordList):\n",
    "    if endWord not in wordList:\n",
    "        return 0\n",
    "\n",
    "    nei = {} #nei = collections.defaultdict(list)\n",
    "    wordList.append(beginWord)\n",
    "    for word in wordList:\n",
    "        for j in range(len(word)):\n",
    "            pattern = word[:j] + \"*\" + word[j + 1 :]\n",
    "            if pattern not in nei:\n",
    "                nei[pattern] = []\n",
    "            nei[pattern].append(word)\n",
    "\n",
    "    visit = set([beginWord])\n",
    "    q = [beginWord] #q = deque([beginWord])\n",
    "    res = 1\n",
    "    while q:\n",
    "        for i in range(len(q)):\n",
    "            word = q.pop(0)\n",
    "            if word == endWord:\n",
    "                return res\n",
    "            for j in range(len(word)):\n",
    "                pattern = word[:j] + \"*\" + word[j + 1 :]\n",
    "                for neiWord in nei[pattern]:\n",
    "                    if neiWord not in visit:\n",
    "                        visit.add(neiWord)\n",
    "                        q.append(neiWord)\n",
    "        res += 1\n",
    "    return 0\n",
    "\n",
    "beginWord = \"hit\"\n",
    "endWord = \"cog\"\n",
    "wordList = [\"hot\",\"dot\",\"dog\",\"lot\",\"log\",\"cog\"]\n",
    "res = ladderLength(beginWord, endWord, wordList)\n",
    "print(res)"
   ]
  }
 ],
 "metadata": {
  "kernelspec": {
   "display_name": "test_env",
   "language": "python",
   "name": "test_env"
  },
  "language_info": {
   "codemirror_mode": {
    "name": "ipython",
    "version": 3
   },
   "file_extension": ".py",
   "mimetype": "text/x-python",
   "name": "python",
   "nbconvert_exporter": "python",
   "pygments_lexer": "ipython3",
   "version": "3.8.10"
  }
 },
 "nbformat": 4,
 "nbformat_minor": 2
}
