{
 "cells": [
  {
   "attachments": {},
   "cell_type": "markdown",
   "metadata": {},
   "source": [
    "## Method1 - DFS - Union Find\n",
    "https://www.youtube.com/watch?v=8f1XPm4WOUc"
   ]
  },
  {
   "cell_type": "code",
   "execution_count": 3,
   "metadata": {},
   "outputs": [
    {
     "name": "stdout",
     "output_type": "stream",
     "text": [
      "2\n"
     ]
    }
   ],
   "source": [
    "def countComponents(n,edges):\n",
    "    par = [i for i in range(n)]\n",
    "    rank = [1] * n\n",
    "\n",
    "    def find(n1):\n",
    "        res = n1\n",
    "\n",
    "        while res != par[res]:\n",
    "            par[res] = par[par[res]]\n",
    "            res = par[res]\n",
    "        return res\n",
    "    \n",
    "    def union(n1,n2):\n",
    "        p1,p2 = find(n1), find(n2)\n",
    "\n",
    "        if p1==p2: return 0\n",
    "        \n",
    "        if rank[p2] > rank[p1]:\n",
    "            par[p1] = p2\n",
    "            rank[p2] += rank[p1]\n",
    "        else:\n",
    "            par[p2] = p1\n",
    "            rank[p1] += rank[p2]\n",
    "        return 1\n",
    "    \n",
    "    res = n\n",
    "    for n1, n2 in edges:\n",
    "        res -= union(n1,n2)\n",
    "    return res\n",
    "\n",
    "n = 5\n",
    "edges = [[0,1],[1,2],[3,4]]\n",
    "res = countComponents(n,edges)\n",
    "print(res)"
   ]
  }
 ],
 "metadata": {
  "kernelspec": {
   "display_name": "leetcode_env",
   "language": "python",
   "name": "leetcode_env"
  },
  "language_info": {
   "codemirror_mode": {
    "name": "ipython",
    "version": 3
   },
   "file_extension": ".py",
   "mimetype": "text/x-python",
   "name": "python",
   "nbconvert_exporter": "python",
   "pygments_lexer": "ipython3",
   "version": "3.8.6"
  },
  "orig_nbformat": 4
 },
 "nbformat": 4,
 "nbformat_minor": 2
}
