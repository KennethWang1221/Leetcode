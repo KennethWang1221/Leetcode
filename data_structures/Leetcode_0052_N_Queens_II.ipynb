{
 "cells": [
  {
   "cell_type": "markdown",
   "metadata": {},
   "source": [
    "## Method1 - Backtracking\n",
    "\n",
    "https://www.youtube.com/watch?v=nalYyLZgvCY"
   ]
  },
  {
   "cell_type": "code",
   "execution_count": 1,
   "metadata": {},
   "outputs": [
    {
     "name": "stdout",
     "output_type": "stream",
     "text": [
      "2\n"
     ]
    }
   ],
   "source": [
    "def totalNQueens(n):\n",
    "    answer = 0\n",
    "\n",
    "    cols = set()\n",
    "    posdiag = set()\n",
    "    negdiag = set()\n",
    "\n",
    "    def backtrack(i):\n",
    "        if i == n:\n",
    "            nonlocal answer\n",
    "            answer += 1\n",
    "            return\n",
    "        \n",
    "        for j in range(n):\n",
    "            if j in cols or (i+j) in posdiag or (i-j) in negdiag:\n",
    "                continue\n",
    "\n",
    "            cols.add(j)\n",
    "            posdiag.add(i+j)\n",
    "            negdiag.add(i-j)\n",
    "\n",
    "            backtrack(i+1)\n",
    "            \n",
    "            cols.remove(j)\n",
    "            posdiag.remove(i+j)\n",
    "            negdiag.remove(i-j)\n",
    "    \n",
    "    backtrack(0)\n",
    "    return answer\n",
    "n = 4\n",
    "res = totalNQueens(n)\n",
    "print(res)"
   ]
  }
 ],
 "metadata": {
  "kernelspec": {
   "display_name": "leetcode_env",
   "language": "python",
   "name": "leetcode_env"
  },
  "language_info": {
   "codemirror_mode": {
    "name": "ipython",
    "version": 3
   },
   "file_extension": ".py",
   "mimetype": "text/x-python",
   "name": "python",
   "nbconvert_exporter": "python",
   "pygments_lexer": "ipython3",
   "version": "3.8.6"
  }
 },
 "nbformat": 4,
 "nbformat_minor": 2
}
