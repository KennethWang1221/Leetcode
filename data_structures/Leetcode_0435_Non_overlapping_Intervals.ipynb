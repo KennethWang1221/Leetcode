{
 "cells": [
  {
   "cell_type": "markdown",
   "metadata": {},
   "source": [
    "## Method1 - Greedy\n",
    "https://www.youtube.com/watch?v=nONCGxWoUfM"
   ]
  },
  {
   "cell_type": "code",
   "execution_count": 2,
   "metadata": {},
   "outputs": [
    {
     "name": "stdout",
     "output_type": "stream",
     "text": [
      "1\n"
     ]
    }
   ],
   "source": [
    "def eraseOverlapIntervals(intervals):\n",
    "    intervals.sort()\n",
    "    res = 0\n",
    "    prevEnd = intervals[0][1]\n",
    "    for start, end in intervals[1:]:\n",
    "        if start >= prevEnd:\n",
    "            prevEnd = end\n",
    "        else:\n",
    "            res += 1\n",
    "            prevEnd = min(end, prevEnd)\n",
    "    return res\n",
    "intervals = [[1,2],[2,3],[3,4],[1,3]]\n",
    "res = eraseOverlapIntervals(intervals)\n",
    "print(res)"
   ]
  },
  {
   "cell_type": "markdown",
   "metadata": {},
   "source": [
    "## Recap - DIY - Intervals\n",
    "same to Leetcode_0452_Minimum_Number_of_Arrows_to_Burst_Balloons"
   ]
  },
  {
   "cell_type": "code",
   "execution_count": 7,
   "metadata": {},
   "outputs": [
    {
     "name": "stdout",
     "output_type": "stream",
     "text": [
      "7\n"
     ]
    }
   ],
   "source": [
    "def eraseOverlapIntervals(intervals):\n",
    "    intervals.sort()\n",
    "    n = len(intervals)\n",
    "    overlap = 0\n",
    "    res = [intervals[0]]\n",
    "    for i in range(1,n):\n",
    "        curstart, curend = intervals[i][0], intervals[i][1]\n",
    "        prevstart, prevEnd = res[-1][0], res[-1][1]\n",
    "        if curstart >= prevEnd:\n",
    "            res[-1][0] = min(curstart, prevstart)\n",
    "            res[-1][1] = max(curend, prevEnd)\n",
    "        else:\n",
    "            overlap += 1\n",
    "            res[-1][0] = min(curstart, prevstart)\n",
    "            res[-1][-1] = min(curend, prevEnd)\n",
    "    return overlap\n",
    "intervals = [[1,2],[2,3],[3,4],[1,3]]\n",
    "intervals = [[-52,31],[-73,-26],[82,97],[-65,-11],[-62,-49],[95,99],[58,95],[-31,49],[66,98],[-63,2],[30,47],[-40,-26]]\n",
    "res = eraseOverlapIntervals(intervals)\n",
    "print(res)"
   ]
  },
  {
   "cell_type": "markdown",
   "metadata": {},
   "source": [
    "Leetcode_0452_Minimum_Number_of_Arrows_to_Burst_Balloons"
   ]
  },
  {
   "cell_type": "code",
   "execution_count": 6,
   "metadata": {},
   "outputs": [
    {
     "name": "stdout",
     "output_type": "stream",
     "text": [
      "2\n"
     ]
    }
   ],
   "source": [
    "def findMinArrowShots(points):\n",
    "    n = len(points)\n",
    "    points.sort()\n",
    "\n",
    "    res = [points[0]]\n",
    "\n",
    "    for i in range(1,n):\n",
    "        prevstart, prevend = res[-1][0], res[-1][1]\n",
    "        curstart, curend = points[i][0], points[i][1]\n",
    "\n",
    "        if curstart<=prevend:\n",
    "            res[-1][0] = max(prevstart, curstart)\n",
    "            res[-1][1] = min(prevend, curend)\n",
    "        else:\n",
    "            res.append([curstart, curend])\n",
    "    return len(res)\n",
    "\n",
    "points = [[3,9],[7,12],[3,8],[6,8],[9,10],[2,9],[0,9],[3,9],[0,6],[2,8]]\n",
    "points = [[10,16],[2,8],[1,6],[7,12]]\n",
    "res = findMinArrowShots(points)\n",
    "print(res)"
   ]
  },
  {
   "cell_type": "markdown",
   "metadata": {},
   "source": [
    "## Method2 - Greedy\n",
    "https://github.com/youngyangyang04/leetcode-master/blob/master/problems/0435.%E6%97%A0%E9%87%8D%E5%8F%A0%E5%8C%BA%E9%97%B4.md"
   ]
  },
  {
   "cell_type": "markdown",
   "metadata": {},
   "source": [
    "贪心 基于左边界"
   ]
  },
  {
   "cell_type": "code",
   "execution_count": 3,
   "metadata": {},
   "outputs": [
    {
     "name": "stdout",
     "output_type": "stream",
     "text": [
      "1\n"
     ]
    }
   ],
   "source": [
    "def eraseOverlapIntervals(intervals):\n",
    "    if not intervals:\n",
    "        return 0\n",
    "    \n",
    "    intervals.sort(key=lambda x: x[0])  # 按照左边界升序排序\n",
    "    count = 0  # 记录重叠区间数量\n",
    "    \n",
    "    for i in range(1, len(intervals)):\n",
    "        if intervals[i][0] < intervals[i - 1][1]:  # 存在重叠区间\n",
    "            intervals[i][1] = min(intervals[i - 1][1], intervals[i][1])  # 更新重叠区间的右边界\n",
    "            count += 1\n",
    "    \n",
    "    return count\n",
    "intervals = [[1,2],[2,3],[3,4],[1,3]]\n",
    "res = eraseOverlapIntervals(intervals)\n",
    "print(res)"
   ]
  },
  {
   "cell_type": "markdown",
   "metadata": {},
   "source": [
    "贪心 基于左边界 把452.用最少数量的箭引爆气球代码稍做修改\n"
   ]
  },
  {
   "cell_type": "code",
   "execution_count": 1,
   "metadata": {},
   "outputs": [
    {
     "name": "stdout",
     "output_type": "stream",
     "text": [
      "2\n"
     ]
    }
   ],
   "source": [
    "def eraseOverlapIntervals(intervals):\n",
    "    if not intervals:\n",
    "        return 0\n",
    "    \n",
    "    intervals.sort(key=lambda x: x[0])  # 按照左边界升序排序\n",
    "    \n",
    "    result = 1  # 不重叠区间数量，初始化为1，因为至少有一个不重叠的区间\n",
    "    \n",
    "    for i in range(1, len(intervals)):\n",
    "        if intervals[i][0] >= intervals[i - 1][1]:  # 没有重叠\n",
    "            result += 1\n",
    "        else:  # 重叠情况\n",
    "            intervals[i][1] = min(intervals[i - 1][1], intervals[i][1])  # 更新重叠区间的右边界\n",
    "    \n",
    "    return len(intervals) - result\n",
    "intervals = [[1,2],[2,3],[3,4],[1,3]]\n",
    "intervals = [[1,100],[11,22],[1,11],[2,12]]\n",
    "res = eraseOverlapIntervals(intervals)\n",
    "print(res)"
   ]
  }
 ],
 "metadata": {
  "kernelspec": {
   "display_name": "leetcode_env",
   "language": "python",
   "name": "leetcode_env"
  },
  "language_info": {
   "codemirror_mode": {
    "name": "ipython",
    "version": 3
   },
   "file_extension": ".py",
   "mimetype": "text/x-python",
   "name": "python",
   "nbconvert_exporter": "python",
   "pygments_lexer": "ipython3",
   "version": "3.8.6"
  }
 },
 "nbformat": 4,
 "nbformat_minor": 2
}
