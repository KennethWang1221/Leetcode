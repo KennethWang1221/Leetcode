{
 "cells": [
  {
   "cell_type": "markdown",
   "metadata": {},
   "source": [
    "## Method1 - Greedy\n",
    "https://www.youtube.com/watch?v=nONCGxWoUfM"
   ]
  },
  {
   "cell_type": "code",
   "execution_count": 1,
   "metadata": {},
   "outputs": [
    {
     "name": "stdout",
     "output_type": "stream",
     "text": [
      "1\n"
     ]
    }
   ],
   "source": [
    "def eraseOverlapIntervals(intervals):\n",
    "    intervals.sort()\n",
    "    res = 0\n",
    "    prevEnd = intervals[0][1]\n",
    "    for start, end in intervals[1:]:\n",
    "        if start >= prevEnd:\n",
    "            prevEnd = end\n",
    "        else:\n",
    "            res += 1\n",
    "            prevEnd = min(end, prevEnd)\n",
    "    return res\n",
    "intervals = [[1,2],[2,3],[3,4],[1,3]]\n",
    "res = eraseOverlapIntervals(intervals)\n",
    "print(res)"
   ]
  },
  {
   "cell_type": "markdown",
   "metadata": {},
   "source": [
    "## Method2 - Greedy\n",
    "https://github.com/youngyangyang04/leetcode-master/blob/master/problems/0435.%E6%97%A0%E9%87%8D%E5%8F%A0%E5%8C%BA%E9%97%B4.md"
   ]
  },
  {
   "cell_type": "markdown",
   "metadata": {},
   "source": [
    "贪心 基于左边界"
   ]
  },
  {
   "cell_type": "code",
   "execution_count": 3,
   "metadata": {},
   "outputs": [
    {
     "name": "stdout",
     "output_type": "stream",
     "text": [
      "1\n"
     ]
    }
   ],
   "source": [
    "def eraseOverlapIntervals(intervals):\n",
    "    if not intervals:\n",
    "        return 0\n",
    "    \n",
    "    intervals.sort(key=lambda x: x[0])  # 按照左边界升序排序\n",
    "    count = 0  # 记录重叠区间数量\n",
    "    \n",
    "    for i in range(1, len(intervals)):\n",
    "        if intervals[i][0] < intervals[i - 1][1]:  # 存在重叠区间\n",
    "            intervals[i][1] = min(intervals[i - 1][1], intervals[i][1])  # 更新重叠区间的右边界\n",
    "            count += 1\n",
    "    \n",
    "    return count\n",
    "intervals = [[1,2],[2,3],[3,4],[1,3]]\n",
    "res = eraseOverlapIntervals(intervals)\n",
    "print(res)"
   ]
  },
  {
   "cell_type": "markdown",
   "metadata": {},
   "source": [
    "贪心 基于左边界 把452.用最少数量的箭引爆气球代码稍做修改\n"
   ]
  },
  {
   "cell_type": "code",
   "execution_count": 2,
   "metadata": {},
   "outputs": [
    {
     "name": "stdout",
     "output_type": "stream",
     "text": [
      "1\n"
     ]
    }
   ],
   "source": [
    "def eraseOverlapIntervals(intervals):\n",
    "    if not intervals:\n",
    "        return 0\n",
    "    \n",
    "    intervals.sort(key=lambda x: x[0])  # 按照左边界升序排序\n",
    "    \n",
    "    result = 1  # 不重叠区间数量，初始化为1，因为至少有一个不重叠的区间\n",
    "    \n",
    "    for i in range(1, len(intervals)):\n",
    "        if intervals[i][0] >= intervals[i - 1][1]:  # 没有重叠\n",
    "            result += 1\n",
    "        else:  # 重叠情况\n",
    "            intervals[i][1] = min(intervals[i - 1][1], intervals[i][1])  # 更新重叠区间的右边界\n",
    "    \n",
    "    return len(intervals) - result\n",
    "intervals = [[1,2],[2,3],[3,4],[1,3]]\n",
    "res = eraseOverlapIntervals(intervals)\n",
    "print(res)"
   ]
  }
 ],
 "metadata": {
  "kernelspec": {
   "display_name": "test_env",
   "language": "python",
   "name": "python3"
  },
  "language_info": {
   "codemirror_mode": {
    "name": "ipython",
    "version": 3
   },
   "file_extension": ".py",
   "mimetype": "text/x-python",
   "name": "python",
   "nbconvert_exporter": "python",
   "pygments_lexer": "ipython3",
   "version": "3.8.6"
  }
 },
 "nbformat": 4,
 "nbformat_minor": 2
}
