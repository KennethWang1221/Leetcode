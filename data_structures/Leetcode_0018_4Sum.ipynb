{
 "cells": [
  {
   "cell_type": "markdown",
   "metadata": {},
   "source": [
    "## Method1 - Two Pointers - Recap\n",
    "https://github.com/youngyangyang04/leetcode-master/blob/master/problems/0018.%E5%9B%9B%E6%95%B0%E4%B9%8B%E5%92%8C.md"
   ]
  },
  {
   "cell_type": "code",
   "execution_count": 2,
   "metadata": {},
   "outputs": [
    {
     "name": "stdout",
     "output_type": "stream",
     "text": [
      "[[-2, -1, 1, 2], [-1, -1, 1, 1]]\n"
     ]
    }
   ],
   "source": [
    "def fourSum(nums, target):\n",
    "    nums = sorted(nums)\n",
    "    res = []\n",
    "    n = len(nums)\n",
    "    \n",
    "    for i in range(n):\n",
    "        if i>0 and nums[i] == nums[i-1]:\n",
    "            continue\n",
    "        for k in range(i+1,n):\n",
    "            if k>i+1 and nums[k] == nums[k-1]:\n",
    "                continue\n",
    "            start, end = k+1 , n-1\n",
    "            \n",
    "            while start<end:\n",
    "                add = nums[i] + nums[k] + nums[start] + nums[end]\n",
    "                if add < target:\n",
    "                    start +=1\n",
    "                elif add> target:\n",
    "                    end -=1\n",
    "                else:\n",
    "                    res.append([nums[i], nums[k], nums[start], nums[end]])\n",
    "                    while start<end and nums[start] == nums[start+1]:\n",
    "                        start+=1\n",
    "                    while start<end and nums[end] == nums[end-1]:\n",
    "                        end-=1\n",
    "                    start+=1\n",
    "                    end -=1\n",
    "    return res\n",
    "\n",
    "target = 0\n",
    "#nums = [1,0,-1,0,-2,2]\n",
    "nums = [-2,-1,-1,1,1,2,2]\n",
    "res = fourSum(nums, target)\n",
    "print(res)"
   ]
  },
  {
   "cell_type": "markdown",
   "metadata": {},
   "source": [
    "## Metho2 - HashMap\n",
    "https://github.com/youngyangyang04/leetcode-master/blob/master/problems/0018.%E5%9B%9B%E6%95%B0%E4%B9%8B%E5%92%8C.md"
   ]
  },
  {
   "cell_type": "code",
   "execution_count": 3,
   "metadata": {},
   "outputs": [
    {
     "name": "stdout",
     "output_type": "stream",
     "text": [
      "[(-2, -1, 1, 2), (-1, 0, 0, 1), (-2, 0, 0, 2)]\n"
     ]
    }
   ],
   "source": [
    "def fourSum(nums, target):\n",
    "    hashmap = dict()\n",
    "    for n in nums:\n",
    "        if n in hashmap:\n",
    "            hashmap[n] += 1\n",
    "        else: \n",
    "            hashmap[n] = 1\n",
    "    \n",
    "    ans = set()\n",
    "    n = len(nums)\n",
    "    for i in range(n):\n",
    "        for j in range(i + 1, n):\n",
    "            for k in range(j + 1, n):\n",
    "                val = target - (nums[i] + nums[j] + nums[k])\n",
    "                if val in hashmap:\n",
    "                    # make sure no duplicates.\n",
    "                    count = (nums[i] == val) + (nums[j] == val) + (nums[k] == val)\n",
    "                    if hashmap[val] > count:\n",
    "                        ans_tmp = tuple(sorted([nums[i], nums[j], nums[k], val]))\n",
    "                        ans.add(ans_tmp)\n",
    "                    else:\n",
    "                        continue\n",
    "    return list(ans) \n",
    "\n",
    "target = 0\n",
    "nums = [1,0,-1,0,-2,2]\n",
    "res = fourSum(nums, target)\n",
    "print(res)"
   ]
  },
  {
   "cell_type": "markdown",
   "metadata": {},
   "source": [
    "## Method3 - Recursion - Recap\n",
    "https://www.youtube.com/watch?v=EYeR-_1NRlQ"
   ]
  },
  {
   "cell_type": "code",
   "execution_count": 4,
   "metadata": {},
   "outputs": [
    {
     "name": "stdout",
     "output_type": "stream",
     "text": [
      "[[-2, -1, 1, 2], [-2, 0, 0, 2], [-1, 0, 0, 1]]\n"
     ]
    }
   ],
   "source": [
    "def fourSum(nums, target):\n",
    "    nums.sort()\n",
    "    res, quad = [], []\n",
    "    n = len(nums)\n",
    "    def kSum(k, start, target):\n",
    "        if k!=2:\n",
    "            end = n-k + 1\n",
    "            for i in range(start, end):\n",
    "                if i> start and nums[i] == nums[i-1]:\n",
    "                    continue\n",
    "                quad.append(nums[i])\n",
    "                kSum(k-1, i+1, target-nums[i])\n",
    "                quad.pop()\n",
    "            return \n",
    "        l, r = start, n-1\n",
    "        while l < r:\n",
    "            if nums[l] + nums[r] < target:\n",
    "                l+=1\n",
    "            elif nums[l] + nums[r] > target:\n",
    "                r-=1\n",
    "            else:\n",
    "                res.append(quad+[nums[l], nums[r]])\n",
    "                l+=1\n",
    "                while l<r and nums[l] == nums[l - 1]:\n",
    "                    l+=1\n",
    "    kSum(4, 0, target)\n",
    "    return res\n",
    "\n",
    "target = 0\n",
    "nums = [1,0,-1,0,-2,2]\n",
    "res = fourSum(nums, target)\n",
    "print(res)"
   ]
  }
 ],
 "metadata": {
  "kernelspec": {
   "display_name": "Python 3.8.6 64-bit ('leetcode_env')",
   "language": "python",
   "name": "python3"
  },
  "language_info": {
   "codemirror_mode": {
    "name": "ipython",
    "version": 3
   },
   "file_extension": ".py",
   "mimetype": "text/x-python",
   "name": "python",
   "nbconvert_exporter": "python",
   "pygments_lexer": "ipython3",
   "version": "3.8.6"
  },
  "orig_nbformat": 4,
  "vscode": {
   "interpreter": {
    "hash": "846fd2d9bb562a436898b7cc368204fc2f9d44e5e9b051b4f6e855e721078f23"
   }
  }
 },
 "nbformat": 4,
 "nbformat_minor": 2
}
