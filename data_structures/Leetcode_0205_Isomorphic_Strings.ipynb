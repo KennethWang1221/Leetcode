{
 "cells": [
  {
   "cell_type": "markdown",
   "metadata": {},
   "source": [
    "## Method 1 - HashMap - Top Interview 0041/150\n",
    "https://www.youtube.com/watch?v=7yF-U1hLEqQ"
   ]
  },
  {
   "cell_type": "code",
   "execution_count": 1,
   "metadata": {},
   "outputs": [
    {
     "name": "stdout",
     "output_type": "stream",
     "text": [
      "False\n"
     ]
    }
   ],
   "source": [
    "def isIsomorphic(s, t):\n",
    "    mapST = {}\n",
    "    mapTS = {}\n",
    "    \n",
    "    for c1, c2 in zip(s, t):\n",
    "        if ((c1 in mapST and mapST[c1] != c2) or \n",
    "            (c2 in mapTS and mapTS[c2] != c1)) :\n",
    "            return False\n",
    "        mapST[c1] = c2\n",
    "        mapTS[c2] = c1\n",
    "\n",
    "    return True \n",
    "\n",
    "\"\"\"\n",
    "mapST = {b:f, a:o, r:o}\n",
    "mapTS = {f:b, o:a, o:r}\n",
    "\"\"\"\n",
    "s = \"foo\"\n",
    "t = \"bar\"\n",
    "s = \"bar\"\n",
    "t = \"foo\"\n",
    "#s = \"bbbaaaba\"\n",
    "#t = \"aaabbbba\"\n",
    "res = isIsomorphic(s, t)\n",
    "print(res)"
   ]
  },
  {
   "cell_type": "markdown",
   "metadata": {},
   "source": [
    "## Recap zip"
   ]
  },
  {
   "cell_type": "code",
   "execution_count": 2,
   "metadata": {},
   "outputs": [
    {
     "name": "stdout",
     "output_type": "stream",
     "text": [
      "b <class 'str'>\n",
      "a <class 'str'>\n",
      "r <class 'str'>\n",
      "===\n",
      "b <class 'str'> f <class 'str'>\n",
      "a <class 'str'> o <class 'str'>\n",
      "r <class 'str'> o <class 'str'>\n",
      "===\n",
      "('b', 'f') <class 'tuple'> b <class 'str'> f <class 'str'>\n",
      "('a', 'o') <class 'tuple'> a <class 'str'> o <class 'str'>\n",
      "('r', 'o') <class 'tuple'> r <class 'str'> o <class 'str'>\n"
     ]
    }
   ],
   "source": [
    "s = \"bar\"\n",
    "t = \"foo\"\n",
    "\n",
    "for i in range(len(s)):\n",
    "    print(s[i], type(s[i]))\n",
    "print(\"===\")\n",
    "for s1, t1 in zip(s, t):\n",
    "    print(s1, type(s1), t1, type(t1))\n",
    "print(\"===\")\n",
    "for zipped in zip(s, t):\n",
    "    print(zipped, type(zipped), zipped[0], type(zipped[0]), zipped[1], type(zipped[1]))"
   ]
  },
  {
   "cell_type": "markdown",
   "metadata": {},
   "source": [
    "## Method - Failure DIY"
   ]
  },
  {
   "cell_type": "code",
   "execution_count": 3,
   "metadata": {},
   "outputs": [
    {
     "name": "stdout",
     "output_type": "stream",
     "text": [
      "{'b': 4, 'a': 4}\n",
      "{'a': 4, 'b': 4}\n",
      "True\n"
     ]
    }
   ],
   "source": [
    "def isIsomorphic(s, t):\n",
    "    s_map = {}\n",
    "    t_map = {}\n",
    "\n",
    "    for i in s:\n",
    "        s_map[i] = s_map.get(i,0) + 1\n",
    "    for i in t:\n",
    "        t_map[i] = t_map.get(i,0) + 1\n",
    "    print(s_map)\n",
    "    print(t_map)\n",
    "\n",
    "    v1 = []\n",
    "    v2 = []\n",
    "    if len(s_map) != len(t_map):\n",
    "        return False\n",
    "    else:\n",
    "        for k, v in s_map.items():\n",
    "            v1.append(v)\n",
    "        for k,v in t_map.items():\n",
    "            v2.append(v)\n",
    "    if v1==v2: \n",
    "        return True\n",
    "    else:\n",
    "        return False\n",
    "                        \n",
    "s =\"bbbaaaba\"\n",
    "t =\"aaabbbba\"\n",
    "res = isIsomorphic(s, t)\n",
    "print(res)"
   ]
  }
 ],
 "metadata": {
  "kernelspec": {
   "display_name": "leetcode_env",
   "language": "python",
   "name": "leetcode_env"
  },
  "language_info": {
   "codemirror_mode": {
    "name": "ipython",
    "version": 3
   },
   "file_extension": ".py",
   "mimetype": "text/x-python",
   "name": "python",
   "nbconvert_exporter": "python",
   "pygments_lexer": "ipython3",
   "version": "3.8.6"
  },
  "orig_nbformat": 4,
  "vscode": {
   "interpreter": {
    "hash": "846fd2d9bb562a436898b7cc368204fc2f9d44e5e9b051b4f6e855e721078f23"
   }
  }
 },
 "nbformat": 4,
 "nbformat_minor": 2
}
