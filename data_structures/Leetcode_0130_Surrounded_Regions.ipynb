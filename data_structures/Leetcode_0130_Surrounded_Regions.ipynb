{
 "cells": [
  {
   "attachments": {},
   "cell_type": "markdown",
   "metadata": {},
   "source": [
    "## Method1 - Graph - DFS\n",
    "\n",
    "https://www.youtube.com/watch?v=9z2BunfoZ5Y&list=PLot-Xpze53ldBT_7QA8NVot219jFNr_GI&index=22"
   ]
  },
  {
   "cell_type": "code",
   "execution_count": 1,
   "metadata": {},
   "outputs": [
    {
     "name": "stdout",
     "output_type": "stream",
     "text": [
      "[['X', 'X', 'X', 'X'], ['X', 'X', 'X', 'X'], ['X', 'X', 'X', 'X'], ['X', 'O', 'X', 'X']]\n"
     ]
    }
   ],
   "source": [
    "def solve(board):\n",
    "    rows, cols = len(board), len(board[0])\n",
    "    \n",
    "    def capture(r,c):\n",
    "        if (r<0 or c<0 or r>=rows or c>=rows or board[r][c] != 'O'):\n",
    "            return\n",
    "        board[r][c] = 'T'\n",
    "        capture(r+1,c)\n",
    "        capture(r-1,c)\n",
    "        capture(r,c-1)\n",
    "        capture(r,c+1)\n",
    "\n",
    "    # 1. (DFS) Capture unsurrounded regions (O->T)\n",
    "    for r in range(rows):\n",
    "        for c in range(cols):\n",
    "            if ((board[r][c] == 'O') and (r in [0,rows-1] or c in [0,cols-1])):\n",
    "                capture(r,c)\n",
    "    # 2. Capture surrounded regions (O->X)\n",
    "    for r in range(rows):\n",
    "        for c in range(cols):\n",
    "            if (board[r][c] == 'O'):\n",
    "                board[r][c] = 'X'\n",
    "    # 3. Uncapture unsurrounded regions (T->O)\n",
    "    for r in range(rows):\n",
    "        for c in range(cols):\n",
    "            if (board[r][c] == 'T'):\n",
    "                board[r][c] = 'O'\n",
    "    return board\n",
    "\n",
    "board = [[\"O\"]]\n",
    "board = [[\"X\",\"X\",\"X\",\"X\"],[\"X\",\"O\",\"O\",\"X\"],[\"X\",\"X\",\"O\",\"X\"],[\"X\",\"O\",\"X\",\"X\"]]\n",
    "res = solve(board)\n",
    "print(res)"
   ]
  },
  {
   "attachments": {},
   "cell_type": "markdown",
   "metadata": {},
   "source": [
    "Leetcode_0200_Number_of_Islands.ipynb"
   ]
  },
  {
   "cell_type": "code",
   "execution_count": 2,
   "metadata": {},
   "outputs": [
    {
     "name": "stdout",
     "output_type": "stream",
     "text": [
      "2\n"
     ]
    }
   ],
   "source": [
    "def numIslands(grid):\n",
    "    if not grid: return 0\n",
    "\n",
    "    rows, cols = len(grid), len(grid[0])\n",
    "    visited=set()\n",
    "    islands=0\n",
    "\n",
    "    def dfs(row,col):\n",
    "        q = []\n",
    "        visited.add((row,col))\n",
    "        q.append((row,col))\n",
    "    \n",
    "        while q:\n",
    "            #row,col = q.popleft()\n",
    "            row,col = q.pop(-1)\n",
    "            directions= [[-1,0], [1,0], [0,-1], [0,1]]\n",
    "        \n",
    "            for dr,dc in directions:\n",
    "                r,c = row + dr, col + dc\n",
    "                if (r) in range(rows) and (c) in range(cols) and grid[r][c] == '1' and (r ,c) not in visited:\n",
    "                \n",
    "                    q.append((r , c ))\n",
    "                    visited.add((r, c ))\n",
    "\n",
    "    for r in range(rows):\n",
    "        for c in range(cols):\n",
    "        \n",
    "            if grid[r][c] == \"1\" and (r,c) not in visited:\n",
    "                dfs(r,c)\n",
    "                islands +=1 \n",
    "\n",
    "    return islands\n",
    "\n",
    "grid = [\n",
    "  [\"1\",\"1\",\"1\",\"1\",\"0\"],\n",
    "  [\"1\",\"1\",\"0\",\"1\",\"0\"],\n",
    "  [\"1\",\"1\",\"0\",\"0\",\"0\"],\n",
    "  [\"0\",\"0\",\"0\",\"0\",\"0\"]\n",
    "]\n",
    "\n",
    "grid = [\n",
    "  [\"1\",\"1\",\"1\",\"0\",\"0\"],\n",
    "  [\"1\",\"1\",\"0\",\"0\",\"0\"],\n",
    "  [\"1\",\"1\",\"0\",\"0\",\"0\"],\n",
    "  [\"0\",\"0\",\"0\",\"1\",\"1\"]\n",
    "]\n",
    "\n",
    "res = numIslands(grid)\n",
    "print(res)"
   ]
  },
  {
   "attachments": {},
   "cell_type": "markdown",
   "metadata": {},
   "source": [
    "## Method1 - Graph - DFS\n",
    "\n",
    "https://www.youtube.com/watch?v=mLpW3qfbNJ8&list=PLot-Xpze53ldBT_7QA8NVot219jFNr_GI&index=18"
   ]
  },
  {
   "cell_type": "code",
   "execution_count": 3,
   "metadata": {},
   "outputs": [
    {
     "name": "stdout",
     "output_type": "stream",
     "text": [
      "3\n"
     ]
    }
   ],
   "source": [
    "def countSubIslands(grid1, grid2):\n",
    "    rows, cols = len(grid2), len(grid2[0])\n",
    "    visit = set()\n",
    "    count = 0\n",
    "\n",
    "    def dfs(r,c):\n",
    "        if (r<0 or c<0 or r==rows or c == cols or grid2[r][c] == 0 or (r,c) in visit):\n",
    "            return True\n",
    "        \n",
    "        visit.add((r,c))\n",
    "        res = True        \n",
    "        if grid2[r][c] == 1 and grid1[r][c] == 0: \n",
    "            res = False\n",
    "\n",
    "        res = dfs(r-1,c) and res\n",
    "        res = dfs(r+1,c) and res\n",
    "        res = dfs(r,c-1) and res\n",
    "        res = dfs(r,c+1) and res\n",
    "\n",
    "        return res\n",
    "\n",
    "    for r in range(rows):\n",
    "        for c in range(cols):\n",
    "            if grid2[r][c] == 1 and (r,c) not in visit:\n",
    "                if dfs(r,c) == True:\n",
    "                    count +=1\n",
    "\n",
    "    return count\n",
    "\n",
    "grid1 = [[1,1,1,0,0],[0,1,1,1,1],[0,0,0,0,0],[1,0,0,0,0],[1,1,0,1,1]]\n",
    "grid2 = [[1,1,1,0,0],[0,0,1,1,1],[0,1,0,0,0],[1,0,1,1,0],[0,1,0,1,0]]\n",
    "res = countSubIslands(grid1, grid2)\n",
    "print(res)"
   ]
  }
 ],
 "metadata": {
  "kernelspec": {
   "display_name": "leetcode_env",
   "language": "python",
   "name": "leetcode_env"
  },
  "language_info": {
   "codemirror_mode": {
    "name": "ipython",
    "version": 3
   },
   "file_extension": ".py",
   "mimetype": "text/x-python",
   "name": "python",
   "nbconvert_exporter": "python",
   "pygments_lexer": "ipython3",
   "version": "3.8.6"
  },
  "orig_nbformat": 4
 },
 "nbformat": 4,
 "nbformat_minor": 2
}
