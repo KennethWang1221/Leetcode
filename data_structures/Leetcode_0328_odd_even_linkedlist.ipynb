{
 "cells": [
  {
   "cell_type": "code",
   "execution_count": 6,
   "metadata": {},
   "outputs": [
    {
     "name": "stdout",
     "output_type": "stream",
     "text": [
      "2,1,3,5,6,4,7,\n",
      "2,3,6,7,1,5,4,\n"
     ]
    }
   ],
   "source": [
    "class ListNode:\n",
    "    def __init__(self, x):\n",
    "        self.val = x\n",
    "        self.next = None\n",
    "\n",
    "\n",
    "def make_list(arr):\n",
    "    head_node = None\n",
    "    p_node = None\n",
    "    for a in arr:\n",
    "        new_node = ListNode(a)\n",
    "        if head_node is None:\n",
    "            head_node = new_node\n",
    "            p_node = new_node\n",
    "        else:\n",
    "            p_node.next = new_node\n",
    "            p_node = new_node\n",
    "    return head_node\n",
    "\n",
    "\n",
    "def print_list(head):\n",
    "    while head is not None:\n",
    "        print(head.val, end=',')\n",
    "        head = head.next\n",
    "    print()\n",
    "\n",
    "\n",
    "class Solution:\n",
    "    \n",
    "    def Odd_even_list(self, head):\n",
    "        dummy = ListNode(0)\n",
    "        dummy.next = head\n",
    "        \n",
    "        odd = ListNode(0)\n",
    "        odd_cur = odd\n",
    "\n",
    "        even = ListNode(0)\n",
    "        even_cur = even\n",
    "\n",
    "        len = 0\n",
    "        while head !=None:\n",
    "            len+=1\n",
    "            if len % 2 ==0:\n",
    "                # even\n",
    "                even_cur.next = head\n",
    "                even_cur = even_cur.next\n",
    "            else:\n",
    "                # odd\n",
    "                odd_cur.next = head\n",
    "                odd_cur = odd_cur.next\n",
    "\n",
    "            head = head.next\n",
    "        \n",
    "        even_cur.next = None\n",
    "        odd_cur.next = even.next\n",
    "        return odd.next\n",
    "\n",
    "head = make_list([2,1,3,5,6,4,7])\n",
    "print_list(head)\n",
    "s = Solution()\n",
    "head = s.Odd_even_list(head)\n",
    "print_list(head)"
   ]
  }
 ],
 "metadata": {
  "interpreter": {
   "hash": "846fd2d9bb562a436898b7cc368204fc2f9d44e5e9b051b4f6e855e721078f23"
  },
  "kernelspec": {
   "display_name": "Python 3.8.6 ('leetcode_env': conda)",
   "language": "python",
   "name": "python3"
  },
  "language_info": {
   "codemirror_mode": {
    "name": "ipython",
    "version": 3
   },
   "file_extension": ".py",
   "mimetype": "text/x-python",
   "name": "python",
   "nbconvert_exporter": "python",
   "pygments_lexer": "ipython3",
   "version": "3.8.6"
  },
  "orig_nbformat": 4
 },
 "nbformat": 4,
 "nbformat_minor": 2
}
