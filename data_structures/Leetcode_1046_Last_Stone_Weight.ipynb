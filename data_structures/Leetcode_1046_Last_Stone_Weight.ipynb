{
 "cells": [
  {
   "cell_type": "markdown",
   "metadata": {},
   "source": [
    "## Method1 - Heap\n",
    "\n",
    "https://www.youtube.com/watch?v=B-QCq79-Vfw"
   ]
  },
  {
   "cell_type": "code",
   "execution_count": 1,
   "metadata": {},
   "outputs": [
    {
     "name": "stdout",
     "output_type": "stream",
     "text": [
      "1\n"
     ]
    }
   ],
   "source": [
    "import heapq\n",
    "def lastStoneWeight(stones):\n",
    "    stones = [-s for s in stones]\n",
    "    heapq.heapify(stones)\n",
    "\n",
    "    while len(stones) > 1:\n",
    "        first = heapq.heappop(stones)\n",
    "        second = heapq.heappop(stones)\n",
    "        if second > first:\n",
    "            heapq.heappush(stones, first - second)\n",
    "\n",
    "    stones.append(0)\n",
    "    return abs(stones[0])\n",
    "print(lastStoneWeight(stones=[2,7,4,1,8,1]))"
   ]
  },
  {
   "cell_type": "markdown",
   "metadata": {},
   "source": [
    "## Method1 - Max Heap - Recap"
   ]
  },
  {
   "cell_type": "code",
   "execution_count": 1,
   "metadata": {},
   "outputs": [
    {
     "name": "stdout",
     "output_type": "stream",
     "text": [
      "1\n"
     ]
    }
   ],
   "source": [
    "import heapq\n",
    "def lastStoneWeight(stones):\n",
    "    n = len(stones)\n",
    "    maxheap = []\n",
    "    for s in stones:\n",
    "        heapq.heappush(maxheap, -s)\n",
    "\n",
    "    while len(maxheap)>1:\n",
    "        n1 = -1 * heapq.heappop(maxheap)\n",
    "        n2 = -1 * heapq.heappop(maxheap)\n",
    "        val = n1 - n2\n",
    "        \n",
    "        if val > 0:\n",
    "            heapq.heappush(maxheap, -1 * val)\n",
    "    \n",
    "    final = -1 * maxheap[0] if maxheap else 0\n",
    "    return final\n",
    "print(lastStoneWeight(stones=[2,7,4,1,8,1]))"
   ]
  },
  {
   "cell_type": "markdown",
   "metadata": {},
   "source": [
    "# Understanding Heaps and heapq in Python\n",
    " \n",
    "A heap is a special tree-based data structure that satisfies the heap property. In a min-heap, the key at a parent node is less than or equal to the keys of its children, making it easy to access the smallest element.\n",
    " \n",
    "## Using heapq.heapify()\n",
    " \n",
    "The `heapq.heapify()` function is used to convert a regular list into a heap. This is necessary because Python’s heapq functions, such as `heappop` and `heappush`, require a heap-ordered list.\n",
    "\n",
    "### Example: Attempting to use heappop on a non-heap list\n",
    " \n",
    "```python\n",
    "import heapq\n",
    " \n",
    "stones = [2, 7, 4, 1, 8, 1]\n",
    "heapq.heappop(stones)  # ❌ ERROR: This is NOT a valid heap!\n",
    "```\n",
    " \n",
    "**Issue:** The list `stones` is not a heap, so using `heappop` directly will result in an error.\n",
    " \n",
    "**Solution:** Use `heapq.heapify()` to transform the list into a valid heap.\n",
    " \n",
    "```python\n",
    "import heapq\n",
    " \n",
    "stones = [2, 7, 4, 1, 8, 1]\n",
    "heapq.heapify(stones)  # ✅ Converts list into a valid min-heap\n",
    "heapq.heappop(stones)  # ✅ Now works fine\n",
    "```\n",
    " \n",
    "## When heapq.heapify() is Unnecessary\n",
    " \n",
    "If you build a heap from scratch using `heappush`, starting with an empty list, the list is already a valid heap, and you don't need to call `heapq.heapify()`.\n",
    " \n",
    "### Example: Building a heap using heappush\n",
    " \n",
    "```python\n",
    "import heapq\n",
    " \n",
    "heap = []\n",
    "heapq.heappush(heap, 2)\n",
    "heapq.heappush(heap, 7)\n",
    "heapq.heappush(heap, 4)\n",
    "heapq.heappush(heap, 1)\n",
    "heapq.heappush(heap, 8)\n",
    "heapq.heappush(heap, 1)\n",
    " \n",
    "print(heapq.heappop(heap))  # ✅ Works fine because `heap` was built using heappush\n",
    "```\n",
    " \n",
    "**Explanation:** Since the heap was constructed using `heappush`, it maintains the heap property, and there is no need for `heapq.heapify()`.\n"
   ]
  },
  {
   "cell_type": "markdown",
   "metadata": {},
   "source": [
    "It is crucial to initialize your list as a heap using heapq.heapify() before performing any heap operations like heappop or heappush.\n",
    " \n",
    "If you skip this step, heappop will still execute based on the current state of the list. However, without the heap property, the results will be incorrect, and the heap structure will be corrupted.\n",
    " \n",
    "Without the Heap Property:\n",
    " - The list isn't a valid heap, so the sift-down operation fails to restore any meaningful order.\n",
    " - This results in an invalid heap structure.\n",
    " \n",
    "Attempting to use heapq.heappop() on a non-heapified list leads to undefined behavior. Although it doesn't produce a truly \"random\" order, the resulting list fails to maintain the heap property, making subsequent heap operations unreliable.\n",
    " \n",
    "To ensure heap operations work as intended, always initialize your list as a heap using heapq.heapify()."
   ]
  },
  {
   "cell_type": "code",
   "execution_count": 11,
   "metadata": {},
   "outputs": [
    {
     "name": "stdout",
     "output_type": "stream",
     "text": [
      "[1, 7, 4, 1, 8]\n"
     ]
    }
   ],
   "source": [
    "import heapq\n",
    "\n",
    "stones = [2, 7, 4, 1, 8, 1]\n",
    "heapq.heappop(stones)  # ❌ ERROR: This is NOT a valid heap!\n",
    "print(stones)"
   ]
  },
  {
   "cell_type": "code",
   "execution_count": 10,
   "metadata": {},
   "outputs": [
    {
     "name": "stdout",
     "output_type": "stream",
     "text": [
      "1\n"
     ]
    }
   ],
   "source": [
    "import heapq\n",
    "\n",
    "heap = []\n",
    "heapq.heappush(heap, 2)\n",
    "heapq.heappush(heap, 7)\n",
    "heapq.heappush(heap, 4)\n",
    "heapq.heappush(heap, 1)\n",
    "heapq.heappush(heap, 8)\n",
    "heapq.heappush(heap, 1)\n",
    "\n",
    "print(heapq.heappop(heap))  # ✅ Works fine because `heap` was built using heappush\n"
   ]
  },
  {
   "cell_type": "markdown",
   "metadata": {},
   "source": [
    "Python's heapq module is designed to implement a min-heap, where the smallest element is always at the root of the heap.\n",
    "\n",
    "Why Python's heapq Implements a Min-Heap:\n",
    "\n",
    "1. Simplicity and Efficiency:\n",
    "    - A min-heap ensures that the smallest element is always accessible in constant time.\n",
    "    - This property is particularly useful for algorithms like Dijkstra's shortest path or Huffman encoding, where repeatedly accessing the smallest element is essential.\n",
    "\n",
    "2. Flexibility Through Less Complexity:\n",
    "    - Implementing a min-heap avoids the additional complexity that comes with managing a max-heap.\n",
    "    - Since many use cases naturally align with the min-heap behavior, heapq prioritizes this to maintain simplicity.\n",
    "\n",
    "3. Customizability:\n",
    "    - Even though heapq only provides a min-heap, its simplicity allows developers to adapt it to function as a max-heap when needed without significant overhead.\n",
    "\n",
    "Implementing a Max-Heap Using heapq:\n",
    " - While heapq does not provide a max-heap out of the box, you can simulate a max-heap using one of the following methods:"
   ]
  },
  {
   "cell_type": "code",
   "execution_count": 5,
   "metadata": {},
   "outputs": [
    {
     "name": "stdout",
     "output_type": "stream",
     "text": [
      "[1, 4, 2, 7, 8]\n"
     ]
    }
   ],
   "source": [
    "import heapq\n",
    "\n",
    "stones = [2, 7, 4, 1, 8, 1]\n",
    "heapq.heapify(stones)  # ✅ Convert list into a valid min-heap\n",
    "heapq.heappop(stones)  # ✅ Works fine now\n",
    "print(stones)"
   ]
  },
  {
   "cell_type": "markdown",
   "metadata": {},
   "source": [
    "Method 1: Inverting the Values\n"
   ]
  },
  {
   "cell_type": "markdown",
   "metadata": {},
   "source": [
    "Explanation:\n",
    " - Inversion: Negate the values so that the smallest negative number represents the largest positive number.\n",
    " - Heapify: Transform the list into a heap structure.\n",
    " - Pop Operation: Negate the value again when popping to retrieve the original number."
   ]
  },
  {
   "cell_type": "code",
   "execution_count": 12,
   "metadata": {},
   "outputs": [
    {
     "name": "stdout",
     "output_type": "stream",
     "text": [
      "[-8, -7, -4, -1, -2, -1]\n",
      "8\n"
     ]
    }
   ],
   "source": [
    "import heapq\n",
    "\n",
    "# Original list of stones\n",
    "stones = [2, 7, 4, 1, 8, 1]\n",
    "\n",
    "# Invert the values to simulate a max-heap\n",
    "max_heap = [-s for s in stones]\n",
    "heapq.heapify(max_heap)\n",
    "print(max_heap)  # Output: 8\n",
    "# Pop the largest element (which is the smallest in the inverted heap)\n",
    "largest = -heapq.heappop(max_heap)\n",
    "print(largest)  # Output: 8"
   ]
  },
  {
   "cell_type": "markdown",
   "metadata": {},
   "source": [
    "Method 2: Using a Wrapper Class"
   ]
  },
  {
   "cell_type": "markdown",
   "metadata": {},
   "source": [
    "Explanation:\n",
    " - Wrapper Class: MaxHeapObj overrides the __lt__ method to invert the comparison.\n",
    " - Heapify: The list of MaxHeapObj instances is heapified, effectively creating a max-heap.\n",
    " - Pop Operation: Popping returns the largest element based on the inverted comparison.\n",
    "\n",
    "Choosing Between Methods:\n",
    " - Method 1 (Inversion) is straightforward and efficient for numerical data.\n",
    " - Method 2 (Wrapper Class) offers more flexibility and can be extended for more complex data structures where negation isn't feasible."
   ]
  },
  {
   "cell_type": "code",
   "execution_count": 9,
   "metadata": {},
   "outputs": [
    {
     "name": "stdout",
     "output_type": "stream",
     "text": [
      "8\n"
     ]
    }
   ],
   "source": [
    "import heapq\n",
    "\n",
    "class MaxHeapObj:\n",
    "    def __init__(self, val):\n",
    "        self.val = val\n",
    "    \n",
    "    def __lt__(self, other):\n",
    "        # Invert the comparison to turn min-heap into max-heap\n",
    "        return self.val > other.val\n",
    "\n",
    "    def __eq__(self, other):\n",
    "        return self.val == other.val\n",
    "\n",
    "# Original list of stones\n",
    "stones = [2, 7, 4, 1, 8, 1]\n",
    "\n",
    "# Create a heap with MaxHeapObj\n",
    "max_heap = [MaxHeapObj(s) for s in stones]\n",
    "heapq.heapify(max_heap)\n",
    "\n",
    "# Pop the largest element\n",
    "largest = heapq.heappop(max_heap).val\n",
    "print(largest)  # Output: 8"
   ]
  }
 ],
 "metadata": {
  "kernelspec": {
   "display_name": "leetcode_env",
   "language": "python",
   "name": "leetcode_env"
  },
  "language_info": {
   "codemirror_mode": {
    "name": "ipython",
    "version": 3
   },
   "file_extension": ".py",
   "mimetype": "text/x-python",
   "name": "python",
   "nbconvert_exporter": "python",
   "pygments_lexer": "ipython3",
   "version": "3.8.6"
  }
 },
 "nbformat": 4,
 "nbformat_minor": 2
}
