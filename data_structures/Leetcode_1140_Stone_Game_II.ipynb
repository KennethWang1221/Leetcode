{
 "cells": [
  {
   "cell_type": "markdown",
   "metadata": {},
   "source": [
    "## Method1 - DFS + 1D DP\n",
    "\n",
    "https://www.youtube.com/watch?v=I-z-u0zfQtg"
   ]
  },
  {
   "cell_type": "code",
   "execution_count": 2,
   "metadata": {},
   "outputs": [
    {
     "name": "stdout",
     "output_type": "stream",
     "text": [
      "10\n"
     ]
    }
   ],
   "source": [
    "def stoneGame(piles):\n",
    "    dp = {}\n",
    "    n = len(piles)\n",
    "\n",
    "    def dfs(alice, i, M):\n",
    "        if i == n: return 0\n",
    "        if (alice, i, M) in dp:\n",
    "            return dp[(alice, i, M)]\n",
    "        res = 0 if alice else float('inf')\n",
    "        total = 0\n",
    "        for X in range(1,2*M+1):\n",
    "            if i + X > n:\n",
    "                break\n",
    "            total += piles[i+X-1]\n",
    "            if alice:\n",
    "                res = max(res, total + dfs(not alice, i+X, max(M,X)))\n",
    "            else:\n",
    "                res = min(res, dfs(not alice, i + X, max(M,X)))\n",
    "        dp[(alice, i, M)] = res \n",
    "        return res\n",
    "    return dfs(True, 0, 1)\n",
    "\n",
    "print(stoneGame(piles = [2,7,9,4,4]))"
   ]
  }
 ],
 "metadata": {
  "kernelspec": {
   "display_name": "leetcode_env",
   "language": "python",
   "name": "leetcode_env"
  },
  "language_info": {
   "codemirror_mode": {
    "name": "ipython",
    "version": 3
   },
   "file_extension": ".py",
   "mimetype": "text/x-python",
   "name": "python",
   "nbconvert_exporter": "python",
   "pygments_lexer": "ipython3",
   "version": "3.8.6"
  }
 },
 "nbformat": 4,
 "nbformat_minor": 2
}
