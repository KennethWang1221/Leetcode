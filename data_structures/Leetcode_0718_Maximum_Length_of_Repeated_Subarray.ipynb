{
 "cells": [
  {
   "cell_type": "markdown",
   "metadata": {},
   "source": [
    "## Method1 - 2D Bottom-UP DP\n",
    "\n",
    "https://github.com/youngyangyang04/leetcode-master/blob/master/problems/0718.%E6%9C%80%E9%95%BF%E9%87%8D%E5%A4%8D%E5%AD%90%E6%95%B0%E7%BB%84.md\n",
    "\n",
    "https://www.bilibili.com/video/BV178411H7hV/?vd_source=8aba95d95a5a52895d55c1f87e0f02c2"
   ]
  },
  {
   "cell_type": "code",
   "execution_count": 6,
   "metadata": {},
   "outputs": [
    {
     "name": "stdout",
     "output_type": "stream",
     "text": [
      "3\n"
     ]
    }
   ],
   "source": [
    "def findLength(nums1, nums2):\n",
    "    n1 = len(nums1)\n",
    "    n2 = len(nums2)\n",
    "    dp = [[0]*( n2+1) for i in range(n1+1)]\n",
    "    maxlen = 0\n",
    "    for i in range(n1):\n",
    "        for j in range(n2):\n",
    "            if nums1[i] == nums2[j]:\n",
    "                dp[i][j] = 1 + dp[i-1][j-1]\n",
    "                maxlen = max(maxlen, dp[i][j])\n",
    "    return maxlen\n",
    "\n",
    "nums1 = [1,2,3,2,1]\n",
    "nums2 = [3,2,1,4,7]\n",
    "res = findLength(nums1,nums2)\n",
    "print(res)"
   ]
  },
  {
   "cell_type": "markdown",
   "metadata": {},
   "source": [
    "The direction in which you fill the DP table (from 1 to end or from end to 1) doesn't necessarily determine whether an approach is bottom-up or top-down."
   ]
  },
  {
   "cell_type": "markdown",
   "metadata": {},
   "source": [
    "## Method1 - 2D Bottom-UP (Reversed Order) DP"
   ]
  },
  {
   "cell_type": "code",
   "execution_count": 5,
   "metadata": {},
   "outputs": [
    {
     "name": "stdout",
     "output_type": "stream",
     "text": [
      "3\n"
     ]
    }
   ],
   "source": [
    "def findLength(nums1, nums2):\n",
    "    n1 = len(nums1)\n",
    "    n2 = len(nums2)\n",
    "    dp = [[0]*( n2+1) for i in range(n1+1)]\n",
    "    maxlen = 0\n",
    "    for i in range(n1-1,-1,-1):\n",
    "        for j in range(n2-1,-1,-1):\n",
    "            if nums1[i] == nums2[j]:\n",
    "                dp[i][j] = 1 + dp[i+1][j+1]\n",
    "                maxlen = max(maxlen, dp[i][j])\n",
    "    return maxlen\n",
    "\n",
    "nums1 = [1,2,3,2,1]\n",
    "nums2 = [3,2,1,4,7]\n",
    "res = findLength(nums1,nums2)\n",
    "print(res)"
   ]
  }
 ],
 "metadata": {
  "kernelspec": {
   "display_name": "test_env",
   "language": "python",
   "name": "test_env"
  },
  "language_info": {
   "codemirror_mode": {
    "name": "ipython",
    "version": 3
   },
   "file_extension": ".py",
   "mimetype": "text/x-python",
   "name": "python",
   "nbconvert_exporter": "python",
   "pygments_lexer": "ipython3",
   "version": "3.8.6"
  }
 },
 "nbformat": 4,
 "nbformat_minor": 2
}
