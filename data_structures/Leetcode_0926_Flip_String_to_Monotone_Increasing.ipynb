{
 "cells": [
  {
   "cell_type": "markdown",
   "metadata": {},
   "source": [
    "## Method1 - Array\n",
    "\n",
    "https://www.youtube.com/watch?v=tMq9z5k3umQ"
   ]
  },
  {
   "cell_type": "code",
   "execution_count": 4,
   "metadata": {},
   "outputs": [
    {
     "name": "stdout",
     "output_type": "stream",
     "text": [
      "2\n"
     ]
    }
   ],
   "source": [
    "def minFlipsMonoIncr(s):\n",
    "    res = 0\n",
    "    cntOne = 0\n",
    "    for index, c in enumerate(s):\n",
    "        if c == '1':\n",
    "            cntOne += 1\n",
    "        else:\n",
    "            temp = res + 1\n",
    "            res = min(temp, cntOne)\n",
    "    return res\n",
    "\n",
    "s = \"010110\"\n",
    "print(minFlipsMonoIncr(s))"
   ]
  },
  {
   "cell_type": "markdown",
   "metadata": {},
   "source": [
    "## Method2 - DP + DFs\n",
    "\n",
    "https://www.youtube.com/watch?v=tMq9z5k3umQ"
   ]
  },
  {
   "cell_type": "code",
   "execution_count": 5,
   "metadata": {},
   "outputs": [
    {
     "name": "stdout",
     "output_type": "stream",
     "text": [
      "2\n"
     ]
    }
   ],
   "source": [
    "def minFlipsMonoIncr(s):\n",
    "    dp = {(len(s), True):0, (len(s), False):0}\n",
    "\n",
    "    def dfs(i, mono):\n",
    "        if (i, mono) in dp:\n",
    "            return dp[(i, mono)]\n",
    "        # All zeroes and s[i] == 0\n",
    "        if mono and s[i] == '0':\n",
    "            dp[(i, mono)] = min(1 + dfs(i+1, mono=False), dfs(i+1, mono))\n",
    "        # all zeros and s[i] == 1\n",
    "        elif mono and s[i] == '1':\n",
    "            dp[(i, mono)] = min(1+dfs(i+1, mono), dfs(i+1, mono=False))\n",
    "        # Not all zeros and s[i] == 0\n",
    "        elif not mono and s[i] == '1':\n",
    "            dp[(i,mono)] = dfs(i+1, mono)\n",
    "        # Not all zeros ad s[i] == 1\n",
    "        else:\n",
    "            dp[(i,mono)] = 1 + dfs(i+1, mono)\n",
    "        return dp[(i,mono)]\n",
    "    return dfs(0, True)\n",
    "\n",
    "s = \"010110\"\n",
    "print(minFlipsMonoIncr(s))"
   ]
  }
 ],
 "metadata": {
  "kernelspec": {
   "display_name": "leetcode_env",
   "language": "python",
   "name": "leetcode_env"
  },
  "language_info": {
   "codemirror_mode": {
    "name": "ipython",
    "version": 3
   },
   "file_extension": ".py",
   "mimetype": "text/x-python",
   "name": "python",
   "nbconvert_exporter": "python",
   "pygments_lexer": "ipython3",
   "version": "3.8.6"
  }
 },
 "nbformat": 4,
 "nbformat_minor": 2
}
