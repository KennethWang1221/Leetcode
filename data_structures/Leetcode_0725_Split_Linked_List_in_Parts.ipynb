{
 "cells": [
  {
   "cell_type": "code",
   "execution_count": 1,
   "metadata": {},
   "outputs": [
    {
     "name": "stdout",
     "output_type": "stream",
     "text": [
      "1,2,3,\n",
      "[<__main__.ListNode object at 0x105afb310>, <__main__.ListNode object at 0x105afb370>, <__main__.ListNode object at 0x105afb250>, None, None]\n"
     ]
    }
   ],
   "source": [
    "class ListNode:\n",
    "    def __init__(self, x):\n",
    "        self.val = x\n",
    "        self.next = None\n",
    "\n",
    "\n",
    "def make_list(arr):\n",
    "    head_node = None\n",
    "    p_node = None\n",
    "    for a in arr:\n",
    "        new_node = ListNode(a)\n",
    "        if head_node is None:\n",
    "            head_node = new_node\n",
    "            p_node = new_node\n",
    "        else:\n",
    "            p_node.next = new_node\n",
    "            p_node = new_node\n",
    "    return head_node\n",
    "\n",
    "\n",
    "def print_list(head):\n",
    "    while head is not None:\n",
    "        print(head.val, end=',')\n",
    "        head = head.next\n",
    "    print()\n",
    "\n",
    "\n",
    "\n",
    "class Solution:\n",
    "    def splitListToParts(self, head, k):\n",
    "        output = []\n",
    "        curr = head\n",
    "        count = 0\n",
    "        \n",
    "        # Count total elements\n",
    "        while curr:\n",
    "            curr = curr.next \n",
    "            count += 1\n",
    "            \n",
    "        # Determine how many elements per bucket (on average)\n",
    "        # and how many extra elements we will need to use\n",
    "        buckets, extras = divmod(count, k)\n",
    "        curr_head = curr_tail = head\n",
    "        \n",
    "        for _ in range(k):\n",
    "            # Check if we've run out of elements\n",
    "            if not curr_head:\n",
    "                output.append(None)\n",
    "                continue \n",
    "                \n",
    "            # Find current split + extra if needed\n",
    "            prev_tail = curr_tail\n",
    "            for _ in range(buckets + int(extras > 0)):\n",
    "                prev_tail, curr_tail = curr_tail, curr_tail.next\n",
    "                \n",
    "            # Break the current split and append to output\n",
    "            prev_tail.next = None \n",
    "            output.append(curr_head)\n",
    "            curr_head = curr_tail\n",
    "            \n",
    "            # If we've used an extra, remove it\n",
    "            if extras > 0:\n",
    "                extras -= 1\n",
    "            \n",
    "        return output\n",
    "\n",
    "input = make_list([1, 2, 3])\n",
    "k = 5\n",
    "print_list(input)\n",
    "s = Solution()\n",
    "result = s.splitListToParts(input, k)\n",
    "#print_list(result)\n",
    "print(result)"
   ]
  },
  {
   "cell_type": "code",
   "execution_count": null,
   "metadata": {},
   "outputs": [],
   "source": []
  }
 ],
 "metadata": {
  "kernelspec": {
   "display_name": "Python 3.8.6 64-bit ('leetcode_env')",
   "language": "python",
   "name": "python3"
  },
  "language_info": {
   "codemirror_mode": {
    "name": "ipython",
    "version": 3
   },
   "file_extension": ".py",
   "mimetype": "text/x-python",
   "name": "python",
   "nbconvert_exporter": "python",
   "pygments_lexer": "ipython3",
   "version": "3.8.6"
  },
  "orig_nbformat": 4,
  "vscode": {
   "interpreter": {
    "hash": "846fd2d9bb562a436898b7cc368204fc2f9d44e5e9b051b4f6e855e721078f23"
   }
  }
 },
 "nbformat": 4,
 "nbformat_minor": 2
}
