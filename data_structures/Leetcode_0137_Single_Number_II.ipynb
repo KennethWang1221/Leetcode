{
 "cells": [
  {
   "cell_type": "markdown",
   "metadata": {},
   "source": [
    "## Method1 - Bit Manipulation.\n"
   ]
  },
  {
   "cell_type": "code",
   "execution_count": 1,
   "metadata": {},
   "outputs": [
    {
     "name": "stdout",
     "output_type": "stream",
     "text": [
      "3\n"
     ]
    }
   ],
   "source": [
    "def singleNumber(nums):\n",
    "    # Initialize variables to hold the bits that appear once and twice\n",
    "    ones, twos = 0, 0\n",
    "    \n",
    "    for num in nums:\n",
    "        # 'ones' will hold the bits which have appeared 1st time or 4th time or 7th time...\n",
    "        ones = (ones ^ num) & ~twos\n",
    "        \n",
    "        # 'twos' will hold the bits which have appeared 2nd time or 5th time or 8th time...\n",
    "        twos = (twos ^ num) & ~ones\n",
    "    \n",
    "    # 'ones' will have the unique element that appears exactly once\n",
    "    return ones\n",
    "\n",
    "# Example usage\n",
    "nums = [2, 2, 3, 2]\n",
    "res = singleNumber(nums)\n",
    "print(res)  # Output should be 3"
   ]
  }
 ],
 "metadata": {
  "kernelspec": {
   "display_name": "test_env",
   "language": "python",
   "name": "test_env"
  },
  "language_info": {
   "codemirror_mode": {
    "name": "ipython",
    "version": 3
   },
   "file_extension": ".py",
   "mimetype": "text/x-python",
   "name": "python",
   "nbconvert_exporter": "python",
   "pygments_lexer": "ipython3",
   "version": "3.8.6"
  }
 },
 "nbformat": 4,
 "nbformat_minor": 2
}
