{
 "cells": [
  {
   "cell_type": "markdown",
   "metadata": {},
   "source": [
    "## Method1 - Binary Search\n",
    "\n",
    "https://www.youtube.com/watch?v=oUnF7o88_Xc"
   ]
  },
  {
   "cell_type": "code",
   "execution_count": 1,
   "metadata": {},
   "outputs": [
    {
     "name": "stdout",
     "output_type": "stream",
     "text": [
      "True\n"
     ]
    }
   ],
   "source": [
    "def search(nums, target):\n",
    "    left,right = 0,len(nums) - 1\n",
    "    while left <= right:\n",
    "        mid = left + (right - left) // 2\n",
    "        if nums[mid] == target:\n",
    "            return True\n",
    "\n",
    "        #Left sorted portion\n",
    "        if nums[left] < nums[mid]:\n",
    "            if nums[left] <= target < nums[mid]:\n",
    "                right = mid - 1\n",
    "            else:\n",
    "                left = mid + 1\n",
    "        #Right sorted portion\n",
    "        elif nums[left] > nums[mid]:\n",
    "            if nums[mid] < target <= nums[right]:\n",
    "                left = mid + 1\n",
    "            else:\n",
    "                right = mid - 1\n",
    "        else:\n",
    "            left += 1\n",
    "    return False \n",
    "\n",
    "nums = [2,5,6,0,0,1,2]\n",
    "target = 0\n",
    "res = search(nums, target)\n",
    "print(res)"
   ]
  }
 ],
 "metadata": {
  "kernelspec": {
   "display_name": "leetcode_env",
   "language": "python",
   "name": "python3"
  },
  "language_info": {
   "codemirror_mode": {
    "name": "ipython",
    "version": 3
   },
   "file_extension": ".py",
   "mimetype": "text/x-python",
   "name": "python",
   "nbconvert_exporter": "python",
   "pygments_lexer": "ipython3",
   "version": "3.8.6"
  }
 },
 "nbformat": 4,
 "nbformat_minor": 2
}
