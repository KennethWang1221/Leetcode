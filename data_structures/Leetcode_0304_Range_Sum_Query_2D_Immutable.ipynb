{
 "cells": [
  {
   "cell_type": "markdown",
   "metadata": {},
   "source": [
    "## Method1 - Prefix Sum\n",
    "\n",
    "https://www.youtube.com/watch?v=KE8MQuwE2yA"
   ]
  },
  {
   "cell_type": "code",
   "execution_count": 12,
   "metadata": {},
   "outputs": [
    {
     "data": {
      "text/plain": [
       "12"
      ]
     },
     "execution_count": 12,
     "metadata": {},
     "output_type": "execute_result"
    }
   ],
   "source": [
    "class NumMatrix:\n",
    "    def __init__(self, matrix):\n",
    "        rows, cols = len(matrix), len(matrix[0])\n",
    "        self.sum_ = [[0] * (cols + 1) for _ in range(rows + 1)]\n",
    "        for r, row in enumerate(matrix):\n",
    "            previous = 0\n",
    "            for c, num in enumerate(row):\n",
    "                previous += num\n",
    "                above = self.sum_[r][c + 1]\n",
    "                self.sum_[r + 1][c + 1] = previous + above\n",
    "\n",
    "    def sumRegion(self, row1, col1, row2, col2):\n",
    "        r1, c1, r2, c2 = row1 + 1, col1 + 1, row2 + 1, col2 + 1\n",
    "        bottomRight = self.sum_[r2][c2]\n",
    "        above = self.sum_[r1-1][c2]\n",
    "        left = self.sum_[r2][c1-1]\n",
    "        topLeft = self.sum_[r1-1][c1-1]\n",
    "        return bottomRight - above - left + topLeft\n",
    "\n",
    "matrix = [[3, 0, 1, 4, 2], [5, 6, 3, 2, 1], [1, 2, 0, 1, 5], [4, 1, 0, 1, 7], [1, 0, 3, 0, 5]]\n",
    "numMatrix = NumMatrix(matrix)\n",
    "numMatrix.sumRegion(2, 1, 4, 3) #return 8 (i.e sum of the red rectangle)\n",
    "numMatrix.sumRegion(1, 1, 2, 2) #return 11 (i.e sum of the green rectangle)\n",
    "numMatrix.sumRegion(1, 2, 2, 4) #return 12 (i.e sum of the blue rectangle)"
   ]
  }
 ],
 "metadata": {
  "kernelspec": {
   "display_name": "leetcode_env",
   "language": "python",
   "name": "python3"
  },
  "language_info": {
   "codemirror_mode": {
    "name": "ipython",
    "version": 3
   },
   "file_extension": ".py",
   "mimetype": "text/x-python",
   "name": "python",
   "nbconvert_exporter": "python",
   "pygments_lexer": "ipython3",
   "version": "3.8.6"
  }
 },
 "nbformat": 4,
 "nbformat_minor": 2
}
