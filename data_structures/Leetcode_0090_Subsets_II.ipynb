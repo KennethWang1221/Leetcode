{
 "cells": [
  {
   "cell_type": "markdown",
   "metadata": {},
   "source": [
    "## Method1 - DIY - Backtracking \n",
    "\n",
    "Same idea to 0077, 0216, 0017, 0039, 0040, 0131, 0093, 0078, 0090\n"
   ]
  },
  {
   "cell_type": "code",
   "execution_count": 1,
   "metadata": {},
   "outputs": [
    {
     "name": "stdout",
     "output_type": "stream",
     "text": [
      "[[], [1], [1, 2], [1, 2, 2], [2], [2, 2]]\n"
     ]
    }
   ],
   "source": [
    "def subsetsWithDup(nums):\n",
    "    n = len(nums)\n",
    "    res = []\n",
    "    def backtracking(nums, start, comb, res):\n",
    "        if comb not in res:\n",
    "            res.append(comb[:])\n",
    "        if start >= n and comb in res:\n",
    "            return \n",
    "        \n",
    "        for i in range(start, n):\n",
    "            comb.append(nums[i])\n",
    "            backtracking(nums, i+1, comb, res)\n",
    "            comb.pop(-1)\n",
    "\n",
    "    nums.sort()\n",
    "    backtracking(nums, 0, [], res)\n",
    "    return res\n",
    "\n",
    "nums = [1,2,2]\n",
    "print(subsetsWithDup(nums))"
   ]
  },
  {
   "cell_type": "markdown",
   "metadata": {},
   "source": [
    "## Method2 - Backtracking\n",
    "https://www.youtube.com/watch?v=Vn2v6ajA7U0"
   ]
  },
  {
   "cell_type": "code",
   "execution_count": 1,
   "metadata": {},
   "outputs": [
    {
     "name": "stdout",
     "output_type": "stream",
     "text": [
      "[[1, 2, 2], [1, 2], [1], [2, 2], [2], []]\n"
     ]
    }
   ],
   "source": [
    "def subsetsWithDup(nums):\n",
    "    res = []\n",
    "    nums.sort()\n",
    "\n",
    "    def backtrack(i, subset):\n",
    "        if i == len(nums):\n",
    "            res.append(subset[::])\n",
    "            return\n",
    "\n",
    "        # All subsets that include nums[i]\n",
    "        subset.append(nums[i])\n",
    "        backtrack(i + 1, subset)\n",
    "        subset.pop()\n",
    "        # All subsets that don't include nums[i]\n",
    "        while i + 1 < len(nums) and nums[i] == nums[i + 1]:\n",
    "            i += 1\n",
    "        backtrack(i + 1, subset)\n",
    "\n",
    "    backtrack(0, [])\n",
    "    return res\n",
    "\n",
    "nums = [1,2,2]\n",
    "print(subsetsWithDup(nums))"
   ]
  },
  {
   "cell_type": "markdown",
   "metadata": {},
   "source": [
    "## Method3 - Backtracking\n",
    "https://github.com/youngyangyang04/leetcode-master/blob/master/problems/0090.%E5%AD%90%E9%9B%86II.md"
   ]
  },
  {
   "cell_type": "markdown",
   "metadata": {},
   "source": [
    "回溯 利用used数组去重"
   ]
  },
  {
   "cell_type": "code",
   "execution_count": 2,
   "metadata": {},
   "outputs": [
    {
     "name": "stdout",
     "output_type": "stream",
     "text": [
      "[[], [1], [1, 2], [1, 2, 2], [2], [2, 2]]\n"
     ]
    }
   ],
   "source": [
    "def subsetsWithDup(nums):\n",
    "    def backtracking(nums, startIndex, used, path, result):\n",
    "        result.append(path[:])  # 收集子集\n",
    "        for i in range(startIndex, len(nums)):\n",
    "            # used[i - 1] == True，说明同一树枝 nums[i - 1] 使用过\n",
    "            # used[i - 1] == False，说明同一树层 nums[i - 1] 使用过\n",
    "            # 而我们要对同一树层使用过的元素进行跳过\n",
    "            if i > 0 and nums[i] == nums[i - 1] and not used[i - 1]:\n",
    "                continue\n",
    "            path.append(nums[i])\n",
    "            used[i] = True\n",
    "            backtracking(nums, i + 1, used, path, result)\n",
    "            used[i] = False\n",
    "            path.pop()\n",
    "    \n",
    "    result = []\n",
    "    path = []\n",
    "    used = [False] * len(nums)\n",
    "    nums.sort()  # 去重需要排序\n",
    "    backtracking(nums, 0, used, path, result)\n",
    "    return result\n",
    "\n",
    "nums = [1,2,2]\n",
    "print(subsetsWithDup(nums))"
   ]
  },
  {
   "cell_type": "markdown",
   "metadata": {},
   "source": [
    "回溯 利用集合去重"
   ]
  },
  {
   "cell_type": "code",
   "execution_count": 3,
   "metadata": {},
   "outputs": [
    {
     "name": "stdout",
     "output_type": "stream",
     "text": [
      "[[], [1], [1, 2], [1, 2, 2], [2], [2, 2]]\n"
     ]
    }
   ],
   "source": [
    "def subsetsWithDup(nums):\n",
    "    def backtracking(nums, startIndex, path, result):\n",
    "        result.append(path[:])  # 收集子集\n",
    "        uset = set()\n",
    "        for i in range(startIndex, len(nums)):\n",
    "            if nums[i] in uset:\n",
    "                continue\n",
    "            uset.add(nums[i])\n",
    "            path.append(nums[i])\n",
    "            backtracking(nums, i + 1, path, result)\n",
    "            path.pop()\n",
    "    result = []\n",
    "    path = []\n",
    "    nums.sort()  # 去重需要排序\n",
    "    backtracking(nums, 0, path, result)\n",
    "    return result\n",
    "\n",
    "nums = [1,2,2]\n",
    "print(subsetsWithDup(nums))"
   ]
  },
  {
   "cell_type": "markdown",
   "metadata": {},
   "source": [
    "回溯 利用递归的时候下一个startIndex是i+1而不是0去重"
   ]
  },
  {
   "cell_type": "code",
   "execution_count": 4,
   "metadata": {},
   "outputs": [
    {
     "name": "stdout",
     "output_type": "stream",
     "text": [
      "[[], [1], [1, 2], [1, 2, 2], [2], [2, 2]]\n"
     ]
    }
   ],
   "source": [
    "def subsetsWithDup(nums):\n",
    "    def backtracking(nums, startIndex, path, result):\n",
    "        result.append(path[:])  # 收集子集\n",
    "        for i in range(startIndex, len(nums)):\n",
    "            # 而我们要对同一树层使用过的元素进行跳过\n",
    "            if i > startIndex and nums[i] == nums[i - 1]:\n",
    "                continue\n",
    "            path.append(nums[i])\n",
    "            backtracking(nums, i + 1, path, result)\n",
    "            path.pop()\n",
    "\n",
    "    result = []\n",
    "    path = []\n",
    "    nums.sort()  # 去重需要排序\n",
    "    backtracking(nums, 0, path, result)\n",
    "    return result\n",
    "\n",
    "nums = [1,2,2]\n",
    "print(subsetsWithDup(nums))"
   ]
  }
 ],
 "metadata": {
  "kernelspec": {
   "display_name": "leetcode_env",
   "language": "python",
   "name": "python3"
  },
  "language_info": {
   "codemirror_mode": {
    "name": "ipython",
    "version": 3
   },
   "file_extension": ".py",
   "mimetype": "text/x-python",
   "name": "python",
   "nbconvert_exporter": "python",
   "pygments_lexer": "ipython3",
   "version": "3.8.6"
  }
 },
 "nbformat": 4,
 "nbformat_minor": 2
}
