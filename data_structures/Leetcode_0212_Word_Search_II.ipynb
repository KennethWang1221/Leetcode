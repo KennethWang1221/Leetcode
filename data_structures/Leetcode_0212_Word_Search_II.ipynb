{
 "cells": [
  {
   "attachments": {},
   "cell_type": "markdown",
   "metadata": {},
   "source": [
    "## Method1 - DFS - Trie - Backtracking\n",
    "\n",
    "https://www.youtube.com/watch?v=asbcE9mZz_U"
   ]
  },
  {
   "cell_type": "code",
   "execution_count": 1,
   "metadata": {},
   "outputs": [
    {
     "name": "stdout",
     "output_type": "stream",
     "text": [
      "['oath', 'eat']\n"
     ]
    }
   ],
   "source": [
    "class TrieNode:\n",
    "    def __init__(self):\n",
    "        self.children = {}\n",
    "        self.isWord = False\n",
    "        self.refs = 0\n",
    "\n",
    "    def addWord(self,word):\n",
    "        cur = self\n",
    "        cur.refs+=1\n",
    "        for c in word:\n",
    "            if c not in cur.children:\n",
    "                cur.children[c] = TrieNode()\n",
    "            cur = cur.children[c]\n",
    "            cur.refs +=1\n",
    "        cur.isWord = True\n",
    "    \n",
    "    def removeWord(self,word):\n",
    "        cur = self\n",
    "        cur.refs -=1\n",
    "        for c in word:\n",
    "            if c in cur.children:\n",
    "                cur = cur.children[c]\n",
    "                cur.refs-=1\n",
    "\n",
    "def findWords(board, words):\n",
    "    root = TrieNode()\n",
    "    for w in words:\n",
    "        root.addWord(w)\n",
    "\n",
    "    ROWS, COLS = len(board), len(board[0])\n",
    "    res, visit = set(), set()\n",
    "\n",
    "    def dfs(r, c, node, word):\n",
    "        if (\n",
    "            r not in range(ROWS) \n",
    "            or c not in range(COLS)\n",
    "            or board[r][c] not in node.children\n",
    "            or node.children[board[r][c]].refs < 1\n",
    "            or (r, c) in visit\n",
    "        ):\n",
    "            return\n",
    "\n",
    "        visit.add((r, c))\n",
    "        node = node.children[board[r][c]]\n",
    "        word += board[r][c]\n",
    "        if node.isWord:\n",
    "            node.isWord = False\n",
    "            res.add(word)\n",
    "            root.removeWord(word)\n",
    "\n",
    "        dfs(r + 1, c, node, word)\n",
    "        dfs(r - 1, c, node, word)\n",
    "        dfs(r, c + 1, node, word)\n",
    "        dfs(r, c - 1, node, word)\n",
    "        visit.remove((r, c))\n",
    "\n",
    "    for r in range(ROWS):\n",
    "        for c in range(COLS):\n",
    "            dfs(r, c, root, \"\")\n",
    "\n",
    "    return list(res)\n",
    "\n",
    "board = [[\"o\",\"a\",\"a\",\"n\"],[\"e\",\"t\",\"a\",\"e\"],[\"i\",\"h\",\"k\",\"r\"],[\"i\",\"f\",\"l\",\"v\"]]\n",
    "words = [\"oath\",\"pea\",\"eat\",\"rain\"]\n",
    "res = findWords(board,words)\n",
    "print(res)"
   ]
  },
  {
   "attachments": {},
   "cell_type": "markdown",
   "metadata": {},
   "source": [
    "## Leetcode_0079_Word_Search\n"
   ]
  },
  {
   "cell_type": "code",
   "execution_count": 2,
   "metadata": {},
   "outputs": [
    {
     "name": "stdout",
     "output_type": "stream",
     "text": [
      "True\n"
     ]
    }
   ],
   "source": [
    "def exist(board, word):\n",
    "    rows, cols = len(board), len(board[0])\n",
    "    path = set()\n",
    "\n",
    "    def dfs(r,c,i):\n",
    "        if i == len(word): return True\n",
    "\n",
    "        if (\n",
    "            r<0 or\n",
    "            c<0 or\n",
    "            r>=rows or\n",
    "            c>=cols or\n",
    "            word[i]!=board[r][c] or\n",
    "            (r,c) in path\n",
    "        ): return False\n",
    "        path.add((r,c))\n",
    "\n",
    "        res = (\n",
    "            dfs(r-1,c,i+1) or \n",
    "            dfs(r+1,c, i+1) or\n",
    "            dfs(r,c-1, i+1) or \n",
    "            dfs(r,c+1,i+1)\n",
    "        )\n",
    "\n",
    "        path.remove((r,c))\n",
    "        return res\n",
    "\n",
    "\n",
    "    for r in range(rows):\n",
    "        for c in range(cols):\n",
    "            if dfs(r,c,0): return True\n",
    "    return False\n",
    "\n",
    "board = [[\"A\",\"B\",\"C\",\"E\"],[\"S\",\"F\",\"C\",\"S\"],[\"A\",\"D\",\"E\",\"E\"]]\n",
    "word = \"ABCCED\"\n",
    "res = exist(board, word) # O(n*m*4^n)\n",
    "print(res)"
   ]
  }
 ],
 "metadata": {
  "kernelspec": {
   "display_name": "test_env",
   "language": "python",
   "name": "test_env"
  },
  "language_info": {
   "codemirror_mode": {
    "name": "ipython",
    "version": 3
   },
   "file_extension": ".py",
   "mimetype": "text/x-python",
   "name": "python",
   "nbconvert_exporter": "python",
   "pygments_lexer": "ipython3",
   "version": "3.8.10"
  },
  "orig_nbformat": 4
 },
 "nbformat": 4,
 "nbformat_minor": 2
}
