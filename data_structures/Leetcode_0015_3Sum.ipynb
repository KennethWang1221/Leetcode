{
 "cells": [
  {
   "cell_type": "markdown",
   "metadata": {},
   "source": [
    "## Method1 Two Pointers\n",
    "\n",
    "https://www.youtube.com/watch?v=jzZsG8n2R9A&t=13s\n",
    "\n",
    "Same idea to Leetcode_0001_two_sum, Leetcode_0167_Two_SumII, Leetcode_0018_4Sum, Leetcode_0454_4SumII"
   ]
  },
  {
   "cell_type": "code",
   "execution_count": 2,
   "metadata": {},
   "outputs": [
    {
     "name": "stdout",
     "output_type": "stream",
     "text": [
      "[[-1, -1, 2], [-1, 0, 1]]\n"
     ]
    }
   ],
   "source": [
    "def threeSum(nums):\n",
    "    n = len(nums)\n",
    "    nums.sort()\n",
    "    l, r = 0, n-1\n",
    "    res = []\n",
    "\n",
    "    for i in range(n):\n",
    "        if i>0 and nums[i] == nums[i-1]:\n",
    "            continue\n",
    "        l, r = i+1, n-1\n",
    "        while l<r:\n",
    "            diff = nums[i] + nums[l] + nums[r]\n",
    "            if diff>0:\n",
    "                r-=1\n",
    "            elif diff<0:\n",
    "                l+=1\n",
    "            else:\n",
    "                res.append([nums[i],nums[l],nums[r]])\n",
    "                l+=1\n",
    "                while nums[l] == nums[l-1] and l<r:\n",
    "                    l+=1\n",
    "    return res\n",
    "\n",
    "nums = [-1,0,1,2,-1,-4]\n",
    "nums = [0,0,0,0]\n",
    "nums = [-1,0,1,2,-1,-4]\n",
    "res = threeSum(nums)\n",
    "print(res)"
   ]
  }
 ],
 "metadata": {
  "kernelspec": {
   "display_name": "leetcode_env",
   "language": "python",
   "name": "python3"
  },
  "language_info": {
   "codemirror_mode": {
    "name": "ipython",
    "version": 3
   },
   "file_extension": ".py",
   "mimetype": "text/x-python",
   "name": "python",
   "nbconvert_exporter": "python",
   "pygments_lexer": "ipython3",
   "version": "3.8.6"
  },
  "orig_nbformat": 4
 },
 "nbformat": 4,
 "nbformat_minor": 2
}
