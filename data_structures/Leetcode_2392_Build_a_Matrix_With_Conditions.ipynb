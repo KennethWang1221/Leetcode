{
 "cells": [
  {
   "cell_type": "markdown",
   "metadata": {},
   "source": [
    "## Method1 - DFS\n",
    "https://www.youtube.com/watch?v=khTKB1PzCuw"
   ]
  },
  {
   "cell_type": "code",
   "execution_count": 7,
   "metadata": {},
   "outputs": [
    {
     "name": "stdout",
     "output_type": "stream",
     "text": [
      "[3, 0, 0]\n",
      "[0, 0, 1]\n",
      "[0, 2, 0]\n"
     ]
    }
   ],
   "source": [
    "from collections import defaultdict\n",
    "\n",
    "class Solution:\n",
    "    def dfs(self, node, graph, visited, path, order):\n",
    "        visited[node] = 1  # visiting\n",
    "        path.append(node)\n",
    "        \n",
    "        for nei in graph[node]:\n",
    "            if visited[nei] == 0:\n",
    "                if not self.dfs(nei, graph, visited, path, order):\n",
    "                    return False\n",
    "            elif visited[nei] == 1:\n",
    "                return False  # cycle detected\n",
    "                \n",
    "        visited[node] = 2  # visited\n",
    "        order.append(node)\n",
    "        path.pop()\n",
    "        return True\n",
    "    \n",
    "    def topologicalSort(self, k, conditions):\n",
    "        graph = defaultdict(list)\n",
    "        for u, v in conditions:\n",
    "            graph[u].append(v)\n",
    "            \n",
    "        visited = [0] * (k + 1)  # 0 = unvisited, 1 = visiting, 2 = visited\n",
    "        order = []\n",
    "        \n",
    "        for i in range(1, k + 1):\n",
    "            if visited[i] == 0:\n",
    "                if not self.dfs(i, graph, visited, [], order):\n",
    "                    return []  # cycle detected\n",
    "                \n",
    "        return order[::-1]  # reverse to get correct topological order\n",
    "    \n",
    "    def buildMatrix(self, k, rowConditions, colConditions):\n",
    "        row_order = self.topologicalSort(k, rowConditions)\n",
    "        col_order = self.topologicalSort(k, colConditions)\n",
    "        \n",
    "        if not row_order or not col_order:\n",
    "            return []  # Invalid due to cycle\n",
    "        \n",
    "        # Position mapping for column indices\n",
    "        pos = {num: i for i, num in enumerate(col_order)}\n",
    "        \n",
    "        # Create matrix\n",
    "        result = [[0] * k for _ in range(k)]\n",
    "        for i in range(k):\n",
    "            result[i][pos[row_order[i]]] = row_order[i]\n",
    "            \n",
    "        return result\n",
    "\n",
    "# Example usage\n",
    "sol = Solution()\n",
    "k = 3\n",
    "rowConditions = [[1,2],[3,2]]\n",
    "colConditions = [[2,1],[3,2]]\n",
    "result = sol.buildMatrix(k, rowConditions, colConditions)\n",
    "\n",
    "for row in result:\n",
    "    print(row)\n"
   ]
  }
 ],
 "metadata": {
  "kernelspec": {
   "display_name": "leetcode_env",
   "language": "python",
   "name": "python3"
  },
  "language_info": {
   "codemirror_mode": {
    "name": "ipython",
    "version": 3
   },
   "file_extension": ".py",
   "mimetype": "text/x-python",
   "name": "python",
   "nbconvert_exporter": "python",
   "pygments_lexer": "ipython3",
   "version": "3.8.6"
  }
 },
 "nbformat": 4,
 "nbformat_minor": 2
}
