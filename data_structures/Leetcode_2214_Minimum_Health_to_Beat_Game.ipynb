{
 "cells": [
  {
   "cell_type": "markdown",
   "metadata": {},
   "source": [
    "## Method1 - Greedy\n",
    "\n",
    "You are playing a game that has n levels numbered from 0 to n - 1. You are given a 0-indexed integer array damage where damage[i] is the amount of health you will lose to complete the ith level.\n",
    "\n",
    "You are also given an integer armor. You may use your armor ability at most once during the game on any level which will protect you from at most armor damage.\n",
    "\n",
    "You must complete the levels in order and your health must be greater than 0 at all times to beat the game.\n",
    "\n",
    "Return the minimum health you need to start with to beat the game.\n",
    "\n",
    "\n",
    "Input: damage = [2,7,4,3], armor = 4\n",
    "\n",
    "Output: 13\n",
    "\n",
    "Explanation: One optimal way to beat the game starting at 13 health is:\n",
    "\n",
    "On round 1, take 2 damage. You have 13 - 2 = 11 health.\n",
    "\n",
    "On round 2, take 7 damage. You have 11 - 7 = 4 health.\n",
    "\n",
    "On round 3, use your armor to protect you from 4 damage. You have 4 - 0 = 4 health.\n",
    "\n",
    "On round 4, take 3 damage. You have 4 - 3 = 1 health.\n",
    "\n",
    "Note that 13 is the minimum health you need to start with to beat the game."
   ]
  },
  {
   "cell_type": "code",
   "execution_count": 1,
   "metadata": {},
   "outputs": [
    {
     "name": "stdout",
     "output_type": "stream",
     "text": [
      "13\n"
     ]
    }
   ],
   "source": [
    "def minimumHealth(damage, armor):\n",
    "    total_damage = 0\n",
    "    max_saving = 0\n",
    "\n",
    "    # Calculate total damage and the maximum damage you can avoid at a level.\n",
    "    for d in damage:\n",
    "        total_damage += d\n",
    "        current_saving = min(d, armor)\n",
    "        if current_saving > max_saving:\n",
    "            max_saving = current_saving\n",
    "\n",
    "    # The required starting health is the total damage minus the best saving plus one.\n",
    "    required_health = total_damage - max_saving + 1\n",
    "    return required_health\n",
    "print(minimumHealth(damage = [2,7,4,3], armor = 4))"
   ]
  }
 ],
 "metadata": {
  "kernelspec": {
   "display_name": "leetcode_env",
   "language": "python",
   "name": "python3"
  },
  "language_info": {
   "codemirror_mode": {
    "name": "ipython",
    "version": 3
   },
   "file_extension": ".py",
   "mimetype": "text/x-python",
   "name": "python",
   "nbconvert_exporter": "python",
   "pygments_lexer": "ipython3",
   "version": "3.8.6"
  }
 },
 "nbformat": 4,
 "nbformat_minor": 2
}
