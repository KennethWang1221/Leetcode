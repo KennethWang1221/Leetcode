{
 "cells": [
  {
   "cell_type": "markdown",
   "metadata": {},
   "source": [
    "## Method1 - Binary Search\n",
    "\n",
    "https://www.youtube.com/watch?v=Ber2pi2C0j0"
   ]
  },
  {
   "cell_type": "code",
   "execution_count": 2,
   "metadata": {},
   "outputs": [
    {
     "name": "stdout",
     "output_type": "stream",
     "text": [
      "True\n"
     ]
    }
   ],
   "source": [
    "def searchMatrix(matrix, target):\n",
    "    ROWS, COLS = len(matrix), len(matrix[0])\n",
    "\n",
    "    top, bot = 0, ROWS - 1\n",
    "    while top <= bot:\n",
    "        row = (top + bot) // 2\n",
    "        if target > matrix[row][-1]:\n",
    "            top = row + 1\n",
    "        elif target < matrix[row][0]:\n",
    "            bot = row - 1\n",
    "        else:\n",
    "            break\n",
    "\n",
    "    if not (top <= bot):\n",
    "        return False\n",
    "    row = (top + bot) // 2\n",
    "    l, r = 0, COLS - 1\n",
    "    while l <= r:\n",
    "        m = (l + r) // 2\n",
    "        if target > matrix[row][m]:\n",
    "            l = m + 1\n",
    "        elif target < matrix[row][m]:\n",
    "            r = m - 1\n",
    "        else:\n",
    "            return True\n",
    "    return False\n",
    "matrix = [[1,3,5,7],[10,11,16,20],[23,30,34,60]]\n",
    "target = 3\n",
    "res = searchMatrix(matrix,target)\n",
    "print(res)"
   ]
  },
  {
   "cell_type": "markdown",
   "metadata": {},
   "source": [
    "## DIY"
   ]
  },
  {
   "cell_type": "code",
   "execution_count": 18,
   "metadata": {},
   "outputs": [
    {
     "name": "stdout",
     "output_type": "stream",
     "text": [
      "False\n"
     ]
    }
   ],
   "source": [
    "def searchMatrix(matrix, target):\n",
    "    rows, cols = len(matrix), len(matrix[0])\n",
    "\n",
    "    top, bot = 0, rows-1\n",
    "    while top<=bot:\n",
    "        mid = (top + bot) //2\n",
    "        if target>matrix[mid][-1]:\n",
    "            top = mid + 1\n",
    "        elif target < matrix[mid][0]:\n",
    "            bot = mid - 1\n",
    "        else:\n",
    "            break\n",
    "    top = (top + bot)//2\n",
    "    select = matrix[top][:]\n",
    "    start, end = 0, len(select)-1\n",
    "\n",
    "    while start <= end:\n",
    "        mid = (start+end)//2\n",
    "\n",
    "        if target > select[mid]:\n",
    "            start = mid + 1\n",
    "        elif target < select[mid]:\n",
    "            end = mid  - 1\n",
    "        else:\n",
    "            return True\n",
    "            break\n",
    "\n",
    "    return False\n",
    "\n",
    "matrix = [[1,3,5,7],[10,11,16,20],[23,30,34,60]]\n",
    "target = 3\n",
    "matrix = [[1]]\n",
    "target = 2\n",
    "res = searchMatrix(matrix,target)\n",
    "print(res)"
   ]
  }
 ],
 "metadata": {
  "kernelspec": {
   "display_name": "leetcode_env",
   "language": "python",
   "name": "leetcode_env"
  },
  "language_info": {
   "codemirror_mode": {
    "name": "ipython",
    "version": 3
   },
   "file_extension": ".py",
   "mimetype": "text/x-python",
   "name": "python",
   "nbconvert_exporter": "python",
   "pygments_lexer": "ipython3",
   "version": "3.8.6"
  }
 },
 "nbformat": 4,
 "nbformat_minor": 2
}
