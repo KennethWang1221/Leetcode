{
 "cells": [
  {
   "cell_type": "markdown",
   "metadata": {},
   "source": [
    "## Method1 - Multidimensional DP\n",
    "https://www.youtube.com/watch?v=d3UOz7zdE4I"
   ]
  },
  {
   "cell_type": "code",
   "execution_count": 1,
   "metadata": {},
   "outputs": [
    {
     "name": "stdout",
     "output_type": "stream",
     "text": [
      "2\n"
     ]
    }
   ],
   "source": [
    "def uniquePathsWithObstacles(grid):\n",
    "    M, N = len(grid), len(grid[0])\n",
    "    dp = [0] * N\n",
    "    dp[N-1] = 1\n",
    "\n",
    "    # Time: O(N*M), Space: O(N)\n",
    "    for r in reversed(range(M)):\n",
    "        for c in reversed(range(N)):\n",
    "            if grid[r][c]:\n",
    "                dp[c] = 0\n",
    "            elif c + 1 < N:\n",
    "                dp[c] = dp[c] + dp[c + 1]\n",
    "    return dp[0]\n",
    "\n",
    "obstacleGrid = [[0,0,0],[0,1,0],[0,0,0]]\n",
    "res = uniquePathsWithObstacles(obstacleGrid)\n",
    "print(res)"
   ]
  }
 ],
 "metadata": {
  "kernelspec": {
   "display_name": "test_env",
   "language": "python",
   "name": "test_env"
  },
  "language_info": {
   "codemirror_mode": {
    "name": "ipython",
    "version": 3
   },
   "file_extension": ".py",
   "mimetype": "text/x-python",
   "name": "python",
   "nbconvert_exporter": "python",
   "pygments_lexer": "ipython3",
   "version": "3.8.6"
  }
 },
 "nbformat": 4,
 "nbformat_minor": 2
}
