{
 "cells": [
  {
   "cell_type": "markdown",
   "metadata": {},
   "source": [
    "## Method1 - Multidimensional Bottom-UP DP\n",
    "https://www.youtube.com/watch?v=d3UOz7zdE4I"
   ]
  },
  {
   "cell_type": "code",
   "execution_count": 3,
   "metadata": {},
   "outputs": [
    {
     "name": "stdout",
     "output_type": "stream",
     "text": [
      "2\n"
     ]
    }
   ],
   "source": [
    "def uniquePathsWithObstacles(grid):\n",
    "    M, N = len(grid), len(grid[0])\n",
    "    dp = [0] * N\n",
    "    dp[N-1] = 1\n",
    "\n",
    "    # Time: O(N*M), Space: O(N)\n",
    "    for r in reversed(range(M)):\n",
    "        for c in reversed(range(N)):\n",
    "            if grid[r][c]:\n",
    "                dp[c] = 0\n",
    "            elif c + 1 < N:\n",
    "                dp[c] = dp[c] + dp[c + 1]\n",
    "    return dp[0]\n",
    "\n",
    "obstacleGrid = [[0,0,0],[0,1,0],[0,0,0]]\n",
    "res = uniquePathsWithObstacles(obstacleGrid)\n",
    "print(res)"
   ]
  },
  {
   "cell_type": "code",
   "execution_count": 11,
   "metadata": {},
   "outputs": [
    {
     "name": "stdout",
     "output_type": "stream",
     "text": [
      "2\n"
     ]
    }
   ],
   "source": [
    "def uniquePathsWithObstacles(obstacleGrid):\n",
    "    rows, cols = len(obstacleGrid), len(obstacleGrid[0])\n",
    "\n",
    "    dp = [0] * cols\n",
    "    dp[-1] = 1\n",
    "\n",
    "    for row in range(rows-1,-1,-1):\n",
    "        for col in range(cols-1,-1,-1):\n",
    "            if obstacleGrid[row][col]:\n",
    "                dp[col] = 0\n",
    "            elif col < cols-1:\n",
    "                dp[col] = dp[col] + dp[col+1]\n",
    "    return dp[0]\n",
    "\n",
    "obstacleGrid = [[0,0,0],[0,1,0],[0,0,0]]\n",
    "res = uniquePathsWithObstacles(obstacleGrid)\n",
    "print(res)"
   ]
  },
  {
   "cell_type": "markdown",
   "metadata": {},
   "source": [
    "## Recap - 2D Bottom-UP DP"
   ]
  },
  {
   "cell_type": "code",
   "execution_count": 1,
   "metadata": {},
   "outputs": [
    {
     "name": "stdout",
     "output_type": "stream",
     "text": [
      "2\n"
     ]
    }
   ],
   "source": [
    "def test(obstacleGrid):\n",
    "    rows, cols = len(obstacleGrid), len(obstacleGrid[0])\n",
    "    dp = [[0] * (cols+1) for i in range(rows+1)]\n",
    "    dp[rows-1][cols-1] = 1\n",
    "\n",
    "    for row in range(rows-1,-1,-1):\n",
    "        for col in range(cols-1,-1,-1):\n",
    "            if obstacleGrid[row][col]==1:\n",
    "                dp[row][col] = 0\n",
    "            else:\n",
    "                dp[row][col] = dp[row][col] + dp[row+1][col] + dp[row][col+1]\n",
    "\n",
    "    return dp[0][0]\n",
    "\n",
    "res = test(obstacleGrid = [[0,0,0],[0,1,0],[0,0,0]])\n",
    "print(res)"
   ]
  }
 ],
 "metadata": {
  "kernelspec": {
   "display_name": "test_env",
   "language": "python",
   "name": "python3"
  },
  "language_info": {
   "codemirror_mode": {
    "name": "ipython",
    "version": 3
   },
   "file_extension": ".py",
   "mimetype": "text/x-python",
   "name": "python",
   "nbconvert_exporter": "python",
   "pygments_lexer": "ipython3",
   "version": "3.8.10"
  }
 },
 "nbformat": 4,
 "nbformat_minor": 2
}
