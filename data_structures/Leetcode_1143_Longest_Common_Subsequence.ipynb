{
 "cells": [
  {
   "cell_type": "markdown",
   "metadata": {},
   "source": [
    "## Method1 - 2D Bottom-UP DP\n",
    "\n",
    "same ideato 0516\n",
    "\n",
    "https://www.youtube.com/watch?v=Ua0GhsJSlWM"
   ]
  },
  {
   "cell_type": "code",
   "execution_count": 31,
   "metadata": {},
   "outputs": [
    {
     "name": "stdout",
     "output_type": "stream",
     "text": [
      "1\n"
     ]
    }
   ],
   "source": [
    "def longestCommonSubsequence(text1,text2):\n",
    "    n1 = len(text1)\n",
    "    n2 = len(text2)\n",
    "\n",
    "    dp = [[0]*(n2+1) for i in range(n1+1)]\n",
    "\n",
    "    for i in range(n1-1,-1,-1):\n",
    "        for j in range(n2-1,-1,-1):\n",
    "            if text1[i] == text2[j]:\n",
    "                dp[i][j] = 1 + dp[i+1][j+1]\n",
    "            else:\n",
    "                dp[i][j] = max(dp[i][j+1], dp[i+1][j])\n",
    "    \n",
    "    return dp[0][0]\n",
    "\n",
    "text1 = 'abcde'\n",
    "text2 = 'ace'\n",
    "text1 = \"bsbininm\"\n",
    "text2 = \"jmjkbkjkv\"\n",
    "res = longestCommonSubsequence(text1,text2)\n",
    "print(res)"
   ]
  },
  {
   "cell_type": "markdown",
   "metadata": {},
   "source": [
    "## Method1 - Failure"
   ]
  },
  {
   "cell_type": "code",
   "execution_count": 25,
   "metadata": {},
   "outputs": [
    {
     "name": "stdout",
     "output_type": "stream",
     "text": [
      "2\n"
     ]
    }
   ],
   "source": [
    "def longestCommonSubsequence(text1,text2):\n",
    "\n",
    "    n1 = len(text1)\n",
    "    n2 = len(text2)\n",
    "\n",
    "    dp = [[0]*(n2+1) for i in range(n1+1)]\n",
    "\n",
    "    for i in range(n1-1,-1,-1):\n",
    "        for j in range(n2-1,-1,-1):\n",
    "            if text1[i] == text2[j]:\n",
    "                dp[i][j] = 1 + max(dp[i][j+1], dp[i+1][j])\n",
    "            else:\n",
    "                dp[i][j] = max(dp[i][j+1], dp[i+1][j])\n",
    "    \n",
    "    return dp[0][0]\n",
    "\n",
    "text1 = 'abcde'\n",
    "text2 = 'ace'\n",
    "text1 = \"bsbininm\"\n",
    "text2 = \"jmjkbkjkv\"\n",
    "res = longestCommonSubsequence(text1,text2)\n",
    "print(res)"
   ]
  },
  {
   "cell_type": "markdown",
   "metadata": {},
   "source": [
    "## Failure2 "
   ]
  },
  {
   "cell_type": "code",
   "execution_count": 1,
   "metadata": {},
   "outputs": [
    {
     "name": "stdout",
     "output_type": "stream",
     "text": [
      "2\n"
     ]
    }
   ],
   "source": [
    "def longestCommonSubsequence(text1,text2):\n",
    "    n1 = len(text1)\n",
    "    n2 = len(text2)\n",
    "\n",
    "    dp = [[0]*(n2+1) for i in range(n1+1)]\n",
    "\n",
    "    \"\"\"\n",
    "    why init 1 is wrong! \n",
    "    \"\"\"\n",
    "    for i in range(n2+1):\n",
    "        dp[n1][i] = 1\n",
    "\n",
    "    for i in range(n1+1):\n",
    "        dp[i][n2] = 1\n",
    "        \n",
    "    for i in range(n1-1,-1,-1):\n",
    "        for j in range(n2-1,-1,-1):\n",
    "            if text1[i] == text2[j]:\n",
    "                dp[i][j] = 1 + dp[i+1][j+1]\n",
    "            else:\n",
    "                dp[i][j] = max(dp[i][j+1], dp[i+1][j])\n",
    "    \n",
    "    return dp[0][0]\n",
    "\n",
    "text1 = 'abcde'\n",
    "text2 = 'ace'\n",
    "text1 = \"bsbininm\"\n",
    "text2 = \"jmjkbkjkv\"\n",
    "res = longestCommonSubsequence(text1,text2)\n",
    "print(res)"
   ]
  },
  {
   "cell_type": "markdown",
   "metadata": {},
   "source": [
    "**Initialization:**\n",
    "\n",
    "We don't need to explicitly initialize the last row and column because they represent cases where one string is empty and the other isn't. The Longest Common Subsequence (LCS) between any string and an empty string is always 0, which is correctly handled by the default initialization of 0's.\n",
    "\n",
    "If we initialized the last row and column with 1's, it would incorrectly suggest a common character exists between any character and an empty string, leading to incorrect results.\n",
    "\n",
    "**Example:**\n",
    "\n",
    "Consider the example to illustrate why the LCS between any string and an empty string is always 0:\n",
    "\n",
    "- **String 1:** \"hello\"\n",
    "- **String 2:** \"\" (empty string)\n",
    "\n",
    "A subsequence is a sequence derived from another sequence by deleting some or no elements without changing the order of the remaining elements. When finding the LCS between \"hello\" and \"\":\n",
    "1. The empty string \"\" has no characters.\n",
    "2. Any subsequence of an empty string is also an empty string.\n",
    "3. The only common subsequence between \"hello\" and \"\" is the empty string itself.\n",
    "\n",
    "Therefore, the length of the longest common subsequence is 0.\n",
    "\n",
    "This holds true for any string compared with an empty string:\n",
    "- \"a\" and \"\": LCS length = 0\n",
    "- \"xyz\" and \"\": LCS length = 0\n",
    "- \"12345\" and \"\": LCS length = 0\n",
    "\n",
    "**In the context of the DP table for LCS:**\n",
    "\n",
    "- The last row of the table represents the LCS between suffixes of the first string and an empty string.\n",
    "- The last column represents the LCS between an empty string and suffixes of the second string.\n",
    "\n",
    "Both should be initialized to 0, not 1, because there are no common characters between any non-empty string and an empty string. Initializing the last row and column with 1's in the reversed LCS algorithm was incorrect, as it would suggest a common character exists even when one of the strings is empty.\n",
    "\n",
    "**Special Case:**\n",
    "\n",
    "When both strings are empty (a = \"\" and b = \"\"), the LCS is still considered to have a length of 0. Here's why:\n",
    "\n",
    "1. **Definition of LCS:** The LCS is the longest sequence of characters that appears in the same relative order in both strings.\n",
    "2. **Empty Strings:** Both a and b are empty strings, meaning they contain no characters.\n",
    "3. **Common Subsequence:** The only subsequence that both empty strings share is the empty sequence itself.\n",
    "4. **Length of the LCS:** Since the only common subsequence is the empty sequence, its length is 0.\n",
    "\n",
    "**In the context of the DP table for LCS:**\n",
    "\n",
    "- For two empty strings, we would have a 1x1 table (excluding the initialization row and column).\n",
    "- The single cell in this table would contain 0, representing the length of the LCS between two empty strings.\n",
    "\n",
    "**Case Analysis:**\n",
    "\n",
    "- **Case 1:** a = \"\" and b = \"a\"\n",
    "  - a is an empty string\n",
    "  - b has one character \"a\"\n",
    "  - The LCS is 0 because there are no common characters between an empty string and any non-empty string. The empty string has no characters to match with \"a\".\n",
    "  - The DP table for this case would look like this:\n",
    "\n",
    "    ```\n",
    "      a\n",
    "    \"\" 0\n",
    "    ```\n",
    "\n",
    "- **Case 2:** a = \"a\" and b = \"\"\n",
    "  - a has one character \"a\"\n",
    "  - b is an empty string\n",
    "  - Again, the LCS is 0 because there are no common characters between any non-empty string and an empty string. The empty string has no characters to match with \"a\".\n",
    "  - The DP table for this case would look like this:\n",
    "\n",
    "    ```\n",
    "      \"\"\n",
    "    a 0\n",
    "    ```\n",
    "\n",
    "In both cases, the length of the LCS is 0. This aligns with our earlier discussion about why we don't need to initialize the last row and column with 1's. It demonstrates that the base case of our LCS algorithm (when one string is empty) is correctly handled by initializing the entire table with 0's. These examples further illustrate why it's correct to have 0's in the first row and first column of our DP table in the standard (non-reversed) LCS algorithm, or in the last row and last column in the reversed version. They represent the LCS lengths when one of the strings is empty, which is always 0."
   ]
  }
 ],
 "metadata": {
  "kernelspec": {
   "display_name": "test_env",
   "language": "python",
   "name": "python3"
  },
  "language_info": {
   "codemirror_mode": {
    "name": "ipython",
    "version": 3
   },
   "file_extension": ".py",
   "mimetype": "text/x-python",
   "name": "python",
   "nbconvert_exporter": "python",
   "pygments_lexer": "ipython3",
   "version": "3.8.6"
  }
 },
 "nbformat": 4,
 "nbformat_minor": 2
}
