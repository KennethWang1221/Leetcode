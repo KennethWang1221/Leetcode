{
 "cells": [
  {
   "cell_type": "markdown",
   "metadata": {},
   "source": [
    "## Method1 - 2D Bottom-UP DP\n",
    "https://www.youtube.com/watch?v=Ua0GhsJSlWM"
   ]
  },
  {
   "cell_type": "code",
   "execution_count": 31,
   "metadata": {},
   "outputs": [
    {
     "name": "stdout",
     "output_type": "stream",
     "text": [
      "1\n"
     ]
    }
   ],
   "source": [
    "def longestCommonSubsequence(text1,text2):\n",
    "    n1 = len(text1)\n",
    "    n2 = len(text2)\n",
    "\n",
    "    dp = [[0]*(n2+1) for i in range(n1+1)]\n",
    "\n",
    "    for i in range(n1-1,-1,-1):\n",
    "        for j in range(n2-1,-1,-1):\n",
    "            if text1[i] == text2[j]:\n",
    "                dp[i][j] = 1 + dp[i+1][j+1]\n",
    "            else:\n",
    "                dp[i][j] = max(dp[i][j+1], dp[i+1][j])\n",
    "    \n",
    "    return dp[0][0]\n",
    "\n",
    "text1 = 'abcde'\n",
    "text2 = 'ace'\n",
    "text1 = \"bsbininm\"\n",
    "text2 = \"jmjkbkjkv\"\n",
    "res = longestCommonSubsequence(text1,text2)\n",
    "print(res)"
   ]
  },
  {
   "cell_type": "markdown",
   "metadata": {},
   "source": [
    "## Method1 - Failure"
   ]
  },
  {
   "cell_type": "code",
   "execution_count": 25,
   "metadata": {},
   "outputs": [
    {
     "name": "stdout",
     "output_type": "stream",
     "text": [
      "2\n"
     ]
    }
   ],
   "source": [
    "def longestCommonSubsequence(text1,text2):\n",
    "\n",
    "    n1 = len(text1)\n",
    "    n2 = len(text2)\n",
    "\n",
    "    dp = [[0]*(n2+1) for i in range(n1+1)]\n",
    "\n",
    "    for i in range(n1-1,-1,-1):\n",
    "        for j in range(n2-1,-1,-1):\n",
    "            if text1[i] == text2[j]:\n",
    "                dp[i][j] = 1 + max(dp[i][j+1], dp[i+1][j])\n",
    "            else:\n",
    "                dp[i][j] = max(dp[i][j+1], dp[i+1][j])\n",
    "    \n",
    "    return dp[0][0]\n",
    "\n",
    "text1 = 'abcde'\n",
    "text2 = 'ace'\n",
    "text1 = \"bsbininm\"\n",
    "text2 = \"jmjkbkjkv\"\n",
    "res = longestCommonSubsequence(text1,text2)\n",
    "print(res)"
   ]
  }
 ],
 "metadata": {
  "kernelspec": {
   "display_name": "test_env",
   "language": "python",
   "name": "test_env"
  },
  "language_info": {
   "codemirror_mode": {
    "name": "ipython",
    "version": 3
   },
   "file_extension": ".py",
   "mimetype": "text/x-python",
   "name": "python",
   "nbconvert_exporter": "python",
   "pygments_lexer": "ipython3",
   "version": "3.8.6"
  }
 },
 "nbformat": 4,
 "nbformat_minor": 2
}
