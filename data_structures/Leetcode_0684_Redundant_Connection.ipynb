{
 "cells": [
  {
   "attachments": {},
   "cell_type": "markdown",
   "metadata": {},
   "source": [
    "## Method-1-Union_Find\n",
    "https://www.youtube.com/watch?v=FXWRE67PLL0&list=PLot-Xpze53ldBT_7QA8NVot219jFNr_GI&index=12\n"
   ]
  },
  {
   "attachments": {},
   "cell_type": "markdown",
   "metadata": {},
   "source": [
    "Still Need Investigate !!! "
   ]
  },
  {
   "cell_type": "code",
   "execution_count": 1,
   "metadata": {},
   "outputs": [
    {
     "name": "stdout",
     "output_type": "stream",
     "text": [
      "[2, 3]\n"
     ]
    }
   ],
   "source": [
    "def findRedundantConnection(edges):\n",
    "    par = [i for i in range(len(edges) + 1)]\n",
    "    rank = [1] * (len(edges) + 1)\n",
    "\n",
    "    def find(n):\n",
    "        p = par[n]\n",
    "        while p != par[p]:\n",
    "            par[p] = par[par[p]]\n",
    "            p = par[p]\n",
    "        return p\n",
    "\n",
    "    # return False if already unioned\n",
    "    def union(n1, n2):\n",
    "        p1, p2 = find(n1), find(n2)\n",
    "\n",
    "        if p1 == p2:\n",
    "            return False\n",
    "        if rank[p1] > rank[p2]:\n",
    "            par[p2] = p1\n",
    "            rank[p1] += rank[p2]\n",
    "        else:\n",
    "            par[p1] = p2\n",
    "            rank[p2] += rank[p1]\n",
    "        return True\n",
    "\n",
    "    for n1, n2 in edges:\n",
    "        if not union(n1, n2):\n",
    "            return [n1, n2]\n",
    "        \n",
    "edges = [[1,2],[1,3],[2,3]]\n",
    "res = findRedundantConnection(edges)\n",
    "print(res)"
   ]
  }
 ],
 "metadata": {
  "kernelspec": {
   "display_name": "leetcode_env",
   "language": "python",
   "name": "leetcode_env"
  },
  "language_info": {
   "codemirror_mode": {
    "name": "ipython",
    "version": 3
   },
   "file_extension": ".py",
   "mimetype": "text/x-python",
   "name": "python",
   "nbconvert_exporter": "python",
   "pygments_lexer": "ipython3",
   "version": "3.8.6"
  },
  "orig_nbformat": 4
 },
 "nbformat": 4,
 "nbformat_minor": 2
}
