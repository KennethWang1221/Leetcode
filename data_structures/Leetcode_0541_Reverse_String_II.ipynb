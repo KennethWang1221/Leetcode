{
 "cells": [
  {
   "cell_type": "markdown",
   "metadata": {},
   "source": [
    "## Method1 - Two Pointers - Reverse String"
   ]
  },
  {
   "cell_type": "code",
   "execution_count": 4,
   "metadata": {},
   "outputs": [
    {
     "name": "stdout",
     "output_type": "stream",
     "text": [
      "bacdfe\n"
     ]
    }
   ],
   "source": [
    "def reverseStr(s, k):\n",
    "    n = len(s)\n",
    "    res = [c for c in s]\n",
    "    for l in range(0, n, 2*k):\n",
    "    \n",
    "        r = (l + k )\n",
    "        res[l:r] = res[l:r][::-1]\n",
    "\n",
    "    return \"\".join(res)\n",
    "\n",
    "s = \"abcdef\"\n",
    "k = 2\n",
    "result = reverseStr(s, k)\n",
    "print(result)"
   ]
  }
 ],
 "metadata": {
  "kernelspec": {
   "display_name": "leetcode_env",
   "language": "python",
   "name": "leetcode_env"
  },
  "language_info": {
   "codemirror_mode": {
    "name": "ipython",
    "version": 3
   },
   "file_extension": ".py",
   "mimetype": "text/x-python",
   "name": "python",
   "nbconvert_exporter": "python",
   "pygments_lexer": "ipython3",
   "version": "3.8.6"
  },
  "orig_nbformat": 4,
  "vscode": {
   "interpreter": {
    "hash": "846fd2d9bb562a436898b7cc368204fc2f9d44e5e9b051b4f6e855e721078f23"
   }
  }
 },
 "nbformat": 4,
 "nbformat_minor": 2
}
