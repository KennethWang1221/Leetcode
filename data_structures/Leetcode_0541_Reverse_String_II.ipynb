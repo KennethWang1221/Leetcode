{
 "cells": [
  {
   "cell_type": "code",
   "execution_count": null,
   "metadata": {},
   "outputs": [],
   "source": [
    "# slice reverse method:\n",
    "# https://blog.csdn.net/taoqick/article/details/103943165\n",
    "# https://blog.csdn.net/weixin_39190382/article/details/123949515?spm=1001.2101.3001.6650.1&utm_medium=distribute.pc_relevant.none-task-blog-2%7Edefault%7ECTRLIST%7ERate-1-123949515-blog-103943165.pc_relevant_multi_platform_whitelistv3&depth_1-utm_source=distribute.pc_relevant.none-task-blog-2%7Edefault%7ECTRLIST%7ERate-1-123949515-blog-103943165.pc_relevant_multi_platform_whitelistv3&utm_relevant_index=2\n",
    "# https://blog.csdn.net/weixin_39190382/article/details/123949515"
   ]
  },
  {
   "cell_type": "code",
   "execution_count": 123,
   "metadata": {},
   "outputs": [
    {
     "name": "stdout",
     "output_type": "stream",
     "text": [
      "cbadef\n"
     ]
    }
   ],
   "source": [
    "def reverseStr(s, k):\n",
    "    n = len(s)\n",
    "    s = list(s)\n",
    "    for i in range(0,n,2*k):\n",
    "        reverse = reversed(s[i:i+k])\n",
    "        s[i:i+k] = \"\".join(reverse)\n",
    "    return \"\".join(s)\n",
    "# s = \"abcdefg\"\n",
    "# k = 2\n",
    "s = \"abcdef\"\n",
    "k = 3\n",
    "result = reverseStr(s, k)\n",
    "print(result)"
   ]
  },
  {
   "cell_type": "code",
   "execution_count": 115,
   "metadata": {},
   "outputs": [
    {
     "name": "stdout",
     "output_type": "stream",
     "text": [
      "['b', 'a', 'c', 'd', 'f', 'e', 'd', 'c', 'a', 'b', 'g']\n",
      "bacdfedcabg\n"
     ]
    }
   ],
   "source": [
    "# wrong method\n",
    "# in this case, we cannot use list[::-1]. The reason is that we cannot point [start:end:-1] end value here\n",
    "# explaination refers to https://blog.csdn.net/weixin_39190382/article/details/123949515\n",
    "def reverseStr(s, k):\n",
    "    n = len(s)\n",
    "    s = list(s)\n",
    "    for i in range(0,n,2*k):\n",
    "        \n",
    "        s[i:i+k] = s[i+k-1::-1]\n",
    "    print(s)\n",
    "    return \"\".join(s)\n",
    "s = \"abcdefg\"\n",
    "k = 2\n",
    "# s = \"abcdef\"\n",
    "# k = 3\n",
    "result = reverseStr(s, k)\n",
    "print(result)"
   ]
  }
 ],
 "metadata": {
  "kernelspec": {
   "display_name": "Python 3.8.6 64-bit ('leetcode_env')",
   "language": "python",
   "name": "python3"
  },
  "language_info": {
   "codemirror_mode": {
    "name": "ipython",
    "version": 3
   },
   "file_extension": ".py",
   "mimetype": "text/x-python",
   "name": "python",
   "nbconvert_exporter": "python",
   "pygments_lexer": "ipython3",
   "version": "3.8.6"
  },
  "orig_nbformat": 4,
  "vscode": {
   "interpreter": {
    "hash": "846fd2d9bb562a436898b7cc368204fc2f9d44e5e9b051b4f6e855e721078f23"
   }
  }
 },
 "nbformat": 4,
 "nbformat_minor": 2
}
