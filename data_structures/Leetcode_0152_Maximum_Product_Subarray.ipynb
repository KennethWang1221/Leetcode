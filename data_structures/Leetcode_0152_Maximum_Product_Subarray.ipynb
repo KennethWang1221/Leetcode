{
 "cells": [
  {
   "cell_type": "markdown",
   "metadata": {},
   "source": [
    "## Method1 - Greedy\n",
    "https://www.youtube.com/watch?v=lXVy6YWFcRM"
   ]
  },
  {
   "cell_type": "code",
   "execution_count": 8,
   "metadata": {},
   "outputs": [
    {
     "name": "stdout",
     "output_type": "stream",
     "text": [
      "6\n",
      "24\n"
     ]
    }
   ],
   "source": [
    "def maxProduct(nums):\n",
    "    # O(n)/O(1) : Time/Memory\n",
    "    res = nums[0]\n",
    "    curMin, curMax = 1, 1\n",
    "\n",
    "    for n in nums:\n",
    "        maxval = curMax * n\n",
    "        minval = curMin * n\n",
    "        curMax = max(maxval, minval, n)\n",
    "        curMin = min(maxval, minval, n)\n",
    "        res = max(res, curMax)\n",
    "    return res\n",
    "print(maxProduct(nums = [2,3,-2,4]))\n",
    "print(maxProduct(nums = [-1,-2,-3,4]))"
   ]
  }
 ],
 "metadata": {
  "kernelspec": {
   "display_name": "leetcode_env",
   "language": "python",
   "name": "leetcode_env"
  },
  "language_info": {
   "codemirror_mode": {
    "name": "ipython",
    "version": 3
   },
   "file_extension": ".py",
   "mimetype": "text/x-python",
   "name": "python",
   "nbconvert_exporter": "python",
   "pygments_lexer": "ipython3",
   "version": "3.8.6"
  }
 },
 "nbformat": 4,
 "nbformat_minor": 2
}
