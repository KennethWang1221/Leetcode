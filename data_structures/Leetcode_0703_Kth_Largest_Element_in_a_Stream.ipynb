{
 "cells": [
  {
   "attachments": {},
   "cell_type": "markdown",
   "metadata": {},
   "source": [
    "## Method1 - Heap\n",
    "https://www.youtube.com/watch?v=hOjcdrqMoQ8"
   ]
  },
  {
   "cell_type": "code",
   "execution_count": 1,
   "metadata": {},
   "outputs": [
    {
     "data": {
      "text/plain": [
       "8"
      ]
     },
     "execution_count": 1,
     "metadata": {},
     "output_type": "execute_result"
    }
   ],
   "source": [
    "import heapq\n",
    "class KthLargest:\n",
    "\n",
    "    def __init__(self, k, nums):\n",
    "        self.minHeap, self.k = nums, k\n",
    "        heapq.heapify(self.minHeap)\n",
    "        while len(self.minHeap)>self.k:\n",
    "            heapq.heappop(self.minHeap)\n",
    "\n",
    "    def add(self, val):\n",
    "        heapq.heappush(self.minHeap, val)\n",
    "        if len(self.minHeap) > self.k:\n",
    "            heapq.heappop(self.minHeap)\n",
    "        return self.minHeap[0]\n",
    "\n",
    "\n",
    "kthLargest = KthLargest(3, [4, 5, 8, 2])\n",
    "kthLargest.add(3) #  // return 4\n",
    "kthLargest.add(5) #  // return 5\n",
    "kthLargest.add(10)#  // return 5\n",
    "kthLargest.add(9)#  // return 8\n",
    "kthLargest.add(4)# // return 8"
   ]
  }
 ],
 "metadata": {
  "kernelspec": {
   "display_name": "leetcode_env",
   "language": "python",
   "name": "leetcode_env"
  },
  "language_info": {
   "codemirror_mode": {
    "name": "ipython",
    "version": 3
   },
   "file_extension": ".py",
   "mimetype": "text/x-python",
   "name": "python",
   "nbconvert_exporter": "python",
   "pygments_lexer": "ipython3",
   "version": "3.8.6"
  },
  "orig_nbformat": 4
 },
 "nbformat": 4,
 "nbformat_minor": 2
}
