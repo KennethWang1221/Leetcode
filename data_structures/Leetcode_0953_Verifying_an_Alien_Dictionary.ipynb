{
 "cells": [
  {
   "cell_type": "code",
   "execution_count": 30,
   "metadata": {},
   "outputs": [
    {
     "name": "stdout",
     "output_type": "stream",
     "text": [
      "True\n"
     ]
    }
   ],
   "source": [
    "def isAlienSorted(words, order):\n",
    "    order_dict = {}\n",
    "    new_words = []\n",
    "    for index, value in enumerate(order):\n",
    "        order_dict[value] = order_dict.get(value, 0) + index\n",
    "    \n",
    "    for w in words:\n",
    "        temp = []\n",
    "        for index, value in enumerate(w):\n",
    "            temp.append(order_dict.get(value,0))\n",
    "        new_words.append(temp)\n",
    "    for w1, w2 in zip(new_words, new_words[1:]):\n",
    "        if w1 > w2:\n",
    "            return False\n",
    "        \n",
    "    return True\n",
    "\n",
    "words = [\"word\",\"world\",\"row\"]\n",
    "order = \"worldabcefghijkmnpqstuvxyz\"\n",
    "words = [\"hello\",\"leetcode\"]\n",
    "order = \"hlabcdefgijkmnopqrstuvwxyz\"\n",
    "res = isAlienSorted(words, order)\n",
    "print(res)"
   ]
  },
  {
   "cell_type": "markdown",
   "metadata": {},
   "source": [
    "learning from https://leetcode.com/problems/verifying-an-alien-dictionary/discuss/361525/Python-Solution-with-Detailed-Explaination-for-Beginner"
   ]
  },
  {
   "cell_type": "code",
   "execution_count": 5,
   "metadata": {},
   "outputs": [
    {
     "name": "stdout",
     "output_type": "stream",
     "text": [
      "[[1, 2, 3], [4, 5, 6], [7, 8, 9]]\n",
      "[[1, 2, 3], [4, 5, 6], [7, 8, 9]] [[4, 5, 6], [7, 8, 9]]\n"
     ]
    }
   ],
   "source": [
    "new_words = [[1,2,3], [4,5,6], [7,8,9]]\n",
    "print(new_words)\n",
    "print(new_words, new_words[1:])\n"
   ]
  },
  {
   "cell_type": "code",
   "execution_count": 7,
   "metadata": {},
   "outputs": [
    {
     "name": "stdout",
     "output_type": "stream",
     "text": [
      "[1, 2, 3] [4, 5, 6]\n",
      "==========\n",
      "[4, 5, 6] [7, 8, 9]\n",
      "==========\n"
     ]
    }
   ],
   "source": [
    "for w1, w2 in zip(new_words, new_words[1:]):\n",
    "    print(w1,w2)\n",
    "    print(\"=\"*10)"
   ]
  },
  {
   "cell_type": "code",
   "execution_count": 12,
   "metadata": {},
   "outputs": [
    {
     "name": "stdout",
     "output_type": "stream",
     "text": [
      "(1, 5) <class 'tuple'>\n",
      "[1, 5] <class 'list'>\n",
      "==========\n",
      "(2, 6) <class 'tuple'>\n",
      "[2, 6] <class 'list'>\n",
      "==========\n",
      "(3, 7) <class 'tuple'>\n",
      "[3, 7] <class 'list'>\n",
      "==========\n",
      "(4, 8) <class 'tuple'>\n",
      "[4, 8] <class 'list'>\n",
      "==========\n"
     ]
    }
   ],
   "source": [
    "a = [1,2,3,4]\n",
    "b = [5,6,7,8]\n",
    "for a1, b2 in zip(a,b):\n",
    "    zipped = (a1,b2)\n",
    "    print(zipped, type(zipped))\n",
    "    zipped_list = list(zipped)\n",
    "    print(zipped_list, type(zipped_list))\n",
    "    print(\"=\"*10)"
   ]
  },
  {
   "cell_type": "code",
   "execution_count": 28,
   "metadata": {},
   "outputs": [
    {
     "name": "stdout",
     "output_type": "stream",
     "text": [
      "[0, 1, 2] [0, 1, 2]\n",
      "[0, 1, 2] [2, 1, 0]\n"
     ]
    }
   ],
   "source": [
    "a = [[0,1,2], [0,1,2], [2,1,0]]\n",
    "\n",
    "for w1, w2 in zip(a, a[1:]):\n",
    "    print(w1,w2)"
   ]
  },
  {
   "cell_type": "markdown",
   "metadata": {},
   "source": [
    "Similar strategy:<br> \n",
    "Leetcode_0383_Ransom_Note.ipynb<br>\n",
    "Leetcode_0202_Happy_Number.ipynb<br>\n",
    "Leetcode_0349_Intersection_of_two_arrays.ipynb<br>\n",
    "Leetcode_1002_Find_Common_Characters.ipynb<br>\n",
    "Leetcode_0242_Valid_Anagram.ipynb<br>"
   ]
  }
 ],
 "metadata": {
  "kernelspec": {
   "display_name": "Python 3.8.6 64-bit ('leetcode_env')",
   "language": "python",
   "name": "python3"
  },
  "language_info": {
   "codemirror_mode": {
    "name": "ipython",
    "version": 3
   },
   "file_extension": ".py",
   "mimetype": "text/x-python",
   "name": "python",
   "nbconvert_exporter": "python",
   "pygments_lexer": "ipython3",
   "version": "3.8.6"
  },
  "orig_nbformat": 4,
  "vscode": {
   "interpreter": {
    "hash": "846fd2d9bb562a436898b7cc368204fc2f9d44e5e9b051b4f6e855e721078f23"
   }
  }
 },
 "nbformat": 4,
 "nbformat_minor": 2
}
