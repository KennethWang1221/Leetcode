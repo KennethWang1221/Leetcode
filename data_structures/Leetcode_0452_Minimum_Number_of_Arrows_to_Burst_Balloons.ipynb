{
 "cells": [
  {
   "cell_type": "markdown",
   "metadata": {},
   "source": [
    "## Method1 - Intervals\n",
    "https://www.google.com/search?q=minimum+number+of+arrows+to+burst+balloons+intervals+in+python&oq=Minimum+Number+of+Arrows+to+Burst+Balloons+intervals+&gs_lcrp=EgZjaHJvbWUqBwgBECEYoAEyBggAEEUYOTIHCAEQIRigATIHCAIQIRigATIHCAMQIRigATIHCAQQIRigATIHCAUQIRigAdIBCDYwODZqMGo0qAIAsAIA&sourceid=chrome&ie=UTF-8#fpstate=ive&ip=1&vld=cid:4a575f8c,vid:_WIFehFkkig,st:0"
   ]
  },
  {
   "cell_type": "code",
   "execution_count": 9,
   "metadata": {},
   "outputs": [
    {
     "name": "stdout",
     "output_type": "stream",
     "text": [
      "2\n"
     ]
    }
   ],
   "source": [
    "def findMinArrowShots(points):\n",
    "    if not points: return 0\n",
    "    points.sort()\n",
    "    prev = points[0]\n",
    "    total = 1\n",
    "    for s, e in points[1:]:\n",
    "        if s > prev[1]:\n",
    "            total+=1\n",
    "            prev = [s,e]\n",
    "        else:\n",
    "            prev[1] = min(prev[1],e)\n",
    "    \n",
    "    return total\n",
    "    \n",
    "points = [[10,16],[2,8],[1,6],[7,12]]\n",
    "#points = [[1,2],[2,3],[3,4],[4,5]]\n",
    "res = findMinArrowShots(points)\n",
    "print(res)"
   ]
  },
  {
   "cell_type": "markdown",
   "metadata": {},
   "source": [
    "## Practice"
   ]
  },
  {
   "cell_type": "code",
   "execution_count": 11,
   "metadata": {},
   "outputs": [
    {
     "name": "stdout",
     "output_type": "stream",
     "text": [
      "2\n"
     ]
    }
   ],
   "source": [
    "def findMinArrowShots(points):\n",
    "    if points ==0: return None\n",
    "    points.sort()\n",
    "    prev = points[0]\n",
    "    total = 1\n",
    "\n",
    "    for left,right in points[1:]:\n",
    "        if left > prev[1]:\n",
    "            prev = [left,right]\n",
    "            total+=1\n",
    "        else:\n",
    "            prev[1] = min(prev[1],right)\n",
    "    return total\n",
    "\n",
    "    \n",
    "points = [[10,16],[2,8],[1,6],[7,12]]\n",
    "points = [[1,2],[2,3],[3,4],[4,5]]\n",
    "res = findMinArrowShots(points)\n",
    "print(res)"
   ]
  }
 ],
 "metadata": {
  "kernelspec": {
   "display_name": "leetcode_env",
   "language": "python",
   "name": "leetcode_env"
  },
  "language_info": {
   "codemirror_mode": {
    "name": "ipython",
    "version": 3
   },
   "file_extension": ".py",
   "mimetype": "text/x-python",
   "name": "python",
   "nbconvert_exporter": "python",
   "pygments_lexer": "ipython3",
   "version": "3.8.6"
  }
 },
 "nbformat": 4,
 "nbformat_minor": 2
}
