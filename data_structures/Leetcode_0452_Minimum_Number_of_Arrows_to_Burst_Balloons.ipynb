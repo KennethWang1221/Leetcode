{
 "cells": [
  {
   "cell_type": "markdown",
   "metadata": {},
   "source": [
    "## Method1 - Intervals\n",
    "https://www.youtube.com/watch?v=_WIFehFkkig"
   ]
  },
  {
   "cell_type": "code",
   "execution_count": 1,
   "metadata": {},
   "outputs": [
    {
     "name": "stdout",
     "output_type": "stream",
     "text": [
      "2\n"
     ]
    }
   ],
   "source": [
    "def findMinArrowShots(points):\n",
    "    if not points: return 0\n",
    "    points.sort()\n",
    "    prev = points[0]\n",
    "    total = 1\n",
    "    for s, e in points[1:]:\n",
    "        if s > prev[1]:\n",
    "            total+=1\n",
    "            prev = [s,e]\n",
    "        else:\n",
    "            prev[1] = min(prev[1],e)\n",
    "    \n",
    "    return total\n",
    "    \n",
    "points = [[10,16],[2,8],[1,6],[7,12]]\n",
    "#points = [[1,2],[2,3],[3,4],[4,5]]\n",
    "res = findMinArrowShots(points)\n",
    "print(res)"
   ]
  },
  {
   "cell_type": "markdown",
   "metadata": {},
   "source": [
    "## Method2 - Greedy\n",
    "https://github.com/youngyangyang04/leetcode-master/blob/master/problems/0452.%E7%94%A8%E6%9C%80%E5%B0%91%E6%95%B0%E9%87%8F%E7%9A%84%E7%AE%AD%E5%BC%95%E7%88%86%E6%B0%94%E7%90%83.md"
   ]
  },
  {
   "cell_type": "code",
   "execution_count": 2,
   "metadata": {},
   "outputs": [
    {
     "name": "stdout",
     "output_type": "stream",
     "text": [
      "2\n"
     ]
    }
   ],
   "source": [
    "def findMinArrowShots(points):\n",
    "    n = len(points)\n",
    "    if n == 0: return 0\n",
    "    points.sort(key=lambda x: x[0])\n",
    "    result = 1\n",
    "    for i in range(1, n):\n",
    "        if points[i][0] > points[i - 1][1]: # 气球i和气球i-1不挨着，注意这里不是>=\n",
    "            result += 1     \n",
    "        else:\n",
    "            points[i][1] = min(points[i - 1][1], points[i][1]) # 更新重叠气球最小右边界\n",
    "    return result\n",
    "    \n",
    "points = [[10,16],[2,8],[1,6],[7,12]]\n",
    "#points = [[1,2],[2,3],[3,4],[4,5]]\n",
    "res = findMinArrowShots(points)\n",
    "print(res)"
   ]
  },
  {
   "cell_type": "code",
   "execution_count": 3,
   "metadata": {},
   "outputs": [
    {
     "name": "stdout",
     "output_type": "stream",
     "text": [
      "2\n"
     ]
    }
   ],
   "source": [
    "def findMinArrowShots(points):\n",
    "    n = len(points)\n",
    "    if n == 0: return 0\n",
    "    points.sort(key=lambda x: x[0])\n",
    "    result = 1\n",
    "    for i in range(1, n):\n",
    "        if points[i][0] > points[i - 1][1]: # 气球i和气球i-1不挨着，注意这里不是>=\n",
    "            result += 1     \n",
    "        else:\n",
    "            points[i][1] = min(points[i - 1][1], points[i][1]) # 更新重叠气球最小右边界\n",
    "    return result\n",
    "    \n",
    "points = [[10,16],[2,8],[1,6],[7,12]]\n",
    "#points = [[1,2],[2,3],[3,4],[4,5]]\n",
    "res = findMinArrowShots(points)\n",
    "print(res)"
   ]
  },
  {
   "cell_type": "markdown",
   "metadata": {},
   "source": [
    "Recap"
   ]
  },
  {
   "cell_type": "code",
   "execution_count": 4,
   "metadata": {},
   "outputs": [
    {
     "name": "stdout",
     "output_type": "stream",
     "text": [
      "2\n"
     ]
    }
   ],
   "source": [
    "def findMinArrowShots(points):\n",
    "    if points ==0: return None\n",
    "    points.sort()\n",
    "    prev = points[0]\n",
    "    total = 1\n",
    "\n",
    "    for left,right in points[1:]:\n",
    "        if left > prev[1]:\n",
    "            prev = [left,right]\n",
    "            total+=1\n",
    "        else:\n",
    "            prev[1] = min(prev[1],right)\n",
    "    return total\n",
    "\n",
    "    \n",
    "points = [[10,16],[2,8],[1,6],[7,12]]\n",
    "points = [[1,2],[2,3],[3,4],[4,5]]\n",
    "res = findMinArrowShots(points)\n",
    "print(res)"
   ]
  }
 ],
 "metadata": {
  "kernelspec": {
   "display_name": "test_env",
   "language": "python",
   "name": "python3"
  },
  "language_info": {
   "codemirror_mode": {
    "name": "ipython",
    "version": 3
   },
   "file_extension": ".py",
   "mimetype": "text/x-python",
   "name": "python",
   "nbconvert_exporter": "python",
   "pygments_lexer": "ipython3",
   "version": "3.8.6"
  }
 },
 "nbformat": 4,
 "nbformat_minor": 2
}
