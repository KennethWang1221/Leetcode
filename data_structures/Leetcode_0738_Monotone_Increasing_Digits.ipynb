{
 "cells": [
  {
   "cell_type": "markdown",
   "metadata": {},
   "source": [
    "## Method1 - Greedy\n",
    "https://github.com/youngyangyang04/leetcode-master/blob/master/problems/0738.%E5%8D%95%E8%B0%83%E9%80%92%E5%A2%9E%E7%9A%84%E6%95%B0%E5%AD%97.md"
   ]
  },
  {
   "cell_type": "code",
   "execution_count": 4,
   "metadata": {},
   "outputs": [
    {
     "name": "stdout",
     "output_type": "stream",
     "text": [
      "9\n"
     ]
    }
   ],
   "source": [
    "def monotoneIncreasingDigits(N):\n",
    "    # 将整数转换为字符串\n",
    "    strNum = str(N)\n",
    "    # flag用来标记赋值9从哪里开始\n",
    "    # 设置为字符串长度，为了防止第二个for循环在flag没有被赋值的情况下执行\n",
    "    flag = len(strNum)\n",
    "    \n",
    "    # 从右往左遍历字符串\n",
    "    for i in range(len(strNum) - 1, 0, -1):\n",
    "        # 如果当前字符比前一个字符小，说明需要修改前一个字符\n",
    "        if strNum[i - 1] > strNum[i]:\n",
    "            flag = i  # 更新flag的值，记录需要修改的位置\n",
    "            # 将前一个字符减1，以保证递增性质\n",
    "            strNum = strNum[:i - 1] + str(int(strNum[i - 1]) - 1) + strNum[i:]\n",
    "    \n",
    "    # 将flag位置及之后的字符都修改为9，以保证最大的递增数字\n",
    "    for i in range(flag, len(strNum)):\n",
    "        strNum = strNum[:i] + '9' + strNum[i + 1:]\n",
    "    \n",
    "    # 将最终的字符串转换回整数并返回\n",
    "    return int(strNum)\n",
    "\n",
    "print(monotoneIncreasingDigits(N=10))\n"
   ]
  },
  {
   "cell_type": "code",
   "execution_count": 5,
   "metadata": {},
   "outputs": [
    {
     "name": "stdout",
     "output_type": "stream",
     "text": [
      "9\n"
     ]
    }
   ],
   "source": [
    "def monotoneIncreasingDigits(N):\n",
    "    # 将整数转换为字符串\n",
    "    strNum = list(str(N))\n",
    "\n",
    "    # 从右往左遍历字符串\n",
    "    for i in range(len(strNum) - 1, 0, -1):\n",
    "        # 如果当前字符比前一个字符小，说明需要修改前一个字符\n",
    "        if strNum[i - 1] > strNum[i]:\n",
    "            strNum[i - 1] = str(int(strNum[i - 1]) - 1)  # 将前一个字符减1\n",
    "            # 将修改位置后面的字符都设置为9，因为修改前一个字符可能破坏了递增性质\n",
    "            for j in range(i, len(strNum)):\n",
    "                strNum[j] = '9'\n",
    "\n",
    "    # 将列表转换为字符串，并将字符串转换为整数并返回\n",
    "    return int(''.join(strNum))\n",
    "\n",
    "print(monotoneIncreasingDigits(N=10))\n"
   ]
  },
  {
   "cell_type": "code",
   "execution_count": 6,
   "metadata": {},
   "outputs": [
    {
     "name": "stdout",
     "output_type": "stream",
     "text": [
      "9\n"
     ]
    }
   ],
   "source": [
    "def monotoneIncreasingDigits(N):\n",
    "    # 将整数转换为字符串\n",
    "    strNum = list(str(N))\n",
    "\n",
    "    # 从右往左遍历字符串\n",
    "    for i in range(len(strNum) - 1, 0, -1):\n",
    "        # 如果当前字符比前一个字符小，说明需要修改前一个字符\n",
    "        if strNum[i - 1] > strNum[i]:\n",
    "            strNum[i - 1] = str(int(strNum[i - 1]) - 1)  # 将前一个字符减1\n",
    "            # 将修改位置后面的字符都设置为9，因为修改前一个字符可能破坏了递增性质\n",
    "            strNum[i:] = '9' * (len(strNum) - i)\n",
    "\n",
    "    # 将列表转换为字符串，并将字符串转换为整数并返回\n",
    "    return int(''.join(strNum))\n",
    "\n",
    "print(monotoneIncreasingDigits(N=10))\n"
   ]
  },
  {
   "cell_type": "code",
   "execution_count": 7,
   "metadata": {},
   "outputs": [
    {
     "name": "stdout",
     "output_type": "stream",
     "text": [
      "9\n"
     ]
    }
   ],
   "source": [
    "def monotoneIncreasingDigits(N):\n",
    "    strNum = str(N)        \n",
    "    for i in range(len(strNum) - 1, 0, -1):\n",
    "        # 如果当前字符比前一个字符小，说明需要修改前一个字符\n",
    "        if strNum[i - 1] > strNum[i]:\n",
    "            # 将前一个字符减1，以保证递增性质\n",
    "            # 使用字符串切片操作将修改后的前面部分与后面部分进行拼接\n",
    "            strNum = strNum[:i - 1] + str(int(strNum[i - 1]) - 1) + '9' * (len(strNum) - i)       \n",
    "    return int(strNum)\n",
    "\n",
    "print(monotoneIncreasingDigits(N=10))\n"
   ]
  },
  {
   "cell_type": "markdown",
   "metadata": {},
   "source": [
    "## Method2 - Brute-Force\n",
    "https://github.com/youngyangyang04/leetcode-master/blob/master/problems/0738.%E5%8D%95%E8%B0%83%E9%80%92%E5%A2%9E%E7%9A%84%E6%95%B0%E5%AD%97.md"
   ]
  },
  {
   "cell_type": "code",
   "execution_count": 3,
   "metadata": {},
   "outputs": [
    {
     "name": "stdout",
     "output_type": "stream",
     "text": [
      "9\n"
     ]
    }
   ],
   "source": [
    "def checkNum(num):\n",
    "    max_digit = 10\n",
    "    while num:\n",
    "        digit = num % 10\n",
    "        if max_digit >= digit:\n",
    "            max_digit = digit\n",
    "        else:\n",
    "            return False\n",
    "        num //= 10\n",
    "    return True\n",
    "\n",
    "def monotoneIncreasingDigits(N):\n",
    "    for i in range(N, 0, -1):\n",
    "        if checkNum(i):\n",
    "            return i\n",
    "    return 0\n",
    "\n",
    "print(monotoneIncreasingDigits(N=10))\n"
   ]
  }
 ],
 "metadata": {
  "kernelspec": {
   "display_name": "test_env",
   "language": "python",
   "name": "python3"
  },
  "language_info": {
   "codemirror_mode": {
    "name": "ipython",
    "version": 3
   },
   "file_extension": ".py",
   "mimetype": "text/x-python",
   "name": "python",
   "nbconvert_exporter": "python",
   "pygments_lexer": "ipython3",
   "version": "3.8.6"
  }
 },
 "nbformat": 4,
 "nbformat_minor": 2
}
