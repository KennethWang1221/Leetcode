{
 "cells": [
  {
   "cell_type": "markdown",
   "metadata": {},
   "source": [
    "## Method1 - Greedy\n",
    "\n",
    "https://www.youtube.com/watch?v=QhPdNS143Qg"
   ]
  },
  {
   "cell_type": "code",
   "execution_count": 1,
   "metadata": {},
   "outputs": [
    {
     "name": "stdout",
     "output_type": "stream",
     "text": [
      "True\n"
     ]
    }
   ],
   "source": [
    "# Greedy: O(n)\n",
    "def checkValidString(s):\n",
    "    leftMin, leftMax = 0, 0\n",
    "\n",
    "    for c in s:\n",
    "        if c == \"(\":\n",
    "            leftMin, leftMax = leftMin + 1, leftMax + 1\n",
    "        elif c == \")\":\n",
    "            leftMin, leftMax = leftMin - 1, leftMax - 1\n",
    "        else:\n",
    "            leftMin, leftMax = leftMin - 1, leftMax + 1\n",
    "        if leftMax < 0:\n",
    "            return False\n",
    "        if leftMin < 0:  # required because -> s = ( * ) (\n",
    "            leftMin = 0\n",
    "    return leftMin == 0\n",
    "print(checkValidString(s = \"()\"))"
   ]
  },
  {
   "cell_type": "markdown",
   "metadata": {},
   "source": [
    "## Method2 - DP\n",
    "\n",
    "https://www.youtube.com/watch?v=QhPdNS143Qg"
   ]
  },
  {
   "cell_type": "code",
   "execution_count": null,
   "metadata": {},
   "outputs": [],
   "source": [
    "# Dynamic Programming: O(n^2)\n",
    "def checkValidString(s):\n",
    "    dp = {(len(s), 0): True}  # key=(i, leftCount) -> isValid\n",
    "\n",
    "    def dfs(i, left):\n",
    "        if i == len(s) or left < 0:\n",
    "            return left == 0\n",
    "        if (i, left) in dp:\n",
    "            return dp[(i, left)]\n",
    "\n",
    "        if s[i] == \"(\":\n",
    "            dp[(i, left)] = dfs(i + 1, left + 1)\n",
    "        elif s[i] == \")\":\n",
    "            dp[(i, left)] = dfs(i + 1, left - 1)\n",
    "        else:\n",
    "            dp[(i, left)] = (\n",
    "                dfs(i + 1, left + 1) or dfs(i + 1, left - 1) or dfs(i + 1, left)\n",
    "            )\n",
    "        return dp[(i, left)]\n",
    "\n",
    "    return dfs(0, 0)\n",
    "print(checkValidString(s = \"()\"))"
   ]
  }
 ],
 "metadata": {
  "kernelspec": {
   "display_name": "leetcode_env",
   "language": "python",
   "name": "python3"
  },
  "language_info": {
   "codemirror_mode": {
    "name": "ipython",
    "version": 3
   },
   "file_extension": ".py",
   "mimetype": "text/x-python",
   "name": "python",
   "nbconvert_exporter": "python",
   "pygments_lexer": "ipython3",
   "version": "3.8.6"
  }
 },
 "nbformat": 4,
 "nbformat_minor": 2
}
