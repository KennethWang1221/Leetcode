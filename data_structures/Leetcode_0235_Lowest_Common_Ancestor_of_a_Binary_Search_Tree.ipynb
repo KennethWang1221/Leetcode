{
 "cells": [
  {
   "cell_type": "markdown",
   "metadata": {},
   "source": [
    "## Method1\n",
    "https://www.youtube.com/watch?v=gs2LMfuOR9k"
   ]
  },
  {
   "cell_type": "code",
   "execution_count": 5,
   "metadata": {},
   "outputs": [
    {
     "name": "stdout",
     "output_type": "stream",
     "text": [
      "<__main__.TreeNode object at 0x10605a3d0>\n"
     ]
    }
   ],
   "source": [
    "class TreeNode(object):\n",
    "    def __init__(self, x):\n",
    "        if x == None:\n",
    "            self.val = None\n",
    "        else:\n",
    "            self.val = x\n",
    "        self.left = None\n",
    "        self.right = None \n",
    "\n",
    "def lowestCommonAncestor(root, p, q):\n",
    "    if root == None: return \n",
    "    cur = root\n",
    "\n",
    "    while cur:\n",
    "        if p.val>cur.val and q.val>cur.val: cur = cur.right\n",
    "        elif p.val<cur.val and q.val<cur.val: cur = cur.left\n",
    "        else: return cur\n",
    "\n",
    "    \n",
    "    \n",
    "n1 = TreeNode(6)\n",
    "n2 = TreeNode(2)\n",
    "n3 = TreeNode(8)\n",
    "n4 = TreeNode(0)\n",
    "n5 = TreeNode(4)\n",
    "n6 = TreeNode(7)\n",
    "n7 = TreeNode(9)\n",
    "n8 = TreeNode(3)\n",
    "n9 = TreeNode(5)\n",
    "\n",
    "n1.left = n2\n",
    "n1.right = n3\n",
    "n2.left = n4\n",
    "n2.right = n5\n",
    "n3.left = n6\n",
    "n3.right = n7\n",
    "n5.left = n8\n",
    "n5.right = n9\n",
    "p, q = n2, n5\n",
    "res = lowestCommonAncestor(n1, p, q)\n",
    "print(res)"
   ]
  },
  {
   "cell_type": "code",
   "execution_count": 2,
   "metadata": {},
   "outputs": [
    {
     "name": "stdout",
     "output_type": "stream",
     "text": [
      "\n",
      "    ______6__\n",
      "   /         \\\n",
      "  2__         8\n",
      " /   \\       / \\\n",
      "0     4     7   9\n",
      "     / \\\n",
      "    3   5\n",
      "\n"
     ]
    }
   ],
   "source": [
    "from binarytree import tree, bst, heap, Node\n",
    "n1 = Node(6)\n",
    "n2 = Node(2)\n",
    "n3 = Node(8)\n",
    "n4 = Node(0)\n",
    "n5 = Node(4)\n",
    "n6 = Node(7)\n",
    "n7 = Node(9)\n",
    "n8 = Node(3)\n",
    "n9 = Node(5)\n",
    "\n",
    "n1.left = n2\n",
    "n1.right = n3\n",
    "n2.left = n4\n",
    "n2.right = n5\n",
    "n3.left = n6\n",
    "n3.right = n7\n",
    "n5.left = n8\n",
    "n5.right = n9\n",
    "print(n1)"
   ]
  }
 ],
 "metadata": {
  "kernelspec": {
   "display_name": "Python 3.8.6 64-bit ('leetcode_env')",
   "language": "python",
   "name": "python3"
  },
  "language_info": {
   "codemirror_mode": {
    "name": "ipython",
    "version": 3
   },
   "file_extension": ".py",
   "mimetype": "text/x-python",
   "name": "python",
   "nbconvert_exporter": "python",
   "pygments_lexer": "ipython3",
   "version": "3.8.6"
  },
  "orig_nbformat": 4,
  "vscode": {
   "interpreter": {
    "hash": "846fd2d9bb562a436898b7cc368204fc2f9d44e5e9b051b4f6e855e721078f23"
   }
  }
 },
 "nbformat": 4,
 "nbformat_minor": 2
}
