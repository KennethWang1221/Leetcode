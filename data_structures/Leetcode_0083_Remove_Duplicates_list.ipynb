{
 "cells": [
  {
   "cell_type": "markdown",
   "metadata": {},
   "source": [
    "## Method1"
   ]
  },
  {
   "cell_type": "code",
   "execution_count": 1,
   "metadata": {},
   "outputs": [
    {
     "name": "stdout",
     "output_type": "stream",
     "text": [
      "1,1,2,3,3,\n",
      "1,2,3,\n"
     ]
    }
   ],
   "source": [
    "class ListNode:\n",
    "    def __init__(self, x):\n",
    "        self.val = x\n",
    "        self.next = None\n",
    "\n",
    "\n",
    "def make_list(arr):\n",
    "    head_node = None\n",
    "    p_node = None\n",
    "    for a in arr:\n",
    "        new_node = ListNode(a)\n",
    "        if head_node is None:\n",
    "            head_node = new_node\n",
    "            p_node = new_node\n",
    "        else:\n",
    "            p_node.next = new_node\n",
    "            p_node = new_node\n",
    "    return head_node\n",
    "\n",
    "\n",
    "def print_list(head):\n",
    "    while head is not None:\n",
    "        print(head.val, end=',')\n",
    "        head = head.next\n",
    "    print()\n",
    "\n",
    "\n",
    "class Solution:\n",
    "    \"\"\"\n",
    "    1. This time, I use cur and future to indicate two nodes, but there are many tricks\n",
    "    2. cur.next = future.next/ this code aims to delete/skip nodes.\n",
    "    3. Attention !!!! \n",
    "    \"\"\"\n",
    "    def deleteDuplicates(self, head):\n",
    "       dummy = ListNode(0)\n",
    "       dummy.next = head\n",
    "       pre = dummy\n",
    "       cur = dummy.next\n",
    "       future = dummy.next.next\n",
    "\n",
    "       while future !=None:\n",
    "           \"\"\"\n",
    "           here, we must use if--else and cannot use while-loop \n",
    "           because, while cur.val==future.val, it will report error\n",
    "           since the future may be to null, and when the future is null\n",
    "           the while cur.val == future.val is not legal in python\n",
    "           so we should use if-else, becuase if-loop is once, while-loop must satisfy\n",
    "           the False to jump to the while-loop\n",
    "           \"\"\"\n",
    "           if cur.val == future.val: \n",
    "               cur.next = future.next\n",
    "               future = cur.next # it is so important !!!! \n",
    "           else:\n",
    "               cur = future\n",
    "               future = cur.next # let cur and future go head \n",
    "            \n",
    "            # cur = cur.next\n",
    "            # #if cur.next != None:\n",
    "            # #    future = cur.next\n",
    "            # future = cur.next\n",
    "\n",
    "       return dummy.next\n",
    "\n",
    "head = make_list([1,1,2,3,3])\n",
    "print_list(head)\n",
    "s = Solution()\n",
    "head = s.deleteDuplicates(head)\n",
    "print_list(head)\n",
    "        "
   ]
  },
  {
   "cell_type": "code",
   "execution_count": 2,
   "metadata": {},
   "outputs": [
    {
     "name": "stdout",
     "output_type": "stream",
     "text": [
      "0,0,0,0,\n",
      "0,\n"
     ]
    }
   ],
   "source": [
    "head = make_list([0,0,0,0])\n",
    "print_list(head)\n",
    "s = Solution()\n",
    "head = s.deleteDuplicates(head)\n",
    "print_list(head)"
   ]
  },
  {
   "cell_type": "markdown",
   "metadata": {},
   "source": [
    "## Method2"
   ]
  },
  {
   "cell_type": "code",
   "execution_count": 4,
   "metadata": {},
   "outputs": [
    {
     "name": "stdout",
     "output_type": "stream",
     "text": [
      "1,1,2,3,3,\n",
      "1,2,3,"
     ]
    }
   ],
   "source": [
    "class ListNode:\n",
    "    def __init__(self, x):\n",
    "        self.val = x\n",
    "        self.next = None\n",
    "\n",
    "\n",
    "def make_list(arr):\n",
    "    head_node = None\n",
    "    p_node = None\n",
    "    for a in arr:\n",
    "        new_node = ListNode(a)\n",
    "        if head_node is None:\n",
    "            head_node = new_node\n",
    "            p_node = new_node\n",
    "        else:\n",
    "            p_node.next = new_node\n",
    "            p_node = new_node\n",
    "    return head_node\n",
    "\n",
    "\n",
    "def print_list(head):\n",
    "    while head is not None:\n",
    "        print(head.val, end=',')\n",
    "        head = head.next\n",
    "\n",
    "# https://github.com/425776024/easy_leetcode/blob/master/easyleetcode/leetcodes/Leetcode_083_Remove_Duplicates_from_Sorted_List.py\n",
    "# https://www.bilibili.com/video/BV1zK411L7Gg\n",
    "class Solution:\n",
    "    \"\"\"\n",
    "    1. Just use cur to indicate cur and cur.next these two nodes\n",
    "    2. It is different from method 2. Please carefully understand the meaning\n",
    "    \"\"\"\n",
    "    def deleteDuplicates(self, head):\n",
    "\n",
    "        if head == None or head.next==None:\n",
    "            return head\n",
    "        dummy = ListNode(0)\n",
    "        dummy.next = head\n",
    "        #pre = dummy\n",
    "        cur = dummy.next\n",
    "        #future = dummy.next.next\n",
    "        \n",
    "        while cur.next !=None:\n",
    "            if cur.val == cur.next.val: # just use cur.next to replace future\n",
    "                cur.next = cur.next.next\n",
    "            else:\n",
    "                cur = cur.next\n",
    "            \n",
    "            \n",
    "    \n",
    "        return dummy.next\n",
    "\n",
    "\n",
    "s = Solution()\n",
    "a = [1, 1, 2,3,3]\n",
    "head = make_list(a)\n",
    "print_list(head)\n",
    "head = s.deleteDuplicates(head)\n",
    "print()\n",
    "print_list(head)"
   ]
  },
  {
   "cell_type": "code",
   "execution_count": 5,
   "metadata": {},
   "outputs": [
    {
     "name": "stdout",
     "output_type": "stream",
     "text": [
      "0,0,0,0,\n",
      "0,"
     ]
    }
   ],
   "source": [
    "a = [0,0,0,0]\n",
    "head = make_list(a)\n",
    "print_list(head)\n",
    "s = Solution()\n",
    "head = s.deleteDuplicates(head)\n",
    "print()\n",
    "print_list(head)"
   ]
  },
  {
   "cell_type": "markdown",
   "metadata": {},
   "source": [
    "## Wrong Version"
   ]
  },
  {
   "cell_type": "code",
   "execution_count": 6,
   "metadata": {},
   "outputs": [
    {
     "name": "stdout",
     "output_type": "stream",
     "text": [
      "0,0,0,0,\n",
      "===\n"
     ]
    }
   ],
   "source": [
    "class ListNode:\n",
    "    def __init__(self, x):\n",
    "        self.val = x\n",
    "        self.next = None\n",
    "\n",
    "\n",
    "def make_list(arr):\n",
    "    head_node = None\n",
    "    p_node = None\n",
    "    for a in arr:\n",
    "        new_node = ListNode(a)\n",
    "        if head_node is None:\n",
    "            head_node = new_node\n",
    "            p_node = new_node\n",
    "        else:\n",
    "            p_node.next = new_node\n",
    "            p_node = new_node\n",
    "    return head_node\n",
    "\n",
    "\n",
    "def print_list(head):\n",
    "    while head is not None:\n",
    "        print(head.val, end=',')\n",
    "        head = head.next\n",
    "\n",
    "# https://github.com/425776024/easy_leetcode/blob/master/easyleetcode/leetcodes/Leetcode_083_Remove_Duplicates_from_Sorted_List.py\n",
    "# https://www.bilibili.com/video/BV1zK411L7Gg\n",
    "class Solution:\n",
    "    \"\"\"\n",
    "    1. Just use cur to indicate cur and cur.next these two nodes\n",
    "    2. It is different from method 2. Please carefully understand the meaning\n",
    "    \"\"\"\n",
    "    def deleteDuplicates(self, head):\n",
    "\n",
    "        if head == None:\n",
    "            return head\n",
    "        \n",
    "        dummy = ListNode(0)\n",
    "        dummy.next = head\n",
    "        pre = dummy\n",
    "        \n",
    "        cur = pre.next\n",
    "        \n",
    "        \n",
    "        while cur!=None:\n",
    "            if pre.val == cur.val:\n",
    "                pre.next = cur.next\n",
    "                cur = pre.next\n",
    "            else:\n",
    "                pre = pre.next\n",
    "                cur = cur.next\n",
    "        \n",
    "        return dummy.next\n",
    "\n",
    "\n",
    "\n",
    "s = Solution()\n",
    "a = [0,0,0,0]\n",
    "head = make_list(a)\n",
    "print_list(head)\n",
    "head = s.deleteDuplicates(head)\n",
    "print()\n",
    "print_list(head)\n",
    "print(\"===\")"
   ]
  },
  {
   "cell_type": "code",
   "execution_count": null,
   "metadata": {},
   "outputs": [],
   "source": []
  },
  {
   "cell_type": "markdown",
   "metadata": {},
   "source": [
    "## None value recap"
   ]
  },
  {
   "cell_type": "code",
   "execution_count": 7,
   "metadata": {},
   "outputs": [
    {
     "name": "stdout",
     "output_type": "stream",
     "text": [
      "1\n"
     ]
    },
    {
     "ename": "AttributeError",
     "evalue": "'NoneType' object has no attribute 'val'",
     "output_type": "error",
     "traceback": [
      "\u001b[0;31m---------------------------------------------------------------------------\u001b[0m",
      "\u001b[0;31mAttributeError\u001b[0m                            Traceback (most recent call last)",
      "\u001b[0;32m/var/folders/_0/t_q_3ydn61v2hbgddcm8pdz00000gn/T/ipykernel_86887/2426661304.py\u001b[0m in \u001b[0;36m<module>\u001b[0;34m\u001b[0m\n\u001b[1;32m      4\u001b[0m \u001b[0mprint\u001b[0m\u001b[0;34m(\u001b[0m\u001b[0mhead\u001b[0m\u001b[0;34m.\u001b[0m\u001b[0mval\u001b[0m\u001b[0;34m)\u001b[0m\u001b[0;34m\u001b[0m\u001b[0;34m\u001b[0m\u001b[0m\n\u001b[1;32m      5\u001b[0m \u001b[0;31m#print(b.val)\u001b[0m\u001b[0;34m\u001b[0m\u001b[0;34m\u001b[0m\u001b[0;34m\u001b[0m\u001b[0m\n\u001b[0;32m----> 6\u001b[0;31m \u001b[0;32mif\u001b[0m \u001b[0mhead\u001b[0m\u001b[0;34m.\u001b[0m\u001b[0mval\u001b[0m \u001b[0;34m==\u001b[0m \u001b[0mb\u001b[0m\u001b[0;34m.\u001b[0m\u001b[0mval\u001b[0m\u001b[0;34m:\u001b[0m\u001b[0;34m\u001b[0m\u001b[0;34m\u001b[0m\u001b[0m\n\u001b[0m\u001b[1;32m      7\u001b[0m     \u001b[0mprint\u001b[0m\u001b[0;34m(\u001b[0m\u001b[0;34m\"true\"\u001b[0m\u001b[0;34m)\u001b[0m\u001b[0;34m\u001b[0m\u001b[0;34m\u001b[0m\u001b[0m\n\u001b[1;32m      8\u001b[0m \u001b[0;32melse\u001b[0m\u001b[0;34m:\u001b[0m\u001b[0;34m\u001b[0m\u001b[0;34m\u001b[0m\u001b[0m\n",
      "\u001b[0;31mAttributeError\u001b[0m: 'NoneType' object has no attribute 'val'"
     ]
    }
   ],
   "source": [
    "a = [1]\n",
    "b = None\n",
    "head = make_list(a)\n",
    "print(head.val)\n",
    "#print(b.val)\n",
    "if head.val == b.val:\n",
    "    print(\"true\")\n",
    "else:\n",
    "    print(\"false\")"
   ]
  },
  {
   "cell_type": "code",
   "execution_count": 8,
   "metadata": {},
   "outputs": [
    {
     "name": "stdout",
     "output_type": "stream",
     "text": [
      "1\n",
      "None\n",
      "None\n",
      "false\n"
     ]
    }
   ],
   "source": [
    "a = [1]\n",
    "b = ListNode(None)\n",
    "head = make_list(a)\n",
    "print(head.val)\n",
    "print(b.val)\n",
    "if head.val == b.val:\n",
    "    print(\"true\")\n",
    "else:\n",
    "    a = None\n",
    "    print(a)\n",
    "    print(\"false\")"
   ]
  }
 ],
 "metadata": {
  "interpreter": {
   "hash": "846fd2d9bb562a436898b7cc368204fc2f9d44e5e9b051b4f6e855e721078f23"
  },
  "kernelspec": {
   "display_name": "Python 3.8.6 ('leetcode_env': conda)",
   "language": "python",
   "name": "python3"
  },
  "language_info": {
   "codemirror_mode": {
    "name": "ipython",
    "version": 3
   },
   "file_extension": ".py",
   "mimetype": "text/x-python",
   "name": "python",
   "nbconvert_exporter": "python",
   "pygments_lexer": "ipython3",
   "version": "3.8.6"
  },
  "orig_nbformat": 4
 },
 "nbformat": 4,
 "nbformat_minor": 2
}
