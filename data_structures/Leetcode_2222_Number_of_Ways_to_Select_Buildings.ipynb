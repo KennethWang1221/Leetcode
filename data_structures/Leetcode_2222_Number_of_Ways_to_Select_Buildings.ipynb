{
 "cells": [
  {
   "cell_type": "markdown",
   "metadata": {},
   "source": [
    "## Method1 - Array"
   ]
  },
  {
   "cell_type": "code",
   "execution_count": 1,
   "metadata": {},
   "outputs": [
    {
     "name": "stdout",
     "output_type": "stream",
     "text": [
      "2\n"
     ]
    }
   ],
   "source": [
    "def numberOfWays(s):\n",
    "    n = len(s)\n",
    "    \n",
    "    # prefixZero[i] = number of '0's in s[:i] (i.e. up to but not including index i)\n",
    "    # prefixOne[i]  = number of '1's in s[:i]\n",
    "    prefixZero = [0] * (n+1)\n",
    "    prefixOne = [0] * (n+1)\n",
    "\n",
    "    for i in range(n):\n",
    "        prefixZero[i+1] = prefixZero[i] + (1 if s[i] == '0' else 0)\n",
    "        prefixOne[i+1] = prefixOne[i] + (1 if s[i] == '1' else 0)\n",
    "\n",
    "    # suffixZero[i] = number of '0's in s[i:]\n",
    "    # suffixOne[i]  = number of '1's in s[i:]\n",
    "    suffixZero = [0] * (n+1)\n",
    "    suffixOne = [0] * (n+1)\n",
    "\n",
    "    for i in range(n-1, -1, -1):\n",
    "        suffixZero[i] = suffixZero[i+1] + (1 if s[i] == '0' else 0)\n",
    "        suffixOne[i] = suffixOne[i+1] + (1 if s[i] == '1' else 0)\n",
    "\n",
    "    total_ways = 0\n",
    "    \n",
    "    # Iterate over each position i, considering it as the middle of \"010\" or \"101\"\n",
    "    for i in range(n):\n",
    "        if s[i] == '1':\n",
    "            # Middle of \"010\"\n",
    "            left_zeros = prefixZero[i]     # # of '0's to the left (in s[:i])\n",
    "            right_zeros = suffixZero[i+1] # # of '0's to the right (in s[i+1:])\n",
    "            total_ways += left_zeros * right_zeros\n",
    "        else:\n",
    "            # Middle of \"101\"\n",
    "            left_ones = prefixOne[i]\n",
    "            right_ones = suffixOne[i+1]\n",
    "            total_ways += left_ones * right_ones\n",
    "    \n",
    "    return total_ways\n",
    "\n",
    "print(numberOfWays(\"0101\"))  # Example test\n"
   ]
  }
 ],
 "metadata": {
  "kernelspec": {
   "display_name": "leetcode_env",
   "language": "python",
   "name": "leetcode_env"
  },
  "language_info": {
   "codemirror_mode": {
    "name": "ipython",
    "version": 3
   },
   "file_extension": ".py",
   "mimetype": "text/x-python",
   "name": "python",
   "nbconvert_exporter": "python",
   "pygments_lexer": "ipython3",
   "version": "3.8.6"
  }
 },
 "nbformat": 4,
 "nbformat_minor": 2
}
