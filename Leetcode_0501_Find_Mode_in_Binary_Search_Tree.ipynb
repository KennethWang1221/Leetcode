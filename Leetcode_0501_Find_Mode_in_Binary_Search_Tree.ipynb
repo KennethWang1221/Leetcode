{
 "cells": [
  {
   "cell_type": "markdown",
   "metadata": {},
   "source": [
    "## Method1 - DFS - Iterative Inorder\n",
    "https://github.com/youngyangyang04/leetcode-master/blob/master/problems/0501.%E4%BA%8C%E5%8F%89%E6%90%9C%E7%B4%A2%E6%A0%91%E4%B8%AD%E7%9A%84%E4%BC%97%E6%95%B0.md"
   ]
  },
  {
   "cell_type": "markdown",
   "metadata": {},
   "source": [
    "BFS / DFS + hashset"
   ]
  },
  {
   "cell_type": "code",
   "execution_count": 44,
   "metadata": {},
   "outputs": [
    {
     "name": "stdout",
     "output_type": "stream",
     "text": [
      "[0]\n"
     ]
    }
   ],
   "source": [
    "class TreeNode(object):\n",
    "    def __init__(self, x):\n",
    "        if x == None:\n",
    "            self.val = None\n",
    "        else:\n",
    "            self.val = x\n",
    "        self.left = None\n",
    "        self.right = None \n",
    "\n",
    "def findMode(root):\n",
    "    if root == None: return \n",
    "    res = []\n",
    "    stack = []\n",
    "    cur = root\n",
    "    while cur or stack:\n",
    "        if cur:\n",
    "            stack.append(cur)\n",
    "            cur = cur.left\n",
    "        else:\n",
    "            cur = stack.pop(-1)\n",
    "            res.append(cur.val)\n",
    "            cur = cur.right\n",
    "            \n",
    "    output = {}\n",
    "    for i in res:\n",
    "        output[i] = output.get(i, 0) + 1\n",
    "    \n",
    "    opt = []\n",
    "    max_occur = max(output.values())\n",
    "    \n",
    "    for k, v in output.items():\n",
    "        if max_occur == v:\n",
    "            opt.append(k)\n",
    "    return opt\n",
    "    \n",
    "n1 = TreeNode(1)\n",
    "n2 = TreeNode(2)\n",
    "n3 = TreeNode(2)\n",
    "\n",
    "n1.right = n2\n",
    "n2.left = n3\n",
    "\n",
    "n4 = TreeNode(0)\n",
    "res = findMode(n4)\n",
    "print(res)"
   ]
  },
  {
   "cell_type": "markdown",
   "metadata": {},
   "source": [
    "## Method2-DFS-Iterative-Preorder"
   ]
  },
  {
   "cell_type": "code",
   "execution_count": 47,
   "metadata": {},
   "outputs": [
    {
     "name": "stdout",
     "output_type": "stream",
     "text": [
      "[2]\n"
     ]
    }
   ],
   "source": [
    "class TreeNode(object):\n",
    "    def __init__(self, x):\n",
    "        if x == None:\n",
    "            self.val = None\n",
    "        else:\n",
    "            self.val = x\n",
    "        self.left = None\n",
    "        self.right = None \n",
    "\n",
    "def findMode(root):\n",
    "    if root == None: return \n",
    "    res = []\n",
    "    stack = [root]\n",
    "    while stack:\n",
    "        cur = stack.pop(-1)\n",
    "        res.append(cur.val)\n",
    "        if cur.right:\n",
    "            stack.append(cur.right)\n",
    "        if cur.left:\n",
    "            stack.append(cur.left)\n",
    "    \n",
    "            \n",
    "    output = {}\n",
    "    for i in res:\n",
    "        output[i] = output.get(i, 0) + 1\n",
    "    \n",
    "    opt = []\n",
    "    max_occur = max(output.values())\n",
    "    \n",
    "    for k, v in output.items():\n",
    "        if max_occur == v:\n",
    "            opt.append(k)\n",
    "    return opt\n",
    "    \n",
    "n1 = TreeNode(1)\n",
    "n2 = TreeNode(2)\n",
    "n3 = TreeNode(2)\n",
    "\n",
    "n1.right = n2\n",
    "n2.left = n3\n",
    "\n",
    "n4 = TreeNode(0)\n",
    "res = findMode(n1)\n",
    "print(res)"
   ]
  },
  {
   "cell_type": "markdown",
   "metadata": {},
   "source": [
    "## Method3-BFS-Iterative"
   ]
  },
  {
   "cell_type": "code",
   "execution_count": 49,
   "metadata": {},
   "outputs": [
    {
     "name": "stdout",
     "output_type": "stream",
     "text": [
      "[2]\n"
     ]
    }
   ],
   "source": [
    "class TreeNode(object):\n",
    "    def __init__(self, x):\n",
    "        if x == None:\n",
    "            self.val = None\n",
    "        else:\n",
    "            self.val = x\n",
    "        self.left = None\n",
    "        self.right = None \n",
    "\n",
    "def findMode(root):\n",
    "    if root == None: return \n",
    "    res = []\n",
    "    que = [root]\n",
    "    while que:\n",
    "        level = []\n",
    "        n = len(que)\n",
    "        for i in range(n):\n",
    "            cur = que.pop(0)\n",
    "            level.append(cur.val)\n",
    "            if cur.left:\n",
    "                que.append(cur.left)\n",
    "            if cur.right:\n",
    "                que.append(cur.right)\n",
    "\n",
    "        res.extend(level)\n",
    "            \n",
    "    output = {}\n",
    "    for i in res:\n",
    "        output[i] = output.get(i, 0) + 1\n",
    "    \n",
    "    opt = []\n",
    "    max_occur = max(output.values())\n",
    "    \n",
    "    for k, v in output.items():\n",
    "        if max_occur == v:\n",
    "            opt.append(k)\n",
    "    return opt\n",
    "    \n",
    "n1 = TreeNode(1)\n",
    "n2 = TreeNode(2)\n",
    "n3 = TreeNode(2)\n",
    "\n",
    "n1.right = n2\n",
    "n2.left = n3\n",
    "\n",
    "n4 = TreeNode(0)\n",
    "res = findMode(n1)\n",
    "print(res)"
   ]
  },
  {
   "cell_type": "markdown",
   "metadata": {},
   "source": [
    "## Method4-DFS-Recursive"
   ]
  },
  {
   "cell_type": "code",
   "execution_count": 50,
   "metadata": {},
   "outputs": [
    {
     "name": "stdout",
     "output_type": "stream",
     "text": [
      "[2]\n"
     ]
    }
   ],
   "source": [
    "class TreeNode(object):\n",
    "    def __init__(self, x):\n",
    "        if x == None:\n",
    "            self.val = None\n",
    "        else:\n",
    "            self.val = x\n",
    "        self.left = None\n",
    "        self.right = None \n",
    "\n",
    "def findMode(root):\n",
    "    if root == None: return \n",
    "    res = []\n",
    "    def traversal(root):\n",
    "        if root == None: return\n",
    "        traversal(root.left)\n",
    "        res.append(root.val)\n",
    "        traversal(root.right)\n",
    "    \n",
    "    traversal(root)\n",
    "    output = {}\n",
    "    for i in res:\n",
    "        output[i] = output.get(i, 0) + 1\n",
    "    \n",
    "    opt = []\n",
    "    max_occur = max(output.values())\n",
    "    \n",
    "    for k, v in output.items():\n",
    "        if max_occur == v:\n",
    "            opt.append(k)\n",
    "    return opt\n",
    "    \n",
    "n1 = TreeNode(1)\n",
    "n2 = TreeNode(2)\n",
    "n3 = TreeNode(2)\n",
    "\n",
    "n1.right = n2\n",
    "n2.left = n3\n",
    "\n",
    "n4 = TreeNode(0)\n",
    "res = findMode(n1)\n",
    "print(res)"
   ]
  },
  {
   "cell_type": "code",
   "execution_count": 29,
   "metadata": {},
   "outputs": [
    {
     "name": "stdout",
     "output_type": "stream",
     "text": [
      "{1: 1, 2: 2, 8: 3}\n",
      "dict_keys([1, 2, 8]) 8\n",
      "dict_values([1, 2, 3]) 3\n",
      "1 1\n",
      "2 2\n",
      "8 3\n"
     ]
    }
   ],
   "source": [
    "res = [1, 2, 2, 8, 8, 8]\n",
    "output = {}\n",
    "for i in res:\n",
    "    output[i] = output.get(i, 0) + 1\n",
    "print(output)\n",
    "a = output.keys()\n",
    "print(a, max(a))\n",
    "b = output.values()\n",
    "print(b, max(b))\n",
    "for k, v in output.items():\n",
    "    print(k,v)"
   ]
  },
  {
   "cell_type": "code",
   "execution_count": 3,
   "metadata": {},
   "outputs": [
    {
     "name": "stdout",
     "output_type": "stream",
     "text": [
      "\n",
      "1__\n",
      "   \\\n",
      "    2\n",
      "   /\n",
      "  2\n",
      "\n"
     ]
    }
   ],
   "source": [
    "from binarytree import tree, bst, heap, Node\n",
    "n1 = Node(1)\n",
    "n2 = Node(2)\n",
    "n3 = Node(2)\n",
    "\n",
    "n1.right = n2\n",
    "n2.left = n3\n",
    "print(n1)"
   ]
  },
  {
   "cell_type": "code",
   "execution_count": 9,
   "metadata": {},
   "outputs": [
    {
     "name": "stdout",
     "output_type": "stream",
     "text": [
      "5\n",
      "1 2 1\n",
      "1 3 2\n",
      "1 4 3\n",
      "1 6 4\n"
     ]
    }
   ],
   "source": [
    "a = [1,2,3,4,6]\n",
    "min_abs = float(\"inf\")\n",
    "print(len(a))\n",
    "for i in range(1, len(a)):\n",
    "    min_abs = min(min_abs, a[i] - a[i-1])\n",
    "    print(min_abs, a[i], a[i-1])"
   ]
  }
 ],
 "metadata": {
  "kernelspec": {
   "display_name": "Python 3.8.6 64-bit ('leetcode_env')",
   "language": "python",
   "name": "python3"
  },
  "language_info": {
   "codemirror_mode": {
    "name": "ipython",
    "version": 3
   },
   "file_extension": ".py",
   "mimetype": "text/x-python",
   "name": "python",
   "nbconvert_exporter": "python",
   "pygments_lexer": "ipython3",
   "version": "3.8.6"
  },
  "orig_nbformat": 4,
  "vscode": {
   "interpreter": {
    "hash": "846fd2d9bb562a436898b7cc368204fc2f9d44e5e9b051b4f6e855e721078f23"
   }
  }
 },
 "nbformat": 4,
 "nbformat_minor": 2
}
