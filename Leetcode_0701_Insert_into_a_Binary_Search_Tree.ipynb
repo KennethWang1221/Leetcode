{
 "cells": [
  {
   "cell_type": "markdown",
   "metadata": {},
   "source": [
    "## Method1 - Iterative\n",
    "https://github.com/youngyangyang04/leetcode-master/blob/master/problems/0701.%E4%BA%8C%E5%8F%89%E6%90%9C%E7%B4%A2%E6%A0%91%E4%B8%AD%E7%9A%84%E6%8F%92%E5%85%A5%E6%93%8D%E4%BD%9C.md"
   ]
  },
  {
   "cell_type": "code",
   "execution_count": 5,
   "metadata": {},
   "outputs": [
    {
     "name": "stdout",
     "output_type": "stream",
     "text": [
      "<__main__.TreeNode object at 0x1084a4cd0>\n"
     ]
    }
   ],
   "source": [
    "class TreeNode(object):\n",
    "    def __init__(self, x):\n",
    "        if x == None:\n",
    "            self.val = None\n",
    "        else:\n",
    "            self.val = x\n",
    "        self.left = None\n",
    "        self.right = None \n",
    "\n",
    "def insertIntoBST(root, val):\n",
    "    if root == None: return TreeNode(val) \n",
    "    cur = root\n",
    "\n",
    "    # 用while循环不断地找新节点的parent\n",
    "    while cur:\n",
    "        parent = cur # 首先保存当前非空节点作为下一次迭代的父节点\n",
    "        if cur.val>val:\n",
    "            cur = cur.left\n",
    "        elif cur.val<val:\n",
    "            cur = cur.right\n",
    "    \n",
    "    # 运行到这意味着已经跳出上面的while循环, \n",
    "    # 同时意味着新节点的parent已经被找到.\n",
    "    # parent已被找到, 新节点已经ready. 把两个节点黏在一起就好了.\n",
    "    \n",
    "    if parent.val>val:\n",
    "        cur = TreeNode(val)\n",
    "        parent.left = cur\n",
    "    elif parent.val<val:\n",
    "        cur = TreeNode(val)\n",
    "        parent.right = cur\n",
    "\n",
    "    return root\n",
    "\n",
    "    \n",
    "    \n",
    "n1 = TreeNode(4)\n",
    "n2 = TreeNode(2)\n",
    "n3 = TreeNode(7)\n",
    "n4 = TreeNode(1)\n",
    "n5 = TreeNode(3)\n",
    "\n",
    "n1.left = n2\n",
    "n1.right = n3\n",
    "n2.left = n4\n",
    "n2.right = n5\n",
    "\n",
    "res = insertIntoBST(n1, val=5)\n",
    "print(res)"
   ]
  },
  {
   "cell_type": "markdown",
   "metadata": {},
   "source": [
    "## Method2-Recursive - without return value"
   ]
  },
  {
   "cell_type": "code",
   "execution_count": 7,
   "metadata": {},
   "outputs": [
    {
     "name": "stdout",
     "output_type": "stream",
     "text": [
      "<__main__.TreeNode object at 0x1084a4280>\n"
     ]
    }
   ],
   "source": [
    "class TreeNode(object):\n",
    "    def __init__(self, x):\n",
    "        if x == None:\n",
    "            self.val = None\n",
    "        else:\n",
    "            self.val = x\n",
    "        self.left = None\n",
    "        self.right = None \n",
    "\n",
    "def insertIntoBST(root, val):\n",
    "    if not root:    # for root==None\n",
    "        return TreeNode(val)\n",
    "    if root.val<val:\n",
    "        if root.right==None:    # find the parent\n",
    "            root.right = TreeNode(val)\n",
    "        else:   # not found, keep searching\n",
    "            insertIntoBST(root.right, val)\n",
    "    if root.val>val:\n",
    "        if root.left==None: # found the parent\n",
    "            root.left = TreeNode(val)\n",
    "        else:   # not found, keep searching\n",
    "            insertIntoBST(root.left, val)\n",
    "    # return the final tree\n",
    "    return root\n",
    "\n",
    "    \n",
    "    \n",
    "n1 = TreeNode(4)\n",
    "n2 = TreeNode(2)\n",
    "n3 = TreeNode(7)\n",
    "n4 = TreeNode(1)\n",
    "n5 = TreeNode(3)\n",
    "\n",
    "n1.left = n2\n",
    "n1.right = n3\n",
    "n2.left = n4\n",
    "n2.right = n5\n",
    "\n",
    "res = insertIntoBST(n1, val=5)\n",
    "print(res)"
   ]
  },
  {
   "cell_type": "markdown",
   "metadata": {},
   "source": [
    "## Method3 - Recursive - with return value"
   ]
  },
  {
   "cell_type": "code",
   "execution_count": 8,
   "metadata": {},
   "outputs": [
    {
     "name": "stdout",
     "output_type": "stream",
     "text": [
      "<__main__.TreeNode object at 0x1084a4370>\n"
     ]
    }
   ],
   "source": [
    "class TreeNode(object):\n",
    "    def __init__(self, x):\n",
    "        if x == None:\n",
    "            self.val = None\n",
    "        else:\n",
    "            self.val = x\n",
    "        self.left = None\n",
    "        self.right = None \n",
    "\n",
    "def insertIntoBST(root, val):\n",
    "    # 返回更新后的以当前root为根节点的新树，方便用于更新上一层的父子节点关系链\n",
    "\n",
    "    # Base Case\n",
    "    if not root: return TreeNode(val)\n",
    "\n",
    "    # 单层递归逻辑:\n",
    "    if val < root.val: \n",
    "        # 将val插入至当前root的左子树中合适的位置\n",
    "        # 并更新当前root的左子树为包含目标val的新左子树\n",
    "        root.left = insertIntoBST(root.left, val)\n",
    "\n",
    "    if root.val < val:\n",
    "        # 将val插入至当前root的右子树中合适的位置\n",
    "        # 并更新当前root的右子树为包含目标val的新右子树\n",
    "        root.right = insertIntoBST(root.right, val)\n",
    "\n",
    "    # 返回更新后的以当前root为根节点的新树\n",
    "    return root\n",
    "\n",
    "    \n",
    "    \n",
    "n1 = TreeNode(4)\n",
    "n2 = TreeNode(2)\n",
    "n3 = TreeNode(7)\n",
    "n4 = TreeNode(1)\n",
    "n5 = TreeNode(3)\n",
    "\n",
    "n1.left = n2\n",
    "n1.right = n3\n",
    "n2.left = n4\n",
    "n2.right = n5\n",
    "\n",
    "res = insertIntoBST(n1, val=5)\n",
    "print(res)"
   ]
  },
  {
   "cell_type": "code",
   "execution_count": 6,
   "metadata": {},
   "outputs": [
    {
     "name": "stdout",
     "output_type": "stream",
     "text": [
      "\n",
      "    ______6__\n",
      "   /         \\\n",
      "  2__         8\n",
      " /   \\       / \\\n",
      "0     4     7   9\n",
      "     / \\\n",
      "    3   5\n",
      "\n"
     ]
    }
   ],
   "source": [
    "from binarytree import tree, bst, heap, Node\n",
    "n1 = Node(6)\n",
    "n2 = Node(2)\n",
    "n3 = Node(8)\n",
    "n4 = Node(0)\n",
    "n5 = Node(4)\n",
    "n6 = Node(7)\n",
    "n7 = Node(9)\n",
    "n8 = Node(3)\n",
    "n9 = Node(5)\n",
    "\n",
    "n1.left = n2\n",
    "n1.right = n3\n",
    "n2.left = n4\n",
    "n2.right = n5\n",
    "n3.left = n6\n",
    "n3.right = n7\n",
    "n5.left = n8\n",
    "n5.right = n9\n",
    "print(n1)"
   ]
  }
 ],
 "metadata": {
  "kernelspec": {
   "display_name": "Python 3.8.6 64-bit ('leetcode_env')",
   "language": "python",
   "name": "python3"
  },
  "language_info": {
   "codemirror_mode": {
    "name": "ipython",
    "version": 3
   },
   "file_extension": ".py",
   "mimetype": "text/x-python",
   "name": "python",
   "nbconvert_exporter": "python",
   "pygments_lexer": "ipython3",
   "version": "3.8.6"
  },
  "orig_nbformat": 4,
  "vscode": {
   "interpreter": {
    "hash": "846fd2d9bb562a436898b7cc368204fc2f9d44e5e9b051b4f6e855e721078f23"
   }
  }
 },
 "nbformat": 4,
 "nbformat_minor": 2
}
