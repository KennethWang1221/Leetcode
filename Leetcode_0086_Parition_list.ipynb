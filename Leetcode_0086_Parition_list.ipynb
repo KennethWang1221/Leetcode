{
 "cells": [
  {
   "cell_type": "code",
   "execution_count": 1,
   "metadata": {},
   "outputs": [
    {
     "name": "stdout",
     "output_type": "stream",
     "text": [
      "1,4,3,2,5,2,\n",
      "1,2,2,4,3,5,"
     ]
    }
   ],
   "source": [
    "class ListNode:\n",
    "    def __init__(self, x):\n",
    "        self.val = x\n",
    "        self.next = None\n",
    "\n",
    "\n",
    "def make_list(arr):\n",
    "    head_node = None\n",
    "    p_node = None\n",
    "    for a in arr:\n",
    "        new_node = ListNode(a)\n",
    "        if head_node is None:\n",
    "            head_node = new_node\n",
    "            p_node = new_node\n",
    "        else:\n",
    "            p_node.next = new_node\n",
    "            p_node = new_node\n",
    "    return head_node\n",
    "\n",
    "\n",
    "def print_list(head):\n",
    "    while head is not None:\n",
    "        print(head.val, end=',')\n",
    "        head = head.next\n",
    "\n",
    "\n",
    "class Solution:\n",
    "    \n",
    "    def partition(self, head,x):\n",
    "        if head == None:\n",
    "            return head\n",
    "        \n",
    "        dummy = head\n",
    "\n",
    "        left = ListNode(0)\n",
    "        left_cur = left\n",
    "\n",
    "        right = ListNode(0)\n",
    "        right_cur = right\n",
    "\n",
    "        while head !=None:\n",
    "            if head.val < x:\n",
    "                left_cur.next = head\n",
    "                left_cur = left_cur.next\n",
    "            else:\n",
    "                right_cur.next = head\n",
    "                right_cur = right_cur.next\n",
    "\n",
    "            head = head.next\n",
    "        \n",
    "        right_cur.next = None\n",
    "        left_cur.next = right.next\n",
    "        left_cur = right.next # equal to left_cur = left_cur.next\n",
    "        \n",
    "        return left.next\n",
    "\n",
    "\n",
    "s = Solution()\n",
    "a = [1, 4, 3, 2, 5, 2]\n",
    "head = make_list(a)\n",
    "print_list(head)\n",
    "head = s.partition(head, x=3)\n",
    "print()\n",
    "print_list(head)       "
   ]
  }
 ],
 "metadata": {
  "interpreter": {
   "hash": "846fd2d9bb562a436898b7cc368204fc2f9d44e5e9b051b4f6e855e721078f23"
  },
  "kernelspec": {
   "display_name": "Python 3.8.6 64-bit ('leetcode_env': conda)",
   "language": "python",
   "name": "python3"
  },
  "language_info": {
   "codemirror_mode": {
    "name": "ipython",
    "version": 3
   },
   "file_extension": ".py",
   "mimetype": "text/x-python",
   "name": "python",
   "nbconvert_exporter": "python",
   "pygments_lexer": "ipython3",
   "version": "3.8.6"
  },
  "orig_nbformat": 4
 },
 "nbformat": 4,
 "nbformat_minor": 2
}
