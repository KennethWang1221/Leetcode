{
 "cells": [
  {
   "cell_type": "markdown",
   "metadata": {},
   "source": [
    "## Correct version"
   ]
  },
  {
   "cell_type": "code",
   "execution_count": 22,
   "metadata": {},
   "outputs": [
    {
     "name": "stdout",
     "output_type": "stream",
     "text": [
      "0,1,2,\n",
      "2,0,1,"
     ]
    }
   ],
   "source": [
    "class ListNode:\n",
    "    def __init__(self, x):\n",
    "        self.val = x\n",
    "        self.next = None\n",
    "\n",
    "\n",
    "def make_list(arr):\n",
    "    head_node = None\n",
    "    p_node = None\n",
    "    for a in arr:\n",
    "        new_node = ListNode(a)\n",
    "        if head_node is None:\n",
    "            head_node = new_node\n",
    "            p_node = new_node\n",
    "        else:\n",
    "            p_node.next = new_node\n",
    "            p_node = new_node\n",
    "    return head_node\n",
    "\n",
    "\n",
    "def print_list(head):\n",
    "    while head is not None:\n",
    "        print(head.val, end=',')\n",
    "        head = head.next\n",
    "\n",
    "# https://www.bilibili.com/video/BV1Fi4y187pj\n",
    "class Solution:\n",
    "    \"\"\"\n",
    "    1. Just use cur and cur.next to let code to go head\n",
    "    2. Not big different from Method1, just write here to understanding\n",
    "    \"\"\"\n",
    "    def Roate_list(self, head,k):\n",
    "        if head is None and head.next is None:\n",
    "            return head\n",
    "        dummy = ListNode(0)\n",
    "        dummy.next = head\n",
    "        cur = dummy.next\n",
    "        # 链表长度n\n",
    "        len = 1\n",
    "        \n",
    "        # cur到最后一个节点\n",
    "        while cur.next !=None:\n",
    "            len+=1\n",
    "            cur = cur.next\n",
    "        \n",
    "        # 最后一个节点与第一个节点连接\n",
    "        cur.next = head\n",
    "        \n",
    "        # 继续走n - k % n个位置，就是满足要求串，的头结点的前一个点\n",
    "        m = len - k %len\n",
    "        \n",
    "        \n",
    "        for i in range(m):\n",
    "            cur = cur.next\n",
    "        \n",
    "        # 新的\n",
    "        newhead = cur.next\n",
    "\n",
    "        # 断开\n",
    "        cur.next = None\n",
    "        return newhead\n",
    "\n",
    "s = Solution()\n",
    "a = [0,1,2]\n",
    "head = make_list(a)\n",
    "print_list(head)\n",
    "k = 4\n",
    "head = s.Roate_list(head,k)\n",
    "print()\n",
    "print_list(head)"
   ]
  },
  {
   "cell_type": "markdown",
   "metadata": {},
   "source": [
    "wrong version"
   ]
  },
  {
   "cell_type": "code",
   "execution_count": 21,
   "metadata": {},
   "outputs": [
    {
     "name": "stdout",
     "output_type": "stream",
     "text": [
      "1,2,3,4,5,\n",
      "4,5,1,2,3,"
     ]
    }
   ],
   "source": [
    "class ListNode:\n",
    "    def __init__(self, x):\n",
    "        self.val = x\n",
    "        self.next = None\n",
    "\n",
    "\n",
    "def make_list(arr):\n",
    "    head_node = None\n",
    "    p_node = None\n",
    "    for a in arr:\n",
    "        new_node = ListNode(a)\n",
    "        if head_node is None:\n",
    "            head_node = new_node\n",
    "            p_node = new_node\n",
    "        else:\n",
    "            p_node.next = new_node\n",
    "            p_node = new_node\n",
    "    return head_node\n",
    "\n",
    "\n",
    "def print_list(head):\n",
    "    while head is not None:\n",
    "        print(head.val, end=',')\n",
    "        head = head.next\n",
    "\n",
    "# https://www.bilibili.com/video/BV1Fi4y187pj\n",
    "class Solution:\n",
    "    \"\"\"\n",
    "    1. Just use cur and cur.next to let code to go head\n",
    "    2. Not big different from Method1, just write here to understanding\n",
    "    \"\"\"\n",
    "    def Roate_list(self, head,k):\n",
    "        if head == None or head.next == None:\n",
    "            return head\n",
    "        \n",
    "        dummy = ListNode(0)\n",
    "        dummy.next = head\n",
    "        pre = dummy.next\n",
    "        fast = pre\n",
    "        slow = pre\n",
    "\n",
    "        len = 1\n",
    "        while fast !=None:\n",
    "            len+=1\n",
    "            fast = fast.next\n",
    "        \n",
    "        fast = pre\n",
    "\n",
    "        k = k%len\n",
    "        if k==0:\n",
    "            return head\n",
    "\n",
    "        for i in range(k):\n",
    "            fast = fast.next\n",
    "\n",
    "        while fast.next !=None:\n",
    "            fast = fast.next\n",
    "            slow = slow.next\n",
    "        pre = slow.next\n",
    "        fast.next = head\n",
    "        slow.next = None\n",
    "\n",
    "        return pre\n",
    "\n",
    "s = Solution()\n",
    "a = [1,2,3,4,5]\n",
    "head = make_list(a)\n",
    "print_list(head)\n",
    "k = 2\n",
    "head = s.Roate_list(head,k)\n",
    "print()\n",
    "print_list(head)"
   ]
  }
 ],
 "metadata": {
  "interpreter": {
   "hash": "846fd2d9bb562a436898b7cc368204fc2f9d44e5e9b051b4f6e855e721078f23"
  },
  "kernelspec": {
   "display_name": "Python 3.8.6 ('leetcode_env': conda)",
   "language": "python",
   "name": "python3"
  },
  "language_info": {
   "codemirror_mode": {
    "name": "ipython",
    "version": 3
   },
   "file_extension": ".py",
   "mimetype": "text/x-python",
   "name": "python",
   "nbconvert_exporter": "python",
   "pygments_lexer": "ipython3",
   "version": "3.8.6"
  },
  "orig_nbformat": 4
 },
 "nbformat": 4,
 "nbformat_minor": 2
}
