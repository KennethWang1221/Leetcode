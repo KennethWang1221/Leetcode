{
 "cells": [
  {
   "cell_type": "code",
   "execution_count": 24,
   "metadata": {},
   "outputs": [
    {
     "data": {
      "text/plain": [
       "True"
      ]
     },
     "execution_count": 24,
     "metadata": {},
     "output_type": "execute_result"
    }
   ],
   "source": [
    "s = '[]'\n",
    "# s = '['\n",
    "# s = ']'\n",
    "#s = '([)]'\n",
    "s = \"()[]{}\"\n",
    "def isValid(s):\n",
    "    stack = []\n",
    "        \n",
    "    dic  = {'(':')', '{':'}','[':']'}\n",
    "    \n",
    "    for i in s:\n",
    "        if i in dic:\n",
    "            stack.append(i)\n",
    "        else:\n",
    "            if len(stack)==0:\n",
    "                return False\n",
    "            if i == dic[stack.pop(-1)]:\n",
    "                pass\n",
    "            else:\n",
    "                return False\n",
    "        \n",
    "    if len(stack) == 0:\n",
    "        return True\n",
    "    else:\n",
    "        \n",
    "        return False\n",
    "isValid(s)"
   ]
  },
  {
   "cell_type": "markdown",
   "metadata": {},
   "source": [
    "### debug trick"
   ]
  },
  {
   "cell_type": "markdown",
   "metadata": {},
   "source": [
    "error"
   ]
  },
  {
   "cell_type": "code",
   "execution_count": null,
   "metadata": {},
   "outputs": [],
   "source": [
    "\n",
    "def isValid(s):\n",
    "    stack = []\n",
    "    dic  = {'(':')', '{':'}','[':']'}\n",
    "    for i in s:\n",
    "        if i in dic:\n",
    "            stack.append(i)\n",
    "        # elif i == dic[stack.pop(-1)]:\n",
    "        #     print(\"s\")\n",
    "        else:\n",
    "            #return False\n",
    "            pass\n",
    "    #return True\n",
    "            \n",
    "s = '[]'\n",
    "isValid(s)"
   ]
  },
  {
   "cell_type": "markdown",
   "metadata": {},
   "source": [
    "correct"
   ]
  },
  {
   "cell_type": "code",
   "execution_count": 18,
   "metadata": {},
   "outputs": [
    {
     "name": "stdout",
     "output_type": "stream",
     "text": [
      "['[']\n"
     ]
    }
   ],
   "source": [
    "s = '[]'\n",
    "def test(s):\n",
    "    stack = []\n",
    "    dic  = {'(':')', '{':'}','[':']'}\n",
    "    for i in s:\n",
    "        if i in dic:\n",
    "            stack.append(i)\n",
    "        else:\n",
    "            pass\n",
    "    print(stack)\n",
    "test(s)"
   ]
  }
 ],
 "metadata": {
  "kernelspec": {
   "display_name": "Python 3.8.6 64-bit ('leetcode_env')",
   "language": "python",
   "name": "python3"
  },
  "language_info": {
   "codemirror_mode": {
    "name": "ipython",
    "version": 3
   },
   "file_extension": ".py",
   "mimetype": "text/x-python",
   "name": "python",
   "nbconvert_exporter": "python",
   "pygments_lexer": "ipython3",
   "version": "3.8.6"
  },
  "orig_nbformat": 4,
  "vscode": {
   "interpreter": {
    "hash": "846fd2d9bb562a436898b7cc368204fc2f9d44e5e9b051b4f6e855e721078f23"
   }
  }
 },
 "nbformat": 4,
 "nbformat_minor": 2
}
