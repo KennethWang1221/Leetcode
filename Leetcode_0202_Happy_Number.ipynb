{
 "cells": [
  {
   "cell_type": "code",
   "execution_count": 14,
   "metadata": {},
   "outputs": [
    {
     "name": "stdout",
     "output_type": "stream",
     "text": [
      "True\n"
     ]
    }
   ],
   "source": [
    "def isHappy(n):\n",
    "    num_set = set()\n",
    "    while n != 1:\n",
    "        res = []\n",
    "        for d in str(n):\n",
    "            res.append(int(d) ** 2)\n",
    "        n = sum(res)\n",
    "        if n in num_set:\n",
    "            return False\n",
    "        else:\n",
    "            num_set.add(n)\n",
    "    return True\n",
    "\n",
    "n = 19\n",
    "#n = 2\n",
    "res = isHappy(n)\n",
    "print(res)"
   ]
  }
 ],
 "metadata": {
  "kernelspec": {
   "display_name": "Python 3.8.6 64-bit ('leetcode_env')",
   "language": "python",
   "name": "python3"
  },
  "language_info": {
   "codemirror_mode": {
    "name": "ipython",
    "version": 3
   },
   "file_extension": ".py",
   "mimetype": "text/x-python",
   "name": "python",
   "nbconvert_exporter": "python",
   "pygments_lexer": "ipython3",
   "version": "3.8.6"
  },
  "orig_nbformat": 4,
  "vscode": {
   "interpreter": {
    "hash": "846fd2d9bb562a436898b7cc368204fc2f9d44e5e9b051b4f6e855e721078f23"
   }
  }
 },
 "nbformat": 4,
 "nbformat_minor": 2
}
