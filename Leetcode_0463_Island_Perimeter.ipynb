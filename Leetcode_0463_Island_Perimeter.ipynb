{
 "cells": [
  {
   "attachments": {},
   "cell_type": "markdown",
   "metadata": {},
   "source": [
    "## Method1\n",
    "https://www.youtube.com/watch?v=fISIuAFRM2s&list=PLot-Xpze53ldBT_7QA8NVot219jFNr_GI&index=15"
   ]
  },
  {
   "cell_type": "code",
   "execution_count": 1,
   "metadata": {},
   "outputs": [
    {
     "name": "stdout",
     "output_type": "stream",
     "text": [
      "16\n"
     ]
    }
   ],
   "source": [
    "def islandPerimeter(grid):\n",
    "    visit = set()\n",
    "\n",
    "    def dfs(i, j):\n",
    "        if i >= len(grid) or j >= len(grid[0]) or i < 0 or j < 0 or grid[i][j] == 0:\n",
    "            return 1\n",
    "        if (i, j) in visit:\n",
    "            return 0\n",
    "\n",
    "        visit.add((i, j))\n",
    "        perim = dfs(i, j + 1)\n",
    "        perim += dfs(i + 1, j)\n",
    "        perim += dfs(i, j - 1)\n",
    "        perim += dfs(i - 1, j)\n",
    "        return perim\n",
    "\n",
    "    for i in range(len(grid)):\n",
    "        for j in range(len(grid[0])):\n",
    "            if grid[i][j]:\n",
    "                return dfs(i, j)\n",
    "    \n",
    "grid = [[0,1,0,0],[1,1,1,0],[0,1,0,0],[1,1,0,0]]\n",
    "\n",
    "res = islandPerimeter(grid)\n",
    "print(res)  "
   ]
  },
  {
   "attachments": {},
   "cell_type": "markdown",
   "metadata": {},
   "source": [
    "## DIY"
   ]
  },
  {
   "cell_type": "code",
   "execution_count": 6,
   "metadata": {},
   "outputs": [
    {
     "name": "stdout",
     "output_type": "stream",
     "text": [
      "16\n"
     ]
    }
   ],
   "source": [
    "def islandPerimeter(grid):\n",
    "    visit = set()\n",
    "    res = 0\n",
    "    rows, cols = len(grid), len(grid[0])\n",
    "\n",
    "    def dfs(r,c):\n",
    "        if r>=rows or c>=cols or r<0 or c<0 or grid[r][c]==0:\n",
    "            return 1\n",
    "        if (r,c) in visit:\n",
    "            return 0\n",
    "\n",
    "        visit.add((r,c))\n",
    "        perim = dfs(r+1,c)\n",
    "        perim += dfs(r-1,c)\n",
    "        perim += dfs(r,c+1)\n",
    "        perim += dfs(r,c-1)\n",
    "        return perim\n",
    "\n",
    "    for r in range(rows):\n",
    "        for c in range(cols):\n",
    "            if grid[r][c]==1:\n",
    "                return dfs(r,c)\n",
    "    \n",
    "grid = [[0,1,0,0],[1,1,1,0],[0,1,0,0],[1,1,0,0]]\n",
    "\n",
    "res = islandPerimeter(grid)\n",
    "print(res)  "
   ]
  }
 ],
 "metadata": {
  "kernelspec": {
   "display_name": "leetcode_env",
   "language": "python",
   "name": "leetcode_env"
  },
  "language_info": {
   "codemirror_mode": {
    "name": "ipython",
    "version": 3
   },
   "file_extension": ".py",
   "mimetype": "text/x-python",
   "name": "python",
   "nbconvert_exporter": "python",
   "pygments_lexer": "ipython3",
   "version": "3.8.6"
  },
  "orig_nbformat": 4
 },
 "nbformat": 4,
 "nbformat_minor": 2
}
