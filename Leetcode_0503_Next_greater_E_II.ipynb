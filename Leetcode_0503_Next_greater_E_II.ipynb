{
 "cells": [
  {
   "cell_type": "code",
   "execution_count": 23,
   "metadata": {},
   "outputs": [
    {
     "name": "stdout",
     "output_type": "stream",
     "text": [
      "[2, -1, 2]\n"
     ]
    }
   ],
   "source": [
    "def nextGreaterElementII(nums):\n",
    "    stack = []\n",
    "    n = len(nums)\n",
    "    result = [-1] * n\n",
    "    \n",
    "    for i in range(n*2):\n",
    "        while stack and nums[i%n]>nums[stack[-1]]:\n",
    "            result[stack.pop(-1)] = nums[i%n]\n",
    "        \n",
    "        stack.append(i%n)\n",
    "    return result\n",
    "        \n",
    "nums1 = [1,2,1]\n",
    "\n",
    "result = nextGreaterElementII(nums1)\n",
    "print(result)"
   ]
  }
 ],
 "metadata": {
  "kernelspec": {
   "display_name": "Python 3.8.6 64-bit ('leetcode_env')",
   "language": "python",
   "name": "python3"
  },
  "language_info": {
   "codemirror_mode": {
    "name": "ipython",
    "version": 3
   },
   "file_extension": ".py",
   "mimetype": "text/x-python",
   "name": "python",
   "nbconvert_exporter": "python",
   "pygments_lexer": "ipython3",
   "version": "3.8.6"
  },
  "orig_nbformat": 4,
  "vscode": {
   "interpreter": {
    "hash": "846fd2d9bb562a436898b7cc368204fc2f9d44e5e9b051b4f6e855e721078f23"
   }
  }
 },
 "nbformat": 4,
 "nbformat_minor": 2
}
