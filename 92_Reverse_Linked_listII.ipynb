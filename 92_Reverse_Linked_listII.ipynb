{
 "cells": [
  {
   "cell_type": "markdown",
   "metadata": {},
   "source": [
    "## Wrong"
   ]
  },
  {
   "cell_type": "code",
   "execution_count": 7,
   "metadata": {},
   "outputs": [
    {
     "name": "stdout",
     "output_type": "stream",
     "text": [
      "1,2,3,4,5,\n",
      "1,4,3,2,5,"
     ]
    }
   ],
   "source": [
    "class ListNode:\n",
    "    def __init__(self, x):\n",
    "        self.val = x\n",
    "        self.next = None\n",
    "\n",
    "\n",
    "def make_list(arr):\n",
    "    head_node = None\n",
    "    p_node = None\n",
    "    for a in arr:\n",
    "        new_node = ListNode(a)\n",
    "        if head_node is None:\n",
    "            head_node = new_node\n",
    "            p_node = new_node\n",
    "        else:\n",
    "            p_node.next = new_node\n",
    "            p_node = new_node\n",
    "    return head_node\n",
    "\n",
    "\n",
    "def print_list(head):\n",
    "    while head is not None:\n",
    "        print(head.val, end=',')\n",
    "        head = head.next\n",
    "\n",
    "\n",
    "class Solution:\n",
    "    \n",
    "    def reverseList(self, head, left, right):\n",
    "        if head == None:\n",
    "            return head\n",
    "\n",
    "        dummy = ListNode(0)\n",
    "        dummy.next = head\n",
    "        pre = dummy.next\n",
    "        array = []\n",
    "        while pre != None:\n",
    "            array.append(pre.val)\n",
    "            pre =pre.next\n",
    "        \n",
    "        array[left-1],array[right-1] = array[right-1],array[left-1]\n",
    "        \n",
    "        newList = ListNode(0)\n",
    "        tail = newList\n",
    "        for i in range(len(array)):\n",
    "            tail.next=  ListNode(array[i])\n",
    "            tail = tail.next\n",
    "        return newList.next\n",
    "\n",
    "s = Solution()\n",
    "a = [1, 2, 3, 4, 5]\n",
    "head = make_list(a)\n",
    "print_list(head)\n",
    "left = 2\n",
    "right = 4\n",
    "head = s.reverseList(head, left, right)\n",
    "print()\n",
    "print_list(head)       "
   ]
  },
  {
   "cell_type": "code",
   "execution_count": 3,
   "metadata": {},
   "outputs": [
    {
     "name": "stdout",
     "output_type": "stream",
     "text": [
      "len: 4\n",
      "43\n",
      "3\n",
      "2\n",
      "1\n"
     ]
    }
   ],
   "source": [
    "array = [1,2,3,43]\n",
    "print(\"len:\",len(array))\n",
    "for i in range(len(array)-1, -1, -1):\n",
    "    print(array[i])"
   ]
  },
  {
   "cell_type": "markdown",
   "metadata": {},
   "source": [
    "## Correct Method2"
   ]
  },
  {
   "cell_type": "code",
   "execution_count": 33,
   "metadata": {},
   "outputs": [
    {
     "name": "stdout",
     "output_type": "stream",
     "text": [
      "1,2,3,4,5,\n",
      "1,4,3,2,5,"
     ]
    }
   ],
   "source": [
    "class ListNode:\n",
    "    def __init__(self, x):\n",
    "        self.val = x\n",
    "        self.next = None\n",
    "\n",
    "\n",
    "def make_list(arr):\n",
    "    head_node = None\n",
    "    p_node = None\n",
    "    for a in arr:\n",
    "        new_node = ListNode(a)\n",
    "        if head_node is None:\n",
    "            head_node = new_node\n",
    "            p_node = new_node\n",
    "        else:\n",
    "            p_node.next = new_node\n",
    "            p_node = new_node\n",
    "    return head_node\n",
    "\n",
    "\n",
    "def print_list(head):\n",
    "    while head is not None:\n",
    "        print(head.val, end=',')\n",
    "        head = head.next\n",
    "\n",
    "\n",
    "class Solution:\n",
    "    \n",
    "    def reverseList(self, head, left, right):\n",
    "        if head == None:\n",
    "            return head\n",
    "\n",
    "        dummy = ListNode(0)\n",
    "        dummy.next = head\n",
    "        pre = dummy\n",
    "\n",
    "        for i in range(left-1):\n",
    "            if pre == None:\n",
    "                return None\n",
    "            pre = pre.next\n",
    "        \n",
    "        p = pre\n",
    "        cur = pre.next\n",
    "        tail = cur\n",
    "        \n",
    "\n",
    "        for i in range(right-left+1):\n",
    "            future = cur.next\n",
    "            cur.next = pre\n",
    "            \n",
    "            pre = cur\n",
    "            cur = future\n",
    "            \n",
    "\n",
    "        p.next=pre\n",
    "        tail.next = cur\n",
    "\n",
    "        return dummy.next\n",
    "\n",
    "\n",
    "s = Solution()\n",
    "a = [1,2,3,4,5]\n",
    "head = make_list(a)\n",
    "print_list(head)\n",
    "left = 2\n",
    "right = 4\n",
    "head = s.reverseList(head, left, right)\n",
    "print()\n",
    "print_list(head)       "
   ]
  },
  {
   "cell_type": "code",
   "execution_count": 27,
   "metadata": {},
   "outputs": [
    {
     "name": "stdout",
     "output_type": "stream",
     "text": [
      "0\n"
     ]
    }
   ],
   "source": [
    "for i in range(1):\n",
    "    print(i)"
   ]
  }
 ],
 "metadata": {
  "interpreter": {
   "hash": "846fd2d9bb562a436898b7cc368204fc2f9d44e5e9b051b4f6e855e721078f23"
  },
  "kernelspec": {
   "display_name": "Python 3.8.6 64-bit ('leetcode_env': conda)",
   "language": "python",
   "name": "python3"
  },
  "language_info": {
   "codemirror_mode": {
    "name": "ipython",
    "version": 3
   },
   "file_extension": ".py",
   "mimetype": "text/x-python",
   "name": "python",
   "nbconvert_exporter": "python",
   "pygments_lexer": "ipython3",
   "version": "3.8.6"
  },
  "orig_nbformat": 4
 },
 "nbformat": 4,
 "nbformat_minor": 2
}
