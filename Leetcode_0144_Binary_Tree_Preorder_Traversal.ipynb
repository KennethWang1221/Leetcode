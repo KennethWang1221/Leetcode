{
 "cells": [
  {
   "cell_type": "markdown",
   "metadata": {},
   "source": [
    "## Method1-Recursion"
   ]
  },
  {
   "cell_type": "code",
   "execution_count": 2,
   "metadata": {},
   "outputs": [
    {
     "name": "stdout",
     "output_type": "stream",
     "text": [
      "[1, None, 2, 3]\n"
     ]
    }
   ],
   "source": [
    "class TreeNode(object):\n",
    "    def __init__(self, x):\n",
    "        if x == None:\n",
    "            self.val = None\n",
    "        else:\n",
    "            self.val = x\n",
    "        self.left = None\n",
    "        self.right = None\n",
    "\n",
    "class Solution(object):\n",
    "    def preorderTraversal(self, root):\n",
    "        # 保存结果\n",
    "        result = []      \n",
    "        def traversal(root):\n",
    "            if root == None:\n",
    "                return\n",
    "            result.append(root.val) # 前序\n",
    "            traversal(root.left)    # 左\n",
    "            traversal(root.right)   # 右\n",
    "\n",
    "        traversal(root)\n",
    "        return result\n",
    "\n",
    "n1 = TreeNode(1)\n",
    "n2 = TreeNode(None)\n",
    "n3 = TreeNode(2)\n",
    "n4 = TreeNode(3)\n",
    "#n5 = TreeNode(17)\n",
    "\n",
    "n1.left = n2\n",
    "n1.right = n3\n",
    "\n",
    "n3.left = n4\n",
    "#n3.right = n5\n",
    "s = Solution()\n",
    "res = s.preorderTraversal(n1)\n",
    "\n",
    "print(res)"
   ]
  },
  {
   "cell_type": "markdown",
   "metadata": {},
   "source": [
    "learning url:\n",
    "https://github.com/youngyangyang04/leetcode-master/blob/master/problems/%E4%BA%8C%E5%8F%89%E6%A0%91%E7%9A%84%E9%80%92%E5%BD%92%E9%81%8D%E5%8E%86.md\n",
    "\n",
    "递归三要素：\n",
    "1. 确定递归函数的参数和返回值：确定哪些参数是递归的过程中需要处理的，那么就在递归函数里加上这个参数， 并且还要明确每次递归的返回值是什么进而确定递归函数的返回类型。\n",
    "2. 确定终止条件：写完了递归算法, 运行的时候，经常会遇到栈溢出的错误，就是没写终止条件或者终止条件写的不对，操作系统也是用一个栈的结构来保存每一层递归的信息，如果递归没有终止，操作系统的内存栈必然就会溢出。\n",
    "3. 确定单层递归的逻辑：确定每一层递归需要处理的信息。在这里也就会重复调用自己来实现递归的过程。"
   ]
  },
  {
   "cell_type": "markdown",
   "metadata": {},
   "source": [
    "## Method2-Iterative"
   ]
  },
  {
   "cell_type": "code",
   "execution_count": 7,
   "metadata": {},
   "outputs": [
    {
     "name": "stdout",
     "output_type": "stream",
     "text": [
      "[1, None, 2, 3]\n"
     ]
    }
   ],
   "source": [
    "class Solution:\n",
    "    def preorderTraversal(self, root):\n",
    "        # 根结点为空则返回空列表\n",
    "        if not root:\n",
    "            return []\n",
    "        stack = [root]\n",
    "        result = []\n",
    "        while stack:\n",
    "            node = stack.pop()\n",
    "            # 中结点先处理\n",
    "            result.append(node.val)\n",
    "            # 右孩子先入栈\n",
    "            if node.right:\n",
    "                stack.append(node.right)\n",
    "            # 左孩子后入栈\n",
    "            if node.left:\n",
    "                stack.append(node.left)\n",
    "        return result\n",
    "\n",
    "n1 = TreeNode(1)\n",
    "n2 = TreeNode(None)\n",
    "n3 = TreeNode(2)\n",
    "n4 = TreeNode(3)\n",
    "#n5 = TreeNode(17)\n",
    "\n",
    "n1.left = n2\n",
    "n1.right = n3\n",
    "\n",
    "n3.left = n4\n",
    "#n3.right = n5\n",
    "s = Solution()\n",
    "res = s.preorderTraversal(n1)\n",
    "\n",
    "print(res)"
   ]
  },
  {
   "cell_type": "markdown",
   "metadata": {},
   "source": [
    "without class"
   ]
  },
  {
   "cell_type": "code",
   "execution_count": 8,
   "metadata": {},
   "outputs": [
    {
     "name": "stdout",
     "output_type": "stream",
     "text": [
      "[1, None, 2, 3]\n"
     ]
    }
   ],
   "source": [
    "def preorderTraversal(root):\n",
    "    # 根结点为空则返回空列表\n",
    "    if not root:\n",
    "        return []\n",
    "    stack = [root]\n",
    "    result = []\n",
    "    while stack:\n",
    "        node = stack.pop()\n",
    "        # 中结点先处理\n",
    "        result.append(node.val)\n",
    "        # 右孩子先入栈\n",
    "        if node.right:\n",
    "            stack.append(node.right)\n",
    "        # 左孩子后入栈\n",
    "        if node.left:\n",
    "            stack.append(node.left)\n",
    "    return result\n",
    "\n",
    "n1 = TreeNode(1)\n",
    "n2 = TreeNode(None)\n",
    "n3 = TreeNode(2)\n",
    "n4 = TreeNode(3)\n",
    "#n5 = TreeNode(17)\n",
    "\n",
    "n1.left = n2\n",
    "n1.right = n3\n",
    "\n",
    "n3.left = n4\n",
    "#n3.right = n5\n",
    "\n",
    "res = preorderTraversal(n1)\n",
    "\n",
    "print(res)"
   ]
  },
  {
   "cell_type": "markdown",
   "metadata": {},
   "source": [
    "## Recap Tree"
   ]
  },
  {
   "cell_type": "code",
   "execution_count": 11,
   "metadata": {},
   "outputs": [
    {
     "name": "stdout",
     "output_type": "stream",
     "text": [
      "===tree===\n",
      "\n",
      "    ______0_______\n",
      "   /              \\\n",
      "  14__          ___12\n",
      " /    \\        /     \\\n",
      "8      10     13      9\n",
      "      /      /  \\      \\\n",
      "     1      2    4      7\n",
      "\n",
      "===bst===\n",
      "\n",
      "        ______7_______\n",
      "       /              \\\n",
      "    __3__           ___11___\n",
      "   /     \\         /        \\\n",
      "  1       5       9         _13\n",
      " / \\     / \\     / \\       /   \\\n",
      "0   2   4   6   8   10    12    14\n",
      "\n",
      "===heap===\n",
      "\n",
      "        ________14______\n",
      "       /                \\\n",
      "    __11__             __13__\n",
      "   /      \\           /      \\\n",
      "  8        10        9        12\n",
      " / \\      /  \\      / \\      /\n",
      "7   1    4    5    2   3    0\n",
      "\n"
     ]
    }
   ],
   "source": [
    "from binarytree import tree, bst, heap\n",
    "my_tree = tree(height=3, is_perfect=False)\n",
    "my_bst = bst(height=3, is_perfect=True)\n",
    "my_heap = heap(height=3, is_max=True, is_perfect=False)\n",
    "print(\"===tree===\")\n",
    "print(my_tree)\n",
    "print(\"===bst===\")\n",
    "print(my_bst)\n",
    "print(\"===heap===\")\n",
    "print(my_heap)"
   ]
  }
 ],
 "metadata": {
  "kernelspec": {
   "display_name": "Python 3.8.6 64-bit ('leetcode_env')",
   "language": "python",
   "name": "python3"
  },
  "language_info": {
   "codemirror_mode": {
    "name": "ipython",
    "version": 3
   },
   "file_extension": ".py",
   "mimetype": "text/x-python",
   "name": "python",
   "nbconvert_exporter": "python",
   "pygments_lexer": "ipython3",
   "version": "3.8.6"
  },
  "orig_nbformat": 4,
  "vscode": {
   "interpreter": {
    "hash": "846fd2d9bb562a436898b7cc368204fc2f9d44e5e9b051b4f6e855e721078f23"
   }
  }
 },
 "nbformat": 4,
 "nbformat_minor": 2
}
