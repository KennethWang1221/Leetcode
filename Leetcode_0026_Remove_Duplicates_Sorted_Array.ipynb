{
 "cells": [
  {
   "cell_type": "markdown",
   "metadata": {},
   "source": [
    "Url:[bilibili.com/video/BV1hb411i77e?spm_id_from=333.337.search-card.all.click&vd_source=8aba95d95a5a52895d55c1f87e0f02c2](https://www.bilibili.com/video/BV1hb411i77e?spm_id_from=333.337.search-card.all.click&vd_source=8aba95d95a5a52895d55c1f87e0f02c2)"
   ]
  },
  {
   "cell_type": "code",
   "execution_count": 13,
   "metadata": {},
   "outputs": [
    {
     "name": "stdout",
     "output_type": "stream",
     "text": [
      "5\n",
      "[0, 1, 2, 3, 4, 2, 2, 3, 3, 4]\n"
     ]
    }
   ],
   "source": [
    "def removeDuplicates(nums):\n",
    "    n = len(nums)\n",
    "    \n",
    "    count = 0\n",
    "    for i in range(n):\n",
    "        if nums[i] == nums[count]:\n",
    "            pass\n",
    "        else:\n",
    "            count+=1\n",
    "            nums[count] = nums[i]\n",
    "\n",
    "    result = count+1\n",
    "    return result,nums\n",
    "            \n",
    "\n",
    "nums = [0,0,1,1,1,2,2,3,3,4]\n",
    "#nums = [1,2]\n",
    "result, nums = removeDuplicates(nums)\n",
    "print(result)\n",
    "print(nums)"
   ]
  }
 ],
 "metadata": {
  "kernelspec": {
   "display_name": "Python 3.8.6 64-bit ('leetcode_env')",
   "language": "python",
   "name": "python3"
  },
  "language_info": {
   "codemirror_mode": {
    "name": "ipython",
    "version": 3
   },
   "file_extension": ".py",
   "mimetype": "text/x-python",
   "name": "python",
   "nbconvert_exporter": "python",
   "pygments_lexer": "ipython3",
   "version": "3.8.6"
  },
  "orig_nbformat": 4,
  "vscode": {
   "interpreter": {
    "hash": "846fd2d9bb562a436898b7cc368204fc2f9d44e5e9b051b4f6e855e721078f23"
   }
  }
 },
 "nbformat": 4,
 "nbformat_minor": 2
}
