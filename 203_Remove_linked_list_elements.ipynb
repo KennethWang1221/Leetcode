{
 "cells": [
  {
   "cell_type": "code",
   "execution_count": 6,
   "metadata": {},
   "outputs": [
    {
     "name": "stdout",
     "output_type": "stream",
     "text": [
      "1,2,6,3,4,5,6,\n",
      "1,2,3,4,5,\n"
     ]
    }
   ],
   "source": [
    "class ListNode:\n",
    "    def __init__(self, x):\n",
    "        self.val = x\n",
    "        self.next = None\n",
    "\n",
    "\n",
    "def make_list(arr):\n",
    "    head_node = None\n",
    "    p_node = None\n",
    "    for a in arr:\n",
    "        new_node = ListNode(a)\n",
    "        if head_node is None:\n",
    "            head_node = new_node\n",
    "            p_node = new_node\n",
    "        else:\n",
    "            p_node.next = new_node\n",
    "            p_node = new_node\n",
    "    return head_node\n",
    "\n",
    "\n",
    "def print_list(head):\n",
    "    while head is not None:\n",
    "        print(head.val, end=',')\n",
    "        head = head.next\n",
    "    print()\n",
    "\n",
    "\n",
    "class Solution:\n",
    "    \"\"\"\n",
    "    1. This time, I use cur and future to indicate two nodes, but there are many tricks\n",
    "    2. cur.next = future.next/ this code aims to delete/skip nodes.\n",
    "    3. Attention !!!! \n",
    "    \"\"\"\n",
    "    def removeElements(self, head, node):\n",
    "        dummy = ListNode(0)\n",
    "        dummy.next = head\n",
    "        pre = dummy\n",
    "        cur = head\n",
    "        while cur != None:\n",
    "            if cur.val == node:\n",
    "                pre.next = cur.next\n",
    "                cur = cur.next\n",
    "                \n",
    "            else:\n",
    "                pre = pre.next\n",
    "                cur = cur.next\n",
    "\n",
    "\n",
    "        return dummy.next\n",
    "\n",
    "\n",
    "\n",
    "head = make_list([1,2,6,3,4,5,6])\n",
    "print_list(head)\n",
    "s = Solution()\n",
    "head = s.removeElements(head,6)\n",
    "print_list(head)"
   ]
  }
 ],
 "metadata": {
  "interpreter": {
   "hash": "846fd2d9bb562a436898b7cc368204fc2f9d44e5e9b051b4f6e855e721078f23"
  },
  "kernelspec": {
   "display_name": "Python 3.8.6 ('leetcode_env': conda)",
   "language": "python",
   "name": "python3"
  },
  "language_info": {
   "codemirror_mode": {
    "name": "ipython",
    "version": 3
   },
   "file_extension": ".py",
   "mimetype": "text/x-python",
   "name": "python",
   "nbconvert_exporter": "python",
   "pygments_lexer": "ipython3",
   "version": "3.8.6"
  },
  "orig_nbformat": 4
 },
 "nbformat": 4,
 "nbformat_minor": 2
}
