{
 "cells": [
  {
   "cell_type": "markdown",
   "metadata": {},
   "source": [
    "## Method1-Recursion"
   ]
  },
  {
   "cell_type": "code",
   "execution_count": 1,
   "metadata": {},
   "outputs": [
    {
     "name": "stdout",
     "output_type": "stream",
     "text": [
      "[None, 3, 2, 1]\n"
     ]
    }
   ],
   "source": [
    "class TreeNode(object):\n",
    "    def __init__(self, x, left = None, right = None):\n",
    "        self.val = x\n",
    "        self.left = left\n",
    "        self.right = right\n",
    "\n",
    "def postorderTraversal(root):\n",
    "    res = []\n",
    "\n",
    "    def traversal(root):\n",
    "        if root == None:\n",
    "            return \n",
    "        \n",
    "        traversal(root.left)\n",
    "        traversal(root.right)\n",
    "        res.append(root.val)\n",
    "    traversal(root)\n",
    "    \n",
    "    return res\n",
    "\n",
    "\n",
    "n1 = TreeNode(1)\n",
    "n2 = TreeNode(None)\n",
    "n3 = TreeNode(2)\n",
    "n4 = TreeNode(3)\n",
    "\n",
    "n1.left = n2\n",
    "n1.right = n3\n",
    "n3.left = n4\n",
    "\n",
    "\n",
    "res = postorderTraversal(n1)\n",
    "print(res)"
   ]
  },
  {
   "cell_type": "markdown",
   "metadata": {},
   "source": [
    "## Method2-Iterative"
   ]
  },
  {
   "cell_type": "code",
   "execution_count": 5,
   "metadata": {},
   "outputs": [
    {
     "name": "stdout",
     "output_type": "stream",
     "text": [
      "[None, 3, 2, 1]\n"
     ]
    }
   ],
   "source": [
    "class Solution:\n",
    "    def postorderTraversal(root):\n",
    "        if not root:\n",
    "            return []\n",
    "        stack = [root]\n",
    "        result = []\n",
    "        while stack:\n",
    "            node = stack.pop()\n",
    "            # 中结点先处理\n",
    "            result.append(node.val)\n",
    "            # 左孩子先入栈\n",
    "            if node.left:\n",
    "                stack.append(node.left)\n",
    "            # 右孩子后入栈\n",
    "            if node.right:\n",
    "                stack.append(node.right)\n",
    "        # 将最终的数组翻转\n",
    "        return result[::-1]\n",
    "\n",
    "n1 = TreeNode(1)\n",
    "n2 = TreeNode(None)\n",
    "n3 = TreeNode(2)\n",
    "n4 = TreeNode(3)\n",
    "\n",
    "n1.left = n2\n",
    "n1.right = n3\n",
    "n3.left = n4\n",
    "\n",
    "\n",
    "res = postorderTraversal(n1)\n",
    "print(res)"
   ]
  }
 ],
 "metadata": {
  "kernelspec": {
   "display_name": "Python 3.8.6 64-bit ('leetcode_env')",
   "language": "python",
   "name": "python3"
  },
  "language_info": {
   "codemirror_mode": {
    "name": "ipython",
    "version": 3
   },
   "file_extension": ".py",
   "mimetype": "text/x-python",
   "name": "python",
   "nbconvert_exporter": "python",
   "pygments_lexer": "ipython3",
   "version": "3.8.6"
  },
  "orig_nbformat": 4,
  "vscode": {
   "interpreter": {
    "hash": "846fd2d9bb562a436898b7cc368204fc2f9d44e5e9b051b4f6e855e721078f23"
   }
  }
 },
 "nbformat": 4,
 "nbformat_minor": 2
}
