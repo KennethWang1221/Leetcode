{
 "cells": [
  {
   "cell_type": "markdown",
   "metadata": {},
   "source": [
    "# Sort Algorithm"
   ]
  },
  {
   "cell_type": "code",
   "execution_count": 1,
   "metadata": {},
   "outputs": [],
   "source": [
    "\n",
    "array = [2,4,9,1,7,8,3,14,19,16]\n",
    "array1 = [1, 2, 3, 4, 7, 8, 9, 14, 16, 19]"
   ]
  },
  {
   "cell_type": "markdown",
   "metadata": {},
   "source": [
    "## Bubble Sort"
   ]
  },
  {
   "cell_type": "code",
   "execution_count": 2,
   "metadata": {},
   "outputs": [
    {
     "name": "stdout",
     "output_type": "stream",
     "text": [
      "No 1 outside 1 inside 1 [2, 4, 9, 1, 7, 8, 3, 14, 19, 16]\n",
      "No 1 outside 1 inside 2 [2, 4, 9, 1, 7, 8, 3, 14, 19, 16]\n",
      "No 1 outside 1 inside 3 [2, 4, 1, 9, 7, 8, 3, 14, 19, 16]\n",
      "No 1 outside 1 inside 4 [2, 4, 1, 7, 9, 8, 3, 14, 19, 16]\n",
      "No 1 outside 1 inside 5 [2, 4, 1, 7, 8, 9, 3, 14, 19, 16]\n",
      "No 1 outside 1 inside 6 [2, 4, 1, 7, 8, 3, 9, 14, 19, 16]\n",
      "No 1 outside 1 inside 7 [2, 4, 1, 7, 8, 3, 9, 14, 19, 16]\n",
      "No 1 outside 1 inside 8 [2, 4, 1, 7, 8, 3, 9, 14, 19, 16]\n",
      "No 1 outside 1 inside 9 [2, 4, 1, 7, 8, 3, 9, 14, 16, 19]\n",
      "No 2 outside 2 inside 1 [2, 4, 1, 7, 8, 3, 9, 14, 16, 19]\n",
      "No 2 outside 2 inside 2 [2, 1, 4, 7, 8, 3, 9, 14, 16, 19]\n",
      "No 2 outside 2 inside 3 [2, 1, 4, 7, 8, 3, 9, 14, 16, 19]\n",
      "No 2 outside 2 inside 4 [2, 1, 4, 7, 8, 3, 9, 14, 16, 19]\n",
      "No 2 outside 2 inside 5 [2, 1, 4, 7, 3, 8, 9, 14, 16, 19]\n",
      "No 2 outside 2 inside 6 [2, 1, 4, 7, 3, 8, 9, 14, 16, 19]\n",
      "No 2 outside 2 inside 7 [2, 1, 4, 7, 3, 8, 9, 14, 16, 19]\n",
      "No 2 outside 2 inside 8 [2, 1, 4, 7, 3, 8, 9, 14, 16, 19]\n",
      "No 3 outside 3 inside 1 [1, 2, 4, 7, 3, 8, 9, 14, 16, 19]\n",
      "No 3 outside 3 inside 2 [1, 2, 4, 7, 3, 8, 9, 14, 16, 19]\n",
      "No 3 outside 3 inside 3 [1, 2, 4, 7, 3, 8, 9, 14, 16, 19]\n",
      "No 3 outside 3 inside 4 [1, 2, 4, 3, 7, 8, 9, 14, 16, 19]\n",
      "No 3 outside 3 inside 5 [1, 2, 4, 3, 7, 8, 9, 14, 16, 19]\n",
      "No 3 outside 3 inside 6 [1, 2, 4, 3, 7, 8, 9, 14, 16, 19]\n",
      "No 3 outside 3 inside 7 [1, 2, 4, 3, 7, 8, 9, 14, 16, 19]\n",
      "No 4 outside 4 inside 1 [1, 2, 4, 3, 7, 8, 9, 14, 16, 19]\n",
      "No 4 outside 4 inside 2 [1, 2, 4, 3, 7, 8, 9, 14, 16, 19]\n",
      "No 4 outside 4 inside 3 [1, 2, 3, 4, 7, 8, 9, 14, 16, 19]\n",
      "No 4 outside 4 inside 4 [1, 2, 3, 4, 7, 8, 9, 14, 16, 19]\n",
      "No 4 outside 4 inside 5 [1, 2, 3, 4, 7, 8, 9, 14, 16, 19]\n",
      "No 4 outside 4 inside 6 [1, 2, 3, 4, 7, 8, 9, 14, 16, 19]\n",
      "No 5 outside 5 inside 1 [1, 2, 3, 4, 7, 8, 9, 14, 16, 19]\n",
      "No 5 outside 5 inside 2 [1, 2, 3, 4, 7, 8, 9, 14, 16, 19]\n",
      "No 5 outside 5 inside 3 [1, 2, 3, 4, 7, 8, 9, 14, 16, 19]\n",
      "No 5 outside 5 inside 4 [1, 2, 3, 4, 7, 8, 9, 14, 16, 19]\n",
      "No 5 outside 5 inside 5 [1, 2, 3, 4, 7, 8, 9, 14, 16, 19]\n",
      "No 6 outside 6 inside 1 [1, 2, 3, 4, 7, 8, 9, 14, 16, 19]\n",
      "No 6 outside 6 inside 2 [1, 2, 3, 4, 7, 8, 9, 14, 16, 19]\n",
      "No 6 outside 6 inside 3 [1, 2, 3, 4, 7, 8, 9, 14, 16, 19]\n",
      "No 6 outside 6 inside 4 [1, 2, 3, 4, 7, 8, 9, 14, 16, 19]\n",
      "No 7 outside 7 inside 1 [1, 2, 3, 4, 7, 8, 9, 14, 16, 19]\n",
      "No 7 outside 7 inside 2 [1, 2, 3, 4, 7, 8, 9, 14, 16, 19]\n",
      "No 7 outside 7 inside 3 [1, 2, 3, 4, 7, 8, 9, 14, 16, 19]\n",
      "No 8 outside 8 inside 1 [1, 2, 3, 4, 7, 8, 9, 14, 16, 19]\n",
      "No 8 outside 8 inside 2 [1, 2, 3, 4, 7, 8, 9, 14, 16, 19]\n",
      "No 9 outside 9 inside 1 [1, 2, 3, 4, 7, 8, 9, 14, 16, 19]\n"
     ]
    }
   ],
   "source": [
    "# Each loop, samll item go head, big item got tail\n",
    "def bubble_sort(array):\n",
    "    n = len(array)\n",
    "    i_count = 0\n",
    "    for i in range(n-1):\n",
    "        i_count+=1\n",
    "        j_count = 0\n",
    "        for j in range(n-1-i):\n",
    "            j_count+=1\n",
    "            if array[j]>array[j+1]:\n",
    "                array[j],array[j+1] = array[j+1],array[j]\n",
    "            print(\"No\",i_count,'outside',i_count,'inside',j_count,array)\n",
    "\n",
    "\n",
    "array = [2,4,9,1,7,8,3,14,19,16]\n",
    "bubble_sort(array)"
   ]
  },
  {
   "cell_type": "markdown",
   "metadata": {},
   "source": [
    "## Binary Search"
   ]
  },
  {
   "cell_type": "code",
   "execution_count": 3,
   "metadata": {},
   "outputs": [
    {
     "name": "stdout",
     "output_type": "stream",
     "text": [
      "this target 4 the position is 4\n"
     ]
    }
   ],
   "source": [
    "def binary_search(array,target):\n",
    "    n = len(array)\n",
    "    start = 0\n",
    "    end = n - 1\n",
    "    while start<=end:\n",
    "        middle = (start+end)//2\n",
    "        if target<array[middle]:\n",
    "            end = middle - 1\n",
    "        elif target>array[middle]:\n",
    "            start = middle + 1\n",
    "        else:\n",
    "            print(\"this target\",target,'the position is',(middle+1))\n",
    "            break\n",
    "    else:\n",
    "        print(\"this array do not contain this target\")\n",
    "\n",
    "binary_search(array1,4)"
   ]
  },
  {
   "cell_type": "markdown",
   "metadata": {},
   "source": [
    "## Quick Sort"
   ]
  },
  {
   "cell_type": "code",
   "execution_count": 4,
   "metadata": {},
   "outputs": [
    {
     "name": "stdout",
     "output_type": "stream",
     "text": [
      "[2]\n",
      "[1, 2]\n",
      "[4]\n",
      "[4, 7]\n",
      "[9]\n",
      "[4, 7, 8, 9]\n",
      "[1, 2, 3, 4, 7, 8, 9]\n",
      "[1, 2, 3, 4, 7, 8, 9, 14]\n",
      "[19]\n",
      "[1, 2, 3, 4, 7, 8, 9, 14, 16, 19]\n"
     ]
    },
    {
     "data": {
      "text/plain": [
       "[1, 2, 3, 4, 7, 8, 9, 14, 16, 19]"
      ]
     },
     "execution_count": 4,
     "metadata": {},
     "output_type": "execute_result"
    }
   ],
   "source": [
    "# Each loop, samll item go head (pass to d[0]), big item go tail (pass to d[2])\n",
    "# which means samll section of array go head and big section of array go tail\n",
    "\n",
    "def quick_sort(array):\n",
    "    n = len(array)\n",
    "    i_count = 0\n",
    "    d_pivort = array[-1]\n",
    "    d = [[],[],[]]\n",
    "    for i in array:\n",
    "        if i<d_pivort:\n",
    "            d[0].append(i)\n",
    "        elif i>d_pivort:\n",
    "            d[2].append(i)\n",
    "        else:\n",
    "            d[1].append(i)\n",
    "    if len(d[0])>0:\n",
    "        d[0] = quick_sort(d[0])\n",
    "    if len(d[2])>0:\n",
    "        d[2] = quick_sort(d[2])\n",
    "    d[0].extend(d[1])\n",
    "    d[0].extend(d[2])\n",
    "    print(d[0])\n",
    "    return d[0]\n",
    "\n",
    "\n",
    "array = [2,4,9,1,7,8,3,14,19,16]\n",
    "quick_sort(array)"
   ]
  },
  {
   "cell_type": "markdown",
   "metadata": {},
   "source": [
    "## Insert Sort"
   ]
  },
  {
   "cell_type": "code",
   "execution_count": 5,
   "metadata": {},
   "outputs": [
    {
     "name": "stdout",
     "output_type": "stream",
     "text": [
      "No 1 outsdie 1 insdie 0 [2, 4, 9, 1, 7, 8, 3, 14, 19, 16]\n",
      "No 2 outsdie 2 insdie 0 [2, 4, 9, 1, 7, 8, 3, 14, 19, 16]\n",
      "No 3 outsdie 3 insdie 0 [2, 4, 9, 1, 7, 8, 3, 14, 19, 16]\n",
      "No 4 outsdie 4 insdie 3 [1, 2, 4, 9, 7, 8, 3, 14, 19, 16]\n",
      "No 5 outsdie 5 insdie 1 [1, 2, 4, 7, 9, 8, 3, 14, 19, 16]\n",
      "No 6 outsdie 6 insdie 1 [1, 2, 4, 7, 8, 9, 3, 14, 19, 16]\n",
      "No 7 outsdie 7 insdie 4 [1, 2, 3, 4, 7, 8, 9, 14, 19, 16]\n",
      "No 8 outsdie 8 insdie 0 [1, 2, 3, 4, 7, 8, 9, 14, 19, 16]\n",
      "No 9 outsdie 9 insdie 0 [1, 2, 3, 4, 7, 8, 9, 14, 19, 16]\n"
     ]
    }
   ],
   "source": [
    "# Each loop, samll item go head and big item go tail\n",
    "def insert_sort(array):\n",
    "    n = len(array)\n",
    "    i_count = 0\n",
    "    for i in range(n-1):\n",
    "        i_count+=1\n",
    "        j_count = 0\n",
    "        j = i -1\n",
    "        target = array[i]\n",
    "        while j>=0 and array[j]>target:\n",
    "            j_count+=1\n",
    "            array[j+1] = array[j]\n",
    "            j =j - 1\n",
    "        array[j+1] = target\n",
    "        print(\"No\",i_count,'outsdie',i_count,'insdie',j_count,array)\n",
    "\n",
    "\n",
    "\n",
    "array = [2,4,9,1,7,8,3,14,19,16]\n",
    "insert_sort(array)"
   ]
  },
  {
   "cell_type": "markdown",
   "metadata": {},
   "source": [
    "## Shell Sort"
   ]
  },
  {
   "cell_type": "code",
   "execution_count": 6,
   "metadata": {},
   "outputs": [
    {
     "name": "stdout",
     "output_type": "stream",
     "text": [
      "No 1 outside 1 inside 0 [2, 4, 9, 1, 7, 8, 3, 14, 19, 16]\n",
      "No 2 outside 2 inside 0 [2, 4, 9, 1, 7, 8, 3, 14, 19, 16]\n",
      "No 3 outside 3 inside 1 [2, 4, 3, 1, 7, 8, 9, 14, 19, 16]\n",
      "No 4 outside 4 inside 0 [2, 4, 3, 1, 7, 8, 9, 14, 19, 16]\n",
      "No 5 outside 5 inside 0 [2, 4, 3, 1, 7, 8, 9, 14, 19, 16]\n",
      "No 1 outside 1 inside 0 [2, 4, 3, 1, 7, 8, 9, 14, 19, 16]\n",
      "No 2 outside 2 inside 1 [2, 3, 4, 1, 7, 8, 9, 14, 19, 16]\n",
      "No 3 outside 3 inside 3 [1, 2, 3, 4, 7, 8, 9, 14, 19, 16]\n",
      "No 4 outside 4 inside 0 [1, 2, 3, 4, 7, 8, 9, 14, 19, 16]\n",
      "No 5 outside 5 inside 0 [1, 2, 3, 4, 7, 8, 9, 14, 19, 16]\n",
      "No 6 outside 6 inside 0 [1, 2, 3, 4, 7, 8, 9, 14, 19, 16]\n",
      "No 7 outside 7 inside 0 [1, 2, 3, 4, 7, 8, 9, 14, 19, 16]\n",
      "No 8 outside 8 inside 0 [1, 2, 3, 4, 7, 8, 9, 14, 19, 16]\n"
     ]
    }
   ],
   "source": [
    "# Each loop, samll item go head, and big item go tail\n",
    "def shell_sort(array):\n",
    "    n = len(array)\n",
    "    d = 1\n",
    "    while d<n//3:\n",
    "        d=d*3+1\n",
    "    while d>0:\n",
    "        i_count=0\n",
    "        for i in range(d,n-1):\n",
    "            i_count+=1\n",
    "            j_count = 0\n",
    "            j = i - d\n",
    "            target = array[i]\n",
    "            while j>=0 and array[j]>target:\n",
    "                array[j+d] = array[j]\n",
    "                j_count+=1\n",
    "                j = j - d\n",
    "            array[j+d] = target\n",
    "            print(\"No\",i_count,'outside',i_count,'inside',j_count,array)\n",
    "        d=d//3\n",
    "\n",
    "\n",
    "array = [2,4,9,1,7,8,3,14,19,16]\n",
    "shell_sort(array)"
   ]
  },
  {
   "cell_type": "markdown",
   "metadata": {},
   "source": [
    "## Heap Sort"
   ]
  },
  {
   "cell_type": "code",
   "execution_count": 7,
   "metadata": {},
   "outputs": [
    {
     "name": "stdout",
     "output_type": "stream",
     "text": [
      "[1, 2, 3, 4, 7, 8, 9, 14, 16, 19]\n"
     ]
    }
   ],
   "source": [
    "# Each loop, samll item go tail and big item go head. It's different than shell_sort and insert_sort, which the big item will go tail and samll item go head\n",
    "def sift(array,low,high):\n",
    "    n = len(array)\n",
    "    i = low\n",
    "    j = 2*i+1\n",
    "    temp = array[i]\n",
    "    while j<=high:\n",
    "        if j+1<=high and array[j+1]>array[j]:\n",
    "            j = j+1\n",
    "        if array[j]>temp:\n",
    "            array[i] = array[j]\n",
    "            i = j\n",
    "            j = 2*i+1\n",
    "        else:\n",
    "            array[i] = temp\n",
    "            break\n",
    "    else:\n",
    "        array[i] = temp\n",
    "\n",
    "def heap_sort(array):\n",
    "    n = len(array)\n",
    "    for i in range((n-1-1)//2,-1,-1):\n",
    "        sift(array,i,n-1)\n",
    "    for i in range((n-1),-1,-1):\n",
    "        array[0],array[i] = array[i],array[0]\n",
    "        sift(array,0,i-1)\n",
    "    print(array)\n",
    "\n",
    "array = [2,4,9,1,7,8,3,14,19,16]\n",
    "heap_sort(array)"
   ]
  },
  {
   "cell_type": "markdown",
   "metadata": {},
   "source": [
    "## Selection Sort"
   ]
  },
  {
   "cell_type": "code",
   "execution_count": 8,
   "metadata": {},
   "outputs": [
    {
     "name": "stdout",
     "output_type": "stream",
     "text": [
      "No 1 outside 1 inside 8 [1, 4, 9, 2, 7, 8, 3, 14, 19, 16]\n",
      "No 2 outside 2 inside 7 [1, 2, 9, 4, 7, 8, 3, 14, 19, 16]\n",
      "No 3 outside 3 inside 6 [1, 2, 3, 4, 7, 8, 9, 14, 19, 16]\n",
      "No 4 outside 4 inside 5 [1, 2, 3, 4, 7, 8, 9, 14, 19, 16]\n",
      "No 5 outside 5 inside 4 [1, 2, 3, 4, 7, 8, 9, 14, 19, 16]\n",
      "No 6 outside 6 inside 3 [1, 2, 3, 4, 7, 8, 9, 14, 19, 16]\n",
      "No 7 outside 7 inside 2 [1, 2, 3, 4, 7, 8, 9, 14, 19, 16]\n",
      "No 8 outside 8 inside 1 [1, 2, 3, 4, 7, 8, 9, 14, 19, 16]\n",
      "No 9 outside 9 inside 0 [1, 2, 3, 4, 7, 8, 9, 14, 19, 16]\n"
     ]
    }
   ],
   "source": [
    "# Each loop, samll item go head and bit item go tail\n",
    "def selection_sort(array):\n",
    "    n = len(array)\n",
    "    i_count = 0\n",
    "    for i in range(n-1):\n",
    "        i_count+=1\n",
    "        j_count = 0\n",
    "        minIndex=  i\n",
    "        for j in range(i+1,n-1):\n",
    "            j_count+=1\n",
    "            if array[minIndex]>array[j]:\n",
    "                minIndex=  j\n",
    "        array[minIndex],array[i] = array[i],array[minIndex]\n",
    "        print(\"No\",i_count,'outside',i_count,'inside',j_count,array)\n",
    "\n",
    "array = [2,4,9,1,7,8,3,14,19,16]\n",
    "selection_sort(array)"
   ]
  },
  {
   "cell_type": "markdown",
   "metadata": {},
   "source": [
    "## Merge Sort"
   ]
  },
  {
   "cell_type": "code",
   "execution_count": 9,
   "metadata": {},
   "outputs": [
    {
     "data": {
      "text/plain": [
       "[1, 2, 3, 4, 7, 8, 9, 14, 16, 19]"
      ]
     },
     "execution_count": 9,
     "metadata": {},
     "output_type": "execute_result"
    }
   ],
   "source": [
    "# Each loop, samll section go head and big section go tail\n",
    "def merge_sort(array):\n",
    "    n = len(array)\n",
    "    if n<=1:\n",
    "        return array\n",
    "    middle = n//2\n",
    "    left = merge_sort(array[:middle])\n",
    "    right = merge_sort(array[middle:])\n",
    "    return merge(left,right)\n",
    "def merge(left,right):\n",
    "    result = []\n",
    "    i = 0\n",
    "    j = 0\n",
    "    while i<len(left) and j<len(right):\n",
    "        if left[i]<right[j]:\n",
    "            result.append(left[i])\n",
    "            i+=1\n",
    "        else:\n",
    "            result.append(right[j])\n",
    "            j+=1\n",
    "    result.extend(left[i:])\n",
    "    result.extend(right[j:])\n",
    "    return result\n",
    "\n",
    "array = [2,4,9,1,7,8,3,14,19,16]\n",
    "merge_sort(array)"
   ]
  },
  {
   "cell_type": "markdown",
   "metadata": {},
   "source": [
    "## Count Sort"
   ]
  },
  {
   "cell_type": "code",
   "execution_count": 10,
   "metadata": {},
   "outputs": [
    {
     "name": "stdout",
     "output_type": "stream",
     "text": [
      "[1, 2, 3, 4, 7, 8, 9, 14, 16, 19]\n"
     ]
    }
   ],
   "source": [
    "def count_sort(array):\n",
    "    n = len(array)\n",
    "    buckets = [0]*(max(array)+1)\n",
    "    for i in array:\n",
    "        buckets[i]+=1\n",
    "    i=0\n",
    "    for j in range(len(buckets)):\n",
    "        while buckets[j]>0:\n",
    "            array[i] = j\n",
    "            i+=1\n",
    "            buckets[j]-=1\n",
    "    print(array)\n",
    "\n",
    "array = [2,4,9,1,7,8,3,14,19,16]\n",
    "count_sort(array)"
   ]
  },
  {
   "cell_type": "markdown",
   "metadata": {},
   "source": [
    "## Buckets Sort"
   ]
  },
  {
   "cell_type": "code",
   "execution_count": 11,
   "metadata": {},
   "outputs": [
    {
     "name": "stdout",
     "output_type": "stream",
     "text": [
      "No 1 outsdie 1 insdie 0 [2, 4, 1, 3]\n",
      "No 2 outsdie 2 insdie 0 [2, 4, 1, 3]\n",
      "No 3 outsdie 3 insdie 2 [1, 2, 4, 3]\n",
      "No 1 outsdie 1 insdie 0 [1, 2, 4, 3, 9, 7, 8]\n",
      "No 2 outsdie 2 insdie 0 [1, 2, 4, 3, 9, 7, 8]\n",
      "No 3 outsdie 3 insdie 0 [1, 2, 4, 3, 9, 7, 8]\n",
      "No 4 outsdie 4 insdie 1 [1, 2, 3, 4, 9, 7, 8]\n",
      "No 5 outsdie 5 insdie 0 [1, 2, 3, 4, 9, 7, 8]\n",
      "No 6 outsdie 6 insdie 1 [1, 2, 3, 4, 7, 9, 8]\n",
      "No 1 outsdie 1 insdie 0 [1, 2, 3, 4, 7, 9, 8, 14]\n",
      "No 2 outsdie 2 insdie 0 [1, 2, 3, 4, 7, 9, 8, 14]\n",
      "No 3 outsdie 3 insdie 0 [1, 2, 3, 4, 7, 9, 8, 14]\n",
      "No 4 outsdie 4 insdie 0 [1, 2, 3, 4, 7, 9, 8, 14]\n",
      "No 5 outsdie 5 insdie 0 [1, 2, 3, 4, 7, 9, 8, 14]\n",
      "No 6 outsdie 6 insdie 0 [1, 2, 3, 4, 7, 9, 8, 14]\n",
      "No 7 outsdie 7 insdie 1 [1, 2, 3, 4, 7, 8, 9, 14]\n",
      "[1, 2, 3, 4, 7, 8, 9, 14, 19, 16]\n"
     ]
    }
   ],
   "source": [
    "def buckets_sort(array):\n",
    "    n = len(array)\n",
    "    buckets = []\n",
    "    maxVal,minVal=max(array),min(array)\n",
    "    bucketsRange = 5\n",
    "    bucketsSize= (maxVal-minVal)//bucketsRange + 1\n",
    "    for i in range(bucketsSize):\n",
    "        buckets.append([])\n",
    "    for i in array:\n",
    "        buckets[(i-minVal)//bucketsRange].append(i)\n",
    "    array = []\n",
    "    for bucket in buckets:\n",
    "        insert_sort(array)\n",
    "        array.extend(bucket)\n",
    "    print(array)\n",
    "\n",
    "\n",
    "array = [2,4,9,1,7,8,3,14,19,16]\n",
    "buckets_sort(array)"
   ]
  },
  {
   "cell_type": "markdown",
   "metadata": {},
   "source": [
    "## Index Sort"
   ]
  },
  {
   "cell_type": "code",
   "execution_count": 12,
   "metadata": {},
   "outputs": [
    {
     "name": "stdout",
     "output_type": "stream",
     "text": [
      "[1, 2, 3, 4, 14, 16, 7, 8, 9, 19]\n",
      "[1, 2, 3, 4, 7, 8, 9, 14, 16, 19]\n"
     ]
    }
   ],
   "source": [
    "def index_sort(array):\n",
    "    n = len(array)\n",
    "    div = 1\n",
    "    mod = 10\n",
    "    mostBit = len(str(max(array)))\n",
    "    buckets = []\n",
    "    for i in range(mod):\n",
    "        buckets.append([])\n",
    "    while mostBit>0:\n",
    "        for i in array:\n",
    "            buckets[i//div%mod].append(i)\n",
    "        i = 0\n",
    "        for bucket in buckets:\n",
    "            while len(bucket)>0:\n",
    "                array[i] = bucket.pop(0)\n",
    "                i+=1\n",
    "        div*=10\n",
    "        mostBit-=1\n",
    "        print(array)\n",
    "\n",
    "array = [2,4,9,1,7,8,3,14,19,16]\n",
    "index_sort(array)"
   ]
  },
  {
   "cell_type": "markdown",
   "metadata": {},
   "source": [
    "# Explanation"
   ]
  },
  {
   "cell_type": "code",
   "execution_count": 13,
   "metadata": {},
   "outputs": [],
   "source": [
    "\n",
    "array = [2,4,9,1,7,8,3,14,19,16]\n",
    "array1 = [1, 2, 3, 4, 7, 8, 9, 14, 16, 19]"
   ]
  },
  {
   "cell_type": "markdown",
   "metadata": {},
   "source": [
    "## Bubble Sort"
   ]
  },
  {
   "cell_type": "code",
   "execution_count": 14,
   "metadata": {},
   "outputs": [
    {
     "name": "stdout",
     "output_type": "stream",
     "text": [
      "No 1 outsie 1 inside 9 [2, 4, 1, 7, 8, 3, 9, 14, 16, 19]\n",
      "No 2 outsie 2 inside 8 [2, 1, 4, 7, 3, 8, 9, 14, 16, 19]\n",
      "No 3 outsie 3 inside 7 [1, 2, 4, 3, 7, 8, 9, 14, 16, 19]\n",
      "No 4 outsie 4 inside 6 [1, 2, 3, 4, 7, 8, 9, 14, 16, 19]\n",
      "No 5 outsie 5 inside 5 [1, 2, 3, 4, 7, 8, 9, 14, 16, 19]\n",
      "No 6 outsie 6 inside 4 [1, 2, 3, 4, 7, 8, 9, 14, 16, 19]\n",
      "No 7 outsie 7 inside 3 [1, 2, 3, 4, 7, 8, 9, 14, 16, 19]\n",
      "No 8 outsie 8 inside 2 [1, 2, 3, 4, 7, 8, 9, 14, 16, 19]\n",
      "No 9 outsie 9 inside 1 [1, 2, 3, 4, 7, 8, 9, 14, 16, 19]\n",
      "No 10 outsie 10 inside 0 [1, 2, 3, 4, 7, 8, 9, 14, 16, 19]\n"
     ]
    }
   ],
   "source": [
    "# 每一次 循环 都是 将小的 往前走， 大的往后移\n",
    "def bubble_sort(array1):\n",
    "    if array1 == 0:\n",
    "        print('this array is None')\n",
    "        return False\n",
    "    i_count = 0\n",
    "    n = len(array)\n",
    "    for i in range(n):\n",
    "        i_count = i_count + 1\n",
    "        j_count = 0\n",
    "        for j in range(n - i - 1):\n",
    "            j_count = j_count + 1\n",
    "            if array1[j] > array1[j+1]:\n",
    "                # temp = array1[j]\n",
    "                # array1[j] = array1[j+1]\n",
    "                # array1[j+1] = temp\n",
    "                array[j+1],array[j]= array[j],array[j+1]\n",
    "        print(\"No\",i_count,'outsie',i_count,'inside',j_count,array)\n",
    "array = [2,4,9,1,7,8,3,14,19,16]\n",
    "\n",
    "bubble_sort(array)"
   ]
  },
  {
   "cell_type": "markdown",
   "metadata": {},
   "source": [
    "## Binary Search"
   ]
  },
  {
   "cell_type": "code",
   "execution_count": 15,
   "metadata": {},
   "outputs": [
    {
     "name": "stdout",
     "output_type": "stream",
     "text": [
      "get this target: 3 position is: 3\n"
     ]
    }
   ],
   "source": [
    "# https://github.com/Jack-Lee-Hiter/AlgorithmsByPython\n",
    "def binary_search(target,array1):\n",
    "\n",
    "\n",
    "    start = 0\n",
    "    end = len(array1) - 1\n",
    "\n",
    "    while start <= end:\n",
    "        middle = (start+end) // 2\n",
    "\n",
    "        if target > array1[middle]:\n",
    "            start = middle + 1\n",
    "        elif target < array1[middle]:\n",
    "            end = middle - 1\n",
    "        else:\n",
    "            print('get this target:',target,'position is:',middle+1)\n",
    "            break\n",
    "\n",
    "        if start > end:\n",
    "            print('this target don\\'t exist in this array')\n",
    "            break\n",
    "\n",
    "binary_search(3,array1)\n"
   ]
  },
  {
   "cell_type": "markdown",
   "metadata": {},
   "source": [
    "## Quick Sort"
   ]
  },
  {
   "cell_type": "code",
   "execution_count": 16,
   "metadata": {},
   "outputs": [
    {
     "name": "stdout",
     "output_type": "stream",
     "text": [
      "[39, 26, 77, 33, 18, 22, 45]\n",
      "<class 'list'>\n",
      "7\n",
      "[26, 33, 39]\n",
      "[18, 22, 26, 33, 39]\n",
      "[18, 22, 26, 33, 39, 45, 77]\n",
      "[18, 22, 26, 33, 39, 45, 77]\n"
     ]
    }
   ],
   "source": [
    "# 快速 排序 \n",
    "\n",
    "# 构建 三个 子 列表  大于 基准值的 放在 d[0] 等于基准值的放在 d[1] 小于基准值的放在 d[2]\n",
    "# 然后再使用 递归\n",
    "\n",
    "# 每一次循环 都是 将小的 往前放（也就是给d[0]） 大的往后放 （也就是给d[2]） 也就是相当于：最后小的array 小的区间 往前走， 大的 array 大的区间 往后放\n",
    "def quick_sort(array):\n",
    "    d = [[],[],[]]\n",
    "    # 设置基准值 随便设置 \n",
    "    d_pivort = array[-1]\n",
    "    \n",
    "    for i in array:\n",
    "        # 将 小于 基准值 的 数字 放入 d[0]\n",
    "        if i < d_pivort:\n",
    "            d[0].append(i)\n",
    "        # 将 大于 基准值 的 数字 放入 d[2]\n",
    "        elif i > d_pivort:\n",
    "            d[2].append(i)\n",
    "        # 将 等于 基准值 的数字 放入 d[1]\n",
    "        else:\n",
    "            d[1].append(i)\n",
    "    # 将 大于 基准值 组成的 新array 进行 递归 再次排序\n",
    "    if len(d[0]) > 1:\n",
    "        d[0]=quick_sort(d[0])\n",
    "    # 将 大于 基准值 组成的 新array 进行 递归 再次排序\n",
    "    if len(d[2]) > 1:\n",
    "        d[2] = quick_sort(d[2])\n",
    "    \n",
    "    d[0].extend(d[1])\n",
    "    d[0].extend(d[2])\n",
    "    print(d[0])\n",
    "    return d[0]\n",
    "\n",
    "#array = [2,4,9,1,7,8,3,14,19,16]\n",
    "array = [39,26,77,33,18,22,45]\n",
    "print(array)\n",
    "print(type(array))\n",
    "print(len(array))\n",
    "new_array = quick_sort(array)\n",
    "print(new_array)"
   ]
  },
  {
   "cell_type": "markdown",
   "metadata": {},
   "source": [
    "## Insert Sort"
   ]
  },
  {
   "cell_type": "code",
   "execution_count": 17,
   "metadata": {},
   "outputs": [
    {
     "name": "stdout",
     "output_type": "stream",
     "text": [
      "No. 1 outsdie 1 insdie 0 [2, 4, 9, 1, 7, 8, 3, 14, 19, 16]\n",
      "No. 2 outsdie 2 insdie 0 [2, 4, 9, 1, 7, 8, 3, 14, 19, 16]\n",
      "No. 3 outsdie 3 insdie 3 [1, 2, 4, 9, 7, 8, 3, 14, 19, 16]\n",
      "No. 4 outsdie 4 insdie 1 [1, 2, 4, 7, 9, 8, 3, 14, 19, 16]\n",
      "No. 5 outsdie 5 insdie 1 [1, 2, 4, 7, 8, 9, 3, 14, 19, 16]\n",
      "No. 6 outsdie 6 insdie 4 [1, 2, 3, 4, 7, 8, 9, 14, 19, 16]\n",
      "No. 7 outsdie 7 insdie 0 [1, 2, 3, 4, 7, 8, 9, 14, 19, 16]\n",
      "No. 8 outsdie 8 insdie 0 [1, 2, 3, 4, 7, 8, 9, 14, 19, 16]\n",
      "No. 9 outsdie 9 insdie 1 [1, 2, 3, 4, 7, 8, 9, 14, 16, 19]\n"
     ]
    }
   ],
   "source": [
    "# insert_sort and shell_sort 都是 每一次 都将 大的往后走， 小的往前放\n",
    "def insert_sort(array):\n",
    "    i_count = 0\n",
    "    for i in range(len(array)-1):\n",
    "        i_count = i_count+1\n",
    "        j = i\n",
    "        j_count=0\n",
    "        # 每次循环的一个待插入的数\n",
    "#         target = array[i] = array[j]\n",
    "        target = array[i+1]\n",
    "        # 比较 后移 给 target 腾位置\n",
    "        while j>=0 and array[j] > target:\n",
    "            j_count+=1\n",
    "            array[j+1] = array[j]\n",
    "            j = j-1\n",
    "        # 把 target 插到空位\n",
    "        array[j+1] = target\n",
    "        print('No.',i_count,'outsdie',i_count,'insdie',j_count,array)\n",
    "array = [2,4,9,1,7,8,3,14,19,16]\n",
    "\n",
    "insert_sort(array)"
   ]
  },
  {
   "cell_type": "markdown",
   "metadata": {},
   "source": [
    "## Shell Sort"
   ]
  },
  {
   "cell_type": "code",
   "execution_count": 18,
   "metadata": {},
   "outputs": [
    {
     "name": "stdout",
     "output_type": "stream",
     "text": [
      "No. 1 outside iternation: 1 inside iternation: 0 [2, 4, 9, 1, 7, 8, 3, 14, 19, 16]\n",
      "No. 2 outside iternation: 2 inside iternation: 0 [2, 4, 9, 1, 7, 8, 3, 14, 19, 16]\n",
      "No. 3 outside iternation: 3 inside iternation: 1 [2, 4, 3, 1, 7, 8, 9, 14, 19, 16]\n",
      "No. 4 outside iternation: 4 inside iternation: 0 [2, 4, 3, 1, 7, 8, 9, 14, 19, 16]\n",
      "No. 5 outside iternation: 5 inside iternation: 0 [2, 4, 3, 1, 7, 8, 9, 14, 19, 16]\n",
      "No. 6 outside iternation: 6 inside iternation: 0 [2, 4, 3, 1, 7, 8, 9, 14, 19, 16]\n",
      "No. 1 outside iternation: 1 inside iternation: 0 [2, 4, 3, 1, 7, 8, 9, 14, 19, 16]\n",
      "No. 2 outside iternation: 2 inside iternation: 1 [2, 3, 4, 1, 7, 8, 9, 14, 19, 16]\n",
      "No. 3 outside iternation: 3 inside iternation: 3 [1, 2, 3, 4, 7, 8, 9, 14, 19, 16]\n",
      "No. 4 outside iternation: 4 inside iternation: 0 [1, 2, 3, 4, 7, 8, 9, 14, 19, 16]\n",
      "No. 5 outside iternation: 5 inside iternation: 0 [1, 2, 3, 4, 7, 8, 9, 14, 19, 16]\n",
      "No. 6 outside iternation: 6 inside iternation: 0 [1, 2, 3, 4, 7, 8, 9, 14, 19, 16]\n",
      "No. 7 outside iternation: 7 inside iternation: 0 [1, 2, 3, 4, 7, 8, 9, 14, 19, 16]\n",
      "No. 8 outside iternation: 8 inside iternation: 0 [1, 2, 3, 4, 7, 8, 9, 14, 19, 16]\n",
      "No. 9 outside iternation: 9 inside iternation: 1 [1, 2, 3, 4, 7, 8, 9, 14, 16, 19]\n",
      "[1, 2, 3, 4, 7, 8, 9, 14, 16, 19]\n"
     ]
    }
   ],
   "source": [
    "# insert_sort and shell_sort 都是 每一次 都将 大的往后走， 小的往前放\n",
    "def shellSort(array):\n",
    "    i_count = 0\n",
    "    lens = len(array)\n",
    "    d = 1  \n",
    "    while d < lens // 3: # (lens//3 == 3) \n",
    "        d = d * 3 + 1  # 动态定义间隔序列\n",
    "    while d > 0:\n",
    "        i_count = 0\n",
    "        for i in range(d, lens): # (4,10) == 4,5,6,7,8,9\n",
    "            i_count = i_count +1\n",
    "            j_count = 0\n",
    "            j = i-d\n",
    "            \n",
    "            target = array[i]\n",
    "            \n",
    "            #curNum, preIndex = nums[i], i - d  # curNum 保存当前待插入的数\n",
    "            while j >= 0 and array[j] > target:\n",
    "                j_count = j_count +1\n",
    "                array[j + d] = array[j] # 将比 curNum 大的元素向后移动\n",
    "                j = j - d\n",
    "            array[j + d] = target  # 待插入的数的正确位置\n",
    "            print('No.',i_count,'outside iternation:',i_count,'inside iternation:',j_count,array)\n",
    "        d //= 3  # 下一个动态间隔\n",
    "    return array\n",
    "array = [2,4,9,1,7,8,3,14,19,16]\n",
    "\n",
    "array_temp = shellSort(array)\n",
    "print(array_temp)"
   ]
  },
  {
   "cell_type": "markdown",
   "metadata": {},
   "source": [
    "## Heap Sort"
   ]
  },
  {
   "cell_type": "markdown",
   "metadata": {},
   "source": [
    "堆排序 是利用堆这种数据结构而设计的一种排序算法，是一种选择排序<br>堆是具有一下性质的完全二叉树：每个节点的值都大于或等于其左右孩子节点的值，称为大定堆；或者每个节点的值都小于或等于其左右孩子节点的值，称为 小顶堆<br>堆排序思路为：将一个无序序列调整为一个堆，就能找出序列中的最大值（或者最小值），然后将找出的这个元素与末尾元素交换，这样有序序列元素就增加一个，无序序列元素就减少一个，对新的无序序列重复操作，从而实现排序<br>1.构造初始堆，将给定无序序列构造成一个大顶堆（一般升序采用大顶堆，降序采用小顶堆<br>2. 将堆顶元素与末尾元素进行交换，使末尾元素最大。然后继续调整堆，再将堆顶元素与末尾元素交换，得到第二大元素<br>3.重新调整结构，使其满足堆定义，然后继续交换堆顶元素与当前末尾元素<br>4. 如此反复进行交换，重建，交换 直到整个序列有序"
   ]
  },
  {
   "cell_type": "code",
   "execution_count": 19,
   "metadata": {},
   "outputs": [
    {
     "name": "stdout",
     "output_type": "stream",
     "text": [
      "手动建的乱序表: [2, 20, 22, 81, 46, 40, 64, 80, 68, 21, 76, 83, 55, 53, 17, 35, 23, 15, 73, 6, 39, 69, 31, 25, 26, 59, 41, 33, 89, 12, 72, 66, 82, 0, 8, 57, 4, 10, 18, 62, 67, 32, 38, 60, 65, 58, 52, 7, 95, 9, 47, 24, 27, 28, 90, 97, 79, 14, 70, 29, 88, 71, 44, 54, 37, 30, 34, 61, 75, 91, 11, 50, 42, 19, 45, 96, 98, 74, 49, 92, 63, 5, 48, 85, 78, 16, 3, 87, 94, 86, 56, 43, 93, 36, 1, 77, 84, 13, 51, 99]\n",
      "跟堆建成: [99, 98, 97, 96, 94, 95, 89, 91, 81, 92, 93, 84, 90, 79, 88, 82, 80, 57, 74, 67, 85, 87, 58, 77, 83, 59, 55, 53, 70, 29, 72, 66, 35, 75, 23, 50, 45, 73, 49, 63, 48, 78, 38, 76, 86, 46, 52, 40, 51, 26, 47, 24, 27, 28, 41, 33, 2, 14, 64, 17, 12, 71, 44, 54, 37, 30, 34, 61, 0, 8, 11, 15, 42, 19, 4, 68, 10, 18, 20, 62, 6, 5, 21, 32, 39, 16, 3, 69, 60, 65, 56, 43, 31, 36, 1, 22, 7, 13, 25, 9]\n",
      "排序后的结果: [0, 1, 2, 3, 4, 5, 6, 7, 8, 9, 10, 11, 12, 13, 14, 15, 16, 17, 18, 19, 20, 21, 22, 23, 24, 25, 26, 27, 28, 29, 30, 31, 32, 33, 34, 35, 36, 37, 38, 39, 40, 41, 42, 43, 44, 45, 46, 47, 48, 49, 50, 51, 52, 53, 54, 55, 56, 57, 58, 59, 60, 61, 62, 63, 64, 65, 66, 67, 68, 69, 70, 71, 72, 73, 74, 75, 76, 77, 78, 79, 80, 81, 82, 83, 84, 85, 86, 87, 88, 89, 90, 91, 92, 93, 94, 95, 96, 97, 98, 99]\n"
     ]
    }
   ],
   "source": [
    "# 每一次的宗旨就是 将 大的往前走，小的往后走 不同于 shell_sort 和 insert_sort （他俩是每一次都将大的往后走，小的往前走）\n",
    "\n",
    "# 堆排序(没用递归)\n",
    "#第一步:调整三个节点:父节点和左右子节点,使其成为大根堆,如果while能一直向下循环,那么这次操作就是一次向下循环\n",
    "def sift(li, low, high):\n",
    "    \"\"\"\n",
    "    li, 0, i - 1\n",
    "    :param li: 列表\n",
    "    :param low: 堆的根节点位置\n",
    "    :param high: 堆的最后一个元素的位置,high是最后一个数字的索引,超了high就不存在了\n",
    "    :return:\n",
    "    \"\"\"\n",
    "    i = low # i最开始指向根节点,根节点数字的索引\n",
    "    j = 2 * i + 1 # j开始是左孩子,j是i的左孩子的索引\n",
    "    tmp = li[low] # 把堆顶存起来\n",
    "    while j <= high: # 只要j位置有数\n",
    "        #如果右孩子节点存在,就和左孩子节点比较大小,把大的值放到l[j]中\n",
    "        if j + 1 <= high and li[j+1] > li[j]: # 如果右孩子有并且右孩子比左孩子大,j + 1 <= high保证右孩子不超索引范围\n",
    "            j = j + 1  # j指向右孩子\n",
    "        #如果子节点中最大值大于父节点的值,那就将父节点的值改成最大的子节点的值,此时i指的是父节点的索引,l[j]是三个节点中的最大值\n",
    "        if li[j] > tmp: #子节点找到了最大的li[j],他要和根节点(如果不在顶层就是父节点了)的数字比大小,大的放在根节点\n",
    "            li[i] = li[j]\n",
    "            i = j           # 往下看一层,相当于i+=1,i向下走了一层,j也就向下走一层,找到了下一层的左孩子\n",
    "            j = 2 * i + 1\n",
    "        #如果前面两个if都不成立,那么父节点(tmp)的值就是三个节点中最大的了\n",
    "        else:       # tmp更大，把tmp放到i的位置上\n",
    "            li[i] = tmp     # 把tmp放到某一级领导位置上\n",
    "            break\n",
    "    #如果j超过了索引范围,那么此时i就指到了叶子节点(也就是最后一行了),那么就证明tmp是最小的,就把tmp放到最后一行空着的的叶子节点(li[i])即可\n",
    "    else:#此时j>high,而i到了最后一行了,就把tmp放到最后一行的子叶了\n",
    "        li[i] = tmp  # 把tmp放到叶子节点上\n",
    "\n",
    "\n",
    "#建堆+出列表\n",
    "def heap_sort(li):\n",
    "    n = len(li)\n",
    "    # 循环所有父节点建堆(重点:倒序循环父节点,从最下面的父节点开始循环)\n",
    "    for i in range((n-2)//2, -1, -1):\n",
    "        #先从最后一个节点的父节点开始循环,\n",
    "        # 最后一个节点假设是i,它的父节点就是(i-1)//2这是固定的算法，不管是左子节点还是右子节点,\n",
    "        # 现在最后一个数字索引是n-1,那么他的父节点就是（n-2）//2\n",
    "        # i表示建堆的时候调整的部分的根的下标,每次i都是一个父节点,调整的是他的子树(只包含自己的两个子节点)\n",
    "        #这里是从(n-2)//2遍历到0(顾头不顾尾),倒序(-1)\n",
    "        sift(li, i, n-1)\n",
    "        #这里n-1一直指代这个堆的最后一个叶子节点,\n",
    "        # 其实他应该变化,每次都应该指该子树的右子节点,\n",
    "        # 但是这个不容易求,n-1肯定比其他子树的右子节点大,用它限制肯定会多算几步,但是一定不会错\n",
    "\n",
    "    # 建堆完成了(是按照堆的顺序排的数字)\n",
    "    print('跟堆建成:',li)#现在出来的列表是按照堆的顺序拿出来的,还要最后排一下序\n",
    "\n",
    "    #按照列表的顺序排序()\n",
    "    for i in range(n-1, -1, -1): #这里可以改写成(n-1,0,-1),顾头不顾尾,所以0这一次不会继续循环了,到1就结束了,到最后一个元素0索引时,下一步自己和自己交换就没意思了,所以我个人认为可以吧-1换成0\n",
    "        # i 每次取值都是指向当前堆的最后一个元素\n",
    "        #从n-1遍历到0,每次步长是-1,就相当于是列表从最右端每次都向最左端挪一位\n",
    "        li[0], li[i] = li[i], li[0]\n",
    "        sift(li, 0, i - 1)\n",
    "        #i-1是新的high,i指的是最后一个数字,他现在放的是根节点那个最大数字,\n",
    "        # 循环一次就相当于最大值找到了,再循环一次就又找了个第二大的\n",
    "\n",
    "\n",
    "li = [i for i in range(100)]\n",
    "import random\n",
    "random.shuffle(li)\n",
    "print('手动建的乱序表:',li)\n",
    "\n",
    "heap_sort(li)\n",
    "print('排序后的结果:',li)"
   ]
  },
  {
   "cell_type": "code",
   "execution_count": 20,
   "metadata": {},
   "outputs": [
    {
     "name": "stdout",
     "output_type": "stream",
     "text": [
      "[1, 2, 3, 4, 7, 8, 9, 14, 16, 19]\n"
     ]
    }
   ],
   "source": [
    "# https://www.pythonheidong.com/blog/article/347620/3e336cf02082943f925f/\n",
    "# 大根堆（从小到大排列）\n",
    "def heapSort(nums):\n",
    "    # 调整堆\n",
    "    def adjustHeap(nums, i, size):\n",
    "        # 非叶子结点的左右两个孩子\n",
    "        lchild = 2 * i + 1\n",
    "        rchild = 2 * i + 2\n",
    "        # 在当前结点、左孩子、右孩子中找到最大元素的索引\n",
    "        largest = i \n",
    "        if lchild < size and nums[lchild] > nums[largest]: \n",
    "            largest = lchild \n",
    "        if rchild < size and nums[rchild] > nums[largest]: \n",
    "            largest = rchild \n",
    "        # 如果最大元素的索引不是当前结点，把大的结点交换到上面，继续调整堆\n",
    "        if largest != i: \n",
    "            nums[largest], nums[i] = nums[i], nums[largest] \n",
    "            # 第 2 个参数传入 largest 的索引是交换前大数字对应的索引\n",
    "            # 交换后该索引对应的是小数字，应该把该小数字向下调整\n",
    "            adjustHeap(nums, largest, size)\n",
    "    # 建立堆\n",
    "    def builtHeap(nums, size):\n",
    "        for i in range(len(nums)//2)[::-1]: # 从倒数第一个非叶子结点开始建立大根堆\n",
    "            adjustHeap(nums, i, size) # 对所有非叶子结点进行堆的调整\n",
    "        # print(nums)  # 第一次建立好的大根堆\n",
    "    # 堆排序 \n",
    "    size = len(nums)\n",
    "    builtHeap(nums, size) \n",
    "    for i in range(len(nums))[::-1]: \n",
    "        # 每次根结点都是最大的数，最大数放到后面\n",
    "        nums[0], nums[i] = nums[i], nums[0] \n",
    "        # 交换完后还需要继续调整堆，只需调整根节点，此时数组的 size 不包括已经排序好的数\n",
    "        adjustHeap(nums, 0, i) \n",
    "    return nums  # 由于每次大的都会放到后面，因此最后的 nums 是从小到大排列\n",
    "\n",
    "array = [2,4,9,1,7,8,3,14,19,16]\n",
    "\n",
    "array_temp = heapSort(array)\n",
    "print(array_temp)"
   ]
  },
  {
   "cell_type": "code",
   "execution_count": 21,
   "metadata": {},
   "outputs": [
    {
     "name": "stdout",
     "output_type": "stream",
     "text": [
      "No. 1 i 4 item: 7\n",
      "No. 2 i 3 item: 1\n",
      "No. 3 i 2 item: 9\n",
      "No. 4 i 1 item: 4\n",
      "No. 5 i 0 item: 2\n"
     ]
    }
   ],
   "source": [
    "# 数据结构 P114\n",
    "\n",
    "\n",
    "# 循环 所有父节点 建堆 （重点 ： 倒序循环 父节点，从最下面的父节点开始循环）\n",
    "array = [2,4,9,1,7,8,3,14,19,16]\n",
    "n = len(array)\n",
    "i_count = 0\n",
    "for i in range((n-2)//2,-1,-1): # 4-0 4,3,2,1,0\n",
    "    i_count += 1\n",
    "    print('No.',i_count,'i',i,'item:',array[i])\n",
    "    "
   ]
  },
  {
   "cell_type": "code",
   "execution_count": 22,
   "metadata": {},
   "outputs": [
    {
     "name": "stdout",
     "output_type": "stream",
     "text": [
      "Before sort array: [2, 4, 9, 1, 7, 8, 3, 14, 19, 16]\n",
      "根堆 建成： [19, 16, 9, 14, 7, 8, 3, 4, 1, 2]\n",
      "After sort array: [1, 2, 3, 4, 7, 8, 9, 14, 16, 19]\n"
     ]
    }
   ],
   "source": [
    "# 经典 堆排序\n",
    "# 每一次的宗旨就是 将 大的往前走，小的往后走 不同于 shell_sort 和 insert_sort （他俩是每一次都将大的往后走，小的往前走）\n",
    "\n",
    "# 堆排序（没用递归）\n",
    "# 第一步：调整三个节点：父节点 和 左右子节点， 使其成为大根堆，\n",
    "# 如果while 能一直向下循环，那么这次操作就是一次向下循环\n",
    "def sift(array,low,high):\n",
    "    \"\"\"\n",
    "    array:列表\n",
    "    low: 堆的根节点位置\n",
    "    high:堆的最后一个元素的位置，high 是最后一个数字的索引，如果超过high 就表示不存在\n",
    "    \"\"\"\n",
    "    i = low # i 最开始指向根节点，根节点数字的索引\n",
    "    j = 2*i+1 #  j 开始 是 左孩子， j 是 i 的左孩子的索引\n",
    "    temp = array[low] # 把堆顶 存起来\n",
    "    \n",
    "    while j <= high: # No.1 表示 看一下有没有 越界 叶子节点是否超出 array \n",
    "        # 如果右孩子节点存在，就和左孩子节点比较大小。把大的 值放到 array[j]中\n",
    "        # 如果右孩子有并且右孩子比左孩子大，j+1 <= high 保证右孩子不超索引范围\n",
    "        # N0.2 看一下 这个父节点 有没有 右孩子 ，而且 比较一下右孩子是否大于左孩子\n",
    "        if j+1 <= high and array[j+1] > array[j]:\n",
    "            j = j+1 # j指向右孩子\n",
    "        \n",
    "        # 如果子节点中最大值大于 父节点的值，那就将父节点的值改成最大的子节点的值\n",
    "        # 此时i 指的是父节点的索引 array[j] 是三个节点中的最大值\n",
    "        \n",
    "        # No.3 若进入到 第一个 if 中，那么此时 array[j] 就是 右孩子节点\n",
    "        # 若没有进入到 第一个 if 中，那么此时 array[j] 就是 还是左孩子节点\n",
    "        # 但不管怎么样 array[j]此时表示的就是 父 左 右 三个节点中 最大的那一个\n",
    "        # 找到了 最大的array[j] 他要和根节点 （如果不在顶层就是父节点了）的数字比较大小，大的放在根节点\n",
    "        # 这一步就是想比较 左/右孩子节点 大还是 root 根节点大\n",
    "        if array[j] > temp: \n",
    "            array[i] = array[j]\n",
    "            i = j\n",
    "            j = 2*i + 1\n",
    "        # 如果 前面两个 if 都不成立，那么父节点（temp）的值 就是 三个\n",
    "        # 点中最大的了\n",
    "        else:\n",
    "            array[i] = temp # temp 更大 把 temp 放到 i  的位置上\n",
    "            break \n",
    "    # 如果 j 超过了 索引范围 那么此时 表示 i 已经指到了 叶子节点 (也就是最后一行了)\n",
    "    # 那么就证明 temp 是最小的， 就把 temp 放到最后一行空着的叶子节点（array[i]）\n",
    "    # 此时 j > high 而 i 到了 最后一行了， 就把 temp 放到最后一行的 叶子节点了\n",
    "    else: \n",
    "        array[i] = temp # 把 temp 放到 叶子节点上\n",
    "        \n",
    "\n",
    "# 建堆+出列表\n",
    "def heap_sort(array):\n",
    "    n = len(array)\n",
    "    # 循环 所有父节点建堆 （重点：倒序循环负节点，从最下面的父节点开始循环）\n",
    "    for i in range((n-2)//2, -1, -1): # 这个 i的范围是（4，3，2，1，0）\n",
    "        # 先从最后一个节点的父节点开始循环，\n",
    "        # 最后一个节点假设是 i  ， 它的父节点就是（i-1）// 2  这是固定的算法，\n",
    "        # 不管是左子节点还是右子节点\n",
    "        # 现在最后一个数字索引是 n-1 ， 那么他的父节点就是（n-1 -1） // 2\n",
    "        # i 表示建堆的时候调整的部分的根的下标，每次i 都是一个父节点，\n",
    "        # 调整的是他的子树（只包含自己的两个子节点）\n",
    "        # 这里是从 （n-2）//2遍历到0 （顾头不顾尾），倒序（-1）\n",
    "        sift(array,i,n-1)\n",
    "    # 建堆 完成了 （是按照堆的顺序排的数字）\n",
    "    print('根堆 建成：',array) # 现在出来的列表 是按照 堆的顺序拿出来的 还要最后排一下序\n",
    "    \n",
    "    # 按照列表的顺序排序（）\n",
    "    # 这里可以改写成 （n-1,0,-1），顾头不顾尾 ， （9，1）\n",
    "    # \n",
    "    for i in range(n-1, -1, -1):\n",
    "        # i每次取值都是指向当前堆的最后一个元素\n",
    "        # 从 n-1 遍历到 0 ， 每次步长 都是 -1 就相当于 是列表从\n",
    "        # 最右端 每次 都向 最左端 挪一位\n",
    "        array[0],array[i] = array[i], array[0]\n",
    "        \n",
    "        # i-1 是新的 high 就是列表最后一个元素 他现在放的是根节点 那个最大数字。因为之前都已经排好了 现在最后一个元素肯定是最大的\n",
    "        # 回忆动画里边的 最后一个 就是最大的元素 下一次排序的时候 就可以把他去除了\n",
    "        sift(array,0,i-1)\n",
    "        # 循环一次 就相当于 最大值找到了 再循环一次就又找到了第二个大的\n",
    "        \n",
    "array = [2,4,9,1,7,8,3,14,19,16]\n",
    "print('Before sort array:',array)\n",
    "heap_sort(array)\n",
    "print('After sort array:',array)\n"
   ]
  },
  {
   "cell_type": "markdown",
   "metadata": {},
   "source": [
    "## Selection Sort"
   ]
  },
  {
   "cell_type": "code",
   "execution_count": 23,
   "metadata": {},
   "outputs": [
    {
     "name": "stdout",
     "output_type": "stream",
     "text": [
      "No. 1 outside iternation: 1 insiede iternation: 9 [1, 4, 9, 2, 7, 8, 3, 14, 19, 16]\n",
      "No. 2 outside iternation: 2 insiede iternation: 8 [1, 2, 9, 4, 7, 8, 3, 14, 19, 16]\n",
      "No. 3 outside iternation: 3 insiede iternation: 7 [1, 2, 3, 4, 7, 8, 9, 14, 19, 16]\n",
      "No. 4 outside iternation: 4 insiede iternation: 6 [1, 2, 3, 4, 7, 8, 9, 14, 19, 16]\n",
      "No. 5 outside iternation: 5 insiede iternation: 5 [1, 2, 3, 4, 7, 8, 9, 14, 19, 16]\n",
      "No. 6 outside iternation: 6 insiede iternation: 4 [1, 2, 3, 4, 7, 8, 9, 14, 19, 16]\n",
      "No. 7 outside iternation: 7 insiede iternation: 3 [1, 2, 3, 4, 7, 8, 9, 14, 19, 16]\n",
      "No. 8 outside iternation: 8 insiede iternation: 2 [1, 2, 3, 4, 7, 8, 9, 14, 19, 16]\n",
      "No. 9 outside iternation: 9 insiede iternation: 1 [1, 2, 3, 4, 7, 8, 9, 14, 16, 19]\n"
     ]
    }
   ],
   "source": [
    "# 每一次 循环都是 将 小的 往前走， 大的往后移\n",
    "def selectionSort(array):\n",
    "    i_count = 0\n",
    "    n = len(array)\n",
    "    for i in range(n - 1): # 遍历 len(array) - 1 次\n",
    "        i_count = i_count+1\n",
    "        j_count = 0\n",
    "        minIndex = i \n",
    "        for j in range(i+1,n):\n",
    "            j_count = j_count+1\n",
    "            if array[minIndex] > array[j]: # 更新 最小值索引\n",
    "                minIndex = j\n",
    "        array[i], array[minIndex] = array[minIndex],array[i]\n",
    "        \n",
    "        \n",
    "        print('No.',i_count,'outside iternation:',i_count,'insiede iternation:',j_count,array)\n",
    "        \n",
    "    return array\n",
    "array = [2,4,9,1,7,8,3,14,19,16]\n",
    "\n",
    "array_temp = selectionSort(array)"
   ]
  },
  {
   "cell_type": "markdown",
   "metadata": {},
   "source": [
    "## Merge Sort"
   ]
  },
  {
   "cell_type": "code",
   "execution_count": 24,
   "metadata": {},
   "outputs": [
    {
     "name": "stdout",
     "output_type": "stream",
     "text": [
      "[2, 4]\n",
      "[1, 7]\n",
      "[1, 7, 9]\n",
      "[1, 2, 4, 7, 9]\n",
      "[3, 8]\n",
      "[16, 19]\n",
      "[14, 16, 19]\n",
      "[3, 8, 14, 16, 19]\n",
      "[1, 2, 3, 4, 7, 8, 9, 14, 16, 19]\n"
     ]
    },
    {
     "data": {
      "text/plain": [
       "[1, 2, 3, 4, 7, 8, 9, 14, 16, 19]"
      ]
     },
     "execution_count": 24,
     "metadata": {},
     "output_type": "execute_result"
    }
   ],
   "source": [
    "# 每一次循环 都是将 小的 区间 往前走， 大的区间 往后移动\n",
    "\n",
    "def merge_sort(array):\n",
    "    n =len(array)\n",
    "    if n<=1:\n",
    "        return array\n",
    "    middle = n//2\n",
    "    left= merge_sort(array[:middle])\n",
    "    right=merge_sort(array[middle:])\n",
    "    return merge(left,right)\n",
    "def merge(left,right):\n",
    "    result =[]\n",
    "    i = 0\n",
    "    j =0\n",
    "    while i<len(left) and j<len(right):\n",
    "        if left[i]<right[j]:\n",
    "            result.append(left[i])\n",
    "            i+=1\n",
    "        else:\n",
    "            result.append(right[j])\n",
    "            j+=1\n",
    "    result.extend(left[i:])\n",
    "    result.extend(right[j:])\n",
    "    print(result)\n",
    "    return result\n",
    "array = [2,4,9,1,7,8,3,14,19,16]\n",
    "\n",
    "merge_sort(array)"
   ]
  },
  {
   "cell_type": "markdown",
   "metadata": {},
   "source": [
    "## Count Sort"
   ]
  },
  {
   "cell_type": "code",
   "execution_count": 25,
   "metadata": {},
   "outputs": [
    {
     "name": "stdout",
     "output_type": "stream",
     "text": [
      "[1, 2, 3, 4, 7, 8, 9, 14, 16, 19]\n",
      "None\n"
     ]
    }
   ],
   "source": [
    "\n",
    "array = [2,4,9,1,7,8,3,14,19,16]\n",
    "\n",
    "def countingSort(array):\n",
    "    bucket = [0] * (max(array) + 1) # 桶的个数\n",
    "    for i in array:  # 将元素值作为键值存储在桶中，记录其出现的次数\n",
    "        bucket[i] += 1\n",
    "    i = 0  # nums 的索引\n",
    "    #array.clear()\n",
    "    for j in range(len(bucket)):\n",
    "        while bucket[j] > 0:\n",
    "            array[i] = j\n",
    "            bucket[j] -= 1\n",
    "            i += 1\n",
    "    print(array)\n",
    "    #return array\n",
    "result = countingSort(array)\n",
    "print(result)\n",
    "\n",
    "##判断 array 是否 为 空数组的例子\n",
    "#证明 在 count_sort()中不能加 #array.clear() 的例子 i==0 这是必须的 因为 经过上一个 for 现在的 i=19 接下来还要用到 i 而且是要从index==0 开始\n",
    "# 所以必须在进入第二个 for loop 之前 加 i=0这一句\n",
    "# array = [[1,2,3],[1],2,1]\n",
    "# array1 = []\n",
    "# while len(array1)!=0:\n",
    "#     print(len(array1))\n",
    "#     break\n",
    "# else:\n",
    "#     print('null')\n",
    "    \n",
    "    \n"
   ]
  },
  {
   "cell_type": "markdown",
   "metadata": {},
   "source": [
    "## Buckets Sort"
   ]
  },
  {
   "cell_type": "code",
   "execution_count": 26,
   "metadata": {},
   "outputs": [
    {
     "name": "stdout",
     "output_type": "stream",
     "text": [
      "5\n",
      "No. 1 outsdie 1 insdie 0 [2, 4, 1, 3]\n",
      "No. 2 outsdie 2 insdie 2 [1, 2, 4, 3]\n",
      "No. 3 outsdie 3 insdie 1 [1, 2, 3, 4]\n",
      "No. 1 outsdie 1 insdie 1 [7, 9, 8]\n",
      "No. 2 outsdie 2 insdie 1 [7, 8, 9]\n",
      "No. 1 outsdie 1 insdie 1 [16, 19]\n",
      "[1, 2, 3, 4, 7, 8, 9, 14, 16, 19]\n"
     ]
    }
   ],
   "source": [
    "# 基数排序，计数排序，桶排序 都用到了 桶的概念 但对桶的使用方法上有明显差异：\n",
    "\"\"\"\n",
    "基数排序：根据键值的每位数字来分配桶；\n",
    "计数排序：每个桶只存储单一键值；\n",
    "桶排序：每个桶存储一定范围的数值；\n",
    "\"\"\"\n",
    "# https://www.bilibili.com/video/BV15W411B7YZ?from=search&seid=7259085332833844257\n",
    "# https://segmentfault.com/a/1190000022767400\n",
    "def bucketSort(array, defaultBucketRange = 5):\n",
    "    maxVal, minVal = max(array), min(array)\n",
    "    #bucketSize = defaultBucketSize  # 如果没有指定桶的大小，则默认为5\n",
    "    #bucketSize = (maxVal-minVal)/len(array)  # 如果没有指定桶的大小，则默认为5\n",
    "    # 每个桶 的范围，例如4个桶 那么 第0个:[0-bucketSize),1:[5,2*bucketSize),2:[10,3*bucketSize),3:[15,4*bucketSize)\n",
    "    bucketRange = defaultBucketRange\n",
    "    print(bucketRange)\n",
    "    # 确定 几个桶 （19-1）// 5 + 1 = 4.6  so , bucketSize = (4) 就四个桶 每个桶范围 [0,5)\n",
    "    bucketSize = (maxVal - minVal) // bucketRange + 1  # 数据分为 bucketCount 组 4.6 向下取整 为4 所以： 0，1，2，3\n",
    "    buckets = []  # 二维桶\n",
    "    # 下边这个for loop 是用来 建立 bucketSize 个 桶 的 bucketSize = 4 so buckets = [[],[],[],[]], len(buckets)就是桶的个数\n",
    "    for i in range(bucketSize):\n",
    "        buckets.append([])\n",
    "    # 利用函数映射将各个数据放入对应的桶中: 0:[0,5)/1:[5,10)/2:[10,15)/3:[15,20)\n",
    "    for i in array:\n",
    "        buckets[(i - minVal) // bucketRange].append(i)\n",
    "    array.clear()  # 清空 array so array = []/// array = [] 效果和 array.clear()一样\n",
    "    #array = []\n",
    "    # 对每一个二维桶中的元素进行排序\n",
    "    for bucket in buckets:\n",
    "        insert_sort(bucket)  # 假设使用插入排序\n",
    "        array.extend(bucket)    # 将排序好的桶依次放入到 nums 中\n",
    "    return array\n",
    "\n",
    "array = [2,4,9,1,7,8,3,14,19,16]\n",
    "result = bucketSort(array, defaultBucketRange = 5)\n",
    "print(result)"
   ]
  },
  {
   "cell_type": "code",
   "execution_count": 27,
   "metadata": {},
   "outputs": [
    {
     "name": "stdout",
     "output_type": "stream",
     "text": [
      "[[2, 4, 1, 3], [9, 7, 8], [14], [19, 16], []]\n",
      "No. 1 outsdie 1 insdie 0 [2, 4, 1, 3]\n",
      "No. 2 outsdie 2 insdie 2 [1, 2, 4, 3]\n",
      "No. 3 outsdie 3 insdie 1 [1, 2, 3, 4]\n",
      "No. 1 outsdie 1 insdie 1 [7, 9, 8]\n",
      "No. 2 outsdie 2 insdie 1 [7, 8, 9]\n",
      "No. 1 outsdie 1 insdie 1 [16, 19]\n",
      "No 5 bucket: []\n",
      "[1, 2, 3, 4, 7, 8, 9, 14, 16, 19]\n"
     ]
    }
   ],
   "source": [
    "def buckets_sort(array):\n",
    "    n = len(array)\n",
    "    maxVal,minVal = max(array),min(array)\n",
    "    buckets = []\n",
    "    bucketsRange =5\n",
    "    bucketsSize = (maxVal-minVal)//bucketsRange + 2\n",
    "    \"\"\"\n",
    "    bucketsSize 必须满足 bucketsSize*bucketsRange >= max(array) 不能小于 ，小于的话 array中最大的那个数 就没地存就会报错 out of range\n",
    "    但是可以大于 比如 bucketsSize ==4,5,6.... 因为大了就顶多是浪费空间 对于小array来说 没啥影响\n",
    "    多了的 就是 buckets = [[2, 4, 1, 3], [9, 7, 8], [14], [19, 16], []]\n",
    "    就是空数组 他啥都不干，所以最好是刚够 这样 健壮性好 不浪费空间，多了没事 但是不能少 \n",
    "    就是简单测试 记住就行\n",
    "    \"\"\"\n",
    "    #bucketsSize = (maxVal-minVal)//bucketsRange + 2\n",
    "    for i in range(bucketsSize):\n",
    "        buckets.append([])\n",
    "    for i in array:\n",
    "        buckets[(i-minVal)//bucketsRange].append(i)\n",
    "    i = 0\n",
    "    array.clear()\n",
    "    print(buckets)\n",
    "    i_count = 0\n",
    "    for bucket in buckets:\n",
    "        i_count += 1\n",
    "        if len(bucket) == 0:\n",
    "\n",
    "            print('No',i_count,'bucket:',bucket)\n",
    "        insert_sort(bucket)\n",
    "        array.extend(bucket)\n",
    "    print(array)\n",
    "array = [2,4,9,1,7,8,3,14,19,16]\n",
    "buckets_sort(array)"
   ]
  },
  {
   "cell_type": "markdown",
   "metadata": {},
   "source": [
    "## Index Sort"
   ]
  },
  {
   "cell_type": "code",
   "execution_count": 28,
   "metadata": {},
   "outputs": [
    {
     "name": "stdout",
     "output_type": "stream",
     "text": [
      "[1, 2, 3, 4, 14, 16, 7, 8, 9, 19]\n",
      "[1, 2, 3, 4, 7, 8, 9, 14, 16, 19]\n"
     ]
    }
   ],
   "source": [
    "\"\"\"\n",
    "基数排序不是直接根据元素整体的大小进行元素比较，\n",
    "而是将原始列表元素分成多个部分，对每一部分按一定的规则进行排序，\n",
    "进而形成最终的有序列表。\n",
    "\"\"\"\n",
    "# LSD Radix Sort\n",
    "def radixSort(array):\n",
    "    mod = 10\n",
    "    div = 1\n",
    "\n",
    "    mostBit = len(str(max(array)))  # 最大数的位数决定了外循环多少次\n",
    "    #buckets = [[] for row in range(mod)] # 构造 mod 个空桶\n",
    "    buckets = []\n",
    "    for i in range(mod):\n",
    "        buckets.append([])\n",
    "    while mostBit != 0:\n",
    "        for i in array:  # 将数据放入对应的桶中 （2%10==2 :2➗10=0...2/ 10%2==0: 10➗2=5...0  ）\n",
    "            buckets[i // div % mod].append(i)\n",
    "        i = 0  # nums 的索引\n",
    "        for bucket in buckets:  # 将数据收集起来\n",
    "            while len(bucket) != 0:\n",
    "                array[i] = bucket.pop(0) # 依次取出 /list.pop(0) 也就是删除list 中 indices==0 的元素\n",
    "                i += 1\n",
    "        div *= 10\n",
    "        mostBit -= 1\n",
    "        print(array)\n",
    "    return array\n",
    "array = [2,4,9,1,7,8,3,14,19,16]\n",
    " \n",
    "results = radixSort(array)\n"
   ]
  }
 ],
 "metadata": {
  "interpreter": {
   "hash": "846fd2d9bb562a436898b7cc368204fc2f9d44e5e9b051b4f6e855e721078f23"
  },
  "kernelspec": {
   "display_name": "Python 3.8.6 ('leetcode_env': conda)",
   "language": "python",
   "name": "python3"
  },
  "language_info": {
   "codemirror_mode": {
    "name": "ipython",
    "version": 3
   },
   "file_extension": ".py",
   "mimetype": "text/x-python",
   "name": "python",
   "nbconvert_exporter": "python",
   "pygments_lexer": "ipython3",
   "version": "3.8.6"
  },
  "orig_nbformat": 4
 },
 "nbformat": 4,
 "nbformat_minor": 2
}
