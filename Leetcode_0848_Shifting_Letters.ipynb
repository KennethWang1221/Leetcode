{
 "cells": [
  {
   "cell_type": "code",
   "execution_count": 57,
   "metadata": {},
   "outputs": [
    {
     "name": "stdout",
     "output_type": "stream",
     "text": [
      "rpl\n"
     ]
    }
   ],
   "source": [
    "alphbet = ['a','b','c','d','e','f','g','h','i','j','k','l','m','n','o','p','q','r','s','t','u','v','w','x','y','z']\n",
    "def shiftingLetters(s, shifts):\n",
    "    total, res = sum(shifts), []\n",
    "    sn = len(s)\n",
    "    for i in range(sn):\n",
    "        \n",
    "        character  = (ord(s[i]) - 97 + total) % 26 + 97\n",
    "        new = chr(character)\n",
    "        res.append(new)\n",
    "        total -= shifts[i]\n",
    "    return \"\".join(res)\n",
    "\n",
    "s = \"abc\"\n",
    "shifts = [3,5,9] # [17,15,11]\n",
    "# s = \"aaa\"\n",
    "# shifts = [1,2,3]\n",
    "# s = \"bad\"\n",
    "# shifts = [10,20,30]\n",
    "result = shiftingLetters(s, shifts)\n",
    "print(result)"
   ]
  },
  {
   "cell_type": "markdown",
   "metadata": {},
   "source": [
    "## recap chr() and ord()"
   ]
  },
  {
   "cell_type": "code",
   "execution_count": 56,
   "metadata": {},
   "outputs": [
    {
     "name": "stdout",
     "output_type": "stream",
     "text": [
      "97\n",
      "a\n",
      "\u0000\n"
     ]
    }
   ],
   "source": [
    "a = 'a'\n",
    "print(ord(a))\n",
    "print(chr(0+97))\n",
    "print(chr(0))"
   ]
  },
  {
   "cell_type": "code",
   "execution_count": 55,
   "metadata": {},
   "outputs": [
    {
     "data": {
      "text/plain": [
       "'\\x00'"
      ]
     },
     "execution_count": 55,
     "metadata": {},
     "output_type": "execute_result"
    }
   ],
   "source": [
    "chr(0)"
   ]
  },
  {
   "cell_type": "markdown",
   "metadata": {},
   "source": [
    "## Wrong version"
   ]
  },
  {
   "cell_type": "markdown",
   "metadata": {},
   "source": [
    "This code is time limit exceeded"
   ]
  },
  {
   "cell_type": "code",
   "execution_count": 30,
   "metadata": {},
   "outputs": [
    {
     "name": "stdout",
     "output_type": "stream",
     "text": [
      "[17, 15, 11]\n",
      "['a', 'b', 'c']\n",
      "rpl\n"
     ]
    }
   ],
   "source": [
    "def shiftingLetters(s, shifts):\n",
    "    alphbet = ['a','b','c','d','e','f','g','h','i','j','k','l','m','n','o','p','q','r','s','t','u','v','w','x','y','z']\n",
    "    shifts_n = len(shifts)\n",
    "    add_index = []\n",
    "    \n",
    "    for i in range(shifts_n):\n",
    "        numbers = shifts[i]\n",
    "        for j in range(i+1, shifts_n):\n",
    "            numbers += shifts[j]\n",
    "        before = alphbet.index(s[i])\n",
    "        numbers += before\n",
    "        numbers = numbers % len(alphbet)\n",
    "        add_index.append(numbers)\n",
    "\n",
    "    result = list(s)\n",
    "    print(add_index)\n",
    "    print(result)\n",
    "    for i in range(len(result)):\n",
    "        result[i] = alphbet[add_index[i]]\n",
    "    #print(result)\n",
    "    return \"\".join(result)\n",
    "\n",
    "s = \"abc\"\n",
    "shifts = [3,5,9]\n",
    "# s = \"aaa\"\n",
    "# shifts = [1,2,3]\n",
    "# s = \"bad\"\n",
    "# shifts = [10,20,30]\n",
    "result = shiftingLetters(s, shifts)\n",
    "print(result)"
   ]
  },
  {
   "cell_type": "markdown",
   "metadata": {},
   "source": [
    "## split recap"
   ]
  },
  {
   "cell_type": "code",
   "execution_count": 11,
   "metadata": {},
   "outputs": [
    {
     "name": "stdout",
     "output_type": "stream",
     "text": [
      "['abc', 'efd']\n",
      "=====\n",
      "['a', 'b', 'c', ' ', 'e', 'f', 'd']\n"
     ]
    }
   ],
   "source": [
    "s = \"abc efd\"\n",
    "a = s.split()\n",
    "print(a)\n",
    "print(\"=====\")\n",
    "s = \"abc efd\"\n",
    "a = list(s)\n",
    "print(a)"
   ]
  }
 ],
 "metadata": {
  "kernelspec": {
   "display_name": "Python 3.8.6 64-bit ('leetcode_env')",
   "language": "python",
   "name": "python3"
  },
  "language_info": {
   "codemirror_mode": {
    "name": "ipython",
    "version": 3
   },
   "file_extension": ".py",
   "mimetype": "text/x-python",
   "name": "python",
   "nbconvert_exporter": "python",
   "pygments_lexer": "ipython3",
   "version": "3.8.6"
  },
  "orig_nbformat": 4,
  "vscode": {
   "interpreter": {
    "hash": "846fd2d9bb562a436898b7cc368204fc2f9d44e5e9b051b4f6e855e721078f23"
   }
  }
 },
 "nbformat": 4,
 "nbformat_minor": 2
}
