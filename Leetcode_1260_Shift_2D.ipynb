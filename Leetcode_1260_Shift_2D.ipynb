{
 "cells": [
  {
   "cell_type": "markdown",
   "metadata": {},
   "source": [
    "source:https://www.youtube.com/watch?v=nJYFh4Dl-as"
   ]
  },
  {
   "cell_type": "code",
   "execution_count": 36,
   "metadata": {},
   "outputs": [
    {
     "name": "stdout",
     "output_type": "stream",
     "text": [
      "[[6], [5], [1], [2], [3], [4], [7]]\n"
     ]
    }
   ],
   "source": [
    "def shiftGrid(grid, k):\n",
    "    result = []\n",
    "    row = len(grid)\n",
    "    col = len(grid[0])\n",
    "    def posTval(r,c):\n",
    "        posval = r*col+c\n",
    "        return posval\n",
    "    def valTpos(val):\n",
    "        R = val//col\n",
    "        C = val%col\n",
    "        return R,C\n",
    "\n",
    "    # result = []\n",
    "    # for i in range(row):\n",
    "    #     result.append([0]*col)\n",
    "    result = [[0]*col for i in range(row)]\n",
    "    \n",
    "    for r in range(row):\n",
    "        for c in range(col):\n",
    "            newval = (posTval(r,c) + k) % (row*col) \n",
    "            newR, newC = valTpos(newval)\n",
    "            result[newR][newC] = grid[r][c]\n",
    "\n",
    "    print(result)\n",
    "    return result\n",
    "\n",
    "# grid = [[1,2,3],[4,5,6],[7,8,9],[10,11,12]]\n",
    "# k = 1\n",
    "grid = [[1],[2],[3],[4],[7],[6],[5]]\n",
    "k = 23\n",
    "result = shiftGrid(grid,k)"
   ]
  },
  {
   "cell_type": "code",
   "execution_count": 17,
   "metadata": {},
   "outputs": [
    {
     "name": "stdout",
     "output_type": "stream",
     "text": [
      "[[ 1  2  3]\n",
      " [ 4  5  6]\n",
      " [ 7  8  9]\n",
      " [10 11 12]]\n",
      "4\n",
      "3\n",
      "[1, 2, 3, 4, 5, 6, 7, 8, 9, 10, 11, 12]\n"
     ]
    }
   ],
   "source": [
    "import numpy as np\n",
    "a = np.array([[1,2,3],[4,5,6],[7,8,9],[10,11,12]])\n",
    "print(a)\n",
    "array = [1,2,3,4,5,6,7,8,9,10,11,12]\n",
    "print(len(a))\n",
    "print(len(a[0]))\n",
    "print(array)"
   ]
  },
  {
   "cell_type": "code",
   "execution_count": 38,
   "metadata": {},
   "outputs": [
    {
     "name": "stdout",
     "output_type": "stream",
     "text": [
      "[[0, 0, 0], [0, 0, 0], [0, 0, 0], [0, 0, 0]]\n",
      "[[0, 0, 0], [0, 0, 0], [0, 0, 0], [0, 0, 0]]\n"
     ]
    }
   ],
   "source": [
    "result = []\n",
    "row = 4\n",
    "col = 3\n",
    "for i in range(row):\n",
    "    result.append([0]*col)\n",
    "print(result)\n",
    "\n",
    "result = [[0]*col for i in range(row)]\n",
    "print(result)"
   ]
  },
  {
   "cell_type": "code",
   "execution_count": 39,
   "metadata": {},
   "outputs": [
    {
     "name": "stdout",
     "output_type": "stream",
     "text": [
      "4\n",
      "3\n",
      "9\n"
     ]
    }
   ],
   "source": [
    "grid = [[1,2,3],[4,5,6],[7,8,9],[10,11,12]]\n",
    "print(len(grid))\n",
    "print(len(grid[0]))\n",
    "print(grid[2][2])"
   ]
  },
  {
   "cell_type": "code",
   "execution_count": 13,
   "metadata": {},
   "outputs": [
    {
     "name": "stdout",
     "output_type": "stream",
     "text": [
      "9\n"
     ]
    }
   ],
   "source": [
    "grid = np.array([[1,2,3],[4,5,6],[7,8,9],[10,11,12]])\n",
    "print(grid[2,2])"
   ]
  }
 ],
 "metadata": {
  "kernelspec": {
   "display_name": "Python 3.8.6 64-bit ('leetcode_env')",
   "language": "python",
   "name": "python3"
  },
  "language_info": {
   "codemirror_mode": {
    "name": "ipython",
    "version": 3
   },
   "file_extension": ".py",
   "mimetype": "text/x-python",
   "name": "python",
   "nbconvert_exporter": "python",
   "pygments_lexer": "ipython3",
   "version": "3.8.6"
  },
  "orig_nbformat": 4,
  "vscode": {
   "interpreter": {
    "hash": "846fd2d9bb562a436898b7cc368204fc2f9d44e5e9b051b4f6e855e721078f23"
   }
  }
 },
 "nbformat": 4,
 "nbformat_minor": 2
}
