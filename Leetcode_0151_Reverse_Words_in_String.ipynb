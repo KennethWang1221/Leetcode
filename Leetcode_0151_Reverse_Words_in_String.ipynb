{
 "cells": [
  {
   "cell_type": "markdown",
   "metadata": {},
   "source": [
    "Method1: DIY"
   ]
  },
  {
   "cell_type": "code",
   "execution_count": 14,
   "metadata": {},
   "outputs": [
    {
     "name": "stdout",
     "output_type": "stream",
     "text": [
      "<class 'list'>\n",
      "<class 'str'>\n",
      "world hello\n"
     ]
    }
   ],
   "source": [
    "def reverseWords(s):\n",
    "    n = len(s) \n",
    "    result = []\n",
    "\n",
    "    if n == 0:\n",
    "        return s\n",
    "\n",
    "    ls = s.split()\n",
    "    if ls == []: # in case s = \"    \"\n",
    "        return s\n",
    "\n",
    "    result = ls[::-1]\n",
    "    print(type(result))\n",
    "    result = \" \".join(result) \n",
    "    print(type(result))\n",
    "    return result\n",
    "\n",
    "s = \"the sky is blue\"\n",
    "s = \"  hello world  \"\n",
    "#s = \"a good   example\"\n",
    "result = reverseWords(s)\n",
    "print(result)"
   ]
  },
  {
   "cell_type": "markdown",
   "metadata": {},
   "source": [
    "Method2:https://www.youtube.com/watch?v=T3Sz-SI3gVE"
   ]
  },
  {
   "cell_type": "code",
   "execution_count": 4,
   "metadata": {},
   "outputs": [
    {
     "name": "stdout",
     "output_type": "stream",
     "text": [
      "result: world hello\n",
      "type: <class 'str'>\n",
      "world hello\n"
     ]
    }
   ],
   "source": [
    "def reverseWords(s):\n",
    "    result = ''\n",
    "    s1 = s.split()\n",
    "    n = len(s1)\n",
    "    for i in range(0,n-1,):\n",
    "        result+=s1[n-1-i]+' '\n",
    "    result+=s1[0]\n",
    "    print(\"result:\",result)\n",
    "    print('type:',type(result))\n",
    "    return result\n",
    "\n",
    "string='the sky is blue'\n",
    "string2 = \"  hello world  \"\n",
    "result = reverseWords(string2)\n",
    "print(result)"
   ]
  },
  {
   "cell_type": "markdown",
   "metadata": {},
   "source": [
    "Method3"
   ]
  },
  {
   "cell_type": "code",
   "execution_count": 12,
   "metadata": {},
   "outputs": [
    {
     "name": "stdout",
     "output_type": "stream",
     "text": [
      "result: world hello\n",
      "type: <class 'str'>\n",
      "world hello\n"
     ]
    }
   ],
   "source": [
    "def reverseWords(s):\n",
    "    result = ''\n",
    "    s1 = s.split()\n",
    "    for i in range(len(s1)-1,0,-1):\n",
    "        result+=(s1[i])+' '\n",
    "    result+=s1[0]\n",
    "    print(\"result:\",result)\n",
    "    print('type:',type(result))\n",
    "    return result\n",
    "\n",
    "string='the sky is blue'\n",
    "string2 = \"  hello world  \"\n",
    "result = reverseWords(string2)\n",
    "print(result)"
   ]
  },
  {
   "cell_type": "markdown",
   "metadata": {},
   "source": [
    "practice"
   ]
  },
  {
   "cell_type": "code",
   "execution_count": 6,
   "metadata": {},
   "outputs": [
    {
     "name": "stdout",
     "output_type": "stream",
     "text": [
      "7\n",
      "6 7\n",
      "5 6\n",
      "4 5\n",
      "3 4\n",
      "2 3\n",
      "1 2\n",
      "0 1\n"
     ]
    }
   ],
   "source": [
    "a = [1,2,3,4,5,6,7]\n",
    "n = len(a)\n",
    "print(n)\n",
    "\n",
    "for i in range(n-1,-1,-1):\n",
    "    print(i,a[i])"
   ]
  },
  {
   "cell_type": "code",
   "execution_count": 7,
   "metadata": {},
   "outputs": [
    {
     "name": "stdout",
     "output_type": "stream",
     "text": [
      "7\n",
      "0 7\n",
      "1 6\n",
      "2 5\n",
      "3 4\n",
      "4 3\n",
      "5 2\n",
      "6 1\n"
     ]
    }
   ],
   "source": [
    "a = [1,2,3,4,5,6,7]\n",
    "n = len(a)\n",
    "print(n)\n",
    "\n",
    "for i in range(0,n):\n",
    "    print(i,a[n-i-1])"
   ]
  }
 ],
 "metadata": {
  "kernelspec": {
   "display_name": "Python 3.8.6 64-bit ('leetcode_env')",
   "language": "python",
   "name": "python3"
  },
  "language_info": {
   "codemirror_mode": {
    "name": "ipython",
    "version": 3
   },
   "file_extension": ".py",
   "mimetype": "text/x-python",
   "name": "python",
   "nbconvert_exporter": "python",
   "pygments_lexer": "ipython3",
   "version": "3.8.6"
  },
  "orig_nbformat": 4,
  "vscode": {
   "interpreter": {
    "hash": "846fd2d9bb562a436898b7cc368204fc2f9d44e5e9b051b4f6e855e721078f23"
   }
  }
 },
 "nbformat": 4,
 "nbformat_minor": 2
}
