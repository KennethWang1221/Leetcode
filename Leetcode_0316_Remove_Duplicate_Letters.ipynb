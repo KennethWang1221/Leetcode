{
 "cells": [
  {
   "cell_type": "markdown",
   "metadata": {},
   "source": [
    "## Method1"
   ]
  },
  {
   "cell_type": "code",
   "execution_count": 38,
   "metadata": {},
   "outputs": [
    {
     "name": "stdout",
     "output_type": "stream",
     "text": [
      "a 1 <class 'str'>\n",
      "b 2 <class 'str'>\n",
      "c 3 <class 'str'>\n",
      "d 4 <class 'str'>\n",
      "e 33 <class 'int'>\n",
      "=====\n",
      "a 5 <class 'int'>\n",
      "b 2 <class 'str'>\n",
      "c 3 <class 'str'>\n",
      "d 4 <class 'str'>\n",
      "e 33 <class 'int'>\n",
      "f 99 <class 'int'>\n"
     ]
    }
   ],
   "source": [
    "b = {'a':'1', 'b':'2', 'c':'3', 'd':'4','e':33}\n",
    "for key, value in b.items():\n",
    "    print(key,value, type(value))\n",
    "print(\"=====\")\n",
    "b['a'] = 5\n",
    "b['f'] = 99\n",
    "for key, value in b.items():\n",
    "    print(key,value, type(value))"
   ]
  },
  {
   "cell_type": "markdown",
   "metadata": {},
   "source": [
    "## Recap set"
   ]
  },
  {
   "cell_type": "code",
   "execution_count": 37,
   "metadata": {},
   "outputs": [
    {
     "name": "stdout",
     "output_type": "stream",
     "text": [
      "{'orange', 3, '1', 'pear', 'apple', '2'} <class 'set'> 6\n",
      "==========\n",
      "{'orange', 3, '1', 'pear', 345, 'apple', '2'} <class 'set'> 7\n",
      "==========\n",
      "{'orange', 3, '6443', '1', 'pear', 345, 'apple', '2'} <class 'set'> 8\n",
      "==========\n",
      "{'orange', 3, '1', 'pear', 345, 'apple', '2'} <class 'set'> 7\n",
      "==========\n",
      "{'orange', 3, '1', 'pear', 345, 'apple', '2'} <class 'set'> 7\n",
      "==========\n"
     ]
    }
   ],
   "source": [
    "a = {'apple', 'orange', 'apple', 'pear', 'orange','1','1','2',3}\n",
    "print(a, type(a), len(a))\n",
    "print(\"=\"*10)\n",
    "a.add(345)\n",
    "print(a, type(a), len(a))\n",
    "print(\"=\"*10)\n",
    "a.update(['6443'])\n",
    "print(a, type(a), len(a))\n",
    "print(\"=\"*10)\n",
    "a.remove('6443')\n",
    "print(a, type(a), len(a))\n",
    "print(\"=\"*10)\n",
    "print(a, type(a), len(a))\n",
    "print(\"=\"*10)\n"
   ]
  },
  {
   "cell_type": "markdown",
   "metadata": {},
   "source": [
    "### difference between add and update"
   ]
  },
  {
   "cell_type": "markdown",
   "metadata": {},
   "source": [
    "add()函数只能接收一个变量，否则会报错"
   ]
  },
  {
   "cell_type": "code",
   "execution_count": 40,
   "metadata": {},
   "outputs": [
    {
     "ename": "TypeError",
     "evalue": "add() takes exactly one argument (2 given)",
     "output_type": "error",
     "traceback": [
      "\u001b[0;31m---------------------------------------------------------------------------\u001b[0m",
      "\u001b[0;31mTypeError\u001b[0m                                 Traceback (most recent call last)",
      "\u001b[0;32m/var/folders/_0/t_q_3ydn61v2hbgddcm8pdz00000gn/T/ipykernel_4916/1511663051.py\u001b[0m in \u001b[0;36m<module>\u001b[0;34m\u001b[0m\n\u001b[1;32m      1\u001b[0m \u001b[0mset1\u001b[0m \u001b[0;34m=\u001b[0m \u001b[0;34m{\u001b[0m\u001b[0;34m\"12\"\u001b[0m\u001b[0;34m,\u001b[0m\u001b[0;34m\"34\"\u001b[0m\u001b[0;34m,\u001b[0m\u001b[0;34m\"345\"\u001b[0m\u001b[0;34m,\u001b[0m\u001b[0;34m\"11\"\u001b[0m\u001b[0;34m}\u001b[0m\u001b[0;34m\u001b[0m\u001b[0;34m\u001b[0m\u001b[0m\n\u001b[0;32m----> 2\u001b[0;31m \u001b[0mset1\u001b[0m\u001b[0;34m.\u001b[0m\u001b[0madd\u001b[0m\u001b[0;34m(\u001b[0m\u001b[0;36m1\u001b[0m\u001b[0;34m,\u001b[0m\u001b[0;36m2\u001b[0m\u001b[0;34m)\u001b[0m\u001b[0;34m\u001b[0m\u001b[0;34m\u001b[0m\u001b[0m\n\u001b[0m\u001b[1;32m      3\u001b[0m \u001b[0mprint\u001b[0m\u001b[0;34m(\u001b[0m\u001b[0mset1\u001b[0m\u001b[0;34m)\u001b[0m\u001b[0;34m\u001b[0m\u001b[0;34m\u001b[0m\u001b[0m\n",
      "\u001b[0;31mTypeError\u001b[0m: add() takes exactly one argument (2 given)"
     ]
    }
   ],
   "source": [
    "set1 = {\"12\",\"34\",\"345\",\"11\"}\n",
    "set1.add(1,2)\n",
    "print(set1)"
   ]
  },
  {
   "cell_type": "markdown",
   "metadata": {},
   "source": [
    "add()函数的参数只能接收可哈希数据类型，即不可变数据类型，\n",
    "比如整型、浮点型、元组、字符串"
   ]
  },
  {
   "cell_type": "code",
   "execution_count": 41,
   "metadata": {},
   "outputs": [
    {
     "name": "stdout",
     "output_type": "stream",
     "text": [
      "{'345', '34', 1, '12', '11'}\n"
     ]
    }
   ],
   "source": [
    "set1 = {\"12\",\"34\",\"345\",\"11\"}\n",
    "set1.add(1)\n",
    "print(set1)"
   ]
  },
  {
   "cell_type": "markdown",
   "metadata": {},
   "source": [
    "我们使用update()向集合中添加元素时，update接收的参数应该是可迭代的数据类型，比如字符串、元组、列表、集合、字典。这些都可以向集合中添加元素，但是整型、浮点型不可以"
   ]
  },
  {
   "cell_type": "code",
   "execution_count": 42,
   "metadata": {},
   "outputs": [
    {
     "name": "stdout",
     "output_type": "stream",
     "text": [
      "{'345', '34', 1, 2, 3, '12', '11'}\n"
     ]
    }
   ],
   "source": [
    "set1 = {\"12\",\"34\",\"345\",\"11\"} # 使用集合作为参数\n",
    "set1.update({1,2,3})\n",
    "print(set1)"
   ]
  },
  {
   "cell_type": "code",
   "execution_count": null,
   "metadata": {},
   "outputs": [],
   "source": []
  },
  {
   "cell_type": "markdown",
   "metadata": {},
   "source": [
    "## Wrong Method"
   ]
  },
  {
   "cell_type": "code",
   "execution_count": 7,
   "metadata": {},
   "outputs": [
    {
     "name": "stdout",
     "output_type": "stream",
     "text": [
      "abcd\n"
     ]
    }
   ],
   "source": [
    "def removeDuplicateLetters(s):\n",
    "    s = list(s)\n",
    "    \n",
    "    res = []\n",
    "    for i in range(len(s)):\n",
    "        if s[i] not in res:\n",
    "            res.append(s[i])\n",
    "            for j in range(i+1,len(s)):\n",
    "                if s[i] == s[j]:\n",
    "                    break\n",
    "        \n",
    "    res_string = sorted(res)\n",
    "    return \"\".join(res_string)\n",
    "\n",
    "s = \"cbacdcbc\"\n",
    "res = removeDuplicateLetters(s)\n",
    "print(res)"
   ]
  },
  {
   "cell_type": "markdown",
   "metadata": {},
   "source": [
    "## Recap list sort"
   ]
  },
  {
   "cell_type": "code",
   "execution_count": 6,
   "metadata": {},
   "outputs": [
    {
     "name": "stdout",
     "output_type": "stream",
     "text": [
      "['b', 'c', 'a', 'b', 'c']\n",
      "['a', 'b', 'b', 'c', 'c']\n"
     ]
    }
   ],
   "source": [
    "s = \"bcabc\"\n",
    "s = list(s)\n",
    "print(s)\n",
    "a = sorted(s)\n",
    "print(a)"
   ]
  }
 ],
 "metadata": {
  "kernelspec": {
   "display_name": "Python 3.8.6 64-bit ('leetcode_env')",
   "language": "python",
   "name": "python3"
  },
  "language_info": {
   "codemirror_mode": {
    "name": "ipython",
    "version": 3
   },
   "file_extension": ".py",
   "mimetype": "text/x-python",
   "name": "python",
   "nbconvert_exporter": "python",
   "pygments_lexer": "ipython3",
   "version": "3.8.6"
  },
  "orig_nbformat": 4,
  "vscode": {
   "interpreter": {
    "hash": "846fd2d9bb562a436898b7cc368204fc2f9d44e5e9b051b4f6e855e721078f23"
   }
  }
 },
 "nbformat": 4,
 "nbformat_minor": 2
}
