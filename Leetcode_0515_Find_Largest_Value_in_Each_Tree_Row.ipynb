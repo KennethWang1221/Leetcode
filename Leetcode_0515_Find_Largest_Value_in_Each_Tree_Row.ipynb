{
 "cells": [
  {
   "cell_type": "code",
   "execution_count": 5,
   "metadata": {},
   "outputs": [
    {
     "name": "stdout",
     "output_type": "stream",
     "text": [
      "[1, 3, 9]\n"
     ]
    }
   ],
   "source": [
    "class TreeNode(object):\n",
    "    def __init__(self, x):\n",
    "        if x == None:\n",
    "            self.val = None\n",
    "        else:\n",
    "            self.val = x\n",
    "        self.left = None\n",
    "        self.right = None\n",
    "\n",
    "\n",
    "def largestValues(root):\n",
    "    res = []\n",
    "        \n",
    "    if root == None:\n",
    "        return []\n",
    "    \n",
    "    que = [root]\n",
    "    \n",
    "    while que:\n",
    "        level = []\n",
    "        n = len(que)\n",
    "        \n",
    "        for i in range(n):\n",
    "            cur = que.pop(0)\n",
    "            level.append(cur.val)\n",
    "            if cur.left:\n",
    "                que.append(cur.left)\n",
    "            if cur.right:\n",
    "                que.append(cur.right)\n",
    "        \n",
    "        res.append(max(level))\n",
    "    \n",
    "    return res\n",
    "\n",
    "n1 = TreeNode(1)\n",
    "n2 = TreeNode(3)\n",
    "n3 = TreeNode(2)\n",
    "n4 = TreeNode(5)\n",
    "n5 = TreeNode(3)\n",
    "n6 = TreeNode(9)\n",
    "\n",
    "n1.left = n2\n",
    "n1.right = n3\n",
    "n2.left = n4\n",
    "n2.right = n5\n",
    "n3.right = n6\n",
    "\n",
    "\n",
    "res = largestValues(n1)\n",
    "\n",
    "print(res)"
   ]
  },
  {
   "cell_type": "markdown",
   "metadata": {},
   "source": [
    "Similar problems. Both use BFS idea:<br>\n",
    "0102_Binary_Tree_Level_Order_Traversal.ipynb<br>\n",
    "0107_Binary_Tree_Level_Order_Traversal_II.ipynb<br>\n",
    "0199_Binary_Tree_Right_Side_View.ipynb<br>\n",
    "0637_Average_of_Levels_in_Binary_Tree.ipynb<br>\n",
    "0429_N-ary_Tree_Level_Order_Traversal.ipynb<br>"
   ]
  },
  {
   "cell_type": "code",
   "execution_count": 2,
   "metadata": {},
   "outputs": [
    {
     "name": "stdout",
     "output_type": "stream",
     "text": [
      "\n",
      "  __1\n",
      " /   \\\n",
      "2     3\n",
      " \\     \\\n",
      "  5     4\n",
      "\n"
     ]
    }
   ],
   "source": [
    "from binarytree import tree, bst, heap, Node\n",
    "n1 = Node(1)\n",
    "n2 = Node(2)\n",
    "n3 = Node(3)\n",
    "#n4 = Node(None)\n",
    "n5 = Node(5)\n",
    "n6 = Node(4)\n",
    "\n",
    "n1.left = n2\n",
    "n1.right = n3\n",
    "n2.right = n5\n",
    "n3.right = n6\n",
    "print(n1)"
   ]
  }
 ],
 "metadata": {
  "kernelspec": {
   "display_name": "Python 3.8.6 64-bit ('leetcode_env')",
   "language": "python",
   "name": "python3"
  },
  "language_info": {
   "codemirror_mode": {
    "name": "ipython",
    "version": 3
   },
   "file_extension": ".py",
   "mimetype": "text/x-python",
   "name": "python",
   "nbconvert_exporter": "python",
   "pygments_lexer": "ipython3",
   "version": "3.8.6"
  },
  "orig_nbformat": 4,
  "vscode": {
   "interpreter": {
    "hash": "846fd2d9bb562a436898b7cc368204fc2f9d44e5e9b051b4f6e855e721078f23"
   }
  }
 },
 "nbformat": 4,
 "nbformat_minor": 2
}
