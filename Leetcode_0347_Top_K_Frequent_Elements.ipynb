{
 "cells": [
  {
   "cell_type": "markdown",
   "metadata": {},
   "source": [
    "## Method"
   ]
  },
  {
   "cell_type": "code",
   "execution_count": 28,
   "metadata": {},
   "outputs": [
    {
     "name": "stdout",
     "output_type": "stream",
     "text": [
      "[1, 2]\n"
     ]
    }
   ],
   "source": [
    "def topKFrequent(nums, k):\n",
    "    count = {}\n",
    "    length = len(nums)\n",
    "    freq = [[] for i in range(length + 1)]\n",
    "\n",
    "    for n in nums:\n",
    "        count[n] = 1 + count.get(n, 0) # count: {1:4, 2:2, 3:2}\n",
    "    for n, c in count.items():\n",
    "        freq[c].append(n)\n",
    "\n",
    "    res = []\n",
    "    for i in range(len(freq)-1, -1, -1):\n",
    "        for n in freq[i]:\n",
    "            res.append (n)\n",
    "\n",
    "            if len(res) == k:\n",
    "                return res\n",
    "\n",
    "\n",
    "nums = [1,1,1,1,2,2,3,3]\n",
    "k = 2\n",
    "res = topKFrequent(nums, k)\n",
    "print(res)"
   ]
  },
  {
   "cell_type": "markdown",
   "metadata": {},
   "source": [
    "### Wrong"
   ]
  },
  {
   "cell_type": "code",
   "execution_count": 23,
   "metadata": {},
   "outputs": [
    {
     "name": "stdout",
     "output_type": "stream",
     "text": [
      "None\n"
     ]
    }
   ],
   "source": [
    "def topKFrequent(nums, k):\n",
    "    count = {}\n",
    "    length = len(nums)\n",
    "    freq = [[] for i in range(length + 1)]\n",
    "\n",
    "    for n in nums:\n",
    "        count[n] = 1 + count.get(n, 0)\n",
    "    for n, c in count.items():\n",
    "        freq[c].append(n)\n",
    "\n",
    "    res = []\n",
    "    for i in range(len(freq)-1, -1, -1):\n",
    "        for n in freq[i]:\n",
    "            res.append (n)\n",
    "\n",
    "        if len(res) == k:\n",
    "            return res\n",
    "\n",
    "\n",
    "nums = [1,1,1,1,2,2,3,3]\n",
    "k = 2\n",
    "res = topKFrequent(nums, k)\n",
    "print(res)"
   ]
  },
  {
   "cell_type": "markdown",
   "metadata": {},
   "source": [
    "learning url:https://www.youtube.com/watch?v=YPTqKIgVk-k"
   ]
  },
  {
   "cell_type": "code",
   "execution_count": 9,
   "metadata": {},
   "outputs": [
    {
     "name": "stdout",
     "output_type": "stream",
     "text": [
      "len: 6\n",
      "5 6\n",
      "4 5\n",
      "3 4\n",
      "2 3\n",
      "1 2\n",
      "0 1\n"
     ]
    }
   ],
   "source": [
    "nums = [1,2,3,4,5,6]\n",
    "n = len(nums)\n",
    "print(\"len:\",n)\n",
    "for i in range(n-1, -1, -1):\n",
    "    print(i, nums[i])"
   ]
  },
  {
   "cell_type": "markdown",
   "metadata": {},
   "source": [
    "## Dict recap"
   ]
  },
  {
   "cell_type": "markdown",
   "metadata": {},
   "source": [
    "### get key value of dict "
   ]
  },
  {
   "cell_type": "code",
   "execution_count": null,
   "metadata": {},
   "outputs": [],
   "source": []
  },
  {
   "cell_type": "code",
   "execution_count": 10,
   "metadata": {},
   "outputs": [
    {
     "name": "stdout",
     "output_type": "stream",
     "text": [
      "1 100 <class 'int'>\n",
      "2 200 <class 'int'>\n"
     ]
    }
   ],
   "source": [
    "a = {1:100,2:200}\n",
    "for key in a:\n",
    "    print(key, a[key], type(key))"
   ]
  },
  {
   "cell_type": "code",
   "execution_count": 11,
   "metadata": {},
   "outputs": [
    {
     "name": "stdout",
     "output_type": "stream",
     "text": [
      "a 1 <class 'str'>\n",
      "b 2 <class 'str'>\n",
      "c 3 <class 'str'>\n",
      "d 4 <class 'str'>\n"
     ]
    }
   ],
   "source": [
    "a = {'a':'1', 'b':'2', 'c':'3', 'd':'4'}\n",
    "for key in a:\n",
    "    print(key, a[key], type(key))"
   ]
  },
  {
   "cell_type": "code",
   "execution_count": 12,
   "metadata": {},
   "outputs": [
    {
     "name": "stdout",
     "output_type": "stream",
     "text": [
      "a 1\n",
      "b 2\n",
      "c 3\n",
      "d 4\n"
     ]
    }
   ],
   "source": [
    "for key in a:\n",
    "    print(key, a.get(key))"
   ]
  },
  {
   "cell_type": "code",
   "execution_count": 13,
   "metadata": {},
   "outputs": [
    {
     "name": "stdout",
     "output_type": "stream",
     "text": [
      "a 1 1\n",
      "b 2 2\n",
      "c 3 3\n",
      "d 4 4\n"
     ]
    }
   ],
   "source": [
    "for key in a.keys():\n",
    "    print(key, a[key], a.get(key))"
   ]
  },
  {
   "cell_type": "code",
   "execution_count": 14,
   "metadata": {},
   "outputs": [
    {
     "name": "stdout",
     "output_type": "stream",
     "text": [
      "1 <class 'str'>\n",
      "2 <class 'str'>\n",
      "3 <class 'str'>\n",
      "4 <class 'str'>\n"
     ]
    }
   ],
   "source": [
    "for values in a.values():\n",
    "    print(values,type(values))"
   ]
  },
  {
   "cell_type": "code",
   "execution_count": 15,
   "metadata": {},
   "outputs": [
    {
     "name": "stdout",
     "output_type": "stream",
     "text": [
      "('a', '1') <class 'tuple'>\n",
      "('b', '2') <class 'tuple'>\n",
      "('c', '3') <class 'tuple'>\n",
      "('d', '4') <class 'tuple'>\n"
     ]
    }
   ],
   "source": [
    "for kv in a.items():\n",
    "    print(kv, type(kv))"
   ]
  },
  {
   "cell_type": "code",
   "execution_count": 16,
   "metadata": {},
   "outputs": [
    {
     "name": "stdout",
     "output_type": "stream",
     "text": [
      "a 1\n",
      "b 2\n",
      "c 3\n",
      "d 4\n"
     ]
    }
   ],
   "source": [
    "for key, value in a.items():\n",
    "    print(key, value)"
   ]
  },
  {
   "cell_type": "code",
   "execution_count": 17,
   "metadata": {},
   "outputs": [
    {
     "name": "stdout",
     "output_type": "stream",
     "text": [
      "====\n",
      "====\n",
      "{}\n"
     ]
    }
   ],
   "source": [
    "a = {}\n",
    "for key, value in a.items():\n",
    "    print(key,value, type(value))\n",
    "print(\"====\")\n",
    "for key in a.keys():\n",
    "    print(a.get(key))\n",
    "print(\"====\")\n",
    "print(a)"
   ]
  },
  {
   "cell_type": "code",
   "execution_count": 39,
   "metadata": {},
   "outputs": [
    {
     "name": "stdout",
     "output_type": "stream",
     "text": [
      "Type:<class 'list'>\n",
      "Value:['gaussian_blur', 'gaussian_noise', 'ghosting_data', 'occlusion_data', 'snow_noise', 'sp_noise', 'stripe_noise', 'normal_data', '333', 444, 666]\n",
      "\n",
      "Type:<class 'dict'>\n",
      "Value:{0: 'gaussian_blur', 1: 'gaussian_noise', 2: 'ghosting_data', 3: 'occlusion_data', 4: 'snow_noise', 5: 'sp_noise', 6: 'stripe_noise', 7: 'normal_data', 8: '333', 9: 444, 10: 666}\n",
      "\n",
      "Type:<class 'dict'>\n",
      "Value:{'gaussian_blur': 0, 'gaussian_noise': 1, 'ghosting_data': 2, 'occlusion_data': 3, 'snow_noise': 4, 'sp_noise': 5, 'stripe_noise': 6, 'normal_data': 7, '333': 8, 444: 9, 666: 10}\n",
      "\n"
     ]
    }
   ],
   "source": [
    "classes = ['gaussian_blur', 'gaussian_noise', 'ghosting_data', 'occlusion_data', 'snow_noise', 'sp_noise', 'stripe_noise', 'normal_data','333', 444, 666] #to store class values\n",
    "print(\"Type:{}\\nValue:{}\\n\".format(type(classes), classes))\n",
    "idx_to_class = {i:j for i, j in enumerate(classes)}\n",
    "print(\"Type:{}\\nValue:{}\\n\".format(type(idx_to_class), idx_to_class))\n",
    "class_to_idx = {value:key for key,value in idx_to_class.items()}\n",
    "print(\"Type:{}\\nValue:{}\\n\".format(type(class_to_idx), class_to_idx))"
   ]
  },
  {
   "cell_type": "code",
   "execution_count": 4,
   "metadata": {},
   "outputs": [
    {
     "name": "stdout",
     "output_type": "stream",
     "text": [
      "Type:<class 'list'>\n",
      "Value:['gaussian_blur', 'gaussian_noise', 'ghosting_data', 'occlusion_data', 'snow_noise', 'sp_noise', 'stripe_noise', 'normal_data']\n",
      "\n",
      "Type:<class 'list'>\n",
      "Value:['gaussian_blur', 'gaussian_noise', 'ghosting_data', 'normal_data', 'occlusion_data', 'snow_noise', 'sp_noise', 'stripe_noise']\n",
      "\n",
      "Type:<class 'dict'>\n",
      "Value:{0: 'gaussian_blur', 1: 'gaussian_noise', 2: 'ghosting_data', 3: 'normal_data', 4: 'occlusion_data', 5: 'snow_noise', 6: 'sp_noise', 7: 'stripe_noise'}\n",
      "\n",
      "Type:<class 'dict'>\n",
      "Value:{'gaussian_blur': 0, 'gaussian_noise': 1, 'ghosting_data': 2, 'normal_data': 3, 'occlusion_data': 4, 'snow_noise': 5, 'sp_noise': 6, 'stripe_noise': 7}\n",
      "\n"
     ]
    }
   ],
   "source": [
    "classes = ['gaussian_blur', 'gaussian_noise', 'ghosting_data', 'occlusion_data', 'snow_noise', 'sp_noise', 'stripe_noise', 'normal_data'] #to store class values\n",
    "print(\"Type:{}\\nValue:{}\\n\".format(type(classes), classes))\n",
    "classes.sort()\n",
    "print(\"Type:{}\\nValue:{}\\n\".format(type(classes), classes))\n",
    "idx_to_class = {i:j for i, j in enumerate(classes)}\n",
    "print(\"Type:{}\\nValue:{}\\n\".format(type(idx_to_class), idx_to_class))\n",
    "class_to_idx = {value:key for key,value in idx_to_class.items()}\n",
    "print(\"Type:{}\\nValue:{}\\n\".format(type(class_to_idx), class_to_idx))"
   ]
  },
  {
   "cell_type": "markdown",
   "metadata": {},
   "source": [
    "#### difference between get() and dict[key]"
   ]
  },
  {
   "cell_type": "code",
   "execution_count": 18,
   "metadata": {},
   "outputs": [
    {
     "name": "stdout",
     "output_type": "stream",
     "text": [
      "====\n",
      "0\n",
      "====\n"
     ]
    },
    {
     "ename": "KeyError",
     "evalue": "'key'",
     "output_type": "error",
     "traceback": [
      "\u001b[0;31m---------------------------------------------------------------------------\u001b[0m",
      "\u001b[0;31mKeyError\u001b[0m                                  Traceback (most recent call last)",
      "\u001b[0;32m/var/folders/_0/t_q_3ydn61v2hbgddcm8pdz00000gn/T/ipykernel_42298/2239511773.py\u001b[0m in \u001b[0;36m<module>\u001b[0;34m\u001b[0m\n\u001b[1;32m      3\u001b[0m \u001b[0mprint\u001b[0m\u001b[0;34m(\u001b[0m\u001b[0ma\u001b[0m\u001b[0;34m.\u001b[0m\u001b[0mget\u001b[0m\u001b[0;34m(\u001b[0m\u001b[0;34m'key'\u001b[0m\u001b[0;34m,\u001b[0m \u001b[0;36m0\u001b[0m\u001b[0;34m)\u001b[0m\u001b[0;34m)\u001b[0m\u001b[0;34m\u001b[0m\u001b[0;34m\u001b[0m\u001b[0m\n\u001b[1;32m      4\u001b[0m \u001b[0mprint\u001b[0m\u001b[0;34m(\u001b[0m\u001b[0;34m\"====\"\u001b[0m\u001b[0;34m)\u001b[0m\u001b[0;34m\u001b[0m\u001b[0;34m\u001b[0m\u001b[0m\n\u001b[0;32m----> 5\u001b[0;31m \u001b[0mprint\u001b[0m\u001b[0;34m(\u001b[0m\u001b[0ma\u001b[0m\u001b[0;34m[\u001b[0m\u001b[0;34m'key'\u001b[0m\u001b[0;34m]\u001b[0m\u001b[0;34m)\u001b[0m\u001b[0;34m\u001b[0m\u001b[0;34m\u001b[0m\u001b[0m\n\u001b[0m",
      "\u001b[0;31mKeyError\u001b[0m: 'key'"
     ]
    }
   ],
   "source": [
    "a = {}\n",
    "print(\"====\")\n",
    "print(a.get('key', 0))\n",
    "print(\"====\")\n",
    "print(a['key'])"
   ]
  },
  {
   "cell_type": "markdown",
   "metadata": {},
   "source": [
    "### modify dict value "
   ]
  },
  {
   "cell_type": "code",
   "execution_count": 19,
   "metadata": {},
   "outputs": [
    {
     "name": "stdout",
     "output_type": "stream",
     "text": [
      "a 1 <class 'str'>\n",
      "b 2 <class 'str'>\n",
      "c 3 <class 'str'>\n",
      "d 4 <class 'str'>\n",
      "e 33 <class 'int'>\n",
      "=====\n",
      "a 5 <class 'int'>\n",
      "b 2 <class 'str'>\n",
      "c 3 <class 'str'>\n",
      "d 4 <class 'str'>\n",
      "e 33 <class 'int'>\n",
      "f 99 <class 'int'>\n"
     ]
    }
   ],
   "source": [
    "b = {'a':'1', 'b':'2', 'c':'3', 'd':'4','e':33}\n",
    "for key, value in b.items():\n",
    "    print(key,value, type(value))\n",
    "print(\"=====\")\n",
    "b['a'] = 5\n",
    "b['f'] = 99\n",
    "for key, value in b.items():\n",
    "    print(key,value, type(value))"
   ]
  },
  {
   "cell_type": "markdown",
   "metadata": {},
   "source": [
    "add dict using for-loop"
   ]
  },
  {
   "cell_type": "code",
   "execution_count": 27,
   "metadata": {},
   "outputs": [
    {
     "name": "stdout",
     "output_type": "stream",
     "text": [
      "{'train': 1, 'val': 2}\n",
      "=====\n",
      "{'train': [1, 2, 3], 'val': [1, 2, 3]}\n",
      "=====\n",
      "{'2': 3}\n"
     ]
    }
   ],
   "source": [
    "a = ['train', 'val']\n",
    "c = [1,2,3]\n",
    "b = {a[x]: c[x] for x in range(len(a))}\n",
    "print(b)\n",
    "print(\"=====\")\n",
    "a = ['train', 'val']\n",
    "c = [1,2,3]\n",
    "b = {x: c for x in a}\n",
    "print(b)\n",
    "print(\"=====\")\n",
    "a = ['1','2']\n",
    "for x in range(len(a)):\n",
    "    b = {a[x]: 3}\n",
    "print(b)"
   ]
  },
  {
   "cell_type": "markdown",
   "metadata": {},
   "source": [
    "### delete dict"
   ]
  },
  {
   "cell_type": "code",
   "execution_count": 20,
   "metadata": {},
   "outputs": [
    {
     "name": "stdout",
     "output_type": "stream",
     "text": [
      "b 2\n",
      "c 3\n",
      "d 4\n"
     ]
    }
   ],
   "source": [
    "b = {'a':'1', 'b':'2', 'c':'3', 'd':'4'}\n",
    "b.pop('a')\n",
    "for key, value in b.items():\n",
    "    print(key,value)\n"
   ]
  }
 ],
 "metadata": {
  "kernelspec": {
   "display_name": "Python 3.8.6 64-bit ('leetcode_env')",
   "language": "python",
   "name": "python3"
  },
  "language_info": {
   "codemirror_mode": {
    "name": "ipython",
    "version": 3
   },
   "file_extension": ".py",
   "mimetype": "text/x-python",
   "name": "python",
   "nbconvert_exporter": "python",
   "pygments_lexer": "ipython3",
   "version": "3.8.6"
  },
  "orig_nbformat": 4,
  "vscode": {
   "interpreter": {
    "hash": "846fd2d9bb562a436898b7cc368204fc2f9d44e5e9b051b4f6e855e721078f23"
   }
  }
 },
 "nbformat": 4,
 "nbformat_minor": 2
}
