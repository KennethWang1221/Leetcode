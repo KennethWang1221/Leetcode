{
 "cells": [
  {
   "attachments": {},
   "cell_type": "markdown",
   "metadata": {},
   "source": [
    "## Method1 - Graph - Topological \n",
    "https://turingplanet.org/2020/09/18/leetcode_planning_list/#Array<br>\n",
    "https://leetcode.com/problems/minimum-height-trees/solutions/2677980/python-linear-time-solution-using-topological-sorting/<br>\n",
    "https://www.youtube.com/watch?v=pUtxTz134qM"
   ]
  },
  {
   "attachments": {},
   "cell_type": "markdown",
   "metadata": {},
   "source": [
    "Need investigate ! "
   ]
  },
  {
   "cell_type": "code",
   "execution_count": 8,
   "metadata": {},
   "outputs": [
    {
     "name": "stdout",
     "output_type": "stream",
     "text": [
      "[3, 4]\n"
     ]
    }
   ],
   "source": [
    "from collections import defaultdict\n",
    "\n",
    "def findMinHeightTrees(n, edges):\n",
    "    if n == 1: return [0]\n",
    "    adj = defaultdict(list)\n",
    "    for edge in edges:\n",
    "        adj[edge[0]].append(edge[1])\n",
    "        adj[edge[1]].append(edge[0])\n",
    "    queue, degrees = [], {}\n",
    "    for node, neighbors in adj.items():\n",
    "        degrees[node] = len(neighbors)\n",
    "        # Insert all leaves into our priority queue.\n",
    "        if degrees[node] == 1:\n",
    "            queue.append(node)\n",
    "    ans = []\n",
    "    while queue:\n",
    "        nodes = []\n",
    "        while queue:\n",
    "            nodes.append(queue.pop())\n",
    "        ans = nodes\n",
    "        for node in nodes:\n",
    "            degrees[node] -= 1\n",
    "            for neighbor in adj[node]:\n",
    "                degrees[neighbor] -= 1\n",
    "                if degrees[neighbor] == 1:\n",
    "                    queue.append(neighbor)\n",
    "    return ans\n",
    "\n",
    "n = 6\n",
    "edges = [[3,0],[3,1],[3,2],[3,4],[5,4]]\n",
    "\n",
    "res = findMinHeightTrees(n, edges)\n",
    "print(res)"
   ]
  }
 ],
 "metadata": {
  "kernelspec": {
   "display_name": "leetcode_env",
   "language": "python",
   "name": "python3"
  },
  "language_info": {
   "codemirror_mode": {
    "name": "ipython",
    "version": 3
   },
   "file_extension": ".py",
   "mimetype": "text/x-python",
   "name": "python",
   "nbconvert_exporter": "python",
   "pygments_lexer": "ipython3",
   "version": "3.8.6"
  },
  "orig_nbformat": 4,
  "vscode": {
   "interpreter": {
    "hash": "846fd2d9bb562a436898b7cc368204fc2f9d44e5e9b051b4f6e855e721078f23"
   }
  }
 },
 "nbformat": 4,
 "nbformat_minor": 2
}
