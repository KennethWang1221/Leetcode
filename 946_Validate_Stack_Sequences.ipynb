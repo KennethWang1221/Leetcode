{
 "cells": [
  {
   "cell_type": "code",
   "execution_count": null,
   "metadata": {},
   "outputs": [],
   "source": [
    "# 讲 None 是撒 \n",
    "# http://c.biancheng.net/view/5659.html\n",
    "# https://blog.csdn.net/LHYzyp/article/details/70224141\n",
    "# https://blog.csdn.net/weixin_39718286/article/details/110376832?utm_medium=distribute.pc_relevant.none-task-blog-baidujs_baidulandingword-4&spm=1001.2101.3001.4242\n",
    "# https://blog.csdn.net/qq_33094993/article/details/53386078\n",
    "# ！！！ 讲得好： https://www.jianshu.com/p/627232777efd\n",
    "#None是python中的一个特殊的常量，表示一个空的对象，空值是python中的一个特殊值。数据为空并不代表是空对象，例如[],''等都不是None。None和任何对象比较返回值都是False，除了自己。\n",
    "\n",
    "class Solution(object):\n",
    "    \"\"\"\n",
    "    1. how to create the stack\n",
    "    2. how to push the item into stack\n",
    "    3. how to pop the item of stack\n",
    "    4. how to judge the empty of stack and list\n",
    "\n",
    "    \"\"\"\n",
    "    def validateStackSequences(self, pushed, popped):\n",
    "        \"\"\"\n",
    "        :type pushed: List[int]\n",
    "        :type popped: List[int]\n",
    "        :rtype: bool\n",
    "        \"\"\"\n",
    "        stack = [] # this statement can create a stack\n",
    "        pop_index = 0 \n",
    "        for num in pushed: # iterate each num in the pushed stack\n",
    "            stack.append(num) # put every num in pushed stack into the created stack\n",
    "            # while stack !=Noen  !! will report error :None: 在 Python 中，有一个特殊的常量 None（N 必须大写）。和 False 不同，它不表示 0，也不表示空字符串，而表示没有值，也就是空值。\n",
    "            while len(stack)>0 and stack[-1] == popped[pop_index]:  # len(stack)>0 means that the stack is not empty// and stack[-1] == popped[pop_index] means that the top of stack equals to the item of popped[pop_index]\n",
    "\n",
    "                stack.pop(-1) # pop the top item of stack\n",
    "                pop_index +=1 # let the pop_index go head \n",
    "        \n",
    "        if len(stack)>0: \n",
    "            print(\"right now stack still have item, so we can verify that the pushed seq is not equals to popped \")\n",
    "            print(\"stack:\",stack)\n",
    "            return False # 此时栈不为空，说明 所有需要压入的入栈数字(pushed)都已经压入到栈stack中, 但仍然没有找到下一个要弹出的数字 所以弹出序列不对\n",
    "        else:\n",
    "            print(\"right now stack do not have any item, so we can verify that the pushed seq equals to popped \")\n",
    "            print('stack:',stack)\n",
    "            return True # 此时栈为空，说明此弹出序列是对的\n",
    "        # if not stack: \n",
    "        #     print(\"right now stack do not have any item, so we can verify that the pushed seq equals to popped \")\n",
    "        #     print('stack:',stack)\n",
    "        #     return True\n",
    "        # else:\n",
    "        #     print(\"right now stack still have item, so we can verify that the pushed seq is not equals to popped \")\n",
    "        #     print(\"stack:\",stack)\n",
    "        #     return False\n",
    "\n",
    "\n",
    "\n",
    "if __name__ == '__main__':\n",
    "    s = Solution()\n",
    "    # print s.validateStackSequences([1, 2, 3, 4, 5], [4, 5, 3, 2, 1])\n",
    "    # print s.validateStackSequences([2, 1, 0], [1, 2, 0])\n",
    "    print(s.validateStackSequences([1,2,3,4,5], [4,5,3,2,1]))\n"
   ]
  },
  {
   "cell_type": "code",
   "execution_count": 6,
   "metadata": {},
   "outputs": [
    {
     "name": "stdout",
     "output_type": "stream",
     "text": [
      "right now stack still have item, so we can verify that the pushed seq is not equals to popped \n",
      "stack: [1, 2]\n",
      "False\n"
     ]
    }
   ],
   "source": [
    "def validateStackSequences(pushed, popped):\n",
    "    \"\"\"\n",
    "    :type pushed: List[int]\n",
    "    :type popped: List[int]\n",
    "    :rtype: bool\n",
    "    \"\"\"\n",
    "    stack = [] # this statement can create a stack\n",
    "    pop_index = 0 \n",
    "    for num in pushed: # iterate each num in the pushed stack\n",
    "        stack.append(num) # put every num in pushed stack into the created stack\n",
    "        # while stack !=Noen  !! will report error :None: 在 Python 中，有一个特殊的常量 None（N 必须大写）。和 False 不同，它不表示 0，也不表示空字符串，而表示没有值，也就是空值。\n",
    "        while len(stack)!=0 and stack[-1] == popped[pop_index]:  # len(stack)>0 means that the stack is not empty// and stack[-1] == popped[pop_index] means that the top of stack equals to the item of popped[pop_index]\n",
    "\n",
    "            stack.pop(-1) # pop the top item of stack\n",
    "            pop_index +=1 # let the pop_index go head \n",
    "    \n",
    "    if len(stack)>0: \n",
    "        print(\"right now stack still have item, so we can verify that the pushed seq is not equals to popped \")\n",
    "        print(\"stack:\",stack)\n",
    "        return False # 此时栈不为空，说明 所有需要压入的入栈数字(pushed)都已经压入到栈stack中, 但仍然没有找到下一个要弹出的数字 所以弹出序列不对\n",
    "    else:\n",
    "        print(\"right now stack do not have any item, so we can verify that the pushed seq equals to popped \")\n",
    "        print('stack:',stack)\n",
    "        return True # 此时栈为空，说明此弹出序列是对的\n",
    "        \n",
    "#result = validateStackSequences([1,2,3,4,5], [4,5,3,2,1])\n",
    "result = validateStackSequences([1,2,3,4,5], [4,3,5,1,2])\n",
    "print(result)\n"
   ]
  }
 ],
 "metadata": {
  "kernelspec": {
   "display_name": "Python 3.8.6 64-bit ('leetcode_env')",
   "language": "python",
   "name": "python3"
  },
  "language_info": {
   "codemirror_mode": {
    "name": "ipython",
    "version": 3
   },
   "file_extension": ".py",
   "mimetype": "text/x-python",
   "name": "python",
   "nbconvert_exporter": "python",
   "pygments_lexer": "ipython3",
   "version": "3.8.6"
  },
  "orig_nbformat": 4,
  "vscode": {
   "interpreter": {
    "hash": "846fd2d9bb562a436898b7cc368204fc2f9d44e5e9b051b4f6e855e721078f23"
   }
  }
 },
 "nbformat": 4,
 "nbformat_minor": 2
}
