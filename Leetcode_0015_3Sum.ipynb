{
 "cells": [
  {
   "cell_type": "code",
   "execution_count": 10,
   "metadata": {},
   "outputs": [
    {
     "name": "stdout",
     "output_type": "stream",
     "text": [
      "[[-1, -1, 2], [-1, 0, 1]]\n"
     ]
    }
   ],
   "source": [
    "def threeSum(nums):\n",
    "    res = []\n",
    "    n = len(nums)\n",
    "    nums = sorted(nums)\n",
    "    target = 0\n",
    "    for i, a in enumerate(nums):\n",
    "        if i>0 and a == nums[i-1]:\n",
    "            continue\n",
    "        start, end = i+1, len(nums)-1\n",
    "\n",
    "        while start < end:\n",
    "            add = a + nums[start] + nums[end]\n",
    "            if add > target:\n",
    "                end-=1\n",
    "            elif add < target:\n",
    "                start +=1\n",
    "            else:\n",
    "                res.append([a, nums[start], nums[end]])\n",
    "                start+=1\n",
    "                while nums[start] == nums[start-1] and start<end: # [0,0,0,0]\n",
    "                    start+=1\n",
    "    return res\n",
    "nums = [-1,0,1,2,-1,-4]\n",
    "#nums = [0,0,0,0]\n",
    "res = threeSum(nums)\n",
    "print(res)"
   ]
  },
  {
   "cell_type": "markdown",
   "metadata": {},
   "source": [
    "learning url: https://www.youtube.com/watch?v=jzZsG8n2R9A&t=13s"
   ]
  }
 ],
 "metadata": {
  "kernelspec": {
   "display_name": "Python 3.8.6 64-bit ('leetcode_env')",
   "language": "python",
   "name": "python3"
  },
  "language_info": {
   "codemirror_mode": {
    "name": "ipython",
    "version": 3
   },
   "file_extension": ".py",
   "mimetype": "text/x-python",
   "name": "python",
   "nbconvert_exporter": "python",
   "pygments_lexer": "ipython3",
   "version": "3.8.6"
  },
  "orig_nbformat": 4,
  "vscode": {
   "interpreter": {
    "hash": "846fd2d9bb562a436898b7cc368204fc2f9d44e5e9b051b4f6e855e721078f23"
   }
  }
 },
 "nbformat": 4,
 "nbformat_minor": 2
}
