{
 "cells": [
  {
   "cell_type": "markdown",
   "metadata": {},
   "source": [
    "## Method1"
   ]
  },
  {
   "cell_type": "code",
   "execution_count": 2,
   "metadata": {},
   "outputs": [
    {
     "name": "stdout",
     "output_type": "stream",
     "text": [
      "2,4,3,5,6,4,\n",
      "7,0,8,"
     ]
    }
   ],
   "source": [
    "class ListNode:\n",
    "    def __init__(self, x):\n",
    "        self.val = x\n",
    "        self.next = None\n",
    "\n",
    "\n",
    "def make_list(arr):\n",
    "    head_node = None\n",
    "    p_node = None\n",
    "    for a in arr:\n",
    "        new_node = ListNode(a)\n",
    "        if head_node is None:\n",
    "            head_node = new_node\n",
    "            p_node = new_node\n",
    "        else:\n",
    "            p_node.next = new_node\n",
    "            p_node = new_node\n",
    "    return head_node\n",
    "\n",
    "\n",
    "def print_list(head):\n",
    "    while head is not None:\n",
    "        print(head.val, end=',')\n",
    "        head = head.next\n",
    "\n",
    "# https://www.bilibili.com/video/BV1Fi4y187pj\n",
    "class Solution:\n",
    "    \"\"\"\n",
    "    1. Just use cur and cur.next to let code to go head\n",
    "    2. Not big different from Method1, just write here to understanding\n",
    "    \"\"\"\n",
    "    def add_two_numbers(self, l1,l2):\n",
    "        if l1 and l2 == None:\n",
    "            return l1\n",
    "        \n",
    "        l1_str = ''\n",
    "        l2_str = ''\n",
    "        \n",
    "        while l1!=None:\n",
    "            l1_str+=str(l1.val)\n",
    "            l1 = l1.next\n",
    "            \n",
    "        while l2!=None:\n",
    "            l2_str+=str(l2.val)\n",
    "            l2 = l2.next\n",
    "        # 243, 564\n",
    "\n",
    "        l1_str = l1_str[::-1]\n",
    "        l2_str = l2_str[::-1]\n",
    "        final = int(l1_str)+int(l2_str)\n",
    "        final = list(str(final))\n",
    "        final = final[::-1]\n",
    "        \n",
    "        dummy = ListNode(0)\n",
    "        pre = dummy\n",
    "        for i in final:\n",
    "            pre.next = ListNode(i)\n",
    "            pre = pre.next\n",
    "        \n",
    "        return dummy.next\n",
    "        \n",
    "\n",
    "s = Solution()\n",
    "\n",
    "l1 = [2,4,3] \n",
    "l2 = [5,6,4]\n",
    "l1 = make_list(l1)\n",
    "l2 = make_list(l2)\n",
    "print_list(l1)\n",
    "print_list(l2)\n",
    "head = s.add_two_numbers(l1,l2)\n",
    "print()\n",
    "print_list(head)"
   ]
  }
 ],
 "metadata": {
  "kernelspec": {
   "display_name": "Python 3.8.6 64-bit ('leetcode_env')",
   "language": "python",
   "name": "python3"
  },
  "language_info": {
   "codemirror_mode": {
    "name": "ipython",
    "version": 3
   },
   "file_extension": ".py",
   "mimetype": "text/x-python",
   "name": "python",
   "nbconvert_exporter": "python",
   "pygments_lexer": "ipython3",
   "version": "3.8.6"
  },
  "orig_nbformat": 4,
  "vscode": {
   "interpreter": {
    "hash": "846fd2d9bb562a436898b7cc368204fc2f9d44e5e9b051b4f6e855e721078f23"
   }
  }
 },
 "nbformat": 4,
 "nbformat_minor": 2
}
